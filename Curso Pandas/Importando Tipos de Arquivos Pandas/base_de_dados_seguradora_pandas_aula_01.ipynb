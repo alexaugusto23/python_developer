{
 "cells": [
  {
   "cell_type": "markdown",
   "metadata": {},
   "source": [
    "# Explorando Base de dados da Seguradora"
   ]
  },
  {
   "source": [
    "## Importando Bibliotecas ou Packages "
   ],
   "cell_type": "markdown",
   "metadata": {}
  },
  {
   "cell_type": "code",
   "execution_count": 1,
   "metadata": {},
   "outputs": [],
   "source": [
    "import pandas as pd\n",
    "import os"
   ]
  },
  {
   "cell_type": "markdown",
   "metadata": {},
   "source": [
    "### Atalhos\n",
    "\n",
    "•   Comando jupyter notebook inicializa o servidor.\n",
    "\n",
    "•   A cria uma célula acima.\n",
    "\n",
    "•   B cria uma célula abaixo.\n",
    "\n",
    "•\tD apaga uma célula.\n",
    "\n",
    "•\tM muda uma célula para markdown.\n",
    "\n",
    "•\tY muda uma célula para code.\n",
    "\n",
    "•\tD,D apaga uma célula.\n",
    "\n",
    "•\tC cópia uma célula.\n",
    "\n",
    "\n",
    "\n"
   ]
  },
  {
   "source": [
    "## Importando os dados csv"
   ],
   "cell_type": "markdown",
   "metadata": {}
  },
  {
   "source": [
    "### Definindo current_path"
   ],
   "cell_type": "markdown",
   "metadata": {}
  },
  {
   "cell_type": "code",
   "execution_count": 2,
   "metadata": {},
   "outputs": [
    {
     "output_type": "execute_result",
     "data": {
      "text/plain": [
       "              Tipo               Bairro  Quartos  Vagas  Suites  Area   Valor  \\\n",
       "0      Apartamento               Centro        1      0       0    15   800.0   \n",
       "1      Apartamento         Higienópolis        1      0       0    48   800.0   \n",
       "2      Apartamento             Cachambi        2      0       0    50  1300.0   \n",
       "3      Apartamento               Grajaú        2      1       0    70  1500.0   \n",
       "4      Apartamento  Lins de Vasconcelos        3      1       1    90  1500.0   \n",
       "...            ...                  ...      ...    ...     ...   ...     ...   \n",
       "19826    Quitinete               Glória        1      0       0    10   400.0   \n",
       "19827    Quitinete             Flamengo        1      0       0    23   900.0   \n",
       "19828    Quitinete               Centro        1      0       0    24  1100.0   \n",
       "19829    Quitinete           Copacabana        1      0       0    22  1500.0   \n",
       "19830    Quitinete               Centro        0      0       0    27   800.0   \n",
       "\n",
       "       Condominio   IPTU  Valor m2 Tipo Agregado  \n",
       "0           390.0   20.0     53.33   Apartamento  \n",
       "1           230.0    0.0     16.67   Apartamento  \n",
       "2           301.0   17.0     26.00   Apartamento  \n",
       "3           642.0   74.0     21.43   Apartamento  \n",
       "4           455.0   14.0     16.67   Apartamento  \n",
       "...           ...    ...       ...           ...  \n",
       "19826       107.0   10.0     40.00   Apartamento  \n",
       "19827       605.0    0.0     39.13   Apartamento  \n",
       "19828       323.0    0.0     45.83   Apartamento  \n",
       "19829       286.0  200.0     68.18   Apartamento  \n",
       "19830       350.0   25.0     29.63   Apartamento  \n",
       "\n",
       "[19831 rows x 11 columns]"
      ],
      "text/html": "<div>\n<style scoped>\n    .dataframe tbody tr th:only-of-type {\n        vertical-align: middle;\n    }\n\n    .dataframe tbody tr th {\n        vertical-align: top;\n    }\n\n    .dataframe thead th {\n        text-align: right;\n    }\n</style>\n<table border=\"1\" class=\"dataframe\">\n  <thead>\n    <tr style=\"text-align: right;\">\n      <th></th>\n      <th>Tipo</th>\n      <th>Bairro</th>\n      <th>Quartos</th>\n      <th>Vagas</th>\n      <th>Suites</th>\n      <th>Area</th>\n      <th>Valor</th>\n      <th>Condominio</th>\n      <th>IPTU</th>\n      <th>Valor m2</th>\n      <th>Tipo Agregado</th>\n    </tr>\n  </thead>\n  <tbody>\n    <tr>\n      <th>0</th>\n      <td>Apartamento</td>\n      <td>Centro</td>\n      <td>1</td>\n      <td>0</td>\n      <td>0</td>\n      <td>15</td>\n      <td>800.0</td>\n      <td>390.0</td>\n      <td>20.0</td>\n      <td>53.33</td>\n      <td>Apartamento</td>\n    </tr>\n    <tr>\n      <th>1</th>\n      <td>Apartamento</td>\n      <td>Higienópolis</td>\n      <td>1</td>\n      <td>0</td>\n      <td>0</td>\n      <td>48</td>\n      <td>800.0</td>\n      <td>230.0</td>\n      <td>0.0</td>\n      <td>16.67</td>\n      <td>Apartamento</td>\n    </tr>\n    <tr>\n      <th>2</th>\n      <td>Apartamento</td>\n      <td>Cachambi</td>\n      <td>2</td>\n      <td>0</td>\n      <td>0</td>\n      <td>50</td>\n      <td>1300.0</td>\n      <td>301.0</td>\n      <td>17.0</td>\n      <td>26.00</td>\n      <td>Apartamento</td>\n    </tr>\n    <tr>\n      <th>3</th>\n      <td>Apartamento</td>\n      <td>Grajaú</td>\n      <td>2</td>\n      <td>1</td>\n      <td>0</td>\n      <td>70</td>\n      <td>1500.0</td>\n      <td>642.0</td>\n      <td>74.0</td>\n      <td>21.43</td>\n      <td>Apartamento</td>\n    </tr>\n    <tr>\n      <th>4</th>\n      <td>Apartamento</td>\n      <td>Lins de Vasconcelos</td>\n      <td>3</td>\n      <td>1</td>\n      <td>1</td>\n      <td>90</td>\n      <td>1500.0</td>\n      <td>455.0</td>\n      <td>14.0</td>\n      <td>16.67</td>\n      <td>Apartamento</td>\n    </tr>\n    <tr>\n      <th>...</th>\n      <td>...</td>\n      <td>...</td>\n      <td>...</td>\n      <td>...</td>\n      <td>...</td>\n      <td>...</td>\n      <td>...</td>\n      <td>...</td>\n      <td>...</td>\n      <td>...</td>\n      <td>...</td>\n    </tr>\n    <tr>\n      <th>19826</th>\n      <td>Quitinete</td>\n      <td>Glória</td>\n      <td>1</td>\n      <td>0</td>\n      <td>0</td>\n      <td>10</td>\n      <td>400.0</td>\n      <td>107.0</td>\n      <td>10.0</td>\n      <td>40.00</td>\n      <td>Apartamento</td>\n    </tr>\n    <tr>\n      <th>19827</th>\n      <td>Quitinete</td>\n      <td>Flamengo</td>\n      <td>1</td>\n      <td>0</td>\n      <td>0</td>\n      <td>23</td>\n      <td>900.0</td>\n      <td>605.0</td>\n      <td>0.0</td>\n      <td>39.13</td>\n      <td>Apartamento</td>\n    </tr>\n    <tr>\n      <th>19828</th>\n      <td>Quitinete</td>\n      <td>Centro</td>\n      <td>1</td>\n      <td>0</td>\n      <td>0</td>\n      <td>24</td>\n      <td>1100.0</td>\n      <td>323.0</td>\n      <td>0.0</td>\n      <td>45.83</td>\n      <td>Apartamento</td>\n    </tr>\n    <tr>\n      <th>19829</th>\n      <td>Quitinete</td>\n      <td>Copacabana</td>\n      <td>1</td>\n      <td>0</td>\n      <td>0</td>\n      <td>22</td>\n      <td>1500.0</td>\n      <td>286.0</td>\n      <td>200.0</td>\n      <td>68.18</td>\n      <td>Apartamento</td>\n    </tr>\n    <tr>\n      <th>19830</th>\n      <td>Quitinete</td>\n      <td>Centro</td>\n      <td>0</td>\n      <td>0</td>\n      <td>0</td>\n      <td>27</td>\n      <td>800.0</td>\n      <td>350.0</td>\n      <td>25.0</td>\n      <td>29.63</td>\n      <td>Apartamento</td>\n    </tr>\n  </tbody>\n</table>\n<p>19831 rows × 11 columns</p>\n</div>"
     },
     "metadata": {},
     "execution_count": 2
    }
   ],
   "source": [
    "current_path = os.getcwd()\n",
    "#print(current_path)\n",
    "#dados/aluguel.csv\n",
    "dados_seguradora = pd.read_csv(os.path.join(current_path,'dados','aluguel.csv'),sep=';')\n",
    "dados_seguradora"
   ]
  },
  {
   "source": [
    "## Importando json"
   ],
   "cell_type": "markdown",
   "metadata": {}
  },
  {
   "cell_type": "code",
   "execution_count": 3,
   "metadata": {},
   "outputs": [
    {
     "output_type": "stream",
     "name": "stdout",
     "text": [
      "[{\"Tipo\":\"Quitinete\",\"Bairro\":\"Copacabana\",\"Quartos\":1,\"Vagas\":0,\"Suites\":0,\"Area\":40,\"Valor\":1700.0,\"Condominio\":500.0,\"IPTU\":60.0},\n{\"Tipo\":\"Casa\",\"Bairro\":\"Jardim Bot\\u00e2nico\",\"Quartos\":2,\"Vagas\":0,\"Suites\":1,\"Area\":100,\"Valor\":7000.0,\"Condominio\":null,\"IPTU\":null},\n{\"Tipo\":\"Conjunto Comercial\\/Sala\",\"Bairro\":\"Barra da Tijuca\",\"Quartos\":0,\"Vagas\":4,\"Suites\":0,\"Area\":150,\"Valor\":5200.0,\"Condominio\":4020.0,\"IPTU\":1111.0},\n{\"Tipo\":\"Apartamento\",\"Bairro\":\"Centro\",\"Quartos\":1,\"Vagas\":0,\"Suites\":0,\"Area\":15,\"Valor\":800.0,\"Condominio\":390.0,\"IPTU\":20.0},\n{\"Tipo\":\"Apartamento\",\"Bairro\":\"Higien\\u00f3polis\",\"Quartos\":1,\"Vagas\":0,\"Suites\":0,\"Area\":48,\"Valor\":800.0,\"Condominio\":230.0,\"IPTU\":null},\n{\"Tipo\":\"Apartamento\",\"Bairro\":\"Vista Alegre\",\"Quartos\":3,\"Vagas\":1,\"Suites\":0,\"Area\":70,\"Valor\":1200.0,\"Condominio\":null,\"IPTU\":null},\n{\"Tipo\":\"Apartamento\",\"Bairro\":\"Cachambi\",\"Quartos\":2,\"Vagas\":0,\"Suites\":0,\"Area\":50,\"Valor\":1300.0,\"Condominio\":301.0,\"IPTU\":17.0},\n{\"Tipo\":\"Casa de Condom\\u00ednio\",\"Bairro\":\"Barra da Tijuca\",\"Quartos\":5,\"Vagas\":4,\"Suites\":5,\"Area\":750,\"Valor\":22000.0,\"Condominio\":null,\"IPTU\":null},\n{\"Tipo\":\"Casa de Condom\\u00ednio\",\"Bairro\":\"Ramos\",\"Quartos\":2,\"Vagas\":2,\"Suites\":0,\"Area\":65,\"Valor\":1000.0,\"Condominio\":null,\"IPTU\":null},\n{\"Tipo\":\"Conjunto Comercial\\/Sala\",\"Bairro\":\"Centro\",\"Quartos\":0,\"Vagas\":3,\"Suites\":0,\"Area\":695,\"Valor\":35000.0,\"Condominio\":19193.0,\"IPTU\":3030.0}]\n"
     ]
    }
   ],
   "source": [
    "file_dados_path_json = os.getcwd() + '/dados' + '/aluguel.json'\n",
    "json = open(file_dados_path_json,'r',encoding='utf-8')\n",
    "print(json.read())"
   ]
  },
  {
   "cell_type": "code",
   "execution_count": 4,
   "metadata": {},
   "outputs": [
    {
     "output_type": "execute_result",
     "data": {
      "text/plain": [
       "                      Tipo           Bairro  Quartos  Vagas  Suites  Area  \\\n",
       "0                Quitinete       Copacabana        1      0       0    40   \n",
       "1                     Casa  Jardim Botânico        2      0       1   100   \n",
       "2  Conjunto Comercial/Sala  Barra da Tijuca        0      4       0   150   \n",
       "3              Apartamento           Centro        1      0       0    15   \n",
       "4              Apartamento     Higienópolis        1      0       0    48   \n",
       "5              Apartamento     Vista Alegre        3      1       0    70   \n",
       "6              Apartamento         Cachambi        2      0       0    50   \n",
       "7       Casa de Condomínio  Barra da Tijuca        5      4       5   750   \n",
       "8       Casa de Condomínio            Ramos        2      2       0    65   \n",
       "9  Conjunto Comercial/Sala           Centro        0      3       0   695   \n",
       "\n",
       "   Valor  Condominio    IPTU  \n",
       "0   1700       500.0    60.0  \n",
       "1   7000         NaN     NaN  \n",
       "2   5200      4020.0  1111.0  \n",
       "3    800       390.0    20.0  \n",
       "4    800       230.0     NaN  \n",
       "5   1200         NaN     NaN  \n",
       "6   1300       301.0    17.0  \n",
       "7  22000         NaN     NaN  \n",
       "8   1000         NaN     NaN  \n",
       "9  35000     19193.0  3030.0  "
      ],
      "text/html": "<div>\n<style scoped>\n    .dataframe tbody tr th:only-of-type {\n        vertical-align: middle;\n    }\n\n    .dataframe tbody tr th {\n        vertical-align: top;\n    }\n\n    .dataframe thead th {\n        text-align: right;\n    }\n</style>\n<table border=\"1\" class=\"dataframe\">\n  <thead>\n    <tr style=\"text-align: right;\">\n      <th></th>\n      <th>Tipo</th>\n      <th>Bairro</th>\n      <th>Quartos</th>\n      <th>Vagas</th>\n      <th>Suites</th>\n      <th>Area</th>\n      <th>Valor</th>\n      <th>Condominio</th>\n      <th>IPTU</th>\n    </tr>\n  </thead>\n  <tbody>\n    <tr>\n      <th>0</th>\n      <td>Quitinete</td>\n      <td>Copacabana</td>\n      <td>1</td>\n      <td>0</td>\n      <td>0</td>\n      <td>40</td>\n      <td>1700</td>\n      <td>500.0</td>\n      <td>60.0</td>\n    </tr>\n    <tr>\n      <th>1</th>\n      <td>Casa</td>\n      <td>Jardim Botânico</td>\n      <td>2</td>\n      <td>0</td>\n      <td>1</td>\n      <td>100</td>\n      <td>7000</td>\n      <td>NaN</td>\n      <td>NaN</td>\n    </tr>\n    <tr>\n      <th>2</th>\n      <td>Conjunto Comercial/Sala</td>\n      <td>Barra da Tijuca</td>\n      <td>0</td>\n      <td>4</td>\n      <td>0</td>\n      <td>150</td>\n      <td>5200</td>\n      <td>4020.0</td>\n      <td>1111.0</td>\n    </tr>\n    <tr>\n      <th>3</th>\n      <td>Apartamento</td>\n      <td>Centro</td>\n      <td>1</td>\n      <td>0</td>\n      <td>0</td>\n      <td>15</td>\n      <td>800</td>\n      <td>390.0</td>\n      <td>20.0</td>\n    </tr>\n    <tr>\n      <th>4</th>\n      <td>Apartamento</td>\n      <td>Higienópolis</td>\n      <td>1</td>\n      <td>0</td>\n      <td>0</td>\n      <td>48</td>\n      <td>800</td>\n      <td>230.0</td>\n      <td>NaN</td>\n    </tr>\n    <tr>\n      <th>5</th>\n      <td>Apartamento</td>\n      <td>Vista Alegre</td>\n      <td>3</td>\n      <td>1</td>\n      <td>0</td>\n      <td>70</td>\n      <td>1200</td>\n      <td>NaN</td>\n      <td>NaN</td>\n    </tr>\n    <tr>\n      <th>6</th>\n      <td>Apartamento</td>\n      <td>Cachambi</td>\n      <td>2</td>\n      <td>0</td>\n      <td>0</td>\n      <td>50</td>\n      <td>1300</td>\n      <td>301.0</td>\n      <td>17.0</td>\n    </tr>\n    <tr>\n      <th>7</th>\n      <td>Casa de Condomínio</td>\n      <td>Barra da Tijuca</td>\n      <td>5</td>\n      <td>4</td>\n      <td>5</td>\n      <td>750</td>\n      <td>22000</td>\n      <td>NaN</td>\n      <td>NaN</td>\n    </tr>\n    <tr>\n      <th>8</th>\n      <td>Casa de Condomínio</td>\n      <td>Ramos</td>\n      <td>2</td>\n      <td>2</td>\n      <td>0</td>\n      <td>65</td>\n      <td>1000</td>\n      <td>NaN</td>\n      <td>NaN</td>\n    </tr>\n    <tr>\n      <th>9</th>\n      <td>Conjunto Comercial/Sala</td>\n      <td>Centro</td>\n      <td>0</td>\n      <td>3</td>\n      <td>0</td>\n      <td>695</td>\n      <td>35000</td>\n      <td>19193.0</td>\n      <td>3030.0</td>\n    </tr>\n  </tbody>\n</table>\n</div>"
     },
     "metadata": {},
     "execution_count": 4
    }
   ],
   "source": [
    "df_json = pd.read_json(file_dados_path_json)\n",
    "df_json"
   ]
  },
  {
   "source": [
    "## Importando txt"
   ],
   "cell_type": "markdown",
   "metadata": {}
  },
  {
   "cell_type": "code",
   "execution_count": 5,
   "metadata": {},
   "outputs": [
    {
     "output_type": "stream",
     "name": "stdout",
     "text": [
      "Tipo\tBairro\tQuartos\tVagas\tSuites\tArea\tValor\tCondominio\tIPTU\nQuitinete\tCopacabana\t1\t0\t0\t40\t1700\t500\t60\nCasa\tJardim Botânico\t2\t0\t1\t100\t7000\t\t\nConjunto Comercial/Sala\tBarra da Tijuca\t0\t4\t0\t150\t5200\t4020\t1111\nApartamento\tCentro\t1\t0\t0\t15\t800\t390\t20\nApartamento\tHigienópolis\t1\t0\t0\t48\t800\t230\t\nApartamento\tVista Alegre\t3\t1\t0\t70\t1200\t\t\nApartamento\tCachambi\t2\t0\t0\t50\t1300\t301\t17\nCasa de Condomínio\tBarra da Tijuca\t5\t4\t5\t750\t22000\t\t\nCasa de Condomínio\tRamos\t2\t2\t0\t65\t1000\t\t\nConjunto Comercial/Sala\tCentro\t0\t3\t0\t695\t35000\t19193\t3030\n\n"
     ]
    }
   ],
   "source": [
    "file_dados_path_txt = os.getcwd() + '/dados' + '/aluguel.txt'\n",
    "txt = open(file_dados_path_txt,'r',encoding='utf-8')\n",
    "print(txt.read())"
   ]
  },
  {
   "cell_type": "code",
   "execution_count": 6,
   "metadata": {},
   "outputs": [
    {
     "output_type": "execute_result",
     "data": {
      "text/plain": [
       "                      Tipo           Bairro  Quartos  Vagas  Suites  Area  \\\n",
       "0                Quitinete       Copacabana        1      0       0    40   \n",
       "1                     Casa  Jardim Botânico        2      0       1   100   \n",
       "2  Conjunto Comercial/Sala  Barra da Tijuca        0      4       0   150   \n",
       "3              Apartamento           Centro        1      0       0    15   \n",
       "4              Apartamento     Higienópolis        1      0       0    48   \n",
       "5              Apartamento     Vista Alegre        3      1       0    70   \n",
       "6              Apartamento         Cachambi        2      0       0    50   \n",
       "7       Casa de Condomínio  Barra da Tijuca        5      4       5   750   \n",
       "8       Casa de Condomínio            Ramos        2      2       0    65   \n",
       "9  Conjunto Comercial/Sala           Centro        0      3       0   695   \n",
       "\n",
       "   Valor  Condominio    IPTU  \n",
       "0   1700       500.0    60.0  \n",
       "1   7000         NaN     NaN  \n",
       "2   5200      4020.0  1111.0  \n",
       "3    800       390.0    20.0  \n",
       "4    800       230.0     NaN  \n",
       "5   1200         NaN     NaN  \n",
       "6   1300       301.0    17.0  \n",
       "7  22000         NaN     NaN  \n",
       "8   1000         NaN     NaN  \n",
       "9  35000     19193.0  3030.0  "
      ],
      "text/html": "<div>\n<style scoped>\n    .dataframe tbody tr th:only-of-type {\n        vertical-align: middle;\n    }\n\n    .dataframe tbody tr th {\n        vertical-align: top;\n    }\n\n    .dataframe thead th {\n        text-align: right;\n    }\n</style>\n<table border=\"1\" class=\"dataframe\">\n  <thead>\n    <tr style=\"text-align: right;\">\n      <th></th>\n      <th>Tipo</th>\n      <th>Bairro</th>\n      <th>Quartos</th>\n      <th>Vagas</th>\n      <th>Suites</th>\n      <th>Area</th>\n      <th>Valor</th>\n      <th>Condominio</th>\n      <th>IPTU</th>\n    </tr>\n  </thead>\n  <tbody>\n    <tr>\n      <th>0</th>\n      <td>Quitinete</td>\n      <td>Copacabana</td>\n      <td>1</td>\n      <td>0</td>\n      <td>0</td>\n      <td>40</td>\n      <td>1700</td>\n      <td>500.0</td>\n      <td>60.0</td>\n    </tr>\n    <tr>\n      <th>1</th>\n      <td>Casa</td>\n      <td>Jardim Botânico</td>\n      <td>2</td>\n      <td>0</td>\n      <td>1</td>\n      <td>100</td>\n      <td>7000</td>\n      <td>NaN</td>\n      <td>NaN</td>\n    </tr>\n    <tr>\n      <th>2</th>\n      <td>Conjunto Comercial/Sala</td>\n      <td>Barra da Tijuca</td>\n      <td>0</td>\n      <td>4</td>\n      <td>0</td>\n      <td>150</td>\n      <td>5200</td>\n      <td>4020.0</td>\n      <td>1111.0</td>\n    </tr>\n    <tr>\n      <th>3</th>\n      <td>Apartamento</td>\n      <td>Centro</td>\n      <td>1</td>\n      <td>0</td>\n      <td>0</td>\n      <td>15</td>\n      <td>800</td>\n      <td>390.0</td>\n      <td>20.0</td>\n    </tr>\n    <tr>\n      <th>4</th>\n      <td>Apartamento</td>\n      <td>Higienópolis</td>\n      <td>1</td>\n      <td>0</td>\n      <td>0</td>\n      <td>48</td>\n      <td>800</td>\n      <td>230.0</td>\n      <td>NaN</td>\n    </tr>\n    <tr>\n      <th>5</th>\n      <td>Apartamento</td>\n      <td>Vista Alegre</td>\n      <td>3</td>\n      <td>1</td>\n      <td>0</td>\n      <td>70</td>\n      <td>1200</td>\n      <td>NaN</td>\n      <td>NaN</td>\n    </tr>\n    <tr>\n      <th>6</th>\n      <td>Apartamento</td>\n      <td>Cachambi</td>\n      <td>2</td>\n      <td>0</td>\n      <td>0</td>\n      <td>50</td>\n      <td>1300</td>\n      <td>301.0</td>\n      <td>17.0</td>\n    </tr>\n    <tr>\n      <th>7</th>\n      <td>Casa de Condomínio</td>\n      <td>Barra da Tijuca</td>\n      <td>5</td>\n      <td>4</td>\n      <td>5</td>\n      <td>750</td>\n      <td>22000</td>\n      <td>NaN</td>\n      <td>NaN</td>\n    </tr>\n    <tr>\n      <th>8</th>\n      <td>Casa de Condomínio</td>\n      <td>Ramos</td>\n      <td>2</td>\n      <td>2</td>\n      <td>0</td>\n      <td>65</td>\n      <td>1000</td>\n      <td>NaN</td>\n      <td>NaN</td>\n    </tr>\n    <tr>\n      <th>9</th>\n      <td>Conjunto Comercial/Sala</td>\n      <td>Centro</td>\n      <td>0</td>\n      <td>3</td>\n      <td>0</td>\n      <td>695</td>\n      <td>35000</td>\n      <td>19193.0</td>\n      <td>3030.0</td>\n    </tr>\n  </tbody>\n</table>\n</div>"
     },
     "metadata": {},
     "execution_count": 6
    }
   ],
   "source": [
    "df_txt = pd.read_table(file_dados_path_txt)\n",
    "df_txt"
   ]
  },
  {
   "source": [
    "### Importando Excel"
   ],
   "cell_type": "markdown",
   "metadata": {}
  },
  {
   "cell_type": "code",
   "execution_count": 7,
   "metadata": {},
   "outputs": [
    {
     "output_type": "execute_result",
     "data": {
      "text/plain": [
       "                      Tipo           Bairro  Quartos  Vagas  Suites  Area  \\\n",
       "0                Quitinete       Copacabana        1      0       0    40   \n",
       "1                     Casa  Jardim Botânico        2      0       1   100   \n",
       "2  Conjunto Comercial/Sala  Barra da Tijuca        0      4       0   150   \n",
       "3              Apartamento           Centro        1      0       0    15   \n",
       "4              Apartamento     Higienópolis        1      0       0    48   \n",
       "5              Apartamento     Vista Alegre        3      1       0    70   \n",
       "6              Apartamento         Cachambi        2      0       0    50   \n",
       "7       Casa de Condomínio  Barra da Tijuca        5      4       5   750   \n",
       "8       Casa de Condomínio            Ramos        2      2       0    65   \n",
       "9  Conjunto Comercial/Sala           Centro        0      3       0   695   \n",
       "\n",
       "   Valor  Condominio    IPTU  \n",
       "0   1700       500.0    60.0  \n",
       "1   7000         NaN     NaN  \n",
       "2   5200      4020.0  1111.0  \n",
       "3    800       390.0    20.0  \n",
       "4    800       230.0     NaN  \n",
       "5   1200         NaN     NaN  \n",
       "6   1300       301.0    17.0  \n",
       "7  22000         NaN     NaN  \n",
       "8   1000         NaN     NaN  \n",
       "9  35000     19193.0  3030.0  "
      ],
      "text/html": "<div>\n<style scoped>\n    .dataframe tbody tr th:only-of-type {\n        vertical-align: middle;\n    }\n\n    .dataframe tbody tr th {\n        vertical-align: top;\n    }\n\n    .dataframe thead th {\n        text-align: right;\n    }\n</style>\n<table border=\"1\" class=\"dataframe\">\n  <thead>\n    <tr style=\"text-align: right;\">\n      <th></th>\n      <th>Tipo</th>\n      <th>Bairro</th>\n      <th>Quartos</th>\n      <th>Vagas</th>\n      <th>Suites</th>\n      <th>Area</th>\n      <th>Valor</th>\n      <th>Condominio</th>\n      <th>IPTU</th>\n    </tr>\n  </thead>\n  <tbody>\n    <tr>\n      <th>0</th>\n      <td>Quitinete</td>\n      <td>Copacabana</td>\n      <td>1</td>\n      <td>0</td>\n      <td>0</td>\n      <td>40</td>\n      <td>1700</td>\n      <td>500.0</td>\n      <td>60.0</td>\n    </tr>\n    <tr>\n      <th>1</th>\n      <td>Casa</td>\n      <td>Jardim Botânico</td>\n      <td>2</td>\n      <td>0</td>\n      <td>1</td>\n      <td>100</td>\n      <td>7000</td>\n      <td>NaN</td>\n      <td>NaN</td>\n    </tr>\n    <tr>\n      <th>2</th>\n      <td>Conjunto Comercial/Sala</td>\n      <td>Barra da Tijuca</td>\n      <td>0</td>\n      <td>4</td>\n      <td>0</td>\n      <td>150</td>\n      <td>5200</td>\n      <td>4020.0</td>\n      <td>1111.0</td>\n    </tr>\n    <tr>\n      <th>3</th>\n      <td>Apartamento</td>\n      <td>Centro</td>\n      <td>1</td>\n      <td>0</td>\n      <td>0</td>\n      <td>15</td>\n      <td>800</td>\n      <td>390.0</td>\n      <td>20.0</td>\n    </tr>\n    <tr>\n      <th>4</th>\n      <td>Apartamento</td>\n      <td>Higienópolis</td>\n      <td>1</td>\n      <td>0</td>\n      <td>0</td>\n      <td>48</td>\n      <td>800</td>\n      <td>230.0</td>\n      <td>NaN</td>\n    </tr>\n    <tr>\n      <th>5</th>\n      <td>Apartamento</td>\n      <td>Vista Alegre</td>\n      <td>3</td>\n      <td>1</td>\n      <td>0</td>\n      <td>70</td>\n      <td>1200</td>\n      <td>NaN</td>\n      <td>NaN</td>\n    </tr>\n    <tr>\n      <th>6</th>\n      <td>Apartamento</td>\n      <td>Cachambi</td>\n      <td>2</td>\n      <td>0</td>\n      <td>0</td>\n      <td>50</td>\n      <td>1300</td>\n      <td>301.0</td>\n      <td>17.0</td>\n    </tr>\n    <tr>\n      <th>7</th>\n      <td>Casa de Condomínio</td>\n      <td>Barra da Tijuca</td>\n      <td>5</td>\n      <td>4</td>\n      <td>5</td>\n      <td>750</td>\n      <td>22000</td>\n      <td>NaN</td>\n      <td>NaN</td>\n    </tr>\n    <tr>\n      <th>8</th>\n      <td>Casa de Condomínio</td>\n      <td>Ramos</td>\n      <td>2</td>\n      <td>2</td>\n      <td>0</td>\n      <td>65</td>\n      <td>1000</td>\n      <td>NaN</td>\n      <td>NaN</td>\n    </tr>\n    <tr>\n      <th>9</th>\n      <td>Conjunto Comercial/Sala</td>\n      <td>Centro</td>\n      <td>0</td>\n      <td>3</td>\n      <td>0</td>\n      <td>695</td>\n      <td>35000</td>\n      <td>19193.0</td>\n      <td>3030.0</td>\n    </tr>\n  </tbody>\n</table>\n</div>"
     },
     "metadata": {},
     "execution_count": 7
    }
   ],
   "source": [
    "file_dados_path_xlsx = os.getcwd() + '/dados' + '/aluguel.xlsx'\n",
    "df_xlsx = pd.read_excel(file_dados_path_xlsx)\n",
    "df_xlsx"
   ]
  },
  {
   "source": [
    "### Importando HTML"
   ],
   "cell_type": "markdown",
   "metadata": {}
  },
  {
   "cell_type": "code",
   "execution_count": 8,
   "metadata": {},
   "outputs": [
    {
     "output_type": "execute_result",
     "data": {
      "text/plain": [
       "  FAIXA ETÁRIA UNAFISCO SAÚDE SOFT II SOFT PARTICIPATIVO      UNIQUE\n",
       "0      00 A 18               R$218,99           R$192,60    R$334,48\n",
       "1      19 A 23               R$263,63           R$207,67    R$380,06\n",
       "2      24 A 28               R$322,44           R$224,26    R$464,39\n",
       "3      29 A 33               R$402,05           R$258,63    R$566,68\n",
       "4      34 A 38               R$455,17           R$306,37    R$664,61\n",
       "5      39 A 43               R$489,29           R$417,93    R$742,72\n",
       "6      44 A 48               R$582,65           R$495,24    R$869,47\n",
       "7      49 A 53               R$718,86           R$562,64  R$1.046,29\n",
       "8      54 A 58               R$908,54           R$721,00  R$1.355,74\n",
       "9   59 OU MAIS             R$1.244,50         R$1.151,62  R$2.003,53"
      ],
      "text/html": "<div>\n<style scoped>\n    .dataframe tbody tr th:only-of-type {\n        vertical-align: middle;\n    }\n\n    .dataframe tbody tr th {\n        vertical-align: top;\n    }\n\n    .dataframe thead th {\n        text-align: right;\n    }\n</style>\n<table border=\"1\" class=\"dataframe\">\n  <thead>\n    <tr style=\"text-align: right;\">\n      <th></th>\n      <th>FAIXA ETÁRIA</th>\n      <th>UNAFISCO SAÚDE SOFT II</th>\n      <th>SOFT PARTICIPATIVO</th>\n      <th>UNIQUE</th>\n    </tr>\n  </thead>\n  <tbody>\n    <tr>\n      <th>0</th>\n      <td>00 A 18</td>\n      <td>R$218,99</td>\n      <td>R$192,60</td>\n      <td>R$334,48</td>\n    </tr>\n    <tr>\n      <th>1</th>\n      <td>19 A 23</td>\n      <td>R$263,63</td>\n      <td>R$207,67</td>\n      <td>R$380,06</td>\n    </tr>\n    <tr>\n      <th>2</th>\n      <td>24 A 28</td>\n      <td>R$322,44</td>\n      <td>R$224,26</td>\n      <td>R$464,39</td>\n    </tr>\n    <tr>\n      <th>3</th>\n      <td>29 A 33</td>\n      <td>R$402,05</td>\n      <td>R$258,63</td>\n      <td>R$566,68</td>\n    </tr>\n    <tr>\n      <th>4</th>\n      <td>34 A 38</td>\n      <td>R$455,17</td>\n      <td>R$306,37</td>\n      <td>R$664,61</td>\n    </tr>\n    <tr>\n      <th>5</th>\n      <td>39 A 43</td>\n      <td>R$489,29</td>\n      <td>R$417,93</td>\n      <td>R$742,72</td>\n    </tr>\n    <tr>\n      <th>6</th>\n      <td>44 A 48</td>\n      <td>R$582,65</td>\n      <td>R$495,24</td>\n      <td>R$869,47</td>\n    </tr>\n    <tr>\n      <th>7</th>\n      <td>49 A 53</td>\n      <td>R$718,86</td>\n      <td>R$562,64</td>\n      <td>R$1.046,29</td>\n    </tr>\n    <tr>\n      <th>8</th>\n      <td>54 A 58</td>\n      <td>R$908,54</td>\n      <td>R$721,00</td>\n      <td>R$1.355,74</td>\n    </tr>\n    <tr>\n      <th>9</th>\n      <td>59 OU MAIS</td>\n      <td>R$1.244,50</td>\n      <td>R$1.151,62</td>\n      <td>R$2.003,53</td>\n    </tr>\n  </tbody>\n</table>\n</div>"
     },
     "metadata": {},
     "execution_count": 8
    }
   ],
   "source": [
    "file_dados_path_html = os.getcwd() + '/dados' + '/dados_html_1.html'\n",
    "df_html = pd.read_html(file_dados_path_html)\n",
    "df_html[0]"
   ]
  },
  {
   "cell_type": "code",
   "execution_count": 9,
   "metadata": {},
   "outputs": [
    {
     "output_type": "execute_result",
     "data": {
      "text/plain": [
       "              NOME COMERCIAL PLANO >>  \\\n",
       "0                        Registro ANS   \n",
       "1               Situação do Plano ANS   \n",
       "2                 Tipo de Contratação   \n",
       "3            Segmentação Assistencial   \n",
       "4                         Odontologia   \n",
       "5                  Formação do preço:   \n",
       "6            Vínculo do Beneficiário:   \n",
       "7                Padrão de acomodação   \n",
       "8                      Coparticipação   \n",
       "9          Cobertura de procedimentos   \n",
       "10  Serviços e coberturas adicionais:   \n",
       "11                     Livre Escolha:   \n",
       "12               Rede de atendimento:   \n",
       "\n",
       "                                              SOFT II  \\\n",
       "0                                       Nº. 471839149   \n",
       "1                                               Ativo   \n",
       "2                                 Coletivo por adesão   \n",
       "3          \"Ambulatorial + Hospitalar com Obstetrícia   \n",
       "4                                              Não há   \n",
       "5                                     Preestabelecido   \n",
       "6                            Sem Vínculo Empregatício   \n",
       "7                 Apartamento (Acomodação Individual)   \n",
       "8                                              Não há   \n",
       "9                                 Limitada ao Rol ANS   \n",
       "10                                             Não há   \n",
       "11                                             Não há   \n",
       "12  básica conforme opções disponibilizadas por in...   \n",
       "\n",
       "                                   SOFT PARTICIPATIVO  \\\n",
       "0                                       Nº. 478132175   \n",
       "1                                               Ativo   \n",
       "2                                 Coletivo por adesão   \n",
       "3          \"Ambulatorial + Hospitalar com Obstetrícia   \n",
       "4                                              Não há   \n",
       "5                                     Preestabelecido   \n",
       "6                            Sem Vínculo Empregatício   \n",
       "7                 Apartamento (Acomodação Individual)   \n",
       "8   30% em consultas, exames, terapias e atendimen...   \n",
       "9                                 Limitada ao Rol ANS   \n",
       "10                                             Não há   \n",
       "11                                             Não há   \n",
       "12  básica conforme opções disponibilizadas por in...   \n",
       "\n",
       "                                               UNIQUE  \\\n",
       "0                                       Nº. 478131177   \n",
       "1                                               Ativo   \n",
       "2                                 Coletivo por adesão   \n",
       "3   \"Ambulatorial + Hospitalar com Obstetrícia + O...   \n",
       "4                                       Sim (Rol ANS)   \n",
       "5                                     Preestabelecido   \n",
       "6                            Sem Vínculo Empregatício   \n",
       "7                 Apartamento (Acomodação Individual)   \n",
       "8   30% em consultas, exames, terapias e atendimen...   \n",
       "9                                 Limitada ao Rol ANS   \n",
       "10                                             Não há   \n",
       "11  Reembolso conforme valores – Referencial de Ho...   \n",
       "12  básica + rede adicional conforme opções dispon...   \n",
       "\n",
       "                                           PREMIUM II  \\\n",
       "0                                       Nº. 468235121   \n",
       "1                                               Ativo   \n",
       "2                                 Coletivo por adesão   \n",
       "3   \"Ambulatorial + Hospitalar com Obstetrícia + O...   \n",
       "4                           Sim (Rol ANS) + extra ROL   \n",
       "5                                     Preestabelecido   \n",
       "6                            Sem Vínculo Empregatício   \n",
       "7                 Apartamento (Acomodação Individual)   \n",
       "8                                              Não há   \n",
       "9   Rol + cerca de 380 procedimentos extra cobertu...   \n",
       "10  - Assistência/internação domiciliar (Home Care...   \n",
       "11  Reembolso conforme valores – Referencial de Ho...   \n",
       "12  básica + rede adicional (direta e indireta) + ...   \n",
       "\n",
       "                              Unafisco Saúde Platinum  \n",
       "0                                       Nº. 487705205  \n",
       "1                                               Ativo  \n",
       "2                                 Coletivo por adesão  \n",
       "3   \"Ambulatorial + Hospitalar com Obstetrícia + O...  \n",
       "4                          Sim (Rol ANS) + Ortodontia  \n",
       "5                                     Preestabelecido  \n",
       "6                            Sem Vínculo Empregatício  \n",
       "7                 Apartamento (Acomodação Individual)  \n",
       "8                                              Não há  \n",
       "9                                 Limitada ao Rol ANS  \n",
       "10  - Acesso a rede odontológica de forma direta -...  \n",
       "11  Reembolso conforme valores – Referencial de Ho...  \n",
       "12  básica + rede adicional (indireta e direta exc...  "
      ],
      "text/html": "<div>\n<style scoped>\n    .dataframe tbody tr th:only-of-type {\n        vertical-align: middle;\n    }\n\n    .dataframe tbody tr th {\n        vertical-align: top;\n    }\n\n    .dataframe thead th {\n        text-align: right;\n    }\n</style>\n<table border=\"1\" class=\"dataframe\">\n  <thead>\n    <tr style=\"text-align: right;\">\n      <th></th>\n      <th>NOME COMERCIAL PLANO &gt;&gt;</th>\n      <th>SOFT II</th>\n      <th>SOFT PARTICIPATIVO</th>\n      <th>UNIQUE</th>\n      <th>PREMIUM II</th>\n      <th>Unafisco Saúde Platinum</th>\n    </tr>\n  </thead>\n  <tbody>\n    <tr>\n      <th>0</th>\n      <td>Registro ANS</td>\n      <td>Nº. 471839149</td>\n      <td>Nº. 478132175</td>\n      <td>Nº. 478131177</td>\n      <td>Nº. 468235121</td>\n      <td>Nº. 487705205</td>\n    </tr>\n    <tr>\n      <th>1</th>\n      <td>Situação do Plano ANS</td>\n      <td>Ativo</td>\n      <td>Ativo</td>\n      <td>Ativo</td>\n      <td>Ativo</td>\n      <td>Ativo</td>\n    </tr>\n    <tr>\n      <th>2</th>\n      <td>Tipo de Contratação</td>\n      <td>Coletivo por adesão</td>\n      <td>Coletivo por adesão</td>\n      <td>Coletivo por adesão</td>\n      <td>Coletivo por adesão</td>\n      <td>Coletivo por adesão</td>\n    </tr>\n    <tr>\n      <th>3</th>\n      <td>Segmentação Assistencial</td>\n      <td>\"Ambulatorial + Hospitalar com Obstetrícia</td>\n      <td>\"Ambulatorial + Hospitalar com Obstetrícia</td>\n      <td>\"Ambulatorial + Hospitalar com Obstetrícia + O...</td>\n      <td>\"Ambulatorial + Hospitalar com Obstetrícia + O...</td>\n      <td>\"Ambulatorial + Hospitalar com Obstetrícia + O...</td>\n    </tr>\n    <tr>\n      <th>4</th>\n      <td>Odontologia</td>\n      <td>Não há</td>\n      <td>Não há</td>\n      <td>Sim (Rol ANS)</td>\n      <td>Sim (Rol ANS) + extra ROL</td>\n      <td>Sim (Rol ANS) + Ortodontia</td>\n    </tr>\n    <tr>\n      <th>5</th>\n      <td>Formação do preço:</td>\n      <td>Preestabelecido</td>\n      <td>Preestabelecido</td>\n      <td>Preestabelecido</td>\n      <td>Preestabelecido</td>\n      <td>Preestabelecido</td>\n    </tr>\n    <tr>\n      <th>6</th>\n      <td>Vínculo do Beneficiário:</td>\n      <td>Sem Vínculo Empregatício</td>\n      <td>Sem Vínculo Empregatício</td>\n      <td>Sem Vínculo Empregatício</td>\n      <td>Sem Vínculo Empregatício</td>\n      <td>Sem Vínculo Empregatício</td>\n    </tr>\n    <tr>\n      <th>7</th>\n      <td>Padrão de acomodação</td>\n      <td>Apartamento (Acomodação Individual)</td>\n      <td>Apartamento (Acomodação Individual)</td>\n      <td>Apartamento (Acomodação Individual)</td>\n      <td>Apartamento (Acomodação Individual)</td>\n      <td>Apartamento (Acomodação Individual)</td>\n    </tr>\n    <tr>\n      <th>8</th>\n      <td>Coparticipação</td>\n      <td>Não há</td>\n      <td>30% em consultas, exames, terapias e atendimen...</td>\n      <td>30% em consultas, exames, terapias e atendimen...</td>\n      <td>Não há</td>\n      <td>Não há</td>\n    </tr>\n    <tr>\n      <th>9</th>\n      <td>Cobertura de procedimentos</td>\n      <td>Limitada ao Rol ANS</td>\n      <td>Limitada ao Rol ANS</td>\n      <td>Limitada ao Rol ANS</td>\n      <td>Rol + cerca de 380 procedimentos extra cobertu...</td>\n      <td>Limitada ao Rol ANS</td>\n    </tr>\n    <tr>\n      <th>10</th>\n      <td>Serviços e coberturas adicionais:</td>\n      <td>Não há</td>\n      <td>Não há</td>\n      <td>Não há</td>\n      <td>- Assistência/internação domiciliar (Home Care...</td>\n      <td>- Acesso a rede odontológica de forma direta -...</td>\n    </tr>\n    <tr>\n      <th>11</th>\n      <td>Livre Escolha:</td>\n      <td>Não há</td>\n      <td>Não há</td>\n      <td>Reembolso conforme valores – Referencial de Ho...</td>\n      <td>Reembolso conforme valores – Referencial de Ho...</td>\n      <td>Reembolso conforme valores – Referencial de Ho...</td>\n    </tr>\n    <tr>\n      <th>12</th>\n      <td>Rede de atendimento:</td>\n      <td>básica conforme opções disponibilizadas por in...</td>\n      <td>básica conforme opções disponibilizadas por in...</td>\n      <td>básica + rede adicional conforme opções dispon...</td>\n      <td>básica + rede adicional (direta e indireta) + ...</td>\n      <td>básica + rede adicional (indireta e direta exc...</td>\n    </tr>\n  </tbody>\n</table>\n</div>"
     },
     "metadata": {},
     "execution_count": 9
    }
   ],
   "source": [
    "file_dados_path_html_link = 'https://unafiscosaude.org.br/site/comparativo-de-planos/'\n",
    "df_html_link = pd.read_html(file_dados_path_html_link)\n",
    "df_html_link[0]"
   ]
  },
  {
   "cell_type": "code",
   "execution_count": 10,
   "metadata": {},
   "outputs": [
    {
     "output_type": "execute_result",
     "data": {
      "text/plain": [
       "  FAIXA ETÁRIA      SOFT II       UNIQUE SOFT PARTICIPATIVO   PREMIUM II  \\\n",
       "0      00 a 18    R$ 251,41    R$ 361,42          R$ 208,11    R$ 549,96   \n",
       "1      19 a 23    R$ 302,68    R$ 410,67          R$ 224,39    R$ 624,93   \n",
       "2      24 a 28    R$ 370,20    R$ 501,79          R$ 242,32    R$ 763,58   \n",
       "3      29 a 33    R$ 461,60    R$ 612,32          R$ 279,46    R$ 931,75   \n",
       "4      34 a 38    R$ 522,59    R$ 718,14          R$ 331,05  R$ 1.024,93   \n",
       "5      39 a 43    R$ 561,75    R$ 802,54          R$ 451,59  R$ 1.145,38   \n",
       "6      44 a 48    R$ 668,94    R$ 939,50          R$ 535,13  R$ 1.340,82   \n",
       "7      49 a 53    R$ 825,34  R$ 1.130,56          R$ 607,96  R$ 1.613,50   \n",
       "8      54 a 58  R$ 1.043,10  R$ 1.464,94          R$ 779,07  R$ 2.090,74   \n",
       "9   59 ou mais  R$ 1.428,83  R$ 2.164,90        R$ 1.244,38  R$ 3.261,12   \n",
       "\n",
       "      PLATINUM  \n",
       "0    R$ 435,62  \n",
       "1    R$ 494,98  \n",
       "2    R$ 604,81  \n",
       "3    R$ 738,03  \n",
       "4    R$ 865,57  \n",
       "5    R$ 967,29  \n",
       "6  R$ 1.132,37  \n",
       "7  R$ 1.362,65  \n",
       "8  R$ 1.765,67  \n",
       "9  R$ 2.609,33  "
      ],
      "text/html": "<div>\n<style scoped>\n    .dataframe tbody tr th:only-of-type {\n        vertical-align: middle;\n    }\n\n    .dataframe tbody tr th {\n        vertical-align: top;\n    }\n\n    .dataframe thead th {\n        text-align: right;\n    }\n</style>\n<table border=\"1\" class=\"dataframe\">\n  <thead>\n    <tr style=\"text-align: right;\">\n      <th></th>\n      <th>FAIXA ETÁRIA</th>\n      <th>SOFT II</th>\n      <th>UNIQUE</th>\n      <th>SOFT PARTICIPATIVO</th>\n      <th>PREMIUM II</th>\n      <th>PLATINUM</th>\n    </tr>\n  </thead>\n  <tbody>\n    <tr>\n      <th>0</th>\n      <td>00 a 18</td>\n      <td>R$ 251,41</td>\n      <td>R$ 361,42</td>\n      <td>R$ 208,11</td>\n      <td>R$ 549,96</td>\n      <td>R$ 435,62</td>\n    </tr>\n    <tr>\n      <th>1</th>\n      <td>19 a 23</td>\n      <td>R$ 302,68</td>\n      <td>R$ 410,67</td>\n      <td>R$ 224,39</td>\n      <td>R$ 624,93</td>\n      <td>R$ 494,98</td>\n    </tr>\n    <tr>\n      <th>2</th>\n      <td>24 a 28</td>\n      <td>R$ 370,20</td>\n      <td>R$ 501,79</td>\n      <td>R$ 242,32</td>\n      <td>R$ 763,58</td>\n      <td>R$ 604,81</td>\n    </tr>\n    <tr>\n      <th>3</th>\n      <td>29 a 33</td>\n      <td>R$ 461,60</td>\n      <td>R$ 612,32</td>\n      <td>R$ 279,46</td>\n      <td>R$ 931,75</td>\n      <td>R$ 738,03</td>\n    </tr>\n    <tr>\n      <th>4</th>\n      <td>34 a 38</td>\n      <td>R$ 522,59</td>\n      <td>R$ 718,14</td>\n      <td>R$ 331,05</td>\n      <td>R$ 1.024,93</td>\n      <td>R$ 865,57</td>\n    </tr>\n    <tr>\n      <th>5</th>\n      <td>39 a 43</td>\n      <td>R$ 561,75</td>\n      <td>R$ 802,54</td>\n      <td>R$ 451,59</td>\n      <td>R$ 1.145,38</td>\n      <td>R$ 967,29</td>\n    </tr>\n    <tr>\n      <th>6</th>\n      <td>44 a 48</td>\n      <td>R$ 668,94</td>\n      <td>R$ 939,50</td>\n      <td>R$ 535,13</td>\n      <td>R$ 1.340,82</td>\n      <td>R$ 1.132,37</td>\n    </tr>\n    <tr>\n      <th>7</th>\n      <td>49 a 53</td>\n      <td>R$ 825,34</td>\n      <td>R$ 1.130,56</td>\n      <td>R$ 607,96</td>\n      <td>R$ 1.613,50</td>\n      <td>R$ 1.362,65</td>\n    </tr>\n    <tr>\n      <th>8</th>\n      <td>54 a 58</td>\n      <td>R$ 1.043,10</td>\n      <td>R$ 1.464,94</td>\n      <td>R$ 779,07</td>\n      <td>R$ 2.090,74</td>\n      <td>R$ 1.765,67</td>\n    </tr>\n    <tr>\n      <th>9</th>\n      <td>59 ou mais</td>\n      <td>R$ 1.428,83</td>\n      <td>R$ 2.164,90</td>\n      <td>R$ 1.244,38</td>\n      <td>R$ 3.261,12</td>\n      <td>R$ 2.609,33</td>\n    </tr>\n  </tbody>\n</table>\n</div>"
     },
     "metadata": {},
     "execution_count": 10
    }
   ],
   "source": [
    "df_html_link[1]"
   ]
  },
  {
   "cell_type": "code",
   "execution_count": 11,
   "metadata": {},
   "outputs": [
    {
     "output_type": "execute_result",
     "data": {
      "text/plain": [
       "3"
      ]
     },
     "metadata": {},
     "execution_count": 11
    }
   ],
   "source": [
    "file_dados_path_html_link_fr = 'https://www.federalreserve.gov/releases/h3/current/default.htm'\n",
    "df_html_fr = pd.read_html(file_dados_path_html_link_fr)\n",
    "len(df_html_fr)"
   ]
  },
  {
   "cell_type": "code",
   "execution_count": 12,
   "metadata": {},
   "outputs": [
    {
     "output_type": "execute_result",
     "data": {
      "text/plain": [
       "                  Date      Reserve balances required  \\\n",
       "                  Date Reserve balance requirements 1   \n",
       "0              Month 7                        Month 7   \n",
       "1            Aug. 2019                         134639   \n",
       "2           Sept. 2019                         134707   \n",
       "3            Oct. 2019                         134998   \n",
       "4            Nov. 2019                         140705   \n",
       "5            Dec. 2019                         138984   \n",
       "6            Jan. 2020                         144816   \n",
       "7            Feb. 2020                         138370   \n",
       "8            Mar. 2020                         113139   \n",
       "9            Apr. 2020                              0   \n",
       "10            May 2020                              0   \n",
       "11           June 2020                              0   \n",
       "12           July 2020                              0   \n",
       "13           Aug. 2020                              0   \n",
       "14                 NaN                            NaN   \n",
       "15  Two weeks ending 8             Two weeks ending 8   \n",
       "16       July 15, 2020                              0   \n",
       "17       July 29, 2020                              0   \n",
       "18       Aug. 12, 2020                              0   \n",
       "19       Aug. 26, 2020                              0   \n",
       "20       Sept. 9, 2020                              0   \n",
       "\n",
       "                                                               \\\n",
       "   Top of penalty- free band 2 Bottom of penalty- free band 3   \n",
       "0                      Month 7                        Month 7   \n",
       "1                       148114                         121167   \n",
       "2                       148188                         121227   \n",
       "3                       148509                         121489   \n",
       "4                       154787                         126625   \n",
       "5                       152893                         125076   \n",
       "6                       159309                         130326   \n",
       "7                       152218                         124524   \n",
       "8                       124461                         101817   \n",
       "9                            0                              0   \n",
       "10                           0                              0   \n",
       "11                           0                              0   \n",
       "12                           0                              0   \n",
       "13                           0                              0   \n",
       "14                         NaN                            NaN   \n",
       "15          Two weeks ending 8             Two weeks ending 8   \n",
       "16                           0                              0   \n",
       "17                           0                              0   \n",
       "18                           0                              0   \n",
       "19                           0                              0   \n",
       "20                           0                              0   \n",
       "\n",
       "   Reserve balances maintained 4  \\\n",
       "                           Total   \n",
       "0                        Month 7   \n",
       "1                        1520876   \n",
       "2                        1439771   \n",
       "3                        1481513   \n",
       "4                        1529341   \n",
       "5                        1630090   \n",
       "6                        1645384   \n",
       "7                        1656989   \n",
       "8                        2045148   \n",
       "9                        2953586   \n",
       "10                       3217635   \n",
       "11                       3043556   \n",
       "12                       2718529   \n",
       "13                       2799719   \n",
       "14                           NaN   \n",
       "15            Two weeks ending 8   \n",
       "16                       2795785   \n",
       "17                       2623526   \n",
       "18                       2751124   \n",
       "19                       2821740   \n",
       "20                       2854690   \n",
       "\n",
       "                                                                  \\\n",
       "   Balances maintained to satisfy reserve balance requirements 5   \n",
       "0                                             Month 7              \n",
       "1                                              147555              \n",
       "2                                              147498              \n",
       "3                                              148050              \n",
       "4                                              154256              \n",
       "5                                              152562              \n",
       "6                                              158765              \n",
       "7                                              151612              \n",
       "8                                              124147              \n",
       "9                                                   0              \n",
       "10                                                  0              \n",
       "11                                                  0              \n",
       "12                                                  0              \n",
       "13                                                  0              \n",
       "14                                                NaN              \n",
       "15                                 Two weeks ending 8              \n",
       "16                                                  0              \n",
       "17                                                  0              \n",
       "18                                                  0              \n",
       "19                                                  0              \n",
       "20                                                  0              \n",
       "\n",
       "                                                                        \n",
       "   Balances maintained that exceed the top of the penalty- free band 6  \n",
       "0                                             Month 7                   \n",
       "1                                             1373321                   \n",
       "2                                             1292273                   \n",
       "3                                             1333462                   \n",
       "4                                             1375085                   \n",
       "5                                             1477528                   \n",
       "6                                             1486619                   \n",
       "7                                             1505377                   \n",
       "8                                             1921000                   \n",
       "9                                             2953586                   \n",
       "10                                            3217635                   \n",
       "11                                            3043556                   \n",
       "12                                            2718529                   \n",
       "13                                            2799719                   \n",
       "14                                                NaN                   \n",
       "15                                 Two weeks ending 8                   \n",
       "16                                            2795785                   \n",
       "17                                            2623526                   \n",
       "18                                            2751124                   \n",
       "19                                            2821740                   \n",
       "20                                            2854690                   "
      ],
      "text/html": "<div>\n<style scoped>\n    .dataframe tbody tr th:only-of-type {\n        vertical-align: middle;\n    }\n\n    .dataframe tbody tr th {\n        vertical-align: top;\n    }\n\n    .dataframe thead tr th {\n        text-align: left;\n    }\n</style>\n<table border=\"1\" class=\"dataframe\">\n  <thead>\n    <tr>\n      <th></th>\n      <th>Date</th>\n      <th colspan=\"3\" halign=\"left\">Reserve balances required</th>\n      <th colspan=\"3\" halign=\"left\">Reserve balances maintained 4</th>\n    </tr>\n    <tr>\n      <th></th>\n      <th>Date</th>\n      <th>Reserve balance requirements 1</th>\n      <th>Top of penalty- free band 2</th>\n      <th>Bottom of penalty- free band 3</th>\n      <th>Total</th>\n      <th>Balances maintained to satisfy reserve balance requirements 5</th>\n      <th>Balances maintained that exceed the top of the penalty- free band 6</th>\n    </tr>\n  </thead>\n  <tbody>\n    <tr>\n      <th>0</th>\n      <td>Month 7</td>\n      <td>Month 7</td>\n      <td>Month 7</td>\n      <td>Month 7</td>\n      <td>Month 7</td>\n      <td>Month 7</td>\n      <td>Month 7</td>\n    </tr>\n    <tr>\n      <th>1</th>\n      <td>Aug. 2019</td>\n      <td>134639</td>\n      <td>148114</td>\n      <td>121167</td>\n      <td>1520876</td>\n      <td>147555</td>\n      <td>1373321</td>\n    </tr>\n    <tr>\n      <th>2</th>\n      <td>Sept. 2019</td>\n      <td>134707</td>\n      <td>148188</td>\n      <td>121227</td>\n      <td>1439771</td>\n      <td>147498</td>\n      <td>1292273</td>\n    </tr>\n    <tr>\n      <th>3</th>\n      <td>Oct. 2019</td>\n      <td>134998</td>\n      <td>148509</td>\n      <td>121489</td>\n      <td>1481513</td>\n      <td>148050</td>\n      <td>1333462</td>\n    </tr>\n    <tr>\n      <th>4</th>\n      <td>Nov. 2019</td>\n      <td>140705</td>\n      <td>154787</td>\n      <td>126625</td>\n      <td>1529341</td>\n      <td>154256</td>\n      <td>1375085</td>\n    </tr>\n    <tr>\n      <th>5</th>\n      <td>Dec. 2019</td>\n      <td>138984</td>\n      <td>152893</td>\n      <td>125076</td>\n      <td>1630090</td>\n      <td>152562</td>\n      <td>1477528</td>\n    </tr>\n    <tr>\n      <th>6</th>\n      <td>Jan. 2020</td>\n      <td>144816</td>\n      <td>159309</td>\n      <td>130326</td>\n      <td>1645384</td>\n      <td>158765</td>\n      <td>1486619</td>\n    </tr>\n    <tr>\n      <th>7</th>\n      <td>Feb. 2020</td>\n      <td>138370</td>\n      <td>152218</td>\n      <td>124524</td>\n      <td>1656989</td>\n      <td>151612</td>\n      <td>1505377</td>\n    </tr>\n    <tr>\n      <th>8</th>\n      <td>Mar. 2020</td>\n      <td>113139</td>\n      <td>124461</td>\n      <td>101817</td>\n      <td>2045148</td>\n      <td>124147</td>\n      <td>1921000</td>\n    </tr>\n    <tr>\n      <th>9</th>\n      <td>Apr. 2020</td>\n      <td>0</td>\n      <td>0</td>\n      <td>0</td>\n      <td>2953586</td>\n      <td>0</td>\n      <td>2953586</td>\n    </tr>\n    <tr>\n      <th>10</th>\n      <td>May 2020</td>\n      <td>0</td>\n      <td>0</td>\n      <td>0</td>\n      <td>3217635</td>\n      <td>0</td>\n      <td>3217635</td>\n    </tr>\n    <tr>\n      <th>11</th>\n      <td>June 2020</td>\n      <td>0</td>\n      <td>0</td>\n      <td>0</td>\n      <td>3043556</td>\n      <td>0</td>\n      <td>3043556</td>\n    </tr>\n    <tr>\n      <th>12</th>\n      <td>July 2020</td>\n      <td>0</td>\n      <td>0</td>\n      <td>0</td>\n      <td>2718529</td>\n      <td>0</td>\n      <td>2718529</td>\n    </tr>\n    <tr>\n      <th>13</th>\n      <td>Aug. 2020</td>\n      <td>0</td>\n      <td>0</td>\n      <td>0</td>\n      <td>2799719</td>\n      <td>0</td>\n      <td>2799719</td>\n    </tr>\n    <tr>\n      <th>14</th>\n      <td>NaN</td>\n      <td>NaN</td>\n      <td>NaN</td>\n      <td>NaN</td>\n      <td>NaN</td>\n      <td>NaN</td>\n      <td>NaN</td>\n    </tr>\n    <tr>\n      <th>15</th>\n      <td>Two weeks ending 8</td>\n      <td>Two weeks ending 8</td>\n      <td>Two weeks ending 8</td>\n      <td>Two weeks ending 8</td>\n      <td>Two weeks ending 8</td>\n      <td>Two weeks ending 8</td>\n      <td>Two weeks ending 8</td>\n    </tr>\n    <tr>\n      <th>16</th>\n      <td>July 15, 2020</td>\n      <td>0</td>\n      <td>0</td>\n      <td>0</td>\n      <td>2795785</td>\n      <td>0</td>\n      <td>2795785</td>\n    </tr>\n    <tr>\n      <th>17</th>\n      <td>July 29, 2020</td>\n      <td>0</td>\n      <td>0</td>\n      <td>0</td>\n      <td>2623526</td>\n      <td>0</td>\n      <td>2623526</td>\n    </tr>\n    <tr>\n      <th>18</th>\n      <td>Aug. 12, 2020</td>\n      <td>0</td>\n      <td>0</td>\n      <td>0</td>\n      <td>2751124</td>\n      <td>0</td>\n      <td>2751124</td>\n    </tr>\n    <tr>\n      <th>19</th>\n      <td>Aug. 26, 2020</td>\n      <td>0</td>\n      <td>0</td>\n      <td>0</td>\n      <td>2821740</td>\n      <td>0</td>\n      <td>2821740</td>\n    </tr>\n    <tr>\n      <th>20</th>\n      <td>Sept. 9, 2020</td>\n      <td>0</td>\n      <td>0</td>\n      <td>0</td>\n      <td>2854690</td>\n      <td>0</td>\n      <td>2854690</td>\n    </tr>\n  </tbody>\n</table>\n</div>"
     },
     "metadata": {},
     "execution_count": 12
    }
   ],
   "source": [
    "df_html_fr[0]"
   ]
  },
  {
   "cell_type": "code",
   "execution_count": 13,
   "metadata": {},
   "outputs": [
    {
     "output_type": "execute_result",
     "data": {
      "text/plain": [
       "                  Date            Reserves                      \\\n",
       "                  Date             Total 1            Required   \n",
       "0              Month 7             Month 7             Month 7   \n",
       "1            Aug. 2019             1586844              200608   \n",
       "2           Sept. 2019             1504805              199741   \n",
       "3            Oct. 2019             1547136              200621   \n",
       "4            Nov. 2019             1595222              206586   \n",
       "5            Dec. 2019             1698344              207239   \n",
       "6            Jan. 2020             1715219              214652   \n",
       "7            Feb. 2020             1726943              208324   \n",
       "8            Mar. 2020             2099369              167360   \n",
       "9            Apr. 2020             2953586                   0   \n",
       "10            May 2020             3217635                   0   \n",
       "11           June 2020             3043556                   0   \n",
       "12           July 2020             2718529                   0   \n",
       "13           Aug. 2020             2799719                   0   \n",
       "14                 NaN                 NaN                 NaN   \n",
       "15  Two weeks ending 8  Two weeks ending 8  Two weeks ending 8   \n",
       "16       July 15, 2020             2795785                   0   \n",
       "17       July 29, 2020             2623526                   0   \n",
       "18       Aug. 12, 2020             2751124                   0   \n",
       "19       Aug. 26, 2020             2821740                   0   \n",
       "20       Sept. 9, 2020             2854690                   0   \n",
       "\n",
       "          Vault cash 2                                      \\\n",
       "                 Total Used to satisfy required reserves 3   \n",
       "0              Month 7                             Month 7   \n",
       "1                78451                               65969   \n",
       "2                76550                               65035   \n",
       "3                76660                               65623   \n",
       "4                76921                               65881   \n",
       "5                80168                               68255   \n",
       "6                81216                               69835   \n",
       "7                80735                               69954   \n",
       "8                77114                               54222   \n",
       "9                88104                                   0   \n",
       "10              101345                                   0   \n",
       "11              104201                                   0   \n",
       "12               98392                                   0   \n",
       "13               95327                                   0   \n",
       "14                 NaN                                 NaN   \n",
       "15  Two weeks ending 8                  Two weeks ending 8   \n",
       "16               99459                                   0   \n",
       "17               97225                                   0   \n",
       "18               95638                                   0   \n",
       "19               95066                                   0   \n",
       "20               95313                                   0   \n",
       "\n",
       "                             Monetary base                              \\\n",
       "             Surplus 4             Total 5 Total balances maintained 6   \n",
       "0              Month 7             Month 7                     Month 7   \n",
       "1                12483             3271378                     1520876   \n",
       "2                11516             3202668                     1439771   \n",
       "3                11037             3252807                     1481513   \n",
       "4                11040             3315551                     1529341   \n",
       "5                11914             3426464                     1630090   \n",
       "6                11381             3442569                     1645384   \n",
       "7                10781             3454474                     1656989   \n",
       "8                22892             3883155                     2045148   \n",
       "9                88104             4844940                     2953586   \n",
       "10              101345             5149527                     3217635   \n",
       "11              104201             5001978                     3043556   \n",
       "12               98392             4700365                     2718529   \n",
       "13               95327             4807394                     2799719   \n",
       "14                 NaN                 NaN                         NaN   \n",
       "15  Two weeks ending 8  Two weeks ending 8          Two weeks ending 8   \n",
       "16               99459             4772522                     2795785   \n",
       "17               97225             4609143                     2623526   \n",
       "18               95638             4750981                     2751124   \n",
       "19               95066             4830999                     2821740   \n",
       "20               95313             4876690                     2854690   \n",
       "\n",
       "                            \n",
       "   Currency in circulation  \n",
       "0                  Month 7  \n",
       "1                  1750502  \n",
       "2                  1762898  \n",
       "3                  1771294  \n",
       "4                  1786209  \n",
       "5                  1796375  \n",
       "6                  1797185  \n",
       "7                  1797485  \n",
       "8                  1838007  \n",
       "9                  1891355  \n",
       "10                 1931891  \n",
       "11                 1958422  \n",
       "12                 1981836  \n",
       "13                 2007675  \n",
       "14                     NaN  \n",
       "15      Two weeks ending 8  \n",
       "16                 1976737  \n",
       "17                 1985617  \n",
       "18                 1999857  \n",
       "19                 2009260  \n",
       "20                 2022000  "
      ],
      "text/html": "<div>\n<style scoped>\n    .dataframe tbody tr th:only-of-type {\n        vertical-align: middle;\n    }\n\n    .dataframe tbody tr th {\n        vertical-align: top;\n    }\n\n    .dataframe thead tr th {\n        text-align: left;\n    }\n</style>\n<table border=\"1\" class=\"dataframe\">\n  <thead>\n    <tr>\n      <th></th>\n      <th>Date</th>\n      <th colspan=\"2\" halign=\"left\">Reserves</th>\n      <th colspan=\"3\" halign=\"left\">Vault cash 2</th>\n      <th colspan=\"3\" halign=\"left\">Monetary base</th>\n    </tr>\n    <tr>\n      <th></th>\n      <th>Date</th>\n      <th>Total 1</th>\n      <th>Required</th>\n      <th>Total</th>\n      <th>Used to satisfy required reserves 3</th>\n      <th>Surplus 4</th>\n      <th>Total 5</th>\n      <th>Total balances maintained 6</th>\n      <th>Currency in circulation</th>\n    </tr>\n  </thead>\n  <tbody>\n    <tr>\n      <th>0</th>\n      <td>Month 7</td>\n      <td>Month 7</td>\n      <td>Month 7</td>\n      <td>Month 7</td>\n      <td>Month 7</td>\n      <td>Month 7</td>\n      <td>Month 7</td>\n      <td>Month 7</td>\n      <td>Month 7</td>\n    </tr>\n    <tr>\n      <th>1</th>\n      <td>Aug. 2019</td>\n      <td>1586844</td>\n      <td>200608</td>\n      <td>78451</td>\n      <td>65969</td>\n      <td>12483</td>\n      <td>3271378</td>\n      <td>1520876</td>\n      <td>1750502</td>\n    </tr>\n    <tr>\n      <th>2</th>\n      <td>Sept. 2019</td>\n      <td>1504805</td>\n      <td>199741</td>\n      <td>76550</td>\n      <td>65035</td>\n      <td>11516</td>\n      <td>3202668</td>\n      <td>1439771</td>\n      <td>1762898</td>\n    </tr>\n    <tr>\n      <th>3</th>\n      <td>Oct. 2019</td>\n      <td>1547136</td>\n      <td>200621</td>\n      <td>76660</td>\n      <td>65623</td>\n      <td>11037</td>\n      <td>3252807</td>\n      <td>1481513</td>\n      <td>1771294</td>\n    </tr>\n    <tr>\n      <th>4</th>\n      <td>Nov. 2019</td>\n      <td>1595222</td>\n      <td>206586</td>\n      <td>76921</td>\n      <td>65881</td>\n      <td>11040</td>\n      <td>3315551</td>\n      <td>1529341</td>\n      <td>1786209</td>\n    </tr>\n    <tr>\n      <th>5</th>\n      <td>Dec. 2019</td>\n      <td>1698344</td>\n      <td>207239</td>\n      <td>80168</td>\n      <td>68255</td>\n      <td>11914</td>\n      <td>3426464</td>\n      <td>1630090</td>\n      <td>1796375</td>\n    </tr>\n    <tr>\n      <th>6</th>\n      <td>Jan. 2020</td>\n      <td>1715219</td>\n      <td>214652</td>\n      <td>81216</td>\n      <td>69835</td>\n      <td>11381</td>\n      <td>3442569</td>\n      <td>1645384</td>\n      <td>1797185</td>\n    </tr>\n    <tr>\n      <th>7</th>\n      <td>Feb. 2020</td>\n      <td>1726943</td>\n      <td>208324</td>\n      <td>80735</td>\n      <td>69954</td>\n      <td>10781</td>\n      <td>3454474</td>\n      <td>1656989</td>\n      <td>1797485</td>\n    </tr>\n    <tr>\n      <th>8</th>\n      <td>Mar. 2020</td>\n      <td>2099369</td>\n      <td>167360</td>\n      <td>77114</td>\n      <td>54222</td>\n      <td>22892</td>\n      <td>3883155</td>\n      <td>2045148</td>\n      <td>1838007</td>\n    </tr>\n    <tr>\n      <th>9</th>\n      <td>Apr. 2020</td>\n      <td>2953586</td>\n      <td>0</td>\n      <td>88104</td>\n      <td>0</td>\n      <td>88104</td>\n      <td>4844940</td>\n      <td>2953586</td>\n      <td>1891355</td>\n    </tr>\n    <tr>\n      <th>10</th>\n      <td>May 2020</td>\n      <td>3217635</td>\n      <td>0</td>\n      <td>101345</td>\n      <td>0</td>\n      <td>101345</td>\n      <td>5149527</td>\n      <td>3217635</td>\n      <td>1931891</td>\n    </tr>\n    <tr>\n      <th>11</th>\n      <td>June 2020</td>\n      <td>3043556</td>\n      <td>0</td>\n      <td>104201</td>\n      <td>0</td>\n      <td>104201</td>\n      <td>5001978</td>\n      <td>3043556</td>\n      <td>1958422</td>\n    </tr>\n    <tr>\n      <th>12</th>\n      <td>July 2020</td>\n      <td>2718529</td>\n      <td>0</td>\n      <td>98392</td>\n      <td>0</td>\n      <td>98392</td>\n      <td>4700365</td>\n      <td>2718529</td>\n      <td>1981836</td>\n    </tr>\n    <tr>\n      <th>13</th>\n      <td>Aug. 2020</td>\n      <td>2799719</td>\n      <td>0</td>\n      <td>95327</td>\n      <td>0</td>\n      <td>95327</td>\n      <td>4807394</td>\n      <td>2799719</td>\n      <td>2007675</td>\n    </tr>\n    <tr>\n      <th>14</th>\n      <td>NaN</td>\n      <td>NaN</td>\n      <td>NaN</td>\n      <td>NaN</td>\n      <td>NaN</td>\n      <td>NaN</td>\n      <td>NaN</td>\n      <td>NaN</td>\n      <td>NaN</td>\n    </tr>\n    <tr>\n      <th>15</th>\n      <td>Two weeks ending 8</td>\n      <td>Two weeks ending 8</td>\n      <td>Two weeks ending 8</td>\n      <td>Two weeks ending 8</td>\n      <td>Two weeks ending 8</td>\n      <td>Two weeks ending 8</td>\n      <td>Two weeks ending 8</td>\n      <td>Two weeks ending 8</td>\n      <td>Two weeks ending 8</td>\n    </tr>\n    <tr>\n      <th>16</th>\n      <td>July 15, 2020</td>\n      <td>2795785</td>\n      <td>0</td>\n      <td>99459</td>\n      <td>0</td>\n      <td>99459</td>\n      <td>4772522</td>\n      <td>2795785</td>\n      <td>1976737</td>\n    </tr>\n    <tr>\n      <th>17</th>\n      <td>July 29, 2020</td>\n      <td>2623526</td>\n      <td>0</td>\n      <td>97225</td>\n      <td>0</td>\n      <td>97225</td>\n      <td>4609143</td>\n      <td>2623526</td>\n      <td>1985617</td>\n    </tr>\n    <tr>\n      <th>18</th>\n      <td>Aug. 12, 2020</td>\n      <td>2751124</td>\n      <td>0</td>\n      <td>95638</td>\n      <td>0</td>\n      <td>95638</td>\n      <td>4750981</td>\n      <td>2751124</td>\n      <td>1999857</td>\n    </tr>\n    <tr>\n      <th>19</th>\n      <td>Aug. 26, 2020</td>\n      <td>2821740</td>\n      <td>0</td>\n      <td>95066</td>\n      <td>0</td>\n      <td>95066</td>\n      <td>4830999</td>\n      <td>2821740</td>\n      <td>2009260</td>\n    </tr>\n    <tr>\n      <th>20</th>\n      <td>Sept. 9, 2020</td>\n      <td>2854690</td>\n      <td>0</td>\n      <td>95313</td>\n      <td>0</td>\n      <td>95313</td>\n      <td>4876690</td>\n      <td>2854690</td>\n      <td>2022000</td>\n    </tr>\n  </tbody>\n</table>\n</div>"
     },
     "metadata": {},
     "execution_count": 13
    }
   ],
   "source": [
    "df_html_fr[1]"
   ]
  },
  {
   "cell_type": "code",
   "execution_count": 14,
   "metadata": {},
   "outputs": [
    {
     "output_type": "execute_result",
     "data": {
      "text/plain": [
       "                  Date Borrowings from the Federal Reserve  \\\n",
       "                  Date                               Total   \n",
       "0              Month 3                             Month 3   \n",
       "1            Aug. 2019                                 117   \n",
       "2           Sept. 2019                                 101   \n",
       "3            Oct. 2019                                  63   \n",
       "4            Nov. 2019                                  26   \n",
       "5            Dec. 2019                                  21   \n",
       "6            Jan. 2020                                   6   \n",
       "7            Feb. 2020                                   3   \n",
       "8            Mar. 2020                               40554   \n",
       "9            Apr. 2020                              124461   \n",
       "10            May 2020                              111845   \n",
       "11           June 2020                               97671   \n",
       "12           July 2020                               92943   \n",
       "13           Aug. 2020                               83126   \n",
       "14                 NaN                                 NaN   \n",
       "15  Two weeks ending 4                  Two weeks ending 4   \n",
       "16       July 15, 2020                               94326   \n",
       "17       July 29, 2020                               92428   \n",
       "18       Aug. 12, 2020                               85636   \n",
       "19       Aug. 26, 2020                               82030   \n",
       "20       Sept. 9, 2020                               80170   \n",
       "\n",
       "                                                                \\\n",
       "               Primary           Secondary            Seasonal   \n",
       "0              Month 3             Month 3             Month 3   \n",
       "1                   16                   0                 101   \n",
       "2                   15                   0                  86   \n",
       "3                    4                   0                  59   \n",
       "4                    4                   0                  22   \n",
       "5                   10                   0                  11   \n",
       "6                    5                   0                   1   \n",
       "7                    3                   0                   0   \n",
       "8                19538                   0                   0   \n",
       "9                38299                   0                   0   \n",
       "10               22180                   0                   2   \n",
       "11                8456                   0                  11   \n",
       "12                4670                   0                  26   \n",
       "13                2851                   0                  38   \n",
       "14                 NaN                 NaN                 NaN   \n",
       "15  Two weeks ending 4  Two weeks ending 4  Two weeks ending 4   \n",
       "16                5055                   0                  21   \n",
       "17                4376                   0                  31   \n",
       "18                3111                   0                  37   \n",
       "19                2651                   0                  41   \n",
       "20                2786                   0                  34   \n",
       "\n",
       "                             Nonborrowed reserves 2  \n",
       "   Other credit extensions 1 Nonborrowed reserves 2  \n",
       "0                    Month 3                Month 3  \n",
       "1                          0                1586727  \n",
       "2                          0                1504704  \n",
       "3                          0                1547073  \n",
       "4                          0                1595196  \n",
       "5                          0                1698323  \n",
       "6                          0                1715213  \n",
       "7                          0                1726939  \n",
       "8                      21015                2058816  \n",
       "9                      86162                2829125  \n",
       "10                     89663                3105791  \n",
       "11                     89204                2945885  \n",
       "12                     88248                2625585  \n",
       "13                     80237                2716593  \n",
       "14                       NaN                    NaN  \n",
       "15        Two weeks ending 4     Two weeks ending 4  \n",
       "16                     89251                2701459  \n",
       "17                     88021                2531099  \n",
       "18                     82488                2665489  \n",
       "19                     79339                2739710  \n",
       "20                     77350                2774520  "
      ],
      "text/html": "<div>\n<style scoped>\n    .dataframe tbody tr th:only-of-type {\n        vertical-align: middle;\n    }\n\n    .dataframe tbody tr th {\n        vertical-align: top;\n    }\n\n    .dataframe thead tr th {\n        text-align: left;\n    }\n</style>\n<table border=\"1\" class=\"dataframe\">\n  <thead>\n    <tr>\n      <th></th>\n      <th>Date</th>\n      <th colspan=\"5\" halign=\"left\">Borrowings from the Federal Reserve</th>\n      <th>Nonborrowed reserves 2</th>\n    </tr>\n    <tr>\n      <th></th>\n      <th>Date</th>\n      <th>Total</th>\n      <th>Primary</th>\n      <th>Secondary</th>\n      <th>Seasonal</th>\n      <th>Other credit extensions 1</th>\n      <th>Nonborrowed reserves 2</th>\n    </tr>\n  </thead>\n  <tbody>\n    <tr>\n      <th>0</th>\n      <td>Month 3</td>\n      <td>Month 3</td>\n      <td>Month 3</td>\n      <td>Month 3</td>\n      <td>Month 3</td>\n      <td>Month 3</td>\n      <td>Month 3</td>\n    </tr>\n    <tr>\n      <th>1</th>\n      <td>Aug. 2019</td>\n      <td>117</td>\n      <td>16</td>\n      <td>0</td>\n      <td>101</td>\n      <td>0</td>\n      <td>1586727</td>\n    </tr>\n    <tr>\n      <th>2</th>\n      <td>Sept. 2019</td>\n      <td>101</td>\n      <td>15</td>\n      <td>0</td>\n      <td>86</td>\n      <td>0</td>\n      <td>1504704</td>\n    </tr>\n    <tr>\n      <th>3</th>\n      <td>Oct. 2019</td>\n      <td>63</td>\n      <td>4</td>\n      <td>0</td>\n      <td>59</td>\n      <td>0</td>\n      <td>1547073</td>\n    </tr>\n    <tr>\n      <th>4</th>\n      <td>Nov. 2019</td>\n      <td>26</td>\n      <td>4</td>\n      <td>0</td>\n      <td>22</td>\n      <td>0</td>\n      <td>1595196</td>\n    </tr>\n    <tr>\n      <th>5</th>\n      <td>Dec. 2019</td>\n      <td>21</td>\n      <td>10</td>\n      <td>0</td>\n      <td>11</td>\n      <td>0</td>\n      <td>1698323</td>\n    </tr>\n    <tr>\n      <th>6</th>\n      <td>Jan. 2020</td>\n      <td>6</td>\n      <td>5</td>\n      <td>0</td>\n      <td>1</td>\n      <td>0</td>\n      <td>1715213</td>\n    </tr>\n    <tr>\n      <th>7</th>\n      <td>Feb. 2020</td>\n      <td>3</td>\n      <td>3</td>\n      <td>0</td>\n      <td>0</td>\n      <td>0</td>\n      <td>1726939</td>\n    </tr>\n    <tr>\n      <th>8</th>\n      <td>Mar. 2020</td>\n      <td>40554</td>\n      <td>19538</td>\n      <td>0</td>\n      <td>0</td>\n      <td>21015</td>\n      <td>2058816</td>\n    </tr>\n    <tr>\n      <th>9</th>\n      <td>Apr. 2020</td>\n      <td>124461</td>\n      <td>38299</td>\n      <td>0</td>\n      <td>0</td>\n      <td>86162</td>\n      <td>2829125</td>\n    </tr>\n    <tr>\n      <th>10</th>\n      <td>May 2020</td>\n      <td>111845</td>\n      <td>22180</td>\n      <td>0</td>\n      <td>2</td>\n      <td>89663</td>\n      <td>3105791</td>\n    </tr>\n    <tr>\n      <th>11</th>\n      <td>June 2020</td>\n      <td>97671</td>\n      <td>8456</td>\n      <td>0</td>\n      <td>11</td>\n      <td>89204</td>\n      <td>2945885</td>\n    </tr>\n    <tr>\n      <th>12</th>\n      <td>July 2020</td>\n      <td>92943</td>\n      <td>4670</td>\n      <td>0</td>\n      <td>26</td>\n      <td>88248</td>\n      <td>2625585</td>\n    </tr>\n    <tr>\n      <th>13</th>\n      <td>Aug. 2020</td>\n      <td>83126</td>\n      <td>2851</td>\n      <td>0</td>\n      <td>38</td>\n      <td>80237</td>\n      <td>2716593</td>\n    </tr>\n    <tr>\n      <th>14</th>\n      <td>NaN</td>\n      <td>NaN</td>\n      <td>NaN</td>\n      <td>NaN</td>\n      <td>NaN</td>\n      <td>NaN</td>\n      <td>NaN</td>\n    </tr>\n    <tr>\n      <th>15</th>\n      <td>Two weeks ending 4</td>\n      <td>Two weeks ending 4</td>\n      <td>Two weeks ending 4</td>\n      <td>Two weeks ending 4</td>\n      <td>Two weeks ending 4</td>\n      <td>Two weeks ending 4</td>\n      <td>Two weeks ending 4</td>\n    </tr>\n    <tr>\n      <th>16</th>\n      <td>July 15, 2020</td>\n      <td>94326</td>\n      <td>5055</td>\n      <td>0</td>\n      <td>21</td>\n      <td>89251</td>\n      <td>2701459</td>\n    </tr>\n    <tr>\n      <th>17</th>\n      <td>July 29, 2020</td>\n      <td>92428</td>\n      <td>4376</td>\n      <td>0</td>\n      <td>31</td>\n      <td>88021</td>\n      <td>2531099</td>\n    </tr>\n    <tr>\n      <th>18</th>\n      <td>Aug. 12, 2020</td>\n      <td>85636</td>\n      <td>3111</td>\n      <td>0</td>\n      <td>37</td>\n      <td>82488</td>\n      <td>2665489</td>\n    </tr>\n    <tr>\n      <th>19</th>\n      <td>Aug. 26, 2020</td>\n      <td>82030</td>\n      <td>2651</td>\n      <td>0</td>\n      <td>41</td>\n      <td>79339</td>\n      <td>2739710</td>\n    </tr>\n    <tr>\n      <th>20</th>\n      <td>Sept. 9, 2020</td>\n      <td>80170</td>\n      <td>2786</td>\n      <td>0</td>\n      <td>34</td>\n      <td>77350</td>\n      <td>2774520</td>\n    </tr>\n  </tbody>\n</table>\n</div>"
     },
     "metadata": {},
     "execution_count": 14
    }
   ],
   "source": [
    "df_html_fr[2]"
   ]
  },
  {
   "cell_type": "code",
   "execution_count": 15,
   "metadata": {},
   "outputs": [
    {
     "output_type": "stream",
     "name": "stdout",
     "text": [
      "<class 'pandas.core.frame.DataFrame'>\nRangeIndex: 21 entries, 0 to 20\nData columns (total 7 columns):\n #   Column                                                            Non-Null Count  Dtype \n---  ------                                                            --------------  ----- \n 0   (Date, Date)                                                      20 non-null     object\n 1   (Borrowings from the Federal Reserve, Total)                      20 non-null     object\n 2   (Borrowings from the Federal Reserve, Primary)                    20 non-null     object\n 3   (Borrowings from the Federal Reserve, Secondary)                  20 non-null     object\n 4   (Borrowings from the Federal Reserve, Seasonal)                   20 non-null     object\n 5   (Borrowings from the Federal Reserve, Other credit extensions 1)  20 non-null     object\n 6   (Nonborrowed reserves 2, Nonborrowed reserves 2)                  20 non-null     object\ndtypes: object(7)\nmemory usage: 1.3+ KB\n"
     ]
    }
   ],
   "source": [
    "df_html_fr[2].info()"
   ]
  },
  {
   "source": [
    "# Relatório de Análise I"
   ],
   "cell_type": "markdown",
   "metadata": {}
  },
  {
   "cell_type": "code",
   "execution_count": 16,
   "metadata": {},
   "outputs": [
    {
     "output_type": "execute_result",
     "data": {
      "text/plain": [
       "          Tipo               Bairro  Quartos  Vagas  Suites  Area   Valor  \\\n",
       "0  Apartamento               Centro        1      0       0    15   800.0   \n",
       "1  Apartamento         Higienópolis        1      0       0    48   800.0   \n",
       "2  Apartamento             Cachambi        2      0       0    50  1300.0   \n",
       "3  Apartamento               Grajaú        2      1       0    70  1500.0   \n",
       "4  Apartamento  Lins de Vasconcelos        3      1       1    90  1500.0   \n",
       "\n",
       "   Condominio  IPTU  Valor m2 Tipo Agregado  \n",
       "0       390.0  20.0     53.33   Apartamento  \n",
       "1       230.0   0.0     16.67   Apartamento  \n",
       "2       301.0  17.0     26.00   Apartamento  \n",
       "3       642.0  74.0     21.43   Apartamento  \n",
       "4       455.0  14.0     16.67   Apartamento  "
      ],
      "text/html": "<div>\n<style scoped>\n    .dataframe tbody tr th:only-of-type {\n        vertical-align: middle;\n    }\n\n    .dataframe tbody tr th {\n        vertical-align: top;\n    }\n\n    .dataframe thead th {\n        text-align: right;\n    }\n</style>\n<table border=\"1\" class=\"dataframe\">\n  <thead>\n    <tr style=\"text-align: right;\">\n      <th></th>\n      <th>Tipo</th>\n      <th>Bairro</th>\n      <th>Quartos</th>\n      <th>Vagas</th>\n      <th>Suites</th>\n      <th>Area</th>\n      <th>Valor</th>\n      <th>Condominio</th>\n      <th>IPTU</th>\n      <th>Valor m2</th>\n      <th>Tipo Agregado</th>\n    </tr>\n  </thead>\n  <tbody>\n    <tr>\n      <th>0</th>\n      <td>Apartamento</td>\n      <td>Centro</td>\n      <td>1</td>\n      <td>0</td>\n      <td>0</td>\n      <td>15</td>\n      <td>800.0</td>\n      <td>390.0</td>\n      <td>20.0</td>\n      <td>53.33</td>\n      <td>Apartamento</td>\n    </tr>\n    <tr>\n      <th>1</th>\n      <td>Apartamento</td>\n      <td>Higienópolis</td>\n      <td>1</td>\n      <td>0</td>\n      <td>0</td>\n      <td>48</td>\n      <td>800.0</td>\n      <td>230.0</td>\n      <td>0.0</td>\n      <td>16.67</td>\n      <td>Apartamento</td>\n    </tr>\n    <tr>\n      <th>2</th>\n      <td>Apartamento</td>\n      <td>Cachambi</td>\n      <td>2</td>\n      <td>0</td>\n      <td>0</td>\n      <td>50</td>\n      <td>1300.0</td>\n      <td>301.0</td>\n      <td>17.0</td>\n      <td>26.00</td>\n      <td>Apartamento</td>\n    </tr>\n    <tr>\n      <th>3</th>\n      <td>Apartamento</td>\n      <td>Grajaú</td>\n      <td>2</td>\n      <td>1</td>\n      <td>0</td>\n      <td>70</td>\n      <td>1500.0</td>\n      <td>642.0</td>\n      <td>74.0</td>\n      <td>21.43</td>\n      <td>Apartamento</td>\n    </tr>\n    <tr>\n      <th>4</th>\n      <td>Apartamento</td>\n      <td>Lins de Vasconcelos</td>\n      <td>3</td>\n      <td>1</td>\n      <td>1</td>\n      <td>90</td>\n      <td>1500.0</td>\n      <td>455.0</td>\n      <td>14.0</td>\n      <td>16.67</td>\n      <td>Apartamento</td>\n    </tr>\n  </tbody>\n</table>\n</div>"
     },
     "metadata": {},
     "execution_count": 16
    }
   ],
   "source": [
    "dados_seguradora.head()"
   ]
  },
  {
   "source": [
    "## Informações Gerais sobre  a Base de Dados"
   ],
   "cell_type": "markdown",
   "metadata": {}
  },
  {
   "cell_type": "code",
   "execution_count": 17,
   "metadata": {},
   "outputs": [
    {
     "output_type": "execute_result",
     "data": {
      "text/plain": [
       "Tipo              object\n",
       "Bairro            object\n",
       "Quartos            int64\n",
       "Vagas              int64\n",
       "Suites             int64\n",
       "Area               int64\n",
       "Valor            float64\n",
       "Condominio       float64\n",
       "IPTU             float64\n",
       "Valor m2         float64\n",
       "Tipo Agregado     object\n",
       "dtype: object"
      ]
     },
     "metadata": {},
     "execution_count": 17
    }
   ],
   "source": [
    "dados_seguradora.dtypes"
   ]
  },
  {
   "source": [
    "## Tranformando em DataFrame"
   ],
   "cell_type": "markdown",
   "metadata": {}
  },
  {
   "cell_type": "code",
   "execution_count": 18,
   "metadata": {},
   "outputs": [
    {
     "output_type": "execute_result",
     "data": {
      "text/plain": [
       "                     0\n",
       "Tipo            object\n",
       "Bairro          object\n",
       "Quartos          int64\n",
       "Vagas            int64\n",
       "Suites           int64\n",
       "Area             int64\n",
       "Valor          float64\n",
       "Condominio     float64\n",
       "IPTU           float64\n",
       "Valor m2       float64\n",
       "Tipo Agregado   object"
      ],
      "text/html": "<div>\n<style scoped>\n    .dataframe tbody tr th:only-of-type {\n        vertical-align: middle;\n    }\n\n    .dataframe tbody tr th {\n        vertical-align: top;\n    }\n\n    .dataframe thead th {\n        text-align: right;\n    }\n</style>\n<table border=\"1\" class=\"dataframe\">\n  <thead>\n    <tr style=\"text-align: right;\">\n      <th></th>\n      <th>0</th>\n    </tr>\n  </thead>\n  <tbody>\n    <tr>\n      <th>Tipo</th>\n      <td>object</td>\n    </tr>\n    <tr>\n      <th>Bairro</th>\n      <td>object</td>\n    </tr>\n    <tr>\n      <th>Quartos</th>\n      <td>int64</td>\n    </tr>\n    <tr>\n      <th>Vagas</th>\n      <td>int64</td>\n    </tr>\n    <tr>\n      <th>Suites</th>\n      <td>int64</td>\n    </tr>\n    <tr>\n      <th>Area</th>\n      <td>int64</td>\n    </tr>\n    <tr>\n      <th>Valor</th>\n      <td>float64</td>\n    </tr>\n    <tr>\n      <th>Condominio</th>\n      <td>float64</td>\n    </tr>\n    <tr>\n      <th>IPTU</th>\n      <td>float64</td>\n    </tr>\n    <tr>\n      <th>Valor m2</th>\n      <td>float64</td>\n    </tr>\n    <tr>\n      <th>Tipo Agregado</th>\n      <td>object</td>\n    </tr>\n  </tbody>\n</table>\n</div>"
     },
     "metadata": {},
     "execution_count": 18
    }
   ],
   "source": [
    "pd.DataFrame(dados_seguradora.dtypes)"
   ]
  },
  {
   "cell_type": "code",
   "execution_count": 19,
   "metadata": {},
   "outputs": [
    {
     "output_type": "execute_result",
     "data": {
      "text/plain": [
       "              Tipos de Dados\n",
       "Tipo                  object\n",
       "Bairro                object\n",
       "Quartos                int64\n",
       "Vagas                  int64\n",
       "Suites                 int64\n",
       "Area                   int64\n",
       "Valor                float64\n",
       "Condominio           float64\n",
       "IPTU                 float64\n",
       "Valor m2             float64\n",
       "Tipo Agregado         object"
      ],
      "text/html": "<div>\n<style scoped>\n    .dataframe tbody tr th:only-of-type {\n        vertical-align: middle;\n    }\n\n    .dataframe tbody tr th {\n        vertical-align: top;\n    }\n\n    .dataframe thead th {\n        text-align: right;\n    }\n</style>\n<table border=\"1\" class=\"dataframe\">\n  <thead>\n    <tr style=\"text-align: right;\">\n      <th></th>\n      <th>Tipos de Dados</th>\n    </tr>\n  </thead>\n  <tbody>\n    <tr>\n      <th>Tipo</th>\n      <td>object</td>\n    </tr>\n    <tr>\n      <th>Bairro</th>\n      <td>object</td>\n    </tr>\n    <tr>\n      <th>Quartos</th>\n      <td>int64</td>\n    </tr>\n    <tr>\n      <th>Vagas</th>\n      <td>int64</td>\n    </tr>\n    <tr>\n      <th>Suites</th>\n      <td>int64</td>\n    </tr>\n    <tr>\n      <th>Area</th>\n      <td>int64</td>\n    </tr>\n    <tr>\n      <th>Valor</th>\n      <td>float64</td>\n    </tr>\n    <tr>\n      <th>Condominio</th>\n      <td>float64</td>\n    </tr>\n    <tr>\n      <th>IPTU</th>\n      <td>float64</td>\n    </tr>\n    <tr>\n      <th>Valor m2</th>\n      <td>float64</td>\n    </tr>\n    <tr>\n      <th>Tipo Agregado</th>\n      <td>object</td>\n    </tr>\n  </tbody>\n</table>\n</div>"
     },
     "metadata": {},
     "execution_count": 19
    }
   ],
   "source": [
    "tipos_de_dados = pd.DataFrame(dados_seguradora.dtypes, columns=['Tipos de Dados'])\n",
    "tipos_de_dados"
   ]
  },
  {
   "cell_type": "code",
   "execution_count": 20,
   "metadata": {},
   "outputs": [
    {
     "output_type": "execute_result",
     "data": {
      "text/plain": [
       "Variáveis     Tipos de Dados\n",
       "Tipo                  object\n",
       "Bairro                object\n",
       "Quartos                int64\n",
       "Vagas                  int64\n",
       "Suites                 int64\n",
       "Area                   int64\n",
       "Valor                float64\n",
       "Condominio           float64\n",
       "IPTU                 float64\n",
       "Valor m2             float64\n",
       "Tipo Agregado         object"
      ],
      "text/html": "<div>\n<style scoped>\n    .dataframe tbody tr th:only-of-type {\n        vertical-align: middle;\n    }\n\n    .dataframe tbody tr th {\n        vertical-align: top;\n    }\n\n    .dataframe thead th {\n        text-align: right;\n    }\n</style>\n<table border=\"1\" class=\"dataframe\">\n  <thead>\n    <tr style=\"text-align: right;\">\n      <th>Variáveis</th>\n      <th>Tipos de Dados</th>\n    </tr>\n  </thead>\n  <tbody>\n    <tr>\n      <th>Tipo</th>\n      <td>object</td>\n    </tr>\n    <tr>\n      <th>Bairro</th>\n      <td>object</td>\n    </tr>\n    <tr>\n      <th>Quartos</th>\n      <td>int64</td>\n    </tr>\n    <tr>\n      <th>Vagas</th>\n      <td>int64</td>\n    </tr>\n    <tr>\n      <th>Suites</th>\n      <td>int64</td>\n    </tr>\n    <tr>\n      <th>Area</th>\n      <td>int64</td>\n    </tr>\n    <tr>\n      <th>Valor</th>\n      <td>float64</td>\n    </tr>\n    <tr>\n      <th>Condominio</th>\n      <td>float64</td>\n    </tr>\n    <tr>\n      <th>IPTU</th>\n      <td>float64</td>\n    </tr>\n    <tr>\n      <th>Valor m2</th>\n      <td>float64</td>\n    </tr>\n    <tr>\n      <th>Tipo Agregado</th>\n      <td>object</td>\n    </tr>\n  </tbody>\n</table>\n</div>"
     },
     "metadata": {},
     "execution_count": 20
    }
   ],
   "source": [
    "tipos_de_dados.columns.name = 'Variáveis'\n",
    "tipos_de_dados"
   ]
  },
  {
   "cell_type": "code",
   "execution_count": 21,
   "metadata": {},
   "outputs": [
    {
     "output_type": "execute_result",
     "data": {
      "text/plain": [
       "(19831, 11)"
      ]
     },
     "metadata": {},
     "execution_count": 21
    }
   ],
   "source": [
    "dados_seguradora.shape"
   ]
  },
  {
   "cell_type": "code",
   "execution_count": 22,
   "metadata": {},
   "outputs": [],
   "source": [
    "imoveis = dados_seguradora.shape[0]\n",
    "variaveis = dados_seguradora.shape[1]\n"
   ]
  },
  {
   "cell_type": "code",
   "execution_count": 23,
   "metadata": {},
   "outputs": [
    {
     "output_type": "stream",
     "name": "stdout",
     "text": [
      "imóveis: 19831\nvariáveis: 11\n"
     ]
    }
   ],
   "source": [
    "print(\"imóveis: {}\\nvariáveis: {}\".format(imoveis,variaveis))"
   ]
  },
  {
   "cell_type": "code",
   "execution_count": 24,
   "metadata": {},
   "outputs": [
    {
     "output_type": "stream",
     "name": "stdout",
     "text": [
      "A base de dados apresenta 19831 registros de imóveis, e 11 variáveis\n"
     ]
    }
   ],
   "source": [
    "print('A base de dados apresenta {} registros de imóveis, e {} variáveis'.format(imoveis,variaveis))"
   ]
  }
 ],
 "metadata": {
  "kernelspec": {
   "name": "python3",
   "display_name": "Python 3",
   "language": "python"
  },
  "language_info": {
   "codemirror_mode": {
    "name": "ipython",
    "version": 3
   },
   "file_extension": ".py",
   "mimetype": "text/x-python",
   "name": "python",
   "nbconvert_exporter": "python",
   "pygments_lexer": "ipython3",
   "version": "3.7.5-final"
  }
 },
 "nbformat": 4,
 "nbformat_minor": 2
}