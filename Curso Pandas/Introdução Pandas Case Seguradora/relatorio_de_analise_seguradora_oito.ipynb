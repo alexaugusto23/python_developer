{
 "metadata": {
  "language_info": {
   "codemirror_mode": {
    "name": "ipython",
    "version": 3
   },
   "file_extension": ".py",
   "mimetype": "text/x-python",
   "name": "python",
   "nbconvert_exporter": "python",
   "pygments_lexer": "ipython3",
   "version": "3.7.5-final"
  },
  "orig_nbformat": 2,
  "kernelspec": {
   "name": "python3",
   "display_name": "Python 3.7.5 64-bit",
   "metadata": {
    "interpreter": {
     "hash": "2f4f4457f2c99eabecb8a44ff56a73b72ee854a600d04cd32d6ba5135905bba2"
    }
   }
  }
 },
 "nbformat": 4,
 "nbformat_minor": 2,
 "cells": [
  {
   "source": [
    "# Relatório de Análise VIII"
   ],
   "cell_type": "markdown",
   "metadata": {}
  },
  {
   "source": [
    "## Criando Faixas de Valor"
   ],
   "cell_type": "markdown",
   "metadata": {}
  },
  {
   "cell_type": "code",
   "execution_count": 1,
   "metadata": {},
   "outputs": [],
   "source": [
    "import pandas as pd"
   ]
  },
  {
   "cell_type": "code",
   "execution_count": 2,
   "metadata": {},
   "outputs": [
    {
     "output_type": "execute_result",
     "data": {
      "text/plain": [
       "          Tipo                   Bairro  Quartos  Vagas  Suites  Area  \\\n",
       "0  Apartamento                   Centro        1      0       0    15   \n",
       "1  Apartamento             Higienópolis        1      0       0    48   \n",
       "2  Apartamento                 Cachambi        2      0       0    50   \n",
       "3  Apartamento                   Grajaú        2      1       0    70   \n",
       "4  Apartamento      Lins de Vasconcelos        3      1       1    90   \n",
       "5  Apartamento               Copacabana        1      0       1    40   \n",
       "6  Apartamento               Copacabana        4      3       1   243   \n",
       "7  Apartamento  Freguesia (Jacarepaguá)        3      0       0    54   \n",
       "8  Apartamento          Barra da Tijuca        2      1       1    67   \n",
       "9  Apartamento                   Tijuca        2      1       0   110   \n",
       "\n",
       "     Valor  Condominio   IPTU  Valor_m2 Tipo Agregado  \n",
       "0    800.0       390.0   20.0     53.33   Apartamento  \n",
       "1    800.0       230.0    0.0     16.67   Apartamento  \n",
       "2   1300.0       301.0   17.0     26.00   Apartamento  \n",
       "3   1500.0       642.0   74.0     21.43   Apartamento  \n",
       "4   1500.0       455.0   14.0     16.67   Apartamento  \n",
       "5   2000.0       561.0   50.0     50.00   Apartamento  \n",
       "6  13000.0      2000.0  803.0     53.50   Apartamento  \n",
       "7    950.0       300.0   28.0     17.59   Apartamento  \n",
       "8   1700.0       589.0  147.0     25.37   Apartamento  \n",
       "9   1900.0       700.0  138.0     17.27   Apartamento  "
      ],
      "text/html": "<div>\n<style scoped>\n    .dataframe tbody tr th:only-of-type {\n        vertical-align: middle;\n    }\n\n    .dataframe tbody tr th {\n        vertical-align: top;\n    }\n\n    .dataframe thead th {\n        text-align: right;\n    }\n</style>\n<table border=\"1\" class=\"dataframe\">\n  <thead>\n    <tr style=\"text-align: right;\">\n      <th></th>\n      <th>Tipo</th>\n      <th>Bairro</th>\n      <th>Quartos</th>\n      <th>Vagas</th>\n      <th>Suites</th>\n      <th>Area</th>\n      <th>Valor</th>\n      <th>Condominio</th>\n      <th>IPTU</th>\n      <th>Valor_m2</th>\n      <th>Tipo Agregado</th>\n    </tr>\n  </thead>\n  <tbody>\n    <tr>\n      <th>0</th>\n      <td>Apartamento</td>\n      <td>Centro</td>\n      <td>1</td>\n      <td>0</td>\n      <td>0</td>\n      <td>15</td>\n      <td>800.0</td>\n      <td>390.0</td>\n      <td>20.0</td>\n      <td>53.33</td>\n      <td>Apartamento</td>\n    </tr>\n    <tr>\n      <th>1</th>\n      <td>Apartamento</td>\n      <td>Higienópolis</td>\n      <td>1</td>\n      <td>0</td>\n      <td>0</td>\n      <td>48</td>\n      <td>800.0</td>\n      <td>230.0</td>\n      <td>0.0</td>\n      <td>16.67</td>\n      <td>Apartamento</td>\n    </tr>\n    <tr>\n      <th>2</th>\n      <td>Apartamento</td>\n      <td>Cachambi</td>\n      <td>2</td>\n      <td>0</td>\n      <td>0</td>\n      <td>50</td>\n      <td>1300.0</td>\n      <td>301.0</td>\n      <td>17.0</td>\n      <td>26.00</td>\n      <td>Apartamento</td>\n    </tr>\n    <tr>\n      <th>3</th>\n      <td>Apartamento</td>\n      <td>Grajaú</td>\n      <td>2</td>\n      <td>1</td>\n      <td>0</td>\n      <td>70</td>\n      <td>1500.0</td>\n      <td>642.0</td>\n      <td>74.0</td>\n      <td>21.43</td>\n      <td>Apartamento</td>\n    </tr>\n    <tr>\n      <th>4</th>\n      <td>Apartamento</td>\n      <td>Lins de Vasconcelos</td>\n      <td>3</td>\n      <td>1</td>\n      <td>1</td>\n      <td>90</td>\n      <td>1500.0</td>\n      <td>455.0</td>\n      <td>14.0</td>\n      <td>16.67</td>\n      <td>Apartamento</td>\n    </tr>\n    <tr>\n      <th>5</th>\n      <td>Apartamento</td>\n      <td>Copacabana</td>\n      <td>1</td>\n      <td>0</td>\n      <td>1</td>\n      <td>40</td>\n      <td>2000.0</td>\n      <td>561.0</td>\n      <td>50.0</td>\n      <td>50.00</td>\n      <td>Apartamento</td>\n    </tr>\n    <tr>\n      <th>6</th>\n      <td>Apartamento</td>\n      <td>Copacabana</td>\n      <td>4</td>\n      <td>3</td>\n      <td>1</td>\n      <td>243</td>\n      <td>13000.0</td>\n      <td>2000.0</td>\n      <td>803.0</td>\n      <td>53.50</td>\n      <td>Apartamento</td>\n    </tr>\n    <tr>\n      <th>7</th>\n      <td>Apartamento</td>\n      <td>Freguesia (Jacarepaguá)</td>\n      <td>3</td>\n      <td>0</td>\n      <td>0</td>\n      <td>54</td>\n      <td>950.0</td>\n      <td>300.0</td>\n      <td>28.0</td>\n      <td>17.59</td>\n      <td>Apartamento</td>\n    </tr>\n    <tr>\n      <th>8</th>\n      <td>Apartamento</td>\n      <td>Barra da Tijuca</td>\n      <td>2</td>\n      <td>1</td>\n      <td>1</td>\n      <td>67</td>\n      <td>1700.0</td>\n      <td>589.0</td>\n      <td>147.0</td>\n      <td>25.37</td>\n      <td>Apartamento</td>\n    </tr>\n    <tr>\n      <th>9</th>\n      <td>Apartamento</td>\n      <td>Tijuca</td>\n      <td>2</td>\n      <td>1</td>\n      <td>0</td>\n      <td>110</td>\n      <td>1900.0</td>\n      <td>700.0</td>\n      <td>138.0</td>\n      <td>17.27</td>\n      <td>Apartamento</td>\n    </tr>\n  </tbody>\n</table>\n</div>"
     },
     "metadata": {},
     "execution_count": 2
    }
   ],
   "source": [
    "dados = pd.read_csv('dados/aluguel_residencial_filtro_apartamento.csv',sep=';')\n",
    "dados.head(10)"
   ]
  },
  {
   "cell_type": "code",
   "execution_count": 5,
   "metadata": {},
   "outputs": [],
   "source": [
    "# 1 e 2\n",
    "# 3 e 4\n",
    "# 5 e 6\n",
    "# 7 ou mais\n",
    "classes = [0, 2, 4, 6, 100]"
   ]
  },
  {
   "cell_type": "code",
   "execution_count": 8,
   "metadata": {},
   "outputs": [
    {
     "output_type": "execute_result",
     "data": {
      "text/plain": [
       "0        (0, 2]\n",
       "1        (0, 2]\n",
       "2        (0, 2]\n",
       "3        (0, 2]\n",
       "4        (2, 4]\n",
       "          ...  \n",
       "18775    (0, 2]\n",
       "18776    (0, 2]\n",
       "18777    (2, 4]\n",
       "18778    (0, 2]\n",
       "18779    (0, 2]\n",
       "Name: Quartos, Length: 18780, dtype: category\n",
       "Categories (4, interval[int64]): [(0, 2] < (2, 4] < (4, 6] < (6, 100]]"
      ]
     },
     "metadata": {},
     "execution_count": 8
    }
   ],
   "source": [
    "quartos = pd.cut(dados['Quartos'], classes)\n",
    "quartos"
   ]
  },
  {
   "cell_type": "code",
   "execution_count": 9,
   "metadata": {},
   "outputs": [
    {
     "output_type": "execute_result",
     "data": {
      "text/plain": [
       "(0, 2]      9823\n",
       "(2, 4]      8693\n",
       "(4, 6]       240\n",
       "(6, 100]       9\n",
       "Name: Quartos, dtype: int64"
      ]
     },
     "metadata": {},
     "execution_count": 9
    }
   ],
   "source": [
    "pd.value_counts(quartos)"
   ]
  },
  {
   "cell_type": "code",
   "execution_count": 10,
   "metadata": {},
   "outputs": [],
   "source": [
    "labels = ['1 e 2 quartos', '3 e 4 quartos', '5 e 6 quartos', '7 ou mais quartos']"
   ]
  },
  {
   "cell_type": "code",
   "execution_count": 11,
   "metadata": {},
   "outputs": [],
   "source": [
    "quartos = pd.cut(dados['Quartos'], classes, labels= labels)"
   ]
  },
  {
   "cell_type": "code",
   "execution_count": 12,
   "metadata": {},
   "outputs": [
    {
     "output_type": "execute_result",
     "data": {
      "text/plain": [
       "1 e 2 quartos        9823\n",
       "3 e 4 quartos        8693\n",
       "5 e 6 quartos         240\n",
       "7 ou mais quartos       9\n",
       "Name: Quartos, dtype: int64"
      ]
     },
     "metadata": {},
     "execution_count": 12
    }
   ],
   "source": [
    "pd.value_counts(quartos)"
   ]
  },
  {
   "cell_type": "code",
   "execution_count": 14,
   "metadata": {},
   "outputs": [
    {
     "output_type": "execute_result",
     "data": {
      "text/plain": [
       "0 e 2 quartos        9838\n",
       "3 e 4 quartos        8693\n",
       "5 e 6 quartos         240\n",
       "7 ou mais quartos       9\n",
       "Name: Quartos, dtype: int64"
      ]
     },
     "metadata": {},
     "execution_count": 14
    }
   ],
   "source": [
    "labels = ['0 e 2 quartos', '3 e 4 quartos', '5 e 6 quartos', '7 ou mais quartos']\n",
    "quartos = pd.cut(dados['Quartos'], classes, labels= labels, include_lowest= True)\n",
    "pd.value_counts(quartos)"
   ]
  }
 ]
}