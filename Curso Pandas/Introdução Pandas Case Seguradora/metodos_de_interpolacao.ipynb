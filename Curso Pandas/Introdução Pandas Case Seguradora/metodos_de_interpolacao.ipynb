{
 "metadata": {
  "language_info": {
   "codemirror_mode": {
    "name": "ipython",
    "version": 3
   },
   "file_extension": ".py",
   "mimetype": "text/x-python",
   "name": "python",
   "nbconvert_exporter": "python",
   "pygments_lexer": "ipython3",
   "version": "3.7.5-final"
  },
  "orig_nbformat": 2,
  "kernelspec": {
   "name": "python3",
   "display_name": "Python 3.7.5 64-bit",
   "metadata": {
    "interpreter": {
     "hash": "2f4f4457f2c99eabecb8a44ff56a73b72ee854a600d04cd32d6ba5135905bba2"
    }
   }
  }
 },
 "nbformat": 4,
 "nbformat_minor": 2,
 "cells": [
  {
   "cell_type": "code",
   "execution_count": 1,
   "metadata": {},
   "outputs": [],
   "source": [
    "import pandas as pd "
   ]
  },
  {
   "cell_type": "code",
   "execution_count": 2,
   "metadata": {},
   "outputs": [],
   "source": [
    "data = [0.5, None, None, 0.52, 0.54, None, 0.59, 0.6, None, 0.7]"
   ]
  },
  {
   "cell_type": "code",
   "execution_count": 3,
   "metadata": {},
   "outputs": [
    {
     "output_type": "execute_result",
     "data": {
      "text/plain": [
       "0    0.50\n",
       "1     NaN\n",
       "2     NaN\n",
       "3    0.52\n",
       "4    0.54\n",
       "5     NaN\n",
       "6    0.59\n",
       "7    0.60\n",
       "8     NaN\n",
       "9    0.70\n",
       "dtype: float64"
      ]
     },
     "metadata": {},
     "execution_count": 3
    }
   ],
   "source": [
    "serie = pd.Series(data)\n",
    "serie"
   ]
  },
  {
   "cell_type": "code",
   "execution_count": 4,
   "metadata": {},
   "outputs": [
    {
     "output_type": "execute_result",
     "data": {
      "text/plain": [
       "0    0.50\n",
       "1    0.00\n",
       "2    0.00\n",
       "3    0.52\n",
       "4    0.54\n",
       "5    0.00\n",
       "6    0.59\n",
       "7    0.60\n",
       "8    0.00\n",
       "9    0.70\n",
       "dtype: float64"
      ]
     },
     "metadata": {},
     "execution_count": 4
    }
   ],
   "source": [
    "serie.fillna(0)"
   ]
  },
  {
   "cell_type": "code",
   "execution_count": 12,
   "metadata": {},
   "outputs": [],
   "source": [
    "serie_f_fill = serie.fillna(method='ffill') # top -> down"
   ]
  },
  {
   "cell_type": "code",
   "execution_count": 13,
   "metadata": {},
   "outputs": [
    {
     "output_type": "stream",
     "name": "stdout",
     "text": [
      "0    0.50\n1    0.50\n2    0.50\n3    0.52\n4    0.54\n5    0.54\n6    0.59\n7    0.60\n8    0.60\n9    0.70\ndtype: float64\n\n0    0.50\n1     NaN\n2     NaN\n3    0.52\n4    0.54\n5     NaN\n6    0.59\n7    0.60\n8     NaN\n9    0.70\ndtype: float64\n"
     ]
    }
   ],
   "source": [
    "print(serie_f_fill)\n",
    "print()\n",
    "print(serie)"
   ]
  },
  {
   "cell_type": "code",
   "execution_count": 14,
   "metadata": {},
   "outputs": [
    {
     "output_type": "stream",
     "name": "stdout",
     "text": [
      "0    0.50\n1    0.52\n2    0.52\n3    0.52\n4    0.54\n5    0.59\n6    0.59\n7    0.60\n8    0.70\n9    0.70\ndtype: float64\n\n0    0.50\n1     NaN\n2     NaN\n3    0.52\n4    0.54\n5     NaN\n6    0.59\n7    0.60\n8     NaN\n9    0.70\ndtype: float64\n"
     ]
    }
   ],
   "source": [
    "serie_b_fill = serie.fillna(method='bfill') # down -> top\n",
    "print(serie_b_fill)\n",
    "print()\n",
    "print(serie)"
   ]
  },
  {
   "cell_type": "code",
   "execution_count": 16,
   "metadata": {},
   "outputs": [
    {
     "output_type": "stream",
     "name": "stdout",
     "text": [
      "0    0.500\n1    0.575\n2    0.575\n3    0.520\n4    0.540\n5    0.575\n6    0.590\n7    0.600\n8    0.575\n9    0.700\ndtype: float64\n\n0    0.50\n1     NaN\n2     NaN\n3    0.52\n4    0.54\n5     NaN\n6    0.59\n7    0.60\n8     NaN\n9    0.70\ndtype: float64\n"
     ]
    }
   ],
   "source": [
    "serie_mean_fill = serie.fillna(serie.mean()) # média\n",
    "print(serie_mean_fill)\n",
    "print()\n",
    "print(serie)"
   ]
  },
  {
   "cell_type": "code",
   "execution_count": 18,
   "metadata": {},
   "outputs": [
    {
     "output_type": "stream",
     "name": "stdout",
     "text": [
      "0    0.50\n1    0.50\n2     NaN\n3    0.52\n4    0.54\n5    0.54\n6    0.59\n7    0.60\n8    0.60\n9    0.70\ndtype: float64\n\n0    0.50\n1     NaN\n2     NaN\n3    0.52\n4    0.54\n5     NaN\n6    0.59\n7    0.60\n8     NaN\n9    0.70\ndtype: float64\n"
     ]
    }
   ],
   "source": [
    "serie_f_fill_dois = serie.fillna(method='ffill', limit=1) # limit de cópias.\n",
    "print(serie_f_fill_dois)\n",
    "print()\n",
    "print(serie)"
   ]
  },
  {
   "cell_type": "code",
   "execution_count": 20,
   "metadata": {},
   "outputs": [
    {
     "output_type": "stream",
     "name": "stdout",
     "text": [
      "0    0.50\n1    0.50\n2    0.52\n3    0.52\n4    0.54\n5    0.54\n6    0.59\n7    0.60\n8    0.60\n9    0.70\ndtype: float64\n\n0    0.50\n1     NaN\n2     NaN\n3    0.52\n4    0.54\n5     NaN\n6    0.59\n7    0.60\n8     NaN\n9    0.70\ndtype: float64\n"
     ]
    }
   ],
   "source": [
    "serie_f_fill_tres = serie_f_fill_dois.fillna(method='bfill', limit=1) # e e b fill\n",
    "print(serie_f_fill_tres)\n",
    "print()\n",
    "print(serie)"
   ]
  },
  {
   "cell_type": "code",
   "execution_count": null,
   "metadata": {},
   "outputs": [],
   "source": []
  }
 ]
}