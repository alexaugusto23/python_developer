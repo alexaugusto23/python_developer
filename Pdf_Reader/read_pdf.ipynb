{
 "cells": [
  {
   "cell_type": "code",
   "execution_count": 1,
   "metadata": {},
   "outputs": [],
   "source": [
    "# importa as bibliotecas necessárias\n",
    "# https://pythonhosted.org/PyPDF2/\n",
    "import PyPDF2\n",
    "import re"
   ]
  },
  {
   "cell_type": "code",
   "execution_count": 2,
   "metadata": {},
   "outputs": [],
   "source": [
    "# Abre o arquivo pdf \n",
    "# lembre-se que para o windows você deve usar essa barra -> / \n",
    "# lembre-se também que você precisa colocar o caminho absoluto\n",
    "pdf_file = open('data_rotary.pdf', 'rb')\n"
   ]
  },
  {
   "cell_type": "code",
   "execution_count": 3,
   "metadata": {},
   "outputs": [
    {
     "data": {
      "text/plain": [
       "<PyPDF2.pdf.PdfFileReader at 0x21de48a20d0>"
      ]
     },
     "execution_count": 3,
     "metadata": {},
     "output_type": "execute_result"
    }
   ],
   "source": [
    "#Faz a leitura usando a biblioteca\n",
    "read_pdf = PyPDF2.PdfFileReader(pdf_file)\n",
    "read_pdf"
   ]
  },
  {
   "cell_type": "code",
   "execution_count": 4,
   "metadata": {},
   "outputs": [
    {
     "data": {
      "text/plain": [
       "57"
      ]
     },
     "execution_count": 4,
     "metadata": {},
     "output_type": "execute_result"
    }
   ],
   "source": [
    "# pega o numero de páginas\n",
    "number_of_pages = read_pdf.getNumPages()\n",
    "number_of_pages"
   ]
  },
  {
   "cell_type": "code",
   "execution_count": 12,
   "metadata": {},
   "outputs": [],
   "source": [
    "#lê a primeira página completa\n",
    "for pag in range(0,number_of_pages):\n",
    "    page = read_pdf.getPage(pag)\n",
    "    page"
   ]
  },
  {
   "cell_type": "code",
   "execution_count": 13,
   "metadata": {},
   "outputs": [
    {
     "data": {
      "text/plain": [
       "'RunDate:08-Oct-2021ROTARY INTERNATIONALDistrict 7-4440 - Club Balance ReportAs of 08-Oct-2021Historical InformationItemItemItem               Total    0-8990-179180-269270+NumberDateDescription               (US$)     Days     DaysDaysDays---------------------------------------------------------------------------------------------------------------------------------------------------------------Amounts in (parenthesis) indicate a payment/adjustment made to account.Please remind clubs to include the club number on all club payments made to Rotary International.           --------------------------------------------------------------------------------------------------------DISTRICT TOTAL (3150.07)176313.520.0013954.95             -------------------------------------------------------------------------------------------------------'"
      ]
     },
     "execution_count": 13,
     "metadata": {},
     "output_type": "execute_result"
    }
   ],
   "source": [
    "#extrai apenas o texto\n",
    "page_content = page.extractText()\n",
    "page_content"
   ]
  },
  {
   "cell_type": "code",
   "execution_count": 14,
   "metadata": {},
   "outputs": [
    {
     "data": {
      "text/plain": [
       "'RunDate:08-Oct-2021ROTARY INTERNATIONALDistrict 7-4440 - Club Balance ReportAs of 08-Oct-2021Historical InformationItemItemItem               Total    0-8990-179180-269270+NumberDateDescription               (US$)     Days     DaysDaysDays---------------------------------------------------------------------------------------------------------------------------------------------------------------Amounts in (parenthesis) indicate a payment/adjustment made to account.Please remind clubs to include the club number on all club payments made to Rotary International.           --------------------------------------------------------------------------------------------------------DISTRICT TOTAL (3150.07)176313.520.0013954.95             -------------------------------------------------------------------------------------------------------'"
      ]
     },
     "execution_count": 14,
     "metadata": {},
     "output_type": "execute_result"
    }
   ],
   "source": [
    "# faz a junção das linhas \n",
    "parsed = ''.join(page_content)\n",
    "parsed"
   ]
  },
  {
   "cell_type": "code",
   "execution_count": 15,
   "metadata": {},
   "outputs": [
    {
     "name": "stdout",
     "output_type": "stream",
     "text": [
      "Sem eliminar as quebras\n",
      "RunDate:08-Oct-2021ROTARY INTERNATIONALDistrict 7-4440 - Club Balance ReportAs of 08-Oct-2021Historical InformationItemItemItem               Total    0-8990-179180-269270+NumberDateDescription               (US$)     Days     DaysDaysDays---------------------------------------------------------------------------------------------------------------------------------------------------------------Amounts in (parenthesis) indicate a payment/adjustment made to account.Please remind clubs to include the club number on all club payments made to Rotary International.           --------------------------------------------------------------------------------------------------------DISTRICT TOTAL (3150.07)176313.520.0013954.95             -------------------------------------------------------------------------------------------------------\n"
     ]
    }
   ],
   "source": [
    "print(\"Sem eliminar as quebras\")\n",
    "print(parsed)"
   ]
  },
  {
   "cell_type": "code",
   "execution_count": 16,
   "metadata": {},
   "outputs": [
    {
     "name": "stdout",
     "output_type": "stream",
     "text": [
      "Após eliminar as quebras\n",
      "RuDate:08-Oct-2021ROTARY INTERNATIONALDistrict 7-4440 - Club Balace ReportAs of 08-Oct-2021Historical IformatioItemItemItem               Total    0-8990-179180-269270+NumberDateDescriptio               (US$)     Days     DaysDaysDays---------------------------------------------------------------------------------------------------------------------------------------------------------------Amouts i (parethesis) idicate a paymet/adjustmet made to accout.Please remid clubs to iclude the club umber o all club paymets made to Rotary Iteratioal.           --------------------------------------------------------------------------------------------------------DISTRICT TOTAL (3150.07)176313.520.0013954.95             -------------------------------------------------------------------------------------------------------\n"
     ]
    }
   ],
   "source": [
    "# remove as quebras de linha\n",
    "parsed = re.sub('n', '', parsed)\n",
    "print(\"Após eliminar as quebras\")\n",
    "print(parsed)"
   ]
  },
  {
   "cell_type": "code",
   "execution_count": 17,
   "metadata": {},
   "outputs": [
    {
     "name": "stdout",
     "output_type": "stream",
     "text": [
      "nPegando apenas as 20 primeiras posições\n",
      "RuDate:08-Oct-2021RO\n"
     ]
    }
   ],
   "source": [
    "print(\"nPegando apenas as 20 primeiras posições\")\n",
    "novastring = parsed[0:20]\n",
    "print(novastring)"
   ]
  }
 ],
 "metadata": {
  "interpreter": {
   "hash": "37d5714b4ea6c666124e5e9f794c33113a02017c263bbdd899fa45355d80942a"
  },
  "kernelspec": {
   "display_name": "Python 3.9.6 64-bit",
   "name": "python3"
  },
  "language_info": {
   "codemirror_mode": {
    "name": "ipython",
    "version": 3
   },
   "file_extension": ".py",
   "mimetype": "text/x-python",
   "name": "python",
   "nbconvert_exporter": "python",
   "pygments_lexer": "ipython3",
   "version": "3.9.6"
  },
  "orig_nbformat": 4
 },
 "nbformat": 4,
 "nbformat_minor": 2
}
