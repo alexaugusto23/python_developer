{
 "metadata": {
  "language_info": {
   "codemirror_mode": {
    "name": "ipython",
    "version": 3
   },
   "file_extension": ".py",
   "mimetype": "text/x-python",
   "name": "python",
   "nbconvert_exporter": "python",
   "pygments_lexer": "ipython3",
   "version": "3.7.5-final"
  },
  "orig_nbformat": 2,
  "kernelspec": {
   "name": "python3",
   "display_name": "Python 3.7.5 64-bit",
   "metadata": {
    "interpreter": {
     "hash": "2f4f4457f2c99eabecb8a44ff56a73b72ee854a600d04cd32d6ba5135905bba2"
    }
   }
  }
 },
 "nbformat": 4,
 "nbformat_minor": 2,
 "cells": [
  {
   "source": [
    "# Relatório de Análise II"
   ],
   "cell_type": "markdown",
   "metadata": {}
  },
  {
   "source": [
    "## Tipos de Imóveis"
   ],
   "cell_type": "markdown",
   "metadata": {}
  },
  {
   "source": [
    "import pandas as pd\n",
    "import os"
   ],
   "cell_type": "code",
   "metadata": {},
   "execution_count": 1,
   "outputs": []
  },
  {
   "cell_type": "code",
   "execution_count": 2,
   "metadata": {},
   "outputs": [],
   "source": [
    "current_path = os.getcwd()\n",
    "#print(current_path)\n",
    "#dados/aluguel.csv\n",
    "dados_seguradora = pd.read_csv(os.path.join(current_path,'dados','aluguel.csv'),sep=';')"
   ]
  },
  {
   "cell_type": "code",
   "execution_count": 3,
   "metadata": {},
   "outputs": [
    {
     "output_type": "execute_result",
     "data": {
      "text/plain": [
       "                          Tipo                Bairro  Quartos  Vagas  Suites  \\\n",
       "0                    Quitinete            Copacabana        1      0       0   \n",
       "1                         Casa       Jardim Botânico        2      0       1   \n",
       "2      Conjunto Comercial/Sala       Barra da Tijuca        0      4       0   \n",
       "3                  Apartamento                Centro        1      0       0   \n",
       "4                  Apartamento          Higienópolis        1      0       0   \n",
       "...                        ...                   ...      ...    ...     ...   \n",
       "32955                Quitinete                Centro        0      0       0   \n",
       "32956              Apartamento           Jacarepaguá        3      1       2   \n",
       "32957              Apartamento  São Francisco Xavier        2      1       0   \n",
       "32958              Apartamento                Leblon        2      0       0   \n",
       "32959  Conjunto Comercial/Sala                Centro        0      0       0   \n",
       "\n",
       "       Area   Valor  Condominio    IPTU  \n",
       "0        40  1700.0       500.0    60.0  \n",
       "1       100  7000.0         NaN     NaN  \n",
       "2       150  5200.0      4020.0  1111.0  \n",
       "3        15   800.0       390.0    20.0  \n",
       "4        48   800.0       230.0     NaN  \n",
       "...     ...     ...         ...     ...  \n",
       "32955    27   800.0       350.0    25.0  \n",
       "32956    78  1800.0       800.0    40.0  \n",
       "32957    48  1400.0       509.0    37.0  \n",
       "32958    70  3000.0       760.0     NaN  \n",
       "32959   250  6500.0      4206.0  1109.0  \n",
       "\n",
       "[32960 rows x 9 columns]"
      ],
      "text/html": "<div>\n<style scoped>\n    .dataframe tbody tr th:only-of-type {\n        vertical-align: middle;\n    }\n\n    .dataframe tbody tr th {\n        vertical-align: top;\n    }\n\n    .dataframe thead th {\n        text-align: right;\n    }\n</style>\n<table border=\"1\" class=\"dataframe\">\n  <thead>\n    <tr style=\"text-align: right;\">\n      <th></th>\n      <th>Tipo</th>\n      <th>Bairro</th>\n      <th>Quartos</th>\n      <th>Vagas</th>\n      <th>Suites</th>\n      <th>Area</th>\n      <th>Valor</th>\n      <th>Condominio</th>\n      <th>IPTU</th>\n    </tr>\n  </thead>\n  <tbody>\n    <tr>\n      <th>0</th>\n      <td>Quitinete</td>\n      <td>Copacabana</td>\n      <td>1</td>\n      <td>0</td>\n      <td>0</td>\n      <td>40</td>\n      <td>1700.0</td>\n      <td>500.0</td>\n      <td>60.0</td>\n    </tr>\n    <tr>\n      <th>1</th>\n      <td>Casa</td>\n      <td>Jardim Botânico</td>\n      <td>2</td>\n      <td>0</td>\n      <td>1</td>\n      <td>100</td>\n      <td>7000.0</td>\n      <td>NaN</td>\n      <td>NaN</td>\n    </tr>\n    <tr>\n      <th>2</th>\n      <td>Conjunto Comercial/Sala</td>\n      <td>Barra da Tijuca</td>\n      <td>0</td>\n      <td>4</td>\n      <td>0</td>\n      <td>150</td>\n      <td>5200.0</td>\n      <td>4020.0</td>\n      <td>1111.0</td>\n    </tr>\n    <tr>\n      <th>3</th>\n      <td>Apartamento</td>\n      <td>Centro</td>\n      <td>1</td>\n      <td>0</td>\n      <td>0</td>\n      <td>15</td>\n      <td>800.0</td>\n      <td>390.0</td>\n      <td>20.0</td>\n    </tr>\n    <tr>\n      <th>4</th>\n      <td>Apartamento</td>\n      <td>Higienópolis</td>\n      <td>1</td>\n      <td>0</td>\n      <td>0</td>\n      <td>48</td>\n      <td>800.0</td>\n      <td>230.0</td>\n      <td>NaN</td>\n    </tr>\n    <tr>\n      <th>...</th>\n      <td>...</td>\n      <td>...</td>\n      <td>...</td>\n      <td>...</td>\n      <td>...</td>\n      <td>...</td>\n      <td>...</td>\n      <td>...</td>\n      <td>...</td>\n    </tr>\n    <tr>\n      <th>32955</th>\n      <td>Quitinete</td>\n      <td>Centro</td>\n      <td>0</td>\n      <td>0</td>\n      <td>0</td>\n      <td>27</td>\n      <td>800.0</td>\n      <td>350.0</td>\n      <td>25.0</td>\n    </tr>\n    <tr>\n      <th>32956</th>\n      <td>Apartamento</td>\n      <td>Jacarepaguá</td>\n      <td>3</td>\n      <td>1</td>\n      <td>2</td>\n      <td>78</td>\n      <td>1800.0</td>\n      <td>800.0</td>\n      <td>40.0</td>\n    </tr>\n    <tr>\n      <th>32957</th>\n      <td>Apartamento</td>\n      <td>São Francisco Xavier</td>\n      <td>2</td>\n      <td>1</td>\n      <td>0</td>\n      <td>48</td>\n      <td>1400.0</td>\n      <td>509.0</td>\n      <td>37.0</td>\n    </tr>\n    <tr>\n      <th>32958</th>\n      <td>Apartamento</td>\n      <td>Leblon</td>\n      <td>2</td>\n      <td>0</td>\n      <td>0</td>\n      <td>70</td>\n      <td>3000.0</td>\n      <td>760.0</td>\n      <td>NaN</td>\n    </tr>\n    <tr>\n      <th>32959</th>\n      <td>Conjunto Comercial/Sala</td>\n      <td>Centro</td>\n      <td>0</td>\n      <td>0</td>\n      <td>0</td>\n      <td>250</td>\n      <td>6500.0</td>\n      <td>4206.0</td>\n      <td>1109.0</td>\n    </tr>\n  </tbody>\n</table>\n<p>32960 rows × 9 columns</p>\n</div>"
     },
     "metadata": {},
     "execution_count": 3
    }
   ],
   "source": [
    "dados_seguradora"
   ]
  },
  {
   "cell_type": "code",
   "execution_count": 4,
   "metadata": {},
   "outputs": [
    {
     "output_type": "execute_result",
     "data": {
      "text/plain": [
       "0                      Quitinete\n",
       "1                           Casa\n",
       "2        Conjunto Comercial/Sala\n",
       "3                    Apartamento\n",
       "4                    Apartamento\n",
       "                  ...           \n",
       "32955                  Quitinete\n",
       "32956                Apartamento\n",
       "32957                Apartamento\n",
       "32958                Apartamento\n",
       "32959    Conjunto Comercial/Sala\n",
       "Name: Tipo, Length: 32960, dtype: object"
      ]
     },
     "metadata": {},
     "execution_count": 4
    }
   ],
   "source": [
    "dados_seguradora['Tipo']"
   ]
  },
  {
   "cell_type": "code",
   "execution_count": 5,
   "metadata": {},
   "outputs": [
    {
     "output_type": "execute_result",
     "data": {
      "text/plain": [
       "0                      Quitinete\n",
       "1                           Casa\n",
       "2        Conjunto Comercial/Sala\n",
       "3                    Apartamento\n",
       "4                    Apartamento\n",
       "                  ...           \n",
       "32955                  Quitinete\n",
       "32956                Apartamento\n",
       "32957                Apartamento\n",
       "32958                Apartamento\n",
       "32959    Conjunto Comercial/Sala\n",
       "Name: Tipo, Length: 32960, dtype: object"
      ]
     },
     "metadata": {},
     "execution_count": 5
    }
   ],
   "source": [
    "dados_seguradora.Tipo"
   ]
  },
  {
   "cell_type": "code",
   "execution_count": 6,
   "metadata": {},
   "outputs": [],
   "source": [
    "tipo_de_imovel = dados_seguradora['Tipo']"
   ]
  },
  {
   "cell_type": "code",
   "execution_count": 7,
   "metadata": {},
   "outputs": [
    {
     "output_type": "execute_result",
     "data": {
      "text/plain": [
       "pandas.core.series.Series"
      ]
     },
     "metadata": {},
     "execution_count": 7
    }
   ],
   "source": [
    "type(tipo_de_imovel)"
   ]
  },
  {
   "source": [
    "### Tipos de Imóveis"
   ],
   "cell_type": "markdown",
   "metadata": {}
  },
  {
   "cell_type": "code",
   "execution_count": 8,
   "metadata": {},
   "outputs": [
    {
     "output_type": "execute_result",
     "data": {
      "text/plain": [
       "0                          Quitinete\n",
       "1                               Casa\n",
       "2            Conjunto Comercial/Sala\n",
       "3                        Apartamento\n",
       "7                 Casa de Condomínio\n",
       "16                    Prédio Inteiro\n",
       "17                              Flat\n",
       "29                        Loja/Salão\n",
       "80           Galpão/Depósito/Armazém\n",
       "83                    Casa Comercial\n",
       "117                     Casa de Vila\n",
       "159                   Terreno Padrão\n",
       "207                      Box/Garagem\n",
       "347                             Loft\n",
       "589      Loja Shopping/ Ct Comercial\n",
       "2157                         Chácara\n",
       "3354           Loteamento/Condomínio\n",
       "4379                           Sítio\n",
       "4721                   Pousada/Chalé\n",
       "6983                          Studio\n",
       "9687                           Hotel\n",
       "23614                      Indústria\n",
       "Name: Tipo, dtype: object"
      ]
     },
     "metadata": {},
     "execution_count": 8
    }
   ],
   "source": [
    "tipo_de_imovel_sem_duplicados = tipo_de_imovel.drop_duplicates() #faz unique duplica valoresúnicos\n",
    "tipo_de_imovel_sem_duplicados"
   ]
  },
  {
   "cell_type": "code",
   "execution_count": 9,
   "metadata": {},
   "outputs": [
    {
     "output_type": "stream",
     "name": "stdout",
     "text": [
      "tipo_de_imovel_sem_duplicados:\ncount                 22\nunique                22\ntop       Prédio Inteiro\nfreq                   1\nName: Tipo, dtype: object\n\ntipo_de_imovel:\ncount           32960\nunique             22\ntop       Apartamento\nfreq            19532\nName: Tipo, dtype: object\n"
     ]
    }
   ],
   "source": [
    "print(f\"tipo_de_imovel_sem_duplicados:\\n{tipo_de_imovel_sem_duplicados.describe()}\\n\\ntipo_de_imovel:\\n{tipo_de_imovel.describe()}\")"
   ]
  },
  {
   "source": [
    "## Organizando a Visualização"
   ],
   "cell_type": "markdown",
   "metadata": {}
  },
  {
   "cell_type": "code",
   "execution_count": 10,
   "metadata": {},
   "outputs": [],
   "source": [
    "tipo_de_imovel_sem_duplicados = pd.DataFrame(tipo_de_imovel_sem_duplicados)"
   ]
  },
  {
   "cell_type": "code",
   "execution_count": 11,
   "metadata": {},
   "outputs": [
    {
     "output_type": "execute_result",
     "data": {
      "text/plain": [
       "                              Tipo\n",
       "0                        Quitinete\n",
       "1                             Casa\n",
       "2          Conjunto Comercial/Sala\n",
       "3                      Apartamento\n",
       "7               Casa de Condomínio\n",
       "16                  Prédio Inteiro\n",
       "17                            Flat\n",
       "29                      Loja/Salão\n",
       "80         Galpão/Depósito/Armazém\n",
       "83                  Casa Comercial\n",
       "117                   Casa de Vila\n",
       "159                 Terreno Padrão\n",
       "207                    Box/Garagem\n",
       "347                           Loft\n",
       "589    Loja Shopping/ Ct Comercial\n",
       "2157                       Chácara\n",
       "3354         Loteamento/Condomínio\n",
       "4379                         Sítio\n",
       "4721                 Pousada/Chalé\n",
       "6983                        Studio\n",
       "9687                         Hotel\n",
       "23614                    Indústria"
      ],
      "text/html": "<div>\n<style scoped>\n    .dataframe tbody tr th:only-of-type {\n        vertical-align: middle;\n    }\n\n    .dataframe tbody tr th {\n        vertical-align: top;\n    }\n\n    .dataframe thead th {\n        text-align: right;\n    }\n</style>\n<table border=\"1\" class=\"dataframe\">\n  <thead>\n    <tr style=\"text-align: right;\">\n      <th></th>\n      <th>Tipo</th>\n    </tr>\n  </thead>\n  <tbody>\n    <tr>\n      <th>0</th>\n      <td>Quitinete</td>\n    </tr>\n    <tr>\n      <th>1</th>\n      <td>Casa</td>\n    </tr>\n    <tr>\n      <th>2</th>\n      <td>Conjunto Comercial/Sala</td>\n    </tr>\n    <tr>\n      <th>3</th>\n      <td>Apartamento</td>\n    </tr>\n    <tr>\n      <th>7</th>\n      <td>Casa de Condomínio</td>\n    </tr>\n    <tr>\n      <th>16</th>\n      <td>Prédio Inteiro</td>\n    </tr>\n    <tr>\n      <th>17</th>\n      <td>Flat</td>\n    </tr>\n    <tr>\n      <th>29</th>\n      <td>Loja/Salão</td>\n    </tr>\n    <tr>\n      <th>80</th>\n      <td>Galpão/Depósito/Armazém</td>\n    </tr>\n    <tr>\n      <th>83</th>\n      <td>Casa Comercial</td>\n    </tr>\n    <tr>\n      <th>117</th>\n      <td>Casa de Vila</td>\n    </tr>\n    <tr>\n      <th>159</th>\n      <td>Terreno Padrão</td>\n    </tr>\n    <tr>\n      <th>207</th>\n      <td>Box/Garagem</td>\n    </tr>\n    <tr>\n      <th>347</th>\n      <td>Loft</td>\n    </tr>\n    <tr>\n      <th>589</th>\n      <td>Loja Shopping/ Ct Comercial</td>\n    </tr>\n    <tr>\n      <th>2157</th>\n      <td>Chácara</td>\n    </tr>\n    <tr>\n      <th>3354</th>\n      <td>Loteamento/Condomínio</td>\n    </tr>\n    <tr>\n      <th>4379</th>\n      <td>Sítio</td>\n    </tr>\n    <tr>\n      <th>4721</th>\n      <td>Pousada/Chalé</td>\n    </tr>\n    <tr>\n      <th>6983</th>\n      <td>Studio</td>\n    </tr>\n    <tr>\n      <th>9687</th>\n      <td>Hotel</td>\n    </tr>\n    <tr>\n      <th>23614</th>\n      <td>Indústria</td>\n    </tr>\n  </tbody>\n</table>\n</div>"
     },
     "metadata": {},
     "execution_count": 11
    }
   ],
   "source": [
    "tipo_de_imovel_sem_duplicados"
   ]
  },
  {
   "cell_type": "code",
   "execution_count": 12,
   "metadata": {},
   "outputs": [
    {
     "output_type": "execute_result",
     "data": {
      "text/plain": [
       "Int64Index([    0,     1,     2,     3,     7,    16,    17,    29,    80,\n",
       "               83,   117,   159,   207,   347,   589,  2157,  3354,  4379,\n",
       "             4721,  6983,  9687, 23614],\n",
       "           dtype='int64')"
      ]
     },
     "metadata": {},
     "execution_count": 12
    }
   ],
   "source": [
    "tipo_de_imovel_sem_duplicados.index"
   ]
  },
  {
   "cell_type": "code",
   "execution_count": 13,
   "metadata": {},
   "outputs": [
    {
     "output_type": "execute_result",
     "data": {
      "text/plain": [
       "Tipo    22\n",
       "dtype: int64"
      ]
     },
     "metadata": {},
     "execution_count": 13
    }
   ],
   "source": [
    "tipo_de_imovel_sem_duplicados.count()"
   ]
  },
  {
   "cell_type": "code",
   "execution_count": 22,
   "metadata": {},
   "outputs": [
    {
     "output_type": "execute_result",
     "data": {
      "text/plain": [
       "(22, 1)"
      ]
     },
     "metadata": {},
     "execution_count": 22
    }
   ],
   "source": [
    "tipo_de_imovel_sem_duplicados.shape"
   ]
  },
  {
   "cell_type": "code",
   "execution_count": 14,
   "metadata": {},
   "outputs": [
    {
     "output_type": "execute_result",
     "data": {
      "text/plain": [
       "22"
      ]
     },
     "metadata": {},
     "execution_count": 14
    }
   ],
   "source": [
    "tipo_de_imovel_sem_duplicados.shape[0]"
   ]
  },
  {
   "cell_type": "code",
   "execution_count": 15,
   "metadata": {},
   "outputs": [
    {
     "output_type": "execute_result",
     "data": {
      "text/plain": [
       "22"
      ]
     },
     "metadata": {},
     "execution_count": 15
    }
   ],
   "source": [
    "len(tipo_de_imovel_sem_duplicados)"
   ]
  },
  {
   "cell_type": "code",
   "execution_count": 16,
   "metadata": {},
   "outputs": [
    {
     "output_type": "stream",
     "name": "stdout",
     "text": [
      "0\n1\n2\n3\n4\n5\n6\n7\n8\n9\n10\n11\n12\n13\n14\n15\n16\n17\n18\n19\n20\n21\n"
     ]
    }
   ],
   "source": [
    "for i in range(tipo_de_imovel_sem_duplicados.shape[0]):\n",
    "    print(i)"
   ]
  },
  {
   "cell_type": "code",
   "execution_count": 26,
   "metadata": {},
   "outputs": [
    {
     "output_type": "execute_result",
     "data": {
      "text/plain": [
       "RangeIndex(start=0, stop=22, step=1)"
      ]
     },
     "metadata": {},
     "execution_count": 26
    }
   ],
   "source": [
    "tipo_de_imovel_sem_duplicados.index = range(tipo_de_imovel_sem_duplicados.shape[0])\n",
    "tipo_de_imovel_sem_duplicados.index"
   ]
  },
  {
   "cell_type": "code",
   "execution_count": 24,
   "metadata": {},
   "outputs": [
    {
     "output_type": "execute_result",
     "data": {
      "text/plain": [
       "ìndices                         Tipo\n",
       "0                          Quitinete\n",
       "1                               Casa\n",
       "2            Conjunto Comercial/Sala\n",
       "3                        Apartamento\n",
       "4                 Casa de Condomínio\n",
       "5                     Prédio Inteiro\n",
       "6                               Flat\n",
       "7                         Loja/Salão\n",
       "8            Galpão/Depósito/Armazém\n",
       "9                     Casa Comercial\n",
       "10                      Casa de Vila\n",
       "11                    Terreno Padrão\n",
       "12                       Box/Garagem\n",
       "13                              Loft\n",
       "14       Loja Shopping/ Ct Comercial\n",
       "15                           Chácara\n",
       "16             Loteamento/Condomínio\n",
       "17                             Sítio\n",
       "18                     Pousada/Chalé\n",
       "19                            Studio\n",
       "20                             Hotel\n",
       "21                         Indústria"
      ],
      "text/html": "<div>\n<style scoped>\n    .dataframe tbody tr th:only-of-type {\n        vertical-align: middle;\n    }\n\n    .dataframe tbody tr th {\n        vertical-align: top;\n    }\n\n    .dataframe thead th {\n        text-align: right;\n    }\n</style>\n<table border=\"1\" class=\"dataframe\">\n  <thead>\n    <tr style=\"text-align: right;\">\n      <th>ìndices</th>\n      <th>Tipo</th>\n    </tr>\n  </thead>\n  <tbody>\n    <tr>\n      <th>0</th>\n      <td>Quitinete</td>\n    </tr>\n    <tr>\n      <th>1</th>\n      <td>Casa</td>\n    </tr>\n    <tr>\n      <th>2</th>\n      <td>Conjunto Comercial/Sala</td>\n    </tr>\n    <tr>\n      <th>3</th>\n      <td>Apartamento</td>\n    </tr>\n    <tr>\n      <th>4</th>\n      <td>Casa de Condomínio</td>\n    </tr>\n    <tr>\n      <th>5</th>\n      <td>Prédio Inteiro</td>\n    </tr>\n    <tr>\n      <th>6</th>\n      <td>Flat</td>\n    </tr>\n    <tr>\n      <th>7</th>\n      <td>Loja/Salão</td>\n    </tr>\n    <tr>\n      <th>8</th>\n      <td>Galpão/Depósito/Armazém</td>\n    </tr>\n    <tr>\n      <th>9</th>\n      <td>Casa Comercial</td>\n    </tr>\n    <tr>\n      <th>10</th>\n      <td>Casa de Vila</td>\n    </tr>\n    <tr>\n      <th>11</th>\n      <td>Terreno Padrão</td>\n    </tr>\n    <tr>\n      <th>12</th>\n      <td>Box/Garagem</td>\n    </tr>\n    <tr>\n      <th>13</th>\n      <td>Loft</td>\n    </tr>\n    <tr>\n      <th>14</th>\n      <td>Loja Shopping/ Ct Comercial</td>\n    </tr>\n    <tr>\n      <th>15</th>\n      <td>Chácara</td>\n    </tr>\n    <tr>\n      <th>16</th>\n      <td>Loteamento/Condomínio</td>\n    </tr>\n    <tr>\n      <th>17</th>\n      <td>Sítio</td>\n    </tr>\n    <tr>\n      <th>18</th>\n      <td>Pousada/Chalé</td>\n    </tr>\n    <tr>\n      <th>19</th>\n      <td>Studio</td>\n    </tr>\n    <tr>\n      <th>20</th>\n      <td>Hotel</td>\n    </tr>\n    <tr>\n      <th>21</th>\n      <td>Indústria</td>\n    </tr>\n  </tbody>\n</table>\n</div>"
     },
     "metadata": {},
     "execution_count": 24
    }
   ],
   "source": [
    "\n",
    "tipo_de_imovel_sem_duplicados"
   ]
  },
  {
   "cell_type": "code",
   "execution_count": 18,
   "metadata": {},
   "outputs": [],
   "source": [
    "tipo_de_imovel_sem_duplicados.columns.name = 'ìndices'"
   ]
  },
  {
   "cell_type": "code",
   "execution_count": 19,
   "metadata": {},
   "outputs": [
    {
     "output_type": "execute_result",
     "data": {
      "text/plain": [
       "ìndices                         Tipo\n",
       "0                          Quitinete\n",
       "1                               Casa\n",
       "2            Conjunto Comercial/Sala\n",
       "3                        Apartamento\n",
       "4                 Casa de Condomínio\n",
       "5                     Prédio Inteiro\n",
       "6                               Flat\n",
       "7                         Loja/Salão\n",
       "8            Galpão/Depósito/Armazém\n",
       "9                     Casa Comercial\n",
       "10                      Casa de Vila\n",
       "11                    Terreno Padrão\n",
       "12                       Box/Garagem\n",
       "13                              Loft\n",
       "14       Loja Shopping/ Ct Comercial\n",
       "15                           Chácara\n",
       "16             Loteamento/Condomínio\n",
       "17                             Sítio\n",
       "18                     Pousada/Chalé\n",
       "19                            Studio\n",
       "20                             Hotel\n",
       "21                         Indústria"
      ],
      "text/html": "<div>\n<style scoped>\n    .dataframe tbody tr th:only-of-type {\n        vertical-align: middle;\n    }\n\n    .dataframe tbody tr th {\n        vertical-align: top;\n    }\n\n    .dataframe thead th {\n        text-align: right;\n    }\n</style>\n<table border=\"1\" class=\"dataframe\">\n  <thead>\n    <tr style=\"text-align: right;\">\n      <th>ìndices</th>\n      <th>Tipo</th>\n    </tr>\n  </thead>\n  <tbody>\n    <tr>\n      <th>0</th>\n      <td>Quitinete</td>\n    </tr>\n    <tr>\n      <th>1</th>\n      <td>Casa</td>\n    </tr>\n    <tr>\n      <th>2</th>\n      <td>Conjunto Comercial/Sala</td>\n    </tr>\n    <tr>\n      <th>3</th>\n      <td>Apartamento</td>\n    </tr>\n    <tr>\n      <th>4</th>\n      <td>Casa de Condomínio</td>\n    </tr>\n    <tr>\n      <th>5</th>\n      <td>Prédio Inteiro</td>\n    </tr>\n    <tr>\n      <th>6</th>\n      <td>Flat</td>\n    </tr>\n    <tr>\n      <th>7</th>\n      <td>Loja/Salão</td>\n    </tr>\n    <tr>\n      <th>8</th>\n      <td>Galpão/Depósito/Armazém</td>\n    </tr>\n    <tr>\n      <th>9</th>\n      <td>Casa Comercial</td>\n    </tr>\n    <tr>\n      <th>10</th>\n      <td>Casa de Vila</td>\n    </tr>\n    <tr>\n      <th>11</th>\n      <td>Terreno Padrão</td>\n    </tr>\n    <tr>\n      <th>12</th>\n      <td>Box/Garagem</td>\n    </tr>\n    <tr>\n      <th>13</th>\n      <td>Loft</td>\n    </tr>\n    <tr>\n      <th>14</th>\n      <td>Loja Shopping/ Ct Comercial</td>\n    </tr>\n    <tr>\n      <th>15</th>\n      <td>Chácara</td>\n    </tr>\n    <tr>\n      <th>16</th>\n      <td>Loteamento/Condomínio</td>\n    </tr>\n    <tr>\n      <th>17</th>\n      <td>Sítio</td>\n    </tr>\n    <tr>\n      <th>18</th>\n      <td>Pousada/Chalé</td>\n    </tr>\n    <tr>\n      <th>19</th>\n      <td>Studio</td>\n    </tr>\n    <tr>\n      <th>20</th>\n      <td>Hotel</td>\n    </tr>\n    <tr>\n      <th>21</th>\n      <td>Indústria</td>\n    </tr>\n  </tbody>\n</table>\n</div>"
     },
     "metadata": {},
     "execution_count": 19
    }
   ],
   "source": [
    "tipo_de_imovel_sem_duplicados"
   ]
  }
 ]
}