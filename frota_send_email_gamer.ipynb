{
 "cells": [
  {
   "attachments": {},
   "cell_type": "markdown",
   "metadata": {},
   "source": [
    "# Pacotes"
   ]
  },
  {
   "cell_type": "code",
   "execution_count": 2,
   "metadata": {},
   "outputs": [],
   "source": [
    "import pandas as pd\n",
    "import smtplib\n",
    "\n",
    "import email.mime.multipart\n",
    "from email.mime.multipart import MIMEMultipart\n",
    "\n",
    "import email.mime.text\n",
    "from email.mime.text import MIMEText\n",
    "\n",
    "import email.mime.base\n",
    "from email.mime.base import MIMEBase\n",
    "\n",
    "from email import encoders\n",
    "\n",
    "import os "
   ]
  },
  {
   "attachments": {},
   "cell_type": "markdown",
   "metadata": {},
   "source": [
    "## Lendo Aquivo de envio"
   ]
  },
  {
   "cell_type": "code",
   "execution_count": 3,
   "metadata": {},
   "outputs": [
    {
     "data": {
      "text/html": [
       "<div>\n",
       "<style scoped>\n",
       "    .dataframe tbody tr th:only-of-type {\n",
       "        vertical-align: middle;\n",
       "    }\n",
       "\n",
       "    .dataframe tbody tr th {\n",
       "        vertical-align: top;\n",
       "    }\n",
       "\n",
       "    .dataframe thead th {\n",
       "        text-align: right;\n",
       "    }\n",
       "</style>\n",
       "<table border=\"1\" class=\"dataframe\">\n",
       "  <thead>\n",
       "    <tr style=\"text-align: right;\">\n",
       "      <th></th>\n",
       "      <th>email</th>\n",
       "      <th>placa</th>\n",
       "      <th>cpf</th>\n",
       "      <th>nota1</th>\n",
       "      <th>nota2</th>\n",
       "      <th>nota3</th>\n",
       "      <th>notafinal</th>\n",
       "    </tr>\n",
       "  </thead>\n",
       "  <tbody>\n",
       "    <tr>\n",
       "      <th>0</th>\n",
       "      <td>alexandroai@algartelecom.com.br</td>\n",
       "      <td>EXD2343</td>\n",
       "      <td>36099999951</td>\n",
       "      <td>200</td>\n",
       "      <td>300</td>\n",
       "      <td>788</td>\n",
       "      <td>1288</td>\n",
       "    </tr>\n",
       "    <tr>\n",
       "      <th>1</th>\n",
       "      <td>alexandroai@algartelecom.com.br</td>\n",
       "      <td>EXD2346</td>\n",
       "      <td>36099999952</td>\n",
       "      <td>100</td>\n",
       "      <td>300</td>\n",
       "      <td>788</td>\n",
       "      <td>1188</td>\n",
       "    </tr>\n",
       "    <tr>\n",
       "      <th>2</th>\n",
       "      <td>alexandroai@algartelecom.com.br</td>\n",
       "      <td>EAD2343</td>\n",
       "      <td>36099999953</td>\n",
       "      <td>400</td>\n",
       "      <td>300</td>\n",
       "      <td>788</td>\n",
       "      <td>1488</td>\n",
       "    </tr>\n",
       "  </tbody>\n",
       "</table>\n",
       "</div>"
      ],
      "text/plain": [
       "                             email    placa          cpf  nota1  nota2  nota3  \\\n",
       "0  alexandroai@algartelecom.com.br  EXD2343  36099999951    200    300    788   \n",
       "1  alexandroai@algartelecom.com.br  EXD2346  36099999952    100    300    788   \n",
       "2  alexandroai@algartelecom.com.br  EAD2343  36099999953    400    300    788   \n",
       "\n",
       "   notafinal  \n",
       "0       1288  \n",
       "1       1188  \n",
       "2       1488  "
      ]
     },
     "execution_count": 3,
     "metadata": {},
     "output_type": "execute_result"
    }
   ],
   "source": [
    "_df = pd.read_excel('base_master_drive.xlsx') \n",
    "_df"
   ]
  },
  {
   "cell_type": "code",
   "execution_count": 2,
   "metadata": {},
   "outputs": [
    {
     "data": {
      "text/html": [
       "<div>\n",
       "<style scoped>\n",
       "    .dataframe tbody tr th:only-of-type {\n",
       "        vertical-align: middle;\n",
       "    }\n",
       "\n",
       "    .dataframe tbody tr th {\n",
       "        vertical-align: top;\n",
       "    }\n",
       "\n",
       "    .dataframe thead th {\n",
       "        text-align: right;\n",
       "    }\n",
       "</style>\n",
       "<table border=\"1\" class=\"dataframe\">\n",
       "  <thead>\n",
       "    <tr style=\"text-align: right;\">\n",
       "      <th></th>\n",
       "      <th>email</th>\n",
       "      <th>placa</th>\n",
       "      <th>cpf</th>\n",
       "      <th>nota1</th>\n",
       "      <th>nota2</th>\n",
       "      <th>nota3</th>\n",
       "      <th>notafinal</th>\n",
       "    </tr>\n",
       "  </thead>\n",
       "  <tbody>\n",
       "    <tr>\n",
       "      <th>0</th>\n",
       "      <td>alexandroai@algartelecom.com.br</td>\n",
       "      <td>EXD2343</td>\n",
       "      <td>36099999951</td>\n",
       "      <td>200</td>\n",
       "      <td>300</td>\n",
       "      <td>788</td>\n",
       "      <td>1288</td>\n",
       "    </tr>\n",
       "    <tr>\n",
       "      <th>1</th>\n",
       "      <td>alexandroai@algartelecom.com.br</td>\n",
       "      <td>EXD2346</td>\n",
       "      <td>36099999952</td>\n",
       "      <td>100</td>\n",
       "      <td>300</td>\n",
       "      <td>788</td>\n",
       "      <td>1188</td>\n",
       "    </tr>\n",
       "    <tr>\n",
       "      <th>2</th>\n",
       "      <td>alexandroai@algartelecom.com.br</td>\n",
       "      <td>EAD2343</td>\n",
       "      <td>36099999953</td>\n",
       "      <td>400</td>\n",
       "      <td>300</td>\n",
       "      <td>788</td>\n",
       "      <td>1488</td>\n",
       "    </tr>\n",
       "  </tbody>\n",
       "</table>\n",
       "</div>"
      ],
      "text/plain": [
       "                             email    placa          cpf  nota1  nota2  nota3  \\\n",
       "0  alexandroai@algartelecom.com.br  EXD2343  36099999951    200    300    788   \n",
       "1  alexandroai@algartelecom.com.br  EXD2346  36099999952    100    300    788   \n",
       "2  alexandroai@algartelecom.com.br  EAD2343  36099999953    400    300    788   \n",
       "\n",
       "   notafinal  \n",
       "0       1288  \n",
       "1       1188  \n",
       "2       1488  "
      ]
     },
     "execution_count": 2,
     "metadata": {},
     "output_type": "execute_result"
    }
   ],
   "source": [
    "_df = pd.read_csv('base_master_drive.csv', sep=';') \n",
    "_df"
   ]
  },
  {
   "cell_type": "code",
   "execution_count": 3,
   "metadata": {},
   "outputs": [
    {
     "name": "stdout",
     "output_type": "stream",
     "text": [
      "Seu extrado é:\n",
      "alexandroai@algartelecom.com.br\n",
      "Seu extrado é:\n",
      "alexandroai@algartelecom.com.br\n",
      "Seu extrado é:\n",
      "alexandroai@algartelecom.com.br\n",
      "Seu extrado é:\n",
      "EXD2343\n",
      "Seu extrado é:\n",
      "EXD2346\n",
      "Seu extrado é:\n",
      "EAD2343\n",
      "Seu extrado é:\n",
      "36099999951\n",
      "Seu extrado é:\n",
      "36099999952\n",
      "Seu extrado é:\n",
      "36099999953\n",
      "Seu extrado é:\n",
      "200\n",
      "Seu extrado é:\n",
      "100\n",
      "Seu extrado é:\n",
      "400\n",
      "Seu extrado é:\n",
      "300\n",
      "Seu extrado é:\n",
      "300\n",
      "Seu extrado é:\n",
      "300\n",
      "Seu extrado é:\n",
      "788\n",
      "Seu extrado é:\n",
      "788\n",
      "Seu extrado é:\n",
      "788\n",
      "Seu extrado é:\n",
      "1288\n",
      "Seu extrado é:\n",
      "1188\n",
      "Seu extrado é:\n",
      "1488\n"
     ]
    }
   ],
   "source": [
    "for col in _df:\n",
    "    for i in _df.index:\n",
    "        print('Seu extrado é:')\n",
    "        print(_df[col][i])"
   ]
  },
  {
   "attachments": {},
   "cell_type": "markdown",
   "metadata": {},
   "source": [
    "## Testando Envio de email: "
   ]
  },
  {
   "attachments": {},
   "cell_type": "markdown",
   "metadata": {},
   "source": [
    "### Definição de variáveis"
   ]
  },
  {
   "cell_type": "code",
   "execution_count": 4,
   "metadata": {},
   "outputs": [],
   "source": [
    "# Define email remetente do envio e senha\n",
    "sender = '' # Origem de envio\n",
    "password = ''\n",
    "\n",
    "# Define email destinaário do envio e senha\n",
    "receivers = ['contato.alexaugusto@hotmail.com'] # tem que ser uma lista\n",
    "\n",
    "# Define outlook smtp serve host e port\n",
    "server_host = 'smtp.office365.com'\n",
    "server_port = 587"
   ]
  },
  {
   "attachments": {},
   "cell_type": "markdown",
   "metadata": {},
   "source": [
    "### Criando contexto de conteúdo do email:"
   ]
  },
  {
   "cell_type": "code",
   "execution_count": 5,
   "metadata": {},
   "outputs": [],
   "source": [
    "# Criando objeto MIMEMUltipart\n",
    "# main_msg = email.mime.multipart.MIMEMultipart()\n",
    "main_msg = MIMEMultipart()\n",
    "\n",
    "# Criando um objeto MIMEText, é o contéudo de texto do e-mail\n",
    "# text_msg = email.mime.text.MIMEText('Testando o envio de e-mail texto', 'plain')\n",
    "text_msg = MIMEText('Testando o envio de e-mail texto', 'plain')\n",
    "\n",
    "# Anexando o texto a mensagem de e-mail\n",
    "main_msg.attach(text_msg)\n",
    "\n",
    "# Criando um objeto MIMEText, é o contéudo html do e-mail\n",
    "# html_msg = email.mime.text.MIMEText('Testando o envio de e-mail html', 'html')\n",
    "html_msg = MIMEText('Testando o envio de e-mail html', 'html')\n",
    "\n",
    "# Anexando o texto a mensagem de e-mail\n",
    "main_msg.attach(html_msg)\n",
    "\n",
    "# Enviando arquivos anexo\n",
    "\n",
    "# Abre o arquivo em binary\n",
    "cam_arquivo = r'c:\\pasta\\file\\teste.py' # Caminho do arquivo\n",
    "attachment = open(cam_arquivo, 'rb') # lê o arquivo\n",
    "\n",
    "# leitura do arquivo em binary\n",
    "att = MIMEBase('application', 'octet-stream')\n",
    "att.set_payload(attachment.read())\n",
    "encoders.encode_base64(att) # encapsula na base 64\n",
    "\n",
    "# Adicionando o cabeçalho tipo anexo\n",
    "att.add_header('Content-Disposition', f'attachment; filename= teste.py')\n",
    "\n",
    "# Fecha o arquivo\n",
    "attachment.close()\n",
    "\n",
    "# anexa o arquivo\n",
    "main_msg.attach(att)\n",
    "\n"
   ]
  },
  {
   "attachments": {},
   "cell_type": "markdown",
   "metadata": {},
   "source": [
    "### Configurando envio do e-mail"
   ]
  },
  {
   "cell_type": "code",
   "execution_count": 6,
   "metadata": {},
   "outputs": [],
   "source": [
    "main_msg['From'] = sender\n",
    "main_msg['To'] = ', '.join(receivers)\n",
    "main_msg['Subject'] = 'Esse é um e-mail teste enviado do outlook'\n",
    "main_msg['Date'] = email.utils.formatdate()\n",
    "\n",
    "# Transforma conteúdo do e-mail em texto\n",
    "fullText = main_msg.as_string()"
   ]
  },
  {
   "attachments": {},
   "cell_type": "markdown",
   "metadata": {},
   "source": [
    "### Enviando E-mail"
   ]
  },
  {
   "cell_type": "code",
   "execution_count": 7,
   "metadata": {},
   "outputs": [
    {
     "ename": "SMTPAuthenticationError",
     "evalue": "(535, b'5.7.139 Authentication unsuccessful, SmtpClientAuthentication is disabled for the Tenant. Visit https://aka.ms/smtp_auth_disabled for more information. [CP5P284CA0006.BRAP284.PROD.OUTLOOK.COM 2023-03-06T11:07:12.293Z 08DB1DD3CBFB5359]')",
     "output_type": "error",
     "traceback": [
      "\u001b[1;31m---------------------------------------------------------------------------\u001b[0m",
      "\u001b[1;31mSMTPAuthenticationError\u001b[0m                   Traceback (most recent call last)",
      "Cell \u001b[1;32mIn[7], line 5\u001b[0m\n\u001b[0;32m      3\u001b[0m server\u001b[39m.\u001b[39mstarttls() \n\u001b[0;32m      4\u001b[0m \u001b[39m# server.ehlo() \u001b[39;00m\n\u001b[1;32m----> 5\u001b[0m server\u001b[39m.\u001b[39;49mlogin(sender, password) \n\u001b[0;32m      6\u001b[0m server\u001b[39m.\u001b[39msendmail(sender, receivers, fullText) \n\u001b[0;32m      7\u001b[0m \u001b[39mprint\u001b[39m(\u001b[39mf\u001b[39m\u001b[39m'\u001b[39m\u001b[39mE-mail enviado com suscesso\u001b[39m\u001b[39m'\u001b[39m)\n",
      "File \u001b[1;32mc:\\Program Files\\Python311\\Lib\\smtplib.py:750\u001b[0m, in \u001b[0;36mSMTP.login\u001b[1;34m(self, user, password, initial_response_ok)\u001b[0m\n\u001b[0;32m    747\u001b[0m         last_exception \u001b[39m=\u001b[39m e\n\u001b[0;32m    749\u001b[0m \u001b[39m# We could not login successfully.  Return result of last attempt.\u001b[39;00m\n\u001b[1;32m--> 750\u001b[0m \u001b[39mraise\u001b[39;00m last_exception\n",
      "File \u001b[1;32mc:\\Program Files\\Python311\\Lib\\smtplib.py:739\u001b[0m, in \u001b[0;36mSMTP.login\u001b[1;34m(self, user, password, initial_response_ok)\u001b[0m\n\u001b[0;32m    737\u001b[0m method_name \u001b[39m=\u001b[39m \u001b[39m'\u001b[39m\u001b[39mauth_\u001b[39m\u001b[39m'\u001b[39m \u001b[39m+\u001b[39m authmethod\u001b[39m.\u001b[39mlower()\u001b[39m.\u001b[39mreplace(\u001b[39m'\u001b[39m\u001b[39m-\u001b[39m\u001b[39m'\u001b[39m, \u001b[39m'\u001b[39m\u001b[39m_\u001b[39m\u001b[39m'\u001b[39m)\n\u001b[0;32m    738\u001b[0m \u001b[39mtry\u001b[39;00m:\n\u001b[1;32m--> 739\u001b[0m     (code, resp) \u001b[39m=\u001b[39m \u001b[39mself\u001b[39;49m\u001b[39m.\u001b[39;49mauth(\n\u001b[0;32m    740\u001b[0m         authmethod, \u001b[39mgetattr\u001b[39;49m(\u001b[39mself\u001b[39;49m, method_name),\n\u001b[0;32m    741\u001b[0m         initial_response_ok\u001b[39m=\u001b[39;49minitial_response_ok)\n\u001b[0;32m    742\u001b[0m     \u001b[39m# 235 == 'Authentication successful'\u001b[39;00m\n\u001b[0;32m    743\u001b[0m     \u001b[39m# 503 == 'Error: already authenticated'\u001b[39;00m\n\u001b[0;32m    744\u001b[0m     \u001b[39mif\u001b[39;00m code \u001b[39min\u001b[39;00m (\u001b[39m235\u001b[39m, \u001b[39m503\u001b[39m):\n",
      "File \u001b[1;32mc:\\Program Files\\Python311\\Lib\\smtplib.py:662\u001b[0m, in \u001b[0;36mSMTP.auth\u001b[1;34m(self, mechanism, authobject, initial_response_ok)\u001b[0m\n\u001b[0;32m    660\u001b[0m \u001b[39mif\u001b[39;00m code \u001b[39min\u001b[39;00m (\u001b[39m235\u001b[39m, \u001b[39m503\u001b[39m):\n\u001b[0;32m    661\u001b[0m     \u001b[39mreturn\u001b[39;00m (code, resp)\n\u001b[1;32m--> 662\u001b[0m \u001b[39mraise\u001b[39;00m SMTPAuthenticationError(code, resp)\n",
      "\u001b[1;31mSMTPAuthenticationError\u001b[0m: (535, b'5.7.139 Authentication unsuccessful, SmtpClientAuthentication is disabled for the Tenant. Visit https://aka.ms/smtp_auth_disabled for more information. [CP5P284CA0006.BRAP284.PROD.OUTLOOK.COM 2023-03-06T11:07:12.293Z 08DB1DD3CBFB5359]')"
     ]
    }
   ],
   "source": [
    "server = smtplib.SMTP(server_host, server_port)\n",
    "server.ehlo() \n",
    "server.starttls() \n",
    "\n",
    "server.login(sender, password) \n",
    "server.sendmail(sender, receivers, fullText) \n",
    "print(f'E-mail enviado com suscesso')\n",
    "server.quit() \n"
   ]
  }
 ],
 "metadata": {
  "kernelspec": {
   "display_name": "Python 3",
   "language": "python",
   "name": "python3"
  },
  "language_info": {
   "codemirror_mode": {
    "name": "ipython",
    "version": 3
   },
   "file_extension": ".py",
   "mimetype": "text/x-python",
   "name": "python",
   "nbconvert_exporter": "python",
   "pygments_lexer": "ipython3",
   "version": "3.11.2"
  },
  "orig_nbformat": 4,
  "vscode": {
   "interpreter": {
    "hash": "5238573367df39f7286bb46f9ff5f08f63a01a80960060ce41e3c79b190280fa"
   }
  }
 },
 "nbformat": 4,
 "nbformat_minor": 2
}
