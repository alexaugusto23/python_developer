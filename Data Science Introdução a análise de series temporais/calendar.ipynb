{
 "cells": [
  {
   "cell_type": "code",
   "execution_count": 9,
   "metadata": {},
   "outputs": [
    {
     "name": "stdout",
     "output_type": "stream",
     "text": [
      "   November 2020\n",
      "Mo Tu We Th Fr Sa Su\n",
      "                   1\n",
      " 2  3  4  5  6  7  8\n",
      " 9 10 11 12 13 14 15\n",
      "16 17 18 19 20 21 22\n",
      "23 24 25 26 27 28 29\n",
      "30\n",
      "\n"
     ]
    }
   ],
   "source": [
    "import calendar\n",
    "from calendar import HTMLCalendar\n",
    "cssclasses = [\"seg\", \"ter\", \"qua\", \"qui\", \"sex\", \"sab\", \"dom\"]\n",
    "calendario=calendar.month(2020,11)\n",
    "\n",
    "print(calendario)  "
   ]
  }
 ],
 "metadata": {
  "interpreter": {
   "hash": "37d5714b4ea6c666124e5e9f794c33113a02017c263bbdd899fa45355d80942a"
  },
  "kernelspec": {
   "display_name": "Python 3.9.6 64-bit",
   "name": "python3"
  },
  "language_info": {
   "codemirror_mode": {
    "name": "ipython",
    "version": 3
   },
   "file_extension": ".py",
   "mimetype": "text/x-python",
   "name": "python",
   "nbconvert_exporter": "python",
   "pygments_lexer": "ipython3",
   "version": "3.9.6"
  },
  "orig_nbformat": 4
 },
 "nbformat": 4,
 "nbformat_minor": 2
}
