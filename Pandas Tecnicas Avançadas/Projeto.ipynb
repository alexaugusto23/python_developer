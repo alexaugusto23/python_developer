{
 "cells": [
  {
   "cell_type": "markdown",
   "metadata": {
    "id": "VvKng5_devgH"
   },
   "source": [
    "# PANDAS AVANÇADO\n",
    "---"
   ]
  },
  {
   "cell_type": "markdown",
   "metadata": {
    "id": "99IUfbszevgO"
   },
   "source": [
    "# CARREGANDO OS DADOS\n",
    "---"
   ]
  },
  {
   "cell_type": "markdown",
   "metadata": {
    "id": "VYIHv0csevgP"
   },
   "source": [
    "## Configurações do projeto"
   ]
  },
  {
   "cell_type": "markdown",
   "metadata": {
    "id": "P_gXKCYpevgP"
   },
   "source": [
    "### Importando pacotes"
   ]
  },
  {
   "cell_type": "code",
   "execution_count": 1,
   "metadata": {
    "ExecuteTime": {
     "end_time": "2020-10-25T16:41:53.996410Z",
     "start_time": "2020-10-25T16:41:53.989428Z"
    },
    "id": "s-xCbXDzevgQ"
   },
   "outputs": [],
   "source": [
    "import pandas as pd \n",
    "import numpy as np\n",
    "import os"
   ]
  },
  {
   "cell_type": "code",
   "execution_count": 2,
   "metadata": {
    "ExecuteTime": {
     "end_time": "2020-10-25T16:41:54.449198Z",
     "start_time": "2020-10-25T16:41:54.436233Z"
    },
    "id": "-BWaF1-uevgQ"
   },
   "outputs": [
    {
     "data": {
      "text/plain": [
       "'1.3.2'"
      ]
     },
     "execution_count": 2,
     "metadata": {},
     "output_type": "execute_result"
    }
   ],
   "source": [
    "pd.__version__"
   ]
  },
  {
   "cell_type": "markdown",
   "metadata": {
    "id": "4S6wyakFevgQ"
   },
   "source": [
    "### Opções de configuração\n",
    "\n",
    "[Documentação](https://pandas.pydata.org/pandas-docs/stable/user_guide/options.html)"
   ]
  },
  {
   "cell_type": "code",
   "execution_count": 3,
   "metadata": {
    "id": "6UVcvI0-evgR"
   },
   "outputs": [
    {
     "data": {
      "text/plain": [
       "60"
      ]
     },
     "execution_count": 3,
     "metadata": {},
     "output_type": "execute_result"
    }
   ],
   "source": [
    "pd.get_option(\"display.max_rows\")"
   ]
  },
  {
   "cell_type": "code",
   "execution_count": 4,
   "metadata": {
    "id": "A8Nvt66tevgR"
   },
   "outputs": [
    {
     "data": {
      "text/plain": [
       "20"
      ]
     },
     "execution_count": 4,
     "metadata": {},
     "output_type": "execute_result"
    }
   ],
   "source": [
    "pd.get_option(\"display.max_columns\")"
   ]
  },
  {
   "cell_type": "markdown",
   "metadata": {
    "id": "xmP4ARNSevgR"
   },
   "source": [
    "[Opções disponíveis](https://pandas.pydata.org/pandas-docs/stable/user_guide/options.html#available-options)"
   ]
  },
  {
   "cell_type": "code",
   "execution_count": 5,
   "metadata": {
    "id": "rKUvxnvnevgS"
   },
   "outputs": [
    {
     "name": "stdout",
     "output_type": "stream",
     "text": [
      "display.max_columns : int\n",
      "    If max_cols is exceeded, switch to truncate view. Depending on\n",
      "    `large_repr`, objects are either centrally truncated or printed as\n",
      "    a summary view. 'None' value means unlimited.\n",
      "\n",
      "    In case python/IPython is running in a terminal and `large_repr`\n",
      "    equals 'truncate' this can be set to 0 and pandas will auto-detect\n",
      "    the width of the terminal and print a truncated object which fits\n",
      "    the screen width. The IPython notebook, IPython qtconsole, or IDLE\n",
      "    do not run in a terminal and hence it is not possible to do\n",
      "    correct auto-detection.\n",
      "    [default: 20] [currently: 20]\n"
     ]
    }
   ],
   "source": [
    "pd.describe_option(\"display.max_columns\")"
   ]
  },
  {
   "cell_type": "code",
   "execution_count": 6,
   "metadata": {
    "id": "Gptfp9ygevgS"
   },
   "outputs": [
    {
     "data": {
      "text/plain": [
       "array([[   0,    1,    2, ...,   97,   98,   99],\n",
       "       [ 100,  101,  102, ...,  197,  198,  199],\n",
       "       [ 200,  201,  202, ...,  297,  298,  299],\n",
       "       ...,\n",
       "       [9700, 9701, 9702, ..., 9797, 9798, 9799],\n",
       "       [9800, 9801, 9802, ..., 9897, 9898, 9899],\n",
       "       [9900, 9901, 9902, ..., 9997, 9998, 9999]])"
      ]
     },
     "execution_count": 6,
     "metadata": {},
     "output_type": "execute_result"
    }
   ],
   "source": [
    "data = np.arange(10000).reshape(100, 100)\n",
    "data"
   ]
  },
  {
   "cell_type": "code",
   "execution_count": 7,
   "metadata": {
    "id": "QIif0CPGevgS"
   },
   "outputs": [
    {
     "data": {
      "text/html": [
       "<div>\n",
       "<style scoped>\n",
       "    .dataframe tbody tr th:only-of-type {\n",
       "        vertical-align: middle;\n",
       "    }\n",
       "\n",
       "    .dataframe tbody tr th {\n",
       "        vertical-align: top;\n",
       "    }\n",
       "\n",
       "    .dataframe thead th {\n",
       "        text-align: right;\n",
       "    }\n",
       "</style>\n",
       "<table border=\"1\" class=\"dataframe\">\n",
       "  <thead>\n",
       "    <tr style=\"text-align: right;\">\n",
       "      <th></th>\n",
       "      <th>0</th>\n",
       "      <th>1</th>\n",
       "      <th>2</th>\n",
       "      <th>3</th>\n",
       "      <th>4</th>\n",
       "      <th>5</th>\n",
       "      <th>6</th>\n",
       "      <th>7</th>\n",
       "      <th>8</th>\n",
       "      <th>9</th>\n",
       "      <th>...</th>\n",
       "      <th>90</th>\n",
       "      <th>91</th>\n",
       "      <th>92</th>\n",
       "      <th>93</th>\n",
       "      <th>94</th>\n",
       "      <th>95</th>\n",
       "      <th>96</th>\n",
       "      <th>97</th>\n",
       "      <th>98</th>\n",
       "      <th>99</th>\n",
       "    </tr>\n",
       "  </thead>\n",
       "  <tbody>\n",
       "    <tr>\n",
       "      <th>0</th>\n",
       "      <td>0</td>\n",
       "      <td>1</td>\n",
       "      <td>2</td>\n",
       "      <td>3</td>\n",
       "      <td>4</td>\n",
       "      <td>5</td>\n",
       "      <td>6</td>\n",
       "      <td>7</td>\n",
       "      <td>8</td>\n",
       "      <td>9</td>\n",
       "      <td>...</td>\n",
       "      <td>90</td>\n",
       "      <td>91</td>\n",
       "      <td>92</td>\n",
       "      <td>93</td>\n",
       "      <td>94</td>\n",
       "      <td>95</td>\n",
       "      <td>96</td>\n",
       "      <td>97</td>\n",
       "      <td>98</td>\n",
       "      <td>99</td>\n",
       "    </tr>\n",
       "    <tr>\n",
       "      <th>1</th>\n",
       "      <td>100</td>\n",
       "      <td>101</td>\n",
       "      <td>102</td>\n",
       "      <td>103</td>\n",
       "      <td>104</td>\n",
       "      <td>105</td>\n",
       "      <td>106</td>\n",
       "      <td>107</td>\n",
       "      <td>108</td>\n",
       "      <td>109</td>\n",
       "      <td>...</td>\n",
       "      <td>190</td>\n",
       "      <td>191</td>\n",
       "      <td>192</td>\n",
       "      <td>193</td>\n",
       "      <td>194</td>\n",
       "      <td>195</td>\n",
       "      <td>196</td>\n",
       "      <td>197</td>\n",
       "      <td>198</td>\n",
       "      <td>199</td>\n",
       "    </tr>\n",
       "    <tr>\n",
       "      <th>2</th>\n",
       "      <td>200</td>\n",
       "      <td>201</td>\n",
       "      <td>202</td>\n",
       "      <td>203</td>\n",
       "      <td>204</td>\n",
       "      <td>205</td>\n",
       "      <td>206</td>\n",
       "      <td>207</td>\n",
       "      <td>208</td>\n",
       "      <td>209</td>\n",
       "      <td>...</td>\n",
       "      <td>290</td>\n",
       "      <td>291</td>\n",
       "      <td>292</td>\n",
       "      <td>293</td>\n",
       "      <td>294</td>\n",
       "      <td>295</td>\n",
       "      <td>296</td>\n",
       "      <td>297</td>\n",
       "      <td>298</td>\n",
       "      <td>299</td>\n",
       "    </tr>\n",
       "    <tr>\n",
       "      <th>3</th>\n",
       "      <td>300</td>\n",
       "      <td>301</td>\n",
       "      <td>302</td>\n",
       "      <td>303</td>\n",
       "      <td>304</td>\n",
       "      <td>305</td>\n",
       "      <td>306</td>\n",
       "      <td>307</td>\n",
       "      <td>308</td>\n",
       "      <td>309</td>\n",
       "      <td>...</td>\n",
       "      <td>390</td>\n",
       "      <td>391</td>\n",
       "      <td>392</td>\n",
       "      <td>393</td>\n",
       "      <td>394</td>\n",
       "      <td>395</td>\n",
       "      <td>396</td>\n",
       "      <td>397</td>\n",
       "      <td>398</td>\n",
       "      <td>399</td>\n",
       "    </tr>\n",
       "    <tr>\n",
       "      <th>4</th>\n",
       "      <td>400</td>\n",
       "      <td>401</td>\n",
       "      <td>402</td>\n",
       "      <td>403</td>\n",
       "      <td>404</td>\n",
       "      <td>405</td>\n",
       "      <td>406</td>\n",
       "      <td>407</td>\n",
       "      <td>408</td>\n",
       "      <td>409</td>\n",
       "      <td>...</td>\n",
       "      <td>490</td>\n",
       "      <td>491</td>\n",
       "      <td>492</td>\n",
       "      <td>493</td>\n",
       "      <td>494</td>\n",
       "      <td>495</td>\n",
       "      <td>496</td>\n",
       "      <td>497</td>\n",
       "      <td>498</td>\n",
       "      <td>499</td>\n",
       "    </tr>\n",
       "    <tr>\n",
       "      <th>...</th>\n",
       "      <td>...</td>\n",
       "      <td>...</td>\n",
       "      <td>...</td>\n",
       "      <td>...</td>\n",
       "      <td>...</td>\n",
       "      <td>...</td>\n",
       "      <td>...</td>\n",
       "      <td>...</td>\n",
       "      <td>...</td>\n",
       "      <td>...</td>\n",
       "      <td>...</td>\n",
       "      <td>...</td>\n",
       "      <td>...</td>\n",
       "      <td>...</td>\n",
       "      <td>...</td>\n",
       "      <td>...</td>\n",
       "      <td>...</td>\n",
       "      <td>...</td>\n",
       "      <td>...</td>\n",
       "      <td>...</td>\n",
       "      <td>...</td>\n",
       "    </tr>\n",
       "    <tr>\n",
       "      <th>95</th>\n",
       "      <td>9500</td>\n",
       "      <td>9501</td>\n",
       "      <td>9502</td>\n",
       "      <td>9503</td>\n",
       "      <td>9504</td>\n",
       "      <td>9505</td>\n",
       "      <td>9506</td>\n",
       "      <td>9507</td>\n",
       "      <td>9508</td>\n",
       "      <td>9509</td>\n",
       "      <td>...</td>\n",
       "      <td>9590</td>\n",
       "      <td>9591</td>\n",
       "      <td>9592</td>\n",
       "      <td>9593</td>\n",
       "      <td>9594</td>\n",
       "      <td>9595</td>\n",
       "      <td>9596</td>\n",
       "      <td>9597</td>\n",
       "      <td>9598</td>\n",
       "      <td>9599</td>\n",
       "    </tr>\n",
       "    <tr>\n",
       "      <th>96</th>\n",
       "      <td>9600</td>\n",
       "      <td>9601</td>\n",
       "      <td>9602</td>\n",
       "      <td>9603</td>\n",
       "      <td>9604</td>\n",
       "      <td>9605</td>\n",
       "      <td>9606</td>\n",
       "      <td>9607</td>\n",
       "      <td>9608</td>\n",
       "      <td>9609</td>\n",
       "      <td>...</td>\n",
       "      <td>9690</td>\n",
       "      <td>9691</td>\n",
       "      <td>9692</td>\n",
       "      <td>9693</td>\n",
       "      <td>9694</td>\n",
       "      <td>9695</td>\n",
       "      <td>9696</td>\n",
       "      <td>9697</td>\n",
       "      <td>9698</td>\n",
       "      <td>9699</td>\n",
       "    </tr>\n",
       "    <tr>\n",
       "      <th>97</th>\n",
       "      <td>9700</td>\n",
       "      <td>9701</td>\n",
       "      <td>9702</td>\n",
       "      <td>9703</td>\n",
       "      <td>9704</td>\n",
       "      <td>9705</td>\n",
       "      <td>9706</td>\n",
       "      <td>9707</td>\n",
       "      <td>9708</td>\n",
       "      <td>9709</td>\n",
       "      <td>...</td>\n",
       "      <td>9790</td>\n",
       "      <td>9791</td>\n",
       "      <td>9792</td>\n",
       "      <td>9793</td>\n",
       "      <td>9794</td>\n",
       "      <td>9795</td>\n",
       "      <td>9796</td>\n",
       "      <td>9797</td>\n",
       "      <td>9798</td>\n",
       "      <td>9799</td>\n",
       "    </tr>\n",
       "    <tr>\n",
       "      <th>98</th>\n",
       "      <td>9800</td>\n",
       "      <td>9801</td>\n",
       "      <td>9802</td>\n",
       "      <td>9803</td>\n",
       "      <td>9804</td>\n",
       "      <td>9805</td>\n",
       "      <td>9806</td>\n",
       "      <td>9807</td>\n",
       "      <td>9808</td>\n",
       "      <td>9809</td>\n",
       "      <td>...</td>\n",
       "      <td>9890</td>\n",
       "      <td>9891</td>\n",
       "      <td>9892</td>\n",
       "      <td>9893</td>\n",
       "      <td>9894</td>\n",
       "      <td>9895</td>\n",
       "      <td>9896</td>\n",
       "      <td>9897</td>\n",
       "      <td>9898</td>\n",
       "      <td>9899</td>\n",
       "    </tr>\n",
       "    <tr>\n",
       "      <th>99</th>\n",
       "      <td>9900</td>\n",
       "      <td>9901</td>\n",
       "      <td>9902</td>\n",
       "      <td>9903</td>\n",
       "      <td>9904</td>\n",
       "      <td>9905</td>\n",
       "      <td>9906</td>\n",
       "      <td>9907</td>\n",
       "      <td>9908</td>\n",
       "      <td>9909</td>\n",
       "      <td>...</td>\n",
       "      <td>9990</td>\n",
       "      <td>9991</td>\n",
       "      <td>9992</td>\n",
       "      <td>9993</td>\n",
       "      <td>9994</td>\n",
       "      <td>9995</td>\n",
       "      <td>9996</td>\n",
       "      <td>9997</td>\n",
       "      <td>9998</td>\n",
       "      <td>9999</td>\n",
       "    </tr>\n",
       "  </tbody>\n",
       "</table>\n",
       "<p>100 rows × 100 columns</p>\n",
       "</div>"
      ],
      "text/plain": [
       "      0     1     2     3     4     5     6     7     8     9   ...    90  \\\n",
       "0      0     1     2     3     4     5     6     7     8     9  ...    90   \n",
       "1    100   101   102   103   104   105   106   107   108   109  ...   190   \n",
       "2    200   201   202   203   204   205   206   207   208   209  ...   290   \n",
       "3    300   301   302   303   304   305   306   307   308   309  ...   390   \n",
       "4    400   401   402   403   404   405   406   407   408   409  ...   490   \n",
       "..   ...   ...   ...   ...   ...   ...   ...   ...   ...   ...  ...   ...   \n",
       "95  9500  9501  9502  9503  9504  9505  9506  9507  9508  9509  ...  9590   \n",
       "96  9600  9601  9602  9603  9604  9605  9606  9607  9608  9609  ...  9690   \n",
       "97  9700  9701  9702  9703  9704  9705  9706  9707  9708  9709  ...  9790   \n",
       "98  9800  9801  9802  9803  9804  9805  9806  9807  9808  9809  ...  9890   \n",
       "99  9900  9901  9902  9903  9904  9905  9906  9907  9908  9909  ...  9990   \n",
       "\n",
       "      91    92    93    94    95    96    97    98    99  \n",
       "0     91    92    93    94    95    96    97    98    99  \n",
       "1    191   192   193   194   195   196   197   198   199  \n",
       "2    291   292   293   294   295   296   297   298   299  \n",
       "3    391   392   393   394   395   396   397   398   399  \n",
       "4    491   492   493   494   495   496   497   498   499  \n",
       "..   ...   ...   ...   ...   ...   ...   ...   ...   ...  \n",
       "95  9591  9592  9593  9594  9595  9596  9597  9598  9599  \n",
       "96  9691  9692  9693  9694  9695  9696  9697  9698  9699  \n",
       "97  9791  9792  9793  9794  9795  9796  9797  9798  9799  \n",
       "98  9891  9892  9893  9894  9895  9896  9897  9898  9899  \n",
       "99  9991  9992  9993  9994  9995  9996  9997  9998  9999  \n",
       "\n",
       "[100 rows x 100 columns]"
      ]
     },
     "execution_count": 7,
     "metadata": {},
     "output_type": "execute_result"
    }
   ],
   "source": [
    "df = pd.DataFrame(data)\n",
    "df"
   ]
  },
  {
   "cell_type": "code",
   "execution_count": 8,
   "metadata": {
    "id": "MY69H5oEevgS"
   },
   "outputs": [],
   "source": [
    "pd.set_option(\"display.max_rows\", 1000)\n",
    "pd.set_option(\"display.max_columns\", 100)"
   ]
  },
  {
   "cell_type": "code",
   "execution_count": 9,
   "metadata": {
    "id": "I2UKn2kWevgT"
   },
   "outputs": [
    {
     "data": {
      "text/html": [
       "<div>\n",
       "<style scoped>\n",
       "    .dataframe tbody tr th:only-of-type {\n",
       "        vertical-align: middle;\n",
       "    }\n",
       "\n",
       "    .dataframe tbody tr th {\n",
       "        vertical-align: top;\n",
       "    }\n",
       "\n",
       "    .dataframe thead th {\n",
       "        text-align: right;\n",
       "    }\n",
       "</style>\n",
       "<table border=\"1\" class=\"dataframe\">\n",
       "  <thead>\n",
       "    <tr style=\"text-align: right;\">\n",
       "      <th></th>\n",
       "      <th>0</th>\n",
       "      <th>1</th>\n",
       "      <th>2</th>\n",
       "      <th>3</th>\n",
       "      <th>4</th>\n",
       "      <th>5</th>\n",
       "      <th>6</th>\n",
       "      <th>7</th>\n",
       "      <th>8</th>\n",
       "      <th>9</th>\n",
       "      <th>10</th>\n",
       "      <th>11</th>\n",
       "      <th>12</th>\n",
       "      <th>13</th>\n",
       "      <th>14</th>\n",
       "      <th>15</th>\n",
       "      <th>16</th>\n",
       "      <th>17</th>\n",
       "      <th>18</th>\n",
       "      <th>19</th>\n",
       "      <th>20</th>\n",
       "      <th>21</th>\n",
       "      <th>22</th>\n",
       "      <th>23</th>\n",
       "      <th>24</th>\n",
       "      <th>25</th>\n",
       "      <th>26</th>\n",
       "      <th>27</th>\n",
       "      <th>28</th>\n",
       "      <th>29</th>\n",
       "      <th>30</th>\n",
       "      <th>31</th>\n",
       "      <th>32</th>\n",
       "      <th>33</th>\n",
       "      <th>34</th>\n",
       "      <th>35</th>\n",
       "      <th>36</th>\n",
       "      <th>37</th>\n",
       "      <th>38</th>\n",
       "      <th>39</th>\n",
       "      <th>40</th>\n",
       "      <th>41</th>\n",
       "      <th>42</th>\n",
       "      <th>43</th>\n",
       "      <th>44</th>\n",
       "      <th>45</th>\n",
       "      <th>46</th>\n",
       "      <th>47</th>\n",
       "      <th>48</th>\n",
       "      <th>49</th>\n",
       "      <th>50</th>\n",
       "      <th>51</th>\n",
       "      <th>52</th>\n",
       "      <th>53</th>\n",
       "      <th>54</th>\n",
       "      <th>55</th>\n",
       "      <th>56</th>\n",
       "      <th>57</th>\n",
       "      <th>58</th>\n",
       "      <th>59</th>\n",
       "      <th>60</th>\n",
       "      <th>61</th>\n",
       "      <th>62</th>\n",
       "      <th>63</th>\n",
       "      <th>64</th>\n",
       "      <th>65</th>\n",
       "      <th>66</th>\n",
       "      <th>67</th>\n",
       "      <th>68</th>\n",
       "      <th>69</th>\n",
       "      <th>70</th>\n",
       "      <th>71</th>\n",
       "      <th>72</th>\n",
       "      <th>73</th>\n",
       "      <th>74</th>\n",
       "      <th>75</th>\n",
       "      <th>76</th>\n",
       "      <th>77</th>\n",
       "      <th>78</th>\n",
       "      <th>79</th>\n",
       "      <th>80</th>\n",
       "      <th>81</th>\n",
       "      <th>82</th>\n",
       "      <th>83</th>\n",
       "      <th>84</th>\n",
       "      <th>85</th>\n",
       "      <th>86</th>\n",
       "      <th>87</th>\n",
       "      <th>88</th>\n",
       "      <th>89</th>\n",
       "      <th>90</th>\n",
       "      <th>91</th>\n",
       "      <th>92</th>\n",
       "      <th>93</th>\n",
       "      <th>94</th>\n",
       "      <th>95</th>\n",
       "      <th>96</th>\n",
       "      <th>97</th>\n",
       "      <th>98</th>\n",
       "      <th>99</th>\n",
       "    </tr>\n",
       "  </thead>\n",
       "  <tbody>\n",
       "    <tr>\n",
       "      <th>90</th>\n",
       "      <td>9000</td>\n",
       "      <td>9001</td>\n",
       "      <td>9002</td>\n",
       "      <td>9003</td>\n",
       "      <td>9004</td>\n",
       "      <td>9005</td>\n",
       "      <td>9006</td>\n",
       "      <td>9007</td>\n",
       "      <td>9008</td>\n",
       "      <td>9009</td>\n",
       "      <td>9010</td>\n",
       "      <td>9011</td>\n",
       "      <td>9012</td>\n",
       "      <td>9013</td>\n",
       "      <td>9014</td>\n",
       "      <td>9015</td>\n",
       "      <td>9016</td>\n",
       "      <td>9017</td>\n",
       "      <td>9018</td>\n",
       "      <td>9019</td>\n",
       "      <td>9020</td>\n",
       "      <td>9021</td>\n",
       "      <td>9022</td>\n",
       "      <td>9023</td>\n",
       "      <td>9024</td>\n",
       "      <td>9025</td>\n",
       "      <td>9026</td>\n",
       "      <td>9027</td>\n",
       "      <td>9028</td>\n",
       "      <td>9029</td>\n",
       "      <td>9030</td>\n",
       "      <td>9031</td>\n",
       "      <td>9032</td>\n",
       "      <td>9033</td>\n",
       "      <td>9034</td>\n",
       "      <td>9035</td>\n",
       "      <td>9036</td>\n",
       "      <td>9037</td>\n",
       "      <td>9038</td>\n",
       "      <td>9039</td>\n",
       "      <td>9040</td>\n",
       "      <td>9041</td>\n",
       "      <td>9042</td>\n",
       "      <td>9043</td>\n",
       "      <td>9044</td>\n",
       "      <td>9045</td>\n",
       "      <td>9046</td>\n",
       "      <td>9047</td>\n",
       "      <td>9048</td>\n",
       "      <td>9049</td>\n",
       "      <td>9050</td>\n",
       "      <td>9051</td>\n",
       "      <td>9052</td>\n",
       "      <td>9053</td>\n",
       "      <td>9054</td>\n",
       "      <td>9055</td>\n",
       "      <td>9056</td>\n",
       "      <td>9057</td>\n",
       "      <td>9058</td>\n",
       "      <td>9059</td>\n",
       "      <td>9060</td>\n",
       "      <td>9061</td>\n",
       "      <td>9062</td>\n",
       "      <td>9063</td>\n",
       "      <td>9064</td>\n",
       "      <td>9065</td>\n",
       "      <td>9066</td>\n",
       "      <td>9067</td>\n",
       "      <td>9068</td>\n",
       "      <td>9069</td>\n",
       "      <td>9070</td>\n",
       "      <td>9071</td>\n",
       "      <td>9072</td>\n",
       "      <td>9073</td>\n",
       "      <td>9074</td>\n",
       "      <td>9075</td>\n",
       "      <td>9076</td>\n",
       "      <td>9077</td>\n",
       "      <td>9078</td>\n",
       "      <td>9079</td>\n",
       "      <td>9080</td>\n",
       "      <td>9081</td>\n",
       "      <td>9082</td>\n",
       "      <td>9083</td>\n",
       "      <td>9084</td>\n",
       "      <td>9085</td>\n",
       "      <td>9086</td>\n",
       "      <td>9087</td>\n",
       "      <td>9088</td>\n",
       "      <td>9089</td>\n",
       "      <td>9090</td>\n",
       "      <td>9091</td>\n",
       "      <td>9092</td>\n",
       "      <td>9093</td>\n",
       "      <td>9094</td>\n",
       "      <td>9095</td>\n",
       "      <td>9096</td>\n",
       "      <td>9097</td>\n",
       "      <td>9098</td>\n",
       "      <td>9099</td>\n",
       "    </tr>\n",
       "    <tr>\n",
       "      <th>91</th>\n",
       "      <td>9100</td>\n",
       "      <td>9101</td>\n",
       "      <td>9102</td>\n",
       "      <td>9103</td>\n",
       "      <td>9104</td>\n",
       "      <td>9105</td>\n",
       "      <td>9106</td>\n",
       "      <td>9107</td>\n",
       "      <td>9108</td>\n",
       "      <td>9109</td>\n",
       "      <td>9110</td>\n",
       "      <td>9111</td>\n",
       "      <td>9112</td>\n",
       "      <td>9113</td>\n",
       "      <td>9114</td>\n",
       "      <td>9115</td>\n",
       "      <td>9116</td>\n",
       "      <td>9117</td>\n",
       "      <td>9118</td>\n",
       "      <td>9119</td>\n",
       "      <td>9120</td>\n",
       "      <td>9121</td>\n",
       "      <td>9122</td>\n",
       "      <td>9123</td>\n",
       "      <td>9124</td>\n",
       "      <td>9125</td>\n",
       "      <td>9126</td>\n",
       "      <td>9127</td>\n",
       "      <td>9128</td>\n",
       "      <td>9129</td>\n",
       "      <td>9130</td>\n",
       "      <td>9131</td>\n",
       "      <td>9132</td>\n",
       "      <td>9133</td>\n",
       "      <td>9134</td>\n",
       "      <td>9135</td>\n",
       "      <td>9136</td>\n",
       "      <td>9137</td>\n",
       "      <td>9138</td>\n",
       "      <td>9139</td>\n",
       "      <td>9140</td>\n",
       "      <td>9141</td>\n",
       "      <td>9142</td>\n",
       "      <td>9143</td>\n",
       "      <td>9144</td>\n",
       "      <td>9145</td>\n",
       "      <td>9146</td>\n",
       "      <td>9147</td>\n",
       "      <td>9148</td>\n",
       "      <td>9149</td>\n",
       "      <td>9150</td>\n",
       "      <td>9151</td>\n",
       "      <td>9152</td>\n",
       "      <td>9153</td>\n",
       "      <td>9154</td>\n",
       "      <td>9155</td>\n",
       "      <td>9156</td>\n",
       "      <td>9157</td>\n",
       "      <td>9158</td>\n",
       "      <td>9159</td>\n",
       "      <td>9160</td>\n",
       "      <td>9161</td>\n",
       "      <td>9162</td>\n",
       "      <td>9163</td>\n",
       "      <td>9164</td>\n",
       "      <td>9165</td>\n",
       "      <td>9166</td>\n",
       "      <td>9167</td>\n",
       "      <td>9168</td>\n",
       "      <td>9169</td>\n",
       "      <td>9170</td>\n",
       "      <td>9171</td>\n",
       "      <td>9172</td>\n",
       "      <td>9173</td>\n",
       "      <td>9174</td>\n",
       "      <td>9175</td>\n",
       "      <td>9176</td>\n",
       "      <td>9177</td>\n",
       "      <td>9178</td>\n",
       "      <td>9179</td>\n",
       "      <td>9180</td>\n",
       "      <td>9181</td>\n",
       "      <td>9182</td>\n",
       "      <td>9183</td>\n",
       "      <td>9184</td>\n",
       "      <td>9185</td>\n",
       "      <td>9186</td>\n",
       "      <td>9187</td>\n",
       "      <td>9188</td>\n",
       "      <td>9189</td>\n",
       "      <td>9190</td>\n",
       "      <td>9191</td>\n",
       "      <td>9192</td>\n",
       "      <td>9193</td>\n",
       "      <td>9194</td>\n",
       "      <td>9195</td>\n",
       "      <td>9196</td>\n",
       "      <td>9197</td>\n",
       "      <td>9198</td>\n",
       "      <td>9199</td>\n",
       "    </tr>\n",
       "    <tr>\n",
       "      <th>92</th>\n",
       "      <td>9200</td>\n",
       "      <td>9201</td>\n",
       "      <td>9202</td>\n",
       "      <td>9203</td>\n",
       "      <td>9204</td>\n",
       "      <td>9205</td>\n",
       "      <td>9206</td>\n",
       "      <td>9207</td>\n",
       "      <td>9208</td>\n",
       "      <td>9209</td>\n",
       "      <td>9210</td>\n",
       "      <td>9211</td>\n",
       "      <td>9212</td>\n",
       "      <td>9213</td>\n",
       "      <td>9214</td>\n",
       "      <td>9215</td>\n",
       "      <td>9216</td>\n",
       "      <td>9217</td>\n",
       "      <td>9218</td>\n",
       "      <td>9219</td>\n",
       "      <td>9220</td>\n",
       "      <td>9221</td>\n",
       "      <td>9222</td>\n",
       "      <td>9223</td>\n",
       "      <td>9224</td>\n",
       "      <td>9225</td>\n",
       "      <td>9226</td>\n",
       "      <td>9227</td>\n",
       "      <td>9228</td>\n",
       "      <td>9229</td>\n",
       "      <td>9230</td>\n",
       "      <td>9231</td>\n",
       "      <td>9232</td>\n",
       "      <td>9233</td>\n",
       "      <td>9234</td>\n",
       "      <td>9235</td>\n",
       "      <td>9236</td>\n",
       "      <td>9237</td>\n",
       "      <td>9238</td>\n",
       "      <td>9239</td>\n",
       "      <td>9240</td>\n",
       "      <td>9241</td>\n",
       "      <td>9242</td>\n",
       "      <td>9243</td>\n",
       "      <td>9244</td>\n",
       "      <td>9245</td>\n",
       "      <td>9246</td>\n",
       "      <td>9247</td>\n",
       "      <td>9248</td>\n",
       "      <td>9249</td>\n",
       "      <td>9250</td>\n",
       "      <td>9251</td>\n",
       "      <td>9252</td>\n",
       "      <td>9253</td>\n",
       "      <td>9254</td>\n",
       "      <td>9255</td>\n",
       "      <td>9256</td>\n",
       "      <td>9257</td>\n",
       "      <td>9258</td>\n",
       "      <td>9259</td>\n",
       "      <td>9260</td>\n",
       "      <td>9261</td>\n",
       "      <td>9262</td>\n",
       "      <td>9263</td>\n",
       "      <td>9264</td>\n",
       "      <td>9265</td>\n",
       "      <td>9266</td>\n",
       "      <td>9267</td>\n",
       "      <td>9268</td>\n",
       "      <td>9269</td>\n",
       "      <td>9270</td>\n",
       "      <td>9271</td>\n",
       "      <td>9272</td>\n",
       "      <td>9273</td>\n",
       "      <td>9274</td>\n",
       "      <td>9275</td>\n",
       "      <td>9276</td>\n",
       "      <td>9277</td>\n",
       "      <td>9278</td>\n",
       "      <td>9279</td>\n",
       "      <td>9280</td>\n",
       "      <td>9281</td>\n",
       "      <td>9282</td>\n",
       "      <td>9283</td>\n",
       "      <td>9284</td>\n",
       "      <td>9285</td>\n",
       "      <td>9286</td>\n",
       "      <td>9287</td>\n",
       "      <td>9288</td>\n",
       "      <td>9289</td>\n",
       "      <td>9290</td>\n",
       "      <td>9291</td>\n",
       "      <td>9292</td>\n",
       "      <td>9293</td>\n",
       "      <td>9294</td>\n",
       "      <td>9295</td>\n",
       "      <td>9296</td>\n",
       "      <td>9297</td>\n",
       "      <td>9298</td>\n",
       "      <td>9299</td>\n",
       "    </tr>\n",
       "    <tr>\n",
       "      <th>93</th>\n",
       "      <td>9300</td>\n",
       "      <td>9301</td>\n",
       "      <td>9302</td>\n",
       "      <td>9303</td>\n",
       "      <td>9304</td>\n",
       "      <td>9305</td>\n",
       "      <td>9306</td>\n",
       "      <td>9307</td>\n",
       "      <td>9308</td>\n",
       "      <td>9309</td>\n",
       "      <td>9310</td>\n",
       "      <td>9311</td>\n",
       "      <td>9312</td>\n",
       "      <td>9313</td>\n",
       "      <td>9314</td>\n",
       "      <td>9315</td>\n",
       "      <td>9316</td>\n",
       "      <td>9317</td>\n",
       "      <td>9318</td>\n",
       "      <td>9319</td>\n",
       "      <td>9320</td>\n",
       "      <td>9321</td>\n",
       "      <td>9322</td>\n",
       "      <td>9323</td>\n",
       "      <td>9324</td>\n",
       "      <td>9325</td>\n",
       "      <td>9326</td>\n",
       "      <td>9327</td>\n",
       "      <td>9328</td>\n",
       "      <td>9329</td>\n",
       "      <td>9330</td>\n",
       "      <td>9331</td>\n",
       "      <td>9332</td>\n",
       "      <td>9333</td>\n",
       "      <td>9334</td>\n",
       "      <td>9335</td>\n",
       "      <td>9336</td>\n",
       "      <td>9337</td>\n",
       "      <td>9338</td>\n",
       "      <td>9339</td>\n",
       "      <td>9340</td>\n",
       "      <td>9341</td>\n",
       "      <td>9342</td>\n",
       "      <td>9343</td>\n",
       "      <td>9344</td>\n",
       "      <td>9345</td>\n",
       "      <td>9346</td>\n",
       "      <td>9347</td>\n",
       "      <td>9348</td>\n",
       "      <td>9349</td>\n",
       "      <td>9350</td>\n",
       "      <td>9351</td>\n",
       "      <td>9352</td>\n",
       "      <td>9353</td>\n",
       "      <td>9354</td>\n",
       "      <td>9355</td>\n",
       "      <td>9356</td>\n",
       "      <td>9357</td>\n",
       "      <td>9358</td>\n",
       "      <td>9359</td>\n",
       "      <td>9360</td>\n",
       "      <td>9361</td>\n",
       "      <td>9362</td>\n",
       "      <td>9363</td>\n",
       "      <td>9364</td>\n",
       "      <td>9365</td>\n",
       "      <td>9366</td>\n",
       "      <td>9367</td>\n",
       "      <td>9368</td>\n",
       "      <td>9369</td>\n",
       "      <td>9370</td>\n",
       "      <td>9371</td>\n",
       "      <td>9372</td>\n",
       "      <td>9373</td>\n",
       "      <td>9374</td>\n",
       "      <td>9375</td>\n",
       "      <td>9376</td>\n",
       "      <td>9377</td>\n",
       "      <td>9378</td>\n",
       "      <td>9379</td>\n",
       "      <td>9380</td>\n",
       "      <td>9381</td>\n",
       "      <td>9382</td>\n",
       "      <td>9383</td>\n",
       "      <td>9384</td>\n",
       "      <td>9385</td>\n",
       "      <td>9386</td>\n",
       "      <td>9387</td>\n",
       "      <td>9388</td>\n",
       "      <td>9389</td>\n",
       "      <td>9390</td>\n",
       "      <td>9391</td>\n",
       "      <td>9392</td>\n",
       "      <td>9393</td>\n",
       "      <td>9394</td>\n",
       "      <td>9395</td>\n",
       "      <td>9396</td>\n",
       "      <td>9397</td>\n",
       "      <td>9398</td>\n",
       "      <td>9399</td>\n",
       "    </tr>\n",
       "    <tr>\n",
       "      <th>94</th>\n",
       "      <td>9400</td>\n",
       "      <td>9401</td>\n",
       "      <td>9402</td>\n",
       "      <td>9403</td>\n",
       "      <td>9404</td>\n",
       "      <td>9405</td>\n",
       "      <td>9406</td>\n",
       "      <td>9407</td>\n",
       "      <td>9408</td>\n",
       "      <td>9409</td>\n",
       "      <td>9410</td>\n",
       "      <td>9411</td>\n",
       "      <td>9412</td>\n",
       "      <td>9413</td>\n",
       "      <td>9414</td>\n",
       "      <td>9415</td>\n",
       "      <td>9416</td>\n",
       "      <td>9417</td>\n",
       "      <td>9418</td>\n",
       "      <td>9419</td>\n",
       "      <td>9420</td>\n",
       "      <td>9421</td>\n",
       "      <td>9422</td>\n",
       "      <td>9423</td>\n",
       "      <td>9424</td>\n",
       "      <td>9425</td>\n",
       "      <td>9426</td>\n",
       "      <td>9427</td>\n",
       "      <td>9428</td>\n",
       "      <td>9429</td>\n",
       "      <td>9430</td>\n",
       "      <td>9431</td>\n",
       "      <td>9432</td>\n",
       "      <td>9433</td>\n",
       "      <td>9434</td>\n",
       "      <td>9435</td>\n",
       "      <td>9436</td>\n",
       "      <td>9437</td>\n",
       "      <td>9438</td>\n",
       "      <td>9439</td>\n",
       "      <td>9440</td>\n",
       "      <td>9441</td>\n",
       "      <td>9442</td>\n",
       "      <td>9443</td>\n",
       "      <td>9444</td>\n",
       "      <td>9445</td>\n",
       "      <td>9446</td>\n",
       "      <td>9447</td>\n",
       "      <td>9448</td>\n",
       "      <td>9449</td>\n",
       "      <td>9450</td>\n",
       "      <td>9451</td>\n",
       "      <td>9452</td>\n",
       "      <td>9453</td>\n",
       "      <td>9454</td>\n",
       "      <td>9455</td>\n",
       "      <td>9456</td>\n",
       "      <td>9457</td>\n",
       "      <td>9458</td>\n",
       "      <td>9459</td>\n",
       "      <td>9460</td>\n",
       "      <td>9461</td>\n",
       "      <td>9462</td>\n",
       "      <td>9463</td>\n",
       "      <td>9464</td>\n",
       "      <td>9465</td>\n",
       "      <td>9466</td>\n",
       "      <td>9467</td>\n",
       "      <td>9468</td>\n",
       "      <td>9469</td>\n",
       "      <td>9470</td>\n",
       "      <td>9471</td>\n",
       "      <td>9472</td>\n",
       "      <td>9473</td>\n",
       "      <td>9474</td>\n",
       "      <td>9475</td>\n",
       "      <td>9476</td>\n",
       "      <td>9477</td>\n",
       "      <td>9478</td>\n",
       "      <td>9479</td>\n",
       "      <td>9480</td>\n",
       "      <td>9481</td>\n",
       "      <td>9482</td>\n",
       "      <td>9483</td>\n",
       "      <td>9484</td>\n",
       "      <td>9485</td>\n",
       "      <td>9486</td>\n",
       "      <td>9487</td>\n",
       "      <td>9488</td>\n",
       "      <td>9489</td>\n",
       "      <td>9490</td>\n",
       "      <td>9491</td>\n",
       "      <td>9492</td>\n",
       "      <td>9493</td>\n",
       "      <td>9494</td>\n",
       "      <td>9495</td>\n",
       "      <td>9496</td>\n",
       "      <td>9497</td>\n",
       "      <td>9498</td>\n",
       "      <td>9499</td>\n",
       "    </tr>\n",
       "    <tr>\n",
       "      <th>95</th>\n",
       "      <td>9500</td>\n",
       "      <td>9501</td>\n",
       "      <td>9502</td>\n",
       "      <td>9503</td>\n",
       "      <td>9504</td>\n",
       "      <td>9505</td>\n",
       "      <td>9506</td>\n",
       "      <td>9507</td>\n",
       "      <td>9508</td>\n",
       "      <td>9509</td>\n",
       "      <td>9510</td>\n",
       "      <td>9511</td>\n",
       "      <td>9512</td>\n",
       "      <td>9513</td>\n",
       "      <td>9514</td>\n",
       "      <td>9515</td>\n",
       "      <td>9516</td>\n",
       "      <td>9517</td>\n",
       "      <td>9518</td>\n",
       "      <td>9519</td>\n",
       "      <td>9520</td>\n",
       "      <td>9521</td>\n",
       "      <td>9522</td>\n",
       "      <td>9523</td>\n",
       "      <td>9524</td>\n",
       "      <td>9525</td>\n",
       "      <td>9526</td>\n",
       "      <td>9527</td>\n",
       "      <td>9528</td>\n",
       "      <td>9529</td>\n",
       "      <td>9530</td>\n",
       "      <td>9531</td>\n",
       "      <td>9532</td>\n",
       "      <td>9533</td>\n",
       "      <td>9534</td>\n",
       "      <td>9535</td>\n",
       "      <td>9536</td>\n",
       "      <td>9537</td>\n",
       "      <td>9538</td>\n",
       "      <td>9539</td>\n",
       "      <td>9540</td>\n",
       "      <td>9541</td>\n",
       "      <td>9542</td>\n",
       "      <td>9543</td>\n",
       "      <td>9544</td>\n",
       "      <td>9545</td>\n",
       "      <td>9546</td>\n",
       "      <td>9547</td>\n",
       "      <td>9548</td>\n",
       "      <td>9549</td>\n",
       "      <td>9550</td>\n",
       "      <td>9551</td>\n",
       "      <td>9552</td>\n",
       "      <td>9553</td>\n",
       "      <td>9554</td>\n",
       "      <td>9555</td>\n",
       "      <td>9556</td>\n",
       "      <td>9557</td>\n",
       "      <td>9558</td>\n",
       "      <td>9559</td>\n",
       "      <td>9560</td>\n",
       "      <td>9561</td>\n",
       "      <td>9562</td>\n",
       "      <td>9563</td>\n",
       "      <td>9564</td>\n",
       "      <td>9565</td>\n",
       "      <td>9566</td>\n",
       "      <td>9567</td>\n",
       "      <td>9568</td>\n",
       "      <td>9569</td>\n",
       "      <td>9570</td>\n",
       "      <td>9571</td>\n",
       "      <td>9572</td>\n",
       "      <td>9573</td>\n",
       "      <td>9574</td>\n",
       "      <td>9575</td>\n",
       "      <td>9576</td>\n",
       "      <td>9577</td>\n",
       "      <td>9578</td>\n",
       "      <td>9579</td>\n",
       "      <td>9580</td>\n",
       "      <td>9581</td>\n",
       "      <td>9582</td>\n",
       "      <td>9583</td>\n",
       "      <td>9584</td>\n",
       "      <td>9585</td>\n",
       "      <td>9586</td>\n",
       "      <td>9587</td>\n",
       "      <td>9588</td>\n",
       "      <td>9589</td>\n",
       "      <td>9590</td>\n",
       "      <td>9591</td>\n",
       "      <td>9592</td>\n",
       "      <td>9593</td>\n",
       "      <td>9594</td>\n",
       "      <td>9595</td>\n",
       "      <td>9596</td>\n",
       "      <td>9597</td>\n",
       "      <td>9598</td>\n",
       "      <td>9599</td>\n",
       "    </tr>\n",
       "    <tr>\n",
       "      <th>96</th>\n",
       "      <td>9600</td>\n",
       "      <td>9601</td>\n",
       "      <td>9602</td>\n",
       "      <td>9603</td>\n",
       "      <td>9604</td>\n",
       "      <td>9605</td>\n",
       "      <td>9606</td>\n",
       "      <td>9607</td>\n",
       "      <td>9608</td>\n",
       "      <td>9609</td>\n",
       "      <td>9610</td>\n",
       "      <td>9611</td>\n",
       "      <td>9612</td>\n",
       "      <td>9613</td>\n",
       "      <td>9614</td>\n",
       "      <td>9615</td>\n",
       "      <td>9616</td>\n",
       "      <td>9617</td>\n",
       "      <td>9618</td>\n",
       "      <td>9619</td>\n",
       "      <td>9620</td>\n",
       "      <td>9621</td>\n",
       "      <td>9622</td>\n",
       "      <td>9623</td>\n",
       "      <td>9624</td>\n",
       "      <td>9625</td>\n",
       "      <td>9626</td>\n",
       "      <td>9627</td>\n",
       "      <td>9628</td>\n",
       "      <td>9629</td>\n",
       "      <td>9630</td>\n",
       "      <td>9631</td>\n",
       "      <td>9632</td>\n",
       "      <td>9633</td>\n",
       "      <td>9634</td>\n",
       "      <td>9635</td>\n",
       "      <td>9636</td>\n",
       "      <td>9637</td>\n",
       "      <td>9638</td>\n",
       "      <td>9639</td>\n",
       "      <td>9640</td>\n",
       "      <td>9641</td>\n",
       "      <td>9642</td>\n",
       "      <td>9643</td>\n",
       "      <td>9644</td>\n",
       "      <td>9645</td>\n",
       "      <td>9646</td>\n",
       "      <td>9647</td>\n",
       "      <td>9648</td>\n",
       "      <td>9649</td>\n",
       "      <td>9650</td>\n",
       "      <td>9651</td>\n",
       "      <td>9652</td>\n",
       "      <td>9653</td>\n",
       "      <td>9654</td>\n",
       "      <td>9655</td>\n",
       "      <td>9656</td>\n",
       "      <td>9657</td>\n",
       "      <td>9658</td>\n",
       "      <td>9659</td>\n",
       "      <td>9660</td>\n",
       "      <td>9661</td>\n",
       "      <td>9662</td>\n",
       "      <td>9663</td>\n",
       "      <td>9664</td>\n",
       "      <td>9665</td>\n",
       "      <td>9666</td>\n",
       "      <td>9667</td>\n",
       "      <td>9668</td>\n",
       "      <td>9669</td>\n",
       "      <td>9670</td>\n",
       "      <td>9671</td>\n",
       "      <td>9672</td>\n",
       "      <td>9673</td>\n",
       "      <td>9674</td>\n",
       "      <td>9675</td>\n",
       "      <td>9676</td>\n",
       "      <td>9677</td>\n",
       "      <td>9678</td>\n",
       "      <td>9679</td>\n",
       "      <td>9680</td>\n",
       "      <td>9681</td>\n",
       "      <td>9682</td>\n",
       "      <td>9683</td>\n",
       "      <td>9684</td>\n",
       "      <td>9685</td>\n",
       "      <td>9686</td>\n",
       "      <td>9687</td>\n",
       "      <td>9688</td>\n",
       "      <td>9689</td>\n",
       "      <td>9690</td>\n",
       "      <td>9691</td>\n",
       "      <td>9692</td>\n",
       "      <td>9693</td>\n",
       "      <td>9694</td>\n",
       "      <td>9695</td>\n",
       "      <td>9696</td>\n",
       "      <td>9697</td>\n",
       "      <td>9698</td>\n",
       "      <td>9699</td>\n",
       "    </tr>\n",
       "    <tr>\n",
       "      <th>97</th>\n",
       "      <td>9700</td>\n",
       "      <td>9701</td>\n",
       "      <td>9702</td>\n",
       "      <td>9703</td>\n",
       "      <td>9704</td>\n",
       "      <td>9705</td>\n",
       "      <td>9706</td>\n",
       "      <td>9707</td>\n",
       "      <td>9708</td>\n",
       "      <td>9709</td>\n",
       "      <td>9710</td>\n",
       "      <td>9711</td>\n",
       "      <td>9712</td>\n",
       "      <td>9713</td>\n",
       "      <td>9714</td>\n",
       "      <td>9715</td>\n",
       "      <td>9716</td>\n",
       "      <td>9717</td>\n",
       "      <td>9718</td>\n",
       "      <td>9719</td>\n",
       "      <td>9720</td>\n",
       "      <td>9721</td>\n",
       "      <td>9722</td>\n",
       "      <td>9723</td>\n",
       "      <td>9724</td>\n",
       "      <td>9725</td>\n",
       "      <td>9726</td>\n",
       "      <td>9727</td>\n",
       "      <td>9728</td>\n",
       "      <td>9729</td>\n",
       "      <td>9730</td>\n",
       "      <td>9731</td>\n",
       "      <td>9732</td>\n",
       "      <td>9733</td>\n",
       "      <td>9734</td>\n",
       "      <td>9735</td>\n",
       "      <td>9736</td>\n",
       "      <td>9737</td>\n",
       "      <td>9738</td>\n",
       "      <td>9739</td>\n",
       "      <td>9740</td>\n",
       "      <td>9741</td>\n",
       "      <td>9742</td>\n",
       "      <td>9743</td>\n",
       "      <td>9744</td>\n",
       "      <td>9745</td>\n",
       "      <td>9746</td>\n",
       "      <td>9747</td>\n",
       "      <td>9748</td>\n",
       "      <td>9749</td>\n",
       "      <td>9750</td>\n",
       "      <td>9751</td>\n",
       "      <td>9752</td>\n",
       "      <td>9753</td>\n",
       "      <td>9754</td>\n",
       "      <td>9755</td>\n",
       "      <td>9756</td>\n",
       "      <td>9757</td>\n",
       "      <td>9758</td>\n",
       "      <td>9759</td>\n",
       "      <td>9760</td>\n",
       "      <td>9761</td>\n",
       "      <td>9762</td>\n",
       "      <td>9763</td>\n",
       "      <td>9764</td>\n",
       "      <td>9765</td>\n",
       "      <td>9766</td>\n",
       "      <td>9767</td>\n",
       "      <td>9768</td>\n",
       "      <td>9769</td>\n",
       "      <td>9770</td>\n",
       "      <td>9771</td>\n",
       "      <td>9772</td>\n",
       "      <td>9773</td>\n",
       "      <td>9774</td>\n",
       "      <td>9775</td>\n",
       "      <td>9776</td>\n",
       "      <td>9777</td>\n",
       "      <td>9778</td>\n",
       "      <td>9779</td>\n",
       "      <td>9780</td>\n",
       "      <td>9781</td>\n",
       "      <td>9782</td>\n",
       "      <td>9783</td>\n",
       "      <td>9784</td>\n",
       "      <td>9785</td>\n",
       "      <td>9786</td>\n",
       "      <td>9787</td>\n",
       "      <td>9788</td>\n",
       "      <td>9789</td>\n",
       "      <td>9790</td>\n",
       "      <td>9791</td>\n",
       "      <td>9792</td>\n",
       "      <td>9793</td>\n",
       "      <td>9794</td>\n",
       "      <td>9795</td>\n",
       "      <td>9796</td>\n",
       "      <td>9797</td>\n",
       "      <td>9798</td>\n",
       "      <td>9799</td>\n",
       "    </tr>\n",
       "    <tr>\n",
       "      <th>98</th>\n",
       "      <td>9800</td>\n",
       "      <td>9801</td>\n",
       "      <td>9802</td>\n",
       "      <td>9803</td>\n",
       "      <td>9804</td>\n",
       "      <td>9805</td>\n",
       "      <td>9806</td>\n",
       "      <td>9807</td>\n",
       "      <td>9808</td>\n",
       "      <td>9809</td>\n",
       "      <td>9810</td>\n",
       "      <td>9811</td>\n",
       "      <td>9812</td>\n",
       "      <td>9813</td>\n",
       "      <td>9814</td>\n",
       "      <td>9815</td>\n",
       "      <td>9816</td>\n",
       "      <td>9817</td>\n",
       "      <td>9818</td>\n",
       "      <td>9819</td>\n",
       "      <td>9820</td>\n",
       "      <td>9821</td>\n",
       "      <td>9822</td>\n",
       "      <td>9823</td>\n",
       "      <td>9824</td>\n",
       "      <td>9825</td>\n",
       "      <td>9826</td>\n",
       "      <td>9827</td>\n",
       "      <td>9828</td>\n",
       "      <td>9829</td>\n",
       "      <td>9830</td>\n",
       "      <td>9831</td>\n",
       "      <td>9832</td>\n",
       "      <td>9833</td>\n",
       "      <td>9834</td>\n",
       "      <td>9835</td>\n",
       "      <td>9836</td>\n",
       "      <td>9837</td>\n",
       "      <td>9838</td>\n",
       "      <td>9839</td>\n",
       "      <td>9840</td>\n",
       "      <td>9841</td>\n",
       "      <td>9842</td>\n",
       "      <td>9843</td>\n",
       "      <td>9844</td>\n",
       "      <td>9845</td>\n",
       "      <td>9846</td>\n",
       "      <td>9847</td>\n",
       "      <td>9848</td>\n",
       "      <td>9849</td>\n",
       "      <td>9850</td>\n",
       "      <td>9851</td>\n",
       "      <td>9852</td>\n",
       "      <td>9853</td>\n",
       "      <td>9854</td>\n",
       "      <td>9855</td>\n",
       "      <td>9856</td>\n",
       "      <td>9857</td>\n",
       "      <td>9858</td>\n",
       "      <td>9859</td>\n",
       "      <td>9860</td>\n",
       "      <td>9861</td>\n",
       "      <td>9862</td>\n",
       "      <td>9863</td>\n",
       "      <td>9864</td>\n",
       "      <td>9865</td>\n",
       "      <td>9866</td>\n",
       "      <td>9867</td>\n",
       "      <td>9868</td>\n",
       "      <td>9869</td>\n",
       "      <td>9870</td>\n",
       "      <td>9871</td>\n",
       "      <td>9872</td>\n",
       "      <td>9873</td>\n",
       "      <td>9874</td>\n",
       "      <td>9875</td>\n",
       "      <td>9876</td>\n",
       "      <td>9877</td>\n",
       "      <td>9878</td>\n",
       "      <td>9879</td>\n",
       "      <td>9880</td>\n",
       "      <td>9881</td>\n",
       "      <td>9882</td>\n",
       "      <td>9883</td>\n",
       "      <td>9884</td>\n",
       "      <td>9885</td>\n",
       "      <td>9886</td>\n",
       "      <td>9887</td>\n",
       "      <td>9888</td>\n",
       "      <td>9889</td>\n",
       "      <td>9890</td>\n",
       "      <td>9891</td>\n",
       "      <td>9892</td>\n",
       "      <td>9893</td>\n",
       "      <td>9894</td>\n",
       "      <td>9895</td>\n",
       "      <td>9896</td>\n",
       "      <td>9897</td>\n",
       "      <td>9898</td>\n",
       "      <td>9899</td>\n",
       "    </tr>\n",
       "    <tr>\n",
       "      <th>99</th>\n",
       "      <td>9900</td>\n",
       "      <td>9901</td>\n",
       "      <td>9902</td>\n",
       "      <td>9903</td>\n",
       "      <td>9904</td>\n",
       "      <td>9905</td>\n",
       "      <td>9906</td>\n",
       "      <td>9907</td>\n",
       "      <td>9908</td>\n",
       "      <td>9909</td>\n",
       "      <td>9910</td>\n",
       "      <td>9911</td>\n",
       "      <td>9912</td>\n",
       "      <td>9913</td>\n",
       "      <td>9914</td>\n",
       "      <td>9915</td>\n",
       "      <td>9916</td>\n",
       "      <td>9917</td>\n",
       "      <td>9918</td>\n",
       "      <td>9919</td>\n",
       "      <td>9920</td>\n",
       "      <td>9921</td>\n",
       "      <td>9922</td>\n",
       "      <td>9923</td>\n",
       "      <td>9924</td>\n",
       "      <td>9925</td>\n",
       "      <td>9926</td>\n",
       "      <td>9927</td>\n",
       "      <td>9928</td>\n",
       "      <td>9929</td>\n",
       "      <td>9930</td>\n",
       "      <td>9931</td>\n",
       "      <td>9932</td>\n",
       "      <td>9933</td>\n",
       "      <td>9934</td>\n",
       "      <td>9935</td>\n",
       "      <td>9936</td>\n",
       "      <td>9937</td>\n",
       "      <td>9938</td>\n",
       "      <td>9939</td>\n",
       "      <td>9940</td>\n",
       "      <td>9941</td>\n",
       "      <td>9942</td>\n",
       "      <td>9943</td>\n",
       "      <td>9944</td>\n",
       "      <td>9945</td>\n",
       "      <td>9946</td>\n",
       "      <td>9947</td>\n",
       "      <td>9948</td>\n",
       "      <td>9949</td>\n",
       "      <td>9950</td>\n",
       "      <td>9951</td>\n",
       "      <td>9952</td>\n",
       "      <td>9953</td>\n",
       "      <td>9954</td>\n",
       "      <td>9955</td>\n",
       "      <td>9956</td>\n",
       "      <td>9957</td>\n",
       "      <td>9958</td>\n",
       "      <td>9959</td>\n",
       "      <td>9960</td>\n",
       "      <td>9961</td>\n",
       "      <td>9962</td>\n",
       "      <td>9963</td>\n",
       "      <td>9964</td>\n",
       "      <td>9965</td>\n",
       "      <td>9966</td>\n",
       "      <td>9967</td>\n",
       "      <td>9968</td>\n",
       "      <td>9969</td>\n",
       "      <td>9970</td>\n",
       "      <td>9971</td>\n",
       "      <td>9972</td>\n",
       "      <td>9973</td>\n",
       "      <td>9974</td>\n",
       "      <td>9975</td>\n",
       "      <td>9976</td>\n",
       "      <td>9977</td>\n",
       "      <td>9978</td>\n",
       "      <td>9979</td>\n",
       "      <td>9980</td>\n",
       "      <td>9981</td>\n",
       "      <td>9982</td>\n",
       "      <td>9983</td>\n",
       "      <td>9984</td>\n",
       "      <td>9985</td>\n",
       "      <td>9986</td>\n",
       "      <td>9987</td>\n",
       "      <td>9988</td>\n",
       "      <td>9989</td>\n",
       "      <td>9990</td>\n",
       "      <td>9991</td>\n",
       "      <td>9992</td>\n",
       "      <td>9993</td>\n",
       "      <td>9994</td>\n",
       "      <td>9995</td>\n",
       "      <td>9996</td>\n",
       "      <td>9997</td>\n",
       "      <td>9998</td>\n",
       "      <td>9999</td>\n",
       "    </tr>\n",
       "  </tbody>\n",
       "</table>\n",
       "</div>"
      ],
      "text/plain": [
       "      0     1     2     3     4     5     6     7     8     9     10    11  \\\n",
       "90  9000  9001  9002  9003  9004  9005  9006  9007  9008  9009  9010  9011   \n",
       "91  9100  9101  9102  9103  9104  9105  9106  9107  9108  9109  9110  9111   \n",
       "92  9200  9201  9202  9203  9204  9205  9206  9207  9208  9209  9210  9211   \n",
       "93  9300  9301  9302  9303  9304  9305  9306  9307  9308  9309  9310  9311   \n",
       "94  9400  9401  9402  9403  9404  9405  9406  9407  9408  9409  9410  9411   \n",
       "95  9500  9501  9502  9503  9504  9505  9506  9507  9508  9509  9510  9511   \n",
       "96  9600  9601  9602  9603  9604  9605  9606  9607  9608  9609  9610  9611   \n",
       "97  9700  9701  9702  9703  9704  9705  9706  9707  9708  9709  9710  9711   \n",
       "98  9800  9801  9802  9803  9804  9805  9806  9807  9808  9809  9810  9811   \n",
       "99  9900  9901  9902  9903  9904  9905  9906  9907  9908  9909  9910  9911   \n",
       "\n",
       "      12    13    14    15    16    17    18    19    20    21    22    23  \\\n",
       "90  9012  9013  9014  9015  9016  9017  9018  9019  9020  9021  9022  9023   \n",
       "91  9112  9113  9114  9115  9116  9117  9118  9119  9120  9121  9122  9123   \n",
       "92  9212  9213  9214  9215  9216  9217  9218  9219  9220  9221  9222  9223   \n",
       "93  9312  9313  9314  9315  9316  9317  9318  9319  9320  9321  9322  9323   \n",
       "94  9412  9413  9414  9415  9416  9417  9418  9419  9420  9421  9422  9423   \n",
       "95  9512  9513  9514  9515  9516  9517  9518  9519  9520  9521  9522  9523   \n",
       "96  9612  9613  9614  9615  9616  9617  9618  9619  9620  9621  9622  9623   \n",
       "97  9712  9713  9714  9715  9716  9717  9718  9719  9720  9721  9722  9723   \n",
       "98  9812  9813  9814  9815  9816  9817  9818  9819  9820  9821  9822  9823   \n",
       "99  9912  9913  9914  9915  9916  9917  9918  9919  9920  9921  9922  9923   \n",
       "\n",
       "      24    25    26    27    28    29    30    31    32    33    34    35  \\\n",
       "90  9024  9025  9026  9027  9028  9029  9030  9031  9032  9033  9034  9035   \n",
       "91  9124  9125  9126  9127  9128  9129  9130  9131  9132  9133  9134  9135   \n",
       "92  9224  9225  9226  9227  9228  9229  9230  9231  9232  9233  9234  9235   \n",
       "93  9324  9325  9326  9327  9328  9329  9330  9331  9332  9333  9334  9335   \n",
       "94  9424  9425  9426  9427  9428  9429  9430  9431  9432  9433  9434  9435   \n",
       "95  9524  9525  9526  9527  9528  9529  9530  9531  9532  9533  9534  9535   \n",
       "96  9624  9625  9626  9627  9628  9629  9630  9631  9632  9633  9634  9635   \n",
       "97  9724  9725  9726  9727  9728  9729  9730  9731  9732  9733  9734  9735   \n",
       "98  9824  9825  9826  9827  9828  9829  9830  9831  9832  9833  9834  9835   \n",
       "99  9924  9925  9926  9927  9928  9929  9930  9931  9932  9933  9934  9935   \n",
       "\n",
       "      36    37    38    39    40    41    42    43    44    45    46    47  \\\n",
       "90  9036  9037  9038  9039  9040  9041  9042  9043  9044  9045  9046  9047   \n",
       "91  9136  9137  9138  9139  9140  9141  9142  9143  9144  9145  9146  9147   \n",
       "92  9236  9237  9238  9239  9240  9241  9242  9243  9244  9245  9246  9247   \n",
       "93  9336  9337  9338  9339  9340  9341  9342  9343  9344  9345  9346  9347   \n",
       "94  9436  9437  9438  9439  9440  9441  9442  9443  9444  9445  9446  9447   \n",
       "95  9536  9537  9538  9539  9540  9541  9542  9543  9544  9545  9546  9547   \n",
       "96  9636  9637  9638  9639  9640  9641  9642  9643  9644  9645  9646  9647   \n",
       "97  9736  9737  9738  9739  9740  9741  9742  9743  9744  9745  9746  9747   \n",
       "98  9836  9837  9838  9839  9840  9841  9842  9843  9844  9845  9846  9847   \n",
       "99  9936  9937  9938  9939  9940  9941  9942  9943  9944  9945  9946  9947   \n",
       "\n",
       "      48    49    50    51    52    53    54    55    56    57    58    59  \\\n",
       "90  9048  9049  9050  9051  9052  9053  9054  9055  9056  9057  9058  9059   \n",
       "91  9148  9149  9150  9151  9152  9153  9154  9155  9156  9157  9158  9159   \n",
       "92  9248  9249  9250  9251  9252  9253  9254  9255  9256  9257  9258  9259   \n",
       "93  9348  9349  9350  9351  9352  9353  9354  9355  9356  9357  9358  9359   \n",
       "94  9448  9449  9450  9451  9452  9453  9454  9455  9456  9457  9458  9459   \n",
       "95  9548  9549  9550  9551  9552  9553  9554  9555  9556  9557  9558  9559   \n",
       "96  9648  9649  9650  9651  9652  9653  9654  9655  9656  9657  9658  9659   \n",
       "97  9748  9749  9750  9751  9752  9753  9754  9755  9756  9757  9758  9759   \n",
       "98  9848  9849  9850  9851  9852  9853  9854  9855  9856  9857  9858  9859   \n",
       "99  9948  9949  9950  9951  9952  9953  9954  9955  9956  9957  9958  9959   \n",
       "\n",
       "      60    61    62    63    64    65    66    67    68    69    70    71  \\\n",
       "90  9060  9061  9062  9063  9064  9065  9066  9067  9068  9069  9070  9071   \n",
       "91  9160  9161  9162  9163  9164  9165  9166  9167  9168  9169  9170  9171   \n",
       "92  9260  9261  9262  9263  9264  9265  9266  9267  9268  9269  9270  9271   \n",
       "93  9360  9361  9362  9363  9364  9365  9366  9367  9368  9369  9370  9371   \n",
       "94  9460  9461  9462  9463  9464  9465  9466  9467  9468  9469  9470  9471   \n",
       "95  9560  9561  9562  9563  9564  9565  9566  9567  9568  9569  9570  9571   \n",
       "96  9660  9661  9662  9663  9664  9665  9666  9667  9668  9669  9670  9671   \n",
       "97  9760  9761  9762  9763  9764  9765  9766  9767  9768  9769  9770  9771   \n",
       "98  9860  9861  9862  9863  9864  9865  9866  9867  9868  9869  9870  9871   \n",
       "99  9960  9961  9962  9963  9964  9965  9966  9967  9968  9969  9970  9971   \n",
       "\n",
       "      72    73    74    75    76    77    78    79    80    81    82    83  \\\n",
       "90  9072  9073  9074  9075  9076  9077  9078  9079  9080  9081  9082  9083   \n",
       "91  9172  9173  9174  9175  9176  9177  9178  9179  9180  9181  9182  9183   \n",
       "92  9272  9273  9274  9275  9276  9277  9278  9279  9280  9281  9282  9283   \n",
       "93  9372  9373  9374  9375  9376  9377  9378  9379  9380  9381  9382  9383   \n",
       "94  9472  9473  9474  9475  9476  9477  9478  9479  9480  9481  9482  9483   \n",
       "95  9572  9573  9574  9575  9576  9577  9578  9579  9580  9581  9582  9583   \n",
       "96  9672  9673  9674  9675  9676  9677  9678  9679  9680  9681  9682  9683   \n",
       "97  9772  9773  9774  9775  9776  9777  9778  9779  9780  9781  9782  9783   \n",
       "98  9872  9873  9874  9875  9876  9877  9878  9879  9880  9881  9882  9883   \n",
       "99  9972  9973  9974  9975  9976  9977  9978  9979  9980  9981  9982  9983   \n",
       "\n",
       "      84    85    86    87    88    89    90    91    92    93    94    95  \\\n",
       "90  9084  9085  9086  9087  9088  9089  9090  9091  9092  9093  9094  9095   \n",
       "91  9184  9185  9186  9187  9188  9189  9190  9191  9192  9193  9194  9195   \n",
       "92  9284  9285  9286  9287  9288  9289  9290  9291  9292  9293  9294  9295   \n",
       "93  9384  9385  9386  9387  9388  9389  9390  9391  9392  9393  9394  9395   \n",
       "94  9484  9485  9486  9487  9488  9489  9490  9491  9492  9493  9494  9495   \n",
       "95  9584  9585  9586  9587  9588  9589  9590  9591  9592  9593  9594  9595   \n",
       "96  9684  9685  9686  9687  9688  9689  9690  9691  9692  9693  9694  9695   \n",
       "97  9784  9785  9786  9787  9788  9789  9790  9791  9792  9793  9794  9795   \n",
       "98  9884  9885  9886  9887  9888  9889  9890  9891  9892  9893  9894  9895   \n",
       "99  9984  9985  9986  9987  9988  9989  9990  9991  9992  9993  9994  9995   \n",
       "\n",
       "      96    97    98    99  \n",
       "90  9096  9097  9098  9099  \n",
       "91  9196  9197  9198  9199  \n",
       "92  9296  9297  9298  9299  \n",
       "93  9396  9397  9398  9399  \n",
       "94  9496  9497  9498  9499  \n",
       "95  9596  9597  9598  9599  \n",
       "96  9696  9697  9698  9699  \n",
       "97  9796  9797  9798  9799  \n",
       "98  9896  9897  9898  9899  \n",
       "99  9996  9997  9998  9999  "
      ]
     },
     "execution_count": 9,
     "metadata": {},
     "output_type": "execute_result"
    }
   ],
   "source": [
    "df.tail(10)"
   ]
  },
  {
   "cell_type": "markdown",
   "metadata": {},
   "source": [
    "reset_option retorna os valores padrões."
   ]
  },
  {
   "cell_type": "code",
   "execution_count": 10,
   "metadata": {
    "id": "HaWo0sq5evgT"
   },
   "outputs": [],
   "source": [
    "pd.reset_option(\"display.max_rows\")"
   ]
  },
  {
   "cell_type": "markdown",
   "metadata": {
    "id": "43QYxdBWevgT"
   },
   "source": [
    "## Carregando os dados"
   ]
  },
  {
   "cell_type": "markdown",
   "metadata": {
    "id": "votr38ZYevgT"
   },
   "source": [
    "### Arquivos JSON - `read_json`\n",
    "\n",
    "[Documentação](https://pandas.pydata.org/pandas-docs/stable/reference/api/pandas.read_json.html)\n",
    "\n",
    "## JSON\n",
    "\n",
    "JSON (**J**ava**S**cript **O**bject **N**otation - Notação de Objetos JavaScript) é uma formatação leve de troca de dados. Para seres humanos, é fácil de ler e escrever. Para máquinas, é fácil de interpretar e gerar. Está baseado em um subconjunto da linguagem de programação JavaScript, Standard ECMA-262 3a Edição - Dezembro - 1999. JSON é em formato texto e completamente independente de linguagem, pois usa convenções que são familiares às linguagens C e familiares, incluindo C++, C#, Java, JavaScript, Perl, Python e muitas outras. Estas propriedades fazem com que JSON seja um formato ideal de troca de dados.\n",
    "\n",
    "[fonte](https://www.json.org/json-pt.html)\n",
    "\n",
    "[Online JSON Viewer](http://jsonviewer.stack.hu/)"
   ]
  },
  {
   "cell_type": "code",
   "execution_count": 11,
   "metadata": {
    "id": "mqhtwsPSevgU"
   },
   "outputs": [
    {
     "data": {
      "text/plain": [
       "'{\"A\":[1,2,3,4], \"B\":[5,6,7,8], \"C\":[9,10,11,12]}'"
      ]
     },
     "execution_count": 11,
     "metadata": {},
     "output_type": "execute_result"
    }
   ],
   "source": [
    "data_json = '{\"A\":[1,2,3,4], \"B\":[5,6,7,8], \"C\":[9,10,11,12]}'\n",
    "data_json"
   ]
  },
  {
   "cell_type": "code",
   "execution_count": 12,
   "metadata": {
    "id": "9QbVDt0LevgU"
   },
   "outputs": [
    {
     "data": {
      "text/html": [
       "<div>\n",
       "<style scoped>\n",
       "    .dataframe tbody tr th:only-of-type {\n",
       "        vertical-align: middle;\n",
       "    }\n",
       "\n",
       "    .dataframe tbody tr th {\n",
       "        vertical-align: top;\n",
       "    }\n",
       "\n",
       "    .dataframe thead th {\n",
       "        text-align: right;\n",
       "    }\n",
       "</style>\n",
       "<table border=\"1\" class=\"dataframe\">\n",
       "  <thead>\n",
       "    <tr style=\"text-align: right;\">\n",
       "      <th></th>\n",
       "      <th>0</th>\n",
       "      <th>1</th>\n",
       "      <th>2</th>\n",
       "      <th>3</th>\n",
       "    </tr>\n",
       "  </thead>\n",
       "  <tbody>\n",
       "    <tr>\n",
       "      <th>A</th>\n",
       "      <td>1</td>\n",
       "      <td>2</td>\n",
       "      <td>3</td>\n",
       "      <td>4</td>\n",
       "    </tr>\n",
       "    <tr>\n",
       "      <th>B</th>\n",
       "      <td>5</td>\n",
       "      <td>6</td>\n",
       "      <td>7</td>\n",
       "      <td>8</td>\n",
       "    </tr>\n",
       "    <tr>\n",
       "      <th>C</th>\n",
       "      <td>9</td>\n",
       "      <td>10</td>\n",
       "      <td>11</td>\n",
       "      <td>12</td>\n",
       "    </tr>\n",
       "  </tbody>\n",
       "</table>\n",
       "</div>"
      ],
      "text/plain": [
       "   0   1   2   3\n",
       "A  1   2   3   4\n",
       "B  5   6   7   8\n",
       "C  9  10  11  12"
      ]
     },
     "execution_count": 12,
     "metadata": {},
     "output_type": "execute_result"
    }
   ],
   "source": [
    "dados = pd.read_json(path_or_buf=data_json, orient='index')\n",
    "dados"
   ]
  },
  {
   "cell_type": "code",
   "execution_count": 13,
   "metadata": {
    "id": "FU7LgMbAevgU"
   },
   "outputs": [
    {
     "data": {
      "text/html": [
       "<div>\n",
       "<style scoped>\n",
       "    .dataframe tbody tr th:only-of-type {\n",
       "        vertical-align: middle;\n",
       "    }\n",
       "\n",
       "    .dataframe tbody tr th {\n",
       "        vertical-align: top;\n",
       "    }\n",
       "\n",
       "    .dataframe thead th {\n",
       "        text-align: right;\n",
       "    }\n",
       "</style>\n",
       "<table border=\"1\" class=\"dataframe\">\n",
       "  <thead>\n",
       "    <tr style=\"text-align: right;\">\n",
       "      <th></th>\n",
       "      <th>A</th>\n",
       "      <th>B</th>\n",
       "      <th>C</th>\n",
       "    </tr>\n",
       "  </thead>\n",
       "  <tbody>\n",
       "    <tr>\n",
       "      <th>0</th>\n",
       "      <td>1</td>\n",
       "      <td>5</td>\n",
       "      <td>9</td>\n",
       "    </tr>\n",
       "    <tr>\n",
       "      <th>1</th>\n",
       "      <td>2</td>\n",
       "      <td>6</td>\n",
       "      <td>10</td>\n",
       "    </tr>\n",
       "    <tr>\n",
       "      <th>2</th>\n",
       "      <td>3</td>\n",
       "      <td>7</td>\n",
       "      <td>11</td>\n",
       "    </tr>\n",
       "    <tr>\n",
       "      <th>3</th>\n",
       "      <td>4</td>\n",
       "      <td>8</td>\n",
       "      <td>12</td>\n",
       "    </tr>\n",
       "  </tbody>\n",
       "</table>\n",
       "</div>"
      ],
      "text/plain": [
       "   A  B   C\n",
       "0  1  5   9\n",
       "1  2  6  10\n",
       "2  3  7  11\n",
       "3  4  8  12"
      ]
     },
     "execution_count": 13,
     "metadata": {},
     "output_type": "execute_result"
    }
   ],
   "source": [
    "dados = pd.read_json(path_or_buf=data_json, orient='columns')\n",
    "dados"
   ]
  },
  {
   "cell_type": "code",
   "execution_count": 14,
   "metadata": {},
   "outputs": [
    {
     "data": {
      "text/plain": [
       "'c:\\\\Users\\\\alexsandro.ignacio\\\\OneDrive - WCA Soluções de Inteligência Comercial\\\\Documentos\\\\Docs\\\\Git\\\\python_developer\\\\Pandas Tecnicas Avançadas'"
      ]
     },
     "execution_count": 14,
     "metadata": {},
     "output_type": "execute_result"
    }
   ],
   "source": [
    "_path = os.getcwd()\n",
    "_path"
   ]
  },
  {
   "cell_type": "code",
   "execution_count": 15,
   "metadata": {},
   "outputs": [],
   "source": [
    "_file_01 = 'realestates.json'\n",
    "_file_02 = 'bairros.xlsx'\n"
   ]
  },
  {
   "cell_type": "code",
   "execution_count": 16,
   "metadata": {},
   "outputs": [
    {
     "data": {
      "text/plain": [
       "'c:\\\\Users\\\\alexsandro.ignacio\\\\OneDrive - WCA Soluções de Inteligência Comercial\\\\Documentos\\\\Docs\\\\Git\\\\python_developer\\\\Pandas Tecnicas Avançadas\\\\realestates.json'"
      ]
     },
     "execution_count": 16,
     "metadata": {},
     "output_type": "execute_result"
    }
   ],
   "source": [
    "_path_file_01 = os.path.join(_path, _file_01)\n",
    "_path_file_01"
   ]
  },
  {
   "cell_type": "code",
   "execution_count": 17,
   "metadata": {
    "id": "xqMteeCFevgU"
   },
   "outputs": [
    {
     "data": {
      "text/html": [
       "<div>\n",
       "<style scoped>\n",
       "    .dataframe tbody tr th:only-of-type {\n",
       "        vertical-align: middle;\n",
       "    }\n",
       "\n",
       "    .dataframe tbody tr th {\n",
       "        vertical-align: top;\n",
       "    }\n",
       "\n",
       "    .dataframe thead th {\n",
       "        text-align: right;\n",
       "    }\n",
       "</style>\n",
       "<table border=\"1\" class=\"dataframe\">\n",
       "  <thead>\n",
       "    <tr style=\"text-align: right;\">\n",
       "      <th></th>\n",
       "      <th>normal</th>\n",
       "      <th>highlights</th>\n",
       "    </tr>\n",
       "  </thead>\n",
       "  <tbody>\n",
       "    <tr>\n",
       "      <th>output</th>\n",
       "      <td>{'listings': [{'imovel': {'tipos': {'proprieda...</td>\n",
       "      <td>{'listings': [{'imovel': {'tipos': {'proprieda...</td>\n",
       "    </tr>\n",
       "  </tbody>\n",
       "</table>\n",
       "</div>"
      ],
      "text/plain": [
       "                                                   normal  \\\n",
       "output  {'listings': [{'imovel': {'tipos': {'proprieda...   \n",
       "\n",
       "                                               highlights  \n",
       "output  {'listings': [{'imovel': {'tipos': {'proprieda...  "
      ]
     },
     "execution_count": 17,
     "metadata": {},
     "output_type": "execute_result"
    }
   ],
   "source": [
    "dados = pd.read_json(path_or_buf=_path_file_01, orient='columns')\n",
    "dados"
   ]
  },
  {
   "cell_type": "code",
   "execution_count": 18,
   "metadata": {},
   "outputs": [],
   "source": [
    "data_json = '{\"Rita\": {\"Idade\": 24, \"Peso\": 62, \"Altura\": 1.65}, \"Zeca\": {\"Idade\": 32, \"Peso\": 80, \"Altura\": 1.82}}'"
   ]
  },
  {
   "cell_type": "code",
   "execution_count": 19,
   "metadata": {},
   "outputs": [
    {
     "data": {
      "text/html": [
       "<div>\n",
       "<style scoped>\n",
       "    .dataframe tbody tr th:only-of-type {\n",
       "        vertical-align: middle;\n",
       "    }\n",
       "\n",
       "    .dataframe tbody tr th {\n",
       "        vertical-align: top;\n",
       "    }\n",
       "\n",
       "    .dataframe thead th {\n",
       "        text-align: right;\n",
       "    }\n",
       "</style>\n",
       "<table border=\"1\" class=\"dataframe\">\n",
       "  <thead>\n",
       "    <tr style=\"text-align: right;\">\n",
       "      <th></th>\n",
       "      <th>Rita</th>\n",
       "      <th>Zeca</th>\n",
       "    </tr>\n",
       "  </thead>\n",
       "  <tbody>\n",
       "    <tr>\n",
       "      <th>Idade</th>\n",
       "      <td>24.00</td>\n",
       "      <td>32.00</td>\n",
       "    </tr>\n",
       "    <tr>\n",
       "      <th>Peso</th>\n",
       "      <td>62.00</td>\n",
       "      <td>80.00</td>\n",
       "    </tr>\n",
       "    <tr>\n",
       "      <th>Altura</th>\n",
       "      <td>1.65</td>\n",
       "      <td>1.82</td>\n",
       "    </tr>\n",
       "  </tbody>\n",
       "</table>\n",
       "</div>"
      ],
      "text/plain": [
       "         Rita   Zeca\n",
       "Idade   24.00  32.00\n",
       "Peso    62.00  80.00\n",
       "Altura   1.65   1.82"
      ]
     },
     "execution_count": 19,
     "metadata": {},
     "output_type": "execute_result"
    }
   ],
   "source": [
    "dados_ex_01 = pd.read_json(path_or_buf=data_json, orient='columns')\n",
    "dados_ex_01"
   ]
  },
  {
   "cell_type": "code",
   "execution_count": 20,
   "metadata": {},
   "outputs": [
    {
     "data": {
      "text/html": [
       "<div>\n",
       "<style scoped>\n",
       "    .dataframe tbody tr th:only-of-type {\n",
       "        vertical-align: middle;\n",
       "    }\n",
       "\n",
       "    .dataframe tbody tr th {\n",
       "        vertical-align: top;\n",
       "    }\n",
       "\n",
       "    .dataframe thead th {\n",
       "        text-align: right;\n",
       "    }\n",
       "</style>\n",
       "<table border=\"1\" class=\"dataframe\">\n",
       "  <thead>\n",
       "    <tr style=\"text-align: right;\">\n",
       "      <th></th>\n",
       "      <th>Idade</th>\n",
       "      <th>Peso</th>\n",
       "      <th>Altura</th>\n",
       "    </tr>\n",
       "  </thead>\n",
       "  <tbody>\n",
       "    <tr>\n",
       "      <th>Rita</th>\n",
       "      <td>24</td>\n",
       "      <td>62</td>\n",
       "      <td>1.65</td>\n",
       "    </tr>\n",
       "    <tr>\n",
       "      <th>Zeca</th>\n",
       "      <td>32</td>\n",
       "      <td>80</td>\n",
       "      <td>1.82</td>\n",
       "    </tr>\n",
       "  </tbody>\n",
       "</table>\n",
       "</div>"
      ],
      "text/plain": [
       "      Idade  Peso  Altura\n",
       "Rita     24    62    1.65\n",
       "Zeca     32    80    1.82"
      ]
     },
     "execution_count": 20,
     "metadata": {},
     "output_type": "execute_result"
    }
   ],
   "source": [
    "dados_ex_02 = pd.read_json(path_or_buf=data_json, orient='index')\n",
    "dados_ex_02"
   ]
  },
  {
   "cell_type": "markdown",
   "metadata": {
    "id": "Q0coCxxrevgU"
   },
   "source": [
    "### Arquivos EXCEL - `read_excel`\n",
    "\n",
    "[Documentação](https://pandas.pydata.org/pandas-docs/stable/reference/api/pandas.read_excel.html)"
   ]
  },
  {
   "cell_type": "code",
   "execution_count": 21,
   "metadata": {
    "id": "xoSV41cTevgV",
    "scrolled": true
   },
   "outputs": [
    {
     "data": {
      "text/plain": [
       "'c:\\\\Users\\\\alexsandro.ignacio\\\\OneDrive - WCA Soluções de Inteligência Comercial\\\\Documentos\\\\Docs\\\\Git\\\\python_developer\\\\Pandas Tecnicas Avançadas\\\\bairros.xlsx'"
      ]
     },
     "execution_count": 21,
     "metadata": {},
     "output_type": "execute_result"
    }
   ],
   "source": [
    "_path_file_02 = os.path.join(_path, _file_02)\n",
    "_path_file_02"
   ]
  },
  {
   "cell_type": "code",
   "execution_count": 22,
   "metadata": {},
   "outputs": [
    {
     "data": {
      "text/html": [
       "<div>\n",
       "<style scoped>\n",
       "    .dataframe tbody tr th:only-of-type {\n",
       "        vertical-align: middle;\n",
       "    }\n",
       "\n",
       "    .dataframe tbody tr th {\n",
       "        vertical-align: top;\n",
       "    }\n",
       "\n",
       "    .dataframe thead th {\n",
       "        text-align: right;\n",
       "    }\n",
       "</style>\n",
       "<table border=\"1\" class=\"dataframe\">\n",
       "  <thead>\n",
       "    <tr style=\"text-align: right;\">\n",
       "      <th></th>\n",
       "      <th></th>\n",
       "      <th>valor_m2_bairro</th>\n",
       "    </tr>\n",
       "    <tr>\n",
       "      <th>bairros</th>\n",
       "      <th>tipo</th>\n",
       "      <th></th>\n",
       "    </tr>\n",
       "  </thead>\n",
       "  <tbody>\n",
       "    <tr>\n",
       "      <th rowspan=\"5\" valign=\"top\">São Cristóvão</th>\n",
       "      <th>Casa</th>\n",
       "      <td>13793</td>\n",
       "    </tr>\n",
       "    <tr>\n",
       "      <th>Apartamento</th>\n",
       "      <td>6306</td>\n",
       "    </tr>\n",
       "    <tr>\n",
       "      <th>Cobertura</th>\n",
       "      <td>11695</td>\n",
       "    </tr>\n",
       "    <tr>\n",
       "      <th>Consultório</th>\n",
       "      <td>6991</td>\n",
       "    </tr>\n",
       "    <tr>\n",
       "      <th>Imóvel Comercial</th>\n",
       "      <td>19633</td>\n",
       "    </tr>\n",
       "    <tr>\n",
       "      <th>...</th>\n",
       "      <th>...</th>\n",
       "      <td>...</td>\n",
       "    </tr>\n",
       "    <tr>\n",
       "      <th rowspan=\"5\" valign=\"top\">Vista Alegre</th>\n",
       "      <th>Cobertura</th>\n",
       "      <td>16567</td>\n",
       "    </tr>\n",
       "    <tr>\n",
       "      <th>Consultório</th>\n",
       "      <td>5812</td>\n",
       "    </tr>\n",
       "    <tr>\n",
       "      <th>Imóvel Comercial</th>\n",
       "      <td>12895</td>\n",
       "    </tr>\n",
       "    <tr>\n",
       "      <th>Loja</th>\n",
       "      <td>6182</td>\n",
       "    </tr>\n",
       "    <tr>\n",
       "      <th>Sala Comercial</th>\n",
       "      <td>3377</td>\n",
       "    </tr>\n",
       "  </tbody>\n",
       "</table>\n",
       "<p>1127 rows × 1 columns</p>\n",
       "</div>"
      ],
      "text/plain": [
       "                                valor_m2_bairro\n",
       "bairros       tipo                             \n",
       "São Cristóvão Casa                        13793\n",
       "              Apartamento                  6306\n",
       "              Cobertura                   11695\n",
       "              Consultório                  6991\n",
       "              Imóvel Comercial            19633\n",
       "...                                         ...\n",
       "Vista Alegre  Cobertura                   16567\n",
       "              Consultório                  5812\n",
       "              Imóvel Comercial            12895\n",
       "              Loja                         6182\n",
       "              Sala Comercial               3377\n",
       "\n",
       "[1127 rows x 1 columns]"
      ]
     },
     "execution_count": 22,
     "metadata": {},
     "output_type": "execute_result"
    }
   ],
   "source": [
    "baiiros = pd.read_excel(io=_path_file_02,\n",
    "                        sheet_name=\"Preço médio por tipo\",\n",
    "                        usecols=\"C:E\",\n",
    "                        header=2,\n",
    "                        index_col=[0,1],\n",
    "                        names=['bairros', 'tipo', 'valor_m2_bairro']\n",
    ")\n",
    "baiiros"
   ]
  },
  {
   "cell_type": "code",
   "execution_count": 23,
   "metadata": {},
   "outputs": [
    {
     "data": {
      "text/html": [
       "<div>\n",
       "<style scoped>\n",
       "    .dataframe tbody tr th:only-of-type {\n",
       "        vertical-align: middle;\n",
       "    }\n",
       "\n",
       "    .dataframe tbody tr th {\n",
       "        vertical-align: top;\n",
       "    }\n",
       "\n",
       "    .dataframe thead th {\n",
       "        text-align: right;\n",
       "    }\n",
       "</style>\n",
       "<table border=\"1\" class=\"dataframe\">\n",
       "  <thead>\n",
       "    <tr style=\"text-align: right;\">\n",
       "      <th></th>\n",
       "      <th></th>\n",
       "      <th>Residencial</th>\n",
       "      <th>Comercial</th>\n",
       "    </tr>\n",
       "    <tr>\n",
       "      <th>Zonas</th>\n",
       "      <th>Bairros</th>\n",
       "      <th></th>\n",
       "      <th></th>\n",
       "    </tr>\n",
       "  </thead>\n",
       "  <tbody>\n",
       "    <tr>\n",
       "      <th rowspan=\"17\" valign=\"top\">Sul</th>\n",
       "      <th>Botafogo</th>\n",
       "      <td>14002</td>\n",
       "      <td>7972</td>\n",
       "    </tr>\n",
       "    <tr>\n",
       "      <th>Catete</th>\n",
       "      <td>15232</td>\n",
       "      <td>6259</td>\n",
       "    </tr>\n",
       "    <tr>\n",
       "      <th>Copacabana</th>\n",
       "      <td>23318</td>\n",
       "      <td>9355</td>\n",
       "    </tr>\n",
       "    <tr>\n",
       "      <th>Cosme Velho</th>\n",
       "      <td>10320</td>\n",
       "      <td>8177</td>\n",
       "    </tr>\n",
       "    <tr>\n",
       "      <th>Flamengo</th>\n",
       "      <td>19636</td>\n",
       "      <td>7135</td>\n",
       "    </tr>\n",
       "    <tr>\n",
       "      <th>Gávea</th>\n",
       "      <td>13506</td>\n",
       "      <td>8211</td>\n",
       "    </tr>\n",
       "    <tr>\n",
       "      <th>Humaitá</th>\n",
       "      <td>10603</td>\n",
       "      <td>5039</td>\n",
       "    </tr>\n",
       "    <tr>\n",
       "      <th>Ipanema</th>\n",
       "      <td>15965</td>\n",
       "      <td>7293</td>\n",
       "    </tr>\n",
       "    <tr>\n",
       "      <th>Jardim Botânico</th>\n",
       "      <td>17243</td>\n",
       "      <td>8095</td>\n",
       "    </tr>\n",
       "    <tr>\n",
       "      <th>Lagoa</th>\n",
       "      <td>24982</td>\n",
       "      <td>6584</td>\n",
       "    </tr>\n",
       "    <tr>\n",
       "      <th>Laranjeiras</th>\n",
       "      <td>17307</td>\n",
       "      <td>7745</td>\n",
       "    </tr>\n",
       "    <tr>\n",
       "      <th>Leblon</th>\n",
       "      <td>13815</td>\n",
       "      <td>8125</td>\n",
       "    </tr>\n",
       "    <tr>\n",
       "      <th>Leme</th>\n",
       "      <td>15815</td>\n",
       "      <td>8587</td>\n",
       "    </tr>\n",
       "    <tr>\n",
       "      <th>Rocinha</th>\n",
       "      <td>15110</td>\n",
       "      <td>9023</td>\n",
       "    </tr>\n",
       "    <tr>\n",
       "      <th>São Conrado</th>\n",
       "      <td>20727</td>\n",
       "      <td>9587</td>\n",
       "    </tr>\n",
       "    <tr>\n",
       "      <th>Urca</th>\n",
       "      <td>22876</td>\n",
       "      <td>6607</td>\n",
       "    </tr>\n",
       "    <tr>\n",
       "      <th>Vidigal</th>\n",
       "      <td>23470</td>\n",
       "      <td>5424</td>\n",
       "    </tr>\n",
       "  </tbody>\n",
       "</table>\n",
       "</div>"
      ],
      "text/plain": [
       "                       Residencial  Comercial\n",
       "Zonas Bairros                                \n",
       "Sul   Botafogo               14002       7972\n",
       "      Catete                 15232       6259\n",
       "      Copacabana             23318       9355\n",
       "      Cosme Velho            10320       8177\n",
       "      Flamengo               19636       7135\n",
       "      Gávea                  13506       8211\n",
       "      Humaitá                10603       5039\n",
       "      Ipanema                15965       7293\n",
       "      Jardim Botânico        17243       8095\n",
       "      Lagoa                  24982       6584\n",
       "      Laranjeiras            17307       7745\n",
       "      Leblon                 13815       8125\n",
       "      Leme                   15815       8587\n",
       "      Rocinha                15110       9023\n",
       "      São Conrado            20727       9587\n",
       "      Urca                   22876       6607\n",
       "      Vidigal                23470       5424"
      ]
     },
     "execution_count": 23,
     "metadata": {},
     "output_type": "execute_result"
    }
   ],
   "source": [
    "pd.read_excel(\n",
    "    io=_path_file_02, \n",
    "    sheet_name=\"Residencial X Comercial\", \n",
    "    usecols=\"B:E\",\n",
    "    index_col=[0, 1],\n",
    "    skiprows=18,\n",
    "    nrows=17,\n",
    "    names=['Zonas', 'Bairros', 'Residencial', 'Comercial']\n",
    ")"
   ]
  },
  {
   "cell_type": "markdown",
   "metadata": {
    "id": "A05bkoTPevgV"
   },
   "source": [
    "# TRANSFORMANDO E TRATANDO OS DADOS\n",
    "---"
   ]
  },
  {
   "cell_type": "markdown",
   "metadata": {
    "id": "Wy7HvxaZevgV"
   },
   "source": [
    "## Transformando dados no formato JSON para uma tabela"
   ]
  },
  {
   "cell_type": "code",
   "execution_count": 24,
   "metadata": {
    "id": "g0533aVtevgV"
   },
   "outputs": [
    {
     "data": {
      "text/html": [
       "<div>\n",
       "<style scoped>\n",
       "    .dataframe tbody tr th:only-of-type {\n",
       "        vertical-align: middle;\n",
       "    }\n",
       "\n",
       "    .dataframe tbody tr th {\n",
       "        vertical-align: top;\n",
       "    }\n",
       "\n",
       "    .dataframe thead th {\n",
       "        text-align: right;\n",
       "    }\n",
       "</style>\n",
       "<table border=\"1\" class=\"dataframe\">\n",
       "  <thead>\n",
       "    <tr style=\"text-align: right;\">\n",
       "      <th></th>\n",
       "      <th>normal</th>\n",
       "      <th>highlights</th>\n",
       "    </tr>\n",
       "  </thead>\n",
       "  <tbody>\n",
       "    <tr>\n",
       "      <th>output</th>\n",
       "      <td>{'listings': [{'imovel': {'tipos': {'proprieda...</td>\n",
       "      <td>{'listings': [{'imovel': {'tipos': {'proprieda...</td>\n",
       "    </tr>\n",
       "  </tbody>\n",
       "</table>\n",
       "</div>"
      ],
      "text/plain": [
       "                                                   normal  \\\n",
       "output  {'listings': [{'imovel': {'tipos': {'proprieda...   \n",
       "\n",
       "                                               highlights  \n",
       "output  {'listings': [{'imovel': {'tipos': {'proprieda...  "
      ]
     },
     "execution_count": 24,
     "metadata": {},
     "output_type": "execute_result"
    }
   ],
   "source": [
    "dados"
   ]
  },
  {
   "cell_type": "markdown",
   "metadata": {
    "id": "bLn7laG1evgV"
   },
   "source": [
    "### `json_normalize`\n",
    "\n",
    "[Documentação](https://pandas.pydata.org/pandas-docs/stable/reference/api/pandas.json_normalize.html)"
   ]
  },
  {
   "cell_type": "code",
   "execution_count": 25,
   "metadata": {
    "id": "NqBTVXNKevgW"
   },
   "outputs": [
    {
     "data": {
      "text/html": [
       "<div>\n",
       "<style scoped>\n",
       "    .dataframe tbody tr th:only-of-type {\n",
       "        vertical-align: middle;\n",
       "    }\n",
       "\n",
       "    .dataframe tbody tr th {\n",
       "        vertical-align: top;\n",
       "    }\n",
       "\n",
       "    .dataframe thead th {\n",
       "        text-align: right;\n",
       "    }\n",
       "</style>\n",
       "<table border=\"1\" class=\"dataframe\">\n",
       "  <thead>\n",
       "    <tr style=\"text-align: right;\">\n",
       "      <th></th>\n",
       "      <th>listings</th>\n",
       "    </tr>\n",
       "  </thead>\n",
       "  <tbody>\n",
       "    <tr>\n",
       "      <th>0</th>\n",
       "      <td>[{'imovel': {'tipos': {'propriedade': 'Casa'},...</td>\n",
       "    </tr>\n",
       "  </tbody>\n",
       "</table>\n",
       "</div>"
      ],
      "text/plain": [
       "                                            listings\n",
       "0  [{'imovel': {'tipos': {'propriedade': 'Casa'},..."
      ]
     },
     "execution_count": 25,
     "metadata": {},
     "output_type": "execute_result"
    }
   ],
   "source": [
    "dados_normal = pd.json_normalize(data = dados['normal'])\n",
    "dados_normal"
   ]
  },
  {
   "cell_type": "code",
   "execution_count": 26,
   "metadata": {
    "id": "Tq_44heHevgW"
   },
   "outputs": [
    {
     "data": {
      "text/plain": [
       "[{'imovel': {'tipos': {'propriedade': 'Casa'},\n",
       "   'endereco': {'bairro': 'Barra da Tijuca',\n",
       "    'localizacao': {'type': 'Point',\n",
       "     'coordinates': [-43.3039086, -23.0139692]}},\n",
       "   'vagasGaragem': 4,\n",
       "   'area': 279,\n",
       "   'caracteristicas': {'propriedade': \"['Área de Serviço', 'Terraço', 'Churrasqueira', 'Quarto/WC Empregada', 'Sauna', 'Varanda', 'Gás Encanado', 'Closet', 'Piscina', 'Mobiliado', 'Armários Planejados', 'Acessibilidade']\",\n",
       "    'condominio': \"['Churrasqueira', 'Salão de Jogos', 'Sauna', 'Estacionamento Visitantes', 'Playground', 'Salão de Festas', 'Porteiro 24 Horas', 'Estacionamento Coberto', 'Aceita Pet', 'Sistema de Incêndio', 'Segurança Interna', 'Bicicletário', 'Acessibilidade']\",\n",
       "    'entorno': \"['Próximo a Escola Particular', 'Próximo ao Metrô', 'Próximo a Serviços de Saúde', 'Próximo a Centro Empresarial', 'Próximo a Restaurante', 'Próximo a Academia', 'Próximo a Praia', 'Próximo a Escola Pública', 'Próximo a Farmácia', 'Próximo a Parques e Áreas Verdes', 'Próximo ao Shopping', 'Próximo a Áreas de Lazer', 'Próximo a Mercado', 'Próximo a Comércio Diversos']\"}},\n",
       "  'anuncio': {'tipos': {'publicacao': 'Padrão', 'listagem': 'Lançamento'},\n",
       "   'valores': {'venda': 2400000.0,\n",
       "    'aluguel': 0.0,\n",
       "    'condominio': 790.0,\n",
       "    'iptu': 5700.0},\n",
       "   'descricao': 'Amplo imóvel para venda com 3 quartos, sendo 1 suítes, e 2 banheiros no total.'}}]"
      ]
     },
     "execution_count": 26,
     "metadata": {},
     "output_type": "execute_result"
    }
   ],
   "source": [
    "dados_normal['listings'].iloc[0][0:1]"
   ]
  },
  {
   "cell_type": "code",
   "execution_count": 27,
   "metadata": {
    "id": "NyQdnK6tevgW"
   },
   "outputs": [
    {
     "data": {
      "text/plain": [
       "list"
      ]
     },
     "execution_count": 27,
     "metadata": {},
     "output_type": "execute_result"
    }
   ],
   "source": [
    "type(dados_normal['listings'].iloc[0])"
   ]
  },
  {
   "cell_type": "code",
   "execution_count": 28,
   "metadata": {
    "id": "Sz6n0-4gevgW",
    "scrolled": true
   },
   "outputs": [
    {
     "data": {
      "text/plain": [
       "50"
      ]
     },
     "execution_count": 28,
     "metadata": {},
     "output_type": "execute_result"
    }
   ],
   "source": [
    "len(dados_normal['listings'].iloc[0])"
   ]
  },
  {
   "cell_type": "code",
   "execution_count": 29,
   "metadata": {
    "id": "nyYi0xgEevgW"
   },
   "outputs": [
    {
     "data": {
      "text/html": [
       "<div>\n",
       "<style scoped>\n",
       "    .dataframe tbody tr th:only-of-type {\n",
       "        vertical-align: middle;\n",
       "    }\n",
       "\n",
       "    .dataframe tbody tr th {\n",
       "        vertical-align: top;\n",
       "    }\n",
       "\n",
       "    .dataframe thead th {\n",
       "        text-align: right;\n",
       "    }\n",
       "</style>\n",
       "<table border=\"1\" class=\"dataframe\">\n",
       "  <thead>\n",
       "    <tr style=\"text-align: right;\">\n",
       "      <th></th>\n",
       "      <th>imovel_tipos_propriedade</th>\n",
       "      <th>imovel_endereco_bairro</th>\n",
       "      <th>imovel_endereco_localizacao_type</th>\n",
       "      <th>imovel_endereco_localizacao_coordinates</th>\n",
       "      <th>imovel_vagasGaragem</th>\n",
       "      <th>imovel_area</th>\n",
       "      <th>imovel_caracteristicas_propriedade</th>\n",
       "      <th>imovel_caracteristicas_condominio</th>\n",
       "      <th>imovel_caracteristicas_entorno</th>\n",
       "      <th>anuncio_tipos_publicacao</th>\n",
       "      <th>anuncio_tipos_listagem</th>\n",
       "      <th>anuncio_valores_venda</th>\n",
       "      <th>anuncio_valores_aluguel</th>\n",
       "      <th>anuncio_valores_condominio</th>\n",
       "      <th>anuncio_valores_iptu</th>\n",
       "      <th>anuncio_descricao</th>\n",
       "    </tr>\n",
       "  </thead>\n",
       "  <tbody>\n",
       "    <tr>\n",
       "      <th>0</th>\n",
       "      <td>Casa</td>\n",
       "      <td>Barra da Tijuca</td>\n",
       "      <td>Point</td>\n",
       "      <td>[-43.3039086, -23.0139692]</td>\n",
       "      <td>4</td>\n",
       "      <td>279</td>\n",
       "      <td>['Área de Serviço', 'Terraço', 'Churrasqueira'...</td>\n",
       "      <td>['Churrasqueira', 'Salão de Jogos', 'Sauna', '...</td>\n",
       "      <td>['Próximo a Escola Particular', 'Próximo ao Me...</td>\n",
       "      <td>Padrão</td>\n",
       "      <td>Lançamento</td>\n",
       "      <td>2400000.0</td>\n",
       "      <td>0.0</td>\n",
       "      <td>790.0</td>\n",
       "      <td>5700.0</td>\n",
       "      <td>Amplo imóvel para venda com 3 quartos, sendo 1...</td>\n",
       "    </tr>\n",
       "    <tr>\n",
       "      <th>1</th>\n",
       "      <td>Apartamento</td>\n",
       "      <td>Campo Grande</td>\n",
       "      <td>Point</td>\n",
       "      <td>[0, 0]</td>\n",
       "      <td>1</td>\n",
       "      <td>60</td>\n",
       "      <td>['Sauna']</td>\n",
       "      <td>['Elevador', 'Playground', 'Salão de Festas', ...</td>\n",
       "      <td>['Próximo ao Shopping', 'Próximo a Áreas de La...</td>\n",
       "      <td>Padrão</td>\n",
       "      <td>Usado</td>\n",
       "      <td>200000.0</td>\n",
       "      <td>0.0</td>\n",
       "      <td>0.0</td>\n",
       "      <td>0.0</td>\n",
       "      <td>Amplo imóvel para venda com 2 quartos, sendo 0...</td>\n",
       "    </tr>\n",
       "    <tr>\n",
       "      <th>2</th>\n",
       "      <td>Cobertura</td>\n",
       "      <td>Barra da Tijuca</td>\n",
       "      <td>Point</td>\n",
       "      <td>[-43.3037186, -22.9951304]</td>\n",
       "      <td>2</td>\n",
       "      <td>380</td>\n",
       "      <td>['Acessibilidade', 'Área de Serviço', 'Sauna',...</td>\n",
       "      <td>['Sauna', 'Playground', 'Quadra Poliesportiva'...</td>\n",
       "      <td>['Próximo a Escola Particular']</td>\n",
       "      <td>Premium</td>\n",
       "      <td>Usado</td>\n",
       "      <td>4400000.0</td>\n",
       "      <td>0.0</td>\n",
       "      <td>1200.0</td>\n",
       "      <td>850.0</td>\n",
       "      <td>Amplo imóvel para venda com 5 quartos, sendo 4...</td>\n",
       "    </tr>\n",
       "    <tr>\n",
       "      <th>3</th>\n",
       "      <td>Cobertura</td>\n",
       "      <td>Barra da Tijuca</td>\n",
       "      <td>Point</td>\n",
       "      <td>[-43.3548121, -23.0097423]</td>\n",
       "      <td>1</td>\n",
       "      <td>73</td>\n",
       "      <td>['Vista Panorâmica', 'Piscina', 'Sauna', 'Clos...</td>\n",
       "      <td>['Quadra Poliesportiva', 'Aceita Pet', 'Playgr...</td>\n",
       "      <td>['Próximo a Farmácia', 'Próximo a Academia', '...</td>\n",
       "      <td>Padrão</td>\n",
       "      <td>Usado</td>\n",
       "      <td>1100000.0</td>\n",
       "      <td>0.0</td>\n",
       "      <td>1300.0</td>\n",
       "      <td>364.0</td>\n",
       "      <td>Amplo imóvel para venda com 2 quartos, sendo 1...</td>\n",
       "    </tr>\n",
       "    <tr>\n",
       "      <th>4</th>\n",
       "      <td>Sala Comercial</td>\n",
       "      <td>Glória</td>\n",
       "      <td>Point</td>\n",
       "      <td>[-43.1779703, -22.9174894]</td>\n",
       "      <td>1</td>\n",
       "      <td>32</td>\n",
       "      <td>['Armários Planejados']</td>\n",
       "      <td>['Quadra Poliesportiva', 'Porteiro 24 Horas', ...</td>\n",
       "      <td>['Próximo a Centro Empresarial', 'Próximo a Ár...</td>\n",
       "      <td>Padrão</td>\n",
       "      <td>Usado</td>\n",
       "      <td>260000.0</td>\n",
       "      <td>0.0</td>\n",
       "      <td>450.0</td>\n",
       "      <td>800.0</td>\n",
       "      <td>Amplo imóvel para venda com 0 quartos, sendo 0...</td>\n",
       "    </tr>\n",
       "  </tbody>\n",
       "</table>\n",
       "</div>"
      ],
      "text/plain": [
       "  imovel_tipos_propriedade imovel_endereco_bairro  \\\n",
       "0                     Casa        Barra da Tijuca   \n",
       "1              Apartamento           Campo Grande   \n",
       "2                Cobertura        Barra da Tijuca   \n",
       "3                Cobertura        Barra da Tijuca   \n",
       "4           Sala Comercial                 Glória   \n",
       "\n",
       "  imovel_endereco_localizacao_type imovel_endereco_localizacao_coordinates  \\\n",
       "0                            Point              [-43.3039086, -23.0139692]   \n",
       "1                            Point                                  [0, 0]   \n",
       "2                            Point              [-43.3037186, -22.9951304]   \n",
       "3                            Point              [-43.3548121, -23.0097423]   \n",
       "4                            Point              [-43.1779703, -22.9174894]   \n",
       "\n",
       "   imovel_vagasGaragem  imovel_area  \\\n",
       "0                    4          279   \n",
       "1                    1           60   \n",
       "2                    2          380   \n",
       "3                    1           73   \n",
       "4                    1           32   \n",
       "\n",
       "                  imovel_caracteristicas_propriedade  \\\n",
       "0  ['Área de Serviço', 'Terraço', 'Churrasqueira'...   \n",
       "1                                          ['Sauna']   \n",
       "2  ['Acessibilidade', 'Área de Serviço', 'Sauna',...   \n",
       "3  ['Vista Panorâmica', 'Piscina', 'Sauna', 'Clos...   \n",
       "4                            ['Armários Planejados']   \n",
       "\n",
       "                   imovel_caracteristicas_condominio  \\\n",
       "0  ['Churrasqueira', 'Salão de Jogos', 'Sauna', '...   \n",
       "1  ['Elevador', 'Playground', 'Salão de Festas', ...   \n",
       "2  ['Sauna', 'Playground', 'Quadra Poliesportiva'...   \n",
       "3  ['Quadra Poliesportiva', 'Aceita Pet', 'Playgr...   \n",
       "4  ['Quadra Poliesportiva', 'Porteiro 24 Horas', ...   \n",
       "\n",
       "                      imovel_caracteristicas_entorno anuncio_tipos_publicacao  \\\n",
       "0  ['Próximo a Escola Particular', 'Próximo ao Me...                   Padrão   \n",
       "1  ['Próximo ao Shopping', 'Próximo a Áreas de La...                   Padrão   \n",
       "2                    ['Próximo a Escola Particular']                  Premium   \n",
       "3  ['Próximo a Farmácia', 'Próximo a Academia', '...                   Padrão   \n",
       "4  ['Próximo a Centro Empresarial', 'Próximo a Ár...                   Padrão   \n",
       "\n",
       "  anuncio_tipos_listagem  anuncio_valores_venda  anuncio_valores_aluguel  \\\n",
       "0             Lançamento              2400000.0                      0.0   \n",
       "1                  Usado               200000.0                      0.0   \n",
       "2                  Usado              4400000.0                      0.0   \n",
       "3                  Usado              1100000.0                      0.0   \n",
       "4                  Usado               260000.0                      0.0   \n",
       "\n",
       "   anuncio_valores_condominio  anuncio_valores_iptu  \\\n",
       "0                       790.0                5700.0   \n",
       "1                         0.0                   0.0   \n",
       "2                      1200.0                 850.0   \n",
       "3                      1300.0                 364.0   \n",
       "4                       450.0                 800.0   \n",
       "\n",
       "                                   anuncio_descricao  \n",
       "0  Amplo imóvel para venda com 3 quartos, sendo 1...  \n",
       "1  Amplo imóvel para venda com 2 quartos, sendo 0...  \n",
       "2  Amplo imóvel para venda com 5 quartos, sendo 4...  \n",
       "3  Amplo imóvel para venda com 2 quartos, sendo 1...  \n",
       "4  Amplo imóvel para venda com 0 quartos, sendo 0...  "
      ]
     },
     "execution_count": 29,
     "metadata": {},
     "output_type": "execute_result"
    }
   ],
   "source": [
    "dados_normal_listings = pd.json_normalize(data=dados_normal['listings'].iloc[0], sep='_')\n",
    "dados_normal_listings.head(5)"
   ]
  },
  {
   "cell_type": "code",
   "execution_count": 30,
   "metadata": {
    "id": "DJqqVu0YevgX"
   },
   "outputs": [
    {
     "data": {
      "text/html": [
       "<div>\n",
       "<style scoped>\n",
       "    .dataframe tbody tr th:only-of-type {\n",
       "        vertical-align: middle;\n",
       "    }\n",
       "\n",
       "    .dataframe tbody tr th {\n",
       "        vertical-align: top;\n",
       "    }\n",
       "\n",
       "    .dataframe thead th {\n",
       "        text-align: right;\n",
       "    }\n",
       "</style>\n",
       "<table border=\"1\" class=\"dataframe\">\n",
       "  <thead>\n",
       "    <tr style=\"text-align: right;\">\n",
       "      <th></th>\n",
       "      <th>imovel_tipos_propriedade</th>\n",
       "      <th>imovel_endereco_bairro</th>\n",
       "      <th>imovel_endereco_localizacao</th>\n",
       "      <th>imovel_vagasGaragem</th>\n",
       "      <th>imovel_area</th>\n",
       "      <th>imovel_caracteristicas_propriedade</th>\n",
       "      <th>imovel_caracteristicas_condominio</th>\n",
       "      <th>imovel_caracteristicas_entorno</th>\n",
       "      <th>anuncio_tipos_publicacao</th>\n",
       "      <th>anuncio_tipos_listagem</th>\n",
       "      <th>anuncio_valores_venda</th>\n",
       "      <th>anuncio_valores_aluguel</th>\n",
       "      <th>anuncio_valores_condominio</th>\n",
       "      <th>anuncio_valores_iptu</th>\n",
       "      <th>anuncio_descricao</th>\n",
       "    </tr>\n",
       "  </thead>\n",
       "  <tbody>\n",
       "    <tr>\n",
       "      <th>0</th>\n",
       "      <td>Casa</td>\n",
       "      <td>Barra da Tijuca</td>\n",
       "      <td>{'type': 'Point', 'coordinates': [-43.3039086,...</td>\n",
       "      <td>4</td>\n",
       "      <td>279</td>\n",
       "      <td>['Área de Serviço', 'Terraço', 'Churrasqueira'...</td>\n",
       "      <td>['Churrasqueira', 'Salão de Jogos', 'Sauna', '...</td>\n",
       "      <td>['Próximo a Escola Particular', 'Próximo ao Me...</td>\n",
       "      <td>Padrão</td>\n",
       "      <td>Lançamento</td>\n",
       "      <td>2400000.0</td>\n",
       "      <td>0.0</td>\n",
       "      <td>790.0</td>\n",
       "      <td>5700.0</td>\n",
       "      <td>Amplo imóvel para venda com 3 quartos, sendo 1...</td>\n",
       "    </tr>\n",
       "    <tr>\n",
       "      <th>1</th>\n",
       "      <td>Apartamento</td>\n",
       "      <td>Campo Grande</td>\n",
       "      <td>{'type': 'Point', 'coordinates': [0, 0]}</td>\n",
       "      <td>1</td>\n",
       "      <td>60</td>\n",
       "      <td>['Sauna']</td>\n",
       "      <td>['Elevador', 'Playground', 'Salão de Festas', ...</td>\n",
       "      <td>['Próximo ao Shopping', 'Próximo a Áreas de La...</td>\n",
       "      <td>Padrão</td>\n",
       "      <td>Usado</td>\n",
       "      <td>200000.0</td>\n",
       "      <td>0.0</td>\n",
       "      <td>0.0</td>\n",
       "      <td>0.0</td>\n",
       "      <td>Amplo imóvel para venda com 2 quartos, sendo 0...</td>\n",
       "    </tr>\n",
       "  </tbody>\n",
       "</table>\n",
       "</div>"
      ],
      "text/plain": [
       "  imovel_tipos_propriedade imovel_endereco_bairro  \\\n",
       "0                     Casa        Barra da Tijuca   \n",
       "1              Apartamento           Campo Grande   \n",
       "\n",
       "                         imovel_endereco_localizacao  imovel_vagasGaragem  \\\n",
       "0  {'type': 'Point', 'coordinates': [-43.3039086,...                    4   \n",
       "1           {'type': 'Point', 'coordinates': [0, 0]}                    1   \n",
       "\n",
       "   imovel_area                 imovel_caracteristicas_propriedade  \\\n",
       "0          279  ['Área de Serviço', 'Terraço', 'Churrasqueira'...   \n",
       "1           60                                          ['Sauna']   \n",
       "\n",
       "                   imovel_caracteristicas_condominio  \\\n",
       "0  ['Churrasqueira', 'Salão de Jogos', 'Sauna', '...   \n",
       "1  ['Elevador', 'Playground', 'Salão de Festas', ...   \n",
       "\n",
       "                      imovel_caracteristicas_entorno anuncio_tipos_publicacao  \\\n",
       "0  ['Próximo a Escola Particular', 'Próximo ao Me...                   Padrão   \n",
       "1  ['Próximo ao Shopping', 'Próximo a Áreas de La...                   Padrão   \n",
       "\n",
       "  anuncio_tipos_listagem  anuncio_valores_venda  anuncio_valores_aluguel  \\\n",
       "0             Lançamento              2400000.0                      0.0   \n",
       "1                  Usado               200000.0                      0.0   \n",
       "\n",
       "   anuncio_valores_condominio  anuncio_valores_iptu  \\\n",
       "0                       790.0                5700.0   \n",
       "1                         0.0                   0.0   \n",
       "\n",
       "                                   anuncio_descricao  \n",
       "0  Amplo imóvel para venda com 3 quartos, sendo 1...  \n",
       "1  Amplo imóvel para venda com 2 quartos, sendo 0...  "
      ]
     },
     "execution_count": 30,
     "metadata": {},
     "output_type": "execute_result"
    }
   ],
   "source": [
    "pd.json_normalize(data=dados_normal['listings'].iloc[0], sep='_', max_level=2).head(2)"
   ]
  },
  {
   "cell_type": "code",
   "execution_count": 31,
   "metadata": {
    "id": "x4ZlYa3vevgX",
    "scrolled": true
   },
   "outputs": [
    {
     "data": {
      "text/html": [
       "<div>\n",
       "<style scoped>\n",
       "    .dataframe tbody tr th:only-of-type {\n",
       "        vertical-align: middle;\n",
       "    }\n",
       "\n",
       "    .dataframe tbody tr th {\n",
       "        vertical-align: top;\n",
       "    }\n",
       "\n",
       "    .dataframe thead th {\n",
       "        text-align: right;\n",
       "    }\n",
       "</style>\n",
       "<table border=\"1\" class=\"dataframe\">\n",
       "  <thead>\n",
       "    <tr style=\"text-align: right;\">\n",
       "      <th></th>\n",
       "      <th>imovel_tipos_propriedade</th>\n",
       "      <th>imovel_endereco_bairro</th>\n",
       "      <th>imovel_endereco_localizacao_type</th>\n",
       "      <th>imovel_endereco_localizacao_coordinates</th>\n",
       "      <th>imovel_vagasGaragem</th>\n",
       "      <th>imovel_area</th>\n",
       "      <th>imovel_caracteristicas_propriedade</th>\n",
       "      <th>imovel_caracteristicas_condominio</th>\n",
       "      <th>imovel_caracteristicas_entorno</th>\n",
       "      <th>anuncio_tipos_publicacao</th>\n",
       "      <th>anuncio_tipos_listagem</th>\n",
       "      <th>anuncio_valores_venda</th>\n",
       "      <th>anuncio_valores_aluguel</th>\n",
       "      <th>anuncio_valores_condominio</th>\n",
       "      <th>anuncio_valores_iptu</th>\n",
       "      <th>anuncio_descricao</th>\n",
       "    </tr>\n",
       "  </thead>\n",
       "  <tbody>\n",
       "    <tr>\n",
       "      <th>0</th>\n",
       "      <td>Casa</td>\n",
       "      <td>Barra da Tijuca</td>\n",
       "      <td>Point</td>\n",
       "      <td>[-43.3039086, -23.0139692]</td>\n",
       "      <td>4</td>\n",
       "      <td>279</td>\n",
       "      <td>['Área de Serviço', 'Terraço', 'Churrasqueira'...</td>\n",
       "      <td>['Churrasqueira', 'Salão de Jogos', 'Sauna', '...</td>\n",
       "      <td>['Próximo a Escola Particular', 'Próximo ao Me...</td>\n",
       "      <td>Padrão</td>\n",
       "      <td>Lançamento</td>\n",
       "      <td>2400000.0</td>\n",
       "      <td>0.0</td>\n",
       "      <td>790.0</td>\n",
       "      <td>5700.0</td>\n",
       "      <td>Amplo imóvel para venda com 3 quartos, sendo 1...</td>\n",
       "    </tr>\n",
       "    <tr>\n",
       "      <th>1</th>\n",
       "      <td>Apartamento</td>\n",
       "      <td>Campo Grande</td>\n",
       "      <td>Point</td>\n",
       "      <td>[0, 0]</td>\n",
       "      <td>1</td>\n",
       "      <td>60</td>\n",
       "      <td>['Sauna']</td>\n",
       "      <td>['Elevador', 'Playground', 'Salão de Festas', ...</td>\n",
       "      <td>['Próximo ao Shopping', 'Próximo a Áreas de La...</td>\n",
       "      <td>Padrão</td>\n",
       "      <td>Usado</td>\n",
       "      <td>200000.0</td>\n",
       "      <td>0.0</td>\n",
       "      <td>0.0</td>\n",
       "      <td>0.0</td>\n",
       "      <td>Amplo imóvel para venda com 2 quartos, sendo 0...</td>\n",
       "    </tr>\n",
       "  </tbody>\n",
       "</table>\n",
       "</div>"
      ],
      "text/plain": [
       "  imovel_tipos_propriedade imovel_endereco_bairro  \\\n",
       "0                     Casa        Barra da Tijuca   \n",
       "1              Apartamento           Campo Grande   \n",
       "\n",
       "  imovel_endereco_localizacao_type imovel_endereco_localizacao_coordinates  \\\n",
       "0                            Point              [-43.3039086, -23.0139692]   \n",
       "1                            Point                                  [0, 0]   \n",
       "\n",
       "   imovel_vagasGaragem  imovel_area  \\\n",
       "0                    4          279   \n",
       "1                    1           60   \n",
       "\n",
       "                  imovel_caracteristicas_propriedade  \\\n",
       "0  ['Área de Serviço', 'Terraço', 'Churrasqueira'...   \n",
       "1                                          ['Sauna']   \n",
       "\n",
       "                   imovel_caracteristicas_condominio  \\\n",
       "0  ['Churrasqueira', 'Salão de Jogos', 'Sauna', '...   \n",
       "1  ['Elevador', 'Playground', 'Salão de Festas', ...   \n",
       "\n",
       "                      imovel_caracteristicas_entorno anuncio_tipos_publicacao  \\\n",
       "0  ['Próximo a Escola Particular', 'Próximo ao Me...                   Padrão   \n",
       "1  ['Próximo ao Shopping', 'Próximo a Áreas de La...                   Padrão   \n",
       "\n",
       "  anuncio_tipos_listagem  anuncio_valores_venda  anuncio_valores_aluguel  \\\n",
       "0             Lançamento              2400000.0                      0.0   \n",
       "1                  Usado               200000.0                      0.0   \n",
       "\n",
       "   anuncio_valores_condominio  anuncio_valores_iptu  \\\n",
       "0                       790.0                5700.0   \n",
       "1                         0.0                   0.0   \n",
       "\n",
       "                                   anuncio_descricao  \n",
       "0  Amplo imóvel para venda com 3 quartos, sendo 1...  \n",
       "1  Amplo imóvel para venda com 2 quartos, sendo 0...  "
      ]
     },
     "execution_count": 31,
     "metadata": {},
     "output_type": "execute_result"
    }
   ],
   "source": [
    "dados_normal_listings = pd.json_normalize(data=dados['normal'], sep='_', record_path=['listings'])\n",
    "dados_normal_listings.head(2)"
   ]
  },
  {
   "cell_type": "code",
   "execution_count": 32,
   "metadata": {
    "id": "arGcoQHuevgX",
    "scrolled": true
   },
   "outputs": [
    {
     "data": {
      "text/html": [
       "<div>\n",
       "<style scoped>\n",
       "    .dataframe tbody tr th:only-of-type {\n",
       "        vertical-align: middle;\n",
       "    }\n",
       "\n",
       "    .dataframe tbody tr th {\n",
       "        vertical-align: top;\n",
       "    }\n",
       "\n",
       "    .dataframe thead th {\n",
       "        text-align: right;\n",
       "    }\n",
       "</style>\n",
       "<table border=\"1\" class=\"dataframe\">\n",
       "  <thead>\n",
       "    <tr style=\"text-align: right;\">\n",
       "      <th></th>\n",
       "      <th>imovel_tipos_propriedade</th>\n",
       "      <th>imovel_endereco_bairro</th>\n",
       "      <th>imovel_endereco_localizacao_type</th>\n",
       "      <th>imovel_endereco_localizacao_coordinates</th>\n",
       "      <th>imovel_vagasGaragem</th>\n",
       "      <th>imovel_area</th>\n",
       "      <th>imovel_caracteristicas_propriedade</th>\n",
       "      <th>imovel_caracteristicas_condominio</th>\n",
       "      <th>imovel_caracteristicas_entorno</th>\n",
       "      <th>anuncio_tipos_publicacao</th>\n",
       "      <th>anuncio_tipos_listagem</th>\n",
       "      <th>anuncio_valores_venda</th>\n",
       "      <th>anuncio_valores_aluguel</th>\n",
       "      <th>anuncio_valores_condominio</th>\n",
       "      <th>anuncio_valores_iptu</th>\n",
       "      <th>anuncio_descricao</th>\n",
       "    </tr>\n",
       "  </thead>\n",
       "  <tbody>\n",
       "    <tr>\n",
       "      <th>0</th>\n",
       "      <td>Casa</td>\n",
       "      <td>Engenho Novo</td>\n",
       "      <td>Point</td>\n",
       "      <td>[-43.2634918, -22.8971768]</td>\n",
       "      <td>0</td>\n",
       "      <td>0</td>\n",
       "      <td>['Sauna', 'Terraço', 'Acessibilidade', 'Mobili...</td>\n",
       "      <td>['Estacionamento Coberto', 'Estacionamento Vis...</td>\n",
       "      <td>['Próximo a Serviços de Saúde', 'Próximo ao Sh...</td>\n",
       "      <td>Padrão</td>\n",
       "      <td>Usado</td>\n",
       "      <td>195772.0</td>\n",
       "      <td>0.0</td>\n",
       "      <td>0.0</td>\n",
       "      <td>0.0</td>\n",
       "      <td>Amplo imóvel para venda com 0 quartos, sendo 0...</td>\n",
       "    </tr>\n",
       "    <tr>\n",
       "      <th>1</th>\n",
       "      <td>Cobertura</td>\n",
       "      <td>Vargem Grande</td>\n",
       "      <td>Point</td>\n",
       "      <td>[-43.4907917, -22.988122]</td>\n",
       "      <td>1</td>\n",
       "      <td>61</td>\n",
       "      <td>[]</td>\n",
       "      <td>['Estacionamento Visitantes', 'Estacionamento ...</td>\n",
       "      <td>['Próximo ao Metrô', 'Próximo a Praia', 'Próxi...</td>\n",
       "      <td>Destaque</td>\n",
       "      <td>Usado</td>\n",
       "      <td>305000.0</td>\n",
       "      <td>0.0</td>\n",
       "      <td>667.0</td>\n",
       "      <td>162.0</td>\n",
       "      <td>Amplo imóvel para venda com 2 quartos, sendo 0...</td>\n",
       "    </tr>\n",
       "  </tbody>\n",
       "</table>\n",
       "</div>"
      ],
      "text/plain": [
       "  imovel_tipos_propriedade imovel_endereco_bairro  \\\n",
       "0                     Casa           Engenho Novo   \n",
       "1                Cobertura          Vargem Grande   \n",
       "\n",
       "  imovel_endereco_localizacao_type imovel_endereco_localizacao_coordinates  \\\n",
       "0                            Point              [-43.2634918, -22.8971768]   \n",
       "1                            Point               [-43.4907917, -22.988122]   \n",
       "\n",
       "   imovel_vagasGaragem  imovel_area  \\\n",
       "0                    0            0   \n",
       "1                    1           61   \n",
       "\n",
       "                  imovel_caracteristicas_propriedade  \\\n",
       "0  ['Sauna', 'Terraço', 'Acessibilidade', 'Mobili...   \n",
       "1                                                 []   \n",
       "\n",
       "                   imovel_caracteristicas_condominio  \\\n",
       "0  ['Estacionamento Coberto', 'Estacionamento Vis...   \n",
       "1  ['Estacionamento Visitantes', 'Estacionamento ...   \n",
       "\n",
       "                      imovel_caracteristicas_entorno anuncio_tipos_publicacao  \\\n",
       "0  ['Próximo a Serviços de Saúde', 'Próximo ao Sh...                   Padrão   \n",
       "1  ['Próximo ao Metrô', 'Próximo a Praia', 'Próxi...                 Destaque   \n",
       "\n",
       "  anuncio_tipos_listagem  anuncio_valores_venda  anuncio_valores_aluguel  \\\n",
       "0                  Usado               195772.0                      0.0   \n",
       "1                  Usado               305000.0                      0.0   \n",
       "\n",
       "   anuncio_valores_condominio  anuncio_valores_iptu  \\\n",
       "0                         0.0                   0.0   \n",
       "1                       667.0                 162.0   \n",
       "\n",
       "                                   anuncio_descricao  \n",
       "0  Amplo imóvel para venda com 0 quartos, sendo 0...  \n",
       "1  Amplo imóvel para venda com 2 quartos, sendo 0...  "
      ]
     },
     "execution_count": 32,
     "metadata": {},
     "output_type": "execute_result"
    }
   ],
   "source": [
    "dados_highlights_listings = pd.json_normalize(data=dados['highlights'], sep='_', record_path=['listings'])\n",
    "dados_highlights_listings.head(2)"
   ]
  },
  {
   "cell_type": "code",
   "execution_count": 33,
   "metadata": {},
   "outputs": [
    {
     "data": {
      "text/plain": [
       "'{\"alunos\": [{\"Nome\": \"Rita\", \"Info\": {\"Idade\": 24, \"Medidas\": {\"Peso\": 62, \"Altura\": 1.65}}}, {\"Nome\": \"Zeca\", \"Info\": {\"Idade\": 32, \"Medidas\": {\"Peso\": 80, \"Altura\": 1.82}}}]}'"
      ]
     },
     "execution_count": 33,
     "metadata": {},
     "output_type": "execute_result"
    }
   ],
   "source": [
    "data_json = '{\"alunos\": [{\"Nome\": \"Rita\", \"Info\": {\"Idade\": 24, \"Medidas\": {\"Peso\": 62, \"Altura\": 1.65}}}, {\"Nome\": \"Zeca\", \"Info\": {\"Idade\": 32, \"Medidas\": {\"Peso\": 80, \"Altura\": 1.82}}}]}'\n",
    "data_json"
   ]
  },
  {
   "cell_type": "code",
   "execution_count": 34,
   "metadata": {},
   "outputs": [
    {
     "data": {
      "text/html": [
       "<div>\n",
       "<style scoped>\n",
       "    .dataframe tbody tr th:only-of-type {\n",
       "        vertical-align: middle;\n",
       "    }\n",
       "\n",
       "    .dataframe tbody tr th {\n",
       "        vertical-align: top;\n",
       "    }\n",
       "\n",
       "    .dataframe thead th {\n",
       "        text-align: right;\n",
       "    }\n",
       "</style>\n",
       "<table border=\"1\" class=\"dataframe\">\n",
       "  <thead>\n",
       "    <tr style=\"text-align: right;\">\n",
       "      <th></th>\n",
       "      <th>alunos</th>\n",
       "    </tr>\n",
       "  </thead>\n",
       "  <tbody>\n",
       "    <tr>\n",
       "      <th>0</th>\n",
       "      <td>{'Nome': 'Rita', 'Info': {'Idade': 24, 'Medida...</td>\n",
       "    </tr>\n",
       "    <tr>\n",
       "      <th>1</th>\n",
       "      <td>{'Nome': 'Zeca', 'Info': {'Idade': 32, 'Medida...</td>\n",
       "    </tr>\n",
       "  </tbody>\n",
       "</table>\n",
       "</div>"
      ],
      "text/plain": [
       "                                              alunos\n",
       "0  {'Nome': 'Rita', 'Info': {'Idade': 24, 'Medida...\n",
       "1  {'Nome': 'Zeca', 'Info': {'Idade': 32, 'Medida..."
      ]
     },
     "execution_count": 34,
     "metadata": {},
     "output_type": "execute_result"
    }
   ],
   "source": [
    "data = pd.read_json(path_or_buf=data_json, orient='columns')\n",
    "data"
   ]
  },
  {
   "cell_type": "code",
   "execution_count": 35,
   "metadata": {},
   "outputs": [
    {
     "data": {
      "text/html": [
       "<div>\n",
       "<style scoped>\n",
       "    .dataframe tbody tr th:only-of-type {\n",
       "        vertical-align: middle;\n",
       "    }\n",
       "\n",
       "    .dataframe tbody tr th {\n",
       "        vertical-align: top;\n",
       "    }\n",
       "\n",
       "    .dataframe thead th {\n",
       "        text-align: right;\n",
       "    }\n",
       "</style>\n",
       "<table border=\"1\" class=\"dataframe\">\n",
       "  <thead>\n",
       "    <tr style=\"text-align: right;\">\n",
       "      <th></th>\n",
       "      <th>Nome</th>\n",
       "      <th>Info_Idade</th>\n",
       "      <th>Info_Medidas</th>\n",
       "    </tr>\n",
       "  </thead>\n",
       "  <tbody>\n",
       "    <tr>\n",
       "      <th>0</th>\n",
       "      <td>Rita</td>\n",
       "      <td>24</td>\n",
       "      <td>{'Peso': 62, 'Altura': 1.65}</td>\n",
       "    </tr>\n",
       "    <tr>\n",
       "      <th>1</th>\n",
       "      <td>Zeca</td>\n",
       "      <td>32</td>\n",
       "      <td>{'Peso': 80, 'Altura': 1.82}</td>\n",
       "    </tr>\n",
       "  </tbody>\n",
       "</table>\n",
       "</div>"
      ],
      "text/plain": [
       "   Nome  Info_Idade                  Info_Medidas\n",
       "0  Rita          24  {'Peso': 62, 'Altura': 1.65}\n",
       "1  Zeca          32  {'Peso': 80, 'Altura': 1.82}"
      ]
     },
     "execution_count": 35,
     "metadata": {},
     "output_type": "execute_result"
    }
   ],
   "source": [
    "data = pd.read_json(path_or_buf=data_json, orient='columns')\n",
    "pd.json_normalize(data=data['alunos'], sep='_', max_level=1)"
   ]
  },
  {
   "cell_type": "code",
   "execution_count": 36,
   "metadata": {},
   "outputs": [
    {
     "data": {
      "text/html": [
       "<div>\n",
       "<style scoped>\n",
       "    .dataframe tbody tr th:only-of-type {\n",
       "        vertical-align: middle;\n",
       "    }\n",
       "\n",
       "    .dataframe tbody tr th {\n",
       "        vertical-align: top;\n",
       "    }\n",
       "\n",
       "    .dataframe thead th {\n",
       "        text-align: right;\n",
       "    }\n",
       "</style>\n",
       "<table border=\"1\" class=\"dataframe\">\n",
       "  <thead>\n",
       "    <tr style=\"text-align: right;\">\n",
       "      <th></th>\n",
       "      <th>Nome</th>\n",
       "      <th>Info_Idade</th>\n",
       "      <th>Info_Medidas_Peso</th>\n",
       "      <th>Info_Medidas_Altura</th>\n",
       "    </tr>\n",
       "  </thead>\n",
       "  <tbody>\n",
       "    <tr>\n",
       "      <th>0</th>\n",
       "      <td>Rita</td>\n",
       "      <td>24</td>\n",
       "      <td>62</td>\n",
       "      <td>1.65</td>\n",
       "    </tr>\n",
       "    <tr>\n",
       "      <th>1</th>\n",
       "      <td>Zeca</td>\n",
       "      <td>32</td>\n",
       "      <td>80</td>\n",
       "      <td>1.82</td>\n",
       "    </tr>\n",
       "  </tbody>\n",
       "</table>\n",
       "</div>"
      ],
      "text/plain": [
       "   Nome  Info_Idade  Info_Medidas_Peso  Info_Medidas_Altura\n",
       "0  Rita          24                 62                 1.65\n",
       "1  Zeca          32                 80                 1.82"
      ]
     },
     "execution_count": 36,
     "metadata": {},
     "output_type": "execute_result"
    }
   ],
   "source": [
    "pd.json_normalize(data=data['alunos'], sep='_')"
   ]
  },
  {
   "cell_type": "markdown",
   "metadata": {
    "id": "cpaDGnecevgX"
   },
   "source": [
    "## Trabalhando com dados textuais"
   ]
  },
  {
   "cell_type": "markdown",
   "metadata": {
    "id": "CMgPdhFNevgX"
   },
   "source": [
    "### Transformando *strings* em listas do Python"
   ]
  },
  {
   "cell_type": "code",
   "execution_count": 37,
   "metadata": {},
   "outputs": [
    {
     "data": {
      "text/plain": [
       "Index(['imovel_tipos_propriedade', 'imovel_endereco_bairro',\n",
       "       'imovel_endereco_localizacao_type',\n",
       "       'imovel_endereco_localizacao_coordinates', 'imovel_vagasGaragem',\n",
       "       'imovel_area', 'imovel_caracteristicas_propriedade',\n",
       "       'imovel_caracteristicas_condominio', 'imovel_caracteristicas_entorno',\n",
       "       'anuncio_tipos_publicacao', 'anuncio_tipos_listagem',\n",
       "       'anuncio_valores_venda', 'anuncio_valores_aluguel',\n",
       "       'anuncio_valores_condominio', 'anuncio_valores_iptu',\n",
       "       'anuncio_descricao'],\n",
       "      dtype='object')"
      ]
     },
     "execution_count": 37,
     "metadata": {},
     "output_type": "execute_result"
    }
   ],
   "source": [
    "dados_normal_listings.columns"
   ]
  },
  {
   "cell_type": "code",
   "execution_count": 38,
   "metadata": {
    "id": "vJmnnHZ_evgY",
    "scrolled": true
   },
   "outputs": [
    {
     "data": {
      "text/plain": [
       "\"['Área de Serviço', 'Terraço', 'Churrasqueira', 'Quarto/WC Empregada', 'Sauna', 'Varanda', 'Gás Encanado', 'Closet', 'Piscina', 'Mobiliado', 'Armários Planejados', 'Acessibilidade']\""
      ]
     },
     "execution_count": 38,
     "metadata": {},
     "output_type": "execute_result"
    }
   ],
   "source": [
    "lista_str = dados_normal_listings.loc[0, 'imovel_caracteristicas_propriedade']\n",
    "lista_str"
   ]
  },
  {
   "cell_type": "code",
   "execution_count": 39,
   "metadata": {
    "id": "karvMBcBifJf"
   },
   "outputs": [
    {
     "data": {
      "text/plain": [
       "str"
      ]
     },
     "execution_count": 39,
     "metadata": {},
     "output_type": "execute_result"
    }
   ],
   "source": [
    "type(lista_str)"
   ]
  },
  {
   "cell_type": "code",
   "execution_count": 40,
   "metadata": {
    "id": "Cw5aR9T4ifJg"
   },
   "outputs": [
    {
     "data": {
      "text/plain": [
       "\"'Área de Serviço', 'Terraço', 'Churrasqueira', 'Quarto/WC Empregada', 'Sauna', 'Varanda', 'Gás Encanado', 'Closet', 'Piscina', 'Mobiliado', 'Armários Planejados', 'Acessibilidade'\""
      ]
     },
     "execution_count": 40,
     "metadata": {},
     "output_type": "execute_result"
    }
   ],
   "source": [
    "lista_str[1:-1]"
   ]
  },
  {
   "cell_type": "code",
   "execution_count": 41,
   "metadata": {},
   "outputs": [
    {
     "data": {
      "text/plain": [
       "\"'Área de Serviço', 'Terraço', 'Churrasqueira', 'Quarto/WC Empregada', 'Sauna', 'Varanda', 'Gás Encanado', 'Closet', 'Piscina', 'Mobiliado', 'Armários Planejados', 'Acessibilidade'\""
      ]
     },
     "execution_count": 41,
     "metadata": {},
     "output_type": "execute_result"
    }
   ],
   "source": [
    "lista_str.strip(\"[]\")"
   ]
  },
  {
   "cell_type": "code",
   "execution_count": 42,
   "metadata": {},
   "outputs": [
    {
     "data": {
      "text/plain": [
       "['Área de Serviço',\n",
       " 'Terraço',\n",
       " 'Churrasqueira',\n",
       " 'Quarto/WC Empregada',\n",
       " 'Sauna',\n",
       " 'Varanda',\n",
       " 'Gás Encanado',\n",
       " 'Closet',\n",
       " 'Piscina',\n",
       " 'Mobiliado',\n",
       " 'Armários Planejados',\n",
       " 'Acessibilidade']"
      ]
     },
     "execution_count": 42,
     "metadata": {},
     "output_type": "execute_result"
    }
   ],
   "source": [
    "lista = lista_str[1:-1].replace(\"'\",\"\").split(', ')\n",
    "lista"
   ]
  },
  {
   "cell_type": "code",
   "execution_count": 43,
   "metadata": {},
   "outputs": [
    {
     "data": {
      "text/plain": [
       "list"
      ]
     },
     "execution_count": 43,
     "metadata": {},
     "output_type": "execute_result"
    }
   ],
   "source": [
    "type(lista)"
   ]
  },
  {
   "cell_type": "markdown",
   "metadata": {
    "id": "cYPl0qylifJj"
   },
   "source": [
    "#### Métodos de *strings*\n",
    "\n",
    "[Documentação](https://docs.python.org/3.6/library/stdtypes.html#string-methods)"
   ]
  },
  {
   "cell_type": "code",
   "execution_count": 44,
   "metadata": {
    "id": "IYEo2u_bifJl"
   },
   "outputs": [
    {
     "data": {
      "text/plain": [
       "0     ['Área de Serviço', 'Terraço', 'Churrasqueira'...\n",
       "1                                             ['Sauna']\n",
       "2     ['Acessibilidade', 'Área de Serviço', 'Sauna',...\n",
       "3     ['Vista Panorâmica', 'Piscina', 'Sauna', 'Clos...\n",
       "4                               ['Armários Planejados']\n",
       "5     ['Mobiliado', 'Varanda', 'Closet', 'Churrasque...\n",
       "6     ['Churrasqueira', 'Gás Encanado', 'Cozinha Ame...\n",
       "7     ['Quarto/WC Empregada', 'Gás Encanado', 'Sauna...\n",
       "8     ['Acessibilidade', 'Mobiliado', 'Churrasqueira...\n",
       "9     ['Área de Serviço', 'Terraço', 'Ambientes Inte...\n",
       "10    ['Closet', 'Ambientes Integrados', 'Área de Se...\n",
       "11                                                   []\n",
       "12    ['Piscina', 'Quarto/WC Empregada', 'Gás Encana...\n",
       "13    ['Sauna', 'Terraço', 'Closet', 'Gás Encanado',...\n",
       "14                                                   []\n",
       "15    ['Quarto/WC Empregada', 'Varanda', 'Piscina', ...\n",
       "16    ['Vista Panorâmica', 'Sauna', 'Área de Serviço...\n",
       "17    ['Quarto/WC Empregada', 'Churrasqueira', 'Sauna']\n",
       "18    ['Sauna', 'Ambientes Integrados', 'Armários Pl...\n",
       "19    ['Mobiliado', 'Acessibilidade', 'Área de Servi...\n",
       "20    ['Sauna', 'Gás Encanado', 'Terraço', 'Ambiente...\n",
       "21                                                   []\n",
       "22    ['Terraço', 'Armários Planejados', 'Ambientes ...\n",
       "23    ['Área de Serviço', 'Quarto/WC Empregada', 'Cl...\n",
       "24    ['Cozinha Americana', 'Gás Encanado', 'Mobilia...\n",
       "25    ['Área de Serviço', 'Ambientes Integrados', 'V...\n",
       "26    ['Gás Encanado', 'Cozinha Americana', 'Vista P...\n",
       "27    ['Vista Panorâmica', 'Quarto/WC Empregada', 'S...\n",
       "28    ['Armários Planejados', 'Piscina', 'Churrasque...\n",
       "29                                                   []\n",
       "30    ['Mobiliado', 'Sauna', 'Cozinha Americana', 'Á...\n",
       "31    ['Cozinha Americana', 'Varanda', 'Vista Panorâ...\n",
       "32    ['Terraço', 'Vista Panorâmica', 'Piscina', 'Ac...\n",
       "33    ['Cozinha Americana', 'Quarto/WC Empregada', '...\n",
       "34    ['Área de Serviço', 'Terraço', 'Piscina', 'Clo...\n",
       "35    ['Acessibilidade', 'Churrasqueira', 'Sauna', '...\n",
       "36    ['Sauna', 'Vista Panorâmica', 'Terraço', 'Mobi...\n",
       "37    ['Gás Encanado', 'Mobiliado', 'Cozinha America...\n",
       "38    ['Área de Serviço', 'Gás Encanado', 'Cozinha A...\n",
       "39    ['Acessibilidade', 'Cozinha Americana', 'Varan...\n",
       "40    ['Sauna', 'Piscina', 'Closet', 'Varanda', 'Ace...\n",
       "41                    ['Mobiliado', 'Vista Panorâmica']\n",
       "42                                                   []\n",
       "43    ['Cozinha Americana', 'Vista Panorâmica', 'Gás...\n",
       "44    ['Mobiliado', 'Varanda', 'Cozinha Americana', ...\n",
       "45    ['Ambientes Integrados', 'Sauna', 'Piscina', '...\n",
       "46    ['Acessibilidade', 'Gás Encanado', 'Área de Se...\n",
       "47    ['Acessibilidade', 'Quarto/WC Empregada', 'Arm...\n",
       "48    ['Cozinha Americana', 'Mobiliado', 'Sauna', 'P...\n",
       "49    ['Varanda', 'Closet', 'Armários Planejados', '...\n",
       "Name: imovel_caracteristicas_propriedade, dtype: object"
      ]
     },
     "execution_count": 44,
     "metadata": {},
     "output_type": "execute_result"
    }
   ],
   "source": [
    "Texto = dados_normal_listings.loc[:, 'imovel_caracteristicas_propriedade']\n",
    "Texto"
   ]
  },
  {
   "cell_type": "code",
   "execution_count": 45,
   "metadata": {
    "id": "QEy7_TWJevgZ"
   },
   "outputs": [],
   "source": [
    "data_string = \"#-> Churrasqueira | Sauna | Mobiliado | Piscina <-#\""
   ]
  },
  {
   "cell_type": "code",
   "execution_count": 46,
   "metadata": {
    "id": "lFO8yF2QifJt"
   },
   "outputs": [
    {
     "data": {
      "text/plain": [
       "['Churrasqueira', 'Sauna', 'Mobiliado', 'Piscina']"
      ]
     },
     "execution_count": 46,
     "metadata": {},
     "output_type": "execute_result"
    }
   ],
   "source": [
    "data_string[4:-4].split(' | ')"
   ]
  },
  {
   "cell_type": "code",
   "execution_count": 47,
   "metadata": {
    "id": "-b5SugvuifJv"
   },
   "outputs": [
    {
     "data": {
      "text/plain": [
       "['Churrasqueira', 'Sauna', 'Mobiliado', 'Piscina']"
      ]
     },
     "execution_count": 47,
     "metadata": {},
     "output_type": "execute_result"
    }
   ],
   "source": [
    "data_string.strip(\"#->< \").split(' | ')"
   ]
  },
  {
   "cell_type": "markdown",
   "metadata": {
    "id": "8Ak250BYevga"
   },
   "source": [
    "#### `str`\n",
    "\n",
    "[Documentação](https://pandas.pydata.org/pandas-docs/stable/reference/api/pandas.Series.str.html)"
   ]
  },
  {
   "cell_type": "code",
   "execution_count": 48,
   "metadata": {
    "id": "6vv8s40ievga"
   },
   "outputs": [
    {
     "data": {
      "text/plain": [
       "0    'Área de Serviço', 'Terraço', 'Churrasqueira',...\n",
       "1                                              'Sauna'\n",
       "Name: imovel_caracteristicas_propriedade, dtype: object"
      ]
     },
     "execution_count": 48,
     "metadata": {},
     "output_type": "execute_result"
    }
   ],
   "source": [
    "Texto.str[1:-1][:2]"
   ]
  },
  {
   "cell_type": "code",
   "execution_count": 49,
   "metadata": {
    "id": "GKIZLU9_ifJ3"
   },
   "outputs": [
    {
     "data": {
      "text/plain": [
       "0    Área de Serviço, Terraço, Churrasqueira, Quart...\n",
       "1                                                Sauna\n",
       "Name: imovel_caracteristicas_propriedade, dtype: object"
      ]
     },
     "execution_count": 49,
     "metadata": {},
     "output_type": "execute_result"
    }
   ],
   "source": [
    "Texto.str[1:-1].str.replace(\"'\",\"\")[:2]"
   ]
  },
  {
   "cell_type": "code",
   "execution_count": 50,
   "metadata": {
    "id": "j5ZntTzAifJ5"
   },
   "outputs": [
    {
     "data": {
      "text/plain": [
       "0    [Área de Serviço, Terraço, Churrasqueira, Quar...\n",
       "1                                              [Sauna]\n",
       "Name: imovel_caracteristicas_propriedade, dtype: object"
      ]
     },
     "execution_count": 50,
     "metadata": {},
     "output_type": "execute_result"
    }
   ],
   "source": [
    "Texto.str[1:-1].str.replace(\"'\",\"\").str.split(\", \")[:2]"
   ]
  },
  {
   "cell_type": "code",
   "execution_count": 51,
   "metadata": {
    "id": "TJpsQdSPifJ9"
   },
   "outputs": [
    {
     "data": {
      "text/plain": [
       "0    [Área de Serviço, Terraço, Churrasqueira, Quar...\n",
       "1                                              [Sauna]\n",
       "Name: imovel_caracteristicas_propriedade, dtype: object"
      ]
     },
     "execution_count": 51,
     "metadata": {},
     "output_type": "execute_result"
    }
   ],
   "source": [
    "Texto = Texto.str[1:-1].str.replace(\"'\",\"\").str.split(\", \")[:2]\n",
    "Texto"
   ]
  },
  {
   "cell_type": "code",
   "execution_count": 52,
   "metadata": {
    "id": "-diMtJl7ifKA"
   },
   "outputs": [
    {
     "data": {
      "text/plain": [
       "pandas.core.series.Series"
      ]
     },
     "execution_count": 52,
     "metadata": {},
     "output_type": "execute_result"
    }
   ],
   "source": [
    "type(Texto)"
   ]
  },
  {
   "cell_type": "markdown",
   "metadata": {
    "id": "udrVGc3_evgb"
   },
   "source": [
    "#### `filter`\n",
    "\n",
    "[Documentação](https://pandas.pydata.org/pandas-docs/stable/reference/api/pandas.DataFrame.filter.html)"
   ]
  },
  {
   "cell_type": "code",
   "execution_count": 53,
   "metadata": {
    "id": "7uNZ9jOCevgc"
   },
   "outputs": [
    {
     "data": {
      "text/html": [
       "<div>\n",
       "<style scoped>\n",
       "    .dataframe tbody tr th:only-of-type {\n",
       "        vertical-align: middle;\n",
       "    }\n",
       "\n",
       "    .dataframe tbody tr th {\n",
       "        vertical-align: top;\n",
       "    }\n",
       "\n",
       "    .dataframe thead th {\n",
       "        text-align: right;\n",
       "    }\n",
       "</style>\n",
       "<table border=\"1\" class=\"dataframe\">\n",
       "  <thead>\n",
       "    <tr style=\"text-align: right;\">\n",
       "      <th></th>\n",
       "      <th>imovel_tipos_propriedade</th>\n",
       "      <th>imovel_endereco_bairro</th>\n",
       "      <th>imovel_endereco_localizacao_type</th>\n",
       "      <th>imovel_endereco_localizacao_coordinates</th>\n",
       "      <th>imovel_vagasGaragem</th>\n",
       "      <th>imovel_area</th>\n",
       "      <th>imovel_caracteristicas_propriedade</th>\n",
       "      <th>imovel_caracteristicas_condominio</th>\n",
       "      <th>imovel_caracteristicas_entorno</th>\n",
       "      <th>anuncio_tipos_publicacao</th>\n",
       "      <th>anuncio_tipos_listagem</th>\n",
       "      <th>anuncio_valores_venda</th>\n",
       "      <th>anuncio_valores_aluguel</th>\n",
       "      <th>anuncio_valores_condominio</th>\n",
       "      <th>anuncio_valores_iptu</th>\n",
       "      <th>anuncio_descricao</th>\n",
       "    </tr>\n",
       "  </thead>\n",
       "  <tbody>\n",
       "    <tr>\n",
       "      <th>0</th>\n",
       "      <td>Casa</td>\n",
       "      <td>Barra da Tijuca</td>\n",
       "      <td>Point</td>\n",
       "      <td>[-43.3039086, -23.0139692]</td>\n",
       "      <td>4</td>\n",
       "      <td>279</td>\n",
       "      <td>['Área de Serviço', 'Terraço', 'Churrasqueira'...</td>\n",
       "      <td>['Churrasqueira', 'Salão de Jogos', 'Sauna', '...</td>\n",
       "      <td>['Próximo a Escola Particular', 'Próximo ao Me...</td>\n",
       "      <td>Padrão</td>\n",
       "      <td>Lançamento</td>\n",
       "      <td>2400000.0</td>\n",
       "      <td>0.0</td>\n",
       "      <td>790.0</td>\n",
       "      <td>5700.0</td>\n",
       "      <td>Amplo imóvel para venda com 3 quartos, sendo 1...</td>\n",
       "    </tr>\n",
       "    <tr>\n",
       "      <th>1</th>\n",
       "      <td>Apartamento</td>\n",
       "      <td>Campo Grande</td>\n",
       "      <td>Point</td>\n",
       "      <td>[0, 0]</td>\n",
       "      <td>1</td>\n",
       "      <td>60</td>\n",
       "      <td>['Sauna']</td>\n",
       "      <td>['Elevador', 'Playground', 'Salão de Festas', ...</td>\n",
       "      <td>['Próximo ao Shopping', 'Próximo a Áreas de La...</td>\n",
       "      <td>Padrão</td>\n",
       "      <td>Usado</td>\n",
       "      <td>200000.0</td>\n",
       "      <td>0.0</td>\n",
       "      <td>0.0</td>\n",
       "      <td>0.0</td>\n",
       "      <td>Amplo imóvel para venda com 2 quartos, sendo 0...</td>\n",
       "    </tr>\n",
       "  </tbody>\n",
       "</table>\n",
       "</div>"
      ],
      "text/plain": [
       "  imovel_tipos_propriedade imovel_endereco_bairro  \\\n",
       "0                     Casa        Barra da Tijuca   \n",
       "1              Apartamento           Campo Grande   \n",
       "\n",
       "  imovel_endereco_localizacao_type imovel_endereco_localizacao_coordinates  \\\n",
       "0                            Point              [-43.3039086, -23.0139692]   \n",
       "1                            Point                                  [0, 0]   \n",
       "\n",
       "   imovel_vagasGaragem  imovel_area  \\\n",
       "0                    4          279   \n",
       "1                    1           60   \n",
       "\n",
       "                  imovel_caracteristicas_propriedade  \\\n",
       "0  ['Área de Serviço', 'Terraço', 'Churrasqueira'...   \n",
       "1                                          ['Sauna']   \n",
       "\n",
       "                   imovel_caracteristicas_condominio  \\\n",
       "0  ['Churrasqueira', 'Salão de Jogos', 'Sauna', '...   \n",
       "1  ['Elevador', 'Playground', 'Salão de Festas', ...   \n",
       "\n",
       "                      imovel_caracteristicas_entorno anuncio_tipos_publicacao  \\\n",
       "0  ['Próximo a Escola Particular', 'Próximo ao Me...                   Padrão   \n",
       "1  ['Próximo ao Shopping', 'Próximo a Áreas de La...                   Padrão   \n",
       "\n",
       "  anuncio_tipos_listagem  anuncio_valores_venda  anuncio_valores_aluguel  \\\n",
       "0             Lançamento              2400000.0                      0.0   \n",
       "1                  Usado               200000.0                      0.0   \n",
       "\n",
       "   anuncio_valores_condominio  anuncio_valores_iptu  \\\n",
       "0                       790.0                5700.0   \n",
       "1                         0.0                   0.0   \n",
       "\n",
       "                                   anuncio_descricao  \n",
       "0  Amplo imóvel para venda com 3 quartos, sendo 1...  \n",
       "1  Amplo imóvel para venda com 2 quartos, sendo 0...  "
      ]
     },
     "execution_count": 53,
     "metadata": {},
     "output_type": "execute_result"
    }
   ],
   "source": [
    "dados_normal_listings.head(2)"
   ]
  },
  {
   "cell_type": "code",
   "execution_count": 54,
   "metadata": {},
   "outputs": [
    {
     "data": {
      "text/plain": [
       "Index(['imovel_caracteristicas_propriedade',\n",
       "       'imovel_caracteristicas_condominio', 'imovel_caracteristicas_entorno'],\n",
       "      dtype='object')"
      ]
     },
     "execution_count": 54,
     "metadata": {},
     "output_type": "execute_result"
    }
   ],
   "source": [
    "columns = dados_normal_listings.filter(like='imovel_caracteristicas_').columns\n",
    "columns"
   ]
  },
  {
   "cell_type": "code",
   "execution_count": 55,
   "metadata": {
    "id": "S1vRA6-pifKN",
    "scrolled": true
   },
   "outputs": [],
   "source": [
    "for col in columns:\n",
    "    dados_normal_listings[col]= dados_normal_listings[col].str[1:-1].str.replace(\"'\",\"\").str.split(\", \")\n",
    "    dados_highlights_listings[col] = dados_highlights_listings[col].str[1:-1].str.replace(\"'\",\"\").str.split(\", \")"
   ]
  },
  {
   "cell_type": "code",
   "execution_count": 56,
   "metadata": {},
   "outputs": [
    {
     "data": {
      "text/html": [
       "<div>\n",
       "<style scoped>\n",
       "    .dataframe tbody tr th:only-of-type {\n",
       "        vertical-align: middle;\n",
       "    }\n",
       "\n",
       "    .dataframe tbody tr th {\n",
       "        vertical-align: top;\n",
       "    }\n",
       "\n",
       "    .dataframe thead th {\n",
       "        text-align: right;\n",
       "    }\n",
       "</style>\n",
       "<table border=\"1\" class=\"dataframe\">\n",
       "  <thead>\n",
       "    <tr style=\"text-align: right;\">\n",
       "      <th></th>\n",
       "      <th>imovel_tipos_propriedade</th>\n",
       "      <th>imovel_endereco_bairro</th>\n",
       "      <th>imovel_endereco_localizacao_type</th>\n",
       "      <th>imovel_endereco_localizacao_coordinates</th>\n",
       "      <th>imovel_vagasGaragem</th>\n",
       "      <th>imovel_area</th>\n",
       "      <th>imovel_caracteristicas_propriedade</th>\n",
       "      <th>imovel_caracteristicas_condominio</th>\n",
       "      <th>imovel_caracteristicas_entorno</th>\n",
       "      <th>anuncio_tipos_publicacao</th>\n",
       "      <th>anuncio_tipos_listagem</th>\n",
       "      <th>anuncio_valores_venda</th>\n",
       "      <th>anuncio_valores_aluguel</th>\n",
       "      <th>anuncio_valores_condominio</th>\n",
       "      <th>anuncio_valores_iptu</th>\n",
       "      <th>anuncio_descricao</th>\n",
       "    </tr>\n",
       "  </thead>\n",
       "  <tbody>\n",
       "    <tr>\n",
       "      <th>0</th>\n",
       "      <td>Casa</td>\n",
       "      <td>Barra da Tijuca</td>\n",
       "      <td>Point</td>\n",
       "      <td>[-43.3039086, -23.0139692]</td>\n",
       "      <td>4</td>\n",
       "      <td>279</td>\n",
       "      <td>[Área de Serviço, Terraço, Churrasqueira, Quar...</td>\n",
       "      <td>[Churrasqueira, Salão de Jogos, Sauna, Estacio...</td>\n",
       "      <td>[Próximo a Escola Particular, Próximo ao Metrô...</td>\n",
       "      <td>Padrão</td>\n",
       "      <td>Lançamento</td>\n",
       "      <td>2400000.0</td>\n",
       "      <td>0.0</td>\n",
       "      <td>790.0</td>\n",
       "      <td>5700.0</td>\n",
       "      <td>Amplo imóvel para venda com 3 quartos, sendo 1...</td>\n",
       "    </tr>\n",
       "    <tr>\n",
       "      <th>1</th>\n",
       "      <td>Apartamento</td>\n",
       "      <td>Campo Grande</td>\n",
       "      <td>Point</td>\n",
       "      <td>[0, 0]</td>\n",
       "      <td>1</td>\n",
       "      <td>60</td>\n",
       "      <td>[Sauna]</td>\n",
       "      <td>[Elevador, Playground, Salão de Festas, Sistem...</td>\n",
       "      <td>[Próximo ao Shopping, Próximo a Áreas de Lazer...</td>\n",
       "      <td>Padrão</td>\n",
       "      <td>Usado</td>\n",
       "      <td>200000.0</td>\n",
       "      <td>0.0</td>\n",
       "      <td>0.0</td>\n",
       "      <td>0.0</td>\n",
       "      <td>Amplo imóvel para venda com 2 quartos, sendo 0...</td>\n",
       "    </tr>\n",
       "  </tbody>\n",
       "</table>\n",
       "</div>"
      ],
      "text/plain": [
       "  imovel_tipos_propriedade imovel_endereco_bairro  \\\n",
       "0                     Casa        Barra da Tijuca   \n",
       "1              Apartamento           Campo Grande   \n",
       "\n",
       "  imovel_endereco_localizacao_type imovel_endereco_localizacao_coordinates  \\\n",
       "0                            Point              [-43.3039086, -23.0139692]   \n",
       "1                            Point                                  [0, 0]   \n",
       "\n",
       "   imovel_vagasGaragem  imovel_area  \\\n",
       "0                    4          279   \n",
       "1                    1           60   \n",
       "\n",
       "                  imovel_caracteristicas_propriedade  \\\n",
       "0  [Área de Serviço, Terraço, Churrasqueira, Quar...   \n",
       "1                                            [Sauna]   \n",
       "\n",
       "                   imovel_caracteristicas_condominio  \\\n",
       "0  [Churrasqueira, Salão de Jogos, Sauna, Estacio...   \n",
       "1  [Elevador, Playground, Salão de Festas, Sistem...   \n",
       "\n",
       "                      imovel_caracteristicas_entorno anuncio_tipos_publicacao  \\\n",
       "0  [Próximo a Escola Particular, Próximo ao Metrô...                   Padrão   \n",
       "1  [Próximo ao Shopping, Próximo a Áreas de Lazer...                   Padrão   \n",
       "\n",
       "  anuncio_tipos_listagem  anuncio_valores_venda  anuncio_valores_aluguel  \\\n",
       "0             Lançamento              2400000.0                      0.0   \n",
       "1                  Usado               200000.0                      0.0   \n",
       "\n",
       "   anuncio_valores_condominio  anuncio_valores_iptu  \\\n",
       "0                       790.0                5700.0   \n",
       "1                         0.0                   0.0   \n",
       "\n",
       "                                   anuncio_descricao  \n",
       "0  Amplo imóvel para venda com 3 quartos, sendo 1...  \n",
       "1  Amplo imóvel para venda com 2 quartos, sendo 0...  "
      ]
     },
     "execution_count": 56,
     "metadata": {},
     "output_type": "execute_result"
    }
   ],
   "source": [
    "dados_normal_listings.head(2)"
   ]
  },
  {
   "cell_type": "code",
   "execution_count": 57,
   "metadata": {},
   "outputs": [
    {
     "data": {
      "text/html": [
       "<div>\n",
       "<style scoped>\n",
       "    .dataframe tbody tr th:only-of-type {\n",
       "        vertical-align: middle;\n",
       "    }\n",
       "\n",
       "    .dataframe tbody tr th {\n",
       "        vertical-align: top;\n",
       "    }\n",
       "\n",
       "    .dataframe thead th {\n",
       "        text-align: right;\n",
       "    }\n",
       "</style>\n",
       "<table border=\"1\" class=\"dataframe\">\n",
       "  <thead>\n",
       "    <tr style=\"text-align: right;\">\n",
       "      <th></th>\n",
       "      <th>imovel_tipos_propriedade</th>\n",
       "      <th>imovel_endereco_bairro</th>\n",
       "      <th>imovel_endereco_localizacao_type</th>\n",
       "      <th>imovel_endereco_localizacao_coordinates</th>\n",
       "      <th>imovel_vagasGaragem</th>\n",
       "      <th>imovel_area</th>\n",
       "      <th>imovel_caracteristicas_propriedade</th>\n",
       "      <th>imovel_caracteristicas_condominio</th>\n",
       "      <th>imovel_caracteristicas_entorno</th>\n",
       "      <th>anuncio_tipos_publicacao</th>\n",
       "      <th>anuncio_tipos_listagem</th>\n",
       "      <th>anuncio_valores_venda</th>\n",
       "      <th>anuncio_valores_aluguel</th>\n",
       "      <th>anuncio_valores_condominio</th>\n",
       "      <th>anuncio_valores_iptu</th>\n",
       "      <th>anuncio_descricao</th>\n",
       "    </tr>\n",
       "  </thead>\n",
       "  <tbody>\n",
       "    <tr>\n",
       "      <th>0</th>\n",
       "      <td>Casa</td>\n",
       "      <td>Engenho Novo</td>\n",
       "      <td>Point</td>\n",
       "      <td>[-43.2634918, -22.8971768]</td>\n",
       "      <td>0</td>\n",
       "      <td>0</td>\n",
       "      <td>[Sauna, Terraço, Acessibilidade, Mobiliado, Vi...</td>\n",
       "      <td>[Estacionamento Coberto, Estacionamento Visita...</td>\n",
       "      <td>[Próximo a Serviços de Saúde, Próximo ao Shopp...</td>\n",
       "      <td>Padrão</td>\n",
       "      <td>Usado</td>\n",
       "      <td>195772.0</td>\n",
       "      <td>0.0</td>\n",
       "      <td>0.0</td>\n",
       "      <td>0.0</td>\n",
       "      <td>Amplo imóvel para venda com 0 quartos, sendo 0...</td>\n",
       "    </tr>\n",
       "    <tr>\n",
       "      <th>1</th>\n",
       "      <td>Cobertura</td>\n",
       "      <td>Vargem Grande</td>\n",
       "      <td>Point</td>\n",
       "      <td>[-43.4907917, -22.988122]</td>\n",
       "      <td>1</td>\n",
       "      <td>61</td>\n",
       "      <td>[]</td>\n",
       "      <td>[Estacionamento Visitantes, Estacionamento Cob...</td>\n",
       "      <td>[Próximo ao Metrô, Próximo a Praia, Próximo a ...</td>\n",
       "      <td>Destaque</td>\n",
       "      <td>Usado</td>\n",
       "      <td>305000.0</td>\n",
       "      <td>0.0</td>\n",
       "      <td>667.0</td>\n",
       "      <td>162.0</td>\n",
       "      <td>Amplo imóvel para venda com 2 quartos, sendo 0...</td>\n",
       "    </tr>\n",
       "  </tbody>\n",
       "</table>\n",
       "</div>"
      ],
      "text/plain": [
       "  imovel_tipos_propriedade imovel_endereco_bairro  \\\n",
       "0                     Casa           Engenho Novo   \n",
       "1                Cobertura          Vargem Grande   \n",
       "\n",
       "  imovel_endereco_localizacao_type imovel_endereco_localizacao_coordinates  \\\n",
       "0                            Point              [-43.2634918, -22.8971768]   \n",
       "1                            Point               [-43.4907917, -22.988122]   \n",
       "\n",
       "   imovel_vagasGaragem  imovel_area  \\\n",
       "0                    0            0   \n",
       "1                    1           61   \n",
       "\n",
       "                  imovel_caracteristicas_propriedade  \\\n",
       "0  [Sauna, Terraço, Acessibilidade, Mobiliado, Vi...   \n",
       "1                                                 []   \n",
       "\n",
       "                   imovel_caracteristicas_condominio  \\\n",
       "0  [Estacionamento Coberto, Estacionamento Visita...   \n",
       "1  [Estacionamento Visitantes, Estacionamento Cob...   \n",
       "\n",
       "                      imovel_caracteristicas_entorno anuncio_tipos_publicacao  \\\n",
       "0  [Próximo a Serviços de Saúde, Próximo ao Shopp...                   Padrão   \n",
       "1  [Próximo ao Metrô, Próximo a Praia, Próximo a ...                 Destaque   \n",
       "\n",
       "  anuncio_tipos_listagem  anuncio_valores_venda  anuncio_valores_aluguel  \\\n",
       "0                  Usado               195772.0                      0.0   \n",
       "1                  Usado               305000.0                      0.0   \n",
       "\n",
       "   anuncio_valores_condominio  anuncio_valores_iptu  \\\n",
       "0                         0.0                   0.0   \n",
       "1                       667.0                 162.0   \n",
       "\n",
       "                                   anuncio_descricao  \n",
       "0  Amplo imóvel para venda com 0 quartos, sendo 0...  \n",
       "1  Amplo imóvel para venda com 2 quartos, sendo 0...  "
      ]
     },
     "execution_count": 57,
     "metadata": {},
     "output_type": "execute_result"
    }
   ],
   "source": [
    "dados_highlights_listings.head(2)"
   ]
  },
  {
   "cell_type": "code",
   "execution_count": 58,
   "metadata": {},
   "outputs": [
    {
     "data": {
      "text/plain": [
       "'Área de Serviço'"
      ]
     },
     "execution_count": 58,
     "metadata": {},
     "output_type": "execute_result"
    }
   ],
   "source": [
    "dados_normal_listings.loc[0, 'imovel_caracteristicas_propriedade'][0]"
   ]
  },
  {
   "cell_type": "code",
   "execution_count": 59,
   "metadata": {},
   "outputs": [
    {
     "data": {
      "text/plain": [
       "'Sauna'"
      ]
     },
     "execution_count": 59,
     "metadata": {},
     "output_type": "execute_result"
    }
   ],
   "source": [
    "dados_highlights_listings.loc[0, 'imovel_caracteristicas_propriedade'][0]"
   ]
  },
  {
   "cell_type": "code",
   "execution_count": 60,
   "metadata": {},
   "outputs": [
    {
     "data": {
      "text/html": [
       "<div>\n",
       "<style scoped>\n",
       "    .dataframe tbody tr th:only-of-type {\n",
       "        vertical-align: middle;\n",
       "    }\n",
       "\n",
       "    .dataframe tbody tr th {\n",
       "        vertical-align: top;\n",
       "    }\n",
       "\n",
       "    .dataframe thead th {\n",
       "        text-align: right;\n",
       "    }\n",
       "</style>\n",
       "<table border=\"1\" class=\"dataframe\">\n",
       "  <thead>\n",
       "    <tr style=\"text-align: right;\">\n",
       "      <th></th>\n",
       "      <th>alunos</th>\n",
       "      <th>idade</th>\n",
       "      <th>medidas_altura</th>\n",
       "      <th>medidas_peso</th>\n",
       "    </tr>\n",
       "  </thead>\n",
       "  <tbody>\n",
       "    <tr>\n",
       "      <th>0</th>\n",
       "      <td>Rita</td>\n",
       "      <td>10</td>\n",
       "      <td>1.30</td>\n",
       "      <td>42</td>\n",
       "    </tr>\n",
       "    <tr>\n",
       "      <th>1</th>\n",
       "      <td>Lucas</td>\n",
       "      <td>12</td>\n",
       "      <td>1.50</td>\n",
       "      <td>50</td>\n",
       "    </tr>\n",
       "    <tr>\n",
       "      <th>2</th>\n",
       "      <td>Zeca</td>\n",
       "      <td>11</td>\n",
       "      <td>1.45</td>\n",
       "      <td>45</td>\n",
       "    </tr>\n",
       "    <tr>\n",
       "      <th>3</th>\n",
       "      <td>Ana</td>\n",
       "      <td>10</td>\n",
       "      <td>1.28</td>\n",
       "      <td>38</td>\n",
       "    </tr>\n",
       "  </tbody>\n",
       "</table>\n",
       "</div>"
      ],
      "text/plain": [
       "  alunos  idade  medidas_altura  medidas_peso\n",
       "0   Rita     10            1.30            42\n",
       "1  Lucas     12            1.50            50\n",
       "2   Zeca     11            1.45            45\n",
       "3    Ana     10            1.28            38"
      ]
     },
     "execution_count": 60,
     "metadata": {},
     "output_type": "execute_result"
    }
   ],
   "source": [
    "dados = {\n",
    "    \"alunos\": [\"Rita\", \"Lucas\", \"Zeca\", \"Ana\"], \n",
    "    \"idade\": [10, 12, 11, 10], \n",
    "    \"medidas_altura\": [1.3, 1.5, 1.45, 1.28], \n",
    "    \"medidas_peso\": [42, 50, 45, 38]\n",
    "}\n",
    "\n",
    "df = pd.DataFrame(dados)\n",
    "df"
   ]
  },
  {
   "cell_type": "code",
   "execution_count": 61,
   "metadata": {},
   "outputs": [
    {
     "data": {
      "text/html": [
       "<div>\n",
       "<style scoped>\n",
       "    .dataframe tbody tr th:only-of-type {\n",
       "        vertical-align: middle;\n",
       "    }\n",
       "\n",
       "    .dataframe tbody tr th {\n",
       "        vertical-align: top;\n",
       "    }\n",
       "\n",
       "    .dataframe thead th {\n",
       "        text-align: right;\n",
       "    }\n",
       "</style>\n",
       "<table border=\"1\" class=\"dataframe\">\n",
       "  <thead>\n",
       "    <tr style=\"text-align: right;\">\n",
       "      <th></th>\n",
       "      <th>medidas_altura</th>\n",
       "      <th>medidas_peso</th>\n",
       "    </tr>\n",
       "  </thead>\n",
       "  <tbody>\n",
       "    <tr>\n",
       "      <th>0</th>\n",
       "      <td>1.30</td>\n",
       "      <td>42</td>\n",
       "    </tr>\n",
       "    <tr>\n",
       "      <th>1</th>\n",
       "      <td>1.50</td>\n",
       "      <td>50</td>\n",
       "    </tr>\n",
       "    <tr>\n",
       "      <th>2</th>\n",
       "      <td>1.45</td>\n",
       "      <td>45</td>\n",
       "    </tr>\n",
       "    <tr>\n",
       "      <th>3</th>\n",
       "      <td>1.28</td>\n",
       "      <td>38</td>\n",
       "    </tr>\n",
       "  </tbody>\n",
       "</table>\n",
       "</div>"
      ],
      "text/plain": [
       "   medidas_altura  medidas_peso\n",
       "0            1.30            42\n",
       "1            1.50            50\n",
       "2            1.45            45\n",
       "3            1.28            38"
      ]
     },
     "execution_count": 61,
     "metadata": {},
     "output_type": "execute_result"
    }
   ],
   "source": [
    "df.filter(like='medidas', axis='columns')"
   ]
  },
  {
   "cell_type": "code",
   "execution_count": 62,
   "metadata": {},
   "outputs": [
    {
     "data": {
      "text/html": [
       "<div>\n",
       "<style scoped>\n",
       "    .dataframe tbody tr th:only-of-type {\n",
       "        vertical-align: middle;\n",
       "    }\n",
       "\n",
       "    .dataframe tbody tr th {\n",
       "        vertical-align: top;\n",
       "    }\n",
       "\n",
       "    .dataframe thead th {\n",
       "        text-align: right;\n",
       "    }\n",
       "</style>\n",
       "<table border=\"1\" class=\"dataframe\">\n",
       "  <thead>\n",
       "    <tr style=\"text-align: right;\">\n",
       "      <th></th>\n",
       "      <th>alunos</th>\n",
       "      <th>idade</th>\n",
       "      <th>medidas_altura</th>\n",
       "      <th>medidas_peso</th>\n",
       "    </tr>\n",
       "  </thead>\n",
       "  <tbody>\n",
       "    <tr>\n",
       "      <th>0</th>\n",
       "      <td>Rita</td>\n",
       "      <td>10</td>\n",
       "      <td>1.3</td>\n",
       "      <td>42</td>\n",
       "    </tr>\n",
       "    <tr>\n",
       "      <th>1</th>\n",
       "      <td>Lucas</td>\n",
       "      <td>12</td>\n",
       "      <td>1.5</td>\n",
       "      <td>50</td>\n",
       "    </tr>\n",
       "  </tbody>\n",
       "</table>\n",
       "</div>"
      ],
      "text/plain": [
       "  alunos  idade  medidas_altura  medidas_peso\n",
       "0   Rita     10             1.3            42\n",
       "1  Lucas     12             1.5            50"
      ]
     },
     "execution_count": 62,
     "metadata": {},
     "output_type": "execute_result"
    }
   ],
   "source": [
    "\n",
    "df.filter(items=[0,1], axis='index')"
   ]
  },
  {
   "cell_type": "markdown",
   "metadata": {
    "id": "1NRyywesevgc"
   },
   "source": [
    "# COMBINANDO CONJUNTOS DE DADOS\n",
    "---"
   ]
  },
  {
   "cell_type": "code",
   "execution_count": 69,
   "metadata": {
    "id": "fVukYp7wevgc"
   },
   "outputs": [
    {
     "data": {
      "text/html": [
       "<div>\n",
       "<style scoped>\n",
       "    .dataframe tbody tr th:only-of-type {\n",
       "        vertical-align: middle;\n",
       "    }\n",
       "\n",
       "    .dataframe tbody tr th {\n",
       "        vertical-align: top;\n",
       "    }\n",
       "\n",
       "    .dataframe thead th {\n",
       "        text-align: right;\n",
       "    }\n",
       "</style>\n",
       "<table border=\"1\" class=\"dataframe\">\n",
       "  <thead>\n",
       "    <tr style=\"text-align: right;\">\n",
       "      <th></th>\n",
       "      <th>imovel_tipos_propriedade</th>\n",
       "      <th>imovel_endereco_bairro</th>\n",
       "      <th>imovel_endereco_localizacao_type</th>\n",
       "      <th>imovel_endereco_localizacao_coordinates</th>\n",
       "      <th>imovel_vagasGaragem</th>\n",
       "      <th>imovel_area</th>\n",
       "      <th>imovel_caracteristicas_propriedade</th>\n",
       "      <th>imovel_caracteristicas_condominio</th>\n",
       "      <th>imovel_caracteristicas_entorno</th>\n",
       "      <th>anuncio_tipos_publicacao</th>\n",
       "      <th>anuncio_tipos_listagem</th>\n",
       "      <th>anuncio_valores_venda</th>\n",
       "      <th>anuncio_valores_aluguel</th>\n",
       "      <th>anuncio_valores_condominio</th>\n",
       "      <th>anuncio_valores_iptu</th>\n",
       "      <th>anuncio_descricao</th>\n",
       "    </tr>\n",
       "  </thead>\n",
       "  <tbody>\n",
       "    <tr>\n",
       "      <th>0</th>\n",
       "      <td>Casa</td>\n",
       "      <td>Barra da Tijuca</td>\n",
       "      <td>Point</td>\n",
       "      <td>[-43.3039086, -23.0139692]</td>\n",
       "      <td>4</td>\n",
       "      <td>279</td>\n",
       "      <td>[Área de Serviço, Terraço, Churrasqueira, Quar...</td>\n",
       "      <td>[Churrasqueira, Salão de Jogos, Sauna, Estacio...</td>\n",
       "      <td>[Próximo a Escola Particular, Próximo ao Metrô...</td>\n",
       "      <td>Padrão</td>\n",
       "      <td>Lançamento</td>\n",
       "      <td>2400000.0</td>\n",
       "      <td>0.0</td>\n",
       "      <td>790.0</td>\n",
       "      <td>5700.0</td>\n",
       "      <td>Amplo imóvel para venda com 3 quartos, sendo 1...</td>\n",
       "    </tr>\n",
       "    <tr>\n",
       "      <th>1</th>\n",
       "      <td>Apartamento</td>\n",
       "      <td>Campo Grande</td>\n",
       "      <td>Point</td>\n",
       "      <td>[0, 0]</td>\n",
       "      <td>1</td>\n",
       "      <td>60</td>\n",
       "      <td>[Sauna]</td>\n",
       "      <td>[Elevador, Playground, Salão de Festas, Sistem...</td>\n",
       "      <td>[Próximo ao Shopping, Próximo a Áreas de Lazer...</td>\n",
       "      <td>Padrão</td>\n",
       "      <td>Usado</td>\n",
       "      <td>200000.0</td>\n",
       "      <td>0.0</td>\n",
       "      <td>0.0</td>\n",
       "      <td>0.0</td>\n",
       "      <td>Amplo imóvel para venda com 2 quartos, sendo 0...</td>\n",
       "    </tr>\n",
       "    <tr>\n",
       "      <th>2</th>\n",
       "      <td>Cobertura</td>\n",
       "      <td>Barra da Tijuca</td>\n",
       "      <td>Point</td>\n",
       "      <td>[-43.3037186, -22.9951304]</td>\n",
       "      <td>2</td>\n",
       "      <td>380</td>\n",
       "      <td>[Acessibilidade, Área de Serviço, Sauna, Ambie...</td>\n",
       "      <td>[Sauna, Playground, Quadra Poliesportiva, Salã...</td>\n",
       "      <td>[Próximo a Escola Particular]</td>\n",
       "      <td>Premium</td>\n",
       "      <td>Usado</td>\n",
       "      <td>4400000.0</td>\n",
       "      <td>0.0</td>\n",
       "      <td>1200.0</td>\n",
       "      <td>850.0</td>\n",
       "      <td>Amplo imóvel para venda com 5 quartos, sendo 4...</td>\n",
       "    </tr>\n",
       "  </tbody>\n",
       "</table>\n",
       "</div>"
      ],
      "text/plain": [
       "  imovel_tipos_propriedade imovel_endereco_bairro  \\\n",
       "0                     Casa        Barra da Tijuca   \n",
       "1              Apartamento           Campo Grande   \n",
       "2                Cobertura        Barra da Tijuca   \n",
       "\n",
       "  imovel_endereco_localizacao_type imovel_endereco_localizacao_coordinates  \\\n",
       "0                            Point              [-43.3039086, -23.0139692]   \n",
       "1                            Point                                  [0, 0]   \n",
       "2                            Point              [-43.3037186, -22.9951304]   \n",
       "\n",
       "   imovel_vagasGaragem  imovel_area  \\\n",
       "0                    4          279   \n",
       "1                    1           60   \n",
       "2                    2          380   \n",
       "\n",
       "                  imovel_caracteristicas_propriedade  \\\n",
       "0  [Área de Serviço, Terraço, Churrasqueira, Quar...   \n",
       "1                                            [Sauna]   \n",
       "2  [Acessibilidade, Área de Serviço, Sauna, Ambie...   \n",
       "\n",
       "                   imovel_caracteristicas_condominio  \\\n",
       "0  [Churrasqueira, Salão de Jogos, Sauna, Estacio...   \n",
       "1  [Elevador, Playground, Salão de Festas, Sistem...   \n",
       "2  [Sauna, Playground, Quadra Poliesportiva, Salã...   \n",
       "\n",
       "                      imovel_caracteristicas_entorno anuncio_tipos_publicacao  \\\n",
       "0  [Próximo a Escola Particular, Próximo ao Metrô...                   Padrão   \n",
       "1  [Próximo ao Shopping, Próximo a Áreas de Lazer...                   Padrão   \n",
       "2                      [Próximo a Escola Particular]                  Premium   \n",
       "\n",
       "  anuncio_tipos_listagem  anuncio_valores_venda  anuncio_valores_aluguel  \\\n",
       "0             Lançamento              2400000.0                      0.0   \n",
       "1                  Usado               200000.0                      0.0   \n",
       "2                  Usado              4400000.0                      0.0   \n",
       "\n",
       "   anuncio_valores_condominio  anuncio_valores_iptu  \\\n",
       "0                       790.0                5700.0   \n",
       "1                         0.0                   0.0   \n",
       "2                      1200.0                 850.0   \n",
       "\n",
       "                                   anuncio_descricao  \n",
       "0  Amplo imóvel para venda com 3 quartos, sendo 1...  \n",
       "1  Amplo imóvel para venda com 2 quartos, sendo 0...  \n",
       "2  Amplo imóvel para venda com 5 quartos, sendo 4...  "
      ]
     },
     "execution_count": 69,
     "metadata": {},
     "output_type": "execute_result"
    }
   ],
   "source": [
    "_df1 = dados_normal_listings\n",
    "_df1.head(3)"
   ]
  },
  {
   "cell_type": "code",
   "execution_count": 68,
   "metadata": {
    "id": "ssxgfqonevgc"
   },
   "outputs": [
    {
     "data": {
      "text/html": [
       "<div>\n",
       "<style scoped>\n",
       "    .dataframe tbody tr th:only-of-type {\n",
       "        vertical-align: middle;\n",
       "    }\n",
       "\n",
       "    .dataframe tbody tr th {\n",
       "        vertical-align: top;\n",
       "    }\n",
       "\n",
       "    .dataframe thead th {\n",
       "        text-align: right;\n",
       "    }\n",
       "</style>\n",
       "<table border=\"1\" class=\"dataframe\">\n",
       "  <thead>\n",
       "    <tr style=\"text-align: right;\">\n",
       "      <th></th>\n",
       "      <th>imovel_tipos_propriedade</th>\n",
       "      <th>imovel_endereco_bairro</th>\n",
       "      <th>imovel_endereco_localizacao_type</th>\n",
       "      <th>imovel_endereco_localizacao_coordinates</th>\n",
       "      <th>imovel_vagasGaragem</th>\n",
       "      <th>imovel_area</th>\n",
       "      <th>imovel_caracteristicas_propriedade</th>\n",
       "      <th>imovel_caracteristicas_condominio</th>\n",
       "      <th>imovel_caracteristicas_entorno</th>\n",
       "      <th>anuncio_tipos_publicacao</th>\n",
       "      <th>anuncio_tipos_listagem</th>\n",
       "      <th>anuncio_valores_venda</th>\n",
       "      <th>anuncio_valores_aluguel</th>\n",
       "      <th>anuncio_valores_condominio</th>\n",
       "      <th>anuncio_valores_iptu</th>\n",
       "      <th>anuncio_descricao</th>\n",
       "    </tr>\n",
       "  </thead>\n",
       "  <tbody>\n",
       "    <tr>\n",
       "      <th>0</th>\n",
       "      <td>Casa</td>\n",
       "      <td>Engenho Novo</td>\n",
       "      <td>Point</td>\n",
       "      <td>[-43.2634918, -22.8971768]</td>\n",
       "      <td>0</td>\n",
       "      <td>0</td>\n",
       "      <td>[Sauna, Terraço, Acessibilidade, Mobiliado, Vi...</td>\n",
       "      <td>[Estacionamento Coberto, Estacionamento Visita...</td>\n",
       "      <td>[Próximo a Serviços de Saúde, Próximo ao Shopp...</td>\n",
       "      <td>Padrão</td>\n",
       "      <td>Usado</td>\n",
       "      <td>195772.0</td>\n",
       "      <td>0.0</td>\n",
       "      <td>0.0</td>\n",
       "      <td>0.0</td>\n",
       "      <td>Amplo imóvel para venda com 0 quartos, sendo 0...</td>\n",
       "    </tr>\n",
       "    <tr>\n",
       "      <th>1</th>\n",
       "      <td>Cobertura</td>\n",
       "      <td>Vargem Grande</td>\n",
       "      <td>Point</td>\n",
       "      <td>[-43.4907917, -22.988122]</td>\n",
       "      <td>1</td>\n",
       "      <td>61</td>\n",
       "      <td>[]</td>\n",
       "      <td>[Estacionamento Visitantes, Estacionamento Cob...</td>\n",
       "      <td>[Próximo ao Metrô, Próximo a Praia, Próximo a ...</td>\n",
       "      <td>Destaque</td>\n",
       "      <td>Usado</td>\n",
       "      <td>305000.0</td>\n",
       "      <td>0.0</td>\n",
       "      <td>667.0</td>\n",
       "      <td>162.0</td>\n",
       "      <td>Amplo imóvel para venda com 2 quartos, sendo 0...</td>\n",
       "    </tr>\n",
       "    <tr>\n",
       "      <th>2</th>\n",
       "      <td>Imóvel Comercial</td>\n",
       "      <td>Ribeira</td>\n",
       "      <td>Point</td>\n",
       "      <td>[-43.1690005, -22.8239272]</td>\n",
       "      <td>4</td>\n",
       "      <td>180</td>\n",
       "      <td>[Vista Panorâmica, Acessibilidade, Área de Ser...</td>\n",
       "      <td>[Segurança Interna, Salão de Festas, Academia,...</td>\n",
       "      <td>[Próximo a Restaurante, Próximo a Praia, Próxi...</td>\n",
       "      <td>Padrão</td>\n",
       "      <td>Usado</td>\n",
       "      <td>1050000.0</td>\n",
       "      <td>0.0</td>\n",
       "      <td>0.0</td>\n",
       "      <td>315.0</td>\n",
       "      <td>Amplo imóvel para venda com 3 quartos, sendo 1...</td>\n",
       "    </tr>\n",
       "  </tbody>\n",
       "</table>\n",
       "</div>"
      ],
      "text/plain": [
       "  imovel_tipos_propriedade imovel_endereco_bairro  \\\n",
       "0                     Casa           Engenho Novo   \n",
       "1                Cobertura          Vargem Grande   \n",
       "2         Imóvel Comercial                Ribeira   \n",
       "\n",
       "  imovel_endereco_localizacao_type imovel_endereco_localizacao_coordinates  \\\n",
       "0                            Point              [-43.2634918, -22.8971768]   \n",
       "1                            Point               [-43.4907917, -22.988122]   \n",
       "2                            Point              [-43.1690005, -22.8239272]   \n",
       "\n",
       "   imovel_vagasGaragem  imovel_area  \\\n",
       "0                    0            0   \n",
       "1                    1           61   \n",
       "2                    4          180   \n",
       "\n",
       "                  imovel_caracteristicas_propriedade  \\\n",
       "0  [Sauna, Terraço, Acessibilidade, Mobiliado, Vi...   \n",
       "1                                                 []   \n",
       "2  [Vista Panorâmica, Acessibilidade, Área de Ser...   \n",
       "\n",
       "                   imovel_caracteristicas_condominio  \\\n",
       "0  [Estacionamento Coberto, Estacionamento Visita...   \n",
       "1  [Estacionamento Visitantes, Estacionamento Cob...   \n",
       "2  [Segurança Interna, Salão de Festas, Academia,...   \n",
       "\n",
       "                      imovel_caracteristicas_entorno anuncio_tipos_publicacao  \\\n",
       "0  [Próximo a Serviços de Saúde, Próximo ao Shopp...                   Padrão   \n",
       "1  [Próximo ao Metrô, Próximo a Praia, Próximo a ...                 Destaque   \n",
       "2  [Próximo a Restaurante, Próximo a Praia, Próxi...                   Padrão   \n",
       "\n",
       "  anuncio_tipos_listagem  anuncio_valores_venda  anuncio_valores_aluguel  \\\n",
       "0                  Usado               195772.0                      0.0   \n",
       "1                  Usado               305000.0                      0.0   \n",
       "2                  Usado              1050000.0                      0.0   \n",
       "\n",
       "   anuncio_valores_condominio  anuncio_valores_iptu  \\\n",
       "0                         0.0                   0.0   \n",
       "1                       667.0                 162.0   \n",
       "2                         0.0                 315.0   \n",
       "\n",
       "                                   anuncio_descricao  \n",
       "0  Amplo imóvel para venda com 0 quartos, sendo 0...  \n",
       "1  Amplo imóvel para venda com 2 quartos, sendo 0...  \n",
       "2  Amplo imóvel para venda com 3 quartos, sendo 1...  "
      ]
     },
     "execution_count": 68,
     "metadata": {},
     "output_type": "execute_result"
    }
   ],
   "source": [
    "_df2 = dados_highlights_listings\n",
    "_df2.head(3)"
   ]
  },
  {
   "cell_type": "code",
   "execution_count": 71,
   "metadata": {},
   "outputs": [
    {
     "data": {
      "text/plain": [
       "array([ True,  True,  True,  True,  True,  True,  True,  True,  True,\n",
       "        True,  True,  True,  True,  True,  True,  True])"
      ]
     },
     "execution_count": 71,
     "metadata": {},
     "output_type": "execute_result"
    }
   ],
   "source": [
    "_df1.columns == _df2.columns "
   ]
  },
  {
   "cell_type": "markdown",
   "metadata": {
    "id": "rZgiUKLdevgc"
   },
   "source": [
    "## Empilhando *DataFrames*"
   ]
  },
  {
   "cell_type": "markdown",
   "metadata": {
    "id": "-h32tlhVevgd"
   },
   "source": [
    "### `append`\n",
    "\n",
    "[Documentação](https://pandas.pydata.org/pandas-docs/stable/reference/api/pandas.DataFrame.append.html)"
   ]
  },
  {
   "cell_type": "code",
   "execution_count": 75,
   "metadata": {
    "id": "LHCKRDJ_evgd",
    "scrolled": true
   },
   "outputs": [
    {
     "data": {
      "text/html": [
       "<div>\n",
       "<style scoped>\n",
       "    .dataframe tbody tr th:only-of-type {\n",
       "        vertical-align: middle;\n",
       "    }\n",
       "\n",
       "    .dataframe tbody tr th {\n",
       "        vertical-align: top;\n",
       "    }\n",
       "\n",
       "    .dataframe thead th {\n",
       "        text-align: right;\n",
       "    }\n",
       "</style>\n",
       "<table border=\"1\" class=\"dataframe\">\n",
       "  <thead>\n",
       "    <tr style=\"text-align: right;\">\n",
       "      <th></th>\n",
       "      <th>imovel_tipos_propriedade</th>\n",
       "      <th>imovel_endereco_bairro</th>\n",
       "      <th>imovel_endereco_localizacao_type</th>\n",
       "      <th>imovel_endereco_localizacao_coordinates</th>\n",
       "      <th>imovel_vagasGaragem</th>\n",
       "      <th>imovel_area</th>\n",
       "      <th>imovel_caracteristicas_propriedade</th>\n",
       "      <th>imovel_caracteristicas_condominio</th>\n",
       "      <th>imovel_caracteristicas_entorno</th>\n",
       "      <th>anuncio_tipos_publicacao</th>\n",
       "      <th>anuncio_tipos_listagem</th>\n",
       "      <th>anuncio_valores_venda</th>\n",
       "      <th>anuncio_valores_aluguel</th>\n",
       "      <th>anuncio_valores_condominio</th>\n",
       "      <th>anuncio_valores_iptu</th>\n",
       "      <th>anuncio_descricao</th>\n",
       "    </tr>\n",
       "  </thead>\n",
       "  <tbody>\n",
       "    <tr>\n",
       "      <th>0</th>\n",
       "      <td>Casa</td>\n",
       "      <td>Barra da Tijuca</td>\n",
       "      <td>Point</td>\n",
       "      <td>[-43.3039086, -23.0139692]</td>\n",
       "      <td>4</td>\n",
       "      <td>279</td>\n",
       "      <td>[Área de Serviço, Terraço, Churrasqueira, Quar...</td>\n",
       "      <td>[Churrasqueira, Salão de Jogos, Sauna, Estacio...</td>\n",
       "      <td>[Próximo a Escola Particular, Próximo ao Metrô...</td>\n",
       "      <td>Padrão</td>\n",
       "      <td>Lançamento</td>\n",
       "      <td>2400000.0</td>\n",
       "      <td>0.0</td>\n",
       "      <td>790.0</td>\n",
       "      <td>5700.0</td>\n",
       "      <td>Amplo imóvel para venda com 3 quartos, sendo 1...</td>\n",
       "    </tr>\n",
       "    <tr>\n",
       "      <th>1</th>\n",
       "      <td>Apartamento</td>\n",
       "      <td>Campo Grande</td>\n",
       "      <td>Point</td>\n",
       "      <td>[0, 0]</td>\n",
       "      <td>1</td>\n",
       "      <td>60</td>\n",
       "      <td>[Sauna]</td>\n",
       "      <td>[Elevador, Playground, Salão de Festas, Sistem...</td>\n",
       "      <td>[Próximo ao Shopping, Próximo a Áreas de Lazer...</td>\n",
       "      <td>Padrão</td>\n",
       "      <td>Usado</td>\n",
       "      <td>200000.0</td>\n",
       "      <td>0.0</td>\n",
       "      <td>0.0</td>\n",
       "      <td>0.0</td>\n",
       "      <td>Amplo imóvel para venda com 2 quartos, sendo 0...</td>\n",
       "    </tr>\n",
       "    <tr>\n",
       "      <th>2</th>\n",
       "      <td>Cobertura</td>\n",
       "      <td>Barra da Tijuca</td>\n",
       "      <td>Point</td>\n",
       "      <td>[-43.3037186, -22.9951304]</td>\n",
       "      <td>2</td>\n",
       "      <td>380</td>\n",
       "      <td>[Acessibilidade, Área de Serviço, Sauna, Ambie...</td>\n",
       "      <td>[Sauna, Playground, Quadra Poliesportiva, Salã...</td>\n",
       "      <td>[Próximo a Escola Particular]</td>\n",
       "      <td>Premium</td>\n",
       "      <td>Usado</td>\n",
       "      <td>4400000.0</td>\n",
       "      <td>0.0</td>\n",
       "      <td>1200.0</td>\n",
       "      <td>850.0</td>\n",
       "      <td>Amplo imóvel para venda com 5 quartos, sendo 4...</td>\n",
       "    </tr>\n",
       "    <tr>\n",
       "      <th>3</th>\n",
       "      <td>Cobertura</td>\n",
       "      <td>Barra da Tijuca</td>\n",
       "      <td>Point</td>\n",
       "      <td>[-43.3548121, -23.0097423]</td>\n",
       "      <td>1</td>\n",
       "      <td>73</td>\n",
       "      <td>[Vista Panorâmica, Piscina, Sauna, Closet, Mob...</td>\n",
       "      <td>[Quadra Poliesportiva, Aceita Pet, Playground,...</td>\n",
       "      <td>[Próximo a Farmácia, Próximo a Academia, Próxi...</td>\n",
       "      <td>Padrão</td>\n",
       "      <td>Usado</td>\n",
       "      <td>1100000.0</td>\n",
       "      <td>0.0</td>\n",
       "      <td>1300.0</td>\n",
       "      <td>364.0</td>\n",
       "      <td>Amplo imóvel para venda com 2 quartos, sendo 1...</td>\n",
       "    </tr>\n",
       "    <tr>\n",
       "      <th>4</th>\n",
       "      <td>Sala Comercial</td>\n",
       "      <td>Glória</td>\n",
       "      <td>Point</td>\n",
       "      <td>[-43.1779703, -22.9174894]</td>\n",
       "      <td>1</td>\n",
       "      <td>32</td>\n",
       "      <td>[Armários Planejados]</td>\n",
       "      <td>[Quadra Poliesportiva, Porteiro 24 Horas, Elev...</td>\n",
       "      <td>[Próximo a Centro Empresarial, Próximo a Áreas...</td>\n",
       "      <td>Padrão</td>\n",
       "      <td>Usado</td>\n",
       "      <td>260000.0</td>\n",
       "      <td>0.0</td>\n",
       "      <td>450.0</td>\n",
       "      <td>800.0</td>\n",
       "      <td>Amplo imóvel para venda com 0 quartos, sendo 0...</td>\n",
       "    </tr>\n",
       "    <tr>\n",
       "      <th>...</th>\n",
       "      <td>...</td>\n",
       "      <td>...</td>\n",
       "      <td>...</td>\n",
       "      <td>...</td>\n",
       "      <td>...</td>\n",
       "      <td>...</td>\n",
       "      <td>...</td>\n",
       "      <td>...</td>\n",
       "      <td>...</td>\n",
       "      <td>...</td>\n",
       "      <td>...</td>\n",
       "      <td>...</td>\n",
       "      <td>...</td>\n",
       "      <td>...</td>\n",
       "      <td>...</td>\n",
       "      <td>...</td>\n",
       "    </tr>\n",
       "    <tr>\n",
       "      <th>15</th>\n",
       "      <td>Apartamento</td>\n",
       "      <td>Copacabana</td>\n",
       "      <td>Point</td>\n",
       "      <td>[-43.1943902, -22.9816847]</td>\n",
       "      <td>1</td>\n",
       "      <td>216</td>\n",
       "      <td>[Cozinha Americana, Quarto/WC Empregada, Pisci...</td>\n",
       "      <td>[Elevador, Salão de Festas, Porteiro 24 Horas,...</td>\n",
       "      <td>[Próximo a Farmácia, Próximo a Academia, Próxi...</td>\n",
       "      <td>Padrão</td>\n",
       "      <td>Usado</td>\n",
       "      <td>1800000.0</td>\n",
       "      <td>0.0</td>\n",
       "      <td>2000.0</td>\n",
       "      <td>2300.0</td>\n",
       "      <td>Amplo imóvel para venda com 4 quartos, sendo 2...</td>\n",
       "    </tr>\n",
       "    <tr>\n",
       "      <th>16</th>\n",
       "      <td>Apartamento</td>\n",
       "      <td>Leblon</td>\n",
       "      <td>Point</td>\n",
       "      <td>[-43.2253114, -22.9843603]</td>\n",
       "      <td>1</td>\n",
       "      <td>218</td>\n",
       "      <td>[Piscina, Gás Encanado]</td>\n",
       "      <td>[Academia, Aceita Pet, Sistema de Incêndio, Bi...</td>\n",
       "      <td>[Próximo a Comércio Diversos, Próximo a Centro...</td>\n",
       "      <td>Premium</td>\n",
       "      <td>Usado</td>\n",
       "      <td>4500000.0</td>\n",
       "      <td>0.0</td>\n",
       "      <td>3600.0</td>\n",
       "      <td>7000.0</td>\n",
       "      <td>Amplo imóvel para venda com 3 quartos, sendo 1...</td>\n",
       "    </tr>\n",
       "    <tr>\n",
       "      <th>17</th>\n",
       "      <td>Casa</td>\n",
       "      <td>Copacabana</td>\n",
       "      <td>Point</td>\n",
       "      <td>[-43.1951842, -22.9818646]</td>\n",
       "      <td>0</td>\n",
       "      <td>25</td>\n",
       "      <td>[Closet, Armários Planejados, Quarto/WC Empreg...</td>\n",
       "      <td>[Bicicletário, Sistema de Incêndio, Segurança ...</td>\n",
       "      <td>[]</td>\n",
       "      <td>Destaque</td>\n",
       "      <td>Usado</td>\n",
       "      <td>350000.0</td>\n",
       "      <td>0.0</td>\n",
       "      <td>290.0</td>\n",
       "      <td>182.0</td>\n",
       "      <td>Amplo imóvel para venda com 1 quartos, sendo 0...</td>\n",
       "    </tr>\n",
       "    <tr>\n",
       "      <th>18</th>\n",
       "      <td>Sala Comercial</td>\n",
       "      <td>Cachambi</td>\n",
       "      <td>Point</td>\n",
       "      <td>[-43.2781994, -22.8917611]</td>\n",
       "      <td>2</td>\n",
       "      <td>138</td>\n",
       "      <td>[Gás Encanado, Acessibilidade, Ambientes Integ...</td>\n",
       "      <td>[Playground, Depósito Privativo, Academia, Qua...</td>\n",
       "      <td>[Próximo a Praia, Próximo a Serviços de Saúde,...</td>\n",
       "      <td>Premium</td>\n",
       "      <td>Usado</td>\n",
       "      <td>619000.0</td>\n",
       "      <td>0.0</td>\n",
       "      <td>506.0</td>\n",
       "      <td>1404.0</td>\n",
       "      <td>Amplo imóvel para venda com 3 quartos, sendo 1...</td>\n",
       "    </tr>\n",
       "    <tr>\n",
       "      <th>19</th>\n",
       "      <td>Apartamento</td>\n",
       "      <td>Tijuca</td>\n",
       "      <td>Point</td>\n",
       "      <td>[-43.2356544, -22.9264543]</td>\n",
       "      <td>0</td>\n",
       "      <td>100</td>\n",
       "      <td>[Churrasqueira, Gás Encanado, Quarto/WC Empreg...</td>\n",
       "      <td>[Academia, Quadra Poliesportiva, Sauna, Estaci...</td>\n",
       "      <td>[Próximo a Comércio Diversos, Próximo a Áreas ...</td>\n",
       "      <td>Padrão</td>\n",
       "      <td>Usado</td>\n",
       "      <td>580000.0</td>\n",
       "      <td>0.0</td>\n",
       "      <td>0.0</td>\n",
       "      <td>0.0</td>\n",
       "      <td>Amplo imóvel para venda com 3 quartos, sendo 1...</td>\n",
       "    </tr>\n",
       "  </tbody>\n",
       "</table>\n",
       "<p>70 rows × 16 columns</p>\n",
       "</div>"
      ],
      "text/plain": [
       "   imovel_tipos_propriedade imovel_endereco_bairro  \\\n",
       "0                      Casa        Barra da Tijuca   \n",
       "1               Apartamento           Campo Grande   \n",
       "2                 Cobertura        Barra da Tijuca   \n",
       "3                 Cobertura        Barra da Tijuca   \n",
       "4            Sala Comercial                 Glória   \n",
       "..                      ...                    ...   \n",
       "15              Apartamento             Copacabana   \n",
       "16              Apartamento                 Leblon   \n",
       "17                     Casa             Copacabana   \n",
       "18           Sala Comercial               Cachambi   \n",
       "19              Apartamento                 Tijuca   \n",
       "\n",
       "   imovel_endereco_localizacao_type imovel_endereco_localizacao_coordinates  \\\n",
       "0                             Point              [-43.3039086, -23.0139692]   \n",
       "1                             Point                                  [0, 0]   \n",
       "2                             Point              [-43.3037186, -22.9951304]   \n",
       "3                             Point              [-43.3548121, -23.0097423]   \n",
       "4                             Point              [-43.1779703, -22.9174894]   \n",
       "..                              ...                                     ...   \n",
       "15                            Point              [-43.1943902, -22.9816847]   \n",
       "16                            Point              [-43.2253114, -22.9843603]   \n",
       "17                            Point              [-43.1951842, -22.9818646]   \n",
       "18                            Point              [-43.2781994, -22.8917611]   \n",
       "19                            Point              [-43.2356544, -22.9264543]   \n",
       "\n",
       "    imovel_vagasGaragem  imovel_area  \\\n",
       "0                     4          279   \n",
       "1                     1           60   \n",
       "2                     2          380   \n",
       "3                     1           73   \n",
       "4                     1           32   \n",
       "..                  ...          ...   \n",
       "15                    1          216   \n",
       "16                    1          218   \n",
       "17                    0           25   \n",
       "18                    2          138   \n",
       "19                    0          100   \n",
       "\n",
       "                   imovel_caracteristicas_propriedade  \\\n",
       "0   [Área de Serviço, Terraço, Churrasqueira, Quar...   \n",
       "1                                             [Sauna]   \n",
       "2   [Acessibilidade, Área de Serviço, Sauna, Ambie...   \n",
       "3   [Vista Panorâmica, Piscina, Sauna, Closet, Mob...   \n",
       "4                               [Armários Planejados]   \n",
       "..                                                ...   \n",
       "15  [Cozinha Americana, Quarto/WC Empregada, Pisci...   \n",
       "16                            [Piscina, Gás Encanado]   \n",
       "17  [Closet, Armários Planejados, Quarto/WC Empreg...   \n",
       "18  [Gás Encanado, Acessibilidade, Ambientes Integ...   \n",
       "19  [Churrasqueira, Gás Encanado, Quarto/WC Empreg...   \n",
       "\n",
       "                    imovel_caracteristicas_condominio  \\\n",
       "0   [Churrasqueira, Salão de Jogos, Sauna, Estacio...   \n",
       "1   [Elevador, Playground, Salão de Festas, Sistem...   \n",
       "2   [Sauna, Playground, Quadra Poliesportiva, Salã...   \n",
       "3   [Quadra Poliesportiva, Aceita Pet, Playground,...   \n",
       "4   [Quadra Poliesportiva, Porteiro 24 Horas, Elev...   \n",
       "..                                                ...   \n",
       "15  [Elevador, Salão de Festas, Porteiro 24 Horas,...   \n",
       "16  [Academia, Aceita Pet, Sistema de Incêndio, Bi...   \n",
       "17  [Bicicletário, Sistema de Incêndio, Segurança ...   \n",
       "18  [Playground, Depósito Privativo, Academia, Qua...   \n",
       "19  [Academia, Quadra Poliesportiva, Sauna, Estaci...   \n",
       "\n",
       "                       imovel_caracteristicas_entorno  \\\n",
       "0   [Próximo a Escola Particular, Próximo ao Metrô...   \n",
       "1   [Próximo ao Shopping, Próximo a Áreas de Lazer...   \n",
       "2                       [Próximo a Escola Particular]   \n",
       "3   [Próximo a Farmácia, Próximo a Academia, Próxi...   \n",
       "4   [Próximo a Centro Empresarial, Próximo a Áreas...   \n",
       "..                                                ...   \n",
       "15  [Próximo a Farmácia, Próximo a Academia, Próxi...   \n",
       "16  [Próximo a Comércio Diversos, Próximo a Centro...   \n",
       "17                                                 []   \n",
       "18  [Próximo a Praia, Próximo a Serviços de Saúde,...   \n",
       "19  [Próximo a Comércio Diversos, Próximo a Áreas ...   \n",
       "\n",
       "   anuncio_tipos_publicacao anuncio_tipos_listagem  anuncio_valores_venda  \\\n",
       "0                    Padrão             Lançamento              2400000.0   \n",
       "1                    Padrão                  Usado               200000.0   \n",
       "2                   Premium                  Usado              4400000.0   \n",
       "3                    Padrão                  Usado              1100000.0   \n",
       "4                    Padrão                  Usado               260000.0   \n",
       "..                      ...                    ...                    ...   \n",
       "15                   Padrão                  Usado              1800000.0   \n",
       "16                  Premium                  Usado              4500000.0   \n",
       "17                 Destaque                  Usado               350000.0   \n",
       "18                  Premium                  Usado               619000.0   \n",
       "19                   Padrão                  Usado               580000.0   \n",
       "\n",
       "    anuncio_valores_aluguel  anuncio_valores_condominio  anuncio_valores_iptu  \\\n",
       "0                       0.0                       790.0                5700.0   \n",
       "1                       0.0                         0.0                   0.0   \n",
       "2                       0.0                      1200.0                 850.0   \n",
       "3                       0.0                      1300.0                 364.0   \n",
       "4                       0.0                       450.0                 800.0   \n",
       "..                      ...                         ...                   ...   \n",
       "15                      0.0                      2000.0                2300.0   \n",
       "16                      0.0                      3600.0                7000.0   \n",
       "17                      0.0                       290.0                 182.0   \n",
       "18                      0.0                       506.0                1404.0   \n",
       "19                      0.0                         0.0                   0.0   \n",
       "\n",
       "                                    anuncio_descricao  \n",
       "0   Amplo imóvel para venda com 3 quartos, sendo 1...  \n",
       "1   Amplo imóvel para venda com 2 quartos, sendo 0...  \n",
       "2   Amplo imóvel para venda com 5 quartos, sendo 4...  \n",
       "3   Amplo imóvel para venda com 2 quartos, sendo 1...  \n",
       "4   Amplo imóvel para venda com 0 quartos, sendo 0...  \n",
       "..                                                ...  \n",
       "15  Amplo imóvel para venda com 4 quartos, sendo 2...  \n",
       "16  Amplo imóvel para venda com 3 quartos, sendo 1...  \n",
       "17  Amplo imóvel para venda com 1 quartos, sendo 0...  \n",
       "18  Amplo imóvel para venda com 3 quartos, sendo 1...  \n",
       "19  Amplo imóvel para venda com 3 quartos, sendo 1...  \n",
       "\n",
       "[70 rows x 16 columns]"
      ]
     },
     "execution_count": 75,
     "metadata": {},
     "output_type": "execute_result"
    }
   ],
   "source": [
    "_df1.append(_df2)"
   ]
  },
  {
   "cell_type": "code",
   "execution_count": 76,
   "metadata": {
    "id": "tF1g0sR2evgd",
    "scrolled": true
   },
   "outputs": [
    {
     "data": {
      "text/html": [
       "<div>\n",
       "<style scoped>\n",
       "    .dataframe tbody tr th:only-of-type {\n",
       "        vertical-align: middle;\n",
       "    }\n",
       "\n",
       "    .dataframe tbody tr th {\n",
       "        vertical-align: top;\n",
       "    }\n",
       "\n",
       "    .dataframe thead th {\n",
       "        text-align: right;\n",
       "    }\n",
       "</style>\n",
       "<table border=\"1\" class=\"dataframe\">\n",
       "  <thead>\n",
       "    <tr style=\"text-align: right;\">\n",
       "      <th></th>\n",
       "      <th>imovel_tipos_propriedade</th>\n",
       "      <th>imovel_endereco_bairro</th>\n",
       "      <th>imovel_endereco_localizacao_type</th>\n",
       "      <th>imovel_endereco_localizacao_coordinates</th>\n",
       "      <th>imovel_vagasGaragem</th>\n",
       "      <th>imovel_area</th>\n",
       "      <th>imovel_caracteristicas_propriedade</th>\n",
       "      <th>imovel_caracteristicas_condominio</th>\n",
       "      <th>imovel_caracteristicas_entorno</th>\n",
       "      <th>anuncio_tipos_publicacao</th>\n",
       "      <th>anuncio_tipos_listagem</th>\n",
       "      <th>anuncio_valores_venda</th>\n",
       "      <th>anuncio_valores_aluguel</th>\n",
       "      <th>anuncio_valores_condominio</th>\n",
       "      <th>anuncio_valores_iptu</th>\n",
       "      <th>anuncio_descricao</th>\n",
       "    </tr>\n",
       "  </thead>\n",
       "  <tbody>\n",
       "    <tr>\n",
       "      <th>0</th>\n",
       "      <td>Casa</td>\n",
       "      <td>Barra da Tijuca</td>\n",
       "      <td>Point</td>\n",
       "      <td>[-43.3039086, -23.0139692]</td>\n",
       "      <td>4</td>\n",
       "      <td>279</td>\n",
       "      <td>[Área de Serviço, Terraço, Churrasqueira, Quar...</td>\n",
       "      <td>[Churrasqueira, Salão de Jogos, Sauna, Estacio...</td>\n",
       "      <td>[Próximo a Escola Particular, Próximo ao Metrô...</td>\n",
       "      <td>Padrão</td>\n",
       "      <td>Lançamento</td>\n",
       "      <td>2400000.0</td>\n",
       "      <td>0.0</td>\n",
       "      <td>790.0</td>\n",
       "      <td>5700.0</td>\n",
       "      <td>Amplo imóvel para venda com 3 quartos, sendo 1...</td>\n",
       "    </tr>\n",
       "    <tr>\n",
       "      <th>1</th>\n",
       "      <td>Apartamento</td>\n",
       "      <td>Campo Grande</td>\n",
       "      <td>Point</td>\n",
       "      <td>[0, 0]</td>\n",
       "      <td>1</td>\n",
       "      <td>60</td>\n",
       "      <td>[Sauna]</td>\n",
       "      <td>[Elevador, Playground, Salão de Festas, Sistem...</td>\n",
       "      <td>[Próximo ao Shopping, Próximo a Áreas de Lazer...</td>\n",
       "      <td>Padrão</td>\n",
       "      <td>Usado</td>\n",
       "      <td>200000.0</td>\n",
       "      <td>0.0</td>\n",
       "      <td>0.0</td>\n",
       "      <td>0.0</td>\n",
       "      <td>Amplo imóvel para venda com 2 quartos, sendo 0...</td>\n",
       "    </tr>\n",
       "    <tr>\n",
       "      <th>2</th>\n",
       "      <td>Cobertura</td>\n",
       "      <td>Barra da Tijuca</td>\n",
       "      <td>Point</td>\n",
       "      <td>[-43.3037186, -22.9951304]</td>\n",
       "      <td>2</td>\n",
       "      <td>380</td>\n",
       "      <td>[Acessibilidade, Área de Serviço, Sauna, Ambie...</td>\n",
       "      <td>[Sauna, Playground, Quadra Poliesportiva, Salã...</td>\n",
       "      <td>[Próximo a Escola Particular]</td>\n",
       "      <td>Premium</td>\n",
       "      <td>Usado</td>\n",
       "      <td>4400000.0</td>\n",
       "      <td>0.0</td>\n",
       "      <td>1200.0</td>\n",
       "      <td>850.0</td>\n",
       "      <td>Amplo imóvel para venda com 5 quartos, sendo 4...</td>\n",
       "    </tr>\n",
       "    <tr>\n",
       "      <th>3</th>\n",
       "      <td>Cobertura</td>\n",
       "      <td>Barra da Tijuca</td>\n",
       "      <td>Point</td>\n",
       "      <td>[-43.3548121, -23.0097423]</td>\n",
       "      <td>1</td>\n",
       "      <td>73</td>\n",
       "      <td>[Vista Panorâmica, Piscina, Sauna, Closet, Mob...</td>\n",
       "      <td>[Quadra Poliesportiva, Aceita Pet, Playground,...</td>\n",
       "      <td>[Próximo a Farmácia, Próximo a Academia, Próxi...</td>\n",
       "      <td>Padrão</td>\n",
       "      <td>Usado</td>\n",
       "      <td>1100000.0</td>\n",
       "      <td>0.0</td>\n",
       "      <td>1300.0</td>\n",
       "      <td>364.0</td>\n",
       "      <td>Amplo imóvel para venda com 2 quartos, sendo 1...</td>\n",
       "    </tr>\n",
       "    <tr>\n",
       "      <th>4</th>\n",
       "      <td>Sala Comercial</td>\n",
       "      <td>Glória</td>\n",
       "      <td>Point</td>\n",
       "      <td>[-43.1779703, -22.9174894]</td>\n",
       "      <td>1</td>\n",
       "      <td>32</td>\n",
       "      <td>[Armários Planejados]</td>\n",
       "      <td>[Quadra Poliesportiva, Porteiro 24 Horas, Elev...</td>\n",
       "      <td>[Próximo a Centro Empresarial, Próximo a Áreas...</td>\n",
       "      <td>Padrão</td>\n",
       "      <td>Usado</td>\n",
       "      <td>260000.0</td>\n",
       "      <td>0.0</td>\n",
       "      <td>450.0</td>\n",
       "      <td>800.0</td>\n",
       "      <td>Amplo imóvel para venda com 0 quartos, sendo 0...</td>\n",
       "    </tr>\n",
       "    <tr>\n",
       "      <th>...</th>\n",
       "      <td>...</td>\n",
       "      <td>...</td>\n",
       "      <td>...</td>\n",
       "      <td>...</td>\n",
       "      <td>...</td>\n",
       "      <td>...</td>\n",
       "      <td>...</td>\n",
       "      <td>...</td>\n",
       "      <td>...</td>\n",
       "      <td>...</td>\n",
       "      <td>...</td>\n",
       "      <td>...</td>\n",
       "      <td>...</td>\n",
       "      <td>...</td>\n",
       "      <td>...</td>\n",
       "      <td>...</td>\n",
       "    </tr>\n",
       "    <tr>\n",
       "      <th>65</th>\n",
       "      <td>Apartamento</td>\n",
       "      <td>Copacabana</td>\n",
       "      <td>Point</td>\n",
       "      <td>[-43.1943902, -22.9816847]</td>\n",
       "      <td>1</td>\n",
       "      <td>216</td>\n",
       "      <td>[Cozinha Americana, Quarto/WC Empregada, Pisci...</td>\n",
       "      <td>[Elevador, Salão de Festas, Porteiro 24 Horas,...</td>\n",
       "      <td>[Próximo a Farmácia, Próximo a Academia, Próxi...</td>\n",
       "      <td>Padrão</td>\n",
       "      <td>Usado</td>\n",
       "      <td>1800000.0</td>\n",
       "      <td>0.0</td>\n",
       "      <td>2000.0</td>\n",
       "      <td>2300.0</td>\n",
       "      <td>Amplo imóvel para venda com 4 quartos, sendo 2...</td>\n",
       "    </tr>\n",
       "    <tr>\n",
       "      <th>66</th>\n",
       "      <td>Apartamento</td>\n",
       "      <td>Leblon</td>\n",
       "      <td>Point</td>\n",
       "      <td>[-43.2253114, -22.9843603]</td>\n",
       "      <td>1</td>\n",
       "      <td>218</td>\n",
       "      <td>[Piscina, Gás Encanado]</td>\n",
       "      <td>[Academia, Aceita Pet, Sistema de Incêndio, Bi...</td>\n",
       "      <td>[Próximo a Comércio Diversos, Próximo a Centro...</td>\n",
       "      <td>Premium</td>\n",
       "      <td>Usado</td>\n",
       "      <td>4500000.0</td>\n",
       "      <td>0.0</td>\n",
       "      <td>3600.0</td>\n",
       "      <td>7000.0</td>\n",
       "      <td>Amplo imóvel para venda com 3 quartos, sendo 1...</td>\n",
       "    </tr>\n",
       "    <tr>\n",
       "      <th>67</th>\n",
       "      <td>Casa</td>\n",
       "      <td>Copacabana</td>\n",
       "      <td>Point</td>\n",
       "      <td>[-43.1951842, -22.9818646]</td>\n",
       "      <td>0</td>\n",
       "      <td>25</td>\n",
       "      <td>[Closet, Armários Planejados, Quarto/WC Empreg...</td>\n",
       "      <td>[Bicicletário, Sistema de Incêndio, Segurança ...</td>\n",
       "      <td>[]</td>\n",
       "      <td>Destaque</td>\n",
       "      <td>Usado</td>\n",
       "      <td>350000.0</td>\n",
       "      <td>0.0</td>\n",
       "      <td>290.0</td>\n",
       "      <td>182.0</td>\n",
       "      <td>Amplo imóvel para venda com 1 quartos, sendo 0...</td>\n",
       "    </tr>\n",
       "    <tr>\n",
       "      <th>68</th>\n",
       "      <td>Sala Comercial</td>\n",
       "      <td>Cachambi</td>\n",
       "      <td>Point</td>\n",
       "      <td>[-43.2781994, -22.8917611]</td>\n",
       "      <td>2</td>\n",
       "      <td>138</td>\n",
       "      <td>[Gás Encanado, Acessibilidade, Ambientes Integ...</td>\n",
       "      <td>[Playground, Depósito Privativo, Academia, Qua...</td>\n",
       "      <td>[Próximo a Praia, Próximo a Serviços de Saúde,...</td>\n",
       "      <td>Premium</td>\n",
       "      <td>Usado</td>\n",
       "      <td>619000.0</td>\n",
       "      <td>0.0</td>\n",
       "      <td>506.0</td>\n",
       "      <td>1404.0</td>\n",
       "      <td>Amplo imóvel para venda com 3 quartos, sendo 1...</td>\n",
       "    </tr>\n",
       "    <tr>\n",
       "      <th>69</th>\n",
       "      <td>Apartamento</td>\n",
       "      <td>Tijuca</td>\n",
       "      <td>Point</td>\n",
       "      <td>[-43.2356544, -22.9264543]</td>\n",
       "      <td>0</td>\n",
       "      <td>100</td>\n",
       "      <td>[Churrasqueira, Gás Encanado, Quarto/WC Empreg...</td>\n",
       "      <td>[Academia, Quadra Poliesportiva, Sauna, Estaci...</td>\n",
       "      <td>[Próximo a Comércio Diversos, Próximo a Áreas ...</td>\n",
       "      <td>Padrão</td>\n",
       "      <td>Usado</td>\n",
       "      <td>580000.0</td>\n",
       "      <td>0.0</td>\n",
       "      <td>0.0</td>\n",
       "      <td>0.0</td>\n",
       "      <td>Amplo imóvel para venda com 3 quartos, sendo 1...</td>\n",
       "    </tr>\n",
       "  </tbody>\n",
       "</table>\n",
       "<p>70 rows × 16 columns</p>\n",
       "</div>"
      ],
      "text/plain": [
       "   imovel_tipos_propriedade imovel_endereco_bairro  \\\n",
       "0                      Casa        Barra da Tijuca   \n",
       "1               Apartamento           Campo Grande   \n",
       "2                 Cobertura        Barra da Tijuca   \n",
       "3                 Cobertura        Barra da Tijuca   \n",
       "4            Sala Comercial                 Glória   \n",
       "..                      ...                    ...   \n",
       "65              Apartamento             Copacabana   \n",
       "66              Apartamento                 Leblon   \n",
       "67                     Casa             Copacabana   \n",
       "68           Sala Comercial               Cachambi   \n",
       "69              Apartamento                 Tijuca   \n",
       "\n",
       "   imovel_endereco_localizacao_type imovel_endereco_localizacao_coordinates  \\\n",
       "0                             Point              [-43.3039086, -23.0139692]   \n",
       "1                             Point                                  [0, 0]   \n",
       "2                             Point              [-43.3037186, -22.9951304]   \n",
       "3                             Point              [-43.3548121, -23.0097423]   \n",
       "4                             Point              [-43.1779703, -22.9174894]   \n",
       "..                              ...                                     ...   \n",
       "65                            Point              [-43.1943902, -22.9816847]   \n",
       "66                            Point              [-43.2253114, -22.9843603]   \n",
       "67                            Point              [-43.1951842, -22.9818646]   \n",
       "68                            Point              [-43.2781994, -22.8917611]   \n",
       "69                            Point              [-43.2356544, -22.9264543]   \n",
       "\n",
       "    imovel_vagasGaragem  imovel_area  \\\n",
       "0                     4          279   \n",
       "1                     1           60   \n",
       "2                     2          380   \n",
       "3                     1           73   \n",
       "4                     1           32   \n",
       "..                  ...          ...   \n",
       "65                    1          216   \n",
       "66                    1          218   \n",
       "67                    0           25   \n",
       "68                    2          138   \n",
       "69                    0          100   \n",
       "\n",
       "                   imovel_caracteristicas_propriedade  \\\n",
       "0   [Área de Serviço, Terraço, Churrasqueira, Quar...   \n",
       "1                                             [Sauna]   \n",
       "2   [Acessibilidade, Área de Serviço, Sauna, Ambie...   \n",
       "3   [Vista Panorâmica, Piscina, Sauna, Closet, Mob...   \n",
       "4                               [Armários Planejados]   \n",
       "..                                                ...   \n",
       "65  [Cozinha Americana, Quarto/WC Empregada, Pisci...   \n",
       "66                            [Piscina, Gás Encanado]   \n",
       "67  [Closet, Armários Planejados, Quarto/WC Empreg...   \n",
       "68  [Gás Encanado, Acessibilidade, Ambientes Integ...   \n",
       "69  [Churrasqueira, Gás Encanado, Quarto/WC Empreg...   \n",
       "\n",
       "                    imovel_caracteristicas_condominio  \\\n",
       "0   [Churrasqueira, Salão de Jogos, Sauna, Estacio...   \n",
       "1   [Elevador, Playground, Salão de Festas, Sistem...   \n",
       "2   [Sauna, Playground, Quadra Poliesportiva, Salã...   \n",
       "3   [Quadra Poliesportiva, Aceita Pet, Playground,...   \n",
       "4   [Quadra Poliesportiva, Porteiro 24 Horas, Elev...   \n",
       "..                                                ...   \n",
       "65  [Elevador, Salão de Festas, Porteiro 24 Horas,...   \n",
       "66  [Academia, Aceita Pet, Sistema de Incêndio, Bi...   \n",
       "67  [Bicicletário, Sistema de Incêndio, Segurança ...   \n",
       "68  [Playground, Depósito Privativo, Academia, Qua...   \n",
       "69  [Academia, Quadra Poliesportiva, Sauna, Estaci...   \n",
       "\n",
       "                       imovel_caracteristicas_entorno  \\\n",
       "0   [Próximo a Escola Particular, Próximo ao Metrô...   \n",
       "1   [Próximo ao Shopping, Próximo a Áreas de Lazer...   \n",
       "2                       [Próximo a Escola Particular]   \n",
       "3   [Próximo a Farmácia, Próximo a Academia, Próxi...   \n",
       "4   [Próximo a Centro Empresarial, Próximo a Áreas...   \n",
       "..                                                ...   \n",
       "65  [Próximo a Farmácia, Próximo a Academia, Próxi...   \n",
       "66  [Próximo a Comércio Diversos, Próximo a Centro...   \n",
       "67                                                 []   \n",
       "68  [Próximo a Praia, Próximo a Serviços de Saúde,...   \n",
       "69  [Próximo a Comércio Diversos, Próximo a Áreas ...   \n",
       "\n",
       "   anuncio_tipos_publicacao anuncio_tipos_listagem  anuncio_valores_venda  \\\n",
       "0                    Padrão             Lançamento              2400000.0   \n",
       "1                    Padrão                  Usado               200000.0   \n",
       "2                   Premium                  Usado              4400000.0   \n",
       "3                    Padrão                  Usado              1100000.0   \n",
       "4                    Padrão                  Usado               260000.0   \n",
       "..                      ...                    ...                    ...   \n",
       "65                   Padrão                  Usado              1800000.0   \n",
       "66                  Premium                  Usado              4500000.0   \n",
       "67                 Destaque                  Usado               350000.0   \n",
       "68                  Premium                  Usado               619000.0   \n",
       "69                   Padrão                  Usado               580000.0   \n",
       "\n",
       "    anuncio_valores_aluguel  anuncio_valores_condominio  anuncio_valores_iptu  \\\n",
       "0                       0.0                       790.0                5700.0   \n",
       "1                       0.0                         0.0                   0.0   \n",
       "2                       0.0                      1200.0                 850.0   \n",
       "3                       0.0                      1300.0                 364.0   \n",
       "4                       0.0                       450.0                 800.0   \n",
       "..                      ...                         ...                   ...   \n",
       "65                      0.0                      2000.0                2300.0   \n",
       "66                      0.0                      3600.0                7000.0   \n",
       "67                      0.0                       290.0                 182.0   \n",
       "68                      0.0                       506.0                1404.0   \n",
       "69                      0.0                         0.0                   0.0   \n",
       "\n",
       "                                    anuncio_descricao  \n",
       "0   Amplo imóvel para venda com 3 quartos, sendo 1...  \n",
       "1   Amplo imóvel para venda com 2 quartos, sendo 0...  \n",
       "2   Amplo imóvel para venda com 5 quartos, sendo 4...  \n",
       "3   Amplo imóvel para venda com 2 quartos, sendo 1...  \n",
       "4   Amplo imóvel para venda com 0 quartos, sendo 0...  \n",
       "..                                                ...  \n",
       "65  Amplo imóvel para venda com 4 quartos, sendo 2...  \n",
       "66  Amplo imóvel para venda com 3 quartos, sendo 1...  \n",
       "67  Amplo imóvel para venda com 1 quartos, sendo 0...  \n",
       "68  Amplo imóvel para venda com 3 quartos, sendo 1...  \n",
       "69  Amplo imóvel para venda com 3 quartos, sendo 1...  \n",
       "\n",
       "[70 rows x 16 columns]"
      ]
     },
     "execution_count": 76,
     "metadata": {},
     "output_type": "execute_result"
    }
   ],
   "source": [
    "_df1.append(_df2, ignore_index=True)"
   ]
  },
  {
   "cell_type": "code",
   "execution_count": 80,
   "metadata": {
    "id": "bbBmb6dRevgd"
   },
   "outputs": [
    {
     "data": {
      "text/html": [
       "<div>\n",
       "<style scoped>\n",
       "    .dataframe tbody tr th:only-of-type {\n",
       "        vertical-align: middle;\n",
       "    }\n",
       "\n",
       "    .dataframe tbody tr th {\n",
       "        vertical-align: top;\n",
       "    }\n",
       "\n",
       "    .dataframe thead th {\n",
       "        text-align: right;\n",
       "    }\n",
       "</style>\n",
       "<table border=\"1\" class=\"dataframe\">\n",
       "  <thead>\n",
       "    <tr style=\"text-align: right;\">\n",
       "      <th></th>\n",
       "      <th>imovel_tipos_propriedade</th>\n",
       "      <th>imovel_endereco_bairro</th>\n",
       "      <th>imovel_endereco_localizacao_type</th>\n",
       "      <th>imovel_endereco_localizacao_coordinates</th>\n",
       "      <th>imovel_vagasGaragem</th>\n",
       "      <th>imovel_area</th>\n",
       "      <th>imovel_caracteristicas_propriedade</th>\n",
       "      <th>imovel_caracteristicas_condominio</th>\n",
       "      <th>imovel_caracteristicas_entorno</th>\n",
       "      <th>anuncio_tipos_publicacao</th>\n",
       "      <th>anuncio_tipos_listagem</th>\n",
       "      <th>anuncio_valores_venda</th>\n",
       "      <th>anuncio_valores_aluguel</th>\n",
       "      <th>anuncio_valores_condominio</th>\n",
       "      <th>anuncio_valores_iptu</th>\n",
       "      <th>anuncio_descricao</th>\n",
       "    </tr>\n",
       "  </thead>\n",
       "  <tbody>\n",
       "    <tr>\n",
       "      <th>0</th>\n",
       "      <td>Casa</td>\n",
       "      <td>Barra da Tijuca</td>\n",
       "      <td>Point</td>\n",
       "      <td>[-43.3039086, -23.0139692]</td>\n",
       "      <td>4</td>\n",
       "      <td>279</td>\n",
       "      <td>[Área de Serviço, Terraço, Churrasqueira, Quar...</td>\n",
       "      <td>[Churrasqueira, Salão de Jogos, Sauna, Estacio...</td>\n",
       "      <td>[Próximo a Escola Particular, Próximo ao Metrô...</td>\n",
       "      <td>Padrão</td>\n",
       "      <td>Lançamento</td>\n",
       "      <td>2400000.0</td>\n",
       "      <td>0.0</td>\n",
       "      <td>790.0</td>\n",
       "      <td>5700.0</td>\n",
       "      <td>Amplo imóvel para venda com 3 quartos, sendo 1...</td>\n",
       "    </tr>\n",
       "    <tr>\n",
       "      <th>1</th>\n",
       "      <td>Apartamento</td>\n",
       "      <td>Campo Grande</td>\n",
       "      <td>Point</td>\n",
       "      <td>[0, 0]</td>\n",
       "      <td>1</td>\n",
       "      <td>60</td>\n",
       "      <td>[Sauna]</td>\n",
       "      <td>[Elevador, Playground, Salão de Festas, Sistem...</td>\n",
       "      <td>[Próximo ao Shopping, Próximo a Áreas de Lazer...</td>\n",
       "      <td>Padrão</td>\n",
       "      <td>Usado</td>\n",
       "      <td>200000.0</td>\n",
       "      <td>0.0</td>\n",
       "      <td>0.0</td>\n",
       "      <td>0.0</td>\n",
       "      <td>Amplo imóvel para venda com 2 quartos, sendo 0...</td>\n",
       "    </tr>\n",
       "    <tr>\n",
       "      <th>2</th>\n",
       "      <td>Cobertura</td>\n",
       "      <td>Barra da Tijuca</td>\n",
       "      <td>Point</td>\n",
       "      <td>[-43.3037186, -22.9951304]</td>\n",
       "      <td>2</td>\n",
       "      <td>380</td>\n",
       "      <td>[Acessibilidade, Área de Serviço, Sauna, Ambie...</td>\n",
       "      <td>[Sauna, Playground, Quadra Poliesportiva, Salã...</td>\n",
       "      <td>[Próximo a Escola Particular]</td>\n",
       "      <td>Premium</td>\n",
       "      <td>Usado</td>\n",
       "      <td>4400000.0</td>\n",
       "      <td>0.0</td>\n",
       "      <td>1200.0</td>\n",
       "      <td>850.0</td>\n",
       "      <td>Amplo imóvel para venda com 5 quartos, sendo 4...</td>\n",
       "    </tr>\n",
       "    <tr>\n",
       "      <th>3</th>\n",
       "      <td>Cobertura</td>\n",
       "      <td>Barra da Tijuca</td>\n",
       "      <td>Point</td>\n",
       "      <td>[-43.3548121, -23.0097423]</td>\n",
       "      <td>1</td>\n",
       "      <td>73</td>\n",
       "      <td>[Vista Panorâmica, Piscina, Sauna, Closet, Mob...</td>\n",
       "      <td>[Quadra Poliesportiva, Aceita Pet, Playground,...</td>\n",
       "      <td>[Próximo a Farmácia, Próximo a Academia, Próxi...</td>\n",
       "      <td>Padrão</td>\n",
       "      <td>Usado</td>\n",
       "      <td>1100000.0</td>\n",
       "      <td>0.0</td>\n",
       "      <td>1300.0</td>\n",
       "      <td>364.0</td>\n",
       "      <td>Amplo imóvel para venda com 2 quartos, sendo 1...</td>\n",
       "    </tr>\n",
       "    <tr>\n",
       "      <th>4</th>\n",
       "      <td>Sala Comercial</td>\n",
       "      <td>Glória</td>\n",
       "      <td>Point</td>\n",
       "      <td>[-43.1779703, -22.9174894]</td>\n",
       "      <td>1</td>\n",
       "      <td>32</td>\n",
       "      <td>[Armários Planejados]</td>\n",
       "      <td>[Quadra Poliesportiva, Porteiro 24 Horas, Elev...</td>\n",
       "      <td>[Próximo a Centro Empresarial, Próximo a Áreas...</td>\n",
       "      <td>Padrão</td>\n",
       "      <td>Usado</td>\n",
       "      <td>260000.0</td>\n",
       "      <td>0.0</td>\n",
       "      <td>450.0</td>\n",
       "      <td>800.0</td>\n",
       "      <td>Amplo imóvel para venda com 0 quartos, sendo 0...</td>\n",
       "    </tr>\n",
       "    <tr>\n",
       "      <th>...</th>\n",
       "      <td>...</td>\n",
       "      <td>...</td>\n",
       "      <td>...</td>\n",
       "      <td>...</td>\n",
       "      <td>...</td>\n",
       "      <td>...</td>\n",
       "      <td>...</td>\n",
       "      <td>...</td>\n",
       "      <td>...</td>\n",
       "      <td>...</td>\n",
       "      <td>...</td>\n",
       "      <td>...</td>\n",
       "      <td>...</td>\n",
       "      <td>...</td>\n",
       "      <td>...</td>\n",
       "      <td>...</td>\n",
       "    </tr>\n",
       "    <tr>\n",
       "      <th>65</th>\n",
       "      <td>Apartamento</td>\n",
       "      <td>Copacabana</td>\n",
       "      <td>Point</td>\n",
       "      <td>[-43.1943902, -22.9816847]</td>\n",
       "      <td>1</td>\n",
       "      <td>216</td>\n",
       "      <td>[Cozinha Americana, Quarto/WC Empregada, Pisci...</td>\n",
       "      <td>[Elevador, Salão de Festas, Porteiro 24 Horas,...</td>\n",
       "      <td>[Próximo a Farmácia, Próximo a Academia, Próxi...</td>\n",
       "      <td>Padrão</td>\n",
       "      <td>Usado</td>\n",
       "      <td>1800000.0</td>\n",
       "      <td>0.0</td>\n",
       "      <td>2000.0</td>\n",
       "      <td>2300.0</td>\n",
       "      <td>Amplo imóvel para venda com 4 quartos, sendo 2...</td>\n",
       "    </tr>\n",
       "    <tr>\n",
       "      <th>66</th>\n",
       "      <td>Apartamento</td>\n",
       "      <td>Leblon</td>\n",
       "      <td>Point</td>\n",
       "      <td>[-43.2253114, -22.9843603]</td>\n",
       "      <td>1</td>\n",
       "      <td>218</td>\n",
       "      <td>[Piscina, Gás Encanado]</td>\n",
       "      <td>[Academia, Aceita Pet, Sistema de Incêndio, Bi...</td>\n",
       "      <td>[Próximo a Comércio Diversos, Próximo a Centro...</td>\n",
       "      <td>Premium</td>\n",
       "      <td>Usado</td>\n",
       "      <td>4500000.0</td>\n",
       "      <td>0.0</td>\n",
       "      <td>3600.0</td>\n",
       "      <td>7000.0</td>\n",
       "      <td>Amplo imóvel para venda com 3 quartos, sendo 1...</td>\n",
       "    </tr>\n",
       "    <tr>\n",
       "      <th>67</th>\n",
       "      <td>Casa</td>\n",
       "      <td>Copacabana</td>\n",
       "      <td>Point</td>\n",
       "      <td>[-43.1951842, -22.9818646]</td>\n",
       "      <td>0</td>\n",
       "      <td>25</td>\n",
       "      <td>[Closet, Armários Planejados, Quarto/WC Empreg...</td>\n",
       "      <td>[Bicicletário, Sistema de Incêndio, Segurança ...</td>\n",
       "      <td>[]</td>\n",
       "      <td>Destaque</td>\n",
       "      <td>Usado</td>\n",
       "      <td>350000.0</td>\n",
       "      <td>0.0</td>\n",
       "      <td>290.0</td>\n",
       "      <td>182.0</td>\n",
       "      <td>Amplo imóvel para venda com 1 quartos, sendo 0...</td>\n",
       "    </tr>\n",
       "    <tr>\n",
       "      <th>68</th>\n",
       "      <td>Sala Comercial</td>\n",
       "      <td>Cachambi</td>\n",
       "      <td>Point</td>\n",
       "      <td>[-43.2781994, -22.8917611]</td>\n",
       "      <td>2</td>\n",
       "      <td>138</td>\n",
       "      <td>[Gás Encanado, Acessibilidade, Ambientes Integ...</td>\n",
       "      <td>[Playground, Depósito Privativo, Academia, Qua...</td>\n",
       "      <td>[Próximo a Praia, Próximo a Serviços de Saúde,...</td>\n",
       "      <td>Premium</td>\n",
       "      <td>Usado</td>\n",
       "      <td>619000.0</td>\n",
       "      <td>0.0</td>\n",
       "      <td>506.0</td>\n",
       "      <td>1404.0</td>\n",
       "      <td>Amplo imóvel para venda com 3 quartos, sendo 1...</td>\n",
       "    </tr>\n",
       "    <tr>\n",
       "      <th>69</th>\n",
       "      <td>Apartamento</td>\n",
       "      <td>Tijuca</td>\n",
       "      <td>Point</td>\n",
       "      <td>[-43.2356544, -22.9264543]</td>\n",
       "      <td>0</td>\n",
       "      <td>100</td>\n",
       "      <td>[Churrasqueira, Gás Encanado, Quarto/WC Empreg...</td>\n",
       "      <td>[Academia, Quadra Poliesportiva, Sauna, Estaci...</td>\n",
       "      <td>[Próximo a Comércio Diversos, Próximo a Áreas ...</td>\n",
       "      <td>Padrão</td>\n",
       "      <td>Usado</td>\n",
       "      <td>580000.0</td>\n",
       "      <td>0.0</td>\n",
       "      <td>0.0</td>\n",
       "      <td>0.0</td>\n",
       "      <td>Amplo imóvel para venda com 3 quartos, sendo 1...</td>\n",
       "    </tr>\n",
       "  </tbody>\n",
       "</table>\n",
       "<p>70 rows × 16 columns</p>\n",
       "</div>"
      ],
      "text/plain": [
       "   imovel_tipos_propriedade imovel_endereco_bairro  \\\n",
       "0                      Casa        Barra da Tijuca   \n",
       "1               Apartamento           Campo Grande   \n",
       "2                 Cobertura        Barra da Tijuca   \n",
       "3                 Cobertura        Barra da Tijuca   \n",
       "4            Sala Comercial                 Glória   \n",
       "..                      ...                    ...   \n",
       "65              Apartamento             Copacabana   \n",
       "66              Apartamento                 Leblon   \n",
       "67                     Casa             Copacabana   \n",
       "68           Sala Comercial               Cachambi   \n",
       "69              Apartamento                 Tijuca   \n",
       "\n",
       "   imovel_endereco_localizacao_type imovel_endereco_localizacao_coordinates  \\\n",
       "0                             Point              [-43.3039086, -23.0139692]   \n",
       "1                             Point                                  [0, 0]   \n",
       "2                             Point              [-43.3037186, -22.9951304]   \n",
       "3                             Point              [-43.3548121, -23.0097423]   \n",
       "4                             Point              [-43.1779703, -22.9174894]   \n",
       "..                              ...                                     ...   \n",
       "65                            Point              [-43.1943902, -22.9816847]   \n",
       "66                            Point              [-43.2253114, -22.9843603]   \n",
       "67                            Point              [-43.1951842, -22.9818646]   \n",
       "68                            Point              [-43.2781994, -22.8917611]   \n",
       "69                            Point              [-43.2356544, -22.9264543]   \n",
       "\n",
       "    imovel_vagasGaragem  imovel_area  \\\n",
       "0                     4          279   \n",
       "1                     1           60   \n",
       "2                     2          380   \n",
       "3                     1           73   \n",
       "4                     1           32   \n",
       "..                  ...          ...   \n",
       "65                    1          216   \n",
       "66                    1          218   \n",
       "67                    0           25   \n",
       "68                    2          138   \n",
       "69                    0          100   \n",
       "\n",
       "                   imovel_caracteristicas_propriedade  \\\n",
       "0   [Área de Serviço, Terraço, Churrasqueira, Quar...   \n",
       "1                                             [Sauna]   \n",
       "2   [Acessibilidade, Área de Serviço, Sauna, Ambie...   \n",
       "3   [Vista Panorâmica, Piscina, Sauna, Closet, Mob...   \n",
       "4                               [Armários Planejados]   \n",
       "..                                                ...   \n",
       "65  [Cozinha Americana, Quarto/WC Empregada, Pisci...   \n",
       "66                            [Piscina, Gás Encanado]   \n",
       "67  [Closet, Armários Planejados, Quarto/WC Empreg...   \n",
       "68  [Gás Encanado, Acessibilidade, Ambientes Integ...   \n",
       "69  [Churrasqueira, Gás Encanado, Quarto/WC Empreg...   \n",
       "\n",
       "                    imovel_caracteristicas_condominio  \\\n",
       "0   [Churrasqueira, Salão de Jogos, Sauna, Estacio...   \n",
       "1   [Elevador, Playground, Salão de Festas, Sistem...   \n",
       "2   [Sauna, Playground, Quadra Poliesportiva, Salã...   \n",
       "3   [Quadra Poliesportiva, Aceita Pet, Playground,...   \n",
       "4   [Quadra Poliesportiva, Porteiro 24 Horas, Elev...   \n",
       "..                                                ...   \n",
       "65  [Elevador, Salão de Festas, Porteiro 24 Horas,...   \n",
       "66  [Academia, Aceita Pet, Sistema de Incêndio, Bi...   \n",
       "67  [Bicicletário, Sistema de Incêndio, Segurança ...   \n",
       "68  [Playground, Depósito Privativo, Academia, Qua...   \n",
       "69  [Academia, Quadra Poliesportiva, Sauna, Estaci...   \n",
       "\n",
       "                       imovel_caracteristicas_entorno  \\\n",
       "0   [Próximo a Escola Particular, Próximo ao Metrô...   \n",
       "1   [Próximo ao Shopping, Próximo a Áreas de Lazer...   \n",
       "2                       [Próximo a Escola Particular]   \n",
       "3   [Próximo a Farmácia, Próximo a Academia, Próxi...   \n",
       "4   [Próximo a Centro Empresarial, Próximo a Áreas...   \n",
       "..                                                ...   \n",
       "65  [Próximo a Farmácia, Próximo a Academia, Próxi...   \n",
       "66  [Próximo a Comércio Diversos, Próximo a Centro...   \n",
       "67                                                 []   \n",
       "68  [Próximo a Praia, Próximo a Serviços de Saúde,...   \n",
       "69  [Próximo a Comércio Diversos, Próximo a Áreas ...   \n",
       "\n",
       "   anuncio_tipos_publicacao anuncio_tipos_listagem  anuncio_valores_venda  \\\n",
       "0                    Padrão             Lançamento              2400000.0   \n",
       "1                    Padrão                  Usado               200000.0   \n",
       "2                   Premium                  Usado              4400000.0   \n",
       "3                    Padrão                  Usado              1100000.0   \n",
       "4                    Padrão                  Usado               260000.0   \n",
       "..                      ...                    ...                    ...   \n",
       "65                   Padrão                  Usado              1800000.0   \n",
       "66                  Premium                  Usado              4500000.0   \n",
       "67                 Destaque                  Usado               350000.0   \n",
       "68                  Premium                  Usado               619000.0   \n",
       "69                   Padrão                  Usado               580000.0   \n",
       "\n",
       "    anuncio_valores_aluguel  anuncio_valores_condominio  anuncio_valores_iptu  \\\n",
       "0                       0.0                       790.0                5700.0   \n",
       "1                       0.0                         0.0                   0.0   \n",
       "2                       0.0                      1200.0                 850.0   \n",
       "3                       0.0                      1300.0                 364.0   \n",
       "4                       0.0                       450.0                 800.0   \n",
       "..                      ...                         ...                   ...   \n",
       "65                      0.0                      2000.0                2300.0   \n",
       "66                      0.0                      3600.0                7000.0   \n",
       "67                      0.0                       290.0                 182.0   \n",
       "68                      0.0                       506.0                1404.0   \n",
       "69                      0.0                         0.0                   0.0   \n",
       "\n",
       "                                    anuncio_descricao  \n",
       "0   Amplo imóvel para venda com 3 quartos, sendo 1...  \n",
       "1   Amplo imóvel para venda com 2 quartos, sendo 0...  \n",
       "2   Amplo imóvel para venda com 5 quartos, sendo 4...  \n",
       "3   Amplo imóvel para venda com 2 quartos, sendo 1...  \n",
       "4   Amplo imóvel para venda com 0 quartos, sendo 0...  \n",
       "..                                                ...  \n",
       "65  Amplo imóvel para venda com 4 quartos, sendo 2...  \n",
       "66  Amplo imóvel para venda com 3 quartos, sendo 1...  \n",
       "67  Amplo imóvel para venda com 1 quartos, sendo 0...  \n",
       "68  Amplo imóvel para venda com 3 quartos, sendo 1...  \n",
       "69  Amplo imóvel para venda com 3 quartos, sendo 1...  \n",
       "\n",
       "[70 rows x 16 columns]"
      ]
     },
     "execution_count": 80,
     "metadata": {},
     "output_type": "execute_result"
    }
   ],
   "source": [
    "dados_listing_append = _df1.append(_df2, ignore_index=True)\n",
    "dados_listing_append"
   ]
  },
  {
   "cell_type": "markdown",
   "metadata": {
    "id": "i9p8pJONevgd",
    "scrolled": true
   },
   "source": [
    "Somente quando as colunas forem iguais para serem empilhadas"
   ]
  },
  {
   "cell_type": "markdown",
   "metadata": {
    "id": "r2--u5uMevgd"
   },
   "source": [
    "### `concat`\n",
    "\n",
    "[Documentação](https://pandas.pydata.org/pandas-docs/stable/reference/api/pandas.concat.html)"
   ]
  },
  {
   "cell_type": "code",
   "execution_count": 79,
   "metadata": {
    "id": "Slce5RQdevge"
   },
   "outputs": [
    {
     "data": {
      "text/html": [
       "<div>\n",
       "<style scoped>\n",
       "    .dataframe tbody tr th:only-of-type {\n",
       "        vertical-align: middle;\n",
       "    }\n",
       "\n",
       "    .dataframe tbody tr th {\n",
       "        vertical-align: top;\n",
       "    }\n",
       "\n",
       "    .dataframe thead th {\n",
       "        text-align: right;\n",
       "    }\n",
       "</style>\n",
       "<table border=\"1\" class=\"dataframe\">\n",
       "  <thead>\n",
       "    <tr style=\"text-align: right;\">\n",
       "      <th></th>\n",
       "      <th>imovel_tipos_propriedade</th>\n",
       "      <th>imovel_endereco_bairro</th>\n",
       "      <th>imovel_endereco_localizacao_type</th>\n",
       "      <th>imovel_endereco_localizacao_coordinates</th>\n",
       "      <th>imovel_vagasGaragem</th>\n",
       "      <th>imovel_area</th>\n",
       "      <th>imovel_caracteristicas_propriedade</th>\n",
       "      <th>imovel_caracteristicas_condominio</th>\n",
       "      <th>imovel_caracteristicas_entorno</th>\n",
       "      <th>anuncio_tipos_publicacao</th>\n",
       "      <th>anuncio_tipos_listagem</th>\n",
       "      <th>anuncio_valores_venda</th>\n",
       "      <th>anuncio_valores_aluguel</th>\n",
       "      <th>anuncio_valores_condominio</th>\n",
       "      <th>anuncio_valores_iptu</th>\n",
       "      <th>anuncio_descricao</th>\n",
       "    </tr>\n",
       "  </thead>\n",
       "  <tbody>\n",
       "    <tr>\n",
       "      <th>0</th>\n",
       "      <td>Casa</td>\n",
       "      <td>Barra da Tijuca</td>\n",
       "      <td>Point</td>\n",
       "      <td>[-43.3039086, -23.0139692]</td>\n",
       "      <td>4</td>\n",
       "      <td>279</td>\n",
       "      <td>[Área de Serviço, Terraço, Churrasqueira, Quar...</td>\n",
       "      <td>[Churrasqueira, Salão de Jogos, Sauna, Estacio...</td>\n",
       "      <td>[Próximo a Escola Particular, Próximo ao Metrô...</td>\n",
       "      <td>Padrão</td>\n",
       "      <td>Lançamento</td>\n",
       "      <td>2400000.0</td>\n",
       "      <td>0.0</td>\n",
       "      <td>790.0</td>\n",
       "      <td>5700.0</td>\n",
       "      <td>Amplo imóvel para venda com 3 quartos, sendo 1...</td>\n",
       "    </tr>\n",
       "    <tr>\n",
       "      <th>1</th>\n",
       "      <td>Apartamento</td>\n",
       "      <td>Campo Grande</td>\n",
       "      <td>Point</td>\n",
       "      <td>[0, 0]</td>\n",
       "      <td>1</td>\n",
       "      <td>60</td>\n",
       "      <td>[Sauna]</td>\n",
       "      <td>[Elevador, Playground, Salão de Festas, Sistem...</td>\n",
       "      <td>[Próximo ao Shopping, Próximo a Áreas de Lazer...</td>\n",
       "      <td>Padrão</td>\n",
       "      <td>Usado</td>\n",
       "      <td>200000.0</td>\n",
       "      <td>0.0</td>\n",
       "      <td>0.0</td>\n",
       "      <td>0.0</td>\n",
       "      <td>Amplo imóvel para venda com 2 quartos, sendo 0...</td>\n",
       "    </tr>\n",
       "    <tr>\n",
       "      <th>2</th>\n",
       "      <td>Cobertura</td>\n",
       "      <td>Barra da Tijuca</td>\n",
       "      <td>Point</td>\n",
       "      <td>[-43.3037186, -22.9951304]</td>\n",
       "      <td>2</td>\n",
       "      <td>380</td>\n",
       "      <td>[Acessibilidade, Área de Serviço, Sauna, Ambie...</td>\n",
       "      <td>[Sauna, Playground, Quadra Poliesportiva, Salã...</td>\n",
       "      <td>[Próximo a Escola Particular]</td>\n",
       "      <td>Premium</td>\n",
       "      <td>Usado</td>\n",
       "      <td>4400000.0</td>\n",
       "      <td>0.0</td>\n",
       "      <td>1200.0</td>\n",
       "      <td>850.0</td>\n",
       "      <td>Amplo imóvel para venda com 5 quartos, sendo 4...</td>\n",
       "    </tr>\n",
       "    <tr>\n",
       "      <th>3</th>\n",
       "      <td>Cobertura</td>\n",
       "      <td>Barra da Tijuca</td>\n",
       "      <td>Point</td>\n",
       "      <td>[-43.3548121, -23.0097423]</td>\n",
       "      <td>1</td>\n",
       "      <td>73</td>\n",
       "      <td>[Vista Panorâmica, Piscina, Sauna, Closet, Mob...</td>\n",
       "      <td>[Quadra Poliesportiva, Aceita Pet, Playground,...</td>\n",
       "      <td>[Próximo a Farmácia, Próximo a Academia, Próxi...</td>\n",
       "      <td>Padrão</td>\n",
       "      <td>Usado</td>\n",
       "      <td>1100000.0</td>\n",
       "      <td>0.0</td>\n",
       "      <td>1300.0</td>\n",
       "      <td>364.0</td>\n",
       "      <td>Amplo imóvel para venda com 2 quartos, sendo 1...</td>\n",
       "    </tr>\n",
       "    <tr>\n",
       "      <th>4</th>\n",
       "      <td>Sala Comercial</td>\n",
       "      <td>Glória</td>\n",
       "      <td>Point</td>\n",
       "      <td>[-43.1779703, -22.9174894]</td>\n",
       "      <td>1</td>\n",
       "      <td>32</td>\n",
       "      <td>[Armários Planejados]</td>\n",
       "      <td>[Quadra Poliesportiva, Porteiro 24 Horas, Elev...</td>\n",
       "      <td>[Próximo a Centro Empresarial, Próximo a Áreas...</td>\n",
       "      <td>Padrão</td>\n",
       "      <td>Usado</td>\n",
       "      <td>260000.0</td>\n",
       "      <td>0.0</td>\n",
       "      <td>450.0</td>\n",
       "      <td>800.0</td>\n",
       "      <td>Amplo imóvel para venda com 0 quartos, sendo 0...</td>\n",
       "    </tr>\n",
       "    <tr>\n",
       "      <th>...</th>\n",
       "      <td>...</td>\n",
       "      <td>...</td>\n",
       "      <td>...</td>\n",
       "      <td>...</td>\n",
       "      <td>...</td>\n",
       "      <td>...</td>\n",
       "      <td>...</td>\n",
       "      <td>...</td>\n",
       "      <td>...</td>\n",
       "      <td>...</td>\n",
       "      <td>...</td>\n",
       "      <td>...</td>\n",
       "      <td>...</td>\n",
       "      <td>...</td>\n",
       "      <td>...</td>\n",
       "      <td>...</td>\n",
       "    </tr>\n",
       "    <tr>\n",
       "      <th>15</th>\n",
       "      <td>Apartamento</td>\n",
       "      <td>Copacabana</td>\n",
       "      <td>Point</td>\n",
       "      <td>[-43.1943902, -22.9816847]</td>\n",
       "      <td>1</td>\n",
       "      <td>216</td>\n",
       "      <td>[Cozinha Americana, Quarto/WC Empregada, Pisci...</td>\n",
       "      <td>[Elevador, Salão de Festas, Porteiro 24 Horas,...</td>\n",
       "      <td>[Próximo a Farmácia, Próximo a Academia, Próxi...</td>\n",
       "      <td>Padrão</td>\n",
       "      <td>Usado</td>\n",
       "      <td>1800000.0</td>\n",
       "      <td>0.0</td>\n",
       "      <td>2000.0</td>\n",
       "      <td>2300.0</td>\n",
       "      <td>Amplo imóvel para venda com 4 quartos, sendo 2...</td>\n",
       "    </tr>\n",
       "    <tr>\n",
       "      <th>16</th>\n",
       "      <td>Apartamento</td>\n",
       "      <td>Leblon</td>\n",
       "      <td>Point</td>\n",
       "      <td>[-43.2253114, -22.9843603]</td>\n",
       "      <td>1</td>\n",
       "      <td>218</td>\n",
       "      <td>[Piscina, Gás Encanado]</td>\n",
       "      <td>[Academia, Aceita Pet, Sistema de Incêndio, Bi...</td>\n",
       "      <td>[Próximo a Comércio Diversos, Próximo a Centro...</td>\n",
       "      <td>Premium</td>\n",
       "      <td>Usado</td>\n",
       "      <td>4500000.0</td>\n",
       "      <td>0.0</td>\n",
       "      <td>3600.0</td>\n",
       "      <td>7000.0</td>\n",
       "      <td>Amplo imóvel para venda com 3 quartos, sendo 1...</td>\n",
       "    </tr>\n",
       "    <tr>\n",
       "      <th>17</th>\n",
       "      <td>Casa</td>\n",
       "      <td>Copacabana</td>\n",
       "      <td>Point</td>\n",
       "      <td>[-43.1951842, -22.9818646]</td>\n",
       "      <td>0</td>\n",
       "      <td>25</td>\n",
       "      <td>[Closet, Armários Planejados, Quarto/WC Empreg...</td>\n",
       "      <td>[Bicicletário, Sistema de Incêndio, Segurança ...</td>\n",
       "      <td>[]</td>\n",
       "      <td>Destaque</td>\n",
       "      <td>Usado</td>\n",
       "      <td>350000.0</td>\n",
       "      <td>0.0</td>\n",
       "      <td>290.0</td>\n",
       "      <td>182.0</td>\n",
       "      <td>Amplo imóvel para venda com 1 quartos, sendo 0...</td>\n",
       "    </tr>\n",
       "    <tr>\n",
       "      <th>18</th>\n",
       "      <td>Sala Comercial</td>\n",
       "      <td>Cachambi</td>\n",
       "      <td>Point</td>\n",
       "      <td>[-43.2781994, -22.8917611]</td>\n",
       "      <td>2</td>\n",
       "      <td>138</td>\n",
       "      <td>[Gás Encanado, Acessibilidade, Ambientes Integ...</td>\n",
       "      <td>[Playground, Depósito Privativo, Academia, Qua...</td>\n",
       "      <td>[Próximo a Praia, Próximo a Serviços de Saúde,...</td>\n",
       "      <td>Premium</td>\n",
       "      <td>Usado</td>\n",
       "      <td>619000.0</td>\n",
       "      <td>0.0</td>\n",
       "      <td>506.0</td>\n",
       "      <td>1404.0</td>\n",
       "      <td>Amplo imóvel para venda com 3 quartos, sendo 1...</td>\n",
       "    </tr>\n",
       "    <tr>\n",
       "      <th>19</th>\n",
       "      <td>Apartamento</td>\n",
       "      <td>Tijuca</td>\n",
       "      <td>Point</td>\n",
       "      <td>[-43.2356544, -22.9264543]</td>\n",
       "      <td>0</td>\n",
       "      <td>100</td>\n",
       "      <td>[Churrasqueira, Gás Encanado, Quarto/WC Empreg...</td>\n",
       "      <td>[Academia, Quadra Poliesportiva, Sauna, Estaci...</td>\n",
       "      <td>[Próximo a Comércio Diversos, Próximo a Áreas ...</td>\n",
       "      <td>Padrão</td>\n",
       "      <td>Usado</td>\n",
       "      <td>580000.0</td>\n",
       "      <td>0.0</td>\n",
       "      <td>0.0</td>\n",
       "      <td>0.0</td>\n",
       "      <td>Amplo imóvel para venda com 3 quartos, sendo 1...</td>\n",
       "    </tr>\n",
       "  </tbody>\n",
       "</table>\n",
       "<p>70 rows × 16 columns</p>\n",
       "</div>"
      ],
      "text/plain": [
       "   imovel_tipos_propriedade imovel_endereco_bairro  \\\n",
       "0                      Casa        Barra da Tijuca   \n",
       "1               Apartamento           Campo Grande   \n",
       "2                 Cobertura        Barra da Tijuca   \n",
       "3                 Cobertura        Barra da Tijuca   \n",
       "4            Sala Comercial                 Glória   \n",
       "..                      ...                    ...   \n",
       "15              Apartamento             Copacabana   \n",
       "16              Apartamento                 Leblon   \n",
       "17                     Casa             Copacabana   \n",
       "18           Sala Comercial               Cachambi   \n",
       "19              Apartamento                 Tijuca   \n",
       "\n",
       "   imovel_endereco_localizacao_type imovel_endereco_localizacao_coordinates  \\\n",
       "0                             Point              [-43.3039086, -23.0139692]   \n",
       "1                             Point                                  [0, 0]   \n",
       "2                             Point              [-43.3037186, -22.9951304]   \n",
       "3                             Point              [-43.3548121, -23.0097423]   \n",
       "4                             Point              [-43.1779703, -22.9174894]   \n",
       "..                              ...                                     ...   \n",
       "15                            Point              [-43.1943902, -22.9816847]   \n",
       "16                            Point              [-43.2253114, -22.9843603]   \n",
       "17                            Point              [-43.1951842, -22.9818646]   \n",
       "18                            Point              [-43.2781994, -22.8917611]   \n",
       "19                            Point              [-43.2356544, -22.9264543]   \n",
       "\n",
       "    imovel_vagasGaragem  imovel_area  \\\n",
       "0                     4          279   \n",
       "1                     1           60   \n",
       "2                     2          380   \n",
       "3                     1           73   \n",
       "4                     1           32   \n",
       "..                  ...          ...   \n",
       "15                    1          216   \n",
       "16                    1          218   \n",
       "17                    0           25   \n",
       "18                    2          138   \n",
       "19                    0          100   \n",
       "\n",
       "                   imovel_caracteristicas_propriedade  \\\n",
       "0   [Área de Serviço, Terraço, Churrasqueira, Quar...   \n",
       "1                                             [Sauna]   \n",
       "2   [Acessibilidade, Área de Serviço, Sauna, Ambie...   \n",
       "3   [Vista Panorâmica, Piscina, Sauna, Closet, Mob...   \n",
       "4                               [Armários Planejados]   \n",
       "..                                                ...   \n",
       "15  [Cozinha Americana, Quarto/WC Empregada, Pisci...   \n",
       "16                            [Piscina, Gás Encanado]   \n",
       "17  [Closet, Armários Planejados, Quarto/WC Empreg...   \n",
       "18  [Gás Encanado, Acessibilidade, Ambientes Integ...   \n",
       "19  [Churrasqueira, Gás Encanado, Quarto/WC Empreg...   \n",
       "\n",
       "                    imovel_caracteristicas_condominio  \\\n",
       "0   [Churrasqueira, Salão de Jogos, Sauna, Estacio...   \n",
       "1   [Elevador, Playground, Salão de Festas, Sistem...   \n",
       "2   [Sauna, Playground, Quadra Poliesportiva, Salã...   \n",
       "3   [Quadra Poliesportiva, Aceita Pet, Playground,...   \n",
       "4   [Quadra Poliesportiva, Porteiro 24 Horas, Elev...   \n",
       "..                                                ...   \n",
       "15  [Elevador, Salão de Festas, Porteiro 24 Horas,...   \n",
       "16  [Academia, Aceita Pet, Sistema de Incêndio, Bi...   \n",
       "17  [Bicicletário, Sistema de Incêndio, Segurança ...   \n",
       "18  [Playground, Depósito Privativo, Academia, Qua...   \n",
       "19  [Academia, Quadra Poliesportiva, Sauna, Estaci...   \n",
       "\n",
       "                       imovel_caracteristicas_entorno  \\\n",
       "0   [Próximo a Escola Particular, Próximo ao Metrô...   \n",
       "1   [Próximo ao Shopping, Próximo a Áreas de Lazer...   \n",
       "2                       [Próximo a Escola Particular]   \n",
       "3   [Próximo a Farmácia, Próximo a Academia, Próxi...   \n",
       "4   [Próximo a Centro Empresarial, Próximo a Áreas...   \n",
       "..                                                ...   \n",
       "15  [Próximo a Farmácia, Próximo a Academia, Próxi...   \n",
       "16  [Próximo a Comércio Diversos, Próximo a Centro...   \n",
       "17                                                 []   \n",
       "18  [Próximo a Praia, Próximo a Serviços de Saúde,...   \n",
       "19  [Próximo a Comércio Diversos, Próximo a Áreas ...   \n",
       "\n",
       "   anuncio_tipos_publicacao anuncio_tipos_listagem  anuncio_valores_venda  \\\n",
       "0                    Padrão             Lançamento              2400000.0   \n",
       "1                    Padrão                  Usado               200000.0   \n",
       "2                   Premium                  Usado              4400000.0   \n",
       "3                    Padrão                  Usado              1100000.0   \n",
       "4                    Padrão                  Usado               260000.0   \n",
       "..                      ...                    ...                    ...   \n",
       "15                   Padrão                  Usado              1800000.0   \n",
       "16                  Premium                  Usado              4500000.0   \n",
       "17                 Destaque                  Usado               350000.0   \n",
       "18                  Premium                  Usado               619000.0   \n",
       "19                   Padrão                  Usado               580000.0   \n",
       "\n",
       "    anuncio_valores_aluguel  anuncio_valores_condominio  anuncio_valores_iptu  \\\n",
       "0                       0.0                       790.0                5700.0   \n",
       "1                       0.0                         0.0                   0.0   \n",
       "2                       0.0                      1200.0                 850.0   \n",
       "3                       0.0                      1300.0                 364.0   \n",
       "4                       0.0                       450.0                 800.0   \n",
       "..                      ...                         ...                   ...   \n",
       "15                      0.0                      2000.0                2300.0   \n",
       "16                      0.0                      3600.0                7000.0   \n",
       "17                      0.0                       290.0                 182.0   \n",
       "18                      0.0                       506.0                1404.0   \n",
       "19                      0.0                         0.0                   0.0   \n",
       "\n",
       "                                    anuncio_descricao  \n",
       "0   Amplo imóvel para venda com 3 quartos, sendo 1...  \n",
       "1   Amplo imóvel para venda com 2 quartos, sendo 0...  \n",
       "2   Amplo imóvel para venda com 5 quartos, sendo 4...  \n",
       "3   Amplo imóvel para venda com 2 quartos, sendo 1...  \n",
       "4   Amplo imóvel para venda com 0 quartos, sendo 0...  \n",
       "..                                                ...  \n",
       "15  Amplo imóvel para venda com 4 quartos, sendo 2...  \n",
       "16  Amplo imóvel para venda com 3 quartos, sendo 1...  \n",
       "17  Amplo imóvel para venda com 1 quartos, sendo 0...  \n",
       "18  Amplo imóvel para venda com 3 quartos, sendo 1...  \n",
       "19  Amplo imóvel para venda com 3 quartos, sendo 1...  \n",
       "\n",
       "[70 rows x 16 columns]"
      ]
     },
     "execution_count": 79,
     "metadata": {},
     "output_type": "execute_result"
    }
   ],
   "source": [
    "dados_listing_concat = pd.concat([_df1, _df2])\n",
    "dados_listing_concat"
   ]
  },
  {
   "cell_type": "code",
   "execution_count": 81,
   "metadata": {
    "id": "44uiNz8Oevge"
   },
   "outputs": [
    {
     "data": {
      "text/html": [
       "<div>\n",
       "<style scoped>\n",
       "    .dataframe tbody tr th:only-of-type {\n",
       "        vertical-align: middle;\n",
       "    }\n",
       "\n",
       "    .dataframe tbody tr th {\n",
       "        vertical-align: top;\n",
       "    }\n",
       "\n",
       "    .dataframe thead th {\n",
       "        text-align: right;\n",
       "    }\n",
       "</style>\n",
       "<table border=\"1\" class=\"dataframe\">\n",
       "  <thead>\n",
       "    <tr style=\"text-align: right;\">\n",
       "      <th></th>\n",
       "      <th>imovel_tipos_propriedade</th>\n",
       "      <th>imovel_endereco_bairro</th>\n",
       "      <th>imovel_endereco_localizacao_type</th>\n",
       "      <th>imovel_endereco_localizacao_coordinates</th>\n",
       "      <th>imovel_vagasGaragem</th>\n",
       "      <th>imovel_area</th>\n",
       "      <th>imovel_caracteristicas_propriedade</th>\n",
       "      <th>imovel_caracteristicas_condominio</th>\n",
       "      <th>imovel_caracteristicas_entorno</th>\n",
       "      <th>anuncio_tipos_publicacao</th>\n",
       "      <th>anuncio_tipos_listagem</th>\n",
       "      <th>anuncio_valores_venda</th>\n",
       "      <th>anuncio_valores_aluguel</th>\n",
       "      <th>anuncio_valores_condominio</th>\n",
       "      <th>anuncio_valores_iptu</th>\n",
       "      <th>anuncio_descricao</th>\n",
       "    </tr>\n",
       "  </thead>\n",
       "  <tbody>\n",
       "    <tr>\n",
       "      <th>0</th>\n",
       "      <td>Casa</td>\n",
       "      <td>Barra da Tijuca</td>\n",
       "      <td>Point</td>\n",
       "      <td>[-43.3039086, -23.0139692]</td>\n",
       "      <td>4</td>\n",
       "      <td>279</td>\n",
       "      <td>[Área de Serviço, Terraço, Churrasqueira, Quar...</td>\n",
       "      <td>[Churrasqueira, Salão de Jogos, Sauna, Estacio...</td>\n",
       "      <td>[Próximo a Escola Particular, Próximo ao Metrô...</td>\n",
       "      <td>Padrão</td>\n",
       "      <td>Lançamento</td>\n",
       "      <td>2400000.0</td>\n",
       "      <td>0.0</td>\n",
       "      <td>790.0</td>\n",
       "      <td>5700.0</td>\n",
       "      <td>Amplo imóvel para venda com 3 quartos, sendo 1...</td>\n",
       "    </tr>\n",
       "    <tr>\n",
       "      <th>1</th>\n",
       "      <td>Apartamento</td>\n",
       "      <td>Campo Grande</td>\n",
       "      <td>Point</td>\n",
       "      <td>[0, 0]</td>\n",
       "      <td>1</td>\n",
       "      <td>60</td>\n",
       "      <td>[Sauna]</td>\n",
       "      <td>[Elevador, Playground, Salão de Festas, Sistem...</td>\n",
       "      <td>[Próximo ao Shopping, Próximo a Áreas de Lazer...</td>\n",
       "      <td>Padrão</td>\n",
       "      <td>Usado</td>\n",
       "      <td>200000.0</td>\n",
       "      <td>0.0</td>\n",
       "      <td>0.0</td>\n",
       "      <td>0.0</td>\n",
       "      <td>Amplo imóvel para venda com 2 quartos, sendo 0...</td>\n",
       "    </tr>\n",
       "    <tr>\n",
       "      <th>2</th>\n",
       "      <td>Cobertura</td>\n",
       "      <td>Barra da Tijuca</td>\n",
       "      <td>Point</td>\n",
       "      <td>[-43.3037186, -22.9951304]</td>\n",
       "      <td>2</td>\n",
       "      <td>380</td>\n",
       "      <td>[Acessibilidade, Área de Serviço, Sauna, Ambie...</td>\n",
       "      <td>[Sauna, Playground, Quadra Poliesportiva, Salã...</td>\n",
       "      <td>[Próximo a Escola Particular]</td>\n",
       "      <td>Premium</td>\n",
       "      <td>Usado</td>\n",
       "      <td>4400000.0</td>\n",
       "      <td>0.0</td>\n",
       "      <td>1200.0</td>\n",
       "      <td>850.0</td>\n",
       "      <td>Amplo imóvel para venda com 5 quartos, sendo 4...</td>\n",
       "    </tr>\n",
       "    <tr>\n",
       "      <th>3</th>\n",
       "      <td>Cobertura</td>\n",
       "      <td>Barra da Tijuca</td>\n",
       "      <td>Point</td>\n",
       "      <td>[-43.3548121, -23.0097423]</td>\n",
       "      <td>1</td>\n",
       "      <td>73</td>\n",
       "      <td>[Vista Panorâmica, Piscina, Sauna, Closet, Mob...</td>\n",
       "      <td>[Quadra Poliesportiva, Aceita Pet, Playground,...</td>\n",
       "      <td>[Próximo a Farmácia, Próximo a Academia, Próxi...</td>\n",
       "      <td>Padrão</td>\n",
       "      <td>Usado</td>\n",
       "      <td>1100000.0</td>\n",
       "      <td>0.0</td>\n",
       "      <td>1300.0</td>\n",
       "      <td>364.0</td>\n",
       "      <td>Amplo imóvel para venda com 2 quartos, sendo 1...</td>\n",
       "    </tr>\n",
       "    <tr>\n",
       "      <th>4</th>\n",
       "      <td>Sala Comercial</td>\n",
       "      <td>Glória</td>\n",
       "      <td>Point</td>\n",
       "      <td>[-43.1779703, -22.9174894]</td>\n",
       "      <td>1</td>\n",
       "      <td>32</td>\n",
       "      <td>[Armários Planejados]</td>\n",
       "      <td>[Quadra Poliesportiva, Porteiro 24 Horas, Elev...</td>\n",
       "      <td>[Próximo a Centro Empresarial, Próximo a Áreas...</td>\n",
       "      <td>Padrão</td>\n",
       "      <td>Usado</td>\n",
       "      <td>260000.0</td>\n",
       "      <td>0.0</td>\n",
       "      <td>450.0</td>\n",
       "      <td>800.0</td>\n",
       "      <td>Amplo imóvel para venda com 0 quartos, sendo 0...</td>\n",
       "    </tr>\n",
       "    <tr>\n",
       "      <th>...</th>\n",
       "      <td>...</td>\n",
       "      <td>...</td>\n",
       "      <td>...</td>\n",
       "      <td>...</td>\n",
       "      <td>...</td>\n",
       "      <td>...</td>\n",
       "      <td>...</td>\n",
       "      <td>...</td>\n",
       "      <td>...</td>\n",
       "      <td>...</td>\n",
       "      <td>...</td>\n",
       "      <td>...</td>\n",
       "      <td>...</td>\n",
       "      <td>...</td>\n",
       "      <td>...</td>\n",
       "      <td>...</td>\n",
       "    </tr>\n",
       "    <tr>\n",
       "      <th>65</th>\n",
       "      <td>Apartamento</td>\n",
       "      <td>Copacabana</td>\n",
       "      <td>Point</td>\n",
       "      <td>[-43.1943902, -22.9816847]</td>\n",
       "      <td>1</td>\n",
       "      <td>216</td>\n",
       "      <td>[Cozinha Americana, Quarto/WC Empregada, Pisci...</td>\n",
       "      <td>[Elevador, Salão de Festas, Porteiro 24 Horas,...</td>\n",
       "      <td>[Próximo a Farmácia, Próximo a Academia, Próxi...</td>\n",
       "      <td>Padrão</td>\n",
       "      <td>Usado</td>\n",
       "      <td>1800000.0</td>\n",
       "      <td>0.0</td>\n",
       "      <td>2000.0</td>\n",
       "      <td>2300.0</td>\n",
       "      <td>Amplo imóvel para venda com 4 quartos, sendo 2...</td>\n",
       "    </tr>\n",
       "    <tr>\n",
       "      <th>66</th>\n",
       "      <td>Apartamento</td>\n",
       "      <td>Leblon</td>\n",
       "      <td>Point</td>\n",
       "      <td>[-43.2253114, -22.9843603]</td>\n",
       "      <td>1</td>\n",
       "      <td>218</td>\n",
       "      <td>[Piscina, Gás Encanado]</td>\n",
       "      <td>[Academia, Aceita Pet, Sistema de Incêndio, Bi...</td>\n",
       "      <td>[Próximo a Comércio Diversos, Próximo a Centro...</td>\n",
       "      <td>Premium</td>\n",
       "      <td>Usado</td>\n",
       "      <td>4500000.0</td>\n",
       "      <td>0.0</td>\n",
       "      <td>3600.0</td>\n",
       "      <td>7000.0</td>\n",
       "      <td>Amplo imóvel para venda com 3 quartos, sendo 1...</td>\n",
       "    </tr>\n",
       "    <tr>\n",
       "      <th>67</th>\n",
       "      <td>Casa</td>\n",
       "      <td>Copacabana</td>\n",
       "      <td>Point</td>\n",
       "      <td>[-43.1951842, -22.9818646]</td>\n",
       "      <td>0</td>\n",
       "      <td>25</td>\n",
       "      <td>[Closet, Armários Planejados, Quarto/WC Empreg...</td>\n",
       "      <td>[Bicicletário, Sistema de Incêndio, Segurança ...</td>\n",
       "      <td>[]</td>\n",
       "      <td>Destaque</td>\n",
       "      <td>Usado</td>\n",
       "      <td>350000.0</td>\n",
       "      <td>0.0</td>\n",
       "      <td>290.0</td>\n",
       "      <td>182.0</td>\n",
       "      <td>Amplo imóvel para venda com 1 quartos, sendo 0...</td>\n",
       "    </tr>\n",
       "    <tr>\n",
       "      <th>68</th>\n",
       "      <td>Sala Comercial</td>\n",
       "      <td>Cachambi</td>\n",
       "      <td>Point</td>\n",
       "      <td>[-43.2781994, -22.8917611]</td>\n",
       "      <td>2</td>\n",
       "      <td>138</td>\n",
       "      <td>[Gás Encanado, Acessibilidade, Ambientes Integ...</td>\n",
       "      <td>[Playground, Depósito Privativo, Academia, Qua...</td>\n",
       "      <td>[Próximo a Praia, Próximo a Serviços de Saúde,...</td>\n",
       "      <td>Premium</td>\n",
       "      <td>Usado</td>\n",
       "      <td>619000.0</td>\n",
       "      <td>0.0</td>\n",
       "      <td>506.0</td>\n",
       "      <td>1404.0</td>\n",
       "      <td>Amplo imóvel para venda com 3 quartos, sendo 1...</td>\n",
       "    </tr>\n",
       "    <tr>\n",
       "      <th>69</th>\n",
       "      <td>Apartamento</td>\n",
       "      <td>Tijuca</td>\n",
       "      <td>Point</td>\n",
       "      <td>[-43.2356544, -22.9264543]</td>\n",
       "      <td>0</td>\n",
       "      <td>100</td>\n",
       "      <td>[Churrasqueira, Gás Encanado, Quarto/WC Empreg...</td>\n",
       "      <td>[Academia, Quadra Poliesportiva, Sauna, Estaci...</td>\n",
       "      <td>[Próximo a Comércio Diversos, Próximo a Áreas ...</td>\n",
       "      <td>Padrão</td>\n",
       "      <td>Usado</td>\n",
       "      <td>580000.0</td>\n",
       "      <td>0.0</td>\n",
       "      <td>0.0</td>\n",
       "      <td>0.0</td>\n",
       "      <td>Amplo imóvel para venda com 3 quartos, sendo 1...</td>\n",
       "    </tr>\n",
       "  </tbody>\n",
       "</table>\n",
       "<p>70 rows × 16 columns</p>\n",
       "</div>"
      ],
      "text/plain": [
       "   imovel_tipos_propriedade imovel_endereco_bairro  \\\n",
       "0                      Casa        Barra da Tijuca   \n",
       "1               Apartamento           Campo Grande   \n",
       "2                 Cobertura        Barra da Tijuca   \n",
       "3                 Cobertura        Barra da Tijuca   \n",
       "4            Sala Comercial                 Glória   \n",
       "..                      ...                    ...   \n",
       "65              Apartamento             Copacabana   \n",
       "66              Apartamento                 Leblon   \n",
       "67                     Casa             Copacabana   \n",
       "68           Sala Comercial               Cachambi   \n",
       "69              Apartamento                 Tijuca   \n",
       "\n",
       "   imovel_endereco_localizacao_type imovel_endereco_localizacao_coordinates  \\\n",
       "0                             Point              [-43.3039086, -23.0139692]   \n",
       "1                             Point                                  [0, 0]   \n",
       "2                             Point              [-43.3037186, -22.9951304]   \n",
       "3                             Point              [-43.3548121, -23.0097423]   \n",
       "4                             Point              [-43.1779703, -22.9174894]   \n",
       "..                              ...                                     ...   \n",
       "65                            Point              [-43.1943902, -22.9816847]   \n",
       "66                            Point              [-43.2253114, -22.9843603]   \n",
       "67                            Point              [-43.1951842, -22.9818646]   \n",
       "68                            Point              [-43.2781994, -22.8917611]   \n",
       "69                            Point              [-43.2356544, -22.9264543]   \n",
       "\n",
       "    imovel_vagasGaragem  imovel_area  \\\n",
       "0                     4          279   \n",
       "1                     1           60   \n",
       "2                     2          380   \n",
       "3                     1           73   \n",
       "4                     1           32   \n",
       "..                  ...          ...   \n",
       "65                    1          216   \n",
       "66                    1          218   \n",
       "67                    0           25   \n",
       "68                    2          138   \n",
       "69                    0          100   \n",
       "\n",
       "                   imovel_caracteristicas_propriedade  \\\n",
       "0   [Área de Serviço, Terraço, Churrasqueira, Quar...   \n",
       "1                                             [Sauna]   \n",
       "2   [Acessibilidade, Área de Serviço, Sauna, Ambie...   \n",
       "3   [Vista Panorâmica, Piscina, Sauna, Closet, Mob...   \n",
       "4                               [Armários Planejados]   \n",
       "..                                                ...   \n",
       "65  [Cozinha Americana, Quarto/WC Empregada, Pisci...   \n",
       "66                            [Piscina, Gás Encanado]   \n",
       "67  [Closet, Armários Planejados, Quarto/WC Empreg...   \n",
       "68  [Gás Encanado, Acessibilidade, Ambientes Integ...   \n",
       "69  [Churrasqueira, Gás Encanado, Quarto/WC Empreg...   \n",
       "\n",
       "                    imovel_caracteristicas_condominio  \\\n",
       "0   [Churrasqueira, Salão de Jogos, Sauna, Estacio...   \n",
       "1   [Elevador, Playground, Salão de Festas, Sistem...   \n",
       "2   [Sauna, Playground, Quadra Poliesportiva, Salã...   \n",
       "3   [Quadra Poliesportiva, Aceita Pet, Playground,...   \n",
       "4   [Quadra Poliesportiva, Porteiro 24 Horas, Elev...   \n",
       "..                                                ...   \n",
       "65  [Elevador, Salão de Festas, Porteiro 24 Horas,...   \n",
       "66  [Academia, Aceita Pet, Sistema de Incêndio, Bi...   \n",
       "67  [Bicicletário, Sistema de Incêndio, Segurança ...   \n",
       "68  [Playground, Depósito Privativo, Academia, Qua...   \n",
       "69  [Academia, Quadra Poliesportiva, Sauna, Estaci...   \n",
       "\n",
       "                       imovel_caracteristicas_entorno  \\\n",
       "0   [Próximo a Escola Particular, Próximo ao Metrô...   \n",
       "1   [Próximo ao Shopping, Próximo a Áreas de Lazer...   \n",
       "2                       [Próximo a Escola Particular]   \n",
       "3   [Próximo a Farmácia, Próximo a Academia, Próxi...   \n",
       "4   [Próximo a Centro Empresarial, Próximo a Áreas...   \n",
       "..                                                ...   \n",
       "65  [Próximo a Farmácia, Próximo a Academia, Próxi...   \n",
       "66  [Próximo a Comércio Diversos, Próximo a Centro...   \n",
       "67                                                 []   \n",
       "68  [Próximo a Praia, Próximo a Serviços de Saúde,...   \n",
       "69  [Próximo a Comércio Diversos, Próximo a Áreas ...   \n",
       "\n",
       "   anuncio_tipos_publicacao anuncio_tipos_listagem  anuncio_valores_venda  \\\n",
       "0                    Padrão             Lançamento              2400000.0   \n",
       "1                    Padrão                  Usado               200000.0   \n",
       "2                   Premium                  Usado              4400000.0   \n",
       "3                    Padrão                  Usado              1100000.0   \n",
       "4                    Padrão                  Usado               260000.0   \n",
       "..                      ...                    ...                    ...   \n",
       "65                   Padrão                  Usado              1800000.0   \n",
       "66                  Premium                  Usado              4500000.0   \n",
       "67                 Destaque                  Usado               350000.0   \n",
       "68                  Premium                  Usado               619000.0   \n",
       "69                   Padrão                  Usado               580000.0   \n",
       "\n",
       "    anuncio_valores_aluguel  anuncio_valores_condominio  anuncio_valores_iptu  \\\n",
       "0                       0.0                       790.0                5700.0   \n",
       "1                       0.0                         0.0                   0.0   \n",
       "2                       0.0                      1200.0                 850.0   \n",
       "3                       0.0                      1300.0                 364.0   \n",
       "4                       0.0                       450.0                 800.0   \n",
       "..                      ...                         ...                   ...   \n",
       "65                      0.0                      2000.0                2300.0   \n",
       "66                      0.0                      3600.0                7000.0   \n",
       "67                      0.0                       290.0                 182.0   \n",
       "68                      0.0                       506.0                1404.0   \n",
       "69                      0.0                         0.0                   0.0   \n",
       "\n",
       "                                    anuncio_descricao  \n",
       "0   Amplo imóvel para venda com 3 quartos, sendo 1...  \n",
       "1   Amplo imóvel para venda com 2 quartos, sendo 0...  \n",
       "2   Amplo imóvel para venda com 5 quartos, sendo 4...  \n",
       "3   Amplo imóvel para venda com 2 quartos, sendo 1...  \n",
       "4   Amplo imóvel para venda com 0 quartos, sendo 0...  \n",
       "..                                                ...  \n",
       "65  Amplo imóvel para venda com 4 quartos, sendo 2...  \n",
       "66  Amplo imóvel para venda com 3 quartos, sendo 1...  \n",
       "67  Amplo imóvel para venda com 1 quartos, sendo 0...  \n",
       "68  Amplo imóvel para venda com 3 quartos, sendo 1...  \n",
       "69  Amplo imóvel para venda com 3 quartos, sendo 1...  \n",
       "\n",
       "[70 rows x 16 columns]"
      ]
     },
     "execution_count": 81,
     "metadata": {},
     "output_type": "execute_result"
    }
   ],
   "source": [
    "dados_listing_concat = pd.concat([_df1, _df2], ignore_index=True)\n",
    "dados_listing_concat"
   ]
  },
  {
   "cell_type": "code",
   "execution_count": 83,
   "metadata": {},
   "outputs": [
    {
     "data": {
      "text/html": [
       "<div>\n",
       "<style scoped>\n",
       "    .dataframe tbody tr th:only-of-type {\n",
       "        vertical-align: middle;\n",
       "    }\n",
       "\n",
       "    .dataframe tbody tr th {\n",
       "        vertical-align: top;\n",
       "    }\n",
       "\n",
       "    .dataframe thead th {\n",
       "        text-align: right;\n",
       "    }\n",
       "</style>\n",
       "<table border=\"1\" class=\"dataframe\">\n",
       "  <thead>\n",
       "    <tr style=\"text-align: right;\">\n",
       "      <th></th>\n",
       "      <th>A</th>\n",
       "      <th>B</th>\n",
       "    </tr>\n",
       "  </thead>\n",
       "  <tbody>\n",
       "    <tr>\n",
       "      <th>0</th>\n",
       "      <td>1</td>\n",
       "      <td>1</td>\n",
       "    </tr>\n",
       "    <tr>\n",
       "      <th>1</th>\n",
       "      <td>2</td>\n",
       "      <td>4</td>\n",
       "    </tr>\n",
       "    <tr>\n",
       "      <th>2</th>\n",
       "      <td>3</td>\n",
       "      <td>9</td>\n",
       "    </tr>\n",
       "  </tbody>\n",
       "</table>\n",
       "</div>"
      ],
      "text/plain": [
       "   A  B\n",
       "0  1  1\n",
       "1  2  4\n",
       "2  3  9"
      ]
     },
     "execution_count": 83,
     "metadata": {},
     "output_type": "execute_result"
    }
   ],
   "source": [
    "df_A = pd.DataFrame({'A': [1, 2, 3], \"B\": [1, 4, 9]})\n",
    "df_A\n"
   ]
  },
  {
   "cell_type": "code",
   "execution_count": 84,
   "metadata": {},
   "outputs": [
    {
     "data": {
      "text/html": [
       "<div>\n",
       "<style scoped>\n",
       "    .dataframe tbody tr th:only-of-type {\n",
       "        vertical-align: middle;\n",
       "    }\n",
       "\n",
       "    .dataframe tbody tr th {\n",
       "        vertical-align: top;\n",
       "    }\n",
       "\n",
       "    .dataframe thead th {\n",
       "        text-align: right;\n",
       "    }\n",
       "</style>\n",
       "<table border=\"1\" class=\"dataframe\">\n",
       "  <thead>\n",
       "    <tr style=\"text-align: right;\">\n",
       "      <th></th>\n",
       "      <th>A</th>\n",
       "      <th>B</th>\n",
       "    </tr>\n",
       "  </thead>\n",
       "  <tbody>\n",
       "    <tr>\n",
       "      <th>0</th>\n",
       "      <td>4</td>\n",
       "      <td>16</td>\n",
       "    </tr>\n",
       "    <tr>\n",
       "      <th>1</th>\n",
       "      <td>5</td>\n",
       "      <td>25</td>\n",
       "    </tr>\n",
       "    <tr>\n",
       "      <th>2</th>\n",
       "      <td>6</td>\n",
       "      <td>36</td>\n",
       "    </tr>\n",
       "  </tbody>\n",
       "</table>\n",
       "</div>"
      ],
      "text/plain": [
       "   A   B\n",
       "0  4  16\n",
       "1  5  25\n",
       "2  6  36"
      ]
     },
     "execution_count": 84,
     "metadata": {},
     "output_type": "execute_result"
    }
   ],
   "source": [
    "df_B = pd.DataFrame({'A': [4, 5, 6], \"B\": [16, 25, 36]})\n",
    "df_B"
   ]
  },
  {
   "cell_type": "code",
   "execution_count": 85,
   "metadata": {},
   "outputs": [
    {
     "data": {
      "text/plain": [
       "array([ True,  True])"
      ]
     },
     "execution_count": 85,
     "metadata": {},
     "output_type": "execute_result"
    }
   ],
   "source": [
    "df_A.columns == df_B.columns"
   ]
  },
  {
   "cell_type": "code",
   "execution_count": 86,
   "metadata": {},
   "outputs": [
    {
     "data": {
      "text/html": [
       "<div>\n",
       "<style scoped>\n",
       "    .dataframe tbody tr th:only-of-type {\n",
       "        vertical-align: middle;\n",
       "    }\n",
       "\n",
       "    .dataframe tbody tr th {\n",
       "        vertical-align: top;\n",
       "    }\n",
       "\n",
       "    .dataframe thead th {\n",
       "        text-align: right;\n",
       "    }\n",
       "</style>\n",
       "<table border=\"1\" class=\"dataframe\">\n",
       "  <thead>\n",
       "    <tr style=\"text-align: right;\">\n",
       "      <th></th>\n",
       "      <th>A</th>\n",
       "      <th>B</th>\n",
       "    </tr>\n",
       "  </thead>\n",
       "  <tbody>\n",
       "    <tr>\n",
       "      <th>0</th>\n",
       "      <td>1</td>\n",
       "      <td>1</td>\n",
       "    </tr>\n",
       "    <tr>\n",
       "      <th>1</th>\n",
       "      <td>2</td>\n",
       "      <td>4</td>\n",
       "    </tr>\n",
       "    <tr>\n",
       "      <th>2</th>\n",
       "      <td>3</td>\n",
       "      <td>9</td>\n",
       "    </tr>\n",
       "    <tr>\n",
       "      <th>3</th>\n",
       "      <td>4</td>\n",
       "      <td>16</td>\n",
       "    </tr>\n",
       "    <tr>\n",
       "      <th>4</th>\n",
       "      <td>5</td>\n",
       "      <td>25</td>\n",
       "    </tr>\n",
       "    <tr>\n",
       "      <th>5</th>\n",
       "      <td>6</td>\n",
       "      <td>36</td>\n",
       "    </tr>\n",
       "  </tbody>\n",
       "</table>\n",
       "</div>"
      ],
      "text/plain": [
       "   A   B\n",
       "0  1   1\n",
       "1  2   4\n",
       "2  3   9\n",
       "3  4  16\n",
       "4  5  25\n",
       "5  6  36"
      ]
     },
     "execution_count": 86,
     "metadata": {},
     "output_type": "execute_result"
    }
   ],
   "source": [
    "df_A_B = pd.concat([df_A, df_B], ignore_index=True)\n",
    "df_A_B\n"
   ]
  },
  {
   "cell_type": "markdown",
   "metadata": {
    "id": "GJbtme1Gevge"
   },
   "source": [
    "## Combinando *DataFrames* a partir de uma chave de ligação"
   ]
  },
  {
   "cell_type": "code",
   "execution_count": null,
   "metadata": {
    "id": "-wKGhtQ0evge"
   },
   "outputs": [],
   "source": []
  },
  {
   "cell_type": "code",
   "execution_count": null,
   "metadata": {
    "id": "JphM_Y6Vevge"
   },
   "outputs": [],
   "source": []
  },
  {
   "cell_type": "markdown",
   "metadata": {
    "id": "iWSZcYnuevgf"
   },
   "source": [
    "### Tratando a variável de ligação"
   ]
  },
  {
   "cell_type": "markdown",
   "metadata": {
    "id": "EnAauv0Qevgf"
   },
   "source": [
    "#### Selecionando a variável de ligação nos dois *DataFrames*"
   ]
  },
  {
   "cell_type": "code",
   "execution_count": null,
   "metadata": {
    "id": "9ZROypsOevgf"
   },
   "outputs": [],
   "source": []
  },
  {
   "cell_type": "markdown",
   "metadata": {
    "id": "l38MglWkevgf"
   },
   "source": [
    "[Documentação: `get_level_values`](https://pandas.pydata.org/pandas-docs/stable/reference/api/pandas.MultiIndex.get_level_values.html)"
   ]
  },
  {
   "cell_type": "code",
   "execution_count": null,
   "metadata": {
    "id": "PqOX0cVRevgf"
   },
   "outputs": [],
   "source": []
  },
  {
   "cell_type": "markdown",
   "metadata": {
    "id": "mQQGRwbVevgg"
   },
   "source": [
    "#### Identificando e eliminando valores duplicados - `nunique` e `unique`\n",
    "\n",
    "[Documentação: `nunique`](https://pandas.pydata.org/pandas-docs/stable/reference/api/pandas.Series.nunique.html)\n",
    "\n",
    "[Documentação: `unique`](https://pandas.pydata.org/pandas-docs/stable/reference/api/pandas.Series.unique.html)"
   ]
  },
  {
   "cell_type": "code",
   "execution_count": null,
   "metadata": {
    "id": "oQ7JrM4oevgg"
   },
   "outputs": [],
   "source": []
  },
  {
   "cell_type": "code",
   "execution_count": null,
   "metadata": {
    "id": "3EseTUMGevgg"
   },
   "outputs": [],
   "source": []
  },
  {
   "cell_type": "code",
   "execution_count": null,
   "metadata": {
    "id": "wTzTjSG4evgg"
   },
   "outputs": [],
   "source": []
  },
  {
   "cell_type": "code",
   "execution_count": null,
   "metadata": {
    "id": "phexF7SWevgg"
   },
   "outputs": [],
   "source": []
  },
  {
   "cell_type": "code",
   "execution_count": null,
   "metadata": {
    "id": "P8IO0v72evgh",
    "scrolled": true
   },
   "outputs": [],
   "source": []
  },
  {
   "cell_type": "markdown",
   "metadata": {
    "id": "SzEMZcrBevgh"
   },
   "source": [
    "---"
   ]
  },
  {
   "cell_type": "code",
   "execution_count": null,
   "metadata": {
    "id": "QDoTILAcevgh"
   },
   "outputs": [],
   "source": []
  },
  {
   "cell_type": "code",
   "execution_count": null,
   "metadata": {
    "id": "P8VPy0fmevgh"
   },
   "outputs": [],
   "source": []
  },
  {
   "cell_type": "code",
   "execution_count": null,
   "metadata": {
    "id": "d2r54C34evgi",
    "scrolled": true
   },
   "outputs": [],
   "source": []
  },
  {
   "cell_type": "markdown",
   "metadata": {
    "id": "ivrVtUQlevgi"
   },
   "source": [
    "#### Verificando se existe correspondência entre as variáveis de ligação\n",
    "\n",
    "[Documentação](https://pandas.pydata.org/pandas-docs/stable/reference/api/pandas.Series.isin.html)"
   ]
  },
  {
   "cell_type": "code",
   "execution_count": null,
   "metadata": {
    "id": "RCPjMO2levgi",
    "scrolled": false
   },
   "outputs": [],
   "source": []
  },
  {
   "cell_type": "code",
   "execution_count": null,
   "metadata": {
    "id": "IFWWnS4Kevgi",
    "scrolled": true
   },
   "outputs": [],
   "source": []
  },
  {
   "cell_type": "code",
   "execution_count": null,
   "metadata": {
    "id": "uiacZ9lnevgi"
   },
   "outputs": [],
   "source": []
  },
  {
   "cell_type": "code",
   "execution_count": null,
   "metadata": {
    "id": "HSpGW6vdevgj"
   },
   "outputs": [],
   "source": []
  },
  {
   "cell_type": "markdown",
   "metadata": {
    "id": "poxpGTtuevgj"
   },
   "source": [
    "#### Ajustando os valores\n",
    "\n",
    "[Documentação](https://pandas.pydata.org/pandas-docs/stable/reference/api/pandas.Series.replace.html)"
   ]
  },
  {
   "cell_type": "code",
   "execution_count": null,
   "metadata": {
    "id": "XTDo7AvYevgk"
   },
   "outputs": [],
   "source": []
  },
  {
   "cell_type": "code",
   "execution_count": null,
   "metadata": {
    "id": "NAqMX05Yevgk",
    "scrolled": true
   },
   "outputs": [],
   "source": []
  },
  {
   "cell_type": "code",
   "execution_count": null,
   "metadata": {
    "id": "iGudgRQ6evgk",
    "scrolled": false
   },
   "outputs": [],
   "source": []
  },
  {
   "cell_type": "markdown",
   "metadata": {
    "id": "3btbFOGeevgl"
   },
   "source": [
    "### Combinando os *DataFrames*"
   ]
  },
  {
   "cell_type": "markdown",
   "metadata": {
    "id": "CBTdNyc1evgl"
   },
   "source": [
    "#### `merge`\n",
    "\n",
    "[Documentação](https://pandas.pydata.org/pandas-docs/stable/reference/api/pandas.merge.html)\n",
    "\n",
    "```\n",
    "pandas.merge(left, right, how='inner', on=None, left_on=None, right_on=None, left_index=False, right_index=False, sort=False, suffixes='_x', '_y', copy=True, indicator=False, validate=None)\n",
    "```\n",
    "\n",
    "**Parameters**\n",
    "\n",
    "- **left**: DataFrame\n",
    "\n",
    "\n",
    "- **right**: DataFrame\n",
    "    \n",
    "\n",
    "- **how**: {‘left’, ‘right’, ‘outer’, ‘inner’}, *default* ‘inner’\n",
    "\n",
    "        Tipo de junção que será realizada.\n",
    "\n",
    "        - left: usa apenas as chaves do DataFrame especificado no parâmetro left.\n",
    "\n",
    "        - right: usa apenas as chaves do DataFrame especificado no parâmetro right.\n",
    "\n",
    "        - outer: considera todos os registros dos DataFrames especificados nos parâmetros left e right, isto é, faz a união das chaves.\n",
    "\n",
    "        - inner: considera apenas a interseção das chaves dos DataFrames especificados nos parâmetros left e right.\n",
    "    \n",
    "\n",
    "- **on**: label ou list\n",
    "\n",
    "        Nomes das colunas ou dos índices que serão utilizados na junção. Estes devem ser encontrados em ambos os DataFrames.\n",
    "        \n",
    "\n",
    "- **left_on**: label ou list, or array-like\n",
    "\n",
    "        Nomes das colunas ou dos índices do DataFrame especificado em left que serão utilizados na junção.\n",
    "        \n",
    "\n",
    "- **right_on**: label or list, or array-like\n",
    "\n",
    "        Nomes das colunas ou dos índices do DataFrame especificado em right que serão utilizados na junção.\n",
    "    \n",
    "\n",
    "- **left_index**: bool, *default False*\n",
    "\n",
    "        Indica se o índice do DataFrame especificado no parâmetro left deve ser utilizado como chave de junção.\n",
    "        \n",
    "\n",
    "- **right_index**: bool, *default False*\n",
    "\n",
    "        Indica se o índice do DataFrame especificado no parâmetro right deve ser utilizado como chave de junção."
   ]
  },
  {
   "cell_type": "code",
   "execution_count": null,
   "metadata": {
    "id": "wo8ttXKcevgn",
    "scrolled": true
   },
   "outputs": [],
   "source": []
  },
  {
   "cell_type": "markdown",
   "metadata": {
    "id": "ymrhrLaYevgn"
   },
   "source": [
    "# ADICIONANDO INFORMAÇÕES\n",
    "---"
   ]
  },
  {
   "cell_type": "markdown",
   "metadata": {
    "id": "4aqxo4l-evgn"
   },
   "source": [
    "## Criando as colunas `quartos`, `suites` e `banheiros`"
   ]
  },
  {
   "cell_type": "code",
   "execution_count": null,
   "metadata": {
    "id": "giBGU4gOevgs"
   },
   "outputs": [],
   "source": []
  },
  {
   "cell_type": "markdown",
   "metadata": {
    "id": "nya9Yy7Kevgs"
   },
   "source": [
    "### `str.extractall`\n",
    "\n",
    "[Documentação](https://pandas.pydata.org/pandas-docs/stable/reference/api/pandas.Series.str.extractall.html)"
   ]
  },
  {
   "cell_type": "code",
   "execution_count": null,
   "metadata": {
    "id": "Toi4yfM-evgs",
    "scrolled": true
   },
   "outputs": [],
   "source": []
  },
  {
   "cell_type": "markdown",
   "metadata": {
    "id": "p2bibVe9evgs"
   },
   "source": [
    "### `unstack`\n",
    "\n",
    "[Documentação](https://pandas.pydata.org/pandas-docs/stable/reference/api/pandas.DataFrame.unstack.html)"
   ]
  },
  {
   "cell_type": "code",
   "execution_count": null,
   "metadata": {
    "id": "QXWYy2h8evgt"
   },
   "outputs": [],
   "source": []
  },
  {
   "cell_type": "code",
   "execution_count": null,
   "metadata": {
    "id": "FktwCtLTevgt"
   },
   "outputs": [],
   "source": []
  },
  {
   "cell_type": "markdown",
   "metadata": {
    "id": "-jVhoVI-evgt"
   },
   "source": [
    "### `droplevel`\n",
    "\n",
    "[Documentação](https://pandas.pydata.org/pandas-docs/stable/reference/api/pandas.DataFrame.droplevel.html)"
   ]
  },
  {
   "cell_type": "code",
   "execution_count": null,
   "metadata": {
    "id": "TSojRmn9evgt"
   },
   "outputs": [],
   "source": []
  },
  {
   "cell_type": "code",
   "execution_count": null,
   "metadata": {
    "id": "ac4wLkEGevgt",
    "scrolled": true
   },
   "outputs": [],
   "source": []
  },
  {
   "cell_type": "markdown",
   "metadata": {
    "id": "m2CS8xkuevgu"
   },
   "source": [
    "## Criando novas classificações"
   ]
  },
  {
   "cell_type": "markdown",
   "metadata": {
    "id": "bJqulTItevgu"
   },
   "source": [
    "### Com dados categóricos - `map`\n",
    "\n",
    "[Documentação](https://pandas.pydata.org/pandas-docs/stable/reference/api/pandas.Series.map.html)"
   ]
  },
  {
   "cell_type": "code",
   "execution_count": null,
   "metadata": {
    "id": "_l0qDgFzevgu"
   },
   "outputs": [],
   "source": [
    "tipo_uso = {\n",
    "    'Apartamento': 'Residencial',\n",
    "    'Casa': 'Residencial',\n",
    "    'Cobertura': 'Residencial',\n",
    "    'Consultório': 'Comercial',\n",
    "    'Imóvel Comercial': 'Comercial',\n",
    "    'Loja': 'Comercial',\n",
    "    'Sala Comercial': 'Comercial'\n",
    "}"
   ]
  },
  {
   "cell_type": "code",
   "execution_count": null,
   "metadata": {
    "id": "DwyFjomsevgu",
    "scrolled": true
   },
   "outputs": [],
   "source": []
  },
  {
   "cell_type": "code",
   "execution_count": null,
   "metadata": {
    "id": "X3B_8DLvevgv"
   },
   "outputs": [],
   "source": []
  },
  {
   "cell_type": "markdown",
   "metadata": {
    "id": "995hOzHhevgv"
   },
   "source": [
    "#### `insert`\n",
    "\n",
    "[Documentação](https://pandas.pydata.org/pandas-docs/stable/reference/api/pandas.DataFrame.insert.html)"
   ]
  },
  {
   "cell_type": "code",
   "execution_count": null,
   "metadata": {
    "id": "tuPwv1JTevgv"
   },
   "outputs": [],
   "source": []
  },
  {
   "cell_type": "code",
   "execution_count": null,
   "metadata": {
    "id": "IMSZeeIhevgw",
    "scrolled": true
   },
   "outputs": [],
   "source": []
  },
  {
   "cell_type": "markdown",
   "metadata": {
    "id": "1CRwFHsfevgw"
   },
   "source": [
    "### Com dados numéricos - `cut`\n",
    "\n",
    "[Documentação](https://pandas.pydata.org/pandas-docs/stable/reference/api/pandas.cut.html)"
   ]
  },
  {
   "cell_type": "markdown",
   "metadata": {
    "id": "2g4jSmX1evgw"
   },
   "source": [
    "#### Utilizando classes fixas"
   ]
  },
  {
   "cell_type": "code",
   "execution_count": null,
   "metadata": {
    "id": "0KTpjlnhevgx"
   },
   "outputs": [],
   "source": []
  },
  {
   "cell_type": "code",
   "execution_count": null,
   "metadata": {
    "id": "zapsO_NJAoj7"
   },
   "outputs": [],
   "source": []
  },
  {
   "cell_type": "code",
   "execution_count": null,
   "metadata": {
    "id": "ztdhjZ2mevgx"
   },
   "outputs": [],
   "source": []
  },
  {
   "cell_type": "code",
   "execution_count": null,
   "metadata": {
    "id": "je6VWPuYevgx",
    "scrolled": true
   },
   "outputs": [],
   "source": []
  },
  {
   "cell_type": "code",
   "execution_count": null,
   "metadata": {
    "id": "vY7d-5z5ceWO",
    "scrolled": true
   },
   "outputs": [],
   "source": []
  },
  {
   "cell_type": "code",
   "execution_count": null,
   "metadata": {
    "id": "q1ENkBM0evgy"
   },
   "outputs": [],
   "source": []
  },
  {
   "cell_type": "markdown",
   "metadata": {
    "id": "hGo5UyTsevgy"
   },
   "source": [
    "#### Utilizando classes personalizadas"
   ]
  },
  {
   "cell_type": "code",
   "execution_count": null,
   "metadata": {
    "id": "XzoW4Hasb8q7"
   },
   "outputs": [],
   "source": []
  },
  {
   "cell_type": "code",
   "execution_count": null,
   "metadata": {
    "id": "I65cC8pkevgz",
    "scrolled": true
   },
   "outputs": [],
   "source": []
  },
  {
   "cell_type": "code",
   "execution_count": null,
   "metadata": {
    "id": "mfZ0S5b0evgz",
    "scrolled": true
   },
   "outputs": [],
   "source": []
  },
  {
   "cell_type": "code",
   "execution_count": null,
   "metadata": {
    "id": "iHDPvSAPevgz"
   },
   "outputs": [],
   "source": []
  },
  {
   "cell_type": "markdown",
   "metadata": {
    "id": "zWGPxzcuevg0"
   },
   "source": [
    "## Novas colunas derivadas das informações existentes"
   ]
  },
  {
   "cell_type": "markdown",
   "metadata": {
    "id": "LLxPnrTHevg0"
   },
   "source": [
    "### Valor por m²"
   ]
  },
  {
   "cell_type": "code",
   "execution_count": null,
   "metadata": {
    "id": "ucf8dkBzevg0",
    "scrolled": true
   },
   "outputs": [],
   "source": []
  },
  {
   "cell_type": "code",
   "execution_count": null,
   "metadata": {
    "id": "RAPOfBHgevg0"
   },
   "outputs": [],
   "source": []
  },
  {
   "cell_type": "markdown",
   "metadata": {
    "id": "JxaCGr1Devg1"
   },
   "source": [
    "#### `apply`\n",
    "\n",
    "[Documentação](https://pandas.pydata.org/pandas-docs/stable/reference/api/pandas.DataFrame.apply.html)"
   ]
  },
  {
   "cell_type": "code",
   "execution_count": null,
   "metadata": {
    "id": "yNmvRWLievg1"
   },
   "outputs": [],
   "source": []
  },
  {
   "cell_type": "code",
   "execution_count": null,
   "metadata": {
    "id": "Xeqd609_evg1"
   },
   "outputs": [],
   "source": []
  },
  {
   "cell_type": "code",
   "execution_count": null,
   "metadata": {
    "id": "ZEvfUpFoevg2"
   },
   "outputs": [],
   "source": []
  },
  {
   "cell_type": "markdown",
   "metadata": {
    "id": "1Pcx255bevg2"
   },
   "source": [
    "### Piscina?"
   ]
  },
  {
   "cell_type": "code",
   "execution_count": null,
   "metadata": {
    "id": "U6z63nqXevg2"
   },
   "outputs": [],
   "source": []
  },
  {
   "cell_type": "markdown",
   "metadata": {
    "id": "KNSWnriMevg2"
   },
   "source": [
    "# TABULAÇÕES E SUMARIZAÇÕES\n",
    "---"
   ]
  },
  {
   "cell_type": "markdown",
   "metadata": {
    "id": "eiFZz3Gcevg2"
   },
   "source": [
    "## Agrupamentos"
   ]
  },
  {
   "cell_type": "code",
   "execution_count": null,
   "metadata": {
    "id": "GepN60rgevg2"
   },
   "outputs": [],
   "source": []
  },
  {
   "cell_type": "markdown",
   "metadata": {
    "id": "4VGAbY3Sevg3"
   },
   "source": [
    "### `aggregate`\n",
    "\n",
    "[Documentação](https://pandas.pydata.org/pandas-docs/stable/reference/api/pandas.DataFrame.aggregate.html)"
   ]
  },
  {
   "cell_type": "code",
   "execution_count": null,
   "metadata": {
    "id": "CJopCPinevg3"
   },
   "outputs": [],
   "source": []
  },
  {
   "cell_type": "code",
   "execution_count": null,
   "metadata": {
    "id": "fiQc4618evg3"
   },
   "outputs": [],
   "source": []
  },
  {
   "cell_type": "markdown",
   "metadata": {
    "id": "Y_T5j1Dkevg3"
   },
   "source": [
    "### `groupby`\n",
    "\n",
    "[Documentação](https://pandas.pydata.org/pandas-docs/stable/reference/api/pandas.DataFrame.groupby.html)"
   ]
  },
  {
   "cell_type": "code",
   "execution_count": null,
   "metadata": {
    "id": "Zu9QU8XYevg3"
   },
   "outputs": [],
   "source": []
  },
  {
   "cell_type": "code",
   "execution_count": null,
   "metadata": {
    "id": "UVdqyITfevg4"
   },
   "outputs": [],
   "source": []
  },
  {
   "cell_type": "code",
   "execution_count": null,
   "metadata": {
    "id": "QNe-9qufevg4"
   },
   "outputs": [],
   "source": []
  },
  {
   "cell_type": "code",
   "execution_count": null,
   "metadata": {
    "id": "2mF_L8cAevg4"
   },
   "outputs": [],
   "source": []
  },
  {
   "cell_type": "code",
   "execution_count": null,
   "metadata": {
    "id": "cafTo2wUevg4"
   },
   "outputs": [],
   "source": []
  },
  {
   "cell_type": "code",
   "execution_count": null,
   "metadata": {
    "id": "zVu7oxvYevg5"
   },
   "outputs": [],
   "source": []
  },
  {
   "cell_type": "markdown",
   "metadata": {
    "id": "AUBj_APUevg5"
   },
   "source": [
    "### `value_counts`\n",
    "\n",
    "[Documentação](https://pandas.pydata.org/pandas-docs/stable/reference/api/pandas.DataFrame.value_counts.html)"
   ]
  },
  {
   "cell_type": "code",
   "execution_count": null,
   "metadata": {
    "id": "EF2L8WmHevg5"
   },
   "outputs": [],
   "source": []
  },
  {
   "cell_type": "code",
   "execution_count": null,
   "metadata": {
    "id": "IOZ1Fb0Tevg5"
   },
   "outputs": [],
   "source": []
  },
  {
   "cell_type": "code",
   "execution_count": null,
   "metadata": {
    "id": "irStjJUvevg5"
   },
   "outputs": [],
   "source": []
  },
  {
   "cell_type": "markdown",
   "metadata": {
    "id": "KJtrt3l5evg6"
   },
   "source": [
    "#### `to_frame`\n",
    "\n",
    "[Documentação](https://pandas.pydata.org/pandas-docs/stable/reference/api/pandas.Series.to_frame.html)"
   ]
  },
  {
   "cell_type": "code",
   "execution_count": null,
   "metadata": {
    "id": "86UZBXs9evg6"
   },
   "outputs": [],
   "source": []
  },
  {
   "cell_type": "markdown",
   "metadata": {
    "id": "zfIcPdHpevg6"
   },
   "source": [
    "## Mudando o formato de um *DataFrame*"
   ]
  },
  {
   "cell_type": "markdown",
   "metadata": {
    "id": "FMI3APPqevg6"
   },
   "source": [
    "### `unstack`\n",
    "\n",
    "Faz a rotação ou o pivoteamento das linhas para as colunas.\n",
    "\n",
    "[Documentação](https://pandas.pydata.org/pandas-docs/stable/reference/api/pandas.DataFrame.unstack.html)"
   ]
  },
  {
   "cell_type": "code",
   "execution_count": null,
   "metadata": {
    "id": "ihUiFlUoevg6"
   },
   "outputs": [],
   "source": []
  },
  {
   "cell_type": "code",
   "execution_count": null,
   "metadata": {
    "id": "QJ4pCdlnevg6"
   },
   "outputs": [],
   "source": []
  },
  {
   "cell_type": "code",
   "execution_count": null,
   "metadata": {
    "id": "v_n21a8cevg7"
   },
   "outputs": [],
   "source": []
  },
  {
   "cell_type": "markdown",
   "metadata": {
    "id": "se1knkwkevg7"
   },
   "source": [
    "### `stack`\n",
    "\n",
    "Faz a rotação ou o pivoteamento das colunas de um *DataFrame* para as linhas.\n",
    "\n",
    "[Documentação](https://pandas.pydata.org/pandas-docs/stable/reference/api/pandas.DataFrame.stack.html)"
   ]
  },
  {
   "cell_type": "code",
   "execution_count": null,
   "metadata": {
    "id": "xJRpaXH_evg7"
   },
   "outputs": [],
   "source": []
  },
  {
   "cell_type": "code",
   "execution_count": null,
   "metadata": {
    "id": "QkWRUW1Hevg7"
   },
   "outputs": [],
   "source": []
  },
  {
   "cell_type": "code",
   "execution_count": null,
   "metadata": {
    "id": "dGE9_h4Eevg7",
    "scrolled": true
   },
   "outputs": [],
   "source": []
  },
  {
   "cell_type": "code",
   "execution_count": null,
   "metadata": {
    "id": "SYBirwOQevg7",
    "scrolled": true
   },
   "outputs": [],
   "source": []
  },
  {
   "cell_type": "markdown",
   "metadata": {
    "id": "721L30DGevg8"
   },
   "source": [
    "## Criando tabelas dinâmicas"
   ]
  },
  {
   "cell_type": "markdown",
   "metadata": {
    "id": "MT9R7ULTevg8"
   },
   "source": [
    "### `pivot`\n",
    "\n",
    "[Documentação](https://pandas.pydata.org/pandas-docs/stable/reference/api/pandas.DataFrame.pivot.html)"
   ]
  },
  {
   "cell_type": "code",
   "execution_count": null,
   "metadata": {
    "id": "TxCjxASHevg8"
   },
   "outputs": [],
   "source": []
  },
  {
   "cell_type": "markdown",
   "metadata": {
    "id": "KK2lRVTZevg8"
   },
   "source": [
    "#### `droplevel`\n",
    "\n",
    "[Documentação](https://pandas.pydata.org/pandas-docs/stable/reference/api/pandas.DataFrame.droplevel.html)"
   ]
  },
  {
   "cell_type": "code",
   "execution_count": null,
   "metadata": {
    "id": "WM8eGmWyevg9"
   },
   "outputs": [],
   "source": []
  },
  {
   "cell_type": "markdown",
   "metadata": {
    "id": "JV0cPfjjevg9"
   },
   "source": [
    "#### `reset_index`\n",
    "\n",
    "[Documentação](https://pandas.pydata.org/pandas-docs/stable/reference/api/pandas.DataFrame.reset_index.html)"
   ]
  },
  {
   "cell_type": "code",
   "execution_count": null,
   "metadata": {
    "id": "_2zbYlDUevg9",
    "scrolled": true
   },
   "outputs": [],
   "source": []
  },
  {
   "cell_type": "code",
   "execution_count": null,
   "metadata": {
    "id": "Tr3lQ7_Pevg9"
   },
   "outputs": [],
   "source": []
  },
  {
   "cell_type": "markdown",
   "metadata": {
    "id": "si3S5yVIevg9"
   },
   "source": [
    "### `pivot_table`\n",
    "\n",
    "[Documentação](https://pandas.pydata.org/pandas-docs/stable/reference/api/pandas.DataFrame.pivot_table.html)"
   ]
  },
  {
   "cell_type": "code",
   "execution_count": null,
   "metadata": {
    "id": "Cc8GufF3evg-"
   },
   "outputs": [],
   "source": []
  },
  {
   "cell_type": "code",
   "execution_count": null,
   "metadata": {
    "id": "VxFFo13gevg-"
   },
   "outputs": [],
   "source": []
  },
  {
   "cell_type": "code",
   "execution_count": null,
   "metadata": {
    "id": "5AzhTNwaevg-"
   },
   "outputs": [],
   "source": []
  },
  {
   "cell_type": "markdown",
   "metadata": {
    "id": "z3WPXV_1evg-"
   },
   "source": [
    "# TABULAÇÕES E ESTILIZAÇÃO\n",
    "---"
   ]
  },
  {
   "cell_type": "markdown",
   "metadata": {
    "id": "hEMpF1yYevg-"
   },
   "source": [
    "## Tabulações a partir de informações no formato de listas"
   ]
  },
  {
   "cell_type": "markdown",
   "metadata": {
    "id": "ZFqI6k6_evg-"
   },
   "source": [
    "### `explode`\n",
    "\n",
    "[Documentação](https://pandas.pydata.org/pandas-docs/stable/reference/api/pandas.DataFrame.explode.html)"
   ]
  },
  {
   "cell_type": "code",
   "execution_count": null,
   "metadata": {
    "id": "JFZCZ7Yuevg_",
    "scrolled": true
   },
   "outputs": [],
   "source": []
  },
  {
   "cell_type": "code",
   "execution_count": null,
   "metadata": {
    "id": "VhIcLAXzevg_"
   },
   "outputs": [],
   "source": []
  },
  {
   "cell_type": "code",
   "execution_count": null,
   "metadata": {
    "id": "q8dhRb3sevg_",
    "scrolled": false
   },
   "outputs": [],
   "source": []
  },
  {
   "cell_type": "markdown",
   "metadata": {
    "id": "f8aTRZ-Mevg_"
   },
   "source": [
    "#### `where`\n",
    "\n",
    "[Documentação](https://pandas.pydata.org/pandas-docs/stable/reference/api/pandas.Series.where.html)"
   ]
  },
  {
   "cell_type": "code",
   "execution_count": null,
   "metadata": {
    "id": "eVqYjcWievg_"
   },
   "outputs": [],
   "source": []
  },
  {
   "cell_type": "code",
   "execution_count": null,
   "metadata": {
    "id": "IRMPSZhvevhA"
   },
   "outputs": [],
   "source": []
  },
  {
   "cell_type": "markdown",
   "metadata": {
    "id": "Hqsk2TCqevhA"
   },
   "source": [
    "## Estilizando um DataFrame"
   ]
  },
  {
   "cell_type": "markdown",
   "metadata": {
    "id": "D9fI8e5TevhA"
   },
   "source": [
    "### `style`\n",
    "\n",
    "[Documentação](https://pandas.pydata.org/pandas-docs/stable/reference/api/pandas.DataFrame.style.html)"
   ]
  },
  {
   "cell_type": "code",
   "execution_count": null,
   "metadata": {
    "id": "6RSwWnIhevhA"
   },
   "outputs": [],
   "source": []
  },
  {
   "cell_type": "code",
   "execution_count": null,
   "metadata": {
    "id": "0m_-TJTuevhA"
   },
   "outputs": [],
   "source": []
  },
  {
   "cell_type": "code",
   "execution_count": null,
   "metadata": {
    "id": "1KnL7z-CevhA"
   },
   "outputs": [],
   "source": []
  },
  {
   "cell_type": "markdown",
   "metadata": {
    "id": "yvFSL0PAevhB"
   },
   "source": [
    "#### `format`\n",
    "\n",
    "[Documentação](https://pandas.pydata.org/pandas-docs/stable/reference/api/pandas.io.formats.style.Styler.format.html)"
   ]
  },
  {
   "cell_type": "code",
   "execution_count": null,
   "metadata": {
    "id": "r_0DbWypevhB"
   },
   "outputs": [],
   "source": []
  },
  {
   "cell_type": "markdown",
   "metadata": {
    "id": "ncaZ5etWevhB"
   },
   "source": [
    "#### `bar`\n",
    "\n",
    "[Documentação](https://pandas.pydata.org/pandas-docs/stable/reference/api/pandas.io.formats.style.Styler.bar.html)"
   ]
  },
  {
   "cell_type": "code",
   "execution_count": null,
   "metadata": {
    "id": "0DYposenevhB"
   },
   "outputs": [],
   "source": []
  },
  {
   "cell_type": "markdown",
   "metadata": {
    "id": "q9EV6PsZevhB"
   },
   "source": [
    "#### `applymap`\n",
    "\n",
    "[Documentação](https://pandas.pydata.org/pandas-docs/stable/reference/api/pandas.io.formats.style.Styler.applymap.html)"
   ]
  },
  {
   "cell_type": "code",
   "execution_count": null,
   "metadata": {
    "id": "dwRK5vwXevhB"
   },
   "outputs": [],
   "source": []
  },
  {
   "cell_type": "code",
   "execution_count": null,
   "metadata": {
    "id": "qyMctQrhevhD"
   },
   "outputs": [],
   "source": []
  },
  {
   "cell_type": "markdown",
   "metadata": {
    "id": "xklcN2wjevhD"
   },
   "source": [
    "#### `highlight_max` e `highlight_min`\n",
    "\n",
    "[Documentação: `highlight_max`](https://pandas.pydata.org/pandas-docs/stable/reference/api/pandas.io.formats.style.Styler.highlight_max.html)\n",
    "\n",
    "[Documentação: `highlight_min`](https://pandas.pydata.org/pandas-docs/stable/reference/api/pandas.io.formats.style.Styler.highlight_min.html)"
   ]
  },
  {
   "cell_type": "code",
   "execution_count": null,
   "metadata": {
    "id": "bH5k6L7FevhE"
   },
   "outputs": [],
   "source": []
  },
  {
   "cell_type": "code",
   "execution_count": null,
   "metadata": {
    "id": "QfSwVQg9evhE"
   },
   "outputs": [],
   "source": []
  },
  {
   "cell_type": "code",
   "execution_count": null,
   "metadata": {
    "id": "Q2WvRk1eevhF",
    "scrolled": true
   },
   "outputs": [],
   "source": []
  },
  {
   "cell_type": "code",
   "execution_count": null,
   "metadata": {
    "id": "JHoRZr3gevhG"
   },
   "outputs": [],
   "source": []
  },
  {
   "cell_type": "code",
   "execution_count": null,
   "metadata": {
    "id": "07rpMsdIevhG"
   },
   "outputs": [],
   "source": []
  },
  {
   "cell_type": "code",
   "execution_count": null,
   "metadata": {
    "id": "OkZyFqDdevhG"
   },
   "outputs": [],
   "source": []
  },
  {
   "cell_type": "code",
   "execution_count": null,
   "metadata": {
    "id": "WX5UuzeYevhG"
   },
   "outputs": [],
   "source": []
  },
  {
   "cell_type": "markdown",
   "metadata": {
    "id": "A13lh-6WevhH"
   },
   "source": [
    "#### `background_gradient`\n",
    "\n",
    "[Documentação](https://pandas.pydata.org/pandas-docs/stable/reference/api/pandas.io.formats.style.Styler.background_gradient.html)"
   ]
  },
  {
   "cell_type": "code",
   "execution_count": null,
   "metadata": {
    "id": "DUUt_GaRevhH"
   },
   "outputs": [],
   "source": []
  },
  {
   "cell_type": "code",
   "execution_count": null,
   "metadata": {
    "id": "Cqbg9GgvevhJ"
   },
   "outputs": [],
   "source": []
  },
  {
   "cell_type": "code",
   "execution_count": null,
   "metadata": {
    "id": "1YYNpDxbevhJ"
   },
   "outputs": [],
   "source": []
  },
  {
   "cell_type": "markdown",
   "metadata": {
    "id": "IKxU1RsFevhJ"
   },
   "source": [
    "#### `to_excel`\n",
    "\n",
    "[Documentação](https://pandas.pydata.org/pandas-docs/stable/reference/api/pandas.io.formats.style.Styler.to_excel.html)"
   ]
  },
  {
   "cell_type": "code",
   "execution_count": null,
   "metadata": {
    "id": "Hqc01SzXevhK"
   },
   "outputs": [],
   "source": []
  },
  {
   "cell_type": "markdown",
   "metadata": {
    "id": "A75CwZB0evhK"
   },
   "source": [
    "# ANEXOS\n",
    "---"
   ]
  },
  {
   "cell_type": "markdown",
   "metadata": {
    "id": "TcE_9F2eevhL"
   },
   "source": [
    "### Opções para o parâmetro `cmap`\n",
    "\n",
    "[Documentação](https://matplotlib.org/3.3.2/tutorials/colors/colormaps.html)"
   ]
  },
  {
   "cell_type": "code",
   "execution_count": null,
   "metadata": {
    "id": "hpyWIdU2evhL"
   },
   "outputs": [],
   "source": [
    "import numpy as np\n",
    "import matplotlib as mpl\n",
    "import matplotlib.pyplot as plt\n",
    "from matplotlib import cm\n",
    "from collections import OrderedDict\n",
    "\n",
    "cmaps = OrderedDict()"
   ]
  },
  {
   "cell_type": "code",
   "execution_count": null,
   "metadata": {
    "id": "DbvdFKVievhM"
   },
   "outputs": [],
   "source": [
    "cmaps['Perceptually Uniform Sequential'] = [\n",
    "            'viridis', 'plasma', 'inferno', 'magma', 'cividis']\n",
    "\n",
    "cmaps['Sequential'] = [\n",
    "            'Greys', 'Purples', 'Blues', 'Greens', 'Oranges', 'Reds',\n",
    "            'YlOrBr', 'YlOrRd', 'OrRd', 'PuRd', 'RdPu', 'BuPu',\n",
    "            'GnBu', 'PuBu', 'YlGnBu', 'PuBuGn', 'BuGn', 'YlGn']\n",
    "\n",
    "cmaps['Sequential (2)'] = [\n",
    "            'binary', 'gist_yarg', 'gist_gray', 'gray', 'bone', 'pink',\n",
    "            'spring', 'summer', 'autumn', 'winter', 'cool', 'Wistia',\n",
    "            'hot', 'afmhot', 'gist_heat', 'copper']\n",
    "\n",
    "cmaps['Diverging'] = [\n",
    "            'PiYG', 'PRGn', 'BrBG', 'PuOr', 'RdGy', 'RdBu',\n",
    "            'RdYlBu', 'RdYlGn', 'Spectral', 'coolwarm', 'bwr', 'seismic']\n",
    "\n",
    "cmaps['Cyclic'] = ['twilight', 'twilight_shifted', 'hsv']\n",
    "\n",
    "cmaps['Qualitative'] = ['Pastel1', 'Pastel2', 'Paired', 'Accent',\n",
    "                        'Dark2', 'Set1', 'Set2', 'Set3',\n",
    "                        'tab10', 'tab20', 'tab20b', 'tab20c']\n",
    "\n",
    "cmaps['Miscellaneous'] = [\n",
    "            'flag', 'prism', 'ocean', 'gist_earth', 'terrain', 'gist_stern',\n",
    "            'gnuplot', 'gnuplot2', 'CMRmap', 'cubehelix', 'brg',\n",
    "            'gist_rainbow', 'rainbow', 'jet', 'nipy_spectral',\n",
    "            'gist_ncar']"
   ]
  },
  {
   "cell_type": "code",
   "execution_count": null,
   "metadata": {
    "id": "krg94xcfevhM",
    "scrolled": false
   },
   "outputs": [
    {
     "data": {
      "image/png": "[encoded data removed]",
      "text/plain": [
       "<Figure size 432x288 with 18 Axes>"
      ]
     },
     "metadata": {
      "needs_background": "light"
     },
     "output_type": "display_data"
    },
    {
     "data": {
      "image/png": "[encoded data removed]",
      "text/plain": [
       "<Figure size 432x288 with 18 Axes>"
      ]
     },
     "metadata": {
      "needs_background": "light"
     },
     "output_type": "display_data"
    },
    {
     "data": {
      "image/png": "[encoded data removed]",
      "text/plain": [
       "<Figure size 432x288 with 18 Axes>"
      ]
     },
     "metadata": {
      "needs_background": "light"
     },
     "output_type": "display_data"
    },
    {
     "data": {
      "image/png": "[encoded data removed]",
      "text/plain": [
       "<Figure size 432x288 with 18 Axes>"
      ]
     },
     "metadata": {
      "needs_background": "light"
     },
     "output_type": "display_data"
    },
    {
     "data": {
      "image/png": "[encoded data removed]",
      "text/plain": [
       "<Figure size 432x288 with 18 Axes>"
      ]
     },
     "metadata": {
      "needs_background": "light"
     },
     "output_type": "display_data"
    },
    {
     "data": {
      "image/png": "[encoded data removed]",
      "text/plain": [
       "<Figure size 432x288 with 18 Axes>"
      ]
     },
     "metadata": {
      "needs_background": "light"
     },
     "output_type": "display_data"
    },
    {
     "data": {
      "image/png": "[encoded data removed]",
      "text/plain": [
       "<Figure size 432x288 with 18 Axes>"
      ]
     },
     "metadata": {
      "needs_background": "light"
     },
     "output_type": "display_data"
    }
   ],
   "source": [
    "nrows = max(len(cmap_list) for cmap_category, cmap_list in cmaps.items())\n",
    "gradient = np.linspace(0, 1, 256)\n",
    "gradient = np.vstack((gradient, gradient))\n",
    "\n",
    "\n",
    "def plot_color_gradients(cmap_category, cmap_list, nrows):\n",
    "    fig, axes = plt.subplots(nrows=nrows)\n",
    "    fig.subplots_adjust(top=0.95, bottom=0.01, left=0.2, right=0.99)\n",
    "    axes[0].set_title(cmap_category + ' colormaps', fontsize=14)\n",
    "\n",
    "    for ax, name in zip(axes, cmap_list):\n",
    "        ax.imshow(gradient, aspect='auto', cmap=plt.get_cmap(name))\n",
    "        pos = list(ax.get_position().bounds)\n",
    "        x_text = pos[0] - 0.01\n",
    "        y_text = pos[1] + pos[3]/2.\n",
    "        fig.text(x_text, y_text, name, va='center', ha='right', fontsize=10)\n",
    "\n",
    "    # Turn off *all* ticks & spines, not just the ones with colormaps.\n",
    "    for ax in axes:\n",
    "        ax.set_axis_off()\n",
    "\n",
    "\n",
    "for cmap_category, cmap_list in cmaps.items():\n",
    "    plot_color_gradients(cmap_category, cmap_list, nrows)\n",
    "\n",
    "plt.show()"
   ]
  },
  {
   "cell_type": "code",
   "execution_count": null,
   "metadata": {
    "id": "vmmcXYh2evhN"
   },
   "outputs": [],
   "source": []
  }
 ],
 "metadata": {
  "colab": {
   "name": "Projeto.ipynb",
   "provenance": []
  },
  "kernelspec": {
   "display_name": "Python 3.9.6 64-bit",
   "language": "python",
   "name": "python3"
  },
  "language_info": {
   "codemirror_mode": {
    "name": "ipython",
    "version": 3
   },
   "file_extension": ".py",
   "mimetype": "text/x-python",
   "name": "python",
   "nbconvert_exporter": "python",
   "pygments_lexer": "ipython3",
   "version": "3.9.6"
  },
  "toc": {
   "base_numbering": 1,
   "nav_menu": {},
   "number_sections": false,
   "sideBar": true,
   "skip_h1_title": false,
   "title_cell": "Table of Contents",
   "title_sidebar": "Contents",
   "toc_cell": false,
   "toc_position": {
    "height": "calc(100% - 180px)",
    "left": "10px",
    "top": "150px",
    "width": "268.2px"
   },
   "toc_section_display": true,
   "toc_window_display": false
  },
  "varInspector": {
   "cols": {
    "lenName": 16,
    "lenType": 16,
    "lenVar": 40
   },
   "kernels_config": {
    "python": {
     "delete_cmd_postfix": "",
     "delete_cmd_prefix": "del ",
     "library": "var_list.py",
     "varRefreshCmd": "print(var_dic_list())"
    },
    "r": {
     "delete_cmd_postfix": ") ",
     "delete_cmd_prefix": "rm(",
     "library": "var_list.r",
     "varRefreshCmd": "cat(var_dic_list()) "
    }
   },
   "types_to_exclude": [
    "module",
    "function",
    "builtin_function_or_method",
    "instance",
    "_Feature"
   ],
   "window_display": false
  },
  "vscode": {
   "interpreter": {
    "hash": "75b64ca35833826d255b5110be976b8b491e59919d991eceebad02336ca41c97"
   }
  }
 },
 "nbformat": 4,
 "nbformat_minor": 1
}
