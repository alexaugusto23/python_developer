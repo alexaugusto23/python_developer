{
 "metadata": {
  "language_info": {
   "codemirror_mode": {
    "name": "ipython",
    "version": 3
   },
   "file_extension": ".py",
   "mimetype": "text/x-python",
   "name": "python",
   "nbconvert_exporter": "python",
   "pygments_lexer": "ipython3",
   "version": "3.7.5"
  },
  "orig_nbformat": 4,
  "kernelspec": {
   "name": "python3",
   "display_name": "Python 3.7.5 64-bit"
  },
  "interpreter": {
   "hash": "2f4f4457f2c99eabecb8a44ff56a73b72ee854a600d04cd32d6ba5135905bba2"
  }
 },
 "nbformat": 4,
 "nbformat_minor": 2,
 "cells": [
  {
   "source": [
    "## Trazendo os imports"
   ],
   "cell_type": "markdown",
   "metadata": {}
  },
  {
   "cell_type": "code",
   "execution_count": 1,
   "metadata": {},
   "outputs": [],
   "source": [
    "import os\n",
    "import pickle\n",
    "import pandas as pd"
   ]
  },
  {
   "source": [
    "## Lendo os CSV's"
   ],
   "cell_type": "markdown",
   "metadata": {}
  },
  {
   "cell_type": "code",
   "execution_count": 2,
   "metadata": {},
   "outputs": [
    {
     "output_type": "stream",
     "name": "stderr",
     "text": [
      "C:\\Users\\alexsandro.ignacio\\AppData\\Local\\Programs\\Python\\Python37\\lib\\site-packages\\IPython\\core\\interactiveshell.py:3166: DtypeWarning: Columns (26) have mixed types.Specify dtype option on import or set low_memory=False.\n  interactivity=interactivity, compiler=compiler, result=result)\n"
     ]
    }
   ],
   "source": [
    "current_path = os.getcwd()\n",
    "path_file_ing_base_estoque_19_20 = os.path.join(current_path,'Bases', 'base_estoque_012019_032021.csv')\n",
    "path_file_ing_base_sellout_2019_2021 = os.path.join(current_path,'Bases', 'base_estoque_sell_out_012019_032021.csv')\n",
    "path_file_ing_base_sellin_2018 = os.path.join(current_path,'Bases', 'base_sell_in_2018.csv')\n",
    "path_file_ing_base_sellin_2019 = os.path.join(current_path,'Bases', 'base_sell_in_2019.csv')\n",
    "path_file_ing_base_sellin_2020 = os.path.join(current_path,'Bases', 'base_sell_in_2020.csv')\n",
    "path_file_ing_base_sellin_2021 = os.path.join(current_path,'Bases', 'base_sell_in_2021.csv')\n",
    "\n",
    "# Lendo os CSV's\n",
    "_ing_base_estoque_19_20 = pd.read_csv(path_file_ing_base_estoque_19_20,  sep=';') \n",
    "_ing_base_sellout_2019_2021 =  pd.read_csv(path_file_ing_base_sellout_2019_2021, sep=';')\n",
    "_ing_base_sellin_2018 = pd.read_csv(path_file_ing_base_sellin_2018, sep=';')\n",
    "_ing_base_sellin_2019 = pd.read_csv(path_file_ing_base_sellin_2019, sep=';')\n",
    "_ing_base_sellin_2020 = pd.read_csv(path_file_ing_base_sellin_2020, sep=';')\n",
    "_ing_base_sellin_2021 = pd.read_csv(path_file_ing_base_sellin_2021, sep=';')\n",
    "\n",
    "_ing_base_sellin_2018.rename(columns = {'Product Sales ':'Product Sales'}, inplace = True)\n",
    "_ing_base_sellin_2019.rename(columns = {'Product Sales ':'Product Sales'}, inplace = True)\n",
    "_ing_base_sellin_2020.rename(columns = {'Product Sales ':'Product Sales'}, inplace = True)\n",
    "_ing_base_sellin_2021.rename(columns = {'Product Sales ':'Product Sales'}, inplace = True)\n",
    "\n"
   ]
  },
  {
   "source": [
    "## Exibindo os CSV´s"
   ],
   "cell_type": "markdown",
   "metadata": {}
  },
  {
   "cell_type": "code",
   "execution_count": 3,
   "metadata": {},
   "outputs": [
    {
     "output_type": "execute_result",
     "data": {
      "text/plain": [
       "    Ano  Mes   Cod Canal                  Canal Cod SubCanal  \\\n",
       "0  2019  jan  A0X6300100  1. INDIRETO ALIMENTAR   A0X6400110   \n",
       "\n",
       "                      SubCanal Cod Cluster   Cod Grupo             Grupo  \\\n",
       "0  1.1. DISTRIBUIDOR ALIMENTAR  A0X6500119  A0X6604030  NILO TOZZO E CIA   \n",
       "\n",
       "  Cod SubGrupo  ...    Cod Zona            Zona            BU Categoria  \\\n",
       "0   A0X6704030  ...  C0X6402114  2.114. SC/RS 2  Não Definido       SUN   \n",
       "\n",
       "                                  Produto            EAN  \\\n",
       "0  P&B FPS30 125ML AM+SOFT MILK 200ML GRT  4005900262776   \n",
       "\n",
       "  Volume Posição Estoque Volume Estoque em Transito  \\\n",
       "0                     15                        NaN   \n",
       "\n",
       "  Product Sales Posição Estoque Product Sales Estoque em Transito  \n",
       "0                           NaN                               NaN  \n",
       "\n",
       "[1 rows x 27 columns]"
      ],
      "text/html": "<div>\n<style scoped>\n    .dataframe tbody tr th:only-of-type {\n        vertical-align: middle;\n    }\n\n    .dataframe tbody tr th {\n        vertical-align: top;\n    }\n\n    .dataframe thead th {\n        text-align: right;\n    }\n</style>\n<table border=\"1\" class=\"dataframe\">\n  <thead>\n    <tr style=\"text-align: right;\">\n      <th></th>\n      <th>Ano</th>\n      <th>Mes</th>\n      <th>Cod Canal</th>\n      <th>Canal</th>\n      <th>Cod SubCanal</th>\n      <th>SubCanal</th>\n      <th>Cod Cluster</th>\n      <th>Cod Grupo</th>\n      <th>Grupo</th>\n      <th>Cod SubGrupo</th>\n      <th>...</th>\n      <th>Cod Zona</th>\n      <th>Zona</th>\n      <th>BU</th>\n      <th>Categoria</th>\n      <th>Produto</th>\n      <th>EAN</th>\n      <th>Volume Posição Estoque</th>\n      <th>Volume Estoque em Transito</th>\n      <th>Product Sales Posição Estoque</th>\n      <th>Product Sales Estoque em Transito</th>\n    </tr>\n  </thead>\n  <tbody>\n    <tr>\n      <th>0</th>\n      <td>2019</td>\n      <td>jan</td>\n      <td>A0X6300100</td>\n      <td>1. INDIRETO ALIMENTAR</td>\n      <td>A0X6400110</td>\n      <td>1.1. DISTRIBUIDOR ALIMENTAR</td>\n      <td>A0X6500119</td>\n      <td>A0X6604030</td>\n      <td>NILO TOZZO E CIA</td>\n      <td>A0X6704030</td>\n      <td>...</td>\n      <td>C0X6402114</td>\n      <td>2.114. SC/RS 2</td>\n      <td>Não Definido</td>\n      <td>SUN</td>\n      <td>P&amp;B FPS30 125ML AM+SOFT MILK 200ML GRT</td>\n      <td>4005900262776</td>\n      <td>15</td>\n      <td>NaN</td>\n      <td>NaN</td>\n      <td>NaN</td>\n    </tr>\n  </tbody>\n</table>\n<p>1 rows × 27 columns</p>\n</div>"
     },
     "metadata": {},
     "execution_count": 3
    }
   ],
   "source": [
    "_ing_base_estoque_19_20.head(1)"
   ]
  },
  {
   "cell_type": "code",
   "execution_count": 4,
   "metadata": {},
   "outputs": [
    {
     "output_type": "execute_result",
     "data": {
      "text/plain": [
       "    Origem   Ano      Mês Código Canal            Canal Código SubCanal  \\\n",
       "0  CLOSEUP  2019  Janeiro   A0X6300300  3. FARMA CADEIA      A0X6400310   \n",
       "\n",
       "        SubCanal Código Cluster   Cluster Código Grupo  ... Código Regional  \\\n",
       "0  3.1. FARMA KA     A0X6500315  KA FARMA   A0X6612230  ...      C0X6300312   \n",
       "\n",
       "             Regional Código Zona                       Zona   BU  \\\n",
       "0  BR 3.1.2. CFA DPSP  C0X6408121  8.121. DROGARIA SÃO PAULO  SUN   \n",
       "\n",
       "  SubBrandCategory Hierarquia - Categoria           EAN  \\\n",
       "0                                     SUN  4.005900e+12   \n",
       "\n",
       "                                    Produto Volume       Product Sales  \n",
       "0  P&H FPS 30 200ML+P SOL FAC FPS30 50ML GR  27541  645294,65270165800  \n",
       "\n",
       "[1 rows x 27 columns]"
      ],
      "text/html": "<div>\n<style scoped>\n    .dataframe tbody tr th:only-of-type {\n        vertical-align: middle;\n    }\n\n    .dataframe tbody tr th {\n        vertical-align: top;\n    }\n\n    .dataframe thead th {\n        text-align: right;\n    }\n</style>\n<table border=\"1\" class=\"dataframe\">\n  <thead>\n    <tr style=\"text-align: right;\">\n      <th></th>\n      <th>Origem</th>\n      <th>Ano</th>\n      <th>Mês</th>\n      <th>Código Canal</th>\n      <th>Canal</th>\n      <th>Código SubCanal</th>\n      <th>SubCanal</th>\n      <th>Código Cluster</th>\n      <th>Cluster</th>\n      <th>Código Grupo</th>\n      <th>...</th>\n      <th>Código Regional</th>\n      <th>Regional</th>\n      <th>Código Zona</th>\n      <th>Zona</th>\n      <th>BU</th>\n      <th>SubBrandCategory Hierarquia - Categoria</th>\n      <th>EAN</th>\n      <th>Produto</th>\n      <th>Volume</th>\n      <th>Product Sales</th>\n    </tr>\n  </thead>\n  <tbody>\n    <tr>\n      <th>0</th>\n      <td>CLOSEUP</td>\n      <td>2019</td>\n      <td>Janeiro</td>\n      <td>A0X6300300</td>\n      <td>3. FARMA CADEIA</td>\n      <td>A0X6400310</td>\n      <td>3.1. FARMA KA</td>\n      <td>A0X6500315</td>\n      <td>KA FARMA</td>\n      <td>A0X6612230</td>\n      <td>...</td>\n      <td>C0X6300312</td>\n      <td>BR 3.1.2. CFA DPSP</td>\n      <td>C0X6408121</td>\n      <td>8.121. DROGARIA SÃO PAULO</td>\n      <td>SUN</td>\n      <td>SUN</td>\n      <td>4.005900e+12</td>\n      <td>P&amp;H FPS 30 200ML+P SOL FAC FPS30 50ML GR</td>\n      <td>27541</td>\n      <td>645294,65270165800</td>\n    </tr>\n  </tbody>\n</table>\n<p>1 rows × 27 columns</p>\n</div>"
     },
     "metadata": {},
     "execution_count": 4
    }
   ],
   "source": [
    "_ing_base_sellout_2019_2021.head(1)"
   ]
  },
  {
   "cell_type": "code",
   "execution_count": 5,
   "metadata": {},
   "outputs": [
    {
     "output_type": "execute_result",
     "data": {
      "text/plain": [
       "   Calendar year Calendar month        Cust. Hierarchy A5         Empresa  \\\n",
       "0           2018            JAN  42/0033/01/11/A0X6200000  BDF Nivea Ltda   \n",
       "\n",
       "         Cust. Hierarchy A4                  Canal        Cust. Hierarchy A3  \\\n",
       "0  42/0033/01/11/A0X6300100  1. INDIRETO ALIMENTAR  42/0033/01/11/A0X6400110   \n",
       "\n",
       "                      SubCanal        Cust. Hierarchy A2            Cluster  \\\n",
       "0  1.1. DISTRIBUIDOR ALIMENTAR  42/0033/01/11/A0X6500119  SEM CLUSTERIZACAO   \n",
       "\n",
       "   ...         P1 NART     Columna_AF GTIN (EAN) Columna_AH Sold-to Party  \\\n",
       "0  ...  80102-03300-40  NCRM TIN 60ML   78906617   78906617   42/40317251   \n",
       "\n",
       "              Columna_AJ Region   Zona Invoiced Quantity       Product Sales  \n",
       "0  NILO TOZZO & CIA LTDA     RS  BR/RS             1080.0  7010,780000000000  \n",
       "\n",
       "[1 rows x 40 columns]"
      ],
      "text/html": "<div>\n<style scoped>\n    .dataframe tbody tr th:only-of-type {\n        vertical-align: middle;\n    }\n\n    .dataframe tbody tr th {\n        vertical-align: top;\n    }\n\n    .dataframe thead th {\n        text-align: right;\n    }\n</style>\n<table border=\"1\" class=\"dataframe\">\n  <thead>\n    <tr style=\"text-align: right;\">\n      <th></th>\n      <th>Calendar year</th>\n      <th>Calendar month</th>\n      <th>Cust. Hierarchy A5</th>\n      <th>Empresa</th>\n      <th>Cust. Hierarchy A4</th>\n      <th>Canal</th>\n      <th>Cust. Hierarchy A3</th>\n      <th>SubCanal</th>\n      <th>Cust. Hierarchy A2</th>\n      <th>Cluster</th>\n      <th>...</th>\n      <th>P1 NART</th>\n      <th>Columna_AF</th>\n      <th>GTIN (EAN)</th>\n      <th>Columna_AH</th>\n      <th>Sold-to Party</th>\n      <th>Columna_AJ</th>\n      <th>Region</th>\n      <th>Zona</th>\n      <th>Invoiced Quantity</th>\n      <th>Product Sales</th>\n    </tr>\n  </thead>\n  <tbody>\n    <tr>\n      <th>0</th>\n      <td>2018</td>\n      <td>JAN</td>\n      <td>42/0033/01/11/A0X6200000</td>\n      <td>BDF Nivea Ltda</td>\n      <td>42/0033/01/11/A0X6300100</td>\n      <td>1. INDIRETO ALIMENTAR</td>\n      <td>42/0033/01/11/A0X6400110</td>\n      <td>1.1. DISTRIBUIDOR ALIMENTAR</td>\n      <td>42/0033/01/11/A0X6500119</td>\n      <td>SEM CLUSTERIZACAO</td>\n      <td>...</td>\n      <td>80102-03300-40</td>\n      <td>NCRM TIN 60ML</td>\n      <td>78906617</td>\n      <td>78906617</td>\n      <td>42/40317251</td>\n      <td>NILO TOZZO &amp; CIA LTDA</td>\n      <td>RS</td>\n      <td>BR/RS</td>\n      <td>1080.0</td>\n      <td>7010,780000000000</td>\n    </tr>\n  </tbody>\n</table>\n<p>1 rows × 40 columns</p>\n</div>"
     },
     "metadata": {},
     "execution_count": 5
    }
   ],
   "source": [
    "_ing_base_sellin_2018.head(1)"
   ]
  },
  {
   "cell_type": "code",
   "execution_count": 6,
   "metadata": {},
   "outputs": [
    {
     "output_type": "execute_result",
     "data": {
      "text/plain": [
       "   Calendar year Calendar month        Cust. Hierarchy A5         Empresa  \\\n",
       "0           2019            JAN  42/0033/01/11/A0X6200000  BDF Nivea Ltda   \n",
       "\n",
       "         Cust. Hierarchy A4                  Canal        Cust. Hierarchy A3  \\\n",
       "0  42/0033/01/11/A0X6300100  1. INDIRETO ALIMENTAR  42/0033/01/11/A0X6400110   \n",
       "\n",
       "                      SubCanal        Cust. Hierarchy A2            Cluster  \\\n",
       "0  1.1. DISTRIBUIDOR ALIMENTAR  42/0033/01/11/A0X6500119  SEM CLUSTERIZACAO   \n",
       "\n",
       "   ...         P1 NART                                Columna_AF  \\\n",
       "0  ...  85562-03303-18  NSUN LTN SPF50 200ML PH50_200_GTS_PH50_1   \n",
       "\n",
       "      GTIN (EAN)     Columna_AH Sold-to Party  \\\n",
       "0  4005900477880  4005900477880   42/40316384   \n",
       "\n",
       "                         Columna_AJ Region   Zona Invoiced Quantity   \\\n",
       "0  ROGE COMERCIO E DISTRIBUIDORA DE     SP  BR/SP                NaN   \n",
       "\n",
       "        Product Sales  \n",
       "0  70911,820000000000  \n",
       "\n",
       "[1 rows x 40 columns]"
      ],
      "text/html": "<div>\n<style scoped>\n    .dataframe tbody tr th:only-of-type {\n        vertical-align: middle;\n    }\n\n    .dataframe tbody tr th {\n        vertical-align: top;\n    }\n\n    .dataframe thead th {\n        text-align: right;\n    }\n</style>\n<table border=\"1\" class=\"dataframe\">\n  <thead>\n    <tr style=\"text-align: right;\">\n      <th></th>\n      <th>Calendar year</th>\n      <th>Calendar month</th>\n      <th>Cust. Hierarchy A5</th>\n      <th>Empresa</th>\n      <th>Cust. Hierarchy A4</th>\n      <th>Canal</th>\n      <th>Cust. Hierarchy A3</th>\n      <th>SubCanal</th>\n      <th>Cust. Hierarchy A2</th>\n      <th>Cluster</th>\n      <th>...</th>\n      <th>P1 NART</th>\n      <th>Columna_AF</th>\n      <th>GTIN (EAN)</th>\n      <th>Columna_AH</th>\n      <th>Sold-to Party</th>\n      <th>Columna_AJ</th>\n      <th>Region</th>\n      <th>Zona</th>\n      <th>Invoiced Quantity</th>\n      <th>Product Sales</th>\n    </tr>\n  </thead>\n  <tbody>\n    <tr>\n      <th>0</th>\n      <td>2019</td>\n      <td>JAN</td>\n      <td>42/0033/01/11/A0X6200000</td>\n      <td>BDF Nivea Ltda</td>\n      <td>42/0033/01/11/A0X6300100</td>\n      <td>1. INDIRETO ALIMENTAR</td>\n      <td>42/0033/01/11/A0X6400110</td>\n      <td>1.1. DISTRIBUIDOR ALIMENTAR</td>\n      <td>42/0033/01/11/A0X6500119</td>\n      <td>SEM CLUSTERIZACAO</td>\n      <td>...</td>\n      <td>85562-03303-18</td>\n      <td>NSUN LTN SPF50 200ML PH50_200_GTS_PH50_1</td>\n      <td>4005900477880</td>\n      <td>4005900477880</td>\n      <td>42/40316384</td>\n      <td>ROGE COMERCIO E DISTRIBUIDORA DE</td>\n      <td>SP</td>\n      <td>BR/SP</td>\n      <td>NaN</td>\n      <td>70911,820000000000</td>\n    </tr>\n  </tbody>\n</table>\n<p>1 rows × 40 columns</p>\n</div>"
     },
     "metadata": {},
     "execution_count": 6
    }
   ],
   "source": [
    "_ing_base_sellin_2019.head(1)"
   ]
  },
  {
   "cell_type": "code",
   "execution_count": 7,
   "metadata": {},
   "outputs": [
    {
     "output_type": "execute_result",
     "data": {
      "text/plain": [
       "   Calendar year Calendar month        Cust. Hierarchy A5         Empresa  \\\n",
       "0           2020            JAN  42/0033/01/11/A0X6200000  BDF Nivea Ltda   \n",
       "\n",
       "         Cust. Hierarchy A4                  Canal        Cust. Hierarchy A3  \\\n",
       "0  42/0033/01/11/A0X6300100  1. INDIRETO ALIMENTAR  42/0033/01/11/A0X6400110   \n",
       "\n",
       "                      SubCanal        Cust. Hierarchy A2            Cluster  \\\n",
       "0  1.1. DISTRIBUIDOR ALIMENTAR  42/0033/01/11/A0X6500119  SEM CLUSTERIZACAO   \n",
       "\n",
       "   ...         P1 NART               Columna_AF     GTIN (EAN)     Columna_AH  \\\n",
       "0  ...  86049-03300-18  NSUN FC_FLD SPF50+ 50ML  4005900201126  4005900201126   \n",
       "\n",
       "  Sold-to Party                           Columna_AJ Region   Zona  \\\n",
       "0   42/40330973  ROGE  INTERG COMERCIO E DISTRIBUIDO     SP  BR/SP   \n",
       "\n",
       "  Invoiced Quantity        Product Sales  \n",
       "0              600.0  12091,050000000000  \n",
       "\n",
       "[1 rows x 40 columns]"
      ],
      "text/html": "<div>\n<style scoped>\n    .dataframe tbody tr th:only-of-type {\n        vertical-align: middle;\n    }\n\n    .dataframe tbody tr th {\n        vertical-align: top;\n    }\n\n    .dataframe thead th {\n        text-align: right;\n    }\n</style>\n<table border=\"1\" class=\"dataframe\">\n  <thead>\n    <tr style=\"text-align: right;\">\n      <th></th>\n      <th>Calendar year</th>\n      <th>Calendar month</th>\n      <th>Cust. Hierarchy A5</th>\n      <th>Empresa</th>\n      <th>Cust. Hierarchy A4</th>\n      <th>Canal</th>\n      <th>Cust. Hierarchy A3</th>\n      <th>SubCanal</th>\n      <th>Cust. Hierarchy A2</th>\n      <th>Cluster</th>\n      <th>...</th>\n      <th>P1 NART</th>\n      <th>Columna_AF</th>\n      <th>GTIN (EAN)</th>\n      <th>Columna_AH</th>\n      <th>Sold-to Party</th>\n      <th>Columna_AJ</th>\n      <th>Region</th>\n      <th>Zona</th>\n      <th>Invoiced Quantity</th>\n      <th>Product Sales</th>\n    </tr>\n  </thead>\n  <tbody>\n    <tr>\n      <th>0</th>\n      <td>2020</td>\n      <td>JAN</td>\n      <td>42/0033/01/11/A0X6200000</td>\n      <td>BDF Nivea Ltda</td>\n      <td>42/0033/01/11/A0X6300100</td>\n      <td>1. INDIRETO ALIMENTAR</td>\n      <td>42/0033/01/11/A0X6400110</td>\n      <td>1.1. DISTRIBUIDOR ALIMENTAR</td>\n      <td>42/0033/01/11/A0X6500119</td>\n      <td>SEM CLUSTERIZACAO</td>\n      <td>...</td>\n      <td>86049-03300-18</td>\n      <td>NSUN FC_FLD SPF50+ 50ML</td>\n      <td>4005900201126</td>\n      <td>4005900201126</td>\n      <td>42/40330973</td>\n      <td>ROGE  INTERG COMERCIO E DISTRIBUIDO</td>\n      <td>SP</td>\n      <td>BR/SP</td>\n      <td>600.0</td>\n      <td>12091,050000000000</td>\n    </tr>\n  </tbody>\n</table>\n<p>1 rows × 40 columns</p>\n</div>"
     },
     "metadata": {},
     "execution_count": 7
    }
   ],
   "source": [
    "_ing_base_sellin_2020.head(1)"
   ]
  },
  {
   "cell_type": "code",
   "execution_count": 8,
   "metadata": {},
   "outputs": [
    {
     "output_type": "execute_result",
     "data": {
      "text/plain": [
       "   Calendar year Calendar month        Cust. Hierarchy A5         Empresa  \\\n",
       "0           2021            JAN  42/0033/01/11/A0X6200000  BDF Nivea Ltda   \n",
       "\n",
       "         Cust. Hierarchy A4                  Canal        Cust. Hierarchy A3  \\\n",
       "0  42/0033/01/11/A0X6300100  1. INDIRETO ALIMENTAR  42/0033/01/11/A0X6400110   \n",
       "\n",
       "                      SubCanal        Cust. Hierarchy A2            Cluster  \\\n",
       "0  1.1. DISTRIBUIDOR ALIMENTAR  42/0033/01/11/A0X6500119  SEM CLUSTERIZACAO   \n",
       "\n",
       "   ...         P1 NART            Columna_AF     GTIN (EAN)     Columna_AH  \\\n",
       "0  ...  85581-03300-20  NSUN LTN SPF30 200ML  4005808555307  4005808555307   \n",
       "\n",
       "  Sold-to Party                    Columna_AJ Region   Zona  \\\n",
       "0   42/40352408  DISTRIBUIDORA LATIFRIOS LTDA     RJ  BR/RJ   \n",
       "\n",
       "  Invoiced Quantity      Product Sales  \n",
       "0               72.0  892,800000000000  \n",
       "\n",
       "[1 rows x 40 columns]"
      ],
      "text/html": "<div>\n<style scoped>\n    .dataframe tbody tr th:only-of-type {\n        vertical-align: middle;\n    }\n\n    .dataframe tbody tr th {\n        vertical-align: top;\n    }\n\n    .dataframe thead th {\n        text-align: right;\n    }\n</style>\n<table border=\"1\" class=\"dataframe\">\n  <thead>\n    <tr style=\"text-align: right;\">\n      <th></th>\n      <th>Calendar year</th>\n      <th>Calendar month</th>\n      <th>Cust. Hierarchy A5</th>\n      <th>Empresa</th>\n      <th>Cust. Hierarchy A4</th>\n      <th>Canal</th>\n      <th>Cust. Hierarchy A3</th>\n      <th>SubCanal</th>\n      <th>Cust. Hierarchy A2</th>\n      <th>Cluster</th>\n      <th>...</th>\n      <th>P1 NART</th>\n      <th>Columna_AF</th>\n      <th>GTIN (EAN)</th>\n      <th>Columna_AH</th>\n      <th>Sold-to Party</th>\n      <th>Columna_AJ</th>\n      <th>Region</th>\n      <th>Zona</th>\n      <th>Invoiced Quantity</th>\n      <th>Product Sales</th>\n    </tr>\n  </thead>\n  <tbody>\n    <tr>\n      <th>0</th>\n      <td>2021</td>\n      <td>JAN</td>\n      <td>42/0033/01/11/A0X6200000</td>\n      <td>BDF Nivea Ltda</td>\n      <td>42/0033/01/11/A0X6300100</td>\n      <td>1. INDIRETO ALIMENTAR</td>\n      <td>42/0033/01/11/A0X6400110</td>\n      <td>1.1. DISTRIBUIDOR ALIMENTAR</td>\n      <td>42/0033/01/11/A0X6500119</td>\n      <td>SEM CLUSTERIZACAO</td>\n      <td>...</td>\n      <td>85581-03300-20</td>\n      <td>NSUN LTN SPF30 200ML</td>\n      <td>4005808555307</td>\n      <td>4005808555307</td>\n      <td>42/40352408</td>\n      <td>DISTRIBUIDORA LATIFRIOS LTDA</td>\n      <td>RJ</td>\n      <td>BR/RJ</td>\n      <td>72.0</td>\n      <td>892,800000000000</td>\n    </tr>\n  </tbody>\n</table>\n<p>1 rows × 40 columns</p>\n</div>"
     },
     "metadata": {},
     "execution_count": 8
    }
   ],
   "source": [
    "_ing_base_sellin_2021.head(1)"
   ]
  },
  {
   "source": [
    "## Fazendo o Join das tabelas"
   ],
   "cell_type": "markdown",
   "metadata": {}
  },
  {
   "cell_type": "code",
   "execution_count": 9,
   "metadata": {},
   "outputs": [
    {
     "output_type": "execute_result",
     "data": {
      "text/plain": [
       "(1140719, 40)"
      ]
     },
     "metadata": {},
     "execution_count": 9
    }
   ],
   "source": [
    "sell_in_18 = _ing_base_sellin_2018.copy()\n",
    "sell_in_19 = _ing_base_sellin_2019.copy()\n",
    "sell_in_20 = _ing_base_sellin_2020.copy()\n",
    "sell_in_21 = _ing_base_sellin_2021.copy()\n",
    "_join_sellin = sell_in_18.append([sell_in_19,sell_in_20,sell_in_21])\n",
    "_join_sellin = _join_sellin.rename(columns = {'﻿Calendar year':'Calendar year'})\n",
    "_join_sellin.shape"
   ]
  },
  {
   "source": [
    "## Criando os PKL's"
   ],
   "cell_type": "markdown",
   "metadata": {}
  },
  {
   "cell_type": "code",
   "execution_count": 10,
   "metadata": {},
   "outputs": [],
   "source": [
    "#_ing_base_estoque_19_20.to_pickle(os.path.join(current_path,'Bases','Base Estoque Historica.pkl'), compression='infer')"
   ]
  },
  {
   "cell_type": "code",
   "execution_count": 11,
   "metadata": {},
   "outputs": [],
   "source": [
    "#_ing_base_sellout_2019_2021.to_pickle(os.path.join(current_path,'Bases','Base Sell Out Historica.pkl'), compression='infer')"
   ]
  },
  {
   "cell_type": "code",
   "execution_count": 12,
   "metadata": {},
   "outputs": [],
   "source": [
    "# _join_sellin.to_pickle(os.path.join(current_path,'Bases','Bases Sell In Historicas.pkl'), compression='infer')"
   ]
  },
  {
   "source": [
    "## Lendo os PKL´s"
   ],
   "cell_type": "markdown",
   "metadata": {}
  },
  {
   "cell_type": "code",
   "execution_count": 13,
   "metadata": {},
   "outputs": [
    {
     "output_type": "execute_result",
     "data": {
      "text/plain": [
       "    Ano  Mes   Cod Canal                  Canal Cod SubCanal  \\\n",
       "0  2019  jan  A0X6300100  1. INDIRETO ALIMENTAR   A0X6400110   \n",
       "\n",
       "                      SubCanal Cod Cluster   Cod Grupo             Grupo  \\\n",
       "0  1.1. DISTRIBUIDOR ALIMENTAR  A0X6500119  A0X6604030  NILO TOZZO E CIA   \n",
       "\n",
       "  Cod SubGrupo  ...    Cod Zona            Zona            BU Categoria  \\\n",
       "0   A0X6704030  ...  C0X6402114  2.114. SC/RS 2  Não Definido       SUN   \n",
       "\n",
       "                                  Produto            EAN  \\\n",
       "0  P&B FPS30 125ML AM+SOFT MILK 200ML GRT  4005900262776   \n",
       "\n",
       "  Volume Posição Estoque Volume Estoque em Transito  \\\n",
       "0                     15                        NaN   \n",
       "\n",
       "  Product Sales Posição Estoque Product Sales Estoque em Transito  \n",
       "0                           NaN                               NaN  \n",
       "\n",
       "[1 rows x 27 columns]"
      ],
      "text/html": "<div>\n<style scoped>\n    .dataframe tbody tr th:only-of-type {\n        vertical-align: middle;\n    }\n\n    .dataframe tbody tr th {\n        vertical-align: top;\n    }\n\n    .dataframe thead th {\n        text-align: right;\n    }\n</style>\n<table border=\"1\" class=\"dataframe\">\n  <thead>\n    <tr style=\"text-align: right;\">\n      <th></th>\n      <th>Ano</th>\n      <th>Mes</th>\n      <th>Cod Canal</th>\n      <th>Canal</th>\n      <th>Cod SubCanal</th>\n      <th>SubCanal</th>\n      <th>Cod Cluster</th>\n      <th>Cod Grupo</th>\n      <th>Grupo</th>\n      <th>Cod SubGrupo</th>\n      <th>...</th>\n      <th>Cod Zona</th>\n      <th>Zona</th>\n      <th>BU</th>\n      <th>Categoria</th>\n      <th>Produto</th>\n      <th>EAN</th>\n      <th>Volume Posição Estoque</th>\n      <th>Volume Estoque em Transito</th>\n      <th>Product Sales Posição Estoque</th>\n      <th>Product Sales Estoque em Transito</th>\n    </tr>\n  </thead>\n  <tbody>\n    <tr>\n      <th>0</th>\n      <td>2019</td>\n      <td>jan</td>\n      <td>A0X6300100</td>\n      <td>1. INDIRETO ALIMENTAR</td>\n      <td>A0X6400110</td>\n      <td>1.1. DISTRIBUIDOR ALIMENTAR</td>\n      <td>A0X6500119</td>\n      <td>A0X6604030</td>\n      <td>NILO TOZZO E CIA</td>\n      <td>A0X6704030</td>\n      <td>...</td>\n      <td>C0X6402114</td>\n      <td>2.114. SC/RS 2</td>\n      <td>Não Definido</td>\n      <td>SUN</td>\n      <td>P&amp;B FPS30 125ML AM+SOFT MILK 200ML GRT</td>\n      <td>4005900262776</td>\n      <td>15</td>\n      <td>NaN</td>\n      <td>NaN</td>\n      <td>NaN</td>\n    </tr>\n  </tbody>\n</table>\n<p>1 rows × 27 columns</p>\n</div>"
     },
     "metadata": {},
     "execution_count": 13
    }
   ],
   "source": [
    "result = pd.read_pickle( current_path + \"/Bases/Base Estoque Historica.pkl\", compression='infer' )\n",
    "result.head(1)"
   ]
  },
  {
   "cell_type": "code",
   "execution_count": 14,
   "metadata": {},
   "outputs": [
    {
     "output_type": "execute_result",
     "data": {
      "text/plain": [
       "    Origem   Ano      Mês Código Canal            Canal Código SubCanal  \\\n",
       "0  CLOSEUP  2019  Janeiro   A0X6300300  3. FARMA CADEIA      A0X6400310   \n",
       "\n",
       "        SubCanal Código Cluster   Cluster Código Grupo  ... Código Regional  \\\n",
       "0  3.1. FARMA KA     A0X6500315  KA FARMA   A0X6612230  ...      C0X6300312   \n",
       "\n",
       "             Regional Código Zona                       Zona   BU  \\\n",
       "0  BR 3.1.2. CFA DPSP  C0X6408121  8.121. DROGARIA SÃO PAULO  SUN   \n",
       "\n",
       "  SubBrandCategory Hierarquia - Categoria           EAN  \\\n",
       "0                                     SUN  4.005900e+12   \n",
       "\n",
       "                                    Produto Volume       Product Sales  \n",
       "0  P&H FPS 30 200ML+P SOL FAC FPS30 50ML GR  27541  645294,65270165800  \n",
       "\n",
       "[1 rows x 27 columns]"
      ],
      "text/html": "<div>\n<style scoped>\n    .dataframe tbody tr th:only-of-type {\n        vertical-align: middle;\n    }\n\n    .dataframe tbody tr th {\n        vertical-align: top;\n    }\n\n    .dataframe thead th {\n        text-align: right;\n    }\n</style>\n<table border=\"1\" class=\"dataframe\">\n  <thead>\n    <tr style=\"text-align: right;\">\n      <th></th>\n      <th>Origem</th>\n      <th>Ano</th>\n      <th>Mês</th>\n      <th>Código Canal</th>\n      <th>Canal</th>\n      <th>Código SubCanal</th>\n      <th>SubCanal</th>\n      <th>Código Cluster</th>\n      <th>Cluster</th>\n      <th>Código Grupo</th>\n      <th>...</th>\n      <th>Código Regional</th>\n      <th>Regional</th>\n      <th>Código Zona</th>\n      <th>Zona</th>\n      <th>BU</th>\n      <th>SubBrandCategory Hierarquia - Categoria</th>\n      <th>EAN</th>\n      <th>Produto</th>\n      <th>Volume</th>\n      <th>Product Sales</th>\n    </tr>\n  </thead>\n  <tbody>\n    <tr>\n      <th>0</th>\n      <td>CLOSEUP</td>\n      <td>2019</td>\n      <td>Janeiro</td>\n      <td>A0X6300300</td>\n      <td>3. FARMA CADEIA</td>\n      <td>A0X6400310</td>\n      <td>3.1. FARMA KA</td>\n      <td>A0X6500315</td>\n      <td>KA FARMA</td>\n      <td>A0X6612230</td>\n      <td>...</td>\n      <td>C0X6300312</td>\n      <td>BR 3.1.2. CFA DPSP</td>\n      <td>C0X6408121</td>\n      <td>8.121. DROGARIA SÃO PAULO</td>\n      <td>SUN</td>\n      <td>SUN</td>\n      <td>4.005900e+12</td>\n      <td>P&amp;H FPS 30 200ML+P SOL FAC FPS30 50ML GR</td>\n      <td>27541</td>\n      <td>645294,65270165800</td>\n    </tr>\n  </tbody>\n</table>\n<p>1 rows × 27 columns</p>\n</div>"
     },
     "metadata": {},
     "execution_count": 14
    }
   ],
   "source": [
    "result = pd.read_pickle( current_path + \"/Bases/Base Sell Out Historica.pkl\", compression='infer' )\n",
    "result.head(1)"
   ]
  },
  {
   "cell_type": "code",
   "execution_count": 15,
   "metadata": {},
   "outputs": [
    {
     "output_type": "execute_result",
     "data": {
      "text/plain": [
       "   Calendar year Calendar month        Cust. Hierarchy A5         Empresa  \\\n",
       "0           2018            JAN  42/0033/01/11/A0X6200000  BDF Nivea Ltda   \n",
       "\n",
       "         Cust. Hierarchy A4                  Canal        Cust. Hierarchy A3  \\\n",
       "0  42/0033/01/11/A0X6300100  1. INDIRETO ALIMENTAR  42/0033/01/11/A0X6400110   \n",
       "\n",
       "                      SubCanal        Cust. Hierarchy A2            Cluster  \\\n",
       "0  1.1. DISTRIBUIDOR ALIMENTAR  42/0033/01/11/A0X6500119  SEM CLUSTERIZACAO   \n",
       "\n",
       "   ...     Columna_AF GTIN (EAN) Columna_AH Sold-to Party  \\\n",
       "0  ...  NCRM TIN 60ML   78906617   78906617   42/40317251   \n",
       "\n",
       "              Columna_AJ Region   Zona Invoiced Quantity       Product Sales  \\\n",
       "0  NILO TOZZO & CIA LTDA     RS  BR/RS             1080.0  7010,780000000000   \n",
       "\n",
       "  Product Sales   \n",
       "0            NaN  \n",
       "\n",
       "[1 rows x 41 columns]"
      ],
      "text/html": "<div>\n<style scoped>\n    .dataframe tbody tr th:only-of-type {\n        vertical-align: middle;\n    }\n\n    .dataframe tbody tr th {\n        vertical-align: top;\n    }\n\n    .dataframe thead th {\n        text-align: right;\n    }\n</style>\n<table border=\"1\" class=\"dataframe\">\n  <thead>\n    <tr style=\"text-align: right;\">\n      <th></th>\n      <th>Calendar year</th>\n      <th>Calendar month</th>\n      <th>Cust. Hierarchy A5</th>\n      <th>Empresa</th>\n      <th>Cust. Hierarchy A4</th>\n      <th>Canal</th>\n      <th>Cust. Hierarchy A3</th>\n      <th>SubCanal</th>\n      <th>Cust. Hierarchy A2</th>\n      <th>Cluster</th>\n      <th>...</th>\n      <th>Columna_AF</th>\n      <th>GTIN (EAN)</th>\n      <th>Columna_AH</th>\n      <th>Sold-to Party</th>\n      <th>Columna_AJ</th>\n      <th>Region</th>\n      <th>Zona</th>\n      <th>Invoiced Quantity</th>\n      <th>Product Sales</th>\n      <th>Product Sales</th>\n    </tr>\n  </thead>\n  <tbody>\n    <tr>\n      <th>0</th>\n      <td>2018</td>\n      <td>JAN</td>\n      <td>42/0033/01/11/A0X6200000</td>\n      <td>BDF Nivea Ltda</td>\n      <td>42/0033/01/11/A0X6300100</td>\n      <td>1. INDIRETO ALIMENTAR</td>\n      <td>42/0033/01/11/A0X6400110</td>\n      <td>1.1. DISTRIBUIDOR ALIMENTAR</td>\n      <td>42/0033/01/11/A0X6500119</td>\n      <td>SEM CLUSTERIZACAO</td>\n      <td>...</td>\n      <td>NCRM TIN 60ML</td>\n      <td>78906617</td>\n      <td>78906617</td>\n      <td>42/40317251</td>\n      <td>NILO TOZZO &amp; CIA LTDA</td>\n      <td>RS</td>\n      <td>BR/RS</td>\n      <td>1080.0</td>\n      <td>7010,780000000000</td>\n      <td>NaN</td>\n    </tr>\n  </tbody>\n</table>\n<p>1 rows × 41 columns</p>\n</div>"
     },
     "metadata": {},
     "execution_count": 15
    }
   ],
   "source": [
    "result = pd.read_pickle( current_path + \"/Bases/Bases Sell In Historicas.pkl\", compression='infer' )\n",
    "result.head(1)"
   ]
  }
 ]
}