{
 "metadata": {
  "language_info": {
   "codemirror_mode": {
    "name": "ipython",
    "version": 3
   },
   "file_extension": ".py",
   "mimetype": "text/x-python",
   "name": "python",
   "nbconvert_exporter": "python",
   "pygments_lexer": "ipython3",
   "version": "3.7.5-final"
  },
  "orig_nbformat": 2,
  "kernelspec": {
   "name": "python3",
   "display_name": "Python 3.7.5 64-bit",
   "metadata": {
    "interpreter": {
     "hash": "2f4f4457f2c99eabecb8a44ff56a73b72ee854a600d04cd32d6ba5135905bba2"
    }
   }
  }
 },
 "nbformat": 4,
 "nbformat_minor": 2,
 "cells": [
  {
   "source": [
    "# Cargas para tbl_cidade"
   ],
   "cell_type": "markdown",
   "metadata": {}
  },
  {
   "cell_type": "code",
   "execution_count": 1,
   "metadata": {},
   "outputs": [],
   "source": [
    "import pandas as pd \n",
    "import numpy as np"
   ]
  },
  {
   "cell_type": "code",
   "execution_count": 2,
   "metadata": {},
   "outputs": [],
   "source": [
    "tbl_estados = pd.read_csv('tbl_estados.csv',sep=',')"
   ]
  },
  {
   "cell_type": "code",
   "execution_count": 3,
   "metadata": {},
   "outputs": [
    {
     "output_type": "execute_result",
     "data": {
      "text/plain": [
       "    id_estado               estado  uf\n",
       "0           1                 Acre  AC\n",
       "1           2              Alagoas  AL\n",
       "2           3                Amapá  AP\n",
       "3           4             Amazonas  AM\n",
       "4           5                Bahia  BA\n",
       "5           6                Ceará  CE\n",
       "6           7     Distrito Federal  DF\n",
       "7           8       Espírito Santo  ES\n",
       "8           9                Goiás  GO\n",
       "9          10             Maranhão  MA\n",
       "10         11          Mato Grosso  MT\n",
       "11         12   Mato Grosso do Sul  MS\n",
       "12         13         Minas Gerais  MG\n",
       "13         14                 Pará  PA\n",
       "14         15              Paraíba  PB\n",
       "15         16               Paraná  PR\n",
       "16         17           Pernambuco  PE\n",
       "17         18                Piauí  PI\n",
       "18         19       Rio de Janeiro  RJ\n",
       "19         20  Rio Grande do Norte  RN\n",
       "20         21    Rio Grande do Sul  RS\n",
       "21         22             Rondônia  RO\n",
       "22         23              Roraima  RR\n",
       "23         24       Santa Catarina  SC\n",
       "24         25            São Paulo  SP\n",
       "25         26              Sergipe  SE\n",
       "26         27            Tocantins  TO"
      ],
      "text/html": "<div>\n<style scoped>\n    .dataframe tbody tr th:only-of-type {\n        vertical-align: middle;\n    }\n\n    .dataframe tbody tr th {\n        vertical-align: top;\n    }\n\n    .dataframe thead th {\n        text-align: right;\n    }\n</style>\n<table border=\"1\" class=\"dataframe\">\n  <thead>\n    <tr style=\"text-align: right;\">\n      <th></th>\n      <th>id_estado</th>\n      <th>estado</th>\n      <th>uf</th>\n    </tr>\n  </thead>\n  <tbody>\n    <tr>\n      <th>0</th>\n      <td>1</td>\n      <td>Acre</td>\n      <td>AC</td>\n    </tr>\n    <tr>\n      <th>1</th>\n      <td>2</td>\n      <td>Alagoas</td>\n      <td>AL</td>\n    </tr>\n    <tr>\n      <th>2</th>\n      <td>3</td>\n      <td>Amapá</td>\n      <td>AP</td>\n    </tr>\n    <tr>\n      <th>3</th>\n      <td>4</td>\n      <td>Amazonas</td>\n      <td>AM</td>\n    </tr>\n    <tr>\n      <th>4</th>\n      <td>5</td>\n      <td>Bahia</td>\n      <td>BA</td>\n    </tr>\n    <tr>\n      <th>5</th>\n      <td>6</td>\n      <td>Ceará</td>\n      <td>CE</td>\n    </tr>\n    <tr>\n      <th>6</th>\n      <td>7</td>\n      <td>Distrito Federal</td>\n      <td>DF</td>\n    </tr>\n    <tr>\n      <th>7</th>\n      <td>8</td>\n      <td>Espírito Santo</td>\n      <td>ES</td>\n    </tr>\n    <tr>\n      <th>8</th>\n      <td>9</td>\n      <td>Goiás</td>\n      <td>GO</td>\n    </tr>\n    <tr>\n      <th>9</th>\n      <td>10</td>\n      <td>Maranhão</td>\n      <td>MA</td>\n    </tr>\n    <tr>\n      <th>10</th>\n      <td>11</td>\n      <td>Mato Grosso</td>\n      <td>MT</td>\n    </tr>\n    <tr>\n      <th>11</th>\n      <td>12</td>\n      <td>Mato Grosso do Sul</td>\n      <td>MS</td>\n    </tr>\n    <tr>\n      <th>12</th>\n      <td>13</td>\n      <td>Minas Gerais</td>\n      <td>MG</td>\n    </tr>\n    <tr>\n      <th>13</th>\n      <td>14</td>\n      <td>Pará</td>\n      <td>PA</td>\n    </tr>\n    <tr>\n      <th>14</th>\n      <td>15</td>\n      <td>Paraíba</td>\n      <td>PB</td>\n    </tr>\n    <tr>\n      <th>15</th>\n      <td>16</td>\n      <td>Paraná</td>\n      <td>PR</td>\n    </tr>\n    <tr>\n      <th>16</th>\n      <td>17</td>\n      <td>Pernambuco</td>\n      <td>PE</td>\n    </tr>\n    <tr>\n      <th>17</th>\n      <td>18</td>\n      <td>Piauí</td>\n      <td>PI</td>\n    </tr>\n    <tr>\n      <th>18</th>\n      <td>19</td>\n      <td>Rio de Janeiro</td>\n      <td>RJ</td>\n    </tr>\n    <tr>\n      <th>19</th>\n      <td>20</td>\n      <td>Rio Grande do Norte</td>\n      <td>RN</td>\n    </tr>\n    <tr>\n      <th>20</th>\n      <td>21</td>\n      <td>Rio Grande do Sul</td>\n      <td>RS</td>\n    </tr>\n    <tr>\n      <th>21</th>\n      <td>22</td>\n      <td>Rondônia</td>\n      <td>RO</td>\n    </tr>\n    <tr>\n      <th>22</th>\n      <td>23</td>\n      <td>Roraima</td>\n      <td>RR</td>\n    </tr>\n    <tr>\n      <th>23</th>\n      <td>24</td>\n      <td>Santa Catarina</td>\n      <td>SC</td>\n    </tr>\n    <tr>\n      <th>24</th>\n      <td>25</td>\n      <td>São Paulo</td>\n      <td>SP</td>\n    </tr>\n    <tr>\n      <th>25</th>\n      <td>26</td>\n      <td>Sergipe</td>\n      <td>SE</td>\n    </tr>\n    <tr>\n      <th>26</th>\n      <td>27</td>\n      <td>Tocantins</td>\n      <td>TO</td>\n    </tr>\n  </tbody>\n</table>\n</div>"
     },
     "metadata": {},
     "execution_count": 3
    }
   ],
   "source": [
    "tbl_estados"
   ]
  },
  {
   "cell_type": "code",
   "execution_count": 4,
   "metadata": {
    "tags": []
   },
   "outputs": [],
   "source": [
    "tbl_ceps = pd.read_table('ceps.txt')"
   ]
  },
  {
   "cell_type": "code",
   "execution_count": 5,
   "metadata": {},
   "outputs": [
    {
     "output_type": "execute_result",
     "data": {
      "text/plain": [
       "        Cep    cidades/uf  Bairro                       Logradouro  \\\n",
       "0   1001000  São Paulo/SP      Sé         Praça da Sé - lado ímpar   \n",
       "1   1001001  São Paulo/SP      Sé           Praça da Sé - lado par   \n",
       "2   1001010  São Paulo/SP      Sé           Rua Filipe de Oliveira   \n",
       "3   1001900  São Paulo/SP      Sé                Praça da Sé, 108    \n",
       "4   1001901  São Paulo/SP      Sé                Praça da Sé, 371    \n",
       "5   1001902  São Paulo/SP      Sé                Praça da Sé, 385    \n",
       "6   1002000  São Paulo/SP      Sé           Rua Direita - lado par   \n",
       "7   1002001  São Paulo/SP      Sé         Rua Direita - lado ímpar   \n",
       "8   1002010  São Paulo/SP      Sé               Praça do Patriarca   \n",
       "9   1002020  São Paulo/SP  Centro                   Viaduto do Chá   \n",
       "10  1002900  São Paulo/SP  Centro              Viaduto do Chá, 15    \n",
       "11  1002901  São Paulo/SP      Sé                 Rua Direita, 32    \n",
       "12  1002902  São Paulo/SP      Sé                Rua Direita, 191    \n",
       "13  1002903  São Paulo/SP      Sé                Rua Direita, 250    \n",
       "14  1003000  São Paulo/SP      Sé    Rua José Bonifácio - lado par   \n",
       "15  1003001  São Paulo/SP      Sé  Rua José Bonifácio - lado ímpar   \n",
       "16  1003010  São Paulo/SP      Sé    Praça Ouvidor Pacheco e Silva   \n",
       "17  1003900  São Paulo/SP      Sé          Rua José Bonifácio, 24    \n",
       "18  1003901  São Paulo/SP      Sé          Rua José Bonifácio, 93    \n",
       "19  1003902  São Paulo/SP      Sé         Rua José Bonifácio, 209    \n",
       "\n",
       "                                           Unnamed: 4  Unnamed: 5  Unnamed: 6  \\\n",
       "0                                                 NaN         NaN         NaN   \n",
       "1                                                 NaN         NaN         NaN   \n",
       "2                                                 NaN         NaN         NaN   \n",
       "3    UNESP - Universidade Estadual Júlio de Mesqui...         NaN         NaN   \n",
       "4                                Edifício Santa Lídia         NaN         NaN   \n",
       "5                OAB - Ordem dos Advogados do Brasil.         NaN         NaN   \n",
       "6                                                 NaN         NaN         NaN   \n",
       "7                                                 NaN         NaN         NaN   \n",
       "8                                                 NaN         NaN         NaN   \n",
       "9                                                 NaN         NaN         NaN   \n",
       "10               Prefeitura do Município de São Paulo         NaN         NaN   \n",
       "11                               Edifício Piratininga         NaN         NaN   \n",
       "12                                     Edifício Zogbi         NaN         NaN   \n",
       "13                           Edifício Barão de Iguape         NaN         NaN   \n",
       "14                                                NaN         NaN         NaN   \n",
       "15                                                NaN         NaN         NaN   \n",
       "16                                                NaN         NaN         NaN   \n",
       "17                                 Edifício Triângulo         NaN         NaN   \n",
       "18                                Edifício Santa Cruz         NaN         NaN   \n",
       "19                                  Edifício Brasília         NaN         NaN   \n",
       "\n",
       "    Unnamed: 7  Unnamed: 8  Unnamed: 9  \n",
       "0          NaN         NaN         NaN  \n",
       "1          NaN         NaN         NaN  \n",
       "2          NaN         NaN         NaN  \n",
       "3          NaN         NaN         NaN  \n",
       "4          NaN         NaN         NaN  \n",
       "5          NaN         NaN         NaN  \n",
       "6          NaN         NaN         NaN  \n",
       "7          NaN         NaN         NaN  \n",
       "8          NaN         NaN         NaN  \n",
       "9          NaN         NaN         NaN  \n",
       "10         NaN         NaN         NaN  \n",
       "11         NaN         NaN         NaN  \n",
       "12         NaN         NaN         NaN  \n",
       "13         NaN         NaN         NaN  \n",
       "14         NaN         NaN         NaN  \n",
       "15         NaN         NaN         NaN  \n",
       "16         NaN         NaN         NaN  \n",
       "17         NaN         NaN         NaN  \n",
       "18         NaN         NaN         NaN  \n",
       "19         NaN         NaN         NaN  "
      ],
      "text/html": "<div>\n<style scoped>\n    .dataframe tbody tr th:only-of-type {\n        vertical-align: middle;\n    }\n\n    .dataframe tbody tr th {\n        vertical-align: top;\n    }\n\n    .dataframe thead th {\n        text-align: right;\n    }\n</style>\n<table border=\"1\" class=\"dataframe\">\n  <thead>\n    <tr style=\"text-align: right;\">\n      <th></th>\n      <th>Cep</th>\n      <th>cidades/uf</th>\n      <th>Bairro</th>\n      <th>Logradouro</th>\n      <th>Unnamed: 4</th>\n      <th>Unnamed: 5</th>\n      <th>Unnamed: 6</th>\n      <th>Unnamed: 7</th>\n      <th>Unnamed: 8</th>\n      <th>Unnamed: 9</th>\n    </tr>\n  </thead>\n  <tbody>\n    <tr>\n      <th>0</th>\n      <td>1001000</td>\n      <td>São Paulo/SP</td>\n      <td>Sé</td>\n      <td>Praça da Sé - lado ímpar</td>\n      <td>NaN</td>\n      <td>NaN</td>\n      <td>NaN</td>\n      <td>NaN</td>\n      <td>NaN</td>\n      <td>NaN</td>\n    </tr>\n    <tr>\n      <th>1</th>\n      <td>1001001</td>\n      <td>São Paulo/SP</td>\n      <td>Sé</td>\n      <td>Praça da Sé - lado par</td>\n      <td>NaN</td>\n      <td>NaN</td>\n      <td>NaN</td>\n      <td>NaN</td>\n      <td>NaN</td>\n      <td>NaN</td>\n    </tr>\n    <tr>\n      <th>2</th>\n      <td>1001010</td>\n      <td>São Paulo/SP</td>\n      <td>Sé</td>\n      <td>Rua Filipe de Oliveira</td>\n      <td>NaN</td>\n      <td>NaN</td>\n      <td>NaN</td>\n      <td>NaN</td>\n      <td>NaN</td>\n      <td>NaN</td>\n    </tr>\n    <tr>\n      <th>3</th>\n      <td>1001900</td>\n      <td>São Paulo/SP</td>\n      <td>Sé</td>\n      <td>Praça da Sé, 108</td>\n      <td>UNESP - Universidade Estadual Júlio de Mesqui...</td>\n      <td>NaN</td>\n      <td>NaN</td>\n      <td>NaN</td>\n      <td>NaN</td>\n      <td>NaN</td>\n    </tr>\n    <tr>\n      <th>4</th>\n      <td>1001901</td>\n      <td>São Paulo/SP</td>\n      <td>Sé</td>\n      <td>Praça da Sé, 371</td>\n      <td>Edifício Santa Lídia</td>\n      <td>NaN</td>\n      <td>NaN</td>\n      <td>NaN</td>\n      <td>NaN</td>\n      <td>NaN</td>\n    </tr>\n    <tr>\n      <th>5</th>\n      <td>1001902</td>\n      <td>São Paulo/SP</td>\n      <td>Sé</td>\n      <td>Praça da Sé, 385</td>\n      <td>OAB - Ordem dos Advogados do Brasil.</td>\n      <td>NaN</td>\n      <td>NaN</td>\n      <td>NaN</td>\n      <td>NaN</td>\n      <td>NaN</td>\n    </tr>\n    <tr>\n      <th>6</th>\n      <td>1002000</td>\n      <td>São Paulo/SP</td>\n      <td>Sé</td>\n      <td>Rua Direita - lado par</td>\n      <td>NaN</td>\n      <td>NaN</td>\n      <td>NaN</td>\n      <td>NaN</td>\n      <td>NaN</td>\n      <td>NaN</td>\n    </tr>\n    <tr>\n      <th>7</th>\n      <td>1002001</td>\n      <td>São Paulo/SP</td>\n      <td>Sé</td>\n      <td>Rua Direita - lado ímpar</td>\n      <td>NaN</td>\n      <td>NaN</td>\n      <td>NaN</td>\n      <td>NaN</td>\n      <td>NaN</td>\n      <td>NaN</td>\n    </tr>\n    <tr>\n      <th>8</th>\n      <td>1002010</td>\n      <td>São Paulo/SP</td>\n      <td>Sé</td>\n      <td>Praça do Patriarca</td>\n      <td>NaN</td>\n      <td>NaN</td>\n      <td>NaN</td>\n      <td>NaN</td>\n      <td>NaN</td>\n      <td>NaN</td>\n    </tr>\n    <tr>\n      <th>9</th>\n      <td>1002020</td>\n      <td>São Paulo/SP</td>\n      <td>Centro</td>\n      <td>Viaduto do Chá</td>\n      <td>NaN</td>\n      <td>NaN</td>\n      <td>NaN</td>\n      <td>NaN</td>\n      <td>NaN</td>\n      <td>NaN</td>\n    </tr>\n    <tr>\n      <th>10</th>\n      <td>1002900</td>\n      <td>São Paulo/SP</td>\n      <td>Centro</td>\n      <td>Viaduto do Chá, 15</td>\n      <td>Prefeitura do Município de São Paulo</td>\n      <td>NaN</td>\n      <td>NaN</td>\n      <td>NaN</td>\n      <td>NaN</td>\n      <td>NaN</td>\n    </tr>\n    <tr>\n      <th>11</th>\n      <td>1002901</td>\n      <td>São Paulo/SP</td>\n      <td>Sé</td>\n      <td>Rua Direita, 32</td>\n      <td>Edifício Piratininga</td>\n      <td>NaN</td>\n      <td>NaN</td>\n      <td>NaN</td>\n      <td>NaN</td>\n      <td>NaN</td>\n    </tr>\n    <tr>\n      <th>12</th>\n      <td>1002902</td>\n      <td>São Paulo/SP</td>\n      <td>Sé</td>\n      <td>Rua Direita, 191</td>\n      <td>Edifício Zogbi</td>\n      <td>NaN</td>\n      <td>NaN</td>\n      <td>NaN</td>\n      <td>NaN</td>\n      <td>NaN</td>\n    </tr>\n    <tr>\n      <th>13</th>\n      <td>1002903</td>\n      <td>São Paulo/SP</td>\n      <td>Sé</td>\n      <td>Rua Direita, 250</td>\n      <td>Edifício Barão de Iguape</td>\n      <td>NaN</td>\n      <td>NaN</td>\n      <td>NaN</td>\n      <td>NaN</td>\n      <td>NaN</td>\n    </tr>\n    <tr>\n      <th>14</th>\n      <td>1003000</td>\n      <td>São Paulo/SP</td>\n      <td>Sé</td>\n      <td>Rua José Bonifácio - lado par</td>\n      <td>NaN</td>\n      <td>NaN</td>\n      <td>NaN</td>\n      <td>NaN</td>\n      <td>NaN</td>\n      <td>NaN</td>\n    </tr>\n    <tr>\n      <th>15</th>\n      <td>1003001</td>\n      <td>São Paulo/SP</td>\n      <td>Sé</td>\n      <td>Rua José Bonifácio - lado ímpar</td>\n      <td>NaN</td>\n      <td>NaN</td>\n      <td>NaN</td>\n      <td>NaN</td>\n      <td>NaN</td>\n      <td>NaN</td>\n    </tr>\n    <tr>\n      <th>16</th>\n      <td>1003010</td>\n      <td>São Paulo/SP</td>\n      <td>Sé</td>\n      <td>Praça Ouvidor Pacheco e Silva</td>\n      <td>NaN</td>\n      <td>NaN</td>\n      <td>NaN</td>\n      <td>NaN</td>\n      <td>NaN</td>\n      <td>NaN</td>\n    </tr>\n    <tr>\n      <th>17</th>\n      <td>1003900</td>\n      <td>São Paulo/SP</td>\n      <td>Sé</td>\n      <td>Rua José Bonifácio, 24</td>\n      <td>Edifício Triângulo</td>\n      <td>NaN</td>\n      <td>NaN</td>\n      <td>NaN</td>\n      <td>NaN</td>\n      <td>NaN</td>\n    </tr>\n    <tr>\n      <th>18</th>\n      <td>1003901</td>\n      <td>São Paulo/SP</td>\n      <td>Sé</td>\n      <td>Rua José Bonifácio, 93</td>\n      <td>Edifício Santa Cruz</td>\n      <td>NaN</td>\n      <td>NaN</td>\n      <td>NaN</td>\n      <td>NaN</td>\n      <td>NaN</td>\n    </tr>\n    <tr>\n      <th>19</th>\n      <td>1003902</td>\n      <td>São Paulo/SP</td>\n      <td>Sé</td>\n      <td>Rua José Bonifácio, 209</td>\n      <td>Edifício Brasília</td>\n      <td>NaN</td>\n      <td>NaN</td>\n      <td>NaN</td>\n      <td>NaN</td>\n      <td>NaN</td>\n    </tr>\n  </tbody>\n</table>\n</div>"
     },
     "metadata": {},
     "execution_count": 5
    }
   ],
   "source": [
    "tbl_ceps.head(20)"
   ]
  },
  {
   "cell_type": "code",
   "execution_count": 6,
   "metadata": {},
   "outputs": [],
   "source": [
    "nova_tabela = tbl_ceps['cidades/uf']"
   ]
  },
  {
   "cell_type": "code",
   "execution_count": 7,
   "metadata": {},
   "outputs": [
    {
     "output_type": "execute_result",
     "data": {
      "text/plain": [
       "0    São Paulo/SP\n",
       "1    São Paulo/SP\n",
       "2    São Paulo/SP\n",
       "3    São Paulo/SP\n",
       "4    São Paulo/SP\n",
       "5    São Paulo/SP\n",
       "6    São Paulo/SP\n",
       "7    São Paulo/SP\n",
       "8    São Paulo/SP\n",
       "9    São Paulo/SP\n",
       "Name: cidades/uf, dtype: object"
      ]
     },
     "metadata": {},
     "execution_count": 7
    }
   ],
   "source": [
    "nova_tabela.head(10)"
   ]
  },
  {
   "cell_type": "code",
   "execution_count": 8,
   "metadata": {},
   "outputs": [
    {
     "output_type": "execute_result",
     "data": {
      "text/plain": [
       "0     [São Paulo, SP]\n",
       "1     [São Paulo, SP]\n",
       "2     [São Paulo, SP]\n",
       "3     [São Paulo, SP]\n",
       "4     [São Paulo, SP]\n",
       "5     [São Paulo, SP]\n",
       "6     [São Paulo, SP]\n",
       "7     [São Paulo, SP]\n",
       "8     [São Paulo, SP]\n",
       "9     [São Paulo, SP]\n",
       "10    [São Paulo, SP]\n",
       "11    [São Paulo, SP]\n",
       "12    [São Paulo, SP]\n",
       "13    [São Paulo, SP]\n",
       "14    [São Paulo, SP]\n",
       "15    [São Paulo, SP]\n",
       "16    [São Paulo, SP]\n",
       "17    [São Paulo, SP]\n",
       "18    [São Paulo, SP]\n",
       "19    [São Paulo, SP]\n",
       "20    [São Paulo, SP]\n",
       "21    [São Paulo, SP]\n",
       "22    [São Paulo, SP]\n",
       "23    [São Paulo, SP]\n",
       "24    [São Paulo, SP]\n",
       "25    [São Paulo, SP]\n",
       "26    [São Paulo, SP]\n",
       "27    [São Paulo, SP]\n",
       "28    [São Paulo, SP]\n",
       "29    [São Paulo, SP]\n",
       "30    [São Paulo, SP]\n",
       "31    [São Paulo, SP]\n",
       "32    [São Paulo, SP]\n",
       "33    [São Paulo, SP]\n",
       "34    [São Paulo, SP]\n",
       "35    [São Paulo, SP]\n",
       "36    [São Paulo, SP]\n",
       "37    [São Paulo, SP]\n",
       "38    [São Paulo, SP]\n",
       "39    [São Paulo, SP]\n",
       "40    [São Paulo, SP]\n",
       "41    [São Paulo, SP]\n",
       "42    [São Paulo, SP]\n",
       "43    [São Paulo, SP]\n",
       "44    [São Paulo, SP]\n",
       "45    [São Paulo, SP]\n",
       "46    [São Paulo, SP]\n",
       "47    [São Paulo, SP]\n",
       "48    [São Paulo, SP]\n",
       "49    [São Paulo, SP]\n",
       "Name: cidades/uf, dtype: object"
      ]
     },
     "metadata": {},
     "execution_count": 8
    }
   ],
   "source": [
    "nova_tabela = nova_tabela.str.split(\"/\")\n",
    "nova_tabela.head(50)"
   ]
  },
  {
   "cell_type": "code",
   "execution_count": 9,
   "metadata": {
    "tags": [
     "outputPrepend"
    ]
   },
   "outputs": [
    {
     "output_type": "stream",
     "name": "stdout",
     "text": [
      " 'RS', 'RS', 'RS', 'RS', 'RS', 'RS', 'RS', 'RS', 'RS', 'RS', 'RS', 'RS', 'RS', 'RS', 'RS', 'RS', 'RS', 'RS', 'RS', 'RS', 'RS', 'RS', 'RS', 'RS', 'RS', 'RS', 'RS', 'RS', 'RS', 'RS', 'RS', 'RS', 'RS', 'RS', 'RS', 'RS', 'RS', 'RS', 'RS', 'RS', 'RS', 'RS', 'RS', 'RS', 'RS', 'RS', 'RS', 'RS', 'RS', 'RS', 'RS', 'RS', 'RS', 'RS', 'RS', 'RS', 'RS', 'RS', 'RS', 'RS', 'RS', 'RS', 'RS', 'RS', 'RS', 'RS', 'RS', 'RS', 'RS', 'RS', 'RS', 'RS', 'RS', 'RS', 'RS', 'RS', 'RS', 'RS', 'RS', 'RS', 'RS', 'RS', 'RS', 'RS', 'RS', 'RS', 'RS', 'RS', 'RS', 'RS', 'RS', 'RS', 'RS', 'RS', 'RS', 'RS', 'RS', 'RS', 'RS', 'RS', 'RS', 'RS', 'RS', 'RS', 'RS', 'RS', 'RS', 'RS', 'RS', 'RS', 'RS', 'RS', 'RS', 'RS', 'RS', 'RS', 'RS', 'RS', 'RS', 'RS', 'RS', 'RS', 'RS', 'RS', 'RS', 'RS', 'RS', 'RS', 'RS', 'RS', 'RS', 'RS', 'RS', 'RS', 'RS', 'RS', 'RS', 'RS', 'RS', 'RS', 'RS', 'RS', 'RS', 'RS', 'RS', 'RS', 'RS', 'RS', 'RS', 'RS', 'RS', 'RS', 'RS', 'RS', 'RS', 'RS', 'RS', 'RS', 'RS', 'RS', 'RS', 'RS', 'RS', 'RS', 'RS', 'RS', 'RS', 'RS', 'RS', 'RS', 'RS', 'RS', 'RS', 'RS', 'RS', 'RS', 'RS', 'RS', 'RS', 'RS', 'RS', 'RS', 'RS', 'RS', 'RS', 'RS', 'RS', 'RS', 'RS', 'RS', 'RS', 'RS', 'RS', 'RS', 'RS', 'RS', 'RS', 'RS', 'RS', 'RS', 'RS', 'RS', 'RS', 'RS', 'RS', 'RS', 'RS', 'RS', 'RS', 'RS', 'RS', 'RS', 'RS', 'RS', 'RS', 'RS', 'RS', 'RS', 'RS', 'RS', 'RS', 'RS', 'RS', 'RS', 'RS', 'RS', 'RS', 'RS', 'RS', 'RS', 'RS', 'RS', 'RS', 'RS', 'RS', 'RS', 'RS', 'RS', 'RS', 'RS', 'RS', 'RS', 'RS', 'RS', 'RS', 'RS', 'RS', 'RS', 'RS', 'RS', 'RS', 'RS', 'RS', 'RS', 'RS', 'RS', 'RS', 'RS', 'RS', 'RS', 'RS', 'RS', 'RS', 'RS', 'RS', 'RS', 'RS', 'RS', 'RS', 'RS', 'RS', 'RS', 'RS', 'RS', 'RS', 'RS', 'RS', 'RS', 'RS', 'RS', 'RS', 'RS', 'RS', 'RS', 'RS', 'RS', 'RS', 'RS', 'RS', 'RS', 'RS', 'RS', 'RS', 'RS', 'RS', 'RS', 'RS', 'RS', 'RS', 'RS', 'RS', 'RS', 'RS', 'RS', 'RS', 'RS', 'RS', 'RS', 'RS', 'RS', 'RS', 'RS', 'RS', 'RS', 'RS', 'RS', 'RS', 'RS', 'RS', 'RS', 'RS', 'RS', 'RS', 'RS', 'RS', 'RS', 'RS', 'RS', 'RS', 'RS', 'RS', 'RS', 'RS', 'RS', 'RS', 'RS', 'RS', 'RS', 'RS', 'RS', 'RS', 'RS', 'RS', 'RS', 'RS', 'RS', 'RS', 'RS', 'RS', 'RS', 'RS', 'RS', 'RS', 'RS', 'RS', 'RS', 'RS', 'RS', 'RS', 'RS', 'RS', 'RS', 'RS', 'RS', 'RS', 'RS', 'RS', 'RS', 'RS', 'RS', 'RS', 'RS', 'RS', 'RS', 'RS', 'RS', 'RS', 'RS', 'RS', 'RS', 'RS', 'RS', 'RS', 'RS', 'RS', 'RS', 'RS', 'RS', 'RS', 'RS', 'RS', 'RS', 'RS', 'RS', 'RS', 'RS', 'RS', 'RS', 'RS', 'RS', 'RS', 'RS', 'RS', 'RS', 'RS', 'RS', 'RS', 'RS', 'RS', 'RS', 'RS', 'RS  - Distrito', 'RS  - Distrito', 'RS  - Distrito', 'RS  - Distrito', 'RS  - Distrito', 'RS  - Distrito', 'RS  - Distrito', 'RS  - Distrito', 'RS  - Distrito', 'RS  - Distrito', 'RS  - Distrito', 'RS  - Distrito', 'RS  - Distrito', 'RS  - Distrito', 'RS  - Distrito', 'RS', 'RS', 'RS  - Distrito', 'RS', 'RS', 'RS  - Distrito', 'RS', 'RS', 'RS', 'RS', 'RS', 'RS', 'RS  - Distrito', 'RS  - Distrito', 'RS  - Distrito', 'RS  - Distrito', 'RS  - Distrito', 'RS  - Distrito', 'RS  - Distrito', 'RS', 'RS', 'RS  - Distrito', 'RS  - Distrito', 'RS  - Distrito', 'RS  - Distrito', 'RS  - Distrito', 'RS  - Distrito', 'RS  - Distrito', 'RS  - Distrito', 'RS  - Distrito', 'RS', 'RS', 'RS', 'RS  - Distrito', 'RS', 'RS', 'RS', 'RS', 'RS', 'RS  - Distrito', 'RS  - Distrito', 'RS', 'RS', 'RS  - Distrito', 'RS  - Distrito', 'RS  - Distrito', 'RS  - Distrito', 'RS  - Distrito', 'RS  - Distrito', 'RS  - Distrito', 'RS  - Distrito', 'RS', 'RS', 'RS  - Distrito', 'RS  - Distrito', 'RS  - Distrito', 'RS', 'RS', 'RS', 'RS', 'RS', 'RS', 'RS', 'RS  - Distrito', 'RS  - Distrito', 'RS', 'RS', 'RS  - Distrito', 'RS  - Distrito', 'RS  - Distrito', 'RS', 'RS', 'RS  - Distrito', 'RS', 'RS', 'RS  - Distrito', 'RS  - Distrito', 'RS', 'RS', 'RS', 'RS', 'RS', 'RS', 'RS', 'RS', 'RS  - Distrito', 'RS', 'RS', 'RS', 'RS', 'RS  - Distrito', 'RS  - Distrito', 'RS', 'RS', 'RS', 'RS', 'RS', 'RS', 'RS', 'RS', 'RS', 'RS', 'RS  - Distrito', 'RS', 'RS', 'RS', 'RS', 'RS', 'RS', 'RS', 'RS', 'RS', 'RS', 'RS', 'RS', 'RS', 'RS', 'RS', 'RS', 'RS', 'RS', 'RS', 'RS', 'RS', 'RS', 'RS', 'RS', 'RS', 'RS', 'RS', 'RS', 'RS', 'RS', 'RS', 'RS', 'RS', 'RS', 'RS', 'RS', 'RS', 'RS', 'RS', 'RS', 'RS', 'RS', 'RS', 'RS', 'RS', 'RS', 'RS', 'RS', 'RS', 'RS', 'RS', 'RS', 'RS', 'RS', 'RS', 'RS', 'RS', 'RS', 'RS', 'RS', 'RS', 'RS', 'RS', 'RS', 'RS', 'RS', 'RS', 'RS', 'RS', 'RS', 'RS', 'RS', 'RS', 'RS', 'RS', 'RS', 'RS', 'RS', 'RS', 'RS', 'RS', 'RS', 'RS', 'RS', 'RS', 'RS', 'RS', 'RS', 'RS', 'RS', 'RS', 'RS', 'RS', 'RS', 'RS', 'RS', 'RS', 'RS', 'RS', 'RS', 'RS', 'RS', 'RS', 'RS', 'RS', 'RS', 'RS', 'RS', 'RS', 'RS', 'RS', 'RS', 'RS', 'RS', 'RS', 'RS', 'RS', 'RS', 'RS', 'RS', 'RS', 'RS', 'RS', 'RS', 'RS', 'RS', 'RS', 'RS', 'RS', 'RS', 'RS', 'RS', 'RS', 'RS', 'RS', 'RS', 'RS', 'RS', 'RS', 'RS', 'RS', 'RS', 'RS', 'RS', 'RS', 'RS', 'RS', 'RS', 'RS', 'RS', 'RS', 'RS', 'RS', 'RS', 'RS', 'RS', 'RS', 'RS', 'RS', 'RS', 'RS', 'RS', 'RS', 'RS', 'RS', 'RS', 'RS', 'RS', 'RS', 'RS', 'RS', 'RS', 'RS', 'RS', 'RS', 'RS', 'RS', 'RS', 'RS', 'RS', 'RS', 'RS', 'RS', 'RS', 'RS', 'RS', 'RS', 'RS', 'RS', 'RS', 'RS', 'RS', 'RS', 'RS', 'RS', 'RS', 'RS', 'RS', 'RS', 'RS', 'RS', 'RS', 'RS', 'RS', 'RS', 'RS', 'RS', 'RS', 'RS', 'RS', 'RS', 'RS', 'RS', 'RS', 'RS', 'RS', 'RS', 'RS', 'RS', 'RS', 'RS', 'RS', 'RS', 'RS', 'RS', 'RS', 'RS', 'RS', 'RS', 'RS', 'RS', 'RS', 'RS', 'RS', 'RS', 'RS', 'RS', 'RS', 'RS', 'RS', 'RS', 'RS', 'RS', 'RS', 'RS', 'RS', 'RS', 'RS', 'RS', 'RS', 'RS', 'RS', 'RS', 'RS', 'RS', 'RS', 'RS', 'RS', 'RS', 'RS', 'RS', 'RS', 'RS', 'RS', 'RS', 'RS', 'RS', 'RS', 'RS', 'RS', 'RS', 'RS', 'RS', 'RS', 'RS', 'RS', 'RS', 'RS', 'RS', 'RS', 'RS', 'RS', 'RS', 'RS', 'RS', 'RS', 'RS', 'RS', 'RS', 'RS', 'RS', 'RS', 'RS', 'RS', 'RS', 'RS', 'RS', 'RS', 'RS', 'RS', 'RS', 'RS', 'RS', 'RS', 'RS', 'RS', 'RS', 'RS', 'RS', 'RS', 'RS', 'RS', 'RS', 'RS', 'RS', 'RS', 'RS', 'RS', 'RS', 'RS', 'RS', 'RS', 'RS', 'RS', 'RS', 'RS', 'RS', 'RS', 'RS', 'RS', 'RS', 'RS', 'RS', 'RS', 'RS', 'RS', 'RS', 'RS', 'RS', 'RS', 'RS', 'RS', 'RS', 'RS', 'RS', 'RS', 'RS', 'RS', 'RS', 'RS', 'RS', 'RS', 'RS', 'RS', 'RS', 'RS', 'RS', 'RS', 'RS', 'RS', 'RS', 'RS', 'RS', 'RS', 'RS', 'RS', 'RS', 'RS', 'RS', 'RS', 'RS', 'RS', 'RS', 'RS', 'RS', 'RS', 'RS', 'RS', 'RS', 'RS', 'RS', 'RS', 'RS', 'RS', 'RS', 'RS', 'RS', 'RS', 'RS', 'RS', 'RS', 'RS', 'RS', 'RS', 'RS', 'RS', 'RS', 'RS', 'RS', 'RS', 'RS', 'RS', 'RS', 'RS', 'RS', 'RS', 'RS', 'RS', 'RS', 'RS', 'RS', 'RS', 'RS', 'RS', 'RS', 'RS', 'RS', 'RS', 'RS', 'RS', 'RS', 'RS', 'RS', 'RS', 'RS', 'RS', 'RS', 'RS', 'RS', 'RS', 'RS', 'RS', 'RS', 'RS', 'RS', 'RS', 'RS', 'RS', 'RS', 'RS', 'RS', 'RS', 'RS', 'RS', 'RS', 'RS', 'RS', 'RS', 'RS', 'RS', 'RS', 'RS', 'RS', 'RS', 'RS', 'RS', 'RS', 'RS', 'RS', 'RS', 'RS', 'RS', 'RS', 'RS', 'RS', 'RS', 'RS', 'RS', 'RS', 'RS', 'RS', 'RS', 'RS', 'RS', 'RS', 'RS', 'RS', 'RS', 'RS', 'RS', 'RS', 'RS', 'RS', 'RS', 'RS', 'RS', 'RS', 'RS', 'RS', 'RS', 'RS', 'RS', 'RS', 'RS', 'RS', 'RS', 'RS', 'RS', 'RS', 'RS', 'RS', 'RS', 'RS', 'RS', 'RS', 'RS', 'RS', 'RS', 'RS', 'RS', 'RS', 'RS', 'RS', 'RS', 'RS', 'RS', 'RS', 'RS', 'RS', 'RS', 'RS', 'RS', 'RS', 'RS', 'RS', 'RS', 'RS', 'RS', 'RS', 'RS', 'RS', 'RS', 'RS', 'RS', 'RS', 'RS', 'RS', 'RS', 'RS', 'RS', 'RS', 'RS', 'RS', 'RS', 'RS', 'RS', 'RS', 'RS', 'RS', 'RS', 'RS', 'RS', 'RS', 'RS', 'RS', 'RS', 'RS', 'RS', 'RS', 'RS', 'RS', 'RS', 'RS', 'RS', 'RS', 'RS', 'RS', 'RS', 'RS', 'RS', 'RS', 'RS', 'RS', 'RS', 'RS', 'RS', 'RS', 'RS', 'RS', 'RS', 'RS', 'RS', 'RS', 'RS', 'RS', 'RS', 'RS', 'RS', 'RS', 'RS', 'RS', 'RS', 'RS', 'RS', 'RS', 'RS', 'RS', 'RS', 'RS', 'RS', 'RS', 'RS', 'RS', 'RS', 'RS', 'RS', 'RS', 'RS', 'RS', 'RS', 'RS', 'RS', 'RS', 'RS', 'RS', 'RS', 'RS', 'RS', 'RS', 'RS', 'RS', 'RS', 'RS', 'RS', 'RS', 'RS', 'RS', 'RS', 'RS', 'RS', 'RS', 'RS', 'RS', 'RS', 'RS', 'RS', 'RS', 'RS', 'RS', 'RS', 'RS', 'RS', 'RS', 'RS', 'RS', 'RS', 'RS', 'RS', 'RS', 'RS', 'RS', 'RS', 'RS', 'RS', 'RS', 'RS', 'RS', 'RS', 'RS', 'RS', 'RS', 'RS', 'RS', 'RS', 'RS', 'RS', 'RS', 'RS', 'RS', 'RS', 'RS', 'RS', 'RS', 'RS', 'RS', 'RS', 'RS', 'RS', 'RS', 'RS', 'RS', 'RS', 'RS', 'RS', 'RS', 'RS', 'RS', 'RS', 'RS', 'RS', 'RS', 'RS', 'RS', 'RS', 'RS', 'RS', 'RS', 'RS', 'RS', 'RS', 'RS', 'RS', 'RS', 'RS', 'RS', 'RS', 'RS', 'RS', 'RS', 'RS', 'RS', 'RS', 'RS', 'RS', 'RS', 'RS', 'RS', 'RS', 'RS', 'RS', 'RS', 'RS', 'RS', 'RS', 'RS', 'RS', 'RS', 'RS', 'RS', 'RS', 'RS', 'RS', 'RS', 'RS', 'RS', 'RS', 'RS', 'RS', 'RS', 'RS', 'RS', 'RS', 'RS', 'RS', 'RS', 'RS', 'RS', 'RS', 'RS', 'RS', 'RS', 'RS', 'RS', 'RS', 'RS', 'RS', 'RS', 'RS', 'RS', 'RS', 'RS', 'RS', 'RS', 'RS', 'RS', 'RS', 'RS', 'RS', 'RS', 'RS', 'RS', 'RS', 'RS', 'RS', 'RS', 'RS', 'RS', 'RS', 'RS', 'RS', 'RS', 'RS', 'RS', 'RS', 'RS', 'RS', 'RS', 'RS', 'RS', 'RS', 'RS', 'RS', 'RS', 'RS', 'RS', 'RS', 'RS', 'RS', 'RS', 'RS', 'RS', 'RS', 'RS', 'RS', 'RS', 'RS', 'RS', 'RS', 'RS', 'RS', 'RS', 'RS', 'RS', 'RS', 'RS', 'RS', 'RS', 'RS', 'RS', 'RS', 'RS', 'RS', 'RS', 'RS', 'RS', 'RS', 'RS', 'RS', 'RS', 'RS', 'RS', 'RS', 'RS', 'RS', 'RS', 'RS', 'RS', 'RS', 'RS', 'RS', 'RS', 'RS', 'RS', 'RS', 'RS', 'RS', 'RS', 'RS', 'RS', 'RS', 'RS', 'RS', 'RS', 'RS', 'RS', 'RS', 'RS', 'RS', 'RS', 'RS', 'RS', 'RS', 'RS', 'RS', 'RS', 'RS', 'RS', 'RS', 'RS', 'RS', 'RS', 'RS', 'RS', 'RS', 'RS', 'RS', 'RS', 'RS', 'RS', 'RS', 'RS', 'RS', 'RS', 'RS', 'RS', 'RS', 'RS', 'RS', 'RS', 'RS', 'RS', 'RS', 'RS', 'RS', 'RS', 'RS', 'RS', 'RS', 'RS', 'RS', 'RS', 'RS', 'RS', 'RS', 'RS', 'RS', 'RS', 'RS', 'RS', 'RS', 'RS', 'RS', 'RS', 'RS', 'RS', 'RS', 'RS', 'RS', 'RS', 'RS', 'RS', 'RS', 'RS', 'RS', 'RS', 'RS', 'RS', 'RS', 'RS', 'RS', 'RS', 'RS', 'RS', 'RS', 'RS', 'RS', 'RS', 'RS', 'RS', 'RS', 'RS', 'RS', 'RS', 'RS', 'RS', 'RS', 'RS', 'RS', 'RS', 'RS', 'RS', 'RS', 'RS', 'RS', 'RS', 'RS', 'RS', 'RS', 'RS', 'RS', 'RS', 'RS', 'RS', 'RS', 'RS', 'RS', 'RS', 'RS', 'RS', 'RS', 'RS', 'RS', 'RS', 'RS', 'RS', 'RS', 'RS', 'RS', 'RS', 'RS', 'RS', 'RS', 'RS', 'RS', 'RS', 'RS', 'RS', 'RS', 'RS', 'RS', 'RS', 'RS', 'RS', 'RS', 'RS', 'RS', 'RS', 'RS', 'RS', 'RS', 'RS', 'RS', 'RS', 'RS', 'RS', 'RS', 'RS', 'RS', 'RS', 'RS', 'RS', 'RS', 'RS', 'RS', 'RS', 'RS', 'RS', 'RS', 'RS', 'RS', 'RS', 'RS', 'RS', 'RS', 'RS', 'RS', 'RS', 'RS', 'RS', 'RS', 'RS', 'RS', 'RS', 'RS', 'RS', 'RS', 'RS', 'RS', 'RS', 'RS', 'RS', 'RS', 'RS', 'RS', 'RS', 'RS', 'RS', 'RS', 'RS', 'RS', 'RS', 'RS', 'RS', 'RS', 'RS', 'RS', 'RS', 'RS', 'RS', 'RS', 'RS', 'RS', 'RS', 'RS', 'RS', 'RS', 'RS', 'RS', 'RS', 'RS', 'RS', 'RS', 'RS', 'RS', 'RS', 'RS', 'RS', 'RS', 'RS', 'RS', 'RS', 'RS', 'RS', 'RS', 'RS', 'RS', 'RS', 'RS', 'RS', 'RS', 'RS', 'RS', 'RS', 'RS', 'RS', 'RS', 'RS', 'RS', 'RS', 'RS', 'RS', 'RS', 'RS', 'RS', 'RS', 'RS', 'RS', 'RS', 'RS', 'RS', 'RS', 'RS', 'RS', 'RS', 'RS', 'RS', 'RS', 'RS', 'RS', 'RS', 'RS', 'RS', 'RS', 'RS', 'RS', 'RS', 'RS', 'RS', 'RS', 'RS', 'RS', 'RS', 'RS', 'RS', 'RS', 'RS', 'RS', 'RS', 'RS', 'RS', 'RS', 'RS', 'RS', 'RS', 'RS', 'RS', 'RS', 'RS', 'RS', 'RS', 'RS', 'RS', 'RS', 'RS', 'RS', 'RS', 'RS', 'RS', 'RS', 'RS', 'RS', 'RS', 'RS', 'RS', 'RS', 'RS', 'RS', 'RS', 'RS', 'RS', 'RS', 'RS', 'RS', 'RS', 'RS', 'RS', 'RS', 'RS', 'RS', 'RS', 'RS', 'RS', 'RS', 'RS', 'RS', 'RS', 'RS', 'RS', 'RS', 'RS', 'RS', 'RS', 'RS', 'RS', 'RS', 'RS', 'RS', 'RS', 'RS', 'RS', 'RS', 'RS', 'RS', 'RS', 'RS', 'RS', 'RS', 'RS', 'RS', 'RS', 'RS', 'RS', 'RS', 'RS', 'RS', 'RS', 'RS', 'RS', 'RS', 'RS', 'RS', 'RS', 'RS', 'RS', 'RS', 'RS', 'RS', 'RS', 'RS', 'RS', 'RS', 'RS', 'RS', 'RS', 'RS', 'RS', 'RS', 'RS', 'RS', 'RS', 'RS', 'RS', 'RS', 'RS', 'RS', 'RS', 'RS', 'RS', 'RS', 'RS', 'RS', 'RS', 'RS', 'RS', 'RS', 'RS', 'RS', 'RS', 'RS', 'RS', 'RS', 'RS', 'RS', 'RS', 'RS', 'RS', 'RS', 'RS', 'RS', 'RS', 'RS', 'RS', 'RS', 'RS', 'RS', 'RS', 'RS', 'RS', 'RS', 'RS', 'RS', 'RS', 'RS', 'RS', 'RS', 'RS', 'RS', 'RS', 'RS', 'RS', 'RS', 'RS', 'RS', 'RS', 'RS', 'RS', 'RS', 'RS', 'RS', 'RS', 'RS', 'RS', 'RS', 'RS', 'RS', 'RS', 'RS', 'RS', 'RS', 'RS', 'RS', 'RS', 'RS', 'RS', 'RS', 'RS', 'RS', 'RS', 'RS', 'RS', 'RS', 'RS', 'RS', 'RS', 'RS', 'RS', 'RS', 'RS', 'RS', 'RS', 'RS', 'RS', 'RS', 'RS', 'RS', 'RS', 'RS', 'RS', 'RS', 'RS', 'RS', 'RS', 'RS', 'RS', 'RS', 'RS', 'RS', 'RS', 'RS', 'RS', 'RS', 'RS', 'RS', 'RS', 'RS', 'RS', 'RS', 'RS', 'RS', 'RS', 'RS', 'RS', 'RS', 'RS', 'RS', 'RS', 'RS', 'RS', 'RS', 'RS', 'RS', 'RS', 'RS', 'RS', 'RS', 'RS', 'RS', 'RS', 'RS', 'RS', 'RS', 'RS', 'RS', 'RS', 'RS', 'RS', 'RS', 'RS', 'RS', 'RS', 'RS', 'RS', 'RS', 'RS', 'RS', 'RS', 'RS', 'RS', 'RS', 'RS', 'RS', 'RS', 'RS', 'RS', 'RS', 'RS', 'RS', 'RS', 'RS', 'RS', 'RS', 'RS', 'RS', 'RS', 'RS', 'RS', 'RS', 'RS', 'RS', 'RS', 'RS', 'RS', 'RS', 'RS', 'RS', 'RS', 'RS', 'RS', 'RS', 'RS', 'RS', 'RS', 'RS', 'RS', 'RS', 'RS', 'RS', 'RS', 'RS', 'RS', 'RS', 'RS', 'RS', 'RS', 'RS', 'RS', 'RS', 'RS', 'RS', 'RS', 'RS', 'RS', 'RS', 'RS', 'RS', 'RS', 'RS', 'RS', 'RS', 'RS', 'RS', 'RS', 'RS', 'RS', 'RS', 'RS', 'RS', 'RS', 'RS', 'RS', 'RS', 'RS', 'RS', 'RS', 'RS', 'RS', 'RS', 'RS', 'RS', 'RS', 'RS', 'RS', 'RS', 'RS', 'RS', 'RS', 'RS', 'RS', 'RS', 'RS', 'RS', 'RS', 'RS', 'RS', 'RS', 'RS', 'RS', 'RS', 'RS', 'RS', 'RS', 'RS', 'RS', 'RS', 'RS  - Distrito', 'RS  - Distrito', 'RS  - Distrito', 'RS  - Distrito', 'RS  - Distrito', 'RS', 'RS', 'RS', 'RS', 'RS', 'RS', 'RS', 'RS', 'RS  - Distrito', 'RS  - Distrito', 'RS  - Distrito', 'RS  - Distrito', 'RS', 'RS', 'RS', 'RS', 'RS  - Distrito', 'RS', 'RS', 'RS', 'RS', 'RS', 'RS  - Distrito', 'RS', 'RS', 'RS', 'RS', 'RS  - Distrito', 'RS  - Distrito', 'RS', 'RS', 'RS', 'RS', 'RS  - Distrito', 'RS  - Distrito', 'RS', 'RS', 'RS', 'RS', 'RS', 'RS  - Distrito', 'RS', 'RS', 'RS', 'RS', 'RS  - Distrito', 'RS  - Distrito', 'RS  - Distrito', 'RS', 'RS', 'RS  - Distrito', 'RS', 'RS', 'RS', 'RS', 'RS', 'RS  - Distrito', 'RS  - Distrito', 'RS', 'RS', 'RS', 'RS', 'RS', 'RS', 'RS  - Distrito', 'RS', 'RS', 'RS', 'RS', 'RS', 'RS', 'RS  - Distrito', 'RS  - Distrito', 'RS  - Distrito', 'RS  - Distrito', 'RS', 'RS', 'RS', 'RS', 'RS', 'RS', 'RS', 'RS  - Distrito', 'RS  - Distrito', 'RS  - Distrito', 'RS  - Distrito', 'RS  - Distrito', 'RS', 'RS', 'RS', 'RS', 'RS', 'RS', 'RS  - Distrito', 'RS  - Distrito', 'RS  - Distrito', 'RS  - Distrito', 'RS', 'RS', 'RS', 'RS', 'RS', 'RS', 'RS', 'RS  - Distrito', 'RS  - Distrito', 'RS  - Distrito', 'RS  - Distrito', 'RS  - Distrito', 'RS  - Distrito', 'RS', 'RS', 'RS', 'RS', 'RS', 'RS  - Distrito', 'RS  - Distrito', 'RS  - Distrito', 'RS  - Distrito', 'RS  - Distrito', 'RS  - Distrito', 'RS  - Distrito', 'RS  - Distrito', 'RS', 'RS', 'RS  - Distrito', 'RS  - Distrito', 'RS  - Distrito', 'RS  - Distrito', 'RS', 'RS', 'RS  - Distrito', 'RS  - Distrito', 'RS  - Distrito', 'RS  - Distrito', 'RS  - Distrito', 'RS  - Distrito', 'RS', 'RS', 'RS  - Distrito', 'RS  - Distrito', 'RS  - Distrito', 'RS  - Distrito', 'RS  - Distrito', 'RS  - Distrito', 'RS  - Distrito', 'RS  - Distrito', 'RS', 'RS', 'RS  - Distrito', 'RS  - Distrito', 'RS', 'RS', 'RS', 'RS', 'RS  - Distrito', 'RS  - Distrito', 'RS', 'RS', 'RS  - Distrito', 'RS', 'RS', 'RS', 'RS  - Distrito', 'RS  - Distrito', 'RS', 'RS', 'RS  - Distrito', 'RS', 'RS', 'RS', 'RS', 'RS  - Distrito', 'RS  - Distrito', 'RS  - Distrito', 'RS  - Distrito', 'RS  - Distrito', 'RS  - Distrito', 'RS  - Distrito', 'RS', 'RS', 'RS', 'RS  - Distrito', 'RS  - Distrito', 'RS', 'RS', 'RS  - Distrito', 'RS', 'RS', 'RS', 'RS  - Distrito', 'RS  - Distrito', 'RS  - Distrito', 'RS  - Distrito', 'RS', 'RS', 'RS  - Distrito', 'RS  - Distrito', 'RS  - Distrito', 'RS  - Distrito', 'RS  - Distrito', 'RS  - Distrito', 'RS  - Distrito', 'RS  - Distrito', 'RS  - Distrito', 'RS', 'RS', 'RS  - Distrito', 'RS  - Distrito', 'RS', 'RS', 'RS', 'RS', 'RS', 'RS', 'RS', 'RS', 'RS', 'RS', 'RS', 'RS', 'RS', 'RS', 'RS  - Distrito', 'RS', 'RS', 'RS', 'RS', 'RS', 'RS', 'RS', 'RS', 'RS', 'RS', 'RS', 'RS', 'RS', 'RS', 'RS', 'RS', 'RS', 'RS  - Distrito', 'RS', 'RS', 'RS  - Distrito', 'RS  - Distrito', 'RS', 'RS', 'RS', 'RS', 'RS', 'RS', 'RS  - Distrito', 'RS  - Distrito', 'RS  - Distrito', 'RS', 'RS', 'RS', 'RS', 'RS  - Distrito', 'RS  - Distrito', 'RS', 'RS', 'RS', 'RS', 'RS', 'RS', 'RS', 'RS', 'RS', 'RS', 'RS', 'RS', 'RS', 'RS', 'RS', 'RS', 'RS', 'RS', 'RS', 'RS', 'RS', 'RS', 'RS', 'RS', 'RS', 'RS', 'RS', 'RS', 'RS', 'RS', 'RS', 'RS', 'RS', 'RS', 'RS', 'RS', 'RS', 'RS', 'RS', 'RS', 'RS', 'RS', 'RS', 'RS', 'RS', 'RS', 'RS', 'RS', 'RS', 'RS', 'RS', 'RS', 'RS', 'RS', 'RS', 'RS', 'RS', 'RS', 'RS', 'RS', 'RS', 'RS', 'RS', 'RS', 'RS', 'RS', 'RS', 'RS', 'RS', 'RS', 'RS', 'RS', 'RS', 'RS', 'RS', 'RS', 'RS', 'RS', 'RS', 'RS', 'RS', 'RS', 'RS', 'RS', 'RS', 'RS', 'RS', 'RS', 'RS', 'RS', 'RS', 'RS', 'RS', 'RS', 'RS', 'RS', 'RS', 'RS', 'RS', 'RS', 'RS', 'RS', 'RS', 'RS', 'RS', 'RS', 'RS', 'RS', 'RS', 'RS', 'RS', 'RS', 'RS', 'RS', 'RS', 'RS', 'RS', 'RS', 'RS', 'RS', 'RS', 'RS', 'RS', 'RS', 'RS', 'RS', 'RS', 'RS', 'RS', 'RS', 'RS', 'RS', 'RS', 'RS', 'RS', 'RS', 'RS', 'RS', 'RS', 'RS', 'RS', 'RS', 'RS', 'RS', 'RS', 'RS', 'RS', 'RS', 'RS', 'RS', 'RS', 'RS', 'RS', 'RS', 'RS', 'RS', 'RS', 'RS', 'RS', 'RS', 'RS', 'RS', 'RS', 'RS', 'RS', 'RS', 'RS', 'RS', 'RS', 'RS', 'RS', 'RS', 'RS', 'RS', 'RS', 'RS', 'RS', 'RS', 'RS', 'RS', 'RS', 'RS', 'RS', 'RS', 'RS', 'RS', 'RS', 'RS', 'RS', 'RS', 'RS', 'RS', 'RS', 'RS', 'RS', 'RS', 'RS', 'RS', 'RS', 'RS', 'RS', 'RS', 'RS', 'RS', 'RS', 'RS', 'RS', 'RS', 'RS', 'RS', 'RS', 'RS', 'RS', 'RS', 'RS', 'RS', 'RS', 'RS', 'RS', 'RS', 'RS', 'RS', 'RS', 'RS', 'RS', 'RS', 'RS', 'RS', 'RS', 'RS', 'RS', 'RS', 'RS', 'RS', 'RS', 'RS', 'RS', 'RS', 'RS', 'RS', 'RS', 'RS', 'RS', 'RS', 'RS', 'RS', 'RS', 'RS', 'RS', 'RS', 'RS', 'RS', 'RS', 'RS', 'RS', 'RS', 'RS', 'RS', 'RS', 'RS', 'RS', 'RS', 'RS', 'RS', 'RS', 'RS', 'RS', 'RS', 'RS', 'RS', 'RS', 'RS', 'RS', 'RS', 'RS', 'RS', 'RS', 'RS', 'RS', 'RS', 'RS', 'RS', 'RS', 'RS', 'RS', 'RS', 'RS', 'RS', 'RS', 'RS', 'RS', 'RS', 'RS', 'RS', 'RS', 'RS', 'RS', 'RS', 'RS', 'RS', 'RS', 'RS', 'RS', 'RS', 'RS', 'RS', 'RS', 'RS', 'RS', 'RS', 'RS', 'RS', 'RS', 'RS', 'RS', 'RS', 'RS', 'RS', 'RS', 'RS', 'RS', 'RS', 'RS', 'RS', 'RS', 'RS', 'RS', 'RS', 'RS', 'RS', 'RS', 'RS', 'RS', 'RS', 'RS', 'RS', 'RS', 'RS', 'RS', 'RS', 'RS', 'RS', 'RS', 'RS', 'RS', 'RS', 'RS', 'RS', 'RS', 'RS', 'RS', 'RS', 'RS', 'RS', 'RS', 'RS', 'RS', 'RS', 'RS', 'RS', 'RS', 'RS', 'RS', 'RS', 'RS', 'RS', 'RS', 'RS', 'RS', 'RS', 'RS', 'RS', 'RS', 'RS', 'RS', 'RS', 'RS', 'RS', 'RS', 'RS', 'RS', 'RS', 'RS', 'RS', 'RS', 'RS', 'RS', 'RS', 'RS', 'RS', 'RS', 'RS', 'RS', 'RS', 'RS', 'RS', 'RS', 'RS', 'RS', 'RS', 'RS', 'RS', 'RS', 'RS', 'RS', 'RS', 'RS', 'RS', 'RS', 'RS', 'RS', 'RS', 'RS', 'RS', 'RS', 'RS', 'RS', 'RS', 'RS', 'RS', 'RS', 'RS', 'RS', 'RS', 'RS', 'RS', 'RS', 'RS', 'RS', 'RS', 'RS', 'RS', 'RS', 'RS', 'RS', 'RS', 'RS', 'RS', 'RS', 'RS', 'RS', 'RS', 'RS', 'RS', 'RS', 'RS', 'RS', 'RS', 'RS', 'RS', 'RS', 'RS  - Distrito', 'RS  - Distrito', 'RS  - Distrito', 'RS  - Distrito', 'RS', 'RS', 'RS', 'RS', 'RS', 'RS', 'RS', 'RS  - Distrito', 'RS', 'RS', 'RS', 'RS', 'RS  - Distrito', 'RS', 'RS', 'RS', 'RS', 'RS  - Distrito', 'RS  - Distrito', 'RS  - Distrito', 'RS  - Distrito', 'RS', 'RS', 'RS  - Distrito', 'RS  - Distrito', 'RS  - Distrito', 'RS  - Distrito', 'RS  - Distrito', 'RS  - Distrito', 'RS', 'RS', 'RS', 'RS  - Distrito', 'RS  - Distrito', 'RS  - Distrito', 'RS  - Distrito', 'RS  - Distrito', 'RS  - Distrito', 'RS', 'RS', 'RS', 'RS', 'RS', 'RS', 'RS  - Distrito', 'RS  - Distrito', 'RS', 'RS', 'RS  - Distrito', 'RS', 'RS', 'RS', 'RS', 'RS', 'RS', 'RS  - Distrito', 'RS', 'RS', 'RS', 'RS', 'RS', 'RS', 'RS', 'RS  - Distrito', 'RS', 'RS', 'RS', 'RS', 'RS', 'RS', 'RS  - Distrito', 'RS', 'RS', 'RS  - Distrito', 'RS  - Distrito', 'RS  - Distrito', 'RS  - Distrito', 'RS  - Distrito', 'RS  - Distrito', 'RS  - Distrito', 'RS  - Distrito', 'RS  - Distrito', 'RS  - Distrito', 'RS', 'RS', 'RS', 'RS', 'RS  - Distrito', 'RS', 'RS', 'RS', 'RS', 'RS', 'RS', 'RS  - Distrito', 'RS  - Distrito', 'RS  - Distrito', 'RS  - Distrito', 'RS', 'RS', 'RS', 'RS', 'RS', 'RS', 'RS', 'RS', 'RS', 'RS', 'RS', 'RS  - Distrito', 'RS  - Distrito', 'RS  - Distrito', 'RS', 'RS', 'RS', 'RS  - Distrito', 'RS', 'RS', 'RS', 'RS', 'RS', 'RS', 'RS', 'RS', 'RS  - Distrito', 'RS  - Distrito', 'RS  - Distrito', 'RS', 'RS', 'RS  - Distrito', 'RS  - Distrito', 'RS  - Distrito', 'RS', 'RS', 'RS']}\n"
     ]
    }
   ],
   "source": [
    "dic = {}\n",
    "cidades = []\n",
    "uf = []\n",
    "for i in range(len(nova_tabela)):\n",
    "    cidades.append(nova_tabela[i][0])\n",
    "    uf.append(nova_tabela[i][1])\n",
    "\n",
    "dic['Cidade'] = cidades\n",
    "dic['Uf'] = uf\n",
    "\n",
    "print(dic)\n"
   ]
  },
  {
   "cell_type": "code",
   "execution_count": 10,
   "metadata": {},
   "outputs": [],
   "source": [
    "df = pd.DataFrame(dic)"
   ]
  },
  {
   "cell_type": "code",
   "execution_count": 11,
   "metadata": {},
   "outputs": [
    {
     "output_type": "execute_result",
     "data": {
      "text/plain": [
       "       Cidade  Uf\n",
       "0   São Paulo  SP\n",
       "1   São Paulo  SP\n",
       "2   São Paulo  SP\n",
       "3   São Paulo  SP\n",
       "4   São Paulo  SP\n",
       "..        ...  ..\n",
       "95  São Paulo  SP\n",
       "96  São Paulo  SP\n",
       "97  São Paulo  SP\n",
       "98  São Paulo  SP\n",
       "99  São Paulo  SP\n",
       "\n",
       "[100 rows x 2 columns]"
      ],
      "text/html": "<div>\n<style scoped>\n    .dataframe tbody tr th:only-of-type {\n        vertical-align: middle;\n    }\n\n    .dataframe tbody tr th {\n        vertical-align: top;\n    }\n\n    .dataframe thead th {\n        text-align: right;\n    }\n</style>\n<table border=\"1\" class=\"dataframe\">\n  <thead>\n    <tr style=\"text-align: right;\">\n      <th></th>\n      <th>Cidade</th>\n      <th>Uf</th>\n    </tr>\n  </thead>\n  <tbody>\n    <tr>\n      <th>0</th>\n      <td>São Paulo</td>\n      <td>SP</td>\n    </tr>\n    <tr>\n      <th>1</th>\n      <td>São Paulo</td>\n      <td>SP</td>\n    </tr>\n    <tr>\n      <th>2</th>\n      <td>São Paulo</td>\n      <td>SP</td>\n    </tr>\n    <tr>\n      <th>3</th>\n      <td>São Paulo</td>\n      <td>SP</td>\n    </tr>\n    <tr>\n      <th>4</th>\n      <td>São Paulo</td>\n      <td>SP</td>\n    </tr>\n    <tr>\n      <th>...</th>\n      <td>...</td>\n      <td>...</td>\n    </tr>\n    <tr>\n      <th>95</th>\n      <td>São Paulo</td>\n      <td>SP</td>\n    </tr>\n    <tr>\n      <th>96</th>\n      <td>São Paulo</td>\n      <td>SP</td>\n    </tr>\n    <tr>\n      <th>97</th>\n      <td>São Paulo</td>\n      <td>SP</td>\n    </tr>\n    <tr>\n      <th>98</th>\n      <td>São Paulo</td>\n      <td>SP</td>\n    </tr>\n    <tr>\n      <th>99</th>\n      <td>São Paulo</td>\n      <td>SP</td>\n    </tr>\n  </tbody>\n</table>\n<p>100 rows × 2 columns</p>\n</div>"
     },
     "metadata": {},
     "execution_count": 11
    }
   ],
   "source": [
    "df.head(100)"
   ]
  },
  {
   "cell_type": "code",
   "execution_count": 12,
   "metadata": {},
   "outputs": [],
   "source": [
    "uf = df['Uf']"
   ]
  },
  {
   "cell_type": "code",
   "execution_count": 13,
   "metadata": {},
   "outputs": [
    {
     "output_type": "execute_result",
     "data": {
      "text/plain": [
       "0                     SP\n",
       "1                     SP\n",
       "2                     SP\n",
       "3                     SP\n",
       "4                     SP\n",
       "               ...      \n",
       "732758    RS  - Distrito\n",
       "732759    RS  - Distrito\n",
       "732760                RS\n",
       "732761                RS\n",
       "732762                RS\n",
       "Name: Uf, Length: 732763, dtype: object"
      ]
     },
     "metadata": {},
     "execution_count": 13
    }
   ],
   "source": [
    "uf"
   ]
  },
  {
   "cell_type": "code",
   "execution_count": 14,
   "metadata": {},
   "outputs": [],
   "source": [
    "df['Uf'].replace(to_replace = \"RS  - Distrito\", value =\"RS\",inplace=True)\n",
    "df['Uf'].replace(to_replace = \"SP  - Distrito\", value =\"SP\",inplace=True)\n",
    "df['Uf'].replace(to_replace = \"AC  - Distrito\", value =\"AC\",inplace=True)\n",
    "df['Uf'].replace(to_replace = \"AL  - Distrito\", value =\"AL\",inplace=True)\n",
    "df['Uf'].replace(to_replace = \"AL  - Povoado\", value =\"AL\",inplace=True)\n",
    "df['Uf'].replace(to_replace = \"AM  - Distrito\", value =\"AM\",inplace=True)\n",
    "df['Uf'].replace(to_replace = \"AM  - Povoado\", value =\"AM\",inplace=True)\n",
    "df['Uf'].replace(to_replace = \"AP  - Distrito\", value =\"AP\",inplace=True)\n",
    "df['Uf'].replace(to_replace = \"AP  - Povoado\", value =\"AP\",inplace=True)\n",
    "df['Uf'].replace(to_replace = \"BA  - Distrito\", value =\"BA\",inplace=True)\n",
    "df['Uf'].replace(to_replace = \"BA  - Povoado\", value =\"BA\",inplace=True)\n",
    "df['Uf'].replace(to_replace = \"CE  - Distrito\", value =\"CE\",inplace=True)\n",
    "df['Uf'].replace(to_replace = \"CE  - Povoado\", value =\"CE\",inplace=True)\n",
    "df['Uf'].replace(to_replace = \"ES  - Distrito\", value =\"ES\",inplace=True)\n",
    "df['Uf'].replace(to_replace = \"ES  - Povoado\", value =\"ES\",inplace=True)\n",
    "df['Uf'].replace(to_replace = \"GO  - Distrito\", value =\"GO\",inplace=True)\n",
    "df['Uf'].replace(to_replace = \"GO  - Povoado\", value =\"GO\",inplace=True)\n",
    "df['Uf'].replace(to_replace = \"MA  - Distrito\", value =\"MA\",inplace=True)\n",
    "df['Uf'].replace(to_replace = \"MA  - Povoado\", value =\"MA\",inplace=True)\n",
    "df['Uf'].replace(to_replace = \"MG  - Distrito\", value =\"MG\",inplace=True)\n",
    "df['Uf'].replace(to_replace = \"MG  - Povoado\", value =\"MG\",inplace=True)\n",
    "df['Uf'].replace(to_replace = \"MS  - Distrito\", value =\"MS\",inplace=True)\n",
    "df['Uf'].replace(to_replace = \"MT  - Distrito\", value =\"MT\",inplace=True)\n",
    "df['Uf'].replace(to_replace = \"MT  - Povoado\", value =\"MT\",inplace=True)\n",
    "df['Uf'].replace(to_replace = \"PA  - Distrito\", value =\"PA\",inplace=True)\n",
    "df['Uf'].replace(to_replace = \"PA  - Povoado\", value =\"PA\",inplace=True)\n",
    "df['Uf'].replace(to_replace = \"PB  - Distrito\", value =\"PB\",inplace=True)\n",
    "df['Uf'].replace(to_replace = \"PB  - Povoado\", value =\"PB\",inplace=True)\n",
    "df['Uf'].replace(to_replace = \"PE  - Distrito\", value =\"PE\",inplace=True)\n",
    "df['Uf'].replace(to_replace = \"PE  - Povoado\", value =\"PE\",inplace=True)\n",
    "df['Uf'].replace(to_replace = \"PI  - Povoado\", value =\"PI\",inplace=True)\n",
    "df['Uf'].replace(to_replace = \"PR  - Distrito\", value =\"PR\",inplace=True)\n",
    "df['Uf'].replace(to_replace = \"PR  - Povoado\", value =\"PR\",inplace=True)\n",
    "df['Uf'].replace(to_replace = \"RJ  - Distrito\", value =\"RJ\",inplace=True)\n",
    "df['Uf'].replace(to_replace = \"RJ  - Povoado\", value =\"RJ\",inplace=True)\n",
    "df['Uf'].replace(to_replace = \"RN  - Distrito\", value =\"RN\",inplace=True)\n",
    "df['Uf'].replace(to_replace = \"RN  - Povoado\", value =\"RN\",inplace=True)\n",
    "df['Uf'].replace(to_replace = \"RO  - Distrito\", value =\"RO\",inplace=True)\n",
    "df['Uf'].replace(to_replace = \"RO  - Povoado\", value =\"RO\",inplace=True)\n",
    "df['Uf'].replace(to_replace = \"RR  - Distrito\", value =\"RR\",inplace=True)\n",
    "df['Uf'].replace(to_replace = \"RS  - Povoado\", value =\"RS\",inplace=True)\n",
    "df['Uf'].replace(to_replace = \"SC  - Distrito\", value =\"SC\",inplace=True)\n",
    "df['Uf'].replace(to_replace = \"SE  - Distrito\", value =\"SE\",inplace=True)\n",
    "df['Uf'].replace(to_replace = \"SP  - Povoado\", value =\"SP\",inplace=True)\n",
    "df['Uf'].replace(to_replace = \"TO  - Distrito\", value =\"TO\",inplace=True)\n",
    "df['Uf'].replace(to_replace = \"TO  - Povoado\", value =\"TO\",inplace=True)\n"
   ]
  },
  {
   "cell_type": "code",
   "execution_count": 15,
   "metadata": {},
   "outputs": [
    {
     "output_type": "execute_result",
     "data": {
      "text/plain": [
       "                          Cidade  Uf\n",
       "0                      São Paulo  SP\n",
       "1                      São Paulo  SP\n",
       "2                      São Paulo  SP\n",
       "3                      São Paulo  SP\n",
       "4                      São Paulo  SP\n",
       "...                          ...  ..\n",
       "732758  São João Bosco (Ciríaco)  RS\n",
       "732759     Cruzaltinha (Ciríaco)  RS\n",
       "732760           David Canabarro  RS\n",
       "732761           David Canabarro  RS\n",
       "732762           David Canabarro  RS\n",
       "\n",
       "[732763 rows x 2 columns]"
      ],
      "text/html": "<div>\n<style scoped>\n    .dataframe tbody tr th:only-of-type {\n        vertical-align: middle;\n    }\n\n    .dataframe tbody tr th {\n        vertical-align: top;\n    }\n\n    .dataframe thead th {\n        text-align: right;\n    }\n</style>\n<table border=\"1\" class=\"dataframe\">\n  <thead>\n    <tr style=\"text-align: right;\">\n      <th></th>\n      <th>Cidade</th>\n      <th>Uf</th>\n    </tr>\n  </thead>\n  <tbody>\n    <tr>\n      <th>0</th>\n      <td>São Paulo</td>\n      <td>SP</td>\n    </tr>\n    <tr>\n      <th>1</th>\n      <td>São Paulo</td>\n      <td>SP</td>\n    </tr>\n    <tr>\n      <th>2</th>\n      <td>São Paulo</td>\n      <td>SP</td>\n    </tr>\n    <tr>\n      <th>3</th>\n      <td>São Paulo</td>\n      <td>SP</td>\n    </tr>\n    <tr>\n      <th>4</th>\n      <td>São Paulo</td>\n      <td>SP</td>\n    </tr>\n    <tr>\n      <th>...</th>\n      <td>...</td>\n      <td>...</td>\n    </tr>\n    <tr>\n      <th>732758</th>\n      <td>São João Bosco (Ciríaco)</td>\n      <td>RS</td>\n    </tr>\n    <tr>\n      <th>732759</th>\n      <td>Cruzaltinha (Ciríaco)</td>\n      <td>RS</td>\n    </tr>\n    <tr>\n      <th>732760</th>\n      <td>David Canabarro</td>\n      <td>RS</td>\n    </tr>\n    <tr>\n      <th>732761</th>\n      <td>David Canabarro</td>\n      <td>RS</td>\n    </tr>\n    <tr>\n      <th>732762</th>\n      <td>David Canabarro</td>\n      <td>RS</td>\n    </tr>\n  </tbody>\n</table>\n<p>732763 rows × 2 columns</p>\n</div>"
     },
     "metadata": {},
     "execution_count": 15
    }
   ],
   "source": [
    "df"
   ]
  },
  {
   "cell_type": "code",
   "execution_count": 16,
   "metadata": {},
   "outputs": [
    {
     "output_type": "execute_result",
     "data": {
      "text/plain": [
       "        Cidade    Uf\n",
       "0         True  True\n",
       "1         True  True\n",
       "2         True  True\n",
       "3         True  True\n",
       "4         True  True\n",
       "...        ...   ...\n",
       "732758    True  True\n",
       "732759    True  True\n",
       "732760    True  True\n",
       "732761    True  True\n",
       "732762    True  True\n",
       "\n",
       "[732763 rows x 2 columns]"
      ],
      "text/html": "<div>\n<style scoped>\n    .dataframe tbody tr th:only-of-type {\n        vertical-align: middle;\n    }\n\n    .dataframe tbody tr th {\n        vertical-align: top;\n    }\n\n    .dataframe thead th {\n        text-align: right;\n    }\n</style>\n<table border=\"1\" class=\"dataframe\">\n  <thead>\n    <tr style=\"text-align: right;\">\n      <th></th>\n      <th>Cidade</th>\n      <th>Uf</th>\n    </tr>\n  </thead>\n  <tbody>\n    <tr>\n      <th>0</th>\n      <td>True</td>\n      <td>True</td>\n    </tr>\n    <tr>\n      <th>1</th>\n      <td>True</td>\n      <td>True</td>\n    </tr>\n    <tr>\n      <th>2</th>\n      <td>True</td>\n      <td>True</td>\n    </tr>\n    <tr>\n      <th>3</th>\n      <td>True</td>\n      <td>True</td>\n    </tr>\n    <tr>\n      <th>4</th>\n      <td>True</td>\n      <td>True</td>\n    </tr>\n    <tr>\n      <th>...</th>\n      <td>...</td>\n      <td>...</td>\n    </tr>\n    <tr>\n      <th>732758</th>\n      <td>True</td>\n      <td>True</td>\n    </tr>\n    <tr>\n      <th>732759</th>\n      <td>True</td>\n      <td>True</td>\n    </tr>\n    <tr>\n      <th>732760</th>\n      <td>True</td>\n      <td>True</td>\n    </tr>\n    <tr>\n      <th>732761</th>\n      <td>True</td>\n      <td>True</td>\n    </tr>\n    <tr>\n      <th>732762</th>\n      <td>True</td>\n      <td>True</td>\n    </tr>\n  </tbody>\n</table>\n<p>732763 rows × 2 columns</p>\n</div>"
     },
     "metadata": {},
     "execution_count": 16
    }
   ],
   "source": [
    "df.notnull()"
   ]
  },
  {
   "cell_type": "code",
   "execution_count": 17,
   "metadata": {},
   "outputs": [],
   "source": [
    "tbl_estados_query =  pd.DataFrame(tbl_estados['uf'])"
   ]
  },
  {
   "cell_type": "code",
   "execution_count": 18,
   "metadata": {},
   "outputs": [
    {
     "output_type": "execute_result",
     "data": {
      "text/plain": [
       "    uf\n",
       "0   AC\n",
       "1   AL\n",
       "2   AP\n",
       "3   AM\n",
       "4   BA\n",
       "5   CE\n",
       "6   DF\n",
       "7   ES\n",
       "8   GO\n",
       "9   MA\n",
       "10  MT\n",
       "11  MS\n",
       "12  MG\n",
       "13  PA\n",
       "14  PB\n",
       "15  PR\n",
       "16  PE\n",
       "17  PI\n",
       "18  RJ\n",
       "19  RN\n",
       "20  RS\n",
       "21  RO\n",
       "22  RR\n",
       "23  SC\n",
       "24  SP\n",
       "25  SE\n",
       "26  TO"
      ],
      "text/html": "<div>\n<style scoped>\n    .dataframe tbody tr th:only-of-type {\n        vertical-align: middle;\n    }\n\n    .dataframe tbody tr th {\n        vertical-align: top;\n    }\n\n    .dataframe thead th {\n        text-align: right;\n    }\n</style>\n<table border=\"1\" class=\"dataframe\">\n  <thead>\n    <tr style=\"text-align: right;\">\n      <th></th>\n      <th>uf</th>\n    </tr>\n  </thead>\n  <tbody>\n    <tr>\n      <th>0</th>\n      <td>AC</td>\n    </tr>\n    <tr>\n      <th>1</th>\n      <td>AL</td>\n    </tr>\n    <tr>\n      <th>2</th>\n      <td>AP</td>\n    </tr>\n    <tr>\n      <th>3</th>\n      <td>AM</td>\n    </tr>\n    <tr>\n      <th>4</th>\n      <td>BA</td>\n    </tr>\n    <tr>\n      <th>5</th>\n      <td>CE</td>\n    </tr>\n    <tr>\n      <th>6</th>\n      <td>DF</td>\n    </tr>\n    <tr>\n      <th>7</th>\n      <td>ES</td>\n    </tr>\n    <tr>\n      <th>8</th>\n      <td>GO</td>\n    </tr>\n    <tr>\n      <th>9</th>\n      <td>MA</td>\n    </tr>\n    <tr>\n      <th>10</th>\n      <td>MT</td>\n    </tr>\n    <tr>\n      <th>11</th>\n      <td>MS</td>\n    </tr>\n    <tr>\n      <th>12</th>\n      <td>MG</td>\n    </tr>\n    <tr>\n      <th>13</th>\n      <td>PA</td>\n    </tr>\n    <tr>\n      <th>14</th>\n      <td>PB</td>\n    </tr>\n    <tr>\n      <th>15</th>\n      <td>PR</td>\n    </tr>\n    <tr>\n      <th>16</th>\n      <td>PE</td>\n    </tr>\n    <tr>\n      <th>17</th>\n      <td>PI</td>\n    </tr>\n    <tr>\n      <th>18</th>\n      <td>RJ</td>\n    </tr>\n    <tr>\n      <th>19</th>\n      <td>RN</td>\n    </tr>\n    <tr>\n      <th>20</th>\n      <td>RS</td>\n    </tr>\n    <tr>\n      <th>21</th>\n      <td>RO</td>\n    </tr>\n    <tr>\n      <th>22</th>\n      <td>RR</td>\n    </tr>\n    <tr>\n      <th>23</th>\n      <td>SC</td>\n    </tr>\n    <tr>\n      <th>24</th>\n      <td>SP</td>\n    </tr>\n    <tr>\n      <th>25</th>\n      <td>SE</td>\n    </tr>\n    <tr>\n      <th>26</th>\n      <td>TO</td>\n    </tr>\n  </tbody>\n</table>\n</div>"
     },
     "metadata": {},
     "execution_count": 18
    }
   ],
   "source": [
    "tbl_estados_query "
   ]
  },
  {
   "cell_type": "code",
   "execution_count": 19,
   "metadata": {},
   "outputs": [],
   "source": [
    "tbl_estados_query['cod'] = range(1,28)"
   ]
  },
  {
   "source": [],
   "cell_type": "markdown",
   "metadata": {}
  },
  {
   "cell_type": "code",
   "execution_count": 20,
   "metadata": {},
   "outputs": [
    {
     "output_type": "execute_result",
     "data": {
      "text/plain": [
       "0     AC\n",
       "1     AL\n",
       "2     AP\n",
       "3     AM\n",
       "4     BA\n",
       "5     CE\n",
       "6     DF\n",
       "7     ES\n",
       "8     GO\n",
       "9     MA\n",
       "10    MT\n",
       "11    MS\n",
       "12    MG\n",
       "13    PA\n",
       "14    PB\n",
       "15    PR\n",
       "16    PE\n",
       "17    PI\n",
       "18    RJ\n",
       "19    RN\n",
       "20    RS\n",
       "21    RO\n",
       "22    RR\n",
       "23    SC\n",
       "24    SP\n",
       "25    SE\n",
       "26    TO\n",
       "Name: uf, dtype: object"
      ]
     },
     "metadata": {},
     "execution_count": 20
    }
   ],
   "source": [
    "tbl_estados_query['uf']"
   ]
  },
  {
   "cell_type": "code",
   "execution_count": 21,
   "metadata": {},
   "outputs": [],
   "source": [
    "df['Uf'].replace(to_replace = 'AC' ,value = 1 ,inplace=True)\n",
    "df['Uf'].replace(to_replace = 'AL' ,value = 2 ,inplace=True)\n",
    "df['Uf'].replace(to_replace = 'AP' ,value = 3 ,inplace=True)\n",
    "df['Uf'].replace(to_replace = 'AM' ,value = 4 ,inplace=True)\n",
    "df['Uf'].replace(to_replace = 'BA' ,value = 5 ,inplace=True)\n",
    "df['Uf'].replace(to_replace = 'CE' ,value = 6 ,inplace=True)\n",
    "df['Uf'].replace(to_replace = 'DF' ,value = 7 ,inplace=True)\n",
    "df['Uf'].replace(to_replace = 'ES' ,value = 8 ,inplace=True)\n",
    "df['Uf'].replace(to_replace = 'GO' ,value = 9 ,inplace=True)\n",
    "df['Uf'].replace(to_replace = 'MA' ,value = 10 ,inplace=True)\n",
    "df['Uf'].replace(to_replace = 'MT' ,value = 11 ,inplace=True)\n",
    "df['Uf'].replace(to_replace = 'MS' ,value = 12 ,inplace=True)\n",
    "df['Uf'].replace(to_replace = 'MG' ,value = 13 ,inplace=True)\n",
    "df['Uf'].replace(to_replace = 'PA' ,value = 14 ,inplace=True)\n",
    "df['Uf'].replace(to_replace = 'PB' ,value = 15 ,inplace=True)\n",
    "df['Uf'].replace(to_replace = 'PR' ,value = 16 ,inplace=True)\n",
    "df['Uf'].replace(to_replace = 'PE' ,value = 17 ,inplace=True)\n",
    "df['Uf'].replace(to_replace = 'PI' ,value = 18 ,inplace=True)\n",
    "df['Uf'].replace(to_replace = 'RJ' ,value = 19 ,inplace=True)\n",
    "df['Uf'].replace(to_replace = 'RN' ,value = 20 ,inplace=True)\n",
    "df['Uf'].replace(to_replace = 'RS' ,value = 21 ,inplace=True)\n",
    "df['Uf'].replace(to_replace = 'RO' ,value = 22 ,inplace=True)\n",
    "df['Uf'].replace(to_replace = 'RR' ,value = 23 ,inplace=True)\n",
    "df['Uf'].replace(to_replace = 'SC' ,value = 24 ,inplace=True)\n",
    "df['Uf'].replace(to_replace = 'SP' ,value = 25 ,inplace=True)\n",
    "df['Uf'].replace(to_replace = 'SE' ,value = 26 ,inplace=True)\n",
    "df['Uf'].replace(to_replace = 'TO' ,value = 27 ,inplace=True)"
   ]
  },
  {
   "cell_type": "code",
   "execution_count": 22,
   "metadata": {},
   "outputs": [
    {
     "output_type": "execute_result",
     "data": {
      "text/plain": [
       "                          Cidade  Uf\n",
       "0                      São Paulo  25\n",
       "1                      São Paulo  25\n",
       "2                      São Paulo  25\n",
       "3                      São Paulo  25\n",
       "4                      São Paulo  25\n",
       "...                          ...  ..\n",
       "732758  São João Bosco (Ciríaco)  21\n",
       "732759     Cruzaltinha (Ciríaco)  21\n",
       "732760           David Canabarro  21\n",
       "732761           David Canabarro  21\n",
       "732762           David Canabarro  21\n",
       "\n",
       "[732763 rows x 2 columns]"
      ],
      "text/html": "<div>\n<style scoped>\n    .dataframe tbody tr th:only-of-type {\n        vertical-align: middle;\n    }\n\n    .dataframe tbody tr th {\n        vertical-align: top;\n    }\n\n    .dataframe thead th {\n        text-align: right;\n    }\n</style>\n<table border=\"1\" class=\"dataframe\">\n  <thead>\n    <tr style=\"text-align: right;\">\n      <th></th>\n      <th>Cidade</th>\n      <th>Uf</th>\n    </tr>\n  </thead>\n  <tbody>\n    <tr>\n      <th>0</th>\n      <td>São Paulo</td>\n      <td>25</td>\n    </tr>\n    <tr>\n      <th>1</th>\n      <td>São Paulo</td>\n      <td>25</td>\n    </tr>\n    <tr>\n      <th>2</th>\n      <td>São Paulo</td>\n      <td>25</td>\n    </tr>\n    <tr>\n      <th>3</th>\n      <td>São Paulo</td>\n      <td>25</td>\n    </tr>\n    <tr>\n      <th>4</th>\n      <td>São Paulo</td>\n      <td>25</td>\n    </tr>\n    <tr>\n      <th>...</th>\n      <td>...</td>\n      <td>...</td>\n    </tr>\n    <tr>\n      <th>732758</th>\n      <td>São João Bosco (Ciríaco)</td>\n      <td>21</td>\n    </tr>\n    <tr>\n      <th>732759</th>\n      <td>Cruzaltinha (Ciríaco)</td>\n      <td>21</td>\n    </tr>\n    <tr>\n      <th>732760</th>\n      <td>David Canabarro</td>\n      <td>21</td>\n    </tr>\n    <tr>\n      <th>732761</th>\n      <td>David Canabarro</td>\n      <td>21</td>\n    </tr>\n    <tr>\n      <th>732762</th>\n      <td>David Canabarro</td>\n      <td>21</td>\n    </tr>\n  </tbody>\n</table>\n<p>732763 rows × 2 columns</p>\n</div>"
     },
     "metadata": {},
     "execution_count": 22
    }
   ],
   "source": [
    "df"
   ]
  },
  {
   "cell_type": "code",
   "execution_count": 23,
   "metadata": {},
   "outputs": [
    {
     "output_type": "execute_result",
     "data": {
      "text/plain": [
       "                         Cidade  Uf\n",
       "0                     São Paulo  25\n",
       "1                        Osasco  25\n",
       "2                   Carapicuíba  25\n",
       "3                       Barueri  25\n",
       "4           Santana de Parnaíba  25\n",
       "...                         ...  ..\n",
       "10438  São Caetano (Água Santa)  21\n",
       "10439                   Ciríaco  21\n",
       "10440  São João Bosco (Ciríaco)  21\n",
       "10441     Cruzaltinha (Ciríaco)  21\n",
       "10442           David Canabarro  21\n",
       "\n",
       "[10443 rows x 2 columns]"
      ],
      "text/html": "<div>\n<style scoped>\n    .dataframe tbody tr th:only-of-type {\n        vertical-align: middle;\n    }\n\n    .dataframe tbody tr th {\n        vertical-align: top;\n    }\n\n    .dataframe thead th {\n        text-align: right;\n    }\n</style>\n<table border=\"1\" class=\"dataframe\">\n  <thead>\n    <tr style=\"text-align: right;\">\n      <th></th>\n      <th>Cidade</th>\n      <th>Uf</th>\n    </tr>\n  </thead>\n  <tbody>\n    <tr>\n      <th>0</th>\n      <td>São Paulo</td>\n      <td>25</td>\n    </tr>\n    <tr>\n      <th>1</th>\n      <td>Osasco</td>\n      <td>25</td>\n    </tr>\n    <tr>\n      <th>2</th>\n      <td>Carapicuíba</td>\n      <td>25</td>\n    </tr>\n    <tr>\n      <th>3</th>\n      <td>Barueri</td>\n      <td>25</td>\n    </tr>\n    <tr>\n      <th>4</th>\n      <td>Santana de Parnaíba</td>\n      <td>25</td>\n    </tr>\n    <tr>\n      <th>...</th>\n      <td>...</td>\n      <td>...</td>\n    </tr>\n    <tr>\n      <th>10438</th>\n      <td>São Caetano (Água Santa)</td>\n      <td>21</td>\n    </tr>\n    <tr>\n      <th>10439</th>\n      <td>Ciríaco</td>\n      <td>21</td>\n    </tr>\n    <tr>\n      <th>10440</th>\n      <td>São João Bosco (Ciríaco)</td>\n      <td>21</td>\n    </tr>\n    <tr>\n      <th>10441</th>\n      <td>Cruzaltinha (Ciríaco)</td>\n      <td>21</td>\n    </tr>\n    <tr>\n      <th>10442</th>\n      <td>David Canabarro</td>\n      <td>21</td>\n    </tr>\n  </tbody>\n</table>\n<p>10443 rows × 2 columns</p>\n</div>"
     },
     "metadata": {},
     "execution_count": 23
    }
   ],
   "source": [
    "df.drop_duplicates(inplace=True)\n",
    "df.index = range(df.shape[0])\n",
    "df"
   ]
  },
  {
   "cell_type": "code",
   "execution_count": 24,
   "metadata": {},
   "outputs": [
    {
     "output_type": "execute_result",
     "data": {
      "text/plain": [
       "                         Cidade  Uf\n",
       "0                     São Paulo  25\n",
       "1                        Osasco  25\n",
       "2                   Carapicuíba  25\n",
       "3                       Barueri  25\n",
       "4           Santana de Parnaíba  25\n",
       "...                         ...  ..\n",
       "10438  São Caetano (Água Santa)  21\n",
       "10439                   Ciríaco  21\n",
       "10440  São João Bosco (Ciríaco)  21\n",
       "10441     Cruzaltinha (Ciríaco)  21\n",
       "10442           David Canabarro  21\n",
       "\n",
       "[10443 rows x 2 columns]"
      ],
      "text/html": "<div>\n<style scoped>\n    .dataframe tbody tr th:only-of-type {\n        vertical-align: middle;\n    }\n\n    .dataframe tbody tr th {\n        vertical-align: top;\n    }\n\n    .dataframe thead th {\n        text-align: right;\n    }\n</style>\n<table border=\"1\" class=\"dataframe\">\n  <thead>\n    <tr style=\"text-align: right;\">\n      <th></th>\n      <th>Cidade</th>\n      <th>Uf</th>\n    </tr>\n  </thead>\n  <tbody>\n    <tr>\n      <th>0</th>\n      <td>São Paulo</td>\n      <td>25</td>\n    </tr>\n    <tr>\n      <th>1</th>\n      <td>Osasco</td>\n      <td>25</td>\n    </tr>\n    <tr>\n      <th>2</th>\n      <td>Carapicuíba</td>\n      <td>25</td>\n    </tr>\n    <tr>\n      <th>3</th>\n      <td>Barueri</td>\n      <td>25</td>\n    </tr>\n    <tr>\n      <th>4</th>\n      <td>Santana de Parnaíba</td>\n      <td>25</td>\n    </tr>\n    <tr>\n      <th>...</th>\n      <td>...</td>\n      <td>...</td>\n    </tr>\n    <tr>\n      <th>10438</th>\n      <td>São Caetano (Água Santa)</td>\n      <td>21</td>\n    </tr>\n    <tr>\n      <th>10439</th>\n      <td>Ciríaco</td>\n      <td>21</td>\n    </tr>\n    <tr>\n      <th>10440</th>\n      <td>São João Bosco (Ciríaco)</td>\n      <td>21</td>\n    </tr>\n    <tr>\n      <th>10441</th>\n      <td>Cruzaltinha (Ciríaco)</td>\n      <td>21</td>\n    </tr>\n    <tr>\n      <th>10442</th>\n      <td>David Canabarro</td>\n      <td>21</td>\n    </tr>\n  </tbody>\n</table>\n<p>10443 rows × 2 columns</p>\n</div>"
     },
     "metadata": {},
     "execution_count": 24
    }
   ],
   "source": [
    "df"
   ]
  },
  {
   "cell_type": "code",
   "execution_count": 30,
   "metadata": {},
   "outputs": [],
   "source": [
    "df.to_csv('cidades_newload.csv', sep=',', index=False)"
   ]
  },
  {
   "cell_type": "code",
   "execution_count": 26,
   "metadata": {},
   "outputs": [
    {
     "output_type": "execute_result",
     "data": {
      "text/plain": [
       "(10443, 2)"
      ]
     },
     "metadata": {},
     "execution_count": 26
    }
   ],
   "source": [
    "df.shape"
   ]
  },
  {
   "cell_type": "code",
   "execution_count": null,
   "metadata": {},
   "outputs": [],
   "source": []
  }
 ]
}