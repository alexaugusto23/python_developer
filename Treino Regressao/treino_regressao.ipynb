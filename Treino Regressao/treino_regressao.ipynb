{
 "cells": [
  {
   "cell_type": "markdown",
   "metadata": {},
   "source": [
    "# Regressão Linear com os Príncipais pacotes."
   ]
  },
  {
   "cell_type": "markdown",
   "metadata": {},
   "source": [
    "## Criandos os Imports"
   ]
  },
  {
   "cell_type": "code",
   "execution_count": 23,
   "metadata": {},
   "outputs": [],
   "source": [
    "import pandas as pd\n",
    "import numpy as np\n",
    "import statsmodels.api as sm\n",
    "from sklearn.linear_model import LinearRegression\n",
    "from sklearn.model_selection import train_test_split\n",
    "from sklearn.preprocessing import StandardScaler\n",
    "from sklearn.metrics import mean_squared_error\n",
    "import os\n"
   ]
  },
  {
   "cell_type": "markdown",
   "metadata": {},
   "source": [
    "## Leituras dos CSVs"
   ]
  },
  {
   "cell_type": "code",
   "execution_count": 2,
   "metadata": {},
   "outputs": [
    {
     "data": {
      "text/plain": [
       "'c:\\\\Users\\\\alexsandro.ignacio\\\\OneDrive - WCA Soluções de Inteligência Comercial\\\\Documentos\\\\Docs\\\\Git\\\\python_developer\\\\Treino Regressao'"
      ]
     },
     "execution_count": 2,
     "metadata": {},
     "output_type": "execute_result"
    }
   ],
   "source": [
    "current_path = os.getcwd()\n",
    "current_path"
   ]
  },
  {
   "cell_type": "code",
   "execution_count": 3,
   "metadata": {},
   "outputs": [],
   "source": [
    "path = os.path.join(current_path,'data', 'california_housing_train.csv')"
   ]
  },
  {
   "cell_type": "code",
   "execution_count": 4,
   "metadata": {},
   "outputs": [
    {
     "data": {
      "text/html": [
       "<div>\n",
       "<style scoped>\n",
       "    .dataframe tbody tr th:only-of-type {\n",
       "        vertical-align: middle;\n",
       "    }\n",
       "\n",
       "    .dataframe tbody tr th {\n",
       "        vertical-align: top;\n",
       "    }\n",
       "\n",
       "    .dataframe thead th {\n",
       "        text-align: right;\n",
       "    }\n",
       "</style>\n",
       "<table border=\"1\" class=\"dataframe\">\n",
       "  <thead>\n",
       "    <tr style=\"text-align: right;\">\n",
       "      <th></th>\n",
       "      <th>longitude</th>\n",
       "      <th>latitude</th>\n",
       "      <th>housing_median_age</th>\n",
       "      <th>total_rooms</th>\n",
       "      <th>total_bedrooms</th>\n",
       "      <th>population</th>\n",
       "      <th>households</th>\n",
       "      <th>median_income</th>\n",
       "      <th>median_house_value</th>\n",
       "    </tr>\n",
       "  </thead>\n",
       "  <tbody>\n",
       "    <tr>\n",
       "      <th>0</th>\n",
       "      <td>-114.31</td>\n",
       "      <td>34.19</td>\n",
       "      <td>15.0</td>\n",
       "      <td>5612.0</td>\n",
       "      <td>1283.0</td>\n",
       "      <td>1015.0</td>\n",
       "      <td>472.0</td>\n",
       "      <td>1.4936</td>\n",
       "      <td>66900.0</td>\n",
       "    </tr>\n",
       "    <tr>\n",
       "      <th>1</th>\n",
       "      <td>-114.47</td>\n",
       "      <td>34.40</td>\n",
       "      <td>19.0</td>\n",
       "      <td>7650.0</td>\n",
       "      <td>1901.0</td>\n",
       "      <td>1129.0</td>\n",
       "      <td>463.0</td>\n",
       "      <td>1.8200</td>\n",
       "      <td>80100.0</td>\n",
       "    </tr>\n",
       "    <tr>\n",
       "      <th>2</th>\n",
       "      <td>-114.56</td>\n",
       "      <td>33.69</td>\n",
       "      <td>17.0</td>\n",
       "      <td>720.0</td>\n",
       "      <td>174.0</td>\n",
       "      <td>333.0</td>\n",
       "      <td>117.0</td>\n",
       "      <td>1.6509</td>\n",
       "      <td>85700.0</td>\n",
       "    </tr>\n",
       "    <tr>\n",
       "      <th>3</th>\n",
       "      <td>-114.57</td>\n",
       "      <td>33.64</td>\n",
       "      <td>14.0</td>\n",
       "      <td>1501.0</td>\n",
       "      <td>337.0</td>\n",
       "      <td>515.0</td>\n",
       "      <td>226.0</td>\n",
       "      <td>3.1917</td>\n",
       "      <td>73400.0</td>\n",
       "    </tr>\n",
       "    <tr>\n",
       "      <th>4</th>\n",
       "      <td>-114.57</td>\n",
       "      <td>33.57</td>\n",
       "      <td>20.0</td>\n",
       "      <td>1454.0</td>\n",
       "      <td>326.0</td>\n",
       "      <td>624.0</td>\n",
       "      <td>262.0</td>\n",
       "      <td>1.9250</td>\n",
       "      <td>65500.0</td>\n",
       "    </tr>\n",
       "  </tbody>\n",
       "</table>\n",
       "</div>"
      ],
      "text/plain": [
       "   longitude  latitude  housing_median_age  total_rooms  total_bedrooms  \\\n",
       "0    -114.31     34.19                15.0       5612.0          1283.0   \n",
       "1    -114.47     34.40                19.0       7650.0          1901.0   \n",
       "2    -114.56     33.69                17.0        720.0           174.0   \n",
       "3    -114.57     33.64                14.0       1501.0           337.0   \n",
       "4    -114.57     33.57                20.0       1454.0           326.0   \n",
       "\n",
       "   population  households  median_income  median_house_value  \n",
       "0      1015.0       472.0         1.4936             66900.0  \n",
       "1      1129.0       463.0         1.8200             80100.0  \n",
       "2       333.0       117.0         1.6509             85700.0  \n",
       "3       515.0       226.0         3.1917             73400.0  \n",
       "4       624.0       262.0         1.9250             65500.0  "
      ]
     },
     "execution_count": 4,
     "metadata": {},
     "output_type": "execute_result"
    }
   ],
   "source": [
    "_df = pd.read_csv(path,sep=',')\n",
    "_df.head()"
   ]
  },
  {
   "cell_type": "markdown",
   "metadata": {},
   "source": [
    "### Statsmodels"
   ]
  },
  {
   "cell_type": "markdown",
   "metadata": {},
   "source": [
    "X = exógena\n",
    "Y = endógenas \n",
    "\n",
    "Em modelos econômicos e econométricos, uma variável exógena refere-se a uma variável que é determinada fora do modelo e representa as entradas de um modelo. Em outras palavras, variáveis exógenas são fixadas no momento em que são introduzidas no modelo. Em contraste, variáveis endógenas são determinadas dentro do modelo e, portanto, representam as saídas de um modelo. O modelo especificado com as variáveis mostra como a mudança de uma variável exógena coeteris paribus afeta todas as variáveis endógenas.\n",
    "\n",
    "https://pt.wikipedia.org/wiki/Vari%C3%A1veis_ex%C3%B3genas_e_end%C3%B3genas"
   ]
  },
  {
   "cell_type": "code",
   "execution_count": 5,
   "metadata": {},
   "outputs": [],
   "source": [
    "y = _df['median_house_value']\n",
    "x = _df.drop(['median_house_value'], axis=1)"
   ]
  },
  {
   "cell_type": "code",
   "execution_count": 6,
   "metadata": {},
   "outputs": [
    {
     "data": {
      "text/html": [
       "<div>\n",
       "<style scoped>\n",
       "    .dataframe tbody tr th:only-of-type {\n",
       "        vertical-align: middle;\n",
       "    }\n",
       "\n",
       "    .dataframe tbody tr th {\n",
       "        vertical-align: top;\n",
       "    }\n",
       "\n",
       "    .dataframe thead th {\n",
       "        text-align: right;\n",
       "    }\n",
       "</style>\n",
       "<table border=\"1\" class=\"dataframe\">\n",
       "  <thead>\n",
       "    <tr style=\"text-align: right;\">\n",
       "      <th></th>\n",
       "      <th>longitude</th>\n",
       "      <th>latitude</th>\n",
       "      <th>housing_median_age</th>\n",
       "      <th>total_rooms</th>\n",
       "      <th>total_bedrooms</th>\n",
       "      <th>population</th>\n",
       "      <th>households</th>\n",
       "      <th>median_income</th>\n",
       "    </tr>\n",
       "  </thead>\n",
       "  <tbody>\n",
       "    <tr>\n",
       "      <th>0</th>\n",
       "      <td>-114.31</td>\n",
       "      <td>34.19</td>\n",
       "      <td>15.0</td>\n",
       "      <td>5612.0</td>\n",
       "      <td>1283.0</td>\n",
       "      <td>1015.0</td>\n",
       "      <td>472.0</td>\n",
       "      <td>1.4936</td>\n",
       "    </tr>\n",
       "  </tbody>\n",
       "</table>\n",
       "</div>"
      ],
      "text/plain": [
       "   longitude  latitude  housing_median_age  total_rooms  total_bedrooms  \\\n",
       "0    -114.31     34.19                15.0       5612.0          1283.0   \n",
       "\n",
       "   population  households  median_income  \n",
       "0      1015.0       472.0         1.4936  "
      ]
     },
     "execution_count": 6,
     "metadata": {},
     "output_type": "execute_result"
    }
   ],
   "source": [
    "_df.drop(['median_house_value'], axis=1).head(1)"
   ]
  },
  {
   "cell_type": "code",
   "execution_count": 7,
   "metadata": {},
   "outputs": [
    {
     "data": {
      "text/plain": [
       "<statsmodels.regression.linear_model.OLS at 0x18cbacc7a30>"
      ]
     },
     "execution_count": 7,
     "metadata": {},
     "output_type": "execute_result"
    }
   ],
   "source": [
    "modelo = sm.OLS( y, x)\n",
    "modelo"
   ]
  },
  {
   "cell_type": "code",
   "execution_count": 8,
   "metadata": {},
   "outputs": [
    {
     "name": "stdout",
     "output_type": "stream",
     "text": [
      "                                 OLS Regression Results                                \n",
      "=======================================================================================\n",
      "Dep. Variable:     median_house_value   R-squared (uncentered):                   0.901\n",
      "Model:                            OLS   Adj. R-squared (uncentered):              0.901\n",
      "Method:                 Least Squares   F-statistic:                          1.927e+04\n",
      "Date:                Fri, 18 Mar 2022   Prob (F-statistic):                        0.00\n",
      "Time:                        17:55:14   Log-Likelihood:                     -2.1492e+05\n",
      "No. Observations:               17000   AIC:                                  4.298e+05\n",
      "Df Residuals:                   16992   BIC:                                  4.299e+05\n",
      "Df Model:                           8                                                  \n",
      "Covariance Type:            nonrobust                                                  \n",
      "======================================================================================\n",
      "                         coef    std err          t      P>|t|      [0.025      0.975]\n",
      "--------------------------------------------------------------------------------------\n",
      "longitude          -2242.3547    119.100    -18.828      0.000   -2475.802   -2008.907\n",
      "latitude           -8474.2259    377.129    -22.470      0.000   -9213.438   -7735.013\n",
      "housing_median_age  1786.1485     49.565     36.036      0.000    1688.995    1883.301\n",
      "total_rooms          -15.3597      0.918    -16.723      0.000     -17.160     -13.559\n",
      "total_bedrooms        79.9623      8.246      9.697      0.000      63.799      96.125\n",
      "population           -39.9046      1.277    -31.238      0.000     -42.409     -37.401\n",
      "households           133.1703      8.918     14.932      0.000     115.689     150.651\n",
      "median_income       4.584e+04    381.200    120.249      0.000    4.51e+04    4.66e+04\n",
      "==============================================================================\n",
      "Omnibus:                     3565.084   Durbin-Watson:                   1.154\n",
      "Prob(Omnibus):                  0.000   Jarque-Bera (JB):            12369.583\n",
      "Skew:                           1.040   Prob(JB):                         0.00\n",
      "Kurtosis:                       6.624   Cond. No.                     3.00e+03\n",
      "==============================================================================\n",
      "\n",
      "Notes:\n",
      "[1] R² is computed without centering (uncentered) since the model does not contain a constant.\n",
      "[2] Standard Errors assume that the covariance matrix of the errors is correctly specified.\n",
      "[3] The condition number is large,  3e+03. This might indicate that there are\n",
      "strong multicollinearity or other numerical problems.\n"
     ]
    }
   ],
   "source": [
    "res = modelo.fit()\n",
    "print(res.summary())"
   ]
  },
  {
   "cell_type": "code",
   "execution_count": 11,
   "metadata": {},
   "outputs": [
    {
     "name": "stdout",
     "output_type": "stream",
     "text": [
      "                                 OLS Regression Results                                \n",
      "=======================================================================================\n",
      "Dep. Variable:     median_house_value   R-squared (uncentered):                   0.153\n",
      "Model:                            OLS   Adj. R-squared (uncentered):              0.152\n",
      "Method:                 Least Squares   F-statistic:                              383.4\n",
      "Date:                Fri, 18 Mar 2022   Prob (F-statistic):                        0.00\n",
      "Time:                        17:57:18   Log-Likelihood:                     -2.3314e+05\n",
      "No. Observations:               17000   AIC:                                  4.663e+05\n",
      "Df Residuals:                   16992   BIC:                                  4.664e+05\n",
      "Df Model:                           8                                                  \n",
      "Covariance Type:            nonrobust                                                  \n",
      "==============================================================================\n",
      "                 coef    std err          t      P>|t|      [0.025      0.975]\n",
      "------------------------------------------------------------------------------\n",
      "x1          -8.65e+04   4983.023    -17.359      0.000   -9.63e+04   -7.67e+04\n",
      "x2         -9.174e+04   5017.085    -18.286      0.000   -1.02e+05   -8.19e+04\n",
      "x3          1.448e+04   1884.835      7.684      0.000    1.08e+04    1.82e+04\n",
      "x4         -1.826e+04   5919.843     -3.085      0.002   -2.99e+04   -6660.101\n",
      "x5          4.959e+04   1.02e+04      4.863      0.000    2.96e+04    6.96e+04\n",
      "x6         -4.418e+04   4284.323    -10.312      0.000   -5.26e+04   -3.58e+04\n",
      "x7          1.747e+04   1.02e+04      1.709      0.087   -2563.066    3.75e+04\n",
      "x8          7.729e+04   2211.150     34.955      0.000     7.3e+04    8.16e+04\n",
      "==============================================================================\n",
      "Omnibus:                     4032.682   Durbin-Watson:                   0.117\n",
      "Prob(Omnibus):                  0.000   Jarque-Bera (JB):            15559.395\n",
      "Skew:                           1.141   Prob(JB):                         0.00\n",
      "Kurtosis:                       7.094   Cond. No.                         16.6\n",
      "==============================================================================\n",
      "\n",
      "Notes:\n",
      "[1] R² is computed without centering (uncentered) since the model does not contain a constant.\n",
      "[2] Standard Errors assume that the covariance matrix of the errors is correctly specified.\n"
     ]
    }
   ],
   "source": [
    "# Normalizando os dados\n",
    "scaler = StandardScaler()\n",
    "normalized_x = scaler.fit_transform(x)\n",
    "\n",
    "modelo = sm.OLS( y, normalized_x)\n",
    "res = modelo.fit()\n",
    "print(res.summary())"
   ]
  },
  {
   "cell_type": "code",
   "execution_count": 12,
   "metadata": {},
   "outputs": [
    {
     "name": "stdout",
     "output_type": "stream",
     "text": [
      "                                 OLS Regression Results                                \n",
      "=======================================================================================\n",
      "Dep. Variable:     median_house_value   R-squared (uncentered):                   0.153\n",
      "Model:                            OLS   Adj. R-squared (uncentered):              0.152\n",
      "Method:                 Least Squares   F-statistic:                              383.4\n",
      "Date:                Fri, 18 Mar 2022   Prob (F-statistic):                        0.00\n",
      "Time:                        17:57:22   Log-Likelihood:                     -2.3314e+05\n",
      "No. Observations:               17000   AIC:                                  4.663e+05\n",
      "Df Residuals:                   16992   BIC:                                  4.664e+05\n",
      "Df Model:                           8                                                  \n",
      "Covariance Type:            nonrobust                                                  \n",
      "======================================================================================\n",
      "                         coef    std err          t      P>|t|      [0.025      0.975]\n",
      "--------------------------------------------------------------------------------------\n",
      "longitude           -8.65e+04   4983.023    -17.359      0.000   -9.63e+04   -7.67e+04\n",
      "latitude           -9.174e+04   5017.085    -18.286      0.000   -1.02e+05   -8.19e+04\n",
      "housing_median_age  1.448e+04   1884.835      7.684      0.000    1.08e+04    1.82e+04\n",
      "total_rooms        -1.826e+04   5919.843     -3.085      0.002   -2.99e+04   -6660.101\n",
      "total_bedrooms      4.959e+04   1.02e+04      4.863      0.000    2.96e+04    6.96e+04\n",
      "population         -4.418e+04   4284.323    -10.312      0.000   -5.26e+04   -3.58e+04\n",
      "households          1.747e+04   1.02e+04      1.709      0.087   -2563.066    3.75e+04\n",
      "median_income       7.729e+04   2211.150     34.955      0.000     7.3e+04    8.16e+04\n",
      "==============================================================================\n",
      "Omnibus:                     4032.682   Durbin-Watson:                   0.117\n",
      "Prob(Omnibus):                  0.000   Jarque-Bera (JB):            15559.395\n",
      "Skew:                           1.141   Prob(JB):                         0.00\n",
      "Kurtosis:                       7.094   Cond. No.                         16.6\n",
      "==============================================================================\n",
      "\n",
      "Notes:\n",
      "[1] R² is computed without centering (uncentered) since the model does not contain a constant.\n",
      "[2] Standard Errors assume that the covariance matrix of the errors is correctly specified.\n"
     ]
    }
   ],
   "source": [
    "# Normalizando os dados\n",
    "scaler = StandardScaler()\n",
    "# np.array\n",
    "normalized_x_np = scaler.fit_transform(x)\n",
    "# DataFrame\n",
    "normalized_x_df = pd.DataFrame(normalized_x_np, columns=x.columns)\n",
    "\n",
    "\n",
    "modelo = sm.OLS( y, normalized_x_df)\n",
    "res = modelo.fit()\n",
    "print(res.summary())\n"
   ]
  },
  {
   "cell_type": "code",
   "execution_count": 33,
   "metadata": {},
   "outputs": [
    {
     "name": "stdout",
     "output_type": "stream",
     "text": [
      "                            OLS Regression Results                            \n",
      "==============================================================================\n",
      "Dep. Variable:     median_house_value   R-squared:                       0.641\n",
      "Model:                            OLS   Adj. R-squared:                  0.641\n",
      "Method:                 Least Squares   F-statistic:                     3798.\n",
      "Date:                Fri, 18 Mar 2022   Prob (F-statistic):               0.00\n",
      "Time:                        18:32:27   Log-Likelihood:            -2.1365e+05\n",
      "No. Observations:               17000   AIC:                         4.273e+05\n",
      "Df Residuals:                   16991   BIC:                         4.274e+05\n",
      "Df Model:                           8                                         \n",
      "Covariance Type:            nonrobust                                         \n",
      "======================================================================================\n",
      "                         coef    std err          t      P>|t|      [0.025      0.975]\n",
      "--------------------------------------------------------------------------------------\n",
      "longitude           -8.65e+04   1583.169    -54.637      0.000   -8.96e+04   -8.34e+04\n",
      "latitude           -9.174e+04   1593.990    -57.556      0.000   -9.49e+04   -8.86e+04\n",
      "housing_median_age  1.448e+04    598.836     24.186      0.000    1.33e+04    1.57e+04\n",
      "total_rooms        -1.826e+04   1880.808     -9.711      0.000    -2.2e+04   -1.46e+04\n",
      "total_bedrooms      4.959e+04   3239.843     15.305      0.000    4.32e+04    5.59e+04\n",
      "population         -4.418e+04   1361.183    -32.456      0.000   -4.68e+04   -4.15e+04\n",
      "households          1.747e+04   3247.246      5.380      0.000    1.11e+04    2.38e+04\n",
      "median_income       7.729e+04    702.510    110.022      0.000    7.59e+04    7.87e+04\n",
      "intercept           2.073e+05    532.866    389.030      0.000    2.06e+05    2.08e+05\n",
      "==============================================================================\n",
      "Omnibus:                     4032.682   Durbin-Watson:                   1.162\n",
      "Prob(Omnibus):                  0.000   Jarque-Bera (JB):            15559.395\n",
      "Skew:                           1.141   Prob(JB):                         0.00\n",
      "Kurtosis:                       7.094   Cond. No.                         16.6\n",
      "==============================================================================\n",
      "\n",
      "Notes:\n",
      "[1] Standard Errors assume that the covariance matrix of the errors is correctly specified.\n"
     ]
    }
   ],
   "source": [
    "# Normalizando os dados\n",
    "scaler = StandardScaler()\n",
    "# np.array\n",
    "normalized_x_np = scaler.fit_transform(x)\n",
    "# DataFrame\n",
    "normalized_x_df = pd.DataFrame(normalized_x_np, columns=x.columns)\n",
    "normalized_x_df['intercept'] = 1\n",
    "\n",
    "modelo = sm.OLS( y, normalized_x_df)\n",
    "res = modelo.fit()\n",
    "print(res.summary())"
   ]
  },
  {
   "cell_type": "markdown",
   "metadata": {},
   "source": [
    "### Scikit learn"
   ]
  },
  {
   "cell_type": "code",
   "execution_count": 17,
   "metadata": {},
   "outputs": [
    {
     "data": {
      "text/plain": [
       "(17000, 9)"
      ]
     },
     "execution_count": 17,
     "metadata": {},
     "output_type": "execute_result"
    }
   ],
   "source": [
    "_df.shape"
   ]
  },
  {
   "cell_type": "code",
   "execution_count": 15,
   "metadata": {},
   "outputs": [
    {
     "data": {
      "text/html": [
       "<div>\n",
       "<style scoped>\n",
       "    .dataframe tbody tr th:only-of-type {\n",
       "        vertical-align: middle;\n",
       "    }\n",
       "\n",
       "    .dataframe tbody tr th {\n",
       "        vertical-align: top;\n",
       "    }\n",
       "\n",
       "    .dataframe thead th {\n",
       "        text-align: right;\n",
       "    }\n",
       "</style>\n",
       "<table border=\"1\" class=\"dataframe\">\n",
       "  <thead>\n",
       "    <tr style=\"text-align: right;\">\n",
       "      <th></th>\n",
       "      <th>longitude</th>\n",
       "      <th>latitude</th>\n",
       "      <th>housing_median_age</th>\n",
       "      <th>total_rooms</th>\n",
       "      <th>total_bedrooms</th>\n",
       "      <th>population</th>\n",
       "      <th>households</th>\n",
       "      <th>median_income</th>\n",
       "    </tr>\n",
       "  </thead>\n",
       "  <tbody>\n",
       "    <tr>\n",
       "      <th>0</th>\n",
       "      <td>-114.31</td>\n",
       "      <td>34.19</td>\n",
       "      <td>15.0</td>\n",
       "      <td>5612.0</td>\n",
       "      <td>1283.0</td>\n",
       "      <td>1015.0</td>\n",
       "      <td>472.0</td>\n",
       "      <td>1.4936</td>\n",
       "    </tr>\n",
       "    <tr>\n",
       "      <th>1</th>\n",
       "      <td>-114.47</td>\n",
       "      <td>34.40</td>\n",
       "      <td>19.0</td>\n",
       "      <td>7650.0</td>\n",
       "      <td>1901.0</td>\n",
       "      <td>1129.0</td>\n",
       "      <td>463.0</td>\n",
       "      <td>1.8200</td>\n",
       "    </tr>\n",
       "  </tbody>\n",
       "</table>\n",
       "</div>"
      ],
      "text/plain": [
       "   longitude  latitude  housing_median_age  total_rooms  total_bedrooms  \\\n",
       "0    -114.31     34.19                15.0       5612.0          1283.0   \n",
       "1    -114.47     34.40                19.0       7650.0          1901.0   \n",
       "\n",
       "   population  households  median_income  \n",
       "0      1015.0       472.0         1.4936  \n",
       "1      1129.0       463.0         1.8200  "
      ]
     },
     "execution_count": 15,
     "metadata": {},
     "output_type": "execute_result"
    }
   ],
   "source": [
    "x.head(2)"
   ]
  },
  {
   "cell_type": "code",
   "execution_count": 16,
   "metadata": {},
   "outputs": [
    {
     "data": {
      "text/plain": [
       "0    66900.0\n",
       "1    80100.0\n",
       "Name: median_house_value, dtype: float64"
      ]
     },
     "execution_count": 16,
     "metadata": {},
     "output_type": "execute_result"
    }
   ],
   "source": [
    "y.head(2)"
   ]
  },
  {
   "cell_type": "code",
   "execution_count": 24,
   "metadata": {},
   "outputs": [
    {
     "name": "stdout",
     "output_type": "stream",
     "text": [
      "(11900, 8) (5100, 8) (11900,) (5100,)\n"
     ]
    }
   ],
   "source": [
    "x_train, x_val, y_train, y_val = train_test_split(x,y, test_size=0.3, random_state=0)\n",
    "print(x_train.shape, x_val.shape, y_train.shape, y_val.shape)"
   ]
  },
  {
   "cell_type": "code",
   "execution_count": 25,
   "metadata": {},
   "outputs": [
    {
     "name": "stdout",
     "output_type": "stream",
     "text": [
      "       longitude  latitude  housing_median_age  total_rooms  total_bedrooms  \\\n",
      "322      -116.88     34.25                11.0       1089.0           198.0   \n",
      "11968    -121.38     38.60                36.0       1249.0           159.0   \n",
      "\n",
      "       population  households  median_income  \n",
      "322         230.0        90.0         4.9643  \n",
      "11968       362.0       143.0         6.8469         longitude  latitude  housing_median_age  total_rooms  total_bedrooms  \\\n",
      "3873    -117.95     33.84                18.0       3418.0           815.0   \n",
      "3625    -117.92     34.08                36.0       1479.0           251.0   \n",
      "\n",
      "      population  households  median_income  \n",
      "3873      1961.0       773.0         3.6500  \n",
      "3625       741.0       245.0         4.2986   322      176000.0\n",
      "11968    446400.0\n",
      "Name: median_house_value, dtype: float64 3873    171400.0\n",
      "3625    189600.0\n",
      "Name: median_house_value, dtype: float64\n"
     ]
    }
   ],
   "source": [
    "print(x_train.head(2), x_val.head(2), y_train.head(2), y_val.head(2))"
   ]
  },
  {
   "cell_type": "code",
   "execution_count": 22,
   "metadata": {},
   "outputs": [
    {
     "data": {
      "text/plain": [
       "array([113335.2851803 ,  87644.62646805, 123056.10495727, ...,\n",
       "       102209.06704475, 310108.3880645 , 182088.4909068 ])"
      ]
     },
     "execution_count": 22,
     "metadata": {},
     "output_type": "execute_result"
    }
   ],
   "source": [
    "modelo = LinearRegression()\n",
    "modelo.fit(x_train, y_train)\n",
    "p = modelo.predict(x_val)\n",
    "p"
   ]
  },
  {
   "cell_type": "code",
   "execution_count": 26,
   "metadata": {},
   "outputs": [
    {
     "name": "stderr",
     "output_type": "stream",
     "text": [
      "C:\\Users\\alexsandro.ignacio\\AppData\\Local\\Programs\\Python\\Python39\\lib\\site-packages\\sklearn\\linear_model\\_base.py:141: FutureWarning: 'normalize' was deprecated in version 1.0 and will be removed in 1.2.\n",
      "If you wish to scale the data, use Pipeline with a StandardScaler in a preprocessing stage. To reproduce the previous behavior:\n",
      "\n",
      "from sklearn.pipeline import make_pipeline\n",
      "\n",
      "model = make_pipeline(StandardScaler(with_mean=False), LinearRegression())\n",
      "\n",
      "If you wish to pass a sample_weight parameter, you need to pass it as a fit parameter to each step of the pipeline as follows:\n",
      "\n",
      "kwargs = {s[0] + '__sample_weight': sample_weight for s in model.steps}\n",
      "model.fit(X, y, **kwargs)\n",
      "\n",
      "\n",
      "  warnings.warn(\n"
     ]
    },
    {
     "data": {
      "text/plain": [
       "array([210115.00792512, 218552.25069197, 465480.37566264, ...,\n",
       "       120891.22403707, 173531.86120393, 216921.07491236])"
      ]
     },
     "execution_count": 26,
     "metadata": {},
     "output_type": "execute_result"
    }
   ],
   "source": [
    "modelo = LinearRegression(normalize=True)\n",
    "modelo.fit(x_train, y_train)\n",
    "p = modelo.predict(x_val)\n",
    "p"
   ]
  },
  {
   "cell_type": "code",
   "execution_count": 27,
   "metadata": {},
   "outputs": [
    {
     "data": {
      "text/plain": [
       "69057.71585050465"
      ]
     },
     "execution_count": 27,
     "metadata": {},
     "output_type": "execute_result"
    }
   ],
   "source": [
    "np.sqrt(mean_squared_error(y_val, p))"
   ]
  },
  {
   "cell_type": "code",
   "execution_count": 28,
   "metadata": {},
   "outputs": [
    {
     "data": {
      "text/plain": [
       "array([-4.29924725e+04, -4.27651880e+04,  1.17410488e+03, -8.43005986e+00,\n",
       "        1.18929331e+02, -3.58414446e+01,  3.86437859e+01,  4.04939678e+04])"
      ]
     },
     "execution_count": 28,
     "metadata": {},
     "output_type": "execute_result"
    }
   ],
   "source": [
    "modelo.coef_"
   ]
  },
  {
   "cell_type": "markdown",
   "metadata": {},
   "source": [
    "* Usando scaler para normalizar os dados."
   ]
  },
  {
   "cell_type": "code",
   "execution_count": 31,
   "metadata": {},
   "outputs": [
    {
     "name": "stdout",
     "output_type": "stream",
     "text": [
      "(11900, 8) (5100, 8) (11900,) (5100,)\n",
      "\n",
      "[210115.00792512 218552.25069197 465480.37566264 ... 120891.22403707\n",
      " 173531.86120393 216921.07491236]\n",
      "\n",
      "69057.71585050465\n",
      "\n",
      "[-86347.90780568 -91686.55531605  14820.25508291 -18738.10696631\n",
      "  50487.93188416 -42342.52251271  14973.15005562  77778.8185199 ]\n",
      "\n"
     ]
    },
    {
     "name": "stderr",
     "output_type": "stream",
     "text": [
      "C:\\Users\\alexsandro.ignacio\\AppData\\Local\\Programs\\Python\\Python39\\lib\\site-packages\\sklearn\\linear_model\\_base.py:148: FutureWarning: 'normalize' was deprecated in version 1.0 and will be removed in 1.2. Please leave the normalize parameter to its default value to silence this warning. The default behavior of this estimator is to not do any normalization. If normalization is needed please use sklearn.preprocessing.StandardScaler instead.\n",
      "  warnings.warn(\n"
     ]
    }
   ],
   "source": [
    "x_train, x_val, y_train, y_val = train_test_split(x,y, test_size=0.3, random_state=0)\n",
    "print(x_train.shape, x_val.shape, y_train.shape, y_val.shape)\n",
    "\n",
    "# Normalizando os dados\n",
    "scaler = StandardScaler()\n",
    "x_train_scaled = scaler.fit_transform(x_train)\n",
    "x_val_scaled = scaler.transform(x_val)\n",
    "\n",
    "modelo = LinearRegression(normalize=False)\n",
    "modelo.fit(x_train_scaled, y_train)\n",
    "p = modelo.predict(x_val_scaled)\n",
    "mse = np.sqrt(mean_squared_error(y_val, p))\n",
    "cof = modelo.coef_\n",
    "\n",
    "print(f\"\\n{p}\\n\\n{mse}\\n\\n{cof}\\n\")"
   ]
  },
  {
   "cell_type": "code",
   "execution_count": 32,
   "metadata": {},
   "outputs": [
    {
     "name": "stdout",
     "output_type": "stream",
     "text": [
      "(11900, 8) (5100, 8) (11900,) (5100,)\n",
      "\n",
      "[  2174.95834529  10612.20111213 257540.32608281 ... -87048.82554276\n",
      " -34408.18837591   8981.02533253]\n",
      "\n",
      "219217.21439528995\n",
      "\n",
      "[-86347.90780568 -91686.55531605  14820.25508291 -18738.10696632\n",
      "  50487.93188416 -42342.52251271  14973.15005562  77778.8185199 ]\n",
      "\n"
     ]
    },
    {
     "name": "stderr",
     "output_type": "stream",
     "text": [
      "C:\\Users\\alexsandro.ignacio\\AppData\\Local\\Programs\\Python\\Python39\\lib\\site-packages\\sklearn\\linear_model\\_base.py:148: FutureWarning: 'normalize' was deprecated in version 1.0 and will be removed in 1.2. Please leave the normalize parameter to its default value to silence this warning. The default behavior of this estimator is to not do any normalization. If normalization is needed please use sklearn.preprocessing.StandardScaler instead.\n",
      "  warnings.warn(\n"
     ]
    }
   ],
   "source": [
    "x_train, x_val, y_train, y_val = train_test_split(x,y, test_size=0.3, random_state=0)\n",
    "print(x_train.shape, x_val.shape, y_train.shape, y_val.shape)\n",
    "\n",
    "# Normalizando os dados\n",
    "scaler = StandardScaler()\n",
    "x_train_scaled = scaler.fit_transform(x_train)\n",
    "x_val_scaled = scaler.transform(x_val)\n",
    "\n",
    "modelo = LinearRegression(fit_intercept=False , normalize=False)\n",
    "modelo.fit(x_train_scaled, y_train)\n",
    "p = modelo.predict(x_val_scaled)\n",
    "mse = np.sqrt(mean_squared_error(y_val, p))\n",
    "cof = modelo.coef_\n",
    "\n",
    "print(f\"\\n{p}\\n\\n{mse}\\n\\n{cof}\\n\")"
   ]
  }
 ],
 "metadata": {
  "interpreter": {
   "hash": "2224482022751a6b760c68699b9e9da193a8902a0d83755685929a4158dd5d89"
  },
  "kernelspec": {
   "display_name": "Python 3.8.5 64-bit",
   "name": "python3"
  },
  "language_info": {
   "codemirror_mode": {
    "name": "ipython",
    "version": 3
   },
   "file_extension": ".py",
   "mimetype": "text/x-python",
   "name": "python",
   "nbconvert_exporter": "python",
   "pygments_lexer": "ipython3",
   "version": "3.9.6"
  },
  "orig_nbformat": 4
 },
 "nbformat": 4,
 "nbformat_minor": 2
}
