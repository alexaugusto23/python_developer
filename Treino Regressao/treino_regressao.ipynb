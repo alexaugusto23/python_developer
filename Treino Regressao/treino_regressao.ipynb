{
 "metadata": {
  "language_info": {
   "codemirror_mode": {
    "name": "ipython",
    "version": 3
   },
   "file_extension": ".py",
   "mimetype": "text/x-python",
   "name": "python",
   "nbconvert_exporter": "python",
   "pygments_lexer": "ipython3",
   "version": "3.8.5"
  },
  "orig_nbformat": 4,
  "kernelspec": {
   "name": "python3",
   "display_name": "Python 3.8.5 64-bit"
  },
  "interpreter": {
   "hash": "2224482022751a6b760c68699b9e9da193a8902a0d83755685929a4158dd5d89"
  }
 },
 "nbformat": 4,
 "nbformat_minor": 2,
 "cells": [
  {
   "source": [
    "## Criandos os Imports"
   ],
   "cell_type": "markdown",
   "metadata": {}
  },
  {
   "cell_type": "code",
   "execution_count": 1,
   "metadata": {},
   "outputs": [],
   "source": [
    "import pandas as pandas"
   ]
  },
  {
   "source": [
    "## Leituras dos CSVs"
   ],
   "cell_type": "markdown",
   "metadata": {}
  },
  {
   "cell_type": "code",
   "execution_count": 3,
   "metadata": {},
   "outputs": [],
   "source": [
    "agrupamento = pd.read_csv('agrupamento.csv',sep=',')\n",
    "classicacao_Q1 = pd.read_csv('classificacao_Q1.csv',sep=',')\n",
    "classicacao_Q2 = pd.read_csv('classificacao_Q2.csv',sep=',')\n",
    "regressao_Q1 = pd.read_csv('regressao_Q1.csv',sep=',')\n",
    "regressao_Q2 = pd.read_csv('regressao_Q2.csv',sep=',')\n"
   ]
  },
  {
   "source": [
    "## Visualização dos Dados"
   ],
   "cell_type": "markdown",
   "metadata": {}
  },
  {
   "cell_type": "code",
   "execution_count": 4,
   "metadata": {},
   "outputs": [
    {
     "output_type": "execute_result",
     "data": {
      "text/plain": [
       "         x0        x1        x2        x3        x4\n",
       "0  5.447043  6.319084  2.664620  6.568743  4.802295\n",
       "1  4.875562  4.796801  2.154231  6.832907  5.321401\n",
       "2  5.582920  5.060775  1.895917  6.004299  6.330105\n",
       "3  6.370727  3.717727  1.729007  5.923414  4.533557\n",
       "4  4.789262  4.510056  0.669330  7.731273  4.272356"
      ],
      "text/html": "<div>\n<style scoped>\n    .dataframe tbody tr th:only-of-type {\n        vertical-align: middle;\n    }\n\n    .dataframe tbody tr th {\n        vertical-align: top;\n    }\n\n    .dataframe thead th {\n        text-align: right;\n    }\n</style>\n<table border=\"1\" class=\"dataframe\">\n  <thead>\n    <tr style=\"text-align: right;\">\n      <th></th>\n      <th>x0</th>\n      <th>x1</th>\n      <th>x2</th>\n      <th>x3</th>\n      <th>x4</th>\n    </tr>\n  </thead>\n  <tbody>\n    <tr>\n      <th>0</th>\n      <td>5.447043</td>\n      <td>6.319084</td>\n      <td>2.664620</td>\n      <td>6.568743</td>\n      <td>4.802295</td>\n    </tr>\n    <tr>\n      <th>1</th>\n      <td>4.875562</td>\n      <td>4.796801</td>\n      <td>2.154231</td>\n      <td>6.832907</td>\n      <td>5.321401</td>\n    </tr>\n    <tr>\n      <th>2</th>\n      <td>5.582920</td>\n      <td>5.060775</td>\n      <td>1.895917</td>\n      <td>6.004299</td>\n      <td>6.330105</td>\n    </tr>\n    <tr>\n      <th>3</th>\n      <td>6.370727</td>\n      <td>3.717727</td>\n      <td>1.729007</td>\n      <td>5.923414</td>\n      <td>4.533557</td>\n    </tr>\n    <tr>\n      <th>4</th>\n      <td>4.789262</td>\n      <td>4.510056</td>\n      <td>0.669330</td>\n      <td>7.731273</td>\n      <td>4.272356</td>\n    </tr>\n  </tbody>\n</table>\n</div>"
     },
     "metadata": {},
     "execution_count": 4
    }
   ],
   "source": [
    "agrupamento.head(5)"
   ]
  },
  {
   "cell_type": "code",
   "execution_count": 5,
   "metadata": {},
   "outputs": [
    {
     "output_type": "execute_result",
     "data": {
      "text/plain": [
       "       v_1      v_2      v_3      v_4      v_5      v_6      v_7      v_8  \\\n",
       "0 -1.79796 -1.75901 -2.14257 -0.01878 -0.58601 -3.08224 -1.71369  1.41805   \n",
       "1 -2.78612 -1.60622 -4.05247  3.33814  1.44255 -3.95343 -3.32328  0.71019   \n",
       "2 -1.31957  2.61125 -0.99663  0.34752  0.85253  4.22652  0.84765  0.88530   \n",
       "3 -3.26219 -2.11510  0.68081 -0.49290 -2.45122 -2.37668 -0.00338  3.95559   \n",
       "4  5.26181  1.85527 -2.29242 -0.86763  0.11625 -2.17675 -1.72692 -2.34726   \n",
       "\n",
       "       v_9     v_10     v_11     v_12  target  \n",
       "0  2.29783  1.11745 -3.43483  1.94926       0  \n",
       "1  2.31973  0.57596 -4.22278  0.51171       0  \n",
       "2 -1.01460  1.03488 -0.84593  2.64307       1  \n",
       "3  1.42793  1.68710 -1.35533  2.82004       0  \n",
       "4  1.98107 -4.58177 -2.26649 -3.33875       1  "
      ],
      "text/html": "<div>\n<style scoped>\n    .dataframe tbody tr th:only-of-type {\n        vertical-align: middle;\n    }\n\n    .dataframe tbody tr th {\n        vertical-align: top;\n    }\n\n    .dataframe thead th {\n        text-align: right;\n    }\n</style>\n<table border=\"1\" class=\"dataframe\">\n  <thead>\n    <tr style=\"text-align: right;\">\n      <th></th>\n      <th>v_1</th>\n      <th>v_2</th>\n      <th>v_3</th>\n      <th>v_4</th>\n      <th>v_5</th>\n      <th>v_6</th>\n      <th>v_7</th>\n      <th>v_8</th>\n      <th>v_9</th>\n      <th>v_10</th>\n      <th>v_11</th>\n      <th>v_12</th>\n      <th>target</th>\n    </tr>\n  </thead>\n  <tbody>\n    <tr>\n      <th>0</th>\n      <td>-1.79796</td>\n      <td>-1.75901</td>\n      <td>-2.14257</td>\n      <td>-0.01878</td>\n      <td>-0.58601</td>\n      <td>-3.08224</td>\n      <td>-1.71369</td>\n      <td>1.41805</td>\n      <td>2.29783</td>\n      <td>1.11745</td>\n      <td>-3.43483</td>\n      <td>1.94926</td>\n      <td>0</td>\n    </tr>\n    <tr>\n      <th>1</th>\n      <td>-2.78612</td>\n      <td>-1.60622</td>\n      <td>-4.05247</td>\n      <td>3.33814</td>\n      <td>1.44255</td>\n      <td>-3.95343</td>\n      <td>-3.32328</td>\n      <td>0.71019</td>\n      <td>2.31973</td>\n      <td>0.57596</td>\n      <td>-4.22278</td>\n      <td>0.51171</td>\n      <td>0</td>\n    </tr>\n    <tr>\n      <th>2</th>\n      <td>-1.31957</td>\n      <td>2.61125</td>\n      <td>-0.99663</td>\n      <td>0.34752</td>\n      <td>0.85253</td>\n      <td>4.22652</td>\n      <td>0.84765</td>\n      <td>0.88530</td>\n      <td>-1.01460</td>\n      <td>1.03488</td>\n      <td>-0.84593</td>\n      <td>2.64307</td>\n      <td>1</td>\n    </tr>\n    <tr>\n      <th>3</th>\n      <td>-3.26219</td>\n      <td>-2.11510</td>\n      <td>0.68081</td>\n      <td>-0.49290</td>\n      <td>-2.45122</td>\n      <td>-2.37668</td>\n      <td>-0.00338</td>\n      <td>3.95559</td>\n      <td>1.42793</td>\n      <td>1.68710</td>\n      <td>-1.35533</td>\n      <td>2.82004</td>\n      <td>0</td>\n    </tr>\n    <tr>\n      <th>4</th>\n      <td>5.26181</td>\n      <td>1.85527</td>\n      <td>-2.29242</td>\n      <td>-0.86763</td>\n      <td>0.11625</td>\n      <td>-2.17675</td>\n      <td>-1.72692</td>\n      <td>-2.34726</td>\n      <td>1.98107</td>\n      <td>-4.58177</td>\n      <td>-2.26649</td>\n      <td>-3.33875</td>\n      <td>1</td>\n    </tr>\n  </tbody>\n</table>\n</div>"
     },
     "metadata": {},
     "execution_count": 5
    }
   ],
   "source": [
    "classicacao_Q1.head(5)"
   ]
  },
  {
   "cell_type": "code",
   "execution_count": 6,
   "metadata": {},
   "outputs": [
    {
     "output_type": "execute_result",
     "data": {
      "text/plain": [
       "       v_1      v_2      v_3      v_4      v_5      v_6      v_7      v_8  \\\n",
       "0 -1.39917  0.96108 -0.36145  0.26092  2.78953 -1.55046 -0.79886  0.24304   \n",
       "1 -2.48564  1.24529 -0.39431  1.06648  1.71957 -0.60296 -2.35698 -2.31878   \n",
       "2 -0.57025  0.65495 -0.73706  0.22444 -0.44094 -0.42596  0.44267 -1.74196   \n",
       "3  2.10165  1.46236 -0.25678  2.58908 -3.40158  2.43561  0.74701 -0.65229   \n",
       "4  3.01588 -2.50913 -2.01442  2.10296 -3.05465  5.38227  0.46846  1.57586   \n",
       "\n",
       "       v_9     v_10     v_11     v_12     v_13  target  \n",
       "0  1.51733 -0.03357 -1.51127 -0.97444 -0.01934       0  \n",
       "1  0.95555 -2.00420 -0.75294 -3.64680 -0.55923       0  \n",
       "2 -0.06599 -0.36783  0.93065 -0.72392  0.37139       0  \n",
       "3 -0.45497 -1.57951  2.07367  1.86435 -0.37664       1  \n",
       "4  3.02176 -0.86271 -1.14418 -0.89712  0.61823       1  "
      ],
      "text/html": "<div>\n<style scoped>\n    .dataframe tbody tr th:only-of-type {\n        vertical-align: middle;\n    }\n\n    .dataframe tbody tr th {\n        vertical-align: top;\n    }\n\n    .dataframe thead th {\n        text-align: right;\n    }\n</style>\n<table border=\"1\" class=\"dataframe\">\n  <thead>\n    <tr style=\"text-align: right;\">\n      <th></th>\n      <th>v_1</th>\n      <th>v_2</th>\n      <th>v_3</th>\n      <th>v_4</th>\n      <th>v_5</th>\n      <th>v_6</th>\n      <th>v_7</th>\n      <th>v_8</th>\n      <th>v_9</th>\n      <th>v_10</th>\n      <th>v_11</th>\n      <th>v_12</th>\n      <th>v_13</th>\n      <th>target</th>\n    </tr>\n  </thead>\n  <tbody>\n    <tr>\n      <th>0</th>\n      <td>-1.39917</td>\n      <td>0.96108</td>\n      <td>-0.36145</td>\n      <td>0.26092</td>\n      <td>2.78953</td>\n      <td>-1.55046</td>\n      <td>-0.79886</td>\n      <td>0.24304</td>\n      <td>1.51733</td>\n      <td>-0.03357</td>\n      <td>-1.51127</td>\n      <td>-0.97444</td>\n      <td>-0.01934</td>\n      <td>0</td>\n    </tr>\n    <tr>\n      <th>1</th>\n      <td>-2.48564</td>\n      <td>1.24529</td>\n      <td>-0.39431</td>\n      <td>1.06648</td>\n      <td>1.71957</td>\n      <td>-0.60296</td>\n      <td>-2.35698</td>\n      <td>-2.31878</td>\n      <td>0.95555</td>\n      <td>-2.00420</td>\n      <td>-0.75294</td>\n      <td>-3.64680</td>\n      <td>-0.55923</td>\n      <td>0</td>\n    </tr>\n    <tr>\n      <th>2</th>\n      <td>-0.57025</td>\n      <td>0.65495</td>\n      <td>-0.73706</td>\n      <td>0.22444</td>\n      <td>-0.44094</td>\n      <td>-0.42596</td>\n      <td>0.44267</td>\n      <td>-1.74196</td>\n      <td>-0.06599</td>\n      <td>-0.36783</td>\n      <td>0.93065</td>\n      <td>-0.72392</td>\n      <td>0.37139</td>\n      <td>0</td>\n    </tr>\n    <tr>\n      <th>3</th>\n      <td>2.10165</td>\n      <td>1.46236</td>\n      <td>-0.25678</td>\n      <td>2.58908</td>\n      <td>-3.40158</td>\n      <td>2.43561</td>\n      <td>0.74701</td>\n      <td>-0.65229</td>\n      <td>-0.45497</td>\n      <td>-1.57951</td>\n      <td>2.07367</td>\n      <td>1.86435</td>\n      <td>-0.37664</td>\n      <td>1</td>\n    </tr>\n    <tr>\n      <th>4</th>\n      <td>3.01588</td>\n      <td>-2.50913</td>\n      <td>-2.01442</td>\n      <td>2.10296</td>\n      <td>-3.05465</td>\n      <td>5.38227</td>\n      <td>0.46846</td>\n      <td>1.57586</td>\n      <td>3.02176</td>\n      <td>-0.86271</td>\n      <td>-1.14418</td>\n      <td>-0.89712</td>\n      <td>0.61823</td>\n      <td>1</td>\n    </tr>\n  </tbody>\n</table>\n</div>"
     },
     "metadata": {},
     "execution_count": 6
    }
   ],
   "source": [
    "classicacao_Q2.head(5)"
   ]
  },
  {
   "cell_type": "code",
   "execution_count": 7,
   "metadata": {},
   "outputs": [
    {
     "output_type": "execute_result",
     "data": {
      "text/plain": [
       "       v_1      v_2      v_3      v_4      v_5      v_6      v_7      v_8  \\\n",
       "0 -0.97127 -0.56128  1.20414  2.25145 -0.25802  0.06246 -1.78623 -0.27690   \n",
       "1  0.89456 -0.94099 -0.19972 -0.08354 -0.96865  0.62801  0.91543  0.20413   \n",
       "2 -0.98777 -0.55565 -0.94141 -1.86277  0.38659 -0.02523 -1.26714  1.07328   \n",
       "3  0.03972 -0.99258  0.63481  0.01554 -0.39203 -0.72647  0.46098  0.79395   \n",
       "4 -1.66022 -0.06734 -0.72252 -1.32035  0.06715  2.39937 -1.30566 -0.65222   \n",
       "\n",
       "       v_9     v_10    target  \n",
       "0 -0.22255  0.20963 -0.062202  \n",
       "1 -0.13587  0.96820  0.112596  \n",
       "2 -0.28350  0.34430  0.167633  \n",
       "3  0.22686  0.25065 -0.844727  \n",
       "4  0.36628  0.31644  2.221942  "
      ],
      "text/html": "<div>\n<style scoped>\n    .dataframe tbody tr th:only-of-type {\n        vertical-align: middle;\n    }\n\n    .dataframe tbody tr th {\n        vertical-align: top;\n    }\n\n    .dataframe thead th {\n        text-align: right;\n    }\n</style>\n<table border=\"1\" class=\"dataframe\">\n  <thead>\n    <tr style=\"text-align: right;\">\n      <th></th>\n      <th>v_1</th>\n      <th>v_2</th>\n      <th>v_3</th>\n      <th>v_4</th>\n      <th>v_5</th>\n      <th>v_6</th>\n      <th>v_7</th>\n      <th>v_8</th>\n      <th>v_9</th>\n      <th>v_10</th>\n      <th>target</th>\n    </tr>\n  </thead>\n  <tbody>\n    <tr>\n      <th>0</th>\n      <td>-0.97127</td>\n      <td>-0.56128</td>\n      <td>1.20414</td>\n      <td>2.25145</td>\n      <td>-0.25802</td>\n      <td>0.06246</td>\n      <td>-1.78623</td>\n      <td>-0.27690</td>\n      <td>-0.22255</td>\n      <td>0.20963</td>\n      <td>-0.062202</td>\n    </tr>\n    <tr>\n      <th>1</th>\n      <td>0.89456</td>\n      <td>-0.94099</td>\n      <td>-0.19972</td>\n      <td>-0.08354</td>\n      <td>-0.96865</td>\n      <td>0.62801</td>\n      <td>0.91543</td>\n      <td>0.20413</td>\n      <td>-0.13587</td>\n      <td>0.96820</td>\n      <td>0.112596</td>\n    </tr>\n    <tr>\n      <th>2</th>\n      <td>-0.98777</td>\n      <td>-0.55565</td>\n      <td>-0.94141</td>\n      <td>-1.86277</td>\n      <td>0.38659</td>\n      <td>-0.02523</td>\n      <td>-1.26714</td>\n      <td>1.07328</td>\n      <td>-0.28350</td>\n      <td>0.34430</td>\n      <td>0.167633</td>\n    </tr>\n    <tr>\n      <th>3</th>\n      <td>0.03972</td>\n      <td>-0.99258</td>\n      <td>0.63481</td>\n      <td>0.01554</td>\n      <td>-0.39203</td>\n      <td>-0.72647</td>\n      <td>0.46098</td>\n      <td>0.79395</td>\n      <td>0.22686</td>\n      <td>0.25065</td>\n      <td>-0.844727</td>\n    </tr>\n    <tr>\n      <th>4</th>\n      <td>-1.66022</td>\n      <td>-0.06734</td>\n      <td>-0.72252</td>\n      <td>-1.32035</td>\n      <td>0.06715</td>\n      <td>2.39937</td>\n      <td>-1.30566</td>\n      <td>-0.65222</td>\n      <td>0.36628</td>\n      <td>0.31644</td>\n      <td>2.221942</td>\n    </tr>\n  </tbody>\n</table>\n</div>"
     },
     "metadata": {},
     "execution_count": 7
    }
   ],
   "source": [
    "regressao_Q1.head(5)"
   ]
  },
  {
   "cell_type": "code",
   "execution_count": 8,
   "metadata": {},
   "outputs": [
    {
     "output_type": "execute_result",
     "data": {
      "text/plain": [
       "       v_1      v_2      v_3      v_4      v_5      v_6      v_7      v_8  \\\n",
       "0  1.92864  1.48414  0.86814 -0.67666 -0.28747 -1.45108 -0.73662  0.03134   \n",
       "1  0.22185 -0.55320 -0.29845  0.65870 -0.30132  1.49319 -0.43096  0.33835   \n",
       "2 -0.02183  0.13602 -0.37426 -1.29096  0.71912  1.95088  1.99309 -1.24197   \n",
       "3  0.86528  1.36937  1.27999  1.18124 -0.72465 -0.02175  0.40340 -0.28272   \n",
       "4  1.41333 -0.02920 -0.67228  1.76116 -1.12178  0.18002  0.48476 -0.76394   \n",
       "\n",
       "       v_9     v_10     v_11     v_12      target  \n",
       "0 -0.53872  1.30562  0.11557 -0.30478  127.682465  \n",
       "1 -0.30827  1.25765  1.88584 -0.57726   50.022972  \n",
       "2 -2.15377 -2.01455 -0.84625  0.29845  -24.364369  \n",
       "3 -0.44390  0.84051  0.03326 -0.98550   96.415408  \n",
       "4 -0.16421 -2.42048  0.79727 -0.44033  157.407129  "
      ],
      "text/html": "<div>\n<style scoped>\n    .dataframe tbody tr th:only-of-type {\n        vertical-align: middle;\n    }\n\n    .dataframe tbody tr th {\n        vertical-align: top;\n    }\n\n    .dataframe thead th {\n        text-align: right;\n    }\n</style>\n<table border=\"1\" class=\"dataframe\">\n  <thead>\n    <tr style=\"text-align: right;\">\n      <th></th>\n      <th>v_1</th>\n      <th>v_2</th>\n      <th>v_3</th>\n      <th>v_4</th>\n      <th>v_5</th>\n      <th>v_6</th>\n      <th>v_7</th>\n      <th>v_8</th>\n      <th>v_9</th>\n      <th>v_10</th>\n      <th>v_11</th>\n      <th>v_12</th>\n      <th>target</th>\n    </tr>\n  </thead>\n  <tbody>\n    <tr>\n      <th>0</th>\n      <td>1.92864</td>\n      <td>1.48414</td>\n      <td>0.86814</td>\n      <td>-0.67666</td>\n      <td>-0.28747</td>\n      <td>-1.45108</td>\n      <td>-0.73662</td>\n      <td>0.03134</td>\n      <td>-0.53872</td>\n      <td>1.30562</td>\n      <td>0.11557</td>\n      <td>-0.30478</td>\n      <td>127.682465</td>\n    </tr>\n    <tr>\n      <th>1</th>\n      <td>0.22185</td>\n      <td>-0.55320</td>\n      <td>-0.29845</td>\n      <td>0.65870</td>\n      <td>-0.30132</td>\n      <td>1.49319</td>\n      <td>-0.43096</td>\n      <td>0.33835</td>\n      <td>-0.30827</td>\n      <td>1.25765</td>\n      <td>1.88584</td>\n      <td>-0.57726</td>\n      <td>50.022972</td>\n    </tr>\n    <tr>\n      <th>2</th>\n      <td>-0.02183</td>\n      <td>0.13602</td>\n      <td>-0.37426</td>\n      <td>-1.29096</td>\n      <td>0.71912</td>\n      <td>1.95088</td>\n      <td>1.99309</td>\n      <td>-1.24197</td>\n      <td>-2.15377</td>\n      <td>-2.01455</td>\n      <td>-0.84625</td>\n      <td>0.29845</td>\n      <td>-24.364369</td>\n    </tr>\n    <tr>\n      <th>3</th>\n      <td>0.86528</td>\n      <td>1.36937</td>\n      <td>1.27999</td>\n      <td>1.18124</td>\n      <td>-0.72465</td>\n      <td>-0.02175</td>\n      <td>0.40340</td>\n      <td>-0.28272</td>\n      <td>-0.44390</td>\n      <td>0.84051</td>\n      <td>0.03326</td>\n      <td>-0.98550</td>\n      <td>96.415408</td>\n    </tr>\n    <tr>\n      <th>4</th>\n      <td>1.41333</td>\n      <td>-0.02920</td>\n      <td>-0.67228</td>\n      <td>1.76116</td>\n      <td>-1.12178</td>\n      <td>0.18002</td>\n      <td>0.48476</td>\n      <td>-0.76394</td>\n      <td>-0.16421</td>\n      <td>-2.42048</td>\n      <td>0.79727</td>\n      <td>-0.44033</td>\n      <td>157.407129</td>\n    </tr>\n  </tbody>\n</table>\n</div>"
     },
     "metadata": {},
     "execution_count": 8
    }
   ],
   "source": [
    "regressao_Q2.head(5)"
   ]
  },
  {
   "cell_type": "code",
   "execution_count": null,
   "metadata": {},
   "outputs": [],
   "source": [
    "# https://docs.scipy.org/doc/scipy/reference/generated/scipy.cluster.hierarchy.linkage.html"
   ]
  },
  {
   "cell_type": "code",
   "execution_count": null,
   "metadata": {},
   "outputs": [],
   "source": [
    "from scipy.cluster.hierarchy import dendrogram, linkage\n",
    "from matplotlib import pyplot as plt\n",
    "X = [[i] for agrupamento in [2, 8, 0, 4, 1, 9, 9, 0]]\n",
    "\n",
    "Z = linkage(X, 'ward')\n",
    "fig = plt.figure(figsize=(25, 10))\n",
    "dn = dendrogram(Z)\n",
    "\n",
    "Z = linkage(X, 'single')\n",
    "fig = plt.figure(figsize=(25, 10))\n",
    "dn = dendrogram(Z)\n",
    "plt.show()"
   ]
  }
 ]
}