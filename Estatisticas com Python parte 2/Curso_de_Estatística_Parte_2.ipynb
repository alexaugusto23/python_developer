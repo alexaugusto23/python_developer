{
 "cells": [
  {
   "cell_type": "markdown",
   "metadata": {
    "colab_type": "text",
    "id": "WvMflodMjQKe"
   },
   "source": [
    "***\n",
    "# <font color=green size=10>CURSO DE ESTATÍSTICA - PARTE 2</font>\n",
    "***"
   ]
  },
  {
   "cell_type": "markdown",
   "metadata": {
    "colab_type": "text",
    "id": "cVgsZ_E3jQKg"
   },
   "source": [
    "# <font color=green>1 CONHECENDO OS DADOS</font>\n",
    "***"
   ]
  },
  {
   "cell_type": "markdown",
   "metadata": {
    "colab_type": "text",
    "id": "TDjqYYNojQKh"
   },
   "source": [
    "## <font color=green>1.1 Dataset do projeto</font>\n",
    "***"
   ]
  },
  {
   "cell_type": "markdown",
   "metadata": {
    "colab_type": "text",
    "id": "iN1gIbaKjQKh"
   },
   "source": [
    "### Pesquisa Nacional por Amostra de Domicílios - 2015\n",
    "\n",
    "A **Pesquisa Nacional por Amostra de Domicílios - PNAD** investiga anualmente, de forma permanente, características gerais da população, de educação, trabalho, rendimento e habitação e outras, com periodicidade variável, de acordo com as necessidades de informação para o país, como as características sobre migração, fecundidade, nupcialidade, saúde, segurança alimentar, entre outros temas. O levantamento dessas estatísticas constitui, ao longo dos 49 anos de realização da pesquisa, um importante instrumento para formulação, validação e avaliação de políticas orientadas para o desenvolvimento socioeconômico e a melhoria das condições de vida no Brasil."
   ]
  },
  {
   "cell_type": "markdown",
   "metadata": {
    "colab_type": "text",
    "id": "U6V7br1RjQKi"
   },
   "source": [
    "### Fonte dos Dados\n",
    "\n",
    "https://ww2.ibge.gov.br/home/estatistica/populacao/trabalhoerendimento/pnad2015/microdados.shtm"
   ]
  },
  {
   "cell_type": "markdown",
   "metadata": {
    "colab_type": "text",
    "id": "r0Fe_qnzjQKj"
   },
   "source": [
    "### Variáveis utilizadas\n",
    "\n",
    "> ### Renda\n",
    "> ***\n",
    "\n",
    "Rendimento mensal do trabalho principal para pessoas de 10 anos ou mais de idade.\n",
    "\n",
    "> ### Idade\n",
    "> ***\n",
    "\n",
    "Idade do morador na data de referência em anos.\n",
    "\n",
    "> ### Altura (elaboração própria)\n",
    "> ***\n",
    "\n",
    "Altura do morador em metros.\n",
    "\n",
    "> ### UF\n",
    "> ***\n",
    "\n",
    "|Código|Descrição|\n",
    "|---|---|\n",
    "|11|Rondônia|\n",
    "|12|Acre|\n",
    "|13|Amazonas|\n",
    "|14|Roraima|\n",
    "|15|Pará|\n",
    "|16|Amapá|\n",
    "|17|Tocantins|\n",
    "|21|Maranhão|\n",
    "|22|Piauí|\n",
    "|23|Ceará|\n",
    "|24|Rio Grande do Norte|\n",
    "|25|Paraíba|\n",
    "|26|Pernambuco|\n",
    "|27|Alagoas|\n",
    "|28|Sergipe|\n",
    "|29|Bahia|\n",
    "|31|Minas Gerais|\n",
    "|32|Espírito Santo|\n",
    "|33|Rio de Janeiro|\n",
    "|35|São Paulo|\n",
    "|41|Paraná|\n",
    "|42|Santa Catarina|\n",
    "|43|Rio Grande do Sul|\n",
    "|50|Mato Grosso do Sul|\n",
    "|51|Mato Grosso|\n",
    "|52|Goiás|\n",
    "|53|Distrito Federal|\n",
    "\n",
    "> ### Sexo\t\n",
    "> ***\n",
    "\n",
    "|Código|Descrição|\n",
    "|---|---|\n",
    "|0|Masculino|\n",
    "|1|Feminino|\n",
    "\n",
    "> ### Anos de Estudo\n",
    "> ***\n",
    "\n",
    "|Código|Descrição|\n",
    "|---|---|\n",
    "|1|Sem instrução e menos de 1 ano|\n",
    "|2|1 ano|\n",
    "|3|2 anos|\n",
    "|4|3 anos|\n",
    "|5|4 anos|\n",
    "|6|5 anos|\n",
    "|7|6 anos|\n",
    "|8|7 anos|\n",
    "|9|8 anos|\n",
    "|10|9 anos|\n",
    "|11|10 anos|\n",
    "|12|11 anos|\n",
    "|13|12 anos|\n",
    "|14|13 anos|\n",
    "|15|14 anos|\n",
    "|16|15 anos ou mais|\n",
    "|17|Não determinados| \n",
    "||Não aplicável|\n",
    "\n",
    "> ### Cor\n",
    "> ***\n",
    "\n",
    "|Código|Descrição|\n",
    "|---|---|\n",
    "|0|Indígena|\n",
    "|2|Branca|\n",
    "|4|Preta|\n",
    "|6|Amarela|\n",
    "|8|Parda|\n",
    "|9|Sem declaração|"
   ]
  },
  {
   "cell_type": "markdown",
   "metadata": {
    "colab_type": "text",
    "id": "OK1IQH5cX7Gb"
   },
   "source": [
    "#### <font color='red'>Observação</font>\n",
    "***\n",
    "> Os seguintes tratamentos foram realizados nos dados originais:\n",
    "> 1. Foram eliminados os registros onde a **Renda** era inválida (999 999 999 999);\n",
    "> 2. Foram eliminados os registros onde a **Renda** era missing;\n",
    "> 3. Foram considerados somente os registros das **Pessoas de Referência** de cada domicílio (responsável pelo domicílio)."
   ]
  },
  {
   "cell_type": "markdown",
   "metadata": {
    "colab_type": "text",
    "id": "8Rw70V6ojQKk"
   },
   "source": [
    "### Importando pandas e lendo o dataset do projeto\n",
    "\n",
    "https://pandas.pydata.org/"
   ]
  },
  {
   "cell_type": "code",
   "execution_count": 1,
   "metadata": {
    "colab": {},
    "colab_type": "code",
    "id": "8QgOpE-wjQKl"
   },
   "outputs": [],
   "source": [
    "import pandas as pd"
   ]
  },
  {
   "cell_type": "code",
   "execution_count": 2,
   "metadata": {
    "colab": {},
    "colab_type": "code",
    "id": "ufRZ7TLwjQKo"
   },
   "outputs": [],
   "source": [
    "dados = pd.read_csv('dados/dados.csv')"
   ]
  },
  {
   "cell_type": "code",
   "execution_count": 3,
   "metadata": {
    "colab": {
     "base_uri": "https://localhost:8080/",
     "height": 204
    },
    "colab_type": "code",
    "id": "GsC_WhLFjQKq",
    "outputId": "36b6565f-bb67-47b7-ea64-8d2695c60e6b",
    "scrolled": true
   },
   "outputs": [
    {
     "output_type": "execute_result",
     "data": {
      "text/plain": [
       "   UF  Sexo  Idade  Cor  Anos de Estudo  Renda    Altura\n",
       "0  11     0     23    8              12    800  1.603808\n",
       "1  11     1     23    2              12   1150  1.739790\n",
       "2  11     1     35    8              15    880  1.760444\n",
       "3  11     0     46    2               6   3500  1.783158\n",
       "4  11     1     47    8               9    150  1.690631"
      ],
      "text/html": "<div>\n<style scoped>\n    .dataframe tbody tr th:only-of-type {\n        vertical-align: middle;\n    }\n\n    .dataframe tbody tr th {\n        vertical-align: top;\n    }\n\n    .dataframe thead th {\n        text-align: right;\n    }\n</style>\n<table border=\"1\" class=\"dataframe\">\n  <thead>\n    <tr style=\"text-align: right;\">\n      <th></th>\n      <th>UF</th>\n      <th>Sexo</th>\n      <th>Idade</th>\n      <th>Cor</th>\n      <th>Anos de Estudo</th>\n      <th>Renda</th>\n      <th>Altura</th>\n    </tr>\n  </thead>\n  <tbody>\n    <tr>\n      <th>0</th>\n      <td>11</td>\n      <td>0</td>\n      <td>23</td>\n      <td>8</td>\n      <td>12</td>\n      <td>800</td>\n      <td>1.603808</td>\n    </tr>\n    <tr>\n      <th>1</th>\n      <td>11</td>\n      <td>1</td>\n      <td>23</td>\n      <td>2</td>\n      <td>12</td>\n      <td>1150</td>\n      <td>1.739790</td>\n    </tr>\n    <tr>\n      <th>2</th>\n      <td>11</td>\n      <td>1</td>\n      <td>35</td>\n      <td>8</td>\n      <td>15</td>\n      <td>880</td>\n      <td>1.760444</td>\n    </tr>\n    <tr>\n      <th>3</th>\n      <td>11</td>\n      <td>0</td>\n      <td>46</td>\n      <td>2</td>\n      <td>6</td>\n      <td>3500</td>\n      <td>1.783158</td>\n    </tr>\n    <tr>\n      <th>4</th>\n      <td>11</td>\n      <td>1</td>\n      <td>47</td>\n      <td>8</td>\n      <td>9</td>\n      <td>150</td>\n      <td>1.690631</td>\n    </tr>\n  </tbody>\n</table>\n</div>"
     },
     "metadata": {},
     "execution_count": 3
    }
   ],
   "source": [
    "dados.head()"
   ]
  },
  {
   "cell_type": "markdown",
   "metadata": {
    "colab_type": "text",
    "id": "-z3bLQIUG3Hv"
   },
   "source": [
    "---\n",
    "---"
   ]
  },
  {
   "cell_type": "markdown",
   "metadata": {
    "colab_type": "text",
    "id": "tL9xVLwTX07g"
   },
   "source": [
    "# <font color=green>2 DISTRIBUIÇÕES DE PROBABILIDADE</font>\n",
    "***"
   ]
  },
  {
   "cell_type": "markdown",
   "metadata": {
    "colab_type": "text",
    "id": "3nlvC-5qG3Bj"
   },
   "source": [
    "## <font color=red>Problema</font>\n",
    "***"
   ]
  },
  {
   "cell_type": "markdown",
   "metadata": {
    "colab_type": "text",
    "id": "8CclIz9oG3Bk"
   },
   "source": [
    "Em um concurso para preencher uma vaga de cientista de dados temos um total de **10 questões** de múltipla escolha com **3 alternativas possíveis** em cada questão. **Cada questão tem o mesmo valor.** Suponha que um candidato resolva se aventurar sem ter estudado absolutamente nada. Ele resolve fazer a prova de olhos vendados e chutar todas as resposta. Assumindo que a prova **vale 10 pontos e a nota de corte seja 5**, obtenha a probabilidade deste candidato **acertar 5 questões** e também a probabilidade deste candidato **passar para a próxima etapa do processo seletivo**."
   ]
  },
  {
   "cell_type": "markdown",
   "metadata": {
    "colab_type": "text",
    "id": "KJxd2KFSYLML"
   },
   "source": [
    "## <font color=green>2.1 Distribuição Binomial</font>\n",
    "***"
   ]
  },
  {
   "cell_type": "markdown",
   "metadata": {
    "colab_type": "text",
    "id": "mcbl3KbnG3Bq"
   },
   "source": [
    "Um evento **binomial** é caracterizado pela possibilidade de ocorrência de apenas duas categorias. Estas categorias somadas representam todo o espaço amostral, sendo também mutuamente excludentes, ou seja, a ocorrência de uma implica na não ocorrência da outra.\n",
    "\n",
    "Em análises estatísticas o uso mais comum da distribuição binomial é na solução de problemas que envolvem situações de **sucesso** e **fracasso**."
   ]
  },
  {
   "cell_type": "markdown",
   "metadata": {
    "colab_type": "text",
    "id": "iLoYAuJ9G3Bs"
   },
   "source": [
    "# $$P(k)=\\binom{n}{k} p^k q^{n-k}$$\n",
    "\n",
    "Onde:\n",
    "\n",
    "$p$ = probabilidade de sucesso\n",
    "\n",
    "$q = (1 - p)$ = probabilidade de fracasso\n",
    "\n",
    "$n$ = número de eventos estudados\n",
    "\n",
    "$k$ = número de eventos desejados que tenham sucesso"
   ]
  },
  {
   "cell_type": "markdown",
   "metadata": {
    "colab_type": "text",
    "id": "PxEgWbFdG3Bt"
   },
   "source": [
    "### Experimento Binomial"
   ]
  },
  {
   "cell_type": "markdown",
   "metadata": {
    "colab_type": "text",
    "id": "eqQK3Ny-G3Bv"
   },
   "source": [
    "1. Realização de $n$ ensaios idênticos.\n",
    "\n",
    "2. Os ensaios são independentes.\n",
    "\n",
    "3. Somente dois resultados são possíveis, exemplo: Verdadeiro ou falso; Cara ou coroa; Sucesso ou fracasso.\n",
    "\n",
    "4. A probabilidade de sucesso é representada por $p$ e a de fracasso por $1-p=q$. Estas probabilidades não se modificam de ensaio para ensaio."
   ]
  },
  {
   "cell_type": "markdown",
   "metadata": {
    "colab_type": "text",
    "id": "mT77udQ0G3Bx"
   },
   "source": [
    "### Média da distribuição binomial"
   ]
  },
  {
   "cell_type": "markdown",
   "metadata": {
    "colab_type": "text",
    "id": "EGiuemgqG3By"
   },
   "source": [
    "O valor esperado ou a média da distribuição binomial é igual ao número de experimentos realizados multiplicado pela chance de ocorrência do evento.\n",
    "\n",
    "# $$\\mu = n \\times p$$"
   ]
  },
  {
   "cell_type": "markdown",
   "metadata": {
    "colab_type": "text",
    "id": "1fDLi96OG3Bz"
   },
   "source": [
    "### Desvio padrão da distribuição binomial"
   ]
  },
  {
   "cell_type": "markdown",
   "metadata": {
    "colab_type": "text",
    "id": "EZojizotG3B1"
   },
   "source": [
    "O desvio padrão é o produto entre o número de experimentos, a probabilidade de sucesso e a probabilidade de fracasso.\n",
    "\n",
    "# $$\\sigma = \\sqrt{n \\times p \\times q}$$"
   ]
  },
  {
   "cell_type": "markdown",
   "metadata": {
    "colab_type": "text",
    "id": "udqnjFnsG3B2"
   },
   "source": [
    "### Importando bibliotecas\n",
    "https://docs.scipy.org/doc/scipy/reference/generated/scipy.special.comb.html"
   ]
  },
  {
   "cell_type": "code",
   "execution_count": 4,
   "metadata": {
    "colab": {},
    "colab_type": "code",
    "id": "-U2sGssNG3B4"
   },
   "outputs": [],
   "source": [
    "from scipy.special import comb"
   ]
  },
  {
   "cell_type": "markdown",
   "metadata": {
    "colab_type": "text",
    "id": "MxxuJNSwG3B7"
   },
   "source": [
    "### Combinações\n",
    "\n",
    "Número de combinações de $n$ objetos, tomados $k$ a cada vez, é:\n",
    "\n",
    "# $$C_{k}^{n} = \\binom{n}{k} = \\frac{n!}{k!(n - k)!}$$\n",
    "\n",
    "Onde\n",
    "\n",
    "## $$n! = n\\times(n-1)\\times(n-2)\\times...\\times(2)\\times(1)$$\n",
    "## $$k! = k\\times(k-1)\\times(k-2)\\times...\\times(2)\\times(1)$$\n",
    "\n",
    "Por definição\n",
    "\n",
    "## $$0! = 1$$"
   ]
  },
  {
   "cell_type": "markdown",
   "metadata": {
    "colab_type": "text",
    "id": "Udz87Pq3G3B8"
   },
   "source": [
    "## <font color='blue'>Exemplo: Mega Sena</font>"
   ]
  },
  {
   "cell_type": "markdown",
   "metadata": {
    "colab_type": "text",
    "id": "h1Mo9AxyG3B8"
   },
   "source": [
    "Em um volante de loteria da Mega Sena temos um total de **60 números** para escolher onde a aposta mínima é de **seis números**. Você que é curiosa(o) resolve calcular a probabilidade de se acertar na Mega Sena com apenas **um jogo**. Para isso precisamos saber quantas **combinações de seis números podem ser formadas com os 60 números disponíveis**.\n",
    "\n",
    "### $$C_{6}^{60} = \\binom{60}{6} = \\frac{60!}{6!(60 - 6)!}$$"
   ]
  },
  {
   "cell_type": "code",
   "execution_count": 5,
   "metadata": {
    "colab": {
     "base_uri": "https://localhost:8080/",
     "height": 34
    },
    "colab_type": "code",
    "id": "c2t7yHl7G3B9",
    "outputId": "6d1e9337-9d68-4866-9e48-3dbb3f81d07d"
   },
   "outputs": [
    {
     "output_type": "execute_result",
     "data": {
      "text/plain": [
       "50063860.0"
      ]
     },
     "metadata": {},
     "execution_count": 5
    }
   ],
   "source": [
    "combinacoes = comb(60, 6)\n",
    "combinacoes"
   ]
  },
  {
   "cell_type": "code",
   "execution_count": 6,
   "metadata": {
    "colab": {
     "base_uri": "https://localhost:8080/",
     "height": 34
    },
    "colab_type": "code",
    "id": "LpioeTSXG3CB",
    "outputId": "d1e0ab82-be84-423c-e206-a9f8e1437df4"
   },
   "outputs": [
    {
     "output_type": "stream",
     "name": "stdout",
     "text": [
      " 0.000000019974489\n"
     ]
    }
   ],
   "source": [
    "probabilidade = 1/combinacoes\n",
    "print(f\" {probabilidade:.15f}\")"
   ]
  },
  {
   "cell_type": "markdown",
   "metadata": {
    "colab_type": "text",
    "id": "t1rA1yJpG3CF"
   },
   "source": [
    "## <font color='blue'>Exemplo: Concurso para cientista de dados</font>"
   ]
  },
  {
   "cell_type": "markdown",
   "metadata": {
    "colab_type": "text",
    "id": "K0DPDD37G3CG"
   },
   "source": [
    "Em um concurso para preencher uma vaga de cientista de dados temos um total de **10 questões** de múltipla escolha com **3 alternativas possíveis** em cada questão. **Cada questão tem o mesmo valor.** Suponha que um candidato resolva se aventurar sem ter estudado absolutamente nada. Ele resolve fazer a prova de olhos vendados e chutar todas as resposta. Assumindo que a prova **vale 10 pontos e a nota de corte seja 5**, obtenha a probabilidade deste candidato **acertar 5 questões** e também a probabilidade deste candidato **passar para a próxima etapa do processo seletivo**."
   ]
  },
  {
   "cell_type": "markdown",
   "metadata": {
    "colab_type": "text",
    "id": "sf-NMPfxG3CH"
   },
   "source": [
    "### Qual o número de ensaios ($n$)?"
   ]
  },
  {
   "cell_type": "code",
   "execution_count": 7,
   "metadata": {
    "colab": {
     "base_uri": "https://localhost:8080/",
     "height": 34
    },
    "colab_type": "code",
    "id": "WmnjMTnYG3CH",
    "outputId": "859f37e5-992a-4ccf-fbfb-4e2cf52c4373"
   },
   "outputs": [
    {
     "output_type": "execute_result",
     "data": {
      "text/plain": [
       "10"
      ]
     },
     "metadata": {},
     "execution_count": 7
    }
   ],
   "source": [
    "n = 10\n",
    "n"
   ]
  },
  {
   "cell_type": "markdown",
   "metadata": {
    "colab_type": "text",
    "id": "1USf9Ro8G3CK"
   },
   "source": [
    "### Os ensaios são independentes?"
   ]
  },
  {
   "cell_type": "markdown",
   "metadata": {
    "colab_type": "text",
    "id": "82xf2XIkG3CM"
   },
   "source": [
    "Sim. A opção escolhida em uma questão não influencia em nada a opção escolhida em outra questão."
   ]
  },
  {
   "cell_type": "markdown",
   "metadata": {
    "colab_type": "text",
    "id": "7jN0H5e7G3CN"
   },
   "source": [
    "### Somente dois resultados são possíveis em cada ensaio?"
   ]
  },
  {
   "cell_type": "markdown",
   "metadata": {
    "colab_type": "text",
    "id": "gGxcY7K8G3CO"
   },
   "source": [
    "Sim. O candidato tem duas possibilidades, ACERTA ou ERRAR uma questão. "
   ]
  },
  {
   "cell_type": "markdown",
   "metadata": {
    "colab_type": "text",
    "id": "MZw2LDQjG3CR"
   },
   "source": [
    "### Qual a probabilidade de sucesso ($p$)?"
   ]
  },
  {
   "cell_type": "code",
   "execution_count": 8,
   "metadata": {
    "colab": {
     "base_uri": "https://localhost:8080/",
     "height": 34
    },
    "colab_type": "code",
    "id": "AazGDtt0G3CS",
    "outputId": "ccb9e561-0413-43c8-c462-ebea4b6c1097"
   },
   "outputs": [
    {
     "output_type": "execute_result",
     "data": {
      "text/plain": [
       "0.3333333333333333"
      ]
     },
     "metadata": {},
     "execution_count": 8
    }
   ],
   "source": [
    "numero_de_alternativas_por_questao = 3\n",
    "p = 1/ numero_de_alternativas_por_questao\n",
    "p"
   ]
  },
  {
   "cell_type": "markdown",
   "metadata": {
    "colab_type": "text",
    "id": "KPCw41OlG3CX"
   },
   "source": [
    "### Qual a probabilidade de fracasso ($q$)?"
   ]
  },
  {
   "cell_type": "code",
   "execution_count": 9,
   "metadata": {
    "colab": {
     "base_uri": "https://localhost:8080/",
     "height": 34
    },
    "colab_type": "code",
    "id": "FRhmjCnpG3CZ",
    "outputId": "f521f041-ecf4-4c4c-b696-da7b949d657a"
   },
   "outputs": [
    {
     "output_type": "execute_result",
     "data": {
      "text/plain": [
       "0.6666666666666667"
      ]
     },
     "metadata": {},
     "execution_count": 9
    }
   ],
   "source": [
    "q =  1 - p\n",
    "q"
   ]
  },
  {
   "cell_type": "markdown",
   "metadata": {
    "colab_type": "text",
    "id": "W2htpmzaG3Ce"
   },
   "source": [
    "### Qual o total de eventos que se deseja obter sucesso ($k$)?"
   ]
  },
  {
   "cell_type": "code",
   "execution_count": 10,
   "metadata": {
    "colab": {
     "base_uri": "https://localhost:8080/",
     "height": 34
    },
    "colab_type": "code",
    "id": "MmHpiIIuG3Cj",
    "outputId": "6975cb4f-5cd3-4234-f7b0-b5d01ceb0430"
   },
   "outputs": [
    {
     "output_type": "execute_result",
     "data": {
      "text/plain": [
       "5"
      ]
     },
     "metadata": {},
     "execution_count": 10
    }
   ],
   "source": [
    "k = 5\n",
    "k"
   ]
  },
  {
   "cell_type": "markdown",
   "metadata": {
    "colab_type": "text",
    "id": "r8TZ6DSuG3Cm"
   },
   "source": [
    "### Solução 1"
   ]
  },
  {
   "cell_type": "code",
   "execution_count": 11,
   "metadata": {
    "colab": {
     "base_uri": "https://localhost:8080/",
     "height": 34
    },
    "colab_type": "code",
    "id": "tZBbMIzKG3Cn",
    "outputId": "cb9ddc72-bd3a-40e6-f432-ad02048a3047"
   },
   "outputs": [
    {
     "output_type": "stream",
     "name": "stdout",
     "text": [
      "0.13656455\n"
     ]
    }
   ],
   "source": [
    "probabilidade = (comb(n, k) * (p ** k) * (q ** (n - k)))\n",
    "print('%0.8f' % probabilidade)"
   ]
  },
  {
   "cell_type": "code",
   "execution_count": null,
   "metadata": {},
   "outputs": [],
   "source": []
  },
  {
   "cell_type": "markdown",
   "metadata": {
    "colab_type": "text",
    "id": "rDwUvW5UG3Cq"
   },
   "source": [
    "### Importando bibliotecas\n",
    "https://docs.scipy.org/doc/scipy/reference/generated/scipy.stats.binom.html"
   ]
  },
  {
   "cell_type": "code",
   "execution_count": 12,
   "metadata": {
    "colab": {},
    "colab_type": "code",
    "id": "rhlsI3iLG3Cr"
   },
   "outputs": [],
   "source": [
    "from scipy.stats import binom"
   ]
  },
  {
   "cell_type": "markdown",
   "metadata": {
    "colab_type": "text",
    "id": "hvj2sYaSG3Ct"
   },
   "source": [
    "### Solução 2"
   ]
  },
  {
   "cell_type": "code",
   "execution_count": 13,
   "metadata": {
    "colab": {
     "base_uri": "https://localhost:8080/",
     "height": 34
    },
    "colab_type": "code",
    "id": "OjS1xsz5G3Cu",
    "outputId": "e5406623-9e3e-4d41-d1de-c774dc96bc17"
   },
   "outputs": [
    {
     "output_type": "stream",
     "name": "stdout",
     "text": [
      "0.13656455\n"
     ]
    }
   ],
   "source": [
    "probabilidade = binom.pmf(k, n, p)\n",
    "print('%0.8f' % probabilidade)"
   ]
  },
  {
   "cell_type": "markdown",
   "metadata": {},
   "source": [
    "### Obter a probabilidade do candidato passar"
   ]
  },
  {
   "cell_type": "markdown",
   "metadata": {},
   "source": [
    "### $$P(acertar \\geq 5) = P(5) + P(6) + P(7) + P(8) + P(9) + P10)$$"
   ]
  },
  {
   "cell_type": "code",
   "execution_count": 14,
   "metadata": {},
   "outputs": [
    {
     "output_type": "execute_result",
     "data": {
      "text/plain": [
       "0.21312808006909525"
      ]
     },
     "metadata": {},
     "execution_count": 14
    }
   ],
   "source": [
    "prob_acerto = binom.pmf(5, n, p)  +  binom.pmf(6, n, p) + binom.pmf(7, n, p) + binom.pmf(8, n, p) + binom.pmf(9, n, p) + binom.pmf(10, n, p) \n",
    "prob_acerto"
   ]
  },
  {
   "cell_type": "code",
   "execution_count": 15,
   "metadata": {},
   "outputs": [
    {
     "output_type": "execute_result",
     "data": {
      "text/plain": [
       "0.21312808006909525"
      ]
     },
     "metadata": {},
     "execution_count": 15
    }
   ],
   "source": [
    "k = [5, 6, 7, 8, 9, 10]\n",
    "prob = binom.pmf(k, n, p).sum()\n",
    "prob"
   ]
  },
  {
   "cell_type": "code",
   "execution_count": 16,
   "metadata": {},
   "outputs": [
    {
     "output_type": "execute_result",
     "data": {
      "text/plain": [
       "0.21312808006909512"
      ]
     },
     "metadata": {},
     "execution_count": 16
    }
   ],
   "source": [
    "1 - binom.cdf(4, n, p)"
   ]
  },
  {
   "cell_type": "code",
   "execution_count": 17,
   "metadata": {},
   "outputs": [
    {
     "output_type": "execute_result",
     "data": {
      "text/plain": [
       "0.21312808006909517"
      ]
     },
     "metadata": {},
     "execution_count": 17
    }
   ],
   "source": [
    "binom.sf(4, n, p)"
   ]
  },
  {
   "cell_type": "markdown",
   "metadata": {
    "colab_type": "text",
    "id": "7hAZ4XkMG3Cx"
   },
   "source": [
    "## <font color='blue'>Exemplo: Gincana</font>"
   ]
  },
  {
   "cell_type": "markdown",
   "metadata": {
    "colab_type": "text",
    "id": "l42alRhOG3Cy"
   },
   "source": [
    "Uma cidade do interior realiza todos os anos uma gincana para arrecadar fundos para o hospital da cidade. Na última gincana se sabe que a **proporção de participantes do sexo feminino foi de 60%**. **O total de equipes, com 12 integrantes, inscritas na gincana deste ano é de 30**. Com as informações acima responda: Quantas equipes deverão ser formadas por **8 mulheres**?"
   ]
  },
  {
   "cell_type": "markdown",
   "metadata": {
    "colab_type": "text",
    "id": "dqBGf6d7G3C0"
   },
   "source": [
    "### Solução"
   ]
  },
  {
   "cell_type": "code",
   "execution_count": 18,
   "metadata": {
    "colab": {
     "base_uri": "https://localhost:8080/",
     "height": 34
    },
    "colab_type": "code",
    "id": "Xw9b6ch3G3C1",
    "outputId": "b4bb8b11-5113-4cc9-bac1-59e9acaf67e6"
   },
   "outputs": [
    {
     "output_type": "execute_result",
     "data": {
      "text/plain": [
       "0.6"
      ]
     },
     "metadata": {},
     "execution_count": 18
    }
   ],
   "source": [
    "p = 0.6\n",
    "p"
   ]
  },
  {
   "cell_type": "code",
   "execution_count": 19,
   "metadata": {
    "colab": {
     "base_uri": "https://localhost:8080/",
     "height": 34
    },
    "colab_type": "code",
    "id": "R3-RaxP5G3C3",
    "outputId": "180b09ba-666e-47c9-b476-224c71fdd5c0"
   },
   "outputs": [
    {
     "output_type": "execute_result",
     "data": {
      "text/plain": [
       "12"
      ]
     },
     "metadata": {},
     "execution_count": 19
    }
   ],
   "source": [
    "n = 12\n",
    "n"
   ]
  },
  {
   "cell_type": "code",
   "execution_count": 20,
   "metadata": {
    "colab": {
     "base_uri": "https://localhost:8080/",
     "height": 34
    },
    "colab_type": "code",
    "id": "otBHHyD0G3C6",
    "outputId": "c3bdd1ab-763a-43db-ec2e-fb890aa78e3f"
   },
   "outputs": [
    {
     "output_type": "execute_result",
     "data": {
      "text/plain": [
       "8"
      ]
     },
     "metadata": {},
     "execution_count": 20
    }
   ],
   "source": [
    "k = 8\n",
    "k"
   ]
  },
  {
   "cell_type": "code",
   "execution_count": 21,
   "metadata": {
    "colab": {
     "base_uri": "https://localhost:8080/",
     "height": 34
    },
    "colab_type": "code",
    "id": "ZAoBvbQqG3C9",
    "outputId": "62d68ce0-f87f-4879-cc48-4358a7f23a68"
   },
   "outputs": [
    {
     "output_type": "stream",
     "name": "stdout",
     "text": [
      "0.21284094\n"
     ]
    }
   ],
   "source": [
    "prob = binom.pmf(k, n, p).sum()\n",
    "print('%0.8f' % prob)"
   ]
  },
  {
   "cell_type": "code",
   "execution_count": 22,
   "metadata": {
    "colab": {
     "base_uri": "https://localhost:8080/",
     "height": 34
    },
    "colab_type": "code",
    "id": "Tg53uGL4G3DA",
    "outputId": "cf68634d-68fd-41c5-a9a1-98c5ead8b548"
   },
   "outputs": [
    {
     "output_type": "execute_result",
     "data": {
      "text/plain": [
       "6.385228185599988"
      ]
     },
     "metadata": {},
     "execution_count": 22
    }
   ],
   "source": [
    "equipes = 30 * prob\n",
    "equipes"
   ]
  },
  {
   "source": [
    "Uma moeda, perfeitamente equilibrada, é lançada para o alto quatro vezes. Utilizando a distribuição binomial, obtenha a probabilidade de a moeda cair com a face coroa voltada para cima duas vezes."
   ],
   "cell_type": "markdown",
   "metadata": {}
  },
  {
   "cell_type": "code",
   "execution_count": 23,
   "metadata": {},
   "outputs": [
    {
     "output_type": "execute_result",
     "data": {
      "text/plain": [
       "0.3750000000000001"
      ]
     },
     "metadata": {},
     "execution_count": 23
    }
   ],
   "source": [
    "from scipy.stats import binom\n",
    "\n",
    "p = 1 / 2  # Probabilidade de sair COROA\n",
    "n = 4      # Total de lançamentos\n",
    "k = 2      # Total de sucessos (faces COROA voltada para cima)\n",
    "\n",
    "binom.pmf(k, n, p)"
   ]
  },
  {
   "source": [
    "Um dado, perfeitamente equilibrado, é lançado para o alto dez vezes. Utilizando a distribuição binomial, obtenha a probabilidade de o dado cair com o número cinco voltado para cima pelo menos três vezes."
   ],
   "cell_type": "markdown",
   "metadata": {}
  },
  {
   "cell_type": "code",
   "execution_count": 24,
   "metadata": {},
   "outputs": [
    {
     "output_type": "stream",
     "name": "stdout",
     "text": [
      "22.48%\n"
     ]
    }
   ],
   "source": [
    "from scipy.stats import binom\n",
    "\n",
    "p = 1 / 6   # Probabilidade de sair o número CINCO\n",
    "n = 10      # Total de lançamentos\n",
    "\n",
    "print(\"{0:.2%}\".format(binom.sf(2, n, p)))"
   ]
  },
  {
   "source": [
    "Suponha que a probabilidade de um casal ter filhos com olhos azuis seja de 22%. Em 50 famílias, com 3 crianças cada uma, quantas podemos esperar que tenham dois filhos com olhos azuis?"
   ],
   "cell_type": "markdown",
   "metadata": {}
  },
  {
   "cell_type": "code",
   "execution_count": 25,
   "metadata": {},
   "outputs": [
    {
     "output_type": "execute_result",
     "data": {
      "text/plain": [
       "5.662799999999999"
      ]
     },
     "metadata": {},
     "execution_count": 25
    }
   ],
   "source": [
    "p = 0.22\n",
    "n = 3\n",
    "k = 2\n",
    "N = 50\n",
    "\n",
    "probabilidade = binom.pmf(k, n, p)\n",
    "\n",
    "media = probabilidade * N\n",
    "media"
   ]
  },
  {
   "cell_type": "markdown",
   "metadata": {
    "colab_type": "text",
    "id": "49TiCQRvG3DC"
   },
   "source": [
    "---\n",
    "---"
   ]
  },
  {
   "cell_type": "markdown",
   "metadata": {
    "colab_type": "text",
    "id": "X6bYonAZG3DE"
   },
   "source": [
    "## <font color=red>Problema</font>\n",
    "***"
   ]
  },
  {
   "cell_type": "markdown",
   "metadata": {
    "colab_type": "text",
    "id": "Ccx-Bc9oG3DH"
   },
   "source": [
    "Um restaurante recebe em média **20 pedidos por hora**. Qual a chance de que, em determinada hora escolhida ao acaso, o restaurante receba **15 pedidos**?"
   ]
  },
  {
   "cell_type": "markdown",
   "metadata": {
    "colab_type": "text",
    "id": "k-uV7bgsmand"
   },
   "source": [
    "## <font color=green>2.2 Distribuição Poisson</font>\n",
    "***"
   ]
  },
  {
   "cell_type": "markdown",
   "metadata": {
    "colab_type": "text",
    "id": "H0jPtJICG3DM"
   },
   "source": [
    "É empregada para descrever o número de ocorrências em um intervalo de tempo ou espaço específico. Os eventos são caracterizados pela possibilidade de contagem dos sucessos, mas a não possibilidade de contagem dos fracassos.\n",
    "\n",
    "Como exemplos de processos onde podemos aplicar a distribuição de Poisson temos a determinação do número de clientes que entram em uma loja em determinada hora, o número de carros que chegam em um drive-thru de uma lanchonete na hora do almoço, a determinação do número de acidentes registrados em um trecho de estrada etc."
   ]
  },
  {
   "cell_type": "markdown",
   "metadata": {
    "colab_type": "text",
    "id": "O_XqwANJG3DN"
   },
   "source": [
    "# $$P(k) = \\frac{e^{-\\mu}(\\mu)^k}{k!}$$\n",
    "\n",
    "Onde:\n",
    "\n",
    "$e$ = constante cujo valor aproximado é 2,718281828459045\n",
    "\n",
    "$\\mu$ = representa o número médio de ocorrências em um determinado intervalo de tempo ou espaço\n",
    "\n",
    "$k$ = número de sucessos no intervalo desejado"
   ]
  },
  {
   "cell_type": "markdown",
   "metadata": {
    "colab_type": "text",
    "id": "FqquU8wOG3DO"
   },
   "source": [
    "### Experimento Poisson"
   ]
  },
  {
   "cell_type": "markdown",
   "metadata": {
    "colab_type": "text",
    "id": "ir2odEW3G3DO"
   },
   "source": [
    "1. A probabilidade de uma ocorrência é a mesma em todo o intervalo observado.\n",
    "\n",
    "2. O número de ocorrências em determinado intervalo é independente do número de ocorrências em outros intervalos.\n",
    "\n",
    "3. A probabilidade de uma ocorrência é a mesma em intervalos de igual comprimento."
   ]
  },
  {
   "cell_type": "markdown",
   "metadata": {
    "colab_type": "text",
    "id": "2INlWMa0G3DP"
   },
   "source": [
    "### Média da distribuição Poisson"
   ]
  },
  {
   "cell_type": "markdown",
   "metadata": {
    "colab_type": "text",
    "id": "xywTsniCG3DP"
   },
   "source": [
    "# $$\\mu$$"
   ]
  },
  {
   "cell_type": "markdown",
   "metadata": {
    "colab_type": "text",
    "id": "7-Lh-LpfG3DQ"
   },
   "source": [
    "### Desvio padrão da distribuição Poisson"
   ]
  },
  {
   "cell_type": "markdown",
   "metadata": {
    "colab_type": "text",
    "id": "61uStWUsG3DQ"
   },
   "source": [
    "# $$\\sigma = \\sqrt{\\mu}$$"
   ]
  },
  {
   "cell_type": "markdown",
   "metadata": {
    "colab_type": "text",
    "id": "vniBmzIMG3DR"
   },
   "source": [
    "### Importando bibliotecas\n",
    "\n",
    "http://www.numpy.org/"
   ]
  },
  {
   "source": [
    "número de Euler"
   ],
   "cell_type": "markdown",
   "metadata": {}
  },
  {
   "cell_type": "code",
   "execution_count": 26,
   "metadata": {
    "colab": {},
    "colab_type": "code",
    "id": "w23fjVT-G3DS"
   },
   "outputs": [],
   "source": [
    "import numpy as np"
   ]
  },
  {
   "cell_type": "code",
   "execution_count": 27,
   "metadata": {
    "colab": {
     "base_uri": "https://localhost:8080/",
     "height": 34
    },
    "colab_type": "code",
    "id": "rdNqMuFNG3DU",
    "outputId": "fad8f9cf-efe3-44e4-8bd3-7495c4161845"
   },
   "outputs": [
    {
     "output_type": "execute_result",
     "data": {
      "text/plain": [
       "2.718281828459045"
      ]
     },
     "metadata": {},
     "execution_count": 27
    }
   ],
   "source": [
    "np.e"
   ]
  },
  {
   "cell_type": "markdown",
   "metadata": {
    "colab_type": "text",
    "id": "RKQWuVgMG3DW"
   },
   "source": [
    "## <font color='blue'>Exemplo: Delivery</font>"
   ]
  },
  {
   "cell_type": "markdown",
   "metadata": {
    "colab_type": "text",
    "id": "ZKc__49bG3DX"
   },
   "source": [
    "Um restaurante recebe em média **20 pedidos por hora**. Qual a chance de que, em determinada hora escolhida ao acaso, o restaurante receba **15 pedidos**?"
   ]
  },
  {
   "cell_type": "markdown",
   "metadata": {
    "colab_type": "text",
    "id": "W-MJ4XBkG3DX"
   },
   "source": [
    "### Qual o número médio de ocorrências por hora ($\\mu$)?"
   ]
  },
  {
   "cell_type": "code",
   "execution_count": 28,
   "metadata": {
    "colab": {
     "base_uri": "https://localhost:8080/",
     "height": 34
    },
    "colab_type": "code",
    "id": "2fVfJxdSG3DY",
    "outputId": "5f93f4cb-eef7-459d-836c-eb825cf3f1d5"
   },
   "outputs": [
    {
     "output_type": "execute_result",
     "data": {
      "text/plain": [
       "20"
      ]
     },
     "metadata": {},
     "execution_count": 28
    }
   ],
   "source": [
    "media = 20\n",
    "media"
   ]
  },
  {
   "cell_type": "markdown",
   "metadata": {
    "colab_type": "text",
    "id": "3SagRtPvG3Da"
   },
   "source": [
    "### Qual o número de ocorrências que queremos obter no período ($k$)?"
   ]
  },
  {
   "cell_type": "code",
   "execution_count": 29,
   "metadata": {},
   "outputs": [
    {
     "output_type": "execute_result",
     "data": {
      "text/plain": [
       "15"
      ]
     },
     "metadata": {},
     "execution_count": 29
    }
   ],
   "source": [
    "k = 15\n",
    "k"
   ]
  },
  {
   "cell_type": "markdown",
   "metadata": {
    "colab_type": "text",
    "id": "3wFh3lFCG3De"
   },
   "source": [
    "### Solução 1"
   ]
  },
  {
   "cell_type": "code",
   "execution_count": 30,
   "metadata": {
    "colab": {
     "base_uri": "https://localhost:8080/",
     "height": 34
    },
    "colab_type": "code",
    "id": "yXB3QhWyG3Da",
    "outputId": "70e860fe-353f-43ba-98e9-0976282de023"
   },
   "outputs": [
    {
     "output_type": "stream",
     "name": "stdout",
     "text": [
      "0.05164885\n"
     ]
    }
   ],
   "source": [
    "probabilidade_poisson = ((np.e ** (-media)) * (media ** k)) / (np.math.factorial(k))\n",
    "\n",
    "print(f\"{probabilidade_poisson:0.8f}\")"
   ]
  },
  {
   "cell_type": "markdown",
   "metadata": {
    "colab_type": "text",
    "id": "yAyXh0euG3Dk"
   },
   "source": [
    "### Solução 2"
   ]
  },
  {
   "source": [
    "from scipy.stats import poisson\n",
    "\n",
    "probabilidade_poisson = poisson.pmf(k, media)\n",
    "print(f\"{probabilidade_poisson:0.8f}\")"
   ],
   "cell_type": "code",
   "metadata": {
    "colab": {
     "base_uri": "https://localhost:8080/",
     "height": 34
    },
    "colab_type": "code",
    "id": "IEGO31WCG3Df",
    "outputId": "3ededd4d-1b97-428a-ad3f-1b8facfc3e38"
   },
   "execution_count": 31,
   "outputs": [
    {
     "output_type": "stream",
     "name": "stdout",
     "text": [
      "0.05164885\n"
     ]
    }
   ]
  },
  {
   "source": [
    "O número médio de clientes que entram em uma padaria por hora é igual a 20. Obtenha a probabilidade de, na próxima hora, entrarem exatamente 25 clientes."
   ],
   "cell_type": "markdown",
   "metadata": {}
  },
  {
   "cell_type": "code",
   "execution_count": 32,
   "metadata": {},
   "outputs": [
    {
     "output_type": "stream",
     "name": "stdout",
     "text": [
      "4,46%\n"
     ]
    }
   ],
   "source": [
    "k, media = 25, 20\n",
    "probabilidade_poisson = poisson.pmf(k, media)\n",
    "print(f\"{probabilidade_poisson*100 :0.2f}%\".replace(\".\",\",\"))"
   ]
  },
  {
   "cell_type": "markdown",
   "metadata": {
    "colab_type": "text",
    "id": "GoIBvH62G3Di"
   },
   "source": [
    "### Importando bibliotecas"
   ]
  },
  {
   "cell_type": "markdown",
   "metadata": {
    "colab_type": "text",
    "id": "iFSF_9Y4G3Dj"
   },
   "source": [
    "https://docs.scipy.org/doc/scipy/reference/generated/scipy.stats.poisson.html"
   ]
  },
  {
   "cell_type": "markdown",
   "metadata": {
    "colab_type": "text",
    "id": "g3ng8tQFG3Do"
   },
   "source": [
    "---\n",
    "---"
   ]
  },
  {
   "cell_type": "markdown",
   "metadata": {
    "colab_type": "text",
    "id": "tVPUT9kEG3Dp"
   },
   "source": [
    "## <font color=red>Problema</font>\n",
    "***"
   ]
  },
  {
   "cell_type": "markdown",
   "metadata": {
    "colab_type": "text",
    "id": "j7zVDN0kG3Dq"
   },
   "source": [
    "Em um estudo sobre as alturas dos moradores de uma cidade verificou-se que o conjunto de dados segue uma **distribuição aproximadamente normal**, com **média 1,70** e **desvio padrão de 0,1**. Com estas informações obtenha o seguinte conjunto de probabilidades:\n",
    "\n",
    "> **A.** probabilidade de uma pessoa, selecionada ao acaso, ter menos de 1,80 metros.\n",
    "\n",
    "> **B.** probabilidade de uma pessoa, selecionada ao acaso, ter entre 1,60 metros e 1,80 metros.    \n",
    "\n",
    "> **C.** probabilidade de uma pessoa, selecionada ao acaso, ter mais de 1,90 metros."
   ]
  },
  {
   "cell_type": "markdown",
   "metadata": {
    "colab_type": "text",
    "id": "AowcVaKqpvf2"
   },
   "source": [
    "## <font color=green>2.3 Distribuição Normal</font>\n",
    "***"
   ]
  },
  {
   "cell_type": "markdown",
   "metadata": {
    "colab_type": "text",
    "id": "YOBD21hGG3Dw"
   },
   "source": [
    "A distribuição normal é uma das mais utilizadas em estatística. É uma distribuição contínua, onde a distribuição de frequências de uma variável quantitativa apresenta a forma de sino e é simétrica em relação a sua média."
   ]
  },
  {
   "cell_type": "markdown",
   "metadata": {
    "colab_type": "text",
    "id": "kbPy2ORqqKJA"
   },
   "source": [
    "![Normal](https://caelum-online-public.s3.amazonaws.com/1178-estatistica-parte2/01/img001.png)"
   ]
  },
  {
   "cell_type": "markdown",
   "metadata": {
    "colab_type": "text",
    "id": "J3eKESHTG3Dx"
   },
   "source": [
    "### Características importantes"
   ]
  },
  {
   "cell_type": "markdown",
   "metadata": {
    "colab_type": "text",
    "id": "z8GxAzWZG3Dx"
   },
   "source": [
    "1. É simétrica em torno da média;\n",
    "\n",
    "2. A área sob a curva corresponde à proporção 1 ou 100%;\n",
    "\n",
    "3. As medidas de tendência central (média, mediana e moda) apresentam o mesmo valor;\n",
    "\n",
    "4. Os extremos da curva tendem ao infinito em ambas as direções e, teoricamente, jamais tocam o eixo $x$;\n",
    "\n",
    "5. O desvio padrão define o achatamento e largura da distribuição. Curvas mais largas e mais achatadas apresentam valores maiores de desvio padrão;\n",
    "\n",
    "6. A distribuição é definida por sua média e desvio padrão;\n",
    "\n",
    "7. A probabilidade sempre será igual à área sob a curva, delimitada pelos limites inferior e superior."
   ]
  },
  {
   "cell_type": "markdown",
   "metadata": {
    "colab_type": "text",
    "id": "hoWLlOiwG3Dy"
   },
   "source": [
    "# $$f(x) = \\frac{1}{\\sqrt{2\\pi\\sigma}}e^{-\\frac{1}{2}\\left(\\frac{x-\\mu}{\\sigma}\\right)^2}$$\n",
    "\n",
    "Onde:\n",
    "\n",
    "$x$ = variável normal\n",
    "\n",
    "$\\sigma$ = desvio padrão\n",
    "\n",
    "$\\mu$ = média"
   ]
  },
  {
   "cell_type": "markdown",
   "metadata": {
    "colab_type": "text",
    "id": "8n03Z0VlG3Dz"
   },
   "source": [
    "A probabilidade é obtida a partir da área sob a curva, delimitada pelos limites inferior e superior especificados. Um exemplo pode ser visto na figura abaixo."
   ]
  },
  {
   "cell_type": "markdown",
   "metadata": {
    "colab_type": "text",
    "id": "X1UgmFoxG3Dz"
   },
   "source": [
    "![alt text](https://caelum-online-public.s3.amazonaws.com/1178-estatistica-parte2/01/img002.png)\n"
   ]
  },
  {
   "cell_type": "markdown",
   "metadata": {
    "colab_type": "text",
    "id": "rtKiApHLG3D0"
   },
   "source": [
    "Para obter a área acima basta calcular a integral da função para os intervalos determinados. Conforme equação abaixo:"
   ]
  },
  {
   "cell_type": "markdown",
   "metadata": {
    "colab_type": "text",
    "id": "0r_9CbSOG3D0"
   },
   "source": [
    "# $$P(L_i<x<L_s) = \\int_{L_i}^{L_s}\\frac{1}{\\sqrt{2\\pi\\sigma}}e^{-\\frac{1}{2}\\left(\\frac{x-\\mu}{\\sigma}\\right)^2}$$\n",
    "\n",
    "Onde:\n",
    "\n",
    "$x$ = variável normal\n",
    "\n",
    "$\\sigma$ = desvio padrão\n",
    "\n",
    "$\\mu$ = média\n",
    "\n",
    "$L_i$ = limite inferior\n",
    "\n",
    "$L_s$ = limite superior"
   ]
  },
  {
   "cell_type": "markdown",
   "metadata": {
    "colab_type": "text",
    "id": "qP-Ye-leG3D1"
   },
   "source": [
    "### Tabelas padronizadas"
   ]
  },
  {
   "cell_type": "markdown",
   "metadata": {
    "colab_type": "text",
    "id": "Z1VnLK11G3D1"
   },
   "source": [
    "As tabelas padronizadas foram criadas para facilitar a obtenção dos valores das áreas sob a curva normal e eliminar a necessidade de solucionar integrais definidas.\n",
    "\n",
    "Para consultarmos os valores em uma tabela padronizada basta transformarmos nossa variável em uma variável padronizada $Z$.\n",
    "\n",
    "Esta variável $Z$ representa o afastamento em desvios padrões de um valor da variável original em relação à média."
   ]
  },
  {
   "cell_type": "markdown",
   "metadata": {
    "colab_type": "text",
    "id": "HJcdgdsgG3D2"
   },
   "source": [
    "# $$Z = \\frac{x-\\mu}{\\sigma}$$\n",
    "\n",
    "Onde:\n",
    "\n",
    "$x$ = variável normal com média $\\mu$ e desvio padrão $\\sigma$\n",
    "\n",
    "$\\sigma$ = desvio padrão\n",
    "\n",
    "$\\mu$ = média"
   ]
  },
  {
   "cell_type": "markdown",
   "metadata": {
    "colab_type": "text",
    "id": "hUrVKJH3G3D2"
   },
   "source": [
    "### Construindo tabela normal padronizada\n",
    "https://docs.scipy.org/doc/scipy/reference/generated/scipy.stats.norm.html"
   ]
  },
  {
   "cell_type": "code",
   "execution_count": 33,
   "metadata": {
    "colab": {
     "base_uri": "https://localhost:8080/",
     "height": 1289
    },
    "colab_type": "code",
    "id": "7SudUNlcG3D4",
    "outputId": "963d1484-7b91-4af0-905f-4cbb49a73277"
   },
   "outputs": [
    {
     "output_type": "execute_result",
     "data": {
      "text/plain": [
       "Z       0.00    0.01    0.02    0.03    0.04    0.05    0.06    0.07    0.08  \\\n",
       "0.00  0.5000  0.5040  0.5080  0.5120  0.5160  0.5199  0.5239  0.5279  0.5319   \n",
       "0.10  0.5398  0.5438  0.5478  0.5517  0.5557  0.5596  0.5636  0.5675  0.5714   \n",
       "0.20  0.5793  0.5832  0.5871  0.5910  0.5948  0.5987  0.6026  0.6064  0.6103   \n",
       "0.30  0.6179  0.6217  0.6255  0.6293  0.6331  0.6368  0.6406  0.6443  0.6480   \n",
       "0.40  0.6554  0.6591  0.6628  0.6664  0.6700  0.6736  0.6772  0.6808  0.6844   \n",
       "0.50  0.6915  0.6950  0.6985  0.7019  0.7054  0.7088  0.7123  0.7157  0.7190   \n",
       "0.60  0.7257  0.7291  0.7324  0.7357  0.7389  0.7422  0.7454  0.7486  0.7517   \n",
       "0.70  0.7580  0.7611  0.7642  0.7673  0.7704  0.7734  0.7764  0.7794  0.7823   \n",
       "0.80  0.7881  0.7910  0.7939  0.7967  0.7995  0.8023  0.8051  0.8078  0.8106   \n",
       "0.90  0.8159  0.8186  0.8212  0.8238  0.8264  0.8289  0.8315  0.8340  0.8365   \n",
       "1.00  0.8413  0.8438  0.8461  0.8485  0.8508  0.8531  0.8554  0.8577  0.8599   \n",
       "1.10  0.8643  0.8665  0.8686  0.8708  0.8729  0.8749  0.8770  0.8790  0.8810   \n",
       "1.20  0.8849  0.8869  0.8888  0.8907  0.8925  0.8944  0.8962  0.8980  0.8997   \n",
       "1.30  0.9032  0.9049  0.9066  0.9082  0.9099  0.9115  0.9131  0.9147  0.9162   \n",
       "1.40  0.9192  0.9207  0.9222  0.9236  0.9251  0.9265  0.9279  0.9292  0.9306   \n",
       "1.50  0.9332  0.9345  0.9357  0.9370  0.9382  0.9394  0.9406  0.9418  0.9429   \n",
       "1.60  0.9452  0.9463  0.9474  0.9484  0.9495  0.9505  0.9515  0.9525  0.9535   \n",
       "1.70  0.9554  0.9564  0.9573  0.9582  0.9591  0.9599  0.9608  0.9616  0.9625   \n",
       "1.80  0.9641  0.9649  0.9656  0.9664  0.9671  0.9678  0.9686  0.9693  0.9699   \n",
       "1.90  0.9713  0.9719  0.9726  0.9732  0.9738  0.9744  0.9750  0.9756  0.9761   \n",
       "2.00  0.9772  0.9778  0.9783  0.9788  0.9793  0.9798  0.9803  0.9808  0.9812   \n",
       "2.10  0.9821  0.9826  0.9830  0.9834  0.9838  0.9842  0.9846  0.9850  0.9854   \n",
       "2.20  0.9861  0.9864  0.9868  0.9871  0.9875  0.9878  0.9881  0.9884  0.9887   \n",
       "2.30  0.9893  0.9896  0.9898  0.9901  0.9904  0.9906  0.9909  0.9911  0.9913   \n",
       "2.40  0.9918  0.9920  0.9922  0.9925  0.9927  0.9929  0.9931  0.9932  0.9934   \n",
       "2.50  0.9938  0.9940  0.9941  0.9943  0.9945  0.9946  0.9948  0.9949  0.9951   \n",
       "2.60  0.9953  0.9955  0.9956  0.9957  0.9959  0.9960  0.9961  0.9962  0.9963   \n",
       "2.70  0.9965  0.9966  0.9967  0.9968  0.9969  0.9970  0.9971  0.9972  0.9973   \n",
       "2.80  0.9974  0.9975  0.9976  0.9977  0.9977  0.9978  0.9979  0.9979  0.9980   \n",
       "2.90  0.9981  0.9982  0.9982  0.9983  0.9984  0.9984  0.9985  0.9985  0.9986   \n",
       "3.00  0.9987  0.9987  0.9987  0.9988  0.9988  0.9989  0.9989  0.9989  0.9990   \n",
       "3.10  0.9990  0.9991  0.9991  0.9991  0.9992  0.9992  0.9992  0.9992  0.9993   \n",
       "3.20  0.9993  0.9993  0.9994  0.9994  0.9994  0.9994  0.9994  0.9995  0.9995   \n",
       "3.30  0.9995  0.9995  0.9995  0.9996  0.9996  0.9996  0.9996  0.9996  0.9996   \n",
       "3.40  0.9997  0.9997  0.9997  0.9997  0.9997  0.9997  0.9997  0.9997  0.9997   \n",
       "3.50  0.9998  0.9998  0.9998  0.9998  0.9998  0.9998  0.9998  0.9998  0.9998   \n",
       "3.60  0.9998  0.9998  0.9999  0.9999  0.9999  0.9999  0.9999  0.9999  0.9999   \n",
       "3.70  0.9999  0.9999  0.9999  0.9999  0.9999  0.9999  0.9999  0.9999  0.9999   \n",
       "3.80  0.9999  0.9999  0.9999  0.9999  0.9999  0.9999  0.9999  0.9999  0.9999   \n",
       "3.90  1.0000  1.0000  1.0000  1.0000  1.0000  1.0000  1.0000  1.0000  1.0000   \n",
       "\n",
       "Z       0.09  \n",
       "0.00  0.5359  \n",
       "0.10  0.5753  \n",
       "0.20  0.6141  \n",
       "0.30  0.6517  \n",
       "0.40  0.6879  \n",
       "0.50  0.7224  \n",
       "0.60  0.7549  \n",
       "0.70  0.7852  \n",
       "0.80  0.8133  \n",
       "0.90  0.8389  \n",
       "1.00  0.8621  \n",
       "1.10  0.8830  \n",
       "1.20  0.9015  \n",
       "1.30  0.9177  \n",
       "1.40  0.9319  \n",
       "1.50  0.9441  \n",
       "1.60  0.9545  \n",
       "1.70  0.9633  \n",
       "1.80  0.9706  \n",
       "1.90  0.9767  \n",
       "2.00  0.9817  \n",
       "2.10  0.9857  \n",
       "2.20  0.9890  \n",
       "2.30  0.9916  \n",
       "2.40  0.9936  \n",
       "2.50  0.9952  \n",
       "2.60  0.9964  \n",
       "2.70  0.9974  \n",
       "2.80  0.9981  \n",
       "2.90  0.9986  \n",
       "3.00  0.9990  \n",
       "3.10  0.9993  \n",
       "3.20  0.9995  \n",
       "3.30  0.9997  \n",
       "3.40  0.9998  \n",
       "3.50  0.9998  \n",
       "3.60  0.9999  \n",
       "3.70  0.9999  \n",
       "3.80  0.9999  \n",
       "3.90  1.0000  "
      ],
      "text/html": "<div>\n<style scoped>\n    .dataframe tbody tr th:only-of-type {\n        vertical-align: middle;\n    }\n\n    .dataframe tbody tr th {\n        vertical-align: top;\n    }\n\n    .dataframe thead th {\n        text-align: right;\n    }\n</style>\n<table border=\"1\" class=\"dataframe\">\n  <thead>\n    <tr style=\"text-align: right;\">\n      <th>Z</th>\n      <th>0.00</th>\n      <th>0.01</th>\n      <th>0.02</th>\n      <th>0.03</th>\n      <th>0.04</th>\n      <th>0.05</th>\n      <th>0.06</th>\n      <th>0.07</th>\n      <th>0.08</th>\n      <th>0.09</th>\n    </tr>\n  </thead>\n  <tbody>\n    <tr>\n      <th>0.00</th>\n      <td>0.5000</td>\n      <td>0.5040</td>\n      <td>0.5080</td>\n      <td>0.5120</td>\n      <td>0.5160</td>\n      <td>0.5199</td>\n      <td>0.5239</td>\n      <td>0.5279</td>\n      <td>0.5319</td>\n      <td>0.5359</td>\n    </tr>\n    <tr>\n      <th>0.10</th>\n      <td>0.5398</td>\n      <td>0.5438</td>\n      <td>0.5478</td>\n      <td>0.5517</td>\n      <td>0.5557</td>\n      <td>0.5596</td>\n      <td>0.5636</td>\n      <td>0.5675</td>\n      <td>0.5714</td>\n      <td>0.5753</td>\n    </tr>\n    <tr>\n      <th>0.20</th>\n      <td>0.5793</td>\n      <td>0.5832</td>\n      <td>0.5871</td>\n      <td>0.5910</td>\n      <td>0.5948</td>\n      <td>0.5987</td>\n      <td>0.6026</td>\n      <td>0.6064</td>\n      <td>0.6103</td>\n      <td>0.6141</td>\n    </tr>\n    <tr>\n      <th>0.30</th>\n      <td>0.6179</td>\n      <td>0.6217</td>\n      <td>0.6255</td>\n      <td>0.6293</td>\n      <td>0.6331</td>\n      <td>0.6368</td>\n      <td>0.6406</td>\n      <td>0.6443</td>\n      <td>0.6480</td>\n      <td>0.6517</td>\n    </tr>\n    <tr>\n      <th>0.40</th>\n      <td>0.6554</td>\n      <td>0.6591</td>\n      <td>0.6628</td>\n      <td>0.6664</td>\n      <td>0.6700</td>\n      <td>0.6736</td>\n      <td>0.6772</td>\n      <td>0.6808</td>\n      <td>0.6844</td>\n      <td>0.6879</td>\n    </tr>\n    <tr>\n      <th>0.50</th>\n      <td>0.6915</td>\n      <td>0.6950</td>\n      <td>0.6985</td>\n      <td>0.7019</td>\n      <td>0.7054</td>\n      <td>0.7088</td>\n      <td>0.7123</td>\n      <td>0.7157</td>\n      <td>0.7190</td>\n      <td>0.7224</td>\n    </tr>\n    <tr>\n      <th>0.60</th>\n      <td>0.7257</td>\n      <td>0.7291</td>\n      <td>0.7324</td>\n      <td>0.7357</td>\n      <td>0.7389</td>\n      <td>0.7422</td>\n      <td>0.7454</td>\n      <td>0.7486</td>\n      <td>0.7517</td>\n      <td>0.7549</td>\n    </tr>\n    <tr>\n      <th>0.70</th>\n      <td>0.7580</td>\n      <td>0.7611</td>\n      <td>0.7642</td>\n      <td>0.7673</td>\n      <td>0.7704</td>\n      <td>0.7734</td>\n      <td>0.7764</td>\n      <td>0.7794</td>\n      <td>0.7823</td>\n      <td>0.7852</td>\n    </tr>\n    <tr>\n      <th>0.80</th>\n      <td>0.7881</td>\n      <td>0.7910</td>\n      <td>0.7939</td>\n      <td>0.7967</td>\n      <td>0.7995</td>\n      <td>0.8023</td>\n      <td>0.8051</td>\n      <td>0.8078</td>\n      <td>0.8106</td>\n      <td>0.8133</td>\n    </tr>\n    <tr>\n      <th>0.90</th>\n      <td>0.8159</td>\n      <td>0.8186</td>\n      <td>0.8212</td>\n      <td>0.8238</td>\n      <td>0.8264</td>\n      <td>0.8289</td>\n      <td>0.8315</td>\n      <td>0.8340</td>\n      <td>0.8365</td>\n      <td>0.8389</td>\n    </tr>\n    <tr>\n      <th>1.00</th>\n      <td>0.8413</td>\n      <td>0.8438</td>\n      <td>0.8461</td>\n      <td>0.8485</td>\n      <td>0.8508</td>\n      <td>0.8531</td>\n      <td>0.8554</td>\n      <td>0.8577</td>\n      <td>0.8599</td>\n      <td>0.8621</td>\n    </tr>\n    <tr>\n      <th>1.10</th>\n      <td>0.8643</td>\n      <td>0.8665</td>\n      <td>0.8686</td>\n      <td>0.8708</td>\n      <td>0.8729</td>\n      <td>0.8749</td>\n      <td>0.8770</td>\n      <td>0.8790</td>\n      <td>0.8810</td>\n      <td>0.8830</td>\n    </tr>\n    <tr>\n      <th>1.20</th>\n      <td>0.8849</td>\n      <td>0.8869</td>\n      <td>0.8888</td>\n      <td>0.8907</td>\n      <td>0.8925</td>\n      <td>0.8944</td>\n      <td>0.8962</td>\n      <td>0.8980</td>\n      <td>0.8997</td>\n      <td>0.9015</td>\n    </tr>\n    <tr>\n      <th>1.30</th>\n      <td>0.9032</td>\n      <td>0.9049</td>\n      <td>0.9066</td>\n      <td>0.9082</td>\n      <td>0.9099</td>\n      <td>0.9115</td>\n      <td>0.9131</td>\n      <td>0.9147</td>\n      <td>0.9162</td>\n      <td>0.9177</td>\n    </tr>\n    <tr>\n      <th>1.40</th>\n      <td>0.9192</td>\n      <td>0.9207</td>\n      <td>0.9222</td>\n      <td>0.9236</td>\n      <td>0.9251</td>\n      <td>0.9265</td>\n      <td>0.9279</td>\n      <td>0.9292</td>\n      <td>0.9306</td>\n      <td>0.9319</td>\n    </tr>\n    <tr>\n      <th>1.50</th>\n      <td>0.9332</td>\n      <td>0.9345</td>\n      <td>0.9357</td>\n      <td>0.9370</td>\n      <td>0.9382</td>\n      <td>0.9394</td>\n      <td>0.9406</td>\n      <td>0.9418</td>\n      <td>0.9429</td>\n      <td>0.9441</td>\n    </tr>\n    <tr>\n      <th>1.60</th>\n      <td>0.9452</td>\n      <td>0.9463</td>\n      <td>0.9474</td>\n      <td>0.9484</td>\n      <td>0.9495</td>\n      <td>0.9505</td>\n      <td>0.9515</td>\n      <td>0.9525</td>\n      <td>0.9535</td>\n      <td>0.9545</td>\n    </tr>\n    <tr>\n      <th>1.70</th>\n      <td>0.9554</td>\n      <td>0.9564</td>\n      <td>0.9573</td>\n      <td>0.9582</td>\n      <td>0.9591</td>\n      <td>0.9599</td>\n      <td>0.9608</td>\n      <td>0.9616</td>\n      <td>0.9625</td>\n      <td>0.9633</td>\n    </tr>\n    <tr>\n      <th>1.80</th>\n      <td>0.9641</td>\n      <td>0.9649</td>\n      <td>0.9656</td>\n      <td>0.9664</td>\n      <td>0.9671</td>\n      <td>0.9678</td>\n      <td>0.9686</td>\n      <td>0.9693</td>\n      <td>0.9699</td>\n      <td>0.9706</td>\n    </tr>\n    <tr>\n      <th>1.90</th>\n      <td>0.9713</td>\n      <td>0.9719</td>\n      <td>0.9726</td>\n      <td>0.9732</td>\n      <td>0.9738</td>\n      <td>0.9744</td>\n      <td>0.9750</td>\n      <td>0.9756</td>\n      <td>0.9761</td>\n      <td>0.9767</td>\n    </tr>\n    <tr>\n      <th>2.00</th>\n      <td>0.9772</td>\n      <td>0.9778</td>\n      <td>0.9783</td>\n      <td>0.9788</td>\n      <td>0.9793</td>\n      <td>0.9798</td>\n      <td>0.9803</td>\n      <td>0.9808</td>\n      <td>0.9812</td>\n      <td>0.9817</td>\n    </tr>\n    <tr>\n      <th>2.10</th>\n      <td>0.9821</td>\n      <td>0.9826</td>\n      <td>0.9830</td>\n      <td>0.9834</td>\n      <td>0.9838</td>\n      <td>0.9842</td>\n      <td>0.9846</td>\n      <td>0.9850</td>\n      <td>0.9854</td>\n      <td>0.9857</td>\n    </tr>\n    <tr>\n      <th>2.20</th>\n      <td>0.9861</td>\n      <td>0.9864</td>\n      <td>0.9868</td>\n      <td>0.9871</td>\n      <td>0.9875</td>\n      <td>0.9878</td>\n      <td>0.9881</td>\n      <td>0.9884</td>\n      <td>0.9887</td>\n      <td>0.9890</td>\n    </tr>\n    <tr>\n      <th>2.30</th>\n      <td>0.9893</td>\n      <td>0.9896</td>\n      <td>0.9898</td>\n      <td>0.9901</td>\n      <td>0.9904</td>\n      <td>0.9906</td>\n      <td>0.9909</td>\n      <td>0.9911</td>\n      <td>0.9913</td>\n      <td>0.9916</td>\n    </tr>\n    <tr>\n      <th>2.40</th>\n      <td>0.9918</td>\n      <td>0.9920</td>\n      <td>0.9922</td>\n      <td>0.9925</td>\n      <td>0.9927</td>\n      <td>0.9929</td>\n      <td>0.9931</td>\n      <td>0.9932</td>\n      <td>0.9934</td>\n      <td>0.9936</td>\n    </tr>\n    <tr>\n      <th>2.50</th>\n      <td>0.9938</td>\n      <td>0.9940</td>\n      <td>0.9941</td>\n      <td>0.9943</td>\n      <td>0.9945</td>\n      <td>0.9946</td>\n      <td>0.9948</td>\n      <td>0.9949</td>\n      <td>0.9951</td>\n      <td>0.9952</td>\n    </tr>\n    <tr>\n      <th>2.60</th>\n      <td>0.9953</td>\n      <td>0.9955</td>\n      <td>0.9956</td>\n      <td>0.9957</td>\n      <td>0.9959</td>\n      <td>0.9960</td>\n      <td>0.9961</td>\n      <td>0.9962</td>\n      <td>0.9963</td>\n      <td>0.9964</td>\n    </tr>\n    <tr>\n      <th>2.70</th>\n      <td>0.9965</td>\n      <td>0.9966</td>\n      <td>0.9967</td>\n      <td>0.9968</td>\n      <td>0.9969</td>\n      <td>0.9970</td>\n      <td>0.9971</td>\n      <td>0.9972</td>\n      <td>0.9973</td>\n      <td>0.9974</td>\n    </tr>\n    <tr>\n      <th>2.80</th>\n      <td>0.9974</td>\n      <td>0.9975</td>\n      <td>0.9976</td>\n      <td>0.9977</td>\n      <td>0.9977</td>\n      <td>0.9978</td>\n      <td>0.9979</td>\n      <td>0.9979</td>\n      <td>0.9980</td>\n      <td>0.9981</td>\n    </tr>\n    <tr>\n      <th>2.90</th>\n      <td>0.9981</td>\n      <td>0.9982</td>\n      <td>0.9982</td>\n      <td>0.9983</td>\n      <td>0.9984</td>\n      <td>0.9984</td>\n      <td>0.9985</td>\n      <td>0.9985</td>\n      <td>0.9986</td>\n      <td>0.9986</td>\n    </tr>\n    <tr>\n      <th>3.00</th>\n      <td>0.9987</td>\n      <td>0.9987</td>\n      <td>0.9987</td>\n      <td>0.9988</td>\n      <td>0.9988</td>\n      <td>0.9989</td>\n      <td>0.9989</td>\n      <td>0.9989</td>\n      <td>0.9990</td>\n      <td>0.9990</td>\n    </tr>\n    <tr>\n      <th>3.10</th>\n      <td>0.9990</td>\n      <td>0.9991</td>\n      <td>0.9991</td>\n      <td>0.9991</td>\n      <td>0.9992</td>\n      <td>0.9992</td>\n      <td>0.9992</td>\n      <td>0.9992</td>\n      <td>0.9993</td>\n      <td>0.9993</td>\n    </tr>\n    <tr>\n      <th>3.20</th>\n      <td>0.9993</td>\n      <td>0.9993</td>\n      <td>0.9994</td>\n      <td>0.9994</td>\n      <td>0.9994</td>\n      <td>0.9994</td>\n      <td>0.9994</td>\n      <td>0.9995</td>\n      <td>0.9995</td>\n      <td>0.9995</td>\n    </tr>\n    <tr>\n      <th>3.30</th>\n      <td>0.9995</td>\n      <td>0.9995</td>\n      <td>0.9995</td>\n      <td>0.9996</td>\n      <td>0.9996</td>\n      <td>0.9996</td>\n      <td>0.9996</td>\n      <td>0.9996</td>\n      <td>0.9996</td>\n      <td>0.9997</td>\n    </tr>\n    <tr>\n      <th>3.40</th>\n      <td>0.9997</td>\n      <td>0.9997</td>\n      <td>0.9997</td>\n      <td>0.9997</td>\n      <td>0.9997</td>\n      <td>0.9997</td>\n      <td>0.9997</td>\n      <td>0.9997</td>\n      <td>0.9997</td>\n      <td>0.9998</td>\n    </tr>\n    <tr>\n      <th>3.50</th>\n      <td>0.9998</td>\n      <td>0.9998</td>\n      <td>0.9998</td>\n      <td>0.9998</td>\n      <td>0.9998</td>\n      <td>0.9998</td>\n      <td>0.9998</td>\n      <td>0.9998</td>\n      <td>0.9998</td>\n      <td>0.9998</td>\n    </tr>\n    <tr>\n      <th>3.60</th>\n      <td>0.9998</td>\n      <td>0.9998</td>\n      <td>0.9999</td>\n      <td>0.9999</td>\n      <td>0.9999</td>\n      <td>0.9999</td>\n      <td>0.9999</td>\n      <td>0.9999</td>\n      <td>0.9999</td>\n      <td>0.9999</td>\n    </tr>\n    <tr>\n      <th>3.70</th>\n      <td>0.9999</td>\n      <td>0.9999</td>\n      <td>0.9999</td>\n      <td>0.9999</td>\n      <td>0.9999</td>\n      <td>0.9999</td>\n      <td>0.9999</td>\n      <td>0.9999</td>\n      <td>0.9999</td>\n      <td>0.9999</td>\n    </tr>\n    <tr>\n      <th>3.80</th>\n      <td>0.9999</td>\n      <td>0.9999</td>\n      <td>0.9999</td>\n      <td>0.9999</td>\n      <td>0.9999</td>\n      <td>0.9999</td>\n      <td>0.9999</td>\n      <td>0.9999</td>\n      <td>0.9999</td>\n      <td>0.9999</td>\n    </tr>\n    <tr>\n      <th>3.90</th>\n      <td>1.0000</td>\n      <td>1.0000</td>\n      <td>1.0000</td>\n      <td>1.0000</td>\n      <td>1.0000</td>\n      <td>1.0000</td>\n      <td>1.0000</td>\n      <td>1.0000</td>\n      <td>1.0000</td>\n      <td>1.0000</td>\n    </tr>\n  </tbody>\n</table>\n</div>"
     },
     "metadata": {},
     "execution_count": 33
    }
   ],
   "source": [
    "import pandas as pd\n",
    "import numpy as np\n",
    "from scipy.stats import norm\n",
    "\n",
    "tabela_normal_padronizada = pd.DataFrame(\n",
    "    [], \n",
    "    index=[\"{0:0.2f}\".format(i / 100) for i in range(0, 400, 10)],\n",
    "    columns = [\"{0:0.2f}\".format(i / 100) for i in range(0, 10)])\n",
    "\n",
    "for index in tabela_normal_padronizada.index:\n",
    "    for column in tabela_normal_padronizada.columns:\n",
    "        Z = np.round(float(index) + float(column), 2)\n",
    "        tabela_normal_padronizada.loc[index, column] = \"{0:0.4f}\".format(norm.cdf(Z))\n",
    "\n",
    "tabela_normal_padronizada.rename_axis('Z', axis = 'columns', inplace = True)\n",
    "\n",
    "tabela_normal_padronizada"
   ]
  },
  {
   "cell_type": "markdown",
   "metadata": {
    "colab_type": "text",
    "id": "XHYeMaN3G3D9"
   },
   "source": [
    "<img src='https://caelum-online-public.s3.amazonaws.com/1178-estatistica-parte2/01/img003.png' width='250px'>\n",
    "\n",
    "A tabela acima fornece a área sob a curva entre $-\\infty$ e $Z$ desvios padrão acima da média. Lembrando que por se tratar de valores padronizados temos $\\mu = 0$."
   ]
  },
  {
   "cell_type": "markdown",
   "metadata": {
    "colab_type": "text",
    "id": "Bs-KyZAJG3D-"
   },
   "source": [
    "## <font color='blue'>Exemplo: Qual sua altura?</font>"
   ]
  },
  {
   "cell_type": "markdown",
   "metadata": {
    "colab_type": "text",
    "id": "8PFIjXejG3EA"
   },
   "source": [
    "Em um estudo sobre as alturas dos moradores de uma cidade verificou-se que o conjunto de dados segue uma **distribuição aproximadamente normal**, com **média 1,70** e **desvio padrão de 0,1**. Com estas informações obtenha o seguinte conjunto de probabilidades:\n",
    "\n",
    "> **A.** probabilidade de uma pessoa, selecionada ao acaso, ter menos de 1,80 metros.\n",
    "\n",
    "> **B.** probabilidade de uma pessoa, selecionada ao acaso, ter entre 1,60 metros e 1,80 metros.    \n",
    "\n",
    "> **C.** probabilidade de uma pessoa, selecionada ao acaso, ter mais de 1,90 metros."
   ]
  },
  {
   "cell_type": "markdown",
   "metadata": {
    "colab_type": "text",
    "id": "aHpZLwt1G3EC"
   },
   "source": [
    "### Problema A - Identificação da área sob a curva"
   ]
  },
  {
   "cell_type": "markdown",
   "metadata": {
    "colab_type": "text",
    "id": "V1eC7tydG3EF"
   },
   "source": [
    "<img style='float: left' src='https://caelum-online-public.s3.amazonaws.com/1178-estatistica-parte2/01/img004.png' width='350px'>"
   ]
  },
  {
   "cell_type": "markdown",
   "metadata": {
    "colab_type": "text",
    "id": "X61wEuRrG3EI"
   },
   "source": [
    "### Obter a variável padronizada $Z$"
   ]
  },
  {
   "cell_type": "code",
   "execution_count": 34,
   "metadata": {
    "colab": {
     "base_uri": "https://localhost:8080/",
     "height": 34
    },
    "colab_type": "code",
    "id": "gNSNIMvZG3EK",
    "outputId": "2d4048a7-4c0a-4f51-c964-2f063cbdf092"
   },
   "outputs": [
    {
     "output_type": "execute_result",
     "data": {
      "text/plain": [
       "1.7"
      ]
     },
     "metadata": {},
     "execution_count": 34
    }
   ],
   "source": [
    "media = 1.7\n",
    "media"
   ]
  },
  {
   "cell_type": "code",
   "execution_count": 35,
   "metadata": {
    "colab": {
     "base_uri": "https://localhost:8080/",
     "height": 34
    },
    "colab_type": "code",
    "id": "E_f2lycRG3ES",
    "outputId": "7bb0daf7-7f86-4bdd-f195-429e7b68d239"
   },
   "outputs": [
    {
     "output_type": "execute_result",
     "data": {
      "text/plain": [
       "0.1"
      ]
     },
     "metadata": {},
     "execution_count": 35
    }
   ],
   "source": [
    "desvio_padrao = 0.1\n",
    "desvio_padrao"
   ]
  },
  {
   "cell_type": "code",
   "execution_count": 36,
   "metadata": {
    "colab": {
     "base_uri": "https://localhost:8080/",
     "height": 34
    },
    "colab_type": "code",
    "id": "xnsCkUb6G3EX",
    "outputId": "b3f57dbb-4c23-4b9f-e89d-d8c35383a2d2"
   },
   "outputs": [
    {
     "output_type": "execute_result",
     "data": {
      "text/plain": [
       "1.0000000000000009"
      ]
     },
     "metadata": {},
     "execution_count": 36
    }
   ],
   "source": [
    "Z = (1.8 - media) / desvio_padrao\n",
    "Z"
   ]
  },
  {
   "cell_type": "markdown",
   "metadata": {
    "colab_type": "text",
    "id": "oj9sgHbkG3Eb"
   },
   "source": [
    "### Solução 1 - Utilizando tabela"
   ]
  },
  {
   "cell_type": "code",
   "execution_count": 37,
   "metadata": {
    "colab": {
     "base_uri": "https://localhost:8080/",
     "height": 34
    },
    "colab_type": "code",
    "id": "ReDTH3WgG3Ec",
    "outputId": "ec542c14-9cd4-405d-a899-dfa92493aa84"
   },
   "outputs": [
    {
     "output_type": "execute_result",
     "data": {
      "text/plain": [
       "0.8413"
      ]
     },
     "metadata": {},
     "execution_count": 37
    }
   ],
   "source": [
    "probabilidade = 0.8413\n",
    "probabilidade"
   ]
  },
  {
   "cell_type": "markdown",
   "metadata": {
    "colab_type": "text",
    "id": "4ud0OnQOG3Eh"
   },
   "source": [
    "### Solução 2 - Utilizando Scipy"
   ]
  },
  {
   "cell_type": "code",
   "execution_count": 38,
   "metadata": {
    "colab": {
     "base_uri": "https://localhost:8080/",
     "height": 34
    },
    "colab_type": "code",
    "id": "sx7riZVlG3Ei",
    "outputId": "c321c9f8-a1a8-44f8-977b-492d2ec65152"
   },
   "outputs": [
    {
     "output_type": "execute_result",
     "data": {
      "text/plain": [
       "0.8413447460685431"
      ]
     },
     "metadata": {},
     "execution_count": 38
    }
   ],
   "source": [
    "from scipy.stats import norm\n",
    "\n",
    "probabilidade = norm.cdf(Z)\n",
    "probabilidade\n"
   ]
  },
  {
   "source": [
    "A aplicação de uma prova de estatística em um concurso apresentou um conjunto de notas normalmente distribuídas. Verificou-se que o conjunto de notas tinha média 70 e desvio padrão de 5 pontos.\n",
    "\n",
    "Qual a probabilidade de um aluno, selecionado ao acaso, ter nota menor que 85?"
   ],
   "cell_type": "markdown",
   "metadata": {}
  },
  {
   "cell_type": "code",
   "execution_count": 39,
   "metadata": {},
   "outputs": [
    {
     "output_type": "execute_result",
     "data": {
      "text/plain": [
       "0.9986501019683699"
      ]
     },
     "metadata": {},
     "execution_count": 39
    }
   ],
   "source": [
    "media, desvio_padrao = 70,5\n",
    "Z = (85 - media) / desvio_padrao\n",
    "probabilidade = norm.cdf(Z)\n",
    "probabilidade"
   ]
  },
  {
   "cell_type": "markdown",
   "metadata": {
    "colab_type": "text",
    "id": "ZsnMjGzJG3Ep"
   },
   "source": [
    "### Problema B - Identificação da área sob a curva"
   ]
  },
  {
   "cell_type": "markdown",
   "metadata": {
    "colab_type": "text",
    "id": "LN2HY-UCG3Ep"
   },
   "source": [
    "<img style='float: left' src='https://caelum-online-public.s3.amazonaws.com/1178-estatistica-parte2/01/img005.png' width='350px'>"
   ]
  },
  {
   "cell_type": "markdown",
   "metadata": {
    "colab_type": "text",
    "id": "FS6WNg88G3Eq"
   },
   "source": [
    "### Obter a variável padronizada $Z$"
   ]
  },
  {
   "cell_type": "code",
   "execution_count": 40,
   "metadata": {
    "colab": {
     "base_uri": "https://localhost:8080/",
     "height": 34
    },
    "colab_type": "code",
    "id": "mxPsPIOYG3Er",
    "outputId": "d86de31f-1ca0-443c-8ed6-81edfe5d36f4"
   },
   "outputs": [
    {
     "output_type": "execute_result",
     "data": {
      "text/plain": [
       "0.0"
      ]
     },
     "metadata": {},
     "execution_count": 40
    }
   ],
   "source": [
    "media, desvio_padrao = 1.7, 0.1\n",
    "Z = (1.7 - media) / desvio_padrao\n",
    "Z\n"
   ]
  },
  {
   "cell_type": "code",
   "execution_count": 41,
   "metadata": {
    "colab": {
     "base_uri": "https://localhost:8080/",
     "height": 34
    },
    "colab_type": "code",
    "id": "s0Vf0GXHG3Et",
    "outputId": "5237e5e2-547b-4cbf-a5da-52bd4933f6a1"
   },
   "outputs": [
    {
     "output_type": "execute_result",
     "data": {
      "text/plain": [
       "1.0000000000000009"
      ]
     },
     "metadata": {},
     "execution_count": 41
    }
   ],
   "source": [
    "media, desvio_padrao = 1.7, 0.1\n",
    "Z = (1.8 - media) / desvio_padrao\n",
    "Z"
   ]
  },
  {
   "cell_type": "code",
   "execution_count": 42,
   "metadata": {},
   "outputs": [
    {
     "output_type": "stream",
     "name": "stdout",
     "text": [
      "-1.0 1.0\n"
     ]
    }
   ],
   "source": [
    "media, desvio_padrao = 1.7, 0.1\n",
    "\n",
    "Z_inferior = round( (1.6 - media) / desvio_padrao, 2 )\n",
    "Z_superior = round( (1.8 - media) / desvio_padrao, 2 )\n",
    "\n",
    "print(Z_inferior, Z_superior)"
   ]
  },
  {
   "cell_type": "markdown",
   "metadata": {
    "colab_type": "text",
    "id": "MseXjmZ7G3E0"
   },
   "source": [
    "### Solução 1 - Utilizando tabela"
   ]
  },
  {
   "cell_type": "code",
   "execution_count": 43,
   "metadata": {
    "colab": {
     "base_uri": "https://localhost:8080/",
     "height": 34
    },
    "colab_type": "code",
    "id": "swZ6SVQGG3E0",
    "outputId": "53e30c74-5ec5-4737-f928-600388bfe570"
   },
   "outputs": [
    {
     "output_type": "execute_result",
     "data": {
      "text/plain": [
       "0.6826000000000001"
      ]
     },
     "metadata": {},
     "execution_count": 43
    }
   ],
   "source": [
    "probabilidade = (0.8413 - 0.5) * 2\n",
    "probabilidade"
   ]
  },
  {
   "cell_type": "markdown",
   "metadata": {
    "colab_type": "text",
    "id": "y5e4zAifG3E2"
   },
   "source": [
    "### Solução 2 - Utilizando Scipy"
   ]
  },
  {
   "cell_type": "code",
   "execution_count": 44,
   "metadata": {
    "colab": {
     "base_uri": "https://localhost:8080/",
     "height": 34
    },
    "colab_type": "code",
    "id": "oNfZZRBdGy2G",
    "outputId": "408ee333-2e8e-4058-fe74-a75b715eedf8"
   },
   "outputs": [
    {
     "output_type": "execute_result",
     "data": {
      "text/plain": [
       "0.6826894921370859"
      ]
     },
     "metadata": {},
     "execution_count": 44
    }
   ],
   "source": [
    "probabilidade = norm.cdf(Z_superior) - (1 - norm.cdf(Z_superior))\n",
    "probabilidade"
   ]
  },
  {
   "cell_type": "code",
   "execution_count": 45,
   "metadata": {
    "colab": {
     "base_uri": "https://localhost:8080/",
     "height": 34
    },
    "colab_type": "code",
    "id": "MjEfhnQEG3E5",
    "outputId": "4a6241c6-1b04-4c5f-b62d-9e98f412f3ad"
   },
   "outputs": [
    {
     "output_type": "execute_result",
     "data": {
      "text/plain": [
       "0.6826894921370859"
      ]
     },
     "metadata": {},
     "execution_count": 45
    }
   ],
   "source": [
    "probabilidade = norm.cdf(Z_superior) - norm.cdf(Z_inferior) \n",
    "probabilidade"
   ]
  },
  {
   "source": [
    "O faturamento diário de um motorista de aplicativo segue uma distribuição aproximadamente normal, com média R$ 300,00 e desvio padrão igual a R$ 50,00. Obtenha as probabilidades de que, em um dia aleatório, o motorista ganhe:"
   ],
   "cell_type": "markdown",
   "metadata": {}
  },
  {
   "cell_type": "code",
   "execution_count": 46,
   "metadata": {},
   "outputs": [],
   "source": [
    "media, desvio_padrao = 300, 50\n",
    "\n",
    "Z_inferior = round( (250 - media) / desvio_padrao, 2 )\n",
    "Z_superior = round( (350 - media) / desvio_padrao, 2 )"
   ]
  },
  {
   "cell_type": "code",
   "execution_count": 47,
   "metadata": {},
   "outputs": [
    {
     "output_type": "execute_result",
     "data": {
      "text/plain": [
       "0.6826894921370859"
      ]
     },
     "metadata": {},
     "execution_count": 47
    }
   ],
   "source": [
    "probabilidade_um = norm.cdf(Z_superior) - norm.cdf(Z_inferior) \n",
    "probabilidade_um"
   ]
  },
  {
   "cell_type": "code",
   "execution_count": 48,
   "metadata": {},
   "outputs": [],
   "source": [
    "media, desvio_padrao = 300, 50\n",
    "\n",
    "Z_inferior = round( (400 - media) / desvio_padrao, 2 )\n",
    "Z_superior = round( (500 - media) / desvio_padrao, 2 )"
   ]
  },
  {
   "cell_type": "code",
   "execution_count": 49,
   "metadata": {},
   "outputs": [
    {
     "output_type": "execute_result",
     "data": {
      "text/plain": [
       "0.02271846070634609"
      ]
     },
     "metadata": {},
     "execution_count": 49
    }
   ],
   "source": [
    "probabilidade_dois = norm.cdf(Z_superior) - norm.cdf(Z_inferior) \n",
    "probabilidade_dois"
   ]
  },
  {
   "cell_type": "code",
   "execution_count": 50,
   "metadata": {},
   "outputs": [
    {
     "output_type": "stream",
     "name": "stdout",
     "text": [
      "1)68.27%; 2)2.27%\n"
     ]
    }
   ],
   "source": [
    "print(f\"1){round(probabilidade_um * 100,2)}%; 2){round(probabilidade_dois * 100,2)}%\")"
   ]
  },
  {
   "cell_type": "markdown",
   "metadata": {
    "colab_type": "text",
    "id": "05sqVgdaG3E-"
   },
   "source": [
    "### Problema C - Identificação da área sob a curva"
   ]
  },
  {
   "cell_type": "markdown",
   "metadata": {
    "colab_type": "text",
    "id": "EPKhGTEkG3E_"
   },
   "source": [
    "<img style='float: left' src='https://caelum-online-public.s3.amazonaws.com/1178-estatistica-parte2/01/img006.png' width='350px'>"
   ]
  },
  {
   "cell_type": "markdown",
   "metadata": {
    "colab_type": "text",
    "id": "BA6jYbsSG3E_"
   },
   "source": [
    "### Obter a variável padronizada $Z$"
   ]
  },
  {
   "cell_type": "code",
   "execution_count": 51,
   "metadata": {
    "colab": {
     "base_uri": "https://localhost:8080/",
     "height": 34
    },
    "colab_type": "code",
    "id": "3OVj60MzG3E_",
    "outputId": "71f57b74-bc13-4493-f8ba-6f05a2a07041"
   },
   "outputs": [
    {
     "output_type": "execute_result",
     "data": {
      "text/plain": [
       "1.9999999999999996"
      ]
     },
     "metadata": {},
     "execution_count": 51
    }
   ],
   "source": [
    "media, desvio_padrao = 1.7, 0.1\n",
    "Z = (1.9 - media) / desvio_padrao\n",
    "Z"
   ]
  },
  {
   "cell_type": "markdown",
   "metadata": {
    "colab_type": "text",
    "id": "hCiiWAm_G3FC"
   },
   "source": [
    "### Solução 1 - Utilizando tabela"
   ]
  },
  {
   "cell_type": "code",
   "execution_count": 52,
   "metadata": {
    "colab": {
     "base_uri": "https://localhost:8080/",
     "height": 34
    },
    "colab_type": "code",
    "id": "mSNfoO6VG3FC",
    "outputId": "da00edc8-cd0e-42ae-a27f-02082230f9e6"
   },
   "outputs": [
    {
     "output_type": "execute_result",
     "data": {
      "text/plain": [
       "0.022800000000000042"
      ]
     },
     "metadata": {},
     "execution_count": 52
    }
   ],
   "source": [
    "probabilidade = (1 - 0.9772)\n",
    "probabilidade"
   ]
  },
  {
   "cell_type": "markdown",
   "metadata": {
    "colab_type": "text",
    "id": "QCyoVXOdG3FF"
   },
   "source": [
    "### Solução 2 - Utilizando Scipy"
   ]
  },
  {
   "cell_type": "code",
   "execution_count": 53,
   "metadata": {
    "colab": {
     "base_uri": "https://localhost:8080/",
     "height": 34
    },
    "colab_type": "code",
    "id": "caIE-t83G3FF",
    "outputId": "224b72ff-7edd-4b66-a24e-a1f89e4685c9"
   },
   "outputs": [
    {
     "output_type": "execute_result",
     "data": {
      "text/plain": [
       "0.02275013194817921"
      ]
     },
     "metadata": {},
     "execution_count": 53
    }
   ],
   "source": [
    "probabilidade = 1 - norm.cdf(Z) \n",
    "probabilidade"
   ]
  },
  {
   "cell_type": "code",
   "execution_count": 54,
   "metadata": {
    "colab": {
     "base_uri": "https://localhost:8080/",
     "height": 34
    },
    "colab_type": "code",
    "id": "wKjqQGgMG3FI",
    "outputId": "7ef30837-195e-4f5b-9bef-68fceaff2397"
   },
   "outputs": [
    {
     "output_type": "execute_result",
     "data": {
      "text/plain": [
       "0.022750131948179216"
      ]
     },
     "metadata": {},
     "execution_count": 54
    }
   ],
   "source": [
    "probabilidade = norm.cdf(-Z) \n",
    "probabilidade"
   ]
  },
  {
   "source": [
    "O Inmetro verificou que as lâmpadas incandescentes da fabricante XPTO apresentam uma vida útil normalmente distribuída, com média igual a 720 dias e desvio padrão igual a 30 dias. Calcule a probabilidade de uma lâmpada, escolhida ao acaso, durar:\n",
    "\n",
    "1) Entre 650 e 750 dias\n",
    "\n",
    "2) Mais que 800 dias\n",
    "\n",
    "3) Menos que 700 dias"
   ],
   "cell_type": "markdown",
   "metadata": {}
  },
  {
   "source": [
    "#### Item 01"
   ],
   "cell_type": "markdown",
   "metadata": {}
  },
  {
   "cell_type": "code",
   "execution_count": 55,
   "metadata": {},
   "outputs": [],
   "source": [
    "media, desvio_padrao = 720, 30\n",
    "Z_inf = (650 - media) / desvio_padrao\n",
    "Z_sup = (750 - media) / desvio_padrao"
   ]
  },
  {
   "cell_type": "code",
   "execution_count": 56,
   "metadata": {},
   "outputs": [
    {
     "output_type": "execute_result",
     "data": {
      "text/plain": [
       "83.15"
      ]
     },
     "metadata": {},
     "execution_count": 56
    }
   ],
   "source": [
    "probabilidade = norm.cdf(Z_sup) - norm.cdf(Z_inf)\n",
    "round(probabilidade * 100, 2)"
   ]
  },
  {
   "source": [
    "#### Item 02"
   ],
   "cell_type": "markdown",
   "metadata": {}
  },
  {
   "cell_type": "code",
   "execution_count": 57,
   "metadata": {},
   "outputs": [],
   "source": [
    "media, desvio_padrao = 720, 30\n",
    "Z = (800 - media) / desvio_padrao"
   ]
  },
  {
   "cell_type": "code",
   "execution_count": 58,
   "metadata": {},
   "outputs": [
    {
     "output_type": "execute_result",
     "data": {
      "text/plain": [
       "0.38"
      ]
     },
     "metadata": {},
     "execution_count": 58
    }
   ],
   "source": [
    "probabilidade = 1 - norm.cdf(Z) \n",
    "round(probabilidade * 100, 2)"
   ]
  },
  {
   "source": [
    "#### Item 03"
   ],
   "cell_type": "markdown",
   "metadata": {}
  },
  {
   "cell_type": "code",
   "execution_count": 59,
   "metadata": {},
   "outputs": [],
   "source": [
    "media, desvio_padrao = 720, 30\n",
    "Z = (700 - media) / desvio_padrao"
   ]
  },
  {
   "cell_type": "code",
   "execution_count": 60,
   "metadata": {},
   "outputs": [
    {
     "output_type": "execute_result",
     "data": {
      "text/plain": [
       "25.25"
      ]
     },
     "metadata": {},
     "execution_count": 60
    }
   ],
   "source": [
    "probabilidade = norm.cdf(Z) \n",
    "round(probabilidade * 100, 2)"
   ]
  },
  {
   "source": [
    "Utilizando a tabela padronizada, ou o ferramental disponibilizado pelo Python, encontre a área sob a curva normal para os valores de Z abaixo:\n",
    "\n",
    "1) Z < 1,96\n",
    "\n",
    "2) Z > 2,15\n",
    "\n",
    "3) Z < -0,78\n",
    "\n",
    "4) Z > 0,59"
   ],
   "cell_type": "markdown",
   "metadata": {}
  },
  {
   "cell_type": "code",
   "execution_count": 61,
   "metadata": {},
   "outputs": [
    {
     "output_type": "execute_result",
     "data": {
      "text/plain": [
       "97.5"
      ]
     },
     "metadata": {},
     "execution_count": 61
    }
   ],
   "source": [
    "# Item A\n",
    "probabilidade = norm.cdf(1.96) \n",
    "round(probabilidade * 100, 2)"
   ]
  },
  {
   "cell_type": "code",
   "execution_count": 62,
   "metadata": {},
   "outputs": [
    {
     "output_type": "execute_result",
     "data": {
      "text/plain": [
       "1.58"
      ]
     },
     "metadata": {},
     "execution_count": 62
    }
   ],
   "source": [
    "# Item B\n",
    "probabilidade = 1 - norm.cdf(2.15) \n",
    "round(probabilidade * 100, 2)"
   ]
  },
  {
   "cell_type": "code",
   "execution_count": 63,
   "metadata": {},
   "outputs": [
    {
     "output_type": "execute_result",
     "data": {
      "text/plain": [
       "21.77"
      ]
     },
     "metadata": {},
     "execution_count": 63
    }
   ],
   "source": [
    "# Item C\n",
    "probabilidade = norm.cdf(-0.78) \n",
    "round(probabilidade * 100, 2)"
   ]
  },
  {
   "cell_type": "code",
   "execution_count": 64,
   "metadata": {},
   "outputs": [
    {
     "output_type": "execute_result",
     "data": {
      "text/plain": [
       "27.76"
      ]
     },
     "metadata": {},
     "execution_count": 64
    }
   ],
   "source": [
    "# Item D\n",
    "probabilidade = 1 - norm.cdf(0.59) \n",
    "round(probabilidade * 100, 2)"
   ]
  },
  {
   "cell_type": "markdown",
   "metadata": {
    "colab_type": "text",
    "id": "GmmzChE2t4wW"
   },
   "source": [
    "# <font color=green>3 AMOSTRAGEM</font>\n",
    "***"
   ]
  },
  {
   "cell_type": "markdown",
   "metadata": {
    "colab_type": "text",
    "id": "g8PbtmQZt4Wv"
   },
   "source": [
    "## <font color=green>3.1 População e Amostra</font>\n",
    "***"
   ]
  },
  {
   "cell_type": "markdown",
   "metadata": {
    "colab_type": "text",
    "id": "sedD5gB9G3FV"
   },
   "source": [
    "### População\n",
    "Conjunto de todos os elementos de interesse em um estudo. Diversos elementos podem compor uma população, por exemplo: pessoas, idades, alturas, carros etc.\n",
    "\n",
    "Com relação ao tamanho, as populações podem ser limitadas (populações finitas) ou ilimitadas (populações infinitas)."
   ]
  },
  {
   "cell_type": "markdown",
   "metadata": {
    "colab_type": "text",
    "id": "XBFhAWNcG3FW"
   },
   "source": [
    "### Populações finitas\n",
    "\n",
    "Permitem a contagem de seus elementos. Como exemplos temos o número de funcionário de uma empresa, a quantidade de alunos em uma escola etc."
   ]
  },
  {
   "cell_type": "markdown",
   "metadata": {
    "colab_type": "text",
    "id": "YT8V2GB1G3FW"
   },
   "source": [
    "### Populações infinitas\n",
    "\n",
    "Não é possível contar seus elementos. Como exemplos temos a quantidade de porções que se pode extrair da água do mar para uma análise, temperatura medida em cada ponto de um território etc.\n",
    "\n",
    "<font color=red>Quando os elementos de uma população puderem ser contados, porém apresentando uma quantidade muito grande, assume-se a população como infinita.</font>."
   ]
  },
  {
   "cell_type": "markdown",
   "metadata": {
    "colab_type": "text",
    "id": "a-WtAXv1G3FX"
   },
   "source": [
    "### Amostra\n",
    "Subconjunto representativo da população."
   ]
  },
  {
   "cell_type": "markdown",
   "metadata": {
    "colab_type": "text",
    "id": "QWnDYpPSG3FX"
   },
   "source": [
    "Os atributos numéricos de uma população como sua média, variância e desvio padrão, são conhecidos como **parâmetros**. O principal foco da inferência estatística é justamente gerar estimativas e testar hipóteses sobre os parâmetros populacionais utilizando as informações de amostras."
   ]
  },
  {
   "cell_type": "markdown",
   "metadata": {
    "colab_type": "text",
    "id": "dDz6vFbDG3FZ"
   },
   "source": [
    "## <font color=green>3.2 Quando utilizar uma amostra?</font>\n",
    "***"
   ]
  },
  {
   "cell_type": "markdown",
   "metadata": {
    "colab_type": "text",
    "id": "5X1YwCGlG3Fe"
   },
   "source": [
    "### Populações infinitas\n",
    "\n",
    "O estudo não chegaria nunca ao fim. Não é possível investigar todos os elementos da população."
   ]
  },
  {
   "cell_type": "markdown",
   "metadata": {
    "colab_type": "text",
    "id": "jHLtG8HSG3Ff"
   },
   "source": [
    "### Testes destrutivos\n",
    "\n",
    "Estudos onde os elementos avaliados são totalmente consumidos ou destruídos. Exemplo: testes de vida útil, testes de segurança contra colisões em automóveis."
   ]
  },
  {
   "cell_type": "markdown",
   "metadata": {
    "colab_type": "text",
    "id": "lxYxepmdG3Ff"
   },
   "source": [
    "### Resultados rápidos\n",
    "\n",
    "Pesquisas que precisam de mais agilidade na divulgação. Exemplo: pesquisas de opinião, pesquisas que envolvam problemas de saúde pública."
   ]
  },
  {
   "cell_type": "markdown",
   "metadata": {
    "colab_type": "text",
    "id": "PeUCGL5nG3Fj"
   },
   "source": [
    "### Custos elevados\n",
    "\n",
    "Quando a população é finita mas muito numerosa, o custo de um censo pode tornar o processo inviável."
   ]
  },
  {
   "cell_type": "markdown",
   "metadata": {
    "colab_type": "text",
    "id": "1sbJeMpSG3Fj"
   },
   "source": [
    "## <font color=green>3.3 Amostragem Aleatória Simples</font>\n",
    "***"
   ]
  },
  {
   "cell_type": "markdown",
   "metadata": {
    "colab_type": "text",
    "id": "Kiq9cYMYG3Fp"
   },
   "source": [
    "É uma das principais maneiras de se extrair uma amostra de uma população. A exigência fundamental deste tipo de abordagem é que cada elemeto da população tenha as mesmas chances de ser selecionado para fazer parte da amostra."
   ]
  },
  {
   "cell_type": "code",
   "execution_count": 65,
   "metadata": {
    "colab": {
     "base_uri": "https://localhost:8080/",
     "height": 34
    },
    "colab_type": "code",
    "id": "NtQ8HOYdG3Fq",
    "outputId": "d746a965-c212-4b99-ac1f-a7741b13544f"
   },
   "outputs": [
    {
     "output_type": "execute_result",
     "data": {
      "text/plain": [
       "76840"
      ]
     },
     "metadata": {},
     "execution_count": 65
    }
   ],
   "source": [
    "dados.shape[0]"
   ]
  },
  {
   "cell_type": "code",
   "execution_count": 66,
   "metadata": {},
   "outputs": [
    {
     "output_type": "execute_result",
     "data": {
      "text/plain": [
       "   UF  Sexo  Idade  Cor  Anos de Estudo  Renda    Altura\n",
       "0  11     0     23    8              12    800  1.603808\n",
       "1  11     1     23    2              12   1150  1.739790"
      ],
      "text/html": "<div>\n<style scoped>\n    .dataframe tbody tr th:only-of-type {\n        vertical-align: middle;\n    }\n\n    .dataframe tbody tr th {\n        vertical-align: top;\n    }\n\n    .dataframe thead th {\n        text-align: right;\n    }\n</style>\n<table border=\"1\" class=\"dataframe\">\n  <thead>\n    <tr style=\"text-align: right;\">\n      <th></th>\n      <th>UF</th>\n      <th>Sexo</th>\n      <th>Idade</th>\n      <th>Cor</th>\n      <th>Anos de Estudo</th>\n      <th>Renda</th>\n      <th>Altura</th>\n    </tr>\n  </thead>\n  <tbody>\n    <tr>\n      <th>0</th>\n      <td>11</td>\n      <td>0</td>\n      <td>23</td>\n      <td>8</td>\n      <td>12</td>\n      <td>800</td>\n      <td>1.603808</td>\n    </tr>\n    <tr>\n      <th>1</th>\n      <td>11</td>\n      <td>1</td>\n      <td>23</td>\n      <td>2</td>\n      <td>12</td>\n      <td>1150</td>\n      <td>1.739790</td>\n    </tr>\n  </tbody>\n</table>\n</div>"
     },
     "metadata": {},
     "execution_count": 66
    }
   ],
   "source": [
    "dados.head(2)"
   ]
  },
  {
   "cell_type": "code",
   "execution_count": 67,
   "metadata": {
    "colab": {
     "base_uri": "https://localhost:8080/",
     "height": 34
    },
    "colab_type": "code",
    "id": "DsXJHWhMG3Fs",
    "outputId": "b5e5d083-2d89-4f31-e8dd-5ae48375a81c"
   },
   "outputs": [
    {
     "output_type": "execute_result",
     "data": {
      "text/plain": [
       "2000.38"
      ]
     },
     "metadata": {},
     "execution_count": 67
    }
   ],
   "source": [
    "dados.Renda.mean().round(2)"
   ]
  },
  {
   "cell_type": "code",
   "execution_count": 68,
   "metadata": {
    "colab": {},
    "colab_type": "code",
    "id": "k7yJucVMG3Fw"
   },
   "outputs": [
    {
     "output_type": "execute_result",
     "data": {
      "text/plain": [
       "100"
      ]
     },
     "metadata": {},
     "execution_count": 68
    }
   ],
   "source": [
    "amostra = dados.sample(n = 100, random_state= 101)\n",
    "amostra.shape[0]"
   ]
  },
  {
   "cell_type": "code",
   "execution_count": 69,
   "metadata": {
    "colab": {
     "base_uri": "https://localhost:8080/",
     "height": 34
    },
    "colab_type": "code",
    "id": "wUyXS65sG3F2",
    "outputId": "d3440aaa-c46f-4d44-8d29-5ab5a3c914a1"
   },
   "outputs": [
    {
     "output_type": "execute_result",
     "data": {
      "text/plain": [
       "2150.85"
      ]
     },
     "metadata": {},
     "execution_count": 69
    }
   ],
   "source": [
    "amostra['Renda'].mean().round(2)"
   ]
  },
  {
   "cell_type": "code",
   "execution_count": 70,
   "metadata": {
    "colab": {
     "base_uri": "https://localhost:8080/",
     "height": 34
    },
    "colab_type": "code",
    "id": "y0J4UtOwG3F5",
    "outputId": "f2d60d13-3544-4787-a3b4-876b02666da1"
   },
   "outputs": [
    {
     "output_type": "execute_result",
     "data": {
      "text/plain": [
       "0    0.692998\n",
       "1    0.307002\n",
       "Name: Sexo, dtype: float64"
      ]
     },
     "metadata": {},
     "execution_count": 70
    }
   ],
   "source": [
    "dados['Sexo'].value_counts(normalize=True)"
   ]
  },
  {
   "cell_type": "code",
   "execution_count": 71,
   "metadata": {
    "colab": {
     "base_uri": "https://localhost:8080/",
     "height": 68
    },
    "colab_type": "code",
    "id": "WGZT_wnjSgPy",
    "outputId": "f905ff8a-84f8-45d5-d232-927630754b70"
   },
   "outputs": [
    {
     "output_type": "execute_result",
     "data": {
      "text/plain": [
       "0    0.69\n",
       "1    0.31\n",
       "Name: Sexo, dtype: float64"
      ]
     },
     "metadata": {},
     "execution_count": 71
    }
   ],
   "source": [
    "amostra['Sexo'].value_counts(normalize=True)"
   ]
  },
  {
   "cell_type": "code",
   "execution_count": 72,
   "metadata": {
    "colab": {
     "base_uri": "https://localhost:8080/",
     "height": 68
    },
    "colab_type": "code",
    "id": "1la3Y_reSgEM",
    "outputId": "4611d1f3-3903-454b-e136-fb21c708be03"
   },
   "outputs": [
    {
     "output_type": "execute_result",
     "data": {
      "text/plain": [
       "1000"
      ]
     },
     "metadata": {},
     "execution_count": 72
    }
   ],
   "source": [
    "amostra = dados.sample(n = 1000, random_state= 101)\n",
    "amostra.shape[0]"
   ]
  },
  {
   "cell_type": "code",
   "execution_count": 73,
   "metadata": {},
   "outputs": [
    {
     "output_type": "execute_result",
     "data": {
      "text/plain": [
       "0    0.706\n",
       "1    0.294\n",
       "Name: Sexo, dtype: float64"
      ]
     },
     "metadata": {},
     "execution_count": 73
    }
   ],
   "source": [
    "amostra['Sexo'].value_counts(normalize=True)"
   ]
  },
  {
   "cell_type": "markdown",
   "metadata": {
    "colab_type": "text",
    "id": "stcKhnJBG3F7"
   },
   "source": [
    "## <font color=green>3.4 Amostragem Estratificada</font>\n",
    "***"
   ]
  },
  {
   "cell_type": "markdown",
   "metadata": {
    "colab_type": "text",
    "id": "W1uEZMRIG3GA"
   },
   "source": [
    "É uma melhoria do processo de amostragem aleatória simples. Neste método é proposta a divisão da população em subgrupos de elementos com características similares, ou seja, grupos mais homogêneos. Com estes subgrupos separados, aplica-se a técnica de amostragem aleatória simples dentro de cada subgrupo individualmente."
   ]
  },
  {
   "cell_type": "markdown",
   "metadata": {
    "colab_type": "text",
    "id": "xRjUHDAbG3GB"
   },
   "source": [
    "## <font color=green>3.5 Amostragem por Conglomerados</font>\n",
    "***"
   ]
  },
  {
   "cell_type": "markdown",
   "metadata": {
    "colab_type": "text",
    "id": "sW9IuaL9G3GH"
   },
   "source": [
    "Também visa melhorar o critério de amostragem aleatória simples. Na amostragem por conglomerados são também criados subgrupos, porém não serão homogêneas como na amostragem estratificada. Na amostragem por conglomerados os subgrupos serão heterogêneos, onde, em seguida, serão aplicadas a amostragem aleatória simples ou estratificada.\n",
    "\n",
    "Um exemplo bastante comum de aplicação deste tipo de técnica é na divisão da população em grupos territoriais, onde os elementos investigados terão características bastante variadas."
   ]
  },
  {
   "cell_type": "markdown",
   "metadata": {
    "colab_type": "text",
    "id": "2LNJT4FEuzO4"
   },
   "source": [
    "# <font color=green>4 ESTIMAÇÃO</font>\n",
    "***"
   ]
  },
  {
   "cell_type": "markdown",
   "metadata": {
    "colab_type": "text",
    "id": "z69W2sVGmybS"
   },
   "source": [
    "## <font color='red'>Problema </font>"
   ]
  },
  {
   "cell_type": "markdown",
   "metadata": {
    "colab_type": "text",
    "id": "ytP6VpismwDY"
   },
   "source": [
    "Suponha que os pesos dos sacos de arroz de uma indústria alimentícia se distribuem aproximadamente como uma normal de **desvio padrão populacional igual a 150 g**. Selecionada uma **amostra aleatório de 20 sacos** de um lote específico, obteve-se um **peso médio de 5.050 g**. Construa um **intervalo de confiança para a média populacional** assumindo um **nível de significância de 5%**."
   ]
  },
  {
   "cell_type": "markdown",
   "metadata": {
    "colab_type": "text",
    "id": "PCqEvJMOwvUf"
   },
   "source": [
    "---"
   ]
  },
  {
   "cell_type": "markdown",
   "metadata": {
    "colab_type": "text",
    "id": "HU578SXBG3GN"
   },
   "source": [
    "É a forma de se fazer suposições generalizadas sobre os parâmetros de uma população tendo como base as informações de uma amostra.\n",
    "\n",
    "- **Parâmetros** são os atributos numéricos de uma população, tal como a média, desvio padrão etc.\n",
    "\n",
    "- **Estimativa** é o valor obtido para determinado parâmetro a partir dos dados de uma amostra da população."
   ]
  },
  {
   "cell_type": "markdown",
   "metadata": {
    "colab_type": "text",
    "id": "klWVkoUDG3GR"
   },
   "source": [
    "## <font color=green>4.1 Teorema do limite central</font>\n",
    "***"
   ]
  },
  {
   "cell_type": "markdown",
   "metadata": {
    "colab_type": "text",
    "id": "QpgTvbISG3GU"
   },
   "source": [
    "> O **Teorema do Limite Central** afirma que, com o aumento do tamanho da amostra, a distribuição das médias amostrais se aproxima de uma distribuição normal com média igual à média da população e desvio padrão igual ao desvio padrão da variável original dividido pela raiz quadrada do tamanho da amostra. Este fato é assegurado para $n$ maior ou igual a 30."
   ]
  },
  {
   "cell_type": "markdown",
   "metadata": {
    "colab_type": "text",
    "id": "ZIAr6is3wEMp"
   },
   "source": [
    "# $$\\sigma_\\bar{x} = \\frac{\\sigma}{\\sqrt{n}}$$\n",
    "\n",
    "O desvio padrão das médias amostrais é conhecido como **erro padrão da média**"
   ]
  },
  {
   "cell_type": "markdown",
   "metadata": {
    "colab_type": "text",
    "id": "eFtSo6H0iz7z"
   },
   "source": [
    "### Entendendo o Teorema do Limite Central"
   ]
  },
  {
   "cell_type": "code",
   "execution_count": 74,
   "metadata": {
    "colab": {},
    "colab_type": "code",
    "id": "S3q73XpnizTi"
   },
   "outputs": [],
   "source": [
    "n = 2000\n",
    "total_de_amostras = 1500"
   ]
  },
  {
   "cell_type": "code",
   "execution_count": 75,
   "metadata": {
    "colab": {
     "base_uri": "https://localhost:8080/",
     "height": 32
    },
    "colab_type": "code",
    "id": "uXZvARZ0izQp",
    "outputId": "84cfa6fa-e581-4cb6-bb4c-b622db1e85cd"
   },
   "outputs": [
    {
     "output_type": "execute_result",
     "data": {
      "text/plain": [
       "Empty DataFrame\n",
       "Columns: []\n",
       "Index: []"
      ],
      "text/html": "<div>\n<style scoped>\n    .dataframe tbody tr th:only-of-type {\n        vertical-align: middle;\n    }\n\n    .dataframe tbody tr th {\n        vertical-align: top;\n    }\n\n    .dataframe thead th {\n        text-align: right;\n    }\n</style>\n<table border=\"1\" class=\"dataframe\">\n  <thead>\n    <tr style=\"text-align: right;\">\n      <th></th>\n    </tr>\n  </thead>\n  <tbody>\n  </tbody>\n</table>\n</div>"
     },
     "metadata": {},
     "execution_count": 75
    }
   ],
   "source": [
    "amostras = pd.DataFrame()\n",
    "amostras"
   ]
  },
  {
   "cell_type": "code",
   "execution_count": 76,
   "metadata": {
    "colab": {
     "base_uri": "https://localhost:8080/",
     "height": 1989
    },
    "colab_type": "code",
    "id": "tXa7XKhKTyMu",
    "outputId": "2fe05b86-ecc8-48af-be13-17e8c7c235ce",
    "scrolled": true
   },
   "outputs": [
    {
     "output_type": "execute_result",
     "data": {
      "text/plain": [
       "      Amostra_0  Amostra_1  Amostra_2  Amostra_3  Amostra_4  Amostra_5  \\\n",
       "0            47         39         43         45         47         52   \n",
       "1            54         70         28         39         40         40   \n",
       "2            36         33         43         46         42         53   \n",
       "3            55         67         82         58         37         33   \n",
       "4            28         26         61         37         43         49   \n",
       "...         ...        ...        ...        ...        ...        ...   \n",
       "1995         36         38         55         34         48         36   \n",
       "1996         48         54         28         47         38         57   \n",
       "1997         43         48         36         32         23         46   \n",
       "1998         52         56         48         28         36         53   \n",
       "1999         47         58         25         43         49         51   \n",
       "\n",
       "      Amostra_6  Amostra_7  Amostra_8  Amostra_9  ...  Amostra_1490  \\\n",
       "0            24         24         57         19  ...            25   \n",
       "1            33         55         56         45  ...            36   \n",
       "2            56         46         55         56  ...            42   \n",
       "3            30         35         52         55  ...            50   \n",
       "4            42         42         21         48  ...            39   \n",
       "...         ...        ...        ...        ...  ...           ...   \n",
       "1995         66         45         45         43  ...            65   \n",
       "1996         40         46         31         48  ...            32   \n",
       "1997         50         32         40         55  ...            49   \n",
       "1998         30         62         29         38  ...            39   \n",
       "1999         33         53         54         50  ...            25   \n",
       "\n",
       "      Amostra_1491  Amostra_1492  Amostra_1493  Amostra_1494  Amostra_1495  \\\n",
       "0               37            51            41            63            54   \n",
       "1               33            51            51            48            26   \n",
       "2               26            32            72            35            34   \n",
       "3               33            44            32            29            37   \n",
       "4               35            64            57            47            40   \n",
       "...            ...           ...           ...           ...           ...   \n",
       "1995            60            40            60            37            38   \n",
       "1996            40            58            44            50            41   \n",
       "1997            49            57            21            60            47   \n",
       "1998            55            47            53            64            67   \n",
       "1999            31            41            41            46            37   \n",
       "\n",
       "      Amostra_1496  Amostra_1497  Amostra_1498  Amostra_1499  \n",
       "0               54            59            61            37  \n",
       "1               40            56            28            53  \n",
       "2               28            30            55            29  \n",
       "3               63            55            46            56  \n",
       "4               52            31            67            69  \n",
       "...            ...           ...           ...           ...  \n",
       "1995            23            43            37            29  \n",
       "1996            39            58            59            36  \n",
       "1997            42            34            30            51  \n",
       "1998            52            58            35            36  \n",
       "1999            57            41            30            60  \n",
       "\n",
       "[2000 rows x 1500 columns]"
      ],
      "text/html": "<div>\n<style scoped>\n    .dataframe tbody tr th:only-of-type {\n        vertical-align: middle;\n    }\n\n    .dataframe tbody tr th {\n        vertical-align: top;\n    }\n\n    .dataframe thead th {\n        text-align: right;\n    }\n</style>\n<table border=\"1\" class=\"dataframe\">\n  <thead>\n    <tr style=\"text-align: right;\">\n      <th></th>\n      <th>Amostra_0</th>\n      <th>Amostra_1</th>\n      <th>Amostra_2</th>\n      <th>Amostra_3</th>\n      <th>Amostra_4</th>\n      <th>Amostra_5</th>\n      <th>Amostra_6</th>\n      <th>Amostra_7</th>\n      <th>Amostra_8</th>\n      <th>Amostra_9</th>\n      <th>...</th>\n      <th>Amostra_1490</th>\n      <th>Amostra_1491</th>\n      <th>Amostra_1492</th>\n      <th>Amostra_1493</th>\n      <th>Amostra_1494</th>\n      <th>Amostra_1495</th>\n      <th>Amostra_1496</th>\n      <th>Amostra_1497</th>\n      <th>Amostra_1498</th>\n      <th>Amostra_1499</th>\n    </tr>\n  </thead>\n  <tbody>\n    <tr>\n      <th>0</th>\n      <td>47</td>\n      <td>39</td>\n      <td>43</td>\n      <td>45</td>\n      <td>47</td>\n      <td>52</td>\n      <td>24</td>\n      <td>24</td>\n      <td>57</td>\n      <td>19</td>\n      <td>...</td>\n      <td>25</td>\n      <td>37</td>\n      <td>51</td>\n      <td>41</td>\n      <td>63</td>\n      <td>54</td>\n      <td>54</td>\n      <td>59</td>\n      <td>61</td>\n      <td>37</td>\n    </tr>\n    <tr>\n      <th>1</th>\n      <td>54</td>\n      <td>70</td>\n      <td>28</td>\n      <td>39</td>\n      <td>40</td>\n      <td>40</td>\n      <td>33</td>\n      <td>55</td>\n      <td>56</td>\n      <td>45</td>\n      <td>...</td>\n      <td>36</td>\n      <td>33</td>\n      <td>51</td>\n      <td>51</td>\n      <td>48</td>\n      <td>26</td>\n      <td>40</td>\n      <td>56</td>\n      <td>28</td>\n      <td>53</td>\n    </tr>\n    <tr>\n      <th>2</th>\n      <td>36</td>\n      <td>33</td>\n      <td>43</td>\n      <td>46</td>\n      <td>42</td>\n      <td>53</td>\n      <td>56</td>\n      <td>46</td>\n      <td>55</td>\n      <td>56</td>\n      <td>...</td>\n      <td>42</td>\n      <td>26</td>\n      <td>32</td>\n      <td>72</td>\n      <td>35</td>\n      <td>34</td>\n      <td>28</td>\n      <td>30</td>\n      <td>55</td>\n      <td>29</td>\n    </tr>\n    <tr>\n      <th>3</th>\n      <td>55</td>\n      <td>67</td>\n      <td>82</td>\n      <td>58</td>\n      <td>37</td>\n      <td>33</td>\n      <td>30</td>\n      <td>35</td>\n      <td>52</td>\n      <td>55</td>\n      <td>...</td>\n      <td>50</td>\n      <td>33</td>\n      <td>44</td>\n      <td>32</td>\n      <td>29</td>\n      <td>37</td>\n      <td>63</td>\n      <td>55</td>\n      <td>46</td>\n      <td>56</td>\n    </tr>\n    <tr>\n      <th>4</th>\n      <td>28</td>\n      <td>26</td>\n      <td>61</td>\n      <td>37</td>\n      <td>43</td>\n      <td>49</td>\n      <td>42</td>\n      <td>42</td>\n      <td>21</td>\n      <td>48</td>\n      <td>...</td>\n      <td>39</td>\n      <td>35</td>\n      <td>64</td>\n      <td>57</td>\n      <td>47</td>\n      <td>40</td>\n      <td>52</td>\n      <td>31</td>\n      <td>67</td>\n      <td>69</td>\n    </tr>\n    <tr>\n      <th>...</th>\n      <td>...</td>\n      <td>...</td>\n      <td>...</td>\n      <td>...</td>\n      <td>...</td>\n      <td>...</td>\n      <td>...</td>\n      <td>...</td>\n      <td>...</td>\n      <td>...</td>\n      <td>...</td>\n      <td>...</td>\n      <td>...</td>\n      <td>...</td>\n      <td>...</td>\n      <td>...</td>\n      <td>...</td>\n      <td>...</td>\n      <td>...</td>\n      <td>...</td>\n      <td>...</td>\n    </tr>\n    <tr>\n      <th>1995</th>\n      <td>36</td>\n      <td>38</td>\n      <td>55</td>\n      <td>34</td>\n      <td>48</td>\n      <td>36</td>\n      <td>66</td>\n      <td>45</td>\n      <td>45</td>\n      <td>43</td>\n      <td>...</td>\n      <td>65</td>\n      <td>60</td>\n      <td>40</td>\n      <td>60</td>\n      <td>37</td>\n      <td>38</td>\n      <td>23</td>\n      <td>43</td>\n      <td>37</td>\n      <td>29</td>\n    </tr>\n    <tr>\n      <th>1996</th>\n      <td>48</td>\n      <td>54</td>\n      <td>28</td>\n      <td>47</td>\n      <td>38</td>\n      <td>57</td>\n      <td>40</td>\n      <td>46</td>\n      <td>31</td>\n      <td>48</td>\n      <td>...</td>\n      <td>32</td>\n      <td>40</td>\n      <td>58</td>\n      <td>44</td>\n      <td>50</td>\n      <td>41</td>\n      <td>39</td>\n      <td>58</td>\n      <td>59</td>\n      <td>36</td>\n    </tr>\n    <tr>\n      <th>1997</th>\n      <td>43</td>\n      <td>48</td>\n      <td>36</td>\n      <td>32</td>\n      <td>23</td>\n      <td>46</td>\n      <td>50</td>\n      <td>32</td>\n      <td>40</td>\n      <td>55</td>\n      <td>...</td>\n      <td>49</td>\n      <td>49</td>\n      <td>57</td>\n      <td>21</td>\n      <td>60</td>\n      <td>47</td>\n      <td>42</td>\n      <td>34</td>\n      <td>30</td>\n      <td>51</td>\n    </tr>\n    <tr>\n      <th>1998</th>\n      <td>52</td>\n      <td>56</td>\n      <td>48</td>\n      <td>28</td>\n      <td>36</td>\n      <td>53</td>\n      <td>30</td>\n      <td>62</td>\n      <td>29</td>\n      <td>38</td>\n      <td>...</td>\n      <td>39</td>\n      <td>55</td>\n      <td>47</td>\n      <td>53</td>\n      <td>64</td>\n      <td>67</td>\n      <td>52</td>\n      <td>58</td>\n      <td>35</td>\n      <td>36</td>\n    </tr>\n    <tr>\n      <th>1999</th>\n      <td>47</td>\n      <td>58</td>\n      <td>25</td>\n      <td>43</td>\n      <td>49</td>\n      <td>51</td>\n      <td>33</td>\n      <td>53</td>\n      <td>54</td>\n      <td>50</td>\n      <td>...</td>\n      <td>25</td>\n      <td>31</td>\n      <td>41</td>\n      <td>41</td>\n      <td>46</td>\n      <td>37</td>\n      <td>57</td>\n      <td>41</td>\n      <td>30</td>\n      <td>60</td>\n    </tr>\n  </tbody>\n</table>\n<p>2000 rows × 1500 columns</p>\n</div>"
     },
     "metadata": {},
     "execution_count": 76
    }
   ],
   "source": [
    "for i in range(total_de_amostras):\n",
    "    _ = dados['Idade'].sample(n)\n",
    "    _.index = range(0, len(_))\n",
    "    amostras['Amostra_' + str(i)] = _\n",
    "amostras"
   ]
  },
  {
   "cell_type": "code",
   "execution_count": null,
   "metadata": {
    "colab": {
     "base_uri": "https://localhost:8080/",
     "height": 1071
    },
    "colab_type": "code",
    "id": "v5Q-rnS_izNd",
    "outputId": "5097951e-8900-42f8-894a-539ad7d51f76",
    "scrolled": true
   },
   "outputs": [],
   "source": []
  },
  {
   "cell_type": "markdown",
   "metadata": {
    "colab_type": "text",
    "id": "JfgEBDx0jDzf"
   },
   "source": [
    "> O Teorema do Limite Central afirma que, **com o aumento do tamanho da amostra, a distribuição das médias amostrais se aproxima de uma distribuição normal** com média igual à média da população e desvio padrão igual ao desvio padrão da variável original dividido pela raiz quadrada do tamanho da amostra. Este fato é assegurado para n maior ou igual a 30."
   ]
  },
  {
   "cell_type": "code",
   "execution_count": 77,
   "metadata": {
    "colab": {
     "base_uri": "https://localhost:8080/",
     "height": 286
    },
    "colab_type": "code",
    "id": "giJKqa_9izKF",
    "outputId": "a90fdc6d-9970-42dd-85c3-0da9e0977ef0"
   },
   "outputs": [
    {
     "output_type": "execute_result",
     "data": {
      "text/plain": [
       "Amostra_0       44.1370\n",
       "Amostra_1       44.1995\n",
       "Amostra_2       44.0275\n",
       "Amostra_3       44.1825\n",
       "Amostra_4       43.9020\n",
       "                 ...   \n",
       "Amostra_1495    44.2920\n",
       "Amostra_1496    44.2615\n",
       "Amostra_1497    43.6475\n",
       "Amostra_1498    44.0370\n",
       "Amostra_1499    44.0720\n",
       "Length: 1500, dtype: float64"
      ]
     },
     "metadata": {},
     "execution_count": 77
    }
   ],
   "source": [
    "amostras.mean()"
   ]
  },
  {
   "cell_type": "code",
   "execution_count": 78,
   "metadata": {
    "colab": {
     "base_uri": "https://localhost:8080/",
     "height": 34
    },
    "colab_type": "code",
    "id": "vXE-UOj_izGZ",
    "outputId": "6eecc478-100a-4b55-eec3-896dbfc2079d"
   },
   "outputs": [
    {
     "output_type": "execute_result",
     "data": {
      "text/plain": [
       "<AxesSubplot:>"
      ]
     },
     "metadata": {},
     "execution_count": 78
    },
    {
     "output_type": "display_data",
     "data": {
      "text/plain": "<Figure size 432x288 with 1 Axes>",
      "image/svg+xml": "<?xml version=\"1.0\" encoding=\"utf-8\" standalone=\"no\"?>\r\n<!DOCTYPE svg PUBLIC \"-//W3C//DTD SVG 1.1//EN\"\r\n  \"http://www.w3.org/Graphics/SVG/1.1/DTD/svg11.dtd\">\r\n<!-- Created with matplotlib (https://matplotlib.org/) -->\r\n<svg height=\"248.518125pt\" version=\"1.1\" viewBox=\"0 0 387.572777 248.518125\" width=\"387.572777pt\" xmlns=\"http://www.w3.org/2000/svg\" xmlns:xlink=\"http://www.w3.org/1999/xlink\">\r\n <metadata>\r\n  <rdf:RDF xmlns:cc=\"http://creativecommons.org/ns#\" xmlns:dc=\"http://purl.org/dc/elements/1.1/\" xmlns:rdf=\"http://www.w3.org/1999/02/22-rdf-syntax-ns#\">\r\n   <cc:Work>\r\n    <dc:type rdf:resource=\"http://purl.org/dc/dcmitype/StillImage\"/>\r\n    <dc:date>2021-06-24T16:09:04.630862</dc:date>\r\n    <dc:format>image/svg+xml</dc:format>\r\n    <dc:creator>\r\n     <cc:Agent>\r\n      <dc:title>Matplotlib v3.3.4, https://matplotlib.org/</dc:title>\r\n     </cc:Agent>\r\n    </dc:creator>\r\n   </cc:Work>\r\n  </rdf:RDF>\r\n </metadata>\r\n <defs>\r\n  <style type=\"text/css\">*{stroke-linecap:butt;stroke-linejoin:round;}</style>\r\n </defs>\r\n <g id=\"figure_1\">\r\n  <g id=\"patch_1\">\r\n   <path d=\"M 0 248.518125 \r\nL 387.572777 248.518125 \r\nL 387.572777 0 \r\nL 0 0 \r\nz\r\n\" style=\"fill:none;\"/>\r\n  </g>\r\n  <g id=\"axes_1\">\r\n   <g id=\"patch_2\">\r\n    <path d=\"M 33.2875 224.64 \r\nL 368.0875 224.64 \r\nL 368.0875 7.2 \r\nL 33.2875 7.2 \r\nz\r\n\" style=\"fill:#ffffff;\"/>\r\n   </g>\r\n   <g id=\"patch_3\">\r\n    <path clip-path=\"url(#p0fdac63a79)\" d=\"M 48.505682 224.64 \r\nL 78.942045 224.64 \r\nL 78.942045 219.345195 \r\nL 48.505682 219.345195 \r\nz\r\n\" style=\"fill:#1f77b4;\"/>\r\n   </g>\r\n   <g id=\"patch_4\">\r\n    <path clip-path=\"url(#p0fdac63a79)\" d=\"M 78.942045 224.64 \r\nL 109.378409 224.64 \r\nL 109.378409 198.165974 \r\nL 78.942045 198.165974 \r\nz\r\n\" style=\"fill:#1f77b4;\"/>\r\n   </g>\r\n   <g id=\"patch_5\">\r\n    <path clip-path=\"url(#p0fdac63a79)\" d=\"M 109.378409 224.64 \r\nL 139.814773 224.64 \r\nL 139.814773 144.62961 \r\nL 109.378409 144.62961 \r\nz\r\n\" style=\"fill:#1f77b4;\"/>\r\n   </g>\r\n   <g id=\"patch_6\">\r\n    <path clip-path=\"url(#p0fdac63a79)\" d=\"M 139.814773 224.64 \r\nL 170.251136 224.64 \r\nL 170.251136 69.914026 \r\nL 139.814773 69.914026 \r\nz\r\n\" style=\"fill:#1f77b4;\"/>\r\n   </g>\r\n   <g id=\"patch_7\">\r\n    <path clip-path=\"url(#p0fdac63a79)\" d=\"M 170.251136 224.64 \r\nL 200.6875 224.64 \r\nL 200.6875 17.554286 \r\nL 170.251136 17.554286 \r\nz\r\n\" style=\"fill:#1f77b4;\"/>\r\n   </g>\r\n   <g id=\"patch_8\">\r\n    <path clip-path=\"url(#p0fdac63a79)\" d=\"M 200.6875 224.64 \r\nL 231.123864 224.64 \r\nL 231.123864 38.145195 \r\nL 200.6875 38.145195 \r\nz\r\n\" style=\"fill:#1f77b4;\"/>\r\n   </g>\r\n   <g id=\"patch_9\">\r\n    <path clip-path=\"url(#p0fdac63a79)\" d=\"M 231.123864 224.64 \r\nL 261.560227 224.64 \r\nL 261.560227 92.858182 \r\nL 231.123864 92.858182 \r\nz\r\n\" style=\"fill:#1f77b4;\"/>\r\n   </g>\r\n   <g id=\"patch_10\">\r\n    <path clip-path=\"url(#p0fdac63a79)\" d=\"M 261.560227 224.64 \r\nL 291.996591 224.64 \r\nL 291.996591 156.984156 \r\nL 261.560227 156.984156 \r\nz\r\n\" style=\"fill:#1f77b4;\"/>\r\n   </g>\r\n   <g id=\"patch_11\">\r\n    <path clip-path=\"url(#p0fdac63a79)\" d=\"M 291.996591 224.64 \r\nL 322.432955 224.64 \r\nL 322.432955 205.814026 \r\nL 291.996591 205.814026 \r\nz\r\n\" style=\"fill:#1f77b4;\"/>\r\n   </g>\r\n   <g id=\"patch_12\">\r\n    <path clip-path=\"url(#p0fdac63a79)\" d=\"M 322.432955 224.64 \r\nL 352.869318 224.64 \r\nL 352.869318 220.521818 \r\nL 322.432955 220.521818 \r\nz\r\n\" style=\"fill:#1f77b4;\"/>\r\n   </g>\r\n   <g id=\"matplotlib.axis_1\">\r\n    <g id=\"xtick_1\">\r\n     <g id=\"line2d_1\">\r\n      <path clip-path=\"url(#p0fdac63a79)\" d=\"M 45.483112 224.64 \r\nL 45.483112 7.2 \r\n\" style=\"fill:none;stroke:#b0b0b0;stroke-linecap:square;stroke-width:0.8;\"/>\r\n     </g>\r\n     <g id=\"line2d_2\">\r\n      <defs>\r\n       <path d=\"M 0 0 \r\nL 0 3.5 \r\n\" id=\"m360cc6b28f\" style=\"stroke:#000000;stroke-width:0.8;\"/>\r\n      </defs>\r\n      <g>\r\n       <use style=\"stroke:#000000;stroke-width:0.8;\" x=\"45.483112\" xlink:href=\"#m360cc6b28f\" y=\"224.64\"/>\r\n      </g>\r\n     </g>\r\n     <g id=\"text_1\">\r\n      <!-- 43.25 -->\r\n      <g transform=\"translate(31.169049 239.238437)scale(0.1 -0.1)\">\r\n       <defs>\r\n        <path d=\"M 37.796875 64.3125 \r\nL 12.890625 25.390625 \r\nL 37.796875 25.390625 \r\nz\r\nM 35.203125 72.90625 \r\nL 47.609375 72.90625 \r\nL 47.609375 25.390625 \r\nL 58.015625 25.390625 \r\nL 58.015625 17.1875 \r\nL 47.609375 17.1875 \r\nL 47.609375 0 \r\nL 37.796875 0 \r\nL 37.796875 17.1875 \r\nL 4.890625 17.1875 \r\nL 4.890625 26.703125 \r\nz\r\n\" id=\"DejaVuSans-52\"/>\r\n        <path d=\"M 40.578125 39.3125 \r\nQ 47.65625 37.796875 51.625 33 \r\nQ 55.609375 28.21875 55.609375 21.1875 \r\nQ 55.609375 10.40625 48.1875 4.484375 \r\nQ 40.765625 -1.421875 27.09375 -1.421875 \r\nQ 22.515625 -1.421875 17.65625 -0.515625 \r\nQ 12.796875 0.390625 7.625 2.203125 \r\nL 7.625 11.71875 \r\nQ 11.71875 9.328125 16.59375 8.109375 \r\nQ 21.484375 6.890625 26.8125 6.890625 \r\nQ 36.078125 6.890625 40.9375 10.546875 \r\nQ 45.796875 14.203125 45.796875 21.1875 \r\nQ 45.796875 27.640625 41.28125 31.265625 \r\nQ 36.765625 34.90625 28.71875 34.90625 \r\nL 20.21875 34.90625 \r\nL 20.21875 43.015625 \r\nL 29.109375 43.015625 \r\nQ 36.375 43.015625 40.234375 45.921875 \r\nQ 44.09375 48.828125 44.09375 54.296875 \r\nQ 44.09375 59.90625 40.109375 62.90625 \r\nQ 36.140625 65.921875 28.71875 65.921875 \r\nQ 24.65625 65.921875 20.015625 65.03125 \r\nQ 15.375 64.15625 9.8125 62.3125 \r\nL 9.8125 71.09375 \r\nQ 15.4375 72.65625 20.34375 73.4375 \r\nQ 25.25 74.21875 29.59375 74.21875 \r\nQ 40.828125 74.21875 47.359375 69.109375 \r\nQ 53.90625 64.015625 53.90625 55.328125 \r\nQ 53.90625 49.265625 50.4375 45.09375 \r\nQ 46.96875 40.921875 40.578125 39.3125 \r\nz\r\n\" id=\"DejaVuSans-51\"/>\r\n        <path d=\"M 10.6875 12.40625 \r\nL 21 12.40625 \r\nL 21 0 \r\nL 10.6875 0 \r\nz\r\n\" id=\"DejaVuSans-46\"/>\r\n        <path d=\"M 19.1875 8.296875 \r\nL 53.609375 8.296875 \r\nL 53.609375 0 \r\nL 7.328125 0 \r\nL 7.328125 8.296875 \r\nQ 12.9375 14.109375 22.625 23.890625 \r\nQ 32.328125 33.6875 34.8125 36.53125 \r\nQ 39.546875 41.84375 41.421875 45.53125 \r\nQ 43.3125 49.21875 43.3125 52.78125 \r\nQ 43.3125 58.59375 39.234375 62.25 \r\nQ 35.15625 65.921875 28.609375 65.921875 \r\nQ 23.96875 65.921875 18.8125 64.3125 \r\nQ 13.671875 62.703125 7.8125 59.421875 \r\nL 7.8125 69.390625 \r\nQ 13.765625 71.78125 18.9375 73 \r\nQ 24.125 74.21875 28.421875 74.21875 \r\nQ 39.75 74.21875 46.484375 68.546875 \r\nQ 53.21875 62.890625 53.21875 53.421875 \r\nQ 53.21875 48.921875 51.53125 44.890625 \r\nQ 49.859375 40.875 45.40625 35.40625 \r\nQ 44.1875 33.984375 37.640625 27.21875 \r\nQ 31.109375 20.453125 19.1875 8.296875 \r\nz\r\n\" id=\"DejaVuSans-50\"/>\r\n        <path d=\"M 10.796875 72.90625 \r\nL 49.515625 72.90625 \r\nL 49.515625 64.59375 \r\nL 19.828125 64.59375 \r\nL 19.828125 46.734375 \r\nQ 21.96875 47.46875 24.109375 47.828125 \r\nQ 26.265625 48.1875 28.421875 48.1875 \r\nQ 40.625 48.1875 47.75 41.5 \r\nQ 54.890625 34.8125 54.890625 23.390625 \r\nQ 54.890625 11.625 47.5625 5.09375 \r\nQ 40.234375 -1.421875 26.90625 -1.421875 \r\nQ 22.3125 -1.421875 17.546875 -0.640625 \r\nQ 12.796875 0.140625 7.71875 1.703125 \r\nL 7.71875 11.625 \r\nQ 12.109375 9.234375 16.796875 8.0625 \r\nQ 21.484375 6.890625 26.703125 6.890625 \r\nQ 35.15625 6.890625 40.078125 11.328125 \r\nQ 45.015625 15.765625 45.015625 23.390625 \r\nQ 45.015625 31 40.078125 35.4375 \r\nQ 35.15625 39.890625 26.703125 39.890625 \r\nQ 22.75 39.890625 18.8125 39.015625 \r\nQ 14.890625 38.140625 10.796875 36.28125 \r\nz\r\n\" id=\"DejaVuSans-53\"/>\r\n       </defs>\r\n       <use xlink:href=\"#DejaVuSans-52\"/>\r\n       <use x=\"63.623047\" xlink:href=\"#DejaVuSans-51\"/>\r\n       <use x=\"127.246094\" xlink:href=\"#DejaVuSans-46\"/>\r\n       <use x=\"159.033203\" xlink:href=\"#DejaVuSans-50\"/>\r\n       <use x=\"222.65625\" xlink:href=\"#DejaVuSans-53\"/>\r\n      </g>\r\n     </g>\r\n    </g>\r\n    <g id=\"xtick_2\">\r\n     <g id=\"line2d_3\">\r\n      <path clip-path=\"url(#p0fdac63a79)\" d=\"M 91.279627 224.64 \r\nL 91.279627 7.2 \r\n\" style=\"fill:none;stroke:#b0b0b0;stroke-linecap:square;stroke-width:0.8;\"/>\r\n     </g>\r\n     <g id=\"line2d_4\">\r\n      <g>\r\n       <use style=\"stroke:#000000;stroke-width:0.8;\" x=\"91.279627\" xlink:href=\"#m360cc6b28f\" y=\"224.64\"/>\r\n      </g>\r\n     </g>\r\n     <g id=\"text_2\">\r\n      <!-- 43.50 -->\r\n      <g transform=\"translate(76.965564 239.238437)scale(0.1 -0.1)\">\r\n       <defs>\r\n        <path d=\"M 31.78125 66.40625 \r\nQ 24.171875 66.40625 20.328125 58.90625 \r\nQ 16.5 51.421875 16.5 36.375 \r\nQ 16.5 21.390625 20.328125 13.890625 \r\nQ 24.171875 6.390625 31.78125 6.390625 \r\nQ 39.453125 6.390625 43.28125 13.890625 \r\nQ 47.125 21.390625 47.125 36.375 \r\nQ 47.125 51.421875 43.28125 58.90625 \r\nQ 39.453125 66.40625 31.78125 66.40625 \r\nz\r\nM 31.78125 74.21875 \r\nQ 44.046875 74.21875 50.515625 64.515625 \r\nQ 56.984375 54.828125 56.984375 36.375 \r\nQ 56.984375 17.96875 50.515625 8.265625 \r\nQ 44.046875 -1.421875 31.78125 -1.421875 \r\nQ 19.53125 -1.421875 13.0625 8.265625 \r\nQ 6.59375 17.96875 6.59375 36.375 \r\nQ 6.59375 54.828125 13.0625 64.515625 \r\nQ 19.53125 74.21875 31.78125 74.21875 \r\nz\r\n\" id=\"DejaVuSans-48\"/>\r\n       </defs>\r\n       <use xlink:href=\"#DejaVuSans-52\"/>\r\n       <use x=\"63.623047\" xlink:href=\"#DejaVuSans-51\"/>\r\n       <use x=\"127.246094\" xlink:href=\"#DejaVuSans-46\"/>\r\n       <use x=\"159.033203\" xlink:href=\"#DejaVuSans-53\"/>\r\n       <use x=\"222.65625\" xlink:href=\"#DejaVuSans-48\"/>\r\n      </g>\r\n     </g>\r\n    </g>\r\n    <g id=\"xtick_3\">\r\n     <g id=\"line2d_5\">\r\n      <path clip-path=\"url(#p0fdac63a79)\" d=\"M 137.076141 224.64 \r\nL 137.076141 7.2 \r\n\" style=\"fill:none;stroke:#b0b0b0;stroke-linecap:square;stroke-width:0.8;\"/>\r\n     </g>\r\n     <g id=\"line2d_6\">\r\n      <g>\r\n       <use style=\"stroke:#000000;stroke-width:0.8;\" x=\"137.076141\" xlink:href=\"#m360cc6b28f\" y=\"224.64\"/>\r\n      </g>\r\n     </g>\r\n     <g id=\"text_3\">\r\n      <!-- 43.75 -->\r\n      <g transform=\"translate(122.762079 239.238437)scale(0.1 -0.1)\">\r\n       <defs>\r\n        <path d=\"M 8.203125 72.90625 \r\nL 55.078125 72.90625 \r\nL 55.078125 68.703125 \r\nL 28.609375 0 \r\nL 18.3125 0 \r\nL 43.21875 64.59375 \r\nL 8.203125 64.59375 \r\nz\r\n\" id=\"DejaVuSans-55\"/>\r\n       </defs>\r\n       <use xlink:href=\"#DejaVuSans-52\"/>\r\n       <use x=\"63.623047\" xlink:href=\"#DejaVuSans-51\"/>\r\n       <use x=\"127.246094\" xlink:href=\"#DejaVuSans-46\"/>\r\n       <use x=\"159.033203\" xlink:href=\"#DejaVuSans-55\"/>\r\n       <use x=\"222.65625\" xlink:href=\"#DejaVuSans-53\"/>\r\n      </g>\r\n     </g>\r\n    </g>\r\n    <g id=\"xtick_4\">\r\n     <g id=\"line2d_7\">\r\n      <path clip-path=\"url(#p0fdac63a79)\" d=\"M 182.872656 224.64 \r\nL 182.872656 7.2 \r\n\" style=\"fill:none;stroke:#b0b0b0;stroke-linecap:square;stroke-width:0.8;\"/>\r\n     </g>\r\n     <g id=\"line2d_8\">\r\n      <g>\r\n       <use style=\"stroke:#000000;stroke-width:0.8;\" x=\"182.872656\" xlink:href=\"#m360cc6b28f\" y=\"224.64\"/>\r\n      </g>\r\n     </g>\r\n     <g id=\"text_4\">\r\n      <!-- 44.00 -->\r\n      <g transform=\"translate(168.558593 239.238437)scale(0.1 -0.1)\">\r\n       <use xlink:href=\"#DejaVuSans-52\"/>\r\n       <use x=\"63.623047\" xlink:href=\"#DejaVuSans-52\"/>\r\n       <use x=\"127.246094\" xlink:href=\"#DejaVuSans-46\"/>\r\n       <use x=\"159.033203\" xlink:href=\"#DejaVuSans-48\"/>\r\n       <use x=\"222.65625\" xlink:href=\"#DejaVuSans-48\"/>\r\n      </g>\r\n     </g>\r\n    </g>\r\n    <g id=\"xtick_5\">\r\n     <g id=\"line2d_9\">\r\n      <path clip-path=\"url(#p0fdac63a79)\" d=\"M 228.66917 224.64 \r\nL 228.66917 7.2 \r\n\" style=\"fill:none;stroke:#b0b0b0;stroke-linecap:square;stroke-width:0.8;\"/>\r\n     </g>\r\n     <g id=\"line2d_10\">\r\n      <g>\r\n       <use style=\"stroke:#000000;stroke-width:0.8;\" x=\"228.66917\" xlink:href=\"#m360cc6b28f\" y=\"224.64\"/>\r\n      </g>\r\n     </g>\r\n     <g id=\"text_5\">\r\n      <!-- 44.25 -->\r\n      <g transform=\"translate(214.355108 239.238437)scale(0.1 -0.1)\">\r\n       <use xlink:href=\"#DejaVuSans-52\"/>\r\n       <use x=\"63.623047\" xlink:href=\"#DejaVuSans-52\"/>\r\n       <use x=\"127.246094\" xlink:href=\"#DejaVuSans-46\"/>\r\n       <use x=\"159.033203\" xlink:href=\"#DejaVuSans-50\"/>\r\n       <use x=\"222.65625\" xlink:href=\"#DejaVuSans-53\"/>\r\n      </g>\r\n     </g>\r\n    </g>\r\n    <g id=\"xtick_6\">\r\n     <g id=\"line2d_11\">\r\n      <path clip-path=\"url(#p0fdac63a79)\" d=\"M 274.465685 224.64 \r\nL 274.465685 7.2 \r\n\" style=\"fill:none;stroke:#b0b0b0;stroke-linecap:square;stroke-width:0.8;\"/>\r\n     </g>\r\n     <g id=\"line2d_12\">\r\n      <g>\r\n       <use style=\"stroke:#000000;stroke-width:0.8;\" x=\"274.465685\" xlink:href=\"#m360cc6b28f\" y=\"224.64\"/>\r\n      </g>\r\n     </g>\r\n     <g id=\"text_6\">\r\n      <!-- 44.50 -->\r\n      <g transform=\"translate(260.151623 239.238437)scale(0.1 -0.1)\">\r\n       <use xlink:href=\"#DejaVuSans-52\"/>\r\n       <use x=\"63.623047\" xlink:href=\"#DejaVuSans-52\"/>\r\n       <use x=\"127.246094\" xlink:href=\"#DejaVuSans-46\"/>\r\n       <use x=\"159.033203\" xlink:href=\"#DejaVuSans-53\"/>\r\n       <use x=\"222.65625\" xlink:href=\"#DejaVuSans-48\"/>\r\n      </g>\r\n     </g>\r\n    </g>\r\n    <g id=\"xtick_7\">\r\n     <g id=\"line2d_13\">\r\n      <path clip-path=\"url(#p0fdac63a79)\" d=\"M 320.2622 224.64 \r\nL 320.2622 7.2 \r\n\" style=\"fill:none;stroke:#b0b0b0;stroke-linecap:square;stroke-width:0.8;\"/>\r\n     </g>\r\n     <g id=\"line2d_14\">\r\n      <g>\r\n       <use style=\"stroke:#000000;stroke-width:0.8;\" x=\"320.2622\" xlink:href=\"#m360cc6b28f\" y=\"224.64\"/>\r\n      </g>\r\n     </g>\r\n     <g id=\"text_7\">\r\n      <!-- 44.75 -->\r\n      <g transform=\"translate(305.948137 239.238437)scale(0.1 -0.1)\">\r\n       <use xlink:href=\"#DejaVuSans-52\"/>\r\n       <use x=\"63.623047\" xlink:href=\"#DejaVuSans-52\"/>\r\n       <use x=\"127.246094\" xlink:href=\"#DejaVuSans-46\"/>\r\n       <use x=\"159.033203\" xlink:href=\"#DejaVuSans-55\"/>\r\n       <use x=\"222.65625\" xlink:href=\"#DejaVuSans-53\"/>\r\n      </g>\r\n     </g>\r\n    </g>\r\n    <g id=\"xtick_8\">\r\n     <g id=\"line2d_15\">\r\n      <path clip-path=\"url(#p0fdac63a79)\" d=\"M 366.058714 224.64 \r\nL 366.058714 7.2 \r\n\" style=\"fill:none;stroke:#b0b0b0;stroke-linecap:square;stroke-width:0.8;\"/>\r\n     </g>\r\n     <g id=\"line2d_16\">\r\n      <g>\r\n       <use style=\"stroke:#000000;stroke-width:0.8;\" x=\"366.058714\" xlink:href=\"#m360cc6b28f\" y=\"224.64\"/>\r\n      </g>\r\n     </g>\r\n     <g id=\"text_8\">\r\n      <!-- 45.00 -->\r\n      <g transform=\"translate(351.744652 239.238437)scale(0.1 -0.1)\">\r\n       <use xlink:href=\"#DejaVuSans-52\"/>\r\n       <use x=\"63.623047\" xlink:href=\"#DejaVuSans-53\"/>\r\n       <use x=\"127.246094\" xlink:href=\"#DejaVuSans-46\"/>\r\n       <use x=\"159.033203\" xlink:href=\"#DejaVuSans-48\"/>\r\n       <use x=\"222.65625\" xlink:href=\"#DejaVuSans-48\"/>\r\n      </g>\r\n     </g>\r\n    </g>\r\n   </g>\r\n   <g id=\"matplotlib.axis_2\">\r\n    <g id=\"ytick_1\">\r\n     <g id=\"line2d_17\">\r\n      <path clip-path=\"url(#p0fdac63a79)\" d=\"M 33.2875 224.64 \r\nL 368.0875 224.64 \r\n\" style=\"fill:none;stroke:#b0b0b0;stroke-linecap:square;stroke-width:0.8;\"/>\r\n     </g>\r\n     <g id=\"line2d_18\">\r\n      <defs>\r\n       <path d=\"M 0 0 \r\nL -3.5 0 \r\n\" id=\"mcba2bb3ee1\" style=\"stroke:#000000;stroke-width:0.8;\"/>\r\n      </defs>\r\n      <g>\r\n       <use style=\"stroke:#000000;stroke-width:0.8;\" x=\"33.2875\" xlink:href=\"#mcba2bb3ee1\" y=\"224.64\"/>\r\n      </g>\r\n     </g>\r\n     <g id=\"text_9\">\r\n      <!-- 0 -->\r\n      <g transform=\"translate(19.925 228.439219)scale(0.1 -0.1)\">\r\n       <use xlink:href=\"#DejaVuSans-48\"/>\r\n      </g>\r\n     </g>\r\n    </g>\r\n    <g id=\"ytick_2\">\r\n     <g id=\"line2d_19\">\r\n      <path clip-path=\"url(#p0fdac63a79)\" d=\"M 33.2875 195.224416 \r\nL 368.0875 195.224416 \r\n\" style=\"fill:none;stroke:#b0b0b0;stroke-linecap:square;stroke-width:0.8;\"/>\r\n     </g>\r\n     <g id=\"line2d_20\">\r\n      <g>\r\n       <use style=\"stroke:#000000;stroke-width:0.8;\" x=\"33.2875\" xlink:href=\"#mcba2bb3ee1\" y=\"195.224416\"/>\r\n      </g>\r\n     </g>\r\n     <g id=\"text_10\">\r\n      <!-- 50 -->\r\n      <g transform=\"translate(13.5625 199.023634)scale(0.1 -0.1)\">\r\n       <use xlink:href=\"#DejaVuSans-53\"/>\r\n       <use x=\"63.623047\" xlink:href=\"#DejaVuSans-48\"/>\r\n      </g>\r\n     </g>\r\n    </g>\r\n    <g id=\"ytick_3\">\r\n     <g id=\"line2d_21\">\r\n      <path clip-path=\"url(#p0fdac63a79)\" d=\"M 33.2875 165.808831 \r\nL 368.0875 165.808831 \r\n\" style=\"fill:none;stroke:#b0b0b0;stroke-linecap:square;stroke-width:0.8;\"/>\r\n     </g>\r\n     <g id=\"line2d_22\">\r\n      <g>\r\n       <use style=\"stroke:#000000;stroke-width:0.8;\" x=\"33.2875\" xlink:href=\"#mcba2bb3ee1\" y=\"165.808831\"/>\r\n      </g>\r\n     </g>\r\n     <g id=\"text_11\">\r\n      <!-- 100 -->\r\n      <g transform=\"translate(7.2 169.60805)scale(0.1 -0.1)\">\r\n       <defs>\r\n        <path d=\"M 12.40625 8.296875 \r\nL 28.515625 8.296875 \r\nL 28.515625 63.921875 \r\nL 10.984375 60.40625 \r\nL 10.984375 69.390625 \r\nL 28.421875 72.90625 \r\nL 38.28125 72.90625 \r\nL 38.28125 8.296875 \r\nL 54.390625 8.296875 \r\nL 54.390625 0 \r\nL 12.40625 0 \r\nz\r\n\" id=\"DejaVuSans-49\"/>\r\n       </defs>\r\n       <use xlink:href=\"#DejaVuSans-49\"/>\r\n       <use x=\"63.623047\" xlink:href=\"#DejaVuSans-48\"/>\r\n       <use x=\"127.246094\" xlink:href=\"#DejaVuSans-48\"/>\r\n      </g>\r\n     </g>\r\n    </g>\r\n    <g id=\"ytick_4\">\r\n     <g id=\"line2d_23\">\r\n      <path clip-path=\"url(#p0fdac63a79)\" d=\"M 33.2875 136.393247 \r\nL 368.0875 136.393247 \r\n\" style=\"fill:none;stroke:#b0b0b0;stroke-linecap:square;stroke-width:0.8;\"/>\r\n     </g>\r\n     <g id=\"line2d_24\">\r\n      <g>\r\n       <use style=\"stroke:#000000;stroke-width:0.8;\" x=\"33.2875\" xlink:href=\"#mcba2bb3ee1\" y=\"136.393247\"/>\r\n      </g>\r\n     </g>\r\n     <g id=\"text_12\">\r\n      <!-- 150 -->\r\n      <g transform=\"translate(7.2 140.192466)scale(0.1 -0.1)\">\r\n       <use xlink:href=\"#DejaVuSans-49\"/>\r\n       <use x=\"63.623047\" xlink:href=\"#DejaVuSans-53\"/>\r\n       <use x=\"127.246094\" xlink:href=\"#DejaVuSans-48\"/>\r\n      </g>\r\n     </g>\r\n    </g>\r\n    <g id=\"ytick_5\">\r\n     <g id=\"line2d_25\">\r\n      <path clip-path=\"url(#p0fdac63a79)\" d=\"M 33.2875 106.977662 \r\nL 368.0875 106.977662 \r\n\" style=\"fill:none;stroke:#b0b0b0;stroke-linecap:square;stroke-width:0.8;\"/>\r\n     </g>\r\n     <g id=\"line2d_26\">\r\n      <g>\r\n       <use style=\"stroke:#000000;stroke-width:0.8;\" x=\"33.2875\" xlink:href=\"#mcba2bb3ee1\" y=\"106.977662\"/>\r\n      </g>\r\n     </g>\r\n     <g id=\"text_13\">\r\n      <!-- 200 -->\r\n      <g transform=\"translate(7.2 110.776881)scale(0.1 -0.1)\">\r\n       <use xlink:href=\"#DejaVuSans-50\"/>\r\n       <use x=\"63.623047\" xlink:href=\"#DejaVuSans-48\"/>\r\n       <use x=\"127.246094\" xlink:href=\"#DejaVuSans-48\"/>\r\n      </g>\r\n     </g>\r\n    </g>\r\n    <g id=\"ytick_6\">\r\n     <g id=\"line2d_27\">\r\n      <path clip-path=\"url(#p0fdac63a79)\" d=\"M 33.2875 77.562078 \r\nL 368.0875 77.562078 \r\n\" style=\"fill:none;stroke:#b0b0b0;stroke-linecap:square;stroke-width:0.8;\"/>\r\n     </g>\r\n     <g id=\"line2d_28\">\r\n      <g>\r\n       <use style=\"stroke:#000000;stroke-width:0.8;\" x=\"33.2875\" xlink:href=\"#mcba2bb3ee1\" y=\"77.562078\"/>\r\n      </g>\r\n     </g>\r\n     <g id=\"text_14\">\r\n      <!-- 250 -->\r\n      <g transform=\"translate(7.2 81.361297)scale(0.1 -0.1)\">\r\n       <use xlink:href=\"#DejaVuSans-50\"/>\r\n       <use x=\"63.623047\" xlink:href=\"#DejaVuSans-53\"/>\r\n       <use x=\"127.246094\" xlink:href=\"#DejaVuSans-48\"/>\r\n      </g>\r\n     </g>\r\n    </g>\r\n    <g id=\"ytick_7\">\r\n     <g id=\"line2d_29\">\r\n      <path clip-path=\"url(#p0fdac63a79)\" d=\"M 33.2875 48.146494 \r\nL 368.0875 48.146494 \r\n\" style=\"fill:none;stroke:#b0b0b0;stroke-linecap:square;stroke-width:0.8;\"/>\r\n     </g>\r\n     <g id=\"line2d_30\">\r\n      <g>\r\n       <use style=\"stroke:#000000;stroke-width:0.8;\" x=\"33.2875\" xlink:href=\"#mcba2bb3ee1\" y=\"48.146494\"/>\r\n      </g>\r\n     </g>\r\n     <g id=\"text_15\">\r\n      <!-- 300 -->\r\n      <g transform=\"translate(7.2 51.945712)scale(0.1 -0.1)\">\r\n       <use xlink:href=\"#DejaVuSans-51\"/>\r\n       <use x=\"63.623047\" xlink:href=\"#DejaVuSans-48\"/>\r\n       <use x=\"127.246094\" xlink:href=\"#DejaVuSans-48\"/>\r\n      </g>\r\n     </g>\r\n    </g>\r\n    <g id=\"ytick_8\">\r\n     <g id=\"line2d_31\">\r\n      <path clip-path=\"url(#p0fdac63a79)\" d=\"M 33.2875 18.730909 \r\nL 368.0875 18.730909 \r\n\" style=\"fill:none;stroke:#b0b0b0;stroke-linecap:square;stroke-width:0.8;\"/>\r\n     </g>\r\n     <g id=\"line2d_32\">\r\n      <g>\r\n       <use style=\"stroke:#000000;stroke-width:0.8;\" x=\"33.2875\" xlink:href=\"#mcba2bb3ee1\" y=\"18.730909\"/>\r\n      </g>\r\n     </g>\r\n     <g id=\"text_16\">\r\n      <!-- 350 -->\r\n      <g transform=\"translate(7.2 22.530128)scale(0.1 -0.1)\">\r\n       <use xlink:href=\"#DejaVuSans-51\"/>\r\n       <use x=\"63.623047\" xlink:href=\"#DejaVuSans-53\"/>\r\n       <use x=\"127.246094\" xlink:href=\"#DejaVuSans-48\"/>\r\n      </g>\r\n     </g>\r\n    </g>\r\n   </g>\r\n   <g id=\"patch_13\">\r\n    <path d=\"M 33.2875 224.64 \r\nL 33.2875 7.2 \r\n\" style=\"fill:none;stroke:#000000;stroke-linecap:square;stroke-linejoin:miter;stroke-width:0.8;\"/>\r\n   </g>\r\n   <g id=\"patch_14\">\r\n    <path d=\"M 368.0875 224.64 \r\nL 368.0875 7.2 \r\n\" style=\"fill:none;stroke:#000000;stroke-linecap:square;stroke-linejoin:miter;stroke-width:0.8;\"/>\r\n   </g>\r\n   <g id=\"patch_15\">\r\n    <path d=\"M 33.2875 224.64 \r\nL 368.0875 224.64 \r\n\" style=\"fill:none;stroke:#000000;stroke-linecap:square;stroke-linejoin:miter;stroke-width:0.8;\"/>\r\n   </g>\r\n   <g id=\"patch_16\">\r\n    <path d=\"M 33.2875 7.2 \r\nL 368.0875 7.2 \r\n\" style=\"fill:none;stroke:#000000;stroke-linecap:square;stroke-linejoin:miter;stroke-width:0.8;\"/>\r\n   </g>\r\n  </g>\r\n </g>\r\n <defs>\r\n  <clipPath id=\"p0fdac63a79\">\r\n   <rect height=\"217.44\" width=\"334.8\" x=\"33.2875\" y=\"7.2\"/>\r\n  </clipPath>\r\n </defs>\r\n</svg>\r\n",
      "image/png": "[encoded data removed]"
     },
     "metadata": {
      "needs_background": "light"
     }
    }
   ],
   "source": [
    "amostras.mean().hist()"
   ]
  },
  {
   "cell_type": "markdown",
   "metadata": {
    "colab_type": "text",
    "id": "_A4RKStwjkLI"
   },
   "source": [
    "> O Teorema do Limite Central afirma que, com o aumento do tamanho da amostra, a distribuição das médias amostrais se aproxima de uma distribuição normal **com média igual à média da população** e desvio padrão igual ao desvio padrão da variável original dividido pela raiz quadrada do tamanho da amostra. Este fato é assegurado para n maior ou igual a 30."
   ]
  },
  {
   "cell_type": "code",
   "execution_count": 79,
   "metadata": {
    "colab": {
     "base_uri": "https://localhost:8080/",
     "height": 34
    },
    "colab_type": "code",
    "id": "bahA7_WYizC6",
    "outputId": "c95ef032-57b3-479d-b78e-b05efbaa9510"
   },
   "outputs": [
    {
     "output_type": "execute_result",
     "data": {
      "text/plain": [
       "44.07142113482561"
      ]
     },
     "metadata": {},
     "execution_count": 79
    }
   ],
   "source": [
    "dados['Idade'].mean()"
   ]
  },
  {
   "cell_type": "code",
   "execution_count": 80,
   "metadata": {},
   "outputs": [
    {
     "output_type": "execute_result",
     "data": {
      "text/plain": [
       "44.07822933333333"
      ]
     },
     "metadata": {},
     "execution_count": 80
    }
   ],
   "source": [
    "amostras.mean().mean()"
   ]
  },
  {
   "cell_type": "markdown",
   "metadata": {
    "colab_type": "text",
    "id": "7lIWJCAKlPmA"
   },
   "source": [
    "> O Teorema do Limite Central afirma que, com o aumento do tamanho da amostra, a distribuição das médias amostrais se aproxima de uma distribuição normal com média igual à média da população e **desvio padrão igual ao desvio padrão da variável original dividido pela raiz quadrada do tamanho da amostra**. Este fato é assegurado para n maior ou igual a 30.\n",
    "\n",
    "# $$\\sigma_\\bar{x} = \\frac{\\sigma}{\\sqrt{n}}$$"
   ]
  },
  {
   "cell_type": "code",
   "execution_count": 81,
   "metadata": {},
   "outputs": [
    {
     "output_type": "execute_result",
     "data": {
      "text/plain": [
       "0.2695677513871931"
      ]
     },
     "metadata": {},
     "execution_count": 81
    }
   ],
   "source": [
    "amostras.mean().std()"
   ]
  },
  {
   "cell_type": "code",
   "execution_count": 82,
   "metadata": {
    "colab": {
     "base_uri": "https://localhost:8080/",
     "height": 34
    },
    "colab_type": "code",
    "id": "qKrG0zqhVNzn",
    "outputId": "90ab25da-d1bd-4f27-ebe7-af4bb0563d54"
   },
   "outputs": [
    {
     "output_type": "execute_result",
     "data": {
      "text/plain": [
       "0.27907433027404266"
      ]
     },
     "metadata": {},
     "execution_count": 82
    }
   ],
   "source": [
    "dados['Idade'].std() / np.sqrt(n)"
   ]
  },
  {
   "cell_type": "markdown",
   "metadata": {
    "colab_type": "text",
    "id": "ku8CE67iG3Ge"
   },
   "source": [
    "## <font color=green>4.2 Níveis de confiança e significância</font>\n",
    "***"
   ]
  },
  {
   "cell_type": "markdown",
   "metadata": {
    "colab_type": "text",
    "id": "mk6ZsvgyG3Gf"
   },
   "source": [
    "O **nível de confiança** ($1 - \\alpha$) representa a probabilidade de acerto da estimativa. De forma complementar o **nível de significância** ($\\alpha$) expressa a probabilidade de erro da estimativa.\n",
    "\n",
    "O **nível de confiança** representa o grau de confiabilidade do resultado da estimativa estar dentro de determinado intervalo. Quando fixamos em uma pesquisa um **nível de confiança** de 95%, por exemplo, estamos assumindo que existe uma probabilidade de 95% dos resultados da pesquisa representarem bem a realidade, ou seja, estarem corretos.\n",
    "\n",
    "O **nível de confiança** de uma estimativa pode ser obtido a partir da área sob a curva normal como ilustrado na figura abaixo."
   ]
  },
  {
   "cell_type": "markdown",
   "metadata": {
    "colab_type": "text",
    "id": "WeGyDfvaG3Gg"
   },
   "source": [
    "![alt text](https://caelum-online-public.s3.amazonaws.com/1178-estatistica-parte2/01/img007.png)"
   ]
  },
  {
   "cell_type": "markdown",
   "metadata": {
    "colab_type": "text",
    "id": "AN8WDZ-HG3Gi"
   },
   "source": [
    "## <font color=green>4.3 Erro inferencial</font>\n",
    "***"
   ]
  },
  {
   "cell_type": "markdown",
   "metadata": {
    "colab_type": "text",
    "id": "tk-TwhhfG3Gi"
   },
   "source": [
    "O **erro inferencial** é definido pelo **desvio padrão das médias amostrais** $\\sigma_\\bar{x}$ e pelo **nível de confiança** determinado para o processo."
   ]
  },
  {
   "cell_type": "markdown",
   "metadata": {
    "colab_type": "text",
    "id": "FKOQUPYHG3Gk"
   },
   "source": [
    "# $$e = z \\frac{\\sigma}{\\sqrt{n}}$$"
   ]
  },
  {
   "cell_type": "markdown",
   "metadata": {
    "colab_type": "text",
    "id": "ELbWQW4sG3HS"
   },
   "source": [
    "## <font color=green>4.4 Intervalos de confiança</font>\n",
    "***"
   ]
  },
  {
   "cell_type": "markdown",
   "metadata": {
    "colab_type": "text",
    "id": "-r6EMnH-G3HT"
   },
   "source": [
    "### Intevalo de confiança para a média da população"
   ]
  },
  {
   "cell_type": "markdown",
   "metadata": {
    "colab_type": "text",
    "id": "QWgBFeRnG3HT"
   },
   "source": [
    "#### Com desvio padrão populacional conhecido\n",
    "\n",
    "## $$\\mu = \\bar{x} \\pm z\\frac{\\sigma}{\\sqrt{n}}$$\n",
    "\n",
    "#### Com desvio padrão populacional desconhecido\n",
    "\n",
    "## $$\\mu = \\bar{x} \\pm z\\frac{s}{\\sqrt{n}}$$"
   ]
  },
  {
   "cell_type": "markdown",
   "metadata": {
    "colab_type": "text",
    "id": "R2qqLneeG3HT"
   },
   "source": [
    "## <font color='blue'>Exemplo: </font>"
   ]
  },
  {
   "cell_type": "markdown",
   "metadata": {
    "colab_type": "text",
    "id": "AgnrFjdMG3HT"
   },
   "source": [
    "Suponha que os pesos dos sacos de arroz de uma indústria alimentícia se distribuem aproximadamente como uma normal de **desvio padrão populacional igual a 150 g**. Selecionada uma **amostra aleatório de 20 sacos** de um lote específico, obteve-se um **peso médio de 5.050 g**. Construa um intervalo de confiança para a **média populacional** assumindo um **nível de significância de 5%**."
   ]
  },
  {
   "cell_type": "markdown",
   "metadata": {
    "colab_type": "text",
    "id": "LpGQGksTG3HU"
   },
   "source": [
    "### Média amostral"
   ]
  },
  {
   "cell_type": "code",
   "execution_count": 83,
   "metadata": {
    "colab": {
     "base_uri": "https://localhost:8080/",
     "height": 34
    },
    "colab_type": "code",
    "id": "aF2QQ0z3G3HU",
    "outputId": "31b20b10-a4f7-49fe-b113-f0fff1e2f30f"
   },
   "outputs": [
    {
     "output_type": "execute_result",
     "data": {
      "text/plain": [
       "5050"
      ]
     },
     "metadata": {},
     "execution_count": 83
    }
   ],
   "source": [
    "media_amostral = 5050\n",
    "media_amostral"
   ]
  },
  {
   "cell_type": "markdown",
   "metadata": {
    "colab_type": "text",
    "id": "Jly1bVP9G3HY"
   },
   "source": [
    "### Nível de significância ($\\alpha$)"
   ]
  },
  {
   "cell_type": "code",
   "execution_count": 84,
   "metadata": {
    "colab": {
     "base_uri": "https://localhost:8080/",
     "height": 34
    },
    "colab_type": "code",
    "id": "BzIgN3C7G3HY",
    "outputId": "53b76a9a-fce9-41dc-829e-4c7b318b7d75"
   },
   "outputs": [
    {
     "output_type": "execute_result",
     "data": {
      "text/plain": [
       "0.05"
      ]
     },
     "metadata": {},
     "execution_count": 84
    }
   ],
   "source": [
    "nivel_signf = 0.05\n",
    "nivel_signf"
   ]
  },
  {
   "cell_type": "markdown",
   "metadata": {
    "colab_type": "text",
    "id": "SrZAbQRKG3Ha"
   },
   "source": [
    "### Nível de confiança ($1 - \\alpha$)"
   ]
  },
  {
   "cell_type": "code",
   "execution_count": 85,
   "metadata": {
    "colab": {
     "base_uri": "https://localhost:8080/",
     "height": 34
    },
    "colab_type": "code",
    "id": "1JeWXwA6G3Ha",
    "outputId": "8ac9e63f-f2e5-46a5-b693-e221203ada3f"
   },
   "outputs": [
    {
     "output_type": "execute_result",
     "data": {
      "text/plain": [
       "0.95"
      ]
     },
     "metadata": {},
     "execution_count": 85
    }
   ],
   "source": [
    "nivel_conf = 1 - nivel_signf\n",
    "nivel_conf"
   ]
  },
  {
   "cell_type": "markdown",
   "metadata": {
    "colab_type": "text",
    "id": "mZoUFr1nG3Hf"
   },
   "source": [
    "### Obtendo $z$"
   ]
  },
  {
   "cell_type": "code",
   "execution_count": 86,
   "metadata": {
    "colab": {
     "base_uri": "https://localhost:8080/",
     "height": 359
    },
    "colab_type": "code",
    "id": "f9IMOwY2Xeva",
    "outputId": "e8efe36b-5dfd-4272-de0c-fdab162d3582"
   },
   "outputs": [
    {
     "output_type": "execute_result",
     "data": {
      "text/plain": [
       "Z       0.00    0.01    0.02    0.03    0.04    0.05    0.06    0.07    0.08  \\\n",
       "1.60  0.9452  0.9463  0.9474  0.9484  0.9495  0.9505  0.9515  0.9525  0.9535   \n",
       "1.70  0.9554  0.9564  0.9573  0.9582  0.9591  0.9599  0.9608  0.9616  0.9625   \n",
       "1.80  0.9641  0.9649  0.9656  0.9664  0.9671  0.9678  0.9686  0.9693  0.9699   \n",
       "1.90  0.9713  0.9719  0.9726  0.9732  0.9738  0.9744  0.9750  0.9756  0.9761   \n",
       "2.00  0.9772  0.9778  0.9783  0.9788  0.9793  0.9798  0.9803  0.9808  0.9812   \n",
       "2.10  0.9821  0.9826  0.9830  0.9834  0.9838  0.9842  0.9846  0.9850  0.9854   \n",
       "2.20  0.9861  0.9864  0.9868  0.9871  0.9875  0.9878  0.9881  0.9884  0.9887   \n",
       "2.30  0.9893  0.9896  0.9898  0.9901  0.9904  0.9906  0.9909  0.9911  0.9913   \n",
       "2.40  0.9918  0.9920  0.9922  0.9925  0.9927  0.9929  0.9931  0.9932  0.9934   \n",
       "2.50  0.9938  0.9940  0.9941  0.9943  0.9945  0.9946  0.9948  0.9949  0.9951   \n",
       "\n",
       "Z       0.09  \n",
       "1.60  0.9545  \n",
       "1.70  0.9633  \n",
       "1.80  0.9706  \n",
       "1.90  0.9767  \n",
       "2.00  0.9817  \n",
       "2.10  0.9857  \n",
       "2.20  0.9890  \n",
       "2.30  0.9916  \n",
       "2.40  0.9936  \n",
       "2.50  0.9952  "
      ],
      "text/html": "<div>\n<style scoped>\n    .dataframe tbody tr th:only-of-type {\n        vertical-align: middle;\n    }\n\n    .dataframe tbody tr th {\n        vertical-align: top;\n    }\n\n    .dataframe thead th {\n        text-align: right;\n    }\n</style>\n<table border=\"1\" class=\"dataframe\">\n  <thead>\n    <tr style=\"text-align: right;\">\n      <th>Z</th>\n      <th>0.00</th>\n      <th>0.01</th>\n      <th>0.02</th>\n      <th>0.03</th>\n      <th>0.04</th>\n      <th>0.05</th>\n      <th>0.06</th>\n      <th>0.07</th>\n      <th>0.08</th>\n      <th>0.09</th>\n    </tr>\n  </thead>\n  <tbody>\n    <tr>\n      <th>1.60</th>\n      <td>0.9452</td>\n      <td>0.9463</td>\n      <td>0.9474</td>\n      <td>0.9484</td>\n      <td>0.9495</td>\n      <td>0.9505</td>\n      <td>0.9515</td>\n      <td>0.9525</td>\n      <td>0.9535</td>\n      <td>0.9545</td>\n    </tr>\n    <tr>\n      <th>1.70</th>\n      <td>0.9554</td>\n      <td>0.9564</td>\n      <td>0.9573</td>\n      <td>0.9582</td>\n      <td>0.9591</td>\n      <td>0.9599</td>\n      <td>0.9608</td>\n      <td>0.9616</td>\n      <td>0.9625</td>\n      <td>0.9633</td>\n    </tr>\n    <tr>\n      <th>1.80</th>\n      <td>0.9641</td>\n      <td>0.9649</td>\n      <td>0.9656</td>\n      <td>0.9664</td>\n      <td>0.9671</td>\n      <td>0.9678</td>\n      <td>0.9686</td>\n      <td>0.9693</td>\n      <td>0.9699</td>\n      <td>0.9706</td>\n    </tr>\n    <tr>\n      <th>1.90</th>\n      <td>0.9713</td>\n      <td>0.9719</td>\n      <td>0.9726</td>\n      <td>0.9732</td>\n      <td>0.9738</td>\n      <td>0.9744</td>\n      <td>0.9750</td>\n      <td>0.9756</td>\n      <td>0.9761</td>\n      <td>0.9767</td>\n    </tr>\n    <tr>\n      <th>2.00</th>\n      <td>0.9772</td>\n      <td>0.9778</td>\n      <td>0.9783</td>\n      <td>0.9788</td>\n      <td>0.9793</td>\n      <td>0.9798</td>\n      <td>0.9803</td>\n      <td>0.9808</td>\n      <td>0.9812</td>\n      <td>0.9817</td>\n    </tr>\n    <tr>\n      <th>2.10</th>\n      <td>0.9821</td>\n      <td>0.9826</td>\n      <td>0.9830</td>\n      <td>0.9834</td>\n      <td>0.9838</td>\n      <td>0.9842</td>\n      <td>0.9846</td>\n      <td>0.9850</td>\n      <td>0.9854</td>\n      <td>0.9857</td>\n    </tr>\n    <tr>\n      <th>2.20</th>\n      <td>0.9861</td>\n      <td>0.9864</td>\n      <td>0.9868</td>\n      <td>0.9871</td>\n      <td>0.9875</td>\n      <td>0.9878</td>\n      <td>0.9881</td>\n      <td>0.9884</td>\n      <td>0.9887</td>\n      <td>0.9890</td>\n    </tr>\n    <tr>\n      <th>2.30</th>\n      <td>0.9893</td>\n      <td>0.9896</td>\n      <td>0.9898</td>\n      <td>0.9901</td>\n      <td>0.9904</td>\n      <td>0.9906</td>\n      <td>0.9909</td>\n      <td>0.9911</td>\n      <td>0.9913</td>\n      <td>0.9916</td>\n    </tr>\n    <tr>\n      <th>2.40</th>\n      <td>0.9918</td>\n      <td>0.9920</td>\n      <td>0.9922</td>\n      <td>0.9925</td>\n      <td>0.9927</td>\n      <td>0.9929</td>\n      <td>0.9931</td>\n      <td>0.9932</td>\n      <td>0.9934</td>\n      <td>0.9936</td>\n    </tr>\n    <tr>\n      <th>2.50</th>\n      <td>0.9938</td>\n      <td>0.9940</td>\n      <td>0.9941</td>\n      <td>0.9943</td>\n      <td>0.9945</td>\n      <td>0.9946</td>\n      <td>0.9948</td>\n      <td>0.9949</td>\n      <td>0.9951</td>\n      <td>0.9952</td>\n    </tr>\n  </tbody>\n</table>\n</div>"
     },
     "metadata": {},
     "execution_count": 86
    }
   ],
   "source": [
    "tabela_normal_padronizada[16:26]"
   ]
  },
  {
   "cell_type": "markdown",
   "metadata": {
    "colab_type": "text",
    "id": "rMRmnaNPG3Go"
   },
   "source": [
    "### Obtendo $z$"
   ]
  },
  {
   "cell_type": "markdown",
   "metadata": {
    "colab_type": "text",
    "id": "T-3mV1qlUj1t"
   },
   "source": [
    "![alt text](https://caelum-online-public.s3.amazonaws.com/1178-estatistica-parte2/01/img008.png)"
   ]
  },
  {
   "cell_type": "code",
   "execution_count": 87,
   "metadata": {
    "colab": {
     "base_uri": "https://localhost:8080/",
     "height": 34
    },
    "colab_type": "code",
    "id": "nT5ZTwjOG3Go",
    "outputId": "9c20d5b5-fb36-40f1-b901-3969a2fa8ea0"
   },
   "outputs": [
    {
     "output_type": "execute_result",
     "data": {
      "text/plain": [
       "0.475"
      ]
     },
     "metadata": {},
     "execution_count": 87
    }
   ],
   "source": [
    "0.95/2"
   ]
  },
  {
   "cell_type": "code",
   "execution_count": 88,
   "metadata": {
    "colab": {
     "base_uri": "https://localhost:8080/",
     "height": 34
    },
    "colab_type": "code",
    "id": "vMjck-3ZU_sz",
    "outputId": "56a3f3ba-e5d4-40c7-dc4c-b31ed5d07262"
   },
   "outputs": [
    {
     "output_type": "execute_result",
     "data": {
      "text/plain": [
       "0.975"
      ]
     },
     "metadata": {},
     "execution_count": 88
    }
   ],
   "source": [
    "0.5 + (0.95 / 2)"
   ]
  },
  {
   "cell_type": "code",
   "execution_count": 89,
   "metadata": {
    "colab": {
     "base_uri": "https://localhost:8080/",
     "height": 34
    },
    "colab_type": "code",
    "id": "L4CMGZ3oVHLX",
    "outputId": "60470140-1dfa-4d5c-9627-097378b2fc8e"
   },
   "outputs": [
    {
     "output_type": "execute_result",
     "data": {
      "text/plain": [
       "1.96"
      ]
     },
     "metadata": {},
     "execution_count": 89
    }
   ],
   "source": [
    "1.9 + 0.06\n"
   ]
  },
  {
   "cell_type": "code",
   "execution_count": 90,
   "metadata": {
    "colab": {
     "base_uri": "https://localhost:8080/",
     "height": 34
    },
    "colab_type": "code",
    "id": "JJS6Z-85G3Hf",
    "outputId": "4cc8e179-05a4-4237-f099-06550ac200bf"
   },
   "outputs": [
    {
     "output_type": "execute_result",
     "data": {
      "text/plain": [
       "1.96"
      ]
     },
     "metadata": {},
     "execution_count": 90
    }
   ],
   "source": [
    "z = norm.ppf(0.975)\n",
    "z.round(2)"
   ]
  },
  {
   "cell_type": "markdown",
   "metadata": {
    "colab_type": "text",
    "id": "ggXXP8QqTyNA"
   },
   "source": [
    "### Valores de $z$ para os níveis de confiança mais utilizados\n",
    "\n",
    "|Nível de<br>confiança|Valor da área sob<br>a curva normal| $z$ |\n",
    "|:----------------:|:---------------------------------:|:---:|\n",
    "|90%               |0,95                               |1,645|\n",
    "|95%               |0,975                              |1,96 |\n",
    "|99%               |0,995                              |2,575|"
   ]
  },
  {
   "cell_type": "markdown",
   "metadata": {
    "colab_type": "text",
    "id": "MfE1ru0AG3Hg"
   },
   "source": [
    "### Obtendo $\\sigma_\\bar{x}$"
   ]
  },
  {
   "cell_type": "code",
   "execution_count": 91,
   "metadata": {
    "colab": {
     "base_uri": "https://localhost:8080/",
     "height": 34
    },
    "colab_type": "code",
    "id": "LyQ6UUYtG3Hh",
    "outputId": "4c066583-4272-4e26-daf5-575ea4815371"
   },
   "outputs": [
    {
     "output_type": "execute_result",
     "data": {
      "text/plain": [
       "150"
      ]
     },
     "metadata": {},
     "execution_count": 91
    }
   ],
   "source": [
    "desvio_padrao = 150\n",
    "desvio_padrao"
   ]
  },
  {
   "cell_type": "code",
   "execution_count": 92,
   "metadata": {
    "colab": {
     "base_uri": "https://localhost:8080/",
     "height": 34
    },
    "colab_type": "code",
    "id": "ebvikT95G3Hi",
    "outputId": "bfbc2f5c-e706-46a6-aa6c-e94632aed4fc"
   },
   "outputs": [
    {
     "output_type": "execute_result",
     "data": {
      "text/plain": [
       "20"
      ]
     },
     "metadata": {},
     "execution_count": 92
    }
   ],
   "source": [
    "n = 20\n",
    "n"
   ]
  },
  {
   "cell_type": "code",
   "execution_count": 93,
   "metadata": {
    "colab": {
     "base_uri": "https://localhost:8080/",
     "height": 34
    },
    "colab_type": "code",
    "id": "TxM3yTpjG3Hk",
    "outputId": "a38a0bfc-2c3b-48f4-cea7-ee5f5147a251"
   },
   "outputs": [
    {
     "output_type": "execute_result",
     "data": {
      "text/plain": [
       "4.47213595499958"
      ]
     },
     "metadata": {},
     "execution_count": 93
    }
   ],
   "source": [
    "raiz_de_n = np.sqrt(n)\n",
    "raiz_de_n"
   ]
  },
  {
   "cell_type": "code",
   "execution_count": 94,
   "metadata": {
    "colab": {
     "base_uri": "https://localhost:8080/",
     "height": 34
    },
    "colab_type": "code",
    "id": "HNAcOpl0G3Hl",
    "outputId": "3b37c2d5-b02d-40af-897d-6c588e2696aa"
   },
   "outputs": [
    {
     "output_type": "execute_result",
     "data": {
      "text/plain": [
       "33.54101966249684"
      ]
     },
     "metadata": {},
     "execution_count": 94
    }
   ],
   "source": [
    "sigma = desvio_padrao / raiz_de_n\n",
    "sigma"
   ]
  },
  {
   "cell_type": "markdown",
   "metadata": {
    "colab_type": "text",
    "id": "NHbXlLk-G3Hn"
   },
   "source": [
    "### Obtendo $e$"
   ]
  },
  {
   "cell_type": "code",
   "execution_count": 95,
   "metadata": {
    "colab": {
     "base_uri": "https://localhost:8080/",
     "height": 34
    },
    "colab_type": "code",
    "id": "gAfakih5G3Ho",
    "outputId": "48958fa3-2cf8-4bc5-dfc3-0fb925798b38"
   },
   "outputs": [
    {
     "output_type": "execute_result",
     "data": {
      "text/plain": [
       "65.73919054324361"
      ]
     },
     "metadata": {},
     "execution_count": 95
    }
   ],
   "source": [
    "e = z * sigma\n",
    "e"
   ]
  },
  {
   "cell_type": "markdown",
   "metadata": {
    "colab_type": "text",
    "id": "sx1QTfNrG3Hq"
   },
   "source": [
    "### Solução 1 - Calculando o intervalo de confiança para a média"
   ]
  },
  {
   "cell_type": "code",
   "execution_count": 96,
   "metadata": {
    "colab": {
     "base_uri": "https://localhost:8080/",
     "height": 34
    },
    "colab_type": "code",
    "id": "NlJCcPZnG3Hq",
    "outputId": "09cee323-103e-4832-c23f-97daf4b9929f"
   },
   "outputs": [
    {
     "output_type": "execute_result",
     "data": {
      "text/plain": [
       "(4984.260809456757, 5115.739190543243)"
      ]
     },
     "metadata": {},
     "execution_count": 96
    }
   ],
   "source": [
    "intervalo = (\n",
    "    media_amostral - e,\n",
    "    media_amostral + e\n",
    ")\n",
    "intervalo"
   ]
  },
  {
   "cell_type": "markdown",
   "metadata": {
    "colab_type": "text",
    "id": "DkFJL7fcG3Ht"
   },
   "source": [
    "### Solução 2 - Calculando o intervalo de confiança para a média"
   ]
  },
  {
   "cell_type": "code",
   "execution_count": 97,
   "metadata": {
    "colab": {
     "base_uri": "https://localhost:8080/",
     "height": 34
    },
    "colab_type": "code",
    "id": "U92vSYMkG3Hu",
    "outputId": "45923471-3d21-42ad-a922-5067ff21067b"
   },
   "outputs": [
    {
     "output_type": "execute_result",
     "data": {
      "text/plain": [
       "(4984.260809456757, 5115.739190543243)"
      ]
     },
     "metadata": {},
     "execution_count": 97
    }
   ],
   "source": [
    "norm.interval(alpha=0.95, loc=media_amostral, scale=sigma)"
   ]
  },
  {
   "source": [
    "Para estimar o valor médio gasto por cada cliente de uma grande rede de fast-food, foi selecionada uma amostra de 50 clientes.\n",
    "\n",
    "Assumindo que o valor do desvio padrão da população seja de R$ 6,00 e que esta população se distribui normalmente, obtenha a margem de erro desta estimativa para um nível de confiança de 95%."
   ],
   "cell_type": "markdown",
   "metadata": {}
  },
  {
   "cell_type": "code",
   "execution_count": 98,
   "metadata": {},
   "outputs": [
    {
     "output_type": "stream",
     "name": "stdout",
     "text": [
      "R$ 1.66\n"
     ]
    }
   ],
   "source": [
    "# Margem de erro\n",
    "from scipy.stats import norm\n",
    "import numpy as np\n",
    "\n",
    "z = norm.ppf(0.975)\n",
    "desvio_padrao = 6\n",
    "n = 50\n",
    "\n",
    "e = z * (desvio_padrao / np.sqrt(n))\n",
    "print(\"R$ {0:0.2f}\".format(e))"
   ]
  },
  {
   "source": [
    "Uma amostra aleatória simples de 1976 itens de uma população normalmente distribuída, com desvio padrão igual a 11, resultou em uma média amostral de 28.\n",
    "\n",
    "Qual o intervalo de confiança de 90% para a média populacional?"
   ],
   "cell_type": "markdown",
   "metadata": {}
  },
  {
   "cell_type": "code",
   "execution_count": 99,
   "metadata": {},
   "outputs": [
    {
     "output_type": "execute_result",
     "data": {
      "text/plain": [
       "0.24745669886621613"
      ]
     },
     "metadata": {},
     "execution_count": 99
    }
   ],
   "source": [
    "# Intervalo de confiança\n",
    "n = 1976\n",
    "desvio_padrao = 11\n",
    "media_amostral = 28\n",
    "nivel_conf = 0.90\n",
    "\n",
    "raiz_de_n = np.sqrt(n)\n",
    "\n",
    "sigma = desvio_padrao / raiz_de_n\n",
    "sigma\n"
   ]
  },
  {
   "cell_type": "code",
   "execution_count": 100,
   "metadata": {},
   "outputs": [
    {
     "output_type": "execute_result",
     "data": {
      "text/plain": [
       "(27.592969951356466, 28.407030048643534)"
      ]
     },
     "metadata": {},
     "execution_count": 100
    }
   ],
   "source": [
    "norm.interval(alpha=nivel_conf, loc=media_amostral, scale=sigma)"
   ]
  },
  {
   "cell_type": "code",
   "execution_count": 101,
   "metadata": {},
   "outputs": [
    {
     "output_type": "execute_result",
     "data": {
      "text/plain": [
       "(27.592969951356466, 28.407030048643534)"
      ]
     },
     "metadata": {},
     "execution_count": 101
    }
   ],
   "source": [
    "media_amostral = 28\n",
    "desvio_padrao = 11\n",
    "n = 1976\n",
    "\n",
    "norm.interval(alpha = 0.90, \n",
    "                loc = media_amostral, \n",
    "                scale = desvio_padrao / np.sqrt(n))"
   ]
  },
  {
   "cell_type": "markdown",
   "metadata": {
    "colab_type": "text",
    "id": "aF9jAC6yG3Gl"
   },
   "source": [
    "# <font color=green>5 CÁLCULO DO TAMANHO DA AMOSTRA</font>\n",
    "***"
   ]
  },
  {
   "cell_type": "markdown",
   "metadata": {
    "colab_type": "text",
    "id": "BwiygaNqnjrr"
   },
   "source": [
    "## <font color='red'>Problema </font>"
   ]
  },
  {
   "cell_type": "markdown",
   "metadata": {
    "colab_type": "text",
    "id": "a7RjjVVUnlI3"
   },
   "source": [
    "Estamos estudando o rendimento mensal dos chefes de domicílios com renda até R$\\$$ 5.000,00 no Brasil. Nosso supervisor determinou que o **erro máximo em relação a média seja de R$\\$$ 10,00**. Sabemos que o **desvio padrão populacional** deste grupo de trabalhadores é de **R$\\$$ 1.082,79**. Para um **nível de confiança de 95%**, qual deve ser o tamanho da amostra de nosso estudo?"
   ]
  },
  {
   "cell_type": "markdown",
   "metadata": {
    "colab_type": "text",
    "id": "za2sGJt6G3Gm"
   },
   "source": [
    "## <font color=green>5.1 Variáveis quantitativas e população infinita</font>\n",
    "***"
   ]
  },
  {
   "cell_type": "markdown",
   "metadata": {
    "colab_type": "text",
    "id": "3wqMjJWR5sVq"
   },
   "source": [
    "# $$e = z \\frac{\\sigma}{\\sqrt{n}}$$"
   ]
  },
  {
   "cell_type": "markdown",
   "metadata": {
    "colab_type": "text",
    "id": "X1AxpKtIG3Gn"
   },
   "source": [
    "#### Com desvio padrão conhecido\n",
    "\n",
    "## $$n = \\left(z\\frac{\\sigma}{e}\\right)^2$$\n",
    "\n",
    "#### Com desvio padrão desconhecido\n",
    "\n",
    "## $$n = \\left(z\\frac{s}{e}\\right)^2$$\n",
    "\n",
    "Onde:\n",
    "\n",
    "$z$ = variável normal padronizada\n",
    "\n",
    "$\\sigma$ = desvio padrão populacional\n",
    "\n",
    "$s$ = desvio padrão amostral\n",
    "\n",
    "$e$ = erro inferencial"
   ]
  },
  {
   "cell_type": "markdown",
   "metadata": {
    "colab_type": "text",
    "id": "T0fysCyDG3Gn"
   },
   "source": [
    "### <font color='red'>Observações</font>\n",
    "\n",
    "1. O desvio padrão ($\\sigma$ ou $s$) e o erro ($e$) devem estar na mesma unidade de medida.\n",
    "\n",
    "2. Quando o erro ($e$) for representado em termos percentuais, deve ser interpretado como um percentual relacionado à média."
   ]
  },
  {
   "cell_type": "markdown",
   "metadata": {
    "colab_type": "text",
    "id": "WHYBTaupG3Gn"
   },
   "source": [
    "## <font color='blue'>Exemplo: Rendimento médio</font>"
   ]
  },
  {
   "cell_type": "markdown",
   "metadata": {
    "colab_type": "text",
    "id": "dcdzo7EgG3Go"
   },
   "source": [
    "Estamos estudando o rendimento mensal dos chefes de domicílios no Brasil. Nosso supervisor determinou que o **erro máximo em relação a média seja de R$\\$$ 100,00**. Sabemos que o **desvio padrão populacional** deste grupo de trabalhadores é de **R$\\$$ 3.323,39**. Para um **nível de confiança de 95%**, qual deve ser o tamanho da amostra de nosso estudo?"
   ]
  },
  {
   "cell_type": "code",
   "execution_count": 102,
   "metadata": {},
   "outputs": [
    {
     "output_type": "execute_result",
     "data": {
      "text/plain": [
       "0.475"
      ]
     },
     "metadata": {},
     "execution_count": 102
    }
   ],
   "source": [
    "0.95/2\n"
   ]
  },
  {
   "cell_type": "code",
   "execution_count": 103,
   "metadata": {},
   "outputs": [
    {
     "output_type": "execute_result",
     "data": {
      "text/plain": [
       "0.975"
      ]
     },
     "metadata": {},
     "execution_count": 103
    }
   ],
   "source": [
    "0.5 + (0.95/2)"
   ]
  },
  {
   "cell_type": "code",
   "execution_count": 104,
   "metadata": {
    "colab": {
     "base_uri": "https://localhost:8080/",
     "height": 34
    },
    "colab_type": "code",
    "id": "XtJ5I_kaKDN3",
    "outputId": "a519e330-ddf0-492c-f42d-5cef36fed4c9"
   },
   "outputs": [
    {
     "output_type": "execute_result",
     "data": {
      "text/plain": [
       "1.959963984540054"
      ]
     },
     "metadata": {},
     "execution_count": 104
    }
   ],
   "source": [
    "z = norm.ppf(0.5 + (0.95/2))\n",
    "z"
   ]
  },
  {
   "cell_type": "markdown",
   "metadata": {
    "colab_type": "text",
    "id": "6uCkW4KlG3Gr"
   },
   "source": [
    "### Obtendo $\\sigma$"
   ]
  },
  {
   "cell_type": "code",
   "execution_count": 105,
   "metadata": {
    "colab": {
     "base_uri": "https://localhost:8080/",
     "height": 34
    },
    "colab_type": "code",
    "id": "1RmtZfj-G3Gr",
    "outputId": "d3e77bf1-b933-4ade-846f-95e25f4e1d6e"
   },
   "outputs": [
    {
     "output_type": "execute_result",
     "data": {
      "text/plain": [
       "3323.39"
      ]
     },
     "metadata": {},
     "execution_count": 105
    }
   ],
   "source": [
    "sigma = 3323.39\n",
    "sigma"
   ]
  },
  {
   "cell_type": "markdown",
   "metadata": {
    "colab_type": "text",
    "id": "Cl39PIZ2G3Gt"
   },
   "source": [
    "### Obtendo $e$"
   ]
  },
  {
   "cell_type": "code",
   "execution_count": 106,
   "metadata": {
    "colab": {
     "base_uri": "https://localhost:8080/",
     "height": 34
    },
    "colab_type": "code",
    "id": "NTRMt2gWG3Gt",
    "outputId": "f7d7ae3f-7e33-41cc-a11a-5b09de70cc2c"
   },
   "outputs": [
    {
     "output_type": "execute_result",
     "data": {
      "text/plain": [
       "100"
      ]
     },
     "metadata": {},
     "execution_count": 106
    }
   ],
   "source": [
    "e = 100\n",
    "e"
   ]
  },
  {
   "cell_type": "markdown",
   "metadata": {
    "colab_type": "text",
    "id": "OlAX3Gj6G3Gv"
   },
   "source": [
    "### Obtendo $n$"
   ]
  },
  {
   "cell_type": "code",
   "execution_count": 107,
   "metadata": {
    "colab": {
     "base_uri": "https://localhost:8080/",
     "height": 34
    },
    "colab_type": "code",
    "id": "0MjluwHPG3Gv",
    "outputId": "8f74510a-4f4b-4129-d3c3-d31be24567fa",
    "scrolled": true
   },
   "outputs": [
    {
     "output_type": "execute_result",
     "data": {
      "text/plain": [
       "4243"
      ]
     },
     "metadata": {},
     "execution_count": 107
    }
   ],
   "source": [
    "n = (z * (sigma / e)) ** 2\n",
    "int(n.round())"
   ]
  },
  {
   "source": [
    "O valor do gasto médio dos clientes de uma loja de conveniência é de R$ 45,50. \n",
    "Assumindo que o desvio padrão dos gastos é igual a R$ 15,00, qual deve ser o tamanho da amostra para estimarmos a média populacional com um nível de significância de 10%?\n",
    "\n",
    "Considere que o erro máximo aceitável seja de 10%."
   ],
   "cell_type": "markdown",
   "metadata": {}
  },
  {
   "cell_type": "code",
   "execution_count": 108,
   "metadata": {},
   "outputs": [
    {
     "output_type": "execute_result",
     "data": {
      "text/plain": [
       "29.0"
      ]
     },
     "metadata": {},
     "execution_count": 108
    }
   ],
   "source": [
    "media = 45.5\n",
    "sigma = 15\n",
    "significancia = 0.10\n",
    "confianca = 1 - significancia\n",
    "\n",
    "z = norm.ppf(0.5 + (confianca / 2))\n",
    "erro_percentual = 0.10\n",
    "e = media * erro_percentual\n",
    "\n",
    "n = (z * (sigma / e)) ** 2\n",
    "n.round()"
   ]
  },
  {
   "cell_type": "markdown",
   "metadata": {
    "colab_type": "text",
    "id": "MjP0xsqyTyNO"
   },
   "source": [
    "---\n",
    "---"
   ]
  },
  {
   "cell_type": "markdown",
   "metadata": {
    "colab_type": "text",
    "id": "dx2vyLC-TyNP"
   },
   "source": [
    "## <font color='red'>Problema</font>"
   ]
  },
  {
   "cell_type": "markdown",
   "metadata": {
    "colab_type": "text",
    "id": "uzK2fAOFTyNP"
   },
   "source": [
    "Em um lote de **10.000 latas** de refrigerante foi realizada uma amostra aleatória simples de **100 latas** e foi obtido o **desvio padrão amostral do conteúdo das latas igual a 12 ml**. O fabricante estipula um **erro máximo sobre a média populacional de apenas 5 ml**. Para garantir um **nível de confiança de 95%** qual o tamanho de amostra deve ser selecionado para este estudo?"
   ]
  },
  {
   "cell_type": "markdown",
   "metadata": {
    "colab_type": "text",
    "id": "FlAz5kycTyNQ"
   },
   "source": [
    "## <font color=green>5.2 Variáveis quantitativas e população finita</font>\n",
    "***"
   ]
  },
  {
   "cell_type": "markdown",
   "metadata": {
    "colab_type": "text",
    "id": "UOe02McSTyNR"
   },
   "source": [
    "#### Com desvio padrão conhecido\n",
    "\n",
    "## $$n = \\frac{z^2 \\sigma^2 N}{z^2 \\sigma^2 + e^2(N-1)}$$\n",
    "\n",
    "#### Com desvio padrão desconhecido\n",
    "\n",
    "## $$n = \\frac{z^2 s^2 N}{z^2 s^2 + e^2(N-1)}$$\n",
    "\n",
    "Onde:\n",
    "\n",
    "$N$ = tamanho da população\n",
    "\n",
    "$z$ = variável normal padronizada\n",
    "\n",
    "$\\sigma$ = desvio padrão populacional\n",
    "\n",
    "$s$ = desvio padrão amostral\n",
    "\n",
    "$e$ = erro inferencial"
   ]
  },
  {
   "cell_type": "markdown",
   "metadata": {
    "colab_type": "text",
    "id": "cUELtYTKTyNS"
   },
   "source": [
    "## <font color='blue'>Exemplo: Indústria de refrigerantes</font>"
   ]
  },
  {
   "cell_type": "markdown",
   "metadata": {
    "colab_type": "text",
    "id": "upv1mM7fTyNS"
   },
   "source": [
    "Em um lote de **10.000 latas** de refrigerante foi realizada uma amostra aleatória simples de **100 latas** e foi obtido o **desvio padrão amostral do conteúdo das latas igual a 12 ml**. O fabricante estipula um **erro máximo sobre a média populacional de apenas 5 ml**. Para garantir um **nível de confiança de 95%** qual o tamanho de amostra deve ser selecionado para este estudo?"
   ]
  },
  {
   "cell_type": "markdown",
   "metadata": {
    "colab_type": "text",
    "id": "_y3-3VIBTyNS"
   },
   "source": [
    "### Obtendo $N$"
   ]
  },
  {
   "cell_type": "code",
   "execution_count": 109,
   "metadata": {
    "colab": {
     "base_uri": "https://localhost:8080/",
     "height": 34
    },
    "colab_type": "code",
    "id": "gXWn9zTETyNS",
    "outputId": "4daa26ff-4a96-47fb-9f0e-53a4390d701e"
   },
   "outputs": [
    {
     "output_type": "execute_result",
     "data": {
      "text/plain": [
       "10000"
      ]
     },
     "metadata": {},
     "execution_count": 109
    }
   ],
   "source": [
    "N = 10000\n",
    "N"
   ]
  },
  {
   "cell_type": "markdown",
   "metadata": {
    "colab_type": "text",
    "id": "xCgZ1JSjTyNT"
   },
   "source": [
    "### Obtendo $z$"
   ]
  },
  {
   "cell_type": "code",
   "execution_count": 110,
   "metadata": {
    "colab": {
     "base_uri": "https://localhost:8080/",
     "height": 34
    },
    "colab_type": "code",
    "id": "ZUs9aYJRTyNT",
    "outputId": "02560c9f-57ee-41c7-cdf4-5fd382365a74"
   },
   "outputs": [
    {
     "output_type": "execute_result",
     "data": {
      "text/plain": [
       "1.959963984540054"
      ]
     },
     "metadata": {},
     "execution_count": 110
    }
   ],
   "source": [
    "z = norm.ppf((0.5 + (0.95 / 2)))\n",
    "z"
   ]
  },
  {
   "cell_type": "markdown",
   "metadata": {
    "colab_type": "text",
    "id": "KCnigJd8TyNU"
   },
   "source": [
    "### Obtendo $s$"
   ]
  },
  {
   "cell_type": "code",
   "execution_count": 111,
   "metadata": {
    "colab": {
     "base_uri": "https://localhost:8080/",
     "height": 34
    },
    "colab_type": "code",
    "id": "fKqFI_TZTyNU",
    "outputId": "68a9ee2f-428a-4d18-9148-f33704968fb7"
   },
   "outputs": [
    {
     "output_type": "execute_result",
     "data": {
      "text/plain": [
       "12"
      ]
     },
     "metadata": {},
     "execution_count": 111
    }
   ],
   "source": [
    "s = 12\n",
    "s"
   ]
  },
  {
   "cell_type": "markdown",
   "metadata": {
    "colab_type": "text",
    "id": "K9gDEIUdTyNX"
   },
   "source": [
    "### Obtendo $e$"
   ]
  },
  {
   "cell_type": "code",
   "execution_count": 112,
   "metadata": {
    "colab": {
     "base_uri": "https://localhost:8080/",
     "height": 34
    },
    "colab_type": "code",
    "id": "hyhJ3MQKTyNX",
    "outputId": "2849bd05-6c70-4d97-980d-67e140f27850"
   },
   "outputs": [
    {
     "output_type": "execute_result",
     "data": {
      "text/plain": [
       "5"
      ]
     },
     "metadata": {},
     "execution_count": 112
    }
   ],
   "source": [
    "e = 5\n",
    "e"
   ]
  },
  {
   "cell_type": "markdown",
   "metadata": {
    "colab_type": "text",
    "id": "Dsm3bg9gTyNX"
   },
   "source": [
    "### Obtendo $n$\n",
    "\n",
    "## $$n = \\frac{z^2 s^2 N}{z^2 s^2 + e^2(N-1)}$$"
   ]
  },
  {
   "cell_type": "code",
   "execution_count": 113,
   "metadata": {
    "colab": {
     "base_uri": "https://localhost:8080/",
     "height": 34
    },
    "colab_type": "code",
    "id": "0XxWfaPdTyNY",
    "outputId": "8494180f-9149-419f-dee9-f02ec3e81b93",
    "scrolled": true
   },
   "outputs": [
    {
     "output_type": "execute_result",
     "data": {
      "text/plain": [
       "22"
      ]
     },
     "metadata": {},
     "execution_count": 113
    }
   ],
   "source": [
    "n = ((z**2)*(s**2)*N)/(((z**2)*(s**2)) + ((e**2) * (N-1)))\n",
    "int(n.round())"
   ]
  },
  {
   "source": [
    "Um fabricante de farinha verificou que, em uma amostra aleatória formada por 200 sacos de 25 kg de um lote formado por 2.000 sacos, apresentou um desvio padrão amostral do peso igual a 480 g.\n",
    "\n",
    "Considerando um erro máximo associado à média populacional igual a 0,3 kg e um nível de confiança igual a 95%, qual tamanho de amostra deveria ser selecionado para obtermos uma estimativa confiável do parâmetro populacional?"
   ],
   "cell_type": "markdown",
   "metadata": {}
  },
  {
   "cell_type": "code",
   "execution_count": 114,
   "metadata": {},
   "outputs": [
    {
     "output_type": "execute_result",
     "data": {
      "text/plain": [
       "10"
      ]
     },
     "metadata": {},
     "execution_count": 114
    }
   ],
   "source": [
    "N = 2000\n",
    "z = norm.ppf(0.5 + (0.95 / 2))\n",
    "s = 480\n",
    "e = 0.3 * 1000   # Convertendo kg para g\n",
    "\n",
    "n = ((z**2) * (s**2) * (N)) / (((z**2) * (s**2)) + ((e**2) * (N - 1)))\n",
    "int(n.round())"
   ]
  },
  {
   "cell_type": "markdown",
   "metadata": {
    "colab_type": "text",
    "id": "XNH7CMglG3Hv"
   },
   "source": [
    "# <font color=green>6 FIXANDO O CONTEÚDO</font>\n",
    "***"
   ]
  },
  {
   "cell_type": "markdown",
   "metadata": {
    "colab_type": "text",
    "id": "iRYqVAxuG3Hv"
   },
   "source": [
    "## <font color='blue'>Exemplo: Rendimento médio</font>"
   ]
  },
  {
   "cell_type": "markdown",
   "metadata": {
    "colab_type": "text",
    "id": "ggloHI5sG3Hw"
   },
   "source": [
    "Estamos estudando o **rendimento mensal dos chefes de domicílios com renda até R$\\$$ 5.000,00 no Brasil**. Nosso supervisor determinou que o **erro máximo em relação a média seja de R$\\$$ 10,00**. Sabemos que o **desvio padrão populacional** deste grupo de trabalhadores é de **R$\\$$ 1.082,79** e que a **média populacional** é de **R$\\$$ 1.426,54**. Para um **nível de confiança de 95%**, qual deve ser o tamanho da amostra de nosso estudo? Qual o intervalo de confiança para a média considerando o tamanho de amostra obtido?"
   ]
  },
  {
   "cell_type": "markdown",
   "metadata": {
    "colab_type": "text",
    "id": "JZDvLD-NG3Hw"
   },
   "source": [
    "### Construindo o dataset conforme especificado pelo problema"
   ]
  },
  {
   "cell_type": "code",
   "execution_count": 115,
   "metadata": {
    "colab": {},
    "colab_type": "code",
    "id": "qlnYQeaKG3Hw"
   },
   "outputs": [
    {
     "output_type": "execute_result",
     "data": {
      "text/plain": [
       "0     800\n",
       "1    1150\n",
       "2     880\n",
       "3    3500\n",
       "4     150\n",
       "Name: Renda, dtype: int64"
      ]
     },
     "metadata": {},
     "execution_count": 115
    }
   ],
   "source": [
    "renda_5000 = dados.query('Renda <= 5000')['Renda']\n",
    "renda_5000.head(5)"
   ]
  },
  {
   "cell_type": "code",
   "execution_count": 116,
   "metadata": {
    "colab": {
     "base_uri": "https://localhost:8080/",
     "height": 34
    },
    "colab_type": "code",
    "id": "VKuxbygIG3Hy",
    "outputId": "98078826-90d1-488e-b11d-cf4e6f5bdc3c"
   },
   "outputs": [
    {
     "output_type": "execute_result",
     "data": {
      "text/plain": [
       "1082.79"
      ]
     },
     "metadata": {},
     "execution_count": 116
    }
   ],
   "source": [
    "# desvio padrão\n",
    "sigma = renda_5000.std()\n",
    "sigma.round(2)"
   ]
  },
  {
   "cell_type": "code",
   "execution_count": 117,
   "metadata": {
    "colab": {
     "base_uri": "https://localhost:8080/",
     "height": 34
    },
    "colab_type": "code",
    "id": "Q2Ku3mVPG3Hz",
    "outputId": "bb079fb4-3e59-4e05-920a-b369c04744eb"
   },
   "outputs": [
    {
     "output_type": "execute_result",
     "data": {
      "text/plain": [
       "1426.54"
      ]
     },
     "metadata": {},
     "execution_count": 117
    }
   ],
   "source": [
    "media = renda_5000.mean()\n",
    "media.round(2)"
   ]
  },
  {
   "cell_type": "markdown",
   "metadata": {
    "colab_type": "text",
    "id": "F33TdkXdG3H2"
   },
   "source": [
    "### Calculando o tamanho da amostra"
   ]
  },
  {
   "cell_type": "code",
   "execution_count": 118,
   "metadata": {
    "colab": {
     "base_uri": "https://localhost:8080/",
     "height": 34
    },
    "colab_type": "code",
    "id": "sWIvnmygG3H2",
    "outputId": "42b7f8db-3a43-4e5f-f61a-9000e4e5e94b"
   },
   "outputs": [
    {
     "output_type": "stream",
     "name": "stdout",
     "text": [
      " Nível de Confiança = 0.975 Z = 1.959963984540054\n"
     ]
    }
   ],
   "source": [
    "nivel_confianca = 0.5 + (0.95/2)\n",
    "z = norm.ppf(nivel_confianca)\n",
    "print(f\" Nível de Confiança = {nivel_confianca} Z = {z}\")"
   ]
  },
  {
   "cell_type": "code",
   "execution_count": 119,
   "metadata": {},
   "outputs": [
    {
     "output_type": "execute_result",
     "data": {
      "text/plain": [
       "10"
      ]
     },
     "metadata": {},
     "execution_count": 119
    }
   ],
   "source": [
    "# erro da ammostra\n",
    "e = 10\n",
    "e"
   ]
  },
  {
   "cell_type": "code",
   "execution_count": 120,
   "metadata": {},
   "outputs": [
    {
     "output_type": "execute_result",
     "data": {
      "text/plain": [
       "45039"
      ]
     },
     "metadata": {},
     "execution_count": 120
    }
   ],
   "source": [
    "n = (z * (sigma / e)) ** 2\n",
    "n = int(n.round())\n",
    "n"
   ]
  },
  {
   "cell_type": "markdown",
   "metadata": {
    "colab_type": "text",
    "id": "xRN_gmmLG3H6"
   },
   "source": [
    "### Calculando o intervalo de confiança para a média"
   ]
  },
  {
   "cell_type": "code",
   "execution_count": 121,
   "metadata": {
    "colab": {
     "base_uri": "https://localhost:8080/",
     "height": 34
    },
    "colab_type": "code",
    "id": "HoG6JKxxG3H6",
    "outputId": "3ca552e4-f7f6-4992-f65a-6a4601dfd877"
   },
   "outputs": [
    {
     "output_type": "execute_result",
     "data": {
      "text/plain": [
       "(1416.5372195108237, 1436.5372094786228)"
      ]
     },
     "metadata": {},
     "execution_count": 121
    }
   ],
   "source": [
    "intervalo = norm.interval(alpha= 0.95, loc = media, scale = sigma / np.sqrt(n))\n",
    "intervalo"
   ]
  },
  {
   "cell_type": "markdown",
   "metadata": {
    "colab_type": "text",
    "id": "xWAG8q8oG3H8"
   },
   "source": [
    "### Realizando uma prova gráfica"
   ]
  },
  {
   "cell_type": "code",
   "execution_count": 127,
   "metadata": {
    "colab": {
     "base_uri": "https://localhost:8080/",
     "height": 395
    },
    "colab_type": "code",
    "id": "pxjJyWnNG3H8",
    "outputId": "c339160b-a6e1-403d-b996-3c81fd8d0f73"
   },
   "outputs": [],
   "source": [
    "%matplotlib inline\n",
    "import matplotlib.pyplot as plt"
   ]
  },
  {
   "cell_type": "code",
   "execution_count": 128,
   "metadata": {
    "colab": {},
    "colab_type": "code",
    "id": "L5BFsSI8G3IB"
   },
   "outputs": [
    {
     "output_type": "execute_result",
     "data": {
      "text/plain": [
       "        Rendas\n",
       "0  1427.826106\n",
       "1  1427.055463"
      ],
      "text/html": "<div>\n<style scoped>\n    .dataframe tbody tr th:only-of-type {\n        vertical-align: middle;\n    }\n\n    .dataframe tbody tr th {\n        vertical-align: top;\n    }\n\n    .dataframe thead th {\n        text-align: right;\n    }\n</style>\n<table border=\"1\" class=\"dataframe\">\n  <thead>\n    <tr style=\"text-align: right;\">\n      <th></th>\n      <th>Rendas</th>\n    </tr>\n  </thead>\n  <tbody>\n    <tr>\n      <th>0</th>\n      <td>1427.826106</td>\n    </tr>\n    <tr>\n      <th>1</th>\n      <td>1427.055463</td>\n    </tr>\n  </tbody>\n</table>\n</div>"
     },
     "metadata": {},
     "execution_count": 128
    }
   ],
   "source": [
    "# Cosntruindo DataFrame\n",
    "tamanho_simulacao = 1000\n",
    "medias = [renda_5000.sample(n = n).mean() for i in range(1, tamanho_simulacao)]\n",
    "# medias = pd.DataFrame({'Rendas':medias})\n",
    "medias = pd.DataFrame(medias,columns=['Rendas'])\n",
    "medias.head(2)"
   ]
  },
  {
   "cell_type": "code",
   "execution_count": 124,
   "metadata": {},
   "outputs": [
    {
     "output_type": "display_data",
     "data": {
      "text/plain": "<Figure size 432x288 with 1 Axes>",
      "image/svg+xml": "<?xml version=\"1.0\" encoding=\"utf-8\" standalone=\"no\"?>\r\n<!DOCTYPE svg PUBLIC \"-//W3C//DTD SVG 1.1//EN\"\r\n  \"http://www.w3.org/Graphics/SVG/1.1/DTD/svg11.dtd\">\r\n<!-- Created with matplotlib (https://matplotlib.org/) -->\r\n<svg height=\"251.898957pt\" version=\"1.1\" viewBox=\"0 0 391.190625 251.898957\" width=\"391.190625pt\" xmlns=\"http://www.w3.org/2000/svg\" xmlns:xlink=\"http://www.w3.org/1999/xlink\">\r\n <metadata>\r\n  <rdf:RDF xmlns:cc=\"http://creativecommons.org/ns#\" xmlns:dc=\"http://purl.org/dc/elements/1.1/\" xmlns:rdf=\"http://www.w3.org/1999/02/22-rdf-syntax-ns#\">\r\n   <cc:Work>\r\n    <dc:type rdf:resource=\"http://purl.org/dc/dcmitype/StillImage\"/>\r\n    <dc:date>2021-06-24T16:09:10.251985</dc:date>\r\n    <dc:format>image/svg+xml</dc:format>\r\n    <dc:creator>\r\n     <cc:Agent>\r\n      <dc:title>Matplotlib v3.3.4, https://matplotlib.org/</dc:title>\r\n     </cc:Agent>\r\n    </dc:creator>\r\n   </cc:Work>\r\n  </rdf:RDF>\r\n </metadata>\r\n <defs>\r\n  <style type=\"text/css\">*{stroke-linecap:butt;stroke-linejoin:round;}</style>\r\n </defs>\r\n <g id=\"figure_1\">\r\n  <g id=\"patch_1\">\r\n   <path d=\"M 0 251.898957 \r\nL 391.190625 251.898957 \r\nL 391.190625 0 \r\nL 0 0 \r\nz\r\n\" style=\"fill:none;\"/>\r\n  </g>\r\n  <g id=\"axes_1\">\r\n   <g id=\"patch_2\">\r\n    <path d=\"M 49.190625 228.020832 \r\nL 383.990625 228.020832 \r\nL 383.990625 10.580832 \r\nL 49.190625 10.580832 \r\nz\r\n\" style=\"fill:#ffffff;\"/>\r\n   </g>\r\n   <g id=\"matplotlib.axis_1\">\r\n    <g id=\"xtick_1\">\r\n     <g id=\"line2d_1\">\r\n      <defs>\r\n       <path d=\"M 0 0 \r\nL 0 3.5 \r\n\" id=\"m67c21c272f\" style=\"stroke:#000000;stroke-width:0.8;\"/>\r\n      </defs>\r\n      <g>\r\n       <use style=\"stroke:#000000;stroke-width:0.8;\" x=\"64.408807\" xlink:href=\"#m67c21c272f\" y=\"228.020832\"/>\r\n      </g>\r\n     </g>\r\n     <g id=\"text_1\">\r\n      <!-- 0 -->\r\n      <g transform=\"translate(61.227557 242.61927)scale(0.1 -0.1)\">\r\n       <defs>\r\n        <path d=\"M 31.78125 66.40625 \r\nQ 24.171875 66.40625 20.328125 58.90625 \r\nQ 16.5 51.421875 16.5 36.375 \r\nQ 16.5 21.390625 20.328125 13.890625 \r\nQ 24.171875 6.390625 31.78125 6.390625 \r\nQ 39.453125 6.390625 43.28125 13.890625 \r\nQ 47.125 21.390625 47.125 36.375 \r\nQ 47.125 51.421875 43.28125 58.90625 \r\nQ 39.453125 66.40625 31.78125 66.40625 \r\nz\r\nM 31.78125 74.21875 \r\nQ 44.046875 74.21875 50.515625 64.515625 \r\nQ 56.984375 54.828125 56.984375 36.375 \r\nQ 56.984375 17.96875 50.515625 8.265625 \r\nQ 44.046875 -1.421875 31.78125 -1.421875 \r\nQ 19.53125 -1.421875 13.0625 8.265625 \r\nQ 6.59375 17.96875 6.59375 36.375 \r\nQ 6.59375 54.828125 13.0625 64.515625 \r\nQ 19.53125 74.21875 31.78125 74.21875 \r\nz\r\n\" id=\"DejaVuSans-48\"/>\r\n       </defs>\r\n       <use xlink:href=\"#DejaVuSans-48\"/>\r\n      </g>\r\n     </g>\r\n    </g>\r\n    <g id=\"xtick_2\">\r\n     <g id=\"line2d_2\">\r\n      <g>\r\n       <use style=\"stroke:#000000;stroke-width:0.8;\" x=\"125.403524\" xlink:href=\"#m67c21c272f\" y=\"228.020832\"/>\r\n      </g>\r\n     </g>\r\n     <g id=\"text_2\">\r\n      <!-- 200 -->\r\n      <g transform=\"translate(115.859774 242.61927)scale(0.1 -0.1)\">\r\n       <defs>\r\n        <path d=\"M 19.1875 8.296875 \r\nL 53.609375 8.296875 \r\nL 53.609375 0 \r\nL 7.328125 0 \r\nL 7.328125 8.296875 \r\nQ 12.9375 14.109375 22.625 23.890625 \r\nQ 32.328125 33.6875 34.8125 36.53125 \r\nQ 39.546875 41.84375 41.421875 45.53125 \r\nQ 43.3125 49.21875 43.3125 52.78125 \r\nQ 43.3125 58.59375 39.234375 62.25 \r\nQ 35.15625 65.921875 28.609375 65.921875 \r\nQ 23.96875 65.921875 18.8125 64.3125 \r\nQ 13.671875 62.703125 7.8125 59.421875 \r\nL 7.8125 69.390625 \r\nQ 13.765625 71.78125 18.9375 73 \r\nQ 24.125 74.21875 28.421875 74.21875 \r\nQ 39.75 74.21875 46.484375 68.546875 \r\nQ 53.21875 62.890625 53.21875 53.421875 \r\nQ 53.21875 48.921875 51.53125 44.890625 \r\nQ 49.859375 40.875 45.40625 35.40625 \r\nQ 44.1875 33.984375 37.640625 27.21875 \r\nQ 31.109375 20.453125 19.1875 8.296875 \r\nz\r\n\" id=\"DejaVuSans-50\"/>\r\n       </defs>\r\n       <use xlink:href=\"#DejaVuSans-50\"/>\r\n       <use x=\"63.623047\" xlink:href=\"#DejaVuSans-48\"/>\r\n       <use x=\"127.246094\" xlink:href=\"#DejaVuSans-48\"/>\r\n      </g>\r\n     </g>\r\n    </g>\r\n    <g id=\"xtick_3\">\r\n     <g id=\"line2d_3\">\r\n      <g>\r\n       <use style=\"stroke:#000000;stroke-width:0.8;\" x=\"186.39824\" xlink:href=\"#m67c21c272f\" y=\"228.020832\"/>\r\n      </g>\r\n     </g>\r\n     <g id=\"text_3\">\r\n      <!-- 400 -->\r\n      <g transform=\"translate(176.85449 242.61927)scale(0.1 -0.1)\">\r\n       <defs>\r\n        <path d=\"M 37.796875 64.3125 \r\nL 12.890625 25.390625 \r\nL 37.796875 25.390625 \r\nz\r\nM 35.203125 72.90625 \r\nL 47.609375 72.90625 \r\nL 47.609375 25.390625 \r\nL 58.015625 25.390625 \r\nL 58.015625 17.1875 \r\nL 47.609375 17.1875 \r\nL 47.609375 0 \r\nL 37.796875 0 \r\nL 37.796875 17.1875 \r\nL 4.890625 17.1875 \r\nL 4.890625 26.703125 \r\nz\r\n\" id=\"DejaVuSans-52\"/>\r\n       </defs>\r\n       <use xlink:href=\"#DejaVuSans-52\"/>\r\n       <use x=\"63.623047\" xlink:href=\"#DejaVuSans-48\"/>\r\n       <use x=\"127.246094\" xlink:href=\"#DejaVuSans-48\"/>\r\n      </g>\r\n     </g>\r\n    </g>\r\n    <g id=\"xtick_4\">\r\n     <g id=\"line2d_4\">\r\n      <g>\r\n       <use style=\"stroke:#000000;stroke-width:0.8;\" x=\"247.392957\" xlink:href=\"#m67c21c272f\" y=\"228.020832\"/>\r\n      </g>\r\n     </g>\r\n     <g id=\"text_4\">\r\n      <!-- 600 -->\r\n      <g transform=\"translate(237.849207 242.61927)scale(0.1 -0.1)\">\r\n       <defs>\r\n        <path d=\"M 33.015625 40.375 \r\nQ 26.375 40.375 22.484375 35.828125 \r\nQ 18.609375 31.296875 18.609375 23.390625 \r\nQ 18.609375 15.53125 22.484375 10.953125 \r\nQ 26.375 6.390625 33.015625 6.390625 \r\nQ 39.65625 6.390625 43.53125 10.953125 \r\nQ 47.40625 15.53125 47.40625 23.390625 \r\nQ 47.40625 31.296875 43.53125 35.828125 \r\nQ 39.65625 40.375 33.015625 40.375 \r\nz\r\nM 52.59375 71.296875 \r\nL 52.59375 62.3125 \r\nQ 48.875 64.0625 45.09375 64.984375 \r\nQ 41.3125 65.921875 37.59375 65.921875 \r\nQ 27.828125 65.921875 22.671875 59.328125 \r\nQ 17.53125 52.734375 16.796875 39.40625 \r\nQ 19.671875 43.65625 24.015625 45.921875 \r\nQ 28.375 48.1875 33.59375 48.1875 \r\nQ 44.578125 48.1875 50.953125 41.515625 \r\nQ 57.328125 34.859375 57.328125 23.390625 \r\nQ 57.328125 12.15625 50.6875 5.359375 \r\nQ 44.046875 -1.421875 33.015625 -1.421875 \r\nQ 20.359375 -1.421875 13.671875 8.265625 \r\nQ 6.984375 17.96875 6.984375 36.375 \r\nQ 6.984375 53.65625 15.1875 63.9375 \r\nQ 23.390625 74.21875 37.203125 74.21875 \r\nQ 40.921875 74.21875 44.703125 73.484375 \r\nQ 48.484375 72.75 52.59375 71.296875 \r\nz\r\n\" id=\"DejaVuSans-54\"/>\r\n       </defs>\r\n       <use xlink:href=\"#DejaVuSans-54\"/>\r\n       <use x=\"63.623047\" xlink:href=\"#DejaVuSans-48\"/>\r\n       <use x=\"127.246094\" xlink:href=\"#DejaVuSans-48\"/>\r\n      </g>\r\n     </g>\r\n    </g>\r\n    <g id=\"xtick_5\">\r\n     <g id=\"line2d_5\">\r\n      <g>\r\n       <use style=\"stroke:#000000;stroke-width:0.8;\" x=\"308.387674\" xlink:href=\"#m67c21c272f\" y=\"228.020832\"/>\r\n      </g>\r\n     </g>\r\n     <g id=\"text_5\">\r\n      <!-- 800 -->\r\n      <g transform=\"translate(298.843924 242.61927)scale(0.1 -0.1)\">\r\n       <defs>\r\n        <path d=\"M 31.78125 34.625 \r\nQ 24.75 34.625 20.71875 30.859375 \r\nQ 16.703125 27.09375 16.703125 20.515625 \r\nQ 16.703125 13.921875 20.71875 10.15625 \r\nQ 24.75 6.390625 31.78125 6.390625 \r\nQ 38.8125 6.390625 42.859375 10.171875 \r\nQ 46.921875 13.96875 46.921875 20.515625 \r\nQ 46.921875 27.09375 42.890625 30.859375 \r\nQ 38.875 34.625 31.78125 34.625 \r\nz\r\nM 21.921875 38.8125 \r\nQ 15.578125 40.375 12.03125 44.71875 \r\nQ 8.5 49.078125 8.5 55.328125 \r\nQ 8.5 64.0625 14.71875 69.140625 \r\nQ 20.953125 74.21875 31.78125 74.21875 \r\nQ 42.671875 74.21875 48.875 69.140625 \r\nQ 55.078125 64.0625 55.078125 55.328125 \r\nQ 55.078125 49.078125 51.53125 44.71875 \r\nQ 48 40.375 41.703125 38.8125 \r\nQ 48.828125 37.15625 52.796875 32.3125 \r\nQ 56.78125 27.484375 56.78125 20.515625 \r\nQ 56.78125 9.90625 50.3125 4.234375 \r\nQ 43.84375 -1.421875 31.78125 -1.421875 \r\nQ 19.734375 -1.421875 13.25 4.234375 \r\nQ 6.78125 9.90625 6.78125 20.515625 \r\nQ 6.78125 27.484375 10.78125 32.3125 \r\nQ 14.796875 37.15625 21.921875 38.8125 \r\nz\r\nM 18.3125 54.390625 \r\nQ 18.3125 48.734375 21.84375 45.5625 \r\nQ 25.390625 42.390625 31.78125 42.390625 \r\nQ 38.140625 42.390625 41.71875 45.5625 \r\nQ 45.3125 48.734375 45.3125 54.390625 \r\nQ 45.3125 60.0625 41.71875 63.234375 \r\nQ 38.140625 66.40625 31.78125 66.40625 \r\nQ 25.390625 66.40625 21.84375 63.234375 \r\nQ 18.3125 60.0625 18.3125 54.390625 \r\nz\r\n\" id=\"DejaVuSans-56\"/>\r\n       </defs>\r\n       <use xlink:href=\"#DejaVuSans-56\"/>\r\n       <use x=\"63.623047\" xlink:href=\"#DejaVuSans-48\"/>\r\n       <use x=\"127.246094\" xlink:href=\"#DejaVuSans-48\"/>\r\n      </g>\r\n     </g>\r\n    </g>\r\n    <g id=\"xtick_6\">\r\n     <g id=\"line2d_6\">\r\n      <g>\r\n       <use style=\"stroke:#000000;stroke-width:0.8;\" x=\"369.38239\" xlink:href=\"#m67c21c272f\" y=\"228.020832\"/>\r\n      </g>\r\n     </g>\r\n     <g id=\"text_6\">\r\n      <!-- 1000 -->\r\n      <g transform=\"translate(356.65739 242.61927)scale(0.1 -0.1)\">\r\n       <defs>\r\n        <path d=\"M 12.40625 8.296875 \r\nL 28.515625 8.296875 \r\nL 28.515625 63.921875 \r\nL 10.984375 60.40625 \r\nL 10.984375 69.390625 \r\nL 28.421875 72.90625 \r\nL 38.28125 72.90625 \r\nL 38.28125 8.296875 \r\nL 54.390625 8.296875 \r\nL 54.390625 0 \r\nL 12.40625 0 \r\nz\r\n\" id=\"DejaVuSans-49\"/>\r\n       </defs>\r\n       <use xlink:href=\"#DejaVuSans-49\"/>\r\n       <use x=\"63.623047\" xlink:href=\"#DejaVuSans-48\"/>\r\n       <use x=\"127.246094\" xlink:href=\"#DejaVuSans-48\"/>\r\n       <use x=\"190.869141\" xlink:href=\"#DejaVuSans-48\"/>\r\n      </g>\r\n     </g>\r\n    </g>\r\n   </g>\r\n   <g id=\"matplotlib.axis_2\">\r\n    <g id=\"ytick_1\">\r\n     <g id=\"line2d_7\">\r\n      <defs>\r\n       <path d=\"M 0 0 \r\nL -3.5 0 \r\n\" id=\"m1ad663e12d\" style=\"stroke:#000000;stroke-width:0.8;\"/>\r\n      </defs>\r\n      <g>\r\n       <use style=\"stroke:#000000;stroke-width:0.8;\" x=\"49.190625\" xlink:href=\"#m1ad663e12d\" y=\"210.62011\"/>\r\n      </g>\r\n     </g>\r\n     <g id=\"text_7\">\r\n      <!-- 1417.5 -->\r\n      <g transform=\"translate(7.2 214.419329)scale(0.1 -0.1)\">\r\n       <defs>\r\n        <path d=\"M 8.203125 72.90625 \r\nL 55.078125 72.90625 \r\nL 55.078125 68.703125 \r\nL 28.609375 0 \r\nL 18.3125 0 \r\nL 43.21875 64.59375 \r\nL 8.203125 64.59375 \r\nz\r\n\" id=\"DejaVuSans-55\"/>\r\n        <path d=\"M 10.6875 12.40625 \r\nL 21 12.40625 \r\nL 21 0 \r\nL 10.6875 0 \r\nz\r\n\" id=\"DejaVuSans-46\"/>\r\n        <path d=\"M 10.796875 72.90625 \r\nL 49.515625 72.90625 \r\nL 49.515625 64.59375 \r\nL 19.828125 64.59375 \r\nL 19.828125 46.734375 \r\nQ 21.96875 47.46875 24.109375 47.828125 \r\nQ 26.265625 48.1875 28.421875 48.1875 \r\nQ 40.625 48.1875 47.75 41.5 \r\nQ 54.890625 34.8125 54.890625 23.390625 \r\nQ 54.890625 11.625 47.5625 5.09375 \r\nQ 40.234375 -1.421875 26.90625 -1.421875 \r\nQ 22.3125 -1.421875 17.546875 -0.640625 \r\nQ 12.796875 0.140625 7.71875 1.703125 \r\nL 7.71875 11.625 \r\nQ 12.109375 9.234375 16.796875 8.0625 \r\nQ 21.484375 6.890625 26.703125 6.890625 \r\nQ 35.15625 6.890625 40.078125 11.328125 \r\nQ 45.015625 15.765625 45.015625 23.390625 \r\nQ 45.015625 31 40.078125 35.4375 \r\nQ 35.15625 39.890625 26.703125 39.890625 \r\nQ 22.75 39.890625 18.8125 39.015625 \r\nQ 14.890625 38.140625 10.796875 36.28125 \r\nz\r\n\" id=\"DejaVuSans-53\"/>\r\n       </defs>\r\n       <use xlink:href=\"#DejaVuSans-49\"/>\r\n       <use x=\"63.623047\" xlink:href=\"#DejaVuSans-52\"/>\r\n       <use x=\"127.246094\" xlink:href=\"#DejaVuSans-49\"/>\r\n       <use x=\"190.869141\" xlink:href=\"#DejaVuSans-55\"/>\r\n       <use x=\"254.492188\" xlink:href=\"#DejaVuSans-46\"/>\r\n       <use x=\"286.279297\" xlink:href=\"#DejaVuSans-53\"/>\r\n      </g>\r\n     </g>\r\n    </g>\r\n    <g id=\"ytick_2\">\r\n     <g id=\"line2d_8\">\r\n      <g>\r\n       <use style=\"stroke:#000000;stroke-width:0.8;\" x=\"49.190625\" xlink:href=\"#m1ad663e12d\" y=\"185.667499\"/>\r\n      </g>\r\n     </g>\r\n     <g id=\"text_8\">\r\n      <!-- 1420.0 -->\r\n      <g transform=\"translate(7.2 189.466717)scale(0.1 -0.1)\">\r\n       <use xlink:href=\"#DejaVuSans-49\"/>\r\n       <use x=\"63.623047\" xlink:href=\"#DejaVuSans-52\"/>\r\n       <use x=\"127.246094\" xlink:href=\"#DejaVuSans-50\"/>\r\n       <use x=\"190.869141\" xlink:href=\"#DejaVuSans-48\"/>\r\n       <use x=\"254.492188\" xlink:href=\"#DejaVuSans-46\"/>\r\n       <use x=\"286.279297\" xlink:href=\"#DejaVuSans-48\"/>\r\n      </g>\r\n     </g>\r\n    </g>\r\n    <g id=\"ytick_3\">\r\n     <g id=\"line2d_9\">\r\n      <g>\r\n       <use style=\"stroke:#000000;stroke-width:0.8;\" x=\"49.190625\" xlink:href=\"#m1ad663e12d\" y=\"160.714887\"/>\r\n      </g>\r\n     </g>\r\n     <g id=\"text_9\">\r\n      <!-- 1422.5 -->\r\n      <g transform=\"translate(7.2 164.514106)scale(0.1 -0.1)\">\r\n       <use xlink:href=\"#DejaVuSans-49\"/>\r\n       <use x=\"63.623047\" xlink:href=\"#DejaVuSans-52\"/>\r\n       <use x=\"127.246094\" xlink:href=\"#DejaVuSans-50\"/>\r\n       <use x=\"190.869141\" xlink:href=\"#DejaVuSans-50\"/>\r\n       <use x=\"254.492188\" xlink:href=\"#DejaVuSans-46\"/>\r\n       <use x=\"286.279297\" xlink:href=\"#DejaVuSans-53\"/>\r\n      </g>\r\n     </g>\r\n    </g>\r\n    <g id=\"ytick_4\">\r\n     <g id=\"line2d_10\">\r\n      <g>\r\n       <use style=\"stroke:#000000;stroke-width:0.8;\" x=\"49.190625\" xlink:href=\"#m1ad663e12d\" y=\"135.762276\"/>\r\n      </g>\r\n     </g>\r\n     <g id=\"text_10\">\r\n      <!-- 1425.0 -->\r\n      <g transform=\"translate(7.2 139.561495)scale(0.1 -0.1)\">\r\n       <use xlink:href=\"#DejaVuSans-49\"/>\r\n       <use x=\"63.623047\" xlink:href=\"#DejaVuSans-52\"/>\r\n       <use x=\"127.246094\" xlink:href=\"#DejaVuSans-50\"/>\r\n       <use x=\"190.869141\" xlink:href=\"#DejaVuSans-53\"/>\r\n       <use x=\"254.492188\" xlink:href=\"#DejaVuSans-46\"/>\r\n       <use x=\"286.279297\" xlink:href=\"#DejaVuSans-48\"/>\r\n      </g>\r\n     </g>\r\n    </g>\r\n    <g id=\"ytick_5\">\r\n     <g id=\"line2d_11\">\r\n      <g>\r\n       <use style=\"stroke:#000000;stroke-width:0.8;\" x=\"49.190625\" xlink:href=\"#m1ad663e12d\" y=\"110.809664\"/>\r\n      </g>\r\n     </g>\r\n     <g id=\"text_11\">\r\n      <!-- 1427.5 -->\r\n      <g transform=\"translate(7.2 114.608883)scale(0.1 -0.1)\">\r\n       <use xlink:href=\"#DejaVuSans-49\"/>\r\n       <use x=\"63.623047\" xlink:href=\"#DejaVuSans-52\"/>\r\n       <use x=\"127.246094\" xlink:href=\"#DejaVuSans-50\"/>\r\n       <use x=\"190.869141\" xlink:href=\"#DejaVuSans-55\"/>\r\n       <use x=\"254.492188\" xlink:href=\"#DejaVuSans-46\"/>\r\n       <use x=\"286.279297\" xlink:href=\"#DejaVuSans-53\"/>\r\n      </g>\r\n     </g>\r\n    </g>\r\n    <g id=\"ytick_6\">\r\n     <g id=\"line2d_12\">\r\n      <g>\r\n       <use style=\"stroke:#000000;stroke-width:0.8;\" x=\"49.190625\" xlink:href=\"#m1ad663e12d\" y=\"85.857053\"/>\r\n      </g>\r\n     </g>\r\n     <g id=\"text_12\">\r\n      <!-- 1430.0 -->\r\n      <g transform=\"translate(7.2 89.656272)scale(0.1 -0.1)\">\r\n       <defs>\r\n        <path d=\"M 40.578125 39.3125 \r\nQ 47.65625 37.796875 51.625 33 \r\nQ 55.609375 28.21875 55.609375 21.1875 \r\nQ 55.609375 10.40625 48.1875 4.484375 \r\nQ 40.765625 -1.421875 27.09375 -1.421875 \r\nQ 22.515625 -1.421875 17.65625 -0.515625 \r\nQ 12.796875 0.390625 7.625 2.203125 \r\nL 7.625 11.71875 \r\nQ 11.71875 9.328125 16.59375 8.109375 \r\nQ 21.484375 6.890625 26.8125 6.890625 \r\nQ 36.078125 6.890625 40.9375 10.546875 \r\nQ 45.796875 14.203125 45.796875 21.1875 \r\nQ 45.796875 27.640625 41.28125 31.265625 \r\nQ 36.765625 34.90625 28.71875 34.90625 \r\nL 20.21875 34.90625 \r\nL 20.21875 43.015625 \r\nL 29.109375 43.015625 \r\nQ 36.375 43.015625 40.234375 45.921875 \r\nQ 44.09375 48.828125 44.09375 54.296875 \r\nQ 44.09375 59.90625 40.109375 62.90625 \r\nQ 36.140625 65.921875 28.71875 65.921875 \r\nQ 24.65625 65.921875 20.015625 65.03125 \r\nQ 15.375 64.15625 9.8125 62.3125 \r\nL 9.8125 71.09375 \r\nQ 15.4375 72.65625 20.34375 73.4375 \r\nQ 25.25 74.21875 29.59375 74.21875 \r\nQ 40.828125 74.21875 47.359375 69.109375 \r\nQ 53.90625 64.015625 53.90625 55.328125 \r\nQ 53.90625 49.265625 50.4375 45.09375 \r\nQ 46.96875 40.921875 40.578125 39.3125 \r\nz\r\n\" id=\"DejaVuSans-51\"/>\r\n       </defs>\r\n       <use xlink:href=\"#DejaVuSans-49\"/>\r\n       <use x=\"63.623047\" xlink:href=\"#DejaVuSans-52\"/>\r\n       <use x=\"127.246094\" xlink:href=\"#DejaVuSans-51\"/>\r\n       <use x=\"190.869141\" xlink:href=\"#DejaVuSans-48\"/>\r\n       <use x=\"254.492188\" xlink:href=\"#DejaVuSans-46\"/>\r\n       <use x=\"286.279297\" xlink:href=\"#DejaVuSans-48\"/>\r\n      </g>\r\n     </g>\r\n    </g>\r\n    <g id=\"ytick_7\">\r\n     <g id=\"line2d_13\">\r\n      <g>\r\n       <use style=\"stroke:#000000;stroke-width:0.8;\" x=\"49.190625\" xlink:href=\"#m1ad663e12d\" y=\"60.904442\"/>\r\n      </g>\r\n     </g>\r\n     <g id=\"text_13\">\r\n      <!-- 1432.5 -->\r\n      <g transform=\"translate(7.2 64.70366)scale(0.1 -0.1)\">\r\n       <use xlink:href=\"#DejaVuSans-49\"/>\r\n       <use x=\"63.623047\" xlink:href=\"#DejaVuSans-52\"/>\r\n       <use x=\"127.246094\" xlink:href=\"#DejaVuSans-51\"/>\r\n       <use x=\"190.869141\" xlink:href=\"#DejaVuSans-50\"/>\r\n       <use x=\"254.492188\" xlink:href=\"#DejaVuSans-46\"/>\r\n       <use x=\"286.279297\" xlink:href=\"#DejaVuSans-53\"/>\r\n      </g>\r\n     </g>\r\n    </g>\r\n    <g id=\"ytick_8\">\r\n     <g id=\"line2d_14\">\r\n      <g>\r\n       <use style=\"stroke:#000000;stroke-width:0.8;\" x=\"49.190625\" xlink:href=\"#m1ad663e12d\" y=\"35.95183\"/>\r\n      </g>\r\n     </g>\r\n     <g id=\"text_14\">\r\n      <!-- 1435.0 -->\r\n      <g transform=\"translate(7.2 39.751049)scale(0.1 -0.1)\">\r\n       <use xlink:href=\"#DejaVuSans-49\"/>\r\n       <use x=\"63.623047\" xlink:href=\"#DejaVuSans-52\"/>\r\n       <use x=\"127.246094\" xlink:href=\"#DejaVuSans-51\"/>\r\n       <use x=\"190.869141\" xlink:href=\"#DejaVuSans-53\"/>\r\n       <use x=\"254.492188\" xlink:href=\"#DejaVuSans-46\"/>\r\n       <use x=\"286.279297\" xlink:href=\"#DejaVuSans-48\"/>\r\n      </g>\r\n     </g>\r\n    </g>\r\n    <g id=\"ytick_9\">\r\n     <g id=\"line2d_15\">\r\n      <g>\r\n       <use style=\"stroke:#000000;stroke-width:0.8;\" x=\"49.190625\" xlink:href=\"#m1ad663e12d\" y=\"10.999219\"/>\r\n      </g>\r\n     </g>\r\n     <g id=\"text_15\">\r\n      <!-- 1437.5 -->\r\n      <g transform=\"translate(7.2 14.798438)scale(0.1 -0.1)\">\r\n       <use xlink:href=\"#DejaVuSans-49\"/>\r\n       <use x=\"63.623047\" xlink:href=\"#DejaVuSans-52\"/>\r\n       <use x=\"127.246094\" xlink:href=\"#DejaVuSans-51\"/>\r\n       <use x=\"190.869141\" xlink:href=\"#DejaVuSans-55\"/>\r\n       <use x=\"254.492188\" xlink:href=\"#DejaVuSans-46\"/>\r\n       <use x=\"286.279297\" xlink:href=\"#DejaVuSans-53\"/>\r\n      </g>\r\n     </g>\r\n    </g>\r\n   </g>\r\n   <g id=\"line2d_16\">\r\n    <defs>\r\n     <path d=\"M 0 1.5 \r\nC 0.397805 1.5 0.77937 1.341951 1.06066 1.06066 \r\nC 1.341951 0.77937 1.5 0.397805 1.5 0 \r\nC 1.5 -0.397805 1.341951 -0.77937 1.06066 -1.06066 \r\nC 0.77937 -1.341951 0.397805 -1.5 0 -1.5 \r\nC -0.397805 -1.5 -0.77937 -1.341951 -1.06066 -1.06066 \r\nC -1.341951 -0.77937 -1.5 -0.397805 -1.5 0 \r\nC -1.5 0.397805 -1.341951 0.77937 -1.06066 1.06066 \r\nC -0.77937 1.341951 -0.397805 1.5 0 1.5 \r\nz\r\n\" id=\"mc0884edaf1\" style=\"stroke:#1f77b4;\"/>\r\n    </defs>\r\n    <g clip-path=\"url(#pa7e0a67a31)\">\r\n     <use style=\"fill:#1f77b4;stroke:#1f77b4;\" x=\"64.408807\" xlink:href=\"#mc0884edaf1\" y=\"129.674679\"/>\r\n     <use style=\"fill:#1f77b4;stroke:#1f77b4;\" x=\"64.71378\" xlink:href=\"#mc0884edaf1\" y=\"130.099281\"/>\r\n     <use style=\"fill:#1f77b4;stroke:#1f77b4;\" x=\"65.018754\" xlink:href=\"#mc0884edaf1\" y=\"116.251604\"/>\r\n     <use style=\"fill:#1f77b4;stroke:#1f77b4;\" x=\"65.323728\" xlink:href=\"#mc0884edaf1\" y=\"101.064301\"/>\r\n     <use style=\"fill:#1f77b4;stroke:#1f77b4;\" x=\"65.628701\" xlink:href=\"#mc0884edaf1\" y=\"117.884197\"/>\r\n     <use style=\"fill:#1f77b4;stroke:#1f77b4;\" x=\"65.933675\" xlink:href=\"#mc0884edaf1\" y=\"162.106702\"/>\r\n     <use style=\"fill:#1f77b4;stroke:#1f77b4;\" x=\"66.238648\" xlink:href=\"#mc0884edaf1\" y=\"146.706654\"/>\r\n     <use style=\"fill:#1f77b4;stroke:#1f77b4;\" x=\"66.543622\" xlink:href=\"#mc0884edaf1\" y=\"96.667137\"/>\r\n     <use style=\"fill:#1f77b4;stroke:#1f77b4;\" x=\"66.848595\" xlink:href=\"#mc0884edaf1\" y=\"54.85064\"/>\r\n     <use style=\"fill:#1f77b4;stroke:#1f77b4;\" x=\"67.153569\" xlink:href=\"#mc0884edaf1\" y=\"163.220287\"/>\r\n     <use style=\"fill:#1f77b4;stroke:#1f77b4;\" x=\"67.458543\" xlink:href=\"#mc0884edaf1\" y=\"93.43076\"/>\r\n     <use style=\"fill:#1f77b4;stroke:#1f77b4;\" x=\"67.763516\" xlink:href=\"#mc0884edaf1\" y=\"100.348726\"/>\r\n     <use style=\"fill:#1f77b4;stroke:#1f77b4;\" x=\"68.06849\" xlink:href=\"#mc0884edaf1\" y=\"139.868689\"/>\r\n     <use style=\"fill:#1f77b4;stroke:#1f77b4;\" x=\"68.373463\" xlink:href=\"#mc0884edaf1\" y=\"166.565695\"/>\r\n     <use style=\"fill:#1f77b4;stroke:#1f77b4;\" x=\"68.678437\" xlink:href=\"#mc0884edaf1\" y=\"143.420637\"/>\r\n     <use style=\"fill:#1f77b4;stroke:#1f77b4;\" x=\"68.983411\" xlink:href=\"#mc0884edaf1\" y=\"43.637449\"/>\r\n     <use style=\"fill:#1f77b4;stroke:#1f77b4;\" x=\"69.288384\" xlink:href=\"#mc0884edaf1\" y=\"97.488641\"/>\r\n     <use style=\"fill:#1f77b4;stroke:#1f77b4;\" x=\"69.593358\" xlink:href=\"#mc0884edaf1\" y=\"131.793482\"/>\r\n     <use style=\"fill:#1f77b4;stroke:#1f77b4;\" x=\"69.898331\" xlink:href=\"#mc0884edaf1\" y=\"110.108605\"/>\r\n     <use style=\"fill:#1f77b4;stroke:#1f77b4;\" x=\"70.203305\" xlink:href=\"#mc0884edaf1\" y=\"88.185276\"/>\r\n     <use style=\"fill:#1f77b4;stroke:#1f77b4;\" x=\"70.508278\" xlink:href=\"#mc0884edaf1\" y=\"80.926033\"/>\r\n     <use style=\"fill:#1f77b4;stroke:#1f77b4;\" x=\"70.813252\" xlink:href=\"#mc0884edaf1\" y=\"107.295501\"/>\r\n     <use style=\"fill:#1f77b4;stroke:#1f77b4;\" x=\"71.118226\" xlink:href=\"#mc0884edaf1\" y=\"93.600291\"/>\r\n     <use style=\"fill:#1f77b4;stroke:#1f77b4;\" x=\"71.423199\" xlink:href=\"#mc0884edaf1\" y=\"164.633044\"/>\r\n     <use style=\"fill:#1f77b4;stroke:#1f77b4;\" x=\"71.728173\" xlink:href=\"#mc0884edaf1\" y=\"94.858143\"/>\r\n     <use style=\"fill:#1f77b4;stroke:#1f77b4;\" x=\"72.033146\" xlink:href=\"#mc0884edaf1\" y=\"82.865554\"/>\r\n     <use style=\"fill:#1f77b4;stroke:#1f77b4;\" x=\"72.33812\" xlink:href=\"#mc0884edaf1\" y=\"145.689026\"/>\r\n     <use style=\"fill:#1f77b4;stroke:#1f77b4;\" x=\"72.643094\" xlink:href=\"#mc0884edaf1\" y=\"132.39249\"/>\r\n     <use style=\"fill:#1f77b4;stroke:#1f77b4;\" x=\"72.948067\" xlink:href=\"#mc0884edaf1\" y=\"81.431079\"/>\r\n     <use style=\"fill:#1f77b4;stroke:#1f77b4;\" x=\"73.253041\" xlink:href=\"#mc0884edaf1\" y=\"134.790964\"/>\r\n     <use style=\"fill:#1f77b4;stroke:#1f77b4;\" x=\"73.558014\" xlink:href=\"#mc0884edaf1\" y=\"85.968522\"/>\r\n     <use style=\"fill:#1f77b4;stroke:#1f77b4;\" x=\"73.862988\" xlink:href=\"#mc0884edaf1\" y=\"112.294777\"/>\r\n     <use style=\"fill:#1f77b4;stroke:#1f77b4;\" x=\"74.167961\" xlink:href=\"#mc0884edaf1\" y=\"80.169681\"/>\r\n     <use style=\"fill:#1f77b4;stroke:#1f77b4;\" x=\"74.472935\" xlink:href=\"#mc0884edaf1\" y=\"95.286735\"/>\r\n     <use style=\"fill:#1f77b4;stroke:#1f77b4;\" x=\"74.777909\" xlink:href=\"#mc0884edaf1\" y=\"117.123857\"/>\r\n     <use style=\"fill:#1f77b4;stroke:#1f77b4;\" x=\"75.082882\" xlink:href=\"#mc0884edaf1\" y=\"101.832398\"/>\r\n     <use style=\"fill:#1f77b4;stroke:#1f77b4;\" x=\"75.387856\" xlink:href=\"#mc0884edaf1\" y=\"117.307571\"/>\r\n     <use style=\"fill:#1f77b4;stroke:#1f77b4;\" x=\"75.692829\" xlink:href=\"#mc0884edaf1\" y=\"146.129585\"/>\r\n     <use style=\"fill:#1f77b4;stroke:#1f77b4;\" x=\"75.997803\" xlink:href=\"#mc0884edaf1\" y=\"44.803777\"/>\r\n     <use style=\"fill:#1f77b4;stroke:#1f77b4;\" x=\"76.302777\" xlink:href=\"#mc0884edaf1\" y=\"116.395872\"/>\r\n     <use style=\"fill:#1f77b4;stroke:#1f77b4;\" x=\"76.60775\" xlink:href=\"#mc0884edaf1\" y=\"71.311529\"/>\r\n     <use style=\"fill:#1f77b4;stroke:#1f77b4;\" x=\"76.912724\" xlink:href=\"#mc0884edaf1\" y=\"131.411649\"/>\r\n     <use style=\"fill:#1f77b4;stroke:#1f77b4;\" x=\"77.217697\" xlink:href=\"#mc0884edaf1\" y=\"111.448674\"/>\r\n     <use style=\"fill:#1f77b4;stroke:#1f77b4;\" x=\"77.522671\" xlink:href=\"#mc0884edaf1\" y=\"126.781131\"/>\r\n     <use style=\"fill:#1f77b4;stroke:#1f77b4;\" x=\"77.827644\" xlink:href=\"#mc0884edaf1\" y=\"147.040397\"/>\r\n     <use style=\"fill:#1f77b4;stroke:#1f77b4;\" x=\"78.132618\" xlink:href=\"#mc0884edaf1\" y=\"159.67809\"/>\r\n     <use style=\"fill:#1f77b4;stroke:#1f77b4;\" x=\"78.437592\" xlink:href=\"#mc0884edaf1\" y=\"115.844065\"/>\r\n     <use style=\"fill:#1f77b4;stroke:#1f77b4;\" x=\"78.742565\" xlink:href=\"#mc0884edaf1\" y=\"126.065112\"/>\r\n     <use style=\"fill:#1f77b4;stroke:#1f77b4;\" x=\"79.047539\" xlink:href=\"#mc0884edaf1\" y=\"109.534194\"/>\r\n     <use style=\"fill:#1f77b4;stroke:#1f77b4;\" x=\"79.352512\" xlink:href=\"#mc0884edaf1\" y=\"79.767683\"/>\r\n     <use style=\"fill:#1f77b4;stroke:#1f77b4;\" x=\"79.657486\" xlink:href=\"#mc0884edaf1\" y=\"192.461364\"/>\r\n     <use style=\"fill:#1f77b4;stroke:#1f77b4;\" x=\"79.96246\" xlink:href=\"#mc0884edaf1\" y=\"127.757761\"/>\r\n     <use style=\"fill:#1f77b4;stroke:#1f77b4;\" x=\"80.267433\" xlink:href=\"#mc0884edaf1\" y=\"119.619838\"/>\r\n     <use style=\"fill:#1f77b4;stroke:#1f77b4;\" x=\"80.572407\" xlink:href=\"#mc0884edaf1\" y=\"132.231159\"/>\r\n     <use style=\"fill:#1f77b4;stroke:#1f77b4;\" x=\"80.87738\" xlink:href=\"#mc0884edaf1\" y=\"84.34147\"/>\r\n     <use style=\"fill:#1f77b4;stroke:#1f77b4;\" x=\"81.182354\" xlink:href=\"#mc0884edaf1\" y=\"127.119971\"/>\r\n     <use style=\"fill:#1f77b4;stroke:#1f77b4;\" x=\"81.487327\" xlink:href=\"#mc0884edaf1\" y=\"87.530865\"/>\r\n     <use style=\"fill:#1f77b4;stroke:#1f77b4;\" x=\"81.792301\" xlink:href=\"#mc0884edaf1\" y=\"86.257279\"/>\r\n     <use style=\"fill:#1f77b4;stroke:#1f77b4;\" x=\"82.097275\" xlink:href=\"#mc0884edaf1\" y=\"163.089759\"/>\r\n     <use style=\"fill:#1f77b4;stroke:#1f77b4;\" x=\"82.402248\" xlink:href=\"#mc0884edaf1\" y=\"170.528063\"/>\r\n     <use style=\"fill:#1f77b4;stroke:#1f77b4;\" x=\"82.707222\" xlink:href=\"#mc0884edaf1\" y=\"120.005216\"/>\r\n     <use style=\"fill:#1f77b4;stroke:#1f77b4;\" x=\"83.012195\" xlink:href=\"#mc0884edaf1\" y=\"123.6447\"/>\r\n     <use style=\"fill:#1f77b4;stroke:#1f77b4;\" x=\"83.317169\" xlink:href=\"#mc0884edaf1\" y=\"77.149373\"/>\r\n     <use style=\"fill:#1f77b4;stroke:#1f77b4;\" x=\"83.622143\" xlink:href=\"#mc0884edaf1\" y=\"162.390583\"/>\r\n     <use style=\"fill:#1f77b4;stroke:#1f77b4;\" x=\"83.927116\" xlink:href=\"#mc0884edaf1\" y=\"151.06814\"/>\r\n     <use style=\"fill:#1f77b4;stroke:#1f77b4;\" x=\"84.23209\" xlink:href=\"#mc0884edaf1\" y=\"161.729302\"/>\r\n     <use style=\"fill:#1f77b4;stroke:#1f77b4;\" x=\"84.537063\" xlink:href=\"#mc0884edaf1\" y=\"166.698661\"/>\r\n     <use style=\"fill:#1f77b4;stroke:#1f77b4;\" x=\"84.842037\" xlink:href=\"#mc0884edaf1\" y=\"120.543947\"/>\r\n     <use style=\"fill:#1f77b4;stroke:#1f77b4;\" x=\"85.14701\" xlink:href=\"#mc0884edaf1\" y=\"118.484979\"/>\r\n     <use style=\"fill:#1f77b4;stroke:#1f77b4;\" x=\"85.451984\" xlink:href=\"#mc0884edaf1\" y=\"159.884186\"/>\r\n     <use style=\"fill:#1f77b4;stroke:#1f77b4;\" x=\"85.756958\" xlink:href=\"#mc0884edaf1\" y=\"79.658208\"/>\r\n     <use style=\"fill:#1f77b4;stroke:#1f77b4;\" x=\"86.061931\" xlink:href=\"#mc0884edaf1\" y=\"141.052524\"/>\r\n     <use style=\"fill:#1f77b4;stroke:#1f77b4;\" x=\"86.366905\" xlink:href=\"#mc0884edaf1\" y=\"103.346651\"/>\r\n     <use style=\"fill:#1f77b4;stroke:#1f77b4;\" x=\"86.671878\" xlink:href=\"#mc0884edaf1\" y=\"142.666724\"/>\r\n     <use style=\"fill:#1f77b4;stroke:#1f77b4;\" x=\"86.976852\" xlink:href=\"#mc0884edaf1\" y=\"106.117428\"/>\r\n     <use style=\"fill:#1f77b4;stroke:#1f77b4;\" x=\"87.281826\" xlink:href=\"#mc0884edaf1\" y=\"136.702563\"/>\r\n     <use style=\"fill:#1f77b4;stroke:#1f77b4;\" x=\"87.586799\" xlink:href=\"#mc0884edaf1\" y=\"81.832856\"/>\r\n     <use style=\"fill:#1f77b4;stroke:#1f77b4;\" x=\"87.891773\" xlink:href=\"#mc0884edaf1\" y=\"81.021325\"/>\r\n     <use style=\"fill:#1f77b4;stroke:#1f77b4;\" x=\"88.196746\" xlink:href=\"#mc0884edaf1\" y=\"128.451397\"/>\r\n     <use style=\"fill:#1f77b4;stroke:#1f77b4;\" x=\"88.50172\" xlink:href=\"#mc0884edaf1\" y=\"127.518645\"/>\r\n     <use style=\"fill:#1f77b4;stroke:#1f77b4;\" x=\"88.806694\" xlink:href=\"#mc0884edaf1\" y=\"144.186518\"/>\r\n     <use style=\"fill:#1f77b4;stroke:#1f77b4;\" x=\"89.111667\" xlink:href=\"#mc0884edaf1\" y=\"95.580366\"/>\r\n     <use style=\"fill:#1f77b4;stroke:#1f77b4;\" x=\"89.416641\" xlink:href=\"#mc0884edaf1\" y=\"91.494563\"/>\r\n     <use style=\"fill:#1f77b4;stroke:#1f77b4;\" x=\"89.721614\" xlink:href=\"#mc0884edaf1\" y=\"132.250882\"/>\r\n     <use style=\"fill:#1f77b4;stroke:#1f77b4;\" x=\"90.026588\" xlink:href=\"#mc0884edaf1\" y=\"146.189419\"/>\r\n     <use style=\"fill:#1f77b4;stroke:#1f77b4;\" x=\"90.331561\" xlink:href=\"#mc0884edaf1\" y=\"136.24073\"/>\r\n     <use style=\"fill:#1f77b4;stroke:#1f77b4;\" x=\"90.636535\" xlink:href=\"#mc0884edaf1\" y=\"124.10343\"/>\r\n     <use style=\"fill:#1f77b4;stroke:#1f77b4;\" x=\"90.941509\" xlink:href=\"#mc0884edaf1\" y=\"111.754051\"/>\r\n     <use style=\"fill:#1f77b4;stroke:#1f77b4;\" x=\"91.246482\" xlink:href=\"#mc0884edaf1\" y=\"145.66199\"/>\r\n     <use style=\"fill:#1f77b4;stroke:#1f77b4;\" x=\"91.551456\" xlink:href=\"#mc0884edaf1\" y=\"91.709966\"/>\r\n     <use style=\"fill:#1f77b4;stroke:#1f77b4;\" x=\"91.856429\" xlink:href=\"#mc0884edaf1\" y=\"142.949718\"/>\r\n     <use style=\"fill:#1f77b4;stroke:#1f77b4;\" x=\"92.161403\" xlink:href=\"#mc0884edaf1\" y=\"150.421263\"/>\r\n     <use style=\"fill:#1f77b4;stroke:#1f77b4;\" x=\"92.466377\" xlink:href=\"#mc0884edaf1\" y=\"108.459613\"/>\r\n     <use style=\"fill:#1f77b4;stroke:#1f77b4;\" x=\"92.77135\" xlink:href=\"#mc0884edaf1\" y=\"126.998751\"/>\r\n     <use style=\"fill:#1f77b4;stroke:#1f77b4;\" x=\"93.076324\" xlink:href=\"#mc0884edaf1\" y=\"162.471027\"/>\r\n     <use style=\"fill:#1f77b4;stroke:#1f77b4;\" x=\"93.381297\" xlink:href=\"#mc0884edaf1\" y=\"100.382854\"/>\r\n     <use style=\"fill:#1f77b4;stroke:#1f77b4;\" x=\"93.686271\" xlink:href=\"#mc0884edaf1\" y=\"101.506854\"/>\r\n     <use style=\"fill:#1f77b4;stroke:#1f77b4;\" x=\"93.991244\" xlink:href=\"#mc0884edaf1\" y=\"126.936922\"/>\r\n     <use style=\"fill:#1f77b4;stroke:#1f77b4;\" x=\"94.296218\" xlink:href=\"#mc0884edaf1\" y=\"105.666232\"/>\r\n     <use style=\"fill:#1f77b4;stroke:#1f77b4;\" x=\"94.601192\" xlink:href=\"#mc0884edaf1\" y=\"120.649212\"/>\r\n     <use style=\"fill:#1f77b4;stroke:#1f77b4;\" x=\"94.906165\" xlink:href=\"#mc0884edaf1\" y=\"105.510663\"/>\r\n     <use style=\"fill:#1f77b4;stroke:#1f77b4;\" x=\"95.211139\" xlink:href=\"#mc0884edaf1\" y=\"153.532431\"/>\r\n     <use style=\"fill:#1f77b4;stroke:#1f77b4;\" x=\"95.516112\" xlink:href=\"#mc0884edaf1\" y=\"144.353389\"/>\r\n     <use style=\"fill:#1f77b4;stroke:#1f77b4;\" x=\"95.821086\" xlink:href=\"#mc0884edaf1\" y=\"173.03579\"/>\r\n     <use style=\"fill:#1f77b4;stroke:#1f77b4;\" x=\"96.12606\" xlink:href=\"#mc0884edaf1\" y=\"140.033788\"/>\r\n     <use style=\"fill:#1f77b4;stroke:#1f77b4;\" x=\"96.431033\" xlink:href=\"#mc0884edaf1\" y=\"141.97619\"/>\r\n     <use style=\"fill:#1f77b4;stroke:#1f77b4;\" x=\"96.736007\" xlink:href=\"#mc0884edaf1\" y=\"133.836716\"/>\r\n     <use style=\"fill:#1f77b4;stroke:#1f77b4;\" x=\"97.04098\" xlink:href=\"#mc0884edaf1\" y=\"71.889042\"/>\r\n     <use style=\"fill:#1f77b4;stroke:#1f77b4;\" x=\"97.345954\" xlink:href=\"#mc0884edaf1\" y=\"144.492338\"/>\r\n     <use style=\"fill:#1f77b4;stroke:#1f77b4;\" x=\"97.650927\" xlink:href=\"#mc0884edaf1\" y=\"163.960904\"/>\r\n     <use style=\"fill:#1f77b4;stroke:#1f77b4;\" x=\"97.955901\" xlink:href=\"#mc0884edaf1\" y=\"86.884654\"/>\r\n     <use style=\"fill:#1f77b4;stroke:#1f77b4;\" x=\"98.260875\" xlink:href=\"#mc0884edaf1\" y=\"79.718707\"/>\r\n     <use style=\"fill:#1f77b4;stroke:#1f77b4;\" x=\"98.565848\" xlink:href=\"#mc0884edaf1\" y=\"117.054272\"/>\r\n     <use style=\"fill:#1f77b4;stroke:#1f77b4;\" x=\"98.870822\" xlink:href=\"#mc0884edaf1\" y=\"125.562282\"/>\r\n     <use style=\"fill:#1f77b4;stroke:#1f77b4;\" x=\"99.175795\" xlink:href=\"#mc0884edaf1\" y=\"93.572811\"/>\r\n     <use style=\"fill:#1f77b4;stroke:#1f77b4;\" x=\"99.480769\" xlink:href=\"#mc0884edaf1\" y=\"90.969349\"/>\r\n     <use style=\"fill:#1f77b4;stroke:#1f77b4;\" x=\"99.785743\" xlink:href=\"#mc0884edaf1\" y=\"21.141041\"/>\r\n     <use style=\"fill:#1f77b4;stroke:#1f77b4;\" x=\"100.090716\" xlink:href=\"#mc0884edaf1\" y=\"137.376254\"/>\r\n     <use style=\"fill:#1f77b4;stroke:#1f77b4;\" x=\"100.39569\" xlink:href=\"#mc0884edaf1\" y=\"140.451964\"/>\r\n     <use style=\"fill:#1f77b4;stroke:#1f77b4;\" x=\"100.700663\" xlink:href=\"#mc0884edaf1\" y=\"154.136537\"/>\r\n     <use style=\"fill:#1f77b4;stroke:#1f77b4;\" x=\"101.005637\" xlink:href=\"#mc0884edaf1\" y=\"141.723334\"/>\r\n     <use style=\"fill:#1f77b4;stroke:#1f77b4;\" x=\"101.31061\" xlink:href=\"#mc0884edaf1\" y=\"84.587899\"/>\r\n     <use style=\"fill:#1f77b4;stroke:#1f77b4;\" x=\"101.615584\" xlink:href=\"#mc0884edaf1\" y=\"101.810015\"/>\r\n     <use style=\"fill:#1f77b4;stroke:#1f77b4;\" x=\"101.920558\" xlink:href=\"#mc0884edaf1\" y=\"118.40254\"/>\r\n     <use style=\"fill:#1f77b4;stroke:#1f77b4;\" x=\"102.225531\" xlink:href=\"#mc0884edaf1\" y=\"82.342779\"/>\r\n     <use style=\"fill:#1f77b4;stroke:#1f77b4;\" x=\"102.530505\" xlink:href=\"#mc0884edaf1\" y=\"76.117119\"/>\r\n     <use style=\"fill:#1f77b4;stroke:#1f77b4;\" x=\"102.835478\" xlink:href=\"#mc0884edaf1\" y=\"56.902738\"/>\r\n     <use style=\"fill:#1f77b4;stroke:#1f77b4;\" x=\"103.140452\" xlink:href=\"#mc0884edaf1\" y=\"136.143222\"/>\r\n     <use style=\"fill:#1f77b4;stroke:#1f77b4;\" x=\"103.445426\" xlink:href=\"#mc0884edaf1\" y=\"154.657983\"/>\r\n     <use style=\"fill:#1f77b4;stroke:#1f77b4;\" x=\"103.750399\" xlink:href=\"#mc0884edaf1\" y=\"88.115248\"/>\r\n     <use style=\"fill:#1f77b4;stroke:#1f77b4;\" x=\"104.055373\" xlink:href=\"#mc0884edaf1\" y=\"153.674482\"/>\r\n     <use style=\"fill:#1f77b4;stroke:#1f77b4;\" x=\"104.360346\" xlink:href=\"#mc0884edaf1\" y=\"109.870597\"/>\r\n     <use style=\"fill:#1f77b4;stroke:#1f77b4;\" x=\"104.66532\" xlink:href=\"#mc0884edaf1\" y=\"157.124269\"/>\r\n     <use style=\"fill:#1f77b4;stroke:#1f77b4;\" x=\"104.970293\" xlink:href=\"#mc0884edaf1\" y=\"112.581539\"/>\r\n     <use style=\"fill:#1f77b4;stroke:#1f77b4;\" x=\"105.275267\" xlink:href=\"#mc0884edaf1\" y=\"159.678312\"/>\r\n     <use style=\"fill:#1f77b4;stroke:#1f77b4;\" x=\"105.580241\" xlink:href=\"#mc0884edaf1\" y=\"138.29726\"/>\r\n     <use style=\"fill:#1f77b4;stroke:#1f77b4;\" x=\"105.885214\" xlink:href=\"#mc0884edaf1\" y=\"119.854522\"/>\r\n     <use style=\"fill:#1f77b4;stroke:#1f77b4;\" x=\"106.190188\" xlink:href=\"#mc0884edaf1\" y=\"107.728746\"/>\r\n     <use style=\"fill:#1f77b4;stroke:#1f77b4;\" x=\"106.495161\" xlink:href=\"#mc0884edaf1\" y=\"135.514295\"/>\r\n     <use style=\"fill:#1f77b4;stroke:#1f77b4;\" x=\"106.800135\" xlink:href=\"#mc0884edaf1\" y=\"73.42457\"/>\r\n     <use style=\"fill:#1f77b4;stroke:#1f77b4;\" x=\"107.105109\" xlink:href=\"#mc0884edaf1\" y=\"163.438572\"/>\r\n     <use style=\"fill:#1f77b4;stroke:#1f77b4;\" x=\"107.410082\" xlink:href=\"#mc0884edaf1\" y=\"72.110873\"/>\r\n     <use style=\"fill:#1f77b4;stroke:#1f77b4;\" x=\"107.715056\" xlink:href=\"#mc0884edaf1\" y=\"101.108623\"/>\r\n     <use style=\"fill:#1f77b4;stroke:#1f77b4;\" x=\"108.020029\" xlink:href=\"#mc0884edaf1\" y=\"112.061644\"/>\r\n     <use style=\"fill:#1f77b4;stroke:#1f77b4;\" x=\"108.325003\" xlink:href=\"#mc0884edaf1\" y=\"92.043266\"/>\r\n     <use style=\"fill:#1f77b4;stroke:#1f77b4;\" x=\"108.629976\" xlink:href=\"#mc0884edaf1\" y=\"96.874784\"/>\r\n     <use style=\"fill:#1f77b4;stroke:#1f77b4;\" x=\"108.93495\" xlink:href=\"#mc0884edaf1\" y=\"111.87106\"/>\r\n     <use style=\"fill:#1f77b4;stroke:#1f77b4;\" x=\"109.239924\" xlink:href=\"#mc0884edaf1\" y=\"127.014485\"/>\r\n     <use style=\"fill:#1f77b4;stroke:#1f77b4;\" x=\"109.544897\" xlink:href=\"#mc0884edaf1\" y=\"66.131642\"/>\r\n     <use style=\"fill:#1f77b4;stroke:#1f77b4;\" x=\"109.849871\" xlink:href=\"#mc0884edaf1\" y=\"136.142557\"/>\r\n     <use style=\"fill:#1f77b4;stroke:#1f77b4;\" x=\"110.154844\" xlink:href=\"#mc0884edaf1\" y=\"141.303829\"/>\r\n     <use style=\"fill:#1f77b4;stroke:#1f77b4;\" x=\"110.459818\" xlink:href=\"#mc0884edaf1\" y=\"112.929021\"/>\r\n     <use style=\"fill:#1f77b4;stroke:#1f77b4;\" x=\"110.764792\" xlink:href=\"#mc0884edaf1\" y=\"68.42463\"/>\r\n     <use style=\"fill:#1f77b4;stroke:#1f77b4;\" x=\"111.069765\" xlink:href=\"#mc0884edaf1\" y=\"53.666805\"/>\r\n     <use style=\"fill:#1f77b4;stroke:#1f77b4;\" x=\"111.374739\" xlink:href=\"#mc0884edaf1\" y=\"135.623327\"/>\r\n     <use style=\"fill:#1f77b4;stroke:#1f77b4;\" x=\"111.679712\" xlink:href=\"#mc0884edaf1\" y=\"116.871666\"/>\r\n     <use style=\"fill:#1f77b4;stroke:#1f77b4;\" x=\"111.984686\" xlink:href=\"#mc0884edaf1\" y=\"140.665595\"/>\r\n     <use style=\"fill:#1f77b4;stroke:#1f77b4;\" x=\"112.289659\" xlink:href=\"#mc0884edaf1\" y=\"53.677442\"/>\r\n     <use style=\"fill:#1f77b4;stroke:#1f77b4;\" x=\"112.594633\" xlink:href=\"#mc0884edaf1\" y=\"110.505285\"/>\r\n     <use style=\"fill:#1f77b4;stroke:#1f77b4;\" x=\"112.899607\" xlink:href=\"#mc0884edaf1\" y=\"115.179903\"/>\r\n     <use style=\"fill:#1f77b4;stroke:#1f77b4;\" x=\"113.20458\" xlink:href=\"#mc0884edaf1\" y=\"129.972521\"/>\r\n     <use style=\"fill:#1f77b4;stroke:#1f77b4;\" x=\"113.509554\" xlink:href=\"#mc0884edaf1\" y=\"125.812921\"/>\r\n     <use style=\"fill:#1f77b4;stroke:#1f77b4;\" x=\"113.814527\" xlink:href=\"#mc0884edaf1\" y=\"134.322483\"/>\r\n     <use style=\"fill:#1f77b4;stroke:#1f77b4;\" x=\"114.119501\" xlink:href=\"#mc0884edaf1\" y=\"94.104008\"/>\r\n     <use style=\"fill:#1f77b4;stroke:#1f77b4;\" x=\"114.424475\" xlink:href=\"#mc0884edaf1\" y=\"125.70123\"/>\r\n     <use style=\"fill:#1f77b4;stroke:#1f77b4;\" x=\"114.729448\" xlink:href=\"#mc0884edaf1\" y=\"120.283114\"/>\r\n     <use style=\"fill:#1f77b4;stroke:#1f77b4;\" x=\"115.034422\" xlink:href=\"#mc0884edaf1\" y=\"103.963611\"/>\r\n     <use style=\"fill:#1f77b4;stroke:#1f77b4;\" x=\"115.339395\" xlink:href=\"#mc0884edaf1\" y=\"156.02398\"/>\r\n     <use style=\"fill:#1f77b4;stroke:#1f77b4;\" x=\"115.644369\" xlink:href=\"#mc0884edaf1\" y=\"150.344587\"/>\r\n     <use style=\"fill:#1f77b4;stroke:#1f77b4;\" x=\"115.949342\" xlink:href=\"#mc0884edaf1\" y=\"153.290434\"/>\r\n     <use style=\"fill:#1f77b4;stroke:#1f77b4;\" x=\"116.254316\" xlink:href=\"#mc0884edaf1\" y=\"106.447847\"/>\r\n     <use style=\"fill:#1f77b4;stroke:#1f77b4;\" x=\"116.55929\" xlink:href=\"#mc0884edaf1\" y=\"136.017569\"/>\r\n     <use style=\"fill:#1f77b4;stroke:#1f77b4;\" x=\"116.864263\" xlink:href=\"#mc0884edaf1\" y=\"181.582803\"/>\r\n     <use style=\"fill:#1f77b4;stroke:#1f77b4;\" x=\"117.169237\" xlink:href=\"#mc0884edaf1\" y=\"65.022711\"/>\r\n     <use style=\"fill:#1f77b4;stroke:#1f77b4;\" x=\"117.47421\" xlink:href=\"#mc0884edaf1\" y=\"72.972045\"/>\r\n     <use style=\"fill:#1f77b4;stroke:#1f77b4;\" x=\"117.779184\" xlink:href=\"#mc0884edaf1\" y=\"41.683967\"/>\r\n     <use style=\"fill:#1f77b4;stroke:#1f77b4;\" x=\"118.084158\" xlink:href=\"#mc0884edaf1\" y=\"145.129685\"/>\r\n     <use style=\"fill:#1f77b4;stroke:#1f77b4;\" x=\"118.389131\" xlink:href=\"#mc0884edaf1\" y=\"33.026149\"/>\r\n     <use style=\"fill:#1f77b4;stroke:#1f77b4;\" x=\"118.694105\" xlink:href=\"#mc0884edaf1\" y=\"80.644589\"/>\r\n     <use style=\"fill:#1f77b4;stroke:#1f77b4;\" x=\"118.999078\" xlink:href=\"#mc0884edaf1\" y=\"182.047295\"/>\r\n     <use style=\"fill:#1f77b4;stroke:#1f77b4;\" x=\"119.304052\" xlink:href=\"#mc0884edaf1\" y=\"20.464469\"/>\r\n     <use style=\"fill:#1f77b4;stroke:#1f77b4;\" x=\"119.609025\" xlink:href=\"#mc0884edaf1\" y=\"90.022414\"/>\r\n     <use style=\"fill:#1f77b4;stroke:#1f77b4;\" x=\"119.913999\" xlink:href=\"#mc0884edaf1\" y=\"118.189796\"/>\r\n     <use style=\"fill:#1f77b4;stroke:#1f77b4;\" x=\"120.218973\" xlink:href=\"#mc0884edaf1\" y=\"126.751214\"/>\r\n     <use style=\"fill:#1f77b4;stroke:#1f77b4;\" x=\"120.523946\" xlink:href=\"#mc0884edaf1\" y=\"130.087758\"/>\r\n     <use style=\"fill:#1f77b4;stroke:#1f77b4;\" x=\"120.82892\" xlink:href=\"#mc0884edaf1\" y=\"147.912207\"/>\r\n     <use style=\"fill:#1f77b4;stroke:#1f77b4;\" x=\"121.133893\" xlink:href=\"#mc0884edaf1\" y=\"103.990868\"/>\r\n     <use style=\"fill:#1f77b4;stroke:#1f77b4;\" x=\"121.438867\" xlink:href=\"#mc0884edaf1\" y=\"132.236035\"/>\r\n     <use style=\"fill:#1f77b4;stroke:#1f77b4;\" x=\"121.743841\" xlink:href=\"#mc0884edaf1\" y=\"152.718683\"/>\r\n     <use style=\"fill:#1f77b4;stroke:#1f77b4;\" x=\"122.048814\" xlink:href=\"#mc0884edaf1\" y=\"53.390237\"/>\r\n     <use style=\"fill:#1f77b4;stroke:#1f77b4;\" x=\"122.353788\" xlink:href=\"#mc0884edaf1\" y=\"72.302121\"/>\r\n     <use style=\"fill:#1f77b4;stroke:#1f77b4;\" x=\"122.658761\" xlink:href=\"#mc0884edaf1\" y=\"132.592382\"/>\r\n     <use style=\"fill:#1f77b4;stroke:#1f77b4;\" x=\"122.963735\" xlink:href=\"#mc0884edaf1\" y=\"132.354595\"/>\r\n     <use style=\"fill:#1f77b4;stroke:#1f77b4;\" x=\"123.268708\" xlink:href=\"#mc0884edaf1\" y=\"154.428618\"/>\r\n     <use style=\"fill:#1f77b4;stroke:#1f77b4;\" x=\"123.573682\" xlink:href=\"#mc0884edaf1\" y=\"61.00472\"/>\r\n     <use style=\"fill:#1f77b4;stroke:#1f77b4;\" x=\"123.878656\" xlink:href=\"#mc0884edaf1\" y=\"106.168841\"/>\r\n     <use style=\"fill:#1f77b4;stroke:#1f77b4;\" x=\"124.183629\" xlink:href=\"#mc0884edaf1\" y=\"121.882909\"/>\r\n     <use style=\"fill:#1f77b4;stroke:#1f77b4;\" x=\"124.488603\" xlink:href=\"#mc0884edaf1\" y=\"98.220394\"/>\r\n     <use style=\"fill:#1f77b4;stroke:#1f77b4;\" x=\"124.793576\" xlink:href=\"#mc0884edaf1\" y=\"98.239009\"/>\r\n     <use style=\"fill:#1f77b4;stroke:#1f77b4;\" x=\"125.09855\" xlink:href=\"#mc0884edaf1\" y=\"61.798744\"/>\r\n     <use style=\"fill:#1f77b4;stroke:#1f77b4;\" x=\"125.403524\" xlink:href=\"#mc0884edaf1\" y=\"127.163185\"/>\r\n     <use style=\"fill:#1f77b4;stroke:#1f77b4;\" x=\"125.708497\" xlink:href=\"#mc0884edaf1\" y=\"124.643048\"/>\r\n     <use style=\"fill:#1f77b4;stroke:#1f77b4;\" x=\"126.013471\" xlink:href=\"#mc0884edaf1\" y=\"85.0371\"/>\r\n     <use style=\"fill:#1f77b4;stroke:#1f77b4;\" x=\"126.318444\" xlink:href=\"#mc0884edaf1\" y=\"132.748838\"/>\r\n     <use style=\"fill:#1f77b4;stroke:#1f77b4;\" x=\"126.623418\" xlink:href=\"#mc0884edaf1\" y=\"48.817337\"/>\r\n     <use style=\"fill:#1f77b4;stroke:#1f77b4;\" x=\"126.928391\" xlink:href=\"#mc0884edaf1\" y=\"192.499924\"/>\r\n     <use style=\"fill:#1f77b4;stroke:#1f77b4;\" x=\"127.233365\" xlink:href=\"#mc0884edaf1\" y=\"131.950159\"/>\r\n     <use style=\"fill:#1f77b4;stroke:#1f77b4;\" x=\"127.538339\" xlink:href=\"#mc0884edaf1\" y=\"120.44932\"/>\r\n     <use style=\"fill:#1f77b4;stroke:#1f77b4;\" x=\"127.843312\" xlink:href=\"#mc0884edaf1\" y=\"143.743078\"/>\r\n     <use style=\"fill:#1f77b4;stroke:#1f77b4;\" x=\"128.148286\" xlink:href=\"#mc0884edaf1\" y=\"163.656192\"/>\r\n     <use style=\"fill:#1f77b4;stroke:#1f77b4;\" x=\"128.453259\" xlink:href=\"#mc0884edaf1\" y=\"76.321221\"/>\r\n     <use style=\"fill:#1f77b4;stroke:#1f77b4;\" x=\"128.758233\" xlink:href=\"#mc0884edaf1\" y=\"142.21309\"/>\r\n     <use style=\"fill:#1f77b4;stroke:#1f77b4;\" x=\"129.063207\" xlink:href=\"#mc0884edaf1\" y=\"117.472669\"/>\r\n     <use style=\"fill:#1f77b4;stroke:#1f77b4;\" x=\"129.36818\" xlink:href=\"#mc0884edaf1\" y=\"90.418651\"/>\r\n     <use style=\"fill:#1f77b4;stroke:#1f77b4;\" x=\"129.673154\" xlink:href=\"#mc0884edaf1\" y=\"123.519491\"/>\r\n     <use style=\"fill:#1f77b4;stroke:#1f77b4;\" x=\"129.978127\" xlink:href=\"#mc0884edaf1\" y=\"85.485193\"/>\r\n     <use style=\"fill:#1f77b4;stroke:#1f77b4;\" x=\"130.283101\" xlink:href=\"#mc0884edaf1\" y=\"152.225825\"/>\r\n     <use style=\"fill:#1f77b4;stroke:#1f77b4;\" x=\"130.588074\" xlink:href=\"#mc0884edaf1\" y=\"155.070175\"/>\r\n     <use style=\"fill:#1f77b4;stroke:#1f77b4;\" x=\"130.893048\" xlink:href=\"#mc0884edaf1\" y=\"126.780244\"/>\r\n     <use style=\"fill:#1f77b4;stroke:#1f77b4;\" x=\"131.198022\" xlink:href=\"#mc0884edaf1\" y=\"175.984518\"/>\r\n     <use style=\"fill:#1f77b4;stroke:#1f77b4;\" x=\"131.502995\" xlink:href=\"#mc0884edaf1\" y=\"150.091509\"/>\r\n     <use style=\"fill:#1f77b4;stroke:#1f77b4;\" x=\"131.807969\" xlink:href=\"#mc0884edaf1\" y=\"77.237574\"/>\r\n     <use style=\"fill:#1f77b4;stroke:#1f77b4;\" x=\"132.112942\" xlink:href=\"#mc0884edaf1\" y=\"93.587437\"/>\r\n     <use style=\"fill:#1f77b4;stroke:#1f77b4;\" x=\"132.417916\" xlink:href=\"#mc0884edaf1\" y=\"180.498249\"/>\r\n     <use style=\"fill:#1f77b4;stroke:#1f77b4;\" x=\"132.72289\" xlink:href=\"#mc0884edaf1\" y=\"96.44996\"/>\r\n     <use style=\"fill:#1f77b4;stroke:#1f77b4;\" x=\"133.027863\" xlink:href=\"#mc0884edaf1\" y=\"78.008994\"/>\r\n     <use style=\"fill:#1f77b4;stroke:#1f77b4;\" x=\"133.332837\" xlink:href=\"#mc0884edaf1\" y=\"147.853924\"/>\r\n     <use style=\"fill:#1f77b4;stroke:#1f77b4;\" x=\"133.63781\" xlink:href=\"#mc0884edaf1\" y=\"98.518236\"/>\r\n     <use style=\"fill:#1f77b4;stroke:#1f77b4;\" x=\"133.942784\" xlink:href=\"#mc0884edaf1\" y=\"94.1993\"/>\r\n     <use style=\"fill:#1f77b4;stroke:#1f77b4;\" x=\"134.247757\" xlink:href=\"#mc0884edaf1\" y=\"80.095221\"/>\r\n     <use style=\"fill:#1f77b4;stroke:#1f77b4;\" x=\"134.552731\" xlink:href=\"#mc0884edaf1\" y=\"133.601367\"/>\r\n     <use style=\"fill:#1f77b4;stroke:#1f77b4;\" x=\"134.857705\" xlink:href=\"#mc0884edaf1\" y=\"127.866128\"/>\r\n     <use style=\"fill:#1f77b4;stroke:#1f77b4;\" x=\"135.162678\" xlink:href=\"#mc0884edaf1\" y=\"167.342435\"/>\r\n     <use style=\"fill:#1f77b4;stroke:#1f77b4;\" x=\"135.467652\" xlink:href=\"#mc0884edaf1\" y=\"131.916474\"/>\r\n     <use style=\"fill:#1f77b4;stroke:#1f77b4;\" x=\"135.772625\" xlink:href=\"#mc0884edaf1\" y=\"68.788512\"/>\r\n     <use style=\"fill:#1f77b4;stroke:#1f77b4;\" x=\"136.077599\" xlink:href=\"#mc0884edaf1\" y=\"190.915198\"/>\r\n     <use style=\"fill:#1f77b4;stroke:#1f77b4;\" x=\"136.382573\" xlink:href=\"#mc0884edaf1\" y=\"131.827609\"/>\r\n     <use style=\"fill:#1f77b4;stroke:#1f77b4;\" x=\"136.687546\" xlink:href=\"#mc0884edaf1\" y=\"117.137597\"/>\r\n     <use style=\"fill:#1f77b4;stroke:#1f77b4;\" x=\"136.99252\" xlink:href=\"#mc0884edaf1\" y=\"157.596074\"/>\r\n     <use style=\"fill:#1f77b4;stroke:#1f77b4;\" x=\"137.297493\" xlink:href=\"#mc0884edaf1\" y=\"87.904498\"/>\r\n     <use style=\"fill:#1f77b4;stroke:#1f77b4;\" x=\"137.602467\" xlink:href=\"#mc0884edaf1\" y=\"121.839916\"/>\r\n     <use style=\"fill:#1f77b4;stroke:#1f77b4;\" x=\"137.90744\" xlink:href=\"#mc0884edaf1\" y=\"99.778083\"/>\r\n     <use style=\"fill:#1f77b4;stroke:#1f77b4;\" x=\"138.212414\" xlink:href=\"#mc0884edaf1\" y=\"124.882164\"/>\r\n     <use style=\"fill:#1f77b4;stroke:#1f77b4;\" x=\"138.517388\" xlink:href=\"#mc0884edaf1\" y=\"69.352063\"/>\r\n     <use style=\"fill:#1f77b4;stroke:#1f77b4;\" x=\"138.822361\" xlink:href=\"#mc0884edaf1\" y=\"153.707059\"/>\r\n     <use style=\"fill:#1f77b4;stroke:#1f77b4;\" x=\"139.127335\" xlink:href=\"#mc0884edaf1\" y=\"99.809994\"/>\r\n     <use style=\"fill:#1f77b4;stroke:#1f77b4;\" x=\"139.432308\" xlink:href=\"#mc0884edaf1\" y=\"116.797205\"/>\r\n     <use style=\"fill:#1f77b4;stroke:#1f77b4;\" x=\"139.737282\" xlink:href=\"#mc0884edaf1\" y=\"84.298477\"/>\r\n     <use style=\"fill:#1f77b4;stroke:#1f77b4;\" x=\"140.042256\" xlink:href=\"#mc0884edaf1\" y=\"155.727689\"/>\r\n     <use style=\"fill:#1f77b4;stroke:#1f77b4;\" x=\"140.347229\" xlink:href=\"#mc0884edaf1\" y=\"154.78563\"/>\r\n     <use style=\"fill:#1f77b4;stroke:#1f77b4;\" x=\"140.652203\" xlink:href=\"#mc0884edaf1\" y=\"135.810365\"/>\r\n     <use style=\"fill:#1f77b4;stroke:#1f77b4;\" x=\"140.957176\" xlink:href=\"#mc0884edaf1\" y=\"117.727741\"/>\r\n     <use style=\"fill:#1f77b4;stroke:#1f77b4;\" x=\"141.26215\" xlink:href=\"#mc0884edaf1\" y=\"125.746439\"/>\r\n     <use style=\"fill:#1f77b4;stroke:#1f77b4;\" x=\"141.567123\" xlink:href=\"#mc0884edaf1\" y=\"181.167508\"/>\r\n     <use style=\"fill:#1f77b4;stroke:#1f77b4;\" x=\"141.872097\" xlink:href=\"#mc0884edaf1\" y=\"133.486574\"/>\r\n     <use style=\"fill:#1f77b4;stroke:#1f77b4;\" x=\"142.177071\" xlink:href=\"#mc0884edaf1\" y=\"125.629651\"/>\r\n     <use style=\"fill:#1f77b4;stroke:#1f77b4;\" x=\"142.482044\" xlink:href=\"#mc0884edaf1\" y=\"118.825813\"/>\r\n     <use style=\"fill:#1f77b4;stroke:#1f77b4;\" x=\"142.787018\" xlink:href=\"#mc0884edaf1\" y=\"176.505299\"/>\r\n     <use style=\"fill:#1f77b4;stroke:#1f77b4;\" x=\"143.091991\" xlink:href=\"#mc0884edaf1\" y=\"87.547486\"/>\r\n     <use style=\"fill:#1f77b4;stroke:#1f77b4;\" x=\"143.396965\" xlink:href=\"#mc0884edaf1\" y=\"90.61544\"/>\r\n     <use style=\"fill:#1f77b4;stroke:#1f77b4;\" x=\"143.701939\" xlink:href=\"#mc0884edaf1\" y=\"122.448676\"/>\r\n     <use style=\"fill:#1f77b4;stroke:#1f77b4;\" x=\"144.006912\" xlink:href=\"#mc0884edaf1\" y=\"101.06696\"/>\r\n     <use style=\"fill:#1f77b4;stroke:#1f77b4;\" x=\"144.311886\" xlink:href=\"#mc0884edaf1\" y=\"135.732359\"/>\r\n     <use style=\"fill:#1f77b4;stroke:#1f77b4;\" x=\"144.616859\" xlink:href=\"#mc0884edaf1\" y=\"148.247058\"/>\r\n     <use style=\"fill:#1f77b4;stroke:#1f77b4;\" x=\"144.921833\" xlink:href=\"#mc0884edaf1\" y=\"123.095996\"/>\r\n     <use style=\"fill:#1f77b4;stroke:#1f77b4;\" x=\"145.226806\" xlink:href=\"#mc0884edaf1\" y=\"148.346117\"/>\r\n     <use style=\"fill:#1f77b4;stroke:#1f77b4;\" x=\"145.53178\" xlink:href=\"#mc0884edaf1\" y=\"171.716109\"/>\r\n     <use style=\"fill:#1f77b4;stroke:#1f77b4;\" x=\"145.836754\" xlink:href=\"#mc0884edaf1\" y=\"108.13008\"/>\r\n     <use style=\"fill:#1f77b4;stroke:#1f77b4;\" x=\"146.141727\" xlink:href=\"#mc0884edaf1\" y=\"138.026676\"/>\r\n     <use style=\"fill:#1f77b4;stroke:#1f77b4;\" x=\"146.446701\" xlink:href=\"#mc0884edaf1\" y=\"58.851346\"/>\r\n     <use style=\"fill:#1f77b4;stroke:#1f77b4;\" x=\"146.751674\" xlink:href=\"#mc0884edaf1\" y=\"110.422846\"/>\r\n     <use style=\"fill:#1f77b4;stroke:#1f77b4;\" x=\"147.056648\" xlink:href=\"#mc0884edaf1\" y=\"111.325681\"/>\r\n     <use style=\"fill:#1f77b4;stroke:#1f77b4;\" x=\"147.361622\" xlink:href=\"#mc0884edaf1\" y=\"192.678097\"/>\r\n     <use style=\"fill:#1f77b4;stroke:#1f77b4;\" x=\"147.666595\" xlink:href=\"#mc0884edaf1\" y=\"154.030386\"/>\r\n     <use style=\"fill:#1f77b4;stroke:#1f77b4;\" x=\"147.971569\" xlink:href=\"#mc0884edaf1\" y=\"59.45523\"/>\r\n     <use style=\"fill:#1f77b4;stroke:#1f77b4;\" x=\"148.276542\" xlink:href=\"#mc0884edaf1\" y=\"87.10449\"/>\r\n     <use style=\"fill:#1f77b4;stroke:#1f77b4;\" x=\"148.581516\" xlink:href=\"#mc0884edaf1\" y=\"95.483745\"/>\r\n     <use style=\"fill:#1f77b4;stroke:#1f77b4;\" x=\"148.886489\" xlink:href=\"#mc0884edaf1\" y=\"129.657393\"/>\r\n     <use style=\"fill:#1f77b4;stroke:#1f77b4;\" x=\"149.191463\" xlink:href=\"#mc0884edaf1\" y=\"124.504321\"/>\r\n     <use style=\"fill:#1f77b4;stroke:#1f77b4;\" x=\"149.496437\" xlink:href=\"#mc0884edaf1\" y=\"157.751643\"/>\r\n     <use style=\"fill:#1f77b4;stroke:#1f77b4;\" x=\"149.80141\" xlink:href=\"#mc0884edaf1\" y=\"144.24325\"/>\r\n     <use style=\"fill:#1f77b4;stroke:#1f77b4;\" x=\"150.106384\" xlink:href=\"#mc0884edaf1\" y=\"139.531844\"/>\r\n     <use style=\"fill:#1f77b4;stroke:#1f77b4;\" x=\"150.411357\" xlink:href=\"#mc0884edaf1\" y=\"158.047491\"/>\r\n     <use style=\"fill:#1f77b4;stroke:#1f77b4;\" x=\"150.716331\" xlink:href=\"#mc0884edaf1\" y=\"117.709126\"/>\r\n     <use style=\"fill:#1f77b4;stroke:#1f77b4;\" x=\"151.021305\" xlink:href=\"#mc0884edaf1\" y=\"146.107424\"/>\r\n     <use style=\"fill:#1f77b4;stroke:#1f77b4;\" x=\"151.326278\" xlink:href=\"#mc0884edaf1\" y=\"96.545917\"/>\r\n     <use style=\"fill:#1f77b4;stroke:#1f77b4;\" x=\"151.631252\" xlink:href=\"#mc0884edaf1\" y=\"140.232128\"/>\r\n     <use style=\"fill:#1f77b4;stroke:#1f77b4;\" x=\"151.936225\" xlink:href=\"#mc0884edaf1\" y=\"98.325215\"/>\r\n     <use style=\"fill:#1f77b4;stroke:#1f77b4;\" x=\"152.241199\" xlink:href=\"#mc0884edaf1\" y=\"118.689302\"/>\r\n     <use style=\"fill:#1f77b4;stroke:#1f77b4;\" x=\"152.546172\" xlink:href=\"#mc0884edaf1\" y=\"115.567719\"/>\r\n     <use style=\"fill:#1f77b4;stroke:#1f77b4;\" x=\"152.851146\" xlink:href=\"#mc0884edaf1\" y=\"125.669984\"/>\r\n     <use style=\"fill:#1f77b4;stroke:#1f77b4;\" x=\"153.15612\" xlink:href=\"#mc0884edaf1\" y=\"108.998122\"/>\r\n     <use style=\"fill:#1f77b4;stroke:#1f77b4;\" x=\"153.461093\" xlink:href=\"#mc0884edaf1\" y=\"103.847709\"/>\r\n     <use style=\"fill:#1f77b4;stroke:#1f77b4;\" x=\"153.766067\" xlink:href=\"#mc0884edaf1\" y=\"160.322085\"/>\r\n     <use style=\"fill:#1f77b4;stroke:#1f77b4;\" x=\"154.07104\" xlink:href=\"#mc0884edaf1\" y=\"115.761184\"/>\r\n     <use style=\"fill:#1f77b4;stroke:#1f77b4;\" x=\"154.376014\" xlink:href=\"#mc0884edaf1\" y=\"126.228438\"/>\r\n     <use style=\"fill:#1f77b4;stroke:#1f77b4;\" x=\"154.680988\" xlink:href=\"#mc0884edaf1\" y=\"80.69157\"/>\r\n     <use style=\"fill:#1f77b4;stroke:#1f77b4;\" x=\"154.985961\" xlink:href=\"#mc0884edaf1\" y=\"85.58536\"/>\r\n     <use style=\"fill:#1f77b4;stroke:#1f77b4;\" x=\"155.290935\" xlink:href=\"#mc0884edaf1\" y=\"108.663493\"/>\r\n     <use style=\"fill:#1f77b4;stroke:#1f77b4;\" x=\"155.595908\" xlink:href=\"#mc0884edaf1\" y=\"132.943632\"/>\r\n     <use style=\"fill:#1f77b4;stroke:#1f77b4;\" x=\"155.900882\" xlink:href=\"#mc0884edaf1\" y=\"181.099695\"/>\r\n     <use style=\"fill:#1f77b4;stroke:#1f77b4;\" x=\"156.205855\" xlink:href=\"#mc0884edaf1\" y=\"129.585592\"/>\r\n     <use style=\"fill:#1f77b4;stroke:#1f77b4;\" x=\"156.510829\" xlink:href=\"#mc0884edaf1\" y=\"79.812669\"/>\r\n     <use style=\"fill:#1f77b4;stroke:#1f77b4;\" x=\"156.815803\" xlink:href=\"#mc0884edaf1\" y=\"139.364307\"/>\r\n     <use style=\"fill:#1f77b4;stroke:#1f77b4;\" x=\"157.120776\" xlink:href=\"#mc0884edaf1\" y=\"71.512307\"/>\r\n     <use style=\"fill:#1f77b4;stroke:#1f77b4;\" x=\"157.42575\" xlink:href=\"#mc0884edaf1\" y=\"166.45755\"/>\r\n     <use style=\"fill:#1f77b4;stroke:#1f77b4;\" x=\"157.730723\" xlink:href=\"#mc0884edaf1\" y=\"129.532406\"/>\r\n     <use style=\"fill:#1f77b4;stroke:#1f77b4;\" x=\"158.035697\" xlink:href=\"#mc0884edaf1\" y=\"122.750286\"/>\r\n     <use style=\"fill:#1f77b4;stroke:#1f77b4;\" x=\"158.340671\" xlink:href=\"#mc0884edaf1\" y=\"108.383601\"/>\r\n     <use style=\"fill:#1f77b4;stroke:#1f77b4;\" x=\"158.645644\" xlink:href=\"#mc0884edaf1\" y=\"67.820524\"/>\r\n     <use style=\"fill:#1f77b4;stroke:#1f77b4;\" x=\"158.950618\" xlink:href=\"#mc0884edaf1\" y=\"110.807338\"/>\r\n     <use style=\"fill:#1f77b4;stroke:#1f77b4;\" x=\"159.255591\" xlink:href=\"#mc0884edaf1\" y=\"68.952724\"/>\r\n     <use style=\"fill:#1f77b4;stroke:#1f77b4;\" x=\"159.560565\" xlink:href=\"#mc0884edaf1\" y=\"111.97433\"/>\r\n     <use style=\"fill:#1f77b4;stroke:#1f77b4;\" x=\"159.865538\" xlink:href=\"#mc0884edaf1\" y=\"132.318473\"/>\r\n     <use style=\"fill:#1f77b4;stroke:#1f77b4;\" x=\"160.170512\" xlink:href=\"#mc0884edaf1\" y=\"72.06367\"/>\r\n     <use style=\"fill:#1f77b4;stroke:#1f77b4;\" x=\"160.475486\" xlink:href=\"#mc0884edaf1\" y=\"84.165955\"/>\r\n     <use style=\"fill:#1f77b4;stroke:#1f77b4;\" x=\"160.780459\" xlink:href=\"#mc0884edaf1\" y=\"137.95975\"/>\r\n     <use style=\"fill:#1f77b4;stroke:#1f77b4;\" x=\"161.085433\" xlink:href=\"#mc0884edaf1\" y=\"162.902057\"/>\r\n     <use style=\"fill:#1f77b4;stroke:#1f77b4;\" x=\"161.390406\" xlink:href=\"#mc0884edaf1\" y=\"127.012712\"/>\r\n     <use style=\"fill:#1f77b4;stroke:#1f77b4;\" x=\"161.69538\" xlink:href=\"#mc0884edaf1\" y=\"162.554131\"/>\r\n     <use style=\"fill:#1f77b4;stroke:#1f77b4;\" x=\"162.000354\" xlink:href=\"#mc0884edaf1\" y=\"134.611461\"/>\r\n     <use style=\"fill:#1f77b4;stroke:#1f77b4;\" x=\"162.305327\" xlink:href=\"#mc0884edaf1\" y=\"108.572855\"/>\r\n     <use style=\"fill:#1f77b4;stroke:#1f77b4;\" x=\"162.610301\" xlink:href=\"#mc0884edaf1\" y=\"168.528264\"/>\r\n     <use style=\"fill:#1f77b4;stroke:#1f77b4;\" x=\"162.915274\" xlink:href=\"#mc0884edaf1\" y=\"154.826849\"/>\r\n     <use style=\"fill:#1f77b4;stroke:#1f77b4;\" x=\"163.220248\" xlink:href=\"#mc0884edaf1\" y=\"56.946174\"/>\r\n     <use style=\"fill:#1f77b4;stroke:#1f77b4;\" x=\"163.525221\" xlink:href=\"#mc0884edaf1\" y=\"80.51517\"/>\r\n     <use style=\"fill:#1f77b4;stroke:#1f77b4;\" x=\"163.830195\" xlink:href=\"#mc0884edaf1\" y=\"152.887771\"/>\r\n     <use style=\"fill:#1f77b4;stroke:#1f77b4;\" x=\"164.135169\" xlink:href=\"#mc0884edaf1\" y=\"91.248577\"/>\r\n     <use style=\"fill:#1f77b4;stroke:#1f77b4;\" x=\"164.440142\" xlink:href=\"#mc0884edaf1\" y=\"93.903008\"/>\r\n     <use style=\"fill:#1f77b4;stroke:#1f77b4;\" x=\"164.745116\" xlink:href=\"#mc0884edaf1\" y=\"101.116157\"/>\r\n     <use style=\"fill:#1f77b4;stroke:#1f77b4;\" x=\"165.050089\" xlink:href=\"#mc0884edaf1\" y=\"109.638572\"/>\r\n     <use style=\"fill:#1f77b4;stroke:#1f77b4;\" x=\"165.355063\" xlink:href=\"#mc0884edaf1\" y=\"114.935912\"/>\r\n     <use style=\"fill:#1f77b4;stroke:#1f77b4;\" x=\"165.660037\" xlink:href=\"#mc0884edaf1\" y=\"110.612543\"/>\r\n     <use style=\"fill:#1f77b4;stroke:#1f77b4;\" x=\"165.96501\" xlink:href=\"#mc0884edaf1\" y=\"143.865406\"/>\r\n     <use style=\"fill:#1f77b4;stroke:#1f77b4;\" x=\"166.269984\" xlink:href=\"#mc0884edaf1\" y=\"113.388638\"/>\r\n     <use style=\"fill:#1f77b4;stroke:#1f77b4;\" x=\"166.574957\" xlink:href=\"#mc0884edaf1\" y=\"46.823743\"/>\r\n     <use style=\"fill:#1f77b4;stroke:#1f77b4;\" x=\"166.879931\" xlink:href=\"#mc0884edaf1\" y=\"126.7962\"/>\r\n     <use style=\"fill:#1f77b4;stroke:#1f77b4;\" x=\"167.184904\" xlink:href=\"#mc0884edaf1\" y=\"103.157397\"/>\r\n     <use style=\"fill:#1f77b4;stroke:#1f77b4;\" x=\"167.489878\" xlink:href=\"#mc0884edaf1\" y=\"135.829867\"/>\r\n     <use style=\"fill:#1f77b4;stroke:#1f77b4;\" x=\"167.794852\" xlink:href=\"#mc0884edaf1\" y=\"144.700872\"/>\r\n     <use style=\"fill:#1f77b4;stroke:#1f77b4;\" x=\"168.099825\" xlink:href=\"#mc0884edaf1\" y=\"95.217814\"/>\r\n     <use style=\"fill:#1f77b4;stroke:#1f77b4;\" x=\"168.404799\" xlink:href=\"#mc0884edaf1\" y=\"111.330556\"/>\r\n     <use style=\"fill:#1f77b4;stroke:#1f77b4;\" x=\"168.709772\" xlink:href=\"#mc0884edaf1\" y=\"161.766089\"/>\r\n     <use style=\"fill:#1f77b4;stroke:#1f77b4;\" x=\"169.014746\" xlink:href=\"#mc0884edaf1\" y=\"127.746016\"/>\r\n     <use style=\"fill:#1f77b4;stroke:#1f77b4;\" x=\"169.31972\" xlink:href=\"#mc0884edaf1\" y=\"156.551188\"/>\r\n     <use style=\"fill:#1f77b4;stroke:#1f77b4;\" x=\"169.624693\" xlink:href=\"#mc0884edaf1\" y=\"176.984418\"/>\r\n     <use style=\"fill:#1f77b4;stroke:#1f77b4;\" x=\"169.929667\" xlink:href=\"#mc0884edaf1\" y=\"173.3733\"/>\r\n     <use style=\"fill:#1f77b4;stroke:#1f77b4;\" x=\"170.23464\" xlink:href=\"#mc0884edaf1\" y=\"97.647091\"/>\r\n     <use style=\"fill:#1f77b4;stroke:#1f77b4;\" x=\"170.539614\" xlink:href=\"#mc0884edaf1\" y=\"102.973905\"/>\r\n     <use style=\"fill:#1f77b4;stroke:#1f77b4;\" x=\"170.844587\" xlink:href=\"#mc0884edaf1\" y=\"112.289236\"/>\r\n     <use style=\"fill:#1f77b4;stroke:#1f77b4;\" x=\"171.149561\" xlink:href=\"#mc0884edaf1\" y=\"109.805\"/>\r\n     <use style=\"fill:#1f77b4;stroke:#1f77b4;\" x=\"171.454535\" xlink:href=\"#mc0884edaf1\" y=\"140.282433\"/>\r\n     <use style=\"fill:#1f77b4;stroke:#1f77b4;\" x=\"171.759508\" xlink:href=\"#mc0884edaf1\" y=\"106.696714\"/>\r\n     <use style=\"fill:#1f77b4;stroke:#1f77b4;\" x=\"172.064482\" xlink:href=\"#mc0884edaf1\" y=\"103.841061\"/>\r\n     <use style=\"fill:#1f77b4;stroke:#1f77b4;\" x=\"172.369455\" xlink:href=\"#mc0884edaf1\" y=\"168.678958\"/>\r\n     <use style=\"fill:#1f77b4;stroke:#1f77b4;\" x=\"172.674429\" xlink:href=\"#mc0884edaf1\" y=\"124.420331\"/>\r\n     <use style=\"fill:#1f77b4;stroke:#1f77b4;\" x=\"172.979403\" xlink:href=\"#mc0884edaf1\" y=\"92.570917\"/>\r\n     <use style=\"fill:#1f77b4;stroke:#1f77b4;\" x=\"173.284376\" xlink:href=\"#mc0884edaf1\" y=\"93.337684\"/>\r\n     <use style=\"fill:#1f77b4;stroke:#1f77b4;\" x=\"173.58935\" xlink:href=\"#mc0884edaf1\" y=\"213.715433\"/>\r\n     <use style=\"fill:#1f77b4;stroke:#1f77b4;\" x=\"173.894323\" xlink:href=\"#mc0884edaf1\" y=\"95.187454\"/>\r\n     <use style=\"fill:#1f77b4;stroke:#1f77b4;\" x=\"174.199297\" xlink:href=\"#mc0884edaf1\" y=\"106.675661\"/>\r\n     <use style=\"fill:#1f77b4;stroke:#1f77b4;\" x=\"174.50427\" xlink:href=\"#mc0884edaf1\" y=\"153.997588\"/>\r\n     <use style=\"fill:#1f77b4;stroke:#1f77b4;\" x=\"174.809244\" xlink:href=\"#mc0884edaf1\" y=\"142.008324\"/>\r\n     <use style=\"fill:#1f77b4;stroke:#1f77b4;\" x=\"175.114218\" xlink:href=\"#mc0884edaf1\" y=\"123.920824\"/>\r\n     <use style=\"fill:#1f77b4;stroke:#1f77b4;\" x=\"175.419191\" xlink:href=\"#mc0884edaf1\" y=\"87.018727\"/>\r\n     <use style=\"fill:#1f77b4;stroke:#1f77b4;\" x=\"175.724165\" xlink:href=\"#mc0884edaf1\" y=\"122.187178\"/>\r\n     <use style=\"fill:#1f77b4;stroke:#1f77b4;\" x=\"176.029138\" xlink:href=\"#mc0884edaf1\" y=\"152.783836\"/>\r\n     <use style=\"fill:#1f77b4;stroke:#1f77b4;\" x=\"176.334112\" xlink:href=\"#mc0884edaf1\" y=\"141.518789\"/>\r\n     <use style=\"fill:#1f77b4;stroke:#1f77b4;\" x=\"176.639086\" xlink:href=\"#mc0884edaf1\" y=\"100.421413\"/>\r\n     <use style=\"fill:#1f77b4;stroke:#1f77b4;\" x=\"176.944059\" xlink:href=\"#mc0884edaf1\" y=\"77.953149\"/>\r\n     <use style=\"fill:#1f77b4;stroke:#1f77b4;\" x=\"177.249033\" xlink:href=\"#mc0884edaf1\" y=\"103.13568\"/>\r\n     <use style=\"fill:#1f77b4;stroke:#1f77b4;\" x=\"177.554006\" xlink:href=\"#mc0884edaf1\" y=\"100.291107\"/>\r\n     <use style=\"fill:#1f77b4;stroke:#1f77b4;\" x=\"177.85898\" xlink:href=\"#mc0884edaf1\" y=\"100.460638\"/>\r\n     <use style=\"fill:#1f77b4;stroke:#1f77b4;\" x=\"178.163953\" xlink:href=\"#mc0884edaf1\" y=\"201.601624\"/>\r\n     <use style=\"fill:#1f77b4;stroke:#1f77b4;\" x=\"178.468927\" xlink:href=\"#mc0884edaf1\" y=\"124.568587\"/>\r\n     <use style=\"fill:#1f77b4;stroke:#1f77b4;\" x=\"178.773901\" xlink:href=\"#mc0884edaf1\" y=\"83.628775\"/>\r\n     <use style=\"fill:#1f77b4;stroke:#1f77b4;\" x=\"179.078874\" xlink:href=\"#mc0884edaf1\" y=\"111.677596\"/>\r\n     <use style=\"fill:#1f77b4;stroke:#1f77b4;\" x=\"179.383848\" xlink:href=\"#mc0884edaf1\" y=\"131.224168\"/>\r\n     <use style=\"fill:#1f77b4;stroke:#1f77b4;\" x=\"179.688821\" xlink:href=\"#mc0884edaf1\" y=\"70.515953\"/>\r\n     <use style=\"fill:#1f77b4;stroke:#1f77b4;\" x=\"179.993795\" xlink:href=\"#mc0884edaf1\" y=\"183.988589\"/>\r\n     <use style=\"fill:#1f77b4;stroke:#1f77b4;\" x=\"180.298769\" xlink:href=\"#mc0884edaf1\" y=\"84.744133\"/>\r\n     <use style=\"fill:#1f77b4;stroke:#1f77b4;\" x=\"180.603742\" xlink:href=\"#mc0884edaf1\" y=\"131.474808\"/>\r\n     <use style=\"fill:#1f77b4;stroke:#1f77b4;\" x=\"180.908716\" xlink:href=\"#mc0884edaf1\" y=\"140.768643\"/>\r\n     <use style=\"fill:#1f77b4;stroke:#1f77b4;\" x=\"181.213689\" xlink:href=\"#mc0884edaf1\" y=\"173.920674\"/>\r\n     <use style=\"fill:#1f77b4;stroke:#1f77b4;\" x=\"181.518663\" xlink:href=\"#mc0884edaf1\" y=\"154.097534\"/>\r\n     <use style=\"fill:#1f77b4;stroke:#1f77b4;\" x=\"181.823636\" xlink:href=\"#mc0884edaf1\" y=\"31.94647\"/>\r\n     <use style=\"fill:#1f77b4;stroke:#1f77b4;\" x=\"182.12861\" xlink:href=\"#mc0884edaf1\" y=\"155.389071\"/>\r\n     <use style=\"fill:#1f77b4;stroke:#1f77b4;\" x=\"182.433584\" xlink:href=\"#mc0884edaf1\" y=\"128.273002\"/>\r\n     <use style=\"fill:#1f77b4;stroke:#1f77b4;\" x=\"182.738557\" xlink:href=\"#mc0884edaf1\" y=\"109.823837\"/>\r\n     <use style=\"fill:#1f77b4;stroke:#1f77b4;\" x=\"183.043531\" xlink:href=\"#mc0884edaf1\" y=\"134.38276\"/>\r\n     <use style=\"fill:#1f77b4;stroke:#1f77b4;\" x=\"183.348504\" xlink:href=\"#mc0884edaf1\" y=\"127.588009\"/>\r\n     <use style=\"fill:#1f77b4;stroke:#1f77b4;\" x=\"183.653478\" xlink:href=\"#mc0884edaf1\" y=\"127.913109\"/>\r\n     <use style=\"fill:#1f77b4;stroke:#1f77b4;\" x=\"183.958452\" xlink:href=\"#mc0884edaf1\" y=\"95.215598\"/>\r\n     <use style=\"fill:#1f77b4;stroke:#1f77b4;\" x=\"184.263425\" xlink:href=\"#mc0884edaf1\" y=\"61.564061\"/>\r\n     <use style=\"fill:#1f77b4;stroke:#1f77b4;\" x=\"184.568399\" xlink:href=\"#mc0884edaf1\" y=\"145.44437\"/>\r\n     <use style=\"fill:#1f77b4;stroke:#1f77b4;\" x=\"184.873372\" xlink:href=\"#mc0884edaf1\" y=\"150.139377\"/>\r\n     <use style=\"fill:#1f77b4;stroke:#1f77b4;\" x=\"185.178346\" xlink:href=\"#mc0884edaf1\" y=\"133.649235\"/>\r\n     <use style=\"fill:#1f77b4;stroke:#1f77b4;\" x=\"185.483319\" xlink:href=\"#mc0884edaf1\" y=\"86.2657\"/>\r\n     <use style=\"fill:#1f77b4;stroke:#1f77b4;\" x=\"185.788293\" xlink:href=\"#mc0884edaf1\" y=\"103.047258\"/>\r\n     <use style=\"fill:#1f77b4;stroke:#1f77b4;\" x=\"186.093267\" xlink:href=\"#mc0884edaf1\" y=\"120.562563\"/>\r\n     <use style=\"fill:#1f77b4;stroke:#1f77b4;\" x=\"186.39824\" xlink:href=\"#mc0884edaf1\" y=\"139.007295\"/>\r\n     <use style=\"fill:#1f77b4;stroke:#1f77b4;\" x=\"186.703214\" xlink:href=\"#mc0884edaf1\" y=\"92.399392\"/>\r\n     <use style=\"fill:#1f77b4;stroke:#1f77b4;\" x=\"187.008187\" xlink:href=\"#mc0884edaf1\" y=\"165.706961\"/>\r\n     <use style=\"fill:#1f77b4;stroke:#1f77b4;\" x=\"187.313161\" xlink:href=\"#mc0884edaf1\" y=\"100.842249\"/>\r\n     <use style=\"fill:#1f77b4;stroke:#1f77b4;\" x=\"187.618135\" xlink:href=\"#mc0884edaf1\" y=\"52.10557\"/>\r\n     <use style=\"fill:#1f77b4;stroke:#1f77b4;\" x=\"187.923108\" xlink:href=\"#mc0884edaf1\" y=\"108.009082\"/>\r\n     <use style=\"fill:#1f77b4;stroke:#1f77b4;\" x=\"188.228082\" xlink:href=\"#mc0884edaf1\" y=\"95.969512\"/>\r\n     <use style=\"fill:#1f77b4;stroke:#1f77b4;\" x=\"188.533055\" xlink:href=\"#mc0884edaf1\" y=\"128.418156\"/>\r\n     <use style=\"fill:#1f77b4;stroke:#1f77b4;\" x=\"188.838029\" xlink:href=\"#mc0884edaf1\" y=\"114.345546\"/>\r\n     <use style=\"fill:#1f77b4;stroke:#1f77b4;\" x=\"189.143002\" xlink:href=\"#mc0884edaf1\" y=\"108.322658\"/>\r\n     <use style=\"fill:#1f77b4;stroke:#1f77b4;\" x=\"189.447976\" xlink:href=\"#mc0884edaf1\" y=\"155.178542\"/>\r\n     <use style=\"fill:#1f77b4;stroke:#1f77b4;\" x=\"189.75295\" xlink:href=\"#mc0884edaf1\" y=\"123.902652\"/>\r\n     <use style=\"fill:#1f77b4;stroke:#1f77b4;\" x=\"190.057923\" xlink:href=\"#mc0884edaf1\" y=\"116.40806\"/>\r\n     <use style=\"fill:#1f77b4;stroke:#1f77b4;\" x=\"190.362897\" xlink:href=\"#mc0884edaf1\" y=\"135.752303\"/>\r\n     <use style=\"fill:#1f77b4;stroke:#1f77b4;\" x=\"190.66787\" xlink:href=\"#mc0884edaf1\" y=\"126.646393\"/>\r\n     <use style=\"fill:#1f77b4;stroke:#1f77b4;\" x=\"190.972844\" xlink:href=\"#mc0884edaf1\" y=\"160.847299\"/>\r\n     <use style=\"fill:#1f77b4;stroke:#1f77b4;\" x=\"191.277818\" xlink:href=\"#mc0884edaf1\" y=\"126.247496\"/>\r\n     <use style=\"fill:#1f77b4;stroke:#1f77b4;\" x=\"191.582791\" xlink:href=\"#mc0884edaf1\" y=\"102.208911\"/>\r\n     <use style=\"fill:#1f77b4;stroke:#1f77b4;\" x=\"191.887765\" xlink:href=\"#mc0884edaf1\" y=\"172.994127\"/>\r\n     <use style=\"fill:#1f77b4;stroke:#1f77b4;\" x=\"192.192738\" xlink:href=\"#mc0884edaf1\" y=\"204.223922\"/>\r\n     <use style=\"fill:#1f77b4;stroke:#1f77b4;\" x=\"192.497712\" xlink:href=\"#mc0884edaf1\" y=\"158.440182\"/>\r\n     <use style=\"fill:#1f77b4;stroke:#1f77b4;\" x=\"192.802685\" xlink:href=\"#mc0884edaf1\" y=\"106.920317\"/>\r\n     <use style=\"fill:#1f77b4;stroke:#1f77b4;\" x=\"193.107659\" xlink:href=\"#mc0884edaf1\" y=\"107.314116\"/>\r\n     <use style=\"fill:#1f77b4;stroke:#1f77b4;\" x=\"193.412633\" xlink:href=\"#mc0884edaf1\" y=\"85.708132\"/>\r\n     <use style=\"fill:#1f77b4;stroke:#1f77b4;\" x=\"193.717606\" xlink:href=\"#mc0884edaf1\" y=\"183.628253\"/>\r\n     <use style=\"fill:#1f77b4;stroke:#1f77b4;\" x=\"194.02258\" xlink:href=\"#mc0884edaf1\" y=\"147.721402\"/>\r\n     <use style=\"fill:#1f77b4;stroke:#1f77b4;\" x=\"194.327553\" xlink:href=\"#mc0884edaf1\" y=\"99.789163\"/>\r\n     <use style=\"fill:#1f77b4;stroke:#1f77b4;\" x=\"194.632527\" xlink:href=\"#mc0884edaf1\" y=\"106.963087\"/>\r\n     <use style=\"fill:#1f77b4;stroke:#1f77b4;\" x=\"194.937501\" xlink:href=\"#mc0884edaf1\" y=\"149.315878\"/>\r\n     <use style=\"fill:#1f77b4;stroke:#1f77b4;\" x=\"195.242474\" xlink:href=\"#mc0884edaf1\" y=\"123.614339\"/>\r\n     <use style=\"fill:#1f77b4;stroke:#1f77b4;\" x=\"195.547448\" xlink:href=\"#mc0884edaf1\" y=\"112.352395\"/>\r\n     <use style=\"fill:#1f77b4;stroke:#1f77b4;\" x=\"195.852421\" xlink:href=\"#mc0884edaf1\" y=\"135.004152\"/>\r\n     <use style=\"fill:#1f77b4;stroke:#1f77b4;\" x=\"196.157395\" xlink:href=\"#mc0884edaf1\" y=\"121.92302\"/>\r\n     <use style=\"fill:#1f77b4;stroke:#1f77b4;\" x=\"196.462368\" xlink:href=\"#mc0884edaf1\" y=\"130.613414\"/>\r\n     <use style=\"fill:#1f77b4;stroke:#1f77b4;\" x=\"196.767342\" xlink:href=\"#mc0884edaf1\" y=\"116.392769\"/>\r\n     <use style=\"fill:#1f77b4;stroke:#1f77b4;\" x=\"197.072316\" xlink:href=\"#mc0884edaf1\" y=\"148.577699\"/>\r\n     <use style=\"fill:#1f77b4;stroke:#1f77b4;\" x=\"197.377289\" xlink:href=\"#mc0884edaf1\" y=\"117.576826\"/>\r\n     <use style=\"fill:#1f77b4;stroke:#1f77b4;\" x=\"197.682263\" xlink:href=\"#mc0884edaf1\" y=\"146.652582\"/>\r\n     <use style=\"fill:#1f77b4;stroke:#1f77b4;\" x=\"197.987236\" xlink:href=\"#mc0884edaf1\" y=\"155.158154\"/>\r\n     <use style=\"fill:#1f77b4;stroke:#1f77b4;\" x=\"198.29221\" xlink:href=\"#mc0884edaf1\" y=\"139.665252\"/>\r\n     <use style=\"fill:#1f77b4;stroke:#1f77b4;\" x=\"198.597184\" xlink:href=\"#mc0884edaf1\" y=\"194.339278\"/>\r\n     <use style=\"fill:#1f77b4;stroke:#1f77b4;\" x=\"198.902157\" xlink:href=\"#mc0884edaf1\" y=\"66.160008\"/>\r\n     <use style=\"fill:#1f77b4;stroke:#1f77b4;\" x=\"199.207131\" xlink:href=\"#mc0884edaf1\" y=\"100.64413\"/>\r\n     <use style=\"fill:#1f77b4;stroke:#1f77b4;\" x=\"199.512104\" xlink:href=\"#mc0884edaf1\" y=\"130.873583\"/>\r\n     <use style=\"fill:#1f77b4;stroke:#1f77b4;\" x=\"199.817078\" xlink:href=\"#mc0884edaf1\" y=\"64.666364\"/>\r\n     <use style=\"fill:#1f77b4;stroke:#1f77b4;\" x=\"200.122051\" xlink:href=\"#mc0884edaf1\" y=\"173.857959\"/>\r\n     <use style=\"fill:#1f77b4;stroke:#1f77b4;\" x=\"200.427025\" xlink:href=\"#mc0884edaf1\" y=\"131.84556\"/>\r\n     <use style=\"fill:#1f77b4;stroke:#1f77b4;\" x=\"200.731999\" xlink:href=\"#mc0884edaf1\" y=\"72.821794\"/>\r\n     <use style=\"fill:#1f77b4;stroke:#1f77b4;\" x=\"201.036972\" xlink:href=\"#mc0884edaf1\" y=\"66.065381\"/>\r\n     <use style=\"fill:#1f77b4;stroke:#1f77b4;\" x=\"201.341946\" xlink:href=\"#mc0884edaf1\" y=\"116.213266\"/>\r\n     <use style=\"fill:#1f77b4;stroke:#1f77b4;\" x=\"201.646919\" xlink:href=\"#mc0884edaf1\" y=\"148.455371\"/>\r\n     <use style=\"fill:#1f77b4;stroke:#1f77b4;\" x=\"201.951893\" xlink:href=\"#mc0884edaf1\" y=\"148.87266\"/>\r\n     <use style=\"fill:#1f77b4;stroke:#1f77b4;\" x=\"202.256867\" xlink:href=\"#mc0884edaf1\" y=\"187.228069\"/>\r\n     <use style=\"fill:#1f77b4;stroke:#1f77b4;\" x=\"202.56184\" xlink:href=\"#mc0884edaf1\" y=\"131.202229\"/>\r\n     <use style=\"fill:#1f77b4;stroke:#1f77b4;\" x=\"202.866814\" xlink:href=\"#mc0884edaf1\" y=\"186.143293\"/>\r\n     <use style=\"fill:#1f77b4;stroke:#1f77b4;\" x=\"203.171787\" xlink:href=\"#mc0884edaf1\" y=\"112.776554\"/>\r\n     <use style=\"fill:#1f77b4;stroke:#1f77b4;\" x=\"203.476761\" xlink:href=\"#mc0884edaf1\" y=\"150.539824\"/>\r\n     <use style=\"fill:#1f77b4;stroke:#1f77b4;\" x=\"203.781734\" xlink:href=\"#mc0884edaf1\" y=\"142.494755\"/>\r\n     <use style=\"fill:#1f77b4;stroke:#1f77b4;\" x=\"204.086708\" xlink:href=\"#mc0884edaf1\" y=\"138.328729\"/>\r\n     <use style=\"fill:#1f77b4;stroke:#1f77b4;\" x=\"204.391682\" xlink:href=\"#mc0884edaf1\" y=\"110.386945\"/>\r\n     <use style=\"fill:#1f77b4;stroke:#1f77b4;\" x=\"204.696655\" xlink:href=\"#mc0884edaf1\" y=\"80.320597\"/>\r\n     <use style=\"fill:#1f77b4;stroke:#1f77b4;\" x=\"205.001629\" xlink:href=\"#mc0884edaf1\" y=\"128.180813\"/>\r\n     <use style=\"fill:#1f77b4;stroke:#1f77b4;\" x=\"205.306602\" xlink:href=\"#mc0884edaf1\" y=\"154.792943\"/>\r\n     <use style=\"fill:#1f77b4;stroke:#1f77b4;\" x=\"205.611576\" xlink:href=\"#mc0884edaf1\" y=\"137.734152\"/>\r\n     <use style=\"fill:#1f77b4;stroke:#1f77b4;\" x=\"205.91655\" xlink:href=\"#mc0884edaf1\" y=\"105.113096\"/>\r\n     <use style=\"fill:#1f77b4;stroke:#1f77b4;\" x=\"206.221523\" xlink:href=\"#mc0884edaf1\" y=\"124.569917\"/>\r\n     <use style=\"fill:#1f77b4;stroke:#1f77b4;\" x=\"206.526497\" xlink:href=\"#mc0884edaf1\" y=\"174.482896\"/>\r\n     <use style=\"fill:#1f77b4;stroke:#1f77b4;\" x=\"206.83147\" xlink:href=\"#mc0884edaf1\" y=\"97.553794\"/>\r\n     <use style=\"fill:#1f77b4;stroke:#1f77b4;\" x=\"207.136444\" xlink:href=\"#mc0884edaf1\" y=\"128.516107\"/>\r\n     <use style=\"fill:#1f77b4;stroke:#1f77b4;\" x=\"207.441417\" xlink:href=\"#mc0884edaf1\" y=\"157.483053\"/>\r\n     <use style=\"fill:#1f77b4;stroke:#1f77b4;\" x=\"207.746391\" xlink:href=\"#mc0884edaf1\" y=\"107.254282\"/>\r\n     <use style=\"fill:#1f77b4;stroke:#1f77b4;\" x=\"208.051365\" xlink:href=\"#mc0884edaf1\" y=\"108.076007\"/>\r\n     <use style=\"fill:#1f77b4;stroke:#1f77b4;\" x=\"208.356338\" xlink:href=\"#mc0884edaf1\" y=\"129.79191\"/>\r\n     <use style=\"fill:#1f77b4;stroke:#1f77b4;\" x=\"208.661312\" xlink:href=\"#mc0884edaf1\" y=\"106.819485\"/>\r\n     <use style=\"fill:#1f77b4;stroke:#1f77b4;\" x=\"208.966285\" xlink:href=\"#mc0884edaf1\" y=\"124.044704\"/>\r\n     <use style=\"fill:#1f77b4;stroke:#1f77b4;\" x=\"209.271259\" xlink:href=\"#mc0884edaf1\" y=\"154.345736\"/>\r\n     <use style=\"fill:#1f77b4;stroke:#1f77b4;\" x=\"209.576233\" xlink:href=\"#mc0884edaf1\" y=\"122.59516\"/>\r\n     <use style=\"fill:#1f77b4;stroke:#1f77b4;\" x=\"209.881206\" xlink:href=\"#mc0884edaf1\" y=\"146.086593\"/>\r\n     <use style=\"fill:#1f77b4;stroke:#1f77b4;\" x=\"210.18618\" xlink:href=\"#mc0884edaf1\" y=\"130.67901\"/>\r\n     <use style=\"fill:#1f77b4;stroke:#1f77b4;\" x=\"210.491153\" xlink:href=\"#mc0884edaf1\" y=\"56.977642\"/>\r\n     <use style=\"fill:#1f77b4;stroke:#1f77b4;\" x=\"210.796127\" xlink:href=\"#mc0884edaf1\" y=\"125.187984\"/>\r\n     <use style=\"fill:#1f77b4;stroke:#1f77b4;\" x=\"211.1011\" xlink:href=\"#mc0884edaf1\" y=\"149.337817\"/>\r\n     <use style=\"fill:#1f77b4;stroke:#1f77b4;\" x=\"211.406074\" xlink:href=\"#mc0884edaf1\" y=\"113.365369\"/>\r\n     <use style=\"fill:#1f77b4;stroke:#1f77b4;\" x=\"211.711048\" xlink:href=\"#mc0884edaf1\" y=\"90.853226\"/>\r\n     <use style=\"fill:#1f77b4;stroke:#1f77b4;\" x=\"212.016021\" xlink:href=\"#mc0884edaf1\" y=\"77.731097\"/>\r\n     <use style=\"fill:#1f77b4;stroke:#1f77b4;\" x=\"212.320995\" xlink:href=\"#mc0884edaf1\" y=\"92.791196\"/>\r\n     <use style=\"fill:#1f77b4;stroke:#1f77b4;\" x=\"212.625968\" xlink:href=\"#mc0884edaf1\" y=\"96.227021\"/>\r\n     <use style=\"fill:#1f77b4;stroke:#1f77b4;\" x=\"212.930942\" xlink:href=\"#mc0884edaf1\" y=\"112.861431\"/>\r\n     <use style=\"fill:#1f77b4;stroke:#1f77b4;\" x=\"213.235916\" xlink:href=\"#mc0884edaf1\" y=\"122.975884\"/>\r\n     <use style=\"fill:#1f77b4;stroke:#1f77b4;\" x=\"213.540889\" xlink:href=\"#mc0884edaf1\" y=\"116.301023\"/>\r\n     <use style=\"fill:#1f77b4;stroke:#1f77b4;\" x=\"213.845863\" xlink:href=\"#mc0884edaf1\" y=\"113.399497\"/>\r\n     <use style=\"fill:#1f77b4;stroke:#1f77b4;\" x=\"214.150836\" xlink:href=\"#mc0884edaf1\" y=\"85.584696\"/>\r\n     <use style=\"fill:#1f77b4;stroke:#1f77b4;\" x=\"214.45581\" xlink:href=\"#mc0884edaf1\" y=\"128.347684\"/>\r\n     <use style=\"fill:#1f77b4;stroke:#1f77b4;\" x=\"214.760783\" xlink:href=\"#mc0884edaf1\" y=\"47.559927\"/>\r\n     <use style=\"fill:#1f77b4;stroke:#1f77b4;\" x=\"215.065757\" xlink:href=\"#mc0884edaf1\" y=\"124.947317\"/>\r\n     <use style=\"fill:#1f77b4;stroke:#1f77b4;\" x=\"215.370731\" xlink:href=\"#mc0884edaf1\" y=\"96.203974\"/>\r\n     <use style=\"fill:#1f77b4;stroke:#1f77b4;\" x=\"215.675704\" xlink:href=\"#mc0884edaf1\" y=\"84.832777\"/>\r\n     <use style=\"fill:#1f77b4;stroke:#1f77b4;\" x=\"215.980678\" xlink:href=\"#mc0884edaf1\" y=\"88.148933\"/>\r\n     <use style=\"fill:#1f77b4;stroke:#1f77b4;\" x=\"216.285651\" xlink:href=\"#mc0884edaf1\" y=\"98.142166\"/>\r\n     <use style=\"fill:#1f77b4;stroke:#1f77b4;\" x=\"216.590625\" xlink:href=\"#mc0884edaf1\" y=\"71.164824\"/>\r\n     <use style=\"fill:#1f77b4;stroke:#1f77b4;\" x=\"216.895599\" xlink:href=\"#mc0884edaf1\" y=\"108.548256\"/>\r\n     <use style=\"fill:#1f77b4;stroke:#1f77b4;\" x=\"217.200572\" xlink:href=\"#mc0884edaf1\" y=\"85.314554\"/>\r\n     <use style=\"fill:#1f77b4;stroke:#1f77b4;\" x=\"217.505546\" xlink:href=\"#mc0884edaf1\" y=\"144.113608\"/>\r\n     <use style=\"fill:#1f77b4;stroke:#1f77b4;\" x=\"217.810519\" xlink:href=\"#mc0884edaf1\" y=\"172.020821\"/>\r\n     <use style=\"fill:#1f77b4;stroke:#1f77b4;\" x=\"218.115493\" xlink:href=\"#mc0884edaf1\" y=\"109.237681\"/>\r\n     <use style=\"fill:#1f77b4;stroke:#1f77b4;\" x=\"218.420467\" xlink:href=\"#mc0884edaf1\" y=\"141.924555\"/>\r\n     <use style=\"fill:#1f77b4;stroke:#1f77b4;\" x=\"218.72544\" xlink:href=\"#mc0884edaf1\" y=\"110.626726\"/>\r\n     <use style=\"fill:#1f77b4;stroke:#1f77b4;\" x=\"219.030414\" xlink:href=\"#mc0884edaf1\" y=\"152.398015\"/>\r\n     <use style=\"fill:#1f77b4;stroke:#1f77b4;\" x=\"219.335387\" xlink:href=\"#mc0884edaf1\" y=\"167.593296\"/>\r\n     <use style=\"fill:#1f77b4;stroke:#1f77b4;\" x=\"219.640361\" xlink:href=\"#mc0884edaf1\" y=\"128.315108\"/>\r\n     <use style=\"fill:#1f77b4;stroke:#1f77b4;\" x=\"219.945334\" xlink:href=\"#mc0884edaf1\" y=\"169.980467\"/>\r\n     <use style=\"fill:#1f77b4;stroke:#1f77b4;\" x=\"220.250308\" xlink:href=\"#mc0884edaf1\" y=\"52.705465\"/>\r\n     <use style=\"fill:#1f77b4;stroke:#1f77b4;\" x=\"220.555282\" xlink:href=\"#mc0884edaf1\" y=\"137.511214\"/>\r\n     <use style=\"fill:#1f77b4;stroke:#1f77b4;\" x=\"220.860255\" xlink:href=\"#mc0884edaf1\" y=\"125.714527\"/>\r\n     <use style=\"fill:#1f77b4;stroke:#1f77b4;\" x=\"221.165229\" xlink:href=\"#mc0884edaf1\" y=\"84.967072\"/>\r\n     <use style=\"fill:#1f77b4;stroke:#1f77b4;\" x=\"221.470202\" xlink:href=\"#mc0884edaf1\" y=\"102.275172\"/>\r\n     <use style=\"fill:#1f77b4;stroke:#1f77b4;\" x=\"221.775176\" xlink:href=\"#mc0884edaf1\" y=\"177.434505\"/>\r\n     <use style=\"fill:#1f77b4;stroke:#1f77b4;\" x=\"222.08015\" xlink:href=\"#mc0884edaf1\" y=\"178.689698\"/>\r\n     <use style=\"fill:#1f77b4;stroke:#1f77b4;\" x=\"222.385123\" xlink:href=\"#mc0884edaf1\" y=\"120.663395\"/>\r\n     <use style=\"fill:#1f77b4;stroke:#1f77b4;\" x=\"222.690097\" xlink:href=\"#mc0884edaf1\" y=\"75.413732\"/>\r\n     <use style=\"fill:#1f77b4;stroke:#1f77b4;\" x=\"222.99507\" xlink:href=\"#mc0884edaf1\" y=\"117.521866\"/>\r\n     <use style=\"fill:#1f77b4;stroke:#1f77b4;\" x=\"223.300044\" xlink:href=\"#mc0884edaf1\" y=\"170.035648\"/>\r\n     <use style=\"fill:#1f77b4;stroke:#1f77b4;\" x=\"223.605017\" xlink:href=\"#mc0884edaf1\" y=\"90.35926\"/>\r\n     <use style=\"fill:#1f77b4;stroke:#1f77b4;\" x=\"223.909991\" xlink:href=\"#mc0884edaf1\" y=\"143.096645\"/>\r\n     <use style=\"fill:#1f77b4;stroke:#1f77b4;\" x=\"224.214965\" xlink:href=\"#mc0884edaf1\" y=\"105.881636\"/>\r\n     <use style=\"fill:#1f77b4;stroke:#1f77b4;\" x=\"224.519938\" xlink:href=\"#mc0884edaf1\" y=\"78.55659\"/>\r\n     <use style=\"fill:#1f77b4;stroke:#1f77b4;\" x=\"224.824912\" xlink:href=\"#mc0884edaf1\" y=\"95.245959\"/>\r\n     <use style=\"fill:#1f77b4;stroke:#1f77b4;\" x=\"225.129885\" xlink:href=\"#mc0884edaf1\" y=\"122.254768\"/>\r\n     <use style=\"fill:#1f77b4;stroke:#1f77b4;\" x=\"225.434859\" xlink:href=\"#mc0884edaf1\" y=\"93.877967\"/>\r\n     <use style=\"fill:#1f77b4;stroke:#1f77b4;\" x=\"225.739833\" xlink:href=\"#mc0884edaf1\" y=\"135.552412\"/>\r\n     <use style=\"fill:#1f77b4;stroke:#1f77b4;\" x=\"226.044806\" xlink:href=\"#mc0884edaf1\" y=\"69.428297\"/>\r\n     <use style=\"fill:#1f77b4;stroke:#1f77b4;\" x=\"226.34978\" xlink:href=\"#mc0884edaf1\" y=\"82.112527\"/>\r\n     <use style=\"fill:#1f77b4;stroke:#1f77b4;\" x=\"226.654753\" xlink:href=\"#mc0884edaf1\" y=\"65.385263\"/>\r\n     <use style=\"fill:#1f77b4;stroke:#1f77b4;\" x=\"226.959727\" xlink:href=\"#mc0884edaf1\" y=\"191.002069\"/>\r\n     <use style=\"fill:#1f77b4;stroke:#1f77b4;\" x=\"227.2647\" xlink:href=\"#mc0884edaf1\" y=\"103.814025\"/>\r\n     <use style=\"fill:#1f77b4;stroke:#1f77b4;\" x=\"227.569674\" xlink:href=\"#mc0884edaf1\" y=\"125.285049\"/>\r\n     <use style=\"fill:#1f77b4;stroke:#1f77b4;\" x=\"227.874648\" xlink:href=\"#mc0884edaf1\" y=\"110.17132\"/>\r\n     <use style=\"fill:#1f77b4;stroke:#1f77b4;\" x=\"228.179621\" xlink:href=\"#mc0884edaf1\" y=\"146.370474\"/>\r\n     <use style=\"fill:#1f77b4;stroke:#1f77b4;\" x=\"228.484595\" xlink:href=\"#mc0884edaf1\" y=\"113.45224\"/>\r\n     <use style=\"fill:#1f77b4;stroke:#1f77b4;\" x=\"228.789568\" xlink:href=\"#mc0884edaf1\" y=\"103.148755\"/>\r\n     <use style=\"fill:#1f77b4;stroke:#1f77b4;\" x=\"229.094542\" xlink:href=\"#mc0884edaf1\" y=\"82.902784\"/>\r\n     <use style=\"fill:#1f77b4;stroke:#1f77b4;\" x=\"229.399516\" xlink:href=\"#mc0884edaf1\" y=\"114.765495\"/>\r\n     <use style=\"fill:#1f77b4;stroke:#1f77b4;\" x=\"229.704489\" xlink:href=\"#mc0884edaf1\" y=\"110.928114\"/>\r\n     <use style=\"fill:#1f77b4;stroke:#1f77b4;\" x=\"230.009463\" xlink:href=\"#mc0884edaf1\" y=\"135.431192\"/>\r\n     <use style=\"fill:#1f77b4;stroke:#1f77b4;\" x=\"230.314436\" xlink:href=\"#mc0884edaf1\" y=\"45.372426\"/>\r\n     <use style=\"fill:#1f77b4;stroke:#1f77b4;\" x=\"230.61941\" xlink:href=\"#mc0884edaf1\" y=\"99.953375\"/>\r\n     <use style=\"fill:#1f77b4;stroke:#1f77b4;\" x=\"230.924383\" xlink:href=\"#mc0884edaf1\" y=\"98.477238\"/>\r\n     <use style=\"fill:#1f77b4;stroke:#1f77b4;\" x=\"231.229357\" xlink:href=\"#mc0884edaf1\" y=\"74.496493\"/>\r\n     <use style=\"fill:#1f77b4;stroke:#1f77b4;\" x=\"231.534331\" xlink:href=\"#mc0884edaf1\" y=\"66.576855\"/>\r\n     <use style=\"fill:#1f77b4;stroke:#1f77b4;\" x=\"231.839304\" xlink:href=\"#mc0884edaf1\" y=\"98.307929\"/>\r\n     <use style=\"fill:#1f77b4;stroke:#1f77b4;\" x=\"232.144278\" xlink:href=\"#mc0884edaf1\" y=\"158.542566\"/>\r\n     <use style=\"fill:#1f77b4;stroke:#1f77b4;\" x=\"232.449251\" xlink:href=\"#mc0884edaf1\" y=\"97.819503\"/>\r\n     <use style=\"fill:#1f77b4;stroke:#1f77b4;\" x=\"232.754225\" xlink:href=\"#mc0884edaf1\" y=\"154.598813\"/>\r\n     <use style=\"fill:#1f77b4;stroke:#1f77b4;\" x=\"233.059199\" xlink:href=\"#mc0884edaf1\" y=\"138.795216\"/>\r\n     <use style=\"fill:#1f77b4;stroke:#1f77b4;\" x=\"233.364172\" xlink:href=\"#mc0884edaf1\" y=\"116.226341\"/>\r\n     <use style=\"fill:#1f77b4;stroke:#1f77b4;\" x=\"233.669146\" xlink:href=\"#mc0884edaf1\" y=\"83.738693\"/>\r\n     <use style=\"fill:#1f77b4;stroke:#1f77b4;\" x=\"233.974119\" xlink:href=\"#mc0884edaf1\" y=\"147.34932\"/>\r\n     <use style=\"fill:#1f77b4;stroke:#1f77b4;\" x=\"234.279093\" xlink:href=\"#mc0884edaf1\" y=\"94.75997\"/>\r\n     <use style=\"fill:#1f77b4;stroke:#1f77b4;\" x=\"234.584066\" xlink:href=\"#mc0884edaf1\" y=\"102.105198\"/>\r\n     <use style=\"fill:#1f77b4;stroke:#1f77b4;\" x=\"234.88904\" xlink:href=\"#mc0884edaf1\" y=\"66.113249\"/>\r\n     <use style=\"fill:#1f77b4;stroke:#1f77b4;\" x=\"235.194014\" xlink:href=\"#mc0884edaf1\" y=\"120.954146\"/>\r\n     <use style=\"fill:#1f77b4;stroke:#1f77b4;\" x=\"235.498987\" xlink:href=\"#mc0884edaf1\" y=\"116.720085\"/>\r\n     <use style=\"fill:#1f77b4;stroke:#1f77b4;\" x=\"235.803961\" xlink:href=\"#mc0884edaf1\" y=\"133.239258\"/>\r\n     <use style=\"fill:#1f77b4;stroke:#1f77b4;\" x=\"236.108934\" xlink:href=\"#mc0884edaf1\" y=\"168.678515\"/>\r\n     <use style=\"fill:#1f77b4;stroke:#1f77b4;\" x=\"236.413908\" xlink:href=\"#mc0884edaf1\" y=\"81.260662\"/>\r\n     <use style=\"fill:#1f77b4;stroke:#1f77b4;\" x=\"236.718882\" xlink:href=\"#mc0884edaf1\" y=\"117.770512\"/>\r\n     <use style=\"fill:#1f77b4;stroke:#1f77b4;\" x=\"237.023855\" xlink:href=\"#mc0884edaf1\" y=\"147.106437\"/>\r\n     <use style=\"fill:#1f77b4;stroke:#1f77b4;\" x=\"237.328829\" xlink:href=\"#mc0884edaf1\" y=\"126.550436\"/>\r\n     <use style=\"fill:#1f77b4;stroke:#1f77b4;\" x=\"237.633802\" xlink:href=\"#mc0884edaf1\" y=\"143.161576\"/>\r\n     <use style=\"fill:#1f77b4;stroke:#1f77b4;\" x=\"237.938776\" xlink:href=\"#mc0884edaf1\" y=\"80.645919\"/>\r\n     <use style=\"fill:#1f77b4;stroke:#1f77b4;\" x=\"238.243749\" xlink:href=\"#mc0884edaf1\" y=\"82.836302\"/>\r\n     <use style=\"fill:#1f77b4;stroke:#1f77b4;\" x=\"238.548723\" xlink:href=\"#mc0884edaf1\" y=\"118.130183\"/>\r\n     <use style=\"fill:#1f77b4;stroke:#1f77b4;\" x=\"238.853697\" xlink:href=\"#mc0884edaf1\" y=\"132.473378\"/>\r\n     <use style=\"fill:#1f77b4;stroke:#1f77b4;\" x=\"239.15867\" xlink:href=\"#mc0884edaf1\" y=\"126.783568\"/>\r\n     <use style=\"fill:#1f77b4;stroke:#1f77b4;\" x=\"239.463644\" xlink:href=\"#mc0884edaf1\" y=\"101.883368\"/>\r\n     <use style=\"fill:#1f77b4;stroke:#1f77b4;\" x=\"239.768617\" xlink:href=\"#mc0884edaf1\" y=\"123.13655\"/>\r\n     <use style=\"fill:#1f77b4;stroke:#1f77b4;\" x=\"240.073591\" xlink:href=\"#mc0884edaf1\" y=\"121.766564\"/>\r\n     <use style=\"fill:#1f77b4;stroke:#1f77b4;\" x=\"240.378565\" xlink:href=\"#mc0884edaf1\" y=\"151.623049\"/>\r\n     <use style=\"fill:#1f77b4;stroke:#1f77b4;\" x=\"240.683538\" xlink:href=\"#mc0884edaf1\" y=\"144.24746\"/>\r\n     <use style=\"fill:#1f77b4;stroke:#1f77b4;\" x=\"240.988512\" xlink:href=\"#mc0884edaf1\" y=\"123.888248\"/>\r\n     <use style=\"fill:#1f77b4;stroke:#1f77b4;\" x=\"241.293485\" xlink:href=\"#mc0884edaf1\" y=\"141.660619\"/>\r\n     <use style=\"fill:#1f77b4;stroke:#1f77b4;\" x=\"241.598459\" xlink:href=\"#mc0884edaf1\" y=\"71.457348\"/>\r\n     <use style=\"fill:#1f77b4;stroke:#1f77b4;\" x=\"241.903432\" xlink:href=\"#mc0884edaf1\" y=\"137.265892\"/>\r\n     <use style=\"fill:#1f77b4;stroke:#1f77b4;\" x=\"242.208406\" xlink:href=\"#mc0884edaf1\" y=\"167.32116\"/>\r\n     <use style=\"fill:#1f77b4;stroke:#1f77b4;\" x=\"242.51338\" xlink:href=\"#mc0884edaf1\" y=\"121.496866\"/>\r\n     <use style=\"fill:#1f77b4;stroke:#1f77b4;\" x=\"242.818353\" xlink:href=\"#mc0884edaf1\" y=\"133.517377\"/>\r\n     <use style=\"fill:#1f77b4;stroke:#1f77b4;\" x=\"243.123327\" xlink:href=\"#mc0884edaf1\" y=\"135.906986\"/>\r\n     <use style=\"fill:#1f77b4;stroke:#1f77b4;\" x=\"243.4283\" xlink:href=\"#mc0884edaf1\" y=\"111.627734\"/>\r\n     <use style=\"fill:#1f77b4;stroke:#1f77b4;\" x=\"243.733274\" xlink:href=\"#mc0884edaf1\" y=\"140.826262\"/>\r\n     <use style=\"fill:#1f77b4;stroke:#1f77b4;\" x=\"244.038248\" xlink:href=\"#mc0884edaf1\" y=\"130.803998\"/>\r\n     <use style=\"fill:#1f77b4;stroke:#1f77b4;\" x=\"244.343221\" xlink:href=\"#mc0884edaf1\" y=\"96.677331\"/>\r\n     <use style=\"fill:#1f77b4;stroke:#1f77b4;\" x=\"244.648195\" xlink:href=\"#mc0884edaf1\" y=\"116.815599\"/>\r\n     <use style=\"fill:#1f77b4;stroke:#1f77b4;\" x=\"244.953168\" xlink:href=\"#mc0884edaf1\" y=\"141.215185\"/>\r\n     <use style=\"fill:#1f77b4;stroke:#1f77b4;\" x=\"245.258142\" xlink:href=\"#mc0884edaf1\" y=\"110.580853\"/>\r\n     <use style=\"fill:#1f77b4;stroke:#1f77b4;\" x=\"245.563115\" xlink:href=\"#mc0884edaf1\" y=\"106.300477\"/>\r\n     <use style=\"fill:#1f77b4;stroke:#1f77b4;\" x=\"245.868089\" xlink:href=\"#mc0884edaf1\" y=\"79.881147\"/>\r\n     <use style=\"fill:#1f77b4;stroke:#1f77b4;\" x=\"246.173063\" xlink:href=\"#mc0884edaf1\" y=\"132.638698\"/>\r\n     <use style=\"fill:#1f77b4;stroke:#1f77b4;\" x=\"246.478036\" xlink:href=\"#mc0884edaf1\" y=\"134.292122\"/>\r\n     <use style=\"fill:#1f77b4;stroke:#1f77b4;\" x=\"246.78301\" xlink:href=\"#mc0884edaf1\" y=\"97.040548\"/>\r\n     <use style=\"fill:#1f77b4;stroke:#1f77b4;\" x=\"247.087983\" xlink:href=\"#mc0884edaf1\" y=\"98.874805\"/>\r\n     <use style=\"fill:#1f77b4;stroke:#1f77b4;\" x=\"247.392957\" xlink:href=\"#mc0884edaf1\" y=\"127.071217\"/>\r\n     <use style=\"fill:#1f77b4;stroke:#1f77b4;\" x=\"247.697931\" xlink:href=\"#mc0884edaf1\" y=\"126.359409\"/>\r\n     <use style=\"fill:#1f77b4;stroke:#1f77b4;\" x=\"248.002904\" xlink:href=\"#mc0884edaf1\" y=\"168.124936\"/>\r\n     <use style=\"fill:#1f77b4;stroke:#1f77b4;\" x=\"248.307878\" xlink:href=\"#mc0884edaf1\" y=\"152.621618\"/>\r\n     <use style=\"fill:#1f77b4;stroke:#1f77b4;\" x=\"248.612851\" xlink:href=\"#mc0884edaf1\" y=\"141.15247\"/>\r\n     <use style=\"fill:#1f77b4;stroke:#1f77b4;\" x=\"248.917825\" xlink:href=\"#mc0884edaf1\" y=\"110.638693\"/>\r\n     <use style=\"fill:#1f77b4;stroke:#1f77b4;\" x=\"249.222798\" xlink:href=\"#mc0884edaf1\" y=\"44.505492\"/>\r\n     <use style=\"fill:#1f77b4;stroke:#1f77b4;\" x=\"249.527772\" xlink:href=\"#mc0884edaf1\" y=\"113.999393\"/>\r\n     <use style=\"fill:#1f77b4;stroke:#1f77b4;\" x=\"249.832746\" xlink:href=\"#mc0884edaf1\" y=\"115.409933\"/>\r\n     <use style=\"fill:#1f77b4;stroke:#1f77b4;\" x=\"250.137719\" xlink:href=\"#mc0884edaf1\" y=\"100.990062\"/>\r\n     <use style=\"fill:#1f77b4;stroke:#1f77b4;\" x=\"250.442693\" xlink:href=\"#mc0884edaf1\" y=\"91.200044\"/>\r\n     <use style=\"fill:#1f77b4;stroke:#1f77b4;\" x=\"250.747666\" xlink:href=\"#mc0884edaf1\" y=\"116.473213\"/>\r\n     <use style=\"fill:#1f77b4;stroke:#1f77b4;\" x=\"251.05264\" xlink:href=\"#mc0884edaf1\" y=\"140.132182\"/>\r\n     <use style=\"fill:#1f77b4;stroke:#1f77b4;\" x=\"251.357614\" xlink:href=\"#mc0884edaf1\" y=\"104.470652\"/>\r\n     <use style=\"fill:#1f77b4;stroke:#1f77b4;\" x=\"251.662587\" xlink:href=\"#mc0884edaf1\" y=\"152.837909\"/>\r\n     <use style=\"fill:#1f77b4;stroke:#1f77b4;\" x=\"251.967561\" xlink:href=\"#mc0884edaf1\" y=\"129.138385\"/>\r\n     <use style=\"fill:#1f77b4;stroke:#1f77b4;\" x=\"252.272534\" xlink:href=\"#mc0884edaf1\" y=\"93.658352\"/>\r\n     <use style=\"fill:#1f77b4;stroke:#1f77b4;\" x=\"252.577508\" xlink:href=\"#mc0884edaf1\" y=\"186.210662\"/>\r\n     <use style=\"fill:#1f77b4;stroke:#1f77b4;\" x=\"252.882481\" xlink:href=\"#mc0884edaf1\" y=\"122.340531\"/>\r\n     <use style=\"fill:#1f77b4;stroke:#1f77b4;\" x=\"253.187455\" xlink:href=\"#mc0884edaf1\" y=\"115.25525\"/>\r\n     <use style=\"fill:#1f77b4;stroke:#1f77b4;\" x=\"253.492429\" xlink:href=\"#mc0884edaf1\" y=\"165.858985\"/>\r\n     <use style=\"fill:#1f77b4;stroke:#1f77b4;\" x=\"253.797402\" xlink:href=\"#mc0884edaf1\" y=\"138.321637\"/>\r\n     <use style=\"fill:#1f77b4;stroke:#1f77b4;\" x=\"254.102376\" xlink:href=\"#mc0884edaf1\" y=\"115.72905\"/>\r\n     <use style=\"fill:#1f77b4;stroke:#1f77b4;\" x=\"254.407349\" xlink:href=\"#mc0884edaf1\" y=\"143.298309\"/>\r\n     <use style=\"fill:#1f77b4;stroke:#1f77b4;\" x=\"254.712323\" xlink:href=\"#mc0884edaf1\" y=\"100.684242\"/>\r\n     <use style=\"fill:#1f77b4;stroke:#1f77b4;\" x=\"255.017297\" xlink:href=\"#mc0884edaf1\" y=\"118.246971\"/>\r\n     <use style=\"fill:#1f77b4;stroke:#1f77b4;\" x=\"255.32227\" xlink:href=\"#mc0884edaf1\" y=\"152.135408\"/>\r\n     <use style=\"fill:#1f77b4;stroke:#1f77b4;\" x=\"255.627244\" xlink:href=\"#mc0884edaf1\" y=\"134.012673\"/>\r\n     <use style=\"fill:#1f77b4;stroke:#1f77b4;\" x=\"255.932217\" xlink:href=\"#mc0884edaf1\" y=\"121.323568\"/>\r\n     <use style=\"fill:#1f77b4;stroke:#1f77b4;\" x=\"256.237191\" xlink:href=\"#mc0884edaf1\" y=\"126.621129\"/>\r\n     <use style=\"fill:#1f77b4;stroke:#1f77b4;\" x=\"256.542164\" xlink:href=\"#mc0884edaf1\" y=\"49.75718\"/>\r\n     <use style=\"fill:#1f77b4;stroke:#1f77b4;\" x=\"256.847138\" xlink:href=\"#mc0884edaf1\" y=\"126.346334\"/>\r\n     <use style=\"fill:#1f77b4;stroke:#1f77b4;\" x=\"257.152112\" xlink:href=\"#mc0884edaf1\" y=\"138.695492\"/>\r\n     <use style=\"fill:#1f77b4;stroke:#1f77b4;\" x=\"257.457085\" xlink:href=\"#mc0884edaf1\" y=\"133.252333\"/>\r\n     <use style=\"fill:#1f77b4;stroke:#1f77b4;\" x=\"257.762059\" xlink:href=\"#mc0884edaf1\" y=\"68.384962\"/>\r\n     <use style=\"fill:#1f77b4;stroke:#1f77b4;\" x=\"258.067032\" xlink:href=\"#mc0884edaf1\" y=\"138.637652\"/>\r\n     <use style=\"fill:#1f77b4;stroke:#1f77b4;\" x=\"258.372006\" xlink:href=\"#mc0884edaf1\" y=\"144.564804\"/>\r\n     <use style=\"fill:#1f77b4;stroke:#1f77b4;\" x=\"258.67698\" xlink:href=\"#mc0884edaf1\" y=\"131.096521\"/>\r\n     <use style=\"fill:#1f77b4;stroke:#1f77b4;\" x=\"258.981953\" xlink:href=\"#mc0884edaf1\" y=\"99.506169\"/>\r\n     <use style=\"fill:#1f77b4;stroke:#1f77b4;\" x=\"259.286927\" xlink:href=\"#mc0884edaf1\" y=\"115.984565\"/>\r\n     <use style=\"fill:#1f77b4;stroke:#1f77b4;\" x=\"259.5919\" xlink:href=\"#mc0884edaf1\" y=\"158.686612\"/>\r\n     <use style=\"fill:#1f77b4;stroke:#1f77b4;\" x=\"259.896874\" xlink:href=\"#mc0884edaf1\" y=\"126.227995\"/>\r\n     <use style=\"fill:#1f77b4;stroke:#1f77b4;\" x=\"260.201847\" xlink:href=\"#mc0884edaf1\" y=\"128.506356\"/>\r\n     <use style=\"fill:#1f77b4;stroke:#1f77b4;\" x=\"260.506821\" xlink:href=\"#mc0884edaf1\" y=\"93.228652\"/>\r\n     <use style=\"fill:#1f77b4;stroke:#1f77b4;\" x=\"260.811795\" xlink:href=\"#mc0884edaf1\" y=\"144.96924\"/>\r\n     <use style=\"fill:#1f77b4;stroke:#1f77b4;\" x=\"261.116768\" xlink:href=\"#mc0884edaf1\" y=\"101.161809\"/>\r\n     <use style=\"fill:#1f77b4;stroke:#1f77b4;\" x=\"261.421742\" xlink:href=\"#mc0884edaf1\" y=\"67.184506\"/>\r\n     <use style=\"fill:#1f77b4;stroke:#1f77b4;\" x=\"261.726715\" xlink:href=\"#mc0884edaf1\" y=\"113.494346\"/>\r\n     <use style=\"fill:#1f77b4;stroke:#1f77b4;\" x=\"262.031689\" xlink:href=\"#mc0884edaf1\" y=\"127.349336\"/>\r\n     <use style=\"fill:#1f77b4;stroke:#1f77b4;\" x=\"262.336663\" xlink:href=\"#mc0884edaf1\" y=\"126.107883\"/>\r\n     <use style=\"fill:#1f77b4;stroke:#1f77b4;\" x=\"262.641636\" xlink:href=\"#mc0884edaf1\" y=\"101.932786\"/>\r\n     <use style=\"fill:#1f77b4;stroke:#1f77b4;\" x=\"262.94661\" xlink:href=\"#mc0884edaf1\" y=\"125.487378\"/>\r\n     <use style=\"fill:#1f77b4;stroke:#1f77b4;\" x=\"263.251583\" xlink:href=\"#mc0884edaf1\" y=\"113.675844\"/>\r\n     <use style=\"fill:#1f77b4;stroke:#1f77b4;\" x=\"263.556557\" xlink:href=\"#mc0884edaf1\" y=\"148.414373\"/>\r\n     <use style=\"fill:#1f77b4;stroke:#1f77b4;\" x=\"263.86153\" xlink:href=\"#mc0884edaf1\" y=\"89.191159\"/>\r\n     <use style=\"fill:#1f77b4;stroke:#1f77b4;\" x=\"264.166504\" xlink:href=\"#mc0884edaf1\" y=\"148.925403\"/>\r\n     <use style=\"fill:#1f77b4;stroke:#1f77b4;\" x=\"264.471478\" xlink:href=\"#mc0884edaf1\" y=\"63.049284\"/>\r\n     <use style=\"fill:#1f77b4;stroke:#1f77b4;\" x=\"264.776451\" xlink:href=\"#mc0884edaf1\" y=\"120.954589\"/>\r\n     <use style=\"fill:#1f77b4;stroke:#1f77b4;\" x=\"265.081425\" xlink:href=\"#mc0884edaf1\" y=\"117.070006\"/>\r\n     <use style=\"fill:#1f77b4;stroke:#1f77b4;\" x=\"265.386398\" xlink:href=\"#mc0884edaf1\" y=\"129.670025\"/>\r\n     <use style=\"fill:#1f77b4;stroke:#1f77b4;\" x=\"265.691372\" xlink:href=\"#mc0884edaf1\" y=\"135.985214\"/>\r\n     <use style=\"fill:#1f77b4;stroke:#1f77b4;\" x=\"265.996346\" xlink:href=\"#mc0884edaf1\" y=\"93.611814\"/>\r\n     <use style=\"fill:#1f77b4;stroke:#1f77b4;\" x=\"266.301319\" xlink:href=\"#mc0884edaf1\" y=\"133.206903\"/>\r\n     <use style=\"fill:#1f77b4;stroke:#1f77b4;\" x=\"266.606293\" xlink:href=\"#mc0884edaf1\" y=\"102.968586\"/>\r\n     <use style=\"fill:#1f77b4;stroke:#1f77b4;\" x=\"266.911266\" xlink:href=\"#mc0884edaf1\" y=\"47.368014\"/>\r\n     <use style=\"fill:#1f77b4;stroke:#1f77b4;\" x=\"267.21624\" xlink:href=\"#mc0884edaf1\" y=\"119.285209\"/>\r\n     <use style=\"fill:#1f77b4;stroke:#1f77b4;\" x=\"267.521213\" xlink:href=\"#mc0884edaf1\" y=\"181.870895\"/>\r\n     <use style=\"fill:#1f77b4;stroke:#1f77b4;\" x=\"267.826187\" xlink:href=\"#mc0884edaf1\" y=\"131.672705\"/>\r\n     <use style=\"fill:#1f77b4;stroke:#1f77b4;\" x=\"268.131161\" xlink:href=\"#mc0884edaf1\" y=\"81.910641\"/>\r\n     <use style=\"fill:#1f77b4;stroke:#1f77b4;\" x=\"268.436134\" xlink:href=\"#mc0884edaf1\" y=\"136.464776\"/>\r\n     <use style=\"fill:#1f77b4;stroke:#1f77b4;\" x=\"268.741108\" xlink:href=\"#mc0884edaf1\" y=\"144.830292\"/>\r\n     <use style=\"fill:#1f77b4;stroke:#1f77b4;\" x=\"269.046081\" xlink:href=\"#mc0884edaf1\" y=\"142.282454\"/>\r\n     <use style=\"fill:#1f77b4;stroke:#1f77b4;\" x=\"269.351055\" xlink:href=\"#mc0884edaf1\" y=\"142.286221\"/>\r\n     <use style=\"fill:#1f77b4;stroke:#1f77b4;\" x=\"269.656029\" xlink:href=\"#mc0884edaf1\" y=\"109.807438\"/>\r\n     <use style=\"fill:#1f77b4;stroke:#1f77b4;\" x=\"269.961002\" xlink:href=\"#mc0884edaf1\" y=\"45.253422\"/>\r\n     <use style=\"fill:#1f77b4;stroke:#1f77b4;\" x=\"270.265976\" xlink:href=\"#mc0884edaf1\" y=\"113.652575\"/>\r\n     <use style=\"fill:#1f77b4;stroke:#1f77b4;\" x=\"270.570949\" xlink:href=\"#mc0884edaf1\" y=\"131.510265\"/>\r\n     <use style=\"fill:#1f77b4;stroke:#1f77b4;\" x=\"270.875923\" xlink:href=\"#mc0884edaf1\" y=\"108.979285\"/>\r\n     <use style=\"fill:#1f77b4;stroke:#1f77b4;\" x=\"271.180896\" xlink:href=\"#mc0884edaf1\" y=\"106.052053\"/>\r\n     <use style=\"fill:#1f77b4;stroke:#1f77b4;\" x=\"271.48587\" xlink:href=\"#mc0884edaf1\" y=\"101.09998\"/>\r\n     <use style=\"fill:#1f77b4;stroke:#1f77b4;\" x=\"271.790844\" xlink:href=\"#mc0884edaf1\" y=\"133.425853\"/>\r\n     <use style=\"fill:#1f77b4;stroke:#1f77b4;\" x=\"272.095817\" xlink:href=\"#mc0884edaf1\" y=\"152.271476\"/>\r\n     <use style=\"fill:#1f77b4;stroke:#1f77b4;\" x=\"272.400791\" xlink:href=\"#mc0884edaf1\" y=\"111.320362\"/>\r\n     <use style=\"fill:#1f77b4;stroke:#1f77b4;\" x=\"272.705764\" xlink:href=\"#mc0884edaf1\" y=\"120.978523\"/>\r\n     <use style=\"fill:#1f77b4;stroke:#1f77b4;\" x=\"273.010738\" xlink:href=\"#mc0884edaf1\" y=\"129.19423\"/>\r\n     <use style=\"fill:#1f77b4;stroke:#1f77b4;\" x=\"273.315712\" xlink:href=\"#mc0884edaf1\" y=\"133.059755\"/>\r\n     <use style=\"fill:#1f77b4;stroke:#1f77b4;\" x=\"273.620685\" xlink:href=\"#mc0884edaf1\" y=\"143.610999\"/>\r\n     <use style=\"fill:#1f77b4;stroke:#1f77b4;\" x=\"273.925659\" xlink:href=\"#mc0884edaf1\" y=\"109.297959\"/>\r\n     <use style=\"fill:#1f77b4;stroke:#1f77b4;\" x=\"274.230632\" xlink:href=\"#mc0884edaf1\" y=\"164.300631\"/>\r\n     <use style=\"fill:#1f77b4;stroke:#1f77b4;\" x=\"274.535606\" xlink:href=\"#mc0884edaf1\" y=\"93.015686\"/>\r\n     <use style=\"fill:#1f77b4;stroke:#1f77b4;\" x=\"274.840579\" xlink:href=\"#mc0884edaf1\" y=\"93.604058\"/>\r\n     <use style=\"fill:#1f77b4;stroke:#1f77b4;\" x=\"275.145553\" xlink:href=\"#mc0884edaf1\" y=\"92.05346\"/>\r\n     <use style=\"fill:#1f77b4;stroke:#1f77b4;\" x=\"275.450527\" xlink:href=\"#mc0884edaf1\" y=\"96.802318\"/>\r\n     <use style=\"fill:#1f77b4;stroke:#1f77b4;\" x=\"275.7555\" xlink:href=\"#mc0884edaf1\" y=\"85.768409\"/>\r\n     <use style=\"fill:#1f77b4;stroke:#1f77b4;\" x=\"276.060474\" xlink:href=\"#mc0884edaf1\" y=\"154.56668\"/>\r\n     <use style=\"fill:#1f77b4;stroke:#1f77b4;\" x=\"276.365447\" xlink:href=\"#mc0884edaf1\" y=\"153.127108\"/>\r\n     <use style=\"fill:#1f77b4;stroke:#1f77b4;\" x=\"276.670421\" xlink:href=\"#mc0884edaf1\" y=\"153.438912\"/>\r\n     <use style=\"fill:#1f77b4;stroke:#1f77b4;\" x=\"276.975395\" xlink:href=\"#mc0884edaf1\" y=\"96.780822\"/>\r\n     <use style=\"fill:#1f77b4;stroke:#1f77b4;\" x=\"277.280368\" xlink:href=\"#mc0884edaf1\" y=\"73.128723\"/>\r\n     <use style=\"fill:#1f77b4;stroke:#1f77b4;\" x=\"277.585342\" xlink:href=\"#mc0884edaf1\" y=\"111.971449\"/>\r\n     <use style=\"fill:#1f77b4;stroke:#1f77b4;\" x=\"277.890315\" xlink:href=\"#mc0884edaf1\" y=\"82.897466\"/>\r\n     <use style=\"fill:#1f77b4;stroke:#1f77b4;\" x=\"278.195289\" xlink:href=\"#mc0884edaf1\" y=\"102.672517\"/>\r\n     <use style=\"fill:#1f77b4;stroke:#1f77b4;\" x=\"278.500262\" xlink:href=\"#mc0884edaf1\" y=\"119.441443\"/>\r\n     <use style=\"fill:#1f77b4;stroke:#1f77b4;\" x=\"278.805236\" xlink:href=\"#mc0884edaf1\" y=\"84.786239\"/>\r\n     <use style=\"fill:#1f77b4;stroke:#1f77b4;\" x=\"279.11021\" xlink:href=\"#mc0884edaf1\" y=\"135.143765\"/>\r\n     <use style=\"fill:#1f77b4;stroke:#1f77b4;\" x=\"279.415183\" xlink:href=\"#mc0884edaf1\" y=\"155.98121\"/>\r\n     <use style=\"fill:#1f77b4;stroke:#1f77b4;\" x=\"279.720157\" xlink:href=\"#mc0884edaf1\" y=\"173.927766\"/>\r\n     <use style=\"fill:#1f77b4;stroke:#1f77b4;\" x=\"280.02513\" xlink:href=\"#mc0884edaf1\" y=\"175.903852\"/>\r\n     <use style=\"fill:#1f77b4;stroke:#1f77b4;\" x=\"280.330104\" xlink:href=\"#mc0884edaf1\" y=\"72.416693\"/>\r\n     <use style=\"fill:#1f77b4;stroke:#1f77b4;\" x=\"280.635078\" xlink:href=\"#mc0884edaf1\" y=\"142.173865\"/>\r\n     <use style=\"fill:#1f77b4;stroke:#1f77b4;\" x=\"280.940051\" xlink:href=\"#mc0884edaf1\" y=\"103.354629\"/>\r\n     <use style=\"fill:#1f77b4;stroke:#1f77b4;\" x=\"281.245025\" xlink:href=\"#mc0884edaf1\" y=\"105.687063\"/>\r\n     <use style=\"fill:#1f77b4;stroke:#1f77b4;\" x=\"281.549998\" xlink:href=\"#mc0884edaf1\" y=\"168.311752\"/>\r\n     <use style=\"fill:#1f77b4;stroke:#1f77b4;\" x=\"281.854972\" xlink:href=\"#mc0884edaf1\" y=\"148.213817\"/>\r\n     <use style=\"fill:#1f77b4;stroke:#1f77b4;\" x=\"282.159945\" xlink:href=\"#mc0884edaf1\" y=\"100.925574\"/>\r\n     <use style=\"fill:#1f77b4;stroke:#1f77b4;\" x=\"282.464919\" xlink:href=\"#mc0884edaf1\" y=\"121.068053\"/>\r\n     <use style=\"fill:#1f77b4;stroke:#1f77b4;\" x=\"282.769893\" xlink:href=\"#mc0884edaf1\" y=\"162.637234\"/>\r\n     <use style=\"fill:#1f77b4;stroke:#1f77b4;\" x=\"283.074866\" xlink:href=\"#mc0884edaf1\" y=\"116.646733\"/>\r\n     <use style=\"fill:#1f77b4;stroke:#1f77b4;\" x=\"283.37984\" xlink:href=\"#mc0884edaf1\" y=\"104.972153\"/>\r\n     <use style=\"fill:#1f77b4;stroke:#1f77b4;\" x=\"283.684813\" xlink:href=\"#mc0884edaf1\" y=\"115.27586\"/>\r\n     <use style=\"fill:#1f77b4;stroke:#1f77b4;\" x=\"283.989787\" xlink:href=\"#mc0884edaf1\" y=\"123.518161\"/>\r\n     <use style=\"fill:#1f77b4;stroke:#1f77b4;\" x=\"284.294761\" xlink:href=\"#mc0884edaf1\" y=\"164.373097\"/>\r\n     <use style=\"fill:#1f77b4;stroke:#1f77b4;\" x=\"284.599734\" xlink:href=\"#mc0884edaf1\" y=\"91.821436\"/>\r\n     <use style=\"fill:#1f77b4;stroke:#1f77b4;\" x=\"284.904708\" xlink:href=\"#mc0884edaf1\" y=\"67.153038\"/>\r\n     <use style=\"fill:#1f77b4;stroke:#1f77b4;\" x=\"285.209681\" xlink:href=\"#mc0884edaf1\" y=\"87.419618\"/>\r\n     <use style=\"fill:#1f77b4;stroke:#1f77b4;\" x=\"285.514655\" xlink:href=\"#mc0884edaf1\" y=\"133.793724\"/>\r\n     <use style=\"fill:#1f77b4;stroke:#1f77b4;\" x=\"285.819628\" xlink:href=\"#mc0884edaf1\" y=\"63.174936\"/>\r\n     <use style=\"fill:#1f77b4;stroke:#1f77b4;\" x=\"286.124602\" xlink:href=\"#mc0884edaf1\" y=\"82.346103\"/>\r\n     <use style=\"fill:#1f77b4;stroke:#1f77b4;\" x=\"286.429576\" xlink:href=\"#mc0884edaf1\" y=\"80.507857\"/>\r\n     <use style=\"fill:#1f77b4;stroke:#1f77b4;\" x=\"286.734549\" xlink:href=\"#mc0884edaf1\" y=\"147.978025\"/>\r\n     <use style=\"fill:#1f77b4;stroke:#1f77b4;\" x=\"287.039523\" xlink:href=\"#mc0884edaf1\" y=\"108.082877\"/>\r\n     <use style=\"fill:#1f77b4;stroke:#1f77b4;\" x=\"287.344496\" xlink:href=\"#mc0884edaf1\" y=\"74.372392\"/>\r\n     <use style=\"fill:#1f77b4;stroke:#1f77b4;\" x=\"287.64947\" xlink:href=\"#mc0884edaf1\" y=\"108.262381\"/>\r\n     <use style=\"fill:#1f77b4;stroke:#1f77b4;\" x=\"287.954444\" xlink:href=\"#mc0884edaf1\" y=\"147.98556\"/>\r\n     <use style=\"fill:#1f77b4;stroke:#1f77b4;\" x=\"288.259417\" xlink:href=\"#mc0884edaf1\" y=\"125.582448\"/>\r\n     <use style=\"fill:#1f77b4;stroke:#1f77b4;\" x=\"288.564391\" xlink:href=\"#mc0884edaf1\" y=\"111.015872\"/>\r\n     <use style=\"fill:#1f77b4;stroke:#1f77b4;\" x=\"288.869364\" xlink:href=\"#mc0884edaf1\" y=\"111.940424\"/>\r\n     <use style=\"fill:#1f77b4;stroke:#1f77b4;\" x=\"289.174338\" xlink:href=\"#mc0884edaf1\" y=\"67.111375\"/>\r\n     <use style=\"fill:#1f77b4;stroke:#1f77b4;\" x=\"289.479311\" xlink:href=\"#mc0884edaf1\" y=\"142.925784\"/>\r\n     <use style=\"fill:#1f77b4;stroke:#1f77b4;\" x=\"289.784285\" xlink:href=\"#mc0884edaf1\" y=\"141.418844\"/>\r\n     <use style=\"fill:#1f77b4;stroke:#1f77b4;\" x=\"290.089259\" xlink:href=\"#mc0884edaf1\" y=\"102.780662\"/>\r\n     <use style=\"fill:#1f77b4;stroke:#1f77b4;\" x=\"290.394232\" xlink:href=\"#mc0884edaf1\" y=\"135.96394\"/>\r\n     <use style=\"fill:#1f77b4;stroke:#1f77b4;\" x=\"290.699206\" xlink:href=\"#mc0884edaf1\" y=\"101.235383\"/>\r\n     <use style=\"fill:#1f77b4;stroke:#1f77b4;\" x=\"291.004179\" xlink:href=\"#mc0884edaf1\" y=\"131.169652\"/>\r\n     <use style=\"fill:#1f77b4;stroke:#1f77b4;\" x=\"291.309153\" xlink:href=\"#mc0884edaf1\" y=\"107.461486\"/>\r\n     <use style=\"fill:#1f77b4;stroke:#1f77b4;\" x=\"291.614127\" xlink:href=\"#mc0884edaf1\" y=\"103.923943\"/>\r\n     <use style=\"fill:#1f77b4;stroke:#1f77b4;\" x=\"291.9191\" xlink:href=\"#mc0884edaf1\" y=\"105.534375\"/>\r\n     <use style=\"fill:#1f77b4;stroke:#1f77b4;\" x=\"292.224074\" xlink:href=\"#mc0884edaf1\" y=\"58.70043\"/>\r\n     <use style=\"fill:#1f77b4;stroke:#1f77b4;\" x=\"292.529047\" xlink:href=\"#mc0884edaf1\" y=\"153.207774\"/>\r\n     <use style=\"fill:#1f77b4;stroke:#1f77b4;\" x=\"292.834021\" xlink:href=\"#mc0884edaf1\" y=\"109.586272\"/>\r\n     <use style=\"fill:#1f77b4;stroke:#1f77b4;\" x=\"293.138994\" xlink:href=\"#mc0884edaf1\" y=\"87.722557\"/>\r\n     <use style=\"fill:#1f77b4;stroke:#1f77b4;\" x=\"293.443968\" xlink:href=\"#mc0884edaf1\" y=\"98.592032\"/>\r\n     <use style=\"fill:#1f77b4;stroke:#1f77b4;\" x=\"293.748942\" xlink:href=\"#mc0884edaf1\" y=\"115.160402\"/>\r\n     <use style=\"fill:#1f77b4;stroke:#1f77b4;\" x=\"294.053915\" xlink:href=\"#mc0884edaf1\" y=\"89.968563\"/>\r\n     <use style=\"fill:#1f77b4;stroke:#1f77b4;\" x=\"294.358889\" xlink:href=\"#mc0884edaf1\" y=\"145.46232\"/>\r\n     <use style=\"fill:#1f77b4;stroke:#1f77b4;\" x=\"294.663862\" xlink:href=\"#mc0884edaf1\" y=\"103.18665\"/>\r\n     <use style=\"fill:#1f77b4;stroke:#1f77b4;\" x=\"294.968836\" xlink:href=\"#mc0884edaf1\" y=\"116.54723\"/>\r\n     <use style=\"fill:#1f77b4;stroke:#1f77b4;\" x=\"295.27381\" xlink:href=\"#mc0884edaf1\" y=\"86.545149\"/>\r\n     <use style=\"fill:#1f77b4;stroke:#1f77b4;\" x=\"295.578783\" xlink:href=\"#mc0884edaf1\" y=\"184.233024\"/>\r\n     <use style=\"fill:#1f77b4;stroke:#1f77b4;\" x=\"295.883757\" xlink:href=\"#mc0884edaf1\" y=\"138.412497\"/>\r\n     <use style=\"fill:#1f77b4;stroke:#1f77b4;\" x=\"296.18873\" xlink:href=\"#mc0884edaf1\" y=\"112.156714\"/>\r\n     <use style=\"fill:#1f77b4;stroke:#1f77b4;\" x=\"296.493704\" xlink:href=\"#mc0884edaf1\" y=\"143.170662\"/>\r\n     <use style=\"fill:#1f77b4;stroke:#1f77b4;\" x=\"296.798677\" xlink:href=\"#mc0884edaf1\" y=\"141.361447\"/>\r\n     <use style=\"fill:#1f77b4;stroke:#1f77b4;\" x=\"297.103651\" xlink:href=\"#mc0884edaf1\" y=\"115.691377\"/>\r\n     <use style=\"fill:#1f77b4;stroke:#1f77b4;\" x=\"297.408625\" xlink:href=\"#mc0884edaf1\" y=\"55.57929\"/>\r\n     <use style=\"fill:#1f77b4;stroke:#1f77b4;\" x=\"297.713598\" xlink:href=\"#mc0884edaf1\" y=\"102.584095\"/>\r\n     <use style=\"fill:#1f77b4;stroke:#1f77b4;\" x=\"298.018572\" xlink:href=\"#mc0884edaf1\" y=\"152.295188\"/>\r\n     <use style=\"fill:#1f77b4;stroke:#1f77b4;\" x=\"298.323545\" xlink:href=\"#mc0884edaf1\" y=\"137.968171\"/>\r\n     <use style=\"fill:#1f77b4;stroke:#1f77b4;\" x=\"298.628519\" xlink:href=\"#mc0884edaf1\" y=\"81.693686\"/>\r\n     <use style=\"fill:#1f77b4;stroke:#1f77b4;\" x=\"298.933493\" xlink:href=\"#mc0884edaf1\" y=\"152.31469\"/>\r\n     <use style=\"fill:#1f77b4;stroke:#1f77b4;\" x=\"299.238466\" xlink:href=\"#mc0884edaf1\" y=\"95.349672\"/>\r\n     <use style=\"fill:#1f77b4;stroke:#1f77b4;\" x=\"299.54344\" xlink:href=\"#mc0884edaf1\" y=\"105.497144\"/>\r\n     <use style=\"fill:#1f77b4;stroke:#1f77b4;\" x=\"299.848413\" xlink:href=\"#mc0884edaf1\" y=\"56.749828\"/>\r\n     <use style=\"fill:#1f77b4;stroke:#1f77b4;\" x=\"300.153387\" xlink:href=\"#mc0884edaf1\" y=\"115.099016\"/>\r\n     <use style=\"fill:#1f77b4;stroke:#1f77b4;\" x=\"300.45836\" xlink:href=\"#mc0884edaf1\" y=\"154.8725\"/>\r\n     <use style=\"fill:#1f77b4;stroke:#1f77b4;\" x=\"300.763334\" xlink:href=\"#mc0884edaf1\" y=\"115.474422\"/>\r\n     <use style=\"fill:#1f77b4;stroke:#1f77b4;\" x=\"301.068308\" xlink:href=\"#mc0884edaf1\" y=\"161.871353\"/>\r\n     <use style=\"fill:#1f77b4;stroke:#1f77b4;\" x=\"301.373281\" xlink:href=\"#mc0884edaf1\" y=\"106.075987\"/>\r\n     <use style=\"fill:#1f77b4;stroke:#1f77b4;\" x=\"301.678255\" xlink:href=\"#mc0884edaf1\" y=\"92.329807\"/>\r\n     <use style=\"fill:#1f77b4;stroke:#1f77b4;\" x=\"301.983228\" xlink:href=\"#mc0884edaf1\" y=\"25.355156\"/>\r\n     <use style=\"fill:#1f77b4;stroke:#1f77b4;\" x=\"302.288202\" xlink:href=\"#mc0884edaf1\" y=\"94.709443\"/>\r\n     <use style=\"fill:#1f77b4;stroke:#1f77b4;\" x=\"302.593176\" xlink:href=\"#mc0884edaf1\" y=\"59.239383\"/>\r\n     <use style=\"fill:#1f77b4;stroke:#1f77b4;\" x=\"302.898149\" xlink:href=\"#mc0884edaf1\" y=\"127.369502\"/>\r\n     <use style=\"fill:#1f77b4;stroke:#1f77b4;\" x=\"303.203123\" xlink:href=\"#mc0884edaf1\" y=\"104.666554\"/>\r\n     <use style=\"fill:#1f77b4;stroke:#1f77b4;\" x=\"303.508096\" xlink:href=\"#mc0884edaf1\" y=\"101.597714\"/>\r\n     <use style=\"fill:#1f77b4;stroke:#1f77b4;\" x=\"303.81307\" xlink:href=\"#mc0884edaf1\" y=\"97.163097\"/>\r\n     <use style=\"fill:#1f77b4;stroke:#1f77b4;\" x=\"304.118043\" xlink:href=\"#mc0884edaf1\" y=\"110.731326\"/>\r\n     <use style=\"fill:#1f77b4;stroke:#1f77b4;\" x=\"304.423017\" xlink:href=\"#mc0884edaf1\" y=\"72.87498\"/>\r\n     <use style=\"fill:#1f77b4;stroke:#1f77b4;\" x=\"304.727991\" xlink:href=\"#mc0884edaf1\" y=\"158.104667\"/>\r\n     <use style=\"fill:#1f77b4;stroke:#1f77b4;\" x=\"305.032964\" xlink:href=\"#mc0884edaf1\" y=\"139.58924\"/>\r\n     <use style=\"fill:#1f77b4;stroke:#1f77b4;\" x=\"305.337938\" xlink:href=\"#mc0884edaf1\" y=\"104.963067\"/>\r\n     <use style=\"fill:#1f77b4;stroke:#1f77b4;\" x=\"305.642911\" xlink:href=\"#mc0884edaf1\" y=\"140.349359\"/>\r\n     <use style=\"fill:#1f77b4;stroke:#1f77b4;\" x=\"305.947885\" xlink:href=\"#mc0884edaf1\" y=\"142.81498\"/>\r\n     <use style=\"fill:#1f77b4;stroke:#1f77b4;\" x=\"306.252859\" xlink:href=\"#mc0884edaf1\" y=\"118.339382\"/>\r\n     <use style=\"fill:#1f77b4;stroke:#1f77b4;\" x=\"306.557832\" xlink:href=\"#mc0884edaf1\" y=\"93.705112\"/>\r\n     <use style=\"fill:#1f77b4;stroke:#1f77b4;\" x=\"306.862806\" xlink:href=\"#mc0884edaf1\" y=\"69.386634\"/>\r\n     <use style=\"fill:#1f77b4;stroke:#1f77b4;\" x=\"307.167779\" xlink:href=\"#mc0884edaf1\" y=\"147.393864\"/>\r\n     <use style=\"fill:#1f77b4;stroke:#1f77b4;\" x=\"307.472753\" xlink:href=\"#mc0884edaf1\" y=\"109.002554\"/>\r\n     <use style=\"fill:#1f77b4;stroke:#1f77b4;\" x=\"307.777726\" xlink:href=\"#mc0884edaf1\" y=\"93.032529\"/>\r\n     <use style=\"fill:#1f77b4;stroke:#1f77b4;\" x=\"308.0827\" xlink:href=\"#mc0884edaf1\" y=\"162.973636\"/>\r\n     <use style=\"fill:#1f77b4;stroke:#1f77b4;\" x=\"308.387674\" xlink:href=\"#mc0884edaf1\" y=\"132.710499\"/>\r\n     <use style=\"fill:#1f77b4;stroke:#1f77b4;\" x=\"308.692647\" xlink:href=\"#mc0884edaf1\" y=\"151.224152\"/>\r\n     <use style=\"fill:#1f77b4;stroke:#1f77b4;\" x=\"308.997621\" xlink:href=\"#mc0884edaf1\" y=\"130.454964\"/>\r\n     <use style=\"fill:#1f77b4;stroke:#1f77b4;\" x=\"309.302594\" xlink:href=\"#mc0884edaf1\" y=\"218.137196\"/>\r\n     <use style=\"fill:#1f77b4;stroke:#1f77b4;\" x=\"309.607568\" xlink:href=\"#mc0884edaf1\" y=\"87.287317\"/>\r\n     <use style=\"fill:#1f77b4;stroke:#1f77b4;\" x=\"309.912542\" xlink:href=\"#mc0884edaf1\" y=\"158.812485\"/>\r\n     <use style=\"fill:#1f77b4;stroke:#1f77b4;\" x=\"310.217515\" xlink:href=\"#mc0884edaf1\" y=\"111.824079\"/>\r\n     <use style=\"fill:#1f77b4;stroke:#1f77b4;\" x=\"310.522489\" xlink:href=\"#mc0884edaf1\" y=\"81.228086\"/>\r\n     <use style=\"fill:#1f77b4;stroke:#1f77b4;\" x=\"310.827462\" xlink:href=\"#mc0884edaf1\" y=\"141.956245\"/>\r\n     <use style=\"fill:#1f77b4;stroke:#1f77b4;\" x=\"311.132436\" xlink:href=\"#mc0884edaf1\" y=\"117.886856\"/>\r\n     <use style=\"fill:#1f77b4;stroke:#1f77b4;\" x=\"311.437409\" xlink:href=\"#mc0884edaf1\" y=\"103.455461\"/>\r\n     <use style=\"fill:#1f77b4;stroke:#1f77b4;\" x=\"311.742383\" xlink:href=\"#mc0884edaf1\" y=\"146.707762\"/>\r\n     <use style=\"fill:#1f77b4;stroke:#1f77b4;\" x=\"312.047357\" xlink:href=\"#mc0884edaf1\" y=\"85.433115\"/>\r\n     <use style=\"fill:#1f77b4;stroke:#1f77b4;\" x=\"312.35233\" xlink:href=\"#mc0884edaf1\" y=\"119.738621\"/>\r\n     <use style=\"fill:#1f77b4;stroke:#1f77b4;\" x=\"312.657304\" xlink:href=\"#mc0884edaf1\" y=\"171.878548\"/>\r\n     <use style=\"fill:#1f77b4;stroke:#1f77b4;\" x=\"312.962277\" xlink:href=\"#mc0884edaf1\" y=\"107.586917\"/>\r\n     <use style=\"fill:#1f77b4;stroke:#1f77b4;\" x=\"313.267251\" xlink:href=\"#mc0884edaf1\" y=\"119.967543\"/>\r\n     <use style=\"fill:#1f77b4;stroke:#1f77b4;\" x=\"313.572225\" xlink:href=\"#mc0884edaf1\" y=\"88.60589\"/>\r\n     <use style=\"fill:#1f77b4;stroke:#1f77b4;\" x=\"313.877198\" xlink:href=\"#mc0884edaf1\" y=\"133.095656\"/>\r\n     <use style=\"fill:#1f77b4;stroke:#1f77b4;\" x=\"314.182172\" xlink:href=\"#mc0884edaf1\" y=\"82.212916\"/>\r\n     <use style=\"fill:#1f77b4;stroke:#1f77b4;\" x=\"314.487145\" xlink:href=\"#mc0884edaf1\" y=\"112.696775\"/>\r\n     <use style=\"fill:#1f77b4;stroke:#1f77b4;\" x=\"314.792119\" xlink:href=\"#mc0884edaf1\" y=\"80.836724\"/>\r\n     <use style=\"fill:#1f77b4;stroke:#1f77b4;\" x=\"315.097092\" xlink:href=\"#mc0884edaf1\" y=\"141.277679\"/>\r\n     <use style=\"fill:#1f77b4;stroke:#1f77b4;\" x=\"315.402066\" xlink:href=\"#mc0884edaf1\" y=\"101.279483\"/>\r\n     <use style=\"fill:#1f77b4;stroke:#1f77b4;\" x=\"315.70704\" xlink:href=\"#mc0884edaf1\" y=\"89.273155\"/>\r\n     <use style=\"fill:#1f77b4;stroke:#1f77b4;\" x=\"316.012013\" xlink:href=\"#mc0884edaf1\" y=\"112.374999\"/>\r\n     <use style=\"fill:#1f77b4;stroke:#1f77b4;\" x=\"316.316987\" xlink:href=\"#mc0884edaf1\" y=\"93.051809\"/>\r\n     <use style=\"fill:#1f77b4;stroke:#1f77b4;\" x=\"316.62196\" xlink:href=\"#mc0884edaf1\" y=\"115.661016\"/>\r\n     <use style=\"fill:#1f77b4;stroke:#1f77b4;\" x=\"316.926934\" xlink:href=\"#mc0884edaf1\" y=\"180.306779\"/>\r\n     <use style=\"fill:#1f77b4;stroke:#1f77b4;\" x=\"317.231908\" xlink:href=\"#mc0884edaf1\" y=\"75.286972\"/>\r\n     <use style=\"fill:#1f77b4;stroke:#1f77b4;\" x=\"317.536881\" xlink:href=\"#mc0884edaf1\" y=\"113.586978\"/>\r\n     <use style=\"fill:#1f77b4;stroke:#1f77b4;\" x=\"317.841855\" xlink:href=\"#mc0884edaf1\" y=\"146.046038\"/>\r\n     <use style=\"fill:#1f77b4;stroke:#1f77b4;\" x=\"318.146828\" xlink:href=\"#mc0884edaf1\" y=\"134.250238\"/>\r\n     <use style=\"fill:#1f77b4;stroke:#1f77b4;\" x=\"318.451802\" xlink:href=\"#mc0884edaf1\" y=\"175.012541\"/>\r\n     <use style=\"fill:#1f77b4;stroke:#1f77b4;\" x=\"318.756775\" xlink:href=\"#mc0884edaf1\" y=\"105.928839\"/>\r\n     <use style=\"fill:#1f77b4;stroke:#1f77b4;\" x=\"319.061749\" xlink:href=\"#mc0884edaf1\" y=\"137.792214\"/>\r\n     <use style=\"fill:#1f77b4;stroke:#1f77b4;\" x=\"319.366723\" xlink:href=\"#mc0884edaf1\" y=\"86.706702\"/>\r\n     <use style=\"fill:#1f77b4;stroke:#1f77b4;\" x=\"319.671696\" xlink:href=\"#mc0884edaf1\" y=\"137.296474\"/>\r\n     <use style=\"fill:#1f77b4;stroke:#1f77b4;\" x=\"319.97667\" xlink:href=\"#mc0884edaf1\" y=\"124.484819\"/>\r\n     <use style=\"fill:#1f77b4;stroke:#1f77b4;\" x=\"320.281643\" xlink:href=\"#mc0884edaf1\" y=\"66.013968\"/>\r\n     <use style=\"fill:#1f77b4;stroke:#1f77b4;\" x=\"320.586617\" xlink:href=\"#mc0884edaf1\" y=\"134.229629\"/>\r\n     <use style=\"fill:#1f77b4;stroke:#1f77b4;\" x=\"320.891591\" xlink:href=\"#mc0884edaf1\" y=\"89.822523\"/>\r\n     <use style=\"fill:#1f77b4;stroke:#1f77b4;\" x=\"321.196564\" xlink:href=\"#mc0884edaf1\" y=\"166.509407\"/>\r\n     <use style=\"fill:#1f77b4;stroke:#1f77b4;\" x=\"321.501538\" xlink:href=\"#mc0884edaf1\" y=\"89.624183\"/>\r\n     <use style=\"fill:#1f77b4;stroke:#1f77b4;\" x=\"321.806511\" xlink:href=\"#mc0884edaf1\" y=\"140.369747\"/>\r\n     <use style=\"fill:#1f77b4;stroke:#1f77b4;\" x=\"322.111485\" xlink:href=\"#mc0884edaf1\" y=\"118.812517\"/>\r\n     <use style=\"fill:#1f77b4;stroke:#1f77b4;\" x=\"322.416458\" xlink:href=\"#mc0884edaf1\" y=\"123.000704\"/>\r\n     <use style=\"fill:#1f77b4;stroke:#1f77b4;\" x=\"322.721432\" xlink:href=\"#mc0884edaf1\" y=\"132.903521\"/>\r\n     <use style=\"fill:#1f77b4;stroke:#1f77b4;\" x=\"323.026406\" xlink:href=\"#mc0884edaf1\" y=\"98.713917\"/>\r\n     <use style=\"fill:#1f77b4;stroke:#1f77b4;\" x=\"323.331379\" xlink:href=\"#mc0884edaf1\" y=\"119.161551\"/>\r\n     <use style=\"fill:#1f77b4;stroke:#1f77b4;\" x=\"323.636353\" xlink:href=\"#mc0884edaf1\" y=\"130.727986\"/>\r\n     <use style=\"fill:#1f77b4;stroke:#1f77b4;\" x=\"323.941326\" xlink:href=\"#mc0884edaf1\" y=\"131.024942\"/>\r\n     <use style=\"fill:#1f77b4;stroke:#1f77b4;\" x=\"324.2463\" xlink:href=\"#mc0884edaf1\" y=\"104.35608\"/>\r\n     <use style=\"fill:#1f77b4;stroke:#1f77b4;\" x=\"324.551274\" xlink:href=\"#mc0884edaf1\" y=\"123.453451\"/>\r\n     <use style=\"fill:#1f77b4;stroke:#1f77b4;\" x=\"324.856247\" xlink:href=\"#mc0884edaf1\" y=\"49.79441\"/>\r\n     <use style=\"fill:#1f77b4;stroke:#1f77b4;\" x=\"325.161221\" xlink:href=\"#mc0884edaf1\" y=\"93.393973\"/>\r\n     <use style=\"fill:#1f77b4;stroke:#1f77b4;\" x=\"325.466194\" xlink:href=\"#mc0884edaf1\" y=\"124.830972\"/>\r\n     <use style=\"fill:#1f77b4;stroke:#1f77b4;\" x=\"325.771168\" xlink:href=\"#mc0884edaf1\" y=\"157.186319\"/>\r\n     <use style=\"fill:#1f77b4;stroke:#1f77b4;\" x=\"326.076141\" xlink:href=\"#mc0884edaf1\" y=\"142.703732\"/>\r\n     <use style=\"fill:#1f77b4;stroke:#1f77b4;\" x=\"326.381115\" xlink:href=\"#mc0884edaf1\" y=\"125.070753\"/>\r\n     <use style=\"fill:#1f77b4;stroke:#1f77b4;\" x=\"326.686089\" xlink:href=\"#mc0884edaf1\" y=\"139.754782\"/>\r\n     <use style=\"fill:#1f77b4;stroke:#1f77b4;\" x=\"326.991062\" xlink:href=\"#mc0884edaf1\" y=\"107.608856\"/>\r\n     <use style=\"fill:#1f77b4;stroke:#1f77b4;\" x=\"327.296036\" xlink:href=\"#mc0884edaf1\" y=\"84.207618\"/>\r\n     <use style=\"fill:#1f77b4;stroke:#1f77b4;\" x=\"327.601009\" xlink:href=\"#mc0884edaf1\" y=\"135.799063\"/>\r\n     <use style=\"fill:#1f77b4;stroke:#1f77b4;\" x=\"327.905983\" xlink:href=\"#mc0884edaf1\" y=\"142.926449\"/>\r\n     <use style=\"fill:#1f77b4;stroke:#1f77b4;\" x=\"328.210957\" xlink:href=\"#mc0884edaf1\" y=\"149.559648\"/>\r\n     <use style=\"fill:#1f77b4;stroke:#1f77b4;\" x=\"328.51593\" xlink:href=\"#mc0884edaf1\" y=\"77.729324\"/>\r\n     <use style=\"fill:#1f77b4;stroke:#1f77b4;\" x=\"328.820904\" xlink:href=\"#mc0884edaf1\" y=\"109.237238\"/>\r\n     <use style=\"fill:#1f77b4;stroke:#1f77b4;\" x=\"329.125877\" xlink:href=\"#mc0884edaf1\" y=\"96.288407\"/>\r\n     <use style=\"fill:#1f77b4;stroke:#1f77b4;\" x=\"329.430851\" xlink:href=\"#mc0884edaf1\" y=\"108.271023\"/>\r\n     <use style=\"fill:#1f77b4;stroke:#1f77b4;\" x=\"329.735824\" xlink:href=\"#mc0884edaf1\" y=\"165.909955\"/>\r\n     <use style=\"fill:#1f77b4;stroke:#1f77b4;\" x=\"330.040798\" xlink:href=\"#mc0884edaf1\" y=\"122.602916\"/>\r\n     <use style=\"fill:#1f77b4;stroke:#1f77b4;\" x=\"330.345772\" xlink:href=\"#mc0884edaf1\" y=\"146.559728\"/>\r\n     <use style=\"fill:#1f77b4;stroke:#1f77b4;\" x=\"330.650745\" xlink:href=\"#mc0884edaf1\" y=\"97.294955\"/>\r\n     <use style=\"fill:#1f77b4;stroke:#1f77b4;\" x=\"330.955719\" xlink:href=\"#mc0884edaf1\" y=\"117.247293\"/>\r\n     <use style=\"fill:#1f77b4;stroke:#1f77b4;\" x=\"331.260692\" xlink:href=\"#mc0884edaf1\" y=\"126.122731\"/>\r\n     <use style=\"fill:#1f77b4;stroke:#1f77b4;\" x=\"331.565666\" xlink:href=\"#mc0884edaf1\" y=\"111.73743\"/>\r\n     <use style=\"fill:#1f77b4;stroke:#1f77b4;\" x=\"331.87064\" xlink:href=\"#mc0884edaf1\" y=\"51.565731\"/>\r\n     <use style=\"fill:#1f77b4;stroke:#1f77b4;\" x=\"332.175613\" xlink:href=\"#mc0884edaf1\" y=\"174.016631\"/>\r\n     <use style=\"fill:#1f77b4;stroke:#1f77b4;\" x=\"332.480587\" xlink:href=\"#mc0884edaf1\" y=\"136.263334\"/>\r\n     <use style=\"fill:#1f77b4;stroke:#1f77b4;\" x=\"332.78556\" xlink:href=\"#mc0884edaf1\" y=\"63.16452\"/>\r\n     <use style=\"fill:#1f77b4;stroke:#1f77b4;\" x=\"333.090534\" xlink:href=\"#mc0884edaf1\" y=\"71.969486\"/>\r\n     <use style=\"fill:#1f77b4;stroke:#1f77b4;\" x=\"333.395507\" xlink:href=\"#mc0884edaf1\" y=\"169.543011\"/>\r\n     <use style=\"fill:#1f77b4;stroke:#1f77b4;\" x=\"333.700481\" xlink:href=\"#mc0884edaf1\" y=\"76.872141\"/>\r\n     <use style=\"fill:#1f77b4;stroke:#1f77b4;\" x=\"334.005455\" xlink:href=\"#mc0884edaf1\" y=\"88.284114\"/>\r\n     <use style=\"fill:#1f77b4;stroke:#1f77b4;\" x=\"334.310428\" xlink:href=\"#mc0884edaf1\" y=\"181.238866\"/>\r\n     <use style=\"fill:#1f77b4;stroke:#1f77b4;\" x=\"334.615402\" xlink:href=\"#mc0884edaf1\" y=\"102.62332\"/>\r\n     <use style=\"fill:#1f77b4;stroke:#1f77b4;\" x=\"334.920375\" xlink:href=\"#mc0884edaf1\" y=\"54.118887\"/>\r\n     <use style=\"fill:#1f77b4;stroke:#1f77b4;\" x=\"335.225349\" xlink:href=\"#mc0884edaf1\" y=\"140.461715\"/>\r\n     <use style=\"fill:#1f77b4;stroke:#1f77b4;\" x=\"335.530323\" xlink:href=\"#mc0884edaf1\" y=\"154.734216\"/>\r\n     <use style=\"fill:#1f77b4;stroke:#1f77b4;\" x=\"335.835296\" xlink:href=\"#mc0884edaf1\" y=\"125.105324\"/>\r\n     <use style=\"fill:#1f77b4;stroke:#1f77b4;\" x=\"336.14027\" xlink:href=\"#mc0884edaf1\" y=\"152.860734\"/>\r\n     <use style=\"fill:#1f77b4;stroke:#1f77b4;\" x=\"336.445243\" xlink:href=\"#mc0884edaf1\" y=\"117.916109\"/>\r\n     <use style=\"fill:#1f77b4;stroke:#1f77b4;\" x=\"336.750217\" xlink:href=\"#mc0884edaf1\" y=\"56.078796\"/>\r\n     <use style=\"fill:#1f77b4;stroke:#1f77b4;\" x=\"337.05519\" xlink:href=\"#mc0884edaf1\" y=\"74.878768\"/>\r\n     <use style=\"fill:#1f77b4;stroke:#1f77b4;\" x=\"337.360164\" xlink:href=\"#mc0884edaf1\" y=\"139.518769\"/>\r\n     <use style=\"fill:#1f77b4;stroke:#1f77b4;\" x=\"337.665138\" xlink:href=\"#mc0884edaf1\" y=\"51.302902\"/>\r\n     <use style=\"fill:#1f77b4;stroke:#1f77b4;\" x=\"337.970111\" xlink:href=\"#mc0884edaf1\" y=\"108.333517\"/>\r\n     <use style=\"fill:#1f77b4;stroke:#1f77b4;\" x=\"338.275085\" xlink:href=\"#mc0884edaf1\" y=\"80.630185\"/>\r\n     <use style=\"fill:#1f77b4;stroke:#1f77b4;\" x=\"338.580058\" xlink:href=\"#mc0884edaf1\" y=\"62.098803\"/>\r\n     <use style=\"fill:#1f77b4;stroke:#1f77b4;\" x=\"338.885032\" xlink:href=\"#mc0884edaf1\" y=\"159.417256\"/>\r\n     <use style=\"fill:#1f77b4;stroke:#1f77b4;\" x=\"339.190006\" xlink:href=\"#mc0884edaf1\" y=\"88.357245\"/>\r\n     <use style=\"fill:#1f77b4;stroke:#1f77b4;\" x=\"339.494979\" xlink:href=\"#mc0884edaf1\" y=\"149.850177\"/>\r\n     <use style=\"fill:#1f77b4;stroke:#1f77b4;\" x=\"339.799953\" xlink:href=\"#mc0884edaf1\" y=\"113.000158\"/>\r\n     <use style=\"fill:#1f77b4;stroke:#1f77b4;\" x=\"340.104926\" xlink:href=\"#mc0884edaf1\" y=\"114.950095\"/>\r\n     <use style=\"fill:#1f77b4;stroke:#1f77b4;\" x=\"340.4099\" xlink:href=\"#mc0884edaf1\" y=\"96.252949\"/>\r\n     <use style=\"fill:#1f77b4;stroke:#1f77b4;\" x=\"340.714873\" xlink:href=\"#mc0884edaf1\" y=\"101.688573\"/>\r\n     <use style=\"fill:#1f77b4;stroke:#1f77b4;\" x=\"341.019847\" xlink:href=\"#mc0884edaf1\" y=\"168.436518\"/>\r\n     <use style=\"fill:#1f77b4;stroke:#1f77b4;\" x=\"341.324821\" xlink:href=\"#mc0884edaf1\" y=\"151.075674\"/>\r\n     <use style=\"fill:#1f77b4;stroke:#1f77b4;\" x=\"341.629794\" xlink:href=\"#mc0884edaf1\" y=\"85.701705\"/>\r\n     <use style=\"fill:#1f77b4;stroke:#1f77b4;\" x=\"341.934768\" xlink:href=\"#mc0884edaf1\" y=\"188.896119\"/>\r\n     <use style=\"fill:#1f77b4;stroke:#1f77b4;\" x=\"342.239741\" xlink:href=\"#mc0884edaf1\" y=\"145.366585\"/>\r\n     <use style=\"fill:#1f77b4;stroke:#1f77b4;\" x=\"342.544715\" xlink:href=\"#mc0884edaf1\" y=\"85.1776\"/>\r\n     <use style=\"fill:#1f77b4;stroke:#1f77b4;\" x=\"342.849689\" xlink:href=\"#mc0884edaf1\" y=\"139.108349\"/>\r\n     <use style=\"fill:#1f77b4;stroke:#1f77b4;\" x=\"343.154662\" xlink:href=\"#mc0884edaf1\" y=\"37.527691\"/>\r\n     <use style=\"fill:#1f77b4;stroke:#1f77b4;\" x=\"343.459636\" xlink:href=\"#mc0884edaf1\" y=\"116.515762\"/>\r\n     <use style=\"fill:#1f77b4;stroke:#1f77b4;\" x=\"343.764609\" xlink:href=\"#mc0884edaf1\" y=\"175.794156\"/>\r\n     <use style=\"fill:#1f77b4;stroke:#1f77b4;\" x=\"344.069583\" xlink:href=\"#mc0884edaf1\" y=\"68.281692\"/>\r\n     <use style=\"fill:#1f77b4;stroke:#1f77b4;\" x=\"344.374556\" xlink:href=\"#mc0884edaf1\" y=\"118.083424\"/>\r\n     <use style=\"fill:#1f77b4;stroke:#1f77b4;\" x=\"344.67953\" xlink:href=\"#mc0884edaf1\" y=\"80.031176\"/>\r\n     <use style=\"fill:#1f77b4;stroke:#1f77b4;\" x=\"344.984504\" xlink:href=\"#mc0884edaf1\" y=\"111.781974\"/>\r\n     <use style=\"fill:#1f77b4;stroke:#1f77b4;\" x=\"345.289477\" xlink:href=\"#mc0884edaf1\" y=\"94.800303\"/>\r\n     <use style=\"fill:#1f77b4;stroke:#1f77b4;\" x=\"345.594451\" xlink:href=\"#mc0884edaf1\" y=\"174.39802\"/>\r\n     <use style=\"fill:#1f77b4;stroke:#1f77b4;\" x=\"345.899424\" xlink:href=\"#mc0884edaf1\" y=\"120.466163\"/>\r\n     <use style=\"fill:#1f77b4;stroke:#1f77b4;\" x=\"346.204398\" xlink:href=\"#mc0884edaf1\" y=\"94.721189\"/>\r\n     <use style=\"fill:#1f77b4;stroke:#1f77b4;\" x=\"346.509372\" xlink:href=\"#mc0884edaf1\" y=\"112.792954\"/>\r\n     <use style=\"fill:#1f77b4;stroke:#1f77b4;\" x=\"346.814345\" xlink:href=\"#mc0884edaf1\" y=\"144.435828\"/>\r\n     <use style=\"fill:#1f77b4;stroke:#1f77b4;\" x=\"347.119319\" xlink:href=\"#mc0884edaf1\" y=\"163.209207\"/>\r\n     <use style=\"fill:#1f77b4;stroke:#1f77b4;\" x=\"347.424292\" xlink:href=\"#mc0884edaf1\" y=\"149.236099\"/>\r\n     <use style=\"fill:#1f77b4;stroke:#1f77b4;\" x=\"347.729266\" xlink:href=\"#mc0884edaf1\" y=\"139.656166\"/>\r\n     <use style=\"fill:#1f77b4;stroke:#1f77b4;\" x=\"348.03424\" xlink:href=\"#mc0884edaf1\" y=\"142.352925\"/>\r\n     <use style=\"fill:#1f77b4;stroke:#1f77b4;\" x=\"348.339213\" xlink:href=\"#mc0884edaf1\" y=\"85.789684\"/>\r\n     <use style=\"fill:#1f77b4;stroke:#1f77b4;\" x=\"348.644187\" xlink:href=\"#mc0884edaf1\" y=\"97.408418\"/>\r\n     <use style=\"fill:#1f77b4;stroke:#1f77b4;\" x=\"348.94916\" xlink:href=\"#mc0884edaf1\" y=\"102.666534\"/>\r\n     <use style=\"fill:#1f77b4;stroke:#1f77b4;\" x=\"349.254134\" xlink:href=\"#mc0884edaf1\" y=\"125.046819\"/>\r\n     <use style=\"fill:#1f77b4;stroke:#1f77b4;\" x=\"349.559107\" xlink:href=\"#mc0884edaf1\" y=\"150.769411\"/>\r\n     <use style=\"fill:#1f77b4;stroke:#1f77b4;\" x=\"349.864081\" xlink:href=\"#mc0884edaf1\" y=\"114.166929\"/>\r\n     <use style=\"fill:#1f77b4;stroke:#1f77b4;\" x=\"350.169055\" xlink:href=\"#mc0884edaf1\" y=\"158.832209\"/>\r\n     <use style=\"fill:#1f77b4;stroke:#1f77b4;\" x=\"350.474028\" xlink:href=\"#mc0884edaf1\" y=\"106.567737\"/>\r\n     <use style=\"fill:#1f77b4;stroke:#1f77b4;\" x=\"350.779002\" xlink:href=\"#mc0884edaf1\" y=\"103.320945\"/>\r\n     <use style=\"fill:#1f77b4;stroke:#1f77b4;\" x=\"351.083975\" xlink:href=\"#mc0884edaf1\" y=\"154.643578\"/>\r\n     <use style=\"fill:#1f77b4;stroke:#1f77b4;\" x=\"351.388949\" xlink:href=\"#mc0884edaf1\" y=\"162.076563\"/>\r\n     <use style=\"fill:#1f77b4;stroke:#1f77b4;\" x=\"351.693923\" xlink:href=\"#mc0884edaf1\" y=\"124.433406\"/>\r\n     <use style=\"fill:#1f77b4;stroke:#1f77b4;\" x=\"351.998896\" xlink:href=\"#mc0884edaf1\" y=\"43.783933\"/>\r\n     <use style=\"fill:#1f77b4;stroke:#1f77b4;\" x=\"352.30387\" xlink:href=\"#mc0884edaf1\" y=\"173.417622\"/>\r\n     <use style=\"fill:#1f77b4;stroke:#1f77b4;\" x=\"352.608843\" xlink:href=\"#mc0884edaf1\" y=\"166.058876\"/>\r\n     <use style=\"fill:#1f77b4;stroke:#1f77b4;\" x=\"352.913817\" xlink:href=\"#mc0884edaf1\" y=\"87.569647\"/>\r\n     <use style=\"fill:#1f77b4;stroke:#1f77b4;\" x=\"353.21879\" xlink:href=\"#mc0884edaf1\" y=\"146.308202\"/>\r\n     <use style=\"fill:#1f77b4;stroke:#1f77b4;\" x=\"353.523764\" xlink:href=\"#mc0884edaf1\" y=\"125.757076\"/>\r\n     <use style=\"fill:#1f77b4;stroke:#1f77b4;\" x=\"353.828738\" xlink:href=\"#mc0884edaf1\" y=\"163.393142\"/>\r\n     <use style=\"fill:#1f77b4;stroke:#1f77b4;\" x=\"354.133711\" xlink:href=\"#mc0884edaf1\" y=\"84.345459\"/>\r\n     <use style=\"fill:#1f77b4;stroke:#1f77b4;\" x=\"354.438685\" xlink:href=\"#mc0884edaf1\" y=\"114.939901\"/>\r\n     <use style=\"fill:#1f77b4;stroke:#1f77b4;\" x=\"354.743658\" xlink:href=\"#mc0884edaf1\" y=\"106.629788\"/>\r\n     <use style=\"fill:#1f77b4;stroke:#1f77b4;\" x=\"355.048632\" xlink:href=\"#mc0884edaf1\" y=\"120.243003\"/>\r\n     <use style=\"fill:#1f77b4;stroke:#1f77b4;\" x=\"355.353606\" xlink:href=\"#mc0884edaf1\" y=\"164.261849\"/>\r\n     <use style=\"fill:#1f77b4;stroke:#1f77b4;\" x=\"355.658579\" xlink:href=\"#mc0884edaf1\" y=\"154.027284\"/>\r\n     <use style=\"fill:#1f77b4;stroke:#1f77b4;\" x=\"355.963553\" xlink:href=\"#mc0884edaf1\" y=\"126.895703\"/>\r\n     <use style=\"fill:#1f77b4;stroke:#1f77b4;\" x=\"356.268526\" xlink:href=\"#mc0884edaf1\" y=\"133.2643\"/>\r\n     <use style=\"fill:#1f77b4;stroke:#1f77b4;\" x=\"356.5735\" xlink:href=\"#mc0884edaf1\" y=\"174.058737\"/>\r\n     <use style=\"fill:#1f77b4;stroke:#1f77b4;\" x=\"356.878473\" xlink:href=\"#mc0884edaf1\" y=\"123.480044\"/>\r\n     <use style=\"fill:#1f77b4;stroke:#1f77b4;\" x=\"357.183447\" xlink:href=\"#mc0884edaf1\" y=\"126.381791\"/>\r\n     <use style=\"fill:#1f77b4;stroke:#1f77b4;\" x=\"357.488421\" xlink:href=\"#mc0884edaf1\" y=\"76.675795\"/>\r\n     <use style=\"fill:#1f77b4;stroke:#1f77b4;\" x=\"357.793394\" xlink:href=\"#mc0884edaf1\" y=\"143.409778\"/>\r\n     <use style=\"fill:#1f77b4;stroke:#1f77b4;\" x=\"358.098368\" xlink:href=\"#mc0884edaf1\" y=\"111.648565\"/>\r\n     <use style=\"fill:#1f77b4;stroke:#1f77b4;\" x=\"358.403341\" xlink:href=\"#mc0884edaf1\" y=\"131.290651\"/>\r\n     <use style=\"fill:#1f77b4;stroke:#1f77b4;\" x=\"358.708315\" xlink:href=\"#mc0884edaf1\" y=\"91.323037\"/>\r\n     <use style=\"fill:#1f77b4;stroke:#1f77b4;\" x=\"359.013289\" xlink:href=\"#mc0884edaf1\" y=\"95.138921\"/>\r\n     <use style=\"fill:#1f77b4;stroke:#1f77b4;\" x=\"359.318262\" xlink:href=\"#mc0884edaf1\" y=\"120.697079\"/>\r\n     <use style=\"fill:#1f77b4;stroke:#1f77b4;\" x=\"359.623236\" xlink:href=\"#mc0884edaf1\" y=\"60.964387\"/>\r\n     <use style=\"fill:#1f77b4;stroke:#1f77b4;\" x=\"359.928209\" xlink:href=\"#mc0884edaf1\" y=\"128.915668\"/>\r\n     <use style=\"fill:#1f77b4;stroke:#1f77b4;\" x=\"360.233183\" xlink:href=\"#mc0884edaf1\" y=\"152.721121\"/>\r\n     <use style=\"fill:#1f77b4;stroke:#1f77b4;\" x=\"360.538156\" xlink:href=\"#mc0884edaf1\" y=\"128.990572\"/>\r\n     <use style=\"fill:#1f77b4;stroke:#1f77b4;\" x=\"360.84313\" xlink:href=\"#mc0884edaf1\" y=\"118.855509\"/>\r\n     <use style=\"fill:#1f77b4;stroke:#1f77b4;\" x=\"361.148104\" xlink:href=\"#mc0884edaf1\" y=\"68.183519\"/>\r\n     <use style=\"fill:#1f77b4;stroke:#1f77b4;\" x=\"361.453077\" xlink:href=\"#mc0884edaf1\" y=\"82.424774\"/>\r\n     <use style=\"fill:#1f77b4;stroke:#1f77b4;\" x=\"361.758051\" xlink:href=\"#mc0884edaf1\" y=\"84.626015\"/>\r\n     <use style=\"fill:#1f77b4;stroke:#1f77b4;\" x=\"362.063024\" xlink:href=\"#mc0884edaf1\" y=\"144.702423\"/>\r\n     <use style=\"fill:#1f77b4;stroke:#1f77b4;\" x=\"362.367998\" xlink:href=\"#mc0884edaf1\" y=\"130.512582\"/>\r\n     <use style=\"fill:#1f77b4;stroke:#1f77b4;\" x=\"362.672972\" xlink:href=\"#mc0884edaf1\" y=\"110.031263\"/>\r\n     <use style=\"fill:#1f77b4;stroke:#1f77b4;\" x=\"362.977945\" xlink:href=\"#mc0884edaf1\" y=\"95.981922\"/>\r\n     <use style=\"fill:#1f77b4;stroke:#1f77b4;\" x=\"363.282919\" xlink:href=\"#mc0884edaf1\" y=\"110.272152\"/>\r\n     <use style=\"fill:#1f77b4;stroke:#1f77b4;\" x=\"363.587892\" xlink:href=\"#mc0884edaf1\" y=\"160.266683\"/>\r\n     <use style=\"fill:#1f77b4;stroke:#1f77b4;\" x=\"363.892866\" xlink:href=\"#mc0884edaf1\" y=\"96.523977\"/>\r\n     <use style=\"fill:#1f77b4;stroke:#1f77b4;\" x=\"364.197839\" xlink:href=\"#mc0884edaf1\" y=\"119.081993\"/>\r\n     <use style=\"fill:#1f77b4;stroke:#1f77b4;\" x=\"364.502813\" xlink:href=\"#mc0884edaf1\" y=\"114.998184\"/>\r\n     <use style=\"fill:#1f77b4;stroke:#1f77b4;\" x=\"364.807787\" xlink:href=\"#mc0884edaf1\" y=\"134.399381\"/>\r\n     <use style=\"fill:#1f77b4;stroke:#1f77b4;\" x=\"365.11276\" xlink:href=\"#mc0884edaf1\" y=\"56.61509\"/>\r\n     <use style=\"fill:#1f77b4;stroke:#1f77b4;\" x=\"365.417734\" xlink:href=\"#mc0884edaf1\" y=\"172.553569\"/>\r\n     <use style=\"fill:#1f77b4;stroke:#1f77b4;\" x=\"365.722707\" xlink:href=\"#mc0884edaf1\" y=\"160.129507\"/>\r\n     <use style=\"fill:#1f77b4;stroke:#1f77b4;\" x=\"366.027681\" xlink:href=\"#mc0884edaf1\" y=\"92.039942\"/>\r\n     <use style=\"fill:#1f77b4;stroke:#1f77b4;\" x=\"366.332655\" xlink:href=\"#mc0884edaf1\" y=\"175.892107\"/>\r\n     <use style=\"fill:#1f77b4;stroke:#1f77b4;\" x=\"366.637628\" xlink:href=\"#mc0884edaf1\" y=\"119.040109\"/>\r\n     <use style=\"fill:#1f77b4;stroke:#1f77b4;\" x=\"366.942602\" xlink:href=\"#mc0884edaf1\" y=\"117.258595\"/>\r\n     <use style=\"fill:#1f77b4;stroke:#1f77b4;\" x=\"367.247575\" xlink:href=\"#mc0884edaf1\" y=\"92.102657\"/>\r\n     <use style=\"fill:#1f77b4;stroke:#1f77b4;\" x=\"367.552549\" xlink:href=\"#mc0884edaf1\" y=\"120.824061\"/>\r\n     <use style=\"fill:#1f77b4;stroke:#1f77b4;\" x=\"367.857522\" xlink:href=\"#mc0884edaf1\" y=\"169.023338\"/>\r\n     <use style=\"fill:#1f77b4;stroke:#1f77b4;\" x=\"368.162496\" xlink:href=\"#mc0884edaf1\" y=\"145.837061\"/>\r\n     <use style=\"fill:#1f77b4;stroke:#1f77b4;\" x=\"368.46747\" xlink:href=\"#mc0884edaf1\" y=\"115.298021\"/>\r\n     <use style=\"fill:#1f77b4;stroke:#1f77b4;\" x=\"368.772443\" xlink:href=\"#mc0884edaf1\" y=\"83.766173\"/>\r\n    </g>\r\n   </g>\r\n   <g id=\"patch_3\">\r\n    <path d=\"M 49.190625 228.020832 \r\nL 49.190625 10.580832 \r\n\" style=\"fill:none;stroke:#000000;stroke-linecap:square;stroke-linejoin:miter;stroke-width:0.8;\"/>\r\n   </g>\r\n   <g id=\"patch_4\">\r\n    <path d=\"M 383.990625 228.020832 \r\nL 383.990625 10.580832 \r\n\" style=\"fill:none;stroke:#000000;stroke-linecap:square;stroke-linejoin:miter;stroke-width:0.8;\"/>\r\n   </g>\r\n   <g id=\"patch_5\">\r\n    <path d=\"M 49.190625 228.020832 \r\nL 383.990625 228.020832 \r\n\" style=\"fill:none;stroke:#000000;stroke-linecap:square;stroke-linejoin:miter;stroke-width:0.8;\"/>\r\n   </g>\r\n   <g id=\"patch_6\">\r\n    <path d=\"M 49.190625 10.580832 \r\nL 383.990625 10.580832 \r\n\" style=\"fill:none;stroke:#000000;stroke-linecap:square;stroke-linejoin:miter;stroke-width:0.8;\"/>\r\n   </g>\r\n   <g id=\"legend_1\">\r\n    <g id=\"patch_7\">\r\n     <path d=\"M 308.315625 33.258957 \r\nL 376.990625 33.258957 \r\nQ 378.990625 33.258957 378.990625 31.258957 \r\nL 378.990625 17.580832 \r\nQ 378.990625 15.580832 376.990625 15.580832 \r\nL 308.315625 15.580832 \r\nQ 306.315625 15.580832 306.315625 17.580832 \r\nL 306.315625 31.258957 \r\nQ 306.315625 33.258957 308.315625 33.258957 \r\nz\r\n\" style=\"fill:#ffffff;opacity:0.8;stroke:#cccccc;stroke-linejoin:miter;\"/>\r\n    </g>\r\n    <g id=\"line2d_17\"/>\r\n    <g id=\"line2d_18\">\r\n     <g>\r\n      <use style=\"fill:#1f77b4;stroke:#1f77b4;\" x=\"320.315625\" xlink:href=\"#mc0884edaf1\" y=\"23.67927\"/>\r\n     </g>\r\n    </g>\r\n    <g id=\"text_16\">\r\n     <!-- Rendas -->\r\n     <g transform=\"translate(338.315625 27.17927)scale(0.1 -0.1)\">\r\n      <defs>\r\n       <path d=\"M 44.390625 34.1875 \r\nQ 47.5625 33.109375 50.5625 29.59375 \r\nQ 53.5625 26.078125 56.59375 19.921875 \r\nL 66.609375 0 \r\nL 56 0 \r\nL 46.6875 18.703125 \r\nQ 43.0625 26.03125 39.671875 28.421875 \r\nQ 36.28125 30.8125 30.421875 30.8125 \r\nL 19.671875 30.8125 \r\nL 19.671875 0 \r\nL 9.8125 0 \r\nL 9.8125 72.90625 \r\nL 32.078125 72.90625 \r\nQ 44.578125 72.90625 50.734375 67.671875 \r\nQ 56.890625 62.453125 56.890625 51.90625 \r\nQ 56.890625 45.015625 53.6875 40.46875 \r\nQ 50.484375 35.9375 44.390625 34.1875 \r\nz\r\nM 19.671875 64.796875 \r\nL 19.671875 38.921875 \r\nL 32.078125 38.921875 \r\nQ 39.203125 38.921875 42.84375 42.21875 \r\nQ 46.484375 45.515625 46.484375 51.90625 \r\nQ 46.484375 58.296875 42.84375 61.546875 \r\nQ 39.203125 64.796875 32.078125 64.796875 \r\nz\r\n\" id=\"DejaVuSans-82\"/>\r\n       <path d=\"M 56.203125 29.59375 \r\nL 56.203125 25.203125 \r\nL 14.890625 25.203125 \r\nQ 15.484375 15.921875 20.484375 11.0625 \r\nQ 25.484375 6.203125 34.421875 6.203125 \r\nQ 39.59375 6.203125 44.453125 7.46875 \r\nQ 49.3125 8.734375 54.109375 11.28125 \r\nL 54.109375 2.78125 \r\nQ 49.265625 0.734375 44.1875 -0.34375 \r\nQ 39.109375 -1.421875 33.890625 -1.421875 \r\nQ 20.796875 -1.421875 13.15625 6.1875 \r\nQ 5.515625 13.8125 5.515625 26.8125 \r\nQ 5.515625 40.234375 12.765625 48.109375 \r\nQ 20.015625 56 32.328125 56 \r\nQ 43.359375 56 49.78125 48.890625 \r\nQ 56.203125 41.796875 56.203125 29.59375 \r\nz\r\nM 47.21875 32.234375 \r\nQ 47.125 39.59375 43.09375 43.984375 \r\nQ 39.0625 48.390625 32.421875 48.390625 \r\nQ 24.90625 48.390625 20.390625 44.140625 \r\nQ 15.875 39.890625 15.1875 32.171875 \r\nz\r\n\" id=\"DejaVuSans-101\"/>\r\n       <path d=\"M 54.890625 33.015625 \r\nL 54.890625 0 \r\nL 45.90625 0 \r\nL 45.90625 32.71875 \r\nQ 45.90625 40.484375 42.875 44.328125 \r\nQ 39.84375 48.1875 33.796875 48.1875 \r\nQ 26.515625 48.1875 22.3125 43.546875 \r\nQ 18.109375 38.921875 18.109375 30.90625 \r\nL 18.109375 0 \r\nL 9.078125 0 \r\nL 9.078125 54.6875 \r\nL 18.109375 54.6875 \r\nL 18.109375 46.1875 \r\nQ 21.34375 51.125 25.703125 53.5625 \r\nQ 30.078125 56 35.796875 56 \r\nQ 45.21875 56 50.046875 50.171875 \r\nQ 54.890625 44.34375 54.890625 33.015625 \r\nz\r\n\" id=\"DejaVuSans-110\"/>\r\n       <path d=\"M 45.40625 46.390625 \r\nL 45.40625 75.984375 \r\nL 54.390625 75.984375 \r\nL 54.390625 0 \r\nL 45.40625 0 \r\nL 45.40625 8.203125 \r\nQ 42.578125 3.328125 38.25 0.953125 \r\nQ 33.9375 -1.421875 27.875 -1.421875 \r\nQ 17.96875 -1.421875 11.734375 6.484375 \r\nQ 5.515625 14.40625 5.515625 27.296875 \r\nQ 5.515625 40.1875 11.734375 48.09375 \r\nQ 17.96875 56 27.875 56 \r\nQ 33.9375 56 38.25 53.625 \r\nQ 42.578125 51.265625 45.40625 46.390625 \r\nz\r\nM 14.796875 27.296875 \r\nQ 14.796875 17.390625 18.875 11.75 \r\nQ 22.953125 6.109375 30.078125 6.109375 \r\nQ 37.203125 6.109375 41.296875 11.75 \r\nQ 45.40625 17.390625 45.40625 27.296875 \r\nQ 45.40625 37.203125 41.296875 42.84375 \r\nQ 37.203125 48.484375 30.078125 48.484375 \r\nQ 22.953125 48.484375 18.875 42.84375 \r\nQ 14.796875 37.203125 14.796875 27.296875 \r\nz\r\n\" id=\"DejaVuSans-100\"/>\r\n       <path d=\"M 34.28125 27.484375 \r\nQ 23.390625 27.484375 19.1875 25 \r\nQ 14.984375 22.515625 14.984375 16.5 \r\nQ 14.984375 11.71875 18.140625 8.90625 \r\nQ 21.296875 6.109375 26.703125 6.109375 \r\nQ 34.1875 6.109375 38.703125 11.40625 \r\nQ 43.21875 16.703125 43.21875 25.484375 \r\nL 43.21875 27.484375 \r\nz\r\nM 52.203125 31.203125 \r\nL 52.203125 0 \r\nL 43.21875 0 \r\nL 43.21875 8.296875 \r\nQ 40.140625 3.328125 35.546875 0.953125 \r\nQ 30.953125 -1.421875 24.3125 -1.421875 \r\nQ 15.921875 -1.421875 10.953125 3.296875 \r\nQ 6 8.015625 6 15.921875 \r\nQ 6 25.140625 12.171875 29.828125 \r\nQ 18.359375 34.515625 30.609375 34.515625 \r\nL 43.21875 34.515625 \r\nL 43.21875 35.40625 \r\nQ 43.21875 41.609375 39.140625 45 \r\nQ 35.0625 48.390625 27.6875 48.390625 \r\nQ 23 48.390625 18.546875 47.265625 \r\nQ 14.109375 46.140625 10.015625 43.890625 \r\nL 10.015625 52.203125 \r\nQ 14.9375 54.109375 19.578125 55.046875 \r\nQ 24.21875 56 28.609375 56 \r\nQ 40.484375 56 46.34375 49.84375 \r\nQ 52.203125 43.703125 52.203125 31.203125 \r\nz\r\n\" id=\"DejaVuSans-97\"/>\r\n       <path d=\"M 44.28125 53.078125 \r\nL 44.28125 44.578125 \r\nQ 40.484375 46.53125 36.375 47.5 \r\nQ 32.28125 48.484375 27.875 48.484375 \r\nQ 21.1875 48.484375 17.84375 46.4375 \r\nQ 14.5 44.390625 14.5 40.28125 \r\nQ 14.5 37.15625 16.890625 35.375 \r\nQ 19.28125 33.59375 26.515625 31.984375 \r\nL 29.59375 31.296875 \r\nQ 39.15625 29.25 43.1875 25.515625 \r\nQ 47.21875 21.78125 47.21875 15.09375 \r\nQ 47.21875 7.46875 41.1875 3.015625 \r\nQ 35.15625 -1.421875 24.609375 -1.421875 \r\nQ 20.21875 -1.421875 15.453125 -0.5625 \r\nQ 10.6875 0.296875 5.421875 2 \r\nL 5.421875 11.28125 \r\nQ 10.40625 8.6875 15.234375 7.390625 \r\nQ 20.0625 6.109375 24.8125 6.109375 \r\nQ 31.15625 6.109375 34.5625 8.28125 \r\nQ 37.984375 10.453125 37.984375 14.40625 \r\nQ 37.984375 18.0625 35.515625 20.015625 \r\nQ 33.0625 21.96875 24.703125 23.78125 \r\nL 21.578125 24.515625 \r\nQ 13.234375 26.265625 9.515625 29.90625 \r\nQ 5.8125 33.546875 5.8125 39.890625 \r\nQ 5.8125 47.609375 11.28125 51.796875 \r\nQ 16.75 56 26.8125 56 \r\nQ 31.78125 56 36.171875 55.265625 \r\nQ 40.578125 54.546875 44.28125 53.078125 \r\nz\r\n\" id=\"DejaVuSans-115\"/>\r\n      </defs>\r\n      <use xlink:href=\"#DejaVuSans-82\"/>\r\n      <use x=\"64.982422\" xlink:href=\"#DejaVuSans-101\"/>\r\n      <use x=\"126.505859\" xlink:href=\"#DejaVuSans-110\"/>\r\n      <use x=\"189.884766\" xlink:href=\"#DejaVuSans-100\"/>\r\n      <use x=\"253.361328\" xlink:href=\"#DejaVuSans-97\"/>\r\n      <use x=\"314.640625\" xlink:href=\"#DejaVuSans-115\"/>\r\n     </g>\r\n    </g>\r\n   </g>\r\n  </g>\r\n </g>\r\n <defs>\r\n  <clipPath id=\"pa7e0a67a31\">\r\n   <rect height=\"217.44\" width=\"334.8\" x=\"49.190625\" y=\"10.580832\"/>\r\n  </clipPath>\r\n </defs>\r\n</svg>\r\n",
      "image/png": "[encoded data removed]"
     },
     "metadata": {
      "needs_background": "light"
     }
    }
   ],
   "source": [
    "# Criando o Gráfico\n",
    "ax = medias.plot(style = '.')"
   ]
  },
  {
   "cell_type": "code",
   "execution_count": 125,
   "metadata": {},
   "outputs": [
    {
     "output_type": "display_data",
     "data": {
      "text/plain": "<Figure size 864x432 with 1 Axes>",
      "image/svg+xml": "<?xml version=\"1.0\" encoding=\"utf-8\" standalone=\"no\"?>\r\n<!DOCTYPE svg PUBLIC \"-//W3C//DTD SVG 1.1//EN\"\r\n  \"http://www.w3.org/Graphics/SVG/1.1/DTD/svg11.dtd\">\r\n<!-- Created with matplotlib (https://matplotlib.org/) -->\r\n<svg height=\"360.409764pt\" version=\"1.1\" viewBox=\"0 0 725.990625 360.409764\" width=\"725.990625pt\" xmlns=\"http://www.w3.org/2000/svg\" xmlns:xlink=\"http://www.w3.org/1999/xlink\">\r\n <metadata>\r\n  <rdf:RDF xmlns:cc=\"http://creativecommons.org/ns#\" xmlns:dc=\"http://purl.org/dc/elements/1.1/\" xmlns:rdf=\"http://www.w3.org/1999/02/22-rdf-syntax-ns#\">\r\n   <cc:Work>\r\n    <dc:type rdf:resource=\"http://purl.org/dc/dcmitype/StillImage\"/>\r\n    <dc:date>2021-06-24T16:09:10.739706</dc:date>\r\n    <dc:format>image/svg+xml</dc:format>\r\n    <dc:creator>\r\n     <cc:Agent>\r\n      <dc:title>Matplotlib v3.3.4, https://matplotlib.org/</dc:title>\r\n     </cc:Agent>\r\n    </dc:creator>\r\n   </cc:Work>\r\n  </rdf:RDF>\r\n </metadata>\r\n <defs>\r\n  <style type=\"text/css\">*{stroke-linecap:butt;stroke-linejoin:round;}</style>\r\n </defs>\r\n <g id=\"figure_1\">\r\n  <g id=\"patch_1\">\r\n   <path d=\"M 0 360.409764 \r\nL 725.990625 360.409764 \r\nL 725.990625 0 \r\nL 0 0 \r\nz\r\n\" style=\"fill:none;\"/>\r\n  </g>\r\n  <g id=\"axes_1\">\r\n   <g id=\"patch_2\">\r\n    <path d=\"M 49.190625 336.531639 \r\nL 718.790625 336.531639 \r\nL 718.790625 10.371639 \r\nL 49.190625 10.371639 \r\nz\r\n\" style=\"fill:#ffffff;\"/>\r\n   </g>\r\n   <g id=\"matplotlib.axis_1\">\r\n    <g id=\"xtick_1\">\r\n     <g id=\"line2d_1\">\r\n      <defs>\r\n       <path d=\"M 0 0 \r\nL 0 3.5 \r\n\" id=\"m094a624762\" style=\"stroke:#000000;stroke-width:0.8;\"/>\r\n      </defs>\r\n      <g>\r\n       <use style=\"stroke:#000000;stroke-width:0.8;\" x=\"79.626989\" xlink:href=\"#m094a624762\" y=\"336.531639\"/>\r\n      </g>\r\n     </g>\r\n     <g id=\"text_1\">\r\n      <!-- 0 -->\r\n      <g transform=\"translate(76.445739 351.130076)scale(0.1 -0.1)\">\r\n       <defs>\r\n        <path d=\"M 31.78125 66.40625 \r\nQ 24.171875 66.40625 20.328125 58.90625 \r\nQ 16.5 51.421875 16.5 36.375 \r\nQ 16.5 21.390625 20.328125 13.890625 \r\nQ 24.171875 6.390625 31.78125 6.390625 \r\nQ 39.453125 6.390625 43.28125 13.890625 \r\nQ 47.125 21.390625 47.125 36.375 \r\nQ 47.125 51.421875 43.28125 58.90625 \r\nQ 39.453125 66.40625 31.78125 66.40625 \r\nz\r\nM 31.78125 74.21875 \r\nQ 44.046875 74.21875 50.515625 64.515625 \r\nQ 56.984375 54.828125 56.984375 36.375 \r\nQ 56.984375 17.96875 50.515625 8.265625 \r\nQ 44.046875 -1.421875 31.78125 -1.421875 \r\nQ 19.53125 -1.421875 13.0625 8.265625 \r\nQ 6.59375 17.96875 6.59375 36.375 \r\nQ 6.59375 54.828125 13.0625 64.515625 \r\nQ 19.53125 74.21875 31.78125 74.21875 \r\nz\r\n\" id=\"DejaVuSans-48\"/>\r\n       </defs>\r\n       <use xlink:href=\"#DejaVuSans-48\"/>\r\n      </g>\r\n     </g>\r\n    </g>\r\n    <g id=\"xtick_2\">\r\n     <g id=\"line2d_2\">\r\n      <g>\r\n       <use style=\"stroke:#000000;stroke-width:0.8;\" x=\"201.616422\" xlink:href=\"#m094a624762\" y=\"336.531639\"/>\r\n      </g>\r\n     </g>\r\n     <g id=\"text_2\">\r\n      <!-- 200 -->\r\n      <g transform=\"translate(192.072672 351.130076)scale(0.1 -0.1)\">\r\n       <defs>\r\n        <path d=\"M 19.1875 8.296875 \r\nL 53.609375 8.296875 \r\nL 53.609375 0 \r\nL 7.328125 0 \r\nL 7.328125 8.296875 \r\nQ 12.9375 14.109375 22.625 23.890625 \r\nQ 32.328125 33.6875 34.8125 36.53125 \r\nQ 39.546875 41.84375 41.421875 45.53125 \r\nQ 43.3125 49.21875 43.3125 52.78125 \r\nQ 43.3125 58.59375 39.234375 62.25 \r\nQ 35.15625 65.921875 28.609375 65.921875 \r\nQ 23.96875 65.921875 18.8125 64.3125 \r\nQ 13.671875 62.703125 7.8125 59.421875 \r\nL 7.8125 69.390625 \r\nQ 13.765625 71.78125 18.9375 73 \r\nQ 24.125 74.21875 28.421875 74.21875 \r\nQ 39.75 74.21875 46.484375 68.546875 \r\nQ 53.21875 62.890625 53.21875 53.421875 \r\nQ 53.21875 48.921875 51.53125 44.890625 \r\nQ 49.859375 40.875 45.40625 35.40625 \r\nQ 44.1875 33.984375 37.640625 27.21875 \r\nQ 31.109375 20.453125 19.1875 8.296875 \r\nz\r\n\" id=\"DejaVuSans-50\"/>\r\n       </defs>\r\n       <use xlink:href=\"#DejaVuSans-50\"/>\r\n       <use x=\"63.623047\" xlink:href=\"#DejaVuSans-48\"/>\r\n       <use x=\"127.246094\" xlink:href=\"#DejaVuSans-48\"/>\r\n      </g>\r\n     </g>\r\n    </g>\r\n    <g id=\"xtick_3\">\r\n     <g id=\"line2d_3\">\r\n      <g>\r\n       <use style=\"stroke:#000000;stroke-width:0.8;\" x=\"323.605855\" xlink:href=\"#m094a624762\" y=\"336.531639\"/>\r\n      </g>\r\n     </g>\r\n     <g id=\"text_3\">\r\n      <!-- 400 -->\r\n      <g transform=\"translate(314.062105 351.130076)scale(0.1 -0.1)\">\r\n       <defs>\r\n        <path d=\"M 37.796875 64.3125 \r\nL 12.890625 25.390625 \r\nL 37.796875 25.390625 \r\nz\r\nM 35.203125 72.90625 \r\nL 47.609375 72.90625 \r\nL 47.609375 25.390625 \r\nL 58.015625 25.390625 \r\nL 58.015625 17.1875 \r\nL 47.609375 17.1875 \r\nL 47.609375 0 \r\nL 37.796875 0 \r\nL 37.796875 17.1875 \r\nL 4.890625 17.1875 \r\nL 4.890625 26.703125 \r\nz\r\n\" id=\"DejaVuSans-52\"/>\r\n       </defs>\r\n       <use xlink:href=\"#DejaVuSans-52\"/>\r\n       <use x=\"63.623047\" xlink:href=\"#DejaVuSans-48\"/>\r\n       <use x=\"127.246094\" xlink:href=\"#DejaVuSans-48\"/>\r\n      </g>\r\n     </g>\r\n    </g>\r\n    <g id=\"xtick_4\">\r\n     <g id=\"line2d_4\">\r\n      <g>\r\n       <use style=\"stroke:#000000;stroke-width:0.8;\" x=\"445.595289\" xlink:href=\"#m094a624762\" y=\"336.531639\"/>\r\n      </g>\r\n     </g>\r\n     <g id=\"text_4\">\r\n      <!-- 600 -->\r\n      <g transform=\"translate(436.051539 351.130076)scale(0.1 -0.1)\">\r\n       <defs>\r\n        <path d=\"M 33.015625 40.375 \r\nQ 26.375 40.375 22.484375 35.828125 \r\nQ 18.609375 31.296875 18.609375 23.390625 \r\nQ 18.609375 15.53125 22.484375 10.953125 \r\nQ 26.375 6.390625 33.015625 6.390625 \r\nQ 39.65625 6.390625 43.53125 10.953125 \r\nQ 47.40625 15.53125 47.40625 23.390625 \r\nQ 47.40625 31.296875 43.53125 35.828125 \r\nQ 39.65625 40.375 33.015625 40.375 \r\nz\r\nM 52.59375 71.296875 \r\nL 52.59375 62.3125 \r\nQ 48.875 64.0625 45.09375 64.984375 \r\nQ 41.3125 65.921875 37.59375 65.921875 \r\nQ 27.828125 65.921875 22.671875 59.328125 \r\nQ 17.53125 52.734375 16.796875 39.40625 \r\nQ 19.671875 43.65625 24.015625 45.921875 \r\nQ 28.375 48.1875 33.59375 48.1875 \r\nQ 44.578125 48.1875 50.953125 41.515625 \r\nQ 57.328125 34.859375 57.328125 23.390625 \r\nQ 57.328125 12.15625 50.6875 5.359375 \r\nQ 44.046875 -1.421875 33.015625 -1.421875 \r\nQ 20.359375 -1.421875 13.671875 8.265625 \r\nQ 6.984375 17.96875 6.984375 36.375 \r\nQ 6.984375 53.65625 15.1875 63.9375 \r\nQ 23.390625 74.21875 37.203125 74.21875 \r\nQ 40.921875 74.21875 44.703125 73.484375 \r\nQ 48.484375 72.75 52.59375 71.296875 \r\nz\r\n\" id=\"DejaVuSans-54\"/>\r\n       </defs>\r\n       <use xlink:href=\"#DejaVuSans-54\"/>\r\n       <use x=\"63.623047\" xlink:href=\"#DejaVuSans-48\"/>\r\n       <use x=\"127.246094\" xlink:href=\"#DejaVuSans-48\"/>\r\n      </g>\r\n     </g>\r\n    </g>\r\n    <g id=\"xtick_5\">\r\n     <g id=\"line2d_5\">\r\n      <g>\r\n       <use style=\"stroke:#000000;stroke-width:0.8;\" x=\"567.584722\" xlink:href=\"#m094a624762\" y=\"336.531639\"/>\r\n      </g>\r\n     </g>\r\n     <g id=\"text_5\">\r\n      <!-- 800 -->\r\n      <g transform=\"translate(558.040972 351.130076)scale(0.1 -0.1)\">\r\n       <defs>\r\n        <path d=\"M 31.78125 34.625 \r\nQ 24.75 34.625 20.71875 30.859375 \r\nQ 16.703125 27.09375 16.703125 20.515625 \r\nQ 16.703125 13.921875 20.71875 10.15625 \r\nQ 24.75 6.390625 31.78125 6.390625 \r\nQ 38.8125 6.390625 42.859375 10.171875 \r\nQ 46.921875 13.96875 46.921875 20.515625 \r\nQ 46.921875 27.09375 42.890625 30.859375 \r\nQ 38.875 34.625 31.78125 34.625 \r\nz\r\nM 21.921875 38.8125 \r\nQ 15.578125 40.375 12.03125 44.71875 \r\nQ 8.5 49.078125 8.5 55.328125 \r\nQ 8.5 64.0625 14.71875 69.140625 \r\nQ 20.953125 74.21875 31.78125 74.21875 \r\nQ 42.671875 74.21875 48.875 69.140625 \r\nQ 55.078125 64.0625 55.078125 55.328125 \r\nQ 55.078125 49.078125 51.53125 44.71875 \r\nQ 48 40.375 41.703125 38.8125 \r\nQ 48.828125 37.15625 52.796875 32.3125 \r\nQ 56.78125 27.484375 56.78125 20.515625 \r\nQ 56.78125 9.90625 50.3125 4.234375 \r\nQ 43.84375 -1.421875 31.78125 -1.421875 \r\nQ 19.734375 -1.421875 13.25 4.234375 \r\nQ 6.78125 9.90625 6.78125 20.515625 \r\nQ 6.78125 27.484375 10.78125 32.3125 \r\nQ 14.796875 37.15625 21.921875 38.8125 \r\nz\r\nM 18.3125 54.390625 \r\nQ 18.3125 48.734375 21.84375 45.5625 \r\nQ 25.390625 42.390625 31.78125 42.390625 \r\nQ 38.140625 42.390625 41.71875 45.5625 \r\nQ 45.3125 48.734375 45.3125 54.390625 \r\nQ 45.3125 60.0625 41.71875 63.234375 \r\nQ 38.140625 66.40625 31.78125 66.40625 \r\nQ 25.390625 66.40625 21.84375 63.234375 \r\nQ 18.3125 60.0625 18.3125 54.390625 \r\nz\r\n\" id=\"DejaVuSans-56\"/>\r\n       </defs>\r\n       <use xlink:href=\"#DejaVuSans-56\"/>\r\n       <use x=\"63.623047\" xlink:href=\"#DejaVuSans-48\"/>\r\n       <use x=\"127.246094\" xlink:href=\"#DejaVuSans-48\"/>\r\n      </g>\r\n     </g>\r\n    </g>\r\n    <g id=\"xtick_6\">\r\n     <g id=\"line2d_6\">\r\n      <g>\r\n       <use style=\"stroke:#000000;stroke-width:0.8;\" x=\"689.574156\" xlink:href=\"#m094a624762\" y=\"336.531639\"/>\r\n      </g>\r\n     </g>\r\n     <g id=\"text_6\">\r\n      <!-- 1000 -->\r\n      <g transform=\"translate(676.849156 351.130076)scale(0.1 -0.1)\">\r\n       <defs>\r\n        <path d=\"M 12.40625 8.296875 \r\nL 28.515625 8.296875 \r\nL 28.515625 63.921875 \r\nL 10.984375 60.40625 \r\nL 10.984375 69.390625 \r\nL 28.421875 72.90625 \r\nL 38.28125 72.90625 \r\nL 38.28125 8.296875 \r\nL 54.390625 8.296875 \r\nL 54.390625 0 \r\nL 12.40625 0 \r\nz\r\n\" id=\"DejaVuSans-49\"/>\r\n       </defs>\r\n       <use xlink:href=\"#DejaVuSans-49\"/>\r\n       <use x=\"63.623047\" xlink:href=\"#DejaVuSans-48\"/>\r\n       <use x=\"127.246094\" xlink:href=\"#DejaVuSans-48\"/>\r\n       <use x=\"190.869141\" xlink:href=\"#DejaVuSans-48\"/>\r\n      </g>\r\n     </g>\r\n    </g>\r\n   </g>\r\n   <g id=\"matplotlib.axis_2\">\r\n    <g id=\"ytick_1\">\r\n     <g id=\"line2d_7\">\r\n      <defs>\r\n       <path d=\"M 0 0 \r\nL -3.5 0 \r\n\" id=\"m9442fe49a5\" style=\"stroke:#000000;stroke-width:0.8;\"/>\r\n      </defs>\r\n      <g>\r\n       <use style=\"stroke:#000000;stroke-width:0.8;\" x=\"49.190625\" xlink:href=\"#m9442fe49a5\" y=\"310.430556\"/>\r\n      </g>\r\n     </g>\r\n     <g id=\"text_7\">\r\n      <!-- 1417.5 -->\r\n      <g transform=\"translate(7.2 314.229775)scale(0.1 -0.1)\">\r\n       <defs>\r\n        <path d=\"M 8.203125 72.90625 \r\nL 55.078125 72.90625 \r\nL 55.078125 68.703125 \r\nL 28.609375 0 \r\nL 18.3125 0 \r\nL 43.21875 64.59375 \r\nL 8.203125 64.59375 \r\nz\r\n\" id=\"DejaVuSans-55\"/>\r\n        <path d=\"M 10.6875 12.40625 \r\nL 21 12.40625 \r\nL 21 0 \r\nL 10.6875 0 \r\nz\r\n\" id=\"DejaVuSans-46\"/>\r\n        <path d=\"M 10.796875 72.90625 \r\nL 49.515625 72.90625 \r\nL 49.515625 64.59375 \r\nL 19.828125 64.59375 \r\nL 19.828125 46.734375 \r\nQ 21.96875 47.46875 24.109375 47.828125 \r\nQ 26.265625 48.1875 28.421875 48.1875 \r\nQ 40.625 48.1875 47.75 41.5 \r\nQ 54.890625 34.8125 54.890625 23.390625 \r\nQ 54.890625 11.625 47.5625 5.09375 \r\nQ 40.234375 -1.421875 26.90625 -1.421875 \r\nQ 22.3125 -1.421875 17.546875 -0.640625 \r\nQ 12.796875 0.140625 7.71875 1.703125 \r\nL 7.71875 11.625 \r\nQ 12.109375 9.234375 16.796875 8.0625 \r\nQ 21.484375 6.890625 26.703125 6.890625 \r\nQ 35.15625 6.890625 40.078125 11.328125 \r\nQ 45.015625 15.765625 45.015625 23.390625 \r\nQ 45.015625 31 40.078125 35.4375 \r\nQ 35.15625 39.890625 26.703125 39.890625 \r\nQ 22.75 39.890625 18.8125 39.015625 \r\nQ 14.890625 38.140625 10.796875 36.28125 \r\nz\r\n\" id=\"DejaVuSans-53\"/>\r\n       </defs>\r\n       <use xlink:href=\"#DejaVuSans-49\"/>\r\n       <use x=\"63.623047\" xlink:href=\"#DejaVuSans-52\"/>\r\n       <use x=\"127.246094\" xlink:href=\"#DejaVuSans-49\"/>\r\n       <use x=\"190.869141\" xlink:href=\"#DejaVuSans-55\"/>\r\n       <use x=\"254.492188\" xlink:href=\"#DejaVuSans-46\"/>\r\n       <use x=\"286.279297\" xlink:href=\"#DejaVuSans-53\"/>\r\n      </g>\r\n     </g>\r\n    </g>\r\n    <g id=\"ytick_2\">\r\n     <g id=\"line2d_8\">\r\n      <g>\r\n       <use style=\"stroke:#000000;stroke-width:0.8;\" x=\"49.190625\" xlink:href=\"#m9442fe49a5\" y=\"273.001639\"/>\r\n      </g>\r\n     </g>\r\n     <g id=\"text_8\">\r\n      <!-- 1420.0 -->\r\n      <g transform=\"translate(7.2 276.800857)scale(0.1 -0.1)\">\r\n       <use xlink:href=\"#DejaVuSans-49\"/>\r\n       <use x=\"63.623047\" xlink:href=\"#DejaVuSans-52\"/>\r\n       <use x=\"127.246094\" xlink:href=\"#DejaVuSans-50\"/>\r\n       <use x=\"190.869141\" xlink:href=\"#DejaVuSans-48\"/>\r\n       <use x=\"254.492188\" xlink:href=\"#DejaVuSans-46\"/>\r\n       <use x=\"286.279297\" xlink:href=\"#DejaVuSans-48\"/>\r\n      </g>\r\n     </g>\r\n    </g>\r\n    <g id=\"ytick_3\">\r\n     <g id=\"line2d_9\">\r\n      <g>\r\n       <use style=\"stroke:#000000;stroke-width:0.8;\" x=\"49.190625\" xlink:href=\"#m9442fe49a5\" y=\"235.572722\"/>\r\n      </g>\r\n     </g>\r\n     <g id=\"text_9\">\r\n      <!-- 1422.5 -->\r\n      <g transform=\"translate(7.2 239.37194)scale(0.1 -0.1)\">\r\n       <use xlink:href=\"#DejaVuSans-49\"/>\r\n       <use x=\"63.623047\" xlink:href=\"#DejaVuSans-52\"/>\r\n       <use x=\"127.246094\" xlink:href=\"#DejaVuSans-50\"/>\r\n       <use x=\"190.869141\" xlink:href=\"#DejaVuSans-50\"/>\r\n       <use x=\"254.492188\" xlink:href=\"#DejaVuSans-46\"/>\r\n       <use x=\"286.279297\" xlink:href=\"#DejaVuSans-53\"/>\r\n      </g>\r\n     </g>\r\n    </g>\r\n    <g id=\"ytick_4\">\r\n     <g id=\"line2d_10\">\r\n      <g>\r\n       <use style=\"stroke:#000000;stroke-width:0.8;\" x=\"49.190625\" xlink:href=\"#m9442fe49a5\" y=\"198.143804\"/>\r\n      </g>\r\n     </g>\r\n     <g id=\"text_10\">\r\n      <!-- 1425.0 -->\r\n      <g transform=\"translate(7.2 201.943023)scale(0.1 -0.1)\">\r\n       <use xlink:href=\"#DejaVuSans-49\"/>\r\n       <use x=\"63.623047\" xlink:href=\"#DejaVuSans-52\"/>\r\n       <use x=\"127.246094\" xlink:href=\"#DejaVuSans-50\"/>\r\n       <use x=\"190.869141\" xlink:href=\"#DejaVuSans-53\"/>\r\n       <use x=\"254.492188\" xlink:href=\"#DejaVuSans-46\"/>\r\n       <use x=\"286.279297\" xlink:href=\"#DejaVuSans-48\"/>\r\n      </g>\r\n     </g>\r\n    </g>\r\n    <g id=\"ytick_5\">\r\n     <g id=\"line2d_11\">\r\n      <g>\r\n       <use style=\"stroke:#000000;stroke-width:0.8;\" x=\"49.190625\" xlink:href=\"#m9442fe49a5\" y=\"160.714887\"/>\r\n      </g>\r\n     </g>\r\n     <g id=\"text_11\">\r\n      <!-- 1427.5 -->\r\n      <g transform=\"translate(7.2 164.514106)scale(0.1 -0.1)\">\r\n       <use xlink:href=\"#DejaVuSans-49\"/>\r\n       <use x=\"63.623047\" xlink:href=\"#DejaVuSans-52\"/>\r\n       <use x=\"127.246094\" xlink:href=\"#DejaVuSans-50\"/>\r\n       <use x=\"190.869141\" xlink:href=\"#DejaVuSans-55\"/>\r\n       <use x=\"254.492188\" xlink:href=\"#DejaVuSans-46\"/>\r\n       <use x=\"286.279297\" xlink:href=\"#DejaVuSans-53\"/>\r\n      </g>\r\n     </g>\r\n    </g>\r\n    <g id=\"ytick_6\">\r\n     <g id=\"line2d_12\">\r\n      <g>\r\n       <use style=\"stroke:#000000;stroke-width:0.8;\" x=\"49.190625\" xlink:href=\"#m9442fe49a5\" y=\"123.28597\"/>\r\n      </g>\r\n     </g>\r\n     <g id=\"text_12\">\r\n      <!-- 1430.0 -->\r\n      <g transform=\"translate(7.2 127.085189)scale(0.1 -0.1)\">\r\n       <defs>\r\n        <path d=\"M 40.578125 39.3125 \r\nQ 47.65625 37.796875 51.625 33 \r\nQ 55.609375 28.21875 55.609375 21.1875 \r\nQ 55.609375 10.40625 48.1875 4.484375 \r\nQ 40.765625 -1.421875 27.09375 -1.421875 \r\nQ 22.515625 -1.421875 17.65625 -0.515625 \r\nQ 12.796875 0.390625 7.625 2.203125 \r\nL 7.625 11.71875 \r\nQ 11.71875 9.328125 16.59375 8.109375 \r\nQ 21.484375 6.890625 26.8125 6.890625 \r\nQ 36.078125 6.890625 40.9375 10.546875 \r\nQ 45.796875 14.203125 45.796875 21.1875 \r\nQ 45.796875 27.640625 41.28125 31.265625 \r\nQ 36.765625 34.90625 28.71875 34.90625 \r\nL 20.21875 34.90625 \r\nL 20.21875 43.015625 \r\nL 29.109375 43.015625 \r\nQ 36.375 43.015625 40.234375 45.921875 \r\nQ 44.09375 48.828125 44.09375 54.296875 \r\nQ 44.09375 59.90625 40.109375 62.90625 \r\nQ 36.140625 65.921875 28.71875 65.921875 \r\nQ 24.65625 65.921875 20.015625 65.03125 \r\nQ 15.375 64.15625 9.8125 62.3125 \r\nL 9.8125 71.09375 \r\nQ 15.4375 72.65625 20.34375 73.4375 \r\nQ 25.25 74.21875 29.59375 74.21875 \r\nQ 40.828125 74.21875 47.359375 69.109375 \r\nQ 53.90625 64.015625 53.90625 55.328125 \r\nQ 53.90625 49.265625 50.4375 45.09375 \r\nQ 46.96875 40.921875 40.578125 39.3125 \r\nz\r\n\" id=\"DejaVuSans-51\"/>\r\n       </defs>\r\n       <use xlink:href=\"#DejaVuSans-49\"/>\r\n       <use x=\"63.623047\" xlink:href=\"#DejaVuSans-52\"/>\r\n       <use x=\"127.246094\" xlink:href=\"#DejaVuSans-51\"/>\r\n       <use x=\"190.869141\" xlink:href=\"#DejaVuSans-48\"/>\r\n       <use x=\"254.492188\" xlink:href=\"#DejaVuSans-46\"/>\r\n       <use x=\"286.279297\" xlink:href=\"#DejaVuSans-48\"/>\r\n      </g>\r\n     </g>\r\n    </g>\r\n    <g id=\"ytick_7\">\r\n     <g id=\"line2d_13\">\r\n      <g>\r\n       <use style=\"stroke:#000000;stroke-width:0.8;\" x=\"49.190625\" xlink:href=\"#m9442fe49a5\" y=\"85.857053\"/>\r\n      </g>\r\n     </g>\r\n     <g id=\"text_13\">\r\n      <!-- 1432.5 -->\r\n      <g transform=\"translate(7.2 89.656272)scale(0.1 -0.1)\">\r\n       <use xlink:href=\"#DejaVuSans-49\"/>\r\n       <use x=\"63.623047\" xlink:href=\"#DejaVuSans-52\"/>\r\n       <use x=\"127.246094\" xlink:href=\"#DejaVuSans-51\"/>\r\n       <use x=\"190.869141\" xlink:href=\"#DejaVuSans-50\"/>\r\n       <use x=\"254.492188\" xlink:href=\"#DejaVuSans-46\"/>\r\n       <use x=\"286.279297\" xlink:href=\"#DejaVuSans-53\"/>\r\n      </g>\r\n     </g>\r\n    </g>\r\n    <g id=\"ytick_8\">\r\n     <g id=\"line2d_14\">\r\n      <g>\r\n       <use style=\"stroke:#000000;stroke-width:0.8;\" x=\"49.190625\" xlink:href=\"#m9442fe49a5\" y=\"48.428136\"/>\r\n      </g>\r\n     </g>\r\n     <g id=\"text_14\">\r\n      <!-- 1435.0 -->\r\n      <g transform=\"translate(7.2 52.227355)scale(0.1 -0.1)\">\r\n       <use xlink:href=\"#DejaVuSans-49\"/>\r\n       <use x=\"63.623047\" xlink:href=\"#DejaVuSans-52\"/>\r\n       <use x=\"127.246094\" xlink:href=\"#DejaVuSans-51\"/>\r\n       <use x=\"190.869141\" xlink:href=\"#DejaVuSans-53\"/>\r\n       <use x=\"254.492188\" xlink:href=\"#DejaVuSans-46\"/>\r\n       <use x=\"286.279297\" xlink:href=\"#DejaVuSans-48\"/>\r\n      </g>\r\n     </g>\r\n    </g>\r\n    <g id=\"ytick_9\">\r\n     <g id=\"line2d_15\">\r\n      <g>\r\n       <use style=\"stroke:#000000;stroke-width:0.8;\" x=\"49.190625\" xlink:href=\"#m9442fe49a5\" y=\"10.999219\"/>\r\n      </g>\r\n     </g>\r\n     <g id=\"text_15\">\r\n      <!-- 1437.5 -->\r\n      <g transform=\"translate(7.2 14.798438)scale(0.1 -0.1)\">\r\n       <use xlink:href=\"#DejaVuSans-49\"/>\r\n       <use x=\"63.623047\" xlink:href=\"#DejaVuSans-52\"/>\r\n       <use x=\"127.246094\" xlink:href=\"#DejaVuSans-51\"/>\r\n       <use x=\"190.869141\" xlink:href=\"#DejaVuSans-55\"/>\r\n       <use x=\"254.492188\" xlink:href=\"#DejaVuSans-46\"/>\r\n       <use x=\"286.279297\" xlink:href=\"#DejaVuSans-53\"/>\r\n      </g>\r\n     </g>\r\n    </g>\r\n   </g>\r\n   <g id=\"line2d_16\">\r\n    <defs>\r\n     <path d=\"M 0 1.5 \r\nC 0.397805 1.5 0.77937 1.341951 1.06066 1.06066 \r\nC 1.341951 0.77937 1.5 0.397805 1.5 0 \r\nC 1.5 -0.397805 1.341951 -0.77937 1.06066 -1.06066 \r\nC 0.77937 -1.341951 0.397805 -1.5 0 -1.5 \r\nC -0.397805 -1.5 -0.77937 -1.341951 -1.06066 -1.06066 \r\nC -1.341951 -0.77937 -1.5 -0.397805 -1.5 0 \r\nC -1.5 0.397805 -1.341951 0.77937 -1.06066 1.06066 \r\nC -0.77937 1.341951 -0.397805 1.5 0 1.5 \r\nz\r\n\" id=\"m47bdf79e94\" style=\"stroke:#1f77b4;\"/>\r\n    </defs>\r\n    <g clip-path=\"url(#pb45b26701a)\">\r\n     <use style=\"fill:#1f77b4;stroke:#1f77b4;\" x=\"79.626989\" xlink:href=\"#m47bdf79e94\" y=\"189.012408\"/>\r\n     <use style=\"fill:#1f77b4;stroke:#1f77b4;\" x=\"80.236936\" xlink:href=\"#m47bdf79e94\" y=\"189.649313\"/>\r\n     <use style=\"fill:#1f77b4;stroke:#1f77b4;\" x=\"80.846883\" xlink:href=\"#m47bdf79e94\" y=\"168.877797\"/>\r\n     <use style=\"fill:#1f77b4;stroke:#1f77b4;\" x=\"81.45683\" xlink:href=\"#m47bdf79e94\" y=\"146.096842\"/>\r\n     <use style=\"fill:#1f77b4;stroke:#1f77b4;\" x=\"82.066777\" xlink:href=\"#m47bdf79e94\" y=\"171.326686\"/>\r\n     <use style=\"fill:#1f77b4;stroke:#1f77b4;\" x=\"82.676724\" xlink:href=\"#m47bdf79e94\" y=\"237.660444\"/>\r\n     <use style=\"fill:#1f77b4;stroke:#1f77b4;\" x=\"83.286672\" xlink:href=\"#m47bdf79e94\" y=\"214.560372\"/>\r\n     <use style=\"fill:#1f77b4;stroke:#1f77b4;\" x=\"83.896619\" xlink:href=\"#m47bdf79e94\" y=\"139.501096\"/>\r\n     <use style=\"fill:#1f77b4;stroke:#1f77b4;\" x=\"84.506566\" xlink:href=\"#m47bdf79e94\" y=\"76.77635\"/>\r\n     <use style=\"fill:#1f77b4;stroke:#1f77b4;\" x=\"85.116513\" xlink:href=\"#m47bdf79e94\" y=\"239.330821\"/>\r\n     <use style=\"fill:#1f77b4;stroke:#1f77b4;\" x=\"85.72646\" xlink:href=\"#m47bdf79e94\" y=\"134.64653\"/>\r\n     <use style=\"fill:#1f77b4;stroke:#1f77b4;\" x=\"86.336407\" xlink:href=\"#m47bdf79e94\" y=\"145.023479\"/>\r\n     <use style=\"fill:#1f77b4;stroke:#1f77b4;\" x=\"86.946355\" xlink:href=\"#m47bdf79e94\" y=\"204.303425\"/>\r\n     <use style=\"fill:#1f77b4;stroke:#1f77b4;\" x=\"87.556302\" xlink:href=\"#m47bdf79e94\" y=\"244.348934\"/>\r\n     <use style=\"fill:#1f77b4;stroke:#1f77b4;\" x=\"88.166249\" xlink:href=\"#m47bdf79e94\" y=\"209.631346\"/>\r\n     <use style=\"fill:#1f77b4;stroke:#1f77b4;\" x=\"88.776196\" xlink:href=\"#m47bdf79e94\" y=\"59.956565\"/>\r\n     <use style=\"fill:#1f77b4;stroke:#1f77b4;\" x=\"89.386143\" xlink:href=\"#m47bdf79e94\" y=\"140.733352\"/>\r\n     <use style=\"fill:#1f77b4;stroke:#1f77b4;\" x=\"89.99609\" xlink:href=\"#m47bdf79e94\" y=\"192.190613\"/>\r\n     <use style=\"fill:#1f77b4;stroke:#1f77b4;\" x=\"90.606038\" xlink:href=\"#m47bdf79e94\" y=\"159.663298\"/>\r\n     <use style=\"fill:#1f77b4;stroke:#1f77b4;\" x=\"91.215985\" xlink:href=\"#m47bdf79e94\" y=\"126.778305\"/>\r\n     <use style=\"fill:#1f77b4;stroke:#1f77b4;\" x=\"91.825932\" xlink:href=\"#m47bdf79e94\" y=\"115.88944\"/>\r\n     <use style=\"fill:#1f77b4;stroke:#1f77b4;\" x=\"92.435879\" xlink:href=\"#m47bdf79e94\" y=\"155.443642\"/>\r\n     <use style=\"fill:#1f77b4;stroke:#1f77b4;\" x=\"93.045826\" xlink:href=\"#m47bdf79e94\" y=\"134.900827\"/>\r\n     <use style=\"fill:#1f77b4;stroke:#1f77b4;\" x=\"93.655773\" xlink:href=\"#m47bdf79e94\" y=\"241.449957\"/>\r\n     <use style=\"fill:#1f77b4;stroke:#1f77b4;\" x=\"94.265721\" xlink:href=\"#m47bdf79e94\" y=\"136.787605\"/>\r\n     <use style=\"fill:#1f77b4;stroke:#1f77b4;\" x=\"94.875668\" xlink:href=\"#m47bdf79e94\" y=\"118.798722\"/>\r\n     <use style=\"fill:#1f77b4;stroke:#1f77b4;\" x=\"95.485615\" xlink:href=\"#m47bdf79e94\" y=\"213.03393\"/>\r\n     <use style=\"fill:#1f77b4;stroke:#1f77b4;\" x=\"96.095562\" xlink:href=\"#m47bdf79e94\" y=\"193.089126\"/>\r\n     <use style=\"fill:#1f77b4;stroke:#1f77b4;\" x=\"96.705509\" xlink:href=\"#m47bdf79e94\" y=\"116.64701\"/>\r\n     <use style=\"fill:#1f77b4;stroke:#1f77b4;\" x=\"97.315456\" xlink:href=\"#m47bdf79e94\" y=\"196.686837\"/>\r\n     <use style=\"fill:#1f77b4;stroke:#1f77b4;\" x=\"97.925404\" xlink:href=\"#m47bdf79e94\" y=\"123.453174\"/>\r\n     <use style=\"fill:#1f77b4;stroke:#1f77b4;\" x=\"98.535351\" xlink:href=\"#m47bdf79e94\" y=\"162.942556\"/>\r\n     <use style=\"fill:#1f77b4;stroke:#1f77b4;\" x=\"99.145298\" xlink:href=\"#m47bdf79e94\" y=\"114.754913\"/>\r\n     <use style=\"fill:#1f77b4;stroke:#1f77b4;\" x=\"99.755245\" xlink:href=\"#m47bdf79e94\" y=\"137.430492\"/>\r\n     <use style=\"fill:#1f77b4;stroke:#1f77b4;\" x=\"100.365192\" xlink:href=\"#m47bdf79e94\" y=\"170.186176\"/>\r\n     <use style=\"fill:#1f77b4;stroke:#1f77b4;\" x=\"100.975139\" xlink:href=\"#m47bdf79e94\" y=\"147.248987\"/>\r\n     <use style=\"fill:#1f77b4;stroke:#1f77b4;\" x=\"101.585087\" xlink:href=\"#m47bdf79e94\" y=\"170.461747\"/>\r\n     <use style=\"fill:#1f77b4;stroke:#1f77b4;\" x=\"102.195034\" xlink:href=\"#m47bdf79e94\" y=\"213.694768\"/>\r\n     <use style=\"fill:#1f77b4;stroke:#1f77b4;\" x=\"102.804981\" xlink:href=\"#m47bdf79e94\" y=\"61.706056\"/>\r\n     <use style=\"fill:#1f77b4;stroke:#1f77b4;\" x=\"103.414928\" xlink:href=\"#m47bdf79e94\" y=\"169.094198\"/>\r\n     <use style=\"fill:#1f77b4;stroke:#1f77b4;\" x=\"104.024875\" xlink:href=\"#m47bdf79e94\" y=\"101.467685\"/>\r\n     <use style=\"fill:#1f77b4;stroke:#1f77b4;\" x=\"104.634822\" xlink:href=\"#m47bdf79e94\" y=\"191.617865\"/>\r\n     <use style=\"fill:#1f77b4;stroke:#1f77b4;\" x=\"105.24477\" xlink:href=\"#m47bdf79e94\" y=\"161.673401\"/>\r\n     <use style=\"fill:#1f77b4;stroke:#1f77b4;\" x=\"105.854717\" xlink:href=\"#m47bdf79e94\" y=\"184.672087\"/>\r\n     <use style=\"fill:#1f77b4;stroke:#1f77b4;\" x=\"106.464664\" xlink:href=\"#m47bdf79e94\" y=\"215.060987\"/>\r\n     <use style=\"fill:#1f77b4;stroke:#1f77b4;\" x=\"107.074611\" xlink:href=\"#m47bdf79e94\" y=\"234.017525\"/>\r\n     <use style=\"fill:#1f77b4;stroke:#1f77b4;\" x=\"107.684558\" xlink:href=\"#m47bdf79e94\" y=\"168.266489\"/>\r\n     <use style=\"fill:#1f77b4;stroke:#1f77b4;\" x=\"108.294505\" xlink:href=\"#m47bdf79e94\" y=\"183.598059\"/>\r\n     <use style=\"fill:#1f77b4;stroke:#1f77b4;\" x=\"108.904453\" xlink:href=\"#m47bdf79e94\" y=\"158.801682\"/>\r\n     <use style=\"fill:#1f77b4;stroke:#1f77b4;\" x=\"109.5144\" xlink:href=\"#m47bdf79e94\" y=\"114.151915\"/>\r\n     <use style=\"fill:#1f77b4;stroke:#1f77b4;\" x=\"110.124347\" xlink:href=\"#m47bdf79e94\" y=\"283.192436\"/>\r\n     <use style=\"fill:#1f77b4;stroke:#1f77b4;\" x=\"110.734294\" xlink:href=\"#m47bdf79e94\" y=\"186.137033\"/>\r\n     <use style=\"fill:#1f77b4;stroke:#1f77b4;\" x=\"111.344241\" xlink:href=\"#m47bdf79e94\" y=\"173.930148\"/>\r\n     <use style=\"fill:#1f77b4;stroke:#1f77b4;\" x=\"111.954188\" xlink:href=\"#m47bdf79e94\" y=\"192.847129\"/>\r\n     <use style=\"fill:#1f77b4;stroke:#1f77b4;\" x=\"112.564136\" xlink:href=\"#m47bdf79e94\" y=\"121.012595\"/>\r\n     <use style=\"fill:#1f77b4;stroke:#1f77b4;\" x=\"113.174083\" xlink:href=\"#m47bdf79e94\" y=\"185.180347\"/>\r\n     <use style=\"fill:#1f77b4;stroke:#1f77b4;\" x=\"113.78403\" xlink:href=\"#m47bdf79e94\" y=\"125.796689\"/>\r\n     <use style=\"fill:#1f77b4;stroke:#1f77b4;\" x=\"114.393977\" xlink:href=\"#m47bdf79e94\" y=\"123.886309\"/>\r\n     <use style=\"fill:#1f77b4;stroke:#1f77b4;\" x=\"115.003924\" xlink:href=\"#m47bdf79e94\" y=\"239.13503\"/>\r\n     <use style=\"fill:#1f77b4;stroke:#1f77b4;\" x=\"115.613871\" xlink:href=\"#m47bdf79e94\" y=\"250.292485\"/>\r\n     <use style=\"fill:#1f77b4;stroke:#1f77b4;\" x=\"116.223819\" xlink:href=\"#m47bdf79e94\" y=\"174.508215\"/>\r\n     <use style=\"fill:#1f77b4;stroke:#1f77b4;\" x=\"116.833766\" xlink:href=\"#m47bdf79e94\" y=\"179.96744\"/>\r\n     <use style=\"fill:#1f77b4;stroke:#1f77b4;\" x=\"117.443713\" xlink:href=\"#m47bdf79e94\" y=\"110.224451\"/>\r\n     <use style=\"fill:#1f77b4;stroke:#1f77b4;\" x=\"118.05366\" xlink:href=\"#m47bdf79e94\" y=\"238.086265\"/>\r\n     <use style=\"fill:#1f77b4;stroke:#1f77b4;\" x=\"118.663607\" xlink:href=\"#m47bdf79e94\" y=\"221.1026\"/>\r\n     <use style=\"fill:#1f77b4;stroke:#1f77b4;\" x=\"119.273554\" xlink:href=\"#m47bdf79e94\" y=\"237.094344\"/>\r\n     <use style=\"fill:#1f77b4;stroke:#1f77b4;\" x=\"119.883502\" xlink:href=\"#m47bdf79e94\" y=\"244.548382\"/>\r\n     <use style=\"fill:#1f77b4;stroke:#1f77b4;\" x=\"120.493449\" xlink:href=\"#m47bdf79e94\" y=\"175.316312\"/>\r\n     <use style=\"fill:#1f77b4;stroke:#1f77b4;\" x=\"121.103396\" xlink:href=\"#m47bdf79e94\" y=\"172.227859\"/>\r\n     <use style=\"fill:#1f77b4;stroke:#1f77b4;\" x=\"121.713343\" xlink:href=\"#m47bdf79e94\" y=\"234.32667\"/>\r\n     <use style=\"fill:#1f77b4;stroke:#1f77b4;\" x=\"122.32329\" xlink:href=\"#m47bdf79e94\" y=\"113.987703\"/>\r\n     <use style=\"fill:#1f77b4;stroke:#1f77b4;\" x=\"122.933237\" xlink:href=\"#m47bdf79e94\" y=\"206.079177\"/>\r\n     <use style=\"fill:#1f77b4;stroke:#1f77b4;\" x=\"123.543185\" xlink:href=\"#m47bdf79e94\" y=\"149.520368\"/>\r\n     <use style=\"fill:#1f77b4;stroke:#1f77b4;\" x=\"124.153132\" xlink:href=\"#m47bdf79e94\" y=\"208.500476\"/>\r\n     <use style=\"fill:#1f77b4;stroke:#1f77b4;\" x=\"124.763079\" xlink:href=\"#m47bdf79e94\" y=\"153.676532\"/>\r\n     <use style=\"fill:#1f77b4;stroke:#1f77b4;\" x=\"125.373026\" xlink:href=\"#m47bdf79e94\" y=\"199.554234\"/>\r\n     <use style=\"fill:#1f77b4;stroke:#1f77b4;\" x=\"125.982973\" xlink:href=\"#m47bdf79e94\" y=\"117.249675\"/>\r\n     <use style=\"fill:#1f77b4;stroke:#1f77b4;\" x=\"126.592921\" xlink:href=\"#m47bdf79e94\" y=\"116.032377\"/>\r\n     <use style=\"fill:#1f77b4;stroke:#1f77b4;\" x=\"127.202868\" xlink:href=\"#m47bdf79e94\" y=\"187.177487\"/>\r\n     <use style=\"fill:#1f77b4;stroke:#1f77b4;\" x=\"127.812815\" xlink:href=\"#m47bdf79e94\" y=\"185.778359\"/>\r\n     <use style=\"fill:#1f77b4;stroke:#1f77b4;\" x=\"128.422762\" xlink:href=\"#m47bdf79e94\" y=\"210.780167\"/>\r\n     <use style=\"fill:#1f77b4;stroke:#1f77b4;\" x=\"129.032709\" xlink:href=\"#m47bdf79e94\" y=\"137.87094\"/>\r\n     <use style=\"fill:#1f77b4;stroke:#1f77b4;\" x=\"129.642656\" xlink:href=\"#m47bdf79e94\" y=\"131.742234\"/>\r\n     <use style=\"fill:#1f77b4;stroke:#1f77b4;\" x=\"130.252604\" xlink:href=\"#m47bdf79e94\" y=\"192.876714\"/>\r\n     <use style=\"fill:#1f77b4;stroke:#1f77b4;\" x=\"130.862551\" xlink:href=\"#m47bdf79e94\" y=\"213.784519\"/>\r\n     <use style=\"fill:#1f77b4;stroke:#1f77b4;\" x=\"131.472498\" xlink:href=\"#m47bdf79e94\" y=\"198.861485\"/>\r\n     <use style=\"fill:#1f77b4;stroke:#1f77b4;\" x=\"132.082445\" xlink:href=\"#m47bdf79e94\" y=\"180.655536\"/>\r\n     <use style=\"fill:#1f77b4;stroke:#1f77b4;\" x=\"132.692392\" xlink:href=\"#m47bdf79e94\" y=\"162.131467\"/>\r\n     <use style=\"fill:#1f77b4;stroke:#1f77b4;\" x=\"133.302339\" xlink:href=\"#m47bdf79e94\" y=\"212.993376\"/>\r\n     <use style=\"fill:#1f77b4;stroke:#1f77b4;\" x=\"133.912287\" xlink:href=\"#m47bdf79e94\" y=\"132.06534\"/>\r\n     <use style=\"fill:#1f77b4;stroke:#1f77b4;\" x=\"134.522234\" xlink:href=\"#m47bdf79e94\" y=\"208.924968\"/>\r\n     <use style=\"fill:#1f77b4;stroke:#1f77b4;\" x=\"135.132181\" xlink:href=\"#m47bdf79e94\" y=\"220.132286\"/>\r\n     <use style=\"fill:#1f77b4;stroke:#1f77b4;\" x=\"135.742128\" xlink:href=\"#m47bdf79e94\" y=\"157.189809\"/>\r\n     <use style=\"fill:#1f77b4;stroke:#1f77b4;\" x=\"136.352075\" xlink:href=\"#m47bdf79e94\" y=\"184.998517\"/>\r\n     <use style=\"fill:#1f77b4;stroke:#1f77b4;\" x=\"136.962022\" xlink:href=\"#m47bdf79e94\" y=\"238.206931\"/>\r\n     <use style=\"fill:#1f77b4;stroke:#1f77b4;\" x=\"137.57197\" xlink:href=\"#m47bdf79e94\" y=\"145.074671\"/>\r\n     <use style=\"fill:#1f77b4;stroke:#1f77b4;\" x=\"138.181917\" xlink:href=\"#m47bdf79e94\" y=\"146.760672\"/>\r\n     <use style=\"fill:#1f77b4;stroke:#1f77b4;\" x=\"138.791864\" xlink:href=\"#m47bdf79e94\" y=\"184.905773\"/>\r\n     <use style=\"fill:#1f77b4;stroke:#1f77b4;\" x=\"139.401811\" xlink:href=\"#m47bdf79e94\" y=\"152.999739\"/>\r\n     <use style=\"fill:#1f77b4;stroke:#1f77b4;\" x=\"140.011758\" xlink:href=\"#m47bdf79e94\" y=\"175.474208\"/>\r\n     <use style=\"fill:#1f77b4;stroke:#1f77b4;\" x=\"140.621705\" xlink:href=\"#m47bdf79e94\" y=\"152.766384\"/>\r\n     <use style=\"fill:#1f77b4;stroke:#1f77b4;\" x=\"141.231653\" xlink:href=\"#m47bdf79e94\" y=\"224.799037\"/>\r\n     <use style=\"fill:#1f77b4;stroke:#1f77b4;\" x=\"141.8416\" xlink:href=\"#m47bdf79e94\" y=\"211.030474\"/>\r\n     <use style=\"fill:#1f77b4;stroke:#1f77b4;\" x=\"142.451547\" xlink:href=\"#m47bdf79e94\" y=\"254.054075\"/>\r\n     <use style=\"fill:#1f77b4;stroke:#1f77b4;\" x=\"143.061494\" xlink:href=\"#m47bdf79e94\" y=\"204.551073\"/>\r\n     <use style=\"fill:#1f77b4;stroke:#1f77b4;\" x=\"143.671441\" xlink:href=\"#m47bdf79e94\" y=\"207.464676\"/>\r\n     <use style=\"fill:#1f77b4;stroke:#1f77b4;\" x=\"144.281388\" xlink:href=\"#m47bdf79e94\" y=\"195.255464\"/>\r\n     <use style=\"fill:#1f77b4;stroke:#1f77b4;\" x=\"144.891336\" xlink:href=\"#m47bdf79e94\" y=\"102.333954\"/>\r\n     <use style=\"fill:#1f77b4;stroke:#1f77b4;\" x=\"145.501283\" xlink:href=\"#m47bdf79e94\" y=\"211.238898\"/>\r\n     <use style=\"fill:#1f77b4;stroke:#1f77b4;\" x=\"146.11123\" xlink:href=\"#m47bdf79e94\" y=\"240.441747\"/>\r\n     <use style=\"fill:#1f77b4;stroke:#1f77b4;\" x=\"146.721177\" xlink:href=\"#m47bdf79e94\" y=\"124.827371\"/>\r\n     <use style=\"fill:#1f77b4;stroke:#1f77b4;\" x=\"147.331124\" xlink:href=\"#m47bdf79e94\" y=\"114.078452\"/>\r\n     <use style=\"fill:#1f77b4;stroke:#1f77b4;\" x=\"147.941071\" xlink:href=\"#m47bdf79e94\" y=\"170.081798\"/>\r\n     <use style=\"fill:#1f77b4;stroke:#1f77b4;\" x=\"148.551019\" xlink:href=\"#m47bdf79e94\" y=\"182.843813\"/>\r\n     <use style=\"fill:#1f77b4;stroke:#1f77b4;\" x=\"149.160966\" xlink:href=\"#m47bdf79e94\" y=\"134.859607\"/>\r\n     <use style=\"fill:#1f77b4;stroke:#1f77b4;\" x=\"149.770913\" xlink:href=\"#m47bdf79e94\" y=\"130.954415\"/>\r\n     <use style=\"fill:#1f77b4;stroke:#1f77b4;\" x=\"150.38086\" xlink:href=\"#m47bdf79e94\" y=\"26.211952\"/>\r\n     <use style=\"fill:#1f77b4;stroke:#1f77b4;\" x=\"150.990807\" xlink:href=\"#m47bdf79e94\" y=\"200.564771\"/>\r\n     <use style=\"fill:#1f77b4;stroke:#1f77b4;\" x=\"151.600754\" xlink:href=\"#m47bdf79e94\" y=\"205.178337\"/>\r\n     <use style=\"fill:#1f77b4;stroke:#1f77b4;\" x=\"152.210702\" xlink:href=\"#m47bdf79e94\" y=\"225.705196\"/>\r\n     <use style=\"fill:#1f77b4;stroke:#1f77b4;\" x=\"152.820649\" xlink:href=\"#m47bdf79e94\" y=\"207.085392\"/>\r\n     <use style=\"fill:#1f77b4;stroke:#1f77b4;\" x=\"153.430596\" xlink:href=\"#m47bdf79e94\" y=\"121.382239\"/>\r\n     <use style=\"fill:#1f77b4;stroke:#1f77b4;\" x=\"154.040543\" xlink:href=\"#m47bdf79e94\" y=\"147.215413\"/>\r\n     <use style=\"fill:#1f77b4;stroke:#1f77b4;\" x=\"154.65049\" xlink:href=\"#m47bdf79e94\" y=\"172.104201\"/>\r\n     <use style=\"fill:#1f77b4;stroke:#1f77b4;\" x=\"155.260437\" xlink:href=\"#m47bdf79e94\" y=\"118.014559\"/>\r\n     <use style=\"fill:#1f77b4;stroke:#1f77b4;\" x=\"155.870385\" xlink:href=\"#m47bdf79e94\" y=\"108.676069\"/>\r\n     <use style=\"fill:#1f77b4;stroke:#1f77b4;\" x=\"156.480332\" xlink:href=\"#m47bdf79e94\" y=\"79.854498\"/>\r\n     <use style=\"fill:#1f77b4;stroke:#1f77b4;\" x=\"157.090279\" xlink:href=\"#m47bdf79e94\" y=\"198.715223\"/>\r\n     <use style=\"fill:#1f77b4;stroke:#1f77b4;\" x=\"157.700226\" xlink:href=\"#m47bdf79e94\" y=\"226.487365\"/>\r\n     <use style=\"fill:#1f77b4;stroke:#1f77b4;\" x=\"158.310173\" xlink:href=\"#m47bdf79e94\" y=\"126.673263\"/>\r\n     <use style=\"fill:#1f77b4;stroke:#1f77b4;\" x=\"158.92012\" xlink:href=\"#m47bdf79e94\" y=\"225.012114\"/>\r\n     <use style=\"fill:#1f77b4;stroke:#1f77b4;\" x=\"159.530068\" xlink:href=\"#m47bdf79e94\" y=\"159.306286\"/>\r\n     <use style=\"fill:#1f77b4;stroke:#1f77b4;\" x=\"160.140015\" xlink:href=\"#m47bdf79e94\" y=\"230.186794\"/>\r\n     <use style=\"fill:#1f77b4;stroke:#1f77b4;\" x=\"160.749962\" xlink:href=\"#m47bdf79e94\" y=\"163.372699\"/>\r\n     <use style=\"fill:#1f77b4;stroke:#1f77b4;\" x=\"161.359909\" xlink:href=\"#m47bdf79e94\" y=\"234.017858\"/>\r\n     <use style=\"fill:#1f77b4;stroke:#1f77b4;\" x=\"161.969856\" xlink:href=\"#m47bdf79e94\" y=\"201.946281\"/>\r\n     <use style=\"fill:#1f77b4;stroke:#1f77b4;\" x=\"162.579803\" xlink:href=\"#m47bdf79e94\" y=\"174.282174\"/>\r\n     <use style=\"fill:#1f77b4;stroke:#1f77b4;\" x=\"163.189751\" xlink:href=\"#m47bdf79e94\" y=\"156.09351\"/>\r\n     <use style=\"fill:#1f77b4;stroke:#1f77b4;\" x=\"163.799698\" xlink:href=\"#m47bdf79e94\" y=\"197.771834\"/>\r\n     <use style=\"fill:#1f77b4;stroke:#1f77b4;\" x=\"164.409645\" xlink:href=\"#m47bdf79e94\" y=\"104.637246\"/>\r\n     <use style=\"fill:#1f77b4;stroke:#1f77b4;\" x=\"165.019592\" xlink:href=\"#m47bdf79e94\" y=\"239.658248\"/>\r\n     <use style=\"fill:#1f77b4;stroke:#1f77b4;\" x=\"165.629539\" xlink:href=\"#m47bdf79e94\" y=\"102.6667\"/>\r\n     <use style=\"fill:#1f77b4;stroke:#1f77b4;\" x=\"166.239486\" xlink:href=\"#m47bdf79e94\" y=\"146.163325\"/>\r\n     <use style=\"fill:#1f77b4;stroke:#1f77b4;\" x=\"166.849434\" xlink:href=\"#m47bdf79e94\" y=\"162.592857\"/>\r\n     <use style=\"fill:#1f77b4;stroke:#1f77b4;\" x=\"167.459381\" xlink:href=\"#m47bdf79e94\" y=\"132.56529\"/>\r\n     <use style=\"fill:#1f77b4;stroke:#1f77b4;\" x=\"168.069328\" xlink:href=\"#m47bdf79e94\" y=\"139.812567\"/>\r\n     <use style=\"fill:#1f77b4;stroke:#1f77b4;\" x=\"168.679275\" xlink:href=\"#m47bdf79e94\" y=\"162.306981\"/>\r\n     <use style=\"fill:#1f77b4;stroke:#1f77b4;\" x=\"169.289222\" xlink:href=\"#m47bdf79e94\" y=\"185.022118\"/>\r\n     <use style=\"fill:#1f77b4;stroke:#1f77b4;\" x=\"169.899169\" xlink:href=\"#m47bdf79e94\" y=\"93.697854\"/>\r\n     <use style=\"fill:#1f77b4;stroke:#1f77b4;\" x=\"170.509117\" xlink:href=\"#m47bdf79e94\" y=\"198.714226\"/>\r\n     <use style=\"fill:#1f77b4;stroke:#1f77b4;\" x=\"171.119064\" xlink:href=\"#m47bdf79e94\" y=\"206.456134\"/>\r\n     <use style=\"fill:#1f77b4;stroke:#1f77b4;\" x=\"171.729011\" xlink:href=\"#m47bdf79e94\" y=\"163.893923\"/>\r\n     <use style=\"fill:#1f77b4;stroke:#1f77b4;\" x=\"172.338958\" xlink:href=\"#m47bdf79e94\" y=\"97.137335\"/>\r\n     <use style=\"fill:#1f77b4;stroke:#1f77b4;\" x=\"172.948905\" xlink:href=\"#m47bdf79e94\" y=\"75.000598\"/>\r\n     <use style=\"fill:#1f77b4;stroke:#1f77b4;\" x=\"173.558852\" xlink:href=\"#m47bdf79e94\" y=\"197.935381\"/>\r\n     <use style=\"fill:#1f77b4;stroke:#1f77b4;\" x=\"174.1688\" xlink:href=\"#m47bdf79e94\" y=\"169.807889\"/>\r\n     <use style=\"fill:#1f77b4;stroke:#1f77b4;\" x=\"174.778747\" xlink:href=\"#m47bdf79e94\" y=\"205.498783\"/>\r\n     <use style=\"fill:#1f77b4;stroke:#1f77b4;\" x=\"175.388694\" xlink:href=\"#m47bdf79e94\" y=\"75.016554\"/>\r\n     <use style=\"fill:#1f77b4;stroke:#1f77b4;\" x=\"175.998641\" xlink:href=\"#m47bdf79e94\" y=\"160.258317\"/>\r\n     <use style=\"fill:#1f77b4;stroke:#1f77b4;\" x=\"176.608588\" xlink:href=\"#m47bdf79e94\" y=\"167.270246\"/>\r\n     <use style=\"fill:#1f77b4;stroke:#1f77b4;\" x=\"177.218535\" xlink:href=\"#m47bdf79e94\" y=\"189.459172\"/>\r\n     <use style=\"fill:#1f77b4;stroke:#1f77b4;\" x=\"177.828483\" xlink:href=\"#m47bdf79e94\" y=\"183.219773\"/>\r\n     <use style=\"fill:#1f77b4;stroke:#1f77b4;\" x=\"178.43843\" xlink:href=\"#m47bdf79e94\" y=\"195.984115\"/>\r\n     <use style=\"fill:#1f77b4;stroke:#1f77b4;\" x=\"179.048377\" xlink:href=\"#m47bdf79e94\" y=\"135.656402\"/>\r\n     <use style=\"fill:#1f77b4;stroke:#1f77b4;\" x=\"179.658324\" xlink:href=\"#m47bdf79e94\" y=\"183.052236\"/>\r\n     <use style=\"fill:#1f77b4;stroke:#1f77b4;\" x=\"180.268271\" xlink:href=\"#m47bdf79e94\" y=\"174.925061\"/>\r\n     <use style=\"fill:#1f77b4;stroke:#1f77b4;\" x=\"180.878218\" xlink:href=\"#m47bdf79e94\" y=\"150.445807\"/>\r\n     <use style=\"fill:#1f77b4;stroke:#1f77b4;\" x=\"181.488166\" xlink:href=\"#m47bdf79e94\" y=\"228.536361\"/>\r\n     <use style=\"fill:#1f77b4;stroke:#1f77b4;\" x=\"182.098113\" xlink:href=\"#m47bdf79e94\" y=\"220.017271\"/>\r\n     <use style=\"fill:#1f77b4;stroke:#1f77b4;\" x=\"182.70806\" xlink:href=\"#m47bdf79e94\" y=\"224.436042\"/>\r\n     <use style=\"fill:#1f77b4;stroke:#1f77b4;\" x=\"183.318007\" xlink:href=\"#m47bdf79e94\" y=\"154.172161\"/>\r\n     <use style=\"fill:#1f77b4;stroke:#1f77b4;\" x=\"183.927954\" xlink:href=\"#m47bdf79e94\" y=\"198.526745\"/>\r\n     <use style=\"fill:#1f77b4;stroke:#1f77b4;\" x=\"184.537901\" xlink:href=\"#m47bdf79e94\" y=\"266.874595\"/>\r\n     <use style=\"fill:#1f77b4;stroke:#1f77b4;\" x=\"185.147849\" xlink:href=\"#m47bdf79e94\" y=\"92.034457\"/>\r\n     <use style=\"fill:#1f77b4;stroke:#1f77b4;\" x=\"185.757796\" xlink:href=\"#m47bdf79e94\" y=\"103.958458\"/>\r\n     <use style=\"fill:#1f77b4;stroke:#1f77b4;\" x=\"186.367743\" xlink:href=\"#m47bdf79e94\" y=\"57.026341\"/>\r\n     <use style=\"fill:#1f77b4;stroke:#1f77b4;\" x=\"186.97769\" xlink:href=\"#m47bdf79e94\" y=\"212.194919\"/>\r\n     <use style=\"fill:#1f77b4;stroke:#1f77b4;\" x=\"187.587637\" xlink:href=\"#m47bdf79e94\" y=\"44.039614\"/>\r\n     <use style=\"fill:#1f77b4;stroke:#1f77b4;\" x=\"188.197584\" xlink:href=\"#m47bdf79e94\" y=\"115.467275\"/>\r\n     <use style=\"fill:#1f77b4;stroke:#1f77b4;\" x=\"188.807532\" xlink:href=\"#m47bdf79e94\" y=\"267.571333\"/>\r\n     <use style=\"fill:#1f77b4;stroke:#1f77b4;\" x=\"189.417479\" xlink:href=\"#m47bdf79e94\" y=\"25.197093\"/>\r\n     <use style=\"fill:#1f77b4;stroke:#1f77b4;\" x=\"190.027426\" xlink:href=\"#m47bdf79e94\" y=\"129.534012\"/>\r\n     <use style=\"fill:#1f77b4;stroke:#1f77b4;\" x=\"190.637373\" xlink:href=\"#m47bdf79e94\" y=\"171.785084\"/>\r\n     <use style=\"fill:#1f77b4;stroke:#1f77b4;\" x=\"191.24732\" xlink:href=\"#m47bdf79e94\" y=\"184.627211\"/>\r\n     <use style=\"fill:#1f77b4;stroke:#1f77b4;\" x=\"191.857267\" xlink:href=\"#m47bdf79e94\" y=\"189.632027\"/>\r\n     <use style=\"fill:#1f77b4;stroke:#1f77b4;\" x=\"192.467215\" xlink:href=\"#m47bdf79e94\" y=\"216.368701\"/>\r\n     <use style=\"fill:#1f77b4;stroke:#1f77b4;\" x=\"193.077162\" xlink:href=\"#m47bdf79e94\" y=\"150.486693\"/>\r\n     <use style=\"fill:#1f77b4;stroke:#1f77b4;\" x=\"193.687109\" xlink:href=\"#m47bdf79e94\" y=\"192.854442\"/>\r\n     <use style=\"fill:#1f77b4;stroke:#1f77b4;\" x=\"194.297056\" xlink:href=\"#m47bdf79e94\" y=\"223.578415\"/>\r\n     <use style=\"fill:#1f77b4;stroke:#1f77b4;\" x=\"194.907003\" xlink:href=\"#m47bdf79e94\" y=\"74.585746\"/>\r\n     <use style=\"fill:#1f77b4;stroke:#1f77b4;\" x=\"195.51695\" xlink:href=\"#m47bdf79e94\" y=\"102.953572\"/>\r\n     <use style=\"fill:#1f77b4;stroke:#1f77b4;\" x=\"196.126898\" xlink:href=\"#m47bdf79e94\" y=\"193.388963\"/>\r\n     <use style=\"fill:#1f77b4;stroke:#1f77b4;\" x=\"196.736845\" xlink:href=\"#m47bdf79e94\" y=\"193.032284\"/>\r\n     <use style=\"fill:#1f77b4;stroke:#1f77b4;\" x=\"197.346792\" xlink:href=\"#m47bdf79e94\" y=\"226.143317\"/>\r\n     <use style=\"fill:#1f77b4;stroke:#1f77b4;\" x=\"197.956739\" xlink:href=\"#m47bdf79e94\" y=\"86.00747\"/>\r\n     <use style=\"fill:#1f77b4;stroke:#1f77b4;\" x=\"198.566686\" xlink:href=\"#m47bdf79e94\" y=\"153.753652\"/>\r\n     <use style=\"fill:#1f77b4;stroke:#1f77b4;\" x=\"199.176633\" xlink:href=\"#m47bdf79e94\" y=\"177.324754\"/>\r\n     <use style=\"fill:#1f77b4;stroke:#1f77b4;\" x=\"199.786581\" xlink:href=\"#m47bdf79e94\" y=\"141.830981\"/>\r\n     <use style=\"fill:#1f77b4;stroke:#1f77b4;\" x=\"200.396528\" xlink:href=\"#m47bdf79e94\" y=\"141.858904\"/>\r\n     <use style=\"fill:#1f77b4;stroke:#1f77b4;\" x=\"201.006475\" xlink:href=\"#m47bdf79e94\" y=\"87.198507\"/>\r\n     <use style=\"fill:#1f77b4;stroke:#1f77b4;\" x=\"201.616422\" xlink:href=\"#m47bdf79e94\" y=\"185.245167\"/>\r\n     <use style=\"fill:#1f77b4;stroke:#1f77b4;\" x=\"202.226369\" xlink:href=\"#m47bdf79e94\" y=\"181.464962\"/>\r\n     <use style=\"fill:#1f77b4;stroke:#1f77b4;\" x=\"202.836316\" xlink:href=\"#m47bdf79e94\" y=\"122.056041\"/>\r\n     <use style=\"fill:#1f77b4;stroke:#1f77b4;\" x=\"203.446264\" xlink:href=\"#m47bdf79e94\" y=\"193.623647\"/>\r\n     <use style=\"fill:#1f77b4;stroke:#1f77b4;\" x=\"204.056211\" xlink:href=\"#m47bdf79e94\" y=\"67.726395\"/>\r\n     <use style=\"fill:#1f77b4;stroke:#1f77b4;\" x=\"204.666158\" xlink:href=\"#m47bdf79e94\" y=\"283.250276\"/>\r\n     <use style=\"fill:#1f77b4;stroke:#1f77b4;\" x=\"205.276105\" xlink:href=\"#m47bdf79e94\" y=\"192.425629\"/>\r\n     <use style=\"fill:#1f77b4;stroke:#1f77b4;\" x=\"205.886052\" xlink:href=\"#m47bdf79e94\" y=\"175.174371\"/>\r\n     <use style=\"fill:#1f77b4;stroke:#1f77b4;\" x=\"206.495999\" xlink:href=\"#m47bdf79e94\" y=\"210.115008\"/>\r\n     <use style=\"fill:#1f77b4;stroke:#1f77b4;\" x=\"207.105947\" xlink:href=\"#m47bdf79e94\" y=\"239.984678\"/>\r\n     <use style=\"fill:#1f77b4;stroke:#1f77b4;\" x=\"207.715894\" xlink:href=\"#m47bdf79e94\" y=\"108.982222\"/>\r\n     <use style=\"fill:#1f77b4;stroke:#1f77b4;\" x=\"208.325841\" xlink:href=\"#m47bdf79e94\" y=\"207.820026\"/>\r\n     <use style=\"fill:#1f77b4;stroke:#1f77b4;\" x=\"208.935788\" xlink:href=\"#m47bdf79e94\" y=\"170.709395\"/>\r\n     <use style=\"fill:#1f77b4;stroke:#1f77b4;\" x=\"209.545735\" xlink:href=\"#m47bdf79e94\" y=\"130.128367\"/>\r\n     <use style=\"fill:#1f77b4;stroke:#1f77b4;\" x=\"210.155682\" xlink:href=\"#m47bdf79e94\" y=\"179.779626\"/>\r\n     <use style=\"fill:#1f77b4;stroke:#1f77b4;\" x=\"210.76563\" xlink:href=\"#m47bdf79e94\" y=\"122.72818\"/>\r\n     <use style=\"fill:#1f77b4;stroke:#1f77b4;\" x=\"211.375577\" xlink:href=\"#m47bdf79e94\" y=\"222.839128\"/>\r\n     <use style=\"fill:#1f77b4;stroke:#1f77b4;\" x=\"211.985524\" xlink:href=\"#m47bdf79e94\" y=\"227.105654\"/>\r\n     <use style=\"fill:#1f77b4;stroke:#1f77b4;\" x=\"212.595471\" xlink:href=\"#m47bdf79e94\" y=\"184.670757\"/>\r\n     <use style=\"fill:#1f77b4;stroke:#1f77b4;\" x=\"213.205418\" xlink:href=\"#m47bdf79e94\" y=\"258.477168\"/>\r\n     <use style=\"fill:#1f77b4;stroke:#1f77b4;\" x=\"213.815365\" xlink:href=\"#m47bdf79e94\" y=\"219.637654\"/>\r\n     <use style=\"fill:#1f77b4;stroke:#1f77b4;\" x=\"214.425313\" xlink:href=\"#m47bdf79e94\" y=\"110.356751\"/>\r\n     <use style=\"fill:#1f77b4;stroke:#1f77b4;\" x=\"215.03526\" xlink:href=\"#m47bdf79e94\" y=\"134.881547\"/>\r\n     <use style=\"fill:#1f77b4;stroke:#1f77b4;\" x=\"215.645207\" xlink:href=\"#m47bdf79e94\" y=\"265.247764\"/>\r\n     <use style=\"fill:#1f77b4;stroke:#1f77b4;\" x=\"216.255154\" xlink:href=\"#m47bdf79e94\" y=\"139.17533\"/>\r\n     <use style=\"fill:#1f77b4;stroke:#1f77b4;\" x=\"216.865101\" xlink:href=\"#m47bdf79e94\" y=\"111.513882\"/>\r\n     <use style=\"fill:#1f77b4;stroke:#1f77b4;\" x=\"217.475048\" xlink:href=\"#m47bdf79e94\" y=\"216.281276\"/>\r\n     <use style=\"fill:#1f77b4;stroke:#1f77b4;\" x=\"218.084996\" xlink:href=\"#m47bdf79e94\" y=\"142.277745\"/>\r\n     <use style=\"fill:#1f77b4;stroke:#1f77b4;\" x=\"218.694943\" xlink:href=\"#m47bdf79e94\" y=\"135.79934\"/>\r\n     <use style=\"fill:#1f77b4;stroke:#1f77b4;\" x=\"219.30489\" xlink:href=\"#m47bdf79e94\" y=\"114.643222\"/>\r\n     <use style=\"fill:#1f77b4;stroke:#1f77b4;\" x=\"219.914837\" xlink:href=\"#m47bdf79e94\" y=\"194.902441\"/>\r\n     <use style=\"fill:#1f77b4;stroke:#1f77b4;\" x=\"220.524784\" xlink:href=\"#m47bdf79e94\" y=\"186.299583\"/>\r\n     <use style=\"fill:#1f77b4;stroke:#1f77b4;\" x=\"221.134731\" xlink:href=\"#m47bdf79e94\" y=\"245.514043\"/>\r\n     <use style=\"fill:#1f77b4;stroke:#1f77b4;\" x=\"221.744679\" xlink:href=\"#m47bdf79e94\" y=\"192.375102\"/>\r\n     <use style=\"fill:#1f77b4;stroke:#1f77b4;\" x=\"222.354626\" xlink:href=\"#m47bdf79e94\" y=\"97.683158\"/>\r\n     <use style=\"fill:#1f77b4;stroke:#1f77b4;\" x=\"222.964573\" xlink:href=\"#m47bdf79e94\" y=\"280.873188\"/>\r\n     <use style=\"fill:#1f77b4;stroke:#1f77b4;\" x=\"223.57452\" xlink:href=\"#m47bdf79e94\" y=\"192.241805\"/>\r\n     <use style=\"fill:#1f77b4;stroke:#1f77b4;\" x=\"224.184467\" xlink:href=\"#m47bdf79e94\" y=\"170.206786\"/>\r\n     <use style=\"fill:#1f77b4;stroke:#1f77b4;\" x=\"224.794414\" xlink:href=\"#m47bdf79e94\" y=\"230.894502\"/>\r\n     <use style=\"fill:#1f77b4;stroke:#1f77b4;\" x=\"225.404362\" xlink:href=\"#m47bdf79e94\" y=\"126.357137\"/>\r\n     <use style=\"fill:#1f77b4;stroke:#1f77b4;\" x=\"226.014309\" xlink:href=\"#m47bdf79e94\" y=\"177.260265\"/>\r\n     <use style=\"fill:#1f77b4;stroke:#1f77b4;\" x=\"226.624256\" xlink:href=\"#m47bdf79e94\" y=\"144.167515\"/>\r\n     <use style=\"fill:#1f77b4;stroke:#1f77b4;\" x=\"227.234203\" xlink:href=\"#m47bdf79e94\" y=\"181.823636\"/>\r\n     <use style=\"fill:#1f77b4;stroke:#1f77b4;\" x=\"227.84415\" xlink:href=\"#m47bdf79e94\" y=\"98.528485\"/>\r\n     <use style=\"fill:#1f77b4;stroke:#1f77b4;\" x=\"228.454097\" xlink:href=\"#m47bdf79e94\" y=\"225.060979\"/>\r\n     <use style=\"fill:#1f77b4;stroke:#1f77b4;\" x=\"229.064045\" xlink:href=\"#m47bdf79e94\" y=\"144.215382\"/>\r\n     <use style=\"fill:#1f77b4;stroke:#1f77b4;\" x=\"229.673992\" xlink:href=\"#m47bdf79e94\" y=\"169.696199\"/>\r\n     <use style=\"fill:#1f77b4;stroke:#1f77b4;\" x=\"230.283939\" xlink:href=\"#m47bdf79e94\" y=\"120.948107\"/>\r\n     <use style=\"fill:#1f77b4;stroke:#1f77b4;\" x=\"230.893886\" xlink:href=\"#m47bdf79e94\" y=\"228.091924\"/>\r\n     <use style=\"fill:#1f77b4;stroke:#1f77b4;\" x=\"231.503833\" xlink:href=\"#m47bdf79e94\" y=\"226.678835\"/>\r\n     <use style=\"fill:#1f77b4;stroke:#1f77b4;\" x=\"232.11378\" xlink:href=\"#m47bdf79e94\" y=\"198.215938\"/>\r\n     <use style=\"fill:#1f77b4;stroke:#1f77b4;\" x=\"232.723728\" xlink:href=\"#m47bdf79e94\" y=\"171.092002\"/>\r\n     <use style=\"fill:#1f77b4;stroke:#1f77b4;\" x=\"233.333675\" xlink:href=\"#m47bdf79e94\" y=\"183.120049\"/>\r\n     <use style=\"fill:#1f77b4;stroke:#1f77b4;\" x=\"233.943622\" xlink:href=\"#m47bdf79e94\" y=\"266.251652\"/>\r\n     <use style=\"fill:#1f77b4;stroke:#1f77b4;\" x=\"234.553569\" xlink:href=\"#m47bdf79e94\" y=\"194.730251\"/>\r\n     <use style=\"fill:#1f77b4;stroke:#1f77b4;\" x=\"235.163516\" xlink:href=\"#m47bdf79e94\" y=\"182.944867\"/>\r\n     <use style=\"fill:#1f77b4;stroke:#1f77b4;\" x=\"235.773463\" xlink:href=\"#m47bdf79e94\" y=\"172.739111\"/>\r\n     <use style=\"fill:#1f77b4;stroke:#1f77b4;\" x=\"236.383411\" xlink:href=\"#m47bdf79e94\" y=\"259.258339\"/>\r\n     <use style=\"fill:#1f77b4;stroke:#1f77b4;\" x=\"236.993358\" xlink:href=\"#m47bdf79e94\" y=\"125.82162\"/>\r\n     <use style=\"fill:#1f77b4;stroke:#1f77b4;\" x=\"237.603305\" xlink:href=\"#m47bdf79e94\" y=\"130.423551\"/>\r\n     <use style=\"fill:#1f77b4;stroke:#1f77b4;\" x=\"238.213252\" xlink:href=\"#m47bdf79e94\" y=\"178.173405\"/>\r\n     <use style=\"fill:#1f77b4;stroke:#1f77b4;\" x=\"238.823199\" xlink:href=\"#m47bdf79e94\" y=\"146.100831\"/>\r\n     <use style=\"fill:#1f77b4;stroke:#1f77b4;\" x=\"239.433146\" xlink:href=\"#m47bdf79e94\" y=\"198.098929\"/>\r\n     <use style=\"fill:#1f77b4;stroke:#1f77b4;\" x=\"240.043094\" xlink:href=\"#m47bdf79e94\" y=\"216.870978\"/>\r\n     <use style=\"fill:#1f77b4;stroke:#1f77b4;\" x=\"240.653041\" xlink:href=\"#m47bdf79e94\" y=\"179.144384\"/>\r\n     <use style=\"fill:#1f77b4;stroke:#1f77b4;\" x=\"241.262988\" xlink:href=\"#m47bdf79e94\" y=\"217.019567\"/>\r\n     <use style=\"fill:#1f77b4;stroke:#1f77b4;\" x=\"241.872935\" xlink:href=\"#m47bdf79e94\" y=\"252.074553\"/>\r\n     <use style=\"fill:#1f77b4;stroke:#1f77b4;\" x=\"242.482882\" xlink:href=\"#m47bdf79e94\" y=\"156.695511\"/>\r\n     <use style=\"fill:#1f77b4;stroke:#1f77b4;\" x=\"243.092829\" xlink:href=\"#m47bdf79e94\" y=\"201.540404\"/>\r\n     <use style=\"fill:#1f77b4;stroke:#1f77b4;\" x=\"243.702777\" xlink:href=\"#m47bdf79e94\" y=\"82.777409\"/>\r\n     <use style=\"fill:#1f77b4;stroke:#1f77b4;\" x=\"244.312724\" xlink:href=\"#m47bdf79e94\" y=\"160.13466\"/>\r\n     <use style=\"fill:#1f77b4;stroke:#1f77b4;\" x=\"244.922671\" xlink:href=\"#m47bdf79e94\" y=\"161.488912\"/>\r\n     <use style=\"fill:#1f77b4;stroke:#1f77b4;\" x=\"245.532618\" xlink:href=\"#m47bdf79e94\" y=\"283.517536\"/>\r\n     <use style=\"fill:#1f77b4;stroke:#1f77b4;\" x=\"246.142565\" xlink:href=\"#m47bdf79e94\" y=\"225.54597\"/>\r\n     <use style=\"fill:#1f77b4;stroke:#1f77b4;\" x=\"246.752512\" xlink:href=\"#m47bdf79e94\" y=\"83.683236\"/>\r\n     <use style=\"fill:#1f77b4;stroke:#1f77b4;\" x=\"247.36246\" xlink:href=\"#m47bdf79e94\" y=\"125.157125\"/>\r\n     <use style=\"fill:#1f77b4;stroke:#1f77b4;\" x=\"247.972407\" xlink:href=\"#m47bdf79e94\" y=\"137.726008\"/>\r\n     <use style=\"fill:#1f77b4;stroke:#1f77b4;\" x=\"248.582354\" xlink:href=\"#m47bdf79e94\" y=\"188.98648\"/>\r\n     <use style=\"fill:#1f77b4;stroke:#1f77b4;\" x=\"249.192301\" xlink:href=\"#m47bdf79e94\" y=\"181.256872\"/>\r\n     <use style=\"fill:#1f77b4;stroke:#1f77b4;\" x=\"249.802248\" xlink:href=\"#m47bdf79e94\" y=\"231.127856\"/>\r\n     <use style=\"fill:#1f77b4;stroke:#1f77b4;\" x=\"250.412195\" xlink:href=\"#m47bdf79e94\" y=\"210.865265\"/>\r\n     <use style=\"fill:#1f77b4;stroke:#1f77b4;\" x=\"251.022143\" xlink:href=\"#m47bdf79e94\" y=\"203.798156\"/>\r\n     <use style=\"fill:#1f77b4;stroke:#1f77b4;\" x=\"251.63209\" xlink:href=\"#m47bdf79e94\" y=\"231.571628\"/>\r\n     <use style=\"fill:#1f77b4;stroke:#1f77b4;\" x=\"252.242037\" xlink:href=\"#m47bdf79e94\" y=\"171.06408\"/>\r\n     <use style=\"fill:#1f77b4;stroke:#1f77b4;\" x=\"252.851984\" xlink:href=\"#m47bdf79e94\" y=\"213.661526\"/>\r\n     <use style=\"fill:#1f77b4;stroke:#1f77b4;\" x=\"253.461931\" xlink:href=\"#m47bdf79e94\" y=\"139.319265\"/>\r\n     <use style=\"fill:#1f77b4;stroke:#1f77b4;\" x=\"254.071878\" xlink:href=\"#m47bdf79e94\" y=\"204.848583\"/>\r\n     <use style=\"fill:#1f77b4;stroke:#1f77b4;\" x=\"254.681826\" xlink:href=\"#m47bdf79e94\" y=\"141.988213\"/>\r\n     <use style=\"fill:#1f77b4;stroke:#1f77b4;\" x=\"255.291773\" xlink:href=\"#m47bdf79e94\" y=\"172.534344\"/>\r\n     <use style=\"fill:#1f77b4;stroke:#1f77b4;\" x=\"255.90172\" xlink:href=\"#m47bdf79e94\" y=\"167.851969\"/>\r\n     <use style=\"fill:#1f77b4;stroke:#1f77b4;\" x=\"256.511667\" xlink:href=\"#m47bdf79e94\" y=\"183.005366\"/>\r\n     <use style=\"fill:#1f77b4;stroke:#1f77b4;\" x=\"257.121614\" xlink:href=\"#m47bdf79e94\" y=\"157.997574\"/>\r\n     <use style=\"fill:#1f77b4;stroke:#1f77b4;\" x=\"257.731561\" xlink:href=\"#m47bdf79e94\" y=\"150.271954\"/>\r\n     <use style=\"fill:#1f77b4;stroke:#1f77b4;\" x=\"258.341509\" xlink:href=\"#m47bdf79e94\" y=\"234.983519\"/>\r\n     <use style=\"fill:#1f77b4;stroke:#1f77b4;\" x=\"258.951456\" xlink:href=\"#m47bdf79e94\" y=\"168.142166\"/>\r\n     <use style=\"fill:#1f77b4;stroke:#1f77b4;\" x=\"259.561403\" xlink:href=\"#m47bdf79e94\" y=\"183.843048\"/>\r\n     <use style=\"fill:#1f77b4;stroke:#1f77b4;\" x=\"260.17135\" xlink:href=\"#m47bdf79e94\" y=\"115.537746\"/>\r\n     <use style=\"fill:#1f77b4;stroke:#1f77b4;\" x=\"260.781297\" xlink:href=\"#m47bdf79e94\" y=\"122.878431\"/>\r\n     <use style=\"fill:#1f77b4;stroke:#1f77b4;\" x=\"261.391244\" xlink:href=\"#m47bdf79e94\" y=\"157.49563\"/>\r\n     <use style=\"fill:#1f77b4;stroke:#1f77b4;\" x=\"262.001192\" xlink:href=\"#m47bdf79e94\" y=\"193.915838\"/>\r\n     <use style=\"fill:#1f77b4;stroke:#1f77b4;\" x=\"262.611139\" xlink:href=\"#m47bdf79e94\" y=\"266.149934\"/>\r\n     <use style=\"fill:#1f77b4;stroke:#1f77b4;\" x=\"263.221086\" xlink:href=\"#m47bdf79e94\" y=\"188.878778\"/>\r\n     <use style=\"fill:#1f77b4;stroke:#1f77b4;\" x=\"263.831033\" xlink:href=\"#m47bdf79e94\" y=\"114.219395\"/>\r\n     <use style=\"fill:#1f77b4;stroke:#1f77b4;\" x=\"264.44098\" xlink:href=\"#m47bdf79e94\" y=\"203.546852\"/>\r\n     <use style=\"fill:#1f77b4;stroke:#1f77b4;\" x=\"265.050927\" xlink:href=\"#m47bdf79e94\" y=\"101.768851\"/>\r\n     <use style=\"fill:#1f77b4;stroke:#1f77b4;\" x=\"265.660875\" xlink:href=\"#m47bdf79e94\" y=\"244.186716\"/>\r\n     <use style=\"fill:#1f77b4;stroke:#1f77b4;\" x=\"266.270822\" xlink:href=\"#m47bdf79e94\" y=\"188.798999\"/>\r\n     <use style=\"fill:#1f77b4;stroke:#1f77b4;\" x=\"266.880769\" xlink:href=\"#m47bdf79e94\" y=\"178.62582\"/>\r\n     <use style=\"fill:#1f77b4;stroke:#1f77b4;\" x=\"267.490716\" xlink:href=\"#m47bdf79e94\" y=\"157.075792\"/>\r\n     <use style=\"fill:#1f77b4;stroke:#1f77b4;\" x=\"268.100663\" xlink:href=\"#m47bdf79e94\" y=\"96.231176\"/>\r\n     <use style=\"fill:#1f77b4;stroke:#1f77b4;\" x=\"268.71061\" xlink:href=\"#m47bdf79e94\" y=\"160.711397\"/>\r\n     <use style=\"fill:#1f77b4;stroke:#1f77b4;\" x=\"269.320558\" xlink:href=\"#m47bdf79e94\" y=\"97.929476\"/>\r\n     <use style=\"fill:#1f77b4;stroke:#1f77b4;\" x=\"269.930505\" xlink:href=\"#m47bdf79e94\" y=\"162.461886\"/>\r\n     <use style=\"fill:#1f77b4;stroke:#1f77b4;\" x=\"270.540452\" xlink:href=\"#m47bdf79e94\" y=\"192.9781\"/>\r\n     <use style=\"fill:#1f77b4;stroke:#1f77b4;\" x=\"271.150399\" xlink:href=\"#m47bdf79e94\" y=\"102.595896\"/>\r\n     <use style=\"fill:#1f77b4;stroke:#1f77b4;\" x=\"271.760346\" xlink:href=\"#m47bdf79e94\" y=\"120.749324\"/>\r\n     <use style=\"fill:#1f77b4;stroke:#1f77b4;\" x=\"272.370293\" xlink:href=\"#m47bdf79e94\" y=\"201.440016\"/>\r\n     <use style=\"fill:#1f77b4;stroke:#1f77b4;\" x=\"272.980241\" xlink:href=\"#m47bdf79e94\" y=\"238.853476\"/>\r\n     <use style=\"fill:#1f77b4;stroke:#1f77b4;\" x=\"273.590188\" xlink:href=\"#m47bdf79e94\" y=\"185.019459\"/>\r\n     <use style=\"fill:#1f77b4;stroke:#1f77b4;\" x=\"274.200135\" xlink:href=\"#m47bdf79e94\" y=\"238.331587\"/>\r\n     <use style=\"fill:#1f77b4;stroke:#1f77b4;\" x=\"274.810082\" xlink:href=\"#m47bdf79e94\" y=\"196.417582\"/>\r\n     <use style=\"fill:#1f77b4;stroke:#1f77b4;\" x=\"275.420029\" xlink:href=\"#m47bdf79e94\" y=\"157.359673\"/>\r\n     <use style=\"fill:#1f77b4;stroke:#1f77b4;\" x=\"276.029976\" xlink:href=\"#m47bdf79e94\" y=\"247.292787\"/>\r\n     <use style=\"fill:#1f77b4;stroke:#1f77b4;\" x=\"276.639924\" xlink:href=\"#m47bdf79e94\" y=\"226.740664\"/>\r\n     <use style=\"fill:#1f77b4;stroke:#1f77b4;\" x=\"277.249871\" xlink:href=\"#m47bdf79e94\" y=\"79.919651\"/>\r\n     <use style=\"fill:#1f77b4;stroke:#1f77b4;\" x=\"277.859818\" xlink:href=\"#m47bdf79e94\" y=\"115.273145\"/>\r\n     <use style=\"fill:#1f77b4;stroke:#1f77b4;\" x=\"278.469765\" xlink:href=\"#m47bdf79e94\" y=\"223.832047\"/>\r\n     <use style=\"fill:#1f77b4;stroke:#1f77b4;\" x=\"279.079712\" xlink:href=\"#m47bdf79e94\" y=\"131.373256\"/>\r\n     <use style=\"fill:#1f77b4;stroke:#1f77b4;\" x=\"279.689659\" xlink:href=\"#m47bdf79e94\" y=\"135.354903\"/>\r\n     <use style=\"fill:#1f77b4;stroke:#1f77b4;\" x=\"280.299607\" xlink:href=\"#m47bdf79e94\" y=\"146.174627\"/>\r\n     <use style=\"fill:#1f77b4;stroke:#1f77b4;\" x=\"280.909554\" xlink:href=\"#m47bdf79e94\" y=\"158.958249\"/>\r\n     <use style=\"fill:#1f77b4;stroke:#1f77b4;\" x=\"281.519501\" xlink:href=\"#m47bdf79e94\" y=\"166.904258\"/>\r\n     <use style=\"fill:#1f77b4;stroke:#1f77b4;\" x=\"282.129448\" xlink:href=\"#m47bdf79e94\" y=\"160.419206\"/>\r\n     <use style=\"fill:#1f77b4;stroke:#1f77b4;\" x=\"282.739395\" xlink:href=\"#m47bdf79e94\" y=\"210.2985\"/>\r\n     <use style=\"fill:#1f77b4;stroke:#1f77b4;\" x=\"283.349342\" xlink:href=\"#m47bdf79e94\" y=\"164.583348\"/>\r\n     <use style=\"fill:#1f77b4;stroke:#1f77b4;\" x=\"283.95929\" xlink:href=\"#m47bdf79e94\" y=\"64.736005\"/>\r\n     <use style=\"fill:#1f77b4;stroke:#1f77b4;\" x=\"284.569237\" xlink:href=\"#m47bdf79e94\" y=\"184.694691\"/>\r\n     <use style=\"fill:#1f77b4;stroke:#1f77b4;\" x=\"285.179184\" xlink:href=\"#m47bdf79e94\" y=\"149.236487\"/>\r\n     <use style=\"fill:#1f77b4;stroke:#1f77b4;\" x=\"285.789131\" xlink:href=\"#m47bdf79e94\" y=\"198.24519\"/>\r\n     <use style=\"fill:#1f77b4;stroke:#1f77b4;\" x=\"286.399078\" xlink:href=\"#m47bdf79e94\" y=\"211.551699\"/>\r\n     <use style=\"fill:#1f77b4;stroke:#1f77b4;\" x=\"287.009025\" xlink:href=\"#m47bdf79e94\" y=\"137.327112\"/>\r\n     <use style=\"fill:#1f77b4;stroke:#1f77b4;\" x=\"287.618973\" xlink:href=\"#m47bdf79e94\" y=\"161.496225\"/>\r\n     <use style=\"fill:#1f77b4;stroke:#1f77b4;\" x=\"288.22892\" xlink:href=\"#m47bdf79e94\" y=\"237.149524\"/>\r\n     <use style=\"fill:#1f77b4;stroke:#1f77b4;\" x=\"288.838867\" xlink:href=\"#m47bdf79e94\" y=\"186.119415\"/>\r\n     <use style=\"fill:#1f77b4;stroke:#1f77b4;\" x=\"289.448814\" xlink:href=\"#m47bdf79e94\" y=\"229.327172\"/>\r\n     <use style=\"fill:#1f77b4;stroke:#1f77b4;\" x=\"290.058761\" xlink:href=\"#m47bdf79e94\" y=\"259.977017\"/>\r\n     <use style=\"fill:#1f77b4;stroke:#1f77b4;\" x=\"290.668708\" xlink:href=\"#m47bdf79e94\" y=\"254.560341\"/>\r\n     <use style=\"fill:#1f77b4;stroke:#1f77b4;\" x=\"291.278656\" xlink:href=\"#m47bdf79e94\" y=\"140.971028\"/>\r\n     <use style=\"fill:#1f77b4;stroke:#1f77b4;\" x=\"291.888603\" xlink:href=\"#m47bdf79e94\" y=\"148.961248\"/>\r\n     <use style=\"fill:#1f77b4;stroke:#1f77b4;\" x=\"292.49855\" xlink:href=\"#m47bdf79e94\" y=\"162.934245\"/>\r\n     <use style=\"fill:#1f77b4;stroke:#1f77b4;\" x=\"293.108497\" xlink:href=\"#m47bdf79e94\" y=\"159.207891\"/>\r\n     <use style=\"fill:#1f77b4;stroke:#1f77b4;\" x=\"293.718444\" xlink:href=\"#m47bdf79e94\" y=\"204.92404\"/>\r\n     <use style=\"fill:#1f77b4;stroke:#1f77b4;\" x=\"294.328391\" xlink:href=\"#m47bdf79e94\" y=\"154.545461\"/>\r\n     <use style=\"fill:#1f77b4;stroke:#1f77b4;\" x=\"294.938339\" xlink:href=\"#m47bdf79e94\" y=\"150.261982\"/>\r\n     <use style=\"fill:#1f77b4;stroke:#1f77b4;\" x=\"295.548286\" xlink:href=\"#m47bdf79e94\" y=\"247.518828\"/>\r\n     <use style=\"fill:#1f77b4;stroke:#1f77b4;\" x=\"296.158233\" xlink:href=\"#m47bdf79e94\" y=\"181.130887\"/>\r\n     <use style=\"fill:#1f77b4;stroke:#1f77b4;\" x=\"296.76818\" xlink:href=\"#m47bdf79e94\" y=\"133.356766\"/>\r\n     <use style=\"fill:#1f77b4;stroke:#1f77b4;\" x=\"297.378127\" xlink:href=\"#m47bdf79e94\" y=\"134.506917\"/>\r\n     <use style=\"fill:#1f77b4;stroke:#1f77b4;\" x=\"297.988074\" xlink:href=\"#m47bdf79e94\" y=\"315.07354\"/>\r\n     <use style=\"fill:#1f77b4;stroke:#1f77b4;\" x=\"298.598022\" xlink:href=\"#m47bdf79e94\" y=\"137.281571\"/>\r\n     <use style=\"fill:#1f77b4;stroke:#1f77b4;\" x=\"299.207969\" xlink:href=\"#m47bdf79e94\" y=\"154.513882\"/>\r\n     <use style=\"fill:#1f77b4;stroke:#1f77b4;\" x=\"299.817916\" xlink:href=\"#m47bdf79e94\" y=\"225.496773\"/>\r\n     <use style=\"fill:#1f77b4;stroke:#1f77b4;\" x=\"300.427863\" xlink:href=\"#m47bdf79e94\" y=\"207.512876\"/>\r\n     <use style=\"fill:#1f77b4;stroke:#1f77b4;\" x=\"301.03781\" xlink:href=\"#m47bdf79e94\" y=\"180.381627\"/>\r\n     <use style=\"fill:#1f77b4;stroke:#1f77b4;\" x=\"301.647757\" xlink:href=\"#m47bdf79e94\" y=\"125.028481\"/>\r\n     <use style=\"fill:#1f77b4;stroke:#1f77b4;\" x=\"302.257705\" xlink:href=\"#m47bdf79e94\" y=\"177.781157\"/>\r\n     <use style=\"fill:#1f77b4;stroke:#1f77b4;\" x=\"302.867652\" xlink:href=\"#m47bdf79e94\" y=\"223.676145\"/>\r\n     <use style=\"fill:#1f77b4;stroke:#1f77b4;\" x=\"303.477599\" xlink:href=\"#m47bdf79e94\" y=\"206.778575\"/>\r\n     <use style=\"fill:#1f77b4;stroke:#1f77b4;\" x=\"304.087546\" xlink:href=\"#m47bdf79e94\" y=\"145.132511\"/>\r\n     <use style=\"fill:#1f77b4;stroke:#1f77b4;\" x=\"304.697493\" xlink:href=\"#m47bdf79e94\" y=\"111.430114\"/>\r\n     <use style=\"fill:#1f77b4;stroke:#1f77b4;\" x=\"305.30744\" xlink:href=\"#m47bdf79e94\" y=\"149.20391\"/>\r\n     <use style=\"fill:#1f77b4;stroke:#1f77b4;\" x=\"305.917388\" xlink:href=\"#m47bdf79e94\" y=\"144.937052\"/>\r\n     <use style=\"fill:#1f77b4;stroke:#1f77b4;\" x=\"306.527335\" xlink:href=\"#m47bdf79e94\" y=\"145.191348\"/>\r\n     <use style=\"fill:#1f77b4;stroke:#1f77b4;\" x=\"307.137282\" xlink:href=\"#m47bdf79e94\" y=\"296.902827\"/>\r\n     <use style=\"fill:#1f77b4;stroke:#1f77b4;\" x=\"307.747229\" xlink:href=\"#m47bdf79e94\" y=\"181.353271\"/>\r\n     <use style=\"fill:#1f77b4;stroke:#1f77b4;\" x=\"308.357176\" xlink:href=\"#m47bdf79e94\" y=\"119.943553\"/>\r\n     <use style=\"fill:#1f77b4;stroke:#1f77b4;\" x=\"308.967123\" xlink:href=\"#m47bdf79e94\" y=\"162.016784\"/>\r\n     <use style=\"fill:#1f77b4;stroke:#1f77b4;\" x=\"309.577071\" xlink:href=\"#m47bdf79e94\" y=\"191.336643\"/>\r\n     <use style=\"fill:#1f77b4;stroke:#1f77b4;\" x=\"310.187018\" xlink:href=\"#m47bdf79e94\" y=\"100.274321\"/>\r\n     <use style=\"fill:#1f77b4;stroke:#1f77b4;\" x=\"310.796965\" xlink:href=\"#m47bdf79e94\" y=\"270.483275\"/>\r\n     <use style=\"fill:#1f77b4;stroke:#1f77b4;\" x=\"311.406912\" xlink:href=\"#m47bdf79e94\" y=\"121.61659\"/>\r\n     <use style=\"fill:#1f77b4;stroke:#1f77b4;\" x=\"312.016859\" xlink:href=\"#m47bdf79e94\" y=\"191.712602\"/>\r\n     <use style=\"fill:#1f77b4;stroke:#1f77b4;\" x=\"312.626806\" xlink:href=\"#m47bdf79e94\" y=\"205.653355\"/>\r\n     <use style=\"fill:#1f77b4;stroke:#1f77b4;\" x=\"313.236754\" xlink:href=\"#m47bdf79e94\" y=\"255.381402\"/>\r\n     <use style=\"fill:#1f77b4;stroke:#1f77b4;\" x=\"313.846701\" xlink:href=\"#m47bdf79e94\" y=\"225.646691\"/>\r\n     <use style=\"fill:#1f77b4;stroke:#1f77b4;\" x=\"314.456648\" xlink:href=\"#m47bdf79e94\" y=\"42.420096\"/>\r\n     <use style=\"fill:#1f77b4;stroke:#1f77b4;\" x=\"315.066595\" xlink:href=\"#m47bdf79e94\" y=\"227.583997\"/>\r\n     <use style=\"fill:#1f77b4;stroke:#1f77b4;\" x=\"315.676542\" xlink:href=\"#m47bdf79e94\" y=\"186.909894\"/>\r\n     <use style=\"fill:#1f77b4;stroke:#1f77b4;\" x=\"316.286489\" xlink:href=\"#m47bdf79e94\" y=\"159.236146\"/>\r\n     <use style=\"fill:#1f77b4;stroke:#1f77b4;\" x=\"316.896437\" xlink:href=\"#m47bdf79e94\" y=\"196.074531\"/>\r\n     <use style=\"fill:#1f77b4;stroke:#1f77b4;\" x=\"317.506384\" xlink:href=\"#m47bdf79e94\" y=\"185.882404\"/>\r\n     <use style=\"fill:#1f77b4;stroke:#1f77b4;\" x=\"318.116331\" xlink:href=\"#m47bdf79e94\" y=\"186.370054\"/>\r\n     <use style=\"fill:#1f77b4;stroke:#1f77b4;\" x=\"318.726278\" xlink:href=\"#m47bdf79e94\" y=\"137.323788\"/>\r\n     <use style=\"fill:#1f77b4;stroke:#1f77b4;\" x=\"319.336225\" xlink:href=\"#m47bdf79e94\" y=\"86.846481\"/>\r\n     <use style=\"fill:#1f77b4;stroke:#1f77b4;\" x=\"319.946172\" xlink:href=\"#m47bdf79e94\" y=\"212.666946\"/>\r\n     <use style=\"fill:#1f77b4;stroke:#1f77b4;\" x=\"320.55612\" xlink:href=\"#m47bdf79e94\" y=\"219.709456\"/>\r\n     <use style=\"fill:#1f77b4;stroke:#1f77b4;\" x=\"321.166067\" xlink:href=\"#m47bdf79e94\" y=\"194.974243\"/>\r\n     <use style=\"fill:#1f77b4;stroke:#1f77b4;\" x=\"321.776014\" xlink:href=\"#m47bdf79e94\" y=\"123.89894\"/>\r\n     <use style=\"fill:#1f77b4;stroke:#1f77b4;\" x=\"322.385961\" xlink:href=\"#m47bdf79e94\" y=\"149.071277\"/>\r\n     <use style=\"fill:#1f77b4;stroke:#1f77b4;\" x=\"322.995908\" xlink:href=\"#m47bdf79e94\" y=\"175.344235\"/>\r\n     <use style=\"fill:#1f77b4;stroke:#1f77b4;\" x=\"323.605855\" xlink:href=\"#m47bdf79e94\" y=\"203.011334\"/>\r\n     <use style=\"fill:#1f77b4;stroke:#1f77b4;\" x=\"324.215803\" xlink:href=\"#m47bdf79e94\" y=\"133.099478\"/>\r\n     <use style=\"fill:#1f77b4;stroke:#1f77b4;\" x=\"324.82575\" xlink:href=\"#m47bdf79e94\" y=\"243.060832\"/>\r\n     <use style=\"fill:#1f77b4;stroke:#1f77b4;\" x=\"325.435697\" xlink:href=\"#m47bdf79e94\" y=\"145.763764\"/>\r\n     <use style=\"fill:#1f77b4;stroke:#1f77b4;\" x=\"326.045644\" xlink:href=\"#m47bdf79e94\" y=\"72.658745\"/>\r\n     <use style=\"fill:#1f77b4;stroke:#1f77b4;\" x=\"326.655591\" xlink:href=\"#m47bdf79e94\" y=\"156.514013\"/>\r\n     <use style=\"fill:#1f77b4;stroke:#1f77b4;\" x=\"327.265538\" xlink:href=\"#m47bdf79e94\" y=\"138.454658\"/>\r\n     <use style=\"fill:#1f77b4;stroke:#1f77b4;\" x=\"327.875486\" xlink:href=\"#m47bdf79e94\" y=\"187.127625\"/>\r\n     <use style=\"fill:#1f77b4;stroke:#1f77b4;\" x=\"328.485433\" xlink:href=\"#m47bdf79e94\" y=\"166.018709\"/>\r\n     <use style=\"fill:#1f77b4;stroke:#1f77b4;\" x=\"329.09538\" xlink:href=\"#m47bdf79e94\" y=\"156.984378\"/>\r\n     <use style=\"fill:#1f77b4;stroke:#1f77b4;\" x=\"329.705327\" xlink:href=\"#m47bdf79e94\" y=\"227.268204\"/>\r\n     <use style=\"fill:#1f77b4;stroke:#1f77b4;\" x=\"330.315274\" xlink:href=\"#m47bdf79e94\" y=\"180.354369\"/>\r\n     <use style=\"fill:#1f77b4;stroke:#1f77b4;\" x=\"330.925221\" xlink:href=\"#m47bdf79e94\" y=\"169.112481\"/>\r\n     <use style=\"fill:#1f77b4;stroke:#1f77b4;\" x=\"331.535169\" xlink:href=\"#m47bdf79e94\" y=\"198.128846\"/>\r\n     <use style=\"fill:#1f77b4;stroke:#1f77b4;\" x=\"332.145116\" xlink:href=\"#m47bdf79e94\" y=\"184.469979\"/>\r\n     <use style=\"fill:#1f77b4;stroke:#1f77b4;\" x=\"332.755063\" xlink:href=\"#m47bdf79e94\" y=\"235.771339\"/>\r\n     <use style=\"fill:#1f77b4;stroke:#1f77b4;\" x=\"333.36501\" xlink:href=\"#m47bdf79e94\" y=\"183.871635\"/>\r\n     <use style=\"fill:#1f77b4;stroke:#1f77b4;\" x=\"333.974957\" xlink:href=\"#m47bdf79e94\" y=\"147.813757\"/>\r\n     <use style=\"fill:#1f77b4;stroke:#1f77b4;\" x=\"334.584904\" xlink:href=\"#m47bdf79e94\" y=\"253.991581\"/>\r\n     <use style=\"fill:#1f77b4;stroke:#1f77b4;\" x=\"335.194852\" xlink:href=\"#m47bdf79e94\" y=\"300.836274\"/>\r\n     <use style=\"fill:#1f77b4;stroke:#1f77b4;\" x=\"335.804799\" xlink:href=\"#m47bdf79e94\" y=\"232.160664\"/>\r\n     <use style=\"fill:#1f77b4;stroke:#1f77b4;\" x=\"336.414746\" xlink:href=\"#m47bdf79e94\" y=\"154.880866\"/>\r\n     <use style=\"fill:#1f77b4;stroke:#1f77b4;\" x=\"337.024693\" xlink:href=\"#m47bdf79e94\" y=\"155.471565\"/>\r\n     <use style=\"fill:#1f77b4;stroke:#1f77b4;\" x=\"337.63464\" xlink:href=\"#m47bdf79e94\" y=\"123.062588\"/>\r\n     <use style=\"fill:#1f77b4;stroke:#1f77b4;\" x=\"338.244587\" xlink:href=\"#m47bdf79e94\" y=\"269.942771\"/>\r\n     <use style=\"fill:#1f77b4;stroke:#1f77b4;\" x=\"338.854535\" xlink:href=\"#m47bdf79e94\" y=\"216.082493\"/>\r\n     <use style=\"fill:#1f77b4;stroke:#1f77b4;\" x=\"339.464482\" xlink:href=\"#m47bdf79e94\" y=\"144.184135\"/>\r\n     <use style=\"fill:#1f77b4;stroke:#1f77b4;\" x=\"340.074429\" xlink:href=\"#m47bdf79e94\" y=\"154.945022\"/>\r\n     <use style=\"fill:#1f77b4;stroke:#1f77b4;\" x=\"340.684376\" xlink:href=\"#m47bdf79e94\" y=\"218.474208\"/>\r\n     <use style=\"fill:#1f77b4;stroke:#1f77b4;\" x=\"341.294323\" xlink:href=\"#m47bdf79e94\" y=\"179.921899\"/>\r\n     <use style=\"fill:#1f77b4;stroke:#1f77b4;\" x=\"341.90427\" xlink:href=\"#m47bdf79e94\" y=\"163.028983\"/>\r\n     <use style=\"fill:#1f77b4;stroke:#1f77b4;\" x=\"342.514218\" xlink:href=\"#m47bdf79e94\" y=\"197.006618\"/>\r\n     <use style=\"fill:#1f77b4;stroke:#1f77b4;\" x=\"343.124165\" xlink:href=\"#m47bdf79e94\" y=\"177.38492\"/>\r\n     <use style=\"fill:#1f77b4;stroke:#1f77b4;\" x=\"343.734112\" xlink:href=\"#m47bdf79e94\" y=\"190.420512\"/>\r\n     <use style=\"fill:#1f77b4;stroke:#1f77b4;\" x=\"344.344059\" xlink:href=\"#m47bdf79e94\" y=\"169.089544\"/>\r\n     <use style=\"fill:#1f77b4;stroke:#1f77b4;\" x=\"344.954006\" xlink:href=\"#m47bdf79e94\" y=\"217.366939\"/>\r\n     <use style=\"fill:#1f77b4;stroke:#1f77b4;\" x=\"345.563953\" xlink:href=\"#m47bdf79e94\" y=\"170.865629\"/>\r\n     <use style=\"fill:#1f77b4;stroke:#1f77b4;\" x=\"346.173901\" xlink:href=\"#m47bdf79e94\" y=\"214.479263\"/>\r\n     <use style=\"fill:#1f77b4;stroke:#1f77b4;\" x=\"346.783848\" xlink:href=\"#m47bdf79e94\" y=\"227.237622\"/>\r\n     <use style=\"fill:#1f77b4;stroke:#1f77b4;\" x=\"347.393795\" xlink:href=\"#m47bdf79e94\" y=\"203.998269\"/>\r\n     <use style=\"fill:#1f77b4;stroke:#1f77b4;\" x=\"348.003742\" xlink:href=\"#m47bdf79e94\" y=\"286.009307\"/>\r\n     <use style=\"fill:#1f77b4;stroke:#1f77b4;\" x=\"348.613689\" xlink:href=\"#m47bdf79e94\" y=\"93.740403\"/>\r\n     <use style=\"fill:#1f77b4;stroke:#1f77b4;\" x=\"349.223636\" xlink:href=\"#m47bdf79e94\" y=\"145.466586\"/>\r\n     <use style=\"fill:#1f77b4;stroke:#1f77b4;\" x=\"349.833584\" xlink:href=\"#m47bdf79e94\" y=\"190.810765\"/>\r\n     <use style=\"fill:#1f77b4;stroke:#1f77b4;\" x=\"350.443531\" xlink:href=\"#m47bdf79e94\" y=\"91.499937\"/>\r\n     <use style=\"fill:#1f77b4;stroke:#1f77b4;\" x=\"351.053478\" xlink:href=\"#m47bdf79e94\" y=\"255.287329\"/>\r\n     <use style=\"fill:#1f77b4;stroke:#1f77b4;\" x=\"351.663425\" xlink:href=\"#m47bdf79e94\" y=\"192.26873\"/>\r\n     <use style=\"fill:#1f77b4;stroke:#1f77b4;\" x=\"352.273372\" xlink:href=\"#m47bdf79e94\" y=\"103.733082\"/>\r\n     <use style=\"fill:#1f77b4;stroke:#1f77b4;\" x=\"352.883319\" xlink:href=\"#m47bdf79e94\" y=\"93.598462\"/>\r\n     <use style=\"fill:#1f77b4;stroke:#1f77b4;\" x=\"353.493267\" xlink:href=\"#m47bdf79e94\" y=\"168.820289\"/>\r\n     <use style=\"fill:#1f77b4;stroke:#1f77b4;\" x=\"354.103214\" xlink:href=\"#m47bdf79e94\" y=\"217.183446\"/>\r\n     <use style=\"fill:#1f77b4;stroke:#1f77b4;\" x=\"354.713161\" xlink:href=\"#m47bdf79e94\" y=\"217.809381\"/>\r\n     <use style=\"fill:#1f77b4;stroke:#1f77b4;\" x=\"355.323108\" xlink:href=\"#m47bdf79e94\" y=\"275.342494\"/>\r\n     <use style=\"fill:#1f77b4;stroke:#1f77b4;\" x=\"355.933055\" xlink:href=\"#m47bdf79e94\" y=\"191.303734\"/>\r\n     <use style=\"fill:#1f77b4;stroke:#1f77b4;\" x=\"356.543002\" xlink:href=\"#m47bdf79e94\" y=\"273.71533\"/>\r\n     <use style=\"fill:#1f77b4;stroke:#1f77b4;\" x=\"357.15295\" xlink:href=\"#m47bdf79e94\" y=\"163.665222\"/>\r\n     <use style=\"fill:#1f77b4;stroke:#1f77b4;\" x=\"357.762897\" xlink:href=\"#m47bdf79e94\" y=\"220.310127\"/>\r\n     <use style=\"fill:#1f77b4;stroke:#1f77b4;\" x=\"358.372844\" xlink:href=\"#m47bdf79e94\" y=\"208.242523\"/>\r\n     <use style=\"fill:#1f77b4;stroke:#1f77b4;\" x=\"358.982791\" xlink:href=\"#m47bdf79e94\" y=\"201.993484\"/>\r\n     <use style=\"fill:#1f77b4;stroke:#1f77b4;\" x=\"359.592738\" xlink:href=\"#m47bdf79e94\" y=\"160.080809\"/>\r\n     <use style=\"fill:#1f77b4;stroke:#1f77b4;\" x=\"360.202685\" xlink:href=\"#m47bdf79e94\" y=\"114.981286\"/>\r\n     <use style=\"fill:#1f77b4;stroke:#1f77b4;\" x=\"360.812633\" xlink:href=\"#m47bdf79e94\" y=\"186.77161\"/>\r\n     <use style=\"fill:#1f77b4;stroke:#1f77b4;\" x=\"361.42258\" xlink:href=\"#m47bdf79e94\" y=\"226.689805\"/>\r\n     <use style=\"fill:#1f77b4;stroke:#1f77b4;\" x=\"362.032527\" xlink:href=\"#m47bdf79e94\" y=\"201.101619\"/>\r\n     <use style=\"fill:#1f77b4;stroke:#1f77b4;\" x=\"362.642474\" xlink:href=\"#m47bdf79e94\" y=\"152.170035\"/>\r\n     <use style=\"fill:#1f77b4;stroke:#1f77b4;\" x=\"363.252421\" xlink:href=\"#m47bdf79e94\" y=\"181.355266\"/>\r\n     <use style=\"fill:#1f77b4;stroke:#1f77b4;\" x=\"363.862368\" xlink:href=\"#m47bdf79e94\" y=\"256.224735\"/>\r\n     <use style=\"fill:#1f77b4;stroke:#1f77b4;\" x=\"364.472316\" xlink:href=\"#m47bdf79e94\" y=\"140.831081\"/>\r\n     <use style=\"fill:#1f77b4;stroke:#1f77b4;\" x=\"365.082263\" xlink:href=\"#m47bdf79e94\" y=\"187.274551\"/>\r\n     <use style=\"fill:#1f77b4;stroke:#1f77b4;\" x=\"365.69221\" xlink:href=\"#m47bdf79e94\" y=\"230.724971\"/>\r\n     <use style=\"fill:#1f77b4;stroke:#1f77b4;\" x=\"366.302157\" xlink:href=\"#m47bdf79e94\" y=\"155.381813\"/>\r\n     <use style=\"fill:#1f77b4;stroke:#1f77b4;\" x=\"366.912104\" xlink:href=\"#m47bdf79e94\" y=\"156.614402\"/>\r\n     <use style=\"fill:#1f77b4;stroke:#1f77b4;\" x=\"367.522051\" xlink:href=\"#m47bdf79e94\" y=\"189.188255\"/>\r\n     <use style=\"fill:#1f77b4;stroke:#1f77b4;\" x=\"368.131999\" xlink:href=\"#m47bdf79e94\" y=\"154.729618\"/>\r\n     <use style=\"fill:#1f77b4;stroke:#1f77b4;\" x=\"368.741946\" xlink:href=\"#m47bdf79e94\" y=\"180.567446\"/>\r\n     <use style=\"fill:#1f77b4;stroke:#1f77b4;\" x=\"369.351893\" xlink:href=\"#m47bdf79e94\" y=\"226.018994\"/>\r\n     <use style=\"fill:#1f77b4;stroke:#1f77b4;\" x=\"369.96184\" xlink:href=\"#m47bdf79e94\" y=\"178.39313\"/>\r\n     <use style=\"fill:#1f77b4;stroke:#1f77b4;\" x=\"370.571787\" xlink:href=\"#m47bdf79e94\" y=\"213.63028\"/>\r\n     <use style=\"fill:#1f77b4;stroke:#1f77b4;\" x=\"371.181734\" xlink:href=\"#m47bdf79e94\" y=\"190.518906\"/>\r\n     <use style=\"fill:#1f77b4;stroke:#1f77b4;\" x=\"371.791682\" xlink:href=\"#m47bdf79e94\" y=\"79.966854\"/>\r\n     <use style=\"fill:#1f77b4;stroke:#1f77b4;\" x=\"372.401629\" xlink:href=\"#m47bdf79e94\" y=\"182.282367\"/>\r\n     <use style=\"fill:#1f77b4;stroke:#1f77b4;\" x=\"373.011576\" xlink:href=\"#m47bdf79e94\" y=\"218.507117\"/>\r\n     <use style=\"fill:#1f77b4;stroke:#1f77b4;\" x=\"373.621523\" xlink:href=\"#m47bdf79e94\" y=\"164.548445\"/>\r\n     <use style=\"fill:#1f77b4;stroke:#1f77b4;\" x=\"374.23147\" xlink:href=\"#m47bdf79e94\" y=\"130.78023\"/>\r\n     <use style=\"fill:#1f77b4;stroke:#1f77b4;\" x=\"374.841417\" xlink:href=\"#m47bdf79e94\" y=\"111.097036\"/>\r\n     <use style=\"fill:#1f77b4;stroke:#1f77b4;\" x=\"375.451365\" xlink:href=\"#m47bdf79e94\" y=\"133.687185\"/>\r\n     <use style=\"fill:#1f77b4;stroke:#1f77b4;\" x=\"376.061312\" xlink:href=\"#m47bdf79e94\" y=\"138.840923\"/>\r\n     <use style=\"fill:#1f77b4;stroke:#1f77b4;\" x=\"376.671259\" xlink:href=\"#m47bdf79e94\" y=\"163.792537\"/>\r\n     <use style=\"fill:#1f77b4;stroke:#1f77b4;\" x=\"377.281206\" xlink:href=\"#m47bdf79e94\" y=\"178.964216\"/>\r\n     <use style=\"fill:#1f77b4;stroke:#1f77b4;\" x=\"377.891153\" xlink:href=\"#m47bdf79e94\" y=\"168.951925\"/>\r\n     <use style=\"fill:#1f77b4;stroke:#1f77b4;\" x=\"378.5011\" xlink:href=\"#m47bdf79e94\" y=\"164.599636\"/>\r\n     <use style=\"fill:#1f77b4;stroke:#1f77b4;\" x=\"379.111048\" xlink:href=\"#m47bdf79e94\" y=\"122.877434\"/>\r\n     <use style=\"fill:#1f77b4;stroke:#1f77b4;\" x=\"379.720995\" xlink:href=\"#m47bdf79e94\" y=\"187.021917\"/>\r\n     <use style=\"fill:#1f77b4;stroke:#1f77b4;\" x=\"380.330942\" xlink:href=\"#m47bdf79e94\" y=\"65.840282\"/>\r\n     <use style=\"fill:#1f77b4;stroke:#1f77b4;\" x=\"380.940889\" xlink:href=\"#m47bdf79e94\" y=\"181.921366\"/>\r\n     <use style=\"fill:#1f77b4;stroke:#1f77b4;\" x=\"381.550836\" xlink:href=\"#m47bdf79e94\" y=\"138.806352\"/>\r\n     <use style=\"fill:#1f77b4;stroke:#1f77b4;\" x=\"382.160783\" xlink:href=\"#m47bdf79e94\" y=\"121.749555\"/>\r\n     <use style=\"fill:#1f77b4;stroke:#1f77b4;\" x=\"382.770731\" xlink:href=\"#m47bdf79e94\" y=\"126.723789\"/>\r\n     <use style=\"fill:#1f77b4;stroke:#1f77b4;\" x=\"383.380678\" xlink:href=\"#m47bdf79e94\" y=\"141.713639\"/>\r\n     <use style=\"fill:#1f77b4;stroke:#1f77b4;\" x=\"383.990625\" xlink:href=\"#m47bdf79e94\" y=\"101.247627\"/>\r\n     <use style=\"fill:#1f77b4;stroke:#1f77b4;\" x=\"384.600572\" xlink:href=\"#m47bdf79e94\" y=\"157.322775\"/>\r\n     <use style=\"fill:#1f77b4;stroke:#1f77b4;\" x=\"385.210519\" xlink:href=\"#m47bdf79e94\" y=\"122.472222\"/>\r\n     <use style=\"fill:#1f77b4;stroke:#1f77b4;\" x=\"385.820467\" xlink:href=\"#m47bdf79e94\" y=\"210.670803\"/>\r\n     <use style=\"fill:#1f77b4;stroke:#1f77b4;\" x=\"386.430414\" xlink:href=\"#m47bdf79e94\" y=\"252.531622\"/>\r\n     <use style=\"fill:#1f77b4;stroke:#1f77b4;\" x=\"387.040361\" xlink:href=\"#m47bdf79e94\" y=\"158.356913\"/>\r\n     <use style=\"fill:#1f77b4;stroke:#1f77b4;\" x=\"387.650308\" xlink:href=\"#m47bdf79e94\" y=\"207.387224\"/>\r\n     <use style=\"fill:#1f77b4;stroke:#1f77b4;\" x=\"388.260255\" xlink:href=\"#m47bdf79e94\" y=\"160.44048\"/>\r\n     <use style=\"fill:#1f77b4;stroke:#1f77b4;\" x=\"388.870202\" xlink:href=\"#m47bdf79e94\" y=\"223.097413\"/>\r\n     <use style=\"fill:#1f77b4;stroke:#1f77b4;\" x=\"389.48015\" xlink:href=\"#m47bdf79e94\" y=\"245.890335\"/>\r\n     <use style=\"fill:#1f77b4;stroke:#1f77b4;\" x=\"390.090097\" xlink:href=\"#m47bdf79e94\" y=\"186.973052\"/>\r\n     <use style=\"fill:#1f77b4;stroke:#1f77b4;\" x=\"390.700044\" xlink:href=\"#m47bdf79e94\" y=\"249.471092\"/>\r\n     <use style=\"fill:#1f77b4;stroke:#1f77b4;\" x=\"391.309991\" xlink:href=\"#m47bdf79e94\" y=\"73.558588\"/>\r\n     <use style=\"fill:#1f77b4;stroke:#1f77b4;\" x=\"391.919938\" xlink:href=\"#m47bdf79e94\" y=\"200.767211\"/>\r\n     <use style=\"fill:#1f77b4;stroke:#1f77b4;\" x=\"392.529885\" xlink:href=\"#m47bdf79e94\" y=\"183.072181\"/>\r\n     <use style=\"fill:#1f77b4;stroke:#1f77b4;\" x=\"393.139833\" xlink:href=\"#m47bdf79e94\" y=\"121.950998\"/>\r\n     <use style=\"fill:#1f77b4;stroke:#1f77b4;\" x=\"393.74978\" xlink:href=\"#m47bdf79e94\" y=\"147.913149\"/>\r\n     <use style=\"fill:#1f77b4;stroke:#1f77b4;\" x=\"394.359727\" xlink:href=\"#m47bdf79e94\" y=\"260.652149\"/>\r\n     <use style=\"fill:#1f77b4;stroke:#1f77b4;\" x=\"394.969674\" xlink:href=\"#m47bdf79e94\" y=\"262.534938\"/>\r\n     <use style=\"fill:#1f77b4;stroke:#1f77b4;\" x=\"395.579621\" xlink:href=\"#m47bdf79e94\" y=\"175.495483\"/>\r\n     <use style=\"fill:#1f77b4;stroke:#1f77b4;\" x=\"396.189568\" xlink:href=\"#m47bdf79e94\" y=\"107.620989\"/>\r\n     <use style=\"fill:#1f77b4;stroke:#1f77b4;\" x=\"396.799516\" xlink:href=\"#m47bdf79e94\" y=\"170.78319\"/>\r\n     <use style=\"fill:#1f77b4;stroke:#1f77b4;\" x=\"397.409463\" xlink:href=\"#m47bdf79e94\" y=\"249.553863\"/>\r\n     <use style=\"fill:#1f77b4;stroke:#1f77b4;\" x=\"398.01941\" xlink:href=\"#m47bdf79e94\" y=\"130.039281\"/>\r\n     <use style=\"fill:#1f77b4;stroke:#1f77b4;\" x=\"398.629357\" xlink:href=\"#m47bdf79e94\" y=\"209.145358\"/>\r\n     <use style=\"fill:#1f77b4;stroke:#1f77b4;\" x=\"399.239304\" xlink:href=\"#m47bdf79e94\" y=\"153.322844\"/>\r\n     <use style=\"fill:#1f77b4;stroke:#1f77b4;\" x=\"399.849251\" xlink:href=\"#m47bdf79e94\" y=\"112.335276\"/>\r\n     <use style=\"fill:#1f77b4;stroke:#1f77b4;\" x=\"400.459199\" xlink:href=\"#m47bdf79e94\" y=\"137.369328\"/>\r\n     <use style=\"fill:#1f77b4;stroke:#1f77b4;\" x=\"401.069146\" xlink:href=\"#m47bdf79e94\" y=\"177.882543\"/>\r\n     <use style=\"fill:#1f77b4;stroke:#1f77b4;\" x=\"401.679093\" xlink:href=\"#m47bdf79e94\" y=\"135.317341\"/>\r\n     <use style=\"fill:#1f77b4;stroke:#1f77b4;\" x=\"402.28904\" xlink:href=\"#m47bdf79e94\" y=\"197.829009\"/>\r\n     <use style=\"fill:#1f77b4;stroke:#1f77b4;\" x=\"402.898987\" xlink:href=\"#m47bdf79e94\" y=\"98.642836\"/>\r\n     <use style=\"fill:#1f77b4;stroke:#1f77b4;\" x=\"403.508934\" xlink:href=\"#m47bdf79e94\" y=\"117.669181\"/>\r\n     <use style=\"fill:#1f77b4;stroke:#1f77b4;\" x=\"404.118882\" xlink:href=\"#m47bdf79e94\" y=\"92.578286\"/>\r\n     <use style=\"fill:#1f77b4;stroke:#1f77b4;\" x=\"404.728829\" xlink:href=\"#m47bdf79e94\" y=\"281.003494\"/>\r\n     <use style=\"fill:#1f77b4;stroke:#1f77b4;\" x=\"405.338776\" xlink:href=\"#m47bdf79e94\" y=\"150.221427\"/>\r\n     <use style=\"fill:#1f77b4;stroke:#1f77b4;\" x=\"405.948723\" xlink:href=\"#m47bdf79e94\" y=\"182.427964\"/>\r\n     <use style=\"fill:#1f77b4;stroke:#1f77b4;\" x=\"406.55867\" xlink:href=\"#m47bdf79e94\" y=\"159.75737\"/>\r\n     <use style=\"fill:#1f77b4;stroke:#1f77b4;\" x=\"407.168617\" xlink:href=\"#m47bdf79e94\" y=\"214.056101\"/>\r\n     <use style=\"fill:#1f77b4;stroke:#1f77b4;\" x=\"407.778565\" xlink:href=\"#m47bdf79e94\" y=\"164.678751\"/>\r\n     <use style=\"fill:#1f77b4;stroke:#1f77b4;\" x=\"408.388512\" xlink:href=\"#m47bdf79e94\" y=\"149.223522\"/>\r\n     <use style=\"fill:#1f77b4;stroke:#1f77b4;\" x=\"408.998459\" xlink:href=\"#m47bdf79e94\" y=\"118.854567\"/>\r\n     <use style=\"fill:#1f77b4;stroke:#1f77b4;\" x=\"409.608406\" xlink:href=\"#m47bdf79e94\" y=\"166.648633\"/>\r\n     <use style=\"fill:#1f77b4;stroke:#1f77b4;\" x=\"410.218353\" xlink:href=\"#m47bdf79e94\" y=\"160.892562\"/>\r\n     <use style=\"fill:#1f77b4;stroke:#1f77b4;\" x=\"410.8283\" xlink:href=\"#m47bdf79e94\" y=\"197.647179\"/>\r\n     <use style=\"fill:#1f77b4;stroke:#1f77b4;\" x=\"411.438248\" xlink:href=\"#m47bdf79e94\" y=\"62.559029\"/>\r\n     <use style=\"fill:#1f77b4;stroke:#1f77b4;\" x=\"412.048195\" xlink:href=\"#m47bdf79e94\" y=\"144.430454\"/>\r\n     <use style=\"fill:#1f77b4;stroke:#1f77b4;\" x=\"412.658142\" xlink:href=\"#m47bdf79e94\" y=\"142.216248\"/>\r\n     <use style=\"fill:#1f77b4;stroke:#1f77b4;\" x=\"413.268089\" xlink:href=\"#m47bdf79e94\" y=\"106.24513\"/>\r\n     <use style=\"fill:#1f77b4;stroke:#1f77b4;\" x=\"413.878036\" xlink:href=\"#m47bdf79e94\" y=\"94.365672\"/>\r\n     <use style=\"fill:#1f77b4;stroke:#1f77b4;\" x=\"414.487983\" xlink:href=\"#m47bdf79e94\" y=\"141.962284\"/>\r\n     <use style=\"fill:#1f77b4;stroke:#1f77b4;\" x=\"415.097931\" xlink:href=\"#m47bdf79e94\" y=\"232.314239\"/>\r\n     <use style=\"fill:#1f77b4;stroke:#1f77b4;\" x=\"415.707878\" xlink:href=\"#m47bdf79e94\" y=\"141.229645\"/>\r\n     <use style=\"fill:#1f77b4;stroke:#1f77b4;\" x=\"416.317825\" xlink:href=\"#m47bdf79e94\" y=\"226.39861\"/>\r\n     <use style=\"fill:#1f77b4;stroke:#1f77b4;\" x=\"416.927772\" xlink:href=\"#m47bdf79e94\" y=\"202.693214\"/>\r\n     <use style=\"fill:#1f77b4;stroke:#1f77b4;\" x=\"417.537719\" xlink:href=\"#m47bdf79e94\" y=\"168.839902\"/>\r\n     <use style=\"fill:#1f77b4;stroke:#1f77b4;\" x=\"418.147666\" xlink:href=\"#m47bdf79e94\" y=\"120.108431\"/>\r\n     <use style=\"fill:#1f77b4;stroke:#1f77b4;\" x=\"418.757614\" xlink:href=\"#m47bdf79e94\" y=\"215.524371\"/>\r\n     <use style=\"fill:#1f77b4;stroke:#1f77b4;\" x=\"419.367561\" xlink:href=\"#m47bdf79e94\" y=\"136.640346\"/>\r\n     <use style=\"fill:#1f77b4;stroke:#1f77b4;\" x=\"419.977508\" xlink:href=\"#m47bdf79e94\" y=\"147.658188\"/>\r\n     <use style=\"fill:#1f77b4;stroke:#1f77b4;\" x=\"420.587455\" xlink:href=\"#m47bdf79e94\" y=\"93.670264\"/>\r\n     <use style=\"fill:#1f77b4;stroke:#1f77b4;\" x=\"421.197402\" xlink:href=\"#m47bdf79e94\" y=\"175.931609\"/>\r\n     <use style=\"fill:#1f77b4;stroke:#1f77b4;\" x=\"421.807349\" xlink:href=\"#m47bdf79e94\" y=\"169.580519\"/>\r\n     <use style=\"fill:#1f77b4;stroke:#1f77b4;\" x=\"422.417297\" xlink:href=\"#m47bdf79e94\" y=\"194.359278\"/>\r\n     <use style=\"fill:#1f77b4;stroke:#1f77b4;\" x=\"423.027244\" xlink:href=\"#m47bdf79e94\" y=\"247.518163\"/>\r\n     <use style=\"fill:#1f77b4;stroke:#1f77b4;\" x=\"423.637191\" xlink:href=\"#m47bdf79e94\" y=\"116.391384\"/>\r\n     <use style=\"fill:#1f77b4;stroke:#1f77b4;\" x=\"424.247138\" xlink:href=\"#m47bdf79e94\" y=\"171.156158\"/>\r\n     <use style=\"fill:#1f77b4;stroke:#1f77b4;\" x=\"424.857085\" xlink:href=\"#m47bdf79e94\" y=\"215.160046\"/>\r\n     <use style=\"fill:#1f77b4;stroke:#1f77b4;\" x=\"425.467032\" xlink:href=\"#m47bdf79e94\" y=\"184.326044\"/>\r\n     <use style=\"fill:#1f77b4;stroke:#1f77b4;\" x=\"426.07698\" xlink:href=\"#m47bdf79e94\" y=\"209.242755\"/>\r\n     <use style=\"fill:#1f77b4;stroke:#1f77b4;\" x=\"426.686927\" xlink:href=\"#m47bdf79e94\" y=\"115.469269\"/>\r\n     <use style=\"fill:#1f77b4;stroke:#1f77b4;\" x=\"427.296874\" xlink:href=\"#m47bdf79e94\" y=\"118.754843\"/>\r\n     <use style=\"fill:#1f77b4;stroke:#1f77b4;\" x=\"427.906821\" xlink:href=\"#m47bdf79e94\" y=\"171.695665\"/>\r\n     <use style=\"fill:#1f77b4;stroke:#1f77b4;\" x=\"428.516768\" xlink:href=\"#m47bdf79e94\" y=\"193.210457\"/>\r\n     <use style=\"fill:#1f77b4;stroke:#1f77b4;\" x=\"429.126715\" xlink:href=\"#m47bdf79e94\" y=\"184.675743\"/>\r\n     <use style=\"fill:#1f77b4;stroke:#1f77b4;\" x=\"429.736663\" xlink:href=\"#m47bdf79e94\" y=\"147.325442\"/>\r\n     <use style=\"fill:#1f77b4;stroke:#1f77b4;\" x=\"430.34661\" xlink:href=\"#m47bdf79e94\" y=\"179.205216\"/>\r\n     <use style=\"fill:#1f77b4;stroke:#1f77b4;\" x=\"430.956557\" xlink:href=\"#m47bdf79e94\" y=\"177.150237\"/>\r\n     <use style=\"fill:#1f77b4;stroke:#1f77b4;\" x=\"431.566504\" xlink:href=\"#m47bdf79e94\" y=\"221.934963\"/>\r\n     <use style=\"fill:#1f77b4;stroke:#1f77b4;\" x=\"432.176451\" xlink:href=\"#m47bdf79e94\" y=\"210.871581\"/>\r\n     <use style=\"fill:#1f77b4;stroke:#1f77b4;\" x=\"432.786398\" xlink:href=\"#m47bdf79e94\" y=\"180.332762\"/>\r\n     <use style=\"fill:#1f77b4;stroke:#1f77b4;\" x=\"433.396346\" xlink:href=\"#m47bdf79e94\" y=\"206.991319\"/>\r\n     <use style=\"fill:#1f77b4;stroke:#1f77b4;\" x=\"434.006293\" xlink:href=\"#m47bdf79e94\" y=\"101.686413\"/>\r\n     <use style=\"fill:#1f77b4;stroke:#1f77b4;\" x=\"434.61624\" xlink:href=\"#m47bdf79e94\" y=\"200.399229\"/>\r\n     <use style=\"fill:#1f77b4;stroke:#1f77b4;\" x=\"435.226187\" xlink:href=\"#m47bdf79e94\" y=\"245.482131\"/>\r\n     <use style=\"fill:#1f77b4;stroke:#1f77b4;\" x=\"435.836134\" xlink:href=\"#m47bdf79e94\" y=\"176.745689\"/>\r\n     <use style=\"fill:#1f77b4;stroke:#1f77b4;\" x=\"436.446081\" xlink:href=\"#m47bdf79e94\" y=\"194.776457\"/>\r\n     <use style=\"fill:#1f77b4;stroke:#1f77b4;\" x=\"437.056029\" xlink:href=\"#m47bdf79e94\" y=\"198.36087\"/>\r\n     <use style=\"fill:#1f77b4;stroke:#1f77b4;\" x=\"437.665976\" xlink:href=\"#m47bdf79e94\" y=\"161.941991\"/>\r\n     <use style=\"fill:#1f77b4;stroke:#1f77b4;\" x=\"438.275923\" xlink:href=\"#m47bdf79e94\" y=\"205.739783\"/>\r\n     <use style=\"fill:#1f77b4;stroke:#1f77b4;\" x=\"438.88587\" xlink:href=\"#m47bdf79e94\" y=\"190.706387\"/>\r\n     <use style=\"fill:#1f77b4;stroke:#1f77b4;\" x=\"439.495817\" xlink:href=\"#m47bdf79e94\" y=\"139.516387\"/>\r\n     <use style=\"fill:#1f77b4;stroke:#1f77b4;\" x=\"440.105764\" xlink:href=\"#m47bdf79e94\" y=\"169.723789\"/>\r\n     <use style=\"fill:#1f77b4;stroke:#1f77b4;\" x=\"440.715712\" xlink:href=\"#m47bdf79e94\" y=\"206.323168\"/>\r\n     <use style=\"fill:#1f77b4;stroke:#1f77b4;\" x=\"441.325659\" xlink:href=\"#m47bdf79e94\" y=\"160.37167\"/>\r\n     <use style=\"fill:#1f77b4;stroke:#1f77b4;\" x=\"441.935606\" xlink:href=\"#m47bdf79e94\" y=\"153.951106\"/>\r\n     <use style=\"fill:#1f77b4;stroke:#1f77b4;\" x=\"442.545553\" xlink:href=\"#m47bdf79e94\" y=\"114.322111\"/>\r\n     <use style=\"fill:#1f77b4;stroke:#1f77b4;\" x=\"443.1555\" xlink:href=\"#m47bdf79e94\" y=\"193.458438\"/>\r\n     <use style=\"fill:#1f77b4;stroke:#1f77b4;\" x=\"443.765447\" xlink:href=\"#m47bdf79e94\" y=\"195.938574\"/>\r\n     <use style=\"fill:#1f77b4;stroke:#1f77b4;\" x=\"444.375395\" xlink:href=\"#m47bdf79e94\" y=\"140.061212\"/>\r\n     <use style=\"fill:#1f77b4;stroke:#1f77b4;\" x=\"444.985342\" xlink:href=\"#m47bdf79e94\" y=\"142.812598\"/>\r\n     <use style=\"fill:#1f77b4;stroke:#1f77b4;\" x=\"445.595289\" xlink:href=\"#m47bdf79e94\" y=\"185.107216\"/>\r\n     <use style=\"fill:#1f77b4;stroke:#1f77b4;\" x=\"446.205236\" xlink:href=\"#m47bdf79e94\" y=\"184.039504\"/>\r\n     <use style=\"fill:#1f77b4;stroke:#1f77b4;\" x=\"446.815183\" xlink:href=\"#m47bdf79e94\" y=\"246.687794\"/>\r\n     <use style=\"fill:#1f77b4;stroke:#1f77b4;\" x=\"447.42513\" xlink:href=\"#m47bdf79e94\" y=\"223.432818\"/>\r\n     <use style=\"fill:#1f77b4;stroke:#1f77b4;\" x=\"448.035078\" xlink:href=\"#m47bdf79e94\" y=\"206.229095\"/>\r\n     <use style=\"fill:#1f77b4;stroke:#1f77b4;\" x=\"448.645025\" xlink:href=\"#m47bdf79e94\" y=\"160.45843\"/>\r\n     <use style=\"fill:#1f77b4;stroke:#1f77b4;\" x=\"449.254972\" xlink:href=\"#m47bdf79e94\" y=\"61.258628\"/>\r\n     <use style=\"fill:#1f77b4;stroke:#1f77b4;\" x=\"449.864919\" xlink:href=\"#m47bdf79e94\" y=\"165.499479\"/>\r\n     <use style=\"fill:#1f77b4;stroke:#1f77b4;\" x=\"450.474866\" xlink:href=\"#m47bdf79e94\" y=\"167.615291\"/>\r\n     <use style=\"fill:#1f77b4;stroke:#1f77b4;\" x=\"451.084813\" xlink:href=\"#m47bdf79e94\" y=\"145.985484\"/>\r\n     <use style=\"fill:#1f77b4;stroke:#1f77b4;\" x=\"451.694761\" xlink:href=\"#m47bdf79e94\" y=\"131.300457\"/>\r\n     <use style=\"fill:#1f77b4;stroke:#1f77b4;\" x=\"452.304708\" xlink:href=\"#m47bdf79e94\" y=\"169.21021\"/>\r\n     <use style=\"fill:#1f77b4;stroke:#1f77b4;\" x=\"452.914655\" xlink:href=\"#m47bdf79e94\" y=\"204.698664\"/>\r\n     <use style=\"fill:#1f77b4;stroke:#1f77b4;\" x=\"453.524602\" xlink:href=\"#m47bdf79e94\" y=\"151.206368\"/>\r\n     <use style=\"fill:#1f77b4;stroke:#1f77b4;\" x=\"454.134549\" xlink:href=\"#m47bdf79e94\" y=\"223.757254\"/>\r\n     <use style=\"fill:#1f77b4;stroke:#1f77b4;\" x=\"454.744496\" xlink:href=\"#m47bdf79e94\" y=\"188.207968\"/>\r\n     <use style=\"fill:#1f77b4;stroke:#1f77b4;\" x=\"455.354444\" xlink:href=\"#m47bdf79e94\" y=\"134.987919\"/>\r\n     <use style=\"fill:#1f77b4;stroke:#1f77b4;\" x=\"455.964391\" xlink:href=\"#m47bdf79e94\" y=\"273.816384\"/>\r\n     <use style=\"fill:#1f77b4;stroke:#1f77b4;\" x=\"456.574338\" xlink:href=\"#m47bdf79e94\" y=\"178.011187\"/>\r\n     <use style=\"fill:#1f77b4;stroke:#1f77b4;\" x=\"457.184285\" xlink:href=\"#m47bdf79e94\" y=\"167.383266\"/>\r\n     <use style=\"fill:#1f77b4;stroke:#1f77b4;\" x=\"457.794232\" xlink:href=\"#m47bdf79e94\" y=\"243.288867\"/>\r\n     <use style=\"fill:#1f77b4;stroke:#1f77b4;\" x=\"458.404179\" xlink:href=\"#m47bdf79e94\" y=\"201.982847\"/>\r\n     <use style=\"fill:#1f77b4;stroke:#1f77b4;\" x=\"459.014127\" xlink:href=\"#m47bdf79e94\" y=\"168.093966\"/>\r\n     <use style=\"fill:#1f77b4;stroke:#1f77b4;\" x=\"459.624074\" xlink:href=\"#m47bdf79e94\" y=\"209.447854\"/>\r\n     <use style=\"fill:#1f77b4;stroke:#1f77b4;\" x=\"460.234021\" xlink:href=\"#m47bdf79e94\" y=\"145.526753\"/>\r\n     <use style=\"fill:#1f77b4;stroke:#1f77b4;\" x=\"460.843968\" xlink:href=\"#m47bdf79e94\" y=\"171.870847\"/>\r\n     <use style=\"fill:#1f77b4;stroke:#1f77b4;\" x=\"461.453915\" xlink:href=\"#m47bdf79e94\" y=\"222.703503\"/>\r\n     <use style=\"fill:#1f77b4;stroke:#1f77b4;\" x=\"462.063862\" xlink:href=\"#m47bdf79e94\" y=\"195.519401\"/>\r\n     <use style=\"fill:#1f77b4;stroke:#1f77b4;\" x=\"462.67381\" xlink:href=\"#m47bdf79e94\" y=\"176.485742\"/>\r\n     <use style=\"fill:#1f77b4;stroke:#1f77b4;\" x=\"463.283757\" xlink:href=\"#m47bdf79e94\" y=\"184.432084\"/>\r\n     <use style=\"fill:#1f77b4;stroke:#1f77b4;\" x=\"463.893704\" xlink:href=\"#m47bdf79e94\" y=\"69.136161\"/>\r\n     <use style=\"fill:#1f77b4;stroke:#1f77b4;\" x=\"464.503651\" xlink:href=\"#m47bdf79e94\" y=\"184.019892\"/>\r\n     <use style=\"fill:#1f77b4;stroke:#1f77b4;\" x=\"465.113598\" xlink:href=\"#m47bdf79e94\" y=\"202.543628\"/>\r\n     <use style=\"fill:#1f77b4;stroke:#1f77b4;\" x=\"465.723545\" xlink:href=\"#m47bdf79e94\" y=\"194.37889\"/>\r\n     <use style=\"fill:#1f77b4;stroke:#1f77b4;\" x=\"466.333493\" xlink:href=\"#m47bdf79e94\" y=\"97.077833\"/>\r\n     <use style=\"fill:#1f77b4;stroke:#1f77b4;\" x=\"466.94344\" xlink:href=\"#m47bdf79e94\" y=\"202.456868\"/>\r\n     <use style=\"fill:#1f77b4;stroke:#1f77b4;\" x=\"467.553387\" xlink:href=\"#m47bdf79e94\" y=\"211.347597\"/>\r\n     <use style=\"fill:#1f77b4;stroke:#1f77b4;\" x=\"468.163334\" xlink:href=\"#m47bdf79e94\" y=\"191.145173\"/>\r\n     <use style=\"fill:#1f77b4;stroke:#1f77b4;\" x=\"468.773281\" xlink:href=\"#m47bdf79e94\" y=\"143.759643\"/>\r\n     <use style=\"fill:#1f77b4;stroke:#1f77b4;\" x=\"469.383228\" xlink:href=\"#m47bdf79e94\" y=\"168.477239\"/>\r\n     <use style=\"fill:#1f77b4;stroke:#1f77b4;\" x=\"469.993176\" xlink:href=\"#m47bdf79e94\" y=\"232.530308\"/>\r\n     <use style=\"fill:#1f77b4;stroke:#1f77b4;\" x=\"470.603123\" xlink:href=\"#m47bdf79e94\" y=\"183.842383\"/>\r\n     <use style=\"fill:#1f77b4;stroke:#1f77b4;\" x=\"471.21307\" xlink:href=\"#m47bdf79e94\" y=\"187.259925\"/>\r\n     <use style=\"fill:#1f77b4;stroke:#1f77b4;\" x=\"471.823017\" xlink:href=\"#m47bdf79e94\" y=\"134.343369\"/>\r\n     <use style=\"fill:#1f77b4;stroke:#1f77b4;\" x=\"472.432964\" xlink:href=\"#m47bdf79e94\" y=\"211.954251\"/>\r\n     <use style=\"fill:#1f77b4;stroke:#1f77b4;\" x=\"473.042911\" xlink:href=\"#m47bdf79e94\" y=\"146.243104\"/>\r\n     <use style=\"fill:#1f77b4;stroke:#1f77b4;\" x=\"473.652859\" xlink:href=\"#m47bdf79e94\" y=\"95.27715\"/>\r\n     <use style=\"fill:#1f77b4;stroke:#1f77b4;\" x=\"474.262806\" xlink:href=\"#m47bdf79e94\" y=\"164.741909\"/>\r\n     <use style=\"fill:#1f77b4;stroke:#1f77b4;\" x=\"474.872753\" xlink:href=\"#m47bdf79e94\" y=\"185.524395\"/>\r\n     <use style=\"fill:#1f77b4;stroke:#1f77b4;\" x=\"475.4827\" xlink:href=\"#m47bdf79e94\" y=\"183.662215\"/>\r\n     <use style=\"fill:#1f77b4;stroke:#1f77b4;\" x=\"476.092647\" xlink:href=\"#m47bdf79e94\" y=\"147.39957\"/>\r\n     <use style=\"fill:#1f77b4;stroke:#1f77b4;\" x=\"476.702594\" xlink:href=\"#m47bdf79e94\" y=\"182.731457\"/>\r\n     <use style=\"fill:#1f77b4;stroke:#1f77b4;\" x=\"477.312542\" xlink:href=\"#m47bdf79e94\" y=\"165.014156\"/>\r\n     <use style=\"fill:#1f77b4;stroke:#1f77b4;\" x=\"477.922489\" xlink:href=\"#m47bdf79e94\" y=\"217.12195\"/>\r\n     <use style=\"fill:#1f77b4;stroke:#1f77b4;\" x=\"478.532436\" xlink:href=\"#m47bdf79e94\" y=\"128.28713\"/>\r\n     <use style=\"fill:#1f77b4;stroke:#1f77b4;\" x=\"479.142383\" xlink:href=\"#m47bdf79e94\" y=\"217.888495\"/>\r\n     <use style=\"fill:#1f77b4;stroke:#1f77b4;\" x=\"479.75233\" xlink:href=\"#m47bdf79e94\" y=\"89.074316\"/>\r\n     <use style=\"fill:#1f77b4;stroke:#1f77b4;\" x=\"480.362277\" xlink:href=\"#m47bdf79e94\" y=\"175.932274\"/>\r\n     <use style=\"fill:#1f77b4;stroke:#1f77b4;\" x=\"480.972225\" xlink:href=\"#m47bdf79e94\" y=\"170.105399\"/>\r\n     <use style=\"fill:#1f77b4;stroke:#1f77b4;\" x=\"481.582172\" xlink:href=\"#m47bdf79e94\" y=\"189.005428\"/>\r\n     <use style=\"fill:#1f77b4;stroke:#1f77b4;\" x=\"482.192119\" xlink:href=\"#m47bdf79e94\" y=\"198.478212\"/>\r\n     <use style=\"fill:#1f77b4;stroke:#1f77b4;\" x=\"482.802066\" xlink:href=\"#m47bdf79e94\" y=\"134.918112\"/>\r\n     <use style=\"fill:#1f77b4;stroke:#1f77b4;\" x=\"483.412013\" xlink:href=\"#m47bdf79e94\" y=\"194.310746\"/>\r\n     <use style=\"fill:#1f77b4;stroke:#1f77b4;\" x=\"484.02196\" xlink:href=\"#m47bdf79e94\" y=\"148.95327\"/>\r\n     <use style=\"fill:#1f77b4;stroke:#1f77b4;\" x=\"484.631908\" xlink:href=\"#m47bdf79e94\" y=\"65.552412\"/>\r\n     <use style=\"fill:#1f77b4;stroke:#1f77b4;\" x=\"485.241855\" xlink:href=\"#m47bdf79e94\" y=\"173.428204\"/>\r\n     <use style=\"fill:#1f77b4;stroke:#1f77b4;\" x=\"485.851802\" xlink:href=\"#m47bdf79e94\" y=\"267.306732\"/>\r\n     <use style=\"fill:#1f77b4;stroke:#1f77b4;\" x=\"486.461749\" xlink:href=\"#m47bdf79e94\" y=\"192.009448\"/>\r\n     <use style=\"fill:#1f77b4;stroke:#1f77b4;\" x=\"487.071696\" xlink:href=\"#m47bdf79e94\" y=\"117.366352\"/>\r\n     <use style=\"fill:#1f77b4;stroke:#1f77b4;\" x=\"487.681643\" xlink:href=\"#m47bdf79e94\" y=\"199.197555\"/>\r\n     <use style=\"fill:#1f77b4;stroke:#1f77b4;\" x=\"488.291591\" xlink:href=\"#m47bdf79e94\" y=\"211.745828\"/>\r\n     <use style=\"fill:#1f77b4;stroke:#1f77b4;\" x=\"488.901538\" xlink:href=\"#m47bdf79e94\" y=\"207.924071\"/>\r\n     <use style=\"fill:#1f77b4;stroke:#1f77b4;\" x=\"489.511485\" xlink:href=\"#m47bdf79e94\" y=\"207.929722\"/>\r\n     <use style=\"fill:#1f77b4;stroke:#1f77b4;\" x=\"490.121432\" xlink:href=\"#m47bdf79e94\" y=\"159.211548\"/>\r\n     <use style=\"fill:#1f77b4;stroke:#1f77b4;\" x=\"490.731379\" xlink:href=\"#m47bdf79e94\" y=\"62.380523\"/>\r\n     <use style=\"fill:#1f77b4;stroke:#1f77b4;\" x=\"491.341326\" xlink:href=\"#m47bdf79e94\" y=\"164.979253\"/>\r\n     <use style=\"fill:#1f77b4;stroke:#1f77b4;\" x=\"491.951274\" xlink:href=\"#m47bdf79e94\" y=\"191.765789\"/>\r\n     <use style=\"fill:#1f77b4;stroke:#1f77b4;\" x=\"492.561221\" xlink:href=\"#m47bdf79e94\" y=\"157.969319\"/>\r\n     <use style=\"fill:#1f77b4;stroke:#1f77b4;\" x=\"493.171168\" xlink:href=\"#m47bdf79e94\" y=\"153.57847\"/>\r\n     <use style=\"fill:#1f77b4;stroke:#1f77b4;\" x=\"493.781115\" xlink:href=\"#m47bdf79e94\" y=\"146.150361\"/>\r\n     <use style=\"fill:#1f77b4;stroke:#1f77b4;\" x=\"494.391062\" xlink:href=\"#m47bdf79e94\" y=\"194.63917\"/>\r\n     <use style=\"fill:#1f77b4;stroke:#1f77b4;\" x=\"495.001009\" xlink:href=\"#m47bdf79e94\" y=\"222.907605\"/>\r\n     <use style=\"fill:#1f77b4;stroke:#1f77b4;\" x=\"495.610957\" xlink:href=\"#m47bdf79e94\" y=\"161.480934\"/>\r\n     <use style=\"fill:#1f77b4;stroke:#1f77b4;\" x=\"496.220904\" xlink:href=\"#m47bdf79e94\" y=\"175.968174\"/>\r\n     <use style=\"fill:#1f77b4;stroke:#1f77b4;\" x=\"496.830851\" xlink:href=\"#m47bdf79e94\" y=\"188.291736\"/>\r\n     <use style=\"fill:#1f77b4;stroke:#1f77b4;\" x=\"497.440798\" xlink:href=\"#m47bdf79e94\" y=\"194.090023\"/>\r\n     <use style=\"fill:#1f77b4;stroke:#1f77b4;\" x=\"498.050745\" xlink:href=\"#m47bdf79e94\" y=\"209.91689\"/>\r\n     <use style=\"fill:#1f77b4;stroke:#1f77b4;\" x=\"498.660692\" xlink:href=\"#m47bdf79e94\" y=\"158.447329\"/>\r\n     <use style=\"fill:#1f77b4;stroke:#1f77b4;\" x=\"499.27064\" xlink:href=\"#m47bdf79e94\" y=\"240.951336\"/>\r\n     <use style=\"fill:#1f77b4;stroke:#1f77b4;\" x=\"499.880587\" xlink:href=\"#m47bdf79e94\" y=\"134.02392\"/>\r\n     <use style=\"fill:#1f77b4;stroke:#1f77b4;\" x=\"500.490534\" xlink:href=\"#m47bdf79e94\" y=\"134.906478\"/>\r\n     <use style=\"fill:#1f77b4;stroke:#1f77b4;\" x=\"501.100481\" xlink:href=\"#m47bdf79e94\" y=\"132.580581\"/>\r\n     <use style=\"fill:#1f77b4;stroke:#1f77b4;\" x=\"501.710428\" xlink:href=\"#m47bdf79e94\" y=\"139.703868\"/>\r\n     <use style=\"fill:#1f77b4;stroke:#1f77b4;\" x=\"502.320375\" xlink:href=\"#m47bdf79e94\" y=\"123.153005\"/>\r\n     <use style=\"fill:#1f77b4;stroke:#1f77b4;\" x=\"502.930323\" xlink:href=\"#m47bdf79e94\" y=\"226.350411\"/>\r\n     <use style=\"fill:#1f77b4;stroke:#1f77b4;\" x=\"503.54027\" xlink:href=\"#m47bdf79e94\" y=\"224.191053\"/>\r\n     <use style=\"fill:#1f77b4;stroke:#1f77b4;\" x=\"504.150217\" xlink:href=\"#m47bdf79e94\" y=\"224.658759\"/>\r\n     <use style=\"fill:#1f77b4;stroke:#1f77b4;\" x=\"504.760164\" xlink:href=\"#m47bdf79e94\" y=\"139.671624\"/>\r\n     <use style=\"fill:#1f77b4;stroke:#1f77b4;\" x=\"505.370111\" xlink:href=\"#m47bdf79e94\" y=\"104.193474\"/>\r\n     <use style=\"fill:#1f77b4;stroke:#1f77b4;\" x=\"505.980058\" xlink:href=\"#m47bdf79e94\" y=\"162.457564\"/>\r\n     <use style=\"fill:#1f77b4;stroke:#1f77b4;\" x=\"506.590006\" xlink:href=\"#m47bdf79e94\" y=\"118.846589\"/>\r\n     <use style=\"fill:#1f77b4;stroke:#1f77b4;\" x=\"507.199953\" xlink:href=\"#m47bdf79e94\" y=\"148.509166\"/>\r\n     <use style=\"fill:#1f77b4;stroke:#1f77b4;\" x=\"507.8099\" xlink:href=\"#m47bdf79e94\" y=\"173.662555\"/>\r\n     <use style=\"fill:#1f77b4;stroke:#1f77b4;\" x=\"508.419847\" xlink:href=\"#m47bdf79e94\" y=\"121.679749\"/>\r\n     <use style=\"fill:#1f77b4;stroke:#1f77b4;\" x=\"509.029794\" xlink:href=\"#m47bdf79e94\" y=\"197.216039\"/>\r\n     <use style=\"fill:#1f77b4;stroke:#1f77b4;\" x=\"509.639741\" xlink:href=\"#m47bdf79e94\" y=\"228.472205\"/>\r\n     <use style=\"fill:#1f77b4;stroke:#1f77b4;\" x=\"510.249689\" xlink:href=\"#m47bdf79e94\" y=\"255.392039\"/>\r\n     <use style=\"fill:#1f77b4;stroke:#1f77b4;\" x=\"510.859636\" xlink:href=\"#m47bdf79e94\" y=\"258.356169\"/>\r\n     <use style=\"fill:#1f77b4;stroke:#1f77b4;\" x=\"511.469583\" xlink:href=\"#m47bdf79e94\" y=\"103.12543\"/>\r\n     <use style=\"fill:#1f77b4;stroke:#1f77b4;\" x=\"512.07953\" xlink:href=\"#m47bdf79e94\" y=\"207.761189\"/>\r\n     <use style=\"fill:#1f77b4;stroke:#1f77b4;\" x=\"512.689477\" xlink:href=\"#m47bdf79e94\" y=\"149.532334\"/>\r\n     <use style=\"fill:#1f77b4;stroke:#1f77b4;\" x=\"513.299424\" xlink:href=\"#m47bdf79e94\" y=\"153.030985\"/>\r\n     <use style=\"fill:#1f77b4;stroke:#1f77b4;\" x=\"513.909372\" xlink:href=\"#m47bdf79e94\" y=\"246.968019\"/>\r\n     <use style=\"fill:#1f77b4;stroke:#1f77b4;\" x=\"514.519319\" xlink:href=\"#m47bdf79e94\" y=\"216.821116\"/>\r\n     <use style=\"fill:#1f77b4;stroke:#1f77b4;\" x=\"515.129266\" xlink:href=\"#m47bdf79e94\" y=\"145.888751\"/>\r\n     <use style=\"fill:#1f77b4;stroke:#1f77b4;\" x=\"515.739213\" xlink:href=\"#m47bdf79e94\" y=\"176.102469\"/>\r\n     <use style=\"fill:#1f77b4;stroke:#1f77b4;\" x=\"516.34916\" xlink:href=\"#m47bdf79e94\" y=\"238.456242\"/>\r\n     <use style=\"fill:#1f77b4;stroke:#1f77b4;\" x=\"516.959107\" xlink:href=\"#m47bdf79e94\" y=\"169.47049\"/>\r\n     <use style=\"fill:#1f77b4;stroke:#1f77b4;\" x=\"517.569055\" xlink:href=\"#m47bdf79e94\" y=\"151.95862\"/>\r\n     <use style=\"fill:#1f77b4;stroke:#1f77b4;\" x=\"518.179002\" xlink:href=\"#m47bdf79e94\" y=\"167.414181\"/>\r\n     <use style=\"fill:#1f77b4;stroke:#1f77b4;\" x=\"518.788949\" xlink:href=\"#m47bdf79e94\" y=\"179.777632\"/>\r\n     <use style=\"fill:#1f77b4;stroke:#1f77b4;\" x=\"519.398896\" xlink:href=\"#m47bdf79e94\" y=\"241.060036\"/>\r\n     <use style=\"fill:#1f77b4;stroke:#1f77b4;\" x=\"520.008843\" xlink:href=\"#m47bdf79e94\" y=\"132.232544\"/>\r\n     <use style=\"fill:#1f77b4;stroke:#1f77b4;\" x=\"520.61879\" xlink:href=\"#m47bdf79e94\" y=\"95.229947\"/>\r\n     <use style=\"fill:#1f77b4;stroke:#1f77b4;\" x=\"521.228738\" xlink:href=\"#m47bdf79e94\" y=\"125.629817\"/>\r\n     <use style=\"fill:#1f77b4;stroke:#1f77b4;\" x=\"521.838685\" xlink:href=\"#m47bdf79e94\" y=\"195.190976\"/>\r\n     <use style=\"fill:#1f77b4;stroke:#1f77b4;\" x=\"522.448632\" xlink:href=\"#m47bdf79e94\" y=\"89.262794\"/>\r\n     <use style=\"fill:#1f77b4;stroke:#1f77b4;\" x=\"523.058579\" xlink:href=\"#m47bdf79e94\" y=\"118.019545\"/>\r\n     <use style=\"fill:#1f77b4;stroke:#1f77b4;\" x=\"523.668526\" xlink:href=\"#m47bdf79e94\" y=\"115.262176\"/>\r\n     <use style=\"fill:#1f77b4;stroke:#1f77b4;\" x=\"524.278473\" xlink:href=\"#m47bdf79e94\" y=\"216.467428\"/>\r\n     <use style=\"fill:#1f77b4;stroke:#1f77b4;\" x=\"524.888421\" xlink:href=\"#m47bdf79e94\" y=\"156.624707\"/>\r\n     <use style=\"fill:#1f77b4;stroke:#1f77b4;\" x=\"525.498368\" xlink:href=\"#m47bdf79e94\" y=\"106.058978\"/>\r\n     <use style=\"fill:#1f77b4;stroke:#1f77b4;\" x=\"526.108315\" xlink:href=\"#m47bdf79e94\" y=\"156.893962\"/>\r\n     <use style=\"fill:#1f77b4;stroke:#1f77b4;\" x=\"526.718262\" xlink:href=\"#m47bdf79e94\" y=\"216.47873\"/>\r\n     <use style=\"fill:#1f77b4;stroke:#1f77b4;\" x=\"527.328209\" xlink:href=\"#m47bdf79e94\" y=\"182.874063\"/>\r\n     <use style=\"fill:#1f77b4;stroke:#1f77b4;\" x=\"527.938156\" xlink:href=\"#m47bdf79e94\" y=\"161.024198\"/>\r\n     <use style=\"fill:#1f77b4;stroke:#1f77b4;\" x=\"528.548104\" xlink:href=\"#m47bdf79e94\" y=\"162.411027\"/>\r\n     <use style=\"fill:#1f77b4;stroke:#1f77b4;\" x=\"529.158051\" xlink:href=\"#m47bdf79e94\" y=\"95.167454\"/>\r\n     <use style=\"fill:#1f77b4;stroke:#1f77b4;\" x=\"529.767998\" xlink:href=\"#m47bdf79e94\" y=\"208.889067\"/>\r\n     <use style=\"fill:#1f77b4;stroke:#1f77b4;\" x=\"530.377945\" xlink:href=\"#m47bdf79e94\" y=\"206.628656\"/>\r\n     <use style=\"fill:#1f77b4;stroke:#1f77b4;\" x=\"530.987892\" xlink:href=\"#m47bdf79e94\" y=\"148.671384\"/>\r\n     <use style=\"fill:#1f77b4;stroke:#1f77b4;\" x=\"531.597839\" xlink:href=\"#m47bdf79e94\" y=\"198.446301\"/>\r\n     <use style=\"fill:#1f77b4;stroke:#1f77b4;\" x=\"532.207787\" xlink:href=\"#m47bdf79e94\" y=\"146.353465\"/>\r\n     <use style=\"fill:#1f77b4;stroke:#1f77b4;\" x=\"532.817734\" xlink:href=\"#m47bdf79e94\" y=\"191.254869\"/>\r\n     <use style=\"fill:#1f77b4;stroke:#1f77b4;\" x=\"533.427681\" xlink:href=\"#m47bdf79e94\" y=\"155.69262\"/>\r\n     <use style=\"fill:#1f77b4;stroke:#1f77b4;\" x=\"534.037628\" xlink:href=\"#m47bdf79e94\" y=\"150.386305\"/>\r\n     <use style=\"fill:#1f77b4;stroke:#1f77b4;\" x=\"534.647575\" xlink:href=\"#m47bdf79e94\" y=\"152.801953\"/>\r\n     <use style=\"fill:#1f77b4;stroke:#1f77b4;\" x=\"535.257522\" xlink:href=\"#m47bdf79e94\" y=\"82.551036\"/>\r\n     <use style=\"fill:#1f77b4;stroke:#1f77b4;\" x=\"535.86747\" xlink:href=\"#m47bdf79e94\" y=\"224.312052\"/>\r\n     <use style=\"fill:#1f77b4;stroke:#1f77b4;\" x=\"536.477417\" xlink:href=\"#m47bdf79e94\" y=\"158.879799\"/>\r\n     <use style=\"fill:#1f77b4;stroke:#1f77b4;\" x=\"537.087364\" xlink:href=\"#m47bdf79e94\" y=\"126.084226\"/>\r\n     <use style=\"fill:#1f77b4;stroke:#1f77b4;\" x=\"537.697311\" xlink:href=\"#m47bdf79e94\" y=\"142.388438\"/>\r\n     <use style=\"fill:#1f77b4;stroke:#1f77b4;\" x=\"538.307258\" xlink:href=\"#m47bdf79e94\" y=\"167.240993\"/>\r\n     <use style=\"fill:#1f77b4;stroke:#1f77b4;\" x=\"538.917205\" xlink:href=\"#m47bdf79e94\" y=\"129.453236\"/>\r\n     <use style=\"fill:#1f77b4;stroke:#1f77b4;\" x=\"539.527153\" xlink:href=\"#m47bdf79e94\" y=\"212.693871\"/>\r\n     <use style=\"fill:#1f77b4;stroke:#1f77b4;\" x=\"540.1371\" xlink:href=\"#m47bdf79e94\" y=\"149.280365\"/>\r\n     <use style=\"fill:#1f77b4;stroke:#1f77b4;\" x=\"540.747047\" xlink:href=\"#m47bdf79e94\" y=\"169.321236\"/>\r\n     <use style=\"fill:#1f77b4;stroke:#1f77b4;\" x=\"541.356994\" xlink:href=\"#m47bdf79e94\" y=\"124.318114\"/>\r\n     <use style=\"fill:#1f77b4;stroke:#1f77b4;\" x=\"541.966941\" xlink:href=\"#m47bdf79e94\" y=\"270.849927\"/>\r\n     <use style=\"fill:#1f77b4;stroke:#1f77b4;\" x=\"542.576888\" xlink:href=\"#m47bdf79e94\" y=\"202.119136\"/>\r\n     <use style=\"fill:#1f77b4;stroke:#1f77b4;\" x=\"543.186836\" xlink:href=\"#m47bdf79e94\" y=\"162.735462\"/>\r\n     <use style=\"fill:#1f77b4;stroke:#1f77b4;\" x=\"543.796783\" xlink:href=\"#m47bdf79e94\" y=\"209.256384\"/>\r\n     <use style=\"fill:#1f77b4;stroke:#1f77b4;\" x=\"544.40673\" xlink:href=\"#m47bdf79e94\" y=\"206.542561\"/>\r\n     <use style=\"fill:#1f77b4;stroke:#1f77b4;\" x=\"545.016677\" xlink:href=\"#m47bdf79e94\" y=\"168.037456\"/>\r\n     <use style=\"fill:#1f77b4;stroke:#1f77b4;\" x=\"545.626624\" xlink:href=\"#m47bdf79e94\" y=\"77.869325\"/>\r\n     <use style=\"fill:#1f77b4;stroke:#1f77b4;\" x=\"546.236571\" xlink:href=\"#m47bdf79e94\" y=\"148.376533\"/>\r\n     <use style=\"fill:#1f77b4;stroke:#1f77b4;\" x=\"546.846519\" xlink:href=\"#m47bdf79e94\" y=\"222.943173\"/>\r\n     <use style=\"fill:#1f77b4;stroke:#1f77b4;\" x=\"547.456466\" xlink:href=\"#m47bdf79e94\" y=\"201.452647\"/>\r\n     <use style=\"fill:#1f77b4;stroke:#1f77b4;\" x=\"548.066413\" xlink:href=\"#m47bdf79e94\" y=\"117.04092\"/>\r\n     <use style=\"fill:#1f77b4;stroke:#1f77b4;\" x=\"548.67636\" xlink:href=\"#m47bdf79e94\" y=\"222.972426\"/>\r\n     <use style=\"fill:#1f77b4;stroke:#1f77b4;\" x=\"549.286307\" xlink:href=\"#m47bdf79e94\" y=\"137.524898\"/>\r\n     <use style=\"fill:#1f77b4;stroke:#1f77b4;\" x=\"549.896254\" xlink:href=\"#m47bdf79e94\" y=\"152.746107\"/>\r\n     <use style=\"fill:#1f77b4;stroke:#1f77b4;\" x=\"550.506202\" xlink:href=\"#m47bdf79e94\" y=\"79.625133\"/>\r\n     <use style=\"fill:#1f77b4;stroke:#1f77b4;\" x=\"551.116149\" xlink:href=\"#m47bdf79e94\" y=\"167.148915\"/>\r\n     <use style=\"fill:#1f77b4;stroke:#1f77b4;\" x=\"551.726096\" xlink:href=\"#m47bdf79e94\" y=\"226.809141\"/>\r\n     <use style=\"fill:#1f77b4;stroke:#1f77b4;\" x=\"552.336043\" xlink:href=\"#m47bdf79e94\" y=\"167.712023\"/>\r\n     <use style=\"fill:#1f77b4;stroke:#1f77b4;\" x=\"552.94599\" xlink:href=\"#m47bdf79e94\" y=\"237.307421\"/>\r\n     <use style=\"fill:#1f77b4;stroke:#1f77b4;\" x=\"553.555937\" xlink:href=\"#m47bdf79e94\" y=\"153.614371\"/>\r\n     <use style=\"fill:#1f77b4;stroke:#1f77b4;\" x=\"554.165885\" xlink:href=\"#m47bdf79e94\" y=\"132.995101\"/>\r\n     <use style=\"fill:#1f77b4;stroke:#1f77b4;\" x=\"554.775832\" xlink:href=\"#m47bdf79e94\" y=\"32.533125\"/>\r\n     <use style=\"fill:#1f77b4;stroke:#1f77b4;\" x=\"555.385779\" xlink:href=\"#m47bdf79e94\" y=\"136.564556\"/>\r\n     <use style=\"fill:#1f77b4;stroke:#1f77b4;\" x=\"555.995726\" xlink:href=\"#m47bdf79e94\" y=\"83.359465\"/>\r\n     <use style=\"fill:#1f77b4;stroke:#1f77b4;\" x=\"556.605673\" xlink:href=\"#m47bdf79e94\" y=\"185.554644\"/>\r\n     <use style=\"fill:#1f77b4;stroke:#1f77b4;\" x=\"557.21562\" xlink:href=\"#m47bdf79e94\" y=\"151.500222\"/>\r\n     <use style=\"fill:#1f77b4;stroke:#1f77b4;\" x=\"557.825568\" xlink:href=\"#m47bdf79e94\" y=\"146.896961\"/>\r\n     <use style=\"fill:#1f77b4;stroke:#1f77b4;\" x=\"558.435515\" xlink:href=\"#m47bdf79e94\" y=\"140.245037\"/>\r\n     <use style=\"fill:#1f77b4;stroke:#1f77b4;\" x=\"559.045462\" xlink:href=\"#m47bdf79e94\" y=\"160.597379\"/>\r\n     <use style=\"fill:#1f77b4;stroke:#1f77b4;\" x=\"559.655409\" xlink:href=\"#m47bdf79e94\" y=\"103.812861\"/>\r\n     <use style=\"fill:#1f77b4;stroke:#1f77b4;\" x=\"560.265356\" xlink:href=\"#m47bdf79e94\" y=\"231.65739\"/>\r\n     <use style=\"fill:#1f77b4;stroke:#1f77b4;\" x=\"560.875303\" xlink:href=\"#m47bdf79e94\" y=\"203.884251\"/>\r\n     <use style=\"fill:#1f77b4;stroke:#1f77b4;\" x=\"561.485251\" xlink:href=\"#m47bdf79e94\" y=\"151.944991\"/>\r\n     <use style=\"fill:#1f77b4;stroke:#1f77b4;\" x=\"562.095198\" xlink:href=\"#m47bdf79e94\" y=\"205.024429\"/>\r\n     <use style=\"fill:#1f77b4;stroke:#1f77b4;\" x=\"562.705145\" xlink:href=\"#m47bdf79e94\" y=\"208.722861\"/>\r\n     <use style=\"fill:#1f77b4;stroke:#1f77b4;\" x=\"563.315092\" xlink:href=\"#m47bdf79e94\" y=\"172.009463\"/>\r\n     <use style=\"fill:#1f77b4;stroke:#1f77b4;\" x=\"563.925039\" xlink:href=\"#m47bdf79e94\" y=\"135.058058\"/>\r\n     <use style=\"fill:#1f77b4;stroke:#1f77b4;\" x=\"564.534986\" xlink:href=\"#m47bdf79e94\" y=\"98.580342\"/>\r\n     <use style=\"fill:#1f77b4;stroke:#1f77b4;\" x=\"565.144934\" xlink:href=\"#m47bdf79e94\" y=\"215.591186\"/>\r\n     <use style=\"fill:#1f77b4;stroke:#1f77b4;\" x=\"565.754881\" xlink:href=\"#m47bdf79e94\" y=\"158.004222\"/>\r\n     <use style=\"fill:#1f77b4;stroke:#1f77b4;\" x=\"566.364828\" xlink:href=\"#m47bdf79e94\" y=\"134.049183\"/>\r\n     <use style=\"fill:#1f77b4;stroke:#1f77b4;\" x=\"566.974775\" xlink:href=\"#m47bdf79e94\" y=\"238.960845\"/>\r\n     <use style=\"fill:#1f77b4;stroke:#1f77b4;\" x=\"567.584722\" xlink:href=\"#m47bdf79e94\" y=\"193.56614\"/>\r\n     <use style=\"fill:#1f77b4;stroke:#1f77b4;\" x=\"568.194669\" xlink:href=\"#m47bdf79e94\" y=\"221.336619\"/>\r\n     <use style=\"fill:#1f77b4;stroke:#1f77b4;\" x=\"568.804617\" xlink:href=\"#m47bdf79e94\" y=\"190.182836\"/>\r\n     <use style=\"fill:#1f77b4;stroke:#1f77b4;\" x=\"569.414564\" xlink:href=\"#m47bdf79e94\" y=\"321.706184\"/>\r\n     <use style=\"fill:#1f77b4;stroke:#1f77b4;\" x=\"570.024511\" xlink:href=\"#m47bdf79e94\" y=\"125.431366\"/>\r\n     <use style=\"fill:#1f77b4;stroke:#1f77b4;\" x=\"570.634458\" xlink:href=\"#m47bdf79e94\" y=\"232.719119\"/>\r\n     <use style=\"fill:#1f77b4;stroke:#1f77b4;\" x=\"571.244405\" xlink:href=\"#m47bdf79e94\" y=\"162.23651\"/>\r\n     <use style=\"fill:#1f77b4;stroke:#1f77b4;\" x=\"571.854352\" xlink:href=\"#m47bdf79e94\" y=\"116.342519\"/>\r\n     <use style=\"fill:#1f77b4;stroke:#1f77b4;\" x=\"572.4643\" xlink:href=\"#m47bdf79e94\" y=\"207.434759\"/>\r\n     <use style=\"fill:#1f77b4;stroke:#1f77b4;\" x=\"573.074247\" xlink:href=\"#m47bdf79e94\" y=\"171.330675\"/>\r\n     <use style=\"fill:#1f77b4;stroke:#1f77b4;\" x=\"573.684194\" xlink:href=\"#m47bdf79e94\" y=\"149.683583\"/>\r\n     <use style=\"fill:#1f77b4;stroke:#1f77b4;\" x=\"574.294141\" xlink:href=\"#m47bdf79e94\" y=\"214.562034\"/>\r\n     <use style=\"fill:#1f77b4;stroke:#1f77b4;\" x=\"574.904088\" xlink:href=\"#m47bdf79e94\" y=\"122.650063\"/>\r\n     <use style=\"fill:#1f77b4;stroke:#1f77b4;\" x=\"575.514035\" xlink:href=\"#m47bdf79e94\" y=\"174.108322\"/>\r\n     <use style=\"fill:#1f77b4;stroke:#1f77b4;\" x=\"576.123983\" xlink:href=\"#m47bdf79e94\" y=\"252.318212\"/>\r\n     <use style=\"fill:#1f77b4;stroke:#1f77b4;\" x=\"576.73393\" xlink:href=\"#m47bdf79e94\" y=\"155.880765\"/>\r\n     <use style=\"fill:#1f77b4;stroke:#1f77b4;\" x=\"577.343877\" xlink:href=\"#m47bdf79e94\" y=\"174.451705\"/>\r\n     <use style=\"fill:#1f77b4;stroke:#1f77b4;\" x=\"577.953824\" xlink:href=\"#m47bdf79e94\" y=\"127.409226\"/>\r\n     <use style=\"fill:#1f77b4;stroke:#1f77b4;\" x=\"578.563771\" xlink:href=\"#m47bdf79e94\" y=\"194.143874\"/>\r\n     <use style=\"fill:#1f77b4;stroke:#1f77b4;\" x=\"579.173718\" xlink:href=\"#m47bdf79e94\" y=\"117.819764\"/>\r\n     <use style=\"fill:#1f77b4;stroke:#1f77b4;\" x=\"579.783666\" xlink:href=\"#m47bdf79e94\" y=\"163.545554\"/>\r\n     <use style=\"fill:#1f77b4;stroke:#1f77b4;\" x=\"580.393613\" xlink:href=\"#m47bdf79e94\" y=\"115.755477\"/>\r\n     <use style=\"fill:#1f77b4;stroke:#1f77b4;\" x=\"581.00356\" xlink:href=\"#m47bdf79e94\" y=\"206.416909\"/>\r\n     <use style=\"fill:#1f77b4;stroke:#1f77b4;\" x=\"581.613507\" xlink:href=\"#m47bdf79e94\" y=\"146.419615\"/>\r\n     <use style=\"fill:#1f77b4;stroke:#1f77b4;\" x=\"582.223454\" xlink:href=\"#m47bdf79e94\" y=\"128.410123\"/>\r\n     <use style=\"fill:#1f77b4;stroke:#1f77b4;\" x=\"582.833401\" xlink:href=\"#m47bdf79e94\" y=\"163.062889\"/>\r\n     <use style=\"fill:#1f77b4;stroke:#1f77b4;\" x=\"583.443349\" xlink:href=\"#m47bdf79e94\" y=\"134.078103\"/>\r\n     <use style=\"fill:#1f77b4;stroke:#1f77b4;\" x=\"584.053296\" xlink:href=\"#m47bdf79e94\" y=\"167.991915\"/>\r\n     <use style=\"fill:#1f77b4;stroke:#1f77b4;\" x=\"584.663243\" xlink:href=\"#m47bdf79e94\" y=\"264.960559\"/>\r\n     <use style=\"fill:#1f77b4;stroke:#1f77b4;\" x=\"585.27319\" xlink:href=\"#m47bdf79e94\" y=\"107.430848\"/>\r\n     <use style=\"fill:#1f77b4;stroke:#1f77b4;\" x=\"585.883137\" xlink:href=\"#m47bdf79e94\" y=\"164.880858\"/>\r\n     <use style=\"fill:#1f77b4;stroke:#1f77b4;\" x=\"586.493084\" xlink:href=\"#m47bdf79e94\" y=\"213.569448\"/>\r\n     <use style=\"fill:#1f77b4;stroke:#1f77b4;\" x=\"587.103032\" xlink:href=\"#m47bdf79e94\" y=\"195.875748\"/>\r\n     <use style=\"fill:#1f77b4;stroke:#1f77b4;\" x=\"587.712979\" xlink:href=\"#m47bdf79e94\" y=\"257.019203\"/>\r\n     <use style=\"fill:#1f77b4;stroke:#1f77b4;\" x=\"588.322926\" xlink:href=\"#m47bdf79e94\" y=\"153.393648\"/>\r\n     <use style=\"fill:#1f77b4;stroke:#1f77b4;\" x=\"588.932873\" xlink:href=\"#m47bdf79e94\" y=\"201.188711\"/>\r\n     <use style=\"fill:#1f77b4;stroke:#1f77b4;\" x=\"589.54282\" xlink:href=\"#m47bdf79e94\" y=\"124.560443\"/>\r\n     <use style=\"fill:#1f77b4;stroke:#1f77b4;\" x=\"590.152767\" xlink:href=\"#m47bdf79e94\" y=\"200.445102\"/>\r\n     <use style=\"fill:#1f77b4;stroke:#1f77b4;\" x=\"590.762715\" xlink:href=\"#m47bdf79e94\" y=\"181.227619\"/>\r\n     <use style=\"fill:#1f77b4;stroke:#1f77b4;\" x=\"591.372662\" xlink:href=\"#m47bdf79e94\" y=\"93.521342\"/>\r\n     <use style=\"fill:#1f77b4;stroke:#1f77b4;\" x=\"591.982609\" xlink:href=\"#m47bdf79e94\" y=\"195.844833\"/>\r\n     <use style=\"fill:#1f77b4;stroke:#1f77b4;\" x=\"592.592556\" xlink:href=\"#m47bdf79e94\" y=\"129.234175\"/>\r\n     <use style=\"fill:#1f77b4;stroke:#1f77b4;\" x=\"593.202503\" xlink:href=\"#m47bdf79e94\" y=\"244.264501\"/>\r\n     <use style=\"fill:#1f77b4;stroke:#1f77b4;\" x=\"593.81245\" xlink:href=\"#m47bdf79e94\" y=\"128.936665\"/>\r\n     <use style=\"fill:#1f77b4;stroke:#1f77b4;\" x=\"594.422398\" xlink:href=\"#m47bdf79e94\" y=\"205.055011\"/>\r\n     <use style=\"fill:#1f77b4;stroke:#1f77b4;\" x=\"595.032345\" xlink:href=\"#m47bdf79e94\" y=\"172.719166\"/>\r\n     <use style=\"fill:#1f77b4;stroke:#1f77b4;\" x=\"595.642292\" xlink:href=\"#m47bdf79e94\" y=\"179.001447\"/>\r\n     <use style=\"fill:#1f77b4;stroke:#1f77b4;\" x=\"596.252239\" xlink:href=\"#m47bdf79e94\" y=\"193.855672\"/>\r\n     <use style=\"fill:#1f77b4;stroke:#1f77b4;\" x=\"596.862186\" xlink:href=\"#m47bdf79e94\" y=\"142.571266\"/>\r\n     <use style=\"fill:#1f77b4;stroke:#1f77b4;\" x=\"597.472133\" xlink:href=\"#m47bdf79e94\" y=\"173.242717\"/>\r\n     <use style=\"fill:#1f77b4;stroke:#1f77b4;\" x=\"598.082081\" xlink:href=\"#m47bdf79e94\" y=\"190.592369\"/>\r\n     <use style=\"fill:#1f77b4;stroke:#1f77b4;\" x=\"598.692028\" xlink:href=\"#m47bdf79e94\" y=\"191.037803\"/>\r\n     <use style=\"fill:#1f77b4;stroke:#1f77b4;\" x=\"599.301975\" xlink:href=\"#m47bdf79e94\" y=\"151.034511\"/>\r\n     <use style=\"fill:#1f77b4;stroke:#1f77b4;\" x=\"599.911922\" xlink:href=\"#m47bdf79e94\" y=\"179.680567\"/>\r\n     <use style=\"fill:#1f77b4;stroke:#1f77b4;\" x=\"600.521869\" xlink:href=\"#m47bdf79e94\" y=\"69.192006\"/>\r\n     <use style=\"fill:#1f77b4;stroke:#1f77b4;\" x=\"601.131816\" xlink:href=\"#m47bdf79e94\" y=\"134.59135\"/>\r\n     <use style=\"fill:#1f77b4;stroke:#1f77b4;\" x=\"601.741764\" xlink:href=\"#m47bdf79e94\" y=\"181.746849\"/>\r\n     <use style=\"fill:#1f77b4;stroke:#1f77b4;\" x=\"602.351711\" xlink:href=\"#m47bdf79e94\" y=\"230.279869\"/>\r\n     <use style=\"fill:#1f77b4;stroke:#1f77b4;\" x=\"602.961658\" xlink:href=\"#m47bdf79e94\" y=\"208.555989\"/>\r\n     <use style=\"fill:#1f77b4;stroke:#1f77b4;\" x=\"603.571605\" xlink:href=\"#m47bdf79e94\" y=\"182.10652\"/>\r\n     <use style=\"fill:#1f77b4;stroke:#1f77b4;\" x=\"604.181552\" xlink:href=\"#m47bdf79e94\" y=\"204.132564\"/>\r\n     <use style=\"fill:#1f77b4;stroke:#1f77b4;\" x=\"604.791499\" xlink:href=\"#m47bdf79e94\" y=\"155.913674\"/>\r\n     <use style=\"fill:#1f77b4;stroke:#1f77b4;\" x=\"605.401447\" xlink:href=\"#m47bdf79e94\" y=\"120.811817\"/>\r\n     <use style=\"fill:#1f77b4;stroke:#1f77b4;\" x=\"606.011394\" xlink:href=\"#m47bdf79e94\" y=\"198.198985\"/>\r\n     <use style=\"fill:#1f77b4;stroke:#1f77b4;\" x=\"606.621341\" xlink:href=\"#m47bdf79e94\" y=\"208.890065\"/>\r\n     <use style=\"fill:#1f77b4;stroke:#1f77b4;\" x=\"607.231288\" xlink:href=\"#m47bdf79e94\" y=\"218.839862\"/>\r\n     <use style=\"fill:#1f77b4;stroke:#1f77b4;\" x=\"607.841235\" xlink:href=\"#m47bdf79e94\" y=\"111.094377\"/>\r\n     <use style=\"fill:#1f77b4;stroke:#1f77b4;\" x=\"608.451182\" xlink:href=\"#m47bdf79e94\" y=\"158.356248\"/>\r\n     <use style=\"fill:#1f77b4;stroke:#1f77b4;\" x=\"609.06113\" xlink:href=\"#m47bdf79e94\" y=\"138.933001\"/>\r\n     <use style=\"fill:#1f77b4;stroke:#1f77b4;\" x=\"609.671077\" xlink:href=\"#m47bdf79e94\" y=\"156.906926\"/>\r\n     <use style=\"fill:#1f77b4;stroke:#1f77b4;\" x=\"610.281024\" xlink:href=\"#m47bdf79e94\" y=\"243.365323\"/>\r\n     <use style=\"fill:#1f77b4;stroke:#1f77b4;\" x=\"610.890971\" xlink:href=\"#m47bdf79e94\" y=\"178.404765\"/>\r\n     <use style=\"fill:#1f77b4;stroke:#1f77b4;\" x=\"611.500918\" xlink:href=\"#m47bdf79e94\" y=\"214.339982\"/>\r\n     <use style=\"fill:#1f77b4;stroke:#1f77b4;\" x=\"612.110865\" xlink:href=\"#m47bdf79e94\" y=\"140.442823\"/>\r\n     <use style=\"fill:#1f77b4;stroke:#1f77b4;\" x=\"612.720813\" xlink:href=\"#m47bdf79e94\" y=\"170.37133\"/>\r\n     <use style=\"fill:#1f77b4;stroke:#1f77b4;\" x=\"613.33076\" xlink:href=\"#m47bdf79e94\" y=\"183.684487\"/>\r\n     <use style=\"fill:#1f77b4;stroke:#1f77b4;\" x=\"613.940707\" xlink:href=\"#m47bdf79e94\" y=\"162.106536\"/>\r\n     <use style=\"fill:#1f77b4;stroke:#1f77b4;\" x=\"614.550654\" xlink:href=\"#m47bdf79e94\" y=\"71.848986\"/>\r\n     <use style=\"fill:#1f77b4;stroke:#1f77b4;\" x=\"615.160601\" xlink:href=\"#m47bdf79e94\" y=\"255.525337\"/>\r\n     <use style=\"fill:#1f77b4;stroke:#1f77b4;\" x=\"615.770548\" xlink:href=\"#m47bdf79e94\" y=\"198.895391\"/>\r\n     <use style=\"fill:#1f77b4;stroke:#1f77b4;\" x=\"616.380496\" xlink:href=\"#m47bdf79e94\" y=\"89.247171\"/>\r\n     <use style=\"fill:#1f77b4;stroke:#1f77b4;\" x=\"616.990443\" xlink:href=\"#m47bdf79e94\" y=\"102.45462\"/>\r\n     <use style=\"fill:#1f77b4;stroke:#1f77b4;\" x=\"617.60039\" xlink:href=\"#m47bdf79e94\" y=\"248.814908\"/>\r\n     <use style=\"fill:#1f77b4;stroke:#1f77b4;\" x=\"618.210337\" xlink:href=\"#m47bdf79e94\" y=\"109.808601\"/>\r\n     <use style=\"fill:#1f77b4;stroke:#1f77b4;\" x=\"618.820284\" xlink:href=\"#m47bdf79e94\" y=\"126.926562\"/>\r\n     <use style=\"fill:#1f77b4;stroke:#1f77b4;\" x=\"619.430231\" xlink:href=\"#m47bdf79e94\" y=\"266.358689\"/>\r\n     <use style=\"fill:#1f77b4;stroke:#1f77b4;\" x=\"620.040179\" xlink:href=\"#m47bdf79e94\" y=\"148.43537\"/>\r\n     <use style=\"fill:#1f77b4;stroke:#1f77b4;\" x=\"620.650126\" xlink:href=\"#m47bdf79e94\" y=\"75.678721\"/>\r\n     <use style=\"fill:#1f77b4;stroke:#1f77b4;\" x=\"621.260073\" xlink:href=\"#m47bdf79e94\" y=\"205.192963\"/>\r\n     <use style=\"fill:#1f77b4;stroke:#1f77b4;\" x=\"621.87002\" xlink:href=\"#m47bdf79e94\" y=\"226.601715\"/>\r\n     <use style=\"fill:#1f77b4;stroke:#1f77b4;\" x=\"622.479967\" xlink:href=\"#m47bdf79e94\" y=\"182.158377\"/>\r\n     <use style=\"fill:#1f77b4;stroke:#1f77b4;\" x=\"623.089914\" xlink:href=\"#m47bdf79e94\" y=\"223.791492\"/>\r\n     <use style=\"fill:#1f77b4;stroke:#1f77b4;\" x=\"623.699862\" xlink:href=\"#m47bdf79e94\" y=\"171.374554\"/>\r\n     <use style=\"fill:#1f77b4;stroke:#1f77b4;\" x=\"624.309809\" xlink:href=\"#m47bdf79e94\" y=\"78.618585\"/>\r\n     <use style=\"fill:#1f77b4;stroke:#1f77b4;\" x=\"624.919756\" xlink:href=\"#m47bdf79e94\" y=\"106.818543\"/>\r\n     <use style=\"fill:#1f77b4;stroke:#1f77b4;\" x=\"625.529703\" xlink:href=\"#m47bdf79e94\" y=\"203.778544\"/>\r\n     <use style=\"fill:#1f77b4;stroke:#1f77b4;\" x=\"626.13965\" xlink:href=\"#m47bdf79e94\" y=\"71.454744\"/>\r\n     <use style=\"fill:#1f77b4;stroke:#1f77b4;\" x=\"626.749597\" xlink:href=\"#m47bdf79e94\" y=\"157.000666\"/>\r\n     <use style=\"fill:#1f77b4;stroke:#1f77b4;\" x=\"627.359545\" xlink:href=\"#m47bdf79e94\" y=\"115.445668\"/>\r\n     <use style=\"fill:#1f77b4;stroke:#1f77b4;\" x=\"627.969492\" xlink:href=\"#m47bdf79e94\" y=\"87.648595\"/>\r\n     <use style=\"fill:#1f77b4;stroke:#1f77b4;\" x=\"628.579439\" xlink:href=\"#m47bdf79e94\" y=\"233.626275\"/>\r\n     <use style=\"fill:#1f77b4;stroke:#1f77b4;\" x=\"629.189386\" xlink:href=\"#m47bdf79e94\" y=\"127.036258\"/>\r\n     <use style=\"fill:#1f77b4;stroke:#1f77b4;\" x=\"629.799333\" xlink:href=\"#m47bdf79e94\" y=\"219.275656\"/>\r\n     <use style=\"fill:#1f77b4;stroke:#1f77b4;\" x=\"630.40928\" xlink:href=\"#m47bdf79e94\" y=\"164.000627\"/>\r\n     <use style=\"fill:#1f77b4;stroke:#1f77b4;\" x=\"631.019228\" xlink:href=\"#m47bdf79e94\" y=\"166.925533\"/>\r\n     <use style=\"fill:#1f77b4;stroke:#1f77b4;\" x=\"631.629175\" xlink:href=\"#m47bdf79e94\" y=\"138.879815\"/>\r\n     <use style=\"fill:#1f77b4;stroke:#1f77b4;\" x=\"632.239122\" xlink:href=\"#m47bdf79e94\" y=\"147.033251\"/>\r\n     <use style=\"fill:#1f77b4;stroke:#1f77b4;\" x=\"632.849069\" xlink:href=\"#m47bdf79e94\" y=\"247.155168\"/>\r\n     <use style=\"fill:#1f77b4;stroke:#1f77b4;\" x=\"633.459016\" xlink:href=\"#m47bdf79e94\" y=\"221.113902\"/>\r\n     <use style=\"fill:#1f77b4;stroke:#1f77b4;\" x=\"634.068963\" xlink:href=\"#m47bdf79e94\" y=\"123.052948\"/>\r\n     <use style=\"fill:#1f77b4;stroke:#1f77b4;\" x=\"634.678911\" xlink:href=\"#m47bdf79e94\" y=\"277.844569\"/>\r\n     <use style=\"fill:#1f77b4;stroke:#1f77b4;\" x=\"635.288858\" xlink:href=\"#m47bdf79e94\" y=\"212.550268\"/>\r\n     <use style=\"fill:#1f77b4;stroke:#1f77b4;\" x=\"635.898805\" xlink:href=\"#m47bdf79e94\" y=\"122.266791\"/>\r\n     <use style=\"fill:#1f77b4;stroke:#1f77b4;\" x=\"636.508752\" xlink:href=\"#m47bdf79e94\" y=\"203.162914\"/>\r\n     <use style=\"fill:#1f77b4;stroke:#1f77b4;\" x=\"637.118699\" xlink:href=\"#m47bdf79e94\" y=\"50.791928\"/>\r\n     <use style=\"fill:#1f77b4;stroke:#1f77b4;\" x=\"637.728646\" xlink:href=\"#m47bdf79e94\" y=\"169.274034\"/>\r\n     <use style=\"fill:#1f77b4;stroke:#1f77b4;\" x=\"638.338594\" xlink:href=\"#m47bdf79e94\" y=\"258.191625\"/>\r\n     <use style=\"fill:#1f77b4;stroke:#1f77b4;\" x=\"638.948541\" xlink:href=\"#m47bdf79e94\" y=\"96.922929\"/>\r\n     <use style=\"fill:#1f77b4;stroke:#1f77b4;\" x=\"639.558488\" xlink:href=\"#m47bdf79e94\" y=\"171.625526\"/>\r\n     <use style=\"fill:#1f77b4;stroke:#1f77b4;\" x=\"640.168435\" xlink:href=\"#m47bdf79e94\" y=\"114.547154\"/>\r\n     <use style=\"fill:#1f77b4;stroke:#1f77b4;\" x=\"640.778382\" xlink:href=\"#m47bdf79e94\" y=\"162.173351\"/>\r\n     <use style=\"fill:#1f77b4;stroke:#1f77b4;\" x=\"641.388329\" xlink:href=\"#m47bdf79e94\" y=\"136.700845\"/>\r\n     <use style=\"fill:#1f77b4;stroke:#1f77b4;\" x=\"641.998277\" xlink:href=\"#m47bdf79e94\" y=\"256.09742\"/>\r\n     <use style=\"fill:#1f77b4;stroke:#1f77b4;\" x=\"642.608224\" xlink:href=\"#m47bdf79e94\" y=\"175.199635\"/>\r\n     <use style=\"fill:#1f77b4;stroke:#1f77b4;\" x=\"643.218171\" xlink:href=\"#m47bdf79e94\" y=\"136.582173\"/>\r\n     <use style=\"fill:#1f77b4;stroke:#1f77b4;\" x=\"643.828118\" xlink:href=\"#m47bdf79e94\" y=\"163.689821\"/>\r\n     <use style=\"fill:#1f77b4;stroke:#1f77b4;\" x=\"644.438065\" xlink:href=\"#m47bdf79e94\" y=\"211.154132\"/>\r\n     <use style=\"fill:#1f77b4;stroke:#1f77b4;\" x=\"645.048013\" xlink:href=\"#m47bdf79e94\" y=\"239.3142\"/>\r\n     <use style=\"fill:#1f77b4;stroke:#1f77b4;\" x=\"645.65796\" xlink:href=\"#m47bdf79e94\" y=\"218.354539\"/>\r\n     <use style=\"fill:#1f77b4;stroke:#1f77b4;\" x=\"646.267907\" xlink:href=\"#m47bdf79e94\" y=\"203.98464\"/>\r\n     <use style=\"fill:#1f77b4;stroke:#1f77b4;\" x=\"646.877854\" xlink:href=\"#m47bdf79e94\" y=\"208.029779\"/>\r\n     <use style=\"fill:#1f77b4;stroke:#1f77b4;\" x=\"647.487801\" xlink:href=\"#m47bdf79e94\" y=\"123.184916\"/>\r\n     <use style=\"fill:#1f77b4;stroke:#1f77b4;\" x=\"648.097748\" xlink:href=\"#m47bdf79e94\" y=\"140.613018\"/>\r\n     <use style=\"fill:#1f77b4;stroke:#1f77b4;\" x=\"648.707696\" xlink:href=\"#m47bdf79e94\" y=\"148.500191\"/>\r\n     <use style=\"fill:#1f77b4;stroke:#1f77b4;\" x=\"649.317643\" xlink:href=\"#m47bdf79e94\" y=\"182.07062\"/>\r\n     <use style=\"fill:#1f77b4;stroke:#1f77b4;\" x=\"649.92759\" xlink:href=\"#m47bdf79e94\" y=\"220.654507\"/>\r\n     <use style=\"fill:#1f77b4;stroke:#1f77b4;\" x=\"650.537537\" xlink:href=\"#m47bdf79e94\" y=\"165.750784\"/>\r\n     <use style=\"fill:#1f77b4;stroke:#1f77b4;\" x=\"651.147484\" xlink:href=\"#m47bdf79e94\" y=\"232.748704\"/>\r\n     <use style=\"fill:#1f77b4;stroke:#1f77b4;\" x=\"651.757431\" xlink:href=\"#m47bdf79e94\" y=\"154.351996\"/>\r\n     <use style=\"fill:#1f77b4;stroke:#1f77b4;\" x=\"652.367379\" xlink:href=\"#m47bdf79e94\" y=\"149.481808\"/>\r\n     <use style=\"fill:#1f77b4;stroke:#1f77b4;\" x=\"652.977326\" xlink:href=\"#m47bdf79e94\" y=\"226.465758\"/>\r\n     <use style=\"fill:#1f77b4;stroke:#1f77b4;\" x=\"653.587273\" xlink:href=\"#m47bdf79e94\" y=\"237.615236\"/>\r\n     <use style=\"fill:#1f77b4;stroke:#1f77b4;\" x=\"654.19722\" xlink:href=\"#m47bdf79e94\" y=\"181.150499\"/>\r\n     <use style=\"fill:#1f77b4;stroke:#1f77b4;\" x=\"654.807167\" xlink:href=\"#m47bdf79e94\" y=\"60.17629\"/>\r\n     <use style=\"fill:#1f77b4;stroke:#1f77b4;\" x=\"655.417114\" xlink:href=\"#m47bdf79e94\" y=\"254.626823\"/>\r\n     <use style=\"fill:#1f77b4;stroke:#1f77b4;\" x=\"656.027062\" xlink:href=\"#m47bdf79e94\" y=\"243.588704\"/>\r\n     <use style=\"fill:#1f77b4;stroke:#1f77b4;\" x=\"656.637009\" xlink:href=\"#m47bdf79e94\" y=\"125.854861\"/>\r\n     <use style=\"fill:#1f77b4;stroke:#1f77b4;\" x=\"657.246956\" xlink:href=\"#m47bdf79e94\" y=\"213.962693\"/>\r\n     <use style=\"fill:#1f77b4;stroke:#1f77b4;\" x=\"657.856903\" xlink:href=\"#m47bdf79e94\" y=\"183.136004\"/>\r\n     <use style=\"fill:#1f77b4;stroke:#1f77b4;\" x=\"658.46685\" xlink:href=\"#m47bdf79e94\" y=\"239.590104\"/>\r\n     <use style=\"fill:#1f77b4;stroke:#1f77b4;\" x=\"659.076797\" xlink:href=\"#m47bdf79e94\" y=\"121.018578\"/>\r\n     <use style=\"fill:#1f77b4;stroke:#1f77b4;\" x=\"659.686745\" xlink:href=\"#m47bdf79e94\" y=\"166.910242\"/>\r\n     <use style=\"fill:#1f77b4;stroke:#1f77b4;\" x=\"660.296692\" xlink:href=\"#m47bdf79e94\" y=\"154.445072\"/>\r\n     <use style=\"fill:#1f77b4;stroke:#1f77b4;\" x=\"660.906639\" xlink:href=\"#m47bdf79e94\" y=\"174.864894\"/>\r\n     <use style=\"fill:#1f77b4;stroke:#1f77b4;\" x=\"661.516586\" xlink:href=\"#m47bdf79e94\" y=\"240.893164\"/>\r\n     <use style=\"fill:#1f77b4;stroke:#1f77b4;\" x=\"662.126533\" xlink:href=\"#m47bdf79e94\" y=\"225.541316\"/>\r\n     <use style=\"fill:#1f77b4;stroke:#1f77b4;\" x=\"662.73648\" xlink:href=\"#m47bdf79e94\" y=\"184.843945\"/>\r\n     <use style=\"fill:#1f77b4;stroke:#1f77b4;\" x=\"663.346428\" xlink:href=\"#m47bdf79e94\" y=\"194.396841\"/>\r\n     <use style=\"fill:#1f77b4;stroke:#1f77b4;\" x=\"663.956375\" xlink:href=\"#m47bdf79e94\" y=\"255.588495\"/>\r\n     <use style=\"fill:#1f77b4;stroke:#1f77b4;\" x=\"664.566322\" xlink:href=\"#m47bdf79e94\" y=\"179.720457\"/>\r\n     <use style=\"fill:#1f77b4;stroke:#1f77b4;\" x=\"665.176269\" xlink:href=\"#m47bdf79e94\" y=\"184.073078\"/>\r\n     <use style=\"fill:#1f77b4;stroke:#1f77b4;\" x=\"665.786216\" xlink:href=\"#m47bdf79e94\" y=\"109.514083\"/>\r\n     <use style=\"fill:#1f77b4;stroke:#1f77b4;\" x=\"666.396163\" xlink:href=\"#m47bdf79e94\" y=\"209.615058\"/>\r\n     <use style=\"fill:#1f77b4;stroke:#1f77b4;\" x=\"667.006111\" xlink:href=\"#m47bdf79e94\" y=\"161.973238\"/>\r\n     <use style=\"fill:#1f77b4;stroke:#1f77b4;\" x=\"667.616058\" xlink:href=\"#m47bdf79e94\" y=\"191.436367\"/>\r\n     <use style=\"fill:#1f77b4;stroke:#1f77b4;\" x=\"668.226005\" xlink:href=\"#m47bdf79e94\" y=\"131.484947\"/>\r\n     <use style=\"fill:#1f77b4;stroke:#1f77b4;\" x=\"668.835952\" xlink:href=\"#m47bdf79e94\" y=\"137.208773\"/>\r\n     <use style=\"fill:#1f77b4;stroke:#1f77b4;\" x=\"669.445899\" xlink:href=\"#m47bdf79e94\" y=\"175.546009\"/>\r\n     <use style=\"fill:#1f77b4;stroke:#1f77b4;\" x=\"670.055846\" xlink:href=\"#m47bdf79e94\" y=\"85.946971\"/>\r\n     <use style=\"fill:#1f77b4;stroke:#1f77b4;\" x=\"670.665794\" xlink:href=\"#m47bdf79e94\" y=\"187.873893\"/>\r\n     <use style=\"fill:#1f77b4;stroke:#1f77b4;\" x=\"671.275741\" xlink:href=\"#m47bdf79e94\" y=\"223.582072\"/>\r\n     <use style=\"fill:#1f77b4;stroke:#1f77b4;\" x=\"671.885688\" xlink:href=\"#m47bdf79e94\" y=\"187.986248\"/>\r\n     <use style=\"fill:#1f77b4;stroke:#1f77b4;\" x=\"672.495635\" xlink:href=\"#m47bdf79e94\" y=\"172.783654\"/>\r\n     <use style=\"fill:#1f77b4;stroke:#1f77b4;\" x=\"673.105582\" xlink:href=\"#m47bdf79e94\" y=\"96.77567\"/>\r\n     <use style=\"fill:#1f77b4;stroke:#1f77b4;\" x=\"673.715529\" xlink:href=\"#m47bdf79e94\" y=\"118.137551\"/>\r\n     <use style=\"fill:#1f77b4;stroke:#1f77b4;\" x=\"674.325477\" xlink:href=\"#m47bdf79e94\" y=\"121.439414\"/>\r\n     <use style=\"fill:#1f77b4;stroke:#1f77b4;\" x=\"674.935424\" xlink:href=\"#m47bdf79e94\" y=\"211.554026\"/>\r\n     <use style=\"fill:#1f77b4;stroke:#1f77b4;\" x=\"675.545371\" xlink:href=\"#m47bdf79e94\" y=\"190.269264\"/>\r\n     <use style=\"fill:#1f77b4;stroke:#1f77b4;\" x=\"676.155318\" xlink:href=\"#m47bdf79e94\" y=\"159.547285\"/>\r\n     <use style=\"fill:#1f77b4;stroke:#1f77b4;\" x=\"676.765265\" xlink:href=\"#m47bdf79e94\" y=\"138.473273\"/>\r\n     <use style=\"fill:#1f77b4;stroke:#1f77b4;\" x=\"677.375212\" xlink:href=\"#m47bdf79e94\" y=\"159.908619\"/>\r\n     <use style=\"fill:#1f77b4;stroke:#1f77b4;\" x=\"677.98516\" xlink:href=\"#m47bdf79e94\" y=\"234.900415\"/>\r\n     <use style=\"fill:#1f77b4;stroke:#1f77b4;\" x=\"678.595107\" xlink:href=\"#m47bdf79e94\" y=\"139.286356\"/>\r\n     <use style=\"fill:#1f77b4;stroke:#1f77b4;\" x=\"679.205054\" xlink:href=\"#m47bdf79e94\" y=\"173.123381\"/>\r\n     <use style=\"fill:#1f77b4;stroke:#1f77b4;\" x=\"679.815001\" xlink:href=\"#m47bdf79e94\" y=\"166.997667\"/>\r\n     <use style=\"fill:#1f77b4;stroke:#1f77b4;\" x=\"680.424948\" xlink:href=\"#m47bdf79e94\" y=\"196.099462\"/>\r\n     <use style=\"fill:#1f77b4;stroke:#1f77b4;\" x=\"681.034895\" xlink:href=\"#m47bdf79e94\" y=\"79.423026\"/>\r\n     <use style=\"fill:#1f77b4;stroke:#1f77b4;\" x=\"681.644843\" xlink:href=\"#m47bdf79e94\" y=\"253.330744\"/>\r\n     <use style=\"fill:#1f77b4;stroke:#1f77b4;\" x=\"682.25479\" xlink:href=\"#m47bdf79e94\" y=\"234.694652\"/>\r\n     <use style=\"fill:#1f77b4;stroke:#1f77b4;\" x=\"682.864737\" xlink:href=\"#m47bdf79e94\" y=\"132.560304\"/>\r\n     <use style=\"fill:#1f77b4;stroke:#1f77b4;\" x=\"683.474684\" xlink:href=\"#m47bdf79e94\" y=\"258.338551\"/>\r\n     <use style=\"fill:#1f77b4;stroke:#1f77b4;\" x=\"684.084631\" xlink:href=\"#m47bdf79e94\" y=\"173.060555\"/>\r\n     <use style=\"fill:#1f77b4;stroke:#1f77b4;\" x=\"684.694578\" xlink:href=\"#m47bdf79e94\" y=\"170.388283\"/>\r\n     <use style=\"fill:#1f77b4;stroke:#1f77b4;\" x=\"685.304526\" xlink:href=\"#m47bdf79e94\" y=\"132.654377\"/>\r\n     <use style=\"fill:#1f77b4;stroke:#1f77b4;\" x=\"685.914473\" xlink:href=\"#m47bdf79e94\" y=\"175.736482\"/>\r\n     <use style=\"fill:#1f77b4;stroke:#1f77b4;\" x=\"686.52442\" xlink:href=\"#m47bdf79e94\" y=\"248.035398\"/>\r\n     <use style=\"fill:#1f77b4;stroke:#1f77b4;\" x=\"687.134367\" xlink:href=\"#m47bdf79e94\" y=\"213.255982\"/>\r\n     <use style=\"fill:#1f77b4;stroke:#1f77b4;\" x=\"687.744314\" xlink:href=\"#m47bdf79e94\" y=\"167.447422\"/>\r\n     <use style=\"fill:#1f77b4;stroke:#1f77b4;\" x=\"688.354261\" xlink:href=\"#m47bdf79e94\" y=\"120.14965\"/>\r\n    </g>\r\n   </g>\r\n   <g id=\"patch_3\">\r\n    <path d=\"M 49.190625 336.531639 \r\nL 49.190625 10.371639 \r\n\" style=\"fill:none;stroke:#000000;stroke-linecap:square;stroke-linejoin:miter;stroke-width:0.8;\"/>\r\n   </g>\r\n   <g id=\"patch_4\">\r\n    <path d=\"M 718.790625 336.531639 \r\nL 718.790625 10.371639 \r\n\" style=\"fill:none;stroke:#000000;stroke-linecap:square;stroke-linejoin:miter;stroke-width:0.8;\"/>\r\n   </g>\r\n   <g id=\"patch_5\">\r\n    <path d=\"M 49.190625 336.531639 \r\nL 718.790625 336.531639 \r\n\" style=\"fill:none;stroke:#000000;stroke-linecap:square;stroke-linejoin:miter;stroke-width:0.8;\"/>\r\n   </g>\r\n   <g id=\"patch_6\">\r\n    <path d=\"M 49.190625 10.371639 \r\nL 718.790625 10.371639 \r\n\" style=\"fill:none;stroke:#000000;stroke-linecap:square;stroke-linejoin:miter;stroke-width:0.8;\"/>\r\n   </g>\r\n   <g id=\"legend_1\">\r\n    <g id=\"patch_7\">\r\n     <path d=\"M 643.115625 33.049764 \r\nL 711.790625 33.049764 \r\nQ 713.790625 33.049764 713.790625 31.049764 \r\nL 713.790625 17.371639 \r\nQ 713.790625 15.371639 711.790625 15.371639 \r\nL 643.115625 15.371639 \r\nQ 641.115625 15.371639 641.115625 17.371639 \r\nL 641.115625 31.049764 \r\nQ 641.115625 33.049764 643.115625 33.049764 \r\nz\r\n\" style=\"fill:#ffffff;opacity:0.8;stroke:#cccccc;stroke-linejoin:miter;\"/>\r\n    </g>\r\n    <g id=\"line2d_17\"/>\r\n    <g id=\"line2d_18\">\r\n     <g>\r\n      <use style=\"fill:#1f77b4;stroke:#1f77b4;\" x=\"655.115625\" xlink:href=\"#m47bdf79e94\" y=\"23.470076\"/>\r\n     </g>\r\n    </g>\r\n    <g id=\"text_16\">\r\n     <!-- Rendas -->\r\n     <g transform=\"translate(673.115625 26.970076)scale(0.1 -0.1)\">\r\n      <defs>\r\n       <path d=\"M 44.390625 34.1875 \r\nQ 47.5625 33.109375 50.5625 29.59375 \r\nQ 53.5625 26.078125 56.59375 19.921875 \r\nL 66.609375 0 \r\nL 56 0 \r\nL 46.6875 18.703125 \r\nQ 43.0625 26.03125 39.671875 28.421875 \r\nQ 36.28125 30.8125 30.421875 30.8125 \r\nL 19.671875 30.8125 \r\nL 19.671875 0 \r\nL 9.8125 0 \r\nL 9.8125 72.90625 \r\nL 32.078125 72.90625 \r\nQ 44.578125 72.90625 50.734375 67.671875 \r\nQ 56.890625 62.453125 56.890625 51.90625 \r\nQ 56.890625 45.015625 53.6875 40.46875 \r\nQ 50.484375 35.9375 44.390625 34.1875 \r\nz\r\nM 19.671875 64.796875 \r\nL 19.671875 38.921875 \r\nL 32.078125 38.921875 \r\nQ 39.203125 38.921875 42.84375 42.21875 \r\nQ 46.484375 45.515625 46.484375 51.90625 \r\nQ 46.484375 58.296875 42.84375 61.546875 \r\nQ 39.203125 64.796875 32.078125 64.796875 \r\nz\r\n\" id=\"DejaVuSans-82\"/>\r\n       <path d=\"M 56.203125 29.59375 \r\nL 56.203125 25.203125 \r\nL 14.890625 25.203125 \r\nQ 15.484375 15.921875 20.484375 11.0625 \r\nQ 25.484375 6.203125 34.421875 6.203125 \r\nQ 39.59375 6.203125 44.453125 7.46875 \r\nQ 49.3125 8.734375 54.109375 11.28125 \r\nL 54.109375 2.78125 \r\nQ 49.265625 0.734375 44.1875 -0.34375 \r\nQ 39.109375 -1.421875 33.890625 -1.421875 \r\nQ 20.796875 -1.421875 13.15625 6.1875 \r\nQ 5.515625 13.8125 5.515625 26.8125 \r\nQ 5.515625 40.234375 12.765625 48.109375 \r\nQ 20.015625 56 32.328125 56 \r\nQ 43.359375 56 49.78125 48.890625 \r\nQ 56.203125 41.796875 56.203125 29.59375 \r\nz\r\nM 47.21875 32.234375 \r\nQ 47.125 39.59375 43.09375 43.984375 \r\nQ 39.0625 48.390625 32.421875 48.390625 \r\nQ 24.90625 48.390625 20.390625 44.140625 \r\nQ 15.875 39.890625 15.1875 32.171875 \r\nz\r\n\" id=\"DejaVuSans-101\"/>\r\n       <path d=\"M 54.890625 33.015625 \r\nL 54.890625 0 \r\nL 45.90625 0 \r\nL 45.90625 32.71875 \r\nQ 45.90625 40.484375 42.875 44.328125 \r\nQ 39.84375 48.1875 33.796875 48.1875 \r\nQ 26.515625 48.1875 22.3125 43.546875 \r\nQ 18.109375 38.921875 18.109375 30.90625 \r\nL 18.109375 0 \r\nL 9.078125 0 \r\nL 9.078125 54.6875 \r\nL 18.109375 54.6875 \r\nL 18.109375 46.1875 \r\nQ 21.34375 51.125 25.703125 53.5625 \r\nQ 30.078125 56 35.796875 56 \r\nQ 45.21875 56 50.046875 50.171875 \r\nQ 54.890625 44.34375 54.890625 33.015625 \r\nz\r\n\" id=\"DejaVuSans-110\"/>\r\n       <path d=\"M 45.40625 46.390625 \r\nL 45.40625 75.984375 \r\nL 54.390625 75.984375 \r\nL 54.390625 0 \r\nL 45.40625 0 \r\nL 45.40625 8.203125 \r\nQ 42.578125 3.328125 38.25 0.953125 \r\nQ 33.9375 -1.421875 27.875 -1.421875 \r\nQ 17.96875 -1.421875 11.734375 6.484375 \r\nQ 5.515625 14.40625 5.515625 27.296875 \r\nQ 5.515625 40.1875 11.734375 48.09375 \r\nQ 17.96875 56 27.875 56 \r\nQ 33.9375 56 38.25 53.625 \r\nQ 42.578125 51.265625 45.40625 46.390625 \r\nz\r\nM 14.796875 27.296875 \r\nQ 14.796875 17.390625 18.875 11.75 \r\nQ 22.953125 6.109375 30.078125 6.109375 \r\nQ 37.203125 6.109375 41.296875 11.75 \r\nQ 45.40625 17.390625 45.40625 27.296875 \r\nQ 45.40625 37.203125 41.296875 42.84375 \r\nQ 37.203125 48.484375 30.078125 48.484375 \r\nQ 22.953125 48.484375 18.875 42.84375 \r\nQ 14.796875 37.203125 14.796875 27.296875 \r\nz\r\n\" id=\"DejaVuSans-100\"/>\r\n       <path d=\"M 34.28125 27.484375 \r\nQ 23.390625 27.484375 19.1875 25 \r\nQ 14.984375 22.515625 14.984375 16.5 \r\nQ 14.984375 11.71875 18.140625 8.90625 \r\nQ 21.296875 6.109375 26.703125 6.109375 \r\nQ 34.1875 6.109375 38.703125 11.40625 \r\nQ 43.21875 16.703125 43.21875 25.484375 \r\nL 43.21875 27.484375 \r\nz\r\nM 52.203125 31.203125 \r\nL 52.203125 0 \r\nL 43.21875 0 \r\nL 43.21875 8.296875 \r\nQ 40.140625 3.328125 35.546875 0.953125 \r\nQ 30.953125 -1.421875 24.3125 -1.421875 \r\nQ 15.921875 -1.421875 10.953125 3.296875 \r\nQ 6 8.015625 6 15.921875 \r\nQ 6 25.140625 12.171875 29.828125 \r\nQ 18.359375 34.515625 30.609375 34.515625 \r\nL 43.21875 34.515625 \r\nL 43.21875 35.40625 \r\nQ 43.21875 41.609375 39.140625 45 \r\nQ 35.0625 48.390625 27.6875 48.390625 \r\nQ 23 48.390625 18.546875 47.265625 \r\nQ 14.109375 46.140625 10.015625 43.890625 \r\nL 10.015625 52.203125 \r\nQ 14.9375 54.109375 19.578125 55.046875 \r\nQ 24.21875 56 28.609375 56 \r\nQ 40.484375 56 46.34375 49.84375 \r\nQ 52.203125 43.703125 52.203125 31.203125 \r\nz\r\n\" id=\"DejaVuSans-97\"/>\r\n       <path d=\"M 44.28125 53.078125 \r\nL 44.28125 44.578125 \r\nQ 40.484375 46.53125 36.375 47.5 \r\nQ 32.28125 48.484375 27.875 48.484375 \r\nQ 21.1875 48.484375 17.84375 46.4375 \r\nQ 14.5 44.390625 14.5 40.28125 \r\nQ 14.5 37.15625 16.890625 35.375 \r\nQ 19.28125 33.59375 26.515625 31.984375 \r\nL 29.59375 31.296875 \r\nQ 39.15625 29.25 43.1875 25.515625 \r\nQ 47.21875 21.78125 47.21875 15.09375 \r\nQ 47.21875 7.46875 41.1875 3.015625 \r\nQ 35.15625 -1.421875 24.609375 -1.421875 \r\nQ 20.21875 -1.421875 15.453125 -0.5625 \r\nQ 10.6875 0.296875 5.421875 2 \r\nL 5.421875 11.28125 \r\nQ 10.40625 8.6875 15.234375 7.390625 \r\nQ 20.0625 6.109375 24.8125 6.109375 \r\nQ 31.15625 6.109375 34.5625 8.28125 \r\nQ 37.984375 10.453125 37.984375 14.40625 \r\nQ 37.984375 18.0625 35.515625 20.015625 \r\nQ 33.0625 21.96875 24.703125 23.78125 \r\nL 21.578125 24.515625 \r\nQ 13.234375 26.265625 9.515625 29.90625 \r\nQ 5.8125 33.546875 5.8125 39.890625 \r\nQ 5.8125 47.609375 11.28125 51.796875 \r\nQ 16.75 56 26.8125 56 \r\nQ 31.78125 56 36.171875 55.265625 \r\nQ 40.578125 54.546875 44.28125 53.078125 \r\nz\r\n\" id=\"DejaVuSans-115\"/>\r\n      </defs>\r\n      <use xlink:href=\"#DejaVuSans-82\"/>\r\n      <use x=\"64.982422\" xlink:href=\"#DejaVuSans-101\"/>\r\n      <use x=\"126.505859\" xlink:href=\"#DejaVuSans-110\"/>\r\n      <use x=\"189.884766\" xlink:href=\"#DejaVuSans-100\"/>\r\n      <use x=\"253.361328\" xlink:href=\"#DejaVuSans-97\"/>\r\n      <use x=\"314.640625\" xlink:href=\"#DejaVuSans-115\"/>\r\n     </g>\r\n    </g>\r\n   </g>\r\n  </g>\r\n </g>\r\n <defs>\r\n  <clipPath id=\"pb45b26701a\">\r\n   <rect height=\"326.16\" width=\"669.6\" x=\"49.190625\" y=\"10.371639\"/>\r\n  </clipPath>\r\n </defs>\r\n</svg>\r\n",
      "image/png": "[encoded data removed]"
     },
     "metadata": {
      "needs_background": "light"
     }
    }
   ],
   "source": [
    "# Gráfico Configurando tamanho\n",
    "ax = medias.plot(style = '.')\n",
    "ax.figure.set_size_inches(12, 6)"
   ]
  },
  {
   "cell_type": "code",
   "execution_count": 131,
   "metadata": {},
   "outputs": [
    {
     "output_type": "execute_result",
     "data": {
      "text/plain": [
       "<AxesSubplot:>"
      ]
     },
     "metadata": {},
     "execution_count": 131
    },
    {
     "output_type": "display_data",
     "data": {
      "text/plain": "<Figure size 864x432 with 1 Axes>",
      "image/svg+xml": "<?xml version=\"1.0\" encoding=\"utf-8\" standalone=\"no\"?>\r\n<!DOCTYPE svg PUBLIC \"-//W3C//DTD SVG 1.1//EN\"\r\n  \"http://www.w3.org/Graphics/SVG/1.1/DTD/svg11.dtd\">\r\n<!-- Created with matplotlib (https://matplotlib.org/) -->\r\n<svg height=\"357.238125pt\" version=\"1.1\" viewBox=\"0 0 716.45 357.238125\" width=\"716.45pt\" xmlns=\"http://www.w3.org/2000/svg\" xmlns:xlink=\"http://www.w3.org/1999/xlink\">\r\n <metadata>\r\n  <rdf:RDF xmlns:cc=\"http://creativecommons.org/ns#\" xmlns:dc=\"http://purl.org/dc/elements/1.1/\" xmlns:rdf=\"http://www.w3.org/1999/02/22-rdf-syntax-ns#\">\r\n   <cc:Work>\r\n    <dc:type rdf:resource=\"http://purl.org/dc/dcmitype/StillImage\"/>\r\n    <dc:date>2021-06-24T16:10:53.687353</dc:date>\r\n    <dc:format>image/svg+xml</dc:format>\r\n    <dc:creator>\r\n     <cc:Agent>\r\n      <dc:title>Matplotlib v3.3.4, https://matplotlib.org/</dc:title>\r\n     </cc:Agent>\r\n    </dc:creator>\r\n   </cc:Work>\r\n  </rdf:RDF>\r\n </metadata>\r\n <defs>\r\n  <style type=\"text/css\">*{stroke-linecap:butt;stroke-linejoin:round;}</style>\r\n </defs>\r\n <g id=\"figure_1\">\r\n  <g id=\"patch_1\">\r\n   <path d=\"M 0 357.238125 \r\nL 716.45 357.238125 \r\nL 716.45 0 \r\nL 0 0 \r\nz\r\n\" style=\"fill:none;\"/>\r\n  </g>\r\n  <g id=\"axes_1\">\r\n   <g id=\"patch_2\">\r\n    <path d=\"M 39.65 333.36 \r\nL 709.25 333.36 \r\nL 709.25 7.2 \r\nL 39.65 7.2 \r\nz\r\n\" style=\"fill:#ffffff;\"/>\r\n   </g>\r\n   <g id=\"matplotlib.axis_1\">\r\n    <g id=\"xtick_1\">\r\n     <g id=\"line2d_1\">\r\n      <defs>\r\n       <path d=\"M 0 0 \r\nL 0 3.5 \r\n\" id=\"m202069a8d9\" style=\"stroke:#000000;stroke-width:0.8;\"/>\r\n      </defs>\r\n      <g>\r\n       <use style=\"stroke:#000000;stroke-width:0.8;\" x=\"70.086364\" xlink:href=\"#m202069a8d9\" y=\"333.36\"/>\r\n      </g>\r\n     </g>\r\n     <g id=\"text_1\">\r\n      <!-- 0 -->\r\n      <g transform=\"translate(66.905114 347.958438)scale(0.1 -0.1)\">\r\n       <defs>\r\n        <path d=\"M 31.78125 66.40625 \r\nQ 24.171875 66.40625 20.328125 58.90625 \r\nQ 16.5 51.421875 16.5 36.375 \r\nQ 16.5 21.390625 20.328125 13.890625 \r\nQ 24.171875 6.390625 31.78125 6.390625 \r\nQ 39.453125 6.390625 43.28125 13.890625 \r\nQ 47.125 21.390625 47.125 36.375 \r\nQ 47.125 51.421875 43.28125 58.90625 \r\nQ 39.453125 66.40625 31.78125 66.40625 \r\nz\r\nM 31.78125 74.21875 \r\nQ 44.046875 74.21875 50.515625 64.515625 \r\nQ 56.984375 54.828125 56.984375 36.375 \r\nQ 56.984375 17.96875 50.515625 8.265625 \r\nQ 44.046875 -1.421875 31.78125 -1.421875 \r\nQ 19.53125 -1.421875 13.0625 8.265625 \r\nQ 6.59375 17.96875 6.59375 36.375 \r\nQ 6.59375 54.828125 13.0625 64.515625 \r\nQ 19.53125 74.21875 31.78125 74.21875 \r\nz\r\n\" id=\"DejaVuSans-48\"/>\r\n       </defs>\r\n       <use xlink:href=\"#DejaVuSans-48\"/>\r\n      </g>\r\n     </g>\r\n    </g>\r\n    <g id=\"xtick_2\">\r\n     <g id=\"line2d_2\">\r\n      <g>\r\n       <use style=\"stroke:#000000;stroke-width:0.8;\" x=\"191.831818\" xlink:href=\"#m202069a8d9\" y=\"333.36\"/>\r\n      </g>\r\n     </g>\r\n     <g id=\"text_2\">\r\n      <!-- 200 -->\r\n      <g transform=\"translate(182.288068 347.958438)scale(0.1 -0.1)\">\r\n       <defs>\r\n        <path d=\"M 19.1875 8.296875 \r\nL 53.609375 8.296875 \r\nL 53.609375 0 \r\nL 7.328125 0 \r\nL 7.328125 8.296875 \r\nQ 12.9375 14.109375 22.625 23.890625 \r\nQ 32.328125 33.6875 34.8125 36.53125 \r\nQ 39.546875 41.84375 41.421875 45.53125 \r\nQ 43.3125 49.21875 43.3125 52.78125 \r\nQ 43.3125 58.59375 39.234375 62.25 \r\nQ 35.15625 65.921875 28.609375 65.921875 \r\nQ 23.96875 65.921875 18.8125 64.3125 \r\nQ 13.671875 62.703125 7.8125 59.421875 \r\nL 7.8125 69.390625 \r\nQ 13.765625 71.78125 18.9375 73 \r\nQ 24.125 74.21875 28.421875 74.21875 \r\nQ 39.75 74.21875 46.484375 68.546875 \r\nQ 53.21875 62.890625 53.21875 53.421875 \r\nQ 53.21875 48.921875 51.53125 44.890625 \r\nQ 49.859375 40.875 45.40625 35.40625 \r\nQ 44.1875 33.984375 37.640625 27.21875 \r\nQ 31.109375 20.453125 19.1875 8.296875 \r\nz\r\n\" id=\"DejaVuSans-50\"/>\r\n       </defs>\r\n       <use xlink:href=\"#DejaVuSans-50\"/>\r\n       <use x=\"63.623047\" xlink:href=\"#DejaVuSans-48\"/>\r\n       <use x=\"127.246094\" xlink:href=\"#DejaVuSans-48\"/>\r\n      </g>\r\n     </g>\r\n    </g>\r\n    <g id=\"xtick_3\">\r\n     <g id=\"line2d_3\">\r\n      <g>\r\n       <use style=\"stroke:#000000;stroke-width:0.8;\" x=\"313.577273\" xlink:href=\"#m202069a8d9\" y=\"333.36\"/>\r\n      </g>\r\n     </g>\r\n     <g id=\"text_3\">\r\n      <!-- 400 -->\r\n      <g transform=\"translate(304.033523 347.958438)scale(0.1 -0.1)\">\r\n       <defs>\r\n        <path d=\"M 37.796875 64.3125 \r\nL 12.890625 25.390625 \r\nL 37.796875 25.390625 \r\nz\r\nM 35.203125 72.90625 \r\nL 47.609375 72.90625 \r\nL 47.609375 25.390625 \r\nL 58.015625 25.390625 \r\nL 58.015625 17.1875 \r\nL 47.609375 17.1875 \r\nL 47.609375 0 \r\nL 37.796875 0 \r\nL 37.796875 17.1875 \r\nL 4.890625 17.1875 \r\nL 4.890625 26.703125 \r\nz\r\n\" id=\"DejaVuSans-52\"/>\r\n       </defs>\r\n       <use xlink:href=\"#DejaVuSans-52\"/>\r\n       <use x=\"63.623047\" xlink:href=\"#DejaVuSans-48\"/>\r\n       <use x=\"127.246094\" xlink:href=\"#DejaVuSans-48\"/>\r\n      </g>\r\n     </g>\r\n    </g>\r\n    <g id=\"xtick_4\">\r\n     <g id=\"line2d_4\">\r\n      <g>\r\n       <use style=\"stroke:#000000;stroke-width:0.8;\" x=\"435.322727\" xlink:href=\"#m202069a8d9\" y=\"333.36\"/>\r\n      </g>\r\n     </g>\r\n     <g id=\"text_4\">\r\n      <!-- 600 -->\r\n      <g transform=\"translate(425.778977 347.958438)scale(0.1 -0.1)\">\r\n       <defs>\r\n        <path d=\"M 33.015625 40.375 \r\nQ 26.375 40.375 22.484375 35.828125 \r\nQ 18.609375 31.296875 18.609375 23.390625 \r\nQ 18.609375 15.53125 22.484375 10.953125 \r\nQ 26.375 6.390625 33.015625 6.390625 \r\nQ 39.65625 6.390625 43.53125 10.953125 \r\nQ 47.40625 15.53125 47.40625 23.390625 \r\nQ 47.40625 31.296875 43.53125 35.828125 \r\nQ 39.65625 40.375 33.015625 40.375 \r\nz\r\nM 52.59375 71.296875 \r\nL 52.59375 62.3125 \r\nQ 48.875 64.0625 45.09375 64.984375 \r\nQ 41.3125 65.921875 37.59375 65.921875 \r\nQ 27.828125 65.921875 22.671875 59.328125 \r\nQ 17.53125 52.734375 16.796875 39.40625 \r\nQ 19.671875 43.65625 24.015625 45.921875 \r\nQ 28.375 48.1875 33.59375 48.1875 \r\nQ 44.578125 48.1875 50.953125 41.515625 \r\nQ 57.328125 34.859375 57.328125 23.390625 \r\nQ 57.328125 12.15625 50.6875 5.359375 \r\nQ 44.046875 -1.421875 33.015625 -1.421875 \r\nQ 20.359375 -1.421875 13.671875 8.265625 \r\nQ 6.984375 17.96875 6.984375 36.375 \r\nQ 6.984375 53.65625 15.1875 63.9375 \r\nQ 23.390625 74.21875 37.203125 74.21875 \r\nQ 40.921875 74.21875 44.703125 73.484375 \r\nQ 48.484375 72.75 52.59375 71.296875 \r\nz\r\n\" id=\"DejaVuSans-54\"/>\r\n       </defs>\r\n       <use xlink:href=\"#DejaVuSans-54\"/>\r\n       <use x=\"63.623047\" xlink:href=\"#DejaVuSans-48\"/>\r\n       <use x=\"127.246094\" xlink:href=\"#DejaVuSans-48\"/>\r\n      </g>\r\n     </g>\r\n    </g>\r\n    <g id=\"xtick_5\">\r\n     <g id=\"line2d_5\">\r\n      <g>\r\n       <use style=\"stroke:#000000;stroke-width:0.8;\" x=\"557.068182\" xlink:href=\"#m202069a8d9\" y=\"333.36\"/>\r\n      </g>\r\n     </g>\r\n     <g id=\"text_5\">\r\n      <!-- 800 -->\r\n      <g transform=\"translate(547.524432 347.958438)scale(0.1 -0.1)\">\r\n       <defs>\r\n        <path d=\"M 31.78125 34.625 \r\nQ 24.75 34.625 20.71875 30.859375 \r\nQ 16.703125 27.09375 16.703125 20.515625 \r\nQ 16.703125 13.921875 20.71875 10.15625 \r\nQ 24.75 6.390625 31.78125 6.390625 \r\nQ 38.8125 6.390625 42.859375 10.171875 \r\nQ 46.921875 13.96875 46.921875 20.515625 \r\nQ 46.921875 27.09375 42.890625 30.859375 \r\nQ 38.875 34.625 31.78125 34.625 \r\nz\r\nM 21.921875 38.8125 \r\nQ 15.578125 40.375 12.03125 44.71875 \r\nQ 8.5 49.078125 8.5 55.328125 \r\nQ 8.5 64.0625 14.71875 69.140625 \r\nQ 20.953125 74.21875 31.78125 74.21875 \r\nQ 42.671875 74.21875 48.875 69.140625 \r\nQ 55.078125 64.0625 55.078125 55.328125 \r\nQ 55.078125 49.078125 51.53125 44.71875 \r\nQ 48 40.375 41.703125 38.8125 \r\nQ 48.828125 37.15625 52.796875 32.3125 \r\nQ 56.78125 27.484375 56.78125 20.515625 \r\nQ 56.78125 9.90625 50.3125 4.234375 \r\nQ 43.84375 -1.421875 31.78125 -1.421875 \r\nQ 19.734375 -1.421875 13.25 4.234375 \r\nQ 6.78125 9.90625 6.78125 20.515625 \r\nQ 6.78125 27.484375 10.78125 32.3125 \r\nQ 14.796875 37.15625 21.921875 38.8125 \r\nz\r\nM 18.3125 54.390625 \r\nQ 18.3125 48.734375 21.84375 45.5625 \r\nQ 25.390625 42.390625 31.78125 42.390625 \r\nQ 38.140625 42.390625 41.71875 45.5625 \r\nQ 45.3125 48.734375 45.3125 54.390625 \r\nQ 45.3125 60.0625 41.71875 63.234375 \r\nQ 38.140625 66.40625 31.78125 66.40625 \r\nQ 25.390625 66.40625 21.84375 63.234375 \r\nQ 18.3125 60.0625 18.3125 54.390625 \r\nz\r\n\" id=\"DejaVuSans-56\"/>\r\n       </defs>\r\n       <use xlink:href=\"#DejaVuSans-56\"/>\r\n       <use x=\"63.623047\" xlink:href=\"#DejaVuSans-48\"/>\r\n       <use x=\"127.246094\" xlink:href=\"#DejaVuSans-48\"/>\r\n      </g>\r\n     </g>\r\n    </g>\r\n    <g id=\"xtick_6\">\r\n     <g id=\"line2d_6\">\r\n      <g>\r\n       <use style=\"stroke:#000000;stroke-width:0.8;\" x=\"678.813636\" xlink:href=\"#m202069a8d9\" y=\"333.36\"/>\r\n      </g>\r\n     </g>\r\n     <g id=\"text_6\">\r\n      <!-- 1000 -->\r\n      <g transform=\"translate(666.088636 347.958438)scale(0.1 -0.1)\">\r\n       <defs>\r\n        <path d=\"M 12.40625 8.296875 \r\nL 28.515625 8.296875 \r\nL 28.515625 63.921875 \r\nL 10.984375 60.40625 \r\nL 10.984375 69.390625 \r\nL 28.421875 72.90625 \r\nL 38.28125 72.90625 \r\nL 38.28125 8.296875 \r\nL 54.390625 8.296875 \r\nL 54.390625 0 \r\nL 12.40625 0 \r\nz\r\n\" id=\"DejaVuSans-49\"/>\r\n       </defs>\r\n       <use xlink:href=\"#DejaVuSans-49\"/>\r\n       <use x=\"63.623047\" xlink:href=\"#DejaVuSans-48\"/>\r\n       <use x=\"127.246094\" xlink:href=\"#DejaVuSans-48\"/>\r\n       <use x=\"190.869141\" xlink:href=\"#DejaVuSans-48\"/>\r\n      </g>\r\n     </g>\r\n    </g>\r\n   </g>\r\n   <g id=\"matplotlib.axis_2\">\r\n    <g id=\"ytick_1\">\r\n     <g id=\"line2d_7\">\r\n      <defs>\r\n       <path d=\"M 0 0 \r\nL -3.5 0 \r\n\" id=\"m3baad959fb\" style=\"stroke:#000000;stroke-width:0.8;\"/>\r\n      </defs>\r\n      <g>\r\n       <use style=\"stroke:#000000;stroke-width:0.8;\" x=\"39.65\" xlink:href=\"#m3baad959fb\" y=\"318.425315\"/>\r\n      </g>\r\n     </g>\r\n     <g id=\"text_7\">\r\n      <!-- 1415 -->\r\n      <g transform=\"translate(7.2 322.224534)scale(0.1 -0.1)\">\r\n       <defs>\r\n        <path d=\"M 10.796875 72.90625 \r\nL 49.515625 72.90625 \r\nL 49.515625 64.59375 \r\nL 19.828125 64.59375 \r\nL 19.828125 46.734375 \r\nQ 21.96875 47.46875 24.109375 47.828125 \r\nQ 26.265625 48.1875 28.421875 48.1875 \r\nQ 40.625 48.1875 47.75 41.5 \r\nQ 54.890625 34.8125 54.890625 23.390625 \r\nQ 54.890625 11.625 47.5625 5.09375 \r\nQ 40.234375 -1.421875 26.90625 -1.421875 \r\nQ 22.3125 -1.421875 17.546875 -0.640625 \r\nQ 12.796875 0.140625 7.71875 1.703125 \r\nL 7.71875 11.625 \r\nQ 12.109375 9.234375 16.796875 8.0625 \r\nQ 21.484375 6.890625 26.703125 6.890625 \r\nQ 35.15625 6.890625 40.078125 11.328125 \r\nQ 45.015625 15.765625 45.015625 23.390625 \r\nQ 45.015625 31 40.078125 35.4375 \r\nQ 35.15625 39.890625 26.703125 39.890625 \r\nQ 22.75 39.890625 18.8125 39.015625 \r\nQ 14.890625 38.140625 10.796875 36.28125 \r\nz\r\n\" id=\"DejaVuSans-53\"/>\r\n       </defs>\r\n       <use xlink:href=\"#DejaVuSans-49\"/>\r\n       <use x=\"63.623047\" xlink:href=\"#DejaVuSans-52\"/>\r\n       <use x=\"127.246094\" xlink:href=\"#DejaVuSans-49\"/>\r\n       <use x=\"190.869141\" xlink:href=\"#DejaVuSans-53\"/>\r\n      </g>\r\n     </g>\r\n    </g>\r\n    <g id=\"ytick_2\">\r\n     <g id=\"line2d_8\">\r\n      <g>\r\n       <use style=\"stroke:#000000;stroke-width:0.8;\" x=\"39.65\" xlink:href=\"#m3baad959fb\" y=\"253.350746\"/>\r\n      </g>\r\n     </g>\r\n     <g id=\"text_8\">\r\n      <!-- 1420 -->\r\n      <g transform=\"translate(7.2 257.149964)scale(0.1 -0.1)\">\r\n       <use xlink:href=\"#DejaVuSans-49\"/>\r\n       <use x=\"63.623047\" xlink:href=\"#DejaVuSans-52\"/>\r\n       <use x=\"127.246094\" xlink:href=\"#DejaVuSans-50\"/>\r\n       <use x=\"190.869141\" xlink:href=\"#DejaVuSans-48\"/>\r\n      </g>\r\n     </g>\r\n    </g>\r\n    <g id=\"ytick_3\">\r\n     <g id=\"line2d_9\">\r\n      <g>\r\n       <use style=\"stroke:#000000;stroke-width:0.8;\" x=\"39.65\" xlink:href=\"#m3baad959fb\" y=\"188.276176\"/>\r\n      </g>\r\n     </g>\r\n     <g id=\"text_9\">\r\n      <!-- 1425 -->\r\n      <g transform=\"translate(7.2 192.075395)scale(0.1 -0.1)\">\r\n       <use xlink:href=\"#DejaVuSans-49\"/>\r\n       <use x=\"63.623047\" xlink:href=\"#DejaVuSans-52\"/>\r\n       <use x=\"127.246094\" xlink:href=\"#DejaVuSans-50\"/>\r\n       <use x=\"190.869141\" xlink:href=\"#DejaVuSans-53\"/>\r\n      </g>\r\n     </g>\r\n    </g>\r\n    <g id=\"ytick_4\">\r\n     <g id=\"line2d_10\">\r\n      <g>\r\n       <use style=\"stroke:#000000;stroke-width:0.8;\" x=\"39.65\" xlink:href=\"#m3baad959fb\" y=\"123.201607\"/>\r\n      </g>\r\n     </g>\r\n     <g id=\"text_10\">\r\n      <!-- 1430 -->\r\n      <g transform=\"translate(7.2 127.000826)scale(0.1 -0.1)\">\r\n       <defs>\r\n        <path d=\"M 40.578125 39.3125 \r\nQ 47.65625 37.796875 51.625 33 \r\nQ 55.609375 28.21875 55.609375 21.1875 \r\nQ 55.609375 10.40625 48.1875 4.484375 \r\nQ 40.765625 -1.421875 27.09375 -1.421875 \r\nQ 22.515625 -1.421875 17.65625 -0.515625 \r\nQ 12.796875 0.390625 7.625 2.203125 \r\nL 7.625 11.71875 \r\nQ 11.71875 9.328125 16.59375 8.109375 \r\nQ 21.484375 6.890625 26.8125 6.890625 \r\nQ 36.078125 6.890625 40.9375 10.546875 \r\nQ 45.796875 14.203125 45.796875 21.1875 \r\nQ 45.796875 27.640625 41.28125 31.265625 \r\nQ 36.765625 34.90625 28.71875 34.90625 \r\nL 20.21875 34.90625 \r\nL 20.21875 43.015625 \r\nL 29.109375 43.015625 \r\nQ 36.375 43.015625 40.234375 45.921875 \r\nQ 44.09375 48.828125 44.09375 54.296875 \r\nQ 44.09375 59.90625 40.109375 62.90625 \r\nQ 36.140625 65.921875 28.71875 65.921875 \r\nQ 24.65625 65.921875 20.015625 65.03125 \r\nQ 15.375 64.15625 9.8125 62.3125 \r\nL 9.8125 71.09375 \r\nQ 15.4375 72.65625 20.34375 73.4375 \r\nQ 25.25 74.21875 29.59375 74.21875 \r\nQ 40.828125 74.21875 47.359375 69.109375 \r\nQ 53.90625 64.015625 53.90625 55.328125 \r\nQ 53.90625 49.265625 50.4375 45.09375 \r\nQ 46.96875 40.921875 40.578125 39.3125 \r\nz\r\n\" id=\"DejaVuSans-51\"/>\r\n       </defs>\r\n       <use xlink:href=\"#DejaVuSans-49\"/>\r\n       <use x=\"63.623047\" xlink:href=\"#DejaVuSans-52\"/>\r\n       <use x=\"127.246094\" xlink:href=\"#DejaVuSans-51\"/>\r\n       <use x=\"190.869141\" xlink:href=\"#DejaVuSans-48\"/>\r\n      </g>\r\n     </g>\r\n    </g>\r\n    <g id=\"ytick_5\">\r\n     <g id=\"line2d_11\">\r\n      <g>\r\n       <use style=\"stroke:#000000;stroke-width:0.8;\" x=\"39.65\" xlink:href=\"#m3baad959fb\" y=\"58.127038\"/>\r\n      </g>\r\n     </g>\r\n     <g id=\"text_11\">\r\n      <!-- 1435 -->\r\n      <g transform=\"translate(7.2 61.926257)scale(0.1 -0.1)\">\r\n       <use xlink:href=\"#DejaVuSans-49\"/>\r\n       <use x=\"63.623047\" xlink:href=\"#DejaVuSans-52\"/>\r\n       <use x=\"127.246094\" xlink:href=\"#DejaVuSans-51\"/>\r\n       <use x=\"190.869141\" xlink:href=\"#DejaVuSans-53\"/>\r\n      </g>\r\n     </g>\r\n    </g>\r\n   </g>\r\n   <g id=\"LineCollection_1\">\r\n    <path clip-path=\"url(#p5f896fb6d8)\" d=\"M 70.086364 168.269462 \r\nL 678.813636 168.269462 \r\n\" style=\"fill:none;stroke:#000000;stroke-dasharray:5.55,2.4;stroke-dashoffset:0;stroke-width:1.5;\"/>\r\n   </g>\r\n   <g id=\"LineCollection_2\">\r\n    <path clip-path=\"url(#p5f896fb6d8)\" d=\"M 70.086364 298.418535 \r\nL 678.813636 298.418535 \r\n\" style=\"fill:none;stroke:#ff0000;stroke-dasharray:5.55,2.4;stroke-dashoffset:0;stroke-width:1.5;\"/>\r\n   </g>\r\n   <g id=\"LineCollection_3\">\r\n    <path clip-path=\"url(#p5f896fb6d8)\" d=\"M 70.086364 38.120389 \r\nL 678.813636 38.120389 \r\n\" style=\"fill:none;stroke:#ff0000;stroke-dasharray:5.55,2.4;stroke-dashoffset:0;stroke-width:1.5;\"/>\r\n   </g>\r\n   <g id=\"line2d_12\">\r\n    <defs>\r\n     <path d=\"M 0 1.5 \r\nC 0.397805 1.5 0.77937 1.341951 1.06066 1.06066 \r\nC 1.341951 0.77937 1.5 0.397805 1.5 0 \r\nC 1.5 -0.397805 1.341951 -0.77937 1.06066 -1.06066 \r\nC 0.77937 -1.341951 0.397805 -1.5 0 -1.5 \r\nC -0.397805 -1.5 -0.77937 -1.341951 -1.06066 -1.06066 \r\nC -1.341951 -0.77937 -1.5 -0.397805 -1.5 0 \r\nC -1.5 0.397805 -1.341951 0.77937 -1.06066 1.06066 \r\nC -0.77937 1.341951 -0.397805 1.5 0 1.5 \r\nz\r\n\" id=\"md222d8b101\" style=\"stroke:#1f77b4;\"/>\r\n    </defs>\r\n    <g clip-path=\"url(#p5f896fb6d8)\">\r\n     <use style=\"fill:#1f77b4;stroke:#1f77b4;\" x=\"70.086364\" xlink:href=\"#md222d8b101\" y=\"151.494647\"/>\r\n     <use style=\"fill:#1f77b4;stroke:#1f77b4;\" x=\"70.695091\" xlink:href=\"#md222d8b101\" y=\"161.524502\"/>\r\n     <use style=\"fill:#1f77b4;stroke:#1f77b4;\" x=\"71.303818\" xlink:href=\"#md222d8b101\" y=\"158.323294\"/>\r\n     <use style=\"fill:#1f77b4;stroke:#1f77b4;\" x=\"71.912545\" xlink:href=\"#md222d8b101\" y=\"186.700135\"/>\r\n     <use style=\"fill:#1f77b4;stroke:#1f77b4;\" x=\"72.521273\" xlink:href=\"#md222d8b101\" y=\"147.204311\"/>\r\n     <use style=\"fill:#1f77b4;stroke:#1f77b4;\" x=\"73.13\" xlink:href=\"#md222d8b101\" y=\"222.908926\"/>\r\n     <use style=\"fill:#1f77b4;stroke:#1f77b4;\" x=\"73.738727\" xlink:href=\"#md222d8b101\" y=\"168.967499\"/>\r\n     <use style=\"fill:#1f77b4;stroke:#1f77b4;\" x=\"74.347455\" xlink:href=\"#md222d8b101\" y=\"168.089608\"/>\r\n     <use style=\"fill:#1f77b4;stroke:#1f77b4;\" x=\"74.956182\" xlink:href=\"#md222d8b101\" y=\"197.67261\"/>\r\n     <use style=\"fill:#1f77b4;stroke:#1f77b4;\" x=\"75.564909\" xlink:href=\"#md222d8b101\" y=\"155.823993\"/>\r\n     <use style=\"fill:#1f77b4;stroke:#1f77b4;\" x=\"76.173636\" xlink:href=\"#md222d8b101\" y=\"155.947673\"/>\r\n     <use style=\"fill:#1f77b4;stroke:#1f77b4;\" x=\"76.782364\" xlink:href=\"#md222d8b101\" y=\"146.182514\"/>\r\n     <use style=\"fill:#1f77b4;stroke:#1f77b4;\" x=\"77.391091\" xlink:href=\"#md222d8b101\" y=\"134.322035\"/>\r\n     <use style=\"fill:#1f77b4;stroke:#1f77b4;\" x=\"77.999818\" xlink:href=\"#md222d8b101\" y=\"133.825584\"/>\r\n     <use style=\"fill:#1f77b4;stroke:#1f77b4;\" x=\"78.608545\" xlink:href=\"#md222d8b101\" y=\"124.99322\"/>\r\n     <use style=\"fill:#1f77b4;stroke:#1f77b4;\" x=\"79.217273\" xlink:href=\"#md222d8b101\" y=\"318.534545\"/>\r\n     <use style=\"fill:#1f77b4;stroke:#1f77b4;\" x=\"79.826\" xlink:href=\"#md222d8b101\" y=\"234.167192\"/>\r\n     <use style=\"fill:#1f77b4;stroke:#1f77b4;\" x=\"80.434727\" xlink:href=\"#md222d8b101\" y=\"185.962973\"/>\r\n     <use style=\"fill:#1f77b4;stroke:#1f77b4;\" x=\"81.043455\" xlink:href=\"#md222d8b101\" y=\"187.326332\"/>\r\n     <use style=\"fill:#1f77b4;stroke:#1f77b4;\" x=\"81.652182\" xlink:href=\"#md222d8b101\" y=\"187.411001\"/>\r\n     <use style=\"fill:#1f77b4;stroke:#1f77b4;\" x=\"82.260909\" xlink:href=\"#md222d8b101\" y=\"246.918565\"/>\r\n     <use style=\"fill:#1f77b4;stroke:#1f77b4;\" x=\"82.869636\" xlink:href=\"#md222d8b101\" y=\"155.03684\"/>\r\n     <use style=\"fill:#1f77b4;stroke:#1f77b4;\" x=\"83.478364\" xlink:href=\"#md222d8b101\" y=\"149.37303\"/>\r\n     <use style=\"fill:#1f77b4;stroke:#1f77b4;\" x=\"84.087091\" xlink:href=\"#md222d8b101\" y=\"159.274872\"/>\r\n     <use style=\"fill:#1f77b4;stroke:#1f77b4;\" x=\"84.695818\" xlink:href=\"#md222d8b101\" y=\"150.509838\"/>\r\n     <use style=\"fill:#1f77b4;stroke:#1f77b4;\" x=\"85.304545\" xlink:href=\"#md222d8b101\" y=\"160.612802\"/>\r\n     <use style=\"fill:#1f77b4;stroke:#1f77b4;\" x=\"85.913273\" xlink:href=\"#md222d8b101\" y=\"169.438231\"/>\r\n     <use style=\"fill:#1f77b4;stroke:#1f77b4;\" x=\"86.522\" xlink:href=\"#md222d8b101\" y=\"200.799553\"/>\r\n     <use style=\"fill:#1f77b4;stroke:#1f77b4;\" x=\"87.130727\" xlink:href=\"#md222d8b101\" y=\"168.046263\"/>\r\n     <use style=\"fill:#1f77b4;stroke:#1f77b4;\" x=\"87.739455\" xlink:href=\"#md222d8b101\" y=\"250.821103\"/>\r\n     <use style=\"fill:#1f77b4;stroke:#1f77b4;\" x=\"88.348182\" xlink:href=\"#md222d8b101\" y=\"156.395287\"/>\r\n     <use style=\"fill:#1f77b4;stroke:#1f77b4;\" x=\"88.956909\" xlink:href=\"#md222d8b101\" y=\"132.740503\"/>\r\n     <use style=\"fill:#1f77b4;stroke:#1f77b4;\" x=\"89.565636\" xlink:href=\"#md222d8b101\" y=\"176.343744\"/>\r\n     <use style=\"fill:#1f77b4;stroke:#1f77b4;\" x=\"90.174364\" xlink:href=\"#md222d8b101\" y=\"178.213957\"/>\r\n     <use style=\"fill:#1f77b4;stroke:#1f77b4;\" x=\"90.783091\" xlink:href=\"#md222d8b101\" y=\"183.544584\"/>\r\n     <use style=\"fill:#1f77b4;stroke:#1f77b4;\" x=\"91.391818\" xlink:href=\"#md222d8b101\" y=\"174.344939\"/>\r\n     <use style=\"fill:#1f77b4;stroke:#1f77b4;\" x=\"92.000545\" xlink:href=\"#md222d8b101\" y=\"170.788587\"/>\r\n     <use style=\"fill:#1f77b4;stroke:#1f77b4;\" x=\"92.609273\" xlink:href=\"#md222d8b101\" y=\"132.866204\"/>\r\n     <use style=\"fill:#1f77b4;stroke:#1f77b4;\" x=\"93.218\" xlink:href=\"#md222d8b101\" y=\"54.038403\"/>\r\n     <use style=\"fill:#1f77b4;stroke:#1f77b4;\" x=\"93.826727\" xlink:href=\"#md222d8b101\" y=\"166.323136\"/>\r\n     <use style=\"fill:#1f77b4;stroke:#1f77b4;\" x=\"94.435455\" xlink:href=\"#md222d8b101\" y=\"229.876567\"/>\r\n     <use style=\"fill:#1f77b4;stroke:#1f77b4;\" x=\"95.044182\" xlink:href=\"#md222d8b101\" y=\"157.744776\"/>\r\n     <use style=\"fill:#1f77b4;stroke:#1f77b4;\" x=\"95.652909\" xlink:href=\"#md222d8b101\" y=\"211.35331\"/>\r\n     <use style=\"fill:#1f77b4;stroke:#1f77b4;\" x=\"96.261636\" xlink:href=\"#md222d8b101\" y=\"104.948248\"/>\r\n     <use style=\"fill:#1f77b4;stroke:#1f77b4;\" x=\"96.870364\" xlink:href=\"#md222d8b101\" y=\"138.623929\"/>\r\n     <use style=\"fill:#1f77b4;stroke:#1f77b4;\" x=\"97.479091\" xlink:href=\"#md222d8b101\" y=\"230.687417\"/>\r\n     <use style=\"fill:#1f77b4;stroke:#1f77b4;\" x=\"98.087818\" xlink:href=\"#md222d8b101\" y=\"194.088227\"/>\r\n     <use style=\"fill:#1f77b4;stroke:#1f77b4;\" x=\"98.696545\" xlink:href=\"#md222d8b101\" y=\"193.671244\"/>\r\n     <use style=\"fill:#1f77b4;stroke:#1f77b4;\" x=\"99.305273\" xlink:href=\"#md222d8b101\" y=\"98.093304\"/>\r\n     <use style=\"fill:#1f77b4;stroke:#1f77b4;\" x=\"99.914\" xlink:href=\"#md222d8b101\" y=\"206.122088\"/>\r\n     <use style=\"fill:#1f77b4;stroke:#1f77b4;\" x=\"100.522727\" xlink:href=\"#md222d8b101\" y=\"261.72856\"/>\r\n     <use style=\"fill:#1f77b4;stroke:#1f77b4;\" x=\"101.131455\" xlink:href=\"#md222d8b101\" y=\"241.007976\"/>\r\n     <use style=\"fill:#1f77b4;stroke:#1f77b4;\" x=\"101.740182\" xlink:href=\"#md222d8b101\" y=\"152.848182\"/>\r\n     <use style=\"fill:#1f77b4;stroke:#1f77b4;\" x=\"102.348909\" xlink:href=\"#md222d8b101\" y=\"72.398393\"/>\r\n     <use style=\"fill:#1f77b4;stroke:#1f77b4;\" x=\"102.957636\" xlink:href=\"#md222d8b101\" y=\"167.147856\"/>\r\n     <use style=\"fill:#1f77b4;stroke:#1f77b4;\" x=\"103.566364\" xlink:href=\"#md222d8b101\" y=\"206.282178\"/>\r\n     <use style=\"fill:#1f77b4;stroke:#1f77b4;\" x=\"104.175091\" xlink:href=\"#md222d8b101\" y=\"154.279449\"/>\r\n     <use style=\"fill:#1f77b4;stroke:#1f77b4;\" x=\"104.783818\" xlink:href=\"#md222d8b101\" y=\"187.47573\"/>\r\n     <use style=\"fill:#1f77b4;stroke:#1f77b4;\" x=\"105.392545\" xlink:href=\"#md222d8b101\" y=\"148.870223\"/>\r\n     <use style=\"fill:#1f77b4;stroke:#1f77b4;\" x=\"106.001273\" xlink:href=\"#md222d8b101\" y=\"192.60639\"/>\r\n     <use style=\"fill:#1f77b4;stroke:#1f77b4;\" x=\"106.61\" xlink:href=\"#md222d8b101\" y=\"149.891442\"/>\r\n     <use style=\"fill:#1f77b4;stroke:#1f77b4;\" x=\"107.218727\" xlink:href=\"#md222d8b101\" y=\"169.465394\"/>\r\n     <use style=\"fill:#1f77b4;stroke:#1f77b4;\" x=\"107.827455\" xlink:href=\"#md222d8b101\" y=\"148.434167\"/>\r\n     <use style=\"fill:#1f77b4;stroke:#1f77b4;\" x=\"108.436182\" xlink:href=\"#md222d8b101\" y=\"133.07773\"/>\r\n     <use style=\"fill:#1f77b4;stroke:#1f77b4;\" x=\"109.044909\" xlink:href=\"#md222d8b101\" y=\"191.992329\"/>\r\n     <use style=\"fill:#1f77b4;stroke:#1f77b4;\" x=\"109.653636\" xlink:href=\"#md222d8b101\" y=\"151.396397\"/>\r\n     <use style=\"fill:#1f77b4;stroke:#1f77b4;\" x=\"110.262364\" xlink:href=\"#md222d8b101\" y=\"153.012895\"/>\r\n     <use style=\"fill:#1f77b4;stroke:#1f77b4;\" x=\"110.871091\" xlink:href=\"#md222d8b101\" y=\"138.104361\"/>\r\n     <use style=\"fill:#1f77b4;stroke:#1f77b4;\" x=\"111.479818\" xlink:href=\"#md222d8b101\" y=\"164.599719\"/>\r\n     <use style=\"fill:#1f77b4;stroke:#1f77b4;\" x=\"112.088545\" xlink:href=\"#md222d8b101\" y=\"238.286169\"/>\r\n     <use style=\"fill:#1f77b4;stroke:#1f77b4;\" x=\"112.697273\" xlink:href=\"#md222d8b101\" y=\"242.139871\"/>\r\n     <use style=\"fill:#1f77b4;stroke:#1f77b4;\" x=\"113.306\" xlink:href=\"#md222d8b101\" y=\"209.050509\"/>\r\n     <use style=\"fill:#1f77b4;stroke:#1f77b4;\" x=\"113.914727\" xlink:href=\"#md222d8b101\" y=\"171.436168\"/>\r\n     <use style=\"fill:#1f77b4;stroke:#1f77b4;\" x=\"114.523455\" xlink:href=\"#md222d8b101\" y=\"142.789719\"/>\r\n     <use style=\"fill:#1f77b4;stroke:#1f77b4;\" x=\"115.132182\" xlink:href=\"#md222d8b101\" y=\"141.033938\"/>\r\n     <use style=\"fill:#1f77b4;stroke:#1f77b4;\" x=\"115.740909\" xlink:href=\"#md222d8b101\" y=\"142.918021\"/>\r\n     <use style=\"fill:#1f77b4;stroke:#1f77b4;\" x=\"116.349636\" xlink:href=\"#md222d8b101\" y=\"190.319193\"/>\r\n     <use style=\"fill:#1f77b4;stroke:#1f77b4;\" x=\"116.958364\" xlink:href=\"#md222d8b101\" y=\"190.822001\"/>\r\n     <use style=\"fill:#1f77b4;stroke:#1f77b4;\" x=\"117.567091\" xlink:href=\"#md222d8b101\" y=\"197.985275\"/>\r\n     <use style=\"fill:#1f77b4;stroke:#1f77b4;\" x=\"118.175818\" xlink:href=\"#md222d8b101\" y=\"131.793837\"/>\r\n     <use style=\"fill:#1f77b4;stroke:#1f77b4;\" x=\"118.784545\" xlink:href=\"#md222d8b101\" y=\"152.807726\"/>\r\n     <use style=\"fill:#1f77b4;stroke:#1f77b4;\" x=\"119.393273\" xlink:href=\"#md222d8b101\" y=\"163.101989\"/>\r\n     <use style=\"fill:#1f77b4;stroke:#1f77b4;\" x=\"120.002\" xlink:href=\"#md222d8b101\" y=\"220.493138\"/>\r\n     <use style=\"fill:#1f77b4;stroke:#1f77b4;\" x=\"120.610727\" xlink:href=\"#md222d8b101\" y=\"96.258635\"/>\r\n     <use style=\"fill:#1f77b4;stroke:#1f77b4;\" x=\"121.219455\" xlink:href=\"#md222d8b101\" y=\"135.269278\"/>\r\n     <use style=\"fill:#1f77b4;stroke:#1f77b4;\" x=\"121.828182\" xlink:href=\"#md222d8b101\" y=\"215.527769\"/>\r\n     <use style=\"fill:#1f77b4;stroke:#1f77b4;\" x=\"122.436909\" xlink:href=\"#md222d8b101\" y=\"173.300602\"/>\r\n     <use style=\"fill:#1f77b4;stroke:#1f77b4;\" x=\"123.045636\" xlink:href=\"#md222d8b101\" y=\"165.984752\"/>\r\n     <use style=\"fill:#1f77b4;stroke:#1f77b4;\" x=\"123.654364\" xlink:href=\"#md222d8b101\" y=\"91.979858\"/>\r\n     <use style=\"fill:#1f77b4;stroke:#1f77b4;\" x=\"124.263091\" xlink:href=\"#md222d8b101\" y=\"142.805901\"/>\r\n     <use style=\"fill:#1f77b4;stroke:#1f77b4;\" x=\"124.871818\" xlink:href=\"#md222d8b101\" y=\"205.473929\"/>\r\n     <use style=\"fill:#1f77b4;stroke:#1f77b4;\" x=\"125.480545\" xlink:href=\"#md222d8b101\" y=\"114.508527\"/>\r\n     <use style=\"fill:#1f77b4;stroke:#1f77b4;\" x=\"126.089273\" xlink:href=\"#md222d8b101\" y=\"206.891326\"/>\r\n     <use style=\"fill:#1f77b4;stroke:#1f77b4;\" x=\"126.698\" xlink:href=\"#md222d8b101\" y=\"212.995237\"/>\r\n     <use style=\"fill:#1f77b4;stroke:#1f77b4;\" x=\"127.306727\" xlink:href=\"#md222d8b101\" y=\"150.431527\"/>\r\n     <use style=\"fill:#1f77b4;stroke:#1f77b4;\" x=\"127.915455\" xlink:href=\"#md222d8b101\" y=\"72.691986\"/>\r\n     <use style=\"fill:#1f77b4;stroke:#1f77b4;\" x=\"128.524182\" xlink:href=\"#md222d8b101\" y=\"168.810588\"/>\r\n     <use style=\"fill:#1f77b4;stroke:#1f77b4;\" x=\"129.132909\" xlink:href=\"#md222d8b101\" y=\"166.497962\"/>\r\n     <use style=\"fill:#1f77b4;stroke:#1f77b4;\" x=\"129.741636\" xlink:href=\"#md222d8b101\" y=\"113.154125\"/>\r\n     <use style=\"fill:#1f77b4;stroke:#1f77b4;\" x=\"130.350364\" xlink:href=\"#md222d8b101\" y=\"66.271365\"/>\r\n     <use style=\"fill:#1f77b4;stroke:#1f77b4;\" x=\"130.959091\" xlink:href=\"#md222d8b101\" y=\"223.636263\"/>\r\n     <use style=\"fill:#1f77b4;stroke:#1f77b4;\" x=\"131.567818\" xlink:href=\"#md222d8b101\" y=\"134.310187\"/>\r\n     <use style=\"fill:#1f77b4;stroke:#1f77b4;\" x=\"132.176545\" xlink:href=\"#md222d8b101\" y=\"150.777135\"/>\r\n     <use style=\"fill:#1f77b4;stroke:#1f77b4;\" x=\"132.785273\" xlink:href=\"#md222d8b101\" y=\"194.273746\"/>\r\n     <use style=\"fill:#1f77b4;stroke:#1f77b4;\" x=\"133.394\" xlink:href=\"#md222d8b101\" y=\"190.050451\"/>\r\n     <use style=\"fill:#1f77b4;stroke:#1f77b4;\" x=\"134.002727\" xlink:href=\"#md222d8b101\" y=\"172.303367\"/>\r\n     <use style=\"fill:#1f77b4;stroke:#1f77b4;\" x=\"134.611455\" xlink:href=\"#md222d8b101\" y=\"171.440214\"/>\r\n     <use style=\"fill:#1f77b4;stroke:#1f77b4;\" x=\"135.220182\" xlink:href=\"#md222d8b101\" y=\"261.696773\"/>\r\n     <use style=\"fill:#1f77b4;stroke:#1f77b4;\" x=\"135.828909\" xlink:href=\"#md222d8b101\" y=\"162.797703\"/>\r\n     <use style=\"fill:#1f77b4;stroke:#1f77b4;\" x=\"136.437636\" xlink:href=\"#md222d8b101\" y=\"242.584306\"/>\r\n     <use style=\"fill:#1f77b4;stroke:#1f77b4;\" x=\"137.046364\" xlink:href=\"#md222d8b101\" y=\"224.540739\"/>\r\n     <use style=\"fill:#1f77b4;stroke:#1f77b4;\" x=\"137.655091\" xlink:href=\"#md222d8b101\" y=\"237.765156\"/>\r\n     <use style=\"fill:#1f77b4;stroke:#1f77b4;\" x=\"138.263818\" xlink:href=\"#md222d8b101\" y=\"189.280347\"/>\r\n     <use style=\"fill:#1f77b4;stroke:#1f77b4;\" x=\"138.872545\" xlink:href=\"#md222d8b101\" y=\"156.193586\"/>\r\n     <use style=\"fill:#1f77b4;stroke:#1f77b4;\" x=\"139.481273\" xlink:href=\"#md222d8b101\" y=\"174.242933\"/>\r\n     <use style=\"fill:#1f77b4;stroke:#1f77b4;\" x=\"140.09\" xlink:href=\"#md222d8b101\" y=\"173.057\"/>\r\n     <use style=\"fill:#1f77b4;stroke:#1f77b4;\" x=\"140.698727\" xlink:href=\"#md222d8b101\" y=\"212.758859\"/>\r\n     <use style=\"fill:#1f77b4;stroke:#1f77b4;\" x=\"141.307455\" xlink:href=\"#md222d8b101\" y=\"200.310327\"/>\r\n     <use style=\"fill:#1f77b4;stroke:#1f77b4;\" x=\"141.916182\" xlink:href=\"#md222d8b101\" y=\"205.764344\"/>\r\n     <use style=\"fill:#1f77b4;stroke:#1f77b4;\" x=\"142.524909\" xlink:href=\"#md222d8b101\" y=\"209.605909\"/>\r\n     <use style=\"fill:#1f77b4;stroke:#1f77b4;\" x=\"143.133636\" xlink:href=\"#md222d8b101\" y=\"189.032988\"/>\r\n     <use style=\"fill:#1f77b4;stroke:#1f77b4;\" x=\"143.742364\" xlink:href=\"#md222d8b101\" y=\"131.400838\"/>\r\n     <use style=\"fill:#1f77b4;stroke:#1f77b4;\" x=\"144.351091\" xlink:href=\"#md222d8b101\" y=\"113.871926\"/>\r\n     <use style=\"fill:#1f77b4;stroke:#1f77b4;\" x=\"144.959818\" xlink:href=\"#md222d8b101\" y=\"151.514875\"/>\r\n     <use style=\"fill:#1f77b4;stroke:#1f77b4;\" x=\"145.568545\" xlink:href=\"#md222d8b101\" y=\"186.67615\"/>\r\n     <use style=\"fill:#1f77b4;stroke:#1f77b4;\" x=\"146.177273\" xlink:href=\"#md222d8b101\" y=\"245.187058\"/>\r\n     <use style=\"fill:#1f77b4;stroke:#1f77b4;\" x=\"146.786\" xlink:href=\"#md222d8b101\" y=\"142.376781\"/>\r\n     <use style=\"fill:#1f77b4;stroke:#1f77b4;\" x=\"147.394727\" xlink:href=\"#md222d8b101\" y=\"121.261464\"/>\r\n     <use style=\"fill:#1f77b4;stroke:#1f77b4;\" x=\"148.003455\" xlink:href=\"#md222d8b101\" y=\"104.825724\"/>\r\n     <use style=\"fill:#1f77b4;stroke:#1f77b4;\" x=\"148.612182\" xlink:href=\"#md222d8b101\" y=\"212.903055\"/>\r\n     <use style=\"fill:#1f77b4;stroke:#1f77b4;\" x=\"149.220909\" xlink:href=\"#md222d8b101\" y=\"188.218671\"/>\r\n     <use style=\"fill:#1f77b4;stroke:#1f77b4;\" x=\"149.829636\" xlink:href=\"#md222d8b101\" y=\"152.36618\"/>\r\n     <use style=\"fill:#1f77b4;stroke:#1f77b4;\" x=\"150.438364\" xlink:href=\"#md222d8b101\" y=\"170.178572\"/>\r\n     <use style=\"fill:#1f77b4;stroke:#1f77b4;\" x=\"151.047091\" xlink:href=\"#md222d8b101\" y=\"156.415515\"/>\r\n     <use style=\"fill:#1f77b4;stroke:#1f77b4;\" x=\"151.655818\" xlink:href=\"#md222d8b101\" y=\"115.379193\"/>\r\n     <use style=\"fill:#1f77b4;stroke:#1f77b4;\" x=\"152.264545\" xlink:href=\"#md222d8b101\" y=\"174.994254\"/>\r\n     <use style=\"fill:#1f77b4;stroke:#1f77b4;\" x=\"152.873273\" xlink:href=\"#md222d8b101\" y=\"186.296733\"/>\r\n     <use style=\"fill:#1f77b4;stroke:#1f77b4;\" x=\"153.482\" xlink:href=\"#md222d8b101\" y=\"91.297311\"/>\r\n     <use style=\"fill:#1f77b4;stroke:#1f77b4;\" x=\"154.090727\" xlink:href=\"#md222d8b101\" y=\"140.469869\"/>\r\n     <use style=\"fill:#1f77b4;stroke:#1f77b4;\" x=\"154.699455\" xlink:href=\"#md222d8b101\" y=\"269.683611\"/>\r\n     <use style=\"fill:#1f77b4;stroke:#1f77b4;\" x=\"155.308182\" xlink:href=\"#md222d8b101\" y=\"164.541347\"/>\r\n     <use style=\"fill:#1f77b4;stroke:#1f77b4;\" x=\"155.916909\" xlink:href=\"#md222d8b101\" y=\"162.447472\"/>\r\n     <use style=\"fill:#1f77b4;stroke:#1f77b4;\" x=\"156.525636\" xlink:href=\"#md222d8b101\" y=\"142.378514\"/>\r\n     <use style=\"fill:#1f77b4;stroke:#1f77b4;\" x=\"157.134364\" xlink:href=\"#md222d8b101\" y=\"142.404811\"/>\r\n     <use style=\"fill:#1f77b4;stroke:#1f77b4;\" x=\"157.743091\" xlink:href=\"#md222d8b101\" y=\"203.056696\"/>\r\n     <use style=\"fill:#1f77b4;stroke:#1f77b4;\" x=\"158.351818\" xlink:href=\"#md222d8b101\" y=\"133.070506\"/>\r\n     <use style=\"fill:#1f77b4;stroke:#1f77b4;\" x=\"158.960545\" xlink:href=\"#md222d8b101\" y=\"207.600747\"/>\r\n     <use style=\"fill:#1f77b4;stroke:#1f77b4;\" x=\"159.569273\" xlink:href=\"#md222d8b101\" y=\"173.001807\"/>\r\n     <use style=\"fill:#1f77b4;stroke:#1f77b4;\" x=\"160.178\" xlink:href=\"#md222d8b101\" y=\"187.814114\"/>\r\n     <use style=\"fill:#1f77b4;stroke:#1f77b4;\" x=\"160.786727\" xlink:href=\"#md222d8b101\" y=\"125.024429\"/>\r\n     <use style=\"fill:#1f77b4;stroke:#1f77b4;\" x=\"161.395455\" xlink:href=\"#md222d8b101\" y=\"91.868605\"/>\r\n     <use style=\"fill:#1f77b4;stroke:#1f77b4;\" x=\"162.004182\" xlink:href=\"#md222d8b101\" y=\"182.421936\"/>\r\n     <use style=\"fill:#1f77b4;stroke:#1f77b4;\" x=\"162.612909\" xlink:href=\"#md222d8b101\" y=\"205.087287\"/>\r\n     <use style=\"fill:#1f77b4;stroke:#1f77b4;\" x=\"163.221636\" xlink:href=\"#md222d8b101\" y=\"126.64844\"/>\r\n     <use style=\"fill:#1f77b4;stroke:#1f77b4;\" x=\"163.830364\" xlink:href=\"#md222d8b101\" y=\"205.177446\"/>\r\n     <use style=\"fill:#1f77b4;stroke:#1f77b4;\" x=\"164.439091\" xlink:href=\"#md222d8b101\" y=\"117.858554\"/>\r\n     <use style=\"fill:#1f77b4;stroke:#1f77b4;\" x=\"165.047818\" xlink:href=\"#md222d8b101\" y=\"277.649355\"/>\r\n     <use style=\"fill:#1f77b4;stroke:#1f77b4;\" x=\"165.656545\" xlink:href=\"#md222d8b101\" y=\"181.386557\"/>\r\n     <use style=\"fill:#1f77b4;stroke:#1f77b4;\" x=\"166.265273\" xlink:href=\"#md222d8b101\" y=\"131.790659\"/>\r\n     <use style=\"fill:#1f77b4;stroke:#1f77b4;\" x=\"166.874\" xlink:href=\"#md222d8b101\" y=\"184.910255\"/>\r\n     <use style=\"fill:#1f77b4;stroke:#1f77b4;\" x=\"167.482727\" xlink:href=\"#md222d8b101\" y=\"179.207146\"/>\r\n     <use style=\"fill:#1f77b4;stroke:#1f77b4;\" x=\"168.091455\" xlink:href=\"#md222d8b101\" y=\"160.302448\"/>\r\n     <use style=\"fill:#1f77b4;stroke:#1f77b4;\" x=\"168.700182\" xlink:href=\"#md222d8b101\" y=\"214.522731\"/>\r\n     <use style=\"fill:#1f77b4;stroke:#1f77b4;\" x=\"169.308909\" xlink:href=\"#md222d8b101\" y=\"193.236055\"/>\r\n     <use style=\"fill:#1f77b4;stroke:#1f77b4;\" x=\"169.917636\" xlink:href=\"#md222d8b101\" y=\"70.887369\"/>\r\n     <use style=\"fill:#1f77b4;stroke:#1f77b4;\" x=\"170.526364\" xlink:href=\"#md222d8b101\" y=\"161.728515\"/>\r\n     <use style=\"fill:#1f77b4;stroke:#1f77b4;\" x=\"171.135091\" xlink:href=\"#md222d8b101\" y=\"127.294576\"/>\r\n     <use style=\"fill:#1f77b4;stroke:#1f77b4;\" x=\"171.743818\" xlink:href=\"#md222d8b101\" y=\"146.617413\"/>\r\n     <use style=\"fill:#1f77b4;stroke:#1f77b4;\" x=\"172.352545\" xlink:href=\"#md222d8b101\" y=\"138.858862\"/>\r\n     <use style=\"fill:#1f77b4;stroke:#1f77b4;\" x=\"172.961273\" xlink:href=\"#md222d8b101\" y=\"152.859452\"/>\r\n     <use style=\"fill:#1f77b4;stroke:#1f77b4;\" x=\"173.57\" xlink:href=\"#md222d8b101\" y=\"191.123974\"/>\r\n     <use style=\"fill:#1f77b4;stroke:#1f77b4;\" x=\"174.178727\" xlink:href=\"#md222d8b101\" y=\"70.418082\"/>\r\n     <use style=\"fill:#1f77b4;stroke:#1f77b4;\" x=\"174.787455\" xlink:href=\"#md222d8b101\" y=\"141.453811\"/>\r\n     <use style=\"fill:#1f77b4;stroke:#1f77b4;\" x=\"175.396182\" xlink:href=\"#md222d8b101\" y=\"161.816362\"/>\r\n     <use style=\"fill:#1f77b4;stroke:#1f77b4;\" x=\"176.004909\" xlink:href=\"#md222d8b101\" y=\"168.427703\"/>\r\n     <use style=\"fill:#1f77b4;stroke:#1f77b4;\" x=\"176.613636\" xlink:href=\"#md222d8b101\" y=\"115.199165\"/>\r\n     <use style=\"fill:#1f77b4;stroke:#1f77b4;\" x=\"177.222364\" xlink:href=\"#md222d8b101\" y=\"125.587631\"/>\r\n     <use style=\"fill:#1f77b4;stroke:#1f77b4;\" x=\"177.831091\" xlink:href=\"#md222d8b101\" y=\"90.7422\"/>\r\n     <use style=\"fill:#1f77b4;stroke:#1f77b4;\" x=\"178.439818\" xlink:href=\"#md222d8b101\" y=\"153.469756\"/>\r\n     <use style=\"fill:#1f77b4;stroke:#1f77b4;\" x=\"179.048545\" xlink:href=\"#md222d8b101\" y=\"198.896397\"/>\r\n     <use style=\"fill:#1f77b4;stroke:#1f77b4;\" x=\"179.657273\" xlink:href=\"#md222d8b101\" y=\"187.393951\"/>\r\n     <use style=\"fill:#1f77b4;stroke:#1f77b4;\" x=\"180.266\" xlink:href=\"#md222d8b101\" y=\"175.496773\"/>\r\n     <use style=\"fill:#1f77b4;stroke:#1f77b4;\" x=\"180.874727\" xlink:href=\"#md222d8b101\" y=\"149.83018\"/>\r\n     <use style=\"fill:#1f77b4;stroke:#1f77b4;\" x=\"181.483455\" xlink:href=\"#md222d8b101\" y=\"139.542564\"/>\r\n     <use style=\"fill:#1f77b4;stroke:#1f77b4;\" x=\"182.092182\" xlink:href=\"#md222d8b101\" y=\"164.931746\"/>\r\n     <use style=\"fill:#1f77b4;stroke:#1f77b4;\" x=\"182.700909\" xlink:href=\"#md222d8b101\" y=\"111.875144\"/>\r\n     <use style=\"fill:#1f77b4;stroke:#1f77b4;\" x=\"183.309636\" xlink:href=\"#md222d8b101\" y=\"120.853727\"/>\r\n     <use style=\"fill:#1f77b4;stroke:#1f77b4;\" x=\"183.918364\" xlink:href=\"#md222d8b101\" y=\"173.182991\"/>\r\n     <use style=\"fill:#1f77b4;stroke:#1f77b4;\" x=\"184.527091\" xlink:href=\"#md222d8b101\" y=\"174.132835\"/>\r\n     <use style=\"fill:#1f77b4;stroke:#1f77b4;\" x=\"185.135818\" xlink:href=\"#md222d8b101\" y=\"198.916336\"/>\r\n     <use style=\"fill:#1f77b4;stroke:#1f77b4;\" x=\"185.744545\" xlink:href=\"#md222d8b101\" y=\"200.97987\"/>\r\n     <use style=\"fill:#1f77b4;stroke:#1f77b4;\" x=\"186.353273\" xlink:href=\"#md222d8b101\" y=\"107.900075\"/>\r\n     <use style=\"fill:#1f77b4;stroke:#1f77b4;\" x=\"186.962\" xlink:href=\"#md222d8b101\" y=\"232.145848\"/>\r\n     <use style=\"fill:#1f77b4;stroke:#1f77b4;\" x=\"187.570727\" xlink:href=\"#md222d8b101\" y=\"148.403536\"/>\r\n     <use style=\"fill:#1f77b4;stroke:#1f77b4;\" x=\"188.179455\" xlink:href=\"#md222d8b101\" y=\"186.964542\"/>\r\n     <use style=\"fill:#1f77b4;stroke:#1f77b4;\" x=\"188.788182\" xlink:href=\"#md222d8b101\" y=\"226.868391\"/>\r\n     <use style=\"fill:#1f77b4;stroke:#1f77b4;\" x=\"189.396909\" xlink:href=\"#md222d8b101\" y=\"242.199976\"/>\r\n     <use style=\"fill:#1f77b4;stroke:#1f77b4;\" x=\"190.005636\" xlink:href=\"#md222d8b101\" y=\"176.110834\"/>\r\n     <use style=\"fill:#1f77b4;stroke:#1f77b4;\" x=\"190.614364\" xlink:href=\"#md222d8b101\" y=\"170.293582\"/>\r\n     <use style=\"fill:#1f77b4;stroke:#1f77b4;\" x=\"191.223091\" xlink:href=\"#md222d8b101\" y=\"256.074287\"/>\r\n     <use style=\"fill:#1f77b4;stroke:#1f77b4;\" x=\"191.831818\" xlink:href=\"#md222d8b101\" y=\"105.518385\"/>\r\n     <use style=\"fill:#1f77b4;stroke:#1f77b4;\" x=\"192.440545\" xlink:href=\"#md222d8b101\" y=\"163.956472\"/>\r\n     <use style=\"fill:#1f77b4;stroke:#1f77b4;\" x=\"193.049273\" xlink:href=\"#md222d8b101\" y=\"223.628461\"/>\r\n     <use style=\"fill:#1f77b4;stroke:#1f77b4;\" x=\"193.658\" xlink:href=\"#md222d8b101\" y=\"174.163755\"/>\r\n     <use style=\"fill:#1f77b4;stroke:#1f77b4;\" x=\"194.266727\" xlink:href=\"#md222d8b101\" y=\"226.453719\"/>\r\n     <use style=\"fill:#1f77b4;stroke:#1f77b4;\" x=\"194.875455\" xlink:href=\"#md222d8b101\" y=\"133.875576\"/>\r\n     <use style=\"fill:#1f77b4;stroke:#1f77b4;\" x=\"195.484182\" xlink:href=\"#md222d8b101\" y=\"192.921367\"/>\r\n     <use style=\"fill:#1f77b4;stroke:#1f77b4;\" x=\"196.092909\" xlink:href=\"#md222d8b101\" y=\"134.143451\"/>\r\n     <use style=\"fill:#1f77b4;stroke:#1f77b4;\" x=\"196.701636\" xlink:href=\"#md222d8b101\" y=\"121.049071\"/>\r\n     <use style=\"fill:#1f77b4;stroke:#1f77b4;\" x=\"197.310364\" xlink:href=\"#md222d8b101\" y=\"105.290099\"/>\r\n     <use style=\"fill:#1f77b4;stroke:#1f77b4;\" x=\"197.919091\" xlink:href=\"#md222d8b101\" y=\"142.71083\"/>\r\n     <use style=\"fill:#1f77b4;stroke:#1f77b4;\" x=\"198.527818\" xlink:href=\"#md222d8b101\" y=\"92.625706\"/>\r\n     <use style=\"fill:#1f77b4;stroke:#1f77b4;\" x=\"199.136545\" xlink:href=\"#md222d8b101\" y=\"185.303832\"/>\r\n     <use style=\"fill:#1f77b4;stroke:#1f77b4;\" x=\"199.745273\" xlink:href=\"#md222d8b101\" y=\"114.699247\"/>\r\n     <use style=\"fill:#1f77b4;stroke:#1f77b4;\" x=\"200.354\" xlink:href=\"#md222d8b101\" y=\"161.068508\"/>\r\n     <use style=\"fill:#1f77b4;stroke:#1f77b4;\" x=\"200.962727\" xlink:href=\"#md222d8b101\" y=\"124.371357\"/>\r\n     <use style=\"fill:#1f77b4;stroke:#1f77b4;\" x=\"201.571455\" xlink:href=\"#md222d8b101\" y=\"202.862219\"/>\r\n     <use style=\"fill:#1f77b4;stroke:#1f77b4;\" x=\"202.180182\" xlink:href=\"#md222d8b101\" y=\"159.528298\"/>\r\n     <use style=\"fill:#1f77b4;stroke:#1f77b4;\" x=\"202.788909\" xlink:href=\"#md222d8b101\" y=\"237.715453\"/>\r\n     <use style=\"fill:#1f77b4;stroke:#1f77b4;\" x=\"203.397636\" xlink:href=\"#md222d8b101\" y=\"234.329593\"/>\r\n     <use style=\"fill:#1f77b4;stroke:#1f77b4;\" x=\"204.006364\" xlink:href=\"#md222d8b101\" y=\"116.395211\"/>\r\n     <use style=\"fill:#1f77b4;stroke:#1f77b4;\" x=\"204.615091\" xlink:href=\"#md222d8b101\" y=\"151.236019\"/>\r\n     <use style=\"fill:#1f77b4;stroke:#1f77b4;\" x=\"205.223818\" xlink:href=\"#md222d8b101\" y=\"134.569393\"/>\r\n     <use style=\"fill:#1f77b4;stroke:#1f77b4;\" x=\"205.832545\" xlink:href=\"#md222d8b101\" y=\"103.350244\"/>\r\n     <use style=\"fill:#1f77b4;stroke:#1f77b4;\" x=\"206.441273\" xlink:href=\"#md222d8b101\" y=\"196.702249\"/>\r\n     <use style=\"fill:#1f77b4;stroke:#1f77b4;\" x=\"207.05\" xlink:href=\"#md222d8b101\" y=\"208.135342\"/>\r\n     <use style=\"fill:#1f77b4;stroke:#1f77b4;\" x=\"207.658727\" xlink:href=\"#md222d8b101\" y=\"110.91143\"/>\r\n     <use style=\"fill:#1f77b4;stroke:#1f77b4;\" x=\"208.267455\" xlink:href=\"#md222d8b101\" y=\"148.598591\"/>\r\n     <use style=\"fill:#1f77b4;stroke:#1f77b4;\" x=\"208.876182\" xlink:href=\"#md222d8b101\" y=\"87.984272\"/>\r\n     <use style=\"fill:#1f77b4;stroke:#1f77b4;\" x=\"209.484909\" xlink:href=\"#md222d8b101\" y=\"207.427365\"/>\r\n     <use style=\"fill:#1f77b4;stroke:#1f77b4;\" x=\"210.093636\" xlink:href=\"#md222d8b101\" y=\"154.997251\"/>\r\n     <use style=\"fill:#1f77b4;stroke:#1f77b4;\" x=\"210.702364\" xlink:href=\"#md222d8b101\" y=\"217.051218\"/>\r\n     <use style=\"fill:#1f77b4;stroke:#1f77b4;\" x=\"211.311091\" xlink:href=\"#md222d8b101\" y=\"165.412014\"/>\r\n     <use style=\"fill:#1f77b4;stroke:#1f77b4;\" x=\"211.919818\" xlink:href=\"#md222d8b101\" y=\"142.314363\"/>\r\n     <use style=\"fill:#1f77b4;stroke:#1f77b4;\" x=\"212.528545\" xlink:href=\"#md222d8b101\" y=\"192.590785\"/>\r\n     <use style=\"fill:#1f77b4;stroke:#1f77b4;\" x=\"213.137273\" xlink:href=\"#md222d8b101\" y=\"178.623138\"/>\r\n     <use style=\"fill:#1f77b4;stroke:#1f77b4;\" x=\"213.746\" xlink:href=\"#md222d8b101\" y=\"140.758838\"/>\r\n     <use style=\"fill:#1f77b4;stroke:#1f77b4;\" x=\"214.354727\" xlink:href=\"#md222d8b101\" y=\"128.500159\"/>\r\n     <use style=\"fill:#1f77b4;stroke:#1f77b4;\" x=\"214.963455\" xlink:href=\"#md222d8b101\" y=\"208.154125\"/>\r\n     <use style=\"fill:#1f77b4;stroke:#1f77b4;\" x=\"215.572182\" xlink:href=\"#md222d8b101\" y=\"136.792438\"/>\r\n     <use style=\"fill:#1f77b4;stroke:#1f77b4;\" x=\"216.180909\" xlink:href=\"#md222d8b101\" y=\"95.863613\"/>\r\n     <use style=\"fill:#1f77b4;stroke:#1f77b4;\" x=\"216.789636\" xlink:href=\"#md222d8b101\" y=\"129.295115\"/>\r\n     <use style=\"fill:#1f77b4;stroke:#1f77b4;\" x=\"217.398364\" xlink:href=\"#md222d8b101\" y=\"200.384303\"/>\r\n     <use style=\"fill:#1f77b4;stroke:#1f77b4;\" x=\"218.007091\" xlink:href=\"#md222d8b101\" y=\"125.658718\"/>\r\n     <use style=\"fill:#1f77b4;stroke:#1f77b4;\" x=\"218.615818\" xlink:href=\"#md222d8b101\" y=\"260.874943\"/>\r\n     <use style=\"fill:#1f77b4;stroke:#1f77b4;\" x=\"219.224545\" xlink:href=\"#md222d8b101\" y=\"68.041305\"/>\r\n     <use style=\"fill:#1f77b4;stroke:#1f77b4;\" x=\"219.833273\" xlink:href=\"#md222d8b101\" y=\"117.895254\"/>\r\n     <use style=\"fill:#1f77b4;stroke:#1f77b4;\" x=\"220.442\" xlink:href=\"#md222d8b101\" y=\"214.475918\"/>\r\n     <use style=\"fill:#1f77b4;stroke:#1f77b4;\" x=\"221.050727\" xlink:href=\"#md222d8b101\" y=\"197.89685\"/>\r\n     <use style=\"fill:#1f77b4;stroke:#1f77b4;\" x=\"221.659455\" xlink:href=\"#md222d8b101\" y=\"206.226696\"/>\r\n     <use style=\"fill:#1f77b4;stroke:#1f77b4;\" x=\"222.268182\" xlink:href=\"#md222d8b101\" y=\"232.873474\"/>\r\n     <use style=\"fill:#1f77b4;stroke:#1f77b4;\" x=\"222.876909\" xlink:href=\"#md222d8b101\" y=\"191.549916\"/>\r\n     <use style=\"fill:#1f77b4;stroke:#1f77b4;\" x=\"223.485636\" xlink:href=\"#md222d8b101\" y=\"187.961488\"/>\r\n     <use style=\"fill:#1f77b4;stroke:#1f77b4;\" x=\"224.094364\" xlink:href=\"#md222d8b101\" y=\"221.596714\"/>\r\n     <use style=\"fill:#1f77b4;stroke:#1f77b4;\" x=\"224.703091\" xlink:href=\"#md222d8b101\" y=\"156.934216\"/>\r\n     <use style=\"fill:#1f77b4;stroke:#1f77b4;\" x=\"225.311818\" xlink:href=\"#md222d8b101\" y=\"117.649918\"/>\r\n     <use style=\"fill:#1f77b4;stroke:#1f77b4;\" x=\"225.920545\" xlink:href=\"#md222d8b101\" y=\"210.481488\"/>\r\n     <use style=\"fill:#1f77b4;stroke:#1f77b4;\" x=\"226.529273\" xlink:href=\"#md222d8b101\" y=\"184.668677\"/>\r\n     <use style=\"fill:#1f77b4;stroke:#1f77b4;\" x=\"227.138\" xlink:href=\"#md222d8b101\" y=\"253.054263\"/>\r\n     <use style=\"fill:#1f77b4;stroke:#1f77b4;\" x=\"227.746727\" xlink:href=\"#md222d8b101\" y=\"259.748827\"/>\r\n     <use style=\"fill:#1f77b4;stroke:#1f77b4;\" x=\"228.355455\" xlink:href=\"#md222d8b101\" y=\"198.607138\"/>\r\n     <use style=\"fill:#1f77b4;stroke:#1f77b4;\" x=\"228.964182\" xlink:href=\"#md222d8b101\" y=\"175.477123\"/>\r\n     <use style=\"fill:#1f77b4;stroke:#1f77b4;\" x=\"229.572909\" xlink:href=\"#md222d8b101\" y=\"135.69782\"/>\r\n     <use style=\"fill:#1f77b4;stroke:#1f77b4;\" x=\"230.181636\" xlink:href=\"#md222d8b101\" y=\"200.819491\"/>\r\n     <use style=\"fill:#1f77b4;stroke:#1f77b4;\" x=\"230.790364\" xlink:href=\"#md222d8b101\" y=\"178.721388\"/>\r\n     <use style=\"fill:#1f77b4;stroke:#1f77b4;\" x=\"231.399091\" xlink:href=\"#md222d8b101\" y=\"91.451332\"/>\r\n     <use style=\"fill:#1f77b4;stroke:#1f77b4;\" x=\"232.007818\" xlink:href=\"#md222d8b101\" y=\"135.298753\"/>\r\n     <use style=\"fill:#1f77b4;stroke:#1f77b4;\" x=\"232.616545\" xlink:href=\"#md222d8b101\" y=\"176.452396\"/>\r\n     <use style=\"fill:#1f77b4;stroke:#1f77b4;\" x=\"233.225273\" xlink:href=\"#md222d8b101\" y=\"192.073818\"/>\r\n     <use style=\"fill:#1f77b4;stroke:#1f77b4;\" x=\"233.834\" xlink:href=\"#md222d8b101\" y=\"132.417434\"/>\r\n     <use style=\"fill:#1f77b4;stroke:#1f77b4;\" x=\"234.442727\" xlink:href=\"#md222d8b101\" y=\"181.102499\"/>\r\n     <use style=\"fill:#1f77b4;stroke:#1f77b4;\" x=\"235.051455\" xlink:href=\"#md222d8b101\" y=\"211.274999\"/>\r\n     <use style=\"fill:#1f77b4;stroke:#1f77b4;\" x=\"235.660182\" xlink:href=\"#md222d8b101\" y=\"161.249692\"/>\r\n     <use style=\"fill:#1f77b4;stroke:#1f77b4;\" x=\"236.268909\" xlink:href=\"#md222d8b101\" y=\"196.202331\"/>\r\n     <use style=\"fill:#1f77b4;stroke:#1f77b4;\" x=\"236.877636\" xlink:href=\"#md222d8b101\" y=\"127.096632\"/>\r\n     <use style=\"fill:#1f77b4;stroke:#1f77b4;\" x=\"237.486364\" xlink:href=\"#md222d8b101\" y=\"117.118791\"/>\r\n     <use style=\"fill:#1f77b4;stroke:#1f77b4;\" x=\"238.095091\" xlink:href=\"#md222d8b101\" y=\"117.620154\"/>\r\n     <use style=\"fill:#1f77b4;stroke:#1f77b4;\" x=\"238.703818\" xlink:href=\"#md222d8b101\" y=\"133.632264\"/>\r\n     <use style=\"fill:#1f77b4;stroke:#1f77b4;\" x=\"239.312545\" xlink:href=\"#md222d8b101\" y=\"76.493096\"/>\r\n     <use style=\"fill:#1f77b4;stroke:#1f77b4;\" x=\"239.921273\" xlink:href=\"#md222d8b101\" y=\"212.992925\"/>\r\n     <use style=\"fill:#1f77b4;stroke:#1f77b4;\" x=\"240.53\" xlink:href=\"#md222d8b101\" y=\"101.195685\"/>\r\n     <use style=\"fill:#1f77b4;stroke:#1f77b4;\" x=\"241.138727\" xlink:href=\"#md222d8b101\" y=\"187.055857\"/>\r\n     <use style=\"fill:#1f77b4;stroke:#1f77b4;\" x=\"241.747455\" xlink:href=\"#md222d8b101\" y=\"213.4966\"/>\r\n     <use style=\"fill:#1f77b4;stroke:#1f77b4;\" x=\"242.356182\" xlink:href=\"#md222d8b101\" y=\"186.834506\"/>\r\n     <use style=\"fill:#1f77b4;stroke:#1f77b4;\" x=\"242.964909\" xlink:href=\"#md222d8b101\" y=\"171.112522\"/>\r\n     <use style=\"fill:#1f77b4;stroke:#1f77b4;\" x=\"243.573636\" xlink:href=\"#md222d8b101\" y=\"162.882949\"/>\r\n     <use style=\"fill:#1f77b4;stroke:#1f77b4;\" x=\"244.182364\" xlink:href=\"#md222d8b101\" y=\"110.593563\"/>\r\n     <use style=\"fill:#1f77b4;stroke:#1f77b4;\" x=\"244.791091\" xlink:href=\"#md222d8b101\" y=\"213.383901\"/>\r\n     <use style=\"fill:#1f77b4;stroke:#1f77b4;\" x=\"245.399818\" xlink:href=\"#md222d8b101\" y=\"221.347044\"/>\r\n     <use style=\"fill:#1f77b4;stroke:#1f77b4;\" x=\"246.008545\" xlink:href=\"#md222d8b101\" y=\"213.218033\"/>\r\n     <use style=\"fill:#1f77b4;stroke:#1f77b4;\" x=\"246.617273\" xlink:href=\"#md222d8b101\" y=\"170.029752\"/>\r\n     <use style=\"fill:#1f77b4;stroke:#1f77b4;\" x=\"247.226\" xlink:href=\"#md222d8b101\" y=\"154.180044\"/>\r\n     <use style=\"fill:#1f77b4;stroke:#1f77b4;\" x=\"247.834727\" xlink:href=\"#md222d8b101\" y=\"163.821235\"/>\r\n     <use style=\"fill:#1f77b4;stroke:#1f77b4;\" x=\"248.443455\" xlink:href=\"#md222d8b101\" y=\"163.950693\"/>\r\n     <use style=\"fill:#1f77b4;stroke:#1f77b4;\" x=\"249.052182\" xlink:href=\"#md222d8b101\" y=\"200.548438\"/>\r\n     <use style=\"fill:#1f77b4;stroke:#1f77b4;\" x=\"249.660909\" xlink:href=\"#md222d8b101\" y=\"151.535103\"/>\r\n     <use style=\"fill:#1f77b4;stroke:#1f77b4;\" x=\"250.269636\" xlink:href=\"#md222d8b101\" y=\"90.590491\"/>\r\n     <use style=\"fill:#1f77b4;stroke:#1f77b4;\" x=\"250.878364\" xlink:href=\"#md222d8b101\" y=\"131.819845\"/>\r\n     <use style=\"fill:#1f77b4;stroke:#1f77b4;\" x=\"251.487091\" xlink:href=\"#md222d8b101\" y=\"174.571203\"/>\r\n     <use style=\"fill:#1f77b4;stroke:#1f77b4;\" x=\"252.095818\" xlink:href=\"#md222d8b101\" y=\"154.06041\"/>\r\n     <use style=\"fill:#1f77b4;stroke:#1f77b4;\" x=\"252.704545\" xlink:href=\"#md222d8b101\" y=\"132.7301\"/>\r\n     <use style=\"fill:#1f77b4;stroke:#1f77b4;\" x=\"253.313273\" xlink:href=\"#md222d8b101\" y=\"237.090411\"/>\r\n     <use style=\"fill:#1f77b4;stroke:#1f77b4;\" x=\"253.922\" xlink:href=\"#md222d8b101\" y=\"167.748624\"/>\r\n     <use style=\"fill:#1f77b4;stroke:#1f77b4;\" x=\"254.530727\" xlink:href=\"#md222d8b101\" y=\"163.349925\"/>\r\n     <use style=\"fill:#1f77b4;stroke:#1f77b4;\" x=\"255.139455\" xlink:href=\"#md222d8b101\" y=\"198.61783\"/>\r\n     <use style=\"fill:#1f77b4;stroke:#1f77b4;\" x=\"255.748182\" xlink:href=\"#md222d8b101\" y=\"192.442833\"/>\r\n     <use style=\"fill:#1f77b4;stroke:#1f77b4;\" x=\"256.356909\" xlink:href=\"#md222d8b101\" y=\"198.186687\"/>\r\n     <use style=\"fill:#1f77b4;stroke:#1f77b4;\" x=\"256.965636\" xlink:href=\"#md222d8b101\" y=\"162.633568\"/>\r\n     <use style=\"fill:#1f77b4;stroke:#1f77b4;\" x=\"257.574364\" xlink:href=\"#md222d8b101\" y=\"141.647132\"/>\r\n     <use style=\"fill:#1f77b4;stroke:#1f77b4;\" x=\"258.183091\" xlink:href=\"#md222d8b101\" y=\"98.841736\"/>\r\n     <use style=\"fill:#1f77b4;stroke:#1f77b4;\" x=\"258.791818\" xlink:href=\"#md222d8b101\" y=\"158.134596\"/>\r\n     <use style=\"fill:#1f77b4;stroke:#1f77b4;\" x=\"259.400545\" xlink:href=\"#md222d8b101\" y=\"140.132063\"/>\r\n     <use style=\"fill:#1f77b4;stroke:#1f77b4;\" x=\"260.009273\" xlink:href=\"#md222d8b101\" y=\"228.167022\"/>\r\n     <use style=\"fill:#1f77b4;stroke:#1f77b4;\" x=\"260.618\" xlink:href=\"#md222d8b101\" y=\"212.992347\"/>\r\n     <use style=\"fill:#1f77b4;stroke:#1f77b4;\" x=\"261.226727\" xlink:href=\"#md222d8b101\" y=\"76.313646\"/>\r\n     <use style=\"fill:#1f77b4;stroke:#1f77b4;\" x=\"261.835455\" xlink:href=\"#md222d8b101\" y=\"193.704186\"/>\r\n     <use style=\"fill:#1f77b4;stroke:#1f77b4;\" x=\"262.444182\" xlink:href=\"#md222d8b101\" y=\"175.145386\"/>\r\n     <use style=\"fill:#1f77b4;stroke:#1f77b4;\" x=\"263.052909\" xlink:href=\"#md222d8b101\" y=\"222.808076\"/>\r\n     <use style=\"fill:#1f77b4;stroke:#1f77b4;\" x=\"263.661636\" xlink:href=\"#md222d8b101\" y=\"81.897699\"/>\r\n     <use style=\"fill:#1f77b4;stroke:#1f77b4;\" x=\"264.270364\" xlink:href=\"#md222d8b101\" y=\"200.963687\"/>\r\n     <use style=\"fill:#1f77b4;stroke:#1f77b4;\" x=\"264.879091\" xlink:href=\"#md222d8b101\" y=\"215.213369\"/>\r\n     <use style=\"fill:#1f77b4;stroke:#1f77b4;\" x=\"265.487818\" xlink:href=\"#md222d8b101\" y=\"145.070847\"/>\r\n     <use style=\"fill:#1f77b4;stroke:#1f77b4;\" x=\"266.096545\" xlink:href=\"#md222d8b101\" y=\"116.212004\"/>\r\n     <use style=\"fill:#1f77b4;stroke:#1f77b4;\" x=\"266.705273\" xlink:href=\"#md222d8b101\" y=\"221.750157\"/>\r\n     <use style=\"fill:#1f77b4;stroke:#1f77b4;\" x=\"267.314\" xlink:href=\"#md222d8b101\" y=\"200.807644\"/>\r\n     <use style=\"fill:#1f77b4;stroke:#1f77b4;\" x=\"267.922727\" xlink:href=\"#md222d8b101\" y=\"163.624735\"/>\r\n     <use style=\"fill:#1f77b4;stroke:#1f77b4;\" x=\"268.531455\" xlink:href=\"#md222d8b101\" y=\"161.964025\"/>\r\n     <use style=\"fill:#1f77b4;stroke:#1f77b4;\" x=\"269.140182\" xlink:href=\"#md222d8b101\" y=\"222.204417\"/>\r\n     <use style=\"fill:#1f77b4;stroke:#1f77b4;\" x=\"269.748909\" xlink:href=\"#md222d8b101\" y=\"177.717217\"/>\r\n     <use style=\"fill:#1f77b4;stroke:#1f77b4;\" x=\"270.357636\" xlink:href=\"#md222d8b101\" y=\"142.6435\"/>\r\n     <use style=\"fill:#1f77b4;stroke:#1f77b4;\" x=\"270.966364\" xlink:href=\"#md222d8b101\" y=\"201.335303\"/>\r\n     <use style=\"fill:#1f77b4;stroke:#1f77b4;\" x=\"271.575091\" xlink:href=\"#md222d8b101\" y=\"140.698155\"/>\r\n     <use style=\"fill:#1f77b4;stroke:#1f77b4;\" x=\"272.183818\" xlink:href=\"#md222d8b101\" y=\"214.963988\"/>\r\n     <use style=\"fill:#1f77b4;stroke:#1f77b4;\" x=\"272.792545\" xlink:href=\"#md222d8b101\" y=\"104.165428\"/>\r\n     <use style=\"fill:#1f77b4;stroke:#1f77b4;\" x=\"273.401273\" xlink:href=\"#md222d8b101\" y=\"108.975043\"/>\r\n     <use style=\"fill:#1f77b4;stroke:#1f77b4;\" x=\"274.01\" xlink:href=\"#md222d8b101\" y=\"162.031644\"/>\r\n     <use style=\"fill:#1f77b4;stroke:#1f77b4;\" x=\"274.618727\" xlink:href=\"#md222d8b101\" y=\"149.475325\"/>\r\n     <use style=\"fill:#1f77b4;stroke:#1f77b4;\" x=\"275.227455\" xlink:href=\"#md222d8b101\" y=\"159.283541\"/>\r\n     <use style=\"fill:#1f77b4;stroke:#1f77b4;\" x=\"275.836182\" xlink:href=\"#md222d8b101\" y=\"186.546981\"/>\r\n     <use style=\"fill:#1f77b4;stroke:#1f77b4;\" x=\"276.444909\" xlink:href=\"#md222d8b101\" y=\"187.585249\"/>\r\n     <use style=\"fill:#1f77b4;stroke:#1f77b4;\" x=\"277.053636\" xlink:href=\"#md222d8b101\" y=\"127.683241\"/>\r\n     <use style=\"fill:#1f77b4;stroke:#1f77b4;\" x=\"277.662364\" xlink:href=\"#md222d8b101\" y=\"87.434651\"/>\r\n     <use style=\"fill:#1f77b4;stroke:#1f77b4;\" x=\"278.271091\" xlink:href=\"#md222d8b101\" y=\"100.454477\"/>\r\n     <use style=\"fill:#1f77b4;stroke:#1f77b4;\" x=\"278.879818\" xlink:href=\"#md222d8b101\" y=\"184.374794\"/>\r\n     <use style=\"fill:#1f77b4;stroke:#1f77b4;\" x=\"279.488545\" xlink:href=\"#md222d8b101\" y=\"171.257585\"/>\r\n     <use style=\"fill:#1f77b4;stroke:#1f77b4;\" x=\"280.097273\" xlink:href=\"#md222d8b101\" y=\"133.629663\"/>\r\n     <use style=\"fill:#1f77b4;stroke:#1f77b4;\" x=\"280.706\" xlink:href=\"#md222d8b101\" y=\"208.341088\"/>\r\n     <use style=\"fill:#1f77b4;stroke:#1f77b4;\" x=\"281.314727\" xlink:href=\"#md222d8b101\" y=\"162.66969\"/>\r\n     <use style=\"fill:#1f77b4;stroke:#1f77b4;\" x=\"281.923455\" xlink:href=\"#md222d8b101\" y=\"118.300967\"/>\r\n     <use style=\"fill:#1f77b4;stroke:#1f77b4;\" x=\"282.532182\" xlink:href=\"#md222d8b101\" y=\"105.95184\"/>\r\n     <use style=\"fill:#1f77b4;stroke:#1f77b4;\" x=\"283.140909\" xlink:href=\"#md222d8b101\" y=\"131.717549\"/>\r\n     <use style=\"fill:#1f77b4;stroke:#1f77b4;\" x=\"283.749636\" xlink:href=\"#md222d8b101\" y=\"105.26727\"/>\r\n     <use style=\"fill:#1f77b4;stroke:#1f77b4;\" x=\"284.358364\" xlink:href=\"#md222d8b101\" y=\"160.15334\"/>\r\n     <use style=\"fill:#1f77b4;stroke:#1f77b4;\" x=\"284.967091\" xlink:href=\"#md222d8b101\" y=\"176.747146\"/>\r\n     <use style=\"fill:#1f77b4;stroke:#1f77b4;\" x=\"285.575818\" xlink:href=\"#md222d8b101\" y=\"156.989987\"/>\r\n     <use style=\"fill:#1f77b4;stroke:#1f77b4;\" x=\"286.184545\" xlink:href=\"#md222d8b101\" y=\"186.238361\"/>\r\n     <use style=\"fill:#1f77b4;stroke:#1f77b4;\" x=\"286.793273\" xlink:href=\"#md222d8b101\" y=\"287.478376\"/>\r\n     <use style=\"fill:#1f77b4;stroke:#1f77b4;\" x=\"287.402\" xlink:href=\"#md222d8b101\" y=\"118.830938\"/>\r\n     <use style=\"fill:#1f77b4;stroke:#1f77b4;\" x=\"288.010727\" xlink:href=\"#md222d8b101\" y=\"153.554424\"/>\r\n     <use style=\"fill:#1f77b4;stroke:#1f77b4;\" x=\"288.619455\" xlink:href=\"#md222d8b101\" y=\"248.616552\"/>\r\n     <use style=\"fill:#1f77b4;stroke:#1f77b4;\" x=\"289.228182\" xlink:href=\"#md222d8b101\" y=\"120.639022\"/>\r\n     <use style=\"fill:#1f77b4;stroke:#1f77b4;\" x=\"289.836909\" xlink:href=\"#md222d8b101\" y=\"190.194358\"/>\r\n     <use style=\"fill:#1f77b4;stroke:#1f77b4;\" x=\"290.445636\" xlink:href=\"#md222d8b101\" y=\"217.93691\"/>\r\n     <use style=\"fill:#1f77b4;stroke:#1f77b4;\" x=\"291.054364\" xlink:href=\"#md222d8b101\" y=\"112.865155\"/>\r\n     <use style=\"fill:#1f77b4;stroke:#1f77b4;\" x=\"291.663091\" xlink:href=\"#md222d8b101\" y=\"218.718574\"/>\r\n     <use style=\"fill:#1f77b4;stroke:#1f77b4;\" x=\"292.271818\" xlink:href=\"#md222d8b101\" y=\"155.522309\"/>\r\n     <use style=\"fill:#1f77b4;stroke:#1f77b4;\" x=\"292.880545\" xlink:href=\"#md222d8b101\" y=\"180.237613\"/>\r\n     <use style=\"fill:#1f77b4;stroke:#1f77b4;\" x=\"293.489273\" xlink:href=\"#md222d8b101\" y=\"134.167436\"/>\r\n     <use style=\"fill:#1f77b4;stroke:#1f77b4;\" x=\"294.098\" xlink:href=\"#md222d8b101\" y=\"170.474188\"/>\r\n     <use style=\"fill:#1f77b4;stroke:#1f77b4;\" x=\"294.706727\" xlink:href=\"#md222d8b101\" y=\"183.802345\"/>\r\n     <use style=\"fill:#1f77b4;stroke:#1f77b4;\" x=\"295.315455\" xlink:href=\"#md222d8b101\" y=\"183.982951\"/>\r\n     <use style=\"fill:#1f77b4;stroke:#1f77b4;\" x=\"295.924182\" xlink:href=\"#md222d8b101\" y=\"159.184713\"/>\r\n     <use style=\"fill:#1f77b4;stroke:#1f77b4;\" x=\"296.532909\" xlink:href=\"#md222d8b101\" y=\"162.029621\"/>\r\n     <use style=\"fill:#1f77b4;stroke:#1f77b4;\" x=\"297.141636\" xlink:href=\"#md222d8b101\" y=\"162.870235\"/>\r\n     <use style=\"fill:#1f77b4;stroke:#1f77b4;\" x=\"297.750364\" xlink:href=\"#md222d8b101\" y=\"198.317012\"/>\r\n     <use style=\"fill:#1f77b4;stroke:#1f77b4;\" x=\"298.359091\" xlink:href=\"#md222d8b101\" y=\"200.967733\"/>\r\n     <use style=\"fill:#1f77b4;stroke:#1f77b4;\" x=\"298.967818\" xlink:href=\"#md222d8b101\" y=\"141.780925\"/>\r\n     <use style=\"fill:#1f77b4;stroke:#1f77b4;\" x=\"299.576545\" xlink:href=\"#md222d8b101\" y=\"196.224871\"/>\r\n     <use style=\"fill:#1f77b4;stroke:#1f77b4;\" x=\"300.185273\" xlink:href=\"#md222d8b101\" y=\"205.315285\"/>\r\n     <use style=\"fill:#1f77b4;stroke:#1f77b4;\" x=\"300.794\" xlink:href=\"#md222d8b101\" y=\"227.880364\"/>\r\n     <use style=\"fill:#1f77b4;stroke:#1f77b4;\" x=\"301.402727\" xlink:href=\"#md222d8b101\" y=\"186.349036\"/>\r\n     <use style=\"fill:#1f77b4;stroke:#1f77b4;\" x=\"302.011455\" xlink:href=\"#md222d8b101\" y=\"170.614627\"/>\r\n     <use style=\"fill:#1f77b4;stroke:#1f77b4;\" x=\"302.620182\" xlink:href=\"#md222d8b101\" y=\"119.751307\"/>\r\n     <use style=\"fill:#1f77b4;stroke:#1f77b4;\" x=\"303.228909\" xlink:href=\"#md222d8b101\" y=\"222.754616\"/>\r\n     <use style=\"fill:#1f77b4;stroke:#1f77b4;\" x=\"303.837636\" xlink:href=\"#md222d8b101\" y=\"180.8667\"/>\r\n     <use style=\"fill:#1f77b4;stroke:#1f77b4;\" x=\"304.446364\" xlink:href=\"#md222d8b101\" y=\"192.962112\"/>\r\n     <use style=\"fill:#1f77b4;stroke:#1f77b4;\" x=\"305.055091\" xlink:href=\"#md222d8b101\" y=\"158.800672\"/>\r\n     <use style=\"fill:#1f77b4;stroke:#1f77b4;\" x=\"305.663818\" xlink:href=\"#md222d8b101\" y=\"123.387704\"/>\r\n     <use style=\"fill:#1f77b4;stroke:#1f77b4;\" x=\"306.272545\" xlink:href=\"#md222d8b101\" y=\"212.954781\"/>\r\n     <use style=\"fill:#1f77b4;stroke:#1f77b4;\" x=\"306.881273\" xlink:href=\"#md222d8b101\" y=\"110.667539\"/>\r\n     <use style=\"fill:#1f77b4;stroke:#1f77b4;\" x=\"307.49\" xlink:href=\"#md222d8b101\" y=\"148.484737\"/>\r\n     <use style=\"fill:#1f77b4;stroke:#1f77b4;\" x=\"308.098727\" xlink:href=\"#md222d8b101\" y=\"181.025633\"/>\r\n     <use style=\"fill:#1f77b4;stroke:#1f77b4;\" x=\"308.707455\" xlink:href=\"#md222d8b101\" y=\"151.913364\"/>\r\n     <use style=\"fill:#1f77b4;stroke:#1f77b4;\" x=\"309.316182\" xlink:href=\"#md222d8b101\" y=\"175.464986\"/>\r\n     <use style=\"fill:#1f77b4;stroke:#1f77b4;\" x=\"309.924909\" xlink:href=\"#md222d8b101\" y=\"127.861824\"/>\r\n     <use style=\"fill:#1f77b4;stroke:#1f77b4;\" x=\"310.533636\" xlink:href=\"#md222d8b101\" y=\"164.545393\"/>\r\n     <use style=\"fill:#1f77b4;stroke:#1f77b4;\" x=\"311.142364\" xlink:href=\"#md222d8b101\" y=\"208.010218\"/>\r\n     <use style=\"fill:#1f77b4;stroke:#1f77b4;\" x=\"311.751091\" xlink:href=\"#md222d8b101\" y=\"123.689099\"/>\r\n     <use style=\"fill:#1f77b4;stroke:#1f77b4;\" x=\"312.359818\" xlink:href=\"#md222d8b101\" y=\"87.771301\"/>\r\n     <use style=\"fill:#1f77b4;stroke:#1f77b4;\" x=\"312.968545\" xlink:href=\"#md222d8b101\" y=\"294.361638\"/>\r\n     <use style=\"fill:#1f77b4;stroke:#1f77b4;\" x=\"313.577273\" xlink:href=\"#md222d8b101\" y=\"189.590989\"/>\r\n     <use style=\"fill:#1f77b4;stroke:#1f77b4;\" x=\"314.186\" xlink:href=\"#md222d8b101\" y=\"139.721148\"/>\r\n     <use style=\"fill:#1f77b4;stroke:#1f77b4;\" x=\"314.794727\" xlink:href=\"#md222d8b101\" y=\"192.992743\"/>\r\n     <use style=\"fill:#1f77b4;stroke:#1f77b4;\" x=\"315.403455\" xlink:href=\"#md222d8b101\" y=\"125.492849\"/>\r\n     <use style=\"fill:#1f77b4;stroke:#1f77b4;\" x=\"316.012182\" xlink:href=\"#md222d8b101\" y=\"202.568337\"/>\r\n     <use style=\"fill:#1f77b4;stroke:#1f77b4;\" x=\"316.620909\" xlink:href=\"#md222d8b101\" y=\"178.46276\"/>\r\n     <use style=\"fill:#1f77b4;stroke:#1f77b4;\" x=\"317.229636\" xlink:href=\"#md222d8b101\" y=\"147.296204\"/>\r\n     <use style=\"fill:#1f77b4;stroke:#1f77b4;\" x=\"317.838364\" xlink:href=\"#md222d8b101\" y=\"150.338478\"/>\r\n     <use style=\"fill:#1f77b4;stroke:#1f77b4;\" x=\"318.447091\" xlink:href=\"#md222d8b101\" y=\"183.106217\"/>\r\n     <use style=\"fill:#1f77b4;stroke:#1f77b4;\" x=\"319.055818\" xlink:href=\"#md222d8b101\" y=\"164.529789\"/>\r\n     <use style=\"fill:#1f77b4;stroke:#1f77b4;\" x=\"319.664545\" xlink:href=\"#md222d8b101\" y=\"168.560629\"/>\r\n     <use style=\"fill:#1f77b4;stroke:#1f77b4;\" x=\"320.273273\" xlink:href=\"#md222d8b101\" y=\"155.723721\"/>\r\n     <use style=\"fill:#1f77b4;stroke:#1f77b4;\" x=\"320.882\" xlink:href=\"#md222d8b101\" y=\"200.916007\"/>\r\n     <use style=\"fill:#1f77b4;stroke:#1f77b4;\" x=\"321.490727\" xlink:href=\"#md222d8b101\" y=\"278.606134\"/>\r\n     <use style=\"fill:#1f77b4;stroke:#1f77b4;\" x=\"322.099455\" xlink:href=\"#md222d8b101\" y=\"152.847026\"/>\r\n     <use style=\"fill:#1f77b4;stroke:#1f77b4;\" x=\"322.708182\" xlink:href=\"#md222d8b101\" y=\"240.870426\"/>\r\n     <use style=\"fill:#1f77b4;stroke:#1f77b4;\" x=\"323.316909\" xlink:href=\"#md222d8b101\" y=\"188.195554\"/>\r\n     <use style=\"fill:#1f77b4;stroke:#1f77b4;\" x=\"323.925636\" xlink:href=\"#md222d8b101\" y=\"161.384063\"/>\r\n     <use style=\"fill:#1f77b4;stroke:#1f77b4;\" x=\"324.534364\" xlink:href=\"#md222d8b101\" y=\"159.172865\"/>\r\n     <use style=\"fill:#1f77b4;stroke:#1f77b4;\" x=\"325.143091\" xlink:href=\"#md222d8b101\" y=\"145.651387\"/>\r\n     <use style=\"fill:#1f77b4;stroke:#1f77b4;\" x=\"325.751818\" xlink:href=\"#md222d8b101\" y=\"223.902404\"/>\r\n     <use style=\"fill:#1f77b4;stroke:#1f77b4;\" x=\"326.360545\" xlink:href=\"#md222d8b101\" y=\"78.024347\"/>\r\n     <use style=\"fill:#1f77b4;stroke:#1f77b4;\" x=\"326.969273\" xlink:href=\"#md222d8b101\" y=\"177.549037\"/>\r\n     <use style=\"fill:#1f77b4;stroke:#1f77b4;\" x=\"327.578\" xlink:href=\"#md222d8b101\" y=\"143.659518\"/>\r\n     <use style=\"fill:#1f77b4;stroke:#1f77b4;\" x=\"328.186727\" xlink:href=\"#md222d8b101\" y=\"155.075273\"/>\r\n     <use style=\"fill:#1f77b4;stroke:#1f77b4;\" x=\"328.795455\" xlink:href=\"#md222d8b101\" y=\"173.801965\"/>\r\n     <use style=\"fill:#1f77b4;stroke:#1f77b4;\" x=\"329.404182\" xlink:href=\"#md222d8b101\" y=\"155.328699\"/>\r\n     <use style=\"fill:#1f77b4;stroke:#1f77b4;\" x=\"330.012909\" xlink:href=\"#md222d8b101\" y=\"154.82618\"/>\r\n     <use style=\"fill:#1f77b4;stroke:#1f77b4;\" x=\"330.621636\" xlink:href=\"#md222d8b101\" y=\"185.851141\"/>\r\n     <use style=\"fill:#1f77b4;stroke:#1f77b4;\" x=\"331.230364\" xlink:href=\"#md222d8b101\" y=\"179.896339\"/>\r\n     <use style=\"fill:#1f77b4;stroke:#1f77b4;\" x=\"331.839091\" xlink:href=\"#md222d8b101\" y=\"199.668235\"/>\r\n     <use style=\"fill:#1f77b4;stroke:#1f77b4;\" x=\"332.447818\" xlink:href=\"#md222d8b101\" y=\"139.606716\"/>\r\n     <use style=\"fill:#1f77b4;stroke:#1f77b4;\" x=\"333.056545\" xlink:href=\"#md222d8b101\" y=\"107.112632\"/>\r\n     <use style=\"fill:#1f77b4;stroke:#1f77b4;\" x=\"333.665273\" xlink:href=\"#md222d8b101\" y=\"234.548343\"/>\r\n     <use style=\"fill:#1f77b4;stroke:#1f77b4;\" x=\"334.274\" xlink:href=\"#md222d8b101\" y=\"169.756387\"/>\r\n     <use style=\"fill:#1f77b4;stroke:#1f77b4;\" x=\"334.882727\" xlink:href=\"#md222d8b101\" y=\"171.052705\"/>\r\n     <use style=\"fill:#1f77b4;stroke:#1f77b4;\" x=\"335.491455\" xlink:href=\"#md222d8b101\" y=\"183.072407\"/>\r\n     <use style=\"fill:#1f77b4;stroke:#1f77b4;\" x=\"336.100182\" xlink:href=\"#md222d8b101\" y=\"140.781667\"/>\r\n     <use style=\"fill:#1f77b4;stroke:#1f77b4;\" x=\"336.708909\" xlink:href=\"#md222d8b101\" y=\"137.549828\"/>\r\n     <use style=\"fill:#1f77b4;stroke:#1f77b4;\" x=\"337.317636\" xlink:href=\"#md222d8b101\" y=\"144.448984\"/>\r\n     <use style=\"fill:#1f77b4;stroke:#1f77b4;\" x=\"337.926364\" xlink:href=\"#md222d8b101\" y=\"141.486465\"/>\r\n     <use style=\"fill:#1f77b4;stroke:#1f77b4;\" x=\"338.535091\" xlink:href=\"#md222d8b101\" y=\"136.698523\"/>\r\n     <use style=\"fill:#1f77b4;stroke:#1f77b4;\" x=\"339.143818\" xlink:href=\"#md222d8b101\" y=\"212.92126\"/>\r\n     <use style=\"fill:#1f77b4;stroke:#1f77b4;\" x=\"339.752545\" xlink:href=\"#md222d8b101\" y=\"177.557995\"/>\r\n     <use style=\"fill:#1f77b4;stroke:#1f77b4;\" x=\"340.361273\" xlink:href=\"#md222d8b101\" y=\"154.785436\"/>\r\n     <use style=\"fill:#1f77b4;stroke:#1f77b4;\" x=\"340.97\" xlink:href=\"#md222d8b101\" y=\"139.800903\"/>\r\n     <use style=\"fill:#1f77b4;stroke:#1f77b4;\" x=\"341.578727\" xlink:href=\"#md222d8b101\" y=\"186.60044\"/>\r\n     <use style=\"fill:#1f77b4;stroke:#1f77b4;\" x=\"342.187455\" xlink:href=\"#md222d8b101\" y=\"199.455265\"/>\r\n     <use style=\"fill:#1f77b4;stroke:#1f77b4;\" x=\"342.796182\" xlink:href=\"#md222d8b101\" y=\"185.061387\"/>\r\n     <use style=\"fill:#1f77b4;stroke:#1f77b4;\" x=\"343.404909\" xlink:href=\"#md222d8b101\" y=\"86.820012\"/>\r\n     <use style=\"fill:#1f77b4;stroke:#1f77b4;\" x=\"344.013636\" xlink:href=\"#md222d8b101\" y=\"52.425374\"/>\r\n     <use style=\"fill:#1f77b4;stroke:#1f77b4;\" x=\"344.622364\" xlink:href=\"#md222d8b101\" y=\"173.495946\"/>\r\n     <use style=\"fill:#1f77b4;stroke:#1f77b4;\" x=\"345.231091\" xlink:href=\"#md222d8b101\" y=\"198.051449\"/>\r\n     <use style=\"fill:#1f77b4;stroke:#1f77b4;\" x=\"345.839818\" xlink:href=\"#md222d8b101\" y=\"164.230994\"/>\r\n     <use style=\"fill:#1f77b4;stroke:#1f77b4;\" x=\"346.448545\" xlink:href=\"#md222d8b101\" y=\"125.54602\"/>\r\n     <use style=\"fill:#1f77b4;stroke:#1f77b4;\" x=\"347.057273\" xlink:href=\"#md222d8b101\" y=\"129.577438\"/>\r\n     <use style=\"fill:#1f77b4;stroke:#1f77b4;\" x=\"347.666\" xlink:href=\"#md222d8b101\" y=\"172.722951\"/>\r\n     <use style=\"fill:#1f77b4;stroke:#1f77b4;\" x=\"348.274727\" xlink:href=\"#md222d8b101\" y=\"92.49249\"/>\r\n     <use style=\"fill:#1f77b4;stroke:#1f77b4;\" x=\"348.883455\" xlink:href=\"#md222d8b101\" y=\"215.206723\"/>\r\n     <use style=\"fill:#1f77b4;stroke:#1f77b4;\" x=\"349.492182\" xlink:href=\"#md222d8b101\" y=\"146.846567\"/>\r\n     <use style=\"fill:#1f77b4;stroke:#1f77b4;\" x=\"350.100909\" xlink:href=\"#md222d8b101\" y=\"194.602305\"/>\r\n     <use style=\"fill:#1f77b4;stroke:#1f77b4;\" x=\"350.709636\" xlink:href=\"#md222d8b101\" y=\"189.766972\"/>\r\n     <use style=\"fill:#1f77b4;stroke:#1f77b4;\" x=\"351.318364\" xlink:href=\"#md222d8b101\" y=\"131.891798\"/>\r\n     <use style=\"fill:#1f77b4;stroke:#1f77b4;\" x=\"351.927091\" xlink:href=\"#md222d8b101\" y=\"111.148963\"/>\r\n     <use style=\"fill:#1f77b4;stroke:#1f77b4;\" x=\"352.535818\" xlink:href=\"#md222d8b101\" y=\"230.991991\"/>\r\n     <use style=\"fill:#1f77b4;stroke:#1f77b4;\" x=\"353.144545\" xlink:href=\"#md222d8b101\" y=\"141.362496\"/>\r\n     <use style=\"fill:#1f77b4;stroke:#1f77b4;\" x=\"353.753273\" xlink:href=\"#md222d8b101\" y=\"107.81714\"/>\r\n     <use style=\"fill:#1f77b4;stroke:#1f77b4;\" x=\"354.362\" xlink:href=\"#md222d8b101\" y=\"149.909647\"/>\r\n     <use style=\"fill:#1f77b4;stroke:#1f77b4;\" x=\"354.970727\" xlink:href=\"#md222d8b101\" y=\"151.346116\"/>\r\n     <use style=\"fill:#1f77b4;stroke:#1f77b4;\" x=\"355.579455\" xlink:href=\"#md222d8b101\" y=\"197.652671\"/>\r\n     <use style=\"fill:#1f77b4;stroke:#1f77b4;\" x=\"356.188182\" xlink:href=\"#md222d8b101\" y=\"178.233318\"/>\r\n     <use style=\"fill:#1f77b4;stroke:#1f77b4;\" x=\"356.796909\" xlink:href=\"#md222d8b101\" y=\"249.597605\"/>\r\n     <use style=\"fill:#1f77b4;stroke:#1f77b4;\" x=\"357.405636\" xlink:href=\"#md222d8b101\" y=\"173.648233\"/>\r\n     <use style=\"fill:#1f77b4;stroke:#1f77b4;\" x=\"358.014364\" xlink:href=\"#md222d8b101\" y=\"196.342192\"/>\r\n     <use style=\"fill:#1f77b4;stroke:#1f77b4;\" x=\"358.623091\" xlink:href=\"#md222d8b101\" y=\"82.364964\"/>\r\n     <use style=\"fill:#1f77b4;stroke:#1f77b4;\" x=\"359.231818\" xlink:href=\"#md222d8b101\" y=\"229.80866\"/>\r\n     <use style=\"fill:#1f77b4;stroke:#1f77b4;\" x=\"359.840545\" xlink:href=\"#md222d8b101\" y=\"219.298536\"/>\r\n     <use style=\"fill:#1f77b4;stroke:#1f77b4;\" x=\"360.449273\" xlink:href=\"#md222d8b101\" y=\"162.538497\"/>\r\n     <use style=\"fill:#1f77b4;stroke:#1f77b4;\" x=\"361.058\" xlink:href=\"#md222d8b101\" y=\"159.287875\"/>\r\n     <use style=\"fill:#1f77b4;stroke:#1f77b4;\" x=\"361.666727\" xlink:href=\"#md222d8b101\" y=\"140.308912\"/>\r\n     <use style=\"fill:#1f77b4;stroke:#1f77b4;\" x=\"362.275455\" xlink:href=\"#md222d8b101\" y=\"283.369802\"/>\r\n     <use style=\"fill:#1f77b4;stroke:#1f77b4;\" x=\"362.884182\" xlink:href=\"#md222d8b101\" y=\"156.927858\"/>\r\n     <use style=\"fill:#1f77b4;stroke:#1f77b4;\" x=\"363.492909\" xlink:href=\"#md222d8b101\" y=\"211.551254\"/>\r\n     <use style=\"fill:#1f77b4;stroke:#1f77b4;\" x=\"364.101636\" xlink:href=\"#md222d8b101\" y=\"188.826375\"/>\r\n     <use style=\"fill:#1f77b4;stroke:#1f77b4;\" x=\"364.710364\" xlink:href=\"#md222d8b101\" y=\"191.550783\"/>\r\n     <use style=\"fill:#1f77b4;stroke:#1f77b4;\" x=\"365.319091\" xlink:href=\"#md222d8b101\" y=\"223.826405\"/>\r\n     <use style=\"fill:#1f77b4;stroke:#1f77b4;\" x=\"365.927818\" xlink:href=\"#md222d8b101\" y=\"119.55972\"/>\r\n     <use style=\"fill:#1f77b4;stroke:#1f77b4;\" x=\"366.536545\" xlink:href=\"#md222d8b101\" y=\"133.384616\"/>\r\n     <use style=\"fill:#1f77b4;stroke:#1f77b4;\" x=\"367.145273\" xlink:href=\"#md222d8b101\" y=\"158.18979\"/>\r\n     <use style=\"fill:#1f77b4;stroke:#1f77b4;\" x=\"367.754\" xlink:href=\"#md222d8b101\" y=\"283.008301\"/>\r\n     <use style=\"fill:#1f77b4;stroke:#1f77b4;\" x=\"368.362727\" xlink:href=\"#md222d8b101\" y=\"194.919016\"/>\r\n     <use style=\"fill:#1f77b4;stroke:#1f77b4;\" x=\"368.971455\" xlink:href=\"#md222d8b101\" y=\"200.561152\"/>\r\n     <use style=\"fill:#1f77b4;stroke:#1f77b4;\" x=\"369.580182\" xlink:href=\"#md222d8b101\" y=\"167.086883\"/>\r\n     <use style=\"fill:#1f77b4;stroke:#1f77b4;\" x=\"370.188909\" xlink:href=\"#md222d8b101\" y=\"191.883965\"/>\r\n     <use style=\"fill:#1f77b4;stroke:#1f77b4;\" x=\"370.797636\" xlink:href=\"#md222d8b101\" y=\"207.828745\"/>\r\n     <use style=\"fill:#1f77b4;stroke:#1f77b4;\" x=\"371.406364\" xlink:href=\"#md222d8b101\" y=\"167.246105\"/>\r\n     <use style=\"fill:#1f77b4;stroke:#1f77b4;\" x=\"372.015091\" xlink:href=\"#md222d8b101\" y=\"152.707164\"/>\r\n     <use style=\"fill:#1f77b4;stroke:#1f77b4;\" x=\"372.623818\" xlink:href=\"#md222d8b101\" y=\"220.48129\"/>\r\n     <use style=\"fill:#1f77b4;stroke:#1f77b4;\" x=\"373.232545\" xlink:href=\"#md222d8b101\" y=\"170.853027\"/>\r\n     <use style=\"fill:#1f77b4;stroke:#1f77b4;\" x=\"373.841273\" xlink:href=\"#md222d8b101\" y=\"219.295647\"/>\r\n     <use style=\"fill:#1f77b4;stroke:#1f77b4;\" x=\"374.45\" xlink:href=\"#md222d8b101\" y=\"193.135783\"/>\r\n     <use style=\"fill:#1f77b4;stroke:#1f77b4;\" x=\"375.058727\" xlink:href=\"#md222d8b101\" y=\"130.73823\"/>\r\n     <use style=\"fill:#1f77b4;stroke:#1f77b4;\" x=\"375.667455\" xlink:href=\"#md222d8b101\" y=\"197.940485\"/>\r\n     <use style=\"fill:#1f77b4;stroke:#1f77b4;\" x=\"376.276182\" xlink:href=\"#md222d8b101\" y=\"250.338813\"/>\r\n     <use style=\"fill:#1f77b4;stroke:#1f77b4;\" x=\"376.884909\" xlink:href=\"#md222d8b101\" y=\"141.670827\"/>\r\n     <use style=\"fill:#1f77b4;stroke:#1f77b4;\" x=\"377.493636\" xlink:href=\"#md222d8b101\" y=\"235.596148\"/>\r\n     <use style=\"fill:#1f77b4;stroke:#1f77b4;\" x=\"378.102364\" xlink:href=\"#md222d8b101\" y=\"211.978352\"/>\r\n     <use style=\"fill:#1f77b4;stroke:#1f77b4;\" x=\"378.711091\" xlink:href=\"#md222d8b101\" y=\"158.881295\"/>\r\n     <use style=\"fill:#1f77b4;stroke:#1f77b4;\" x=\"379.319818\" xlink:href=\"#md222d8b101\" y=\"139.171527\"/>\r\n     <use style=\"fill:#1f77b4;stroke:#1f77b4;\" x=\"379.928545\" xlink:href=\"#md222d8b101\" y=\"176.333052\"/>\r\n     <use style=\"fill:#1f77b4;stroke:#1f77b4;\" x=\"380.537273\" xlink:href=\"#md222d8b101\" y=\"228.001731\"/>\r\n     <use style=\"fill:#1f77b4;stroke:#1f77b4;\" x=\"381.146\" xlink:href=\"#md222d8b101\" y=\"152.812349\"/>\r\n     <use style=\"fill:#1f77b4;stroke:#1f77b4;\" x=\"381.754727\" xlink:href=\"#md222d8b101\" y=\"130.17445\"/>\r\n     <use style=\"fill:#1f77b4;stroke:#1f77b4;\" x=\"382.363455\" xlink:href=\"#md222d8b101\" y=\"279.059528\"/>\r\n     <use style=\"fill:#1f77b4;stroke:#1f77b4;\" x=\"382.972182\" xlink:href=\"#md222d8b101\" y=\"147.505707\"/>\r\n     <use style=\"fill:#1f77b4;stroke:#1f77b4;\" x=\"383.580909\" xlink:href=\"#md222d8b101\" y=\"174.962468\"/>\r\n     <use style=\"fill:#1f77b4;stroke:#1f77b4;\" x=\"384.189636\" xlink:href=\"#md222d8b101\" y=\"135.476469\"/>\r\n     <use style=\"fill:#1f77b4;stroke:#1f77b4;\" x=\"384.798364\" xlink:href=\"#md222d8b101\" y=\"156.757944\"/>\r\n     <use style=\"fill:#1f77b4;stroke:#1f77b4;\" x=\"385.407091\" xlink:href=\"#md222d8b101\" y=\"124.930225\"/>\r\n     <use style=\"fill:#1f77b4;stroke:#1f77b4;\" x=\"386.015818\" xlink:href=\"#md222d8b101\" y=\"219.185838\"/>\r\n     <use style=\"fill:#1f77b4;stroke:#1f77b4;\" x=\"386.624545\" xlink:href=\"#md222d8b101\" y=\"118.09551\"/>\r\n     <use style=\"fill:#1f77b4;stroke:#1f77b4;\" x=\"387.233273\" xlink:href=\"#md222d8b101\" y=\"224.407813\"/>\r\n     <use style=\"fill:#1f77b4;stroke:#1f77b4;\" x=\"387.842\" xlink:href=\"#md222d8b101\" y=\"252.447137\"/>\r\n     <use style=\"fill:#1f77b4;stroke:#1f77b4;\" x=\"388.450727\" xlink:href=\"#md222d8b101\" y=\"147.263839\"/>\r\n     <use style=\"fill:#1f77b4;stroke:#1f77b4;\" x=\"389.059455\" xlink:href=\"#md222d8b101\" y=\"103.217607\"/>\r\n     <use style=\"fill:#1f77b4;stroke:#1f77b4;\" x=\"389.668182\" xlink:href=\"#md222d8b101\" y=\"158.443794\"/>\r\n     <use style=\"fill:#1f77b4;stroke:#1f77b4;\" x=\"390.276909\" xlink:href=\"#md222d8b101\" y=\"269.617726\"/>\r\n     <use style=\"fill:#1f77b4;stroke:#1f77b4;\" x=\"390.885636\" xlink:href=\"#md222d8b101\" y=\"102.502696\"/>\r\n     <use style=\"fill:#1f77b4;stroke:#1f77b4;\" x=\"391.494364\" xlink:href=\"#md222d8b101\" y=\"153.444327\"/>\r\n     <use style=\"fill:#1f77b4;stroke:#1f77b4;\" x=\"392.103091\" xlink:href=\"#md222d8b101\" y=\"71.692439\"/>\r\n     <use style=\"fill:#1f77b4;stroke:#1f77b4;\" x=\"392.711818\" xlink:href=\"#md222d8b101\" y=\"237.312629\"/>\r\n     <use style=\"fill:#1f77b4;stroke:#1f77b4;\" x=\"393.320545\" xlink:href=\"#md222d8b101\" y=\"155.829484\"/>\r\n     <use style=\"fill:#1f77b4;stroke:#1f77b4;\" x=\"393.929273\" xlink:href=\"#md222d8b101\" y=\"191.044508\"/>\r\n     <use style=\"fill:#1f77b4;stroke:#1f77b4;\" x=\"394.538\" xlink:href=\"#md222d8b101\" y=\"204.545758\"/>\r\n     <use style=\"fill:#1f77b4;stroke:#1f77b4;\" x=\"395.146727\" xlink:href=\"#md222d8b101\" y=\"178.142003\"/>\r\n     <use style=\"fill:#1f77b4;stroke:#1f77b4;\" x=\"395.755455\" xlink:href=\"#md222d8b101\" y=\"194.218264\"/>\r\n     <use style=\"fill:#1f77b4;stroke:#1f77b4;\" x=\"396.364182\" xlink:href=\"#md222d8b101\" y=\"175.795568\"/>\r\n     <use style=\"fill:#1f77b4;stroke:#1f77b4;\" x=\"396.972909\" xlink:href=\"#md222d8b101\" y=\"214.038996\"/>\r\n     <use style=\"fill:#1f77b4;stroke:#1f77b4;\" x=\"397.581636\" xlink:href=\"#md222d8b101\" y=\"111.634432\"/>\r\n     <use style=\"fill:#1f77b4;stroke:#1f77b4;\" x=\"398.190364\" xlink:href=\"#md222d8b101\" y=\"150.193416\"/>\r\n     <use style=\"fill:#1f77b4;stroke:#1f77b4;\" x=\"398.799091\" xlink:href=\"#md222d8b101\" y=\"149.442961\"/>\r\n     <use style=\"fill:#1f77b4;stroke:#1f77b4;\" x=\"399.407818\" xlink:href=\"#md222d8b101\" y=\"183.164588\"/>\r\n     <use style=\"fill:#1f77b4;stroke:#1f77b4;\" x=\"400.016545\" xlink:href=\"#md222d8b101\" y=\"190.440561\"/>\r\n     <use style=\"fill:#1f77b4;stroke:#1f77b4;\" x=\"400.625273\" xlink:href=\"#md222d8b101\" y=\"122.025211\"/>\r\n     <use style=\"fill:#1f77b4;stroke:#1f77b4;\" x=\"401.234\" xlink:href=\"#md222d8b101\" y=\"178.77138\"/>\r\n     <use style=\"fill:#1f77b4;stroke:#1f77b4;\" x=\"401.842727\" xlink:href=\"#md222d8b101\" y=\"22.025455\"/>\r\n     <use style=\"fill:#1f77b4;stroke:#1f77b4;\" x=\"402.451455\" xlink:href=\"#md222d8b101\" y=\"124.001765\"/>\r\n     <use style=\"fill:#1f77b4;stroke:#1f77b4;\" x=\"403.060182\" xlink:href=\"#md222d8b101\" y=\"193.476189\"/>\r\n     <use style=\"fill:#1f77b4;stroke:#1f77b4;\" x=\"403.668909\" xlink:href=\"#md222d8b101\" y=\"189.973585\"/>\r\n     <use style=\"fill:#1f77b4;stroke:#1f77b4;\" x=\"404.277636\" xlink:href=\"#md222d8b101\" y=\"196.444199\"/>\r\n     <use style=\"fill:#1f77b4;stroke:#1f77b4;\" x=\"404.886364\" xlink:href=\"#md222d8b101\" y=\"231.800529\"/>\r\n     <use style=\"fill:#1f77b4;stroke:#1f77b4;\" x=\"405.495091\" xlink:href=\"#md222d8b101\" y=\"94.310111\"/>\r\n     <use style=\"fill:#1f77b4;stroke:#1f77b4;\" x=\"406.103818\" xlink:href=\"#md222d8b101\" y=\"167.514558\"/>\r\n     <use style=\"fill:#1f77b4;stroke:#1f77b4;\" x=\"406.712545\" xlink:href=\"#md222d8b101\" y=\"199.907792\"/>\r\n     <use style=\"fill:#1f77b4;stroke:#1f77b4;\" x=\"407.321273\" xlink:href=\"#md222d8b101\" y=\"148.438791\"/>\r\n     <use style=\"fill:#1f77b4;stroke:#1f77b4;\" x=\"407.93\" xlink:href=\"#md222d8b101\" y=\"188.40968\"/>\r\n     <use style=\"fill:#1f77b4;stroke:#1f77b4;\" x=\"408.538727\" xlink:href=\"#md222d8b101\" y=\"81.467712\"/>\r\n     <use style=\"fill:#1f77b4;stroke:#1f77b4;\" x=\"409.147455\" xlink:href=\"#md222d8b101\" y=\"167.965062\"/>\r\n     <use style=\"fill:#1f77b4;stroke:#1f77b4;\" x=\"409.756182\" xlink:href=\"#md222d8b101\" y=\"249.13612\"/>\r\n     <use style=\"fill:#1f77b4;stroke:#1f77b4;\" x=\"410.364909\" xlink:href=\"#md222d8b101\" y=\"156.617216\"/>\r\n     <use style=\"fill:#1f77b4;stroke:#1f77b4;\" x=\"410.973636\" xlink:href=\"#md222d8b101\" y=\"152.412415\"/>\r\n     <use style=\"fill:#1f77b4;stroke:#1f77b4;\" x=\"411.582364\" xlink:href=\"#md222d8b101\" y=\"184.080334\"/>\r\n     <use style=\"fill:#1f77b4;stroke:#1f77b4;\" x=\"412.191091\" xlink:href=\"#md222d8b101\" y=\"232.499258\"/>\r\n     <use style=\"fill:#1f77b4;stroke:#1f77b4;\" x=\"412.799818\" xlink:href=\"#md222d8b101\" y=\"244.072212\"/>\r\n     <use style=\"fill:#1f77b4;stroke:#1f77b4;\" x=\"413.408545\" xlink:href=\"#md222d8b101\" y=\"70.673243\"/>\r\n     <use style=\"fill:#1f77b4;stroke:#1f77b4;\" x=\"414.017273\" xlink:href=\"#md222d8b101\" y=\"117.96634\"/>\r\n     <use style=\"fill:#1f77b4;stroke:#1f77b4;\" x=\"414.626\" xlink:href=\"#md222d8b101\" y=\"145.065934\"/>\r\n     <use style=\"fill:#1f77b4;stroke:#1f77b4;\" x=\"415.234727\" xlink:href=\"#md222d8b101\" y=\"134.080745\"/>\r\n     <use style=\"fill:#1f77b4;stroke:#1f77b4;\" x=\"415.843455\" xlink:href=\"#md222d8b101\" y=\"153.709312\"/>\r\n     <use style=\"fill:#1f77b4;stroke:#1f77b4;\" x=\"416.452182\" xlink:href=\"#md222d8b101\" y=\"213.564218\"/>\r\n     <use style=\"fill:#1f77b4;stroke:#1f77b4;\" x=\"417.060909\" xlink:href=\"#md222d8b101\" y=\"167.240037\"/>\r\n     <use style=\"fill:#1f77b4;stroke:#1f77b4;\" x=\"417.669636\" xlink:href=\"#md222d8b101\" y=\"202.204235\"/>\r\n     <use style=\"fill:#1f77b4;stroke:#1f77b4;\" x=\"418.278364\" xlink:href=\"#md222d8b101\" y=\"170.963125\"/>\r\n     <use style=\"fill:#1f77b4;stroke:#1f77b4;\" x=\"418.887091\" xlink:href=\"#md222d8b101\" y=\"139.104197\"/>\r\n     <use style=\"fill:#1f77b4;stroke:#1f77b4;\" x=\"419.495818\" xlink:href=\"#md222d8b101\" y=\"142.139825\"/>\r\n     <use style=\"fill:#1f77b4;stroke:#1f77b4;\" x=\"420.104545\" xlink:href=\"#md222d8b101\" y=\"162.840471\"/>\r\n     <use style=\"fill:#1f77b4;stroke:#1f77b4;\" x=\"420.713273\" xlink:href=\"#md222d8b101\" y=\"139.730106\"/>\r\n     <use style=\"fill:#1f77b4;stroke:#1f77b4;\" x=\"421.322\" xlink:href=\"#md222d8b101\" y=\"86.300155\"/>\r\n     <use style=\"fill:#1f77b4;stroke:#1f77b4;\" x=\"421.930727\" xlink:href=\"#md222d8b101\" y=\"130.273567\"/>\r\n     <use style=\"fill:#1f77b4;stroke:#1f77b4;\" x=\"422.539455\" xlink:href=\"#md222d8b101\" y=\"204.132242\"/>\r\n     <use style=\"fill:#1f77b4;stroke:#1f77b4;\" x=\"423.148182\" xlink:href=\"#md222d8b101\" y=\"173.184147\"/>\r\n     <use style=\"fill:#1f77b4;stroke:#1f77b4;\" x=\"423.756909\" xlink:href=\"#md222d8b101\" y=\"178.428661\"/>\r\n     <use style=\"fill:#1f77b4;stroke:#1f77b4;\" x=\"424.365636\" xlink:href=\"#md222d8b101\" y=\"179.554777\"/>\r\n     <use style=\"fill:#1f77b4;stroke:#1f77b4;\" x=\"424.974364\" xlink:href=\"#md222d8b101\" y=\"86.196415\"/>\r\n     <use style=\"fill:#1f77b4;stroke:#1f77b4;\" x=\"425.583091\" xlink:href=\"#md222d8b101\" y=\"203.144543\"/>\r\n     <use style=\"fill:#1f77b4;stroke:#1f77b4;\" x=\"426.191818\" xlink:href=\"#md222d8b101\" y=\"159.713817\"/>\r\n     <use style=\"fill:#1f77b4;stroke:#1f77b4;\" x=\"426.800545\" xlink:href=\"#md222d8b101\" y=\"87.162152\"/>\r\n     <use style=\"fill:#1f77b4;stroke:#1f77b4;\" x=\"427.409273\" xlink:href=\"#md222d8b101\" y=\"158.869736\"/>\r\n     <use style=\"fill:#1f77b4;stroke:#1f77b4;\" x=\"428.018\" xlink:href=\"#md222d8b101\" y=\"158.268101\"/>\r\n     <use style=\"fill:#1f77b4;stroke:#1f77b4;\" x=\"428.626727\" xlink:href=\"#md222d8b101\" y=\"197.039477\"/>\r\n     <use style=\"fill:#1f77b4;stroke:#1f77b4;\" x=\"429.235455\" xlink:href=\"#md222d8b101\" y=\"230.842016\"/>\r\n     <use style=\"fill:#1f77b4;stroke:#1f77b4;\" x=\"429.844182\" xlink:href=\"#md222d8b101\" y=\"192.773703\"/>\r\n     <use style=\"fill:#1f77b4;stroke:#1f77b4;\" x=\"430.452909\" xlink:href=\"#md222d8b101\" y=\"80.807127\"/>\r\n     <use style=\"fill:#1f77b4;stroke:#1f77b4;\" x=\"431.061636\" xlink:href=\"#md222d8b101\" y=\"163.472448\"/>\r\n     <use style=\"fill:#1f77b4;stroke:#1f77b4;\" x=\"431.670364\" xlink:href=\"#md222d8b101\" y=\"141.925699\"/>\r\n     <use style=\"fill:#1f77b4;stroke:#1f77b4;\" x=\"432.279091\" xlink:href=\"#md222d8b101\" y=\"180.129249\"/>\r\n     <use style=\"fill:#1f77b4;stroke:#1f77b4;\" x=\"432.887818\" xlink:href=\"#md222d8b101\" y=\"134.161656\"/>\r\n     <use style=\"fill:#1f77b4;stroke:#1f77b4;\" x=\"433.496545\" xlink:href=\"#md222d8b101\" y=\"142.148494\"/>\r\n     <use style=\"fill:#1f77b4;stroke:#1f77b4;\" x=\"434.105273\" xlink:href=\"#md222d8b101\" y=\"126.662021\"/>\r\n     <use style=\"fill:#1f77b4;stroke:#1f77b4;\" x=\"434.714\" xlink:href=\"#md222d8b101\" y=\"212.337541\"/>\r\n     <use style=\"fill:#1f77b4;stroke:#1f77b4;\" x=\"435.322727\" xlink:href=\"#md222d8b101\" y=\"211.232232\"/>\r\n     <use style=\"fill:#1f77b4;stroke:#1f77b4;\" x=\"435.931455\" xlink:href=\"#md222d8b101\" y=\"208.128406\"/>\r\n     <use style=\"fill:#1f77b4;stroke:#1f77b4;\" x=\"436.540182\" xlink:href=\"#md222d8b101\" y=\"226.393036\"/>\r\n     <use style=\"fill:#1f77b4;stroke:#1f77b4;\" x=\"437.148909\" xlink:href=\"#md222d8b101\" y=\"172.886219\"/>\r\n     <use style=\"fill:#1f77b4;stroke:#1f77b4;\" x=\"437.757636\" xlink:href=\"#md222d8b101\" y=\"240.997573\"/>\r\n     <use style=\"fill:#1f77b4;stroke:#1f77b4;\" x=\"438.366364\" xlink:href=\"#md222d8b101\" y=\"95.379877\"/>\r\n     <use style=\"fill:#1f77b4;stroke:#1f77b4;\" x=\"438.975091\" xlink:href=\"#md222d8b101\" y=\"166.224886\"/>\r\n     <use style=\"fill:#1f77b4;stroke:#1f77b4;\" x=\"439.583818\" xlink:href=\"#md222d8b101\" y=\"123.225592\"/>\r\n     <use style=\"fill:#1f77b4;stroke:#1f77b4;\" x=\"440.192545\" xlink:href=\"#md222d8b101\" y=\"104.094342\"/>\r\n     <use style=\"fill:#1f77b4;stroke:#1f77b4;\" x=\"440.801273\" xlink:href=\"#md222d8b101\" y=\"127.380689\"/>\r\n     <use style=\"fill:#1f77b4;stroke:#1f77b4;\" x=\"441.41\" xlink:href=\"#md222d8b101\" y=\"158.101365\"/>\r\n     <use style=\"fill:#1f77b4;stroke:#1f77b4;\" x=\"442.018727\" xlink:href=\"#md222d8b101\" y=\"175.226297\"/>\r\n     <use style=\"fill:#1f77b4;stroke:#1f77b4;\" x=\"442.627455\" xlink:href=\"#md222d8b101\" y=\"183.800033\"/>\r\n     <use style=\"fill:#1f77b4;stroke:#1f77b4;\" x=\"443.236182\" xlink:href=\"#md222d8b101\" y=\"184.713756\"/>\r\n     <use style=\"fill:#1f77b4;stroke:#1f77b4;\" x=\"443.844909\" xlink:href=\"#md222d8b101\" y=\"155.913574\"/>\r\n     <use style=\"fill:#1f77b4;stroke:#1f77b4;\" x=\"444.453636\" xlink:href=\"#md222d8b101\" y=\"216.902976\"/>\r\n     <use style=\"fill:#1f77b4;stroke:#1f77b4;\" x=\"445.062364\" xlink:href=\"#md222d8b101\" y=\"121.858764\"/>\r\n     <use style=\"fill:#1f77b4;stroke:#1f77b4;\" x=\"445.671091\" xlink:href=\"#md222d8b101\" y=\"188.626697\"/>\r\n     <use style=\"fill:#1f77b4;stroke:#1f77b4;\" x=\"446.279818\" xlink:href=\"#md222d8b101\" y=\"163.515504\"/>\r\n     <use style=\"fill:#1f77b4;stroke:#1f77b4;\" x=\"446.888545\" xlink:href=\"#md222d8b101\" y=\"226.735754\"/>\r\n     <use style=\"fill:#1f77b4;stroke:#1f77b4;\" x=\"447.497273\" xlink:href=\"#md222d8b101\" y=\"130.459663\"/>\r\n     <use style=\"fill:#1f77b4;stroke:#1f77b4;\" x=\"448.106\" xlink:href=\"#md222d8b101\" y=\"136.365052\"/>\r\n     <use style=\"fill:#1f77b4;stroke:#1f77b4;\" x=\"448.714727\" xlink:href=\"#md222d8b101\" y=\"143.404069\"/>\r\n     <use style=\"fill:#1f77b4;stroke:#1f77b4;\" x=\"449.323455\" xlink:href=\"#md222d8b101\" y=\"131.555726\"/>\r\n     <use style=\"fill:#1f77b4;stroke:#1f77b4;\" x=\"449.932182\" xlink:href=\"#md222d8b101\" y=\"208.939834\"/>\r\n     <use style=\"fill:#1f77b4;stroke:#1f77b4;\" x=\"450.540909\" xlink:href=\"#md222d8b101\" y=\"145.606597\"/>\r\n     <use style=\"fill:#1f77b4;stroke:#1f77b4;\" x=\"451.149636\" xlink:href=\"#md222d8b101\" y=\"183.819394\"/>\r\n     <use style=\"fill:#1f77b4;stroke:#1f77b4;\" x=\"451.758364\" xlink:href=\"#md222d8b101\" y=\"129.782318\"/>\r\n     <use style=\"fill:#1f77b4;stroke:#1f77b4;\" x=\"452.367091\" xlink:href=\"#md222d8b101\" y=\"115.654292\"/>\r\n     <use style=\"fill:#1f77b4;stroke:#1f77b4;\" x=\"452.975818\" xlink:href=\"#md222d8b101\" y=\"178.883789\"/>\r\n     <use style=\"fill:#1f77b4;stroke:#1f77b4;\" x=\"453.584545\" xlink:href=\"#md222d8b101\" y=\"199.156181\"/>\r\n     <use style=\"fill:#1f77b4;stroke:#1f77b4;\" x=\"454.193273\" xlink:href=\"#md222d8b101\" y=\"225.989345\"/>\r\n     <use style=\"fill:#1f77b4;stroke:#1f77b4;\" x=\"454.802\" xlink:href=\"#md222d8b101\" y=\"169.151573\"/>\r\n     <use style=\"fill:#1f77b4;stroke:#1f77b4;\" x=\"455.410727\" xlink:href=\"#md222d8b101\" y=\"208.896488\"/>\r\n     <use style=\"fill:#1f77b4;stroke:#1f77b4;\" x=\"456.019455\" xlink:href=\"#md222d8b101\" y=\"86.727831\"/>\r\n     <use style=\"fill:#1f77b4;stroke:#1f77b4;\" x=\"456.628182\" xlink:href=\"#md222d8b101\" y=\"147.410636\"/>\r\n     <use style=\"fill:#1f77b4;stroke:#1f77b4;\" x=\"457.236909\" xlink:href=\"#md222d8b101\" y=\"154.393593\"/>\r\n     <use style=\"fill:#1f77b4;stroke:#1f77b4;\" x=\"457.845636\" xlink:href=\"#md222d8b101\" y=\"77.247307\"/>\r\n     <use style=\"fill:#1f77b4;stroke:#1f77b4;\" x=\"458.454364\" xlink:href=\"#md222d8b101\" y=\"166.519635\"/>\r\n     <use style=\"fill:#1f77b4;stroke:#1f77b4;\" x=\"459.063091\" xlink:href=\"#md222d8b101\" y=\"111.830643\"/>\r\n     <use style=\"fill:#1f77b4;stroke:#1f77b4;\" x=\"459.671818\" xlink:href=\"#md222d8b101\" y=\"200.426781\"/>\r\n     <use style=\"fill:#1f77b4;stroke:#1f77b4;\" x=\"460.280545\" xlink:href=\"#md222d8b101\" y=\"74.261093\"/>\r\n     <use style=\"fill:#1f77b4;stroke:#1f77b4;\" x=\"460.889273\" xlink:href=\"#md222d8b101\" y=\"139.250416\"/>\r\n     <use style=\"fill:#1f77b4;stroke:#1f77b4;\" x=\"461.498\" xlink:href=\"#md222d8b101\" y=\"187.532368\"/>\r\n     <use style=\"fill:#1f77b4;stroke:#1f77b4;\" x=\"462.106727\" xlink:href=\"#md222d8b101\" y=\"220.775461\"/>\r\n     <use style=\"fill:#1f77b4;stroke:#1f77b4;\" x=\"462.715455\" xlink:href=\"#md222d8b101\" y=\"257.373495\"/>\r\n     <use style=\"fill:#1f77b4;stroke:#1f77b4;\" x=\"463.324182\" xlink:href=\"#md222d8b101\" y=\"174.565712\"/>\r\n     <use style=\"fill:#1f77b4;stroke:#1f77b4;\" x=\"463.932909\" xlink:href=\"#md222d8b101\" y=\"187.537569\"/>\r\n     <use style=\"fill:#1f77b4;stroke:#1f77b4;\" x=\"464.541636\" xlink:href=\"#md222d8b101\" y=\"94.460664\"/>\r\n     <use style=\"fill:#1f77b4;stroke:#1f77b4;\" x=\"465.150364\" xlink:href=\"#md222d8b101\" y=\"164.669939\"/>\r\n     <use style=\"fill:#1f77b4;stroke:#1f77b4;\" x=\"465.759091\" xlink:href=\"#md222d8b101\" y=\"165.664573\"/>\r\n     <use style=\"fill:#1f77b4;stroke:#1f77b4;\" x=\"466.367818\" xlink:href=\"#md222d8b101\" y=\"129.536405\"/>\r\n     <use style=\"fill:#1f77b4;stroke:#1f77b4;\" x=\"466.976545\" xlink:href=\"#md222d8b101\" y=\"200.139834\"/>\r\n     <use style=\"fill:#1f77b4;stroke:#1f77b4;\" x=\"467.585273\" xlink:href=\"#md222d8b101\" y=\"162.002458\"/>\r\n     <use style=\"fill:#1f77b4;stroke:#1f77b4;\" x=\"468.194\" xlink:href=\"#md222d8b101\" y=\"177.281451\"/>\r\n     <use style=\"fill:#1f77b4;stroke:#1f77b4;\" x=\"468.802727\" xlink:href=\"#md222d8b101\" y=\"248.857264\"/>\r\n     <use style=\"fill:#1f77b4;stroke:#1f77b4;\" x=\"469.411455\" xlink:href=\"#md222d8b101\" y=\"111.834689\"/>\r\n     <use style=\"fill:#1f77b4;stroke:#1f77b4;\" x=\"470.020182\" xlink:href=\"#md222d8b101\" y=\"126.674158\"/>\r\n     <use style=\"fill:#1f77b4;stroke:#1f77b4;\" x=\"470.628909\" xlink:href=\"#md222d8b101\" y=\"153.124726\"/>\r\n     <use style=\"fill:#1f77b4;stroke:#1f77b4;\" x=\"471.237636\" xlink:href=\"#md222d8b101\" y=\"146.845411\"/>\r\n     <use style=\"fill:#1f77b4;stroke:#1f77b4;\" x=\"471.846364\" xlink:href=\"#md222d8b101\" y=\"130.327893\"/>\r\n     <use style=\"fill:#1f77b4;stroke:#1f77b4;\" x=\"472.455091\" xlink:href=\"#md222d8b101\" y=\"123.390016\"/>\r\n     <use style=\"fill:#1f77b4;stroke:#1f77b4;\" x=\"473.063818\" xlink:href=\"#md222d8b101\" y=\"181.96623\"/>\r\n     <use style=\"fill:#1f77b4;stroke:#1f77b4;\" x=\"473.672545\" xlink:href=\"#md222d8b101\" y=\"129.945297\"/>\r\n     <use style=\"fill:#1f77b4;stroke:#1f77b4;\" x=\"474.281273\" xlink:href=\"#md222d8b101\" y=\"202.57325\"/>\r\n     <use style=\"fill:#1f77b4;stroke:#1f77b4;\" x=\"474.89\" xlink:href=\"#md222d8b101\" y=\"189.659764\"/>\r\n     <use style=\"fill:#1f77b4;stroke:#1f77b4;\" x=\"475.498727\" xlink:href=\"#md222d8b101\" y=\"103.675913\"/>\r\n     <use style=\"fill:#1f77b4;stroke:#1f77b4;\" x=\"476.107455\" xlink:href=\"#md222d8b101\" y=\"138.533192\"/>\r\n     <use style=\"fill:#1f77b4;stroke:#1f77b4;\" x=\"476.716182\" xlink:href=\"#md222d8b101\" y=\"195.736511\"/>\r\n     <use style=\"fill:#1f77b4;stroke:#1f77b4;\" x=\"477.324909\" xlink:href=\"#md222d8b101\" y=\"129.768736\"/>\r\n     <use style=\"fill:#1f77b4;stroke:#1f77b4;\" x=\"477.933636\" xlink:href=\"#md222d8b101\" y=\"127.49541\"/>\r\n     <use style=\"fill:#1f77b4;stroke:#1f77b4;\" x=\"478.542364\" xlink:href=\"#md222d8b101\" y=\"139.607871\"/>\r\n     <use style=\"fill:#1f77b4;stroke:#1f77b4;\" x=\"479.151091\" xlink:href=\"#md222d8b101\" y=\"158.879272\"/>\r\n     <use style=\"fill:#1f77b4;stroke:#1f77b4;\" x=\"479.759818\" xlink:href=\"#md222d8b101\" y=\"211.975462\"/>\r\n     <use style=\"fill:#1f77b4;stroke:#1f77b4;\" x=\"480.368545\" xlink:href=\"#md222d8b101\" y=\"140.408896\"/>\r\n     <use style=\"fill:#1f77b4;stroke:#1f77b4;\" x=\"480.977273\" xlink:href=\"#md222d8b101\" y=\"173.101791\"/>\r\n     <use style=\"fill:#1f77b4;stroke:#1f77b4;\" x=\"481.586\" xlink:href=\"#md222d8b101\" y=\"245.350326\"/>\r\n     <use style=\"fill:#1f77b4;stroke:#1f77b4;\" x=\"482.194727\" xlink:href=\"#md222d8b101\" y=\"202.998902\"/>\r\n     <use style=\"fill:#1f77b4;stroke:#1f77b4;\" x=\"482.803455\" xlink:href=\"#md222d8b101\" y=\"216.696941\"/>\r\n     <use style=\"fill:#1f77b4;stroke:#1f77b4;\" x=\"483.412182\" xlink:href=\"#md222d8b101\" y=\"165.6822\"/>\r\n     <use style=\"fill:#1f77b4;stroke:#1f77b4;\" x=\"484.020909\" xlink:href=\"#md222d8b101\" y=\"199.377532\"/>\r\n     <use style=\"fill:#1f77b4;stroke:#1f77b4;\" x=\"484.629636\" xlink:href=\"#md222d8b101\" y=\"132.639652\"/>\r\n     <use style=\"fill:#1f77b4;stroke:#1f77b4;\" x=\"485.238364\" xlink:href=\"#md222d8b101\" y=\"154.524785\"/>\r\n     <use style=\"fill:#1f77b4;stroke:#1f77b4;\" x=\"485.847091\" xlink:href=\"#md222d8b101\" y=\"141.249798\"/>\r\n     <use style=\"fill:#1f77b4;stroke:#1f77b4;\" x=\"486.455818\" xlink:href=\"#md222d8b101\" y=\"211.635056\"/>\r\n     <use style=\"fill:#1f77b4;stroke:#1f77b4;\" x=\"487.064545\" xlink:href=\"#md222d8b101\" y=\"174.251891\"/>\r\n     <use style=\"fill:#1f77b4;stroke:#1f77b4;\" x=\"487.673273\" xlink:href=\"#md222d8b101\" y=\"168.081806\"/>\r\n     <use style=\"fill:#1f77b4;stroke:#1f77b4;\" x=\"488.282\" xlink:href=\"#md222d8b101\" y=\"203.578287\"/>\r\n     <use style=\"fill:#1f77b4;stroke:#1f77b4;\" x=\"488.890727\" xlink:href=\"#md222d8b101\" y=\"149.769208\"/>\r\n     <use style=\"fill:#1f77b4;stroke:#1f77b4;\" x=\"489.499455\" xlink:href=\"#md222d8b101\" y=\"212.5849\"/>\r\n     <use style=\"fill:#1f77b4;stroke:#1f77b4;\" x=\"490.108182\" xlink:href=\"#md222d8b101\" y=\"166.631177\"/>\r\n     <use style=\"fill:#1f77b4;stroke:#1f77b4;\" x=\"490.716909\" xlink:href=\"#md222d8b101\" y=\"165.264639\"/>\r\n     <use style=\"fill:#1f77b4;stroke:#1f77b4;\" x=\"491.325636\" xlink:href=\"#md222d8b101\" y=\"161.423363\"/>\r\n     <use style=\"fill:#1f77b4;stroke:#1f77b4;\" x=\"491.934364\" xlink:href=\"#md222d8b101\" y=\"174.916522\"/>\r\n     <use style=\"fill:#1f77b4;stroke:#1f77b4;\" x=\"492.543091\" xlink:href=\"#md222d8b101\" y=\"140.241871\"/>\r\n     <use style=\"fill:#1f77b4;stroke:#1f77b4;\" x=\"493.151818\" xlink:href=\"#md222d8b101\" y=\"162.911846\"/>\r\n     <use style=\"fill:#1f77b4;stroke:#1f77b4;\" x=\"493.760545\" xlink:href=\"#md222d8b101\" y=\"40.628468\"/>\r\n     <use style=\"fill:#1f77b4;stroke:#1f77b4;\" x=\"494.369273\" xlink:href=\"#md222d8b101\" y=\"207.393556\"/>\r\n     <use style=\"fill:#1f77b4;stroke:#1f77b4;\" x=\"494.978\" xlink:href=\"#md222d8b101\" y=\"172.509691\"/>\r\n     <use style=\"fill:#1f77b4;stroke:#1f77b4;\" x=\"495.586727\" xlink:href=\"#md222d8b101\" y=\"202.849216\"/>\r\n     <use style=\"fill:#1f77b4;stroke:#1f77b4;\" x=\"496.195455\" xlink:href=\"#md222d8b101\" y=\"226.875904\"/>\r\n     <use style=\"fill:#1f77b4;stroke:#1f77b4;\" x=\"496.804182\" xlink:href=\"#md222d8b101\" y=\"134.518534\"/>\r\n     <use style=\"fill:#1f77b4;stroke:#1f77b4;\" x=\"497.412909\" xlink:href=\"#md222d8b101\" y=\"163.877584\"/>\r\n     <use style=\"fill:#1f77b4;stroke:#1f77b4;\" x=\"498.021636\" xlink:href=\"#md222d8b101\" y=\"118.208497\"/>\r\n     <use style=\"fill:#1f77b4;stroke:#1f77b4;\" x=\"498.630364\" xlink:href=\"#md222d8b101\" y=\"94.233534\"/>\r\n     <use style=\"fill:#1f77b4;stroke:#1f77b4;\" x=\"499.239091\" xlink:href=\"#md222d8b101\" y=\"225.723493\"/>\r\n     <use style=\"fill:#1f77b4;stroke:#1f77b4;\" x=\"499.847818\" xlink:href=\"#md222d8b101\" y=\"154.024289\"/>\r\n     <use style=\"fill:#1f77b4;stroke:#1f77b4;\" x=\"500.456545\" xlink:href=\"#md222d8b101\" y=\"201.570235\"/>\r\n     <use style=\"fill:#1f77b4;stroke:#1f77b4;\" x=\"501.065273\" xlink:href=\"#md222d8b101\" y=\"173.588705\"/>\r\n     <use style=\"fill:#1f77b4;stroke:#1f77b4;\" x=\"501.674\" xlink:href=\"#md222d8b101\" y=\"93.335993\"/>\r\n     <use style=\"fill:#1f77b4;stroke:#1f77b4;\" x=\"502.282727\" xlink:href=\"#md222d8b101\" y=\"121.415195\"/>\r\n     <use style=\"fill:#1f77b4;stroke:#1f77b4;\" x=\"502.891455\" xlink:href=\"#md222d8b101\" y=\"165.450736\"/>\r\n     <use style=\"fill:#1f77b4;stroke:#1f77b4;\" x=\"503.500182\" xlink:href=\"#md222d8b101\" y=\"201.267106\"/>\r\n     <use style=\"fill:#1f77b4;stroke:#1f77b4;\" x=\"504.108909\" xlink:href=\"#md222d8b101\" y=\"185.950836\"/>\r\n     <use style=\"fill:#1f77b4;stroke:#1f77b4;\" x=\"504.717636\" xlink:href=\"#md222d8b101\" y=\"181.113769\"/>\r\n     <use style=\"fill:#1f77b4;stroke:#1f77b4;\" x=\"505.326364\" xlink:href=\"#md222d8b101\" y=\"200.467237\"/>\r\n     <use style=\"fill:#1f77b4;stroke:#1f77b4;\" x=\"505.935091\" xlink:href=\"#md222d8b101\" y=\"157.556946\"/>\r\n     <use style=\"fill:#1f77b4;stroke:#1f77b4;\" x=\"506.543818\" xlink:href=\"#md222d8b101\" y=\"166.331227\"/>\r\n     <use style=\"fill:#1f77b4;stroke:#1f77b4;\" x=\"507.152545\" xlink:href=\"#md222d8b101\" y=\"133.490668\"/>\r\n     <use style=\"fill:#1f77b4;stroke:#1f77b4;\" x=\"507.761273\" xlink:href=\"#md222d8b101\" y=\"268.235872\"/>\r\n     <use style=\"fill:#1f77b4;stroke:#1f77b4;\" x=\"508.37\" xlink:href=\"#md222d8b101\" y=\"111.133648\"/>\r\n     <use style=\"fill:#1f77b4;stroke:#1f77b4;\" x=\"508.978727\" xlink:href=\"#md222d8b101\" y=\"163.749281\"/>\r\n     <use style=\"fill:#1f77b4;stroke:#1f77b4;\" x=\"509.587455\" xlink:href=\"#md222d8b101\" y=\"192.010245\"/>\r\n     <use style=\"fill:#1f77b4;stroke:#1f77b4;\" x=\"510.196182\" xlink:href=\"#md222d8b101\" y=\"196.335835\"/>\r\n     <use style=\"fill:#1f77b4;stroke:#1f77b4;\" x=\"510.804909\" xlink:href=\"#md222d8b101\" y=\"201.219137\"/>\r\n     <use style=\"fill:#1f77b4;stroke:#1f77b4;\" x=\"511.413636\" xlink:href=\"#md222d8b101\" y=\"190.658444\"/>\r\n     <use style=\"fill:#1f77b4;stroke:#1f77b4;\" x=\"512.022364\" xlink:href=\"#md222d8b101\" y=\"183.173835\"/>\r\n     <use style=\"fill:#1f77b4;stroke:#1f77b4;\" x=\"512.631091\" xlink:href=\"#md222d8b101\" y=\"117.362393\"/>\r\n     <use style=\"fill:#1f77b4;stroke:#1f77b4;\" x=\"513.239818\" xlink:href=\"#md222d8b101\" y=\"84.803002\"/>\r\n     <use style=\"fill:#1f77b4;stroke:#1f77b4;\" x=\"513.848545\" xlink:href=\"#md222d8b101\" y=\"195.11147\"/>\r\n     <use style=\"fill:#1f77b4;stroke:#1f77b4;\" x=\"514.457273\" xlink:href=\"#md222d8b101\" y=\"159.414733\"/>\r\n     <use style=\"fill:#1f77b4;stroke:#1f77b4;\" x=\"515.066\" xlink:href=\"#md222d8b101\" y=\"222.51506\"/>\r\n     <use style=\"fill:#1f77b4;stroke:#1f77b4;\" x=\"515.674727\" xlink:href=\"#md222d8b101\" y=\"162.060252\"/>\r\n     <use style=\"fill:#1f77b4;stroke:#1f77b4;\" x=\"516.283455\" xlink:href=\"#md222d8b101\" y=\"119.075984\"/>\r\n     <use style=\"fill:#1f77b4;stroke:#1f77b4;\" x=\"516.892182\" xlink:href=\"#md222d8b101\" y=\"128.64291\"/>\r\n     <use style=\"fill:#1f77b4;stroke:#1f77b4;\" x=\"517.500909\" xlink:href=\"#md222d8b101\" y=\"157.529205\"/>\r\n     <use style=\"fill:#1f77b4;stroke:#1f77b4;\" x=\"518.109636\" xlink:href=\"#md222d8b101\" y=\"157.956591\"/>\r\n     <use style=\"fill:#1f77b4;stroke:#1f77b4;\" x=\"518.718364\" xlink:href=\"#md222d8b101\" y=\"198.343598\"/>\r\n     <use style=\"fill:#1f77b4;stroke:#1f77b4;\" x=\"519.327091\" xlink:href=\"#md222d8b101\" y=\"198.249682\"/>\r\n     <use style=\"fill:#1f77b4;stroke:#1f77b4;\" x=\"519.935818\" xlink:href=\"#md222d8b101\" y=\"136.67974\"/>\r\n     <use style=\"fill:#1f77b4;stroke:#1f77b4;\" x=\"520.544545\" xlink:href=\"#md222d8b101\" y=\"127.34688\"/>\r\n     <use style=\"fill:#1f77b4;stroke:#1f77b4;\" x=\"521.153273\" xlink:href=\"#md222d8b101\" y=\"216.959036\"/>\r\n     <use style=\"fill:#1f77b4;stroke:#1f77b4;\" x=\"521.762\" xlink:href=\"#md222d8b101\" y=\"132.112571\"/>\r\n     <use style=\"fill:#1f77b4;stroke:#1f77b4;\" x=\"522.370727\" xlink:href=\"#md222d8b101\" y=\"97.81127\"/>\r\n     <use style=\"fill:#1f77b4;stroke:#1f77b4;\" x=\"522.979455\" xlink:href=\"#md222d8b101\" y=\"150.645942\"/>\r\n     <use style=\"fill:#1f77b4;stroke:#1f77b4;\" x=\"523.588182\" xlink:href=\"#md222d8b101\" y=\"159.363007\"/>\r\n     <use style=\"fill:#1f77b4;stroke:#1f77b4;\" x=\"524.196909\" xlink:href=\"#md222d8b101\" y=\"92.482954\"/>\r\n     <use style=\"fill:#1f77b4;stroke:#1f77b4;\" x=\"524.805636\" xlink:href=\"#md222d8b101\" y=\"160.032551\"/>\r\n     <use style=\"fill:#1f77b4;stroke:#1f77b4;\" x=\"525.414364\" xlink:href=\"#md222d8b101\" y=\"255.229339\"/>\r\n     <use style=\"fill:#1f77b4;stroke:#1f77b4;\" x=\"526.023091\" xlink:href=\"#md222d8b101\" y=\"151.737093\"/>\r\n     <use style=\"fill:#1f77b4;stroke:#1f77b4;\" x=\"526.631818\" xlink:href=\"#md222d8b101\" y=\"171.998215\"/>\r\n     <use style=\"fill:#1f77b4;stroke:#1f77b4;\" x=\"527.240545\" xlink:href=\"#md222d8b101\" y=\"181.672637\"/>\r\n     <use style=\"fill:#1f77b4;stroke:#1f77b4;\" x=\"527.849273\" xlink:href=\"#md222d8b101\" y=\"134.874545\"/>\r\n     <use style=\"fill:#1f77b4;stroke:#1f77b4;\" x=\"528.458\" xlink:href=\"#md222d8b101\" y=\"150.732344\"/>\r\n     <use style=\"fill:#1f77b4;stroke:#1f77b4;\" x=\"529.066727\" xlink:href=\"#md222d8b101\" y=\"209.75155\"/>\r\n     <use style=\"fill:#1f77b4;stroke:#1f77b4;\" x=\"529.675455\" xlink:href=\"#md222d8b101\" y=\"147.057804\"/>\r\n     <use style=\"fill:#1f77b4;stroke:#1f77b4;\" x=\"530.284182\" xlink:href=\"#md222d8b101\" y=\"99.036502\"/>\r\n     <use style=\"fill:#1f77b4;stroke:#1f77b4;\" x=\"530.892909\" xlink:href=\"#md222d8b101\" y=\"120.92019\"/>\r\n     <use style=\"fill:#1f77b4;stroke:#1f77b4;\" x=\"531.501636\" xlink:href=\"#md222d8b101\" y=\"192.884668\"/>\r\n     <use style=\"fill:#1f77b4;stroke:#1f77b4;\" x=\"532.110364\" xlink:href=\"#md222d8b101\" y=\"165.633942\"/>\r\n     <use style=\"fill:#1f77b4;stroke:#1f77b4;\" x=\"532.719091\" xlink:href=\"#md222d8b101\" y=\"117.578832\"/>\r\n     <use style=\"fill:#1f77b4;stroke:#1f77b4;\" x=\"533.327818\" xlink:href=\"#md222d8b101\" y=\"163.825569\"/>\r\n     <use style=\"fill:#1f77b4;stroke:#1f77b4;\" x=\"533.936545\" xlink:href=\"#md222d8b101\" y=\"146.321797\"/>\r\n     <use style=\"fill:#1f77b4;stroke:#1f77b4;\" x=\"534.545273\" xlink:href=\"#md222d8b101\" y=\"180.454629\"/>\r\n     <use style=\"fill:#1f77b4;stroke:#1f77b4;\" x=\"535.154\" xlink:href=\"#md222d8b101\" y=\"200.157461\"/>\r\n     <use style=\"fill:#1f77b4;stroke:#1f77b4;\" x=\"535.762727\" xlink:href=\"#md222d8b101\" y=\"206.903174\"/>\r\n     <use style=\"fill:#1f77b4;stroke:#1f77b4;\" x=\"536.371455\" xlink:href=\"#md222d8b101\" y=\"141.949105\"/>\r\n     <use style=\"fill:#1f77b4;stroke:#1f77b4;\" x=\"536.980182\" xlink:href=\"#md222d8b101\" y=\"241.809\"/>\r\n     <use style=\"fill:#1f77b4;stroke:#1f77b4;\" x=\"537.588909\" xlink:href=\"#md222d8b101\" y=\"208.517071\"/>\r\n     <use style=\"fill:#1f77b4;stroke:#1f77b4;\" x=\"538.197636\" xlink:href=\"#md222d8b101\" y=\"169.860994\"/>\r\n     <use style=\"fill:#1f77b4;stroke:#1f77b4;\" x=\"538.806364\" xlink:href=\"#md222d8b101\" y=\"152.581752\"/>\r\n     <use style=\"fill:#1f77b4;stroke:#1f77b4;\" x=\"539.415091\" xlink:href=\"#md222d8b101\" y=\"98.707365\"/>\r\n     <use style=\"fill:#1f77b4;stroke:#1f77b4;\" x=\"540.023818\" xlink:href=\"#md222d8b101\" y=\"235.330585\"/>\r\n     <use style=\"fill:#1f77b4;stroke:#1f77b4;\" x=\"540.632545\" xlink:href=\"#md222d8b101\" y=\"176.667968\"/>\r\n     <use style=\"fill:#1f77b4;stroke:#1f77b4;\" x=\"541.241273\" xlink:href=\"#md222d8b101\" y=\"186.550448\"/>\r\n     <use style=\"fill:#1f77b4;stroke:#1f77b4;\" x=\"541.85\" xlink:href=\"#md222d8b101\" y=\"157.150654\"/>\r\n     <use style=\"fill:#1f77b4;stroke:#1f77b4;\" x=\"542.458727\" xlink:href=\"#md222d8b101\" y=\"153.152467\"/>\r\n     <use style=\"fill:#1f77b4;stroke:#1f77b4;\" x=\"543.067455\" xlink:href=\"#md222d8b101\" y=\"189.638091\"/>\r\n     <use style=\"fill:#1f77b4;stroke:#1f77b4;\" x=\"543.676182\" xlink:href=\"#md222d8b101\" y=\"187.995876\"/>\r\n     <use style=\"fill:#1f77b4;stroke:#1f77b4;\" x=\"544.284909\" xlink:href=\"#md222d8b101\" y=\"116.65904\"/>\r\n     <use style=\"fill:#1f77b4;stroke:#1f77b4;\" x=\"544.893636\" xlink:href=\"#md222d8b101\" y=\"56.922901\"/>\r\n     <use style=\"fill:#1f77b4;stroke:#1f77b4;\" x=\"545.502364\" xlink:href=\"#md222d8b101\" y=\"205.361231\"/>\r\n     <use style=\"fill:#1f77b4;stroke:#1f77b4;\" x=\"546.111091\" xlink:href=\"#md222d8b101\" y=\"175.680558\"/>\r\n     <use style=\"fill:#1f77b4;stroke:#1f77b4;\" x=\"546.719818\" xlink:href=\"#md222d8b101\" y=\"120.977117\"/>\r\n     <use style=\"fill:#1f77b4;stroke:#1f77b4;\" x=\"547.328545\" xlink:href=\"#md222d8b101\" y=\"229.665619\"/>\r\n     <use style=\"fill:#1f77b4;stroke:#1f77b4;\" x=\"547.937273\" xlink:href=\"#md222d8b101\" y=\"98.329971\"/>\r\n     <use style=\"fill:#1f77b4;stroke:#1f77b4;\" x=\"548.546\" xlink:href=\"#md222d8b101\" y=\"197.312553\"/>\r\n     <use style=\"fill:#1f77b4;stroke:#1f77b4;\" x=\"549.154727\" xlink:href=\"#md222d8b101\" y=\"196.601398\"/>\r\n     <use style=\"fill:#1f77b4;stroke:#1f77b4;\" x=\"549.763455\" xlink:href=\"#md222d8b101\" y=\"127.774266\"/>\r\n     <use style=\"fill:#1f77b4;stroke:#1f77b4;\" x=\"550.372182\" xlink:href=\"#md222d8b101\" y=\"207.505965\"/>\r\n     <use style=\"fill:#1f77b4;stroke:#1f77b4;\" x=\"550.980909\" xlink:href=\"#md222d8b101\" y=\"242.807391\"/>\r\n     <use style=\"fill:#1f77b4;stroke:#1f77b4;\" x=\"551.589636\" xlink:href=\"#md222d8b101\" y=\"154.386368\"/>\r\n     <use style=\"fill:#1f77b4;stroke:#1f77b4;\" x=\"552.198364\" xlink:href=\"#md222d8b101\" y=\"250.28622\"/>\r\n     <use style=\"fill:#1f77b4;stroke:#1f77b4;\" x=\"552.807091\" xlink:href=\"#md222d8b101\" y=\"199.641361\"/>\r\n     <use style=\"fill:#1f77b4;stroke:#1f77b4;\" x=\"553.415818\" xlink:href=\"#md222d8b101\" y=\"162.771985\"/>\r\n     <use style=\"fill:#1f77b4;stroke:#1f77b4;\" x=\"554.024545\" xlink:href=\"#md222d8b101\" y=\"207.837992\"/>\r\n     <use style=\"fill:#1f77b4;stroke:#1f77b4;\" x=\"554.633273\" xlink:href=\"#md222d8b101\" y=\"167.008283\"/>\r\n     <use style=\"fill:#1f77b4;stroke:#1f77b4;\" x=\"555.242\" xlink:href=\"#md222d8b101\" y=\"226.415864\"/>\r\n     <use style=\"fill:#1f77b4;stroke:#1f77b4;\" x=\"555.850727\" xlink:href=\"#md222d8b101\" y=\"189.091071\"/>\r\n     <use style=\"fill:#1f77b4;stroke:#1f77b4;\" x=\"556.459455\" xlink:href=\"#md222d8b101\" y=\"189.190766\"/>\r\n     <use style=\"fill:#1f77b4;stroke:#1f77b4;\" x=\"557.068182\" xlink:href=\"#md222d8b101\" y=\"209.070448\"/>\r\n     <use style=\"fill:#1f77b4;stroke:#1f77b4;\" x=\"557.676909\" xlink:href=\"#md222d8b101\" y=\"170.924114\"/>\r\n     <use style=\"fill:#1f77b4;stroke:#1f77b4;\" x=\"558.285636\" xlink:href=\"#md222d8b101\" y=\"179.924369\"/>\r\n     <use style=\"fill:#1f77b4;stroke:#1f77b4;\" x=\"558.894364\" xlink:href=\"#md222d8b101\" y=\"204.657878\"/>\r\n     <use style=\"fill:#1f77b4;stroke:#1f77b4;\" x=\"559.503091\" xlink:href=\"#md222d8b101\" y=\"132.654967\"/>\r\n     <use style=\"fill:#1f77b4;stroke:#1f77b4;\" x=\"560.111818\" xlink:href=\"#md222d8b101\" y=\"190.620589\"/>\r\n     <use style=\"fill:#1f77b4;stroke:#1f77b4;\" x=\"560.720545\" xlink:href=\"#md222d8b101\" y=\"159.584069\"/>\r\n     <use style=\"fill:#1f77b4;stroke:#1f77b4;\" x=\"561.329273\" xlink:href=\"#md222d8b101\" y=\"127.771377\"/>\r\n     <use style=\"fill:#1f77b4;stroke:#1f77b4;\" x=\"561.938\" xlink:href=\"#md222d8b101\" y=\"157.444825\"/>\r\n     <use style=\"fill:#1f77b4;stroke:#1f77b4;\" x=\"562.546727\" xlink:href=\"#md222d8b101\" y=\"98.613161\"/>\r\n     <use style=\"fill:#1f77b4;stroke:#1f77b4;\" x=\"563.155455\" xlink:href=\"#md222d8b101\" y=\"156.761123\"/>\r\n     <use style=\"fill:#1f77b4;stroke:#1f77b4;\" x=\"563.764182\" xlink:href=\"#md222d8b101\" y=\"175.564392\"/>\r\n     <use style=\"fill:#1f77b4;stroke:#1f77b4;\" x=\"564.372909\" xlink:href=\"#md222d8b101\" y=\"165.897194\"/>\r\n     <use style=\"fill:#1f77b4;stroke:#1f77b4;\" x=\"564.981636\" xlink:href=\"#md222d8b101\" y=\"137.144692\"/>\r\n     <use style=\"fill:#1f77b4;stroke:#1f77b4;\" x=\"565.590364\" xlink:href=\"#md222d8b101\" y=\"173.986328\"/>\r\n     <use style=\"fill:#1f77b4;stroke:#1f77b4;\" x=\"566.199091\" xlink:href=\"#md222d8b101\" y=\"168.95045\"/>\r\n     <use style=\"fill:#1f77b4;stroke:#1f77b4;\" x=\"566.807818\" xlink:href=\"#md222d8b101\" y=\"215.374037\"/>\r\n     <use style=\"fill:#1f77b4;stroke:#1f77b4;\" x=\"567.416545\" xlink:href=\"#md222d8b101\" y=\"165.771203\"/>\r\n     <use style=\"fill:#1f77b4;stroke:#1f77b4;\" x=\"568.025273\" xlink:href=\"#md222d8b101\" y=\"94.210994\"/>\r\n     <use style=\"fill:#1f77b4;stroke:#1f77b4;\" x=\"568.634\" xlink:href=\"#md222d8b101\" y=\"186.099944\"/>\r\n     <use style=\"fill:#1f77b4;stroke:#1f77b4;\" x=\"569.242727\" xlink:href=\"#md222d8b101\" y=\"178.555519\"/>\r\n     <use style=\"fill:#1f77b4;stroke:#1f77b4;\" x=\"569.851455\" xlink:href=\"#md222d8b101\" y=\"219.19942\"/>\r\n     <use style=\"fill:#1f77b4;stroke:#1f77b4;\" x=\"570.460182\" xlink:href=\"#md222d8b101\" y=\"183.170946\"/>\r\n     <use style=\"fill:#1f77b4;stroke:#1f77b4;\" x=\"571.068909\" xlink:href=\"#md222d8b101\" y=\"164.233595\"/>\r\n     <use style=\"fill:#1f77b4;stroke:#1f77b4;\" x=\"571.677636\" xlink:href=\"#md222d8b101\" y=\"130.024475\"/>\r\n     <use style=\"fill:#1f77b4;stroke:#1f77b4;\" x=\"572.286364\" xlink:href=\"#md222d8b101\" y=\"178.094612\"/>\r\n     <use style=\"fill:#1f77b4;stroke:#1f77b4;\" x=\"572.895091\" xlink:href=\"#md222d8b101\" y=\"145.895567\"/>\r\n     <use style=\"fill:#1f77b4;stroke:#1f77b4;\" x=\"573.503818\" xlink:href=\"#md222d8b101\" y=\"146.7671\"/>\r\n     <use style=\"fill:#1f77b4;stroke:#1f77b4;\" x=\"574.112545\" xlink:href=\"#md222d8b101\" y=\"189.567583\"/>\r\n     <use style=\"fill:#1f77b4;stroke:#1f77b4;\" x=\"574.721273\" xlink:href=\"#md222d8b101\" y=\"210.411846\"/>\r\n     <use style=\"fill:#1f77b4;stroke:#1f77b4;\" x=\"575.33\" xlink:href=\"#md222d8b101\" y=\"246.262315\"/>\r\n     <use style=\"fill:#1f77b4;stroke:#1f77b4;\" x=\"575.938727\" xlink:href=\"#md222d8b101\" y=\"125.452971\"/>\r\n     <use style=\"fill:#1f77b4;stroke:#1f77b4;\" x=\"576.547455\" xlink:href=\"#md222d8b101\" y=\"193.713722\"/>\r\n     <use style=\"fill:#1f77b4;stroke:#1f77b4;\" x=\"577.156182\" xlink:href=\"#md222d8b101\" y=\"176.485917\"/>\r\n     <use style=\"fill:#1f77b4;stroke:#1f77b4;\" x=\"577.764909\" xlink:href=\"#md222d8b101\" y=\"250.44891\"/>\r\n     <use style=\"fill:#1f77b4;stroke:#1f77b4;\" x=\"578.373636\" xlink:href=\"#md222d8b101\" y=\"160.979794\"/>\r\n     <use style=\"fill:#1f77b4;stroke:#1f77b4;\" x=\"578.982364\" xlink:href=\"#md222d8b101\" y=\"215.30006\"/>\r\n     <use style=\"fill:#1f77b4;stroke:#1f77b4;\" x=\"579.591091\" xlink:href=\"#md222d8b101\" y=\"158.010339\"/>\r\n     <use style=\"fill:#1f77b4;stroke:#1f77b4;\" x=\"580.199818\" xlink:href=\"#md222d8b101\" y=\"211.564547\"/>\r\n     <use style=\"fill:#1f77b4;stroke:#1f77b4;\" x=\"580.808545\" xlink:href=\"#md222d8b101\" y=\"248.279324\"/>\r\n     <use style=\"fill:#1f77b4;stroke:#1f77b4;\" x=\"581.417273\" xlink:href=\"#md222d8b101\" y=\"222.249786\"/>\r\n     <use style=\"fill:#1f77b4;stroke:#1f77b4;\" x=\"582.026\" xlink:href=\"#md222d8b101\" y=\"173.664126\"/>\r\n     <use style=\"fill:#1f77b4;stroke:#1f77b4;\" x=\"582.634727\" xlink:href=\"#md222d8b101\" y=\"174.999456\"/>\r\n     <use style=\"fill:#1f77b4;stroke:#1f77b4;\" x=\"583.243455\" xlink:href=\"#md222d8b101\" y=\"178.559854\"/>\r\n     <use style=\"fill:#1f77b4;stroke:#1f77b4;\" x=\"583.852182\" xlink:href=\"#md222d8b101\" y=\"163.313803\"/>\r\n     <use style=\"fill:#1f77b4;stroke:#1f77b4;\" x=\"584.460909\" xlink:href=\"#md222d8b101\" y=\"198.700475\"/>\r\n     <use style=\"fill:#1f77b4;stroke:#1f77b4;\" x=\"585.069636\" xlink:href=\"#md222d8b101\" y=\"153.052772\"/>\r\n     <use style=\"fill:#1f77b4;stroke:#1f77b4;\" x=\"585.678364\" xlink:href=\"#md222d8b101\" y=\"239.307099\"/>\r\n     <use style=\"fill:#1f77b4;stroke:#1f77b4;\" x=\"586.287091\" xlink:href=\"#md222d8b101\" y=\"200.927855\"/>\r\n     <use style=\"fill:#1f77b4;stroke:#1f77b4;\" x=\"586.895818\" xlink:href=\"#md222d8b101\" y=\"120.122633\"/>\r\n     <use style=\"fill:#1f77b4;stroke:#1f77b4;\" x=\"587.504545\" xlink:href=\"#md222d8b101\" y=\"193.715167\"/>\r\n     <use style=\"fill:#1f77b4;stroke:#1f77b4;\" x=\"588.113273\" xlink:href=\"#md222d8b101\" y=\"150.255833\"/>\r\n     <use style=\"fill:#1f77b4;stroke:#1f77b4;\" x=\"588.722\" xlink:href=\"#md222d8b101\" y=\"174.875777\"/>\r\n     <use style=\"fill:#1f77b4;stroke:#1f77b4;\" x=\"589.330727\" xlink:href=\"#md222d8b101\" y=\"274.373881\"/>\r\n     <use style=\"fill:#1f77b4;stroke:#1f77b4;\" x=\"589.939455\" xlink:href=\"#md222d8b101\" y=\"191.034394\"/>\r\n     <use style=\"fill:#1f77b4;stroke:#1f77b4;\" x=\"590.548182\" xlink:href=\"#md222d8b101\" y=\"143.09516\"/>\r\n     <use style=\"fill:#1f77b4;stroke:#1f77b4;\" x=\"591.156909\" xlink:href=\"#md222d8b101\" y=\"188.882724\"/>\r\n     <use style=\"fill:#1f77b4;stroke:#1f77b4;\" x=\"591.765636\" xlink:href=\"#md222d8b101\" y=\"97.995344\"/>\r\n     <use style=\"fill:#1f77b4;stroke:#1f77b4;\" x=\"592.374364\" xlink:href=\"#md222d8b101\" y=\"152.362423\"/>\r\n     <use style=\"fill:#1f77b4;stroke:#1f77b4;\" x=\"592.983091\" xlink:href=\"#md222d8b101\" y=\"185.383877\"/>\r\n     <use style=\"fill:#1f77b4;stroke:#1f77b4;\" x=\"593.591818\" xlink:href=\"#md222d8b101\" y=\"93.711076\"/>\r\n     <use style=\"fill:#1f77b4;stroke:#1f77b4;\" x=\"594.200545\" xlink:href=\"#md222d8b101\" y=\"167.866524\"/>\r\n     <use style=\"fill:#1f77b4;stroke:#1f77b4;\" x=\"594.809273\" xlink:href=\"#md222d8b101\" y=\"131.421644\"/>\r\n     <use style=\"fill:#1f77b4;stroke:#1f77b4;\" x=\"595.418\" xlink:href=\"#md222d8b101\" y=\"179.922924\"/>\r\n     <use style=\"fill:#1f77b4;stroke:#1f77b4;\" x=\"596.026727\" xlink:href=\"#md222d8b101\" y=\"137.940226\"/>\r\n     <use style=\"fill:#1f77b4;stroke:#1f77b4;\" x=\"596.635455\" xlink:href=\"#md222d8b101\" y=\"117.537509\"/>\r\n     <use style=\"fill:#1f77b4;stroke:#1f77b4;\" x=\"597.244182\" xlink:href=\"#md222d8b101\" y=\"151.026805\"/>\r\n     <use style=\"fill:#1f77b4;stroke:#1f77b4;\" x=\"597.852909\" xlink:href=\"#md222d8b101\" y=\"150.519663\"/>\r\n     <use style=\"fill:#1f77b4;stroke:#1f77b4;\" x=\"598.461636\" xlink:href=\"#md222d8b101\" y=\"107.090381\"/>\r\n     <use style=\"fill:#1f77b4;stroke:#1f77b4;\" x=\"599.070364\" xlink:href=\"#md222d8b101\" y=\"148.244603\"/>\r\n     <use style=\"fill:#1f77b4;stroke:#1f77b4;\" x=\"599.679091\" xlink:href=\"#md222d8b101\" y=\"134.397745\"/>\r\n     <use style=\"fill:#1f77b4;stroke:#1f77b4;\" x=\"600.287818\" xlink:href=\"#md222d8b101\" y=\"204.46369\"/>\r\n     <use style=\"fill:#1f77b4;stroke:#1f77b4;\" x=\"600.896545\" xlink:href=\"#md222d8b101\" y=\"173.858892\"/>\r\n     <use style=\"fill:#1f77b4;stroke:#1f77b4;\" x=\"601.505273\" xlink:href=\"#md222d8b101\" y=\"160.020414\"/>\r\n     <use style=\"fill:#1f77b4;stroke:#1f77b4;\" x=\"602.114\" xlink:href=\"#md222d8b101\" y=\"190.563084\"/>\r\n     <use style=\"fill:#1f77b4;stroke:#1f77b4;\" x=\"602.722727\" xlink:href=\"#md222d8b101\" y=\"149.372741\"/>\r\n     <use style=\"fill:#1f77b4;stroke:#1f77b4;\" x=\"603.331455\" xlink:href=\"#md222d8b101\" y=\"182.546193\"/>\r\n     <use style=\"fill:#1f77b4;stroke:#1f77b4;\" x=\"603.940182\" xlink:href=\"#md222d8b101\" y=\"205.636619\"/>\r\n     <use style=\"fill:#1f77b4;stroke:#1f77b4;\" x=\"604.548909\" xlink:href=\"#md222d8b101\" y=\"189.319936\"/>\r\n     <use style=\"fill:#1f77b4;stroke:#1f77b4;\" x=\"605.157636\" xlink:href=\"#md222d8b101\" y=\"227.990461\"/>\r\n     <use style=\"fill:#1f77b4;stroke:#1f77b4;\" x=\"605.766364\" xlink:href=\"#md222d8b101\" y=\"142.266105\"/>\r\n     <use style=\"fill:#1f77b4;stroke:#1f77b4;\" x=\"606.375091\" xlink:href=\"#md222d8b101\" y=\"163.672704\"/>\r\n     <use style=\"fill:#1f77b4;stroke:#1f77b4;\" x=\"606.983818\" xlink:href=\"#md222d8b101\" y=\"167.882995\"/>\r\n     <use style=\"fill:#1f77b4;stroke:#1f77b4;\" x=\"607.592545\" xlink:href=\"#md222d8b101\" y=\"178.895926\"/>\r\n     <use style=\"fill:#1f77b4;stroke:#1f77b4;\" x=\"608.201273\" xlink:href=\"#md222d8b101\" y=\"125.324669\"/>\r\n     <use style=\"fill:#1f77b4;stroke:#1f77b4;\" x=\"608.81\" xlink:href=\"#md222d8b101\" y=\"186.299623\"/>\r\n     <use style=\"fill:#1f77b4;stroke:#1f77b4;\" x=\"609.418727\" xlink:href=\"#md222d8b101\" y=\"163.976411\"/>\r\n     <use style=\"fill:#1f77b4;stroke:#1f77b4;\" x=\"610.027455\" xlink:href=\"#md222d8b101\" y=\"129.505774\"/>\r\n     <use style=\"fill:#1f77b4;stroke:#1f77b4;\" x=\"610.636182\" xlink:href=\"#md222d8b101\" y=\"210.910608\"/>\r\n     <use style=\"fill:#1f77b4;stroke:#1f77b4;\" x=\"611.244909\" xlink:href=\"#md222d8b101\" y=\"150.117705\"/>\r\n     <use style=\"fill:#1f77b4;stroke:#1f77b4;\" x=\"611.853636\" xlink:href=\"#md222d8b101\" y=\"135.806762\"/>\r\n     <use style=\"fill:#1f77b4;stroke:#1f77b4;\" x=\"612.462364\" xlink:href=\"#md222d8b101\" y=\"153.234534\"/>\r\n     <use style=\"fill:#1f77b4;stroke:#1f77b4;\" x=\"613.071091\" xlink:href=\"#md222d8b101\" y=\"180.021752\"/>\r\n     <use style=\"fill:#1f77b4;stroke:#1f77b4;\" x=\"613.679818\" xlink:href=\"#md222d8b101\" y=\"125.841347\"/>\r\n     <use style=\"fill:#1f77b4;stroke:#1f77b4;\" x=\"614.288545\" xlink:href=\"#md222d8b101\" y=\"179.531659\"/>\r\n     <use style=\"fill:#1f77b4;stroke:#1f77b4;\" x=\"614.897273\" xlink:href=\"#md222d8b101\" y=\"90.39168\"/>\r\n     <use style=\"fill:#1f77b4;stroke:#1f77b4;\" x=\"615.506\" xlink:href=\"#md222d8b101\" y=\"240.992949\"/>\r\n     <use style=\"fill:#1f77b4;stroke:#1f77b4;\" x=\"616.114727\" xlink:href=\"#md222d8b101\" y=\"151.035474\"/>\r\n     <use style=\"fill:#1f77b4;stroke:#1f77b4;\" x=\"616.723455\" xlink:href=\"#md222d8b101\" y=\"189.708889\"/>\r\n     <use style=\"fill:#1f77b4;stroke:#1f77b4;\" x=\"617.332182\" xlink:href=\"#md222d8b101\" y=\"190.434781\"/>\r\n     <use style=\"fill:#1f77b4;stroke:#1f77b4;\" x=\"617.940909\" xlink:href=\"#md222d8b101\" y=\"178.587595\"/>\r\n     <use style=\"fill:#1f77b4;stroke:#1f77b4;\" x=\"618.549636\" xlink:href=\"#md222d8b101\" y=\"91.547559\"/>\r\n     <use style=\"fill:#1f77b4;stroke:#1f77b4;\" x=\"619.158364\" xlink:href=\"#md222d8b101\" y=\"115.361277\"/>\r\n     <use style=\"fill:#1f77b4;stroke:#1f77b4;\" x=\"619.767091\" xlink:href=\"#md222d8b101\" y=\"165.073919\"/>\r\n     <use style=\"fill:#1f77b4;stroke:#1f77b4;\" x=\"620.375818\" xlink:href=\"#md222d8b101\" y=\"179.874666\"/>\r\n     <use style=\"fill:#1f77b4;stroke:#1f77b4;\" x=\"620.984545\" xlink:href=\"#md222d8b101\" y=\"105.067303\"/>\r\n     <use style=\"fill:#1f77b4;stroke:#1f77b4;\" x=\"621.593273\" xlink:href=\"#md222d8b101\" y=\"76.169739\"/>\r\n     <use style=\"fill:#1f77b4;stroke:#1f77b4;\" x=\"622.202\" xlink:href=\"#md222d8b101\" y=\"149.374186\"/>\r\n     <use style=\"fill:#1f77b4;stroke:#1f77b4;\" x=\"622.810727\" xlink:href=\"#md222d8b101\" y=\"219.412969\"/>\r\n     <use style=\"fill:#1f77b4;stroke:#1f77b4;\" x=\"623.419455\" xlink:href=\"#md222d8b101\" y=\"216.98331\"/>\r\n     <use style=\"fill:#1f77b4;stroke:#1f77b4;\" x=\"624.028182\" xlink:href=\"#md222d8b101\" y=\"191.468427\"/>\r\n     <use style=\"fill:#1f77b4;stroke:#1f77b4;\" x=\"624.636909\" xlink:href=\"#md222d8b101\" y=\"151.134879\"/>\r\n     <use style=\"fill:#1f77b4;stroke:#1f77b4;\" x=\"625.245636\" xlink:href=\"#md222d8b101\" y=\"127.324051\"/>\r\n     <use style=\"fill:#1f77b4;stroke:#1f77b4;\" x=\"625.854364\" xlink:href=\"#md222d8b101\" y=\"163.325651\"/>\r\n     <use style=\"fill:#1f77b4;stroke:#1f77b4;\" x=\"626.463091\" xlink:href=\"#md222d8b101\" y=\"165.364045\"/>\r\n     <use style=\"fill:#1f77b4;stroke:#1f77b4;\" x=\"627.071818\" xlink:href=\"#md222d8b101\" y=\"131.292475\"/>\r\n     <use style=\"fill:#1f77b4;stroke:#1f77b4;\" x=\"627.680545\" xlink:href=\"#md222d8b101\" y=\"132.469738\"/>\r\n     <use style=\"fill:#1f77b4;stroke:#1f77b4;\" x=\"628.289273\" xlink:href=\"#md222d8b101\" y=\"132.999131\"/>\r\n     <use style=\"fill:#1f77b4;stroke:#1f77b4;\" x=\"628.898\" xlink:href=\"#md222d8b101\" y=\"151.187761\"/>\r\n     <use style=\"fill:#1f77b4;stroke:#1f77b4;\" x=\"629.506727\" xlink:href=\"#md222d8b101\" y=\"146.210544\"/>\r\n     <use style=\"fill:#1f77b4;stroke:#1f77b4;\" x=\"630.115455\" xlink:href=\"#md222d8b101\" y=\"135.306266\"/>\r\n     <use style=\"fill:#1f77b4;stroke:#1f77b4;\" x=\"630.724182\" xlink:href=\"#md222d8b101\" y=\"199.611886\"/>\r\n     <use style=\"fill:#1f77b4;stroke:#1f77b4;\" x=\"631.332909\" xlink:href=\"#md222d8b101\" y=\"192.363366\"/>\r\n     <use style=\"fill:#1f77b4;stroke:#1f77b4;\" x=\"631.941636\" xlink:href=\"#md222d8b101\" y=\"162.224387\"/>\r\n     <use style=\"fill:#1f77b4;stroke:#1f77b4;\" x=\"632.550364\" xlink:href=\"#md222d8b101\" y=\"192.199231\"/>\r\n     <use style=\"fill:#1f77b4;stroke:#1f77b4;\" x=\"633.159091\" xlink:href=\"#md222d8b101\" y=\"207.158623\"/>\r\n     <use style=\"fill:#1f77b4;stroke:#1f77b4;\" x=\"633.767818\" xlink:href=\"#md222d8b101\" y=\"168.662636\"/>\r\n     <use style=\"fill:#1f77b4;stroke:#1f77b4;\" x=\"634.376545\" xlink:href=\"#md222d8b101\" y=\"204.221245\"/>\r\n     <use style=\"fill:#1f77b4;stroke:#1f77b4;\" x=\"634.985273\" xlink:href=\"#md222d8b101\" y=\"152.783452\"/>\r\n     <use style=\"fill:#1f77b4;stroke:#1f77b4;\" x=\"635.594\" xlink:href=\"#md222d8b101\" y=\"91.627315\"/>\r\n     <use style=\"fill:#1f77b4;stroke:#1f77b4;\" x=\"636.202727\" xlink:href=\"#md222d8b101\" y=\"168.11157\"/>\r\n     <use style=\"fill:#1f77b4;stroke:#1f77b4;\" x=\"636.811455\" xlink:href=\"#md222d8b101\" y=\"80.760892\"/>\r\n     <use style=\"fill:#1f77b4;stroke:#1f77b4;\" x=\"637.420182\" xlink:href=\"#md222d8b101\" y=\"161.760301\"/>\r\n     <use style=\"fill:#1f77b4;stroke:#1f77b4;\" x=\"638.028909\" xlink:href=\"#md222d8b101\" y=\"191.411499\"/>\r\n     <use style=\"fill:#1f77b4;stroke:#1f77b4;\" x=\"638.637636\" xlink:href=\"#md222d8b101\" y=\"160.229917\"/>\r\n     <use style=\"fill:#1f77b4;stroke:#1f77b4;\" x=\"639.246364\" xlink:href=\"#md222d8b101\" y=\"128.066993\"/>\r\n     <use style=\"fill:#1f77b4;stroke:#1f77b4;\" x=\"639.855091\" xlink:href=\"#md222d8b101\" y=\"145.118527\"/>\r\n     <use style=\"fill:#1f77b4;stroke:#1f77b4;\" x=\"640.463818\" xlink:href=\"#md222d8b101\" y=\"75.791766\"/>\r\n     <use style=\"fill:#1f77b4;stroke:#1f77b4;\" x=\"641.072545\" xlink:href=\"#md222d8b101\" y=\"128.2502\"/>\r\n     <use style=\"fill:#1f77b4;stroke:#1f77b4;\" x=\"641.681273\" xlink:href=\"#md222d8b101\" y=\"243.078734\"/>\r\n     <use style=\"fill:#1f77b4;stroke:#1f77b4;\" x=\"642.29\" xlink:href=\"#md222d8b101\" y=\"167.82549\"/>\r\n     <use style=\"fill:#1f77b4;stroke:#1f77b4;\" x=\"642.898727\" xlink:href=\"#md222d8b101\" y=\"269.767124\"/>\r\n     <use style=\"fill:#1f77b4;stroke:#1f77b4;\" x=\"643.507455\" xlink:href=\"#md222d8b101\" y=\"77.691165\"/>\r\n     <use style=\"fill:#1f77b4;stroke:#1f77b4;\" x=\"644.116182\" xlink:href=\"#md222d8b101\" y=\"203.443338\"/>\r\n     <use style=\"fill:#1f77b4;stroke:#1f77b4;\" x=\"644.724909\" xlink:href=\"#md222d8b101\" y=\"97.620839\"/>\r\n     <use style=\"fill:#1f77b4;stroke:#1f77b4;\" x=\"645.333636\" xlink:href=\"#md222d8b101\" y=\"95.071835\"/>\r\n     <use style=\"fill:#1f77b4;stroke:#1f77b4;\" x=\"645.942364\" xlink:href=\"#md222d8b101\" y=\"206.57317\"/>\r\n     <use style=\"fill:#1f77b4;stroke:#1f77b4;\" x=\"646.551091\" xlink:href=\"#md222d8b101\" y=\"185.02122\"/>\r\n     <use style=\"fill:#1f77b4;stroke:#1f77b4;\" x=\"647.159818\" xlink:href=\"#md222d8b101\" y=\"206.428397\"/>\r\n     <use style=\"fill:#1f77b4;stroke:#1f77b4;\" x=\"647.768545\" xlink:href=\"#md222d8b101\" y=\"169.324088\"/>\r\n     <use style=\"fill:#1f77b4;stroke:#1f77b4;\" x=\"648.377273\" xlink:href=\"#md222d8b101\" y=\"181.693732\"/>\r\n     <use style=\"fill:#1f77b4;stroke:#1f77b4;\" x=\"648.986\" xlink:href=\"#md222d8b101\" y=\"161.852483\"/>\r\n     <use style=\"fill:#1f77b4;stroke:#1f77b4;\" x=\"649.594727\" xlink:href=\"#md222d8b101\" y=\"203.486972\"/>\r\n     <use style=\"fill:#1f77b4;stroke:#1f77b4;\" x=\"650.203455\" xlink:href=\"#md222d8b101\" y=\"240.636649\"/>\r\n     <use style=\"fill:#1f77b4;stroke:#1f77b4;\" x=\"650.812182\" xlink:href=\"#md222d8b101\" y=\"151.547817\"/>\r\n     <use style=\"fill:#1f77b4;stroke:#1f77b4;\" x=\"651.420909\" xlink:href=\"#md222d8b101\" y=\"155.168032\"/>\r\n     <use style=\"fill:#1f77b4;stroke:#1f77b4;\" x=\"652.029636\" xlink:href=\"#md222d8b101\" y=\"233.999012\"/>\r\n     <use style=\"fill:#1f77b4;stroke:#1f77b4;\" x=\"652.638364\" xlink:href=\"#md222d8b101\" y=\"230.816586\"/>\r\n     <use style=\"fill:#1f77b4;stroke:#1f77b4;\" x=\"653.247091\" xlink:href=\"#md222d8b101\" y=\"197.895116\"/>\r\n     <use style=\"fill:#1f77b4;stroke:#1f77b4;\" x=\"653.855818\" xlink:href=\"#md222d8b101\" y=\"228.376814\"/>\r\n     <use style=\"fill:#1f77b4;stroke:#1f77b4;\" x=\"654.464545\" xlink:href=\"#md222d8b101\" y=\"189.284681\"/>\r\n     <use style=\"fill:#1f77b4;stroke:#1f77b4;\" x=\"655.073273\" xlink:href=\"#md222d8b101\" y=\"168.673328\"/>\r\n     <use style=\"fill:#1f77b4;stroke:#1f77b4;\" x=\"655.682\" xlink:href=\"#md222d8b101\" y=\"171.757792\"/>\r\n     <use style=\"fill:#1f77b4;stroke:#1f77b4;\" x=\"656.290727\" xlink:href=\"#md222d8b101\" y=\"113.856322\"/>\r\n     <use style=\"fill:#1f77b4;stroke:#1f77b4;\" x=\"656.899455\" xlink:href=\"#md222d8b101\" y=\"234.236834\"/>\r\n     <use style=\"fill:#1f77b4;stroke:#1f77b4;\" x=\"657.508182\" xlink:href=\"#md222d8b101\" y=\"185.591068\"/>\r\n     <use style=\"fill:#1f77b4;stroke:#1f77b4;\" x=\"658.116909\" xlink:href=\"#md222d8b101\" y=\"158.005716\"/>\r\n     <use style=\"fill:#1f77b4;stroke:#1f77b4;\" x=\"658.725636\" xlink:href=\"#md222d8b101\" y=\"207.262653\"/>\r\n     <use style=\"fill:#1f77b4;stroke:#1f77b4;\" x=\"659.334364\" xlink:href=\"#md222d8b101\" y=\"104.225534\"/>\r\n     <use style=\"fill:#1f77b4;stroke:#1f77b4;\" x=\"659.943091\" xlink:href=\"#md222d8b101\" y=\"179.429364\"/>\r\n     <use style=\"fill:#1f77b4;stroke:#1f77b4;\" x=\"660.551818\" xlink:href=\"#md222d8b101\" y=\"182.947572\"/>\r\n     <use style=\"fill:#1f77b4;stroke:#1f77b4;\" x=\"661.160545\" xlink:href=\"#md222d8b101\" y=\"150.780313\"/>\r\n     <use style=\"fill:#1f77b4;stroke:#1f77b4;\" x=\"661.769273\" xlink:href=\"#md222d8b101\" y=\"146.716819\"/>\r\n     <use style=\"fill:#1f77b4;stroke:#1f77b4;\" x=\"662.378\" xlink:href=\"#md222d8b101\" y=\"235.036413\"/>\r\n     <use style=\"fill:#1f77b4;stroke:#1f77b4;\" x=\"662.986727\" xlink:href=\"#md222d8b101\" y=\"190.709014\"/>\r\n     <use style=\"fill:#1f77b4;stroke:#1f77b4;\" x=\"663.595455\" xlink:href=\"#md222d8b101\" y=\"218.530455\"/>\r\n     <use style=\"fill:#1f77b4;stroke:#1f77b4;\" x=\"664.204182\" xlink:href=\"#md222d8b101\" y=\"243.363369\"/>\r\n     <use style=\"fill:#1f77b4;stroke:#1f77b4;\" x=\"664.812909\" xlink:href=\"#md222d8b101\" y=\"217.401449\"/>\r\n     <use style=\"fill:#1f77b4;stroke:#1f77b4;\" x=\"665.421636\" xlink:href=\"#md222d8b101\" y=\"172.572687\"/>\r\n     <use style=\"fill:#1f77b4;stroke:#1f77b4;\" x=\"666.030364\" xlink:href=\"#md222d8b101\" y=\"150.500302\"/>\r\n     <use style=\"fill:#1f77b4;stroke:#1f77b4;\" x=\"666.639091\" xlink:href=\"#md222d8b101\" y=\"144.986468\"/>\r\n     <use style=\"fill:#1f77b4;stroke:#1f77b4;\" x=\"667.247818\" xlink:href=\"#md222d8b101\" y=\"268.85369\"/>\r\n     <use style=\"fill:#1f77b4;stroke:#1f77b4;\" x=\"667.856545\" xlink:href=\"#md222d8b101\" y=\"129.619917\"/>\r\n     <use style=\"fill:#1f77b4;stroke:#1f77b4;\" x=\"668.465273\" xlink:href=\"#md222d8b101\" y=\"123.068681\"/>\r\n     <use style=\"fill:#1f77b4;stroke:#1f77b4;\" x=\"669.074\" xlink:href=\"#md222d8b101\" y=\"174.811914\"/>\r\n     <use style=\"fill:#1f77b4;stroke:#1f77b4;\" x=\"669.682727\" xlink:href=\"#md222d8b101\" y=\"88.825174\"/>\r\n     <use style=\"fill:#1f77b4;stroke:#1f77b4;\" x=\"670.291455\" xlink:href=\"#md222d8b101\" y=\"153.839926\"/>\r\n     <use style=\"fill:#1f77b4;stroke:#1f77b4;\" x=\"670.900182\" xlink:href=\"#md222d8b101\" y=\"156.714599\"/>\r\n     <use style=\"fill:#1f77b4;stroke:#1f77b4;\" x=\"671.508909\" xlink:href=\"#md222d8b101\" y=\"206.578083\"/>\r\n     <use style=\"fill:#1f77b4;stroke:#1f77b4;\" x=\"672.117636\" xlink:href=\"#md222d8b101\" y=\"133.945507\"/>\r\n     <use style=\"fill:#1f77b4;stroke:#1f77b4;\" x=\"672.726364\" xlink:href=\"#md222d8b101\" y=\"162.955481\"/>\r\n     <use style=\"fill:#1f77b4;stroke:#1f77b4;\" x=\"673.335091\" xlink:href=\"#md222d8b101\" y=\"145.471648\"/>\r\n     <use style=\"fill:#1f77b4;stroke:#1f77b4;\" x=\"673.943818\" xlink:href=\"#md222d8b101\" y=\"147.83022\"/>\r\n     <use style=\"fill:#1f77b4;stroke:#1f77b4;\" x=\"674.552545\" xlink:href=\"#md222d8b101\" y=\"225.13804\"/>\r\n     <use style=\"fill:#1f77b4;stroke:#1f77b4;\" x=\"675.161273\" xlink:href=\"#md222d8b101\" y=\"175.267909\"/>\r\n     <use style=\"fill:#1f77b4;stroke:#1f77b4;\" x=\"675.77\" xlink:href=\"#md222d8b101\" y=\"108.694453\"/>\r\n     <use style=\"fill:#1f77b4;stroke:#1f77b4;\" x=\"676.378727\" xlink:href=\"#md222d8b101\" y=\"153.930952\"/>\r\n     <use style=\"fill:#1f77b4;stroke:#1f77b4;\" x=\"676.987455\" xlink:href=\"#md222d8b101\" y=\"118.054765\"/>\r\n     <use style=\"fill:#1f77b4;stroke:#1f77b4;\" x=\"677.596182\" xlink:href=\"#md222d8b101\" y=\"146.196384\"/>\r\n    </g>\r\n   </g>\r\n   <g id=\"patch_3\">\r\n    <path d=\"M 39.65 333.36 \r\nL 39.65 7.2 \r\n\" style=\"fill:none;stroke:#000000;stroke-linecap:square;stroke-linejoin:miter;stroke-width:0.8;\"/>\r\n   </g>\r\n   <g id=\"patch_4\">\r\n    <path d=\"M 709.25 333.36 \r\nL 709.25 7.2 \r\n\" style=\"fill:none;stroke:#000000;stroke-linecap:square;stroke-linejoin:miter;stroke-width:0.8;\"/>\r\n   </g>\r\n   <g id=\"patch_5\">\r\n    <path d=\"M 39.65 333.36 \r\nL 709.25 333.36 \r\n\" style=\"fill:none;stroke:#000000;stroke-linecap:square;stroke-linejoin:miter;stroke-width:0.8;\"/>\r\n   </g>\r\n   <g id=\"patch_6\">\r\n    <path d=\"M 39.65 7.2 \r\nL 709.25 7.2 \r\n\" style=\"fill:none;stroke:#000000;stroke-linecap:square;stroke-linejoin:miter;stroke-width:0.8;\"/>\r\n   </g>\r\n   <g id=\"legend_1\">\r\n    <g id=\"patch_7\">\r\n     <path d=\"M 633.575 29.878125 \r\nL 702.25 29.878125 \r\nQ 704.25 29.878125 704.25 27.878125 \r\nL 704.25 14.2 \r\nQ 704.25 12.2 702.25 12.2 \r\nL 633.575 12.2 \r\nQ 631.575 12.2 631.575 14.2 \r\nL 631.575 27.878125 \r\nQ 631.575 29.878125 633.575 29.878125 \r\nz\r\n\" style=\"fill:#ffffff;opacity:0.8;stroke:#cccccc;stroke-linejoin:miter;\"/>\r\n    </g>\r\n    <g id=\"line2d_13\"/>\r\n    <g id=\"line2d_14\">\r\n     <g>\r\n      <use style=\"fill:#1f77b4;stroke:#1f77b4;\" x=\"645.575\" xlink:href=\"#md222d8b101\" y=\"20.298438\"/>\r\n     </g>\r\n    </g>\r\n    <g id=\"text_12\">\r\n     <!-- Rendas -->\r\n     <g transform=\"translate(663.575 23.798438)scale(0.1 -0.1)\">\r\n      <defs>\r\n       <path d=\"M 44.390625 34.1875 \r\nQ 47.5625 33.109375 50.5625 29.59375 \r\nQ 53.5625 26.078125 56.59375 19.921875 \r\nL 66.609375 0 \r\nL 56 0 \r\nL 46.6875 18.703125 \r\nQ 43.0625 26.03125 39.671875 28.421875 \r\nQ 36.28125 30.8125 30.421875 30.8125 \r\nL 19.671875 30.8125 \r\nL 19.671875 0 \r\nL 9.8125 0 \r\nL 9.8125 72.90625 \r\nL 32.078125 72.90625 \r\nQ 44.578125 72.90625 50.734375 67.671875 \r\nQ 56.890625 62.453125 56.890625 51.90625 \r\nQ 56.890625 45.015625 53.6875 40.46875 \r\nQ 50.484375 35.9375 44.390625 34.1875 \r\nz\r\nM 19.671875 64.796875 \r\nL 19.671875 38.921875 \r\nL 32.078125 38.921875 \r\nQ 39.203125 38.921875 42.84375 42.21875 \r\nQ 46.484375 45.515625 46.484375 51.90625 \r\nQ 46.484375 58.296875 42.84375 61.546875 \r\nQ 39.203125 64.796875 32.078125 64.796875 \r\nz\r\n\" id=\"DejaVuSans-82\"/>\r\n       <path d=\"M 56.203125 29.59375 \r\nL 56.203125 25.203125 \r\nL 14.890625 25.203125 \r\nQ 15.484375 15.921875 20.484375 11.0625 \r\nQ 25.484375 6.203125 34.421875 6.203125 \r\nQ 39.59375 6.203125 44.453125 7.46875 \r\nQ 49.3125 8.734375 54.109375 11.28125 \r\nL 54.109375 2.78125 \r\nQ 49.265625 0.734375 44.1875 -0.34375 \r\nQ 39.109375 -1.421875 33.890625 -1.421875 \r\nQ 20.796875 -1.421875 13.15625 6.1875 \r\nQ 5.515625 13.8125 5.515625 26.8125 \r\nQ 5.515625 40.234375 12.765625 48.109375 \r\nQ 20.015625 56 32.328125 56 \r\nQ 43.359375 56 49.78125 48.890625 \r\nQ 56.203125 41.796875 56.203125 29.59375 \r\nz\r\nM 47.21875 32.234375 \r\nQ 47.125 39.59375 43.09375 43.984375 \r\nQ 39.0625 48.390625 32.421875 48.390625 \r\nQ 24.90625 48.390625 20.390625 44.140625 \r\nQ 15.875 39.890625 15.1875 32.171875 \r\nz\r\n\" id=\"DejaVuSans-101\"/>\r\n       <path d=\"M 54.890625 33.015625 \r\nL 54.890625 0 \r\nL 45.90625 0 \r\nL 45.90625 32.71875 \r\nQ 45.90625 40.484375 42.875 44.328125 \r\nQ 39.84375 48.1875 33.796875 48.1875 \r\nQ 26.515625 48.1875 22.3125 43.546875 \r\nQ 18.109375 38.921875 18.109375 30.90625 \r\nL 18.109375 0 \r\nL 9.078125 0 \r\nL 9.078125 54.6875 \r\nL 18.109375 54.6875 \r\nL 18.109375 46.1875 \r\nQ 21.34375 51.125 25.703125 53.5625 \r\nQ 30.078125 56 35.796875 56 \r\nQ 45.21875 56 50.046875 50.171875 \r\nQ 54.890625 44.34375 54.890625 33.015625 \r\nz\r\n\" id=\"DejaVuSans-110\"/>\r\n       <path d=\"M 45.40625 46.390625 \r\nL 45.40625 75.984375 \r\nL 54.390625 75.984375 \r\nL 54.390625 0 \r\nL 45.40625 0 \r\nL 45.40625 8.203125 \r\nQ 42.578125 3.328125 38.25 0.953125 \r\nQ 33.9375 -1.421875 27.875 -1.421875 \r\nQ 17.96875 -1.421875 11.734375 6.484375 \r\nQ 5.515625 14.40625 5.515625 27.296875 \r\nQ 5.515625 40.1875 11.734375 48.09375 \r\nQ 17.96875 56 27.875 56 \r\nQ 33.9375 56 38.25 53.625 \r\nQ 42.578125 51.265625 45.40625 46.390625 \r\nz\r\nM 14.796875 27.296875 \r\nQ 14.796875 17.390625 18.875 11.75 \r\nQ 22.953125 6.109375 30.078125 6.109375 \r\nQ 37.203125 6.109375 41.296875 11.75 \r\nQ 45.40625 17.390625 45.40625 27.296875 \r\nQ 45.40625 37.203125 41.296875 42.84375 \r\nQ 37.203125 48.484375 30.078125 48.484375 \r\nQ 22.953125 48.484375 18.875 42.84375 \r\nQ 14.796875 37.203125 14.796875 27.296875 \r\nz\r\n\" id=\"DejaVuSans-100\"/>\r\n       <path d=\"M 34.28125 27.484375 \r\nQ 23.390625 27.484375 19.1875 25 \r\nQ 14.984375 22.515625 14.984375 16.5 \r\nQ 14.984375 11.71875 18.140625 8.90625 \r\nQ 21.296875 6.109375 26.703125 6.109375 \r\nQ 34.1875 6.109375 38.703125 11.40625 \r\nQ 43.21875 16.703125 43.21875 25.484375 \r\nL 43.21875 27.484375 \r\nz\r\nM 52.203125 31.203125 \r\nL 52.203125 0 \r\nL 43.21875 0 \r\nL 43.21875 8.296875 \r\nQ 40.140625 3.328125 35.546875 0.953125 \r\nQ 30.953125 -1.421875 24.3125 -1.421875 \r\nQ 15.921875 -1.421875 10.953125 3.296875 \r\nQ 6 8.015625 6 15.921875 \r\nQ 6 25.140625 12.171875 29.828125 \r\nQ 18.359375 34.515625 30.609375 34.515625 \r\nL 43.21875 34.515625 \r\nL 43.21875 35.40625 \r\nQ 43.21875 41.609375 39.140625 45 \r\nQ 35.0625 48.390625 27.6875 48.390625 \r\nQ 23 48.390625 18.546875 47.265625 \r\nQ 14.109375 46.140625 10.015625 43.890625 \r\nL 10.015625 52.203125 \r\nQ 14.9375 54.109375 19.578125 55.046875 \r\nQ 24.21875 56 28.609375 56 \r\nQ 40.484375 56 46.34375 49.84375 \r\nQ 52.203125 43.703125 52.203125 31.203125 \r\nz\r\n\" id=\"DejaVuSans-97\"/>\r\n       <path d=\"M 44.28125 53.078125 \r\nL 44.28125 44.578125 \r\nQ 40.484375 46.53125 36.375 47.5 \r\nQ 32.28125 48.484375 27.875 48.484375 \r\nQ 21.1875 48.484375 17.84375 46.4375 \r\nQ 14.5 44.390625 14.5 40.28125 \r\nQ 14.5 37.15625 16.890625 35.375 \r\nQ 19.28125 33.59375 26.515625 31.984375 \r\nL 29.59375 31.296875 \r\nQ 39.15625 29.25 43.1875 25.515625 \r\nQ 47.21875 21.78125 47.21875 15.09375 \r\nQ 47.21875 7.46875 41.1875 3.015625 \r\nQ 35.15625 -1.421875 24.609375 -1.421875 \r\nQ 20.21875 -1.421875 15.453125 -0.5625 \r\nQ 10.6875 0.296875 5.421875 2 \r\nL 5.421875 11.28125 \r\nQ 10.40625 8.6875 15.234375 7.390625 \r\nQ 20.0625 6.109375 24.8125 6.109375 \r\nQ 31.15625 6.109375 34.5625 8.28125 \r\nQ 37.984375 10.453125 37.984375 14.40625 \r\nQ 37.984375 18.0625 35.515625 20.015625 \r\nQ 33.0625 21.96875 24.703125 23.78125 \r\nL 21.578125 24.515625 \r\nQ 13.234375 26.265625 9.515625 29.90625 \r\nQ 5.8125 33.546875 5.8125 39.890625 \r\nQ 5.8125 47.609375 11.28125 51.796875 \r\nQ 16.75 56 26.8125 56 \r\nQ 31.78125 56 36.171875 55.265625 \r\nQ 40.578125 54.546875 44.28125 53.078125 \r\nz\r\n\" id=\"DejaVuSans-115\"/>\r\n      </defs>\r\n      <use xlink:href=\"#DejaVuSans-82\"/>\r\n      <use x=\"64.982422\" xlink:href=\"#DejaVuSans-101\"/>\r\n      <use x=\"126.505859\" xlink:href=\"#DejaVuSans-110\"/>\r\n      <use x=\"189.884766\" xlink:href=\"#DejaVuSans-100\"/>\r\n      <use x=\"253.361328\" xlink:href=\"#DejaVuSans-97\"/>\r\n      <use x=\"314.640625\" xlink:href=\"#DejaVuSans-115\"/>\r\n     </g>\r\n    </g>\r\n   </g>\r\n  </g>\r\n </g>\r\n <defs>\r\n  <clipPath id=\"p5f896fb6d8\">\r\n   <rect height=\"326.16\" width=\"669.6\" x=\"39.65\" y=\"7.2\"/>\r\n  </clipPath>\r\n </defs>\r\n</svg>\r\n",
      "image/png": "[encoded data removed]"
     },
     "metadata": {
      "needs_background": "light"
     }
    }
   ],
   "source": [
    "# Incrmento linhas horizontais para dermacar limites\n",
    "ax = medias.plot(style = '.')\n",
    "ax.figure.set_size_inches(12, 6)\n",
    "ax.hlines(y = media, xmin = 0, xmax = tamanho_simulacao, colors='black', linestyles='dashed')\n",
    "ax.hlines(y = intervalo[0], xmin = 0, xmax = tamanho_simulacao, colors='red', linestyles='dashed')\n",
    "ax.hlines(y = intervalo[1], xmin = 0, xmax = tamanho_simulacao, colors='red', linestyles='dashed')\n",
    "ax"
   ]
  }
 ],
 "metadata": {
  "colab": {
   "collapsed_sections": [],
   "name": "Curso_de_Estatística_Parte_2.ipynb",
   "provenance": [],
   "toc_visible": true,
   "version": "0.3.2"
  },
  "kernelspec": {
   "name": "python3",
   "display_name": "Python 3.7.5 64-bit"
  },
  "language_info": {
   "codemirror_mode": {
    "name": "ipython",
    "version": 3
   },
   "file_extension": ".py",
   "mimetype": "text/x-python",
   "name": "python",
   "nbconvert_exporter": "python",
   "pygments_lexer": "ipython3",
   "version": "3.7.5"
  },
  "interpreter": {
   "hash": "2f4f4457f2c99eabecb8a44ff56a73b72ee854a600d04cd32d6ba5135905bba2"
  }
 },
 "nbformat": 4,
 "nbformat_minor": 1
}