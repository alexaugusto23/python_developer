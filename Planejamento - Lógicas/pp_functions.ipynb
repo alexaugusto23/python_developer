{
 "cells": [
  {
   "cell_type": "code",
   "execution_count": null,
   "metadata": {},
   "outputs": [],
   "source": [
    "pp.pandas_from_excel( current_path + '/INPUTS/Input - Hierarquia Produto.xlsx', sheetName=\"H. Clientes\", namedRange=None, cellRange=None, indexes=None, driver='' )"
   ]
  },
  {
   "cell_type": "code",
   "execution_count": null,
   "metadata": {},
   "outputs": [],
   "source": [
    "pp.dataarray_from_pandas( _df, {'Time':time, 'Canal':idx_canal_sellout, 'Categoria':idx_categorias_sellout}, 'Volume', defaultValue=0., valueColumnsAsDim=True, sumDuplicateRecords=True )"
   ]
  }
 ],
 "metadata": {
  "language_info": {
   "name": "python"
  },
  "orig_nbformat": 4
 },
 "nbformat": 4,
 "nbformat_minor": 2
}
