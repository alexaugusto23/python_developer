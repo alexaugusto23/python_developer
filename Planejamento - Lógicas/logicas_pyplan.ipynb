{
 "cells": [
  {
   "cell_type": "markdown",
   "metadata": {},
   "source": [
    "# Lógica de Código Pyplan"
   ]
  },
  {
   "cell_type": "markdown",
   "metadata": {},
   "source": [
    "### Pacotes"
   ]
  },
  {
   "cell_type": "code",
   "execution_count": 10,
   "metadata": {},
   "outputs": [],
   "source": [
    "import os as os\n",
    "import numpy as np\n",
    "import pandas as pd"
   ]
  },
  {
   "cell_type": "markdown",
   "metadata": {},
   "source": [
    "#### Valor Percentual"
   ]
  },
  {
   "cell_type": "code",
   "execution_count": 9,
   "metadata": {},
   "outputs": [
    {
     "data": {
      "text/plain": [
       "'-40.0 %'"
      ]
     },
     "execution_count": 9,
     "metadata": {},
     "output_type": "execute_result"
    }
   ],
   "source": [
    "# Valor Percentual = (Atual - Anterior)/Anterior \n",
    "atual = 30000\n",
    "anterior = 50000\n",
    "valor_percentual = ((atual - anterior)/anterior) * 100\n",
    "str(valor_percentual) + ' %'"
   ]
  },
  {
   "cell_type": "markdown",
   "metadata": {},
   "source": [
    "#### Defininindo um Index com Compreensão de lista (List comprehension)"
   ]
  },
  {
   "cell_type": "code",
   "execution_count": 4,
   "metadata": {},
   "outputs": [
    {
     "data": {
      "text/html": [
       "<div>\n",
       "<style scoped>\n",
       "    .dataframe tbody tr th:only-of-type {\n",
       "        vertical-align: middle;\n",
       "    }\n",
       "\n",
       "    .dataframe tbody tr th {\n",
       "        vertical-align: top;\n",
       "    }\n",
       "\n",
       "    .dataframe thead th {\n",
       "        text-align: right;\n",
       "    }\n",
       "</style>\n",
       "<table border=\"1\" class=\"dataframe\">\n",
       "  <thead>\n",
       "    <tr style=\"text-align: right;\">\n",
       "      <th></th>\n",
       "      <th>Coluna1</th>\n",
       "      <th>Coluna2</th>\n",
       "      <th>Coluna3</th>\n",
       "      <th>vol_dia</th>\n",
       "    </tr>\n",
       "  </thead>\n",
       "  <tbody>\n",
       "    <tr>\n",
       "      <th>0</th>\n",
       "      <td>Regional1</td>\n",
       "      <td>Região Leste</td>\n",
       "      <td>Atacado</td>\n",
       "      <td>10000</td>\n",
       "    </tr>\n",
       "  </tbody>\n",
       "</table>\n",
       "</div>"
      ],
      "text/plain": [
       "     Coluna1       Coluna2  Coluna3  vol_dia\n",
       "0  Regional1  Região Leste  Atacado    10000"
      ]
     },
     "execution_count": 4,
     "metadata": {},
     "output_type": "execute_result"
    }
   ],
   "source": [
    "data  = {'Coluna1':['Regional1'],  'Coluna2':['Região Leste'], 'Coluna3':['Atacado'], 'vol_dia':[10000]}\n",
    "_df = pd.DataFrame(data)\n",
    "_df"
   ]
  },
  {
   "cell_type": "code",
   "execution_count": 5,
   "metadata": {},
   "outputs": [
    {
     "data": {
      "text/html": [
       "<div>\n",
       "<style scoped>\n",
       "    .dataframe tbody tr th:only-of-type {\n",
       "        vertical-align: middle;\n",
       "    }\n",
       "\n",
       "    .dataframe tbody tr th {\n",
       "        vertical-align: top;\n",
       "    }\n",
       "\n",
       "    .dataframe thead th {\n",
       "        text-align: right;\n",
       "    }\n",
       "</style>\n",
       "<table border=\"1\" class=\"dataframe\">\n",
       "  <thead>\n",
       "    <tr style=\"text-align: right;\">\n",
       "      <th></th>\n",
       "      <th></th>\n",
       "      <th></th>\n",
       "      <th></th>\n",
       "    </tr>\n",
       "    <tr>\n",
       "      <th>Coluna1</th>\n",
       "      <th>Coluna2</th>\n",
       "      <th>Coluna3</th>\n",
       "      <th>vol_dia</th>\n",
       "    </tr>\n",
       "  </thead>\n",
       "  <tbody>\n",
       "    <tr>\n",
       "      <th>Regional1</th>\n",
       "      <th>Região Leste</th>\n",
       "      <th>Atacado</th>\n",
       "      <th>10000</th>\n",
       "    </tr>\n",
       "  </tbody>\n",
       "</table>\n",
       "</div>"
      ],
      "text/plain": [
       "Empty DataFrame\n",
       "Columns: []\n",
       "Index: [(Regional1, Região Leste, Atacado, 10000)]"
      ]
     },
     "execution_count": 5,
     "metadata": {},
     "output_type": "execute_result"
    }
   ],
   "source": [
    "_df.set_index(['Coluna1', 'Coluna2', 'Coluna3', 'vol_dia'])"
   ]
  },
  {
   "cell_type": "code",
   "execution_count": 6,
   "metadata": {},
   "outputs": [
    {
     "data": {
      "text/html": [
       "<div>\n",
       "<style scoped>\n",
       "    .dataframe tbody tr th:only-of-type {\n",
       "        vertical-align: middle;\n",
       "    }\n",
       "\n",
       "    .dataframe tbody tr th {\n",
       "        vertical-align: top;\n",
       "    }\n",
       "\n",
       "    .dataframe thead th {\n",
       "        text-align: right;\n",
       "    }\n",
       "</style>\n",
       "<table border=\"1\" class=\"dataframe\">\n",
       "  <thead>\n",
       "    <tr style=\"text-align: right;\">\n",
       "      <th></th>\n",
       "      <th></th>\n",
       "      <th></th>\n",
       "      <th>vol_dia</th>\n",
       "    </tr>\n",
       "    <tr>\n",
       "      <th>Coluna1</th>\n",
       "      <th>Coluna2</th>\n",
       "      <th>Coluna3</th>\n",
       "      <th></th>\n",
       "    </tr>\n",
       "  </thead>\n",
       "  <tbody>\n",
       "    <tr>\n",
       "      <th>Regional1</th>\n",
       "      <th>Região Leste</th>\n",
       "      <th>Atacado</th>\n",
       "      <td>10000</td>\n",
       "    </tr>\n",
       "  </tbody>\n",
       "</table>\n",
       "</div>"
      ],
      "text/plain": [
       "                                vol_dia\n",
       "Coluna1   Coluna2      Coluna3         \n",
       "Regional1 Região Leste Atacado    10000"
      ]
     },
     "execution_count": 6,
     "metadata": {},
     "output_type": "execute_result"
    }
   ],
   "source": [
    "_df.set_index([col for col in _df if col != 'vol_dia'])"
   ]
  },
  {
   "cell_type": "markdown",
   "metadata": {},
   "source": [
    "#### Deletando Colunas "
   ]
  },
  {
   "cell_type": "code",
   "execution_count": 15,
   "metadata": {},
   "outputs": [
    {
     "data": {
      "text/html": [
       "<div>\n",
       "<style scoped>\n",
       "    .dataframe tbody tr th:only-of-type {\n",
       "        vertical-align: middle;\n",
       "    }\n",
       "\n",
       "    .dataframe tbody tr th {\n",
       "        vertical-align: top;\n",
       "    }\n",
       "\n",
       "    .dataframe thead th {\n",
       "        text-align: right;\n",
       "    }\n",
       "</style>\n",
       "<table border=\"1\" class=\"dataframe\">\n",
       "  <thead>\n",
       "    <tr style=\"text-align: right;\">\n",
       "      <th></th>\n",
       "      <th>col1</th>\n",
       "      <th>col2</th>\n",
       "      <th>col3</th>\n",
       "    </tr>\n",
       "  </thead>\n",
       "  <tbody>\n",
       "    <tr>\n",
       "      <th>0</th>\n",
       "      <td>1</td>\n",
       "      <td>1</td>\n",
       "      <td>1</td>\n",
       "    </tr>\n",
       "    <tr>\n",
       "      <th>1</th>\n",
       "      <td>2</td>\n",
       "      <td>2</td>\n",
       "      <td>2</td>\n",
       "    </tr>\n",
       "  </tbody>\n",
       "</table>\n",
       "</div>"
      ],
      "text/plain": [
       "   col1  col2  col3\n",
       "0     1     1     1\n",
       "1     2     2     2"
      ]
     },
     "execution_count": 15,
     "metadata": {},
     "output_type": "execute_result"
    }
   ],
   "source": [
    "data = {'col1':[1,2], 'col2':[1,2], 'col3':[1,2]}\n",
    "_df = pd.DataFrame(data)\n",
    "_df"
   ]
  },
  {
   "cell_type": "code",
   "execution_count": 16,
   "metadata": {},
   "outputs": [
    {
     "data": {
      "text/html": [
       "<div>\n",
       "<style scoped>\n",
       "    .dataframe tbody tr th:only-of-type {\n",
       "        vertical-align: middle;\n",
       "    }\n",
       "\n",
       "    .dataframe tbody tr th {\n",
       "        vertical-align: top;\n",
       "    }\n",
       "\n",
       "    .dataframe thead th {\n",
       "        text-align: right;\n",
       "    }\n",
       "</style>\n",
       "<table border=\"1\" class=\"dataframe\">\n",
       "  <thead>\n",
       "    <tr style=\"text-align: right;\">\n",
       "      <th></th>\n",
       "      <th>col1</th>\n",
       "      <th>col2</th>\n",
       "    </tr>\n",
       "  </thead>\n",
       "  <tbody>\n",
       "    <tr>\n",
       "      <th>0</th>\n",
       "      <td>1</td>\n",
       "      <td>1</td>\n",
       "    </tr>\n",
       "    <tr>\n",
       "      <th>1</th>\n",
       "      <td>2</td>\n",
       "      <td>2</td>\n",
       "    </tr>\n",
       "  </tbody>\n",
       "</table>\n",
       "</div>"
      ],
      "text/plain": [
       "   col1  col2\n",
       "0     1     1\n",
       "1     2     2"
      ]
     },
     "execution_count": 16,
     "metadata": {},
     "output_type": "execute_result"
    }
   ],
   "source": [
    "_df = _df.drop(columns=['col3'])\n",
    "_df"
   ]
  },
  {
   "cell_type": "markdown",
   "metadata": {},
   "source": [
    "#### DataFrames"
   ]
  },
  {
   "cell_type": "code",
   "execution_count": 34,
   "metadata": {},
   "outputs": [
    {
     "data": {
      "text/html": [
       "<div>\n",
       "<style scoped>\n",
       "    .dataframe tbody tr th:only-of-type {\n",
       "        vertical-align: middle;\n",
       "    }\n",
       "\n",
       "    .dataframe tbody tr th {\n",
       "        vertical-align: top;\n",
       "    }\n",
       "\n",
       "    .dataframe thead th {\n",
       "        text-align: right;\n",
       "    }\n",
       "</style>\n",
       "<table border=\"1\" class=\"dataframe\">\n",
       "  <thead>\n",
       "    <tr style=\"text-align: right;\">\n",
       "      <th></th>\n",
       "      <th>id</th>\n",
       "      <th>col1</th>\n",
       "      <th>col2</th>\n",
       "      <th>col3</th>\n",
       "    </tr>\n",
       "  </thead>\n",
       "  <tbody>\n",
       "    <tr>\n",
       "      <th>0</th>\n",
       "      <td>0</td>\n",
       "      <td>1</td>\n",
       "      <td>2</td>\n",
       "      <td>3</td>\n",
       "    </tr>\n",
       "    <tr>\n",
       "      <th>1</th>\n",
       "      <td>1</td>\n",
       "      <td>8</td>\n",
       "      <td>3</td>\n",
       "      <td>0</td>\n",
       "    </tr>\n",
       "    <tr>\n",
       "      <th>2</th>\n",
       "      <td>2</td>\n",
       "      <td>9</td>\n",
       "      <td>3</td>\n",
       "      <td>0</td>\n",
       "    </tr>\n",
       "    <tr>\n",
       "      <th>3</th>\n",
       "      <td>3</td>\n",
       "      <td>2</td>\n",
       "      <td>3</td>\n",
       "      <td>0</td>\n",
       "    </tr>\n",
       "  </tbody>\n",
       "</table>\n",
       "</div>"
      ],
      "text/plain": [
       "   id  col1  col2  col3\n",
       "0   0     1     2     3\n",
       "1   1     8     3     0\n",
       "2   2     9     3     0\n",
       "3   3     2     3     0"
      ]
     },
     "execution_count": 34,
     "metadata": {},
     "output_type": "execute_result"
    }
   ],
   "source": [
    "# array is rows not columns, the coluns is the values inside of array.\n",
    "# [0,1,2,3]\n",
    "# [1,8,3,0]\n",
    "# [2,9,3,0]\n",
    "# [3,2,3,0]\n",
    "\n",
    "data = np.array([ [0,1,2,3], [1,8,3,0], [2,9,3,0], [3,2,3,0] ]) \n",
    "_df1 = pd.DataFrame(data, columns=['id', 'col1', 'col2', 'col3'])\n",
    "_df1"
   ]
  },
  {
   "cell_type": "code",
   "execution_count": 36,
   "metadata": {},
   "outputs": [
    {
     "data": {
      "text/html": [
       "<div>\n",
       "<style scoped>\n",
       "    .dataframe tbody tr th:only-of-type {\n",
       "        vertical-align: middle;\n",
       "    }\n",
       "\n",
       "    .dataframe tbody tr th {\n",
       "        vertical-align: top;\n",
       "    }\n",
       "\n",
       "    .dataframe thead th {\n",
       "        text-align: right;\n",
       "    }\n",
       "</style>\n",
       "<table border=\"1\" class=\"dataframe\">\n",
       "  <thead>\n",
       "    <tr style=\"text-align: right;\">\n",
       "      <th></th>\n",
       "      <th>id</th>\n",
       "      <th>col4</th>\n",
       "      <th>col5</th>\n",
       "      <th>col6</th>\n",
       "    </tr>\n",
       "  </thead>\n",
       "  <tbody>\n",
       "    <tr>\n",
       "      <th>0</th>\n",
       "      <td>0</td>\n",
       "      <td>1</td>\n",
       "      <td>2</td>\n",
       "      <td>3</td>\n",
       "    </tr>\n",
       "    <tr>\n",
       "      <th>1</th>\n",
       "      <td>1</td>\n",
       "      <td>1</td>\n",
       "      <td>2</td>\n",
       "      <td>8</td>\n",
       "    </tr>\n",
       "    <tr>\n",
       "      <th>2</th>\n",
       "      <td>2</td>\n",
       "      <td>5</td>\n",
       "      <td>2</td>\n",
       "      <td>4</td>\n",
       "    </tr>\n",
       "    <tr>\n",
       "      <th>3</th>\n",
       "      <td>3</td>\n",
       "      <td>9</td>\n",
       "      <td>6</td>\n",
       "      <td>8</td>\n",
       "    </tr>\n",
       "  </tbody>\n",
       "</table>\n",
       "</div>"
      ],
      "text/plain": [
       "   id  col4  col5  col6\n",
       "0   0     1     2     3\n",
       "1   1     1     2     8\n",
       "2   2     5     2     4\n",
       "3   3     9     6     8"
      ]
     },
     "execution_count": 36,
     "metadata": {},
     "output_type": "execute_result"
    }
   ],
   "source": [
    "data = np.array([[0,1,2,3], [1,1,2,8], [2,5,2,4], [3,9,6,8]])\n",
    "_df2 = pd.DataFrame(data, columns=['id', 'col4', 'col5', 'col6'])\n",
    "_df2"
   ]
  },
  {
   "cell_type": "markdown",
   "metadata": {},
   "source": [
    "#### Mesclando Dataframes"
   ]
  },
  {
   "cell_type": "code",
   "execution_count": 37,
   "metadata": {},
   "outputs": [
    {
     "data": {
      "text/html": [
       "<div>\n",
       "<style scoped>\n",
       "    .dataframe tbody tr th:only-of-type {\n",
       "        vertical-align: middle;\n",
       "    }\n",
       "\n",
       "    .dataframe tbody tr th {\n",
       "        vertical-align: top;\n",
       "    }\n",
       "\n",
       "    .dataframe thead th {\n",
       "        text-align: right;\n",
       "    }\n",
       "</style>\n",
       "<table border=\"1\" class=\"dataframe\">\n",
       "  <thead>\n",
       "    <tr style=\"text-align: right;\">\n",
       "      <th></th>\n",
       "      <th>id</th>\n",
       "      <th>col1</th>\n",
       "      <th>col2</th>\n",
       "      <th>col3</th>\n",
       "      <th>col4</th>\n",
       "      <th>col5</th>\n",
       "      <th>col6</th>\n",
       "    </tr>\n",
       "  </thead>\n",
       "  <tbody>\n",
       "    <tr>\n",
       "      <th>0</th>\n",
       "      <td>0</td>\n",
       "      <td>1</td>\n",
       "      <td>2</td>\n",
       "      <td>3</td>\n",
       "      <td>1</td>\n",
       "      <td>2</td>\n",
       "      <td>3</td>\n",
       "    </tr>\n",
       "    <tr>\n",
       "      <th>1</th>\n",
       "      <td>1</td>\n",
       "      <td>8</td>\n",
       "      <td>3</td>\n",
       "      <td>0</td>\n",
       "      <td>1</td>\n",
       "      <td>2</td>\n",
       "      <td>8</td>\n",
       "    </tr>\n",
       "    <tr>\n",
       "      <th>2</th>\n",
       "      <td>2</td>\n",
       "      <td>9</td>\n",
       "      <td>3</td>\n",
       "      <td>0</td>\n",
       "      <td>5</td>\n",
       "      <td>2</td>\n",
       "      <td>4</td>\n",
       "    </tr>\n",
       "    <tr>\n",
       "      <th>3</th>\n",
       "      <td>3</td>\n",
       "      <td>2</td>\n",
       "      <td>3</td>\n",
       "      <td>0</td>\n",
       "      <td>9</td>\n",
       "      <td>6</td>\n",
       "      <td>8</td>\n",
       "    </tr>\n",
       "  </tbody>\n",
       "</table>\n",
       "</div>"
      ],
      "text/plain": [
       "   id  col1  col2  col3  col4  col5  col6\n",
       "0   0     1     2     3     1     2     3\n",
       "1   1     8     3     0     1     2     8\n",
       "2   2     9     3     0     5     2     4\n",
       "3   3     2     3     0     9     6     8"
      ]
     },
     "execution_count": 37,
     "metadata": {},
     "output_type": "execute_result"
    }
   ],
   "source": [
    "                    \n",
    "_df = _df1.merge(_df2, on=['id'], how='left')\n",
    "_df"
   ]
  },
  {
   "cell_type": "markdown",
   "metadata": {},
   "source": [
    "#### Pivotando Dataframes"
   ]
  },
  {
   "cell_type": "code",
   "execution_count": 40,
   "metadata": {},
   "outputs": [
    {
     "data": {
      "text/html": [
       "<div>\n",
       "<style scoped>\n",
       "    .dataframe tbody tr th:only-of-type {\n",
       "        vertical-align: middle;\n",
       "    }\n",
       "\n",
       "    .dataframe tbody tr th {\n",
       "        vertical-align: top;\n",
       "    }\n",
       "\n",
       "    .dataframe thead th {\n",
       "        text-align: right;\n",
       "    }\n",
       "</style>\n",
       "<table border=\"1\" class=\"dataframe\">\n",
       "  <thead>\n",
       "    <tr style=\"text-align: right;\">\n",
       "      <th>col1</th>\n",
       "      <th>id</th>\n",
       "      <th>1</th>\n",
       "      <th>2</th>\n",
       "      <th>8</th>\n",
       "      <th>9</th>\n",
       "    </tr>\n",
       "  </thead>\n",
       "  <tbody>\n",
       "    <tr>\n",
       "      <th>0</th>\n",
       "      <td>0</td>\n",
       "      <td>3.0</td>\n",
       "      <td>NaN</td>\n",
       "      <td>NaN</td>\n",
       "      <td>NaN</td>\n",
       "    </tr>\n",
       "    <tr>\n",
       "      <th>1</th>\n",
       "      <td>1</td>\n",
       "      <td>NaN</td>\n",
       "      <td>NaN</td>\n",
       "      <td>0.0</td>\n",
       "      <td>NaN</td>\n",
       "    </tr>\n",
       "    <tr>\n",
       "      <th>2</th>\n",
       "      <td>2</td>\n",
       "      <td>NaN</td>\n",
       "      <td>NaN</td>\n",
       "      <td>NaN</td>\n",
       "      <td>0.0</td>\n",
       "    </tr>\n",
       "    <tr>\n",
       "      <th>3</th>\n",
       "      <td>3</td>\n",
       "      <td>NaN</td>\n",
       "      <td>0.0</td>\n",
       "      <td>NaN</td>\n",
       "      <td>NaN</td>\n",
       "    </tr>\n",
       "  </tbody>\n",
       "</table>\n",
       "</div>"
      ],
      "text/plain": [
       "col1  id    1    2    8    9\n",
       "0      0  3.0  NaN  NaN  NaN\n",
       "1      1  NaN  NaN  0.0  NaN\n",
       "2      2  NaN  NaN  NaN  0.0\n",
       "3      3  NaN  0.0  NaN  NaN"
      ]
     },
     "execution_count": 40,
     "metadata": {},
     "output_type": "execute_result"
    }
   ],
   "source": [
    "_df_pivot = pd.pivot_table(_df,\n",
    "                           values='col3', \n",
    "                           index='id',\n",
    "                           columns=['col1'], \n",
    "                           aggfunc=np.sum).reset_index()\n",
    "\n",
    "_df_pivot"
   ]
  },
  {
   "cell_type": "markdown",
   "metadata": {},
   "source": [
    "#### Substituindo Valores"
   ]
  },
  {
   "cell_type": "code",
   "execution_count": 47,
   "metadata": {},
   "outputs": [
    {
     "data": {
      "text/html": [
       "<div>\n",
       "<style scoped>\n",
       "    .dataframe tbody tr th:only-of-type {\n",
       "        vertical-align: middle;\n",
       "    }\n",
       "\n",
       "    .dataframe tbody tr th {\n",
       "        vertical-align: top;\n",
       "    }\n",
       "\n",
       "    .dataframe thead th {\n",
       "        text-align: right;\n",
       "    }\n",
       "</style>\n",
       "<table border=\"1\" class=\"dataframe\">\n",
       "  <thead>\n",
       "    <tr style=\"text-align: right;\">\n",
       "      <th></th>\n",
       "      <th>Coluna1</th>\n",
       "      <th>Coluna2</th>\n",
       "      <th>Coluna3</th>\n",
       "      <th>vol_dia</th>\n",
       "    </tr>\n",
       "  </thead>\n",
       "  <tbody>\n",
       "    <tr>\n",
       "      <th>0</th>\n",
       "      <td>Regional1</td>\n",
       "      <td>Região Leste</td>\n",
       "      <td>Atacado</td>\n",
       "      <td>10000</td>\n",
       "    </tr>\n",
       "  </tbody>\n",
       "</table>\n",
       "</div>"
      ],
      "text/plain": [
       "     Coluna1       Coluna2  Coluna3  vol_dia\n",
       "0  Regional1  Região Leste  Atacado    10000"
      ]
     },
     "execution_count": 47,
     "metadata": {},
     "output_type": "execute_result"
    }
   ],
   "source": [
    "data  = {'Coluna1':['Regional1'],  'Coluna2':['Região Leste'], 'Coluna3':['Atacado'], 'vol_dia':[10000]}\n",
    "_df = pd.DataFrame(data)\n",
    "_df"
   ]
  },
  {
   "cell_type": "code",
   "execution_count": 48,
   "metadata": {},
   "outputs": [
    {
     "data": {
      "text/html": [
       "<div>\n",
       "<style scoped>\n",
       "    .dataframe tbody tr th:only-of-type {\n",
       "        vertical-align: middle;\n",
       "    }\n",
       "\n",
       "    .dataframe tbody tr th {\n",
       "        vertical-align: top;\n",
       "    }\n",
       "\n",
       "    .dataframe thead th {\n",
       "        text-align: right;\n",
       "    }\n",
       "</style>\n",
       "<table border=\"1\" class=\"dataframe\">\n",
       "  <thead>\n",
       "    <tr style=\"text-align: right;\">\n",
       "      <th></th>\n",
       "      <th>Coluna1</th>\n",
       "      <th>Coluna2</th>\n",
       "      <th>Coluna3</th>\n",
       "      <th>vol_dia</th>\n",
       "    </tr>\n",
       "  </thead>\n",
       "  <tbody>\n",
       "    <tr>\n",
       "      <th>0</th>\n",
       "      <td>Regional1</td>\n",
       "      <td>Região Leste</td>\n",
       "      <td>Atacado</td>\n",
       "      <td>False</td>\n",
       "    </tr>\n",
       "  </tbody>\n",
       "</table>\n",
       "</div>"
      ],
      "text/plain": [
       "     Coluna1       Coluna2  Coluna3  vol_dia\n",
       "0  Regional1  Região Leste  Atacado    False"
      ]
     },
     "execution_count": 48,
     "metadata": {},
     "output_type": "execute_result"
    }
   ],
   "source": [
    "_df['vol_dia'] = np.where(_df['vol_dia']== 1000, True, False)\n",
    "_df"
   ]
  },
  {
   "cell_type": "code",
   "execution_count": 45,
   "metadata": {},
   "outputs": [
    {
     "data": {
      "text/html": [
       "<div>\n",
       "<style scoped>\n",
       "    .dataframe tbody tr th:only-of-type {\n",
       "        vertical-align: middle;\n",
       "    }\n",
       "\n",
       "    .dataframe tbody tr th {\n",
       "        vertical-align: top;\n",
       "    }\n",
       "\n",
       "    .dataframe thead th {\n",
       "        text-align: right;\n",
       "    }\n",
       "</style>\n",
       "<table border=\"1\" class=\"dataframe\">\n",
       "  <thead>\n",
       "    <tr style=\"text-align: right;\">\n",
       "      <th></th>\n",
       "      <th>Coluna1</th>\n",
       "      <th>Coluna2</th>\n",
       "      <th>Coluna3</th>\n",
       "      <th>vol_dia</th>\n",
       "    </tr>\n",
       "  </thead>\n",
       "  <tbody>\n",
       "    <tr>\n",
       "      <th>0</th>\n",
       "      <td>Regional1</td>\n",
       "      <td>Região Leste</td>\n",
       "      <td>Atacado</td>\n",
       "      <td>10000</td>\n",
       "    </tr>\n",
       "  </tbody>\n",
       "</table>\n",
       "</div>"
      ],
      "text/plain": [
       "     Coluna1       Coluna2  Coluna3  vol_dia\n",
       "0  Regional1  Região Leste  Atacado    10000"
      ]
     },
     "execution_count": 45,
     "metadata": {},
     "output_type": "execute_result"
    }
   ],
   "source": [
    "data  = {'Coluna1':['Regional1'],  'Coluna2':['Região Leste'], 'Coluna3':['Atacado'], 'vol_dia':[10000]}\n",
    "_df = pd.DataFrame(data)\n",
    "_df"
   ]
  },
  {
   "cell_type": "code",
   "execution_count": 46,
   "metadata": {},
   "outputs": [
    {
     "data": {
      "text/html": [
       "<div>\n",
       "<style scoped>\n",
       "    .dataframe tbody tr th:only-of-type {\n",
       "        vertical-align: middle;\n",
       "    }\n",
       "\n",
       "    .dataframe tbody tr th {\n",
       "        vertical-align: top;\n",
       "    }\n",
       "\n",
       "    .dataframe thead th {\n",
       "        text-align: right;\n",
       "    }\n",
       "</style>\n",
       "<table border=\"1\" class=\"dataframe\">\n",
       "  <thead>\n",
       "    <tr style=\"text-align: right;\">\n",
       "      <th></th>\n",
       "      <th>Coluna1</th>\n",
       "      <th>Coluna2</th>\n",
       "      <th>Coluna3</th>\n",
       "      <th>vol_dia</th>\n",
       "    </tr>\n",
       "  </thead>\n",
       "  <tbody>\n",
       "    <tr>\n",
       "      <th>0</th>\n",
       "      <td>Regional1</td>\n",
       "      <td>Região Leste</td>\n",
       "      <td>Atacado</td>\n",
       "      <td>True</td>\n",
       "    </tr>\n",
       "  </tbody>\n",
       "</table>\n",
       "</div>"
      ],
      "text/plain": [
       "     Coluna1       Coluna2  Coluna3  vol_dia\n",
       "0  Regional1  Região Leste  Atacado     True"
      ]
     },
     "execution_count": 46,
     "metadata": {},
     "output_type": "execute_result"
    }
   ],
   "source": [
    "_df['vol_dia'] = np.where(_df['vol_dia']== 10000, True, False)\n",
    "_df"
   ]
  },
  {
   "cell_type": "code",
   "execution_count": 53,
   "metadata": {},
   "outputs": [
    {
     "data": {
      "text/html": [
       "<div>\n",
       "<style scoped>\n",
       "    .dataframe tbody tr th:only-of-type {\n",
       "        vertical-align: middle;\n",
       "    }\n",
       "\n",
       "    .dataframe tbody tr th {\n",
       "        vertical-align: top;\n",
       "    }\n",
       "\n",
       "    .dataframe thead th {\n",
       "        text-align: right;\n",
       "    }\n",
       "</style>\n",
       "<table border=\"1\" class=\"dataframe\">\n",
       "  <thead>\n",
       "    <tr style=\"text-align: right;\">\n",
       "      <th></th>\n",
       "      <th>Coluna1</th>\n",
       "      <th>Coluna2</th>\n",
       "      <th>Coluna3</th>\n",
       "      <th>vol_dia</th>\n",
       "    </tr>\n",
       "  </thead>\n",
       "  <tbody>\n",
       "    <tr>\n",
       "      <th>0</th>\n",
       "      <td>Regional2</td>\n",
       "      <td>Região Leste</td>\n",
       "      <td>Atacado</td>\n",
       "      <td>False</td>\n",
       "    </tr>\n",
       "  </tbody>\n",
       "</table>\n",
       "</div>"
      ],
      "text/plain": [
       "     Coluna1       Coluna2  Coluna3  vol_dia\n",
       "0  Regional2  Região Leste  Atacado    False"
      ]
     },
     "execution_count": 53,
     "metadata": {},
     "output_type": "execute_result"
    }
   ],
   "source": [
    "_df = _df.replace('Regional1','Regional2')\n",
    "_df"
   ]
  },
  {
   "cell_type": "code",
   "execution_count": 75,
   "metadata": {},
   "outputs": [
    {
     "data": {
      "text/html": [
       "<div>\n",
       "<style scoped>\n",
       "    .dataframe tbody tr th:only-of-type {\n",
       "        vertical-align: middle;\n",
       "    }\n",
       "\n",
       "    .dataframe tbody tr th {\n",
       "        vertical-align: top;\n",
       "    }\n",
       "\n",
       "    .dataframe thead th {\n",
       "        text-align: right;\n",
       "    }\n",
       "</style>\n",
       "<table border=\"1\" class=\"dataframe\">\n",
       "  <thead>\n",
       "    <tr style=\"text-align: right;\">\n",
       "      <th></th>\n",
       "      <th>Coluna1</th>\n",
       "      <th>Coluna2</th>\n",
       "      <th>Coluna3</th>\n",
       "      <th>vol_dia</th>\n",
       "      <th>split_cols</th>\n",
       "    </tr>\n",
       "  </thead>\n",
       "  <tbody>\n",
       "    <tr>\n",
       "      <th>0</th>\n",
       "      <td>Regional2</td>\n",
       "      <td>Região Leste Cambuci2 66</td>\n",
       "      <td>Atacado</td>\n",
       "      <td>False</td>\n",
       "      <td>[Região, Leste]</td>\n",
       "    </tr>\n",
       "  </tbody>\n",
       "</table>\n",
       "</div>"
      ],
      "text/plain": [
       "     Coluna1                   Coluna2  Coluna3  vol_dia       split_cols\n",
       "0  Regional2  Região Leste Cambuci2 66  Atacado    False  [Região, Leste]"
      ]
     },
     "execution_count": 75,
     "metadata": {},
     "output_type": "execute_result"
    }
   ],
   "source": [
    "_df = _df.replace('Região Leste','Região Leste Cambuci2 66')\n",
    "_df"
   ]
  },
  {
   "cell_type": "markdown",
   "metadata": {},
   "source": [
    "#### Strings"
   ]
  },
  {
   "cell_type": "code",
   "execution_count": 69,
   "metadata": {},
   "outputs": [
    {
     "data": {
      "text/plain": [
       "0    [Região, Leste, Cambuci2, 66]\n",
       "Name: Coluna2, dtype: object"
      ]
     },
     "execution_count": 69,
     "metadata": {},
     "output_type": "execute_result"
    }
   ],
   "source": [
    "_df['Coluna2'].str.split(pat=' ')"
   ]
  },
  {
   "cell_type": "code",
   "execution_count": 70,
   "metadata": {},
   "outputs": [
    {
     "data": {
      "text/html": [
       "<div>\n",
       "<style scoped>\n",
       "    .dataframe tbody tr th:only-of-type {\n",
       "        vertical-align: middle;\n",
       "    }\n",
       "\n",
       "    .dataframe tbody tr th {\n",
       "        vertical-align: top;\n",
       "    }\n",
       "\n",
       "    .dataframe thead th {\n",
       "        text-align: right;\n",
       "    }\n",
       "</style>\n",
       "<table border=\"1\" class=\"dataframe\">\n",
       "  <thead>\n",
       "    <tr style=\"text-align: right;\">\n",
       "      <th></th>\n",
       "      <th>0</th>\n",
       "      <th>1</th>\n",
       "      <th>2</th>\n",
       "      <th>3</th>\n",
       "    </tr>\n",
       "  </thead>\n",
       "  <tbody>\n",
       "    <tr>\n",
       "      <th>0</th>\n",
       "      <td>Região</td>\n",
       "      <td>Leste</td>\n",
       "      <td>Cambuci2</td>\n",
       "      <td>66</td>\n",
       "    </tr>\n",
       "  </tbody>\n",
       "</table>\n",
       "</div>"
      ],
      "text/plain": [
       "        0      1         2   3\n",
       "0  Região  Leste  Cambuci2  66"
      ]
     },
     "execution_count": 70,
     "metadata": {},
     "output_type": "execute_result"
    }
   ],
   "source": [
    "_df['Coluna2'].str.split(n=5, expand=True)"
   ]
  },
  {
   "cell_type": "code",
   "execution_count": 77,
   "metadata": {},
   "outputs": [
    {
     "data": {
      "text/plain": [
       "0    [Região, Leste Cambuci2 66]\n",
       "Name: Coluna2, dtype: object"
      ]
     },
     "execution_count": 77,
     "metadata": {},
     "output_type": "execute_result"
    }
   ],
   "source": [
    "_df['Coluna2'].str.split(n=1)"
   ]
  },
  {
   "cell_type": "code",
   "execution_count": 78,
   "metadata": {},
   "outputs": [
    {
     "data": {
      "text/html": [
       "<div>\n",
       "<style scoped>\n",
       "    .dataframe tbody tr th:only-of-type {\n",
       "        vertical-align: middle;\n",
       "    }\n",
       "\n",
       "    .dataframe tbody tr th {\n",
       "        vertical-align: top;\n",
       "    }\n",
       "\n",
       "    .dataframe thead th {\n",
       "        text-align: right;\n",
       "    }\n",
       "</style>\n",
       "<table border=\"1\" class=\"dataframe\">\n",
       "  <thead>\n",
       "    <tr style=\"text-align: right;\">\n",
       "      <th></th>\n",
       "      <th>Coluna1</th>\n",
       "      <th>Coluna2</th>\n",
       "      <th>Coluna3</th>\n",
       "      <th>vol_dia</th>\n",
       "      <th>split_cols</th>\n",
       "    </tr>\n",
       "  </thead>\n",
       "  <tbody>\n",
       "    <tr>\n",
       "      <th>0</th>\n",
       "      <td>Regional2</td>\n",
       "      <td>Região Leste Cambuci2 66</td>\n",
       "      <td>Atacado</td>\n",
       "      <td>False</td>\n",
       "      <td>Região</td>\n",
       "    </tr>\n",
       "  </tbody>\n",
       "</table>\n",
       "</div>"
      ],
      "text/plain": [
       "     Coluna1                   Coluna2  Coluna3  vol_dia split_cols\n",
       "0  Regional2  Região Leste Cambuci2 66  Atacado    False     Região"
      ]
     },
     "execution_count": 78,
     "metadata": {},
     "output_type": "execute_result"
    }
   ],
   "source": [
    "_df['split_cols'] = _df['Coluna2'].str.split(pat=' ').str[0]\n",
    "_df"
   ]
  },
  {
   "cell_type": "code",
   "execution_count": 57,
   "metadata": {},
   "outputs": [
    {
     "data": {
      "text/html": [
       "<div>\n",
       "<style scoped>\n",
       "    .dataframe tbody tr th:only-of-type {\n",
       "        vertical-align: middle;\n",
       "    }\n",
       "\n",
       "    .dataframe tbody tr th {\n",
       "        vertical-align: top;\n",
       "    }\n",
       "\n",
       "    .dataframe thead th {\n",
       "        text-align: right;\n",
       "    }\n",
       "</style>\n",
       "<table border=\"1\" class=\"dataframe\">\n",
       "  <thead>\n",
       "    <tr style=\"text-align: right;\">\n",
       "      <th></th>\n",
       "      <th>Coluna1</th>\n",
       "      <th>Coluna2</th>\n",
       "      <th>Coluna3</th>\n",
       "      <th>vol_dia</th>\n",
       "      <th>split_cols</th>\n",
       "    </tr>\n",
       "  </thead>\n",
       "  <tbody>\n",
       "    <tr>\n",
       "      <th>0</th>\n",
       "      <td>Regional2</td>\n",
       "      <td>Região Leste</td>\n",
       "      <td>Atacado</td>\n",
       "      <td>False</td>\n",
       "      <td>Leste</td>\n",
       "    </tr>\n",
       "  </tbody>\n",
       "</table>\n",
       "</div>"
      ],
      "text/plain": [
       "     Coluna1       Coluna2  Coluna3  vol_dia split_cols\n",
       "0  Regional2  Região Leste  Atacado    False      Leste"
      ]
     },
     "execution_count": 57,
     "metadata": {},
     "output_type": "execute_result"
    }
   ],
   "source": [
    "_df['split_cols'] = _df['Coluna2'].str.split(pat=' ').str[1]\n",
    "_df"
   ]
  },
  {
   "cell_type": "code",
   "execution_count": null,
   "metadata": {},
   "outputs": [],
   "source": [
    "_df['split_cols'] = _df['Coluna2'].str.split(pat=' ').str[0]\n",
    "_df"
   ]
  },
  {
   "cell_type": "markdown",
   "metadata": {},
   "source": [
    "#### Criando Index e Atribuindo um dicionário"
   ]
  },
  {
   "cell_type": "code",
   "execution_count": 49,
   "metadata": {},
   "outputs": [],
   "source": [
    "index = pd.Index([\n",
    "    # Moinhos > Cimento\n",
    "    '[A1] Dias Úteis',\n",
    "    '[B1] Dias Cobertura Cimento',\n",
    "    '[C1] Demanda Comercial de Cimento',\n",
    "    '[D1] Capacidade Total Moinhos',\n",
    "    '[E1] Estoque Inicial = [N1]',\n",
    "    '[F1] Estoque de Segurança =  [C1/A1 * B1]',\n",
    "    '[G1] Entrada de Estoque = MAX[0, F1 - E1]',\n",
    "    '[H1] Saída de Estoque =  MIN[0, F1 - E1]',\n",
    "    '[I1] Requisito de Estoque = [G1 + H1]',\n",
    "    '[J1] Requisito Total de Produção = [J1 + C1]',\n",
    "    '[L1] Produção Planejada de Cimento = MAX[J1,D1]',\n",
    "    '[M1] Cimento Disponível = [E1 + A3 - F1]',\n",
    "    '[N1] Estoque Final = [E1 + A3 - C3]',\n",
    "    '[O1] Alerta de Estoque Cimento',\n",
    "    # Fornos > Clinquer\n",
    "    '[A2] Dias Cobertura Clínquer',\n",
    "    '[B2] Percentual de Clínquer',\n",
    "    '[C2] Demanda de Clínquer para Cimento = [L1 * B2]',\n",
    "    '[D2] Capacidade Total Fornos',\n",
    "    '[E2] Estoque Inicial = [Q2]',\n",
    "    '[F2] Estoque de Segurança = [C2/A1 * A2]',\n",
    "    '[G2] Entrada de Estoque = MAX[0, F2 - E2]',\n",
    "    '[H2] Saída de Estoque = MIN[0, F2 - E2]',\n",
    "    '[I2] Requisito de estoque = [G2 - H2]',\n",
    "    '[J2] Tranferências Saída = [L1 * B2]',\n",
    "    '[L2] Requisito Total de Produção = [I2 + C2 + J2]',\n",
    "    '[M2] Tranferências Entrada',\n",
    "    '[N2] Produção Efetiva de Clínquer = MIN[L2,D2] + M2',\n",
    "    '[N2.1] Produção Efetiva de Estoque Clínquer',      \n",
    "    '[O2] % de Produção Própria = [N2 * (C2+I2)/(L2)]',\n",
    "    '[P2] % de Produção Externa = [N2 * J2 /(L2)]',\n",
    "    '[Q2] Estoque Final = [E2 + O2 - U2]',\n",
    "    '[R2] Venda para outros Players',\n",
    "    '[S2] Clínquer Dísponivel = [E2 + O2 - F2 + R2]',\n",
    "    '[T2] Clínquer Dísponivel Convertido em Cimento',\n",
    "    '[U2] Demanda Restrita de Clínquer = [S2/B2]',\n",
    "    '[V2] Alerta de estoque Cimento',\n",
    "    # Cimento Novamente\n",
    "    '[A3] Produção efetiva de cimento = [O2/B2] trans. [N2/B2]',\n",
    "    '[B3] Cimento disponível = M1',\n",
    "    '[C3] Demanda restrita = MIN[B3,C1]',\n",
    "    '[D3] Demanda não abastecida = [C1 - C3]',\n",
    "    '[E3] Demanda irrestrita = C1'\n",
    "    ])"
   ]
  },
  {
   "cell_type": "code",
   "execution_count": 50,
   "metadata": {},
   "outputs": [
    {
     "data": {
      "text/plain": [
       "Index(['[A1] Dias Úteis', '[B1] Dias Cobertura Cimento',\n",
       "       '[C1] Demanda Comercial de Cimento', '[D1] Capacidade Total Moinhos',\n",
       "       '[E1] Estoque Inicial = [N1]',\n",
       "       '[F1] Estoque de Segurança =  [C1/A1 * B1]',\n",
       "       '[G1] Entrada de Estoque = MAX[0, F1 - E1]',\n",
       "       '[H1] Saída de Estoque =  MIN[0, F1 - E1]',\n",
       "       '[I1] Requisito de Estoque = [G1 + H1]',\n",
       "       '[J1] Requisito Total de Produção = [J1 + C1]',\n",
       "       '[L1] Produção Planejada de Cimento = MAX[J1,D1]',\n",
       "       '[M1] Cimento Disponível = [E1 + A3 - F1]',\n",
       "       '[N1] Estoque Final = [E1 + A3 - C3]', '[O1] Alerta de Estoque Cimento',\n",
       "       '[A2] Dias Cobertura Clínquer', '[B2] Percentual de Clínquer',\n",
       "       '[C2] Demanda de Clínquer para Cimento = [L1 * B2]',\n",
       "       '[D2] Capacidade Total Fornos', '[E2] Estoque Inicial = [Q2]',\n",
       "       '[F2] Estoque de Segurança = [C2/A1 * A2]',\n",
       "       '[G2] Entrada de Estoque = MAX[0, F2 - E2]',\n",
       "       '[H2] Saída de Estoque = MIN[0, F2 - E2]',\n",
       "       '[I2] Requisito de estoque = [G2 - H2]',\n",
       "       '[J2] Tranferências Saída = [L1 * B2]',\n",
       "       '[L2] Requisito Total de Produção = [I2 + C2 + J2]',\n",
       "       '[M2] Tranferências Entrada',\n",
       "       '[N2] Produção Efetiva de Clínquer = MIN[L2,D2] + M2',\n",
       "       '[N2.1] Produção Efetiva de Estoque Clínquer',\n",
       "       '[O2] % de Produção Própria = [N2 * (C2+I2)/(L2)]',\n",
       "       '[P2] % de Produção Externa = [N2 * J2 /(L2)]',\n",
       "       '[Q2] Estoque Final = [E2 + O2 - U2]', '[R2] Venda para outros Players',\n",
       "       '[S2] Clínquer Dísponivel = [E2 + O2 - F2 + R2]',\n",
       "       '[T2] Clínquer Dísponivel Convertido em Cimento',\n",
       "       '[U2] Demanda Restrita de Clínquer = [S2/B2]',\n",
       "       '[V2] Alerta de estoque Cimento',\n",
       "       '[A3] Produção efetiva de cimento = [O2/B2] trans. [N2/B2]',\n",
       "       '[B3] Cimento disponível = M1', '[C3] Demanda restrita = MIN[B3,C1]',\n",
       "       '[D3] Demanda não abastecida = [C1 - C3]',\n",
       "       '[E3] Demanda irrestrita = C1'],\n",
       "      dtype='object')"
      ]
     },
     "execution_count": 50,
     "metadata": {},
     "output_type": "execute_result"
    }
   ],
   "source": [
    "index"
   ]
  },
  {
   "cell_type": "code",
   "execution_count": 51,
   "metadata": {},
   "outputs": [
    {
     "data": {
      "text/plain": [
       "{'[A1] Dias Úteis': 0,\n",
       " '[B1] Dias Cobertura Cimento': 1,\n",
       " '[C1] Demanda Comercial de Cimento': 2,\n",
       " '[D1] Capacidade Total Moinhos': 3,\n",
       " '[E1] Estoque Inicial = [N1]': 4,\n",
       " '[F1] Estoque de Segurança =  [C1/A1 * B1]': 5,\n",
       " '[G1] Entrada de Estoque = MAX[0, F1 - E1]': 6,\n",
       " '[H1] Saída de Estoque =  MIN[0, F1 - E1]': 7,\n",
       " '[I1] Requisito de Estoque = [G1 + H1]': 8,\n",
       " '[J1] Requisito Total de Produção = [J1 + C1]': 9,\n",
       " '[L1] Produção Planejada de Cimento = MAX[J1,D1]': 10,\n",
       " '[M1] Cimento Disponível = [E1 + A3 - F1]': 11,\n",
       " '[N1] Estoque Final = [E1 + A3 - C3]': 12,\n",
       " '[O1] Alerta de Estoque Cimento': 13,\n",
       " '[A2] Dias Cobertura Clínquer': 14,\n",
       " '[B2] Percentual de Clínquer': 15,\n",
       " '[C2] Demanda de Clínquer para Cimento = [L1 * B2]': 16,\n",
       " '[D2] Capacidade Total Fornos': 17,\n",
       " '[E2] Estoque Inicial = [Q2]': 18,\n",
       " '[F2] Estoque de Segurança = [C2/A1 * A2]': 19,\n",
       " '[G2] Entrada de Estoque = MAX[0, F2 - E2]': 20,\n",
       " '[H2] Saída de Estoque = MIN[0, F2 - E2]': 21,\n",
       " '[I2] Requisito de estoque = [G2 - H2]': 22,\n",
       " '[J2] Tranferências Saída = [L1 * B2]': 23,\n",
       " '[L2] Requisito Total de Produção = [I2 + C2 + J2]': 24,\n",
       " '[M2] Tranferências Entrada': 25,\n",
       " '[N2] Produção Efetiva de Clínquer = MIN[L2,D2] + M2': 26,\n",
       " '[N2.1] Produção Efetiva de Estoque Clínquer': 27,\n",
       " '[O2] % de Produção Própria = [N2 * (C2+I2)/(L2)]': 28,\n",
       " '[P2] % de Produção Externa = [N2 * J2 /(L2)]': 29,\n",
       " '[Q2] Estoque Final = [E2 + O2 - U2]': 30,\n",
       " '[R2] Venda para outros Players': 31,\n",
       " '[S2] Clínquer Dísponivel = [E2 + O2 - F2 + R2]': 32,\n",
       " '[T2] Clínquer Dísponivel Convertido em Cimento': 33,\n",
       " '[U2] Demanda Restrita de Clínquer = [S2/B2]': 34,\n",
       " '[V2] Alerta de estoque Cimento': 35,\n",
       " '[A3] Produção efetiva de cimento = [O2/B2] trans. [N2/B2]': 36,\n",
       " '[B3] Cimento disponível = M1': 37,\n",
       " '[C3] Demanda restrita = MIN[B3,C1]': 38,\n",
       " '[D3] Demanda não abastecida = [C1 - C3]': 39,\n",
       " '[E3] Demanda irrestrita = C1': 40}"
      ]
     },
     "execution_count": 51,
     "metadata": {},
     "output_type": "execute_result"
    }
   ],
   "source": [
    "# Criando um dionário com os valores do index\n",
    "\n",
    "_index = index\n",
    "_len = len(_index)\n",
    "_dict = {}\n",
    "\n",
    "for i in range(_len):\n",
    "    _dict[_index[i]] = i\n",
    "\n",
    "_dict"
   ]
  }
 ],
 "metadata": {
  "interpreter": {
   "hash": "37d5714b4ea6c666124e5e9f794c33113a02017c263bbdd899fa45355d80942a"
  },
  "kernelspec": {
   "display_name": "Python 3.9.6 64-bit",
   "language": "python",
   "name": "python3"
  },
  "language_info": {
   "codemirror_mode": {
    "name": "ipython",
    "version": 3
   },
   "file_extension": ".py",
   "mimetype": "text/x-python",
   "name": "python",
   "nbconvert_exporter": "python",
   "pygments_lexer": "ipython3",
   "version": "3.9.6"
  },
  "orig_nbformat": 4
 },
 "nbformat": 4,
 "nbformat_minor": 2
}
