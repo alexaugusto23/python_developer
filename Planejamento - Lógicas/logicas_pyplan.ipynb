{
 "cells": [
  {
   "cell_type": "markdown",
   "metadata": {},
   "source": [
    "# Lógica de Código Pyplan"
   ]
  },
  {
   "cell_type": "markdown",
   "metadata": {},
   "source": [
    "### Pacotes"
   ]
  },
  {
   "cell_type": "code",
   "execution_count": 72,
   "metadata": {},
   "outputs": [],
   "source": [
    "import os as os\n",
    "import numpy as np\n",
    "import pandas as pd\n",
    "import xarray as xr"
   ]
  },
  {
   "cell_type": "markdown",
   "metadata": {},
   "source": [
    "#### Valor Percentual"
   ]
  },
  {
   "cell_type": "code",
   "execution_count": 73,
   "metadata": {},
   "outputs": [
    {
     "data": {
      "text/plain": [
       "'-40.0 %'"
      ]
     },
     "execution_count": 73,
     "metadata": {},
     "output_type": "execute_result"
    }
   ],
   "source": [
    "# Valor Percentual = (Atual - Anterior)/Anterior \n",
    "atual = 30000\n",
    "anterior = 50000\n",
    "valor_percentual = ((atual - anterior)/anterior) * 100\n",
    "str(valor_percentual) + ' %'"
   ]
  },
  {
   "cell_type": "markdown",
   "metadata": {},
   "source": [
    "#### Defininindo um Index com Compreensão de lista (List comprehension)"
   ]
  },
  {
   "cell_type": "code",
   "execution_count": 74,
   "metadata": {},
   "outputs": [
    {
     "data": {
      "text/html": [
       "<div>\n",
       "<style scoped>\n",
       "    .dataframe tbody tr th:only-of-type {\n",
       "        vertical-align: middle;\n",
       "    }\n",
       "\n",
       "    .dataframe tbody tr th {\n",
       "        vertical-align: top;\n",
       "    }\n",
       "\n",
       "    .dataframe thead th {\n",
       "        text-align: right;\n",
       "    }\n",
       "</style>\n",
       "<table border=\"1\" class=\"dataframe\">\n",
       "  <thead>\n",
       "    <tr style=\"text-align: right;\">\n",
       "      <th></th>\n",
       "      <th>Coluna1</th>\n",
       "      <th>Coluna2</th>\n",
       "      <th>Coluna3</th>\n",
       "      <th>vol_dia</th>\n",
       "    </tr>\n",
       "  </thead>\n",
       "  <tbody>\n",
       "    <tr>\n",
       "      <th>0</th>\n",
       "      <td>Regional1</td>\n",
       "      <td>Região Leste</td>\n",
       "      <td>Atacado</td>\n",
       "      <td>10000</td>\n",
       "    </tr>\n",
       "  </tbody>\n",
       "</table>\n",
       "</div>"
      ],
      "text/plain": [
       "     Coluna1       Coluna2  Coluna3  vol_dia\n",
       "0  Regional1  Região Leste  Atacado    10000"
      ]
     },
     "execution_count": 74,
     "metadata": {},
     "output_type": "execute_result"
    }
   ],
   "source": [
    "data  = {'Coluna1':['Regional1'],  'Coluna2':['Região Leste'], 'Coluna3':['Atacado'], 'vol_dia':[10000]}\n",
    "_df = pd.DataFrame(data)\n",
    "_df"
   ]
  },
  {
   "cell_type": "code",
   "execution_count": 75,
   "metadata": {},
   "outputs": [
    {
     "data": {
      "text/html": [
       "<div>\n",
       "<style scoped>\n",
       "    .dataframe tbody tr th:only-of-type {\n",
       "        vertical-align: middle;\n",
       "    }\n",
       "\n",
       "    .dataframe tbody tr th {\n",
       "        vertical-align: top;\n",
       "    }\n",
       "\n",
       "    .dataframe thead th {\n",
       "        text-align: right;\n",
       "    }\n",
       "</style>\n",
       "<table border=\"1\" class=\"dataframe\">\n",
       "  <thead>\n",
       "    <tr style=\"text-align: right;\">\n",
       "      <th></th>\n",
       "      <th></th>\n",
       "      <th></th>\n",
       "      <th></th>\n",
       "    </tr>\n",
       "    <tr>\n",
       "      <th>Coluna1</th>\n",
       "      <th>Coluna2</th>\n",
       "      <th>Coluna3</th>\n",
       "      <th>vol_dia</th>\n",
       "    </tr>\n",
       "  </thead>\n",
       "  <tbody>\n",
       "    <tr>\n",
       "      <th>Regional1</th>\n",
       "      <th>Região Leste</th>\n",
       "      <th>Atacado</th>\n",
       "      <th>10000</th>\n",
       "    </tr>\n",
       "  </tbody>\n",
       "</table>\n",
       "</div>"
      ],
      "text/plain": [
       "Empty DataFrame\n",
       "Columns: []\n",
       "Index: [(Regional1, Região Leste, Atacado, 10000)]"
      ]
     },
     "execution_count": 75,
     "metadata": {},
     "output_type": "execute_result"
    }
   ],
   "source": [
    "_df.set_index(['Coluna1', 'Coluna2', 'Coluna3', 'vol_dia'])"
   ]
  },
  {
   "cell_type": "code",
   "execution_count": 76,
   "metadata": {},
   "outputs": [
    {
     "data": {
      "text/html": [
       "<div>\n",
       "<style scoped>\n",
       "    .dataframe tbody tr th:only-of-type {\n",
       "        vertical-align: middle;\n",
       "    }\n",
       "\n",
       "    .dataframe tbody tr th {\n",
       "        vertical-align: top;\n",
       "    }\n",
       "\n",
       "    .dataframe thead th {\n",
       "        text-align: right;\n",
       "    }\n",
       "</style>\n",
       "<table border=\"1\" class=\"dataframe\">\n",
       "  <thead>\n",
       "    <tr style=\"text-align: right;\">\n",
       "      <th></th>\n",
       "      <th></th>\n",
       "      <th></th>\n",
       "      <th>vol_dia</th>\n",
       "    </tr>\n",
       "    <tr>\n",
       "      <th>Coluna1</th>\n",
       "      <th>Coluna2</th>\n",
       "      <th>Coluna3</th>\n",
       "      <th></th>\n",
       "    </tr>\n",
       "  </thead>\n",
       "  <tbody>\n",
       "    <tr>\n",
       "      <th>Regional1</th>\n",
       "      <th>Região Leste</th>\n",
       "      <th>Atacado</th>\n",
       "      <td>10000</td>\n",
       "    </tr>\n",
       "  </tbody>\n",
       "</table>\n",
       "</div>"
      ],
      "text/plain": [
       "                                vol_dia\n",
       "Coluna1   Coluna2      Coluna3         \n",
       "Regional1 Região Leste Atacado    10000"
      ]
     },
     "execution_count": 76,
     "metadata": {},
     "output_type": "execute_result"
    }
   ],
   "source": [
    "_df.set_index([col for col in _df if col != 'vol_dia'])"
   ]
  },
  {
   "cell_type": "markdown",
   "metadata": {},
   "source": [
    "#### Deletando Colunas "
   ]
  },
  {
   "cell_type": "code",
   "execution_count": 188,
   "metadata": {},
   "outputs": [
    {
     "data": {
      "text/html": [
       "<div>\n",
       "<style scoped>\n",
       "    .dataframe tbody tr th:only-of-type {\n",
       "        vertical-align: middle;\n",
       "    }\n",
       "\n",
       "    .dataframe tbody tr th {\n",
       "        vertical-align: top;\n",
       "    }\n",
       "\n",
       "    .dataframe thead th {\n",
       "        text-align: right;\n",
       "    }\n",
       "</style>\n",
       "<table border=\"1\" class=\"dataframe\">\n",
       "  <thead>\n",
       "    <tr style=\"text-align: right;\">\n",
       "      <th></th>\n",
       "      <th>col1</th>\n",
       "      <th>col2</th>\n",
       "      <th>col3</th>\n",
       "    </tr>\n",
       "  </thead>\n",
       "  <tbody>\n",
       "    <tr>\n",
       "      <th>0</th>\n",
       "      <td>1</td>\n",
       "      <td>1</td>\n",
       "      <td>1</td>\n",
       "    </tr>\n",
       "    <tr>\n",
       "      <th>1</th>\n",
       "      <td>2</td>\n",
       "      <td>2</td>\n",
       "      <td>2</td>\n",
       "    </tr>\n",
       "  </tbody>\n",
       "</table>\n",
       "</div>"
      ],
      "text/plain": [
       "   col1  col2  col3\n",
       "0     1     1     1\n",
       "1     2     2     2"
      ]
     },
     "execution_count": 188,
     "metadata": {},
     "output_type": "execute_result"
    }
   ],
   "source": [
    "data = {'col1':[1,2], 'col2':[1,2], 'col3':[1,2]}\n",
    "_df = pd.DataFrame(data)\n",
    "_df"
   ]
  },
  {
   "cell_type": "code",
   "execution_count": 189,
   "metadata": {},
   "outputs": [
    {
     "data": {
      "text/html": [
       "<div>\n",
       "<style scoped>\n",
       "    .dataframe tbody tr th:only-of-type {\n",
       "        vertical-align: middle;\n",
       "    }\n",
       "\n",
       "    .dataframe tbody tr th {\n",
       "        vertical-align: top;\n",
       "    }\n",
       "\n",
       "    .dataframe thead th {\n",
       "        text-align: right;\n",
       "    }\n",
       "</style>\n",
       "<table border=\"1\" class=\"dataframe\">\n",
       "  <thead>\n",
       "    <tr style=\"text-align: right;\">\n",
       "      <th></th>\n",
       "      <th>col1</th>\n",
       "      <th>col2</th>\n",
       "    </tr>\n",
       "  </thead>\n",
       "  <tbody>\n",
       "    <tr>\n",
       "      <th>0</th>\n",
       "      <td>1</td>\n",
       "      <td>1</td>\n",
       "    </tr>\n",
       "    <tr>\n",
       "      <th>1</th>\n",
       "      <td>2</td>\n",
       "      <td>2</td>\n",
       "    </tr>\n",
       "  </tbody>\n",
       "</table>\n",
       "</div>"
      ],
      "text/plain": [
       "   col1  col2\n",
       "0     1     1\n",
       "1     2     2"
      ]
     },
     "execution_count": 189,
     "metadata": {},
     "output_type": "execute_result"
    }
   ],
   "source": [
    "_df = _df.drop(columns=['col3'])\n",
    "_df"
   ]
  },
  {
   "cell_type": "code",
   "execution_count": 190,
   "metadata": {},
   "outputs": [
    {
     "data": {
      "text/html": [
       "<div>\n",
       "<style scoped>\n",
       "    .dataframe tbody tr th:only-of-type {\n",
       "        vertical-align: middle;\n",
       "    }\n",
       "\n",
       "    .dataframe tbody tr th {\n",
       "        vertical-align: top;\n",
       "    }\n",
       "\n",
       "    .dataframe thead th {\n",
       "        text-align: right;\n",
       "    }\n",
       "</style>\n",
       "<table border=\"1\" class=\"dataframe\">\n",
       "  <thead>\n",
       "    <tr style=\"text-align: right;\">\n",
       "      <th></th>\n",
       "      <th>col1</th>\n",
       "    </tr>\n",
       "  </thead>\n",
       "  <tbody>\n",
       "    <tr>\n",
       "      <th>0</th>\n",
       "      <td>1</td>\n",
       "    </tr>\n",
       "    <tr>\n",
       "      <th>1</th>\n",
       "      <td>2</td>\n",
       "    </tr>\n",
       "  </tbody>\n",
       "</table>\n",
       "</div>"
      ],
      "text/plain": [
       "   col1\n",
       "0     1\n",
       "1     2"
      ]
     },
     "execution_count": 190,
     "metadata": {},
     "output_type": "execute_result"
    }
   ],
   "source": [
    "del _df['col2']\n",
    "_df"
   ]
  },
  {
   "cell_type": "code",
   "execution_count": 191,
   "metadata": {},
   "outputs": [
    {
     "data": {
      "text/html": [
       "<div>\n",
       "<style scoped>\n",
       "    .dataframe tbody tr th:only-of-type {\n",
       "        vertical-align: middle;\n",
       "    }\n",
       "\n",
       "    .dataframe tbody tr th {\n",
       "        vertical-align: top;\n",
       "    }\n",
       "\n",
       "    .dataframe thead th {\n",
       "        text-align: right;\n",
       "    }\n",
       "</style>\n",
       "<table border=\"1\" class=\"dataframe\">\n",
       "  <thead>\n",
       "    <tr style=\"text-align: right;\">\n",
       "      <th></th>\n",
       "      <th>col1</th>\n",
       "      <th>MesTime</th>\n",
       "    </tr>\n",
       "  </thead>\n",
       "  <tbody>\n",
       "    <tr>\n",
       "      <th>0</th>\n",
       "      <td>1</td>\n",
       "      <td>2021.01</td>\n",
       "    </tr>\n",
       "    <tr>\n",
       "      <th>1</th>\n",
       "      <td>2</td>\n",
       "      <td>2021.02</td>\n",
       "    </tr>\n",
       "  </tbody>\n",
       "</table>\n",
       "</div>"
      ],
      "text/plain": [
       "   col1  MesTime\n",
       "0     1  2021.01\n",
       "1     2  2021.02"
      ]
     },
     "execution_count": 191,
     "metadata": {},
     "output_type": "execute_result"
    }
   ],
   "source": [
    "_df.insert(loc=1, column='MesTime', value=['2021.01','2021.02'])\n",
    "_df"
   ]
  },
  {
   "cell_type": "code",
   "execution_count": 193,
   "metadata": {},
   "outputs": [
    {
     "data": {
      "text/html": [
       "<div>\n",
       "<style scoped>\n",
       "    .dataframe tbody tr th:only-of-type {\n",
       "        vertical-align: middle;\n",
       "    }\n",
       "\n",
       "    .dataframe tbody tr th {\n",
       "        vertical-align: top;\n",
       "    }\n",
       "\n",
       "    .dataframe thead th {\n",
       "        text-align: right;\n",
       "    }\n",
       "</style>\n",
       "<table border=\"1\" class=\"dataframe\">\n",
       "  <thead>\n",
       "    <tr style=\"text-align: right;\">\n",
       "      <th></th>\n",
       "      <th>col1</th>\n",
       "      <th>MesTime</th>\n",
       "    </tr>\n",
       "  </thead>\n",
       "  <tbody>\n",
       "    <tr>\n",
       "      <th>0</th>\n",
       "      <td>1</td>\n",
       "      <td>jan</td>\n",
       "    </tr>\n",
       "    <tr>\n",
       "      <th>1</th>\n",
       "      <td>2</td>\n",
       "      <td>fev</td>\n",
       "    </tr>\n",
       "  </tbody>\n",
       "</table>\n",
       "</div>"
      ],
      "text/plain": [
       "   col1 MesTime\n",
       "0     1     jan\n",
       "1     2     fev"
      ]
     },
     "execution_count": 193,
     "metadata": {},
     "output_type": "execute_result"
    }
   ],
   "source": [
    "_datas = {'2021.01':'jan', '2021.02':'fev'}\n",
    "_df = _df.replace({'MesTime':_datas})\n",
    "_df"
   ]
  },
  {
   "cell_type": "markdown",
   "metadata": {},
   "source": [
    "#### Filtros"
   ]
  },
  {
   "cell_type": "code",
   "execution_count": 195,
   "metadata": {},
   "outputs": [
    {
     "data": {
      "text/html": [
       "<div>\n",
       "<style scoped>\n",
       "    .dataframe tbody tr th:only-of-type {\n",
       "        vertical-align: middle;\n",
       "    }\n",
       "\n",
       "    .dataframe tbody tr th {\n",
       "        vertical-align: top;\n",
       "    }\n",
       "\n",
       "    .dataframe thead th {\n",
       "        text-align: right;\n",
       "    }\n",
       "</style>\n",
       "<table border=\"1\" class=\"dataframe\">\n",
       "  <thead>\n",
       "    <tr style=\"text-align: right;\">\n",
       "      <th></th>\n",
       "      <th>col1</th>\n",
       "      <th>MesTime</th>\n",
       "    </tr>\n",
       "  </thead>\n",
       "  <tbody>\n",
       "    <tr>\n",
       "      <th>0</th>\n",
       "      <td>1</td>\n",
       "      <td>jan</td>\n",
       "    </tr>\n",
       "  </tbody>\n",
       "</table>\n",
       "</div>"
      ],
      "text/plain": [
       "   col1 MesTime\n",
       "0     1     jan"
      ]
     },
     "execution_count": 195,
     "metadata": {},
     "output_type": "execute_result"
    }
   ],
   "source": [
    "_df[ (_df['col1']==1) & (_df['MesTime']=='jan') ]"
   ]
  },
  {
   "cell_type": "code",
   "execution_count": 197,
   "metadata": {},
   "outputs": [
    {
     "data": {
      "text/html": [
       "<div>\n",
       "<style scoped>\n",
       "    .dataframe tbody tr th:only-of-type {\n",
       "        vertical-align: middle;\n",
       "    }\n",
       "\n",
       "    .dataframe tbody tr th {\n",
       "        vertical-align: top;\n",
       "    }\n",
       "\n",
       "    .dataframe thead th {\n",
       "        text-align: right;\n",
       "    }\n",
       "</style>\n",
       "<table border=\"1\" class=\"dataframe\">\n",
       "  <thead>\n",
       "    <tr style=\"text-align: right;\">\n",
       "      <th></th>\n",
       "      <th>col1</th>\n",
       "      <th>MesTime</th>\n",
       "    </tr>\n",
       "  </thead>\n",
       "  <tbody>\n",
       "    <tr>\n",
       "      <th>1</th>\n",
       "      <td>2</td>\n",
       "      <td>fev</td>\n",
       "    </tr>\n",
       "  </tbody>\n",
       "</table>\n",
       "</div>"
      ],
      "text/plain": [
       "   col1 MesTime\n",
       "1     2     fev"
      ]
     },
     "execution_count": 197,
     "metadata": {},
     "output_type": "execute_result"
    }
   ],
   "source": [
    "_list = ['fev']\n",
    "_df[ _df['MesTime'].isin(_list)]"
   ]
  },
  {
   "cell_type": "markdown",
   "metadata": {},
   "source": [
    "#### DataFrames"
   ]
  },
  {
   "cell_type": "code",
   "execution_count": 79,
   "metadata": {},
   "outputs": [
    {
     "data": {
      "text/html": [
       "<div>\n",
       "<style scoped>\n",
       "    .dataframe tbody tr th:only-of-type {\n",
       "        vertical-align: middle;\n",
       "    }\n",
       "\n",
       "    .dataframe tbody tr th {\n",
       "        vertical-align: top;\n",
       "    }\n",
       "\n",
       "    .dataframe thead th {\n",
       "        text-align: right;\n",
       "    }\n",
       "</style>\n",
       "<table border=\"1\" class=\"dataframe\">\n",
       "  <thead>\n",
       "    <tr style=\"text-align: right;\">\n",
       "      <th></th>\n",
       "      <th>id</th>\n",
       "      <th>col1</th>\n",
       "      <th>col2</th>\n",
       "      <th>col3</th>\n",
       "    </tr>\n",
       "  </thead>\n",
       "  <tbody>\n",
       "    <tr>\n",
       "      <th>0</th>\n",
       "      <td>0</td>\n",
       "      <td>1</td>\n",
       "      <td>2</td>\n",
       "      <td>3</td>\n",
       "    </tr>\n",
       "    <tr>\n",
       "      <th>1</th>\n",
       "      <td>1</td>\n",
       "      <td>8</td>\n",
       "      <td>3</td>\n",
       "      <td>0</td>\n",
       "    </tr>\n",
       "    <tr>\n",
       "      <th>2</th>\n",
       "      <td>2</td>\n",
       "      <td>9</td>\n",
       "      <td>3</td>\n",
       "      <td>0</td>\n",
       "    </tr>\n",
       "    <tr>\n",
       "      <th>3</th>\n",
       "      <td>3</td>\n",
       "      <td>2</td>\n",
       "      <td>3</td>\n",
       "      <td>0</td>\n",
       "    </tr>\n",
       "  </tbody>\n",
       "</table>\n",
       "</div>"
      ],
      "text/plain": [
       "   id  col1  col2  col3\n",
       "0   0     1     2     3\n",
       "1   1     8     3     0\n",
       "2   2     9     3     0\n",
       "3   3     2     3     0"
      ]
     },
     "execution_count": 79,
     "metadata": {},
     "output_type": "execute_result"
    }
   ],
   "source": [
    "# array is rows not columns, the coluns is the values inside of array.\n",
    "# [0,1,2,3]\n",
    "# [1,8,3,0]\n",
    "# [2,9,3,0]\n",
    "# [3,2,3,0]\n",
    "\n",
    "data = np.array([ [0,1,2,3], [1,8,3,0], [2,9,3,0], [3,2,3,0] ]) \n",
    "_df1 = pd.DataFrame(data, columns=['id', 'col1', 'col2', 'col3'])\n",
    "_df1"
   ]
  },
  {
   "cell_type": "code",
   "execution_count": 80,
   "metadata": {},
   "outputs": [
    {
     "data": {
      "text/html": [
       "<div>\n",
       "<style scoped>\n",
       "    .dataframe tbody tr th:only-of-type {\n",
       "        vertical-align: middle;\n",
       "    }\n",
       "\n",
       "    .dataframe tbody tr th {\n",
       "        vertical-align: top;\n",
       "    }\n",
       "\n",
       "    .dataframe thead th {\n",
       "        text-align: right;\n",
       "    }\n",
       "</style>\n",
       "<table border=\"1\" class=\"dataframe\">\n",
       "  <thead>\n",
       "    <tr style=\"text-align: right;\">\n",
       "      <th></th>\n",
       "      <th>id</th>\n",
       "      <th>col4</th>\n",
       "      <th>col5</th>\n",
       "      <th>col6</th>\n",
       "    </tr>\n",
       "  </thead>\n",
       "  <tbody>\n",
       "    <tr>\n",
       "      <th>0</th>\n",
       "      <td>0</td>\n",
       "      <td>1</td>\n",
       "      <td>2</td>\n",
       "      <td>3</td>\n",
       "    </tr>\n",
       "    <tr>\n",
       "      <th>1</th>\n",
       "      <td>1</td>\n",
       "      <td>1</td>\n",
       "      <td>2</td>\n",
       "      <td>8</td>\n",
       "    </tr>\n",
       "    <tr>\n",
       "      <th>2</th>\n",
       "      <td>2</td>\n",
       "      <td>5</td>\n",
       "      <td>2</td>\n",
       "      <td>4</td>\n",
       "    </tr>\n",
       "    <tr>\n",
       "      <th>3</th>\n",
       "      <td>3</td>\n",
       "      <td>9</td>\n",
       "      <td>6</td>\n",
       "      <td>8</td>\n",
       "    </tr>\n",
       "  </tbody>\n",
       "</table>\n",
       "</div>"
      ],
      "text/plain": [
       "   id  col4  col5  col6\n",
       "0   0     1     2     3\n",
       "1   1     1     2     8\n",
       "2   2     5     2     4\n",
       "3   3     9     6     8"
      ]
     },
     "execution_count": 80,
     "metadata": {},
     "output_type": "execute_result"
    }
   ],
   "source": [
    "data = np.array([[0,1,2,3], [1,1,2,8], [2,5,2,4], [3,9,6,8]])\n",
    "_df2 = pd.DataFrame(data, columns=['id', 'col4', 'col5', 'col6'])\n",
    "_df2"
   ]
  },
  {
   "cell_type": "markdown",
   "metadata": {},
   "source": [
    "#### Mesclando Dataframes"
   ]
  },
  {
   "cell_type": "code",
   "execution_count": 81,
   "metadata": {},
   "outputs": [
    {
     "data": {
      "text/html": [
       "<div>\n",
       "<style scoped>\n",
       "    .dataframe tbody tr th:only-of-type {\n",
       "        vertical-align: middle;\n",
       "    }\n",
       "\n",
       "    .dataframe tbody tr th {\n",
       "        vertical-align: top;\n",
       "    }\n",
       "\n",
       "    .dataframe thead th {\n",
       "        text-align: right;\n",
       "    }\n",
       "</style>\n",
       "<table border=\"1\" class=\"dataframe\">\n",
       "  <thead>\n",
       "    <tr style=\"text-align: right;\">\n",
       "      <th></th>\n",
       "      <th>id</th>\n",
       "      <th>col1</th>\n",
       "      <th>col2</th>\n",
       "      <th>col3</th>\n",
       "      <th>col4</th>\n",
       "      <th>col5</th>\n",
       "      <th>col6</th>\n",
       "    </tr>\n",
       "  </thead>\n",
       "  <tbody>\n",
       "    <tr>\n",
       "      <th>0</th>\n",
       "      <td>0</td>\n",
       "      <td>1</td>\n",
       "      <td>2</td>\n",
       "      <td>3</td>\n",
       "      <td>1</td>\n",
       "      <td>2</td>\n",
       "      <td>3</td>\n",
       "    </tr>\n",
       "    <tr>\n",
       "      <th>1</th>\n",
       "      <td>1</td>\n",
       "      <td>8</td>\n",
       "      <td>3</td>\n",
       "      <td>0</td>\n",
       "      <td>1</td>\n",
       "      <td>2</td>\n",
       "      <td>8</td>\n",
       "    </tr>\n",
       "    <tr>\n",
       "      <th>2</th>\n",
       "      <td>2</td>\n",
       "      <td>9</td>\n",
       "      <td>3</td>\n",
       "      <td>0</td>\n",
       "      <td>5</td>\n",
       "      <td>2</td>\n",
       "      <td>4</td>\n",
       "    </tr>\n",
       "    <tr>\n",
       "      <th>3</th>\n",
       "      <td>3</td>\n",
       "      <td>2</td>\n",
       "      <td>3</td>\n",
       "      <td>0</td>\n",
       "      <td>9</td>\n",
       "      <td>6</td>\n",
       "      <td>8</td>\n",
       "    </tr>\n",
       "  </tbody>\n",
       "</table>\n",
       "</div>"
      ],
      "text/plain": [
       "   id  col1  col2  col3  col4  col5  col6\n",
       "0   0     1     2     3     1     2     3\n",
       "1   1     8     3     0     1     2     8\n",
       "2   2     9     3     0     5     2     4\n",
       "3   3     2     3     0     9     6     8"
      ]
     },
     "execution_count": 81,
     "metadata": {},
     "output_type": "execute_result"
    }
   ],
   "source": [
    "                    \n",
    "_df = _df1.merge(_df2, on=['id'], how='left')\n",
    "_df"
   ]
  },
  {
   "cell_type": "markdown",
   "metadata": {},
   "source": [
    "#### Pivotando Dataframes"
   ]
  },
  {
   "cell_type": "code",
   "execution_count": 82,
   "metadata": {},
   "outputs": [
    {
     "data": {
      "text/html": [
       "<div>\n",
       "<style scoped>\n",
       "    .dataframe tbody tr th:only-of-type {\n",
       "        vertical-align: middle;\n",
       "    }\n",
       "\n",
       "    .dataframe tbody tr th {\n",
       "        vertical-align: top;\n",
       "    }\n",
       "\n",
       "    .dataframe thead th {\n",
       "        text-align: right;\n",
       "    }\n",
       "</style>\n",
       "<table border=\"1\" class=\"dataframe\">\n",
       "  <thead>\n",
       "    <tr style=\"text-align: right;\">\n",
       "      <th>col1</th>\n",
       "      <th>id</th>\n",
       "      <th>1</th>\n",
       "      <th>2</th>\n",
       "      <th>8</th>\n",
       "      <th>9</th>\n",
       "    </tr>\n",
       "  </thead>\n",
       "  <tbody>\n",
       "    <tr>\n",
       "      <th>0</th>\n",
       "      <td>0</td>\n",
       "      <td>3.0</td>\n",
       "      <td>NaN</td>\n",
       "      <td>NaN</td>\n",
       "      <td>NaN</td>\n",
       "    </tr>\n",
       "    <tr>\n",
       "      <th>1</th>\n",
       "      <td>1</td>\n",
       "      <td>NaN</td>\n",
       "      <td>NaN</td>\n",
       "      <td>0.0</td>\n",
       "      <td>NaN</td>\n",
       "    </tr>\n",
       "    <tr>\n",
       "      <th>2</th>\n",
       "      <td>2</td>\n",
       "      <td>NaN</td>\n",
       "      <td>NaN</td>\n",
       "      <td>NaN</td>\n",
       "      <td>0.0</td>\n",
       "    </tr>\n",
       "    <tr>\n",
       "      <th>3</th>\n",
       "      <td>3</td>\n",
       "      <td>NaN</td>\n",
       "      <td>0.0</td>\n",
       "      <td>NaN</td>\n",
       "      <td>NaN</td>\n",
       "    </tr>\n",
       "  </tbody>\n",
       "</table>\n",
       "</div>"
      ],
      "text/plain": [
       "col1  id    1    2    8    9\n",
       "0      0  3.0  NaN  NaN  NaN\n",
       "1      1  NaN  NaN  0.0  NaN\n",
       "2      2  NaN  NaN  NaN  0.0\n",
       "3      3  NaN  0.0  NaN  NaN"
      ]
     },
     "execution_count": 82,
     "metadata": {},
     "output_type": "execute_result"
    }
   ],
   "source": [
    "_df_pivot = pd.pivot_table(_df,\n",
    "                           values='col3', \n",
    "                           index='id',\n",
    "                           columns=['col1'], \n",
    "                           aggfunc=np.sum).reset_index()\n",
    "\n",
    "_df_pivot"
   ]
  },
  {
   "cell_type": "markdown",
   "metadata": {},
   "source": [
    "#### Substituindo Valores"
   ]
  },
  {
   "cell_type": "code",
   "execution_count": 83,
   "metadata": {},
   "outputs": [
    {
     "data": {
      "text/html": [
       "<div>\n",
       "<style scoped>\n",
       "    .dataframe tbody tr th:only-of-type {\n",
       "        vertical-align: middle;\n",
       "    }\n",
       "\n",
       "    .dataframe tbody tr th {\n",
       "        vertical-align: top;\n",
       "    }\n",
       "\n",
       "    .dataframe thead th {\n",
       "        text-align: right;\n",
       "    }\n",
       "</style>\n",
       "<table border=\"1\" class=\"dataframe\">\n",
       "  <thead>\n",
       "    <tr style=\"text-align: right;\">\n",
       "      <th></th>\n",
       "      <th>Coluna1</th>\n",
       "      <th>Coluna2</th>\n",
       "      <th>Coluna3</th>\n",
       "      <th>vol_dia</th>\n",
       "    </tr>\n",
       "  </thead>\n",
       "  <tbody>\n",
       "    <tr>\n",
       "      <th>0</th>\n",
       "      <td>Regional1</td>\n",
       "      <td>Região Leste</td>\n",
       "      <td>Atacado</td>\n",
       "      <td>10000</td>\n",
       "    </tr>\n",
       "  </tbody>\n",
       "</table>\n",
       "</div>"
      ],
      "text/plain": [
       "     Coluna1       Coluna2  Coluna3  vol_dia\n",
       "0  Regional1  Região Leste  Atacado    10000"
      ]
     },
     "execution_count": 83,
     "metadata": {},
     "output_type": "execute_result"
    }
   ],
   "source": [
    "data  = {'Coluna1':['Regional1'],  'Coluna2':['Região Leste'], 'Coluna3':['Atacado'], 'vol_dia':[10000]}\n",
    "_df = pd.DataFrame(data)\n",
    "_df"
   ]
  },
  {
   "cell_type": "code",
   "execution_count": 84,
   "metadata": {},
   "outputs": [
    {
     "data": {
      "text/html": [
       "<div>\n",
       "<style scoped>\n",
       "    .dataframe tbody tr th:only-of-type {\n",
       "        vertical-align: middle;\n",
       "    }\n",
       "\n",
       "    .dataframe tbody tr th {\n",
       "        vertical-align: top;\n",
       "    }\n",
       "\n",
       "    .dataframe thead th {\n",
       "        text-align: right;\n",
       "    }\n",
       "</style>\n",
       "<table border=\"1\" class=\"dataframe\">\n",
       "  <thead>\n",
       "    <tr style=\"text-align: right;\">\n",
       "      <th></th>\n",
       "      <th>Coluna1</th>\n",
       "      <th>Coluna2</th>\n",
       "      <th>Coluna3</th>\n",
       "      <th>vol_dia</th>\n",
       "    </tr>\n",
       "  </thead>\n",
       "  <tbody>\n",
       "    <tr>\n",
       "      <th>0</th>\n",
       "      <td>Regional1</td>\n",
       "      <td>Região Leste</td>\n",
       "      <td>Atacado</td>\n",
       "      <td>False</td>\n",
       "    </tr>\n",
       "  </tbody>\n",
       "</table>\n",
       "</div>"
      ],
      "text/plain": [
       "     Coluna1       Coluna2  Coluna3  vol_dia\n",
       "0  Regional1  Região Leste  Atacado    False"
      ]
     },
     "execution_count": 84,
     "metadata": {},
     "output_type": "execute_result"
    }
   ],
   "source": [
    "_df['vol_dia'] = np.where(_df['vol_dia']== 1000, True, False)\n",
    "_df"
   ]
  },
  {
   "cell_type": "code",
   "execution_count": 85,
   "metadata": {},
   "outputs": [
    {
     "data": {
      "text/html": [
       "<div>\n",
       "<style scoped>\n",
       "    .dataframe tbody tr th:only-of-type {\n",
       "        vertical-align: middle;\n",
       "    }\n",
       "\n",
       "    .dataframe tbody tr th {\n",
       "        vertical-align: top;\n",
       "    }\n",
       "\n",
       "    .dataframe thead th {\n",
       "        text-align: right;\n",
       "    }\n",
       "</style>\n",
       "<table border=\"1\" class=\"dataframe\">\n",
       "  <thead>\n",
       "    <tr style=\"text-align: right;\">\n",
       "      <th></th>\n",
       "      <th>Coluna1</th>\n",
       "      <th>Coluna2</th>\n",
       "      <th>Coluna3</th>\n",
       "      <th>vol_dia</th>\n",
       "    </tr>\n",
       "  </thead>\n",
       "  <tbody>\n",
       "    <tr>\n",
       "      <th>0</th>\n",
       "      <td>Regional1</td>\n",
       "      <td>Região Leste</td>\n",
       "      <td>Atacado</td>\n",
       "      <td>10000</td>\n",
       "    </tr>\n",
       "  </tbody>\n",
       "</table>\n",
       "</div>"
      ],
      "text/plain": [
       "     Coluna1       Coluna2  Coluna3  vol_dia\n",
       "0  Regional1  Região Leste  Atacado    10000"
      ]
     },
     "execution_count": 85,
     "metadata": {},
     "output_type": "execute_result"
    }
   ],
   "source": [
    "data  = {'Coluna1':['Regional1'],  'Coluna2':['Região Leste'], 'Coluna3':['Atacado'], 'vol_dia':[10000]}\n",
    "_df = pd.DataFrame(data)\n",
    "_df"
   ]
  },
  {
   "cell_type": "code",
   "execution_count": 86,
   "metadata": {},
   "outputs": [
    {
     "data": {
      "text/html": [
       "<div>\n",
       "<style scoped>\n",
       "    .dataframe tbody tr th:only-of-type {\n",
       "        vertical-align: middle;\n",
       "    }\n",
       "\n",
       "    .dataframe tbody tr th {\n",
       "        vertical-align: top;\n",
       "    }\n",
       "\n",
       "    .dataframe thead th {\n",
       "        text-align: right;\n",
       "    }\n",
       "</style>\n",
       "<table border=\"1\" class=\"dataframe\">\n",
       "  <thead>\n",
       "    <tr style=\"text-align: right;\">\n",
       "      <th></th>\n",
       "      <th>Coluna1</th>\n",
       "      <th>Coluna2</th>\n",
       "      <th>Coluna3</th>\n",
       "      <th>vol_dia</th>\n",
       "    </tr>\n",
       "  </thead>\n",
       "  <tbody>\n",
       "    <tr>\n",
       "      <th>0</th>\n",
       "      <td>Regional1</td>\n",
       "      <td>Região Leste</td>\n",
       "      <td>Atacado</td>\n",
       "      <td>True</td>\n",
       "    </tr>\n",
       "  </tbody>\n",
       "</table>\n",
       "</div>"
      ],
      "text/plain": [
       "     Coluna1       Coluna2  Coluna3  vol_dia\n",
       "0  Regional1  Região Leste  Atacado     True"
      ]
     },
     "execution_count": 86,
     "metadata": {},
     "output_type": "execute_result"
    }
   ],
   "source": [
    "_df['vol_dia'] = np.where(_df['vol_dia']== 10000, True, False)\n",
    "_df"
   ]
  },
  {
   "cell_type": "code",
   "execution_count": 87,
   "metadata": {},
   "outputs": [
    {
     "data": {
      "text/html": [
       "<div>\n",
       "<style scoped>\n",
       "    .dataframe tbody tr th:only-of-type {\n",
       "        vertical-align: middle;\n",
       "    }\n",
       "\n",
       "    .dataframe tbody tr th {\n",
       "        vertical-align: top;\n",
       "    }\n",
       "\n",
       "    .dataframe thead th {\n",
       "        text-align: right;\n",
       "    }\n",
       "</style>\n",
       "<table border=\"1\" class=\"dataframe\">\n",
       "  <thead>\n",
       "    <tr style=\"text-align: right;\">\n",
       "      <th></th>\n",
       "      <th>Coluna1</th>\n",
       "      <th>Coluna2</th>\n",
       "      <th>Coluna3</th>\n",
       "      <th>vol_dia</th>\n",
       "    </tr>\n",
       "  </thead>\n",
       "  <tbody>\n",
       "    <tr>\n",
       "      <th>0</th>\n",
       "      <td>Regional2</td>\n",
       "      <td>Região Leste</td>\n",
       "      <td>Atacado</td>\n",
       "      <td>True</td>\n",
       "    </tr>\n",
       "  </tbody>\n",
       "</table>\n",
       "</div>"
      ],
      "text/plain": [
       "     Coluna1       Coluna2  Coluna3  vol_dia\n",
       "0  Regional2  Região Leste  Atacado     True"
      ]
     },
     "execution_count": 87,
     "metadata": {},
     "output_type": "execute_result"
    }
   ],
   "source": [
    "_df = _df.replace('Regional1','Regional2')\n",
    "_df"
   ]
  },
  {
   "cell_type": "code",
   "execution_count": 88,
   "metadata": {},
   "outputs": [
    {
     "data": {
      "text/html": [
       "<div>\n",
       "<style scoped>\n",
       "    .dataframe tbody tr th:only-of-type {\n",
       "        vertical-align: middle;\n",
       "    }\n",
       "\n",
       "    .dataframe tbody tr th {\n",
       "        vertical-align: top;\n",
       "    }\n",
       "\n",
       "    .dataframe thead th {\n",
       "        text-align: right;\n",
       "    }\n",
       "</style>\n",
       "<table border=\"1\" class=\"dataframe\">\n",
       "  <thead>\n",
       "    <tr style=\"text-align: right;\">\n",
       "      <th></th>\n",
       "      <th>Coluna1</th>\n",
       "      <th>Coluna2</th>\n",
       "      <th>Coluna3</th>\n",
       "      <th>vol_dia</th>\n",
       "    </tr>\n",
       "  </thead>\n",
       "  <tbody>\n",
       "    <tr>\n",
       "      <th>0</th>\n",
       "      <td>Regional2</td>\n",
       "      <td>Região Leste Cambuci2 66</td>\n",
       "      <td>Atacado</td>\n",
       "      <td>True</td>\n",
       "    </tr>\n",
       "  </tbody>\n",
       "</table>\n",
       "</div>"
      ],
      "text/plain": [
       "     Coluna1                   Coluna2  Coluna3  vol_dia\n",
       "0  Regional2  Região Leste Cambuci2 66  Atacado     True"
      ]
     },
     "execution_count": 88,
     "metadata": {},
     "output_type": "execute_result"
    }
   ],
   "source": [
    "_df = _df.replace('Região Leste','Região Leste Cambuci2 66')\n",
    "_df"
   ]
  },
  {
   "cell_type": "markdown",
   "metadata": {},
   "source": [
    "#### Strings"
   ]
  },
  {
   "cell_type": "code",
   "execution_count": 89,
   "metadata": {},
   "outputs": [
    {
     "data": {
      "text/plain": [
       "0    [Região, Leste, Cambuci2, 66]\n",
       "Name: Coluna2, dtype: object"
      ]
     },
     "execution_count": 89,
     "metadata": {},
     "output_type": "execute_result"
    }
   ],
   "source": [
    "_df['Coluna2'].str.split(pat=' ')"
   ]
  },
  {
   "cell_type": "code",
   "execution_count": 90,
   "metadata": {},
   "outputs": [
    {
     "data": {
      "text/html": [
       "<div>\n",
       "<style scoped>\n",
       "    .dataframe tbody tr th:only-of-type {\n",
       "        vertical-align: middle;\n",
       "    }\n",
       "\n",
       "    .dataframe tbody tr th {\n",
       "        vertical-align: top;\n",
       "    }\n",
       "\n",
       "    .dataframe thead th {\n",
       "        text-align: right;\n",
       "    }\n",
       "</style>\n",
       "<table border=\"1\" class=\"dataframe\">\n",
       "  <thead>\n",
       "    <tr style=\"text-align: right;\">\n",
       "      <th></th>\n",
       "      <th>0</th>\n",
       "      <th>1</th>\n",
       "      <th>2</th>\n",
       "      <th>3</th>\n",
       "    </tr>\n",
       "  </thead>\n",
       "  <tbody>\n",
       "    <tr>\n",
       "      <th>0</th>\n",
       "      <td>Região</td>\n",
       "      <td>Leste</td>\n",
       "      <td>Cambuci2</td>\n",
       "      <td>66</td>\n",
       "    </tr>\n",
       "  </tbody>\n",
       "</table>\n",
       "</div>"
      ],
      "text/plain": [
       "        0      1         2   3\n",
       "0  Região  Leste  Cambuci2  66"
      ]
     },
     "execution_count": 90,
     "metadata": {},
     "output_type": "execute_result"
    }
   ],
   "source": [
    "_df['Coluna2'].str.split(n=5, expand=True)"
   ]
  },
  {
   "cell_type": "code",
   "execution_count": 91,
   "metadata": {},
   "outputs": [
    {
     "data": {
      "text/plain": [
       "0    [Região, Leste Cambuci2 66]\n",
       "Name: Coluna2, dtype: object"
      ]
     },
     "execution_count": 91,
     "metadata": {},
     "output_type": "execute_result"
    }
   ],
   "source": [
    "_df['Coluna2'].str.split(n=1)"
   ]
  },
  {
   "cell_type": "code",
   "execution_count": 92,
   "metadata": {},
   "outputs": [
    {
     "data": {
      "text/html": [
       "<div>\n",
       "<style scoped>\n",
       "    .dataframe tbody tr th:only-of-type {\n",
       "        vertical-align: middle;\n",
       "    }\n",
       "\n",
       "    .dataframe tbody tr th {\n",
       "        vertical-align: top;\n",
       "    }\n",
       "\n",
       "    .dataframe thead th {\n",
       "        text-align: right;\n",
       "    }\n",
       "</style>\n",
       "<table border=\"1\" class=\"dataframe\">\n",
       "  <thead>\n",
       "    <tr style=\"text-align: right;\">\n",
       "      <th></th>\n",
       "      <th>Coluna1</th>\n",
       "      <th>Coluna2</th>\n",
       "      <th>Coluna3</th>\n",
       "      <th>vol_dia</th>\n",
       "      <th>split_cols</th>\n",
       "    </tr>\n",
       "  </thead>\n",
       "  <tbody>\n",
       "    <tr>\n",
       "      <th>0</th>\n",
       "      <td>Regional2</td>\n",
       "      <td>Região Leste Cambuci2 66</td>\n",
       "      <td>Atacado</td>\n",
       "      <td>True</td>\n",
       "      <td>Região</td>\n",
       "    </tr>\n",
       "  </tbody>\n",
       "</table>\n",
       "</div>"
      ],
      "text/plain": [
       "     Coluna1                   Coluna2  Coluna3  vol_dia split_cols\n",
       "0  Regional2  Região Leste Cambuci2 66  Atacado     True     Região"
      ]
     },
     "execution_count": 92,
     "metadata": {},
     "output_type": "execute_result"
    }
   ],
   "source": [
    "_df['split_cols'] = _df['Coluna2'].str.split(pat=' ').str[0]\n",
    "_df"
   ]
  },
  {
   "cell_type": "code",
   "execution_count": 93,
   "metadata": {},
   "outputs": [
    {
     "data": {
      "text/html": [
       "<div>\n",
       "<style scoped>\n",
       "    .dataframe tbody tr th:only-of-type {\n",
       "        vertical-align: middle;\n",
       "    }\n",
       "\n",
       "    .dataframe tbody tr th {\n",
       "        vertical-align: top;\n",
       "    }\n",
       "\n",
       "    .dataframe thead th {\n",
       "        text-align: right;\n",
       "    }\n",
       "</style>\n",
       "<table border=\"1\" class=\"dataframe\">\n",
       "  <thead>\n",
       "    <tr style=\"text-align: right;\">\n",
       "      <th></th>\n",
       "      <th>Coluna1</th>\n",
       "      <th>Coluna2</th>\n",
       "      <th>Coluna3</th>\n",
       "      <th>vol_dia</th>\n",
       "      <th>split_cols</th>\n",
       "    </tr>\n",
       "  </thead>\n",
       "  <tbody>\n",
       "    <tr>\n",
       "      <th>0</th>\n",
       "      <td>Regional2</td>\n",
       "      <td>Região Leste Cambuci2 66</td>\n",
       "      <td>Atacado</td>\n",
       "      <td>True</td>\n",
       "      <td>Leste</td>\n",
       "    </tr>\n",
       "  </tbody>\n",
       "</table>\n",
       "</div>"
      ],
      "text/plain": [
       "     Coluna1                   Coluna2  Coluna3  vol_dia split_cols\n",
       "0  Regional2  Região Leste Cambuci2 66  Atacado     True      Leste"
      ]
     },
     "execution_count": 93,
     "metadata": {},
     "output_type": "execute_result"
    }
   ],
   "source": [
    "_df['split_cols'] = _df['Coluna2'].str.split(pat=' ').str[1]\n",
    "_df"
   ]
  },
  {
   "cell_type": "code",
   "execution_count": 94,
   "metadata": {},
   "outputs": [
    {
     "data": {
      "text/html": [
       "<div>\n",
       "<style scoped>\n",
       "    .dataframe tbody tr th:only-of-type {\n",
       "        vertical-align: middle;\n",
       "    }\n",
       "\n",
       "    .dataframe tbody tr th {\n",
       "        vertical-align: top;\n",
       "    }\n",
       "\n",
       "    .dataframe thead th {\n",
       "        text-align: right;\n",
       "    }\n",
       "</style>\n",
       "<table border=\"1\" class=\"dataframe\">\n",
       "  <thead>\n",
       "    <tr style=\"text-align: right;\">\n",
       "      <th></th>\n",
       "      <th>Coluna1</th>\n",
       "      <th>Coluna2</th>\n",
       "      <th>Coluna3</th>\n",
       "      <th>vol_dia</th>\n",
       "      <th>split_cols</th>\n",
       "    </tr>\n",
       "  </thead>\n",
       "  <tbody>\n",
       "    <tr>\n",
       "      <th>0</th>\n",
       "      <td>Regional2</td>\n",
       "      <td>Região Leste Cambuci2 66</td>\n",
       "      <td>Atacado</td>\n",
       "      <td>True</td>\n",
       "      <td>Região</td>\n",
       "    </tr>\n",
       "  </tbody>\n",
       "</table>\n",
       "</div>"
      ],
      "text/plain": [
       "     Coluna1                   Coluna2  Coluna3  vol_dia split_cols\n",
       "0  Regional2  Região Leste Cambuci2 66  Atacado     True     Região"
      ]
     },
     "execution_count": 94,
     "metadata": {},
     "output_type": "execute_result"
    }
   ],
   "source": [
    "_df['split_cols'] = _df['Coluna2'].str.split(pat=' ').str[0]\n",
    "_df"
   ]
  },
  {
   "cell_type": "markdown",
   "metadata": {},
   "source": [
    "#### Criando Index e Atribuindo um dicionário"
   ]
  },
  {
   "cell_type": "code",
   "execution_count": 95,
   "metadata": {},
   "outputs": [],
   "source": [
    "index = pd.Index([\n",
    "    # Moinhos > Cimento\n",
    "    '[A1] Dias Úteis',\n",
    "    '[B1] Dias Cobertura Cimento',\n",
    "    '[C1] Demanda Comercial de Cimento',\n",
    "    '[D1] Capacidade Total Moinhos',\n",
    "    '[E1] Estoque Inicial = [N1]',\n",
    "    '[F1] Estoque de Segurança =  [C1/A1 * B1]',\n",
    "    '[G1] Entrada de Estoque = MAX[0, F1 - E1]',\n",
    "    '[H1] Saída de Estoque =  MIN[0, F1 - E1]',\n",
    "    '[I1] Requisito de Estoque = [G1 + H1]',\n",
    "    '[J1] Requisito Total de Produção = [J1 + C1]',\n",
    "    '[L1] Produção Planejada de Cimento = MAX[J1,D1]',\n",
    "    '[M1] Cimento Disponível = [E1 + A3 - F1]',\n",
    "    '[N1] Estoque Final = [E1 + A3 - C3]',\n",
    "    '[O1] Alerta de Estoque Cimento',\n",
    "    # Fornos > Clinquer\n",
    "    '[A2] Dias Cobertura Clínquer',\n",
    "    '[B2] Percentual de Clínquer',\n",
    "    '[C2] Demanda de Clínquer para Cimento = [L1 * B2]',\n",
    "    '[D2] Capacidade Total Fornos',\n",
    "    '[E2] Estoque Inicial = [Q2]',\n",
    "    '[F2] Estoque de Segurança = [C2/A1 * A2]',\n",
    "    '[G2] Entrada de Estoque = MAX[0, F2 - E2]',\n",
    "    '[H2] Saída de Estoque = MIN[0, F2 - E2]',\n",
    "    '[I2] Requisito de estoque = [G2 - H2]',\n",
    "    '[J2] Tranferências Saída = [L1 * B2]',\n",
    "    '[L2] Requisito Total de Produção = [I2 + C2 + J2]',\n",
    "    '[M2] Tranferências Entrada',\n",
    "    '[N2] Produção Efetiva de Clínquer = MIN[L2,D2] + M2',\n",
    "    '[N2.1] Produção Efetiva de Estoque Clínquer',      \n",
    "    '[O2] % de Produção Própria = [N2 * (C2+I2)/(L2)]',\n",
    "    '[P2] % de Produção Externa = [N2 * J2 /(L2)]',\n",
    "    '[Q2] Estoque Final = [E2 + O2 - U2]',\n",
    "    '[R2] Venda para outros Players',\n",
    "    '[S2] Clínquer Dísponivel = [E2 + O2 - F2 + R2]',\n",
    "    '[T2] Clínquer Dísponivel Convertido em Cimento',\n",
    "    '[U2] Demanda Restrita de Clínquer = [S2/B2]',\n",
    "    '[V2] Alerta de estoque Cimento',\n",
    "    # Cimento Novamente\n",
    "    '[A3] Produção efetiva de cimento = [O2/B2] trans. [N2/B2]',\n",
    "    '[B3] Cimento disponível = M1',\n",
    "    '[C3] Demanda restrita = MIN[B3,C1]',\n",
    "    '[D3] Demanda não abastecida = [C1 - C3]',\n",
    "    '[E3] Demanda irrestrita = C1'\n",
    "    ])"
   ]
  },
  {
   "cell_type": "code",
   "execution_count": 96,
   "metadata": {},
   "outputs": [
    {
     "data": {
      "text/plain": [
       "Index(['[A1] Dias Úteis', '[B1] Dias Cobertura Cimento',\n",
       "       '[C1] Demanda Comercial de Cimento', '[D1] Capacidade Total Moinhos',\n",
       "       '[E1] Estoque Inicial = [N1]',\n",
       "       '[F1] Estoque de Segurança =  [C1/A1 * B1]',\n",
       "       '[G1] Entrada de Estoque = MAX[0, F1 - E1]',\n",
       "       '[H1] Saída de Estoque =  MIN[0, F1 - E1]',\n",
       "       '[I1] Requisito de Estoque = [G1 + H1]',\n",
       "       '[J1] Requisito Total de Produção = [J1 + C1]',\n",
       "       '[L1] Produção Planejada de Cimento = MAX[J1,D1]',\n",
       "       '[M1] Cimento Disponível = [E1 + A3 - F1]',\n",
       "       '[N1] Estoque Final = [E1 + A3 - C3]', '[O1] Alerta de Estoque Cimento',\n",
       "       '[A2] Dias Cobertura Clínquer', '[B2] Percentual de Clínquer',\n",
       "       '[C2] Demanda de Clínquer para Cimento = [L1 * B2]',\n",
       "       '[D2] Capacidade Total Fornos', '[E2] Estoque Inicial = [Q2]',\n",
       "       '[F2] Estoque de Segurança = [C2/A1 * A2]',\n",
       "       '[G2] Entrada de Estoque = MAX[0, F2 - E2]',\n",
       "       '[H2] Saída de Estoque = MIN[0, F2 - E2]',\n",
       "       '[I2] Requisito de estoque = [G2 - H2]',\n",
       "       '[J2] Tranferências Saída = [L1 * B2]',\n",
       "       '[L2] Requisito Total de Produção = [I2 + C2 + J2]',\n",
       "       '[M2] Tranferências Entrada',\n",
       "       '[N2] Produção Efetiva de Clínquer = MIN[L2,D2] + M2',\n",
       "       '[N2.1] Produção Efetiva de Estoque Clínquer',\n",
       "       '[O2] % de Produção Própria = [N2 * (C2+I2)/(L2)]',\n",
       "       '[P2] % de Produção Externa = [N2 * J2 /(L2)]',\n",
       "       '[Q2] Estoque Final = [E2 + O2 - U2]', '[R2] Venda para outros Players',\n",
       "       '[S2] Clínquer Dísponivel = [E2 + O2 - F2 + R2]',\n",
       "       '[T2] Clínquer Dísponivel Convertido em Cimento',\n",
       "       '[U2] Demanda Restrita de Clínquer = [S2/B2]',\n",
       "       '[V2] Alerta de estoque Cimento',\n",
       "       '[A3] Produção efetiva de cimento = [O2/B2] trans. [N2/B2]',\n",
       "       '[B3] Cimento disponível = M1', '[C3] Demanda restrita = MIN[B3,C1]',\n",
       "       '[D3] Demanda não abastecida = [C1 - C3]',\n",
       "       '[E3] Demanda irrestrita = C1'],\n",
       "      dtype='object')"
      ]
     },
     "execution_count": 96,
     "metadata": {},
     "output_type": "execute_result"
    }
   ],
   "source": [
    "index"
   ]
  },
  {
   "cell_type": "code",
   "execution_count": 97,
   "metadata": {},
   "outputs": [
    {
     "data": {
      "text/plain": [
       "{'[A1] Dias Úteis': 0,\n",
       " '[B1] Dias Cobertura Cimento': 1,\n",
       " '[C1] Demanda Comercial de Cimento': 2,\n",
       " '[D1] Capacidade Total Moinhos': 3,\n",
       " '[E1] Estoque Inicial = [N1]': 4,\n",
       " '[F1] Estoque de Segurança =  [C1/A1 * B1]': 5,\n",
       " '[G1] Entrada de Estoque = MAX[0, F1 - E1]': 6,\n",
       " '[H1] Saída de Estoque =  MIN[0, F1 - E1]': 7,\n",
       " '[I1] Requisito de Estoque = [G1 + H1]': 8,\n",
       " '[J1] Requisito Total de Produção = [J1 + C1]': 9,\n",
       " '[L1] Produção Planejada de Cimento = MAX[J1,D1]': 10,\n",
       " '[M1] Cimento Disponível = [E1 + A3 - F1]': 11,\n",
       " '[N1] Estoque Final = [E1 + A3 - C3]': 12,\n",
       " '[O1] Alerta de Estoque Cimento': 13,\n",
       " '[A2] Dias Cobertura Clínquer': 14,\n",
       " '[B2] Percentual de Clínquer': 15,\n",
       " '[C2] Demanda de Clínquer para Cimento = [L1 * B2]': 16,\n",
       " '[D2] Capacidade Total Fornos': 17,\n",
       " '[E2] Estoque Inicial = [Q2]': 18,\n",
       " '[F2] Estoque de Segurança = [C2/A1 * A2]': 19,\n",
       " '[G2] Entrada de Estoque = MAX[0, F2 - E2]': 20,\n",
       " '[H2] Saída de Estoque = MIN[0, F2 - E2]': 21,\n",
       " '[I2] Requisito de estoque = [G2 - H2]': 22,\n",
       " '[J2] Tranferências Saída = [L1 * B2]': 23,\n",
       " '[L2] Requisito Total de Produção = [I2 + C2 + J2]': 24,\n",
       " '[M2] Tranferências Entrada': 25,\n",
       " '[N2] Produção Efetiva de Clínquer = MIN[L2,D2] + M2': 26,\n",
       " '[N2.1] Produção Efetiva de Estoque Clínquer': 27,\n",
       " '[O2] % de Produção Própria = [N2 * (C2+I2)/(L2)]': 28,\n",
       " '[P2] % de Produção Externa = [N2 * J2 /(L2)]': 29,\n",
       " '[Q2] Estoque Final = [E2 + O2 - U2]': 30,\n",
       " '[R2] Venda para outros Players': 31,\n",
       " '[S2] Clínquer Dísponivel = [E2 + O2 - F2 + R2]': 32,\n",
       " '[T2] Clínquer Dísponivel Convertido em Cimento': 33,\n",
       " '[U2] Demanda Restrita de Clínquer = [S2/B2]': 34,\n",
       " '[V2] Alerta de estoque Cimento': 35,\n",
       " '[A3] Produção efetiva de cimento = [O2/B2] trans. [N2/B2]': 36,\n",
       " '[B3] Cimento disponível = M1': 37,\n",
       " '[C3] Demanda restrita = MIN[B3,C1]': 38,\n",
       " '[D3] Demanda não abastecida = [C1 - C3]': 39,\n",
       " '[E3] Demanda irrestrita = C1': 40}"
      ]
     },
     "execution_count": 97,
     "metadata": {},
     "output_type": "execute_result"
    }
   ],
   "source": [
    "# Criando um dionário com os valores do index\n",
    "\n",
    "_index = index\n",
    "_len = len(_index)\n",
    "_dict = {}\n",
    "\n",
    "for i in range(_len):\n",
    "    _dict[_index[i]] = i\n",
    "\n",
    "_dict"
   ]
  },
  {
   "cell_type": "code",
   "execution_count": 98,
   "metadata": {},
   "outputs": [
    {
     "data": {
      "text/plain": [
       "'c:\\\\Users\\\\alexsandro.ignacio\\\\OneDrive - WCA Soluções de Inteligência Comercial\\\\Documentos\\\\Docs\\\\Git\\\\python_developer\\\\Planejamento - Lógicas'"
      ]
     },
     "execution_count": 98,
     "metadata": {},
     "output_type": "execute_result"
    }
   ],
   "source": [
    "current_path = os.getcwd()\n",
    "current_path"
   ]
  },
  {
   "cell_type": "code",
   "execution_count": 99,
   "metadata": {},
   "outputs": [],
   "source": [
    "_directory_name = 'Data Base'\n",
    "_file_name = 'Analise_de_Capacidade_base _ 2022-02-25-12-16-27.csv'"
   ]
  },
  {
   "cell_type": "code",
   "execution_count": 100,
   "metadata": {},
   "outputs": [
    {
     "data": {
      "text/plain": [
       "'c:\\\\Users\\\\alexsandro.ignacio\\\\OneDrive - WCA Soluções de Inteligência Comercial\\\\Documentos\\\\Docs\\\\Git\\\\python_developer\\\\Planejamento - Lógicas\\\\Data Base\\\\Analise_de_Capacidade_base _ 2022-02-25-12-16-27.csv'"
      ]
     },
     "execution_count": 100,
     "metadata": {},
     "output_type": "execute_result"
    }
   ],
   "source": [
    "target_path = os.path.join(current_path, _directory_name, _file_name)\n",
    "target_path"
   ]
  },
  {
   "cell_type": "code",
   "execution_count": 101,
   "metadata": {},
   "outputs": [
    {
     "data": {
      "text/html": [
       "<div>\n",
       "<style scoped>\n",
       "    .dataframe tbody tr th:only-of-type {\n",
       "        vertical-align: middle;\n",
       "    }\n",
       "\n",
       "    .dataframe tbody tr th {\n",
       "        vertical-align: top;\n",
       "    }\n",
       "\n",
       "    .dataframe thead th {\n",
       "        text-align: right;\n",
       "    }\n",
       "</style>\n",
       "<table border=\"1\" class=\"dataframe\">\n",
       "  <thead>\n",
       "    <tr style=\"text-align: right;\">\n",
       "      <th></th>\n",
       "      <th>indice_relatorio_analise_de_capacidades</th>\n",
       "      <th>index_codigo_unidade</th>\n",
       "      <th>index_datas</th>\n",
       "      <th>Relatórios de Analise de Capacidade</th>\n",
       "    </tr>\n",
       "  </thead>\n",
       "  <tbody>\n",
       "    <tr>\n",
       "      <th>0</th>\n",
       "      <td>[A1] Dias Úteis</td>\n",
       "      <td>API</td>\n",
       "      <td>2021-06</td>\n",
       "      <td>23.0</td>\n",
       "    </tr>\n",
       "  </tbody>\n",
       "</table>\n",
       "</div>"
      ],
      "text/plain": [
       "  indice_relatorio_analise_de_capacidades index_codigo_unidade index_datas  \\\n",
       "0                         [A1] Dias Úteis                  API     2021-06   \n",
       "\n",
       "  Relatórios de Analise de Capacidade  \n",
       "0                                23.0  "
      ]
     },
     "execution_count": 101,
     "metadata": {},
     "output_type": "execute_result"
    }
   ],
   "source": [
    "_df = pd.read_csv(target_path,sep=';')\n",
    "_df.head(1)"
   ]
  },
  {
   "cell_type": "code",
   "execution_count": 102,
   "metadata": {},
   "outputs": [
    {
     "data": {
      "text/html": [
       "<div>\n",
       "<style scoped>\n",
       "    .dataframe tbody tr th:only-of-type {\n",
       "        vertical-align: middle;\n",
       "    }\n",
       "\n",
       "    .dataframe tbody tr th {\n",
       "        vertical-align: top;\n",
       "    }\n",
       "\n",
       "    .dataframe thead th {\n",
       "        text-align: right;\n",
       "    }\n",
       "</style>\n",
       "<table border=\"1\" class=\"dataframe\">\n",
       "  <thead>\n",
       "    <tr style=\"text-align: right;\">\n",
       "      <th></th>\n",
       "      <th>Relatórios de Análise de Capacidade</th>\n",
       "      <th>Código Unidades</th>\n",
       "      <th>Datas</th>\n",
       "      <th>values</th>\n",
       "    </tr>\n",
       "  </thead>\n",
       "  <tbody>\n",
       "    <tr>\n",
       "      <th>0</th>\n",
       "      <td>[A1] Dias Úteis</td>\n",
       "      <td>API</td>\n",
       "      <td>2021-06</td>\n",
       "      <td>23.0</td>\n",
       "    </tr>\n",
       "    <tr>\n",
       "      <th>1</th>\n",
       "      <td>[A1] Dias Úteis</td>\n",
       "      <td>API</td>\n",
       "      <td>2021-07</td>\n",
       "      <td>24.5</td>\n",
       "    </tr>\n",
       "  </tbody>\n",
       "</table>\n",
       "</div>"
      ],
      "text/plain": [
       "  Relatórios de Análise de Capacidade Código Unidades    Datas values\n",
       "0                     [A1] Dias Úteis             API  2021-06   23.0\n",
       "1                     [A1] Dias Úteis             API  2021-07   24.5"
      ]
     },
     "execution_count": 102,
     "metadata": {},
     "output_type": "execute_result"
    }
   ],
   "source": [
    "_df = _df.rename(columns={'indice_relatorio_analise_de_capacidades':'Relatórios de Análise de Capacidade', \n",
    "                          'index_codigo_unidade':'Código Unidades', \n",
    "                          'index_datas':'Datas', \n",
    "                          'Relatórios de Analise de Capacidade':'values'}).replace('-',0)\n",
    "\n",
    "_df.head(2)"
   ]
  },
  {
   "cell_type": "code",
   "execution_count": 103,
   "metadata": {},
   "outputs": [
    {
     "data": {
      "text/plain": [
       "Relatórios de Análise de Capacidade    object\n",
       "Código Unidades                        object\n",
       "Datas                                  object\n",
       "values                                 object\n",
       "dtype: object"
      ]
     },
     "execution_count": 103,
     "metadata": {},
     "output_type": "execute_result"
    }
   ],
   "source": [
    "_df.dtypes"
   ]
  },
  {
   "cell_type": "code",
   "execution_count": 104,
   "metadata": {},
   "outputs": [
    {
     "data": {
      "text/plain": [
       "Relatórios de Análise de Capacidade            object\n",
       "Código Unidades                                object\n",
       "Datas                                  datetime64[ns]\n",
       "values                                        float64\n",
       "dtype: object"
      ]
     },
     "execution_count": 104,
     "metadata": {},
     "output_type": "execute_result"
    }
   ],
   "source": [
    "_df['Datas'] = pd.to_datetime(_df['Datas'])\n",
    "_df['values'] = _df['values'].astype(float)\n",
    "_df2 = _df\n",
    "_df.dtypes"
   ]
  },
  {
   "cell_type": "code",
   "execution_count": 105,
   "metadata": {},
   "outputs": [
    {
     "data": {
      "text/html": [
       "<div>\n",
       "<style scoped>\n",
       "    .dataframe tbody tr th:only-of-type {\n",
       "        vertical-align: middle;\n",
       "    }\n",
       "\n",
       "    .dataframe tbody tr th {\n",
       "        vertical-align: top;\n",
       "    }\n",
       "\n",
       "    .dataframe thead th {\n",
       "        text-align: right;\n",
       "    }\n",
       "</style>\n",
       "<table border=\"1\" class=\"dataframe\">\n",
       "  <thead>\n",
       "    <tr style=\"text-align: right;\">\n",
       "      <th>Datas</th>\n",
       "      <th>Código Unidades</th>\n",
       "      <th>Relatórios de Análise de Capacidade</th>\n",
       "      <th>2021-06-01 00:00:00</th>\n",
       "      <th>2021-07-01 00:00:00</th>\n",
       "      <th>2021-08-01 00:00:00</th>\n",
       "      <th>2021-09-01 00:00:00</th>\n",
       "      <th>2021-10-01 00:00:00</th>\n",
       "      <th>2021-11-01 00:00:00</th>\n",
       "      <th>2021-12-01 00:00:00</th>\n",
       "      <th>2022-01-01 00:00:00</th>\n",
       "      <th>...</th>\n",
       "      <th>2022-09-01 00:00:00</th>\n",
       "      <th>2022-10-01 00:00:00</th>\n",
       "      <th>2022-11-01 00:00:00</th>\n",
       "      <th>2022-12-01 00:00:00</th>\n",
       "      <th>2023-01-01 00:00:00</th>\n",
       "      <th>2023-02-01 00:00:00</th>\n",
       "      <th>2023-03-01 00:00:00</th>\n",
       "      <th>2023-04-01 00:00:00</th>\n",
       "      <th>2023-05-01 00:00:00</th>\n",
       "      <th>Ordem</th>\n",
       "    </tr>\n",
       "  </thead>\n",
       "  <tbody>\n",
       "    <tr>\n",
       "      <th>0</th>\n",
       "      <td>API</td>\n",
       "      <td>[A1] Dias Úteis</td>\n",
       "      <td>23.0</td>\n",
       "      <td>24.5</td>\n",
       "      <td>24.0</td>\n",
       "      <td>23.0</td>\n",
       "      <td>22.50</td>\n",
       "      <td>22.00</td>\n",
       "      <td>23.50</td>\n",
       "      <td>23.0</td>\n",
       "      <td>...</td>\n",
       "      <td>23.0</td>\n",
       "      <td>22.5</td>\n",
       "      <td>22.0</td>\n",
       "      <td>0.0</td>\n",
       "      <td>0.0</td>\n",
       "      <td>0.0</td>\n",
       "      <td>0.0</td>\n",
       "      <td>0.0</td>\n",
       "      <td>0.0</td>\n",
       "      <td>0</td>\n",
       "    </tr>\n",
       "    <tr>\n",
       "      <th>3</th>\n",
       "      <td>API</td>\n",
       "      <td>[B1] Dias Cobertura Cimento</td>\n",
       "      <td>10.0</td>\n",
       "      <td>10.0</td>\n",
       "      <td>10.0</td>\n",
       "      <td>10.0</td>\n",
       "      <td>3.23</td>\n",
       "      <td>3.25</td>\n",
       "      <td>4.03</td>\n",
       "      <td>10.0</td>\n",
       "      <td>...</td>\n",
       "      <td>10.0</td>\n",
       "      <td>10.0</td>\n",
       "      <td>10.0</td>\n",
       "      <td>10.0</td>\n",
       "      <td>10.0</td>\n",
       "      <td>10.0</td>\n",
       "      <td>10.0</td>\n",
       "      <td>10.0</td>\n",
       "      <td>10.0</td>\n",
       "      <td>1</td>\n",
       "    </tr>\n",
       "  </tbody>\n",
       "</table>\n",
       "<p>2 rows × 27 columns</p>\n",
       "</div>"
      ],
      "text/plain": [
       "Datas Código Unidades Relatórios de Análise de Capacidade  \\\n",
       "0                 API                     [A1] Dias Úteis   \n",
       "3                 API         [B1] Dias Cobertura Cimento   \n",
       "\n",
       "Datas  2021-06-01 00:00:00  2021-07-01 00:00:00  2021-08-01 00:00:00  \\\n",
       "0                     23.0                 24.5                 24.0   \n",
       "3                     10.0                 10.0                 10.0   \n",
       "\n",
       "Datas  2021-09-01 00:00:00  2021-10-01 00:00:00  2021-11-01 00:00:00  \\\n",
       "0                     23.0                22.50                22.00   \n",
       "3                     10.0                 3.23                 3.25   \n",
       "\n",
       "Datas  2021-12-01 00:00:00  2022-01-01 00:00:00  ...  2022-09-01 00:00:00  \\\n",
       "0                    23.50                 23.0  ...                 23.0   \n",
       "3                     4.03                 10.0  ...                 10.0   \n",
       "\n",
       "Datas  2022-10-01 00:00:00  2022-11-01 00:00:00  2022-12-01 00:00:00  \\\n",
       "0                     22.5                 22.0                  0.0   \n",
       "3                     10.0                 10.0                 10.0   \n",
       "\n",
       "Datas  2023-01-01 00:00:00  2023-02-01 00:00:00  2023-03-01 00:00:00  \\\n",
       "0                      0.0                  0.0                  0.0   \n",
       "3                     10.0                 10.0                 10.0   \n",
       "\n",
       "Datas  2023-04-01 00:00:00  2023-05-01 00:00:00  Ordem  \n",
       "0                      0.0                  0.0      0  \n",
       "3                     10.0                 10.0      1  \n",
       "\n",
       "[2 rows x 27 columns]"
      ]
     },
     "execution_count": 105,
     "metadata": {},
     "output_type": "execute_result"
    }
   ],
   "source": [
    "# Tabela Normal\n",
    "dicionario_ordem_relatorio = _dict\n",
    "\n",
    "_df = _df.pivot_table(index=['Código Unidades','Relatórios de Análise de Capacidade'], columns='Datas', values='values')\n",
    "\n",
    "_df = _df.reset_index().sort_values(['Código Unidades', 'Relatórios de Análise de Capacidade'])\n",
    "\n",
    "_df['Ordem'] = _df['Relatórios de Análise de Capacidade']\n",
    "_df['Ordem']  = _df['Ordem'].map(dicionario_ordem_relatorio)\n",
    "# # _df['Ordem'] = _df['Relatórios de Análise de Capacidade'].str.split(pat=' ').str[0]\n",
    "# # _df['Ordem']  = _df['Ordem'].replace(dicionario_ordem_relatorio)\n",
    "\n",
    "\n",
    "_df = _df.sort_values(['Código Unidades', 'Ordem'])\n",
    "# #  _df.drop(columns='Ordem', inplace=True)\n",
    "\n",
    "_df.head(2)"
   ]
  },
  {
   "cell_type": "code",
   "execution_count": 106,
   "metadata": {},
   "outputs": [
    {
     "data": {
      "text/html": [
       "<div>\n",
       "<style scoped>\n",
       "    .dataframe tbody tr th:only-of-type {\n",
       "        vertical-align: middle;\n",
       "    }\n",
       "\n",
       "    .dataframe tbody tr th {\n",
       "        vertical-align: top;\n",
       "    }\n",
       "\n",
       "    .dataframe thead th {\n",
       "        text-align: right;\n",
       "    }\n",
       "</style>\n",
       "<table border=\"1\" class=\"dataframe\">\n",
       "  <thead>\n",
       "    <tr style=\"text-align: right;\">\n",
       "      <th></th>\n",
       "      <th>Relatórios de Análise de Capacidade</th>\n",
       "      <th>Código Unidades</th>\n",
       "      <th>Datas</th>\n",
       "      <th>values</th>\n",
       "    </tr>\n",
       "  </thead>\n",
       "  <tbody>\n",
       "    <tr>\n",
       "      <th>0</th>\n",
       "      <td>[A1] Dias Úteis</td>\n",
       "      <td>API</td>\n",
       "      <td>2021-06-01</td>\n",
       "      <td>23.000000</td>\n",
       "    </tr>\n",
       "    <tr>\n",
       "      <th>1</th>\n",
       "      <td>[A1] Dias Úteis</td>\n",
       "      <td>API</td>\n",
       "      <td>2021-07-01</td>\n",
       "      <td>24.500000</td>\n",
       "    </tr>\n",
       "    <tr>\n",
       "      <th>2</th>\n",
       "      <td>[A1] Dias Úteis</td>\n",
       "      <td>API</td>\n",
       "      <td>2021-08-01</td>\n",
       "      <td>24.000000</td>\n",
       "    </tr>\n",
       "    <tr>\n",
       "      <th>3</th>\n",
       "      <td>[A1] Dias Úteis</td>\n",
       "      <td>API</td>\n",
       "      <td>2021-09-01</td>\n",
       "      <td>23.000000</td>\n",
       "    </tr>\n",
       "    <tr>\n",
       "      <th>4</th>\n",
       "      <td>[A1] Dias Úteis</td>\n",
       "      <td>API</td>\n",
       "      <td>2021-10-01</td>\n",
       "      <td>22.500000</td>\n",
       "    </tr>\n",
       "    <tr>\n",
       "      <th>...</th>\n",
       "      <td>...</td>\n",
       "      <td>...</td>\n",
       "      <td>...</td>\n",
       "      <td>...</td>\n",
       "    </tr>\n",
       "    <tr>\n",
       "      <th>9835</th>\n",
       "      <td>[E3] Demanda irrestrita = C1</td>\n",
       "      <td>SPA</td>\n",
       "      <td>2023-01-01</td>\n",
       "      <td>53605.599116</td>\n",
       "    </tr>\n",
       "    <tr>\n",
       "      <th>9836</th>\n",
       "      <td>[E3] Demanda irrestrita = C1</td>\n",
       "      <td>SPA</td>\n",
       "      <td>2023-02-01</td>\n",
       "      <td>46132.299512</td>\n",
       "    </tr>\n",
       "    <tr>\n",
       "      <th>9837</th>\n",
       "      <td>[E3] Demanda irrestrita = C1</td>\n",
       "      <td>SPA</td>\n",
       "      <td>2023-03-01</td>\n",
       "      <td>59553.953942</td>\n",
       "    </tr>\n",
       "    <tr>\n",
       "      <th>9838</th>\n",
       "      <td>[E3] Demanda irrestrita = C1</td>\n",
       "      <td>SPA</td>\n",
       "      <td>2023-04-01</td>\n",
       "      <td>52896.214562</td>\n",
       "    </tr>\n",
       "    <tr>\n",
       "      <th>9839</th>\n",
       "      <td>[E3] Demanda irrestrita = C1</td>\n",
       "      <td>SPA</td>\n",
       "      <td>2023-05-01</td>\n",
       "      <td>60986.508322</td>\n",
       "    </tr>\n",
       "  </tbody>\n",
       "</table>\n",
       "<p>9840 rows × 4 columns</p>\n",
       "</div>"
      ],
      "text/plain": [
       "     Relatórios de Análise de Capacidade Código Unidades      Datas  \\\n",
       "0                        [A1] Dias Úteis             API 2021-06-01   \n",
       "1                        [A1] Dias Úteis             API 2021-07-01   \n",
       "2                        [A1] Dias Úteis             API 2021-08-01   \n",
       "3                        [A1] Dias Úteis             API 2021-09-01   \n",
       "4                        [A1] Dias Úteis             API 2021-10-01   \n",
       "...                                  ...             ...        ...   \n",
       "9835        [E3] Demanda irrestrita = C1             SPA 2023-01-01   \n",
       "9836        [E3] Demanda irrestrita = C1             SPA 2023-02-01   \n",
       "9837        [E3] Demanda irrestrita = C1             SPA 2023-03-01   \n",
       "9838        [E3] Demanda irrestrita = C1             SPA 2023-04-01   \n",
       "9839        [E3] Demanda irrestrita = C1             SPA 2023-05-01   \n",
       "\n",
       "            values  \n",
       "0        23.000000  \n",
       "1        24.500000  \n",
       "2        24.000000  \n",
       "3        23.000000  \n",
       "4        22.500000  \n",
       "...            ...  \n",
       "9835  53605.599116  \n",
       "9836  46132.299512  \n",
       "9837  59553.953942  \n",
       "9838  52896.214562  \n",
       "9839  60986.508322  \n",
       "\n",
       "[9840 rows x 4 columns]"
      ]
     },
     "execution_count": 106,
     "metadata": {},
     "output_type": "execute_result"
    }
   ],
   "source": [
    "# Tabela Dinâmica\n",
    "_df2"
   ]
  },
  {
   "cell_type": "markdown",
   "metadata": {},
   "source": [
    "#### Exemplos para criar parte do json do formulário"
   ]
  },
  {
   "cell_type": "code",
   "execution_count": 178,
   "metadata": {},
   "outputs": [],
   "source": [
    "# Columns para Armar Form\n",
    "_n = 1\n",
    "_cols1 = ['{\"type\":\"numeric\", \"field\":' + f'\"Period_{i:03d}\"'  for i in range(1, 145)]\n",
    "_cols2 = [\", \" + '\"style\":{\"color\":\"#000\", \"backgroundColor\": \"#FFF8E3\"}, ' + '\"format\":\"0.00\", ' + ' \"header\":' + f'\"S{j}\"' + ', \"readOnly\":false, ' + '\"columnLength\":5}'  for i in range(1, 25) for j in range( 1,7)] \n",
    "\n",
    "result = [_cols1[i] + _cols2[i] for i in range(len(_cols1))]\n",
    "result[0], len(result)\n",
    "result = [result[i].replace('\"',\"'\") for i in range(len(result))]\n",
    "# result[0]"
   ]
  },
  {
   "cell_type": "code",
   "execution_count": 179,
   "metadata": {},
   "outputs": [],
   "source": [
    "import json \n",
    "\n",
    "with open('json_data.json', 'w', encoding ='utf-8') as outfile:\n",
    "    json.dump(result, outfile, ensure_ascii=False, indent=4)\n",
    "    outfile.close()"
   ]
  },
  {
   "cell_type": "code",
   "execution_count": 108,
   "metadata": {},
   "outputs": [
    {
     "data": {
      "text/plain": [
       "['(1, 1)', '(2, 2)', '(3, 3)', '(4, 4)', '(5, 5)', '(6, 6)']"
      ]
     },
     "execution_count": 108,
     "metadata": {},
     "output_type": "execute_result"
    }
   ],
   "source": [
    "# Nested list comprehension tuple \n",
    "\n",
    "result = [f'{i,j}'for i, j in zip(range(1, 145), range(1, 7))]\n",
    "result"
   ]
  },
  {
   "cell_type": "code",
   "execution_count": 109,
   "metadata": {},
   "outputs": [
    {
     "data": {
      "text/plain": [
       "['(1, 1)', '(1, 2)']"
      ]
     },
     "execution_count": 109,
     "metadata": {},
     "output_type": "execute_result"
    }
   ],
   "source": [
    "# Nested list comprehension\n",
    "matrix = [ f'{i, j}' for i in range(1,145) for j in range(1,7)]\n",
    "matrix[0:2]"
   ]
  },
  {
   "cell_type": "code",
   "execution_count": 110,
   "metadata": {},
   "outputs": [],
   "source": [
    "idx_temporal = ['2021-06', '2021-07', '2021-08', '2021-09', '2021-10', '2021-11', '2021-12', '2022-01', '2022-02', '2022-03', '2022-04', '2022-05', '2022-06', '2022-07', '2022-08', '2022-09', '2022-10', '2022-11', '2022-12', '2023-01', '2023-02', '2023-03', '2023-04', '2023-05']"
   ]
  },
  {
   "cell_type": "code",
   "execution_count": 111,
   "metadata": {},
   "outputs": [
    {
     "name": "stderr",
     "output_type": "stream",
     "text": [
      "C:\\Users\\ALEXSA~1.IGN\\AppData\\Local\\Temp/ipykernel_5112/460194324.py:4: FutureWarning: Using short name for 'orient' is deprecated. Only the options: ('dict', list, 'series', 'split', 'records', 'index') will be used in a future version. Use one of the above to silence this warning.\n",
      "  _df.to_dict('record')\n"
     ]
    },
    {
     "data": {
      "text/html": [
       "<div>\n",
       "<style scoped>\n",
       "    .dataframe tbody tr th:only-of-type {\n",
       "        vertical-align: middle;\n",
       "    }\n",
       "\n",
       "    .dataframe tbody tr th {\n",
       "        vertical-align: top;\n",
       "    }\n",
       "\n",
       "    .dataframe thead th {\n",
       "        text-align: right;\n",
       "    }\n",
       "</style>\n",
       "<table border=\"1\" class=\"dataframe\">\n",
       "  <thead>\n",
       "    <tr style=\"text-align: right;\">\n",
       "      <th></th>\n",
       "      <th>label</th>\n",
       "      <th>colspan</th>\n",
       "    </tr>\n",
       "  </thead>\n",
       "  <tbody>\n",
       "    <tr>\n",
       "      <th>0</th>\n",
       "      <td>2021-06</td>\n",
       "      <td>6</td>\n",
       "    </tr>\n",
       "    <tr>\n",
       "      <th>1</th>\n",
       "      <td>2021-07</td>\n",
       "      <td>6</td>\n",
       "    </tr>\n",
       "    <tr>\n",
       "      <th>2</th>\n",
       "      <td>2021-08</td>\n",
       "      <td>6</td>\n",
       "    </tr>\n",
       "    <tr>\n",
       "      <th>3</th>\n",
       "      <td>2021-09</td>\n",
       "      <td>6</td>\n",
       "    </tr>\n",
       "    <tr>\n",
       "      <th>4</th>\n",
       "      <td>2021-10</td>\n",
       "      <td>6</td>\n",
       "    </tr>\n",
       "    <tr>\n",
       "      <th>5</th>\n",
       "      <td>2021-11</td>\n",
       "      <td>6</td>\n",
       "    </tr>\n",
       "    <tr>\n",
       "      <th>6</th>\n",
       "      <td>2021-12</td>\n",
       "      <td>6</td>\n",
       "    </tr>\n",
       "    <tr>\n",
       "      <th>7</th>\n",
       "      <td>2022-01</td>\n",
       "      <td>6</td>\n",
       "    </tr>\n",
       "    <tr>\n",
       "      <th>8</th>\n",
       "      <td>2022-02</td>\n",
       "      <td>6</td>\n",
       "    </tr>\n",
       "    <tr>\n",
       "      <th>9</th>\n",
       "      <td>2022-03</td>\n",
       "      <td>6</td>\n",
       "    </tr>\n",
       "    <tr>\n",
       "      <th>10</th>\n",
       "      <td>2022-04</td>\n",
       "      <td>6</td>\n",
       "    </tr>\n",
       "    <tr>\n",
       "      <th>11</th>\n",
       "      <td>2022-05</td>\n",
       "      <td>6</td>\n",
       "    </tr>\n",
       "    <tr>\n",
       "      <th>12</th>\n",
       "      <td>2022-06</td>\n",
       "      <td>6</td>\n",
       "    </tr>\n",
       "    <tr>\n",
       "      <th>13</th>\n",
       "      <td>2022-07</td>\n",
       "      <td>6</td>\n",
       "    </tr>\n",
       "    <tr>\n",
       "      <th>14</th>\n",
       "      <td>2022-08</td>\n",
       "      <td>6</td>\n",
       "    </tr>\n",
       "    <tr>\n",
       "      <th>15</th>\n",
       "      <td>2022-09</td>\n",
       "      <td>6</td>\n",
       "    </tr>\n",
       "    <tr>\n",
       "      <th>16</th>\n",
       "      <td>2022-10</td>\n",
       "      <td>6</td>\n",
       "    </tr>\n",
       "    <tr>\n",
       "      <th>17</th>\n",
       "      <td>2022-11</td>\n",
       "      <td>6</td>\n",
       "    </tr>\n",
       "    <tr>\n",
       "      <th>18</th>\n",
       "      <td>2022-12</td>\n",
       "      <td>6</td>\n",
       "    </tr>\n",
       "    <tr>\n",
       "      <th>19</th>\n",
       "      <td>2023-01</td>\n",
       "      <td>6</td>\n",
       "    </tr>\n",
       "    <tr>\n",
       "      <th>20</th>\n",
       "      <td>2023-02</td>\n",
       "      <td>6</td>\n",
       "    </tr>\n",
       "    <tr>\n",
       "      <th>21</th>\n",
       "      <td>2023-03</td>\n",
       "      <td>6</td>\n",
       "    </tr>\n",
       "    <tr>\n",
       "      <th>22</th>\n",
       "      <td>2023-04</td>\n",
       "      <td>6</td>\n",
       "    </tr>\n",
       "    <tr>\n",
       "      <th>23</th>\n",
       "      <td>2023-05</td>\n",
       "      <td>6</td>\n",
       "    </tr>\n",
       "  </tbody>\n",
       "</table>\n",
       "</div>"
      ],
      "text/plain": [
       "      label  colspan\n",
       "0   2021-06        6\n",
       "1   2021-07        6\n",
       "2   2021-08        6\n",
       "3   2021-09        6\n",
       "4   2021-10        6\n",
       "5   2021-11        6\n",
       "6   2021-12        6\n",
       "7   2022-01        6\n",
       "8   2022-02        6\n",
       "9   2022-03        6\n",
       "10  2022-04        6\n",
       "11  2022-05        6\n",
       "12  2022-06        6\n",
       "13  2022-07        6\n",
       "14  2022-08        6\n",
       "15  2022-09        6\n",
       "16  2022-10        6\n",
       "17  2022-11        6\n",
       "18  2022-12        6\n",
       "19  2023-01        6\n",
       "20  2023-02        6\n",
       "21  2023-03        6\n",
       "22  2023-04        6\n",
       "23  2023-05        6"
      ]
     },
     "execution_count": 111,
     "metadata": {},
     "output_type": "execute_result"
    }
   ],
   "source": [
    "# Nested columns receive new index.\n",
    "_df = pd.DataFrame({'label':idx_temporal})\n",
    "_df['colspan'] = 6\n",
    "_df.to_dict('record')\n",
    "_df"
   ]
  },
  {
   "cell_type": "code",
   "execution_count": 112,
   "metadata": {},
   "outputs": [
    {
     "name": "stderr",
     "output_type": "stream",
     "text": [
      "C:\\Users\\ALEXSA~1.IGN\\AppData\\Local\\Temp/ipykernel_5112/1003000312.py:6: SettingWithCopyWarning: \n",
      "A value is trying to be set on a copy of a slice from a DataFrame\n",
      "\n",
      "See the caveats in the documentation: https://pandas.pydata.org/pandas-docs/stable/user_guide/indexing.html#returning-a-view-versus-a-copy\n",
      "  _df['colspan'][0] = 3\n",
      "C:\\Users\\ALEXSA~1.IGN\\AppData\\Local\\Temp/ipykernel_5112/1003000312.py:7: FutureWarning: Using short name for 'orient' is deprecated. Only the options: ('dict', list, 'series', 'split', 'records', 'index') will be used in a future version. Use one of the above to silence this warning.\n",
      "  _df = _df.to_dict('record')\n"
     ]
    },
    {
     "data": {
      "text/plain": [
       "[{'label': 'Marcha Fornos', 'colspan': 3},\n",
       " {'label': '2021-06', 'colspan': 6},\n",
       " {'label': '2021-07', 'colspan': 6},\n",
       " {'label': '2021-08', 'colspan': 6},\n",
       " {'label': '2021-09', 'colspan': 6},\n",
       " {'label': '2021-10', 'colspan': 6},\n",
       " {'label': '2021-11', 'colspan': 6},\n",
       " {'label': '2021-12', 'colspan': 6},\n",
       " {'label': '2022-01', 'colspan': 6},\n",
       " {'label': '2022-02', 'colspan': 6},\n",
       " {'label': '2022-03', 'colspan': 6},\n",
       " {'label': '2022-04', 'colspan': 6},\n",
       " {'label': '2022-05', 'colspan': 6},\n",
       " {'label': '2022-06', 'colspan': 6},\n",
       " {'label': '2022-07', 'colspan': 6},\n",
       " {'label': '2022-08', 'colspan': 6},\n",
       " {'label': '2022-09', 'colspan': 6},\n",
       " {'label': '2022-10', 'colspan': 6},\n",
       " {'label': '2022-11', 'colspan': 6},\n",
       " {'label': '2022-12', 'colspan': 6},\n",
       " {'label': '2023-01', 'colspan': 6},\n",
       " {'label': '2023-02', 'colspan': 6},\n",
       " {'label': '2023-03', 'colspan': 6},\n",
       " {'label': '2023-04', 'colspan': 6},\n",
       " {'label': '2023-05', 'colspan': 6}]"
      ]
     },
     "execution_count": 112,
     "metadata": {},
     "output_type": "execute_result"
    }
   ],
   "source": [
    "# Nested columns receive new index.\n",
    "\n",
    "idx_temporal.insert(0, 'Marcha Fornos')\n",
    "_df = pd.DataFrame({'label':idx_temporal})\n",
    "_df['colspan'] = 6\n",
    "_df['colspan'][0] = 3\n",
    "_df = _df.to_dict('record')\n",
    "_df"
   ]
  },
  {
   "cell_type": "code",
   "execution_count": 113,
   "metadata": {},
   "outputs": [
    {
     "name": "stderr",
     "output_type": "stream",
     "text": [
      "C:\\Users\\ALEXSA~1.IGN\\AppData\\Local\\Temp/ipykernel_5112/4263571742.py:6: SettingWithCopyWarning: \n",
      "A value is trying to be set on a copy of a slice from a DataFrame\n",
      "\n",
      "See the caveats in the documentation: https://pandas.pydata.org/pandas-docs/stable/user_guide/indexing.html#returning-a-view-versus-a-copy\n",
      "  _df['colspan'][0] = 3\n",
      "C:\\Users\\ALEXSA~1.IGN\\AppData\\Local\\Temp/ipykernel_5112/4263571742.py:7: FutureWarning: Using short name for 'orient' is deprecated. Only the options: ('dict', list, 'series', 'split', 'records', 'index') will be used in a future version. Use one of the above to silence this warning.\n",
      "  _df = _df.to_dict('record')\n"
     ]
    },
    {
     "data": {
      "text/plain": [
       "[{'label': 'Marcha Moinhos', 'colspan': 3},\n",
       " {'label': 'Marcha Fornos', 'colspan': 6},\n",
       " {'label': '2021-06', 'colspan': 6},\n",
       " {'label': '2021-07', 'colspan': 6},\n",
       " {'label': '2021-08', 'colspan': 6},\n",
       " {'label': '2021-09', 'colspan': 6},\n",
       " {'label': '2021-10', 'colspan': 6},\n",
       " {'label': '2021-11', 'colspan': 6},\n",
       " {'label': '2021-12', 'colspan': 6},\n",
       " {'label': '2022-01', 'colspan': 6},\n",
       " {'label': '2022-02', 'colspan': 6},\n",
       " {'label': '2022-03', 'colspan': 6},\n",
       " {'label': '2022-04', 'colspan': 6},\n",
       " {'label': '2022-05', 'colspan': 6},\n",
       " {'label': '2022-06', 'colspan': 6},\n",
       " {'label': '2022-07', 'colspan': 6},\n",
       " {'label': '2022-08', 'colspan': 6},\n",
       " {'label': '2022-09', 'colspan': 6},\n",
       " {'label': '2022-10', 'colspan': 6},\n",
       " {'label': '2022-11', 'colspan': 6},\n",
       " {'label': '2022-12', 'colspan': 6},\n",
       " {'label': '2023-01', 'colspan': 6},\n",
       " {'label': '2023-02', 'colspan': 6},\n",
       " {'label': '2023-03', 'colspan': 6},\n",
       " {'label': '2023-04', 'colspan': 6},\n",
       " {'label': '2023-05', 'colspan': 6}]"
      ]
     },
     "execution_count": 113,
     "metadata": {},
     "output_type": "execute_result"
    }
   ],
   "source": [
    "# Nested columns receive new index.\n",
    "\n",
    "idx_temporal.insert(0, 'Marcha Moinhos')\n",
    "_df = pd.DataFrame({'label':idx_temporal})\n",
    "_df['colspan'] = 6\n",
    "_df['colspan'][0] = 3\n",
    "_df = _df.to_dict('record')\n",
    "_df"
   ]
  },
  {
   "cell_type": "code",
   "execution_count": 199,
   "metadata": {},
   "outputs": [
    {
     "data": {
      "text/html": [
       "<div><svg style=\"position: absolute; width: 0; height: 0; overflow: hidden\">\n",
       "<defs>\n",
       "<symbol id=\"icon-database\" viewBox=\"0 0 32 32\">\n",
       "<path d=\"M16 0c-8.837 0-16 2.239-16 5v4c0 2.761 7.163 5 16 5s16-2.239 16-5v-4c0-2.761-7.163-5-16-5z\"></path>\n",
       "<path d=\"M16 17c-8.837 0-16-2.239-16-5v6c0 2.761 7.163 5 16 5s16-2.239 16-5v-6c0 2.761-7.163 5-16 5z\"></path>\n",
       "<path d=\"M16 26c-8.837 0-16-2.239-16-5v6c0 2.761 7.163 5 16 5s16-2.239 16-5v-6c0 2.761-7.163 5-16 5z\"></path>\n",
       "</symbol>\n",
       "<symbol id=\"icon-file-text2\" viewBox=\"0 0 32 32\">\n",
       "<path d=\"M28.681 7.159c-0.694-0.947-1.662-2.053-2.724-3.116s-2.169-2.030-3.116-2.724c-1.612-1.182-2.393-1.319-2.841-1.319h-15.5c-1.378 0-2.5 1.121-2.5 2.5v27c0 1.378 1.122 2.5 2.5 2.5h23c1.378 0 2.5-1.122 2.5-2.5v-19.5c0-0.448-0.137-1.23-1.319-2.841zM24.543 5.457c0.959 0.959 1.712 1.825 2.268 2.543h-4.811v-4.811c0.718 0.556 1.584 1.309 2.543 2.268zM28 29.5c0 0.271-0.229 0.5-0.5 0.5h-23c-0.271 0-0.5-0.229-0.5-0.5v-27c0-0.271 0.229-0.5 0.5-0.5 0 0 15.499-0 15.5 0v7c0 0.552 0.448 1 1 1h7v19.5z\"></path>\n",
       "<path d=\"M23 26h-14c-0.552 0-1-0.448-1-1s0.448-1 1-1h14c0.552 0 1 0.448 1 1s-0.448 1-1 1z\"></path>\n",
       "<path d=\"M23 22h-14c-0.552 0-1-0.448-1-1s0.448-1 1-1h14c0.552 0 1 0.448 1 1s-0.448 1-1 1z\"></path>\n",
       "<path d=\"M23 18h-14c-0.552 0-1-0.448-1-1s0.448-1 1-1h14c0.552 0 1 0.448 1 1s-0.448 1-1 1z\"></path>\n",
       "</symbol>\n",
       "</defs>\n",
       "</svg>\n",
       "<style>/* CSS stylesheet for displaying xarray objects in jupyterlab.\n",
       " *\n",
       " */\n",
       "\n",
       ":root {\n",
       "  --xr-font-color0: var(--jp-content-font-color0, rgba(0, 0, 0, 1));\n",
       "  --xr-font-color2: var(--jp-content-font-color2, rgba(0, 0, 0, 0.54));\n",
       "  --xr-font-color3: var(--jp-content-font-color3, rgba(0, 0, 0, 0.38));\n",
       "  --xr-border-color: var(--jp-border-color2, #e0e0e0);\n",
       "  --xr-disabled-color: var(--jp-layout-color3, #bdbdbd);\n",
       "  --xr-background-color: var(--jp-layout-color0, white);\n",
       "  --xr-background-color-row-even: var(--jp-layout-color1, white);\n",
       "  --xr-background-color-row-odd: var(--jp-layout-color2, #eeeeee);\n",
       "}\n",
       "\n",
       "html[theme=dark],\n",
       "body.vscode-dark {\n",
       "  --xr-font-color0: rgba(255, 255, 255, 1);\n",
       "  --xr-font-color2: rgba(255, 255, 255, 0.54);\n",
       "  --xr-font-color3: rgba(255, 255, 255, 0.38);\n",
       "  --xr-border-color: #1F1F1F;\n",
       "  --xr-disabled-color: #515151;\n",
       "  --xr-background-color: #111111;\n",
       "  --xr-background-color-row-even: #111111;\n",
       "  --xr-background-color-row-odd: #313131;\n",
       "}\n",
       "\n",
       ".xr-wrap {\n",
       "  display: block;\n",
       "  min-width: 300px;\n",
       "  max-width: 700px;\n",
       "}\n",
       "\n",
       ".xr-text-repr-fallback {\n",
       "  /* fallback to plain text repr when CSS is not injected (untrusted notebook) */\n",
       "  display: none;\n",
       "}\n",
       "\n",
       ".xr-header {\n",
       "  padding-top: 6px;\n",
       "  padding-bottom: 6px;\n",
       "  margin-bottom: 4px;\n",
       "  border-bottom: solid 1px var(--xr-border-color);\n",
       "}\n",
       "\n",
       ".xr-header > div,\n",
       ".xr-header > ul {\n",
       "  display: inline;\n",
       "  margin-top: 0;\n",
       "  margin-bottom: 0;\n",
       "}\n",
       "\n",
       ".xr-obj-type,\n",
       ".xr-array-name {\n",
       "  margin-left: 2px;\n",
       "  margin-right: 10px;\n",
       "}\n",
       "\n",
       ".xr-obj-type {\n",
       "  color: var(--xr-font-color2);\n",
       "}\n",
       "\n",
       ".xr-sections {\n",
       "  padding-left: 0 !important;\n",
       "  display: grid;\n",
       "  grid-template-columns: 150px auto auto 1fr 20px 20px;\n",
       "}\n",
       "\n",
       ".xr-section-item {\n",
       "  display: contents;\n",
       "}\n",
       "\n",
       ".xr-section-item input {\n",
       "  display: none;\n",
       "}\n",
       "\n",
       ".xr-section-item input + label {\n",
       "  color: var(--xr-disabled-color);\n",
       "}\n",
       "\n",
       ".xr-section-item input:enabled + label {\n",
       "  cursor: pointer;\n",
       "  color: var(--xr-font-color2);\n",
       "}\n",
       "\n",
       ".xr-section-item input:enabled + label:hover {\n",
       "  color: var(--xr-font-color0);\n",
       "}\n",
       "\n",
       ".xr-section-summary {\n",
       "  grid-column: 1;\n",
       "  color: var(--xr-font-color2);\n",
       "  font-weight: 500;\n",
       "}\n",
       "\n",
       ".xr-section-summary > span {\n",
       "  display: inline-block;\n",
       "  padding-left: 0.5em;\n",
       "}\n",
       "\n",
       ".xr-section-summary-in:disabled + label {\n",
       "  color: var(--xr-font-color2);\n",
       "}\n",
       "\n",
       ".xr-section-summary-in + label:before {\n",
       "  display: inline-block;\n",
       "  content: '►';\n",
       "  font-size: 11px;\n",
       "  width: 15px;\n",
       "  text-align: center;\n",
       "}\n",
       "\n",
       ".xr-section-summary-in:disabled + label:before {\n",
       "  color: var(--xr-disabled-color);\n",
       "}\n",
       "\n",
       ".xr-section-summary-in:checked + label:before {\n",
       "  content: '▼';\n",
       "}\n",
       "\n",
       ".xr-section-summary-in:checked + label > span {\n",
       "  display: none;\n",
       "}\n",
       "\n",
       ".xr-section-summary,\n",
       ".xr-section-inline-details {\n",
       "  padding-top: 4px;\n",
       "  padding-bottom: 4px;\n",
       "}\n",
       "\n",
       ".xr-section-inline-details {\n",
       "  grid-column: 2 / -1;\n",
       "}\n",
       "\n",
       ".xr-section-details {\n",
       "  display: none;\n",
       "  grid-column: 1 / -1;\n",
       "  margin-bottom: 5px;\n",
       "}\n",
       "\n",
       ".xr-section-summary-in:checked ~ .xr-section-details {\n",
       "  display: contents;\n",
       "}\n",
       "\n",
       ".xr-array-wrap {\n",
       "  grid-column: 1 / -1;\n",
       "  display: grid;\n",
       "  grid-template-columns: 20px auto;\n",
       "}\n",
       "\n",
       ".xr-array-wrap > label {\n",
       "  grid-column: 1;\n",
       "  vertical-align: top;\n",
       "}\n",
       "\n",
       ".xr-preview {\n",
       "  color: var(--xr-font-color3);\n",
       "}\n",
       "\n",
       ".xr-array-preview,\n",
       ".xr-array-data {\n",
       "  padding: 0 5px !important;\n",
       "  grid-column: 2;\n",
       "}\n",
       "\n",
       ".xr-array-data,\n",
       ".xr-array-in:checked ~ .xr-array-preview {\n",
       "  display: none;\n",
       "}\n",
       "\n",
       ".xr-array-in:checked ~ .xr-array-data,\n",
       ".xr-array-preview {\n",
       "  display: inline-block;\n",
       "}\n",
       "\n",
       ".xr-dim-list {\n",
       "  display: inline-block !important;\n",
       "  list-style: none;\n",
       "  padding: 0 !important;\n",
       "  margin: 0;\n",
       "}\n",
       "\n",
       ".xr-dim-list li {\n",
       "  display: inline-block;\n",
       "  padding: 0;\n",
       "  margin: 0;\n",
       "}\n",
       "\n",
       ".xr-dim-list:before {\n",
       "  content: '(';\n",
       "}\n",
       "\n",
       ".xr-dim-list:after {\n",
       "  content: ')';\n",
       "}\n",
       "\n",
       ".xr-dim-list li:not(:last-child):after {\n",
       "  content: ',';\n",
       "  padding-right: 5px;\n",
       "}\n",
       "\n",
       ".xr-has-index {\n",
       "  font-weight: bold;\n",
       "}\n",
       "\n",
       ".xr-var-list,\n",
       ".xr-var-item {\n",
       "  display: contents;\n",
       "}\n",
       "\n",
       ".xr-var-item > div,\n",
       ".xr-var-item label,\n",
       ".xr-var-item > .xr-var-name span {\n",
       "  background-color: var(--xr-background-color-row-even);\n",
       "  margin-bottom: 0;\n",
       "}\n",
       "\n",
       ".xr-var-item > .xr-var-name:hover span {\n",
       "  padding-right: 5px;\n",
       "}\n",
       "\n",
       ".xr-var-list > li:nth-child(odd) > div,\n",
       ".xr-var-list > li:nth-child(odd) > label,\n",
       ".xr-var-list > li:nth-child(odd) > .xr-var-name span {\n",
       "  background-color: var(--xr-background-color-row-odd);\n",
       "}\n",
       "\n",
       ".xr-var-name {\n",
       "  grid-column: 1;\n",
       "}\n",
       "\n",
       ".xr-var-dims {\n",
       "  grid-column: 2;\n",
       "}\n",
       "\n",
       ".xr-var-dtype {\n",
       "  grid-column: 3;\n",
       "  text-align: right;\n",
       "  color: var(--xr-font-color2);\n",
       "}\n",
       "\n",
       ".xr-var-preview {\n",
       "  grid-column: 4;\n",
       "}\n",
       "\n",
       ".xr-var-name,\n",
       ".xr-var-dims,\n",
       ".xr-var-dtype,\n",
       ".xr-preview,\n",
       ".xr-attrs dt {\n",
       "  white-space: nowrap;\n",
       "  overflow: hidden;\n",
       "  text-overflow: ellipsis;\n",
       "  padding-right: 10px;\n",
       "}\n",
       "\n",
       ".xr-var-name:hover,\n",
       ".xr-var-dims:hover,\n",
       ".xr-var-dtype:hover,\n",
       ".xr-attrs dt:hover {\n",
       "  overflow: visible;\n",
       "  width: auto;\n",
       "  z-index: 1;\n",
       "}\n",
       "\n",
       ".xr-var-attrs,\n",
       ".xr-var-data {\n",
       "  display: none;\n",
       "  background-color: var(--xr-background-color) !important;\n",
       "  padding-bottom: 5px !important;\n",
       "}\n",
       "\n",
       ".xr-var-attrs-in:checked ~ .xr-var-attrs,\n",
       ".xr-var-data-in:checked ~ .xr-var-data {\n",
       "  display: block;\n",
       "}\n",
       "\n",
       ".xr-var-data > table {\n",
       "  float: right;\n",
       "}\n",
       "\n",
       ".xr-var-name span,\n",
       ".xr-var-data,\n",
       ".xr-attrs {\n",
       "  padding-left: 25px !important;\n",
       "}\n",
       "\n",
       ".xr-attrs,\n",
       ".xr-var-attrs,\n",
       ".xr-var-data {\n",
       "  grid-column: 1 / -1;\n",
       "}\n",
       "\n",
       "dl.xr-attrs {\n",
       "  padding: 0;\n",
       "  margin: 0;\n",
       "  display: grid;\n",
       "  grid-template-columns: 125px auto;\n",
       "}\n",
       "\n",
       ".xr-attrs dt,\n",
       ".xr-attrs dd {\n",
       "  padding: 0;\n",
       "  margin: 0;\n",
       "  float: left;\n",
       "  padding-right: 10px;\n",
       "  width: auto;\n",
       "}\n",
       "\n",
       ".xr-attrs dt {\n",
       "  font-weight: normal;\n",
       "  grid-column: 1;\n",
       "}\n",
       "\n",
       ".xr-attrs dt:hover span {\n",
       "  display: inline-block;\n",
       "  background: var(--xr-background-color);\n",
       "  padding-right: 10px;\n",
       "}\n",
       "\n",
       ".xr-attrs dd {\n",
       "  grid-column: 2;\n",
       "  white-space: pre-wrap;\n",
       "  word-break: break-all;\n",
       "}\n",
       "\n",
       ".xr-icon-database,\n",
       ".xr-icon-file-text2 {\n",
       "  display: inline-block;\n",
       "  vertical-align: middle;\n",
       "  width: 1em;\n",
       "  height: 1.5em !important;\n",
       "  stroke-width: 0;\n",
       "  stroke: currentColor;\n",
       "  fill: currentColor;\n",
       "}\n",
       "</style><pre class='xr-text-repr-fallback'>&lt;xarray.DataArray (mes: 12)&gt;\n",
       "array([0.98, 0.98, 0.98, 0.98, 0.98, 0.98, 0.98, 0.98, 0.98, 0.98, 0.98,\n",
       "       0.98])\n",
       "Coordinates:\n",
       "  * mes      (mes) &lt;U3 &#x27;JAN&#x27; &#x27;FEB&#x27; &#x27;MAR&#x27; &#x27;APR&#x27; &#x27;MAY&#x27; ... &#x27;SEP&#x27; &#x27;OCT&#x27; &#x27;NOV&#x27; &#x27;DEC&#x27;</pre><div class='xr-wrap' hidden><div class='xr-header'><div class='xr-obj-type'>xarray.DataArray</div><div class='xr-array-name'></div><ul class='xr-dim-list'><li><span class='xr-has-index'>mes</span>: 12</li></ul></div><ul class='xr-sections'><li class='xr-section-item'><div class='xr-array-wrap'><input id='section-36e15477-0eb2-4a6c-84de-e991921bf0b1' class='xr-array-in' type='checkbox' checked><label for='section-36e15477-0eb2-4a6c-84de-e991921bf0b1' title='Show/hide data repr'><svg class='icon xr-icon-database'><use xlink:href='#icon-database'></use></svg></label><div class='xr-array-preview xr-preview'><span>0.98 0.98 0.98 0.98 0.98 0.98 0.98 0.98 0.98 0.98 0.98 0.98</span></div><div class='xr-array-data'><pre>array([0.98, 0.98, 0.98, 0.98, 0.98, 0.98, 0.98, 0.98, 0.98, 0.98, 0.98,\n",
       "       0.98])</pre></div></div></li><li class='xr-section-item'><input id='section-b347e986-f3d9-467a-9401-5839e9670942' class='xr-section-summary-in' type='checkbox'  checked><label for='section-b347e986-f3d9-467a-9401-5839e9670942' class='xr-section-summary' >Coordinates: <span>(1)</span></label><div class='xr-section-inline-details'></div><div class='xr-section-details'><ul class='xr-var-list'><li class='xr-var-item'><div class='xr-var-name'><span class='xr-has-index'>mes</span></div><div class='xr-var-dims'>(mes)</div><div class='xr-var-dtype'>&lt;U3</div><div class='xr-var-preview xr-preview'>&#x27;JAN&#x27; &#x27;FEB&#x27; &#x27;MAR&#x27; ... &#x27;NOV&#x27; &#x27;DEC&#x27;</div><input id='attrs-22249e81-508d-4bbd-b3a7-f5ad0d38d86c' class='xr-var-attrs-in' type='checkbox' disabled><label for='attrs-22249e81-508d-4bbd-b3a7-f5ad0d38d86c' title='Show/Hide attributes'><svg class='icon xr-icon-file-text2'><use xlink:href='#icon-file-text2'></use></svg></label><input id='data-4b557f2b-b8c6-41d5-90a5-2f153b90553a' class='xr-var-data-in' type='checkbox'><label for='data-4b557f2b-b8c6-41d5-90a5-2f153b90553a' title='Show/Hide data repr'><svg class='icon xr-icon-database'><use xlink:href='#icon-database'></use></svg></label><div class='xr-var-attrs'><dl class='xr-attrs'></dl></div><div class='xr-var-data'><pre>array([&#x27;JAN&#x27;, &#x27;FEB&#x27;, &#x27;MAR&#x27;, &#x27;APR&#x27;, &#x27;MAY&#x27;, &#x27;JUN&#x27;, &#x27;JUL&#x27;, &#x27;AUG&#x27;, &#x27;SEP&#x27;, &#x27;OCT&#x27;,\n",
       "       &#x27;NOV&#x27;, &#x27;DEC&#x27;], dtype=&#x27;&lt;U3&#x27;)</pre></div></li></ul></div></li><li class='xr-section-item'><input id='section-0be7c8a6-3112-4f23-a4e3-cb75e07f1f11' class='xr-section-summary-in' type='checkbox' disabled ><label for='section-0be7c8a6-3112-4f23-a4e3-cb75e07f1f11' class='xr-section-summary'  title='Expand/collapse section'>Attributes: <span>(0)</span></label><div class='xr-section-inline-details'></div><div class='xr-section-details'><dl class='xr-attrs'></dl></div></li></ul></div></div>"
      ],
      "text/plain": [
       "<xarray.DataArray (mes: 12)>\n",
       "array([0.98, 0.98, 0.98, 0.98, 0.98, 0.98, 0.98, 0.98, 0.98, 0.98, 0.98,\n",
       "       0.98])\n",
       "Coordinates:\n",
       "  * mes      (mes) <U3 'JAN' 'FEB' 'MAR' 'APR' 'MAY' ... 'SEP' 'OCT' 'NOV' 'DEC'"
      ]
     },
     "execution_count": 199,
     "metadata": {},
     "output_type": "execute_result"
    }
   ],
   "source": []
  }
 ],
 "metadata": {
  "interpreter": {
   "hash": "37d5714b4ea6c666124e5e9f794c33113a02017c263bbdd899fa45355d80942a"
  },
  "kernelspec": {
   "display_name": "Python 3.9.6 64-bit",
   "language": "python",
   "name": "python3"
  },
  "language_info": {
   "codemirror_mode": {
    "name": "ipython",
    "version": 3
   },
   "file_extension": ".py",
   "mimetype": "text/x-python",
   "name": "python",
   "nbconvert_exporter": "python",
   "pygments_lexer": "ipython3",
   "version": "3.9.6"
  },
  "orig_nbformat": 4
 },
 "nbformat": 4,
 "nbformat_minor": 2
}
