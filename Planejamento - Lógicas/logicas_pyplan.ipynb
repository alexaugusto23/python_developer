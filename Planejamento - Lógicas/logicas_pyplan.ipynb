{
 "cells": [
  {
   "cell_type": "markdown",
   "metadata": {},
   "source": [
    "# Lógica de Código Pyplan"
   ]
  },
  {
   "cell_type": "markdown",
   "metadata": {},
   "source": [
    "### Pacotes"
   ]
  },
  {
   "cell_type": "code",
   "execution_count": 55,
   "metadata": {},
   "outputs": [],
   "source": [
    "import os as os\n",
    "import numpy as np\n",
    "import pandas as pd\n",
    "import xarray as xr"
   ]
  },
  {
   "cell_type": "markdown",
   "metadata": {},
   "source": [
    "#### Valor Percentual"
   ]
  },
  {
   "cell_type": "code",
   "execution_count": 56,
   "metadata": {},
   "outputs": [
    {
     "data": {
      "text/plain": [
       "'-40.0 %'"
      ]
     },
     "execution_count": 56,
     "metadata": {},
     "output_type": "execute_result"
    }
   ],
   "source": [
    "# Valor Percentual = (Atual - Anterior)/Anterior \n",
    "atual = 30000\n",
    "anterior = 50000\n",
    "valor_percentual = ((atual - anterior)/anterior) * 100\n",
    "str(valor_percentual) + ' %'"
   ]
  },
  {
   "cell_type": "markdown",
   "metadata": {},
   "source": [
    "#### Defininindo um Index com Compreensão de lista (List comprehension)"
   ]
  },
  {
   "cell_type": "code",
   "execution_count": 105,
   "metadata": {},
   "outputs": [
    {
     "data": {
      "text/html": [
       "<div>\n",
       "<style scoped>\n",
       "    .dataframe tbody tr th:only-of-type {\n",
       "        vertical-align: middle;\n",
       "    }\n",
       "\n",
       "    .dataframe tbody tr th {\n",
       "        vertical-align: top;\n",
       "    }\n",
       "\n",
       "    .dataframe thead th {\n",
       "        text-align: right;\n",
       "    }\n",
       "</style>\n",
       "<table border=\"1\" class=\"dataframe\">\n",
       "  <thead>\n",
       "    <tr style=\"text-align: right;\">\n",
       "      <th></th>\n",
       "      <th>Coluna1</th>\n",
       "      <th>Coluna2</th>\n",
       "      <th>Coluna3</th>\n",
       "      <th>vol_dia</th>\n",
       "    </tr>\n",
       "  </thead>\n",
       "  <tbody>\n",
       "    <tr>\n",
       "      <th>0</th>\n",
       "      <td>Regional1</td>\n",
       "      <td>Região Leste</td>\n",
       "      <td>Atacado</td>\n",
       "      <td>10000</td>\n",
       "    </tr>\n",
       "  </tbody>\n",
       "</table>\n",
       "</div>"
      ],
      "text/plain": [
       "     Coluna1       Coluna2  Coluna3  vol_dia\n",
       "0  Regional1  Região Leste  Atacado    10000"
      ]
     },
     "execution_count": 105,
     "metadata": {},
     "output_type": "execute_result"
    }
   ],
   "source": [
    "data  = {'Coluna1':['Regional1'],  'Coluna2':['Região Leste'], 'Coluna3':['Atacado'], 'vol_dia':[10000]}\n",
    "_df = pd.DataFrame(data)\n",
    "_df"
   ]
  },
  {
   "cell_type": "code",
   "execution_count": 106,
   "metadata": {},
   "outputs": [
    {
     "data": {
      "text/html": [
       "<div>\n",
       "<style scoped>\n",
       "    .dataframe tbody tr th:only-of-type {\n",
       "        vertical-align: middle;\n",
       "    }\n",
       "\n",
       "    .dataframe tbody tr th {\n",
       "        vertical-align: top;\n",
       "    }\n",
       "\n",
       "    .dataframe thead th {\n",
       "        text-align: right;\n",
       "    }\n",
       "</style>\n",
       "<table border=\"1\" class=\"dataframe\">\n",
       "  <thead>\n",
       "    <tr style=\"text-align: right;\">\n",
       "      <th></th>\n",
       "      <th></th>\n",
       "      <th></th>\n",
       "      <th></th>\n",
       "    </tr>\n",
       "    <tr>\n",
       "      <th>Coluna1</th>\n",
       "      <th>Coluna2</th>\n",
       "      <th>Coluna3</th>\n",
       "      <th>vol_dia</th>\n",
       "    </tr>\n",
       "  </thead>\n",
       "  <tbody>\n",
       "    <tr>\n",
       "      <th>Regional1</th>\n",
       "      <th>Região Leste</th>\n",
       "      <th>Atacado</th>\n",
       "      <th>10000</th>\n",
       "    </tr>\n",
       "  </tbody>\n",
       "</table>\n",
       "</div>"
      ],
      "text/plain": [
       "Empty DataFrame\n",
       "Columns: []\n",
       "Index: [(Regional1, Região Leste, Atacado, 10000)]"
      ]
     },
     "execution_count": 106,
     "metadata": {},
     "output_type": "execute_result"
    }
   ],
   "source": [
    "_df.set_index(['Coluna1', 'Coluna2', 'Coluna3', 'vol_dia'])"
   ]
  },
  {
   "cell_type": "code",
   "execution_count": 107,
   "metadata": {},
   "outputs": [
    {
     "data": {
      "text/html": [
       "<div>\n",
       "<style scoped>\n",
       "    .dataframe tbody tr th:only-of-type {\n",
       "        vertical-align: middle;\n",
       "    }\n",
       "\n",
       "    .dataframe tbody tr th {\n",
       "        vertical-align: top;\n",
       "    }\n",
       "\n",
       "    .dataframe thead th {\n",
       "        text-align: right;\n",
       "    }\n",
       "</style>\n",
       "<table border=\"1\" class=\"dataframe\">\n",
       "  <thead>\n",
       "    <tr style=\"text-align: right;\">\n",
       "      <th></th>\n",
       "      <th></th>\n",
       "      <th></th>\n",
       "      <th>vol_dia</th>\n",
       "    </tr>\n",
       "    <tr>\n",
       "      <th>Coluna1</th>\n",
       "      <th>Coluna2</th>\n",
       "      <th>Coluna3</th>\n",
       "      <th></th>\n",
       "    </tr>\n",
       "  </thead>\n",
       "  <tbody>\n",
       "    <tr>\n",
       "      <th>Regional1</th>\n",
       "      <th>Região Leste</th>\n",
       "      <th>Atacado</th>\n",
       "      <td>10000</td>\n",
       "    </tr>\n",
       "  </tbody>\n",
       "</table>\n",
       "</div>"
      ],
      "text/plain": [
       "                                vol_dia\n",
       "Coluna1   Coluna2      Coluna3         \n",
       "Regional1 Região Leste Atacado    10000"
      ]
     },
     "execution_count": 107,
     "metadata": {},
     "output_type": "execute_result"
    }
   ],
   "source": [
    "_df.set_index([col for col in _df if col != 'vol_dia'])"
   ]
  },
  {
   "cell_type": "markdown",
   "metadata": {},
   "source": [
    "#### Deletando Colunas "
   ]
  },
  {
   "cell_type": "code",
   "execution_count": 108,
   "metadata": {},
   "outputs": [
    {
     "data": {
      "text/html": [
       "<div>\n",
       "<style scoped>\n",
       "    .dataframe tbody tr th:only-of-type {\n",
       "        vertical-align: middle;\n",
       "    }\n",
       "\n",
       "    .dataframe tbody tr th {\n",
       "        vertical-align: top;\n",
       "    }\n",
       "\n",
       "    .dataframe thead th {\n",
       "        text-align: right;\n",
       "    }\n",
       "</style>\n",
       "<table border=\"1\" class=\"dataframe\">\n",
       "  <thead>\n",
       "    <tr style=\"text-align: right;\">\n",
       "      <th></th>\n",
       "      <th>col1</th>\n",
       "      <th>col2</th>\n",
       "      <th>col3</th>\n",
       "    </tr>\n",
       "  </thead>\n",
       "  <tbody>\n",
       "    <tr>\n",
       "      <th>0</th>\n",
       "      <td>1</td>\n",
       "      <td>1</td>\n",
       "      <td>1</td>\n",
       "    </tr>\n",
       "    <tr>\n",
       "      <th>1</th>\n",
       "      <td>2</td>\n",
       "      <td>2</td>\n",
       "      <td>2</td>\n",
       "    </tr>\n",
       "  </tbody>\n",
       "</table>\n",
       "</div>"
      ],
      "text/plain": [
       "   col1  col2  col3\n",
       "0     1     1     1\n",
       "1     2     2     2"
      ]
     },
     "execution_count": 108,
     "metadata": {},
     "output_type": "execute_result"
    }
   ],
   "source": [
    "data = {'col1':[1,2], 'col2':[1,2], 'col3':[1,2]}\n",
    "_df = pd.DataFrame(data)\n",
    "_df"
   ]
  },
  {
   "cell_type": "code",
   "execution_count": 109,
   "metadata": {},
   "outputs": [
    {
     "data": {
      "text/html": [
       "<div>\n",
       "<style scoped>\n",
       "    .dataframe tbody tr th:only-of-type {\n",
       "        vertical-align: middle;\n",
       "    }\n",
       "\n",
       "    .dataframe tbody tr th {\n",
       "        vertical-align: top;\n",
       "    }\n",
       "\n",
       "    .dataframe thead th {\n",
       "        text-align: right;\n",
       "    }\n",
       "</style>\n",
       "<table border=\"1\" class=\"dataframe\">\n",
       "  <thead>\n",
       "    <tr style=\"text-align: right;\">\n",
       "      <th></th>\n",
       "      <th>col1</th>\n",
       "      <th>col2</th>\n",
       "    </tr>\n",
       "  </thead>\n",
       "  <tbody>\n",
       "    <tr>\n",
       "      <th>0</th>\n",
       "      <td>1</td>\n",
       "      <td>1</td>\n",
       "    </tr>\n",
       "    <tr>\n",
       "      <th>1</th>\n",
       "      <td>2</td>\n",
       "      <td>2</td>\n",
       "    </tr>\n",
       "  </tbody>\n",
       "</table>\n",
       "</div>"
      ],
      "text/plain": [
       "   col1  col2\n",
       "0     1     1\n",
       "1     2     2"
      ]
     },
     "execution_count": 109,
     "metadata": {},
     "output_type": "execute_result"
    }
   ],
   "source": [
    "_df = _df.drop(columns=['col3'])\n",
    "_df"
   ]
  },
  {
   "cell_type": "code",
   "execution_count": 110,
   "metadata": {},
   "outputs": [
    {
     "data": {
      "text/html": [
       "<div>\n",
       "<style scoped>\n",
       "    .dataframe tbody tr th:only-of-type {\n",
       "        vertical-align: middle;\n",
       "    }\n",
       "\n",
       "    .dataframe tbody tr th {\n",
       "        vertical-align: top;\n",
       "    }\n",
       "\n",
       "    .dataframe thead th {\n",
       "        text-align: right;\n",
       "    }\n",
       "</style>\n",
       "<table border=\"1\" class=\"dataframe\">\n",
       "  <thead>\n",
       "    <tr style=\"text-align: right;\">\n",
       "      <th></th>\n",
       "      <th>col1</th>\n",
       "    </tr>\n",
       "  </thead>\n",
       "  <tbody>\n",
       "    <tr>\n",
       "      <th>0</th>\n",
       "      <td>1</td>\n",
       "    </tr>\n",
       "    <tr>\n",
       "      <th>1</th>\n",
       "      <td>2</td>\n",
       "    </tr>\n",
       "  </tbody>\n",
       "</table>\n",
       "</div>"
      ],
      "text/plain": [
       "   col1\n",
       "0     1\n",
       "1     2"
      ]
     },
     "execution_count": 110,
     "metadata": {},
     "output_type": "execute_result"
    }
   ],
   "source": [
    "del _df['col2']\n",
    "_df"
   ]
  },
  {
   "cell_type": "code",
   "execution_count": 111,
   "metadata": {},
   "outputs": [
    {
     "data": {
      "text/html": [
       "<div>\n",
       "<style scoped>\n",
       "    .dataframe tbody tr th:only-of-type {\n",
       "        vertical-align: middle;\n",
       "    }\n",
       "\n",
       "    .dataframe tbody tr th {\n",
       "        vertical-align: top;\n",
       "    }\n",
       "\n",
       "    .dataframe thead th {\n",
       "        text-align: right;\n",
       "    }\n",
       "</style>\n",
       "<table border=\"1\" class=\"dataframe\">\n",
       "  <thead>\n",
       "    <tr style=\"text-align: right;\">\n",
       "      <th></th>\n",
       "      <th>col1</th>\n",
       "      <th>MesTime</th>\n",
       "    </tr>\n",
       "  </thead>\n",
       "  <tbody>\n",
       "    <tr>\n",
       "      <th>0</th>\n",
       "      <td>1</td>\n",
       "      <td>2021.01</td>\n",
       "    </tr>\n",
       "    <tr>\n",
       "      <th>1</th>\n",
       "      <td>2</td>\n",
       "      <td>2021.02</td>\n",
       "    </tr>\n",
       "  </tbody>\n",
       "</table>\n",
       "</div>"
      ],
      "text/plain": [
       "   col1  MesTime\n",
       "0     1  2021.01\n",
       "1     2  2021.02"
      ]
     },
     "execution_count": 111,
     "metadata": {},
     "output_type": "execute_result"
    }
   ],
   "source": [
    "_df.insert(loc=1, column='MesTime', value=['2021.01','2021.02'])\n",
    "_df"
   ]
  },
  {
   "cell_type": "code",
   "execution_count": 112,
   "metadata": {},
   "outputs": [
    {
     "data": {
      "text/html": [
       "<div>\n",
       "<style scoped>\n",
       "    .dataframe tbody tr th:only-of-type {\n",
       "        vertical-align: middle;\n",
       "    }\n",
       "\n",
       "    .dataframe tbody tr th {\n",
       "        vertical-align: top;\n",
       "    }\n",
       "\n",
       "    .dataframe thead th {\n",
       "        text-align: right;\n",
       "    }\n",
       "</style>\n",
       "<table border=\"1\" class=\"dataframe\">\n",
       "  <thead>\n",
       "    <tr style=\"text-align: right;\">\n",
       "      <th></th>\n",
       "      <th>col1</th>\n",
       "      <th>MesTime</th>\n",
       "    </tr>\n",
       "  </thead>\n",
       "  <tbody>\n",
       "    <tr>\n",
       "      <th>0</th>\n",
       "      <td>1</td>\n",
       "      <td>jan</td>\n",
       "    </tr>\n",
       "    <tr>\n",
       "      <th>1</th>\n",
       "      <td>2</td>\n",
       "      <td>fev</td>\n",
       "    </tr>\n",
       "  </tbody>\n",
       "</table>\n",
       "</div>"
      ],
      "text/plain": [
       "   col1 MesTime\n",
       "0     1     jan\n",
       "1     2     fev"
      ]
     },
     "execution_count": 112,
     "metadata": {},
     "output_type": "execute_result"
    }
   ],
   "source": [
    "_datas = {'2021.01':'jan', '2021.02':'fev'}\n",
    "_df = _df.replace({'MesTime':_datas})\n",
    "_df"
   ]
  },
  {
   "cell_type": "markdown",
   "metadata": {},
   "source": [
    "#### Filtros"
   ]
  },
  {
   "cell_type": "code",
   "execution_count": 113,
   "metadata": {},
   "outputs": [
    {
     "data": {
      "text/html": [
       "<div>\n",
       "<style scoped>\n",
       "    .dataframe tbody tr th:only-of-type {\n",
       "        vertical-align: middle;\n",
       "    }\n",
       "\n",
       "    .dataframe tbody tr th {\n",
       "        vertical-align: top;\n",
       "    }\n",
       "\n",
       "    .dataframe thead th {\n",
       "        text-align: right;\n",
       "    }\n",
       "</style>\n",
       "<table border=\"1\" class=\"dataframe\">\n",
       "  <thead>\n",
       "    <tr style=\"text-align: right;\">\n",
       "      <th></th>\n",
       "      <th>col1</th>\n",
       "      <th>MesTime</th>\n",
       "    </tr>\n",
       "  </thead>\n",
       "  <tbody>\n",
       "    <tr>\n",
       "      <th>0</th>\n",
       "      <td>1</td>\n",
       "      <td>jan</td>\n",
       "    </tr>\n",
       "  </tbody>\n",
       "</table>\n",
       "</div>"
      ],
      "text/plain": [
       "   col1 MesTime\n",
       "0     1     jan"
      ]
     },
     "execution_count": 113,
     "metadata": {},
     "output_type": "execute_result"
    }
   ],
   "source": [
    "_df[ (_df['col1']==1) & (_df['MesTime']=='jan') ]"
   ]
  },
  {
   "cell_type": "code",
   "execution_count": 114,
   "metadata": {},
   "outputs": [
    {
     "data": {
      "text/html": [
       "<div>\n",
       "<style scoped>\n",
       "    .dataframe tbody tr th:only-of-type {\n",
       "        vertical-align: middle;\n",
       "    }\n",
       "\n",
       "    .dataframe tbody tr th {\n",
       "        vertical-align: top;\n",
       "    }\n",
       "\n",
       "    .dataframe thead th {\n",
       "        text-align: right;\n",
       "    }\n",
       "</style>\n",
       "<table border=\"1\" class=\"dataframe\">\n",
       "  <thead>\n",
       "    <tr style=\"text-align: right;\">\n",
       "      <th></th>\n",
       "      <th>col1</th>\n",
       "      <th>MesTime</th>\n",
       "    </tr>\n",
       "  </thead>\n",
       "  <tbody>\n",
       "    <tr>\n",
       "      <th>1</th>\n",
       "      <td>2</td>\n",
       "      <td>fev</td>\n",
       "    </tr>\n",
       "  </tbody>\n",
       "</table>\n",
       "</div>"
      ],
      "text/plain": [
       "   col1 MesTime\n",
       "1     2     fev"
      ]
     },
     "execution_count": 114,
     "metadata": {},
     "output_type": "execute_result"
    }
   ],
   "source": [
    "_list = ['fev']\n",
    "_df[ _df['MesTime'].isin(_list)]"
   ]
  },
  {
   "cell_type": "code",
   "execution_count": 67,
   "metadata": {},
   "outputs": [
    {
     "data": {
      "text/html": [
       "<div>\n",
       "<style scoped>\n",
       "    .dataframe tbody tr th:only-of-type {\n",
       "        vertical-align: middle;\n",
       "    }\n",
       "\n",
       "    .dataframe tbody tr th {\n",
       "        vertical-align: top;\n",
       "    }\n",
       "\n",
       "    .dataframe thead th {\n",
       "        text-align: right;\n",
       "    }\n",
       "</style>\n",
       "<table border=\"1\" class=\"dataframe\">\n",
       "  <thead>\n",
       "    <tr style=\"text-align: right;\">\n",
       "      <th></th>\n",
       "      <th>col1</th>\n",
       "      <th>MesTime</th>\n",
       "    </tr>\n",
       "  </thead>\n",
       "  <tbody>\n",
       "    <tr>\n",
       "      <th>0</th>\n",
       "      <td>1</td>\n",
       "      <td>jan</td>\n",
       "    </tr>\n",
       "  </tbody>\n",
       "</table>\n",
       "</div>"
      ],
      "text/plain": [
       "   col1 MesTime\n",
       "0     1     jan"
      ]
     },
     "execution_count": 67,
     "metadata": {},
     "output_type": "execute_result"
    }
   ],
   "source": [
    "_df.query(\" MesTime == 'jan' \")\n",
    "\n"
   ]
  },
  {
   "cell_type": "code",
   "execution_count": 115,
   "metadata": {},
   "outputs": [
    {
     "data": {
      "text/html": [
       "<div>\n",
       "<style scoped>\n",
       "    .dataframe tbody tr th:only-of-type {\n",
       "        vertical-align: middle;\n",
       "    }\n",
       "\n",
       "    .dataframe tbody tr th {\n",
       "        vertical-align: top;\n",
       "    }\n",
       "\n",
       "    .dataframe thead th {\n",
       "        text-align: right;\n",
       "    }\n",
       "</style>\n",
       "<table border=\"1\" class=\"dataframe\">\n",
       "  <thead>\n",
       "    <tr style=\"text-align: right;\">\n",
       "      <th></th>\n",
       "      <th>col1</th>\n",
       "      <th>MesTime</th>\n",
       "    </tr>\n",
       "  </thead>\n",
       "  <tbody>\n",
       "    <tr>\n",
       "      <th>0</th>\n",
       "      <td>1</td>\n",
       "      <td>jan</td>\n",
       "    </tr>\n",
       "  </tbody>\n",
       "</table>\n",
       "</div>"
      ],
      "text/plain": [
       "   col1 MesTime\n",
       "0     1     jan"
      ]
     },
     "execution_count": 115,
     "metadata": {},
     "output_type": "execute_result"
    }
   ],
   "source": [
    "_df.query(\" MesTime == 'jan' \")"
   ]
  },
  {
   "cell_type": "code",
   "execution_count": 116,
   "metadata": {},
   "outputs": [
    {
     "data": {
      "text/html": [
       "<div>\n",
       "<style scoped>\n",
       "    .dataframe tbody tr th:only-of-type {\n",
       "        vertical-align: middle;\n",
       "    }\n",
       "\n",
       "    .dataframe tbody tr th {\n",
       "        vertical-align: top;\n",
       "    }\n",
       "\n",
       "    .dataframe thead th {\n",
       "        text-align: right;\n",
       "    }\n",
       "</style>\n",
       "<table border=\"1\" class=\"dataframe\">\n",
       "  <thead>\n",
       "    <tr style=\"text-align: right;\">\n",
       "      <th></th>\n",
       "      <th>col1</th>\n",
       "      <th>MesTime</th>\n",
       "    </tr>\n",
       "  </thead>\n",
       "  <tbody>\n",
       "    <tr>\n",
       "      <th>0</th>\n",
       "      <td>1</td>\n",
       "      <td>jan</td>\n",
       "    </tr>\n",
       "    <tr>\n",
       "      <th>1</th>\n",
       "      <td>2</td>\n",
       "      <td>fev</td>\n",
       "    </tr>\n",
       "  </tbody>\n",
       "</table>\n",
       "</div>"
      ],
      "text/plain": [
       "   col1 MesTime\n",
       "0     1     jan\n",
       "1     2     fev"
      ]
     },
     "execution_count": 116,
     "metadata": {},
     "output_type": "execute_result"
    }
   ],
   "source": [
    "_df"
   ]
  },
  {
   "cell_type": "code",
   "execution_count": 121,
   "metadata": {},
   "outputs": [
    {
     "data": {
      "text/html": [
       "<div>\n",
       "<style scoped>\n",
       "    .dataframe tbody tr th:only-of-type {\n",
       "        vertical-align: middle;\n",
       "    }\n",
       "\n",
       "    .dataframe tbody tr th {\n",
       "        vertical-align: top;\n",
       "    }\n",
       "\n",
       "    .dataframe thead th {\n",
       "        text-align: right;\n",
       "    }\n",
       "</style>\n",
       "<table border=\"1\" class=\"dataframe\">\n",
       "  <thead>\n",
       "    <tr style=\"text-align: right;\">\n",
       "      <th></th>\n",
       "      <th>col1</th>\n",
       "      <th>MesTime</th>\n",
       "    </tr>\n",
       "  </thead>\n",
       "  <tbody>\n",
       "    <tr>\n",
       "      <th>0</th>\n",
       "      <td>1</td>\n",
       "      <td>jan</td>\n",
       "    </tr>\n",
       "  </tbody>\n",
       "</table>\n",
       "</div>"
      ],
      "text/plain": [
       "   col1 MesTime\n",
       "0     1     jan"
      ]
     },
     "execution_count": 121,
     "metadata": {},
     "output_type": "execute_result"
    }
   ],
   "source": [
    "_list = [1]\n",
    "_df.query(\" col1 in @_list \")"
   ]
  },
  {
   "cell_type": "markdown",
   "metadata": {},
   "source": [
    "#### Função MAP"
   ]
  },
  {
   "cell_type": "code",
   "execution_count": 125,
   "metadata": {},
   "outputs": [
    {
     "data": {
      "text/html": [
       "<div>\n",
       "<style scoped>\n",
       "    .dataframe tbody tr th:only-of-type {\n",
       "        vertical-align: middle;\n",
       "    }\n",
       "\n",
       "    .dataframe tbody tr th {\n",
       "        vertical-align: top;\n",
       "    }\n",
       "\n",
       "    .dataframe thead th {\n",
       "        text-align: right;\n",
       "    }\n",
       "</style>\n",
       "<table border=\"1\" class=\"dataframe\">\n",
       "  <thead>\n",
       "    <tr style=\"text-align: right;\">\n",
       "      <th></th>\n",
       "      <th>col1</th>\n",
       "      <th>MesTime</th>\n",
       "    </tr>\n",
       "  </thead>\n",
       "  <tbody>\n",
       "    <tr>\n",
       "      <th>0</th>\n",
       "      <td>1</td>\n",
       "      <td>jan</td>\n",
       "    </tr>\n",
       "    <tr>\n",
       "      <th>1</th>\n",
       "      <td>16</td>\n",
       "      <td>fev</td>\n",
       "    </tr>\n",
       "  </tbody>\n",
       "</table>\n",
       "</div>"
      ],
      "text/plain": [
       "   col1 MesTime\n",
       "0     1     jan\n",
       "1    16     fev"
      ]
     },
     "execution_count": 125,
     "metadata": {},
     "output_type": "execute_result"
    }
   ],
   "source": [
    "_df"
   ]
  },
  {
   "cell_type": "code",
   "execution_count": 126,
   "metadata": {},
   "outputs": [
    {
     "data": {
      "text/html": [
       "<div>\n",
       "<style scoped>\n",
       "    .dataframe tbody tr th:only-of-type {\n",
       "        vertical-align: middle;\n",
       "    }\n",
       "\n",
       "    .dataframe tbody tr th {\n",
       "        vertical-align: top;\n",
       "    }\n",
       "\n",
       "    .dataframe thead th {\n",
       "        text-align: right;\n",
       "    }\n",
       "</style>\n",
       "<table border=\"1\" class=\"dataframe\">\n",
       "  <thead>\n",
       "    <tr style=\"text-align: right;\">\n",
       "      <th></th>\n",
       "      <th>col1</th>\n",
       "      <th>MesTime</th>\n",
       "    </tr>\n",
       "  </thead>\n",
       "  <tbody>\n",
       "    <tr>\n",
       "      <th>0</th>\n",
       "      <td>1</td>\n",
       "      <td>jan</td>\n",
       "    </tr>\n",
       "    <tr>\n",
       "      <th>1</th>\n",
       "      <td>256</td>\n",
       "      <td>fev</td>\n",
       "    </tr>\n",
       "  </tbody>\n",
       "</table>\n",
       "</div>"
      ],
      "text/plain": [
       "   col1 MesTime\n",
       "0     1     jan\n",
       "1   256     fev"
      ]
     },
     "execution_count": 126,
     "metadata": {},
     "output_type": "execute_result"
    }
   ],
   "source": [
    "_df['col1'] = _df['col1'].map(lambda value: value**2)\n",
    "_df"
   ]
  },
  {
   "cell_type": "markdown",
   "metadata": {},
   "source": [
    "#### Função FILTER"
   ]
  },
  {
   "cell_type": "code",
   "execution_count": 127,
   "metadata": {},
   "outputs": [
    {
     "data": {
      "text/html": [
       "<div>\n",
       "<style scoped>\n",
       "    .dataframe tbody tr th:only-of-type {\n",
       "        vertical-align: middle;\n",
       "    }\n",
       "\n",
       "    .dataframe tbody tr th {\n",
       "        vertical-align: top;\n",
       "    }\n",
       "\n",
       "    .dataframe thead th {\n",
       "        text-align: right;\n",
       "    }\n",
       "</style>\n",
       "<table border=\"1\" class=\"dataframe\">\n",
       "  <thead>\n",
       "    <tr style=\"text-align: right;\">\n",
       "      <th></th>\n",
       "      <th>col1</th>\n",
       "    </tr>\n",
       "  </thead>\n",
       "  <tbody>\n",
       "    <tr>\n",
       "      <th>0</th>\n",
       "      <td>1</td>\n",
       "    </tr>\n",
       "    <tr>\n",
       "      <th>1</th>\n",
       "      <td>256</td>\n",
       "    </tr>\n",
       "  </tbody>\n",
       "</table>\n",
       "</div>"
      ],
      "text/plain": [
       "   col1\n",
       "0     1\n",
       "1   256"
      ]
     },
     "execution_count": 127,
     "metadata": {},
     "output_type": "execute_result"
    }
   ],
   "source": [
    "_df.filter(['col1'])"
   ]
  },
  {
   "cell_type": "code",
   "execution_count": 130,
   "metadata": {},
   "outputs": [
    {
     "data": {
      "text/html": [
       "<div>\n",
       "<style scoped>\n",
       "    .dataframe tbody tr th:only-of-type {\n",
       "        vertical-align: middle;\n",
       "    }\n",
       "\n",
       "    .dataframe tbody tr th {\n",
       "        vertical-align: top;\n",
       "    }\n",
       "\n",
       "    .dataframe thead th {\n",
       "        text-align: right;\n",
       "    }\n",
       "</style>\n",
       "<table border=\"1\" class=\"dataframe\">\n",
       "  <thead>\n",
       "    <tr style=\"text-align: right;\">\n",
       "      <th></th>\n",
       "      <th>col1</th>\n",
       "    </tr>\n",
       "  </thead>\n",
       "  <tbody>\n",
       "    <tr>\n",
       "      <th>0</th>\n",
       "      <td>1</td>\n",
       "    </tr>\n",
       "    <tr>\n",
       "      <th>1</th>\n",
       "      <td>256</td>\n",
       "    </tr>\n",
       "  </tbody>\n",
       "</table>\n",
       "</div>"
      ],
      "text/plain": [
       "   col1\n",
       "0     1\n",
       "1   256"
      ]
     },
     "execution_count": 130,
     "metadata": {},
     "output_type": "execute_result"
    }
   ],
   "source": [
    "_df.filter(items=['col1'])"
   ]
  },
  {
   "cell_type": "code",
   "execution_count": 131,
   "metadata": {},
   "outputs": [
    {
     "data": {
      "text/html": [
       "<div>\n",
       "<style scoped>\n",
       "    .dataframe tbody tr th:only-of-type {\n",
       "        vertical-align: middle;\n",
       "    }\n",
       "\n",
       "    .dataframe tbody tr th {\n",
       "        vertical-align: top;\n",
       "    }\n",
       "\n",
       "    .dataframe thead th {\n",
       "        text-align: right;\n",
       "    }\n",
       "</style>\n",
       "<table border=\"1\" class=\"dataframe\">\n",
       "  <thead>\n",
       "    <tr style=\"text-align: right;\">\n",
       "      <th></th>\n",
       "      <th>MesTime</th>\n",
       "    </tr>\n",
       "  </thead>\n",
       "  <tbody>\n",
       "    <tr>\n",
       "      <th>0</th>\n",
       "      <td>jan</td>\n",
       "    </tr>\n",
       "    <tr>\n",
       "      <th>1</th>\n",
       "      <td>fev</td>\n",
       "    </tr>\n",
       "  </tbody>\n",
       "</table>\n",
       "</div>"
      ],
      "text/plain": [
       "  MesTime\n",
       "0     jan\n",
       "1     fev"
      ]
     },
     "execution_count": 131,
     "metadata": {},
     "output_type": "execute_result"
    }
   ],
   "source": [
    "_df.filter(regex='es', axis=1)"
   ]
  },
  {
   "cell_type": "code",
   "execution_count": 135,
   "metadata": {},
   "outputs": [
    {
     "data": {
      "text/html": [
       "<div>\n",
       "<style scoped>\n",
       "    .dataframe tbody tr th:only-of-type {\n",
       "        vertical-align: middle;\n",
       "    }\n",
       "\n",
       "    .dataframe tbody tr th {\n",
       "        vertical-align: top;\n",
       "    }\n",
       "\n",
       "    .dataframe thead th {\n",
       "        text-align: right;\n",
       "    }\n",
       "</style>\n",
       "<table border=\"1\" class=\"dataframe\">\n",
       "  <thead>\n",
       "    <tr style=\"text-align: right;\">\n",
       "      <th></th>\n",
       "      <th>col1</th>\n",
       "      <th>MesTime</th>\n",
       "    </tr>\n",
       "  </thead>\n",
       "  <tbody>\n",
       "    <tr>\n",
       "      <th>0</th>\n",
       "      <td>1</td>\n",
       "      <td>jan</td>\n",
       "    </tr>\n",
       "  </tbody>\n",
       "</table>\n",
       "</div>"
      ],
      "text/plain": [
       "   col1 MesTime\n",
       "0     1     jan"
      ]
     },
     "execution_count": 135,
     "metadata": {},
     "output_type": "execute_result"
    }
   ],
   "source": [
    "_df.filter(like='0', axis=0)"
   ]
  },
  {
   "cell_type": "markdown",
   "metadata": {},
   "source": [
    "#### DataFrames"
   ]
  },
  {
   "cell_type": "code",
   "execution_count": 68,
   "metadata": {},
   "outputs": [
    {
     "data": {
      "text/html": [
       "<div>\n",
       "<style scoped>\n",
       "    .dataframe tbody tr th:only-of-type {\n",
       "        vertical-align: middle;\n",
       "    }\n",
       "\n",
       "    .dataframe tbody tr th {\n",
       "        vertical-align: top;\n",
       "    }\n",
       "\n",
       "    .dataframe thead th {\n",
       "        text-align: right;\n",
       "    }\n",
       "</style>\n",
       "<table border=\"1\" class=\"dataframe\">\n",
       "  <thead>\n",
       "    <tr style=\"text-align: right;\">\n",
       "      <th></th>\n",
       "      <th>id</th>\n",
       "      <th>col1</th>\n",
       "      <th>col2</th>\n",
       "      <th>col3</th>\n",
       "    </tr>\n",
       "  </thead>\n",
       "  <tbody>\n",
       "    <tr>\n",
       "      <th>0</th>\n",
       "      <td>0</td>\n",
       "      <td>1</td>\n",
       "      <td>2</td>\n",
       "      <td>3</td>\n",
       "    </tr>\n",
       "    <tr>\n",
       "      <th>1</th>\n",
       "      <td>1</td>\n",
       "      <td>8</td>\n",
       "      <td>3</td>\n",
       "      <td>0</td>\n",
       "    </tr>\n",
       "    <tr>\n",
       "      <th>2</th>\n",
       "      <td>2</td>\n",
       "      <td>9</td>\n",
       "      <td>3</td>\n",
       "      <td>0</td>\n",
       "    </tr>\n",
       "    <tr>\n",
       "      <th>3</th>\n",
       "      <td>3</td>\n",
       "      <td>2</td>\n",
       "      <td>3</td>\n",
       "      <td>0</td>\n",
       "    </tr>\n",
       "  </tbody>\n",
       "</table>\n",
       "</div>"
      ],
      "text/plain": [
       "   id  col1  col2  col3\n",
       "0   0     1     2     3\n",
       "1   1     8     3     0\n",
       "2   2     9     3     0\n",
       "3   3     2     3     0"
      ]
     },
     "execution_count": 68,
     "metadata": {},
     "output_type": "execute_result"
    }
   ],
   "source": [
    "# array is rows not columns, the coluns is the values inside of array.\n",
    "# [0,1,2,3]\n",
    "# [1,8,3,0]\n",
    "# [2,9,3,0]\n",
    "# [3,2,3,0]\n",
    "\n",
    "data = np.array([ [0,1,2,3], [1,8,3,0], [2,9,3,0], [3,2,3,0] ]) \n",
    "_df1 = pd.DataFrame(data, columns=['id', 'col1', 'col2', 'col3'])\n",
    "_df1"
   ]
  },
  {
   "cell_type": "code",
   "execution_count": 69,
   "metadata": {},
   "outputs": [
    {
     "data": {
      "text/html": [
       "<div>\n",
       "<style scoped>\n",
       "    .dataframe tbody tr th:only-of-type {\n",
       "        vertical-align: middle;\n",
       "    }\n",
       "\n",
       "    .dataframe tbody tr th {\n",
       "        vertical-align: top;\n",
       "    }\n",
       "\n",
       "    .dataframe thead th {\n",
       "        text-align: right;\n",
       "    }\n",
       "</style>\n",
       "<table border=\"1\" class=\"dataframe\">\n",
       "  <thead>\n",
       "    <tr style=\"text-align: right;\">\n",
       "      <th></th>\n",
       "      <th>id</th>\n",
       "      <th>col4</th>\n",
       "      <th>col5</th>\n",
       "      <th>col6</th>\n",
       "    </tr>\n",
       "  </thead>\n",
       "  <tbody>\n",
       "    <tr>\n",
       "      <th>0</th>\n",
       "      <td>0</td>\n",
       "      <td>1</td>\n",
       "      <td>2</td>\n",
       "      <td>3</td>\n",
       "    </tr>\n",
       "    <tr>\n",
       "      <th>1</th>\n",
       "      <td>1</td>\n",
       "      <td>1</td>\n",
       "      <td>2</td>\n",
       "      <td>8</td>\n",
       "    </tr>\n",
       "    <tr>\n",
       "      <th>2</th>\n",
       "      <td>2</td>\n",
       "      <td>5</td>\n",
       "      <td>2</td>\n",
       "      <td>4</td>\n",
       "    </tr>\n",
       "    <tr>\n",
       "      <th>3</th>\n",
       "      <td>3</td>\n",
       "      <td>9</td>\n",
       "      <td>6</td>\n",
       "      <td>8</td>\n",
       "    </tr>\n",
       "  </tbody>\n",
       "</table>\n",
       "</div>"
      ],
      "text/plain": [
       "   id  col4  col5  col6\n",
       "0   0     1     2     3\n",
       "1   1     1     2     8\n",
       "2   2     5     2     4\n",
       "3   3     9     6     8"
      ]
     },
     "execution_count": 69,
     "metadata": {},
     "output_type": "execute_result"
    }
   ],
   "source": [
    "data = np.array([[0,1,2,3], [1,1,2,8], [2,5,2,4], [3,9,6,8]])\n",
    "_df2 = pd.DataFrame(data, columns=['id', 'col4', 'col5', 'col6'])\n",
    "_df2"
   ]
  },
  {
   "cell_type": "markdown",
   "metadata": {},
   "source": [
    "#### Mesclando Dataframes"
   ]
  },
  {
   "cell_type": "code",
   "execution_count": 70,
   "metadata": {},
   "outputs": [
    {
     "data": {
      "text/html": [
       "<div>\n",
       "<style scoped>\n",
       "    .dataframe tbody tr th:only-of-type {\n",
       "        vertical-align: middle;\n",
       "    }\n",
       "\n",
       "    .dataframe tbody tr th {\n",
       "        vertical-align: top;\n",
       "    }\n",
       "\n",
       "    .dataframe thead th {\n",
       "        text-align: right;\n",
       "    }\n",
       "</style>\n",
       "<table border=\"1\" class=\"dataframe\">\n",
       "  <thead>\n",
       "    <tr style=\"text-align: right;\">\n",
       "      <th></th>\n",
       "      <th>id</th>\n",
       "      <th>col1</th>\n",
       "      <th>col2</th>\n",
       "      <th>col3</th>\n",
       "      <th>col4</th>\n",
       "      <th>col5</th>\n",
       "      <th>col6</th>\n",
       "    </tr>\n",
       "  </thead>\n",
       "  <tbody>\n",
       "    <tr>\n",
       "      <th>0</th>\n",
       "      <td>0</td>\n",
       "      <td>1</td>\n",
       "      <td>2</td>\n",
       "      <td>3</td>\n",
       "      <td>1</td>\n",
       "      <td>2</td>\n",
       "      <td>3</td>\n",
       "    </tr>\n",
       "    <tr>\n",
       "      <th>1</th>\n",
       "      <td>1</td>\n",
       "      <td>8</td>\n",
       "      <td>3</td>\n",
       "      <td>0</td>\n",
       "      <td>1</td>\n",
       "      <td>2</td>\n",
       "      <td>8</td>\n",
       "    </tr>\n",
       "    <tr>\n",
       "      <th>2</th>\n",
       "      <td>2</td>\n",
       "      <td>9</td>\n",
       "      <td>3</td>\n",
       "      <td>0</td>\n",
       "      <td>5</td>\n",
       "      <td>2</td>\n",
       "      <td>4</td>\n",
       "    </tr>\n",
       "    <tr>\n",
       "      <th>3</th>\n",
       "      <td>3</td>\n",
       "      <td>2</td>\n",
       "      <td>3</td>\n",
       "      <td>0</td>\n",
       "      <td>9</td>\n",
       "      <td>6</td>\n",
       "      <td>8</td>\n",
       "    </tr>\n",
       "  </tbody>\n",
       "</table>\n",
       "</div>"
      ],
      "text/plain": [
       "   id  col1  col2  col3  col4  col5  col6\n",
       "0   0     1     2     3     1     2     3\n",
       "1   1     8     3     0     1     2     8\n",
       "2   2     9     3     0     5     2     4\n",
       "3   3     2     3     0     9     6     8"
      ]
     },
     "execution_count": 70,
     "metadata": {},
     "output_type": "execute_result"
    }
   ],
   "source": [
    "                    \n",
    "_df = _df1.merge(_df2, on=['id'], how='left')\n",
    "_df"
   ]
  },
  {
   "cell_type": "markdown",
   "metadata": {},
   "source": [
    "#### Pivotando Dataframes"
   ]
  },
  {
   "cell_type": "code",
   "execution_count": 71,
   "metadata": {},
   "outputs": [
    {
     "data": {
      "text/html": [
       "<div>\n",
       "<style scoped>\n",
       "    .dataframe tbody tr th:only-of-type {\n",
       "        vertical-align: middle;\n",
       "    }\n",
       "\n",
       "    .dataframe tbody tr th {\n",
       "        vertical-align: top;\n",
       "    }\n",
       "\n",
       "    .dataframe thead th {\n",
       "        text-align: right;\n",
       "    }\n",
       "</style>\n",
       "<table border=\"1\" class=\"dataframe\">\n",
       "  <thead>\n",
       "    <tr style=\"text-align: right;\">\n",
       "      <th>col1</th>\n",
       "      <th>id</th>\n",
       "      <th>1</th>\n",
       "      <th>2</th>\n",
       "      <th>8</th>\n",
       "      <th>9</th>\n",
       "    </tr>\n",
       "  </thead>\n",
       "  <tbody>\n",
       "    <tr>\n",
       "      <th>0</th>\n",
       "      <td>0</td>\n",
       "      <td>3.0</td>\n",
       "      <td>NaN</td>\n",
       "      <td>NaN</td>\n",
       "      <td>NaN</td>\n",
       "    </tr>\n",
       "    <tr>\n",
       "      <th>1</th>\n",
       "      <td>1</td>\n",
       "      <td>NaN</td>\n",
       "      <td>NaN</td>\n",
       "      <td>0.0</td>\n",
       "      <td>NaN</td>\n",
       "    </tr>\n",
       "    <tr>\n",
       "      <th>2</th>\n",
       "      <td>2</td>\n",
       "      <td>NaN</td>\n",
       "      <td>NaN</td>\n",
       "      <td>NaN</td>\n",
       "      <td>0.0</td>\n",
       "    </tr>\n",
       "    <tr>\n",
       "      <th>3</th>\n",
       "      <td>3</td>\n",
       "      <td>NaN</td>\n",
       "      <td>0.0</td>\n",
       "      <td>NaN</td>\n",
       "      <td>NaN</td>\n",
       "    </tr>\n",
       "  </tbody>\n",
       "</table>\n",
       "</div>"
      ],
      "text/plain": [
       "col1  id    1    2    8    9\n",
       "0      0  3.0  NaN  NaN  NaN\n",
       "1      1  NaN  NaN  0.0  NaN\n",
       "2      2  NaN  NaN  NaN  0.0\n",
       "3      3  NaN  0.0  NaN  NaN"
      ]
     },
     "execution_count": 71,
     "metadata": {},
     "output_type": "execute_result"
    }
   ],
   "source": [
    "_df_pivot = pd.pivot_table(_df,\n",
    "                           values='col3', \n",
    "                           index='id',\n",
    "                           columns=['col1'], \n",
    "                           aggfunc=np.sum).reset_index()\n",
    "\n",
    "_df_pivot"
   ]
  },
  {
   "cell_type": "markdown",
   "metadata": {},
   "source": [
    "#### Substituindo Valores"
   ]
  },
  {
   "cell_type": "code",
   "execution_count": 72,
   "metadata": {},
   "outputs": [
    {
     "data": {
      "text/html": [
       "<div>\n",
       "<style scoped>\n",
       "    .dataframe tbody tr th:only-of-type {\n",
       "        vertical-align: middle;\n",
       "    }\n",
       "\n",
       "    .dataframe tbody tr th {\n",
       "        vertical-align: top;\n",
       "    }\n",
       "\n",
       "    .dataframe thead th {\n",
       "        text-align: right;\n",
       "    }\n",
       "</style>\n",
       "<table border=\"1\" class=\"dataframe\">\n",
       "  <thead>\n",
       "    <tr style=\"text-align: right;\">\n",
       "      <th></th>\n",
       "      <th>Coluna1</th>\n",
       "      <th>Coluna2</th>\n",
       "      <th>Coluna3</th>\n",
       "      <th>vol_dia</th>\n",
       "    </tr>\n",
       "  </thead>\n",
       "  <tbody>\n",
       "    <tr>\n",
       "      <th>0</th>\n",
       "      <td>Regional1</td>\n",
       "      <td>Região Leste</td>\n",
       "      <td>Atacado</td>\n",
       "      <td>10000</td>\n",
       "    </tr>\n",
       "  </tbody>\n",
       "</table>\n",
       "</div>"
      ],
      "text/plain": [
       "     Coluna1       Coluna2  Coluna3  vol_dia\n",
       "0  Regional1  Região Leste  Atacado    10000"
      ]
     },
     "execution_count": 72,
     "metadata": {},
     "output_type": "execute_result"
    }
   ],
   "source": [
    "data  = {'Coluna1':['Regional1'],  'Coluna2':['Região Leste'], 'Coluna3':['Atacado'], 'vol_dia':[10000]}\n",
    "_df = pd.DataFrame(data)\n",
    "_df"
   ]
  },
  {
   "cell_type": "code",
   "execution_count": 73,
   "metadata": {},
   "outputs": [
    {
     "data": {
      "text/html": [
       "<div>\n",
       "<style scoped>\n",
       "    .dataframe tbody tr th:only-of-type {\n",
       "        vertical-align: middle;\n",
       "    }\n",
       "\n",
       "    .dataframe tbody tr th {\n",
       "        vertical-align: top;\n",
       "    }\n",
       "\n",
       "    .dataframe thead th {\n",
       "        text-align: right;\n",
       "    }\n",
       "</style>\n",
       "<table border=\"1\" class=\"dataframe\">\n",
       "  <thead>\n",
       "    <tr style=\"text-align: right;\">\n",
       "      <th></th>\n",
       "      <th>Coluna1</th>\n",
       "      <th>Coluna2</th>\n",
       "      <th>Coluna3</th>\n",
       "      <th>vol_dia</th>\n",
       "    </tr>\n",
       "  </thead>\n",
       "  <tbody>\n",
       "    <tr>\n",
       "      <th>0</th>\n",
       "      <td>Regional1</td>\n",
       "      <td>Região Leste</td>\n",
       "      <td>Atacado</td>\n",
       "      <td>False</td>\n",
       "    </tr>\n",
       "  </tbody>\n",
       "</table>\n",
       "</div>"
      ],
      "text/plain": [
       "     Coluna1       Coluna2  Coluna3  vol_dia\n",
       "0  Regional1  Região Leste  Atacado    False"
      ]
     },
     "execution_count": 73,
     "metadata": {},
     "output_type": "execute_result"
    }
   ],
   "source": [
    "_df['vol_dia'] = np.where(_df['vol_dia']== 1000, True, False)\n",
    "_df"
   ]
  },
  {
   "cell_type": "code",
   "execution_count": 74,
   "metadata": {},
   "outputs": [
    {
     "data": {
      "text/html": [
       "<div>\n",
       "<style scoped>\n",
       "    .dataframe tbody tr th:only-of-type {\n",
       "        vertical-align: middle;\n",
       "    }\n",
       "\n",
       "    .dataframe tbody tr th {\n",
       "        vertical-align: top;\n",
       "    }\n",
       "\n",
       "    .dataframe thead th {\n",
       "        text-align: right;\n",
       "    }\n",
       "</style>\n",
       "<table border=\"1\" class=\"dataframe\">\n",
       "  <thead>\n",
       "    <tr style=\"text-align: right;\">\n",
       "      <th></th>\n",
       "      <th>Coluna1</th>\n",
       "      <th>Coluna2</th>\n",
       "      <th>Coluna3</th>\n",
       "      <th>vol_dia</th>\n",
       "    </tr>\n",
       "  </thead>\n",
       "  <tbody>\n",
       "    <tr>\n",
       "      <th>0</th>\n",
       "      <td>Regional1</td>\n",
       "      <td>Região Leste</td>\n",
       "      <td>Atacado</td>\n",
       "      <td>10000</td>\n",
       "    </tr>\n",
       "  </tbody>\n",
       "</table>\n",
       "</div>"
      ],
      "text/plain": [
       "     Coluna1       Coluna2  Coluna3  vol_dia\n",
       "0  Regional1  Região Leste  Atacado    10000"
      ]
     },
     "execution_count": 74,
     "metadata": {},
     "output_type": "execute_result"
    }
   ],
   "source": [
    "data  = {'Coluna1':['Regional1'],  'Coluna2':['Região Leste'], 'Coluna3':['Atacado'], 'vol_dia':[10000]}\n",
    "_df = pd.DataFrame(data)\n",
    "_df"
   ]
  },
  {
   "cell_type": "code",
   "execution_count": 75,
   "metadata": {},
   "outputs": [
    {
     "data": {
      "text/html": [
       "<div>\n",
       "<style scoped>\n",
       "    .dataframe tbody tr th:only-of-type {\n",
       "        vertical-align: middle;\n",
       "    }\n",
       "\n",
       "    .dataframe tbody tr th {\n",
       "        vertical-align: top;\n",
       "    }\n",
       "\n",
       "    .dataframe thead th {\n",
       "        text-align: right;\n",
       "    }\n",
       "</style>\n",
       "<table border=\"1\" class=\"dataframe\">\n",
       "  <thead>\n",
       "    <tr style=\"text-align: right;\">\n",
       "      <th></th>\n",
       "      <th>Coluna1</th>\n",
       "      <th>Coluna2</th>\n",
       "      <th>Coluna3</th>\n",
       "      <th>vol_dia</th>\n",
       "    </tr>\n",
       "  </thead>\n",
       "  <tbody>\n",
       "    <tr>\n",
       "      <th>0</th>\n",
       "      <td>Regional1</td>\n",
       "      <td>Região Leste</td>\n",
       "      <td>Atacado</td>\n",
       "      <td>True</td>\n",
       "    </tr>\n",
       "  </tbody>\n",
       "</table>\n",
       "</div>"
      ],
      "text/plain": [
       "     Coluna1       Coluna2  Coluna3  vol_dia\n",
       "0  Regional1  Região Leste  Atacado     True"
      ]
     },
     "execution_count": 75,
     "metadata": {},
     "output_type": "execute_result"
    }
   ],
   "source": [
    "_df['vol_dia'] = np.where(_df['vol_dia']== 10000, True, False)\n",
    "_df"
   ]
  },
  {
   "cell_type": "code",
   "execution_count": 76,
   "metadata": {},
   "outputs": [
    {
     "data": {
      "text/html": [
       "<div>\n",
       "<style scoped>\n",
       "    .dataframe tbody tr th:only-of-type {\n",
       "        vertical-align: middle;\n",
       "    }\n",
       "\n",
       "    .dataframe tbody tr th {\n",
       "        vertical-align: top;\n",
       "    }\n",
       "\n",
       "    .dataframe thead th {\n",
       "        text-align: right;\n",
       "    }\n",
       "</style>\n",
       "<table border=\"1\" class=\"dataframe\">\n",
       "  <thead>\n",
       "    <tr style=\"text-align: right;\">\n",
       "      <th></th>\n",
       "      <th>Coluna1</th>\n",
       "      <th>Coluna2</th>\n",
       "      <th>Coluna3</th>\n",
       "      <th>vol_dia</th>\n",
       "    </tr>\n",
       "  </thead>\n",
       "  <tbody>\n",
       "    <tr>\n",
       "      <th>0</th>\n",
       "      <td>Regional2</td>\n",
       "      <td>Região Leste</td>\n",
       "      <td>Atacado</td>\n",
       "      <td>True</td>\n",
       "    </tr>\n",
       "  </tbody>\n",
       "</table>\n",
       "</div>"
      ],
      "text/plain": [
       "     Coluna1       Coluna2  Coluna3  vol_dia\n",
       "0  Regional2  Região Leste  Atacado     True"
      ]
     },
     "execution_count": 76,
     "metadata": {},
     "output_type": "execute_result"
    }
   ],
   "source": [
    "_df = _df.replace('Regional1','Regional2')\n",
    "_df"
   ]
  },
  {
   "cell_type": "code",
   "execution_count": 77,
   "metadata": {},
   "outputs": [
    {
     "data": {
      "text/html": [
       "<div>\n",
       "<style scoped>\n",
       "    .dataframe tbody tr th:only-of-type {\n",
       "        vertical-align: middle;\n",
       "    }\n",
       "\n",
       "    .dataframe tbody tr th {\n",
       "        vertical-align: top;\n",
       "    }\n",
       "\n",
       "    .dataframe thead th {\n",
       "        text-align: right;\n",
       "    }\n",
       "</style>\n",
       "<table border=\"1\" class=\"dataframe\">\n",
       "  <thead>\n",
       "    <tr style=\"text-align: right;\">\n",
       "      <th></th>\n",
       "      <th>Coluna1</th>\n",
       "      <th>Coluna2</th>\n",
       "      <th>Coluna3</th>\n",
       "      <th>vol_dia</th>\n",
       "    </tr>\n",
       "  </thead>\n",
       "  <tbody>\n",
       "    <tr>\n",
       "      <th>0</th>\n",
       "      <td>Regional2</td>\n",
       "      <td>Região Leste Cambuci2 66</td>\n",
       "      <td>Atacado</td>\n",
       "      <td>True</td>\n",
       "    </tr>\n",
       "  </tbody>\n",
       "</table>\n",
       "</div>"
      ],
      "text/plain": [
       "     Coluna1                   Coluna2  Coluna3  vol_dia\n",
       "0  Regional2  Região Leste Cambuci2 66  Atacado     True"
      ]
     },
     "execution_count": 77,
     "metadata": {},
     "output_type": "execute_result"
    }
   ],
   "source": [
    "_df = _df.replace('Região Leste','Região Leste Cambuci2 66')\n",
    "_df"
   ]
  },
  {
   "cell_type": "markdown",
   "metadata": {},
   "source": [
    "#### Strings"
   ]
  },
  {
   "cell_type": "code",
   "execution_count": 78,
   "metadata": {},
   "outputs": [
    {
     "data": {
      "text/plain": [
       "0    [Região, Leste, Cambuci2, 66]\n",
       "Name: Coluna2, dtype: object"
      ]
     },
     "execution_count": 78,
     "metadata": {},
     "output_type": "execute_result"
    }
   ],
   "source": [
    "_df['Coluna2'].str.split(pat=' ')"
   ]
  },
  {
   "cell_type": "code",
   "execution_count": 79,
   "metadata": {},
   "outputs": [
    {
     "data": {
      "text/html": [
       "<div>\n",
       "<style scoped>\n",
       "    .dataframe tbody tr th:only-of-type {\n",
       "        vertical-align: middle;\n",
       "    }\n",
       "\n",
       "    .dataframe tbody tr th {\n",
       "        vertical-align: top;\n",
       "    }\n",
       "\n",
       "    .dataframe thead th {\n",
       "        text-align: right;\n",
       "    }\n",
       "</style>\n",
       "<table border=\"1\" class=\"dataframe\">\n",
       "  <thead>\n",
       "    <tr style=\"text-align: right;\">\n",
       "      <th></th>\n",
       "      <th>0</th>\n",
       "      <th>1</th>\n",
       "      <th>2</th>\n",
       "      <th>3</th>\n",
       "    </tr>\n",
       "  </thead>\n",
       "  <tbody>\n",
       "    <tr>\n",
       "      <th>0</th>\n",
       "      <td>Região</td>\n",
       "      <td>Leste</td>\n",
       "      <td>Cambuci2</td>\n",
       "      <td>66</td>\n",
       "    </tr>\n",
       "  </tbody>\n",
       "</table>\n",
       "</div>"
      ],
      "text/plain": [
       "        0      1         2   3\n",
       "0  Região  Leste  Cambuci2  66"
      ]
     },
     "execution_count": 79,
     "metadata": {},
     "output_type": "execute_result"
    }
   ],
   "source": [
    "_df['Coluna2'].str.split(n=5, expand=True)"
   ]
  },
  {
   "cell_type": "code",
   "execution_count": 80,
   "metadata": {},
   "outputs": [
    {
     "data": {
      "text/plain": [
       "0    [Região, Leste Cambuci2 66]\n",
       "Name: Coluna2, dtype: object"
      ]
     },
     "execution_count": 80,
     "metadata": {},
     "output_type": "execute_result"
    }
   ],
   "source": [
    "_df['Coluna2'].str.split(n=1)"
   ]
  },
  {
   "cell_type": "code",
   "execution_count": 81,
   "metadata": {},
   "outputs": [
    {
     "data": {
      "text/html": [
       "<div>\n",
       "<style scoped>\n",
       "    .dataframe tbody tr th:only-of-type {\n",
       "        vertical-align: middle;\n",
       "    }\n",
       "\n",
       "    .dataframe tbody tr th {\n",
       "        vertical-align: top;\n",
       "    }\n",
       "\n",
       "    .dataframe thead th {\n",
       "        text-align: right;\n",
       "    }\n",
       "</style>\n",
       "<table border=\"1\" class=\"dataframe\">\n",
       "  <thead>\n",
       "    <tr style=\"text-align: right;\">\n",
       "      <th></th>\n",
       "      <th>Coluna1</th>\n",
       "      <th>Coluna2</th>\n",
       "      <th>Coluna3</th>\n",
       "      <th>vol_dia</th>\n",
       "      <th>split_cols</th>\n",
       "    </tr>\n",
       "  </thead>\n",
       "  <tbody>\n",
       "    <tr>\n",
       "      <th>0</th>\n",
       "      <td>Regional2</td>\n",
       "      <td>Região Leste Cambuci2 66</td>\n",
       "      <td>Atacado</td>\n",
       "      <td>True</td>\n",
       "      <td>Região</td>\n",
       "    </tr>\n",
       "  </tbody>\n",
       "</table>\n",
       "</div>"
      ],
      "text/plain": [
       "     Coluna1                   Coluna2  Coluna3  vol_dia split_cols\n",
       "0  Regional2  Região Leste Cambuci2 66  Atacado     True     Região"
      ]
     },
     "execution_count": 81,
     "metadata": {},
     "output_type": "execute_result"
    }
   ],
   "source": [
    "_df['split_cols'] = _df['Coluna2'].str.split(pat=' ').str[0]\n",
    "_df"
   ]
  },
  {
   "cell_type": "code",
   "execution_count": 82,
   "metadata": {},
   "outputs": [
    {
     "data": {
      "text/html": [
       "<div>\n",
       "<style scoped>\n",
       "    .dataframe tbody tr th:only-of-type {\n",
       "        vertical-align: middle;\n",
       "    }\n",
       "\n",
       "    .dataframe tbody tr th {\n",
       "        vertical-align: top;\n",
       "    }\n",
       "\n",
       "    .dataframe thead th {\n",
       "        text-align: right;\n",
       "    }\n",
       "</style>\n",
       "<table border=\"1\" class=\"dataframe\">\n",
       "  <thead>\n",
       "    <tr style=\"text-align: right;\">\n",
       "      <th></th>\n",
       "      <th>Coluna1</th>\n",
       "      <th>Coluna2</th>\n",
       "      <th>Coluna3</th>\n",
       "      <th>vol_dia</th>\n",
       "      <th>split_cols</th>\n",
       "    </tr>\n",
       "  </thead>\n",
       "  <tbody>\n",
       "    <tr>\n",
       "      <th>0</th>\n",
       "      <td>Regional2</td>\n",
       "      <td>Região Leste Cambuci2 66</td>\n",
       "      <td>Atacado</td>\n",
       "      <td>True</td>\n",
       "      <td>Leste</td>\n",
       "    </tr>\n",
       "  </tbody>\n",
       "</table>\n",
       "</div>"
      ],
      "text/plain": [
       "     Coluna1                   Coluna2  Coluna3  vol_dia split_cols\n",
       "0  Regional2  Região Leste Cambuci2 66  Atacado     True      Leste"
      ]
     },
     "execution_count": 82,
     "metadata": {},
     "output_type": "execute_result"
    }
   ],
   "source": [
    "_df['split_cols'] = _df['Coluna2'].str.split(pat=' ').str[1]\n",
    "_df"
   ]
  },
  {
   "cell_type": "code",
   "execution_count": 83,
   "metadata": {},
   "outputs": [
    {
     "data": {
      "text/html": [
       "<div>\n",
       "<style scoped>\n",
       "    .dataframe tbody tr th:only-of-type {\n",
       "        vertical-align: middle;\n",
       "    }\n",
       "\n",
       "    .dataframe tbody tr th {\n",
       "        vertical-align: top;\n",
       "    }\n",
       "\n",
       "    .dataframe thead th {\n",
       "        text-align: right;\n",
       "    }\n",
       "</style>\n",
       "<table border=\"1\" class=\"dataframe\">\n",
       "  <thead>\n",
       "    <tr style=\"text-align: right;\">\n",
       "      <th></th>\n",
       "      <th>Coluna1</th>\n",
       "      <th>Coluna2</th>\n",
       "      <th>Coluna3</th>\n",
       "      <th>vol_dia</th>\n",
       "      <th>split_cols</th>\n",
       "    </tr>\n",
       "  </thead>\n",
       "  <tbody>\n",
       "    <tr>\n",
       "      <th>0</th>\n",
       "      <td>Regional2</td>\n",
       "      <td>Região Leste Cambuci2 66</td>\n",
       "      <td>Atacado</td>\n",
       "      <td>True</td>\n",
       "      <td>Região</td>\n",
       "    </tr>\n",
       "  </tbody>\n",
       "</table>\n",
       "</div>"
      ],
      "text/plain": [
       "     Coluna1                   Coluna2  Coluna3  vol_dia split_cols\n",
       "0  Regional2  Região Leste Cambuci2 66  Atacado     True     Região"
      ]
     },
     "execution_count": 83,
     "metadata": {},
     "output_type": "execute_result"
    }
   ],
   "source": [
    "_df['split_cols'] = _df['Coluna2'].str.split(pat=' ').str[0]\n",
    "_df"
   ]
  },
  {
   "cell_type": "markdown",
   "metadata": {},
   "source": [
    "#### Criando Index e Atribuindo um dicionário"
   ]
  },
  {
   "cell_type": "code",
   "execution_count": 183,
   "metadata": {},
   "outputs": [
    {
     "data": {
      "text/html": [
       "<div>\n",
       "<style scoped>\n",
       "    .dataframe tbody tr th:only-of-type {\n",
       "        vertical-align: middle;\n",
       "    }\n",
       "\n",
       "    .dataframe tbody tr th {\n",
       "        vertical-align: top;\n",
       "    }\n",
       "\n",
       "    .dataframe thead th {\n",
       "        text-align: right;\n",
       "    }\n",
       "</style>\n",
       "<table border=\"1\" class=\"dataframe\">\n",
       "  <thead>\n",
       "    <tr style=\"text-align: right;\">\n",
       "      <th></th>\n",
       "      <th>Coluna1</th>\n",
       "      <th>Coluna2</th>\n",
       "      <th>Coluna3</th>\n",
       "      <th>vol_dia</th>\n",
       "    </tr>\n",
       "  </thead>\n",
       "  <tbody>\n",
       "    <tr>\n",
       "      <th>0</th>\n",
       "      <td>Regional 1</td>\n",
       "      <td>Região Leste</td>\n",
       "      <td>Atacado</td>\n",
       "      <td>10000</td>\n",
       "    </tr>\n",
       "    <tr>\n",
       "      <th>1</th>\n",
       "      <td>Regional 2</td>\n",
       "      <td>Região Norte</td>\n",
       "      <td>Atacado</td>\n",
       "      <td>500</td>\n",
       "    </tr>\n",
       "    <tr>\n",
       "      <th>2</th>\n",
       "      <td></td>\n",
       "      <td></td>\n",
       "      <td></td>\n",
       "      <td>562</td>\n",
       "    </tr>\n",
       "  </tbody>\n",
       "</table>\n",
       "</div>"
      ],
      "text/plain": [
       "      Coluna1       Coluna2  Coluna3  vol_dia\n",
       "0  Regional 1  Região Leste  Atacado    10000\n",
       "1  Regional 2  Região Norte  Atacado      500\n",
       "2                                         562"
      ]
     },
     "execution_count": 183,
     "metadata": {},
     "output_type": "execute_result"
    }
   ],
   "source": [
    "data  = {'Coluna1':['Regional 1', 'Regional 2', ''],  'Coluna2':['Região Leste', 'Região Norte', ''], 'Coluna3':['Atacado', 'Atacado', ''], 'vol_dia':[10000, 500, 562]}\n",
    "_df = pd.DataFrame(data)\n",
    "_df"
   ]
  },
  {
   "cell_type": "code",
   "execution_count": 184,
   "metadata": {},
   "outputs": [
    {
     "data": {
      "text/plain": [
       "Index(['Regional 1', 'Regional 2', ''], dtype='object')"
      ]
     },
     "execution_count": 184,
     "metadata": {},
     "output_type": "execute_result"
    }
   ],
   "source": [
    "pd.Index(_df.reset_index()['Coluna1'].unique().tolist())"
   ]
  },
  {
   "cell_type": "code",
   "execution_count": 181,
   "metadata": {},
   "outputs": [
    {
     "data": {
      "text/plain": [
       "Int64Index([1, 2, 3], dtype='int64')"
      ]
     },
     "execution_count": 181,
     "metadata": {},
     "output_type": "execute_result"
    }
   ],
   "source": [
    "pd.Index([1 ,2 , 3])"
   ]
  },
  {
   "cell_type": "code",
   "execution_count": 182,
   "metadata": {},
   "outputs": [
    {
     "data": {
      "text/plain": [
       "RangeIndex(start=1, stop=31, step=1)"
      ]
     },
     "execution_count": 182,
     "metadata": {},
     "output_type": "execute_result"
    }
   ],
   "source": [
    "pd.Index(range(1,31,1))"
   ]
  },
  {
   "cell_type": "code",
   "execution_count": 84,
   "metadata": {},
   "outputs": [],
   "source": [
    "index = pd.Index([\n",
    "    # Moinhos > Cimento\n",
    "    '[A1] Dias Úteis',\n",
    "    '[B1] Dias Cobertura Cimento',\n",
    "    '[C1] Demanda Comercial de Cimento',\n",
    "    '[D1] Capacidade Total Moinhos',\n",
    "    '[E1] Estoque Inicial = [N1]',\n",
    "    '[F1] Estoque de Segurança =  [C1/A1 * B1]',\n",
    "    '[G1] Entrada de Estoque = MAX[0, F1 - E1]',\n",
    "    '[H1] Saída de Estoque =  MIN[0, F1 - E1]',\n",
    "    '[I1] Requisito de Estoque = [G1 + H1]',\n",
    "    '[J1] Requisito Total de Produção = [J1 + C1]',\n",
    "    '[L1] Produção Planejada de Cimento = MAX[J1,D1]',\n",
    "    '[M1] Cimento Disponível = [E1 + A3 - F1]',\n",
    "    '[N1] Estoque Final = [E1 + A3 - C3]',\n",
    "    '[O1] Alerta de Estoque Cimento',\n",
    "    # Fornos > Clinquer\n",
    "    '[A2] Dias Cobertura Clínquer',\n",
    "    '[B2] Percentual de Clínquer',\n",
    "    '[C2] Demanda de Clínquer para Cimento = [L1 * B2]',\n",
    "    '[D2] Capacidade Total Fornos',\n",
    "    '[E2] Estoque Inicial = [Q2]',\n",
    "    '[F2] Estoque de Segurança = [C2/A1 * A2]',\n",
    "    '[G2] Entrada de Estoque = MAX[0, F2 - E2]',\n",
    "    '[H2] Saída de Estoque = MIN[0, F2 - E2]',\n",
    "    '[I2] Requisito de estoque = [G2 - H2]',\n",
    "    '[J2] Tranferências Saída = [L1 * B2]',\n",
    "    '[L2] Requisito Total de Produção = [I2 + C2 + J2]',\n",
    "    '[M2] Tranferências Entrada',\n",
    "    '[N2] Produção Efetiva de Clínquer = MIN[L2,D2] + M2',\n",
    "    '[N2.1] Produção Efetiva de Estoque Clínquer',      \n",
    "    '[O2] % de Produção Própria = [N2 * (C2+I2)/(L2)]',\n",
    "    '[P2] % de Produção Externa = [N2 * J2 /(L2)]',\n",
    "    '[Q2] Estoque Final = [E2 + O2 - U2]',\n",
    "    '[R2] Venda para outros Players',\n",
    "    '[S2] Clínquer Dísponivel = [E2 + O2 - F2 + R2]',\n",
    "    '[T2] Clínquer Dísponivel Convertido em Cimento',\n",
    "    '[U2] Demanda Restrita de Clínquer = [S2/B2]',\n",
    "    '[V2] Alerta de estoque Cimento',\n",
    "    # Cimento Novamente\n",
    "    '[A3] Produção efetiva de cimento = [O2/B2] trans. [N2/B2]',\n",
    "    '[B3] Cimento disponível = M1',\n",
    "    '[C3] Demanda restrita = MIN[B3,C1]',\n",
    "    '[D3] Demanda não abastecida = [C1 - C3]',\n",
    "    '[E3] Demanda irrestrita = C1'\n",
    "    ])"
   ]
  },
  {
   "cell_type": "code",
   "execution_count": 85,
   "metadata": {},
   "outputs": [
    {
     "data": {
      "text/plain": [
       "Index(['[A1] Dias Úteis', '[B1] Dias Cobertura Cimento',\n",
       "       '[C1] Demanda Comercial de Cimento', '[D1] Capacidade Total Moinhos',\n",
       "       '[E1] Estoque Inicial = [N1]',\n",
       "       '[F1] Estoque de Segurança =  [C1/A1 * B1]',\n",
       "       '[G1] Entrada de Estoque = MAX[0, F1 - E1]',\n",
       "       '[H1] Saída de Estoque =  MIN[0, F1 - E1]',\n",
       "       '[I1] Requisito de Estoque = [G1 + H1]',\n",
       "       '[J1] Requisito Total de Produção = [J1 + C1]',\n",
       "       '[L1] Produção Planejada de Cimento = MAX[J1,D1]',\n",
       "       '[M1] Cimento Disponível = [E1 + A3 - F1]',\n",
       "       '[N1] Estoque Final = [E1 + A3 - C3]', '[O1] Alerta de Estoque Cimento',\n",
       "       '[A2] Dias Cobertura Clínquer', '[B2] Percentual de Clínquer',\n",
       "       '[C2] Demanda de Clínquer para Cimento = [L1 * B2]',\n",
       "       '[D2] Capacidade Total Fornos', '[E2] Estoque Inicial = [Q2]',\n",
       "       '[F2] Estoque de Segurança = [C2/A1 * A2]',\n",
       "       '[G2] Entrada de Estoque = MAX[0, F2 - E2]',\n",
       "       '[H2] Saída de Estoque = MIN[0, F2 - E2]',\n",
       "       '[I2] Requisito de estoque = [G2 - H2]',\n",
       "       '[J2] Tranferências Saída = [L1 * B2]',\n",
       "       '[L2] Requisito Total de Produção = [I2 + C2 + J2]',\n",
       "       '[M2] Tranferências Entrada',\n",
       "       '[N2] Produção Efetiva de Clínquer = MIN[L2,D2] + M2',\n",
       "       '[N2.1] Produção Efetiva de Estoque Clínquer',\n",
       "       '[O2] % de Produção Própria = [N2 * (C2+I2)/(L2)]',\n",
       "       '[P2] % de Produção Externa = [N2 * J2 /(L2)]',\n",
       "       '[Q2] Estoque Final = [E2 + O2 - U2]', '[R2] Venda para outros Players',\n",
       "       '[S2] Clínquer Dísponivel = [E2 + O2 - F2 + R2]',\n",
       "       '[T2] Clínquer Dísponivel Convertido em Cimento',\n",
       "       '[U2] Demanda Restrita de Clínquer = [S2/B2]',\n",
       "       '[V2] Alerta de estoque Cimento',\n",
       "       '[A3] Produção efetiva de cimento = [O2/B2] trans. [N2/B2]',\n",
       "       '[B3] Cimento disponível = M1', '[C3] Demanda restrita = MIN[B3,C1]',\n",
       "       '[D3] Demanda não abastecida = [C1 - C3]',\n",
       "       '[E3] Demanda irrestrita = C1'],\n",
       "      dtype='object')"
      ]
     },
     "execution_count": 85,
     "metadata": {},
     "output_type": "execute_result"
    }
   ],
   "source": [
    "index"
   ]
  },
  {
   "cell_type": "code",
   "execution_count": 86,
   "metadata": {},
   "outputs": [
    {
     "data": {
      "text/plain": [
       "{'[A1] Dias Úteis': 0,\n",
       " '[B1] Dias Cobertura Cimento': 1,\n",
       " '[C1] Demanda Comercial de Cimento': 2,\n",
       " '[D1] Capacidade Total Moinhos': 3,\n",
       " '[E1] Estoque Inicial = [N1]': 4,\n",
       " '[F1] Estoque de Segurança =  [C1/A1 * B1]': 5,\n",
       " '[G1] Entrada de Estoque = MAX[0, F1 - E1]': 6,\n",
       " '[H1] Saída de Estoque =  MIN[0, F1 - E1]': 7,\n",
       " '[I1] Requisito de Estoque = [G1 + H1]': 8,\n",
       " '[J1] Requisito Total de Produção = [J1 + C1]': 9,\n",
       " '[L1] Produção Planejada de Cimento = MAX[J1,D1]': 10,\n",
       " '[M1] Cimento Disponível = [E1 + A3 - F1]': 11,\n",
       " '[N1] Estoque Final = [E1 + A3 - C3]': 12,\n",
       " '[O1] Alerta de Estoque Cimento': 13,\n",
       " '[A2] Dias Cobertura Clínquer': 14,\n",
       " '[B2] Percentual de Clínquer': 15,\n",
       " '[C2] Demanda de Clínquer para Cimento = [L1 * B2]': 16,\n",
       " '[D2] Capacidade Total Fornos': 17,\n",
       " '[E2] Estoque Inicial = [Q2]': 18,\n",
       " '[F2] Estoque de Segurança = [C2/A1 * A2]': 19,\n",
       " '[G2] Entrada de Estoque = MAX[0, F2 - E2]': 20,\n",
       " '[H2] Saída de Estoque = MIN[0, F2 - E2]': 21,\n",
       " '[I2] Requisito de estoque = [G2 - H2]': 22,\n",
       " '[J2] Tranferências Saída = [L1 * B2]': 23,\n",
       " '[L2] Requisito Total de Produção = [I2 + C2 + J2]': 24,\n",
       " '[M2] Tranferências Entrada': 25,\n",
       " '[N2] Produção Efetiva de Clínquer = MIN[L2,D2] + M2': 26,\n",
       " '[N2.1] Produção Efetiva de Estoque Clínquer': 27,\n",
       " '[O2] % de Produção Própria = [N2 * (C2+I2)/(L2)]': 28,\n",
       " '[P2] % de Produção Externa = [N2 * J2 /(L2)]': 29,\n",
       " '[Q2] Estoque Final = [E2 + O2 - U2]': 30,\n",
       " '[R2] Venda para outros Players': 31,\n",
       " '[S2] Clínquer Dísponivel = [E2 + O2 - F2 + R2]': 32,\n",
       " '[T2] Clínquer Dísponivel Convertido em Cimento': 33,\n",
       " '[U2] Demanda Restrita de Clínquer = [S2/B2]': 34,\n",
       " '[V2] Alerta de estoque Cimento': 35,\n",
       " '[A3] Produção efetiva de cimento = [O2/B2] trans. [N2/B2]': 36,\n",
       " '[B3] Cimento disponível = M1': 37,\n",
       " '[C3] Demanda restrita = MIN[B3,C1]': 38,\n",
       " '[D3] Demanda não abastecida = [C1 - C3]': 39,\n",
       " '[E3] Demanda irrestrita = C1': 40}"
      ]
     },
     "execution_count": 86,
     "metadata": {},
     "output_type": "execute_result"
    }
   ],
   "source": [
    "# Criando um dionário com os valores do index\n",
    "\n",
    "_index = index\n",
    "_len = len(_index)\n",
    "_dict = {}\n",
    "\n",
    "for i in range(_len):\n",
    "    _dict[_index[i]] = i\n",
    "\n",
    "_dict"
   ]
  },
  {
   "cell_type": "code",
   "execution_count": 87,
   "metadata": {},
   "outputs": [
    {
     "data": {
      "text/plain": [
       "'c:\\\\Users\\\\alexsandro.ignacio\\\\OneDrive - WCA Soluções de Inteligência Comercial\\\\Documentos\\\\Docs\\\\Git\\\\python_developer\\\\Planejamento - Lógicas'"
      ]
     },
     "execution_count": 87,
     "metadata": {},
     "output_type": "execute_result"
    }
   ],
   "source": [
    "current_path = os.getcwd()\n",
    "current_path"
   ]
  },
  {
   "cell_type": "code",
   "execution_count": 88,
   "metadata": {},
   "outputs": [],
   "source": [
    "_directory_name = 'Data Base'\n",
    "_file_name = 'Analise_de_Capacidade_base _ 2022-02-25-12-16-27.csv'"
   ]
  },
  {
   "cell_type": "code",
   "execution_count": 89,
   "metadata": {},
   "outputs": [
    {
     "data": {
      "text/plain": [
       "'c:\\\\Users\\\\alexsandro.ignacio\\\\OneDrive - WCA Soluções de Inteligência Comercial\\\\Documentos\\\\Docs\\\\Git\\\\python_developer\\\\Planejamento - Lógicas\\\\Data Base\\\\Analise_de_Capacidade_base _ 2022-02-25-12-16-27.csv'"
      ]
     },
     "execution_count": 89,
     "metadata": {},
     "output_type": "execute_result"
    }
   ],
   "source": [
    "target_path = os.path.join(current_path, _directory_name, _file_name)\n",
    "target_path"
   ]
  },
  {
   "cell_type": "code",
   "execution_count": 90,
   "metadata": {},
   "outputs": [
    {
     "data": {
      "text/html": [
       "<div>\n",
       "<style scoped>\n",
       "    .dataframe tbody tr th:only-of-type {\n",
       "        vertical-align: middle;\n",
       "    }\n",
       "\n",
       "    .dataframe tbody tr th {\n",
       "        vertical-align: top;\n",
       "    }\n",
       "\n",
       "    .dataframe thead th {\n",
       "        text-align: right;\n",
       "    }\n",
       "</style>\n",
       "<table border=\"1\" class=\"dataframe\">\n",
       "  <thead>\n",
       "    <tr style=\"text-align: right;\">\n",
       "      <th></th>\n",
       "      <th>indice_relatorio_analise_de_capacidades</th>\n",
       "      <th>index_codigo_unidade</th>\n",
       "      <th>index_datas</th>\n",
       "      <th>Relatórios de Analise de Capacidade</th>\n",
       "    </tr>\n",
       "  </thead>\n",
       "  <tbody>\n",
       "    <tr>\n",
       "      <th>0</th>\n",
       "      <td>[A1] Dias Úteis</td>\n",
       "      <td>API</td>\n",
       "      <td>2021-06</td>\n",
       "      <td>23.0</td>\n",
       "    </tr>\n",
       "  </tbody>\n",
       "</table>\n",
       "</div>"
      ],
      "text/plain": [
       "  indice_relatorio_analise_de_capacidades index_codigo_unidade index_datas  \\\n",
       "0                         [A1] Dias Úteis                  API     2021-06   \n",
       "\n",
       "  Relatórios de Analise de Capacidade  \n",
       "0                                23.0  "
      ]
     },
     "execution_count": 90,
     "metadata": {},
     "output_type": "execute_result"
    }
   ],
   "source": [
    "_df = pd.read_csv(target_path,sep=';')\n",
    "_df.head(1)"
   ]
  },
  {
   "cell_type": "code",
   "execution_count": 91,
   "metadata": {},
   "outputs": [
    {
     "data": {
      "text/html": [
       "<div>\n",
       "<style scoped>\n",
       "    .dataframe tbody tr th:only-of-type {\n",
       "        vertical-align: middle;\n",
       "    }\n",
       "\n",
       "    .dataframe tbody tr th {\n",
       "        vertical-align: top;\n",
       "    }\n",
       "\n",
       "    .dataframe thead th {\n",
       "        text-align: right;\n",
       "    }\n",
       "</style>\n",
       "<table border=\"1\" class=\"dataframe\">\n",
       "  <thead>\n",
       "    <tr style=\"text-align: right;\">\n",
       "      <th></th>\n",
       "      <th>Relatórios de Análise de Capacidade</th>\n",
       "      <th>Código Unidades</th>\n",
       "      <th>Datas</th>\n",
       "      <th>values</th>\n",
       "    </tr>\n",
       "  </thead>\n",
       "  <tbody>\n",
       "    <tr>\n",
       "      <th>0</th>\n",
       "      <td>[A1] Dias Úteis</td>\n",
       "      <td>API</td>\n",
       "      <td>2021-06</td>\n",
       "      <td>23.0</td>\n",
       "    </tr>\n",
       "    <tr>\n",
       "      <th>1</th>\n",
       "      <td>[A1] Dias Úteis</td>\n",
       "      <td>API</td>\n",
       "      <td>2021-07</td>\n",
       "      <td>24.5</td>\n",
       "    </tr>\n",
       "  </tbody>\n",
       "</table>\n",
       "</div>"
      ],
      "text/plain": [
       "  Relatórios de Análise de Capacidade Código Unidades    Datas values\n",
       "0                     [A1] Dias Úteis             API  2021-06   23.0\n",
       "1                     [A1] Dias Úteis             API  2021-07   24.5"
      ]
     },
     "execution_count": 91,
     "metadata": {},
     "output_type": "execute_result"
    }
   ],
   "source": [
    "_df = _df.rename(columns={'indice_relatorio_analise_de_capacidades':'Relatórios de Análise de Capacidade', \n",
    "                          'index_codigo_unidade':'Código Unidades', \n",
    "                          'index_datas':'Datas', \n",
    "                          'Relatórios de Analise de Capacidade':'values'}).replace('-',0)\n",
    "\n",
    "_df.head(2)"
   ]
  },
  {
   "cell_type": "code",
   "execution_count": 92,
   "metadata": {},
   "outputs": [
    {
     "data": {
      "text/plain": [
       "Relatórios de Análise de Capacidade    object\n",
       "Código Unidades                        object\n",
       "Datas                                  object\n",
       "values                                 object\n",
       "dtype: object"
      ]
     },
     "execution_count": 92,
     "metadata": {},
     "output_type": "execute_result"
    }
   ],
   "source": [
    "_df.dtypes"
   ]
  },
  {
   "cell_type": "code",
   "execution_count": 93,
   "metadata": {},
   "outputs": [
    {
     "data": {
      "text/plain": [
       "Relatórios de Análise de Capacidade            object\n",
       "Código Unidades                                object\n",
       "Datas                                  datetime64[ns]\n",
       "values                                        float64\n",
       "dtype: object"
      ]
     },
     "execution_count": 93,
     "metadata": {},
     "output_type": "execute_result"
    }
   ],
   "source": [
    "_df['Datas'] = pd.to_datetime(_df['Datas'])\n",
    "_df['values'] = _df['values'].astype(float)\n",
    "_df2 = _df\n",
    "_df.dtypes"
   ]
  },
  {
   "cell_type": "code",
   "execution_count": 94,
   "metadata": {},
   "outputs": [
    {
     "data": {
      "text/html": [
       "<div>\n",
       "<style scoped>\n",
       "    .dataframe tbody tr th:only-of-type {\n",
       "        vertical-align: middle;\n",
       "    }\n",
       "\n",
       "    .dataframe tbody tr th {\n",
       "        vertical-align: top;\n",
       "    }\n",
       "\n",
       "    .dataframe thead th {\n",
       "        text-align: right;\n",
       "    }\n",
       "</style>\n",
       "<table border=\"1\" class=\"dataframe\">\n",
       "  <thead>\n",
       "    <tr style=\"text-align: right;\">\n",
       "      <th>Datas</th>\n",
       "      <th>Código Unidades</th>\n",
       "      <th>Relatórios de Análise de Capacidade</th>\n",
       "      <th>2021-06-01 00:00:00</th>\n",
       "      <th>2021-07-01 00:00:00</th>\n",
       "      <th>2021-08-01 00:00:00</th>\n",
       "      <th>2021-09-01 00:00:00</th>\n",
       "      <th>2021-10-01 00:00:00</th>\n",
       "      <th>2021-11-01 00:00:00</th>\n",
       "      <th>2021-12-01 00:00:00</th>\n",
       "      <th>2022-01-01 00:00:00</th>\n",
       "      <th>...</th>\n",
       "      <th>2022-09-01 00:00:00</th>\n",
       "      <th>2022-10-01 00:00:00</th>\n",
       "      <th>2022-11-01 00:00:00</th>\n",
       "      <th>2022-12-01 00:00:00</th>\n",
       "      <th>2023-01-01 00:00:00</th>\n",
       "      <th>2023-02-01 00:00:00</th>\n",
       "      <th>2023-03-01 00:00:00</th>\n",
       "      <th>2023-04-01 00:00:00</th>\n",
       "      <th>2023-05-01 00:00:00</th>\n",
       "      <th>Ordem</th>\n",
       "    </tr>\n",
       "  </thead>\n",
       "  <tbody>\n",
       "    <tr>\n",
       "      <th>0</th>\n",
       "      <td>API</td>\n",
       "      <td>[A1] Dias Úteis</td>\n",
       "      <td>23.0</td>\n",
       "      <td>24.5</td>\n",
       "      <td>24.0</td>\n",
       "      <td>23.0</td>\n",
       "      <td>22.50</td>\n",
       "      <td>22.00</td>\n",
       "      <td>23.50</td>\n",
       "      <td>23.0</td>\n",
       "      <td>...</td>\n",
       "      <td>23.0</td>\n",
       "      <td>22.5</td>\n",
       "      <td>22.0</td>\n",
       "      <td>0.0</td>\n",
       "      <td>0.0</td>\n",
       "      <td>0.0</td>\n",
       "      <td>0.0</td>\n",
       "      <td>0.0</td>\n",
       "      <td>0.0</td>\n",
       "      <td>0</td>\n",
       "    </tr>\n",
       "    <tr>\n",
       "      <th>3</th>\n",
       "      <td>API</td>\n",
       "      <td>[B1] Dias Cobertura Cimento</td>\n",
       "      <td>10.0</td>\n",
       "      <td>10.0</td>\n",
       "      <td>10.0</td>\n",
       "      <td>10.0</td>\n",
       "      <td>3.23</td>\n",
       "      <td>3.25</td>\n",
       "      <td>4.03</td>\n",
       "      <td>10.0</td>\n",
       "      <td>...</td>\n",
       "      <td>10.0</td>\n",
       "      <td>10.0</td>\n",
       "      <td>10.0</td>\n",
       "      <td>10.0</td>\n",
       "      <td>10.0</td>\n",
       "      <td>10.0</td>\n",
       "      <td>10.0</td>\n",
       "      <td>10.0</td>\n",
       "      <td>10.0</td>\n",
       "      <td>1</td>\n",
       "    </tr>\n",
       "  </tbody>\n",
       "</table>\n",
       "<p>2 rows × 27 columns</p>\n",
       "</div>"
      ],
      "text/plain": [
       "Datas Código Unidades Relatórios de Análise de Capacidade  \\\n",
       "0                 API                     [A1] Dias Úteis   \n",
       "3                 API         [B1] Dias Cobertura Cimento   \n",
       "\n",
       "Datas  2021-06-01 00:00:00  2021-07-01 00:00:00  2021-08-01 00:00:00  \\\n",
       "0                     23.0                 24.5                 24.0   \n",
       "3                     10.0                 10.0                 10.0   \n",
       "\n",
       "Datas  2021-09-01 00:00:00  2021-10-01 00:00:00  2021-11-01 00:00:00  \\\n",
       "0                     23.0                22.50                22.00   \n",
       "3                     10.0                 3.23                 3.25   \n",
       "\n",
       "Datas  2021-12-01 00:00:00  2022-01-01 00:00:00  ...  2022-09-01 00:00:00  \\\n",
       "0                    23.50                 23.0  ...                 23.0   \n",
       "3                     4.03                 10.0  ...                 10.0   \n",
       "\n",
       "Datas  2022-10-01 00:00:00  2022-11-01 00:00:00  2022-12-01 00:00:00  \\\n",
       "0                     22.5                 22.0                  0.0   \n",
       "3                     10.0                 10.0                 10.0   \n",
       "\n",
       "Datas  2023-01-01 00:00:00  2023-02-01 00:00:00  2023-03-01 00:00:00  \\\n",
       "0                      0.0                  0.0                  0.0   \n",
       "3                     10.0                 10.0                 10.0   \n",
       "\n",
       "Datas  2023-04-01 00:00:00  2023-05-01 00:00:00  Ordem  \n",
       "0                      0.0                  0.0      0  \n",
       "3                     10.0                 10.0      1  \n",
       "\n",
       "[2 rows x 27 columns]"
      ]
     },
     "execution_count": 94,
     "metadata": {},
     "output_type": "execute_result"
    }
   ],
   "source": [
    "# Tabela Normal\n",
    "dicionario_ordem_relatorio = _dict\n",
    "\n",
    "_df = _df.pivot_table(index=['Código Unidades','Relatórios de Análise de Capacidade'], columns='Datas', values='values')\n",
    "\n",
    "_df = _df.reset_index().sort_values(['Código Unidades', 'Relatórios de Análise de Capacidade'])\n",
    "\n",
    "_df['Ordem'] = _df['Relatórios de Análise de Capacidade']\n",
    "_df['Ordem']  = _df['Ordem'].map(dicionario_ordem_relatorio)\n",
    "# # _df['Ordem'] = _df['Relatórios de Análise de Capacidade'].str.split(pat=' ').str[0]\n",
    "# # _df['Ordem']  = _df['Ordem'].replace(dicionario_ordem_relatorio)\n",
    "\n",
    "\n",
    "_df = _df.sort_values(['Código Unidades', 'Ordem'])\n",
    "# #  _df.drop(columns='Ordem', inplace=True)\n",
    "\n",
    "_df.head(2)"
   ]
  },
  {
   "cell_type": "code",
   "execution_count": 95,
   "metadata": {},
   "outputs": [
    {
     "data": {
      "text/html": [
       "<div>\n",
       "<style scoped>\n",
       "    .dataframe tbody tr th:only-of-type {\n",
       "        vertical-align: middle;\n",
       "    }\n",
       "\n",
       "    .dataframe tbody tr th {\n",
       "        vertical-align: top;\n",
       "    }\n",
       "\n",
       "    .dataframe thead th {\n",
       "        text-align: right;\n",
       "    }\n",
       "</style>\n",
       "<table border=\"1\" class=\"dataframe\">\n",
       "  <thead>\n",
       "    <tr style=\"text-align: right;\">\n",
       "      <th></th>\n",
       "      <th>Relatórios de Análise de Capacidade</th>\n",
       "      <th>Código Unidades</th>\n",
       "      <th>Datas</th>\n",
       "      <th>values</th>\n",
       "    </tr>\n",
       "  </thead>\n",
       "  <tbody>\n",
       "    <tr>\n",
       "      <th>0</th>\n",
       "      <td>[A1] Dias Úteis</td>\n",
       "      <td>API</td>\n",
       "      <td>2021-06-01</td>\n",
       "      <td>23.000000</td>\n",
       "    </tr>\n",
       "    <tr>\n",
       "      <th>1</th>\n",
       "      <td>[A1] Dias Úteis</td>\n",
       "      <td>API</td>\n",
       "      <td>2021-07-01</td>\n",
       "      <td>24.500000</td>\n",
       "    </tr>\n",
       "    <tr>\n",
       "      <th>2</th>\n",
       "      <td>[A1] Dias Úteis</td>\n",
       "      <td>API</td>\n",
       "      <td>2021-08-01</td>\n",
       "      <td>24.000000</td>\n",
       "    </tr>\n",
       "    <tr>\n",
       "      <th>3</th>\n",
       "      <td>[A1] Dias Úteis</td>\n",
       "      <td>API</td>\n",
       "      <td>2021-09-01</td>\n",
       "      <td>23.000000</td>\n",
       "    </tr>\n",
       "    <tr>\n",
       "      <th>4</th>\n",
       "      <td>[A1] Dias Úteis</td>\n",
       "      <td>API</td>\n",
       "      <td>2021-10-01</td>\n",
       "      <td>22.500000</td>\n",
       "    </tr>\n",
       "    <tr>\n",
       "      <th>...</th>\n",
       "      <td>...</td>\n",
       "      <td>...</td>\n",
       "      <td>...</td>\n",
       "      <td>...</td>\n",
       "    </tr>\n",
       "    <tr>\n",
       "      <th>9835</th>\n",
       "      <td>[E3] Demanda irrestrita = C1</td>\n",
       "      <td>SPA</td>\n",
       "      <td>2023-01-01</td>\n",
       "      <td>53605.599116</td>\n",
       "    </tr>\n",
       "    <tr>\n",
       "      <th>9836</th>\n",
       "      <td>[E3] Demanda irrestrita = C1</td>\n",
       "      <td>SPA</td>\n",
       "      <td>2023-02-01</td>\n",
       "      <td>46132.299512</td>\n",
       "    </tr>\n",
       "    <tr>\n",
       "      <th>9837</th>\n",
       "      <td>[E3] Demanda irrestrita = C1</td>\n",
       "      <td>SPA</td>\n",
       "      <td>2023-03-01</td>\n",
       "      <td>59553.953942</td>\n",
       "    </tr>\n",
       "    <tr>\n",
       "      <th>9838</th>\n",
       "      <td>[E3] Demanda irrestrita = C1</td>\n",
       "      <td>SPA</td>\n",
       "      <td>2023-04-01</td>\n",
       "      <td>52896.214562</td>\n",
       "    </tr>\n",
       "    <tr>\n",
       "      <th>9839</th>\n",
       "      <td>[E3] Demanda irrestrita = C1</td>\n",
       "      <td>SPA</td>\n",
       "      <td>2023-05-01</td>\n",
       "      <td>60986.508322</td>\n",
       "    </tr>\n",
       "  </tbody>\n",
       "</table>\n",
       "<p>9840 rows × 4 columns</p>\n",
       "</div>"
      ],
      "text/plain": [
       "     Relatórios de Análise de Capacidade Código Unidades      Datas  \\\n",
       "0                        [A1] Dias Úteis             API 2021-06-01   \n",
       "1                        [A1] Dias Úteis             API 2021-07-01   \n",
       "2                        [A1] Dias Úteis             API 2021-08-01   \n",
       "3                        [A1] Dias Úteis             API 2021-09-01   \n",
       "4                        [A1] Dias Úteis             API 2021-10-01   \n",
       "...                                  ...             ...        ...   \n",
       "9835        [E3] Demanda irrestrita = C1             SPA 2023-01-01   \n",
       "9836        [E3] Demanda irrestrita = C1             SPA 2023-02-01   \n",
       "9837        [E3] Demanda irrestrita = C1             SPA 2023-03-01   \n",
       "9838        [E3] Demanda irrestrita = C1             SPA 2023-04-01   \n",
       "9839        [E3] Demanda irrestrita = C1             SPA 2023-05-01   \n",
       "\n",
       "            values  \n",
       "0        23.000000  \n",
       "1        24.500000  \n",
       "2        24.000000  \n",
       "3        23.000000  \n",
       "4        22.500000  \n",
       "...            ...  \n",
       "9835  53605.599116  \n",
       "9836  46132.299512  \n",
       "9837  59553.953942  \n",
       "9838  52896.214562  \n",
       "9839  60986.508322  \n",
       "\n",
       "[9840 rows x 4 columns]"
      ]
     },
     "execution_count": 95,
     "metadata": {},
     "output_type": "execute_result"
    }
   ],
   "source": [
    "# Tabela Dinâmica\n",
    "_df2"
   ]
  },
  {
   "cell_type": "markdown",
   "metadata": {},
   "source": [
    "#### Exemplos para criar parte do json do formulário"
   ]
  },
  {
   "cell_type": "code",
   "execution_count": 96,
   "metadata": {},
   "outputs": [],
   "source": [
    "# Columns para Armar Form\n",
    "_n = 1\n",
    "_cols1 = ['{\"type\":\"numeric\", \"field\":' + f'\"Period_{i:03d}\"'  for i in range(1, 145)]\n",
    "_cols2 = [\", \" + '\"style\":{\"color\":\"#000\", \"backgroundColor\": \"#FFF8E3\"}, ' + '\"format\":\"0.00\", ' + ' \"header\":' + f'\"S{j}\"' + ', \"readOnly\":false, ' + '\"columnLength\":5}'  for i in range(1, 25) for j in range( 1,7)] \n",
    "\n",
    "result = [_cols1[i] + _cols2[i] for i in range(len(_cols1))]\n",
    "result[0], len(result)\n",
    "result = [result[i].replace('\"',\"'\") for i in range(len(result))]\n",
    "# result[0]"
   ]
  },
  {
   "cell_type": "code",
   "execution_count": 97,
   "metadata": {},
   "outputs": [],
   "source": [
    "import json \n",
    "\n",
    "with open('json_data.json', 'w', encoding ='utf-8') as outfile:\n",
    "    json.dump(result, outfile, ensure_ascii=False, indent=4)\n",
    "    outfile.close()"
   ]
  },
  {
   "cell_type": "code",
   "execution_count": 98,
   "metadata": {},
   "outputs": [
    {
     "data": {
      "text/plain": [
       "['(1, 1)', '(2, 2)', '(3, 3)', '(4, 4)', '(5, 5)', '(6, 6)']"
      ]
     },
     "execution_count": 98,
     "metadata": {},
     "output_type": "execute_result"
    }
   ],
   "source": [
    "# Nested list comprehension tuple \n",
    "\n",
    "result = [f'{i,j}'for i, j in zip(range(1, 145), range(1, 7))]\n",
    "result"
   ]
  },
  {
   "cell_type": "code",
   "execution_count": 99,
   "metadata": {},
   "outputs": [
    {
     "data": {
      "text/plain": [
       "['(1, 1)', '(1, 2)']"
      ]
     },
     "execution_count": 99,
     "metadata": {},
     "output_type": "execute_result"
    }
   ],
   "source": [
    "# Nested list comprehension\n",
    "matrix = [ f'{i, j}' for i in range(1,145) for j in range(1,7)]\n",
    "matrix[0:2]"
   ]
  },
  {
   "cell_type": "code",
   "execution_count": 100,
   "metadata": {},
   "outputs": [],
   "source": [
    "idx_temporal = ['2021-06', '2021-07', '2021-08', '2021-09', '2021-10', '2021-11', '2021-12', '2022-01', '2022-02', '2022-03', '2022-04', '2022-05', '2022-06', '2022-07', '2022-08', '2022-09', '2022-10', '2022-11', '2022-12', '2023-01', '2023-02', '2023-03', '2023-04', '2023-05']"
   ]
  },
  {
   "cell_type": "code",
   "execution_count": 101,
   "metadata": {},
   "outputs": [
    {
     "name": "stderr",
     "output_type": "stream",
     "text": [
      "C:\\Users\\ALEXSA~1.IGN\\AppData\\Local\\Temp/ipykernel_6152/460194324.py:4: FutureWarning: Using short name for 'orient' is deprecated. Only the options: ('dict', list, 'series', 'split', 'records', 'index') will be used in a future version. Use one of the above to silence this warning.\n",
      "  _df.to_dict('record')\n"
     ]
    },
    {
     "data": {
      "text/html": [
       "<div>\n",
       "<style scoped>\n",
       "    .dataframe tbody tr th:only-of-type {\n",
       "        vertical-align: middle;\n",
       "    }\n",
       "\n",
       "    .dataframe tbody tr th {\n",
       "        vertical-align: top;\n",
       "    }\n",
       "\n",
       "    .dataframe thead th {\n",
       "        text-align: right;\n",
       "    }\n",
       "</style>\n",
       "<table border=\"1\" class=\"dataframe\">\n",
       "  <thead>\n",
       "    <tr style=\"text-align: right;\">\n",
       "      <th></th>\n",
       "      <th>label</th>\n",
       "      <th>colspan</th>\n",
       "    </tr>\n",
       "  </thead>\n",
       "  <tbody>\n",
       "    <tr>\n",
       "      <th>0</th>\n",
       "      <td>2021-06</td>\n",
       "      <td>6</td>\n",
       "    </tr>\n",
       "    <tr>\n",
       "      <th>1</th>\n",
       "      <td>2021-07</td>\n",
       "      <td>6</td>\n",
       "    </tr>\n",
       "    <tr>\n",
       "      <th>2</th>\n",
       "      <td>2021-08</td>\n",
       "      <td>6</td>\n",
       "    </tr>\n",
       "    <tr>\n",
       "      <th>3</th>\n",
       "      <td>2021-09</td>\n",
       "      <td>6</td>\n",
       "    </tr>\n",
       "    <tr>\n",
       "      <th>4</th>\n",
       "      <td>2021-10</td>\n",
       "      <td>6</td>\n",
       "    </tr>\n",
       "    <tr>\n",
       "      <th>5</th>\n",
       "      <td>2021-11</td>\n",
       "      <td>6</td>\n",
       "    </tr>\n",
       "    <tr>\n",
       "      <th>6</th>\n",
       "      <td>2021-12</td>\n",
       "      <td>6</td>\n",
       "    </tr>\n",
       "    <tr>\n",
       "      <th>7</th>\n",
       "      <td>2022-01</td>\n",
       "      <td>6</td>\n",
       "    </tr>\n",
       "    <tr>\n",
       "      <th>8</th>\n",
       "      <td>2022-02</td>\n",
       "      <td>6</td>\n",
       "    </tr>\n",
       "    <tr>\n",
       "      <th>9</th>\n",
       "      <td>2022-03</td>\n",
       "      <td>6</td>\n",
       "    </tr>\n",
       "    <tr>\n",
       "      <th>10</th>\n",
       "      <td>2022-04</td>\n",
       "      <td>6</td>\n",
       "    </tr>\n",
       "    <tr>\n",
       "      <th>11</th>\n",
       "      <td>2022-05</td>\n",
       "      <td>6</td>\n",
       "    </tr>\n",
       "    <tr>\n",
       "      <th>12</th>\n",
       "      <td>2022-06</td>\n",
       "      <td>6</td>\n",
       "    </tr>\n",
       "    <tr>\n",
       "      <th>13</th>\n",
       "      <td>2022-07</td>\n",
       "      <td>6</td>\n",
       "    </tr>\n",
       "    <tr>\n",
       "      <th>14</th>\n",
       "      <td>2022-08</td>\n",
       "      <td>6</td>\n",
       "    </tr>\n",
       "    <tr>\n",
       "      <th>15</th>\n",
       "      <td>2022-09</td>\n",
       "      <td>6</td>\n",
       "    </tr>\n",
       "    <tr>\n",
       "      <th>16</th>\n",
       "      <td>2022-10</td>\n",
       "      <td>6</td>\n",
       "    </tr>\n",
       "    <tr>\n",
       "      <th>17</th>\n",
       "      <td>2022-11</td>\n",
       "      <td>6</td>\n",
       "    </tr>\n",
       "    <tr>\n",
       "      <th>18</th>\n",
       "      <td>2022-12</td>\n",
       "      <td>6</td>\n",
       "    </tr>\n",
       "    <tr>\n",
       "      <th>19</th>\n",
       "      <td>2023-01</td>\n",
       "      <td>6</td>\n",
       "    </tr>\n",
       "    <tr>\n",
       "      <th>20</th>\n",
       "      <td>2023-02</td>\n",
       "      <td>6</td>\n",
       "    </tr>\n",
       "    <tr>\n",
       "      <th>21</th>\n",
       "      <td>2023-03</td>\n",
       "      <td>6</td>\n",
       "    </tr>\n",
       "    <tr>\n",
       "      <th>22</th>\n",
       "      <td>2023-04</td>\n",
       "      <td>6</td>\n",
       "    </tr>\n",
       "    <tr>\n",
       "      <th>23</th>\n",
       "      <td>2023-05</td>\n",
       "      <td>6</td>\n",
       "    </tr>\n",
       "  </tbody>\n",
       "</table>\n",
       "</div>"
      ],
      "text/plain": [
       "      label  colspan\n",
       "0   2021-06        6\n",
       "1   2021-07        6\n",
       "2   2021-08        6\n",
       "3   2021-09        6\n",
       "4   2021-10        6\n",
       "5   2021-11        6\n",
       "6   2021-12        6\n",
       "7   2022-01        6\n",
       "8   2022-02        6\n",
       "9   2022-03        6\n",
       "10  2022-04        6\n",
       "11  2022-05        6\n",
       "12  2022-06        6\n",
       "13  2022-07        6\n",
       "14  2022-08        6\n",
       "15  2022-09        6\n",
       "16  2022-10        6\n",
       "17  2022-11        6\n",
       "18  2022-12        6\n",
       "19  2023-01        6\n",
       "20  2023-02        6\n",
       "21  2023-03        6\n",
       "22  2023-04        6\n",
       "23  2023-05        6"
      ]
     },
     "execution_count": 101,
     "metadata": {},
     "output_type": "execute_result"
    }
   ],
   "source": [
    "# Nested columns receive new index.\n",
    "_df = pd.DataFrame({'label':idx_temporal})\n",
    "_df['colspan'] = 6\n",
    "_df.to_dict('record')\n",
    "_df"
   ]
  },
  {
   "cell_type": "code",
   "execution_count": 102,
   "metadata": {},
   "outputs": [
    {
     "name": "stderr",
     "output_type": "stream",
     "text": [
      "C:\\Users\\ALEXSA~1.IGN\\AppData\\Local\\Temp/ipykernel_6152/1003000312.py:6: SettingWithCopyWarning: \n",
      "A value is trying to be set on a copy of a slice from a DataFrame\n",
      "\n",
      "See the caveats in the documentation: https://pandas.pydata.org/pandas-docs/stable/user_guide/indexing.html#returning-a-view-versus-a-copy\n",
      "  _df['colspan'][0] = 3\n",
      "C:\\Users\\ALEXSA~1.IGN\\AppData\\Local\\Temp/ipykernel_6152/1003000312.py:7: FutureWarning: Using short name for 'orient' is deprecated. Only the options: ('dict', list, 'series', 'split', 'records', 'index') will be used in a future version. Use one of the above to silence this warning.\n",
      "  _df = _df.to_dict('record')\n"
     ]
    },
    {
     "data": {
      "text/plain": [
       "[{'label': 'Marcha Fornos', 'colspan': 3},\n",
       " {'label': '2021-06', 'colspan': 6},\n",
       " {'label': '2021-07', 'colspan': 6},\n",
       " {'label': '2021-08', 'colspan': 6},\n",
       " {'label': '2021-09', 'colspan': 6},\n",
       " {'label': '2021-10', 'colspan': 6},\n",
       " {'label': '2021-11', 'colspan': 6},\n",
       " {'label': '2021-12', 'colspan': 6},\n",
       " {'label': '2022-01', 'colspan': 6},\n",
       " {'label': '2022-02', 'colspan': 6},\n",
       " {'label': '2022-03', 'colspan': 6},\n",
       " {'label': '2022-04', 'colspan': 6},\n",
       " {'label': '2022-05', 'colspan': 6},\n",
       " {'label': '2022-06', 'colspan': 6},\n",
       " {'label': '2022-07', 'colspan': 6},\n",
       " {'label': '2022-08', 'colspan': 6},\n",
       " {'label': '2022-09', 'colspan': 6},\n",
       " {'label': '2022-10', 'colspan': 6},\n",
       " {'label': '2022-11', 'colspan': 6},\n",
       " {'label': '2022-12', 'colspan': 6},\n",
       " {'label': '2023-01', 'colspan': 6},\n",
       " {'label': '2023-02', 'colspan': 6},\n",
       " {'label': '2023-03', 'colspan': 6},\n",
       " {'label': '2023-04', 'colspan': 6},\n",
       " {'label': '2023-05', 'colspan': 6}]"
      ]
     },
     "execution_count": 102,
     "metadata": {},
     "output_type": "execute_result"
    }
   ],
   "source": [
    "# Nested columns receive new index.\n",
    "\n",
    "idx_temporal.insert(0, 'Marcha Fornos')\n",
    "_df = pd.DataFrame({'label':idx_temporal})\n",
    "_df['colspan'] = 6\n",
    "_df['colspan'][0] = 3\n",
    "_df = _df.to_dict('record')\n",
    "_df"
   ]
  },
  {
   "cell_type": "code",
   "execution_count": 103,
   "metadata": {},
   "outputs": [
    {
     "name": "stderr",
     "output_type": "stream",
     "text": [
      "C:\\Users\\ALEXSA~1.IGN\\AppData\\Local\\Temp/ipykernel_6152/4263571742.py:6: SettingWithCopyWarning: \n",
      "A value is trying to be set on a copy of a slice from a DataFrame\n",
      "\n",
      "See the caveats in the documentation: https://pandas.pydata.org/pandas-docs/stable/user_guide/indexing.html#returning-a-view-versus-a-copy\n",
      "  _df['colspan'][0] = 3\n",
      "C:\\Users\\ALEXSA~1.IGN\\AppData\\Local\\Temp/ipykernel_6152/4263571742.py:7: FutureWarning: Using short name for 'orient' is deprecated. Only the options: ('dict', list, 'series', 'split', 'records', 'index') will be used in a future version. Use one of the above to silence this warning.\n",
      "  _df = _df.to_dict('record')\n"
     ]
    },
    {
     "data": {
      "text/plain": [
       "[{'label': 'Marcha Moinhos', 'colspan': 3},\n",
       " {'label': 'Marcha Fornos', 'colspan': 6},\n",
       " {'label': '2021-06', 'colspan': 6},\n",
       " {'label': '2021-07', 'colspan': 6},\n",
       " {'label': '2021-08', 'colspan': 6},\n",
       " {'label': '2021-09', 'colspan': 6},\n",
       " {'label': '2021-10', 'colspan': 6},\n",
       " {'label': '2021-11', 'colspan': 6},\n",
       " {'label': '2021-12', 'colspan': 6},\n",
       " {'label': '2022-01', 'colspan': 6},\n",
       " {'label': '2022-02', 'colspan': 6},\n",
       " {'label': '2022-03', 'colspan': 6},\n",
       " {'label': '2022-04', 'colspan': 6},\n",
       " {'label': '2022-05', 'colspan': 6},\n",
       " {'label': '2022-06', 'colspan': 6},\n",
       " {'label': '2022-07', 'colspan': 6},\n",
       " {'label': '2022-08', 'colspan': 6},\n",
       " {'label': '2022-09', 'colspan': 6},\n",
       " {'label': '2022-10', 'colspan': 6},\n",
       " {'label': '2022-11', 'colspan': 6},\n",
       " {'label': '2022-12', 'colspan': 6},\n",
       " {'label': '2023-01', 'colspan': 6},\n",
       " {'label': '2023-02', 'colspan': 6},\n",
       " {'label': '2023-03', 'colspan': 6},\n",
       " {'label': '2023-04', 'colspan': 6},\n",
       " {'label': '2023-05', 'colspan': 6}]"
      ]
     },
     "execution_count": 103,
     "metadata": {},
     "output_type": "execute_result"
    }
   ],
   "source": [
    "# Nested columns receive new index.\n",
    "\n",
    "idx_temporal.insert(0, 'Marcha Moinhos')\n",
    "_df = pd.DataFrame({'label':idx_temporal})\n",
    "_df['colspan'] = 6\n",
    "_df['colspan'][0] = 3\n",
    "_df = _df.to_dict('record')\n",
    "_df"
   ]
  },
  {
   "cell_type": "markdown",
   "metadata": {},
   "source": [
    "#### For examples"
   ]
  },
  {
   "cell_type": "code",
   "execution_count": 136,
   "metadata": {},
   "outputs": [
    {
     "name": "stdout",
     "output_type": "stream",
     "text": [
      "Ímpares: 1\n",
      "Ímpares: 3\n",
      "Ímpares: 5\n",
      "Ímpares: 7\n",
      "Ímpares: 9\n",
      "Ímpares: 11\n",
      "Ímpares: 13\n",
      "Ímpares: 15\n",
      "Ímpares: 17\n",
      "Ímpares: 19\n",
      "Ímpares: 21\n",
      "Ímpares: 23\n",
      "Ímpares: 25\n",
      "Ímpares: 27\n",
      "Ímpares: 29\n",
      "Ímpares: 31\n",
      "Ímpares: 33\n",
      "Ímpares: 35\n",
      "Ímpares: 37\n",
      "Ímpares: 39\n",
      "Ímpares: 41\n",
      "Ímpares: 43\n",
      "Ímpares: 45\n",
      "Ímpares: 47\n",
      "Ímpares: 49\n"
     ]
    }
   ],
   "source": [
    "valores_pares = range(0,50,2)\n",
    "valores_impares = range(1,50,2)\n",
    "\n",
    "for valor in valores_impares:    \n",
    "    print(f\"Ímpares: {valor}\")"
   ]
  },
  {
   "cell_type": "code",
   "execution_count": 172,
   "metadata": {},
   "outputs": [
    {
     "name": "stdout",
     "output_type": "stream",
     "text": [
      "[38, 0, 46, 16, 14, 36, 22, 2, 48, 26, 20, 24, 42, 40, 10, 32, 4, 12, 30, 34, 6, 8, 18, 28, 44, 49, 13, 45, 35, 33, 3, 23, 37, 25, 15, 31, 41, 1, 5, 21, 19, 27, 29, 39, 7, 9, 43, 17, 11, 47]\n"
     ]
    },
    {
     "data": {
      "text/plain": [
       "['Ímpar: 41',\n",
       " 'Par: 30',\n",
       " 'Ímpar: 49',\n",
       " 'Ímpar: 15',\n",
       " 'Par: 8',\n",
       " 'Par: 4',\n",
       " 'Ímpar: 27',\n",
       " 'Par: 44',\n",
       " 'Par: 36',\n",
       " 'Ímpar: 11',\n",
       " 'Ímpar: 35',\n",
       " 'Ímpar: 9',\n",
       " 'Par: 14',\n",
       " 'Ímpar: 3',\n",
       " 'Ímpar: 37',\n",
       " 'Par: 12',\n",
       " 'Par: 34',\n",
       " 'Ímpar: 21',\n",
       " 'Ímpar: 7',\n",
       " 'Par: 40',\n",
       " 'Par: 26',\n",
       " 'Par: 46',\n",
       " 'Ímpar: 25',\n",
       " 'Par: 32',\n",
       " 'Par: 24',\n",
       " 'Par: 6',\n",
       " 'Ímpar: 19',\n",
       " 'Par: 10',\n",
       " 'Par: 16',\n",
       " 'Par: 18',\n",
       " 'Par: 48',\n",
       " 'Par: 28',\n",
       " 'Par: 42',\n",
       " 'Par: 0',\n",
       " 'Ímpar: 1',\n",
       " 'Par: 22',\n",
       " 'Ímpar: 43',\n",
       " 'Par: 38',\n",
       " 'Ímpar: 13',\n",
       " 'Ímpar: 31',\n",
       " 'Ímpar: 45',\n",
       " 'Ímpar: 17',\n",
       " 'Par: 2',\n",
       " 'Ímpar: 29',\n",
       " 'Ímpar: 39',\n",
       " 'Ímpar: 33',\n",
       " 'Par: 20',\n",
       " 'Ímpar: 23',\n",
       " 'Ímpar: 47',\n",
       " 'Ímpar: 5']"
      ]
     },
     "execution_count": 172,
     "metadata": {},
     "output_type": "execute_result"
    }
   ],
   "source": [
    "from random import sample\n",
    "from random import shuffle\n",
    "\n",
    "valores_pares = list(range(0,50,2))\n",
    "valores_impares = list(range(1,50,2))\n",
    "shuffle(valores_pares)\n",
    "shuffle(valores_impares)\n",
    "print(valores_pares + valores_impares)\n",
    "\n",
    "newlist = sample(valores_pares, len(valores_pares))\n",
    "valores = valores_pares + valores_impares\n",
    "shuffle(valores)\n",
    "valores\n",
    "\n",
    "[f\"{'Ímpar' if valor % 2 != 0  else 'Par'}: {valor}\" for valor in valores ]   "
   ]
  },
  {
   "cell_type": "code",
   "execution_count": 178,
   "metadata": {},
   "outputs": [
    {
     "data": {
      "text/html": [
       "<div>\n",
       "<style scoped>\n",
       "    .dataframe tbody tr th:only-of-type {\n",
       "        vertical-align: middle;\n",
       "    }\n",
       "\n",
       "    .dataframe tbody tr th {\n",
       "        vertical-align: top;\n",
       "    }\n",
       "\n",
       "    .dataframe thead th {\n",
       "        text-align: right;\n",
       "    }\n",
       "</style>\n",
       "<table border=\"1\" class=\"dataframe\">\n",
       "  <thead>\n",
       "    <tr style=\"text-align: right;\">\n",
       "      <th></th>\n",
       "      <th>Coluna1</th>\n",
       "      <th>Coluna2</th>\n",
       "      <th>Coluna3</th>\n",
       "      <th>vol_dia</th>\n",
       "    </tr>\n",
       "  </thead>\n",
       "  <tbody>\n",
       "    <tr>\n",
       "      <th>0</th>\n",
       "      <td>Regional 1</td>\n",
       "      <td>Região Leste</td>\n",
       "      <td>Atacado</td>\n",
       "      <td>10000</td>\n",
       "    </tr>\n",
       "    <tr>\n",
       "      <th>1</th>\n",
       "      <td>Regional 2</td>\n",
       "      <td>Região Norte</td>\n",
       "      <td>Atacado</td>\n",
       "      <td>500</td>\n",
       "    </tr>\n",
       "    <tr>\n",
       "      <th>2</th>\n",
       "      <td></td>\n",
       "      <td></td>\n",
       "      <td></td>\n",
       "      <td>562</td>\n",
       "    </tr>\n",
       "  </tbody>\n",
       "</table>\n",
       "</div>"
      ],
      "text/plain": [
       "      Coluna1       Coluna2  Coluna3  vol_dia\n",
       "0  Regional 1  Região Leste  Atacado    10000\n",
       "1  Regional 2  Região Norte  Atacado      500\n",
       "2                                         562"
      ]
     },
     "execution_count": 178,
     "metadata": {},
     "output_type": "execute_result"
    }
   ],
   "source": [
    "data  = {'Coluna1':['Regional 1', 'Regional 2', ''],  'Coluna2':['Região Leste', 'Região Norte', ''], 'Coluna3':['Atacado', 'Atacado', ''], 'vol_dia':[10000, 500, 562]}\n",
    "_df = pd.DataFrame(data)\n",
    "_df"
   ]
  },
  {
   "cell_type": "code",
   "execution_count": 180,
   "metadata": {},
   "outputs": [
    {
     "data": {
      "text/html": [
       "<div>\n",
       "<style scoped>\n",
       "    .dataframe tbody tr th:only-of-type {\n",
       "        vertical-align: middle;\n",
       "    }\n",
       "\n",
       "    .dataframe tbody tr th {\n",
       "        vertical-align: top;\n",
       "    }\n",
       "\n",
       "    .dataframe thead th {\n",
       "        text-align: right;\n",
       "    }\n",
       "</style>\n",
       "<table border=\"1\" class=\"dataframe\">\n",
       "  <thead>\n",
       "    <tr style=\"text-align: right;\">\n",
       "      <th></th>\n",
       "      <th>Coluna1</th>\n",
       "      <th>Coluna2</th>\n",
       "      <th>Coluna3</th>\n",
       "      <th>vol_dia</th>\n",
       "      <th>Região</th>\n",
       "      <th>Código Região</th>\n",
       "    </tr>\n",
       "  </thead>\n",
       "  <tbody>\n",
       "    <tr>\n",
       "      <th>0</th>\n",
       "      <td>Regional 1</td>\n",
       "      <td>Região Leste</td>\n",
       "      <td>Atacado</td>\n",
       "      <td>10000</td>\n",
       "      <td>Regional</td>\n",
       "      <td>1</td>\n",
       "    </tr>\n",
       "    <tr>\n",
       "      <th>1</th>\n",
       "      <td>Regional 2</td>\n",
       "      <td>Região Norte</td>\n",
       "      <td>Atacado</td>\n",
       "      <td>500</td>\n",
       "      <td>Regional</td>\n",
       "      <td>2</td>\n",
       "    </tr>\n",
       "    <tr>\n",
       "      <th>2</th>\n",
       "      <td></td>\n",
       "      <td></td>\n",
       "      <td></td>\n",
       "      <td>562</td>\n",
       "      <td></td>\n",
       "      <td>None</td>\n",
       "    </tr>\n",
       "  </tbody>\n",
       "</table>\n",
       "</div>"
      ],
      "text/plain": [
       "      Coluna1       Coluna2  Coluna3  vol_dia    Região Código Região\n",
       "0  Regional 1  Região Leste  Atacado    10000  Regional             1\n",
       "1  Regional 2  Região Norte  Atacado      500  Regional             2\n",
       "2                                         562                    None"
      ]
     },
     "execution_count": 180,
     "metadata": {},
     "output_type": "execute_result"
    }
   ],
   "source": [
    "new_columns = ['Região', 'Código Região']\n",
    "for i in range(len(new_columns)):\n",
    "    _df[new_columns[i]] = _df['Coluna1'].str.split(' ', expand=True)[i] \n",
    "    \n",
    "_df"
   ]
  },
  {
   "cell_type": "markdown",
   "metadata": {},
   "source": [
    "#### OS Comands"
   ]
  },
  {
   "cell_type": "code",
   "execution_count": 188,
   "metadata": {},
   "outputs": [
    {
     "data": {
      "text/plain": [
       "'c:\\\\Users\\\\alexsandro.ignacio\\\\OneDrive - WCA Soluções de Inteligência Comercial\\\\Documentos\\\\Docs\\\\Git\\\\python_developer\\\\Planejamento - Lógicas'"
      ]
     },
     "execution_count": 188,
     "metadata": {},
     "output_type": "execute_result"
    }
   ],
   "source": [
    "# pega o caminho atual do root até o diretório atual.\n",
    "current_path = os.getcwd()\n",
    "current_path"
   ]
  },
  {
   "cell_type": "code",
   "execution_count": 186,
   "metadata": {},
   "outputs": [
    {
     "data": {
      "text/plain": [
       "['criando_pkl.ipynb',\n",
       " 'Data Base',\n",
       " 'export_files.ipynb',\n",
       " 'Json Examples by Project',\n",
       " 'json_data.json',\n",
       " 'json_teste.py',\n",
       " 'logicas_pyplan.ipynb',\n",
       " 'pp_functions.ipynb',\n",
       " 'Xarray']"
      ]
     },
     "execution_count": 186,
     "metadata": {},
     "output_type": "execute_result"
    }
   ],
   "source": [
    "# Lista os files no diretório atual\n",
    "os.listdir(current_path)"
   ]
  },
  {
   "cell_type": "code",
   "execution_count": 187,
   "metadata": {},
   "outputs": [
    {
     "data": {
      "text/plain": [
       "'c:\\\\Users\\\\alexsandro.ignacio\\\\OneDrive - WCA Soluções de Inteligência Comercial\\\\Documentos\\\\Docs\\\\Git\\\\python_developer\\\\Planejamento - Lógicas\\\\Data Base\\\\Analise_de_Capacidade_base _ 2022-02-25-12-16-27.csv'"
      ]
     },
     "execution_count": 187,
     "metadata": {},
     "output_type": "execute_result"
    }
   ],
   "source": [
    "_directory_name = 'Data Base'\n",
    "_file_name = 'Analise_de_Capacidade_base _ 2022-02-25-12-16-27.csv'\n",
    "\n",
    "# Concatena um path + diretório e file.\n",
    "target_path = os.path.join(current_path, _directory_name, _file_name)\n",
    "target_path"
   ]
  }
 ],
 "metadata": {
  "interpreter": {
   "hash": "37d5714b4ea6c666124e5e9f794c33113a02017c263bbdd899fa45355d80942a"
  },
  "kernelspec": {
   "display_name": "Python 3.9.6 64-bit",
   "language": "python",
   "name": "python3"
  },
  "language_info": {
   "codemirror_mode": {
    "name": "ipython",
    "version": 3
   },
   "file_extension": ".py",
   "mimetype": "text/x-python",
   "name": "python",
   "nbconvert_exporter": "python",
   "pygments_lexer": "ipython3",
   "version": "3.9.6"
  },
  "orig_nbformat": 4
 },
 "nbformat": 4,
 "nbformat_minor": 2
}
