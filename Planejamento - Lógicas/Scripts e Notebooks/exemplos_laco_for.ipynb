{
 "cells": [
  {
   "cell_type": "code",
   "execution_count": 1,
   "metadata": {},
   "outputs": [
    {
     "name": "stdout",
     "output_type": "stream",
     "text": [
      "['2022-07|max', '2022-07|med', '2022-07|min', '2022-08|max', '2022-08|med', '2022-08|min']\n"
     ]
    }
   ],
   "source": [
    "list_date = ['2022-07', '2022-08']\n",
    "list_cob = ['max', 'med', 'min']\n",
    "\n",
    "tam_date = len(list_date)\n",
    "tam_cob = len(list_cob)\n",
    "\n",
    "print( [ list_date[i] + '|' + list_cob[j] for i in range(0 , tam_date) for j in range(0 , tam_cob) ])"
   ]
  }
 ],
 "metadata": {
  "kernelspec": {
   "display_name": "Python 3.9.6 64-bit",
   "language": "python",
   "name": "python3"
  },
  "language_info": {
   "codemirror_mode": {
    "name": "ipython",
    "version": 3
   },
   "file_extension": ".py",
   "mimetype": "text/x-python",
   "name": "python",
   "nbconvert_exporter": "python",
   "pygments_lexer": "ipython3",
   "version": "3.9.6"
  },
  "orig_nbformat": 4,
  "vscode": {
   "interpreter": {
    "hash": "75b64ca35833826d255b5110be976b8b491e59919d991eceebad02336ca41c97"
   }
  }
 },
 "nbformat": 4,
 "nbformat_minor": 2
}
