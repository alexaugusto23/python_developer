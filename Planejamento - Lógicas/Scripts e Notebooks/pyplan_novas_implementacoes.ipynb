{
 "cells": [
  {
   "cell_type": "markdown",
   "metadata": {},
   "source": [
    "## New Implementations\n"
   ]
  },
  {
   "cell_type": "markdown",
   "metadata": {},
   "source": [
    "* Imports"
   ]
  },
  {
   "cell_type": "code",
   "execution_count": 1,
   "metadata": {},
   "outputs": [],
   "source": [
    "import pandas as pd\n",
    "import numpy as np"
   ]
  },
  {
   "cell_type": "markdown",
   "metadata": {},
   "source": [
    "* Calendar"
   ]
  },
  {
   "cell_type": "code",
   "execution_count": 2,
   "metadata": {},
   "outputs": [
    {
     "data": {
      "text/html": [
       "<style type=\"text/css\">\n",
       "#T_89899_row0_col0, #T_89899_row0_col1, #T_89899_row0_col2, #T_89899_row0_col3, #T_89899_row0_col4, #T_89899_row0_col5, #T_89899_row0_col6, #T_89899_row1_col0, #T_89899_row1_col1, #T_89899_row1_col2, #T_89899_row1_col3, #T_89899_row1_col4, #T_89899_row1_col5, #T_89899_row1_col6, #T_89899_row2_col0, #T_89899_row2_col1, #T_89899_row2_col2, #T_89899_row2_col3, #T_89899_row2_col4, #T_89899_row2_col5, #T_89899_row2_col6, #T_89899_row3_col0, #T_89899_row3_col1, #T_89899_row3_col2, #T_89899_row3_col3, #T_89899_row3_col4, #T_89899_row3_col5, #T_89899_row3_col6, #T_89899_row4_col0, #T_89899_row4_col1, #T_89899_row4_col2, #T_89899_row4_col3, #T_89899_row4_col4, #T_89899_row4_col5, #T_89899_row4_col6 {\n",
       "  color: black;\n",
       "  align: center;\n",
       "  fontsize: 8px;\n",
       "  font-family: Arial;\n",
       "  padding: 7px;\n",
       "  margin: 7px;\n",
       "}\n",
       "</style>\n",
       "<table id=\"T_89899_\">\n",
       "  <thead>\n",
       "    <tr>\n",
       "      <th class=\"index_name level0\" ></th>\n",
       "      <th class=\"col_heading level0 col0\" >Seg</th>\n",
       "      <th class=\"col_heading level0 col1\" >Ter</th>\n",
       "      <th class=\"col_heading level0 col2\" >Qua</th>\n",
       "      <th class=\"col_heading level0 col3\" >Qui</th>\n",
       "      <th class=\"col_heading level0 col4\" >Sex</th>\n",
       "      <th class=\"col_heading level0 col5\" >Sab</th>\n",
       "      <th class=\"col_heading level0 col6\" >Dom</th>\n",
       "    </tr>\n",
       "  </thead>\n",
       "  <tbody>\n",
       "    <tr>\n",
       "      <th id=\"T_89899_level0_row0\" class=\"row_heading level0 row0\" >Sem 01</th>\n",
       "      <td id=\"T_89899_row0_col0\" class=\"data row0 col0\" ></td>\n",
       "      <td id=\"T_89899_row0_col1\" class=\"data row0 col1\" ></td>\n",
       "      <td id=\"T_89899_row0_col2\" class=\"data row0 col2\" ></td>\n",
       "      <td id=\"T_89899_row0_col3\" class=\"data row0 col3\" ></td>\n",
       "      <td id=\"T_89899_row0_col4\" class=\"data row0 col4\" >1</td>\n",
       "      <td id=\"T_89899_row0_col5\" class=\"data row0 col5\" >2</td>\n",
       "      <td id=\"T_89899_row0_col6\" class=\"data row0 col6\" >3</td>\n",
       "    </tr>\n",
       "    <tr>\n",
       "      <th id=\"T_89899_level0_row1\" class=\"row_heading level0 row1\" >Sem 02</th>\n",
       "      <td id=\"T_89899_row1_col0\" class=\"data row1 col0\" >4</td>\n",
       "      <td id=\"T_89899_row1_col1\" class=\"data row1 col1\" >5</td>\n",
       "      <td id=\"T_89899_row1_col2\" class=\"data row1 col2\" >6</td>\n",
       "      <td id=\"T_89899_row1_col3\" class=\"data row1 col3\" >7</td>\n",
       "      <td id=\"T_89899_row1_col4\" class=\"data row1 col4\" >8</td>\n",
       "      <td id=\"T_89899_row1_col5\" class=\"data row1 col5\" >9</td>\n",
       "      <td id=\"T_89899_row1_col6\" class=\"data row1 col6\" >10</td>\n",
       "    </tr>\n",
       "    <tr>\n",
       "      <th id=\"T_89899_level0_row2\" class=\"row_heading level0 row2\" >Sem 03</th>\n",
       "      <td id=\"T_89899_row2_col0\" class=\"data row2 col0\" >11</td>\n",
       "      <td id=\"T_89899_row2_col1\" class=\"data row2 col1\" >12</td>\n",
       "      <td id=\"T_89899_row2_col2\" class=\"data row2 col2\" >13</td>\n",
       "      <td id=\"T_89899_row2_col3\" class=\"data row2 col3\" >14</td>\n",
       "      <td id=\"T_89899_row2_col4\" class=\"data row2 col4\" >15</td>\n",
       "      <td id=\"T_89899_row2_col5\" class=\"data row2 col5\" >16</td>\n",
       "      <td id=\"T_89899_row2_col6\" class=\"data row2 col6\" >17</td>\n",
       "    </tr>\n",
       "    <tr>\n",
       "      <th id=\"T_89899_level0_row3\" class=\"row_heading level0 row3\" >Sem 04</th>\n",
       "      <td id=\"T_89899_row3_col0\" class=\"data row3 col0\" >18</td>\n",
       "      <td id=\"T_89899_row3_col1\" class=\"data row3 col1\" >19</td>\n",
       "      <td id=\"T_89899_row3_col2\" class=\"data row3 col2\" >20</td>\n",
       "      <td id=\"T_89899_row3_col3\" class=\"data row3 col3\" >21</td>\n",
       "      <td id=\"T_89899_row3_col4\" class=\"data row3 col4\" >22</td>\n",
       "      <td id=\"T_89899_row3_col5\" class=\"data row3 col5\" >23</td>\n",
       "      <td id=\"T_89899_row3_col6\" class=\"data row3 col6\" >24</td>\n",
       "    </tr>\n",
       "    <tr>\n",
       "      <th id=\"T_89899_level0_row4\" class=\"row_heading level0 row4\" >Sem 05</th>\n",
       "      <td id=\"T_89899_row4_col0\" class=\"data row4 col0\" >25</td>\n",
       "      <td id=\"T_89899_row4_col1\" class=\"data row4 col1\" >26</td>\n",
       "      <td id=\"T_89899_row4_col2\" class=\"data row4 col2\" >27</td>\n",
       "      <td id=\"T_89899_row4_col3\" class=\"data row4 col3\" >28</td>\n",
       "      <td id=\"T_89899_row4_col4\" class=\"data row4 col4\" >29</td>\n",
       "      <td id=\"T_89899_row4_col5\" class=\"data row4 col5\" >30</td>\n",
       "      <td id=\"T_89899_row4_col6\" class=\"data row4 col6\" >31</td>\n",
       "    </tr>\n",
       "  </tbody>\n",
       "</table>\n"
      ],
      "text/plain": [
       "<pandas.io.formats.style.Styler at 0x22a9f75e0a0>"
      ]
     },
     "execution_count": 2,
     "metadata": {},
     "output_type": "execute_result"
    }
   ],
   "source": [
    "import calendar\n",
    "\n",
    "input_ano_calendario = '2022'\n",
    "input_mes_calendrio = '07'\n",
    "\n",
    "_data_cal = [['Seg', 'Ter', 'Qua', 'Qui', 'Sex', 'Sab', 'Dom']]\n",
    "_data_cal.extend(calendar.monthcalendar(int(input_ano_calendario),int(input_mes_calendrio)))\n",
    "\n",
    "_cal = pd.DataFrame(_data_cal)\n",
    "_cal.columns = _cal.loc[0]\n",
    "_cal = _cal.drop([0])\n",
    "_cal.index.name = ''\n",
    "_cal.columns.name = ''\n",
    "_cal = _cal.replace(0,'')\n",
    "_cal.index = [f\"Sem {i:02d}\" for i in range(1,6)]\n",
    "\n",
    "_params = { 'color': 'black',\n",
    "            'align':'center',\n",
    "            'fontsize': '8px', \n",
    "            'font-family':'Arial', \n",
    "            'padding':'7px', \n",
    "            'margin': '7px'\n",
    "    \n",
    "}\n",
    "\n",
    "_cal = _cal.style.set_properties(**_params)\n",
    "\n",
    "result =  _cal\n",
    "result"
   ]
  },
  {
   "cell_type": "markdown",
   "metadata": {},
   "source": [
    "* Painel Descritivo"
   ]
  },
  {
   "cell_type": "code",
   "execution_count": 3,
   "metadata": {},
   "outputs": [
    {
     "ename": "AttributeError",
     "evalue": "'list' object has no attribute 'split'",
     "output_type": "error",
     "traceback": [
      "\u001b[1;31m---------------------------------------------------------------------------\u001b[0m",
      "\u001b[1;31mAttributeError\u001b[0m                            Traceback (most recent call last)",
      "\u001b[1;32mc:\\Users\\alexsandro.ignacio\\AppData\\Local\\Programs\\Python\\Python39\\lib\\site-packages\\IPython\\core\\formatters.py\u001b[0m in \u001b[0;36m__call__\u001b[1;34m(self, obj)\u001b[0m\n\u001b[0;32m    343\u001b[0m             \u001b[0mmethod\u001b[0m \u001b[1;33m=\u001b[0m \u001b[0mget_real_method\u001b[0m\u001b[1;33m(\u001b[0m\u001b[0mobj\u001b[0m\u001b[1;33m,\u001b[0m \u001b[0mself\u001b[0m\u001b[1;33m.\u001b[0m\u001b[0mprint_method\u001b[0m\u001b[1;33m)\u001b[0m\u001b[1;33m\u001b[0m\u001b[1;33m\u001b[0m\u001b[0m\n\u001b[0;32m    344\u001b[0m             \u001b[1;32mif\u001b[0m \u001b[0mmethod\u001b[0m \u001b[1;32mis\u001b[0m \u001b[1;32mnot\u001b[0m \u001b[1;32mNone\u001b[0m\u001b[1;33m:\u001b[0m\u001b[1;33m\u001b[0m\u001b[1;33m\u001b[0m\u001b[0m\n\u001b[1;32m--> 345\u001b[1;33m                 \u001b[1;32mreturn\u001b[0m \u001b[0mmethod\u001b[0m\u001b[1;33m(\u001b[0m\u001b[1;33m)\u001b[0m\u001b[1;33m\u001b[0m\u001b[1;33m\u001b[0m\u001b[0m\n\u001b[0m\u001b[0;32m    346\u001b[0m             \u001b[1;32mreturn\u001b[0m \u001b[1;32mNone\u001b[0m\u001b[1;33m\u001b[0m\u001b[1;33m\u001b[0m\u001b[0m\n\u001b[0;32m    347\u001b[0m         \u001b[1;32melse\u001b[0m\u001b[1;33m:\u001b[0m\u001b[1;33m\u001b[0m\u001b[1;33m\u001b[0m\u001b[0m\n",
      "\u001b[1;32mc:\\Users\\alexsandro.ignacio\\AppData\\Local\\Programs\\Python\\Python39\\lib\\site-packages\\pandas\\io\\formats\\style.py\u001b[0m in \u001b[0;36m_repr_html_\u001b[1;34m(self)\u001b[0m\n\u001b[0;32m    214\u001b[0m         \u001b[0mHooks\u001b[0m \u001b[0minto\u001b[0m \u001b[0mJupyter\u001b[0m \u001b[0mnotebook\u001b[0m \u001b[0mrich\u001b[0m \u001b[0mdisplay\u001b[0m \u001b[0msystem\u001b[0m\u001b[1;33m.\u001b[0m\u001b[1;33m\u001b[0m\u001b[1;33m\u001b[0m\u001b[0m\n\u001b[0;32m    215\u001b[0m         \"\"\"\n\u001b[1;32m--> 216\u001b[1;33m         \u001b[1;32mreturn\u001b[0m \u001b[0mself\u001b[0m\u001b[1;33m.\u001b[0m\u001b[0mrender\u001b[0m\u001b[1;33m(\u001b[0m\u001b[1;33m)\u001b[0m\u001b[1;33m\u001b[0m\u001b[1;33m\u001b[0m\u001b[0m\n\u001b[0m\u001b[0;32m    217\u001b[0m \u001b[1;33m\u001b[0m\u001b[0m\n\u001b[0;32m    218\u001b[0m     def render(\n",
      "\u001b[1;32mc:\\Users\\alexsandro.ignacio\\AppData\\Local\\Programs\\Python\\Python39\\lib\\site-packages\\pandas\\io\\formats\\style.py\u001b[0m in \u001b[0;36mrender\u001b[1;34m(self, sparse_index, sparse_columns, **kwargs)\u001b[0m\n\u001b[0;32m    270\u001b[0m         \u001b[1;32mif\u001b[0m \u001b[0msparse_columns\u001b[0m \u001b[1;32mis\u001b[0m \u001b[1;32mNone\u001b[0m\u001b[1;33m:\u001b[0m\u001b[1;33m\u001b[0m\u001b[1;33m\u001b[0m\u001b[0m\n\u001b[0;32m    271\u001b[0m             \u001b[0msparse_columns\u001b[0m \u001b[1;33m=\u001b[0m \u001b[0mget_option\u001b[0m\u001b[1;33m(\u001b[0m\u001b[1;34m\"styler.sparse.columns\"\u001b[0m\u001b[1;33m)\u001b[0m\u001b[1;33m\u001b[0m\u001b[1;33m\u001b[0m\u001b[0m\n\u001b[1;32m--> 272\u001b[1;33m         \u001b[1;32mreturn\u001b[0m \u001b[0mself\u001b[0m\u001b[1;33m.\u001b[0m\u001b[0m_render_html\u001b[0m\u001b[1;33m(\u001b[0m\u001b[0msparse_index\u001b[0m\u001b[1;33m,\u001b[0m \u001b[0msparse_columns\u001b[0m\u001b[1;33m,\u001b[0m \u001b[1;33m**\u001b[0m\u001b[0mkwargs\u001b[0m\u001b[1;33m)\u001b[0m\u001b[1;33m\u001b[0m\u001b[1;33m\u001b[0m\u001b[0m\n\u001b[0m\u001b[0;32m    273\u001b[0m \u001b[1;33m\u001b[0m\u001b[0m\n\u001b[0;32m    274\u001b[0m     def set_tooltips(\n",
      "\u001b[1;32mc:\\Users\\alexsandro.ignacio\\AppData\\Local\\Programs\\Python\\Python39\\lib\\site-packages\\pandas\\io\\formats\\style_render.py\u001b[0m in \u001b[0;36m_render_html\u001b[1;34m(self, sparse_index, sparse_columns, **kwargs)\u001b[0m\n\u001b[0;32m    121\u001b[0m         \u001b[0mself\u001b[0m\u001b[1;33m.\u001b[0m\u001b[0m_compute\u001b[0m\u001b[1;33m(\u001b[0m\u001b[1;33m)\u001b[0m\u001b[1;33m\u001b[0m\u001b[1;33m\u001b[0m\u001b[0m\n\u001b[0;32m    122\u001b[0m         \u001b[1;31m# TODO: namespace all the pandas keys\u001b[0m\u001b[1;33m\u001b[0m\u001b[1;33m\u001b[0m\u001b[1;33m\u001b[0m\u001b[0m\n\u001b[1;32m--> 123\u001b[1;33m         \u001b[0md\u001b[0m \u001b[1;33m=\u001b[0m \u001b[0mself\u001b[0m\u001b[1;33m.\u001b[0m\u001b[0m_translate\u001b[0m\u001b[1;33m(\u001b[0m\u001b[0msparse_index\u001b[0m\u001b[1;33m,\u001b[0m \u001b[0msparse_columns\u001b[0m\u001b[1;33m)\u001b[0m\u001b[1;33m\u001b[0m\u001b[1;33m\u001b[0m\u001b[0m\n\u001b[0m\u001b[0;32m    124\u001b[0m         \u001b[0md\u001b[0m\u001b[1;33m.\u001b[0m\u001b[0mupdate\u001b[0m\u001b[1;33m(\u001b[0m\u001b[0mkwargs\u001b[0m\u001b[1;33m)\u001b[0m\u001b[1;33m\u001b[0m\u001b[1;33m\u001b[0m\u001b[0m\n\u001b[0;32m    125\u001b[0m         return self.template_html.render(\n",
      "\u001b[1;32mc:\\Users\\alexsandro.ignacio\\AppData\\Local\\Programs\\Python\\Python39\\lib\\site-packages\\pandas\\io\\formats\\style_render.py\u001b[0m in \u001b[0;36m_translate\u001b[1;34m(self, sparse_index, sparse_cols, blank)\u001b[0m\n\u001b[0;32m    196\u001b[0m         d = {\n\u001b[0;32m    197\u001b[0m             \u001b[1;34m\"uuid\"\u001b[0m\u001b[1;33m:\u001b[0m \u001b[0mself\u001b[0m\u001b[1;33m.\u001b[0m\u001b[0muuid\u001b[0m\u001b[1;33m,\u001b[0m\u001b[1;33m\u001b[0m\u001b[1;33m\u001b[0m\u001b[0m\n\u001b[1;32m--> 198\u001b[1;33m             \u001b[1;34m\"table_styles\"\u001b[0m\u001b[1;33m:\u001b[0m \u001b[0m_format_table_styles\u001b[0m\u001b[1;33m(\u001b[0m\u001b[0mself\u001b[0m\u001b[1;33m.\u001b[0m\u001b[0mtable_styles\u001b[0m \u001b[1;32mor\u001b[0m \u001b[1;33m[\u001b[0m\u001b[1;33m]\u001b[0m\u001b[1;33m)\u001b[0m\u001b[1;33m,\u001b[0m\u001b[1;33m\u001b[0m\u001b[1;33m\u001b[0m\u001b[0m\n\u001b[0m\u001b[0;32m    199\u001b[0m             \u001b[1;34m\"caption\"\u001b[0m\u001b[1;33m:\u001b[0m \u001b[0mself\u001b[0m\u001b[1;33m.\u001b[0m\u001b[0mcaption\u001b[0m\u001b[1;33m,\u001b[0m\u001b[1;33m\u001b[0m\u001b[1;33m\u001b[0m\u001b[0m\n\u001b[0;32m    200\u001b[0m         }\n",
      "\u001b[1;32mc:\\Users\\alexsandro.ignacio\\AppData\\Local\\Programs\\Python\\Python39\\lib\\site-packages\\pandas\\io\\formats\\style_render.py\u001b[0m in \u001b[0;36m_format_table_styles\u001b[1;34m(styles)\u001b[0m\n\u001b[0;32m    885\u001b[0m               {'selector': 'th', 'props': 'a:v;'}]\n\u001b[0;32m    886\u001b[0m     \"\"\"\n\u001b[1;32m--> 887\u001b[1;33m     return [\n\u001b[0m\u001b[0;32m    888\u001b[0m         \u001b[1;33m{\u001b[0m\u001b[1;34m\"selector\"\u001b[0m\u001b[1;33m:\u001b[0m \u001b[0mselector\u001b[0m\u001b[1;33m,\u001b[0m \u001b[1;34m\"props\"\u001b[0m\u001b[1;33m:\u001b[0m \u001b[0mcss_dict\u001b[0m\u001b[1;33m[\u001b[0m\u001b[1;34m\"props\"\u001b[0m\u001b[1;33m]\u001b[0m\u001b[1;33m}\u001b[0m\u001b[1;33m\u001b[0m\u001b[1;33m\u001b[0m\u001b[0m\n\u001b[0;32m    889\u001b[0m         \u001b[1;32mfor\u001b[0m \u001b[0mcss_dict\u001b[0m \u001b[1;32min\u001b[0m \u001b[0mstyles\u001b[0m\u001b[1;33m\u001b[0m\u001b[1;33m\u001b[0m\u001b[0m\n",
      "\u001b[1;32mc:\\Users\\alexsandro.ignacio\\AppData\\Local\\Programs\\Python\\Python39\\lib\\site-packages\\pandas\\io\\formats\\style_render.py\u001b[0m in \u001b[0;36m<listcomp>\u001b[1;34m(.0)\u001b[0m\n\u001b[0;32m    888\u001b[0m         \u001b[1;33m{\u001b[0m\u001b[1;34m\"selector\"\u001b[0m\u001b[1;33m:\u001b[0m \u001b[0mselector\u001b[0m\u001b[1;33m,\u001b[0m \u001b[1;34m\"props\"\u001b[0m\u001b[1;33m:\u001b[0m \u001b[0mcss_dict\u001b[0m\u001b[1;33m[\u001b[0m\u001b[1;34m\"props\"\u001b[0m\u001b[1;33m]\u001b[0m\u001b[1;33m}\u001b[0m\u001b[1;33m\u001b[0m\u001b[1;33m\u001b[0m\u001b[0m\n\u001b[0;32m    889\u001b[0m         \u001b[1;32mfor\u001b[0m \u001b[0mcss_dict\u001b[0m \u001b[1;32min\u001b[0m \u001b[0mstyles\u001b[0m\u001b[1;33m\u001b[0m\u001b[1;33m\u001b[0m\u001b[0m\n\u001b[1;32m--> 890\u001b[1;33m         \u001b[1;32mfor\u001b[0m \u001b[0mselector\u001b[0m \u001b[1;32min\u001b[0m \u001b[0mcss_dict\u001b[0m\u001b[1;33m[\u001b[0m\u001b[1;34m\"selector\"\u001b[0m\u001b[1;33m]\u001b[0m\u001b[1;33m.\u001b[0m\u001b[0msplit\u001b[0m\u001b[1;33m(\u001b[0m\u001b[1;34m\",\"\u001b[0m\u001b[1;33m)\u001b[0m\u001b[1;33m\u001b[0m\u001b[1;33m\u001b[0m\u001b[0m\n\u001b[0m\u001b[0;32m    891\u001b[0m     ]\n\u001b[0;32m    892\u001b[0m \u001b[1;33m\u001b[0m\u001b[0m\n",
      "\u001b[1;31mAttributeError\u001b[0m: 'list' object has no attribute 'split'"
     ]
    },
    {
     "data": {
      "text/plain": [
       "<pandas.io.formats.style.Styler at 0x22ae4dd3820>"
      ]
     },
     "execution_count": 3,
     "metadata": {},
     "output_type": "execute_result"
    }
   ],
   "source": [
    "# Dataframe\n",
    "\n",
    "_columns = ['Valor', \n",
    "            'Nomenclatura']\n",
    "\n",
    "_values = [\n",
    "           [1,0], \n",
    "           ['Com Contrato de Energia', 'Sem Contrato de Energia']]\n",
    "\n",
    "_len = len(_columns) \n",
    "_data = {_columns[i]:_values[i] for i in range(0, _len)}\n",
    "_df = pd.DataFrame(data = _data )\n",
    "\n",
    "_table = _df\n",
    "\n",
    "_params = { 'color': 'black',\n",
    "            'align':'center',\n",
    "            'textAlign': 'center',\n",
    "            'fontsize': '8px', \n",
    "            'font-family':'Arial', \n",
    "            'padding':'4px', \n",
    "            'margin': '4px',\n",
    "            'border': '1px solid grey'\n",
    "}\n",
    "\n",
    "\n",
    "styles = [\n",
    "    dict(\n",
    "        selector = ['div'],\n",
    "        props=[\n",
    "            ('border-collapse', 'separate'), \n",
    "            ('border-spacing',  '1px 1px'),\n",
    "\n",
    "        ]\n",
    "    ),\n",
    "    dict(\n",
    "        selector = ['th'],\n",
    "        props = [('display', 'None'),\n",
    "                 ('align-text', 'center'),\n",
    "                 ('align', 'center')\n",
    "        ]\n",
    "    )\n",
    "] \n",
    "\n",
    "def highlight_contrato(df, props=''):\n",
    "    return np.where((df == 1) | (df == 'Com Contrato de Energia'), props, 'color:black; background-color:#F3F3F3')\n",
    "\n",
    "_table = _table.style.set_properties(**_params).set_table_styles(styles).hide_index()\n",
    "\n",
    "_table = _table.apply(highlight_contrato, props='color:black; background-color:#EAFB15', axis=0)\n",
    "\n",
    "result = _table\n",
    "result"
   ]
  },
  {
   "cell_type": "code",
   "execution_count": null,
   "metadata": {},
   "outputs": [],
   "source": [
    "_df = selecao_de_visao.copy().reset_index()\n",
    "_df_region = de_para_fabrica_regiao.copy()\n",
    "\n",
    "# Creating totals of columns.\n",
    "_df_total_row = _df\n",
    "_df_total_row = _df_total_row[index_colunas_rf_sem_col_ocup].sum()\n",
    "_df_total_row_media = _df_total_row[index_colunas_medias_rf].sum().sum() / float(dia_util_selecionado)\n",
    "\n",
    "\n",
    "# Clusters\n",
    "_df = _df_region.merge(_df, on='fabrica', how='left').rename(columns={'regiao':'cluster_regiao'})\n",
    "\n",
    "# Groupby estado\n",
    "_df = _df.groupby(['fabrica','cluster_regiao']).sum().reset_index()\n",
    "\n",
    "_df_aux = _df\n",
    "                        \n",
    "# Adding Subtotal and Totals at final row.\n",
    "container= []\n",
    "for label, _df in _df_aux.groupby(['cluster_regiao']):\n",
    "    _df.loc[f'{label} - Subtotal'] = _df[index_colunas_rf_sem_col_ocup].sum()\n",
    "    _df.loc[f'Médias Dia Útil {label}'] = (_df[index_colunas_medias_rf].sum() / 2)  / float(dia_util_selecionado)\n",
    "    container.append(_df.fillna(''))\n",
    "\n",
    "_df_summary = pd.concat(container)\n",
    "_df_summary = _df_summary.drop(columns='cluster_regiao')\n",
    "\n",
    "# Creating total line\n",
    "_df_summary.loc['Total Brasil'] = _df_total_row\n",
    "_df_summary.loc['Total Média du Brasil'] = _df_summary.loc['Total Brasil', index_colunas_medias_rf ]/23 \n",
    "_df_summary.loc['Total Brasil'] = _df_summary.loc['Total Brasil'].fillna('')\n",
    "_df_summary.loc['Total Média du Brasil'] = _df_summary.loc['Total Média du Brasil'].fillna('')\n",
    "\n",
    "# Calculating equipamment ocupation\n",
    "_df_summary.loc['Total Brasil', index_colunas_rf[-1]] = _df_summary.loc['Total Brasil', index_colunas_rf[3]] / _df_summary.loc['Total Brasil', index_colunas_rf[2]]\n",
    "\n",
    "\n",
    "_df_summary = _df_summary.reset_index()\n",
    "\n",
    "# traversing table rows\n",
    "for index, row in _df_summary.iterrows():\n",
    "    # print(index)\n",
    "    # print(row)\n",
    "    if type(row['index']) is str:\n",
    "        _df_summary.loc[index,'fabrica'] = row['index']\n",
    "        \n",
    "# Droping column\n",
    "_df_summary = _df_summary.drop(columns='index')\n",
    "\n",
    "\n",
    "_df_summary = _df_summary.set_index(['fabrica'])\n",
    "_df = _df_summary\n",
    "\n",
    "result = _df_summary"
   ]
  },
  {
   "cell_type": "code",
   "execution_count": null,
   "metadata": {},
   "outputs": [],
   "source": [
    "_df = base_dias_uteis.copy()\n",
    "\n",
    "_cols = _df.columns.str.replace(' ', '_').str.replace('ó','o').str.replace('á','a').str.strip().str.lower()\n",
    "_df.columns = _cols\n",
    "\n",
    "# Filter month\n",
    " \n",
    "_mes_atual = pp.add_periods( mes_atual_value, 1, freq='M', format='%Y-%m' )\n",
    "_df = _df[_df['datas']==_mes_atual] # selecionar_data_du.value\n",
    "\n",
    "\n",
    "result = _df.reset_index(drop=True).set_index('datas').values[0][0]"
   ]
  },
  {
   "cell_type": "code",
   "execution_count": null,
   "metadata": {},
   "outputs": [],
   "source": [
    "import base64\n",
    " \n",
    "image = open('pyplan.png', 'rb') #open binary file in read mode\n",
    "image_read = image.read()\n",
    "image_64_encode = base64.encodestring(image_read)\n",
    "\n",
    "result = image_64_encode.decode('utf-8')"
   ]
  },
  {
   "cell_type": "code",
   "execution_count": null,
   "metadata": {},
   "outputs": [],
   "source": [
    "_imagen = imagen_from_jpeg_to_base64\n",
    "\n",
    "_user = pyplan_user['userFullName']\n",
    "\n",
    "html_content =  f\"\"\"\\\n",
    "    <html>\n",
    "      <head>Olá!</head>\n",
    "      <body>\n",
    "        <p>A área de S&OP Oferta ({_user}) publicou os dados finais. Por favor, faça login no Pyplan para visualizá-los. O link de acesso é: https://cloud.pyplan.com/ <br>\n",
    "            <br>\n",
    "            <br>\n",
    "            <img alt=\"\" src=\"\"\" + '\"' + f\"data:image/png;base64, {_imagen}\" + '\" ' + \"\"\" width=\"170\" style=\"background-color:white;\" style=\"max-width:315px;\" class=\"mcnImage\"  >\n",
    "        </p> \n",
    "      </body>\n",
    "    </html> \n",
    "    \"\"\"\n",
    "    \n",
    "result = _email_html"
   ]
  },
  {
   "cell_type": "code",
   "execution_count": null,
   "metadata": {},
   "outputs": [],
   "source": [
    "# import necessary packages\n",
    "from email.mime.multipart import MIMEMultipart\n",
    "from email.mime.text import MIMEText\n",
    "import smtplib, ssl\n",
    "# SMTP 'Simple Mail Transfer Protocol' \n",
    "# TLS  and SSL 'Transport Layer Security' and 'Secure Sockets Layer'\n",
    "\n",
    "\n",
    "def _fn(email_from = None, email_to = None, msg_subject = None, message = None):\n",
    "    # create message object instance\n",
    "    msg = MIMEMultipart()\n",
    "    \n",
    "    html_content = e_mail_html_seop_oferta\n",
    "        \n",
    "    smtp_host = ''\n",
    "    smtp_port = 587 \n",
    "    smtp_user = \"\"\n",
    "    smtp_password = \"\"\n",
    "    \n",
    "    msg['From'] = email_from\n",
    "    msg['To'] = email_to\n",
    "    msg['Subject'] = msg_subject\n",
    "    \n",
    "    # msg.add_header('Content-Type', 'text/html')\n",
    "    # msg.set_payload(email_content)\n",
    "    \n",
    "    # add in the message body\n",
    "    # msg.attach(MIMEText(message, 'plain'))\n",
    "    msg.attach(MIMEText(html_content, 'html'))\n",
    "    \n",
    "    # Configura un servidor para enviar emails\n",
    "    try:\n",
    "        server = smtplib.SMTP(smtp_host,smtp_port)\n",
    "        server.ehlo()\n",
    "        server.starttls()\n",
    "        server.ehlo()\n",
    "        server.login(smtp_user,smtp_password)\n",
    "        \n",
    "        # send the message via the server.\n",
    "        server.sendmail(msg['From'], msg['To'], msg.as_string())\n",
    "             \n",
    "        server.quit()\n",
    "    except Exception as e:\n",
    "        \"failed to configure server\"\n",
    "    \n",
    "    return print(f\"successfully sent email to {msg['To']}:\") \n",
    "\n",
    "result = _fn"
   ]
  },
  {
   "cell_type": "code",
   "execution_count": null,
   "metadata": {},
   "outputs": [],
   "source": [
    "_df_summary['canal'] = np.where(_df_summary['canal'].str.contains('Subtotal'), _df_summary['canal'].str.split(' - ', n=0, expand=True)[1], _df_summary['canal']) "
   ]
  },
  {
   "cell_type": "code",
   "execution_count": null,
   "metadata": {},
   "outputs": [],
   "source": [
    "# import necessary packages\n",
    "from email.mime.multipart import MIMEMultipart\n",
    "from email.mime.text import MIMEText\n",
    "import smtplib\n",
    "# SMTP 'Simple Mail Transfer Protocol' \n",
    "# TLS  and SSL 'Transport Layer Security' and 'Secure Sockets Layer'\n",
    "\n",
    "\n",
    "def _fn(email_from = None, email_to = None, msg_subject = None, message = None):\n",
    "    # create message object instance\n",
    "    msg = MIMEMultipart()\n",
    "    \n",
    "    email_content = e_mail_html_seop_oferta\n",
    "        \n",
    "    smtp_host = 'smtp@mail.com'\n",
    "    smtp_port = 587 \n",
    "    smtp_user = \"login\"\n",
    "    smtp_password = \"password\"\n",
    "    \n",
    "    msg['From'] = email_from\n",
    "    msg['To'] = email_to\n",
    "    msg['Subject'] = msg_subject\n",
    "    \n",
    "    msg.add_header('Content-Type', 'text/html')\n",
    "    msg.set_payload(email_content)\n",
    "    \n",
    "    # add in the message body\n",
    "    msg.attach(MIMEText(message, 'plain'))\n",
    "    \n",
    "    # Configura un servidor para enviar emails\n",
    "    try:\n",
    "        server = smtplib.SMTP(smtp_host,smtp_port)\n",
    "        server.ehlo()\n",
    "        server.starttls()\n",
    "        server.ehlo()\n",
    "        server.login(smtp_user,smtp_password)\n",
    "        \n",
    "        # send the message via the server.\n",
    "        server.sendmail(msg['From'], msg['To'], msg.as_string())\n",
    "             \n",
    "        server.quit()\n",
    "    except Exception as e:\n",
    "        \"failed to configure server\"\n",
    "    \n",
    "    return print(f\"successfully sent email to {msg['To']}:\") \n",
    "\n",
    "result = _fn"
   ]
  },
  {
   "cell_type": "code",
   "execution_count": null,
   "metadata": {},
   "outputs": [],
   "source": [
    "# import necessary packages\n",
    "from email.mime.multipart import MIMEMultipart\n",
    "from email.mime.text import MIMEText\n",
    "import smtplib, ssl\n",
    "# SMTP 'Simple Mail Transfer Protocol' \n",
    "# TLS  and SSL 'Transport Layer Security' and 'Secure Sockets Layer'\n",
    "\n",
    "\n",
    "def _fn(email_from = None, email_to = None, msg_subject = None, message = None):\n",
    "    # create message object instance\n",
    "    msg = MIMEMultipart()\n",
    "    \n",
    "    html_content = e_mail_html_seop_oferta\n",
    "        \n",
    "    smtp_host = ''\n",
    "    smtp_port = 587 \n",
    "    smtp_user = \"\"\n",
    "    smtp_password = \"\"\n",
    "    \n",
    "    msg['From'] = email_from\n",
    "    msg['To'] = email_to\n",
    "    msg['Subject'] = msg_subject\n",
    "    \n",
    "    # add in the message body:\n",
    "    # msg.attach(MIMEText(message, 'plain'))\n",
    "    msg.attach(MIMEText(html_content, 'html'))\n",
    "    \n",
    "    # Configura un servidor para enviar emails\n",
    "    try:\n",
    "        server = smtplib.SMTP(smtp_host,smtp_port)\n",
    "        server.ehlo()\n",
    "        server.starttls()\n",
    "        server.ehlo()\n",
    "        server.login(smtp_user,smtp_password)\n",
    "        \n",
    "        # send the message via the server.\n",
    "        server.sendmail(msg['From'], msg['To'], msg.as_string())\n",
    "             \n",
    "        server.quit()\n",
    "    except Exception as e:\n",
    "        \"failed to configure server\"\n",
    "    \n",
    "    return print(f\"successfully sent email to {msg['To']}:\") \n",
    "\n",
    "result = _fn"
   ]
  },
  {
   "cell_type": "code",
   "execution_count": null,
   "metadata": {},
   "outputs": [],
   "source": [
    "class test():\n",
    "    id = 0\n",
    "    def __init__(self,id):\n",
    "        self.id = idid = 2"
   ]
  },
  {
   "cell_type": "code",
   "execution_count": null,
   "metadata": {},
   "outputs": [],
   "source": [
    "t = test(1)"
   ]
  },
  {
   "cell_type": "code",
   "execution_count": 8,
   "metadata": {},
   "outputs": [
    {
     "ename": "NameError",
     "evalue": "name 't' is not defined",
     "output_type": "error",
     "traceback": [
      "\u001b[1;31m---------------------------------------------------------------------------\u001b[0m",
      "\u001b[1;31mNameError\u001b[0m                                 Traceback (most recent call last)",
      "\u001b[1;32mC:\\Users\\ALEXSA~1.IGN\\AppData\\Local\\Temp/ipykernel_13384/581521526.py\u001b[0m in \u001b[0;36m<module>\u001b[1;34m\u001b[0m\n\u001b[1;32m----> 1\u001b[1;33m \u001b[0mt\u001b[0m\u001b[1;33m.\u001b[0m\u001b[0mid\u001b[0m\u001b[1;33m\u001b[0m\u001b[1;33m\u001b[0m\u001b[0m\n\u001b[0m",
      "\u001b[1;31mNameError\u001b[0m: name 't' is not defined"
     ]
    }
   ],
   "source": [
    "t.id"
   ]
  },
  {
   "cell_type": "code",
   "execution_count": 9,
   "metadata": {},
   "outputs": [
    {
     "data": {
      "text/plain": [
       "1662467901.1908696"
      ]
     },
     "execution_count": 9,
     "metadata": {},
     "output_type": "execute_result"
    }
   ],
   "source": [
    "import time\n",
    "\n",
    "inicio = time.time()\n",
    "inicio "
   ]
  },
  {
   "cell_type": "code",
   "execution_count": 7,
   "metadata": {},
   "outputs": [
    {
     "name": "stdout",
     "output_type": "stream",
     "text": [
      "0.0\n"
     ]
    }
   ],
   "source": [
    "import time\n",
    "\n",
    "def funcao(a,b):\n",
    "    return a + b\n",
    "\n",
    "inicio = time.time()\n",
    "funcao(10,10)\n",
    "fim = time.time()\n",
    "print(fim - inicio)"
   ]
  },
  {
   "cell_type": "code",
   "execution_count": 6,
   "metadata": {},
   "outputs": [
    {
     "name": "stdout",
     "output_type": "stream",
     "text": [
      "0:00:00.000053\n"
     ]
    }
   ],
   "source": [
    "import time\n",
    "from datetime import timedelta \n",
    "\n",
    "def funcao(a,b):\n",
    "    return a + b\n",
    "\n",
    "inicio = time.perf_counter()\n",
    "\n",
    "funcao(10,10)\n",
    "fim = time.perf_counter()\n",
    "\n",
    "print(timedelta(seconds= fim - inicio))"
   ]
  },
  {
   "cell_type": "code",
   "execution_count": 5,
   "metadata": {},
   "outputs": [
    {
     "name": "stdout",
     "output_type": "stream",
     "text": [
      "0\n"
     ]
    }
   ],
   "source": [
    "import time\n",
    "\n",
    "\n",
    "def funcao(a,b):\n",
    "    return a + b\n",
    "\n",
    "inicio = time.time_ns()\n",
    "\n",
    "funcao(10,10)\n",
    "fim = time.time_ns()\n",
    "print(fim - inicio)\n"
   ]
  },
  {
   "cell_type": "code",
   "execution_count": 4,
   "metadata": {},
   "outputs": [
    {
     "name": "stdout",
     "output_type": "stream",
     "text": [
      "0:00:00\n"
     ]
    }
   ],
   "source": [
    "# importing the module\n",
    "from datetime import datetime\n",
    "  \n",
    "# sample function that returns square \n",
    "# of the value passed\n",
    "def print_square(x):\n",
    "    return (x**2)\n",
    "  \n",
    "# records the time at this instant of\n",
    "# the program in HH:MM:SS format\n",
    "start = datetime.now()\n",
    "  \n",
    "# calls the function\n",
    "print_square(3)\n",
    "  \n",
    "# records the time at this instant of the\n",
    "# program in HH:MM:SS format\n",
    "end = datetime.now()\n",
    "  \n",
    "# printing the execution time by subtracting\n",
    "# the time before the function from\n",
    "# the time after the function\n",
    "print(end-start)"
   ]
  },
  {
   "cell_type": "code",
   "execution_count": null,
   "metadata": {},
   "outputs": [],
   "source": [
    "_df = ajuste_percentual_de_preco_projetado_sellin.value.reset_index()\n",
    "_df = _df.drop(columns = ['id','username_id','timestamp','department_ids','user_ids'])\n",
    "_df['cod_produto'] = _df['cod_produto'].astype(str)\n",
    "\n",
    "_df = pd.melt(_df, id_vars= ['pais', 'cod_produto'], var_name = 'time', value_name= 'percent')\n",
    "\n",
    "_df['percent'] = _df['percent'].fillna(0.0)\n",
    "_df['percent'] = 1 +  _df['percent']\n",
    "\n",
    "_df2 = preco_medio_sellin_base.copy()\n",
    "_df = _df2.merge(_df, on = ['time','pais', 'cod_produto'], how='outer')\n",
    "\n",
    "_df['percent'] = _df['percent'].fillna(1)\n",
    "\n",
    "_df['preco_medio'] = _df['preco_medio'].fillna(0.0)\n",
    "\n",
    "\n",
    "_df['preco_proj'] = _df['preco_medio']* _df['percent']\n",
    "\n",
    "_df['key'] = _df['pais'] + '/'+_df['cod_produto'].astype(str)\n",
    "      \n",
    "_df = _df.sort_values(['key', 'time'])   \n",
    "\n",
    "_values = _df.values\n",
    "\n",
    "_key = None\n",
    "\n",
    "for row in _values:\n",
    "    if row[6]!=_key or _key is None:\n",
    "        #Calculo inicial\n",
    "        row[5] = row[3]* row[4]\n",
    "        _ant = row[5] \n",
    "        _key = row[6] \n",
    "\n",
    "    else:\n",
    "        row[5] = _ant*row[4]\n",
    "        _ant = row[5]\n",
    "        _key = row[6] \n",
    "        \n",
    "_newdf = pd.DataFrame( data=_values, index=None, columns=_df.columns )  \n",
    "_newdf[['preco_medio', 'percent', 'preco_proj']] = _newdf[['preco_medio', 'percent', 'preco_proj']].astype(float)\n",
    "\n",
    "result =_newdf"
   ]
  },
  {
   "cell_type": "code",
   "execution_count": null,
   "metadata": {},
   "outputs": [],
   "source": [
    "import base64\n",
    "import datetime\n",
    "import io\n",
    "import os\n",
    "import dash\n",
    "from dash.dependencies import Input, Output, State\n",
    "from dash import dcc, html, dash_table\n",
    "import pandas as pd\n",
    "\n",
    "external_stylesheets = ['https://codepen.io/chriddyp/pen/bWLwgP.css']\n",
    "app = dash.Dash(external_stylesheets=external_stylesheets)\n",
    "\n",
    "_table = read_sol\n",
    "\n",
    "app.layout = html.Div(\n",
    "    [\n",
    "        html.Button(f\"Download\", id=\"btn_dwn\"),\n",
    "                dcc.Download(id=\"download-data\"),\n",
    "    ], style = button_css_style\n",
    ")\n",
    "\n",
    "@app.callback(\n",
    "    Output(\"download-data\", \"data\"),\n",
    "    Input(\"btn_dwn\", \"n_clicks\"),\n",
    "    prevent_initial_call=True,\n",
    ")\n",
    "\n",
    "def func(n_clicks):     \n",
    "        return dcc.send_data_frame(_table.to_excel, \"base_sol_pyplan.xlsx\")\n",
    "\n",
    "result = app"
   ]
  },
  {
   "cell_type": "markdown",
   "metadata": {},
   "source": [
    "Read Func"
   ]
  },
  {
   "cell_type": "code",
   "execution_count": 2,
   "metadata": {},
   "outputs": [
    {
     "ename": "NameError",
     "evalue": "name 'pyplan_user' is not defined",
     "output_type": "error",
     "traceback": [
      "\u001b[1;31m---------------------------------------------------------------------------\u001b[0m",
      "\u001b[1;31mNameError\u001b[0m                                 Traceback (most recent call last)",
      "\u001b[1;32mC:\\Users\\ALEXSA~1.IGN\\AppData\\Local\\Temp/ipykernel_22108/1473185878.py\u001b[0m in \u001b[0;36m<module>\u001b[1;34m\u001b[0m\n\u001b[0;32m      2\u001b[0m \u001b[1;32mfrom\u001b[0m \u001b[0mdatetime\u001b[0m \u001b[1;32mimport\u001b[0m \u001b[0mdate\u001b[0m\u001b[1;33m\u001b[0m\u001b[1;33m\u001b[0m\u001b[0m\n\u001b[0;32m      3\u001b[0m \u001b[1;33m\u001b[0m\u001b[0m\n\u001b[1;32m----> 4\u001b[1;33m \u001b[0m_user\u001b[0m \u001b[1;33m=\u001b[0m \u001b[0mpyplan_user\u001b[0m\u001b[1;33m[\u001b[0m\u001b[1;34m'userName'\u001b[0m\u001b[1;33m]\u001b[0m\u001b[1;33m\u001b[0m\u001b[1;33m\u001b[0m\u001b[0m\n\u001b[0m\u001b[0;32m      5\u001b[0m \u001b[0m_date\u001b[0m \u001b[1;33m=\u001b[0m \u001b[0mdt\u001b[0m\u001b[1;33m.\u001b[0m\u001b[0mdatetime\u001b[0m\u001b[1;33m.\u001b[0m\u001b[0mnow\u001b[0m\u001b[1;33m(\u001b[0m\u001b[1;33m)\u001b[0m\u001b[1;33m.\u001b[0m\u001b[0mstrftime\u001b[0m\u001b[1;33m(\u001b[0m\u001b[1;34m\"%Y-%m-%d %H:%M:%S\"\u001b[0m\u001b[1;33m)\u001b[0m\u001b[1;33m\u001b[0m\u001b[1;33m\u001b[0m\u001b[0m\n\u001b[0;32m      6\u001b[0m \u001b[0m_df\u001b[0m \u001b[1;33m=\u001b[0m \u001b[0mread_historical_data_td\u001b[0m\u001b[1;33m.\u001b[0m\u001b[0mcopy\u001b[0m\u001b[1;33m(\u001b[0m\u001b[1;33m)\u001b[0m\u001b[1;33m\u001b[0m\u001b[1;33m\u001b[0m\u001b[0m\n",
      "\u001b[1;31mNameError\u001b[0m: name 'pyplan_user' is not defined"
     ]
    }
   ],
   "source": [
    "import datetime as dt\n",
    "from datetime import date\n",
    "   \n",
    "_user = pyplan_user['userName']\n",
    "_date = dt.datetime.now().strftime(\"%Y-%m-%d %H:%M:%S\")\n",
    "_df = read_historical_data_td.copy()\n",
    "\n",
    "result = _df.to_pickle(os.path.join(path_load_data_pkl)+'/'+file_name+'__'+_user+'__'+_date + '.pkl')"
   ]
  },
  {
   "cell_type": "code",
   "execution_count": 1,
   "metadata": {},
   "outputs": [
    {
     "ename": "NameError",
     "evalue": "name 'node11' is not defined",
     "output_type": "error",
     "traceback": [
      "\u001b[1;31m---------------------------------------------------------------------------\u001b[0m",
      "\u001b[1;31mNameError\u001b[0m                                 Traceback (most recent call last)",
      "\u001b[1;32mC:\\Users\\ALEXSA~1.IGN\\AppData\\Local\\Temp/ipykernel_22108/3589897547.py\u001b[0m in \u001b[0;36m<module>\u001b[1;34m\u001b[0m\n\u001b[1;32m----> 1\u001b[1;33m \u001b[0m_fileName\u001b[0m \u001b[1;33m=\u001b[0m \u001b[0mnode11\u001b[0m\u001b[1;33m[\u001b[0m\u001b[1;36m0\u001b[0m\u001b[1;33m]\u001b[0m\u001b[1;33m\u001b[0m\u001b[1;33m\u001b[0m\u001b[0m\n\u001b[0m\u001b[0;32m      2\u001b[0m \u001b[0m_path_file\u001b[0m \u001b[1;33m=\u001b[0m \u001b[0mpath_load_data_pkl\u001b[0m\u001b[1;33m\u001b[0m\u001b[1;33m\u001b[0m\u001b[0m\n\u001b[0;32m      3\u001b[0m \u001b[0m_path\u001b[0m \u001b[1;33m=\u001b[0m \u001b[0mos\u001b[0m\u001b[1;33m.\u001b[0m\u001b[0mpath\u001b[0m\u001b[1;33m.\u001b[0m\u001b[0mjoin\u001b[0m\u001b[1;33m(\u001b[0m\u001b[0m_path_file\u001b[0m\u001b[1;33m,\u001b[0m\u001b[0m_fileName\u001b[0m\u001b[1;33m)\u001b[0m\u001b[1;33m\u001b[0m\u001b[1;33m\u001b[0m\u001b[0m\n\u001b[0;32m      4\u001b[0m \u001b[0m_hist_base\u001b[0m \u001b[1;33m=\u001b[0m \u001b[0mpd\u001b[0m\u001b[1;33m.\u001b[0m\u001b[0mread_pickle\u001b[0m\u001b[1;33m(\u001b[0m\u001b[0mpath\u001b[0m \u001b[1;33m=\u001b[0m \u001b[0m_path\u001b[0m \u001b[1;33m,\u001b[0m \u001b[0mcompression\u001b[0m\u001b[1;33m=\u001b[0m\u001b[1;34m'infer'\u001b[0m \u001b[1;33m)\u001b[0m\u001b[1;33m\u001b[0m\u001b[1;33m\u001b[0m\u001b[0m\n\u001b[0;32m      5\u001b[0m \u001b[1;33m\u001b[0m\u001b[0m\n",
      "\u001b[1;31mNameError\u001b[0m: name 'node11' is not defined"
     ]
    }
   ],
   "source": [
    "_fileName = node11[0]\n",
    "_path_file = path_load_data_pkl\n",
    "_path = os.path.join(_path_file,_fileName)\n",
    "_hist_base = pd.read_pickle(path = _path , compression='infer' )\n",
    "\n",
    "result = _hist_base"
   ]
  },
  {
   "cell_type": "code",
   "execution_count": null,
   "metadata": {},
   "outputs": [],
   "source": [
    "from pandas.tseries.offsets import DateOffset\n",
    "\n",
    "_df = sellout_hist_bu[['time']].copy()\n",
    "\n",
    "# _max = time_projected[0] #-6 meses (ou seja para o 2022.08, vai ser 2022.02)\n",
    "_max = _df['time'].max()\n",
    "\n",
    "_date_filter = pd.Timestamp(_max)\n",
    "_date_filter = _date_filter - DateOffset(months=6)\n",
    "_date_filter = _date_filter.strftime('%Y.%m')\n",
    "\n",
    "result = pd.Index([_date_filter])"
   ]
  }
 ],
 "metadata": {
  "kernelspec": {
   "display_name": "Python 3.9.6 64-bit",
   "language": "python",
   "name": "python3"
  },
  "language_info": {
   "codemirror_mode": {
    "name": "ipython",
    "version": 3
   },
   "file_extension": ".py",
   "mimetype": "text/x-python",
   "name": "python",
   "nbconvert_exporter": "python",
   "pygments_lexer": "ipython3",
   "version": "3.9.6"
  },
  "orig_nbformat": 4,
  "vscode": {
   "interpreter": {
    "hash": "75b64ca35833826d255b5110be976b8b491e59919d991eceebad02336ca41c97"
   }
  }
 },
 "nbformat": 4,
 "nbformat_minor": 2
}
