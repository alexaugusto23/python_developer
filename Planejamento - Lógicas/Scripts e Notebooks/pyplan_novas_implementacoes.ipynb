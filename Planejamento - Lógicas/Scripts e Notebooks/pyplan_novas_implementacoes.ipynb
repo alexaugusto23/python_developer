{
 "cells": [
  {
   "cell_type": "markdown",
   "metadata": {},
   "source": [
    "## New Implementations\n"
   ]
  },
  {
   "cell_type": "markdown",
   "metadata": {},
   "source": [
    "* Imports"
   ]
  },
  {
   "cell_type": "code",
   "execution_count": 11,
   "metadata": {},
   "outputs": [],
   "source": [
    "import pandas as pd\n",
    "import numpy as np"
   ]
  },
  {
   "cell_type": "markdown",
   "metadata": {},
   "source": [
    "* Calendar"
   ]
  },
  {
   "cell_type": "code",
   "execution_count": 12,
   "metadata": {},
   "outputs": [
    {
     "data": {
      "text/html": [
       "<style type=\"text/css\">\n",
       "#T_20aef_row0_col0, #T_20aef_row0_col1, #T_20aef_row0_col2, #T_20aef_row0_col3, #T_20aef_row0_col4, #T_20aef_row0_col5, #T_20aef_row0_col6, #T_20aef_row1_col0, #T_20aef_row1_col1, #T_20aef_row1_col2, #T_20aef_row1_col3, #T_20aef_row1_col4, #T_20aef_row1_col5, #T_20aef_row1_col6, #T_20aef_row2_col0, #T_20aef_row2_col1, #T_20aef_row2_col2, #T_20aef_row2_col3, #T_20aef_row2_col4, #T_20aef_row2_col5, #T_20aef_row2_col6, #T_20aef_row3_col0, #T_20aef_row3_col1, #T_20aef_row3_col2, #T_20aef_row3_col3, #T_20aef_row3_col4, #T_20aef_row3_col5, #T_20aef_row3_col6, #T_20aef_row4_col0, #T_20aef_row4_col1, #T_20aef_row4_col2, #T_20aef_row4_col3, #T_20aef_row4_col4, #T_20aef_row4_col5, #T_20aef_row4_col6 {\n",
       "  color: black;\n",
       "  align: center;\n",
       "  fontsize: 8px;\n",
       "  font-family: Arial;\n",
       "  padding: 7px;\n",
       "  margin: 7px;\n",
       "}\n",
       "</style>\n",
       "<table id=\"T_20aef_\">\n",
       "  <thead>\n",
       "    <tr>\n",
       "      <th class=\"index_name level0\" ></th>\n",
       "      <th class=\"col_heading level0 col0\" >Seg</th>\n",
       "      <th class=\"col_heading level0 col1\" >Ter</th>\n",
       "      <th class=\"col_heading level0 col2\" >Qua</th>\n",
       "      <th class=\"col_heading level0 col3\" >Qui</th>\n",
       "      <th class=\"col_heading level0 col4\" >Sex</th>\n",
       "      <th class=\"col_heading level0 col5\" >Sab</th>\n",
       "      <th class=\"col_heading level0 col6\" >Dom</th>\n",
       "    </tr>\n",
       "  </thead>\n",
       "  <tbody>\n",
       "    <tr>\n",
       "      <th id=\"T_20aef_level0_row0\" class=\"row_heading level0 row0\" >Sem 01</th>\n",
       "      <td id=\"T_20aef_row0_col0\" class=\"data row0 col0\" ></td>\n",
       "      <td id=\"T_20aef_row0_col1\" class=\"data row0 col1\" ></td>\n",
       "      <td id=\"T_20aef_row0_col2\" class=\"data row0 col2\" ></td>\n",
       "      <td id=\"T_20aef_row0_col3\" class=\"data row0 col3\" ></td>\n",
       "      <td id=\"T_20aef_row0_col4\" class=\"data row0 col4\" >1</td>\n",
       "      <td id=\"T_20aef_row0_col5\" class=\"data row0 col5\" >2</td>\n",
       "      <td id=\"T_20aef_row0_col6\" class=\"data row0 col6\" >3</td>\n",
       "    </tr>\n",
       "    <tr>\n",
       "      <th id=\"T_20aef_level0_row1\" class=\"row_heading level0 row1\" >Sem 02</th>\n",
       "      <td id=\"T_20aef_row1_col0\" class=\"data row1 col0\" >4</td>\n",
       "      <td id=\"T_20aef_row1_col1\" class=\"data row1 col1\" >5</td>\n",
       "      <td id=\"T_20aef_row1_col2\" class=\"data row1 col2\" >6</td>\n",
       "      <td id=\"T_20aef_row1_col3\" class=\"data row1 col3\" >7</td>\n",
       "      <td id=\"T_20aef_row1_col4\" class=\"data row1 col4\" >8</td>\n",
       "      <td id=\"T_20aef_row1_col5\" class=\"data row1 col5\" >9</td>\n",
       "      <td id=\"T_20aef_row1_col6\" class=\"data row1 col6\" >10</td>\n",
       "    </tr>\n",
       "    <tr>\n",
       "      <th id=\"T_20aef_level0_row2\" class=\"row_heading level0 row2\" >Sem 03</th>\n",
       "      <td id=\"T_20aef_row2_col0\" class=\"data row2 col0\" >11</td>\n",
       "      <td id=\"T_20aef_row2_col1\" class=\"data row2 col1\" >12</td>\n",
       "      <td id=\"T_20aef_row2_col2\" class=\"data row2 col2\" >13</td>\n",
       "      <td id=\"T_20aef_row2_col3\" class=\"data row2 col3\" >14</td>\n",
       "      <td id=\"T_20aef_row2_col4\" class=\"data row2 col4\" >15</td>\n",
       "      <td id=\"T_20aef_row2_col5\" class=\"data row2 col5\" >16</td>\n",
       "      <td id=\"T_20aef_row2_col6\" class=\"data row2 col6\" >17</td>\n",
       "    </tr>\n",
       "    <tr>\n",
       "      <th id=\"T_20aef_level0_row3\" class=\"row_heading level0 row3\" >Sem 04</th>\n",
       "      <td id=\"T_20aef_row3_col0\" class=\"data row3 col0\" >18</td>\n",
       "      <td id=\"T_20aef_row3_col1\" class=\"data row3 col1\" >19</td>\n",
       "      <td id=\"T_20aef_row3_col2\" class=\"data row3 col2\" >20</td>\n",
       "      <td id=\"T_20aef_row3_col3\" class=\"data row3 col3\" >21</td>\n",
       "      <td id=\"T_20aef_row3_col4\" class=\"data row3 col4\" >22</td>\n",
       "      <td id=\"T_20aef_row3_col5\" class=\"data row3 col5\" >23</td>\n",
       "      <td id=\"T_20aef_row3_col6\" class=\"data row3 col6\" >24</td>\n",
       "    </tr>\n",
       "    <tr>\n",
       "      <th id=\"T_20aef_level0_row4\" class=\"row_heading level0 row4\" >Sem 05</th>\n",
       "      <td id=\"T_20aef_row4_col0\" class=\"data row4 col0\" >25</td>\n",
       "      <td id=\"T_20aef_row4_col1\" class=\"data row4 col1\" >26</td>\n",
       "      <td id=\"T_20aef_row4_col2\" class=\"data row4 col2\" >27</td>\n",
       "      <td id=\"T_20aef_row4_col3\" class=\"data row4 col3\" >28</td>\n",
       "      <td id=\"T_20aef_row4_col4\" class=\"data row4 col4\" >29</td>\n",
       "      <td id=\"T_20aef_row4_col5\" class=\"data row4 col5\" >30</td>\n",
       "      <td id=\"T_20aef_row4_col6\" class=\"data row4 col6\" >31</td>\n",
       "    </tr>\n",
       "  </tbody>\n",
       "</table>\n"
      ],
      "text/plain": [
       "<pandas.io.formats.style.Styler at 0x252ebcd50d0>"
      ]
     },
     "execution_count": 12,
     "metadata": {},
     "output_type": "execute_result"
    }
   ],
   "source": [
    "import calendar\n",
    "\n",
    "input_ano_calendario = '2022'\n",
    "input_mes_calendrio = '07'\n",
    "\n",
    "_data_cal = [['Seg', 'Ter', 'Qua', 'Qui', 'Sex', 'Sab', 'Dom']]\n",
    "_data_cal.extend(calendar.monthcalendar(int(input_ano_calendario),int(input_mes_calendrio)))\n",
    "\n",
    "_cal = pd.DataFrame(_data_cal)\n",
    "_cal.columns = _cal.loc[0]\n",
    "_cal = _cal.drop([0])\n",
    "_cal.index.name = ''\n",
    "_cal.columns.name = ''\n",
    "_cal = _cal.replace(0,'')\n",
    "_cal.index = [f\"Sem {i:02d}\" for i in range(1,6)]\n",
    "\n",
    "_params = { 'color': 'black',\n",
    "            'align':'center',\n",
    "            'fontsize': '8px', \n",
    "            'font-family':'Arial', \n",
    "            'padding':'7px', \n",
    "            'margin': '7px'\n",
    "    \n",
    "}\n",
    "\n",
    "_cal = _cal.style.set_properties(**_params)\n",
    "\n",
    "result =  _cal\n",
    "result"
   ]
  },
  {
   "cell_type": "markdown",
   "metadata": {},
   "source": [
    "* Painel Descritivo"
   ]
  },
  {
   "cell_type": "code",
   "execution_count": 23,
   "metadata": {},
   "outputs": [
    {
     "ename": "AttributeError",
     "evalue": "'list' object has no attribute 'split'",
     "output_type": "error",
     "traceback": [
      "\u001b[1;31m---------------------------------------------------------------------------\u001b[0m",
      "\u001b[1;31mAttributeError\u001b[0m                            Traceback (most recent call last)",
      "\u001b[1;32mc:\\Users\\alexsandro.ignacio\\AppData\\Local\\Programs\\Python\\Python39\\lib\\site-packages\\IPython\\core\\formatters.py\u001b[0m in \u001b[0;36m__call__\u001b[1;34m(self, obj)\u001b[0m\n\u001b[0;32m    343\u001b[0m             \u001b[0mmethod\u001b[0m \u001b[1;33m=\u001b[0m \u001b[0mget_real_method\u001b[0m\u001b[1;33m(\u001b[0m\u001b[0mobj\u001b[0m\u001b[1;33m,\u001b[0m \u001b[0mself\u001b[0m\u001b[1;33m.\u001b[0m\u001b[0mprint_method\u001b[0m\u001b[1;33m)\u001b[0m\u001b[1;33m\u001b[0m\u001b[1;33m\u001b[0m\u001b[0m\n\u001b[0;32m    344\u001b[0m             \u001b[1;32mif\u001b[0m \u001b[0mmethod\u001b[0m \u001b[1;32mis\u001b[0m \u001b[1;32mnot\u001b[0m \u001b[1;32mNone\u001b[0m\u001b[1;33m:\u001b[0m\u001b[1;33m\u001b[0m\u001b[1;33m\u001b[0m\u001b[0m\n\u001b[1;32m--> 345\u001b[1;33m                 \u001b[1;32mreturn\u001b[0m \u001b[0mmethod\u001b[0m\u001b[1;33m(\u001b[0m\u001b[1;33m)\u001b[0m\u001b[1;33m\u001b[0m\u001b[1;33m\u001b[0m\u001b[0m\n\u001b[0m\u001b[0;32m    346\u001b[0m             \u001b[1;32mreturn\u001b[0m \u001b[1;32mNone\u001b[0m\u001b[1;33m\u001b[0m\u001b[1;33m\u001b[0m\u001b[0m\n\u001b[0;32m    347\u001b[0m         \u001b[1;32melse\u001b[0m\u001b[1;33m:\u001b[0m\u001b[1;33m\u001b[0m\u001b[1;33m\u001b[0m\u001b[0m\n",
      "\u001b[1;32mc:\\Users\\alexsandro.ignacio\\AppData\\Local\\Programs\\Python\\Python39\\lib\\site-packages\\pandas\\io\\formats\\style.py\u001b[0m in \u001b[0;36m_repr_html_\u001b[1;34m(self)\u001b[0m\n\u001b[0;32m    214\u001b[0m         \u001b[0mHooks\u001b[0m \u001b[0minto\u001b[0m \u001b[0mJupyter\u001b[0m \u001b[0mnotebook\u001b[0m \u001b[0mrich\u001b[0m \u001b[0mdisplay\u001b[0m \u001b[0msystem\u001b[0m\u001b[1;33m.\u001b[0m\u001b[1;33m\u001b[0m\u001b[1;33m\u001b[0m\u001b[0m\n\u001b[0;32m    215\u001b[0m         \"\"\"\n\u001b[1;32m--> 216\u001b[1;33m         \u001b[1;32mreturn\u001b[0m \u001b[0mself\u001b[0m\u001b[1;33m.\u001b[0m\u001b[0mrender\u001b[0m\u001b[1;33m(\u001b[0m\u001b[1;33m)\u001b[0m\u001b[1;33m\u001b[0m\u001b[1;33m\u001b[0m\u001b[0m\n\u001b[0m\u001b[0;32m    217\u001b[0m \u001b[1;33m\u001b[0m\u001b[0m\n\u001b[0;32m    218\u001b[0m     def render(\n",
      "\u001b[1;32mc:\\Users\\alexsandro.ignacio\\AppData\\Local\\Programs\\Python\\Python39\\lib\\site-packages\\pandas\\io\\formats\\style.py\u001b[0m in \u001b[0;36mrender\u001b[1;34m(self, sparse_index, sparse_columns, **kwargs)\u001b[0m\n\u001b[0;32m    270\u001b[0m         \u001b[1;32mif\u001b[0m \u001b[0msparse_columns\u001b[0m \u001b[1;32mis\u001b[0m \u001b[1;32mNone\u001b[0m\u001b[1;33m:\u001b[0m\u001b[1;33m\u001b[0m\u001b[1;33m\u001b[0m\u001b[0m\n\u001b[0;32m    271\u001b[0m             \u001b[0msparse_columns\u001b[0m \u001b[1;33m=\u001b[0m \u001b[0mget_option\u001b[0m\u001b[1;33m(\u001b[0m\u001b[1;34m\"styler.sparse.columns\"\u001b[0m\u001b[1;33m)\u001b[0m\u001b[1;33m\u001b[0m\u001b[1;33m\u001b[0m\u001b[0m\n\u001b[1;32m--> 272\u001b[1;33m         \u001b[1;32mreturn\u001b[0m \u001b[0mself\u001b[0m\u001b[1;33m.\u001b[0m\u001b[0m_render_html\u001b[0m\u001b[1;33m(\u001b[0m\u001b[0msparse_index\u001b[0m\u001b[1;33m,\u001b[0m \u001b[0msparse_columns\u001b[0m\u001b[1;33m,\u001b[0m \u001b[1;33m**\u001b[0m\u001b[0mkwargs\u001b[0m\u001b[1;33m)\u001b[0m\u001b[1;33m\u001b[0m\u001b[1;33m\u001b[0m\u001b[0m\n\u001b[0m\u001b[0;32m    273\u001b[0m \u001b[1;33m\u001b[0m\u001b[0m\n\u001b[0;32m    274\u001b[0m     def set_tooltips(\n",
      "\u001b[1;32mc:\\Users\\alexsandro.ignacio\\AppData\\Local\\Programs\\Python\\Python39\\lib\\site-packages\\pandas\\io\\formats\\style_render.py\u001b[0m in \u001b[0;36m_render_html\u001b[1;34m(self, sparse_index, sparse_columns, **kwargs)\u001b[0m\n\u001b[0;32m    121\u001b[0m         \u001b[0mself\u001b[0m\u001b[1;33m.\u001b[0m\u001b[0m_compute\u001b[0m\u001b[1;33m(\u001b[0m\u001b[1;33m)\u001b[0m\u001b[1;33m\u001b[0m\u001b[1;33m\u001b[0m\u001b[0m\n\u001b[0;32m    122\u001b[0m         \u001b[1;31m# TODO: namespace all the pandas keys\u001b[0m\u001b[1;33m\u001b[0m\u001b[1;33m\u001b[0m\u001b[1;33m\u001b[0m\u001b[0m\n\u001b[1;32m--> 123\u001b[1;33m         \u001b[0md\u001b[0m \u001b[1;33m=\u001b[0m \u001b[0mself\u001b[0m\u001b[1;33m.\u001b[0m\u001b[0m_translate\u001b[0m\u001b[1;33m(\u001b[0m\u001b[0msparse_index\u001b[0m\u001b[1;33m,\u001b[0m \u001b[0msparse_columns\u001b[0m\u001b[1;33m)\u001b[0m\u001b[1;33m\u001b[0m\u001b[1;33m\u001b[0m\u001b[0m\n\u001b[0m\u001b[0;32m    124\u001b[0m         \u001b[0md\u001b[0m\u001b[1;33m.\u001b[0m\u001b[0mupdate\u001b[0m\u001b[1;33m(\u001b[0m\u001b[0mkwargs\u001b[0m\u001b[1;33m)\u001b[0m\u001b[1;33m\u001b[0m\u001b[1;33m\u001b[0m\u001b[0m\n\u001b[0;32m    125\u001b[0m         return self.template_html.render(\n",
      "\u001b[1;32mc:\\Users\\alexsandro.ignacio\\AppData\\Local\\Programs\\Python\\Python39\\lib\\site-packages\\pandas\\io\\formats\\style_render.py\u001b[0m in \u001b[0;36m_translate\u001b[1;34m(self, sparse_index, sparse_cols, blank)\u001b[0m\n\u001b[0;32m    196\u001b[0m         d = {\n\u001b[0;32m    197\u001b[0m             \u001b[1;34m\"uuid\"\u001b[0m\u001b[1;33m:\u001b[0m \u001b[0mself\u001b[0m\u001b[1;33m.\u001b[0m\u001b[0muuid\u001b[0m\u001b[1;33m,\u001b[0m\u001b[1;33m\u001b[0m\u001b[1;33m\u001b[0m\u001b[0m\n\u001b[1;32m--> 198\u001b[1;33m             \u001b[1;34m\"table_styles\"\u001b[0m\u001b[1;33m:\u001b[0m \u001b[0m_format_table_styles\u001b[0m\u001b[1;33m(\u001b[0m\u001b[0mself\u001b[0m\u001b[1;33m.\u001b[0m\u001b[0mtable_styles\u001b[0m \u001b[1;32mor\u001b[0m \u001b[1;33m[\u001b[0m\u001b[1;33m]\u001b[0m\u001b[1;33m)\u001b[0m\u001b[1;33m,\u001b[0m\u001b[1;33m\u001b[0m\u001b[1;33m\u001b[0m\u001b[0m\n\u001b[0m\u001b[0;32m    199\u001b[0m             \u001b[1;34m\"caption\"\u001b[0m\u001b[1;33m:\u001b[0m \u001b[0mself\u001b[0m\u001b[1;33m.\u001b[0m\u001b[0mcaption\u001b[0m\u001b[1;33m,\u001b[0m\u001b[1;33m\u001b[0m\u001b[1;33m\u001b[0m\u001b[0m\n\u001b[0;32m    200\u001b[0m         }\n",
      "\u001b[1;32mc:\\Users\\alexsandro.ignacio\\AppData\\Local\\Programs\\Python\\Python39\\lib\\site-packages\\pandas\\io\\formats\\style_render.py\u001b[0m in \u001b[0;36m_format_table_styles\u001b[1;34m(styles)\u001b[0m\n\u001b[0;32m    885\u001b[0m               {'selector': 'th', 'props': 'a:v;'}]\n\u001b[0;32m    886\u001b[0m     \"\"\"\n\u001b[1;32m--> 887\u001b[1;33m     return [\n\u001b[0m\u001b[0;32m    888\u001b[0m         \u001b[1;33m{\u001b[0m\u001b[1;34m\"selector\"\u001b[0m\u001b[1;33m:\u001b[0m \u001b[0mselector\u001b[0m\u001b[1;33m,\u001b[0m \u001b[1;34m\"props\"\u001b[0m\u001b[1;33m:\u001b[0m \u001b[0mcss_dict\u001b[0m\u001b[1;33m[\u001b[0m\u001b[1;34m\"props\"\u001b[0m\u001b[1;33m]\u001b[0m\u001b[1;33m}\u001b[0m\u001b[1;33m\u001b[0m\u001b[1;33m\u001b[0m\u001b[0m\n\u001b[0;32m    889\u001b[0m         \u001b[1;32mfor\u001b[0m \u001b[0mcss_dict\u001b[0m \u001b[1;32min\u001b[0m \u001b[0mstyles\u001b[0m\u001b[1;33m\u001b[0m\u001b[1;33m\u001b[0m\u001b[0m\n",
      "\u001b[1;32mc:\\Users\\alexsandro.ignacio\\AppData\\Local\\Programs\\Python\\Python39\\lib\\site-packages\\pandas\\io\\formats\\style_render.py\u001b[0m in \u001b[0;36m<listcomp>\u001b[1;34m(.0)\u001b[0m\n\u001b[0;32m    888\u001b[0m         \u001b[1;33m{\u001b[0m\u001b[1;34m\"selector\"\u001b[0m\u001b[1;33m:\u001b[0m \u001b[0mselector\u001b[0m\u001b[1;33m,\u001b[0m \u001b[1;34m\"props\"\u001b[0m\u001b[1;33m:\u001b[0m \u001b[0mcss_dict\u001b[0m\u001b[1;33m[\u001b[0m\u001b[1;34m\"props\"\u001b[0m\u001b[1;33m]\u001b[0m\u001b[1;33m}\u001b[0m\u001b[1;33m\u001b[0m\u001b[1;33m\u001b[0m\u001b[0m\n\u001b[0;32m    889\u001b[0m         \u001b[1;32mfor\u001b[0m \u001b[0mcss_dict\u001b[0m \u001b[1;32min\u001b[0m \u001b[0mstyles\u001b[0m\u001b[1;33m\u001b[0m\u001b[1;33m\u001b[0m\u001b[0m\n\u001b[1;32m--> 890\u001b[1;33m         \u001b[1;32mfor\u001b[0m \u001b[0mselector\u001b[0m \u001b[1;32min\u001b[0m \u001b[0mcss_dict\u001b[0m\u001b[1;33m[\u001b[0m\u001b[1;34m\"selector\"\u001b[0m\u001b[1;33m]\u001b[0m\u001b[1;33m.\u001b[0m\u001b[0msplit\u001b[0m\u001b[1;33m(\u001b[0m\u001b[1;34m\",\"\u001b[0m\u001b[1;33m)\u001b[0m\u001b[1;33m\u001b[0m\u001b[1;33m\u001b[0m\u001b[0m\n\u001b[0m\u001b[0;32m    891\u001b[0m     ]\n\u001b[0;32m    892\u001b[0m \u001b[1;33m\u001b[0m\u001b[0m\n",
      "\u001b[1;31mAttributeError\u001b[0m: 'list' object has no attribute 'split'"
     ]
    },
    {
     "data": {
      "text/plain": [
       "<pandas.io.formats.style.Styler at 0x252ebd07880>"
      ]
     },
     "execution_count": 23,
     "metadata": {},
     "output_type": "execute_result"
    }
   ],
   "source": [
    "# Dataframe\n",
    "\n",
    "_columns = ['Valor', \n",
    "            'Nomenclatura']\n",
    "\n",
    "_values = [\n",
    "           [1,0], \n",
    "           ['Com Contrato de Energia', 'Sem Contrato de Energia']]\n",
    "\n",
    "_len = len(_columns) \n",
    "_data = {_columns[i]:_values[i] for i in range(0, _len)}\n",
    "_df = pd.DataFrame(data = _data )\n",
    "\n",
    "_table = _df\n",
    "\n",
    "_params = { 'color': 'black',\n",
    "            'align':'center',\n",
    "            'textAlign': 'center',\n",
    "            'fontsize': '8px', \n",
    "            'font-family':'Arial', \n",
    "            'padding':'4px', \n",
    "            'margin': '4px',\n",
    "            'border': '1px solid grey'\n",
    "}\n",
    "\n",
    "\n",
    "styles = [\n",
    "    dict(\n",
    "        selector = ['div'],\n",
    "        props=[\n",
    "            ('border-collapse', 'separate'), \n",
    "            ('border-spacing',  '1px 1px'),\n",
    "\n",
    "        ]\n",
    "    ),\n",
    "    dict(\n",
    "        selector = ['th'],\n",
    "        props = [('display', 'None'),\n",
    "                 ('align-text', 'center'),\n",
    "                 ('align', 'center')\n",
    "        ]\n",
    "    )\n",
    "] \n",
    "\n",
    "def highlight_contrato(df, props=''):\n",
    "    return np.where((df == 1) | (df == 'Com Contrato de Energia'), props, 'color:black; background-color:#F3F3F3')\n",
    "\n",
    "_table = _table.style.set_properties(**_params).set_table_styles(styles).hide_index()\n",
    "\n",
    "_table = _table.apply(highlight_contrato, props='color:black; background-color:#EAFB15', axis=0)\n",
    "\n",
    "result = _table\n",
    "result"
   ]
  }
 ],
 "metadata": {
  "kernelspec": {
   "display_name": "Python 3.9.6 64-bit",
   "language": "python",
   "name": "python3"
  },
  "language_info": {
   "codemirror_mode": {
    "name": "ipython",
    "version": 3
   },
   "file_extension": ".py",
   "mimetype": "text/x-python",
   "name": "python",
   "nbconvert_exporter": "python",
   "pygments_lexer": "ipython3",
   "version": "3.9.6"
  },
  "orig_nbformat": 4,
  "vscode": {
   "interpreter": {
    "hash": "75b64ca35833826d255b5110be976b8b491e59919d991eceebad02336ca41c97"
   }
  }
 },
 "nbformat": 4,
 "nbformat_minor": 2
}
