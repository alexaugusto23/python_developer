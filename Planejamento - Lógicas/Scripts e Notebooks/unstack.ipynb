{
 "cells": [
  {
   "cell_type": "code",
   "execution_count": 3,
   "metadata": {},
   "outputs": [],
   "source": [
    "import pandas as pd"
   ]
  },
  {
   "cell_type": "code",
   "execution_count": 1,
   "metadata": {},
   "outputs": [
    {
     "data": {
      "text/plain": [
       "[['2022.04',\n",
       "  'COLÔMBIA',\n",
       "  '25032',\n",
       "  21.0,\n",
       "  10076.120418548584,\n",
       "  'MAQUIAGEM',\n",
       "  'OLHOS',\n",
       "  'PHASEOUT',\n",
       "  'QUARTETO DE SOMBRAS GOLD'],\n",
       " ['2022.05',\n",
       "  'COLÔMBIA',\n",
       "  '25032',\n",
       "  16.0,\n",
       "  609.4299964904785,\n",
       "  'MAQUIAGEM',\n",
       "  'OLHOS',\n",
       "  'PHASEOUT',\n",
       "  'QUARTETO DE SOMBRAS GOLD']]"
      ]
     },
     "execution_count": 1,
     "metadata": {},
     "output_type": "execute_result"
    }
   ],
   "source": [
    "data1 = [['2022.04', 'COLÔMBIA', '25032', 21.0, 10076.120418548584, 'MAQUIAGEM', 'OLHOS', 'PHASEOUT', 'QUARTETO DE SOMBRAS GOLD'], ['2022.05', 'COLÔMBIA', '25032', 16.0, 609.4299964904785, 'MAQUIAGEM', 'OLHOS', 'PHASEOUT', 'QUARTETO DE SOMBRAS GOLD']]\n",
    "data1"
   ]
  },
  {
   "cell_type": "code",
   "execution_count": 5,
   "metadata": {},
   "outputs": [],
   "source": [
    "_cols1 = ['time', 'pais', 'cod_produto', 'volume', 'receita', 'categoria', 'subcategoria', 'status', 'descricao']"
   ]
  },
  {
   "cell_type": "code",
   "execution_count": 8,
   "metadata": {},
   "outputs": [
    {
     "data": {
      "text/html": [
       "<div>\n",
       "<style scoped>\n",
       "    .dataframe tbody tr th:only-of-type {\n",
       "        vertical-align: middle;\n",
       "    }\n",
       "\n",
       "    .dataframe tbody tr th {\n",
       "        vertical-align: top;\n",
       "    }\n",
       "\n",
       "    .dataframe thead th {\n",
       "        text-align: right;\n",
       "    }\n",
       "</style>\n",
       "<table border=\"1\" class=\"dataframe\">\n",
       "  <thead>\n",
       "    <tr style=\"text-align: right;\">\n",
       "      <th></th>\n",
       "      <th>time</th>\n",
       "      <th>pais</th>\n",
       "      <th>cod_produto</th>\n",
       "      <th>volume</th>\n",
       "      <th>receita</th>\n",
       "      <th>categoria</th>\n",
       "      <th>subcategoria</th>\n",
       "      <th>status</th>\n",
       "      <th>descricao</th>\n",
       "    </tr>\n",
       "  </thead>\n",
       "  <tbody>\n",
       "    <tr>\n",
       "      <th>0</th>\n",
       "      <td>2022.04</td>\n",
       "      <td>COLÔMBIA</td>\n",
       "      <td>25032</td>\n",
       "      <td>21.0</td>\n",
       "      <td>10076.120419</td>\n",
       "      <td>MAQUIAGEM</td>\n",
       "      <td>OLHOS</td>\n",
       "      <td>PHASEOUT</td>\n",
       "      <td>QUARTETO DE SOMBRAS GOLD</td>\n",
       "    </tr>\n",
       "    <tr>\n",
       "      <th>1</th>\n",
       "      <td>2022.05</td>\n",
       "      <td>COLÔMBIA</td>\n",
       "      <td>25032</td>\n",
       "      <td>16.0</td>\n",
       "      <td>609.429996</td>\n",
       "      <td>MAQUIAGEM</td>\n",
       "      <td>OLHOS</td>\n",
       "      <td>PHASEOUT</td>\n",
       "      <td>QUARTETO DE SOMBRAS GOLD</td>\n",
       "    </tr>\n",
       "  </tbody>\n",
       "</table>\n",
       "</div>"
      ],
      "text/plain": [
       "      time      pais cod_produto  volume       receita  categoria  \\\n",
       "0  2022.04  COLÔMBIA       25032    21.0  10076.120419  MAQUIAGEM   \n",
       "1  2022.05  COLÔMBIA       25032    16.0    609.429996  MAQUIAGEM   \n",
       "\n",
       "  subcategoria    status                 descricao  \n",
       "0        OLHOS  PHASEOUT  QUARTETO DE SOMBRAS GOLD  \n",
       "1        OLHOS  PHASEOUT  QUARTETO DE SOMBRAS GOLD  "
      ]
     },
     "execution_count": 8,
     "metadata": {},
     "output_type": "execute_result"
    }
   ],
   "source": [
    "_df1 = pd.DataFrame( data=data1, columns=_cols1  )\n",
    "_df1"
   ]
  },
  {
   "cell_type": "code",
   "execution_count": 9,
   "metadata": {},
   "outputs": [
    {
     "data": {
      "text/plain": [
       "[['2022.04',\n",
       "  'BRASIL',\n",
       "  '100',\n",
       "  52655.33,\n",
       "  8061.0,\n",
       "  'CABELOS',\n",
       "  'LEAVE-IN',\n",
       "  'REGULAR',\n",
       "  'HINOS HOLY ÓLEO PARA CABELOS'],\n",
       " ['2022.05',\n",
       "  'BRASIL',\n",
       "  '100',\n",
       "  51398.12,\n",
       "  7780.0,\n",
       "  'CABELOS',\n",
       "  'LEAVE-IN',\n",
       "  'REGULAR',\n",
       "  'HINOS HOLY ÓLEO PARA CABELOS']]"
      ]
     },
     "execution_count": 9,
     "metadata": {},
     "output_type": "execute_result"
    }
   ],
   "source": [
    "data2 = [['2022.04', 'BRASIL', '100', 52655.33, 8061.0, 'CABELOS', 'LEAVE-IN', 'REGULAR', 'HINOS HOLY ÓLEO PARA CABELOS'], ['2022.05', 'BRASIL', '100', 51398.12, 7780.0, 'CABELOS', 'LEAVE-IN', 'REGULAR', 'HINOS HOLY ÓLEO PARA CABELOS']]\n",
    "data2"
   ]
  },
  {
   "cell_type": "code",
   "execution_count": 10,
   "metadata": {},
   "outputs": [],
   "source": [
    "_cols2 = ['time', 'pais', 'cod_produto', 'receita', 'volume', 'categoria', 'subcategoria', 'status', 'descricao']"
   ]
  },
  {
   "cell_type": "code",
   "execution_count": 11,
   "metadata": {},
   "outputs": [
    {
     "data": {
      "text/html": [
       "<div>\n",
       "<style scoped>\n",
       "    .dataframe tbody tr th:only-of-type {\n",
       "        vertical-align: middle;\n",
       "    }\n",
       "\n",
       "    .dataframe tbody tr th {\n",
       "        vertical-align: top;\n",
       "    }\n",
       "\n",
       "    .dataframe thead th {\n",
       "        text-align: right;\n",
       "    }\n",
       "</style>\n",
       "<table border=\"1\" class=\"dataframe\">\n",
       "  <thead>\n",
       "    <tr style=\"text-align: right;\">\n",
       "      <th></th>\n",
       "      <th>time</th>\n",
       "      <th>pais</th>\n",
       "      <th>cod_produto</th>\n",
       "      <th>receita</th>\n",
       "      <th>volume</th>\n",
       "      <th>categoria</th>\n",
       "      <th>subcategoria</th>\n",
       "      <th>status</th>\n",
       "      <th>descricao</th>\n",
       "    </tr>\n",
       "  </thead>\n",
       "  <tbody>\n",
       "    <tr>\n",
       "      <th>0</th>\n",
       "      <td>2022.04</td>\n",
       "      <td>BRASIL</td>\n",
       "      <td>100</td>\n",
       "      <td>52655.33</td>\n",
       "      <td>8061.0</td>\n",
       "      <td>CABELOS</td>\n",
       "      <td>LEAVE-IN</td>\n",
       "      <td>REGULAR</td>\n",
       "      <td>HINOS HOLY ÓLEO PARA CABELOS</td>\n",
       "    </tr>\n",
       "    <tr>\n",
       "      <th>1</th>\n",
       "      <td>2022.05</td>\n",
       "      <td>BRASIL</td>\n",
       "      <td>100</td>\n",
       "      <td>51398.12</td>\n",
       "      <td>7780.0</td>\n",
       "      <td>CABELOS</td>\n",
       "      <td>LEAVE-IN</td>\n",
       "      <td>REGULAR</td>\n",
       "      <td>HINOS HOLY ÓLEO PARA CABELOS</td>\n",
       "    </tr>\n",
       "  </tbody>\n",
       "</table>\n",
       "</div>"
      ],
      "text/plain": [
       "      time    pais cod_produto   receita  volume categoria subcategoria  \\\n",
       "0  2022.04  BRASIL         100  52655.33  8061.0   CABELOS     LEAVE-IN   \n",
       "1  2022.05  BRASIL         100  51398.12  7780.0   CABELOS     LEAVE-IN   \n",
       "\n",
       "    status                     descricao  \n",
       "0  REGULAR  HINOS HOLY ÓLEO PARA CABELOS  \n",
       "1  REGULAR  HINOS HOLY ÓLEO PARA CABELOS  "
      ]
     },
     "execution_count": 11,
     "metadata": {},
     "output_type": "execute_result"
    }
   ],
   "source": [
    "_df2 = pd.DataFrame( data=data2, columns=_cols2  )\n",
    "_df2"
   ]
  },
  {
   "cell_type": "code",
   "execution_count": 12,
   "metadata": {},
   "outputs": [
    {
     "name": "stderr",
     "output_type": "stream",
     "text": [
      "c:\\Users\\alexsandro.ignacio\\AppData\\Local\\Programs\\Python\\Python39\\lib\\site-packages\\pandas\\core\\generic.py:4150: PerformanceWarning: dropping on a non-lexsorted multi-index without a level parameter may impact performance.\n",
      "  obj = obj._drop_axis(labels, axis, level=level, errors=errors)\n"
     ]
    },
    {
     "ename": "KeyError",
     "evalue": "'sellin'",
     "output_type": "error",
     "traceback": [
      "\u001b[1;31m---------------------------------------------------------------------------\u001b[0m",
      "\u001b[1;31mKeyError\u001b[0m                                  Traceback (most recent call last)",
      "\u001b[1;32mc:\\Users\\alexsandro.ignacio\\AppData\\Local\\Programs\\Python\\Python39\\lib\\site-packages\\pandas\\core\\indexes\\base.py\u001b[0m in \u001b[0;36mget_loc\u001b[1;34m(self, key, method, tolerance)\u001b[0m\n\u001b[0;32m   3360\u001b[0m             \u001b[1;32mtry\u001b[0m\u001b[1;33m:\u001b[0m\u001b[1;33m\u001b[0m\u001b[1;33m\u001b[0m\u001b[0m\n\u001b[1;32m-> 3361\u001b[1;33m                 \u001b[1;32mreturn\u001b[0m \u001b[0mself\u001b[0m\u001b[1;33m.\u001b[0m\u001b[0m_engine\u001b[0m\u001b[1;33m.\u001b[0m\u001b[0mget_loc\u001b[0m\u001b[1;33m(\u001b[0m\u001b[0mcasted_key\u001b[0m\u001b[1;33m)\u001b[0m\u001b[1;33m\u001b[0m\u001b[1;33m\u001b[0m\u001b[0m\n\u001b[0m\u001b[0;32m   3362\u001b[0m             \u001b[1;32mexcept\u001b[0m \u001b[0mKeyError\u001b[0m \u001b[1;32mas\u001b[0m \u001b[0merr\u001b[0m\u001b[1;33m:\u001b[0m\u001b[1;33m\u001b[0m\u001b[1;33m\u001b[0m\u001b[0m\n",
      "\u001b[1;32mc:\\Users\\alexsandro.ignacio\\AppData\\Local\\Programs\\Python\\Python39\\lib\\site-packages\\pandas\\_libs\\index.pyx\u001b[0m in \u001b[0;36mpandas._libs.index.IndexEngine.get_loc\u001b[1;34m()\u001b[0m\n",
      "\u001b[1;32mc:\\Users\\alexsandro.ignacio\\AppData\\Local\\Programs\\Python\\Python39\\lib\\site-packages\\pandas\\_libs\\index.pyx\u001b[0m in \u001b[0;36mpandas._libs.index.IndexEngine.get_loc\u001b[1;34m()\u001b[0m\n",
      "\u001b[1;32mpandas\\_libs\\hashtable_class_helper.pxi\u001b[0m in \u001b[0;36mpandas._libs.hashtable.PyObjectHashTable.get_item\u001b[1;34m()\u001b[0m\n",
      "\u001b[1;32mpandas\\_libs\\hashtable_class_helper.pxi\u001b[0m in \u001b[0;36mpandas._libs.hashtable.PyObjectHashTable.get_item\u001b[1;34m()\u001b[0m\n",
      "\u001b[1;31mKeyError\u001b[0m: 'sellin'",
      "\nThe above exception was the direct cause of the following exception:\n",
      "\u001b[1;31mKeyError\u001b[0m                                  Traceback (most recent call last)",
      "\u001b[1;32mC:\\Users\\ALEXSA~1.IGN\\AppData\\Local\\Temp/ipykernel_12996/3999106024.py\u001b[0m in \u001b[0;36m<module>\u001b[1;34m\u001b[0m\n\u001b[0;32m     27\u001b[0m \u001b[0m_df\u001b[0m \u001b[1;33m=\u001b[0m \u001b[0m_df\u001b[0m\u001b[1;33m.\u001b[0m\u001b[0mgroupby\u001b[0m\u001b[1;33m(\u001b[0m\u001b[1;33m[\u001b[0m\u001b[1;34m'time'\u001b[0m\u001b[1;33m,\u001b[0m \u001b[1;34m'pais'\u001b[0m\u001b[1;33m]\u001b[0m\u001b[1;33m)\u001b[0m\u001b[1;33m.\u001b[0m\u001b[0msum\u001b[0m\u001b[1;33m(\u001b[0m\u001b[1;33m)\u001b[0m\u001b[1;33m\u001b[0m\u001b[1;33m\u001b[0m\u001b[0m\n\u001b[0;32m     28\u001b[0m \u001b[1;33m\u001b[0m\u001b[0m\n\u001b[1;32m---> 29\u001b[1;33m \u001b[0m_df\u001b[0m\u001b[1;33m[\u001b[0m\u001b[1;34m'perc'\u001b[0m\u001b[1;33m]\u001b[0m \u001b[1;33m=\u001b[0m \u001b[0m_df\u001b[0m\u001b[1;33m[\u001b[0m\u001b[1;34m'sellin'\u001b[0m\u001b[1;33m]\u001b[0m \u001b[1;33m/\u001b[0m \u001b[0m_df\u001b[0m\u001b[1;33m[\u001b[0m\u001b[1;34m'sellout'\u001b[0m\u001b[1;33m]\u001b[0m\u001b[1;33m\u001b[0m\u001b[1;33m\u001b[0m\u001b[0m\n\u001b[0m\u001b[0;32m     30\u001b[0m \u001b[1;33m\u001b[0m\u001b[0m\n\u001b[0;32m     31\u001b[0m \u001b[0mresult\u001b[0m \u001b[1;33m=\u001b[0m \u001b[0m_df\u001b[0m\u001b[1;33m\u001b[0m\u001b[1;33m\u001b[0m\u001b[0m\n",
      "\u001b[1;32mc:\\Users\\alexsandro.ignacio\\AppData\\Local\\Programs\\Python\\Python39\\lib\\site-packages\\pandas\\core\\frame.py\u001b[0m in \u001b[0;36m__getitem__\u001b[1;34m(self, key)\u001b[0m\n\u001b[0;32m   3453\u001b[0m             \u001b[1;32mif\u001b[0m \u001b[0mself\u001b[0m\u001b[1;33m.\u001b[0m\u001b[0mcolumns\u001b[0m\u001b[1;33m.\u001b[0m\u001b[0mnlevels\u001b[0m \u001b[1;33m>\u001b[0m \u001b[1;36m1\u001b[0m\u001b[1;33m:\u001b[0m\u001b[1;33m\u001b[0m\u001b[1;33m\u001b[0m\u001b[0m\n\u001b[0;32m   3454\u001b[0m                 \u001b[1;32mreturn\u001b[0m \u001b[0mself\u001b[0m\u001b[1;33m.\u001b[0m\u001b[0m_getitem_multilevel\u001b[0m\u001b[1;33m(\u001b[0m\u001b[0mkey\u001b[0m\u001b[1;33m)\u001b[0m\u001b[1;33m\u001b[0m\u001b[1;33m\u001b[0m\u001b[0m\n\u001b[1;32m-> 3455\u001b[1;33m             \u001b[0mindexer\u001b[0m \u001b[1;33m=\u001b[0m \u001b[0mself\u001b[0m\u001b[1;33m.\u001b[0m\u001b[0mcolumns\u001b[0m\u001b[1;33m.\u001b[0m\u001b[0mget_loc\u001b[0m\u001b[1;33m(\u001b[0m\u001b[0mkey\u001b[0m\u001b[1;33m)\u001b[0m\u001b[1;33m\u001b[0m\u001b[1;33m\u001b[0m\u001b[0m\n\u001b[0m\u001b[0;32m   3456\u001b[0m             \u001b[1;32mif\u001b[0m \u001b[0mis_integer\u001b[0m\u001b[1;33m(\u001b[0m\u001b[0mindexer\u001b[0m\u001b[1;33m)\u001b[0m\u001b[1;33m:\u001b[0m\u001b[1;33m\u001b[0m\u001b[1;33m\u001b[0m\u001b[0m\n\u001b[0;32m   3457\u001b[0m                 \u001b[0mindexer\u001b[0m \u001b[1;33m=\u001b[0m \u001b[1;33m[\u001b[0m\u001b[0mindexer\u001b[0m\u001b[1;33m]\u001b[0m\u001b[1;33m\u001b[0m\u001b[1;33m\u001b[0m\u001b[0m\n",
      "\u001b[1;32mc:\\Users\\alexsandro.ignacio\\AppData\\Local\\Programs\\Python\\Python39\\lib\\site-packages\\pandas\\core\\indexes\\base.py\u001b[0m in \u001b[0;36mget_loc\u001b[1;34m(self, key, method, tolerance)\u001b[0m\n\u001b[0;32m   3361\u001b[0m                 \u001b[1;32mreturn\u001b[0m \u001b[0mself\u001b[0m\u001b[1;33m.\u001b[0m\u001b[0m_engine\u001b[0m\u001b[1;33m.\u001b[0m\u001b[0mget_loc\u001b[0m\u001b[1;33m(\u001b[0m\u001b[0mcasted_key\u001b[0m\u001b[1;33m)\u001b[0m\u001b[1;33m\u001b[0m\u001b[1;33m\u001b[0m\u001b[0m\n\u001b[0;32m   3362\u001b[0m             \u001b[1;32mexcept\u001b[0m \u001b[0mKeyError\u001b[0m \u001b[1;32mas\u001b[0m \u001b[0merr\u001b[0m\u001b[1;33m:\u001b[0m\u001b[1;33m\u001b[0m\u001b[1;33m\u001b[0m\u001b[0m\n\u001b[1;32m-> 3363\u001b[1;33m                 \u001b[1;32mraise\u001b[0m \u001b[0mKeyError\u001b[0m\u001b[1;33m(\u001b[0m\u001b[0mkey\u001b[0m\u001b[1;33m)\u001b[0m \u001b[1;32mfrom\u001b[0m \u001b[0merr\u001b[0m\u001b[1;33m\u001b[0m\u001b[1;33m\u001b[0m\u001b[0m\n\u001b[0m\u001b[0;32m   3364\u001b[0m \u001b[1;33m\u001b[0m\u001b[0m\n\u001b[0;32m   3365\u001b[0m         \u001b[1;32mif\u001b[0m \u001b[0mis_scalar\u001b[0m\u001b[1;33m(\u001b[0m\u001b[0mkey\u001b[0m\u001b[1;33m)\u001b[0m \u001b[1;32mand\u001b[0m \u001b[0misna\u001b[0m\u001b[1;33m(\u001b[0m\u001b[0mkey\u001b[0m\u001b[1;33m)\u001b[0m \u001b[1;32mand\u001b[0m \u001b[1;32mnot\u001b[0m \u001b[0mself\u001b[0m\u001b[1;33m.\u001b[0m\u001b[0mhasnans\u001b[0m\u001b[1;33m:\u001b[0m\u001b[1;33m\u001b[0m\u001b[1;33m\u001b[0m\u001b[0m\n",
      "\u001b[1;31mKeyError\u001b[0m: 'sellin'"
     ]
    }
   ],
   "source": [
    "_df1 = _df1.copy()\n",
    "_df2 = _df2.copy()\n",
    "\n",
    "_cols = ['time', 'pais', 'cod_produto', 'categoria',\n",
    "       'subcategoria', 'status', 'descricao', 'volume'] # 'receita',\n",
    "_df1 = _df1[_cols].fillna(0.)\n",
    "_df2 = _df2[_cols].fillna(0.)\n",
    "\n",
    "_df1['measure'] = 'sellout'\n",
    "_df2['measure'] = 'sellin'\n",
    "\n",
    "_df = _df1.append(_df2).reset_index(drop=True).sort_values(['time', 'pais', 'cod_produto', 'categoria', 'measure'])\n",
    "\n",
    "_df = _df[_df['pais'] == 'PERU'].reset_index()\n",
    "\n",
    "_df = _df.set_index(['index', 'time', 'pais', 'cod_produto', 'categoria','subcategoria', 'status', 'descricao', 'measure'])\n",
    "\n",
    "_df = _df.unstack(-1)\n",
    "\n",
    "_df = _df.reset_index().drop(['index'],axis=1)\n",
    "\n",
    "_cols = [col for col in _df.columns.get_level_values(0) if col != 'volume'] + [col for col in _df.columns.get_level_values(1) if col != ''] \n",
    "\n",
    "_df = _df.droplevel(level=0, axis=1).fillna(0.)\n",
    "_df.columns = _cols\n",
    "\n",
    "_df = _df.groupby(['time', 'pais']).sum()\n",
    "\n",
    "_df['perc'] = _df['sellin'] / _df['sellout'] \n",
    "\n",
    "result = _df"
   ]
  }
 ],
 "metadata": {
  "kernelspec": {
   "display_name": "Python 3",
   "language": "python",
   "name": "python3"
  },
  "language_info": {
   "codemirror_mode": {
    "name": "ipython",
    "version": 3
   },
   "file_extension": ".py",
   "mimetype": "text/x-python",
   "name": "python",
   "nbconvert_exporter": "python",
   "pygments_lexer": "ipython3",
   "version": "3.9.6"
  },
  "orig_nbformat": 4,
  "vscode": {
   "interpreter": {
    "hash": "75b64ca35833826d255b5110be976b8b491e59919d991eceebad02336ca41c97"
   }
  }
 },
 "nbformat": 4,
 "nbformat_minor": 2
}
