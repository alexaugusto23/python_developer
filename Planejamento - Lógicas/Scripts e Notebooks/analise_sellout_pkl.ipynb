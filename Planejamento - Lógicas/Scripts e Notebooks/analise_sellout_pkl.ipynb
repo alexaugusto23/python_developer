{
 "cells": [
  {
   "cell_type": "markdown",
   "metadata": {},
   "source": [
    "### Imports"
   ]
  },
  {
   "cell_type": "code",
   "execution_count": 1,
   "metadata": {},
   "outputs": [],
   "source": [
    "import os\n",
    "import pickle\n",
    "import pandas as pd"
   ]
  },
  {
   "cell_type": "markdown",
   "metadata": {},
   "source": [
    "### Leitura da Base"
   ]
  },
  {
   "cell_type": "code",
   "execution_count": 2,
   "metadata": {},
   "outputs": [],
   "source": [
    "_df = pd.read_csv(\"C:/Users/alexsandro.ignacio/Downloads/base_sellout.txt\", sep=\";\")"
   ]
  },
  {
   "cell_type": "markdown",
   "metadata": {},
   "source": [
    "* Quantidade de linhas e colunas."
   ]
  },
  {
   "cell_type": "code",
   "execution_count": 3,
   "metadata": {},
   "outputs": [
    {
     "data": {
      "text/plain": [
       "(88024748, 9)"
      ]
     },
     "execution_count": 3,
     "metadata": {},
     "output_type": "execute_result"
    }
   ],
   "source": [
    "_df.shape"
   ]
  },
  {
   "cell_type": "markdown",
   "metadata": {},
   "source": [
    "### Colunas da base."
   ]
  },
  {
   "cell_type": "code",
   "execution_count": 4,
   "metadata": {},
   "outputs": [
    {
     "data": {
      "text/plain": [
       "['Ano',\n",
       " 'Mes',\n",
       " 'PAIS_EMITENTE',\n",
       " 'ID_CONSULTOR',\n",
       " 'ID_PRODUTO',\n",
       " 'DESCR_PRODUTO',\n",
       " 'CLASS_PEDIDO',\n",
       " 'SellOut',\n",
       " 'Volume']"
      ]
     },
     "execution_count": 4,
     "metadata": {},
     "output_type": "execute_result"
    }
   ],
   "source": [
    "_df.columns.tolist()"
   ]
  },
  {
   "cell_type": "markdown",
   "metadata": {},
   "source": [
    "### Tipos de dados."
   ]
  },
  {
   "cell_type": "code",
   "execution_count": 5,
   "metadata": {},
   "outputs": [
    {
     "data": {
      "text/plain": [
       "Ano               int64\n",
       "Mes               int64\n",
       "PAIS_EMITENTE    object\n",
       "ID_CONSULTOR      int64\n",
       "ID_PRODUTO        int64\n",
       "DESCR_PRODUTO    object\n",
       "CLASS_PEDIDO     object\n",
       "SellOut          object\n",
       "Volume            int64\n",
       "dtype: object"
      ]
     },
     "execution_count": 5,
     "metadata": {},
     "output_type": "execute_result"
    }
   ],
   "source": [
    "_df.dtypes"
   ]
  },
  {
   "cell_type": "code",
   "execution_count": 6,
   "metadata": {},
   "outputs": [
    {
     "data": {
      "text/plain": [
       "Index(['ano', 'mes', 'pais_emitente', 'id_consultor', 'id_produto',\n",
       "       'descr_produto', 'class_pedido', 'sellout', 'volume'],\n",
       "      dtype='object')"
      ]
     },
     "execution_count": 6,
     "metadata": {},
     "output_type": "execute_result"
    }
   ],
   "source": [
    "_df.columns = [ x.lower() for x in _df.columns]\n",
    "_df.columns\n",
    "\n"
   ]
  },
  {
   "cell_type": "code",
   "execution_count": 7,
   "metadata": {},
   "outputs": [
    {
     "data": {
      "text/html": [
       "<div>\n",
       "<style scoped>\n",
       "    .dataframe tbody tr th:only-of-type {\n",
       "        vertical-align: middle;\n",
       "    }\n",
       "\n",
       "    .dataframe tbody tr th {\n",
       "        vertical-align: top;\n",
       "    }\n",
       "\n",
       "    .dataframe thead th {\n",
       "        text-align: right;\n",
       "    }\n",
       "</style>\n",
       "<table border=\"1\" class=\"dataframe\">\n",
       "  <thead>\n",
       "    <tr style=\"text-align: right;\">\n",
       "      <th></th>\n",
       "      <th>ano</th>\n",
       "      <th>mes</th>\n",
       "      <th>pais_emitente</th>\n",
       "      <th>id_consultor</th>\n",
       "      <th>id_produto</th>\n",
       "      <th>descr_produto</th>\n",
       "      <th>class_pedido</th>\n",
       "      <th>sellout</th>\n",
       "      <th>volume</th>\n",
       "    </tr>\n",
       "  </thead>\n",
       "  <tbody>\n",
       "    <tr>\n",
       "      <th>0</th>\n",
       "      <td>2019</td>\n",
       "      <td>1</td>\n",
       "      <td>BRASIL</td>\n",
       "      <td>2</td>\n",
       "      <td>217</td>\n",
       "      <td>LIZ MULHER SABONETE HIG INTIMA FLORAL 150ML</td>\n",
       "      <td>RECOMPRA</td>\n",
       "      <td>15,850000</td>\n",
       "      <td>1</td>\n",
       "    </tr>\n",
       "    <tr>\n",
       "      <th>1</th>\n",
       "      <td>2019</td>\n",
       "      <td>1</td>\n",
       "      <td>BRASIL</td>\n",
       "      <td>2</td>\n",
       "      <td>223</td>\n",
       "      <td>NAT SKIN LOCAO TONICA 120ML</td>\n",
       "      <td>RECOMPRA</td>\n",
       "      <td>21,000000</td>\n",
       "      <td>1</td>\n",
       "    </tr>\n",
       "  </tbody>\n",
       "</table>\n",
       "</div>"
      ],
      "text/plain": [
       "    ano  mes pais_emitente  id_consultor  id_produto  \\\n",
       "0  2019    1        BRASIL             2         217   \n",
       "1  2019    1        BRASIL             2         223   \n",
       "\n",
       "                                 descr_produto class_pedido    sellout  volume  \n",
       "0  LIZ MULHER SABONETE HIG INTIMA FLORAL 150ML     RECOMPRA  15,850000       1  \n",
       "1                  NAT SKIN LOCAO TONICA 120ML     RECOMPRA  21,000000       1  "
      ]
     },
     "execution_count": 7,
     "metadata": {},
     "output_type": "execute_result"
    }
   ],
   "source": [
    "_df .head(2)"
   ]
  },
  {
   "cell_type": "code",
   "execution_count": 8,
   "metadata": {},
   "outputs": [
    {
     "name": "stdout",
     "output_type": "stream",
     "text": [
      "\n",
      "(29063698, 9)\n",
      "\n",
      "Mes: [ 1  2  3  4  5  6  7  8  9 10 11 12]\n",
      "Paises: ['BRASIL' 'PERU' 'COLÔMBIA' 'EQUADOR' 'BOLÍVIA' 'MÉXICO']\n",
      " Tipo de pedido: ['RECOMPRA' nan 'APERFEIÇOAMENTO' 'KIT' 'COMBO EXECUTIVO'\n",
      " 'COMBO EXECUTIVO TOP' 'COMBO EXECUTIVO PLUS' 'KIT + COMBO EXECUTIVO TOP'\n",
      " 'KIT + COMBO EXECUTIVO' 'KIT + COMBO EXECUTIVO PLUS' 'KIT + RECOMPRA'\n",
      " 'COMBO SUPER PLUS']\n"
     ]
    }
   ],
   "source": [
    "_cond1 = (_df['ano']==2019)\n",
    "_df_2019 = _df[ _cond1 ]\n",
    "\n",
    "_df_2019.head(2)\n",
    "print()\n",
    "print(_df_2019.shape)\n",
    "\n",
    "print(f\"\\nMes: {_df_2019['mes'].unique()}\\nPaises: {_df_2019['pais_emitente'].unique()}\\n Tipo de pedido: {_df_2019['class_pedido'].unique()}\")"
   ]
  },
  {
   "cell_type": "code",
   "execution_count": 9,
   "metadata": {},
   "outputs": [
    {
     "name": "stdout",
     "output_type": "stream",
     "text": [
      "\n",
      "(25388628, 9)\n",
      "\n",
      "Mes: [ 1  2  3  4  5  6  7  8  9 10 11 12]\n",
      "Paises: ['BRASIL' 'MÉXICO' 'BOLÍVIA' 'PERU' 'COLÔMBIA' 'EQUADOR']\n",
      " Tipo de pedido: ['RECOMPRA' nan 'APERFEIÇOAMENTO' 'KIT' 'COMBO EXECUTIVO'\n",
      " 'COMBO EXECUTIVO TOP' 'COMBO SUPER PLUS' 'COMBO EXECUTIVO PLUS'\n",
      " 'KIT + COMBO EXECUTIVO' 'KIT + COMBO EXECUTIVO TOP'\n",
      " 'KIT + COMBO EXECUTIVO PLUS' 'COMBO SUPER EXECUTIVO']\n"
     ]
    }
   ],
   "source": [
    "_cond1 = (_df['ano']==2020)\n",
    "_df_2020 = _df[ _cond1 ]\n",
    "\n",
    "_df_2020.head(2)\n",
    "print()\n",
    "print(_df_2020.shape)\n",
    "\n",
    "print(f\"\\nMes: {_df_2020['mes'].unique()}\\nPaises: {_df_2020['pais_emitente'].unique()}\\n Tipo de pedido: {_df_2020['class_pedido'].unique()}\")"
   ]
  },
  {
   "cell_type": "code",
   "execution_count": 10,
   "metadata": {},
   "outputs": [
    {
     "name": "stdout",
     "output_type": "stream",
     "text": [
      "\n",
      "(20964592, 9)\n",
      "\n",
      "Mes: [ 1  2  3  4  5  6  7  8  9 10 11 12]\n",
      "Paises: ['BRASIL' 'PERU' 'COLÔMBIA' 'MÉXICO' 'BOLÍVIA' 'EQUADOR' 'CHILE'\n",
      " 'PARAGUAI']\n",
      " Tipo de pedido: ['RECOMPRA' nan 'APERFEIÇOAMENTO' 'COMBO EXECUTIVO' 'COMBO EXECUTIVO TOP'\n",
      " 'KIT' 'COMBO LIGHT' 'COMBO SUPER PLUS' 'COMBO EXECUTIVO PLUS'\n",
      " 'KIT + COMBO EXECUTIVO' 'KIT + COMBO EXECUTIVO TOP'\n",
      " 'KIT + COMBO EXECUTIVO PLUS']\n"
     ]
    }
   ],
   "source": [
    "_cond1 = (_df['ano']==2021)\n",
    "_df_2021 = _df[ _cond1 ]\n",
    "\n",
    "_df_2021.head(2)\n",
    "print()\n",
    "print(_df_2021.shape)\n",
    "\n",
    "print(f\"\\nMes: {_df_2021['mes'].unique()}\\nPaises: {_df_2021['pais_emitente'].unique()}\\n Tipo de pedido: {_df_2021['class_pedido'].unique()}\")"
   ]
  },
  {
   "cell_type": "code",
   "execution_count": 11,
   "metadata": {},
   "outputs": [
    {
     "name": "stdout",
     "output_type": "stream",
     "text": [
      "\n",
      "(12607830, 9)\n",
      "\n",
      "Mes: [ 1  2  3  4  5  6  7  8  9 10]\n",
      "Paises: ['BRASIL' 'PERU' 'COLÔMBIA' 'MÉXICO' 'BOLÍVIA' 'EQUADOR' 'PARAGUAI'\n",
      " 'CHILE']\n",
      " Tipo de pedido: ['RECOMPRA' nan 'APERFEIÇOAMENTO' 'COMBO EXECUTIVO TOP' 'COMBO EXECUTIVO'\n",
      " 'KIT' 'COMBO LIGHT' 'COMBO SUPER PLUS' 'COMBO EXECUTIVO PLUS'\n",
      " 'KIT + COMBO EXECUTIVO TOP' 'KIT + COMBO EXECUTIVO'\n",
      " 'KIT + COMBO EXECUTIVO PLUS' 'COMBO TOP' 'COMBO PRIME' 'KIT + COMBO TOP'\n",
      " 'KIT + COMBO PRIME' 'KIT + RECOMPRA' 'COMBO BASIC' 'KIT + COMBO BASIC']\n"
     ]
    }
   ],
   "source": [
    "_cond1 = (_df['ano']==2022)\n",
    "_df_2022 = _df[ _cond1 ]\n",
    "\n",
    "_df_2022.head(2)\n",
    "print()\n",
    "print(_df_2022.shape)\n",
    "\n",
    "print(f\"\\nMes: {_df_2022['mes'].unique()}\\nPaises: {_df_2022['pais_emitente'].unique()}\\n Tipo de pedido: {_df_2022['class_pedido'].unique()}\")"
   ]
  },
  {
   "cell_type": "code",
   "execution_count": 12,
   "metadata": {},
   "outputs": [
    {
     "data": {
      "text/plain": [
       "['ano',\n",
       " 'mes',\n",
       " 'pais_emitente',\n",
       " 'id_consultor',\n",
       " 'id_produto',\n",
       " 'descr_produto',\n",
       " 'class_pedido',\n",
       " 'sellout',\n",
       " 'volume']"
      ]
     },
     "execution_count": 12,
     "metadata": {},
     "output_type": "execute_result"
    }
   ],
   "source": [
    "['ano', 'mes', 'pais_emitente', 'id_consultor', 'id_produto',\n",
    "       'descr_produto', 'class_pedido', 'sellout', 'volume']"
   ]
  },
  {
   "cell_type": "code",
   "execution_count": 13,
   "metadata": {},
   "outputs": [
    {
     "data": {
      "text/html": [
       "<div>\n",
       "<style scoped>\n",
       "    .dataframe tbody tr th:only-of-type {\n",
       "        vertical-align: middle;\n",
       "    }\n",
       "\n",
       "    .dataframe tbody tr th {\n",
       "        vertical-align: top;\n",
       "    }\n",
       "\n",
       "    .dataframe thead th {\n",
       "        text-align: right;\n",
       "    }\n",
       "</style>\n",
       "<table border=\"1\" class=\"dataframe\">\n",
       "  <thead>\n",
       "    <tr style=\"text-align: right;\">\n",
       "      <th></th>\n",
       "      <th>ano</th>\n",
       "      <th>mes</th>\n",
       "      <th>pais_emitente</th>\n",
       "      <th>id_consultor</th>\n",
       "      <th>id_produto</th>\n",
       "      <th>descr_produto</th>\n",
       "      <th>class_pedido</th>\n",
       "      <th>sellout</th>\n",
       "      <th>volume</th>\n",
       "    </tr>\n",
       "  </thead>\n",
       "  <tbody>\n",
       "    <tr>\n",
       "      <th>84920739</th>\n",
       "      <td>2022</td>\n",
       "      <td>8</td>\n",
       "      <td>BRASIL</td>\n",
       "      <td>2</td>\n",
       "      <td>10115</td>\n",
       "      <td>FEELIN SEXY FEM</td>\n",
       "      <td>RECOMPRA</td>\n",
       "      <td>78,450000</td>\n",
       "      <td>1</td>\n",
       "    </tr>\n",
       "    <tr>\n",
       "      <th>84920740</th>\n",
       "      <td>2022</td>\n",
       "      <td>8</td>\n",
       "      <td>BRASIL</td>\n",
       "      <td>2</td>\n",
       "      <td>10116</td>\n",
       "      <td>FEELIN SEXY MASC</td>\n",
       "      <td>RECOMPRA</td>\n",
       "      <td>78,450000</td>\n",
       "      <td>1</td>\n",
       "    </tr>\n",
       "  </tbody>\n",
       "</table>\n",
       "</div>"
      ],
      "text/plain": [
       "           ano  mes pais_emitente  id_consultor  id_produto     descr_produto  \\\n",
       "84920739  2022    8        BRASIL             2       10115   FEELIN SEXY FEM   \n",
       "84920740  2022    8        BRASIL             2       10116  FEELIN SEXY MASC   \n",
       "\n",
       "         class_pedido    sellout  volume  \n",
       "84920739     RECOMPRA  78,450000       1  \n",
       "84920740     RECOMPRA  78,450000       1  "
      ]
     },
     "execution_count": 13,
     "metadata": {},
     "output_type": "execute_result"
    }
   ],
   "source": [
    "_cond1 = (_df['ano']==2022)\n",
    "_cond2 = (_df['mes']==8)\n",
    "_df_2022_agosto = _df[ _cond1 & _cond2 ]\n",
    "\n",
    "_df_2022_agosto.head(2)"
   ]
  },
  {
   "cell_type": "code",
   "execution_count": 14,
   "metadata": {},
   "outputs": [
    {
     "name": "stdout",
     "output_type": "stream",
     "text": [
      "(1278076, 9)\n"
     ]
    }
   ],
   "source": [
    "print(_df_2022_agosto.shape)"
   ]
  },
  {
   "cell_type": "code",
   "execution_count": 15,
   "metadata": {},
   "outputs": [],
   "source": [
    "# _df_2019_agost_group = _df_2022_agosto.groupby(['ano', 'mes', 'pais_emitente']).agg({'sellout':'sum','volume':'sum'})\n",
    "# _df_2019_agost_group"
   ]
  },
  {
   "cell_type": "code",
   "execution_count": 16,
   "metadata": {},
   "outputs": [],
   "source": [
    "# _df_2019.to_pickle(\"C:/Users/alexsandro.ignacio/Downloads/sellout_2019.pkl\", compression='infer')"
   ]
  },
  {
   "cell_type": "code",
   "execution_count": 17,
   "metadata": {},
   "outputs": [],
   "source": [
    "# _df_2020.to_pickle(\"C:/Users/alexsandro.ignacio/Downloads/sellout_2020.pkl\", compression='infer')"
   ]
  },
  {
   "cell_type": "code",
   "execution_count": 18,
   "metadata": {},
   "outputs": [],
   "source": [
    "# _df_2021.to_pickle(\"C:/Users/alexsandro.ignacio/Downloads/sellout_2021.pkl\", compression='infer')"
   ]
  },
  {
   "cell_type": "code",
   "execution_count": 19,
   "metadata": {},
   "outputs": [],
   "source": [
    "# _df_2022.to_pickle(\"C:/Users/alexsandro.ignacio/Downloads/sellout_2022.pkl\", compression='infer')"
   ]
  },
  {
   "cell_type": "code",
   "execution_count": 20,
   "metadata": {},
   "outputs": [],
   "source": [
    "# _df.to_parquet(\"C:/Users/alexsandro.ignacio/Downloads/sellout.parquet\", partition_cols=['ano', 'pais'])"
   ]
  },
  {
   "cell_type": "code",
   "execution_count": 22,
   "metadata": {},
   "outputs": [],
   "source": [
    "# _df_2019.to_parquet(\"C:/Users/alexsandro.ignacio/Downloads/sellout_2019\", partition_cols=['pais'])"
   ]
  },
  {
   "cell_type": "markdown",
   "metadata": {},
   "source": [
    "### Gerando bases"
   ]
  },
  {
   "cell_type": "code",
   "execution_count": 28,
   "metadata": {},
   "outputs": [],
   "source": [
    "_lista_pais = _df_2019['mes'].unique().tolist()\n",
    "_lista_pais\n",
    "\n",
    "for x in _lista_pais:\n",
    "    _df_2019_x = _df_2019[_df_2019['mes']==x]\n",
    "    _df_2019_x.to_pickle(f\"C:/Users/alexsandro.ignacio/Downloads/base_sellout_mes/sellout_2019_mes_{x}.pkl\", compression='infer')"
   ]
  },
  {
   "cell_type": "code",
   "execution_count": 29,
   "metadata": {},
   "outputs": [],
   "source": [
    "_lista_pais = _df_2020['mes'].unique().tolist()\n",
    "_lista_pais\n",
    "\n",
    "for x in _lista_pais:\n",
    "    _df_2020_x = _df_2020[_df_2020['mes']==x]\n",
    "    _df_2020_x.to_pickle(f\"C:/Users/alexsandro.ignacio/Downloads/base_sellout_mes/sellout_2020_mes_{x}.pkl\", compression='infer')"
   ]
  },
  {
   "cell_type": "code",
   "execution_count": 30,
   "metadata": {},
   "outputs": [],
   "source": [
    "_lista_pais = _df_2021['mes'].unique().tolist()\n",
    "_lista_pais\n",
    "\n",
    "for x in _lista_pais:\n",
    "    _df_2021_x = _df_2021[_df_2021['mes']==x]\n",
    "    _df_2021_x.to_pickle(f\"C:/Users/alexsandro.ignacio/Downloads/base_sellout_mes/sellout_2021_mes_{x}.pkl\", compression='infer')"
   ]
  },
  {
   "cell_type": "code",
   "execution_count": 31,
   "metadata": {},
   "outputs": [],
   "source": [
    "_lista_pais = _df_2022['mes'].unique().tolist()\n",
    "_lista_pais\n",
    "\n",
    "for x in _lista_pais:\n",
    "    _df_2022_x = _df_2022[_df_2022['mes']==x]\n",
    "    _df_2022_x.to_pickle(f\"C:/Users/alexsandro.ignacio/Downloads/base_sellout_mes/sellout_2022_mes_{x}.pkl\", compression='infer')"
   ]
  }
 ],
 "metadata": {
  "kernelspec": {
   "display_name": "Python 3.9.6 64-bit",
   "language": "python",
   "name": "python3"
  },
  "language_info": {
   "codemirror_mode": {
    "name": "ipython",
    "version": 3
   },
   "file_extension": ".py",
   "mimetype": "text/x-python",
   "name": "python",
   "nbconvert_exporter": "python",
   "pygments_lexer": "ipython3",
   "version": "3.9.6"
  },
  "orig_nbformat": 4,
  "vscode": {
   "interpreter": {
    "hash": "75b64ca35833826d255b5110be976b8b491e59919d991eceebad02336ca41c97"
   }
  }
 },
 "nbformat": 4,
 "nbformat_minor": 2
}
