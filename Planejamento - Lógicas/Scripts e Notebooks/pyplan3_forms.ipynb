{
 "cells": [
  {
   "cell_type": "code",
   "execution_count": null,
   "metadata": {},
   "outputs": [],
   "source": [
    "from pyplan_core.classes.FormTypes import FormColumn, FormSettings, DataType, ColumnType, DatabaseConnectionString, SQLiteConnection, PostgreSQLConnection\n",
    "\n",
    "# Condição que determina se a coluna é somente leitura\n",
    "_is_ready_only = ultimo_mes_real.value\n",
    "\n",
    "# geração de colunas automáticas\n",
    "_time_cols = []\n",
    "for i, val in enumerate(time, 1):\n",
    "    _col = FormColumn(\n",
    "        field=f'mes_{i:02d}', \n",
    "        title=val, \n",
    "        data_type=DataType.float,\n",
    "        column_type=ColumnType.input,\n",
    "        read_only= val <= ultimo_mes_real.value\n",
    "    )\n",
    "    _time_cols.append(_col)\n",
    "\n",
    "result = pp.form(\n",
    "    table_name='formularios_com_colunas_bloqueadas2',\n",
    "    columns=[\n",
    "        FormColumn(field='item_type', title='Item Type', column_type=ColumnType.selector, values=item_type),\n",
    "\n",
    "    ] + _time_cols,\n",
    "    settings=FormSettings(database_engine=DatabaseConnectionString.sqlite, database_connection=SQLiteConnection(database_path='forms_data/forms.db'), initial_empty_rows=1, allow_add_rows=True, allow_remove_rows=True, fixed_columns=0, from_dataframe=False, remove_old_rows=False)\n",
    ")"
   ]
  }
 ],
 "metadata": {
  "kernelspec": {
   "display_name": "Python 3.9.6 64-bit",
   "language": "python",
   "name": "python3"
  },
  "language_info": {
   "name": "python",
   "version": "3.9.6"
  },
  "orig_nbformat": 4,
  "vscode": {
   "interpreter": {
    "hash": "75b64ca35833826d255b5110be976b8b491e59919d991eceebad02336ca41c97"
   }
  }
 },
 "nbformat": 4,
 "nbformat_minor": 2
}
