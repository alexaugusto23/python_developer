{
 "cells": [
  {
   "attachments": {},
   "cell_type": "markdown",
   "metadata": {},
   "source": [
    "#### Read Historical Data Base - read_historical_data_base"
   ]
  },
  {
   "cell_type": "code",
   "execution_count": null,
   "metadata": {},
   "outputs": [],
   "source": [
    "_ref = input_refresh_node   \n",
    "\n",
    "_file_name = file_name.lower().replace(' ', '_') + '.pkl'\n",
    "_path_file = path_historical_data_base_pkl\n",
    "_path = os.path.join(_path_file, _file_name) \n",
    "_hist_base = pd.read_pickle( path = _path , compression='infer' ) \n",
    " \n",
    "result = _hist_base"
   ]
  },
  {
   "attachments": {},
   "cell_type": "markdown",
   "metadata": {},
   "source": [
    "#### Read Historical Data - read_historical_data_td"
   ]
  },
  {
   "cell_type": "code",
   "execution_count": null,
   "metadata": {},
   "outputs": [],
   "source": [
    "_ref = input_refresh_node   \n",
    "\n",
    "_conf = historical_data_conf\n",
    "_versions = historical_data_versions\n",
    "_sel_version = historical_data_sel_version\n",
    "\n",
    "result = read_excel_template(_conf, _versions, _sel_version)"
   ]
  },
  {
   "attachments": {},
   "cell_type": "markdown",
   "metadata": {},
   "source": [
    "#### Base Historical Data Concat Task - base_historical_data_concat_task"
   ]
  },
  {
   "cell_type": "code",
   "execution_count": null,
   "metadata": {},
   "outputs": [],
   "source": [
    "import os\n",
    "\n",
    "try: \n",
    "\n",
    "    # Historical Base\n",
    "    _hist_base = read_historical_data_base.copy()\n",
    "    \n",
    "    # #New base\n",
    "    _new_base= read_historical_data_td.copy()\n",
    "    _time_add = _new_base[\"Ano-Mês\"].unique()\n",
    "    \n",
    "    # Drop time that are in both bases, keep always the new one\n",
    "    _hist_base = _hist_base[~_hist_base[\"Ano-Mês\"].isin(_time_add)]\n",
    "    _time_col = [c for c in _hist_base[\"Ano-Mês\"].unique() if c not in _new_base[\"Ano-Mês\"].unique() ]\n",
    "    _hist_base = _hist_base[_hist_base[\"Ano-Mês\"].isin(_time_col)]\n",
    "    \n",
    "    #Missing Columns in the new database\n",
    "    _missing_columns = [c for c in _hist_base if c not in _new_base]\n",
    "    \n",
    "    #Fill the old database with np.nan, then when the task have already runned, add the missing columns with the hierarchy.\n",
    "    if len(_missing_columns)>0:\n",
    "        for i in _missing_columns:\n",
    "            _new_base[i] = np.nan\n",
    "    \n",
    "    #Order with the same columns\n",
    "    _order_cols = [c for c in _hist_base]\n",
    "    _new_base = _new_base[_order_cols]\n",
    "    \n",
    "    #Concat\n",
    "    _df = pd.concat([_hist_base,_new_base], axis=0)\n",
    "    _df = _df[ (_df['Ano-Mês'] != '-') | (_df['Fábrica'] != 0 ) ]\n",
    "    _df = _df.sort_values(by=[\"Ano-Mês\"], ascending=True).reset_index(drop=True)\n",
    "    \n",
    "    result = _df\n",
    "\n",
    "except:\n",
    "    # Historical Base\n",
    "    _hist_base = read_historical_data_base.copy()\n",
    "    _df = _hist_base\n",
    "    result = _df"
   ]
  },
  {
   "attachments": {},
   "cell_type": "markdown",
   "metadata": {},
   "source": [
    "#### Inputs Root Path - input_root_path"
   ]
  },
  {
   "cell_type": "code",
   "execution_count": null,
   "metadata": {},
   "outputs": [],
   "source": [
    "result = '/data/models/intercement/Public/IC - Sales and Operations Planning Tool/Inputs'"
   ]
  },
  {
   "attachments": {},
   "cell_type": "markdown",
   "metadata": {},
   "source": [
    "#### Path Historical Data Base pkl - path_historical_data_base_pkl"
   ]
  },
  {
   "cell_type": "code",
   "execution_count": 1,
   "metadata": {},
   "outputs": [
    {
     "ename": "NameError",
     "evalue": "name 'input_root_path' is not defined",
     "output_type": "error",
     "traceback": [
      "\u001b[1;31m---------------------------------------------------------------------------\u001b[0m",
      "\u001b[1;31mNameError\u001b[0m                                 Traceback (most recent call last)",
      "\u001b[1;32mC:\\Users\\ALEXSA~1.IGN\\AppData\\Local\\Temp/ipykernel_5904/1693374746.py\u001b[0m in \u001b[0;36m<module>\u001b[1;34m\u001b[0m\n\u001b[1;32m----> 1\u001b[1;33m \u001b[0mresult\u001b[0m \u001b[1;33m=\u001b[0m \u001b[0mos\u001b[0m\u001b[1;33m.\u001b[0m\u001b[0mpath\u001b[0m\u001b[1;33m.\u001b[0m\u001b[0mjoin\u001b[0m\u001b[1;33m(\u001b[0m\u001b[0minput_root_path\u001b[0m\u001b[1;33m)\u001b[0m\u001b[1;33m\u001b[0m\u001b[1;33m\u001b[0m\u001b[0m\n\u001b[0m",
      "\u001b[1;31mNameError\u001b[0m: name 'input_root_path' is not defined"
     ]
    }
   ],
   "source": [
    "result = os.path.join(input_root_path)"
   ]
  },
  {
   "attachments": {},
   "cell_type": "markdown",
   "metadata": {},
   "source": [
    "File Name Base Historical - file_name"
   ]
  },
  {
   "cell_type": "code",
   "execution_count": null,
   "metadata": {},
   "outputs": [],
   "source": [
    "result = \"Historical Data Base\""
   ]
  },
  {
   "attachments": {},
   "cell_type": "markdown",
   "metadata": {},
   "source": [
    "#### Save Read Historical Data Actual - save_read_historical_data_actual"
   ]
  },
  {
   "cell_type": "code",
   "execution_count": null,
   "metadata": {},
   "outputs": [],
   "source": [
    "import datetime as dt\n",
    "from datetime import date\n",
    "   \n",
    "# _user = pyplan_user['userName']\n",
    "# _date = dt.datetime.now().strftime(\"%Y-%m-%d %H:%M:%S\")\n",
    "# +'/'+file_name+'__'+_user+'__'+_date + \n",
    "_file_name = file_name.lower().replace(' ', '_')\n",
    "\n",
    "if escolher_node_para_salvar.value == read_historical_data_td.node.title :\n",
    "    _df = base_historical_data_concat_task.copy()\n",
    "    result = _df.to_pickle(os.path.join(path_historical_data_base_pkl, _file_name) + '.pkl')\n",
    "\n",
    "else: \n",
    "    _df = read_historical_data_td.copy()\n",
    "    result = _df.to_pickle(os.path.join(path_historical_data_base_pkl, _file_name) + '.pkl')"
   ]
  },
  {
   "attachments": {},
   "cell_type": "markdown",
   "metadata": {},
   "source": [
    "#### Tipo de Salvamento - tipo_de_salvamento"
   ]
  },
  {
   "cell_type": "code",
   "execution_count": null,
   "metadata": {},
   "outputs": [],
   "source": [
    "result = pd.Index([read_historical_data_td.node.title, base_historical_data_concat_task.node.title])"
   ]
  },
  {
   "attachments": {},
   "cell_type": "markdown",
   "metadata": {},
   "source": [
    "#### Escolher Node Para Salvar - escolher_node_para_salvar"
   ]
  },
  {
   "cell_type": "code",
   "execution_count": null,
   "metadata": {},
   "outputs": [],
   "source": [
    "result = pp.selector(tipo_de_salvamento,1,False)"
   ]
  },
  {
   "attachments": {},
   "cell_type": "markdown",
   "metadata": {},
   "source": [
    "#### Atualizar dados Históricos - atualizar_dados_historicos"
   ]
  },
  {
   "cell_type": "code",
   "execution_count": null,
   "metadata": {},
   "outputs": [],
   "source": [
    "_msg_progressbar = 'Atualizando Dados Históricos'\n",
    "_msg_text_send_msg = 'Dados Históricos'\n",
    "_msg_title_send_msg = 'Nova base gerada'\n",
    "_msg_bgd = 'info'\n",
    "\n",
    "try: \n",
    "\n",
    "    pp.progressbar( 25, message_text=_msg_progressbar, not_level_reverse=_msg_bgd )\n",
    "    \n",
    "    pp.progressbar( 50, message_text=_msg_progressbar, not_level_reverse=_msg_bgd )\n",
    "    \n",
    "    pp.progressbar( 75, message_text=_msg_progressbar, not_level_reverse=_msg_bgd )\n",
    "    \n",
    "    save_read_historical_data_actual\n",
    "    \n",
    "    pp.progressbar( 100, message_text=_msg_progressbar, not_level_reverse=_msg_bgd )\n",
    "    \n",
    "    pp.send_message( message_text=_msg_text_send_msg, message_title=_msg_title_send_msg, not_level_reverse=_msg_bgd )\n",
    "    \n",
    "except:\n",
    "    _msg_title_send_msg = 'Nova base não gerada'\n",
    "    _msg_bgd = 'warning'\n",
    "    pp.send_message( message_text=_msg_text_send_msg, message_title=_msg_title_send_msg, not_level_reverse=_msg_bgd )"
   ]
  }
 ],
 "metadata": {
  "kernelspec": {
   "display_name": "Python 3",
   "language": "python",
   "name": "python3"
  },
  "language_info": {
   "codemirror_mode": {
    "name": "ipython",
    "version": 3
   },
   "file_extension": ".py",
   "mimetype": "text/x-python",
   "name": "python",
   "nbconvert_exporter": "python",
   "pygments_lexer": "ipython3",
   "version": "3.9.6"
  },
  "orig_nbformat": 4,
  "vscode": {
   "interpreter": {
    "hash": "75b64ca35833826d255b5110be976b8b491e59919d991eceebad02336ca41c97"
   }
  }
 },
 "nbformat": 4,
 "nbformat_minor": 2
}
