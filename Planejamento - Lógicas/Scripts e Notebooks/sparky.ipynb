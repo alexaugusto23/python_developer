{
 "cells": [
  {
   "cell_type": "markdown",
   "metadata": {},
   "source": [
    "#Criando **Sessão**"
   ]
  },
  {
   "cell_type": "code",
   "execution_count": null,
   "metadata": {},
   "outputs": [],
   "source": [
    "# Nodo de Sessão\n",
    "from pyspark.sql import SparkSession\n",
    "spark = SparkSession.builder\\\n",
    "    .master('local[4]')\\\n",
    "    .config(\"spark.driver.memory\", \"16g\")\\\n",
    "    .config('spark.sql.execution.arrow.enabled',True)\\\n",
    "    .appName(\"B2W-4\").config(\"spark.local.dir\", \"/data/tmp\")\\\n",
    "    .getOrCreate()\n",
    "\n",
    "result = spark"
   ]
  },
  {
   "cell_type": "markdown",
   "metadata": {},
   "source": [
    "# Converte Pandas para Spark fazer o agrupamento e depois converte para pandas"
   ]
  },
  {
   "cell_type": "code",
   "execution_count": null,
   "metadata": {},
   "outputs": [],
   "source": [
    "   # USE THE TARGET VALUE\n",
    "    _df = actual_last_year.copy() ####### Error\n",
    "    _df = session_spark.createDataFrame(_df)\n",
    "\n",
    "    # Merge with IDs   \n",
    "    _df = _df_idkey.join(_df, how=\"inner\", on=_dim_gen) \n",
    "    # _df.rename(columns={\"Target\":\"Volume LY\"}, inplace=True)\n",
    "    _df =_df.withColumnRenamed('Target', 'Volume LY')\n",
    "    \n",
    "    from pyspark.sql.functions import when, col\n",
    "    # Replace negative values with 0\n",
    "    _df = _df.withColumn('Volume LY', when(col('Volume LY') < 0, 0.).otherwise(col('Volume LY')))\n",
    "    # _df[\"Volume LY\"] = np.where(_df[\"Volume LY\"] < 0, 0. ,_df[\"Volume LY\"])\n",
    "    \n",
    "    # # GROUPBY COLLABORATOR & GENERIC DIMENSION\n",
    "    _cols = [\"id_key\",\"collaborator\"] + _dim_gen \n",
    "    # Groupby spark\n",
    "    _df = _df\\\n",
    "        .groupby(_cols)\\\n",
    "        .sum('Volume LY')\\\n",
    "        .alias('Volume LY')\n",
    "    # _df = _df.groupby(_cols)[[\"Volume LY\"]].sum()\n",
    "    \n",
    "    # Convert to Pandas:\n",
    "    _df = _df.toPandas()"
   ]
  }
 ],
 "metadata": {
  "kernelspec": {
   "display_name": "Python 3.9.6 64-bit",
   "language": "python",
   "name": "python3"
  },
  "language_info": {
   "name": "python",
   "version": "3.9.6"
  },
  "orig_nbformat": 4,
  "vscode": {
   "interpreter": {
    "hash": "75b64ca35833826d255b5110be976b8b491e59919d991eceebad02336ca41c97"
   }
  }
 },
 "nbformat": 4,
 "nbformat_minor": 2
}
