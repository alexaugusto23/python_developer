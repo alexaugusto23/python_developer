{
 "cells": [
  {
   "cell_type": "markdown",
   "metadata": {},
   "source": [
    "# Lógica de Código Pyplan"
   ]
  },
  {
   "cell_type": "markdown",
   "metadata": {},
   "source": [
    "### Pacotes"
   ]
  },
  {
   "cell_type": "code",
   "execution_count": 1,
   "metadata": {},
   "outputs": [],
   "source": [
    "import os as os\n",
    "import numpy as np\n",
    "import pandas as pd\n",
    "import xarray as xr"
   ]
  },
  {
   "cell_type": "markdown",
   "metadata": {},
   "source": [
    "#### Valor Percentual"
   ]
  },
  {
   "cell_type": "code",
   "execution_count": 2,
   "metadata": {},
   "outputs": [
    {
     "data": {
      "text/plain": [
       "'-40.0 %'"
      ]
     },
     "execution_count": 2,
     "metadata": {},
     "output_type": "execute_result"
    }
   ],
   "source": [
    "# Valor Percentual = (Atual - Anterior)/Anterior \n",
    "atual = 30000\n",
    "anterior = 50000\n",
    "valor_percentual = ((atual - anterior)/anterior) * 100\n",
    "str(valor_percentual) + ' %'"
   ]
  },
  {
   "cell_type": "markdown",
   "metadata": {},
   "source": [
    "#### Defininindo um Index com Compreensão de lista (List comprehension)"
   ]
  },
  {
   "cell_type": "code",
   "execution_count": 3,
   "metadata": {},
   "outputs": [
    {
     "data": {
      "text/html": [
       "<div>\n",
       "<style scoped>\n",
       "    .dataframe tbody tr th:only-of-type {\n",
       "        vertical-align: middle;\n",
       "    }\n",
       "\n",
       "    .dataframe tbody tr th {\n",
       "        vertical-align: top;\n",
       "    }\n",
       "\n",
       "    .dataframe thead th {\n",
       "        text-align: right;\n",
       "    }\n",
       "</style>\n",
       "<table border=\"1\" class=\"dataframe\">\n",
       "  <thead>\n",
       "    <tr style=\"text-align: right;\">\n",
       "      <th></th>\n",
       "      <th>Coluna1</th>\n",
       "      <th>Coluna2</th>\n",
       "      <th>Coluna3</th>\n",
       "      <th>vol_dia</th>\n",
       "    </tr>\n",
       "  </thead>\n",
       "  <tbody>\n",
       "    <tr>\n",
       "      <th>0</th>\n",
       "      <td>Regional1</td>\n",
       "      <td>Região Leste</td>\n",
       "      <td>Atacado</td>\n",
       "      <td>10000</td>\n",
       "    </tr>\n",
       "  </tbody>\n",
       "</table>\n",
       "</div>"
      ],
      "text/plain": [
       "     Coluna1       Coluna2  Coluna3  vol_dia\n",
       "0  Regional1  Região Leste  Atacado    10000"
      ]
     },
     "execution_count": 3,
     "metadata": {},
     "output_type": "execute_result"
    }
   ],
   "source": [
    "data  = {'Coluna1':['Regional1'],  'Coluna2':['Região Leste'], 'Coluna3':['Atacado'], 'vol_dia':[10000]}\n",
    "_df = pd.DataFrame(data)\n",
    "_df"
   ]
  },
  {
   "cell_type": "code",
   "execution_count": 4,
   "metadata": {},
   "outputs": [
    {
     "data": {
      "text/html": [
       "<div>\n",
       "<style scoped>\n",
       "    .dataframe tbody tr th:only-of-type {\n",
       "        vertical-align: middle;\n",
       "    }\n",
       "\n",
       "    .dataframe tbody tr th {\n",
       "        vertical-align: top;\n",
       "    }\n",
       "\n",
       "    .dataframe thead th {\n",
       "        text-align: right;\n",
       "    }\n",
       "</style>\n",
       "<table border=\"1\" class=\"dataframe\">\n",
       "  <thead>\n",
       "    <tr style=\"text-align: right;\">\n",
       "      <th></th>\n",
       "      <th></th>\n",
       "      <th></th>\n",
       "      <th></th>\n",
       "    </tr>\n",
       "    <tr>\n",
       "      <th>Coluna1</th>\n",
       "      <th>Coluna2</th>\n",
       "      <th>Coluna3</th>\n",
       "      <th>vol_dia</th>\n",
       "    </tr>\n",
       "  </thead>\n",
       "  <tbody>\n",
       "    <tr>\n",
       "      <th>Regional1</th>\n",
       "      <th>Região Leste</th>\n",
       "      <th>Atacado</th>\n",
       "      <th>10000</th>\n",
       "    </tr>\n",
       "  </tbody>\n",
       "</table>\n",
       "</div>"
      ],
      "text/plain": [
       "Empty DataFrame\n",
       "Columns: []\n",
       "Index: [(Regional1, Região Leste, Atacado, 10000)]"
      ]
     },
     "execution_count": 4,
     "metadata": {},
     "output_type": "execute_result"
    }
   ],
   "source": [
    "_df.set_index(['Coluna1', 'Coluna2', 'Coluna3', 'vol_dia'])"
   ]
  },
  {
   "cell_type": "code",
   "execution_count": 5,
   "metadata": {},
   "outputs": [
    {
     "data": {
      "text/html": [
       "<div>\n",
       "<style scoped>\n",
       "    .dataframe tbody tr th:only-of-type {\n",
       "        vertical-align: middle;\n",
       "    }\n",
       "\n",
       "    .dataframe tbody tr th {\n",
       "        vertical-align: top;\n",
       "    }\n",
       "\n",
       "    .dataframe thead th {\n",
       "        text-align: right;\n",
       "    }\n",
       "</style>\n",
       "<table border=\"1\" class=\"dataframe\">\n",
       "  <thead>\n",
       "    <tr style=\"text-align: right;\">\n",
       "      <th></th>\n",
       "      <th></th>\n",
       "      <th></th>\n",
       "      <th>vol_dia</th>\n",
       "    </tr>\n",
       "    <tr>\n",
       "      <th>Coluna1</th>\n",
       "      <th>Coluna2</th>\n",
       "      <th>Coluna3</th>\n",
       "      <th></th>\n",
       "    </tr>\n",
       "  </thead>\n",
       "  <tbody>\n",
       "    <tr>\n",
       "      <th>Regional1</th>\n",
       "      <th>Região Leste</th>\n",
       "      <th>Atacado</th>\n",
       "      <td>10000</td>\n",
       "    </tr>\n",
       "  </tbody>\n",
       "</table>\n",
       "</div>"
      ],
      "text/plain": [
       "                                vol_dia\n",
       "Coluna1   Coluna2      Coluna3         \n",
       "Regional1 Região Leste Atacado    10000"
      ]
     },
     "execution_count": 5,
     "metadata": {},
     "output_type": "execute_result"
    }
   ],
   "source": [
    "_df.set_index([col for col in _df if col != 'vol_dia'])"
   ]
  },
  {
   "cell_type": "markdown",
   "metadata": {},
   "source": [
    "#### Deletando Colunas "
   ]
  },
  {
   "cell_type": "code",
   "execution_count": 6,
   "metadata": {},
   "outputs": [
    {
     "data": {
      "text/html": [
       "<div>\n",
       "<style scoped>\n",
       "    .dataframe tbody tr th:only-of-type {\n",
       "        vertical-align: middle;\n",
       "    }\n",
       "\n",
       "    .dataframe tbody tr th {\n",
       "        vertical-align: top;\n",
       "    }\n",
       "\n",
       "    .dataframe thead th {\n",
       "        text-align: right;\n",
       "    }\n",
       "</style>\n",
       "<table border=\"1\" class=\"dataframe\">\n",
       "  <thead>\n",
       "    <tr style=\"text-align: right;\">\n",
       "      <th></th>\n",
       "      <th>col1</th>\n",
       "      <th>col2</th>\n",
       "      <th>col3</th>\n",
       "    </tr>\n",
       "  </thead>\n",
       "  <tbody>\n",
       "    <tr>\n",
       "      <th>0</th>\n",
       "      <td>1</td>\n",
       "      <td>1</td>\n",
       "      <td>1</td>\n",
       "    </tr>\n",
       "    <tr>\n",
       "      <th>1</th>\n",
       "      <td>2</td>\n",
       "      <td>2</td>\n",
       "      <td>2</td>\n",
       "    </tr>\n",
       "  </tbody>\n",
       "</table>\n",
       "</div>"
      ],
      "text/plain": [
       "   col1  col2  col3\n",
       "0     1     1     1\n",
       "1     2     2     2"
      ]
     },
     "execution_count": 6,
     "metadata": {},
     "output_type": "execute_result"
    }
   ],
   "source": [
    "data = {'col1':[1,2], 'col2':[1,2], 'col3':[1,2]}\n",
    "_df = pd.DataFrame(data)\n",
    "_df"
   ]
  },
  {
   "cell_type": "code",
   "execution_count": 7,
   "metadata": {},
   "outputs": [
    {
     "data": {
      "text/html": [
       "<div>\n",
       "<style scoped>\n",
       "    .dataframe tbody tr th:only-of-type {\n",
       "        vertical-align: middle;\n",
       "    }\n",
       "\n",
       "    .dataframe tbody tr th {\n",
       "        vertical-align: top;\n",
       "    }\n",
       "\n",
       "    .dataframe thead th {\n",
       "        text-align: right;\n",
       "    }\n",
       "</style>\n",
       "<table border=\"1\" class=\"dataframe\">\n",
       "  <thead>\n",
       "    <tr style=\"text-align: right;\">\n",
       "      <th></th>\n",
       "      <th>col1</th>\n",
       "      <th>col2</th>\n",
       "    </tr>\n",
       "  </thead>\n",
       "  <tbody>\n",
       "    <tr>\n",
       "      <th>0</th>\n",
       "      <td>1</td>\n",
       "      <td>1</td>\n",
       "    </tr>\n",
       "    <tr>\n",
       "      <th>1</th>\n",
       "      <td>2</td>\n",
       "      <td>2</td>\n",
       "    </tr>\n",
       "  </tbody>\n",
       "</table>\n",
       "</div>"
      ],
      "text/plain": [
       "   col1  col2\n",
       "0     1     1\n",
       "1     2     2"
      ]
     },
     "execution_count": 7,
     "metadata": {},
     "output_type": "execute_result"
    }
   ],
   "source": [
    "_df = _df.drop(columns=['col3'])\n",
    "_df"
   ]
  },
  {
   "cell_type": "code",
   "execution_count": 8,
   "metadata": {},
   "outputs": [
    {
     "data": {
      "text/html": [
       "<div>\n",
       "<style scoped>\n",
       "    .dataframe tbody tr th:only-of-type {\n",
       "        vertical-align: middle;\n",
       "    }\n",
       "\n",
       "    .dataframe tbody tr th {\n",
       "        vertical-align: top;\n",
       "    }\n",
       "\n",
       "    .dataframe thead th {\n",
       "        text-align: right;\n",
       "    }\n",
       "</style>\n",
       "<table border=\"1\" class=\"dataframe\">\n",
       "  <thead>\n",
       "    <tr style=\"text-align: right;\">\n",
       "      <th></th>\n",
       "      <th>col1</th>\n",
       "    </tr>\n",
       "  </thead>\n",
       "  <tbody>\n",
       "    <tr>\n",
       "      <th>0</th>\n",
       "      <td>1</td>\n",
       "    </tr>\n",
       "    <tr>\n",
       "      <th>1</th>\n",
       "      <td>2</td>\n",
       "    </tr>\n",
       "  </tbody>\n",
       "</table>\n",
       "</div>"
      ],
      "text/plain": [
       "   col1\n",
       "0     1\n",
       "1     2"
      ]
     },
     "execution_count": 8,
     "metadata": {},
     "output_type": "execute_result"
    }
   ],
   "source": [
    "del _df['col2']\n",
    "_df"
   ]
  },
  {
   "cell_type": "code",
   "execution_count": 9,
   "metadata": {},
   "outputs": [
    {
     "data": {
      "text/html": [
       "<div>\n",
       "<style scoped>\n",
       "    .dataframe tbody tr th:only-of-type {\n",
       "        vertical-align: middle;\n",
       "    }\n",
       "\n",
       "    .dataframe tbody tr th {\n",
       "        vertical-align: top;\n",
       "    }\n",
       "\n",
       "    .dataframe thead th {\n",
       "        text-align: right;\n",
       "    }\n",
       "</style>\n",
       "<table border=\"1\" class=\"dataframe\">\n",
       "  <thead>\n",
       "    <tr style=\"text-align: right;\">\n",
       "      <th></th>\n",
       "      <th>col1</th>\n",
       "      <th>MesTime</th>\n",
       "    </tr>\n",
       "  </thead>\n",
       "  <tbody>\n",
       "    <tr>\n",
       "      <th>0</th>\n",
       "      <td>1</td>\n",
       "      <td>2021.01</td>\n",
       "    </tr>\n",
       "    <tr>\n",
       "      <th>1</th>\n",
       "      <td>2</td>\n",
       "      <td>2021.02</td>\n",
       "    </tr>\n",
       "  </tbody>\n",
       "</table>\n",
       "</div>"
      ],
      "text/plain": [
       "   col1  MesTime\n",
       "0     1  2021.01\n",
       "1     2  2021.02"
      ]
     },
     "execution_count": 9,
     "metadata": {},
     "output_type": "execute_result"
    }
   ],
   "source": [
    "_df.insert(loc=1, column='MesTime', value=['2021.01','2021.02'])\n",
    "_df"
   ]
  },
  {
   "cell_type": "code",
   "execution_count": 10,
   "metadata": {},
   "outputs": [
    {
     "data": {
      "text/html": [
       "<div>\n",
       "<style scoped>\n",
       "    .dataframe tbody tr th:only-of-type {\n",
       "        vertical-align: middle;\n",
       "    }\n",
       "\n",
       "    .dataframe tbody tr th {\n",
       "        vertical-align: top;\n",
       "    }\n",
       "\n",
       "    .dataframe thead th {\n",
       "        text-align: right;\n",
       "    }\n",
       "</style>\n",
       "<table border=\"1\" class=\"dataframe\">\n",
       "  <thead>\n",
       "    <tr style=\"text-align: right;\">\n",
       "      <th></th>\n",
       "      <th>col1</th>\n",
       "      <th>MesTime</th>\n",
       "    </tr>\n",
       "  </thead>\n",
       "  <tbody>\n",
       "    <tr>\n",
       "      <th>0</th>\n",
       "      <td>1</td>\n",
       "      <td>jan</td>\n",
       "    </tr>\n",
       "    <tr>\n",
       "      <th>1</th>\n",
       "      <td>2</td>\n",
       "      <td>fev</td>\n",
       "    </tr>\n",
       "  </tbody>\n",
       "</table>\n",
       "</div>"
      ],
      "text/plain": [
       "   col1 MesTime\n",
       "0     1     jan\n",
       "1     2     fev"
      ]
     },
     "execution_count": 10,
     "metadata": {},
     "output_type": "execute_result"
    }
   ],
   "source": [
    "_datas = {'2021.01':'jan', '2021.02':'fev'}\n",
    "_df = _df.replace({'MesTime':_datas})\n",
    "_df"
   ]
  },
  {
   "cell_type": "markdown",
   "metadata": {},
   "source": [
    "#### Filtros"
   ]
  },
  {
   "cell_type": "code",
   "execution_count": 11,
   "metadata": {},
   "outputs": [
    {
     "data": {
      "text/html": [
       "<div>\n",
       "<style scoped>\n",
       "    .dataframe tbody tr th:only-of-type {\n",
       "        vertical-align: middle;\n",
       "    }\n",
       "\n",
       "    .dataframe tbody tr th {\n",
       "        vertical-align: top;\n",
       "    }\n",
       "\n",
       "    .dataframe thead th {\n",
       "        text-align: right;\n",
       "    }\n",
       "</style>\n",
       "<table border=\"1\" class=\"dataframe\">\n",
       "  <thead>\n",
       "    <tr style=\"text-align: right;\">\n",
       "      <th></th>\n",
       "      <th>col1</th>\n",
       "      <th>MesTime</th>\n",
       "    </tr>\n",
       "  </thead>\n",
       "  <tbody>\n",
       "    <tr>\n",
       "      <th>0</th>\n",
       "      <td>1</td>\n",
       "      <td>jan</td>\n",
       "    </tr>\n",
       "  </tbody>\n",
       "</table>\n",
       "</div>"
      ],
      "text/plain": [
       "   col1 MesTime\n",
       "0     1     jan"
      ]
     },
     "execution_count": 11,
     "metadata": {},
     "output_type": "execute_result"
    }
   ],
   "source": [
    "_df[ (_df['col1']==1) & (_df['MesTime']=='jan') ]"
   ]
  },
  {
   "cell_type": "code",
   "execution_count": 12,
   "metadata": {},
   "outputs": [
    {
     "data": {
      "text/html": [
       "<div>\n",
       "<style scoped>\n",
       "    .dataframe tbody tr th:only-of-type {\n",
       "        vertical-align: middle;\n",
       "    }\n",
       "\n",
       "    .dataframe tbody tr th {\n",
       "        vertical-align: top;\n",
       "    }\n",
       "\n",
       "    .dataframe thead th {\n",
       "        text-align: right;\n",
       "    }\n",
       "</style>\n",
       "<table border=\"1\" class=\"dataframe\">\n",
       "  <thead>\n",
       "    <tr style=\"text-align: right;\">\n",
       "      <th></th>\n",
       "      <th>col1</th>\n",
       "      <th>MesTime</th>\n",
       "    </tr>\n",
       "  </thead>\n",
       "  <tbody>\n",
       "    <tr>\n",
       "      <th>1</th>\n",
       "      <td>2</td>\n",
       "      <td>fev</td>\n",
       "    </tr>\n",
       "  </tbody>\n",
       "</table>\n",
       "</div>"
      ],
      "text/plain": [
       "   col1 MesTime\n",
       "1     2     fev"
      ]
     },
     "execution_count": 12,
     "metadata": {},
     "output_type": "execute_result"
    }
   ],
   "source": [
    "_list = ['fev']\n",
    "_df[ _df['MesTime'].isin(_list)]"
   ]
  },
  {
   "cell_type": "code",
   "execution_count": 13,
   "metadata": {},
   "outputs": [
    {
     "data": {
      "text/html": [
       "<div>\n",
       "<style scoped>\n",
       "    .dataframe tbody tr th:only-of-type {\n",
       "        vertical-align: middle;\n",
       "    }\n",
       "\n",
       "    .dataframe tbody tr th {\n",
       "        vertical-align: top;\n",
       "    }\n",
       "\n",
       "    .dataframe thead th {\n",
       "        text-align: right;\n",
       "    }\n",
       "</style>\n",
       "<table border=\"1\" class=\"dataframe\">\n",
       "  <thead>\n",
       "    <tr style=\"text-align: right;\">\n",
       "      <th></th>\n",
       "      <th>col1</th>\n",
       "      <th>MesTime</th>\n",
       "    </tr>\n",
       "  </thead>\n",
       "  <tbody>\n",
       "    <tr>\n",
       "      <th>0</th>\n",
       "      <td>1</td>\n",
       "      <td>jan</td>\n",
       "    </tr>\n",
       "  </tbody>\n",
       "</table>\n",
       "</div>"
      ],
      "text/plain": [
       "   col1 MesTime\n",
       "0     1     jan"
      ]
     },
     "execution_count": 13,
     "metadata": {},
     "output_type": "execute_result"
    }
   ],
   "source": [
    "_df.query(\" MesTime == 'jan' \")\n",
    "\n"
   ]
  },
  {
   "cell_type": "code",
   "execution_count": 14,
   "metadata": {},
   "outputs": [
    {
     "data": {
      "text/html": [
       "<div>\n",
       "<style scoped>\n",
       "    .dataframe tbody tr th:only-of-type {\n",
       "        vertical-align: middle;\n",
       "    }\n",
       "\n",
       "    .dataframe tbody tr th {\n",
       "        vertical-align: top;\n",
       "    }\n",
       "\n",
       "    .dataframe thead th {\n",
       "        text-align: right;\n",
       "    }\n",
       "</style>\n",
       "<table border=\"1\" class=\"dataframe\">\n",
       "  <thead>\n",
       "    <tr style=\"text-align: right;\">\n",
       "      <th></th>\n",
       "      <th>col1</th>\n",
       "      <th>MesTime</th>\n",
       "    </tr>\n",
       "  </thead>\n",
       "  <tbody>\n",
       "    <tr>\n",
       "      <th>0</th>\n",
       "      <td>1</td>\n",
       "      <td>jan</td>\n",
       "    </tr>\n",
       "  </tbody>\n",
       "</table>\n",
       "</div>"
      ],
      "text/plain": [
       "   col1 MesTime\n",
       "0     1     jan"
      ]
     },
     "execution_count": 14,
     "metadata": {},
     "output_type": "execute_result"
    }
   ],
   "source": [
    "_df.query(\" MesTime == 'jan' \")"
   ]
  },
  {
   "cell_type": "code",
   "execution_count": 15,
   "metadata": {},
   "outputs": [
    {
     "data": {
      "text/html": [
       "<div>\n",
       "<style scoped>\n",
       "    .dataframe tbody tr th:only-of-type {\n",
       "        vertical-align: middle;\n",
       "    }\n",
       "\n",
       "    .dataframe tbody tr th {\n",
       "        vertical-align: top;\n",
       "    }\n",
       "\n",
       "    .dataframe thead th {\n",
       "        text-align: right;\n",
       "    }\n",
       "</style>\n",
       "<table border=\"1\" class=\"dataframe\">\n",
       "  <thead>\n",
       "    <tr style=\"text-align: right;\">\n",
       "      <th></th>\n",
       "      <th>col1</th>\n",
       "      <th>MesTime</th>\n",
       "    </tr>\n",
       "  </thead>\n",
       "  <tbody>\n",
       "    <tr>\n",
       "      <th>0</th>\n",
       "      <td>1</td>\n",
       "      <td>jan</td>\n",
       "    </tr>\n",
       "    <tr>\n",
       "      <th>1</th>\n",
       "      <td>2</td>\n",
       "      <td>fev</td>\n",
       "    </tr>\n",
       "  </tbody>\n",
       "</table>\n",
       "</div>"
      ],
      "text/plain": [
       "   col1 MesTime\n",
       "0     1     jan\n",
       "1     2     fev"
      ]
     },
     "execution_count": 15,
     "metadata": {},
     "output_type": "execute_result"
    }
   ],
   "source": [
    "_df"
   ]
  },
  {
   "cell_type": "code",
   "execution_count": 16,
   "metadata": {},
   "outputs": [
    {
     "data": {
      "text/html": [
       "<div>\n",
       "<style scoped>\n",
       "    .dataframe tbody tr th:only-of-type {\n",
       "        vertical-align: middle;\n",
       "    }\n",
       "\n",
       "    .dataframe tbody tr th {\n",
       "        vertical-align: top;\n",
       "    }\n",
       "\n",
       "    .dataframe thead th {\n",
       "        text-align: right;\n",
       "    }\n",
       "</style>\n",
       "<table border=\"1\" class=\"dataframe\">\n",
       "  <thead>\n",
       "    <tr style=\"text-align: right;\">\n",
       "      <th></th>\n",
       "      <th>col1</th>\n",
       "      <th>MesTime</th>\n",
       "    </tr>\n",
       "  </thead>\n",
       "  <tbody>\n",
       "    <tr>\n",
       "      <th>0</th>\n",
       "      <td>1</td>\n",
       "      <td>jan</td>\n",
       "    </tr>\n",
       "  </tbody>\n",
       "</table>\n",
       "</div>"
      ],
      "text/plain": [
       "   col1 MesTime\n",
       "0     1     jan"
      ]
     },
     "execution_count": 16,
     "metadata": {},
     "output_type": "execute_result"
    }
   ],
   "source": [
    "_list = [1]\n",
    "_df.query(\" col1 in @_list \")"
   ]
  },
  {
   "cell_type": "markdown",
   "metadata": {},
   "source": [
    "#### Função MAP"
   ]
  },
  {
   "cell_type": "code",
   "execution_count": 17,
   "metadata": {},
   "outputs": [
    {
     "data": {
      "text/html": [
       "<div>\n",
       "<style scoped>\n",
       "    .dataframe tbody tr th:only-of-type {\n",
       "        vertical-align: middle;\n",
       "    }\n",
       "\n",
       "    .dataframe tbody tr th {\n",
       "        vertical-align: top;\n",
       "    }\n",
       "\n",
       "    .dataframe thead th {\n",
       "        text-align: right;\n",
       "    }\n",
       "</style>\n",
       "<table border=\"1\" class=\"dataframe\">\n",
       "  <thead>\n",
       "    <tr style=\"text-align: right;\">\n",
       "      <th></th>\n",
       "      <th>col1</th>\n",
       "      <th>MesTime</th>\n",
       "    </tr>\n",
       "  </thead>\n",
       "  <tbody>\n",
       "    <tr>\n",
       "      <th>0</th>\n",
       "      <td>1</td>\n",
       "      <td>jan</td>\n",
       "    </tr>\n",
       "    <tr>\n",
       "      <th>1</th>\n",
       "      <td>2</td>\n",
       "      <td>fev</td>\n",
       "    </tr>\n",
       "  </tbody>\n",
       "</table>\n",
       "</div>"
      ],
      "text/plain": [
       "   col1 MesTime\n",
       "0     1     jan\n",
       "1     2     fev"
      ]
     },
     "execution_count": 17,
     "metadata": {},
     "output_type": "execute_result"
    }
   ],
   "source": [
    "_df"
   ]
  },
  {
   "cell_type": "code",
   "execution_count": 18,
   "metadata": {},
   "outputs": [
    {
     "data": {
      "text/html": [
       "<div>\n",
       "<style scoped>\n",
       "    .dataframe tbody tr th:only-of-type {\n",
       "        vertical-align: middle;\n",
       "    }\n",
       "\n",
       "    .dataframe tbody tr th {\n",
       "        vertical-align: top;\n",
       "    }\n",
       "\n",
       "    .dataframe thead th {\n",
       "        text-align: right;\n",
       "    }\n",
       "</style>\n",
       "<table border=\"1\" class=\"dataframe\">\n",
       "  <thead>\n",
       "    <tr style=\"text-align: right;\">\n",
       "      <th></th>\n",
       "      <th>col1</th>\n",
       "      <th>MesTime</th>\n",
       "    </tr>\n",
       "  </thead>\n",
       "  <tbody>\n",
       "    <tr>\n",
       "      <th>0</th>\n",
       "      <td>1</td>\n",
       "      <td>jan</td>\n",
       "    </tr>\n",
       "    <tr>\n",
       "      <th>1</th>\n",
       "      <td>4</td>\n",
       "      <td>fev</td>\n",
       "    </tr>\n",
       "  </tbody>\n",
       "</table>\n",
       "</div>"
      ],
      "text/plain": [
       "   col1 MesTime\n",
       "0     1     jan\n",
       "1     4     fev"
      ]
     },
     "execution_count": 18,
     "metadata": {},
     "output_type": "execute_result"
    }
   ],
   "source": [
    "_df['col1'] = _df['col1'].map(lambda value: value**2)\n",
    "_df"
   ]
  },
  {
   "cell_type": "markdown",
   "metadata": {},
   "source": [
    "#### Função FILTER"
   ]
  },
  {
   "cell_type": "code",
   "execution_count": 19,
   "metadata": {},
   "outputs": [
    {
     "data": {
      "text/html": [
       "<div>\n",
       "<style scoped>\n",
       "    .dataframe tbody tr th:only-of-type {\n",
       "        vertical-align: middle;\n",
       "    }\n",
       "\n",
       "    .dataframe tbody tr th {\n",
       "        vertical-align: top;\n",
       "    }\n",
       "\n",
       "    .dataframe thead th {\n",
       "        text-align: right;\n",
       "    }\n",
       "</style>\n",
       "<table border=\"1\" class=\"dataframe\">\n",
       "  <thead>\n",
       "    <tr style=\"text-align: right;\">\n",
       "      <th></th>\n",
       "      <th>col1</th>\n",
       "    </tr>\n",
       "  </thead>\n",
       "  <tbody>\n",
       "    <tr>\n",
       "      <th>0</th>\n",
       "      <td>1</td>\n",
       "    </tr>\n",
       "    <tr>\n",
       "      <th>1</th>\n",
       "      <td>4</td>\n",
       "    </tr>\n",
       "  </tbody>\n",
       "</table>\n",
       "</div>"
      ],
      "text/plain": [
       "   col1\n",
       "0     1\n",
       "1     4"
      ]
     },
     "execution_count": 19,
     "metadata": {},
     "output_type": "execute_result"
    }
   ],
   "source": [
    "_df.filter(['col1'])"
   ]
  },
  {
   "cell_type": "code",
   "execution_count": 20,
   "metadata": {},
   "outputs": [
    {
     "data": {
      "text/html": [
       "<div>\n",
       "<style scoped>\n",
       "    .dataframe tbody tr th:only-of-type {\n",
       "        vertical-align: middle;\n",
       "    }\n",
       "\n",
       "    .dataframe tbody tr th {\n",
       "        vertical-align: top;\n",
       "    }\n",
       "\n",
       "    .dataframe thead th {\n",
       "        text-align: right;\n",
       "    }\n",
       "</style>\n",
       "<table border=\"1\" class=\"dataframe\">\n",
       "  <thead>\n",
       "    <tr style=\"text-align: right;\">\n",
       "      <th></th>\n",
       "      <th>col1</th>\n",
       "    </tr>\n",
       "  </thead>\n",
       "  <tbody>\n",
       "    <tr>\n",
       "      <th>0</th>\n",
       "      <td>1</td>\n",
       "    </tr>\n",
       "    <tr>\n",
       "      <th>1</th>\n",
       "      <td>4</td>\n",
       "    </tr>\n",
       "  </tbody>\n",
       "</table>\n",
       "</div>"
      ],
      "text/plain": [
       "   col1\n",
       "0     1\n",
       "1     4"
      ]
     },
     "execution_count": 20,
     "metadata": {},
     "output_type": "execute_result"
    }
   ],
   "source": [
    "_df.filter(items=['col1'])"
   ]
  },
  {
   "cell_type": "code",
   "execution_count": 21,
   "metadata": {},
   "outputs": [
    {
     "data": {
      "text/html": [
       "<div>\n",
       "<style scoped>\n",
       "    .dataframe tbody tr th:only-of-type {\n",
       "        vertical-align: middle;\n",
       "    }\n",
       "\n",
       "    .dataframe tbody tr th {\n",
       "        vertical-align: top;\n",
       "    }\n",
       "\n",
       "    .dataframe thead th {\n",
       "        text-align: right;\n",
       "    }\n",
       "</style>\n",
       "<table border=\"1\" class=\"dataframe\">\n",
       "  <thead>\n",
       "    <tr style=\"text-align: right;\">\n",
       "      <th></th>\n",
       "      <th>MesTime</th>\n",
       "    </tr>\n",
       "  </thead>\n",
       "  <tbody>\n",
       "    <tr>\n",
       "      <th>0</th>\n",
       "      <td>jan</td>\n",
       "    </tr>\n",
       "    <tr>\n",
       "      <th>1</th>\n",
       "      <td>fev</td>\n",
       "    </tr>\n",
       "  </tbody>\n",
       "</table>\n",
       "</div>"
      ],
      "text/plain": [
       "  MesTime\n",
       "0     jan\n",
       "1     fev"
      ]
     },
     "execution_count": 21,
     "metadata": {},
     "output_type": "execute_result"
    }
   ],
   "source": [
    "_df.filter(regex='es', axis=1)"
   ]
  },
  {
   "cell_type": "code",
   "execution_count": 22,
   "metadata": {},
   "outputs": [
    {
     "data": {
      "text/html": [
       "<div>\n",
       "<style scoped>\n",
       "    .dataframe tbody tr th:only-of-type {\n",
       "        vertical-align: middle;\n",
       "    }\n",
       "\n",
       "    .dataframe tbody tr th {\n",
       "        vertical-align: top;\n",
       "    }\n",
       "\n",
       "    .dataframe thead th {\n",
       "        text-align: right;\n",
       "    }\n",
       "</style>\n",
       "<table border=\"1\" class=\"dataframe\">\n",
       "  <thead>\n",
       "    <tr style=\"text-align: right;\">\n",
       "      <th></th>\n",
       "      <th>col1</th>\n",
       "      <th>MesTime</th>\n",
       "    </tr>\n",
       "  </thead>\n",
       "  <tbody>\n",
       "    <tr>\n",
       "      <th>0</th>\n",
       "      <td>1</td>\n",
       "      <td>jan</td>\n",
       "    </tr>\n",
       "  </tbody>\n",
       "</table>\n",
       "</div>"
      ],
      "text/plain": [
       "   col1 MesTime\n",
       "0     1     jan"
      ]
     },
     "execution_count": 22,
     "metadata": {},
     "output_type": "execute_result"
    }
   ],
   "source": [
    "_df.filter(like='0', axis=0)"
   ]
  },
  {
   "cell_type": "markdown",
   "metadata": {},
   "source": [
    "#### DataFrames"
   ]
  },
  {
   "cell_type": "code",
   "execution_count": 23,
   "metadata": {},
   "outputs": [
    {
     "data": {
      "text/html": [
       "<div>\n",
       "<style scoped>\n",
       "    .dataframe tbody tr th:only-of-type {\n",
       "        vertical-align: middle;\n",
       "    }\n",
       "\n",
       "    .dataframe tbody tr th {\n",
       "        vertical-align: top;\n",
       "    }\n",
       "\n",
       "    .dataframe thead th {\n",
       "        text-align: right;\n",
       "    }\n",
       "</style>\n",
       "<table border=\"1\" class=\"dataframe\">\n",
       "  <thead>\n",
       "    <tr style=\"text-align: right;\">\n",
       "      <th></th>\n",
       "      <th>id</th>\n",
       "      <th>col1</th>\n",
       "      <th>col2</th>\n",
       "      <th>col3</th>\n",
       "    </tr>\n",
       "  </thead>\n",
       "  <tbody>\n",
       "    <tr>\n",
       "      <th>0</th>\n",
       "      <td>0</td>\n",
       "      <td>1</td>\n",
       "      <td>2</td>\n",
       "      <td>3</td>\n",
       "    </tr>\n",
       "    <tr>\n",
       "      <th>1</th>\n",
       "      <td>1</td>\n",
       "      <td>8</td>\n",
       "      <td>3</td>\n",
       "      <td>0</td>\n",
       "    </tr>\n",
       "    <tr>\n",
       "      <th>2</th>\n",
       "      <td>2</td>\n",
       "      <td>9</td>\n",
       "      <td>3</td>\n",
       "      <td>0</td>\n",
       "    </tr>\n",
       "    <tr>\n",
       "      <th>3</th>\n",
       "      <td>3</td>\n",
       "      <td>2</td>\n",
       "      <td>3</td>\n",
       "      <td>0</td>\n",
       "    </tr>\n",
       "  </tbody>\n",
       "</table>\n",
       "</div>"
      ],
      "text/plain": [
       "   id  col1  col2  col3\n",
       "0   0     1     2     3\n",
       "1   1     8     3     0\n",
       "2   2     9     3     0\n",
       "3   3     2     3     0"
      ]
     },
     "execution_count": 23,
     "metadata": {},
     "output_type": "execute_result"
    }
   ],
   "source": [
    "# array is rows not columns, the coluns is the values inside of array.\n",
    "# [0,1,2,3]\n",
    "# [1,8,3,0]\n",
    "# [2,9,3,0]\n",
    "# [3,2,3,0]\n",
    "\n",
    "data = np.array([ [0,1,2,3], [1,8,3,0], [2,9,3,0], [3,2,3,0] ]) \n",
    "_df1 = pd.DataFrame(data, columns=['id', 'col1', 'col2', 'col3'])\n",
    "_df1"
   ]
  },
  {
   "cell_type": "code",
   "execution_count": 24,
   "metadata": {},
   "outputs": [
    {
     "data": {
      "text/html": [
       "<div>\n",
       "<style scoped>\n",
       "    .dataframe tbody tr th:only-of-type {\n",
       "        vertical-align: middle;\n",
       "    }\n",
       "\n",
       "    .dataframe tbody tr th {\n",
       "        vertical-align: top;\n",
       "    }\n",
       "\n",
       "    .dataframe thead th {\n",
       "        text-align: right;\n",
       "    }\n",
       "</style>\n",
       "<table border=\"1\" class=\"dataframe\">\n",
       "  <thead>\n",
       "    <tr style=\"text-align: right;\">\n",
       "      <th></th>\n",
       "      <th>id</th>\n",
       "      <th>col4</th>\n",
       "      <th>col5</th>\n",
       "      <th>col6</th>\n",
       "    </tr>\n",
       "  </thead>\n",
       "  <tbody>\n",
       "    <tr>\n",
       "      <th>0</th>\n",
       "      <td>0</td>\n",
       "      <td>1</td>\n",
       "      <td>2</td>\n",
       "      <td>3</td>\n",
       "    </tr>\n",
       "    <tr>\n",
       "      <th>1</th>\n",
       "      <td>1</td>\n",
       "      <td>1</td>\n",
       "      <td>2</td>\n",
       "      <td>8</td>\n",
       "    </tr>\n",
       "    <tr>\n",
       "      <th>2</th>\n",
       "      <td>2</td>\n",
       "      <td>5</td>\n",
       "      <td>2</td>\n",
       "      <td>4</td>\n",
       "    </tr>\n",
       "    <tr>\n",
       "      <th>3</th>\n",
       "      <td>3</td>\n",
       "      <td>9</td>\n",
       "      <td>6</td>\n",
       "      <td>8</td>\n",
       "    </tr>\n",
       "  </tbody>\n",
       "</table>\n",
       "</div>"
      ],
      "text/plain": [
       "   id  col4  col5  col6\n",
       "0   0     1     2     3\n",
       "1   1     1     2     8\n",
       "2   2     5     2     4\n",
       "3   3     9     6     8"
      ]
     },
     "execution_count": 24,
     "metadata": {},
     "output_type": "execute_result"
    }
   ],
   "source": [
    "data = np.array([[0,1,2,3], [1,1,2,8], [2,5,2,4], [3,9,6,8]])\n",
    "_df2 = pd.DataFrame(data, columns=['id', 'col4', 'col5', 'col6'])\n",
    "_df2"
   ]
  },
  {
   "cell_type": "markdown",
   "metadata": {},
   "source": [
    "#### Mesclando Dataframes"
   ]
  },
  {
   "cell_type": "code",
   "execution_count": 25,
   "metadata": {},
   "outputs": [
    {
     "data": {
      "text/html": [
       "<div>\n",
       "<style scoped>\n",
       "    .dataframe tbody tr th:only-of-type {\n",
       "        vertical-align: middle;\n",
       "    }\n",
       "\n",
       "    .dataframe tbody tr th {\n",
       "        vertical-align: top;\n",
       "    }\n",
       "\n",
       "    .dataframe thead th {\n",
       "        text-align: right;\n",
       "    }\n",
       "</style>\n",
       "<table border=\"1\" class=\"dataframe\">\n",
       "  <thead>\n",
       "    <tr style=\"text-align: right;\">\n",
       "      <th></th>\n",
       "      <th>id</th>\n",
       "      <th>col1</th>\n",
       "      <th>col2</th>\n",
       "      <th>col3</th>\n",
       "      <th>col4</th>\n",
       "      <th>col5</th>\n",
       "      <th>col6</th>\n",
       "    </tr>\n",
       "  </thead>\n",
       "  <tbody>\n",
       "    <tr>\n",
       "      <th>0</th>\n",
       "      <td>0</td>\n",
       "      <td>1</td>\n",
       "      <td>2</td>\n",
       "      <td>3</td>\n",
       "      <td>1</td>\n",
       "      <td>2</td>\n",
       "      <td>3</td>\n",
       "    </tr>\n",
       "    <tr>\n",
       "      <th>1</th>\n",
       "      <td>1</td>\n",
       "      <td>8</td>\n",
       "      <td>3</td>\n",
       "      <td>0</td>\n",
       "      <td>1</td>\n",
       "      <td>2</td>\n",
       "      <td>8</td>\n",
       "    </tr>\n",
       "    <tr>\n",
       "      <th>2</th>\n",
       "      <td>2</td>\n",
       "      <td>9</td>\n",
       "      <td>3</td>\n",
       "      <td>0</td>\n",
       "      <td>5</td>\n",
       "      <td>2</td>\n",
       "      <td>4</td>\n",
       "    </tr>\n",
       "    <tr>\n",
       "      <th>3</th>\n",
       "      <td>3</td>\n",
       "      <td>2</td>\n",
       "      <td>3</td>\n",
       "      <td>0</td>\n",
       "      <td>9</td>\n",
       "      <td>6</td>\n",
       "      <td>8</td>\n",
       "    </tr>\n",
       "  </tbody>\n",
       "</table>\n",
       "</div>"
      ],
      "text/plain": [
       "   id  col1  col2  col3  col4  col5  col6\n",
       "0   0     1     2     3     1     2     3\n",
       "1   1     8     3     0     1     2     8\n",
       "2   2     9     3     0     5     2     4\n",
       "3   3     2     3     0     9     6     8"
      ]
     },
     "execution_count": 25,
     "metadata": {},
     "output_type": "execute_result"
    }
   ],
   "source": [
    "                    \n",
    "_df = _df1.merge(_df2, on=['id'], how='left')\n",
    "_df"
   ]
  },
  {
   "cell_type": "markdown",
   "metadata": {},
   "source": [
    "#### Pivotando Dataframes"
   ]
  },
  {
   "cell_type": "code",
   "execution_count": 26,
   "metadata": {},
   "outputs": [
    {
     "data": {
      "text/html": [
       "<div>\n",
       "<style scoped>\n",
       "    .dataframe tbody tr th:only-of-type {\n",
       "        vertical-align: middle;\n",
       "    }\n",
       "\n",
       "    .dataframe tbody tr th {\n",
       "        vertical-align: top;\n",
       "    }\n",
       "\n",
       "    .dataframe thead th {\n",
       "        text-align: right;\n",
       "    }\n",
       "</style>\n",
       "<table border=\"1\" class=\"dataframe\">\n",
       "  <thead>\n",
       "    <tr style=\"text-align: right;\">\n",
       "      <th>col1</th>\n",
       "      <th>id</th>\n",
       "      <th>1</th>\n",
       "      <th>2</th>\n",
       "      <th>8</th>\n",
       "      <th>9</th>\n",
       "    </tr>\n",
       "  </thead>\n",
       "  <tbody>\n",
       "    <tr>\n",
       "      <th>0</th>\n",
       "      <td>0</td>\n",
       "      <td>3.0</td>\n",
       "      <td>NaN</td>\n",
       "      <td>NaN</td>\n",
       "      <td>NaN</td>\n",
       "    </tr>\n",
       "    <tr>\n",
       "      <th>1</th>\n",
       "      <td>1</td>\n",
       "      <td>NaN</td>\n",
       "      <td>NaN</td>\n",
       "      <td>0.0</td>\n",
       "      <td>NaN</td>\n",
       "    </tr>\n",
       "    <tr>\n",
       "      <th>2</th>\n",
       "      <td>2</td>\n",
       "      <td>NaN</td>\n",
       "      <td>NaN</td>\n",
       "      <td>NaN</td>\n",
       "      <td>0.0</td>\n",
       "    </tr>\n",
       "    <tr>\n",
       "      <th>3</th>\n",
       "      <td>3</td>\n",
       "      <td>NaN</td>\n",
       "      <td>0.0</td>\n",
       "      <td>NaN</td>\n",
       "      <td>NaN</td>\n",
       "    </tr>\n",
       "  </tbody>\n",
       "</table>\n",
       "</div>"
      ],
      "text/plain": [
       "col1  id    1    2    8    9\n",
       "0      0  3.0  NaN  NaN  NaN\n",
       "1      1  NaN  NaN  0.0  NaN\n",
       "2      2  NaN  NaN  NaN  0.0\n",
       "3      3  NaN  0.0  NaN  NaN"
      ]
     },
     "execution_count": 26,
     "metadata": {},
     "output_type": "execute_result"
    }
   ],
   "source": [
    "_df_pivot = pd.pivot_table(_df,\n",
    "                           values='col3', \n",
    "                           index='id',\n",
    "                           columns=['col1'], \n",
    "                           aggfunc=np.sum).reset_index()\n",
    "\n",
    "_df_pivot"
   ]
  },
  {
   "cell_type": "code",
   "execution_count": 27,
   "metadata": {},
   "outputs": [
    {
     "data": {
      "text/html": [
       "<div>\n",
       "<style scoped>\n",
       "    .dataframe tbody tr th:only-of-type {\n",
       "        vertical-align: middle;\n",
       "    }\n",
       "\n",
       "    .dataframe tbody tr th {\n",
       "        vertical-align: top;\n",
       "    }\n",
       "\n",
       "    .dataframe thead th {\n",
       "        text-align: right;\n",
       "    }\n",
       "</style>\n",
       "<table border=\"1\" class=\"dataframe\">\n",
       "  <thead>\n",
       "    <tr style=\"text-align: right;\">\n",
       "      <th>col1</th>\n",
       "      <th>id</th>\n",
       "      <th>1</th>\n",
       "      <th>2</th>\n",
       "      <th>8</th>\n",
       "      <th>9</th>\n",
       "    </tr>\n",
       "  </thead>\n",
       "  <tbody>\n",
       "    <tr>\n",
       "      <th>0</th>\n",
       "      <td>0</td>\n",
       "      <td>3.0</td>\n",
       "      <td>0.0</td>\n",
       "      <td>0.0</td>\n",
       "      <td>0.0</td>\n",
       "    </tr>\n",
       "    <tr>\n",
       "      <th>1</th>\n",
       "      <td>1</td>\n",
       "      <td>0.0</td>\n",
       "      <td>0.0</td>\n",
       "      <td>0.0</td>\n",
       "      <td>0.0</td>\n",
       "    </tr>\n",
       "    <tr>\n",
       "      <th>2</th>\n",
       "      <td>2</td>\n",
       "      <td>0.0</td>\n",
       "      <td>0.0</td>\n",
       "      <td>0.0</td>\n",
       "      <td>0.0</td>\n",
       "    </tr>\n",
       "    <tr>\n",
       "      <th>3</th>\n",
       "      <td>3</td>\n",
       "      <td>0.0</td>\n",
       "      <td>0.0</td>\n",
       "      <td>0.0</td>\n",
       "      <td>0.0</td>\n",
       "    </tr>\n",
       "  </tbody>\n",
       "</table>\n",
       "</div>"
      ],
      "text/plain": [
       "col1  id    1    2    8    9\n",
       "0      0  3.0  0.0  0.0  0.0\n",
       "1      1  0.0  0.0  0.0  0.0\n",
       "2      2  0.0  0.0  0.0  0.0\n",
       "3      3  0.0  0.0  0.0  0.0"
      ]
     },
     "execution_count": 27,
     "metadata": {},
     "output_type": "execute_result"
    }
   ],
   "source": [
    "_df_pivot = _df_pivot.fillna(0)\n",
    "_df_pivot"
   ]
  },
  {
   "cell_type": "code",
   "execution_count": 28,
   "metadata": {},
   "outputs": [
    {
     "ename": "KeyError",
     "evalue": "\"The following 'id_vars' are not present in the DataFrame: ['col1']\"",
     "output_type": "error",
     "traceback": [
      "\u001b[1;31m---------------------------------------------------------------------------\u001b[0m",
      "\u001b[1;31mKeyError\u001b[0m                                  Traceback (most recent call last)",
      "\u001b[1;32mC:\\Users\\ALEXSA~1.IGN\\AppData\\Local\\Temp/ipykernel_16528/1533702046.py\u001b[0m in \u001b[0;36m<module>\u001b[1;34m\u001b[0m\n\u001b[1;32m----> 1\u001b[1;33m \u001b[0m_df_melt\u001b[0m \u001b[1;33m=\u001b[0m \u001b[0mpd\u001b[0m\u001b[1;33m.\u001b[0m\u001b[0mmelt\u001b[0m\u001b[1;33m(\u001b[0m\u001b[0m_df_pivot\u001b[0m\u001b[1;33m,\u001b[0m \u001b[0mid_vars\u001b[0m\u001b[1;33m=\u001b[0m\u001b[1;33m[\u001b[0m\u001b[1;34m'col1'\u001b[0m\u001b[1;33m]\u001b[0m\u001b[1;33m,\u001b[0m \u001b[0mvalue_vars\u001b[0m\u001b[1;33m=\u001b[0m\u001b[1;33m[\u001b[0m\u001b[1;34m'1'\u001b[0m\u001b[1;33m]\u001b[0m\u001b[1;33m)\u001b[0m\u001b[1;33m\u001b[0m\u001b[1;33m\u001b[0m\u001b[0m\n\u001b[0m\u001b[0;32m      2\u001b[0m \u001b[0m_df_melt\u001b[0m\u001b[1;33m\u001b[0m\u001b[1;33m\u001b[0m\u001b[0m\n",
      "\u001b[1;32m~\\AppData\\Local\\Programs\\Python\\Python39\\lib\\site-packages\\pandas\\core\\reshape\\melt.py\u001b[0m in \u001b[0;36mmelt\u001b[1;34m(frame, id_vars, value_vars, var_name, value_name, col_level, ignore_index)\u001b[0m\n\u001b[0;32m     80\u001b[0m             \u001b[0mmissing\u001b[0m \u001b[1;33m=\u001b[0m \u001b[0mIndex\u001b[0m\u001b[1;33m(\u001b[0m\u001b[0mcom\u001b[0m\u001b[1;33m.\u001b[0m\u001b[0mflatten\u001b[0m\u001b[1;33m(\u001b[0m\u001b[0mid_vars\u001b[0m\u001b[1;33m)\u001b[0m\u001b[1;33m)\u001b[0m\u001b[1;33m.\u001b[0m\u001b[0mdifference\u001b[0m\u001b[1;33m(\u001b[0m\u001b[0mcols\u001b[0m\u001b[1;33m)\u001b[0m\u001b[1;33m\u001b[0m\u001b[1;33m\u001b[0m\u001b[0m\n\u001b[0;32m     81\u001b[0m             \u001b[1;32mif\u001b[0m \u001b[1;32mnot\u001b[0m \u001b[0mmissing\u001b[0m\u001b[1;33m.\u001b[0m\u001b[0mempty\u001b[0m\u001b[1;33m:\u001b[0m\u001b[1;33m\u001b[0m\u001b[1;33m\u001b[0m\u001b[0m\n\u001b[1;32m---> 82\u001b[1;33m                 raise KeyError(\n\u001b[0m\u001b[0;32m     83\u001b[0m                     \u001b[1;34m\"The following 'id_vars' are not present \"\u001b[0m\u001b[1;33m\u001b[0m\u001b[1;33m\u001b[0m\u001b[0m\n\u001b[0;32m     84\u001b[0m                     \u001b[1;34mf\"in the DataFrame: {list(missing)}\"\u001b[0m\u001b[1;33m\u001b[0m\u001b[1;33m\u001b[0m\u001b[0m\n",
      "\u001b[1;31mKeyError\u001b[0m: \"The following 'id_vars' are not present in the DataFrame: ['col1']\""
     ]
    }
   ],
   "source": [
    "_df_melt = pd.melt(_df_pivot, id_vars=['col1'], value_vars=['1'])\n",
    "_df_melt"
   ]
  },
  {
   "cell_type": "markdown",
   "metadata": {},
   "source": [
    "#### Substituindo Valores"
   ]
  },
  {
   "cell_type": "code",
   "execution_count": null,
   "metadata": {},
   "outputs": [
    {
     "data": {
      "text/html": [
       "<div>\n",
       "<style scoped>\n",
       "    .dataframe tbody tr th:only-of-type {\n",
       "        vertical-align: middle;\n",
       "    }\n",
       "\n",
       "    .dataframe tbody tr th {\n",
       "        vertical-align: top;\n",
       "    }\n",
       "\n",
       "    .dataframe thead th {\n",
       "        text-align: right;\n",
       "    }\n",
       "</style>\n",
       "<table border=\"1\" class=\"dataframe\">\n",
       "  <thead>\n",
       "    <tr style=\"text-align: right;\">\n",
       "      <th></th>\n",
       "      <th>Coluna1</th>\n",
       "      <th>Coluna2</th>\n",
       "      <th>Coluna3</th>\n",
       "      <th>vol_dia</th>\n",
       "    </tr>\n",
       "  </thead>\n",
       "  <tbody>\n",
       "    <tr>\n",
       "      <th>0</th>\n",
       "      <td>Regional1</td>\n",
       "      <td>Região Leste</td>\n",
       "      <td>Atacado</td>\n",
       "      <td>10000</td>\n",
       "    </tr>\n",
       "  </tbody>\n",
       "</table>\n",
       "</div>"
      ],
      "text/plain": [
       "     Coluna1       Coluna2  Coluna3  vol_dia\n",
       "0  Regional1  Região Leste  Atacado    10000"
      ]
     },
     "execution_count": 72,
     "metadata": {},
     "output_type": "execute_result"
    }
   ],
   "source": [
    "data  = {'Coluna1':['Regional1'],  'Coluna2':['Região Leste'], 'Coluna3':['Atacado'], 'vol_dia':[10000]}\n",
    "_df = pd.DataFrame(data)\n",
    "_df"
   ]
  },
  {
   "cell_type": "code",
   "execution_count": null,
   "metadata": {},
   "outputs": [
    {
     "data": {
      "text/html": [
       "<div>\n",
       "<style scoped>\n",
       "    .dataframe tbody tr th:only-of-type {\n",
       "        vertical-align: middle;\n",
       "    }\n",
       "\n",
       "    .dataframe tbody tr th {\n",
       "        vertical-align: top;\n",
       "    }\n",
       "\n",
       "    .dataframe thead th {\n",
       "        text-align: right;\n",
       "    }\n",
       "</style>\n",
       "<table border=\"1\" class=\"dataframe\">\n",
       "  <thead>\n",
       "    <tr style=\"text-align: right;\">\n",
       "      <th></th>\n",
       "      <th>Coluna1</th>\n",
       "      <th>Coluna2</th>\n",
       "      <th>Coluna3</th>\n",
       "      <th>vol_dia</th>\n",
       "    </tr>\n",
       "  </thead>\n",
       "  <tbody>\n",
       "    <tr>\n",
       "      <th>0</th>\n",
       "      <td>Regional1</td>\n",
       "      <td>Região Leste</td>\n",
       "      <td>Atacado</td>\n",
       "      <td>False</td>\n",
       "    </tr>\n",
       "  </tbody>\n",
       "</table>\n",
       "</div>"
      ],
      "text/plain": [
       "     Coluna1       Coluna2  Coluna3  vol_dia\n",
       "0  Regional1  Região Leste  Atacado    False"
      ]
     },
     "execution_count": 73,
     "metadata": {},
     "output_type": "execute_result"
    }
   ],
   "source": [
    "_df['vol_dia'] = np.where(_df['vol_dia']== 1000, True, False)\n",
    "_df"
   ]
  },
  {
   "cell_type": "code",
   "execution_count": null,
   "metadata": {},
   "outputs": [
    {
     "data": {
      "text/html": [
       "<div>\n",
       "<style scoped>\n",
       "    .dataframe tbody tr th:only-of-type {\n",
       "        vertical-align: middle;\n",
       "    }\n",
       "\n",
       "    .dataframe tbody tr th {\n",
       "        vertical-align: top;\n",
       "    }\n",
       "\n",
       "    .dataframe thead th {\n",
       "        text-align: right;\n",
       "    }\n",
       "</style>\n",
       "<table border=\"1\" class=\"dataframe\">\n",
       "  <thead>\n",
       "    <tr style=\"text-align: right;\">\n",
       "      <th></th>\n",
       "      <th>Coluna1</th>\n",
       "      <th>Coluna2</th>\n",
       "      <th>Coluna3</th>\n",
       "      <th>vol_dia</th>\n",
       "    </tr>\n",
       "  </thead>\n",
       "  <tbody>\n",
       "    <tr>\n",
       "      <th>0</th>\n",
       "      <td>Regional1</td>\n",
       "      <td>Região Leste</td>\n",
       "      <td>Atacado</td>\n",
       "      <td>10000</td>\n",
       "    </tr>\n",
       "  </tbody>\n",
       "</table>\n",
       "</div>"
      ],
      "text/plain": [
       "     Coluna1       Coluna2  Coluna3  vol_dia\n",
       "0  Regional1  Região Leste  Atacado    10000"
      ]
     },
     "execution_count": 74,
     "metadata": {},
     "output_type": "execute_result"
    }
   ],
   "source": [
    "data  = {'Coluna1':['Regional1'],  'Coluna2':['Região Leste'], 'Coluna3':['Atacado'], 'vol_dia':[10000]}\n",
    "_df = pd.DataFrame(data)\n",
    "_df"
   ]
  },
  {
   "cell_type": "code",
   "execution_count": null,
   "metadata": {},
   "outputs": [
    {
     "data": {
      "text/html": [
       "<div>\n",
       "<style scoped>\n",
       "    .dataframe tbody tr th:only-of-type {\n",
       "        vertical-align: middle;\n",
       "    }\n",
       "\n",
       "    .dataframe tbody tr th {\n",
       "        vertical-align: top;\n",
       "    }\n",
       "\n",
       "    .dataframe thead th {\n",
       "        text-align: right;\n",
       "    }\n",
       "</style>\n",
       "<table border=\"1\" class=\"dataframe\">\n",
       "  <thead>\n",
       "    <tr style=\"text-align: right;\">\n",
       "      <th></th>\n",
       "      <th>Coluna1</th>\n",
       "      <th>Coluna2</th>\n",
       "      <th>Coluna3</th>\n",
       "      <th>vol_dia</th>\n",
       "    </tr>\n",
       "  </thead>\n",
       "  <tbody>\n",
       "    <tr>\n",
       "      <th>0</th>\n",
       "      <td>Regional1</td>\n",
       "      <td>Região Leste</td>\n",
       "      <td>Atacado</td>\n",
       "      <td>True</td>\n",
       "    </tr>\n",
       "  </tbody>\n",
       "</table>\n",
       "</div>"
      ],
      "text/plain": [
       "     Coluna1       Coluna2  Coluna3  vol_dia\n",
       "0  Regional1  Região Leste  Atacado     True"
      ]
     },
     "execution_count": 75,
     "metadata": {},
     "output_type": "execute_result"
    }
   ],
   "source": [
    "_df['vol_dia'] = np.where(_df['vol_dia']== 10000, True, False)\n",
    "_df"
   ]
  },
  {
   "cell_type": "code",
   "execution_count": null,
   "metadata": {},
   "outputs": [
    {
     "data": {
      "text/html": [
       "<div>\n",
       "<style scoped>\n",
       "    .dataframe tbody tr th:only-of-type {\n",
       "        vertical-align: middle;\n",
       "    }\n",
       "\n",
       "    .dataframe tbody tr th {\n",
       "        vertical-align: top;\n",
       "    }\n",
       "\n",
       "    .dataframe thead th {\n",
       "        text-align: right;\n",
       "    }\n",
       "</style>\n",
       "<table border=\"1\" class=\"dataframe\">\n",
       "  <thead>\n",
       "    <tr style=\"text-align: right;\">\n",
       "      <th></th>\n",
       "      <th>Coluna1</th>\n",
       "      <th>Coluna2</th>\n",
       "      <th>Coluna3</th>\n",
       "      <th>vol_dia</th>\n",
       "    </tr>\n",
       "  </thead>\n",
       "  <tbody>\n",
       "    <tr>\n",
       "      <th>0</th>\n",
       "      <td>Regional2</td>\n",
       "      <td>Região Leste</td>\n",
       "      <td>Atacado</td>\n",
       "      <td>True</td>\n",
       "    </tr>\n",
       "  </tbody>\n",
       "</table>\n",
       "</div>"
      ],
      "text/plain": [
       "     Coluna1       Coluna2  Coluna3  vol_dia\n",
       "0  Regional2  Região Leste  Atacado     True"
      ]
     },
     "execution_count": 76,
     "metadata": {},
     "output_type": "execute_result"
    }
   ],
   "source": [
    "_df = _df.replace('Regional1','Regional2')\n",
    "_df"
   ]
  },
  {
   "cell_type": "code",
   "execution_count": null,
   "metadata": {},
   "outputs": [
    {
     "data": {
      "text/html": [
       "<div>\n",
       "<style scoped>\n",
       "    .dataframe tbody tr th:only-of-type {\n",
       "        vertical-align: middle;\n",
       "    }\n",
       "\n",
       "    .dataframe tbody tr th {\n",
       "        vertical-align: top;\n",
       "    }\n",
       "\n",
       "    .dataframe thead th {\n",
       "        text-align: right;\n",
       "    }\n",
       "</style>\n",
       "<table border=\"1\" class=\"dataframe\">\n",
       "  <thead>\n",
       "    <tr style=\"text-align: right;\">\n",
       "      <th></th>\n",
       "      <th>Coluna1</th>\n",
       "      <th>Coluna2</th>\n",
       "      <th>Coluna3</th>\n",
       "      <th>vol_dia</th>\n",
       "    </tr>\n",
       "  </thead>\n",
       "  <tbody>\n",
       "    <tr>\n",
       "      <th>0</th>\n",
       "      <td>Regional2</td>\n",
       "      <td>Região Leste Cambuci2 66</td>\n",
       "      <td>Atacado</td>\n",
       "      <td>True</td>\n",
       "    </tr>\n",
       "  </tbody>\n",
       "</table>\n",
       "</div>"
      ],
      "text/plain": [
       "     Coluna1                   Coluna2  Coluna3  vol_dia\n",
       "0  Regional2  Região Leste Cambuci2 66  Atacado     True"
      ]
     },
     "execution_count": 77,
     "metadata": {},
     "output_type": "execute_result"
    }
   ],
   "source": [
    "_df = _df.replace('Região Leste','Região Leste Cambuci2 66')\n",
    "_df"
   ]
  },
  {
   "cell_type": "markdown",
   "metadata": {},
   "source": [
    "#### Strings"
   ]
  },
  {
   "cell_type": "code",
   "execution_count": null,
   "metadata": {},
   "outputs": [
    {
     "data": {
      "text/plain": [
       "0    [Região, Leste, Cambuci2, 66]\n",
       "Name: Coluna2, dtype: object"
      ]
     },
     "execution_count": 78,
     "metadata": {},
     "output_type": "execute_result"
    }
   ],
   "source": [
    "_df['Coluna2'].str.split(pat=' ')"
   ]
  },
  {
   "cell_type": "code",
   "execution_count": null,
   "metadata": {},
   "outputs": [
    {
     "data": {
      "text/html": [
       "<div>\n",
       "<style scoped>\n",
       "    .dataframe tbody tr th:only-of-type {\n",
       "        vertical-align: middle;\n",
       "    }\n",
       "\n",
       "    .dataframe tbody tr th {\n",
       "        vertical-align: top;\n",
       "    }\n",
       "\n",
       "    .dataframe thead th {\n",
       "        text-align: right;\n",
       "    }\n",
       "</style>\n",
       "<table border=\"1\" class=\"dataframe\">\n",
       "  <thead>\n",
       "    <tr style=\"text-align: right;\">\n",
       "      <th></th>\n",
       "      <th>0</th>\n",
       "      <th>1</th>\n",
       "      <th>2</th>\n",
       "      <th>3</th>\n",
       "    </tr>\n",
       "  </thead>\n",
       "  <tbody>\n",
       "    <tr>\n",
       "      <th>0</th>\n",
       "      <td>Região</td>\n",
       "      <td>Leste</td>\n",
       "      <td>Cambuci2</td>\n",
       "      <td>66</td>\n",
       "    </tr>\n",
       "  </tbody>\n",
       "</table>\n",
       "</div>"
      ],
      "text/plain": [
       "        0      1         2   3\n",
       "0  Região  Leste  Cambuci2  66"
      ]
     },
     "execution_count": 79,
     "metadata": {},
     "output_type": "execute_result"
    }
   ],
   "source": [
    "_df['Coluna2'].str.split(n=5, expand=True)"
   ]
  },
  {
   "cell_type": "code",
   "execution_count": null,
   "metadata": {},
   "outputs": [
    {
     "data": {
      "text/plain": [
       "0    [Região, Leste Cambuci2 66]\n",
       "Name: Coluna2, dtype: object"
      ]
     },
     "execution_count": 80,
     "metadata": {},
     "output_type": "execute_result"
    }
   ],
   "source": [
    "_df['Coluna2'].str.split(n=1)"
   ]
  },
  {
   "cell_type": "code",
   "execution_count": null,
   "metadata": {},
   "outputs": [
    {
     "data": {
      "text/html": [
       "<div>\n",
       "<style scoped>\n",
       "    .dataframe tbody tr th:only-of-type {\n",
       "        vertical-align: middle;\n",
       "    }\n",
       "\n",
       "    .dataframe tbody tr th {\n",
       "        vertical-align: top;\n",
       "    }\n",
       "\n",
       "    .dataframe thead th {\n",
       "        text-align: right;\n",
       "    }\n",
       "</style>\n",
       "<table border=\"1\" class=\"dataframe\">\n",
       "  <thead>\n",
       "    <tr style=\"text-align: right;\">\n",
       "      <th></th>\n",
       "      <th>Coluna1</th>\n",
       "      <th>Coluna2</th>\n",
       "      <th>Coluna3</th>\n",
       "      <th>vol_dia</th>\n",
       "      <th>split_cols</th>\n",
       "    </tr>\n",
       "  </thead>\n",
       "  <tbody>\n",
       "    <tr>\n",
       "      <th>0</th>\n",
       "      <td>Regional2</td>\n",
       "      <td>Região Leste Cambuci2 66</td>\n",
       "      <td>Atacado</td>\n",
       "      <td>True</td>\n",
       "      <td>Região</td>\n",
       "    </tr>\n",
       "  </tbody>\n",
       "</table>\n",
       "</div>"
      ],
      "text/plain": [
       "     Coluna1                   Coluna2  Coluna3  vol_dia split_cols\n",
       "0  Regional2  Região Leste Cambuci2 66  Atacado     True     Região"
      ]
     },
     "execution_count": 81,
     "metadata": {},
     "output_type": "execute_result"
    }
   ],
   "source": [
    "_df['split_cols'] = _df['Coluna2'].str.split(pat=' ').str[0]\n",
    "_df"
   ]
  },
  {
   "cell_type": "code",
   "execution_count": null,
   "metadata": {},
   "outputs": [
    {
     "data": {
      "text/html": [
       "<div>\n",
       "<style scoped>\n",
       "    .dataframe tbody tr th:only-of-type {\n",
       "        vertical-align: middle;\n",
       "    }\n",
       "\n",
       "    .dataframe tbody tr th {\n",
       "        vertical-align: top;\n",
       "    }\n",
       "\n",
       "    .dataframe thead th {\n",
       "        text-align: right;\n",
       "    }\n",
       "</style>\n",
       "<table border=\"1\" class=\"dataframe\">\n",
       "  <thead>\n",
       "    <tr style=\"text-align: right;\">\n",
       "      <th></th>\n",
       "      <th>Coluna1</th>\n",
       "      <th>Coluna2</th>\n",
       "      <th>Coluna3</th>\n",
       "      <th>vol_dia</th>\n",
       "      <th>split_cols</th>\n",
       "    </tr>\n",
       "  </thead>\n",
       "  <tbody>\n",
       "    <tr>\n",
       "      <th>0</th>\n",
       "      <td>Regional2</td>\n",
       "      <td>Região Leste Cambuci2 66</td>\n",
       "      <td>Atacado</td>\n",
       "      <td>True</td>\n",
       "      <td>Leste</td>\n",
       "    </tr>\n",
       "  </tbody>\n",
       "</table>\n",
       "</div>"
      ],
      "text/plain": [
       "     Coluna1                   Coluna2  Coluna3  vol_dia split_cols\n",
       "0  Regional2  Região Leste Cambuci2 66  Atacado     True      Leste"
      ]
     },
     "execution_count": 82,
     "metadata": {},
     "output_type": "execute_result"
    }
   ],
   "source": [
    "_df['split_cols'] = _df['Coluna2'].str.split(pat=' ').str[1]\n",
    "_df"
   ]
  },
  {
   "cell_type": "code",
   "execution_count": null,
   "metadata": {},
   "outputs": [
    {
     "data": {
      "text/html": [
       "<div>\n",
       "<style scoped>\n",
       "    .dataframe tbody tr th:only-of-type {\n",
       "        vertical-align: middle;\n",
       "    }\n",
       "\n",
       "    .dataframe tbody tr th {\n",
       "        vertical-align: top;\n",
       "    }\n",
       "\n",
       "    .dataframe thead th {\n",
       "        text-align: right;\n",
       "    }\n",
       "</style>\n",
       "<table border=\"1\" class=\"dataframe\">\n",
       "  <thead>\n",
       "    <tr style=\"text-align: right;\">\n",
       "      <th></th>\n",
       "      <th>Coluna1</th>\n",
       "      <th>Coluna2</th>\n",
       "      <th>Coluna3</th>\n",
       "      <th>vol_dia</th>\n",
       "      <th>split_cols</th>\n",
       "    </tr>\n",
       "  </thead>\n",
       "  <tbody>\n",
       "    <tr>\n",
       "      <th>0</th>\n",
       "      <td>Regional2</td>\n",
       "      <td>Região Leste Cambuci2 66</td>\n",
       "      <td>Atacado</td>\n",
       "      <td>True</td>\n",
       "      <td>Região</td>\n",
       "    </tr>\n",
       "  </tbody>\n",
       "</table>\n",
       "</div>"
      ],
      "text/plain": [
       "     Coluna1                   Coluna2  Coluna3  vol_dia split_cols\n",
       "0  Regional2  Região Leste Cambuci2 66  Atacado     True     Região"
      ]
     },
     "execution_count": 83,
     "metadata": {},
     "output_type": "execute_result"
    }
   ],
   "source": [
    "_df['split_cols'] = _df['Coluna2'].str.split(pat=' ').str[0]\n",
    "_df"
   ]
  },
  {
   "cell_type": "markdown",
   "metadata": {},
   "source": [
    "#### Criando Index e Atribuindo um dicionário"
   ]
  },
  {
   "cell_type": "code",
   "execution_count": null,
   "metadata": {},
   "outputs": [
    {
     "data": {
      "text/html": [
       "<div>\n",
       "<style scoped>\n",
       "    .dataframe tbody tr th:only-of-type {\n",
       "        vertical-align: middle;\n",
       "    }\n",
       "\n",
       "    .dataframe tbody tr th {\n",
       "        vertical-align: top;\n",
       "    }\n",
       "\n",
       "    .dataframe thead th {\n",
       "        text-align: right;\n",
       "    }\n",
       "</style>\n",
       "<table border=\"1\" class=\"dataframe\">\n",
       "  <thead>\n",
       "    <tr style=\"text-align: right;\">\n",
       "      <th></th>\n",
       "      <th>Coluna1</th>\n",
       "      <th>Coluna2</th>\n",
       "      <th>Coluna3</th>\n",
       "      <th>vol_dia</th>\n",
       "    </tr>\n",
       "  </thead>\n",
       "  <tbody>\n",
       "    <tr>\n",
       "      <th>0</th>\n",
       "      <td>Regional 1</td>\n",
       "      <td>Região Leste</td>\n",
       "      <td>Atacado</td>\n",
       "      <td>10000</td>\n",
       "    </tr>\n",
       "    <tr>\n",
       "      <th>1</th>\n",
       "      <td>Regional 2</td>\n",
       "      <td>Região Norte</td>\n",
       "      <td>Atacado</td>\n",
       "      <td>500</td>\n",
       "    </tr>\n",
       "    <tr>\n",
       "      <th>2</th>\n",
       "      <td></td>\n",
       "      <td></td>\n",
       "      <td></td>\n",
       "      <td>562</td>\n",
       "    </tr>\n",
       "  </tbody>\n",
       "</table>\n",
       "</div>"
      ],
      "text/plain": [
       "      Coluna1       Coluna2  Coluna3  vol_dia\n",
       "0  Regional 1  Região Leste  Atacado    10000\n",
       "1  Regional 2  Região Norte  Atacado      500\n",
       "2                                         562"
      ]
     },
     "execution_count": 183,
     "metadata": {},
     "output_type": "execute_result"
    }
   ],
   "source": [
    "data  = {'Coluna1':['Regional 1', 'Regional 2', ''],  'Coluna2':['Região Leste', 'Região Norte', ''], 'Coluna3':['Atacado', 'Atacado', ''], 'vol_dia':[10000, 500, 562]}\n",
    "_df = pd.DataFrame(data)\n",
    "_df"
   ]
  },
  {
   "cell_type": "code",
   "execution_count": null,
   "metadata": {},
   "outputs": [
    {
     "data": {
      "text/plain": [
       "Index(['Regional 1', 'Regional 2', ''], dtype='object')"
      ]
     },
     "execution_count": 184,
     "metadata": {},
     "output_type": "execute_result"
    }
   ],
   "source": [
    "pd.Index(_df.reset_index()['Coluna1'].unique().tolist())"
   ]
  },
  {
   "cell_type": "code",
   "execution_count": null,
   "metadata": {},
   "outputs": [
    {
     "data": {
      "text/plain": [
       "Int64Index([1, 2, 3], dtype='int64')"
      ]
     },
     "execution_count": 181,
     "metadata": {},
     "output_type": "execute_result"
    }
   ],
   "source": [
    "pd.Index([1 ,2 , 3])"
   ]
  },
  {
   "cell_type": "code",
   "execution_count": null,
   "metadata": {},
   "outputs": [
    {
     "data": {
      "text/plain": [
       "RangeIndex(start=1, stop=31, step=1)"
      ]
     },
     "execution_count": 182,
     "metadata": {},
     "output_type": "execute_result"
    }
   ],
   "source": [
    "pd.Index(range(1,31,1))"
   ]
  },
  {
   "cell_type": "code",
   "execution_count": null,
   "metadata": {},
   "outputs": [],
   "source": [
    "index = pd.Index([\n",
    "    # Moinhos > Cimento\n",
    "    '[A1] Dias Úteis',\n",
    "    '[B1] Dias Cobertura Cimento',\n",
    "    '[C1] Demanda Comercial de Cimento',\n",
    "    '[D1] Capacidade Total Moinhos',\n",
    "    '[E1] Estoque Inicial = [N1]',\n",
    "    '[F1] Estoque de Segurança =  [C1/A1 * B1]',\n",
    "    '[G1] Entrada de Estoque = MAX[0, F1 - E1]',\n",
    "    '[H1] Saída de Estoque =  MIN[0, F1 - E1]',\n",
    "    '[I1] Requisito de Estoque = [G1 + H1]',\n",
    "    '[J1] Requisito Total de Produção = [J1 + C1]',\n",
    "    '[L1] Produção Planejada de Cimento = MAX[J1,D1]',\n",
    "    '[M1] Cimento Disponível = [E1 + A3 - F1]',\n",
    "    '[N1] Estoque Final = [E1 + A3 - C3]',\n",
    "    '[O1] Alerta de Estoque Cimento',\n",
    "    # Fornos > Clinquer\n",
    "    '[A2] Dias Cobertura Clínquer',\n",
    "    '[B2] Percentual de Clínquer',\n",
    "    '[C2] Demanda de Clínquer para Cimento = [L1 * B2]',\n",
    "    '[D2] Capacidade Total Fornos',\n",
    "    '[E2] Estoque Inicial = [Q2]',\n",
    "    '[F2] Estoque de Segurança = [C2/A1 * A2]',\n",
    "    '[G2] Entrada de Estoque = MAX[0, F2 - E2]',\n",
    "    '[H2] Saída de Estoque = MIN[0, F2 - E2]',\n",
    "    '[I2] Requisito de estoque = [G2 - H2]',\n",
    "    '[J2] Tranferências Saída = [L1 * B2]',\n",
    "    '[L2] Requisito Total de Produção = [I2 + C2 + J2]',\n",
    "    '[M2] Tranferências Entrada',\n",
    "    '[N2] Produção Efetiva de Clínquer = MIN[L2,D2] + M2',\n",
    "    '[N2.1] Produção Efetiva de Estoque Clínquer',      \n",
    "    '[O2] % de Produção Própria = [N2 * (C2+I2)/(L2)]',\n",
    "    '[P2] % de Produção Externa = [N2 * J2 /(L2)]',\n",
    "    '[Q2] Estoque Final = [E2 + O2 - U2]',\n",
    "    '[R2] Venda para outros Players',\n",
    "    '[S2] Clínquer Dísponivel = [E2 + O2 - F2 + R2]',\n",
    "    '[T2] Clínquer Dísponivel Convertido em Cimento',\n",
    "    '[U2] Demanda Restrita de Clínquer = [S2/B2]',\n",
    "    '[V2] Alerta de estoque Cimento',\n",
    "    # Cimento Novamente\n",
    "    '[A3] Produção efetiva de cimento = [O2/B2] trans. [N2/B2]',\n",
    "    '[B3] Cimento disponível = M1',\n",
    "    '[C3] Demanda restrita = MIN[B3,C1]',\n",
    "    '[D3] Demanda não abastecida = [C1 - C3]',\n",
    "    '[E3] Demanda irrestrita = C1'\n",
    "    ])"
   ]
  },
  {
   "cell_type": "code",
   "execution_count": null,
   "metadata": {},
   "outputs": [
    {
     "data": {
      "text/plain": [
       "Index(['[A1] Dias Úteis', '[B1] Dias Cobertura Cimento',\n",
       "       '[C1] Demanda Comercial de Cimento', '[D1] Capacidade Total Moinhos',\n",
       "       '[E1] Estoque Inicial = [N1]',\n",
       "       '[F1] Estoque de Segurança =  [C1/A1 * B1]',\n",
       "       '[G1] Entrada de Estoque = MAX[0, F1 - E1]',\n",
       "       '[H1] Saída de Estoque =  MIN[0, F1 - E1]',\n",
       "       '[I1] Requisito de Estoque = [G1 + H1]',\n",
       "       '[J1] Requisito Total de Produção = [J1 + C1]',\n",
       "       '[L1] Produção Planejada de Cimento = MAX[J1,D1]',\n",
       "       '[M1] Cimento Disponível = [E1 + A3 - F1]',\n",
       "       '[N1] Estoque Final = [E1 + A3 - C3]', '[O1] Alerta de Estoque Cimento',\n",
       "       '[A2] Dias Cobertura Clínquer', '[B2] Percentual de Clínquer',\n",
       "       '[C2] Demanda de Clínquer para Cimento = [L1 * B2]',\n",
       "       '[D2] Capacidade Total Fornos', '[E2] Estoque Inicial = [Q2]',\n",
       "       '[F2] Estoque de Segurança = [C2/A1 * A2]',\n",
       "       '[G2] Entrada de Estoque = MAX[0, F2 - E2]',\n",
       "       '[H2] Saída de Estoque = MIN[0, F2 - E2]',\n",
       "       '[I2] Requisito de estoque = [G2 - H2]',\n",
       "       '[J2] Tranferências Saída = [L1 * B2]',\n",
       "       '[L2] Requisito Total de Produção = [I2 + C2 + J2]',\n",
       "       '[M2] Tranferências Entrada',\n",
       "       '[N2] Produção Efetiva de Clínquer = MIN[L2,D2] + M2',\n",
       "       '[N2.1] Produção Efetiva de Estoque Clínquer',\n",
       "       '[O2] % de Produção Própria = [N2 * (C2+I2)/(L2)]',\n",
       "       '[P2] % de Produção Externa = [N2 * J2 /(L2)]',\n",
       "       '[Q2] Estoque Final = [E2 + O2 - U2]', '[R2] Venda para outros Players',\n",
       "       '[S2] Clínquer Dísponivel = [E2 + O2 - F2 + R2]',\n",
       "       '[T2] Clínquer Dísponivel Convertido em Cimento',\n",
       "       '[U2] Demanda Restrita de Clínquer = [S2/B2]',\n",
       "       '[V2] Alerta de estoque Cimento',\n",
       "       '[A3] Produção efetiva de cimento = [O2/B2] trans. [N2/B2]',\n",
       "       '[B3] Cimento disponível = M1', '[C3] Demanda restrita = MIN[B3,C1]',\n",
       "       '[D3] Demanda não abastecida = [C1 - C3]',\n",
       "       '[E3] Demanda irrestrita = C1'],\n",
       "      dtype='object')"
      ]
     },
     "execution_count": 85,
     "metadata": {},
     "output_type": "execute_result"
    }
   ],
   "source": [
    "index"
   ]
  },
  {
   "cell_type": "code",
   "execution_count": null,
   "metadata": {},
   "outputs": [
    {
     "data": {
      "text/plain": [
       "{'[A1] Dias Úteis': 0,\n",
       " '[B1] Dias Cobertura Cimento': 1,\n",
       " '[C1] Demanda Comercial de Cimento': 2,\n",
       " '[D1] Capacidade Total Moinhos': 3,\n",
       " '[E1] Estoque Inicial = [N1]': 4,\n",
       " '[F1] Estoque de Segurança =  [C1/A1 * B1]': 5,\n",
       " '[G1] Entrada de Estoque = MAX[0, F1 - E1]': 6,\n",
       " '[H1] Saída de Estoque =  MIN[0, F1 - E1]': 7,\n",
       " '[I1] Requisito de Estoque = [G1 + H1]': 8,\n",
       " '[J1] Requisito Total de Produção = [J1 + C1]': 9,\n",
       " '[L1] Produção Planejada de Cimento = MAX[J1,D1]': 10,\n",
       " '[M1] Cimento Disponível = [E1 + A3 - F1]': 11,\n",
       " '[N1] Estoque Final = [E1 + A3 - C3]': 12,\n",
       " '[O1] Alerta de Estoque Cimento': 13,\n",
       " '[A2] Dias Cobertura Clínquer': 14,\n",
       " '[B2] Percentual de Clínquer': 15,\n",
       " '[C2] Demanda de Clínquer para Cimento = [L1 * B2]': 16,\n",
       " '[D2] Capacidade Total Fornos': 17,\n",
       " '[E2] Estoque Inicial = [Q2]': 18,\n",
       " '[F2] Estoque de Segurança = [C2/A1 * A2]': 19,\n",
       " '[G2] Entrada de Estoque = MAX[0, F2 - E2]': 20,\n",
       " '[H2] Saída de Estoque = MIN[0, F2 - E2]': 21,\n",
       " '[I2] Requisito de estoque = [G2 - H2]': 22,\n",
       " '[J2] Tranferências Saída = [L1 * B2]': 23,\n",
       " '[L2] Requisito Total de Produção = [I2 + C2 + J2]': 24,\n",
       " '[M2] Tranferências Entrada': 25,\n",
       " '[N2] Produção Efetiva de Clínquer = MIN[L2,D2] + M2': 26,\n",
       " '[N2.1] Produção Efetiva de Estoque Clínquer': 27,\n",
       " '[O2] % de Produção Própria = [N2 * (C2+I2)/(L2)]': 28,\n",
       " '[P2] % de Produção Externa = [N2 * J2 /(L2)]': 29,\n",
       " '[Q2] Estoque Final = [E2 + O2 - U2]': 30,\n",
       " '[R2] Venda para outros Players': 31,\n",
       " '[S2] Clínquer Dísponivel = [E2 + O2 - F2 + R2]': 32,\n",
       " '[T2] Clínquer Dísponivel Convertido em Cimento': 33,\n",
       " '[U2] Demanda Restrita de Clínquer = [S2/B2]': 34,\n",
       " '[V2] Alerta de estoque Cimento': 35,\n",
       " '[A3] Produção efetiva de cimento = [O2/B2] trans. [N2/B2]': 36,\n",
       " '[B3] Cimento disponível = M1': 37,\n",
       " '[C3] Demanda restrita = MIN[B3,C1]': 38,\n",
       " '[D3] Demanda não abastecida = [C1 - C3]': 39,\n",
       " '[E3] Demanda irrestrita = C1': 40}"
      ]
     },
     "execution_count": 86,
     "metadata": {},
     "output_type": "execute_result"
    }
   ],
   "source": [
    "# Criando um dionário com os valores do index\n",
    "\n",
    "_index = index\n",
    "_len = len(_index)\n",
    "_dict = {}\n",
    "\n",
    "for i in range(_len):\n",
    "    _dict[_index[i]] = i\n",
    "\n",
    "_dict"
   ]
  },
  {
   "cell_type": "code",
   "execution_count": null,
   "metadata": {},
   "outputs": [
    {
     "data": {
      "text/plain": [
       "'c:\\\\Users\\\\alexsandro.ignacio\\\\OneDrive - WCA Soluções de Inteligência Comercial\\\\Documentos\\\\Docs\\\\Git\\\\python_developer\\\\Planejamento - Lógicas'"
      ]
     },
     "execution_count": 87,
     "metadata": {},
     "output_type": "execute_result"
    }
   ],
   "source": [
    "current_path = os.getcwd()\n",
    "current_path"
   ]
  },
  {
   "cell_type": "code",
   "execution_count": null,
   "metadata": {},
   "outputs": [],
   "source": [
    "_directory_name = 'Data Base'\n",
    "_file_name = 'Analise_de_Capacidade_base _ 2022-02-25-12-16-27.csv'"
   ]
  },
  {
   "cell_type": "code",
   "execution_count": null,
   "metadata": {},
   "outputs": [
    {
     "data": {
      "text/plain": [
       "'c:\\\\Users\\\\alexsandro.ignacio\\\\OneDrive - WCA Soluções de Inteligência Comercial\\\\Documentos\\\\Docs\\\\Git\\\\python_developer\\\\Planejamento - Lógicas\\\\Data Base\\\\Analise_de_Capacidade_base _ 2022-02-25-12-16-27.csv'"
      ]
     },
     "execution_count": 89,
     "metadata": {},
     "output_type": "execute_result"
    }
   ],
   "source": [
    "target_path = os.path.join(current_path, _directory_name, _file_name)\n",
    "target_path"
   ]
  },
  {
   "cell_type": "code",
   "execution_count": null,
   "metadata": {},
   "outputs": [
    {
     "data": {
      "text/html": [
       "<div>\n",
       "<style scoped>\n",
       "    .dataframe tbody tr th:only-of-type {\n",
       "        vertical-align: middle;\n",
       "    }\n",
       "\n",
       "    .dataframe tbody tr th {\n",
       "        vertical-align: top;\n",
       "    }\n",
       "\n",
       "    .dataframe thead th {\n",
       "        text-align: right;\n",
       "    }\n",
       "</style>\n",
       "<table border=\"1\" class=\"dataframe\">\n",
       "  <thead>\n",
       "    <tr style=\"text-align: right;\">\n",
       "      <th></th>\n",
       "      <th>indice_relatorio_analise_de_capacidades</th>\n",
       "      <th>index_codigo_unidade</th>\n",
       "      <th>index_datas</th>\n",
       "      <th>Relatórios de Analise de Capacidade</th>\n",
       "    </tr>\n",
       "  </thead>\n",
       "  <tbody>\n",
       "    <tr>\n",
       "      <th>0</th>\n",
       "      <td>[A1] Dias Úteis</td>\n",
       "      <td>API</td>\n",
       "      <td>2021-06</td>\n",
       "      <td>23.0</td>\n",
       "    </tr>\n",
       "  </tbody>\n",
       "</table>\n",
       "</div>"
      ],
      "text/plain": [
       "  indice_relatorio_analise_de_capacidades index_codigo_unidade index_datas  \\\n",
       "0                         [A1] Dias Úteis                  API     2021-06   \n",
       "\n",
       "  Relatórios de Analise de Capacidade  \n",
       "0                                23.0  "
      ]
     },
     "execution_count": 90,
     "metadata": {},
     "output_type": "execute_result"
    }
   ],
   "source": [
    "_df = pd.read_csv(target_path,sep=';')\n",
    "_df.head(1)"
   ]
  },
  {
   "cell_type": "code",
   "execution_count": null,
   "metadata": {},
   "outputs": [
    {
     "data": {
      "text/html": [
       "<div>\n",
       "<style scoped>\n",
       "    .dataframe tbody tr th:only-of-type {\n",
       "        vertical-align: middle;\n",
       "    }\n",
       "\n",
       "    .dataframe tbody tr th {\n",
       "        vertical-align: top;\n",
       "    }\n",
       "\n",
       "    .dataframe thead th {\n",
       "        text-align: right;\n",
       "    }\n",
       "</style>\n",
       "<table border=\"1\" class=\"dataframe\">\n",
       "  <thead>\n",
       "    <tr style=\"text-align: right;\">\n",
       "      <th></th>\n",
       "      <th>Relatórios de Análise de Capacidade</th>\n",
       "      <th>Código Unidades</th>\n",
       "      <th>Datas</th>\n",
       "      <th>values</th>\n",
       "    </tr>\n",
       "  </thead>\n",
       "  <tbody>\n",
       "    <tr>\n",
       "      <th>0</th>\n",
       "      <td>[A1] Dias Úteis</td>\n",
       "      <td>API</td>\n",
       "      <td>2021-06</td>\n",
       "      <td>23.0</td>\n",
       "    </tr>\n",
       "    <tr>\n",
       "      <th>1</th>\n",
       "      <td>[A1] Dias Úteis</td>\n",
       "      <td>API</td>\n",
       "      <td>2021-07</td>\n",
       "      <td>24.5</td>\n",
       "    </tr>\n",
       "  </tbody>\n",
       "</table>\n",
       "</div>"
      ],
      "text/plain": [
       "  Relatórios de Análise de Capacidade Código Unidades    Datas values\n",
       "0                     [A1] Dias Úteis             API  2021-06   23.0\n",
       "1                     [A1] Dias Úteis             API  2021-07   24.5"
      ]
     },
     "execution_count": 91,
     "metadata": {},
     "output_type": "execute_result"
    }
   ],
   "source": [
    "_df = _df.rename(columns={'indice_relatorio_analise_de_capacidades':'Relatórios de Análise de Capacidade', \n",
    "                          'index_codigo_unidade':'Código Unidades', \n",
    "                          'index_datas':'Datas', \n",
    "                          'Relatórios de Analise de Capacidade':'values'}).replace('-',0)\n",
    "\n",
    "_df.head(2)"
   ]
  },
  {
   "cell_type": "code",
   "execution_count": null,
   "metadata": {},
   "outputs": [
    {
     "data": {
      "text/plain": [
       "Relatórios de Análise de Capacidade    object\n",
       "Código Unidades                        object\n",
       "Datas                                  object\n",
       "values                                 object\n",
       "dtype: object"
      ]
     },
     "execution_count": 92,
     "metadata": {},
     "output_type": "execute_result"
    }
   ],
   "source": [
    "_df.dtypes"
   ]
  },
  {
   "cell_type": "code",
   "execution_count": null,
   "metadata": {},
   "outputs": [
    {
     "data": {
      "text/plain": [
       "Relatórios de Análise de Capacidade            object\n",
       "Código Unidades                                object\n",
       "Datas                                  datetime64[ns]\n",
       "values                                        float64\n",
       "dtype: object"
      ]
     },
     "execution_count": 93,
     "metadata": {},
     "output_type": "execute_result"
    }
   ],
   "source": [
    "_df['Datas'] = pd.to_datetime(_df['Datas'])\n",
    "_df['values'] = _df['values'].astype(float)\n",
    "_df2 = _df\n",
    "_df.dtypes"
   ]
  },
  {
   "cell_type": "code",
   "execution_count": null,
   "metadata": {},
   "outputs": [
    {
     "data": {
      "text/html": [
       "<div>\n",
       "<style scoped>\n",
       "    .dataframe tbody tr th:only-of-type {\n",
       "        vertical-align: middle;\n",
       "    }\n",
       "\n",
       "    .dataframe tbody tr th {\n",
       "        vertical-align: top;\n",
       "    }\n",
       "\n",
       "    .dataframe thead th {\n",
       "        text-align: right;\n",
       "    }\n",
       "</style>\n",
       "<table border=\"1\" class=\"dataframe\">\n",
       "  <thead>\n",
       "    <tr style=\"text-align: right;\">\n",
       "      <th>Datas</th>\n",
       "      <th>Código Unidades</th>\n",
       "      <th>Relatórios de Análise de Capacidade</th>\n",
       "      <th>2021-06-01 00:00:00</th>\n",
       "      <th>2021-07-01 00:00:00</th>\n",
       "      <th>2021-08-01 00:00:00</th>\n",
       "      <th>2021-09-01 00:00:00</th>\n",
       "      <th>2021-10-01 00:00:00</th>\n",
       "      <th>2021-11-01 00:00:00</th>\n",
       "      <th>2021-12-01 00:00:00</th>\n",
       "      <th>2022-01-01 00:00:00</th>\n",
       "      <th>...</th>\n",
       "      <th>2022-09-01 00:00:00</th>\n",
       "      <th>2022-10-01 00:00:00</th>\n",
       "      <th>2022-11-01 00:00:00</th>\n",
       "      <th>2022-12-01 00:00:00</th>\n",
       "      <th>2023-01-01 00:00:00</th>\n",
       "      <th>2023-02-01 00:00:00</th>\n",
       "      <th>2023-03-01 00:00:00</th>\n",
       "      <th>2023-04-01 00:00:00</th>\n",
       "      <th>2023-05-01 00:00:00</th>\n",
       "      <th>Ordem</th>\n",
       "    </tr>\n",
       "  </thead>\n",
       "  <tbody>\n",
       "    <tr>\n",
       "      <th>0</th>\n",
       "      <td>API</td>\n",
       "      <td>[A1] Dias Úteis</td>\n",
       "      <td>23.0</td>\n",
       "      <td>24.5</td>\n",
       "      <td>24.0</td>\n",
       "      <td>23.0</td>\n",
       "      <td>22.50</td>\n",
       "      <td>22.00</td>\n",
       "      <td>23.50</td>\n",
       "      <td>23.0</td>\n",
       "      <td>...</td>\n",
       "      <td>23.0</td>\n",
       "      <td>22.5</td>\n",
       "      <td>22.0</td>\n",
       "      <td>0.0</td>\n",
       "      <td>0.0</td>\n",
       "      <td>0.0</td>\n",
       "      <td>0.0</td>\n",
       "      <td>0.0</td>\n",
       "      <td>0.0</td>\n",
       "      <td>0</td>\n",
       "    </tr>\n",
       "    <tr>\n",
       "      <th>3</th>\n",
       "      <td>API</td>\n",
       "      <td>[B1] Dias Cobertura Cimento</td>\n",
       "      <td>10.0</td>\n",
       "      <td>10.0</td>\n",
       "      <td>10.0</td>\n",
       "      <td>10.0</td>\n",
       "      <td>3.23</td>\n",
       "      <td>3.25</td>\n",
       "      <td>4.03</td>\n",
       "      <td>10.0</td>\n",
       "      <td>...</td>\n",
       "      <td>10.0</td>\n",
       "      <td>10.0</td>\n",
       "      <td>10.0</td>\n",
       "      <td>10.0</td>\n",
       "      <td>10.0</td>\n",
       "      <td>10.0</td>\n",
       "      <td>10.0</td>\n",
       "      <td>10.0</td>\n",
       "      <td>10.0</td>\n",
       "      <td>1</td>\n",
       "    </tr>\n",
       "  </tbody>\n",
       "</table>\n",
       "<p>2 rows × 27 columns</p>\n",
       "</div>"
      ],
      "text/plain": [
       "Datas Código Unidades Relatórios de Análise de Capacidade  \\\n",
       "0                 API                     [A1] Dias Úteis   \n",
       "3                 API         [B1] Dias Cobertura Cimento   \n",
       "\n",
       "Datas  2021-06-01 00:00:00  2021-07-01 00:00:00  2021-08-01 00:00:00  \\\n",
       "0                     23.0                 24.5                 24.0   \n",
       "3                     10.0                 10.0                 10.0   \n",
       "\n",
       "Datas  2021-09-01 00:00:00  2021-10-01 00:00:00  2021-11-01 00:00:00  \\\n",
       "0                     23.0                22.50                22.00   \n",
       "3                     10.0                 3.23                 3.25   \n",
       "\n",
       "Datas  2021-12-01 00:00:00  2022-01-01 00:00:00  ...  2022-09-01 00:00:00  \\\n",
       "0                    23.50                 23.0  ...                 23.0   \n",
       "3                     4.03                 10.0  ...                 10.0   \n",
       "\n",
       "Datas  2022-10-01 00:00:00  2022-11-01 00:00:00  2022-12-01 00:00:00  \\\n",
       "0                     22.5                 22.0                  0.0   \n",
       "3                     10.0                 10.0                 10.0   \n",
       "\n",
       "Datas  2023-01-01 00:00:00  2023-02-01 00:00:00  2023-03-01 00:00:00  \\\n",
       "0                      0.0                  0.0                  0.0   \n",
       "3                     10.0                 10.0                 10.0   \n",
       "\n",
       "Datas  2023-04-01 00:00:00  2023-05-01 00:00:00  Ordem  \n",
       "0                      0.0                  0.0      0  \n",
       "3                     10.0                 10.0      1  \n",
       "\n",
       "[2 rows x 27 columns]"
      ]
     },
     "execution_count": 94,
     "metadata": {},
     "output_type": "execute_result"
    }
   ],
   "source": [
    "# Tabela Normal\n",
    "dicionario_ordem_relatorio = _dict\n",
    "\n",
    "_df = _df.pivot_table(index=['Código Unidades','Relatórios de Análise de Capacidade'], columns='Datas', values='values')\n",
    "\n",
    "_df = _df.reset_index().sort_values(['Código Unidades', 'Relatórios de Análise de Capacidade'])\n",
    "\n",
    "_df['Ordem'] = _df['Relatórios de Análise de Capacidade']\n",
    "_df['Ordem']  = _df['Ordem'].map(dicionario_ordem_relatorio)\n",
    "# # _df['Ordem'] = _df['Relatórios de Análise de Capacidade'].str.split(pat=' ').str[0]\n",
    "# # _df['Ordem']  = _df['Ordem'].replace(dicionario_ordem_relatorio)\n",
    "\n",
    "\n",
    "_df = _df.sort_values(['Código Unidades', 'Ordem'])\n",
    "# #  _df.drop(columns='Ordem', inplace=True)\n",
    "\n",
    "_df.head(2)"
   ]
  },
  {
   "cell_type": "code",
   "execution_count": null,
   "metadata": {},
   "outputs": [
    {
     "data": {
      "text/html": [
       "<div>\n",
       "<style scoped>\n",
       "    .dataframe tbody tr th:only-of-type {\n",
       "        vertical-align: middle;\n",
       "    }\n",
       "\n",
       "    .dataframe tbody tr th {\n",
       "        vertical-align: top;\n",
       "    }\n",
       "\n",
       "    .dataframe thead th {\n",
       "        text-align: right;\n",
       "    }\n",
       "</style>\n",
       "<table border=\"1\" class=\"dataframe\">\n",
       "  <thead>\n",
       "    <tr style=\"text-align: right;\">\n",
       "      <th></th>\n",
       "      <th>Relatórios de Análise de Capacidade</th>\n",
       "      <th>Código Unidades</th>\n",
       "      <th>Datas</th>\n",
       "      <th>values</th>\n",
       "    </tr>\n",
       "  </thead>\n",
       "  <tbody>\n",
       "    <tr>\n",
       "      <th>0</th>\n",
       "      <td>[A1] Dias Úteis</td>\n",
       "      <td>API</td>\n",
       "      <td>2021-06-01</td>\n",
       "      <td>23.000000</td>\n",
       "    </tr>\n",
       "    <tr>\n",
       "      <th>1</th>\n",
       "      <td>[A1] Dias Úteis</td>\n",
       "      <td>API</td>\n",
       "      <td>2021-07-01</td>\n",
       "      <td>24.500000</td>\n",
       "    </tr>\n",
       "    <tr>\n",
       "      <th>2</th>\n",
       "      <td>[A1] Dias Úteis</td>\n",
       "      <td>API</td>\n",
       "      <td>2021-08-01</td>\n",
       "      <td>24.000000</td>\n",
       "    </tr>\n",
       "    <tr>\n",
       "      <th>3</th>\n",
       "      <td>[A1] Dias Úteis</td>\n",
       "      <td>API</td>\n",
       "      <td>2021-09-01</td>\n",
       "      <td>23.000000</td>\n",
       "    </tr>\n",
       "    <tr>\n",
       "      <th>4</th>\n",
       "      <td>[A1] Dias Úteis</td>\n",
       "      <td>API</td>\n",
       "      <td>2021-10-01</td>\n",
       "      <td>22.500000</td>\n",
       "    </tr>\n",
       "    <tr>\n",
       "      <th>...</th>\n",
       "      <td>...</td>\n",
       "      <td>...</td>\n",
       "      <td>...</td>\n",
       "      <td>...</td>\n",
       "    </tr>\n",
       "    <tr>\n",
       "      <th>9835</th>\n",
       "      <td>[E3] Demanda irrestrita = C1</td>\n",
       "      <td>SPA</td>\n",
       "      <td>2023-01-01</td>\n",
       "      <td>53605.599116</td>\n",
       "    </tr>\n",
       "    <tr>\n",
       "      <th>9836</th>\n",
       "      <td>[E3] Demanda irrestrita = C1</td>\n",
       "      <td>SPA</td>\n",
       "      <td>2023-02-01</td>\n",
       "      <td>46132.299512</td>\n",
       "    </tr>\n",
       "    <tr>\n",
       "      <th>9837</th>\n",
       "      <td>[E3] Demanda irrestrita = C1</td>\n",
       "      <td>SPA</td>\n",
       "      <td>2023-03-01</td>\n",
       "      <td>59553.953942</td>\n",
       "    </tr>\n",
       "    <tr>\n",
       "      <th>9838</th>\n",
       "      <td>[E3] Demanda irrestrita = C1</td>\n",
       "      <td>SPA</td>\n",
       "      <td>2023-04-01</td>\n",
       "      <td>52896.214562</td>\n",
       "    </tr>\n",
       "    <tr>\n",
       "      <th>9839</th>\n",
       "      <td>[E3] Demanda irrestrita = C1</td>\n",
       "      <td>SPA</td>\n",
       "      <td>2023-05-01</td>\n",
       "      <td>60986.508322</td>\n",
       "    </tr>\n",
       "  </tbody>\n",
       "</table>\n",
       "<p>9840 rows × 4 columns</p>\n",
       "</div>"
      ],
      "text/plain": [
       "     Relatórios de Análise de Capacidade Código Unidades      Datas  \\\n",
       "0                        [A1] Dias Úteis             API 2021-06-01   \n",
       "1                        [A1] Dias Úteis             API 2021-07-01   \n",
       "2                        [A1] Dias Úteis             API 2021-08-01   \n",
       "3                        [A1] Dias Úteis             API 2021-09-01   \n",
       "4                        [A1] Dias Úteis             API 2021-10-01   \n",
       "...                                  ...             ...        ...   \n",
       "9835        [E3] Demanda irrestrita = C1             SPA 2023-01-01   \n",
       "9836        [E3] Demanda irrestrita = C1             SPA 2023-02-01   \n",
       "9837        [E3] Demanda irrestrita = C1             SPA 2023-03-01   \n",
       "9838        [E3] Demanda irrestrita = C1             SPA 2023-04-01   \n",
       "9839        [E3] Demanda irrestrita = C1             SPA 2023-05-01   \n",
       "\n",
       "            values  \n",
       "0        23.000000  \n",
       "1        24.500000  \n",
       "2        24.000000  \n",
       "3        23.000000  \n",
       "4        22.500000  \n",
       "...            ...  \n",
       "9835  53605.599116  \n",
       "9836  46132.299512  \n",
       "9837  59553.953942  \n",
       "9838  52896.214562  \n",
       "9839  60986.508322  \n",
       "\n",
       "[9840 rows x 4 columns]"
      ]
     },
     "execution_count": 95,
     "metadata": {},
     "output_type": "execute_result"
    }
   ],
   "source": [
    "# Tabela Dinâmica\n",
    "_df2"
   ]
  },
  {
   "cell_type": "markdown",
   "metadata": {},
   "source": [
    "#### Exemplos para criar parte do json do formulário"
   ]
  },
  {
   "cell_type": "code",
   "execution_count": null,
   "metadata": {},
   "outputs": [],
   "source": [
    "# Columns para Armar Form\n",
    "_n = 1\n",
    "_cols1 = ['{\"type\":\"numeric\", \"field\":' + f'\"Period_{i:03d}\"'  for i in range(1, 145)]\n",
    "_cols2 = [\", \" + '\"style\":{\"color\":\"#000\", \"backgroundColor\": \"#FFF8E3\"}, ' + '\"format\":\"0.00\", ' + ' \"header\":' + f'\"S{j}\"' + ', \"readOnly\":false, ' + '\"columnLength\":5}'  for i in range(1, 25) for j in range( 1,7)] \n",
    "\n",
    "result = [_cols1[i] + _cols2[i] for i in range(len(_cols1))]\n",
    "result[0], len(result)\n",
    "result = [result[i].replace('\"',\"'\") for i in range(len(result))]\n",
    "# result[0]"
   ]
  },
  {
   "cell_type": "code",
   "execution_count": null,
   "metadata": {},
   "outputs": [],
   "source": [
    "import json \n",
    "\n",
    "with open('json_data.json', 'w', encoding ='utf-8') as outfile:\n",
    "    json.dump(result, outfile, ensure_ascii=False, indent=4)\n",
    "    outfile.close()"
   ]
  },
  {
   "cell_type": "code",
   "execution_count": null,
   "metadata": {},
   "outputs": [
    {
     "data": {
      "text/plain": [
       "['(1, 1)', '(2, 2)', '(3, 3)', '(4, 4)', '(5, 5)', '(6, 6)']"
      ]
     },
     "execution_count": 98,
     "metadata": {},
     "output_type": "execute_result"
    }
   ],
   "source": [
    "# Nested list comprehension tuple \n",
    "\n",
    "result = [f'{i,j}'for i, j in zip(range(1, 145), range(1, 7))]\n",
    "result"
   ]
  },
  {
   "cell_type": "code",
   "execution_count": null,
   "metadata": {},
   "outputs": [
    {
     "data": {
      "text/plain": [
       "['(1, 1)', '(1, 2)']"
      ]
     },
     "execution_count": 99,
     "metadata": {},
     "output_type": "execute_result"
    }
   ],
   "source": [
    "# Nested list comprehension\n",
    "matrix = [ f'{i, j}' for i in range(1,145) for j in range(1,7)]\n",
    "matrix[0:2]"
   ]
  },
  {
   "cell_type": "code",
   "execution_count": null,
   "metadata": {},
   "outputs": [],
   "source": [
    "idx_temporal = ['2021-06', '2021-07', '2021-08', '2021-09', '2021-10', '2021-11', '2021-12', '2022-01', '2022-02', '2022-03', '2022-04', '2022-05', '2022-06', '2022-07', '2022-08', '2022-09', '2022-10', '2022-11', '2022-12', '2023-01', '2023-02', '2023-03', '2023-04', '2023-05']"
   ]
  },
  {
   "cell_type": "code",
   "execution_count": null,
   "metadata": {},
   "outputs": [
    {
     "name": "stderr",
     "output_type": "stream",
     "text": [
      "C:\\Users\\ALEXSA~1.IGN\\AppData\\Local\\Temp/ipykernel_6152/460194324.py:4: FutureWarning: Using short name for 'orient' is deprecated. Only the options: ('dict', list, 'series', 'split', 'records', 'index') will be used in a future version. Use one of the above to silence this warning.\n",
      "  _df.to_dict('record')\n"
     ]
    },
    {
     "data": {
      "text/html": [
       "<div>\n",
       "<style scoped>\n",
       "    .dataframe tbody tr th:only-of-type {\n",
       "        vertical-align: middle;\n",
       "    }\n",
       "\n",
       "    .dataframe tbody tr th {\n",
       "        vertical-align: top;\n",
       "    }\n",
       "\n",
       "    .dataframe thead th {\n",
       "        text-align: right;\n",
       "    }\n",
       "</style>\n",
       "<table border=\"1\" class=\"dataframe\">\n",
       "  <thead>\n",
       "    <tr style=\"text-align: right;\">\n",
       "      <th></th>\n",
       "      <th>label</th>\n",
       "      <th>colspan</th>\n",
       "    </tr>\n",
       "  </thead>\n",
       "  <tbody>\n",
       "    <tr>\n",
       "      <th>0</th>\n",
       "      <td>2021-06</td>\n",
       "      <td>6</td>\n",
       "    </tr>\n",
       "    <tr>\n",
       "      <th>1</th>\n",
       "      <td>2021-07</td>\n",
       "      <td>6</td>\n",
       "    </tr>\n",
       "    <tr>\n",
       "      <th>2</th>\n",
       "      <td>2021-08</td>\n",
       "      <td>6</td>\n",
       "    </tr>\n",
       "    <tr>\n",
       "      <th>3</th>\n",
       "      <td>2021-09</td>\n",
       "      <td>6</td>\n",
       "    </tr>\n",
       "    <tr>\n",
       "      <th>4</th>\n",
       "      <td>2021-10</td>\n",
       "      <td>6</td>\n",
       "    </tr>\n",
       "    <tr>\n",
       "      <th>5</th>\n",
       "      <td>2021-11</td>\n",
       "      <td>6</td>\n",
       "    </tr>\n",
       "    <tr>\n",
       "      <th>6</th>\n",
       "      <td>2021-12</td>\n",
       "      <td>6</td>\n",
       "    </tr>\n",
       "    <tr>\n",
       "      <th>7</th>\n",
       "      <td>2022-01</td>\n",
       "      <td>6</td>\n",
       "    </tr>\n",
       "    <tr>\n",
       "      <th>8</th>\n",
       "      <td>2022-02</td>\n",
       "      <td>6</td>\n",
       "    </tr>\n",
       "    <tr>\n",
       "      <th>9</th>\n",
       "      <td>2022-03</td>\n",
       "      <td>6</td>\n",
       "    </tr>\n",
       "    <tr>\n",
       "      <th>10</th>\n",
       "      <td>2022-04</td>\n",
       "      <td>6</td>\n",
       "    </tr>\n",
       "    <tr>\n",
       "      <th>11</th>\n",
       "      <td>2022-05</td>\n",
       "      <td>6</td>\n",
       "    </tr>\n",
       "    <tr>\n",
       "      <th>12</th>\n",
       "      <td>2022-06</td>\n",
       "      <td>6</td>\n",
       "    </tr>\n",
       "    <tr>\n",
       "      <th>13</th>\n",
       "      <td>2022-07</td>\n",
       "      <td>6</td>\n",
       "    </tr>\n",
       "    <tr>\n",
       "      <th>14</th>\n",
       "      <td>2022-08</td>\n",
       "      <td>6</td>\n",
       "    </tr>\n",
       "    <tr>\n",
       "      <th>15</th>\n",
       "      <td>2022-09</td>\n",
       "      <td>6</td>\n",
       "    </tr>\n",
       "    <tr>\n",
       "      <th>16</th>\n",
       "      <td>2022-10</td>\n",
       "      <td>6</td>\n",
       "    </tr>\n",
       "    <tr>\n",
       "      <th>17</th>\n",
       "      <td>2022-11</td>\n",
       "      <td>6</td>\n",
       "    </tr>\n",
       "    <tr>\n",
       "      <th>18</th>\n",
       "      <td>2022-12</td>\n",
       "      <td>6</td>\n",
       "    </tr>\n",
       "    <tr>\n",
       "      <th>19</th>\n",
       "      <td>2023-01</td>\n",
       "      <td>6</td>\n",
       "    </tr>\n",
       "    <tr>\n",
       "      <th>20</th>\n",
       "      <td>2023-02</td>\n",
       "      <td>6</td>\n",
       "    </tr>\n",
       "    <tr>\n",
       "      <th>21</th>\n",
       "      <td>2023-03</td>\n",
       "      <td>6</td>\n",
       "    </tr>\n",
       "    <tr>\n",
       "      <th>22</th>\n",
       "      <td>2023-04</td>\n",
       "      <td>6</td>\n",
       "    </tr>\n",
       "    <tr>\n",
       "      <th>23</th>\n",
       "      <td>2023-05</td>\n",
       "      <td>6</td>\n",
       "    </tr>\n",
       "  </tbody>\n",
       "</table>\n",
       "</div>"
      ],
      "text/plain": [
       "      label  colspan\n",
       "0   2021-06        6\n",
       "1   2021-07        6\n",
       "2   2021-08        6\n",
       "3   2021-09        6\n",
       "4   2021-10        6\n",
       "5   2021-11        6\n",
       "6   2021-12        6\n",
       "7   2022-01        6\n",
       "8   2022-02        6\n",
       "9   2022-03        6\n",
       "10  2022-04        6\n",
       "11  2022-05        6\n",
       "12  2022-06        6\n",
       "13  2022-07        6\n",
       "14  2022-08        6\n",
       "15  2022-09        6\n",
       "16  2022-10        6\n",
       "17  2022-11        6\n",
       "18  2022-12        6\n",
       "19  2023-01        6\n",
       "20  2023-02        6\n",
       "21  2023-03        6\n",
       "22  2023-04        6\n",
       "23  2023-05        6"
      ]
     },
     "execution_count": 101,
     "metadata": {},
     "output_type": "execute_result"
    }
   ],
   "source": [
    "# Nested columns receive new index.\n",
    "_df = pd.DataFrame({'label':idx_temporal})\n",
    "_df['colspan'] = 6\n",
    "_df.to_dict('record')\n",
    "_df"
   ]
  },
  {
   "cell_type": "code",
   "execution_count": null,
   "metadata": {},
   "outputs": [
    {
     "name": "stderr",
     "output_type": "stream",
     "text": [
      "C:\\Users\\ALEXSA~1.IGN\\AppData\\Local\\Temp/ipykernel_6152/1003000312.py:6: SettingWithCopyWarning: \n",
      "A value is trying to be set on a copy of a slice from a DataFrame\n",
      "\n",
      "See the caveats in the documentation: https://pandas.pydata.org/pandas-docs/stable/user_guide/indexing.html#returning-a-view-versus-a-copy\n",
      "  _df['colspan'][0] = 3\n",
      "C:\\Users\\ALEXSA~1.IGN\\AppData\\Local\\Temp/ipykernel_6152/1003000312.py:7: FutureWarning: Using short name for 'orient' is deprecated. Only the options: ('dict', list, 'series', 'split', 'records', 'index') will be used in a future version. Use one of the above to silence this warning.\n",
      "  _df = _df.to_dict('record')\n"
     ]
    },
    {
     "data": {
      "text/plain": [
       "[{'label': 'Marcha Fornos', 'colspan': 3},\n",
       " {'label': '2021-06', 'colspan': 6},\n",
       " {'label': '2021-07', 'colspan': 6},\n",
       " {'label': '2021-08', 'colspan': 6},\n",
       " {'label': '2021-09', 'colspan': 6},\n",
       " {'label': '2021-10', 'colspan': 6},\n",
       " {'label': '2021-11', 'colspan': 6},\n",
       " {'label': '2021-12', 'colspan': 6},\n",
       " {'label': '2022-01', 'colspan': 6},\n",
       " {'label': '2022-02', 'colspan': 6},\n",
       " {'label': '2022-03', 'colspan': 6},\n",
       " {'label': '2022-04', 'colspan': 6},\n",
       " {'label': '2022-05', 'colspan': 6},\n",
       " {'label': '2022-06', 'colspan': 6},\n",
       " {'label': '2022-07', 'colspan': 6},\n",
       " {'label': '2022-08', 'colspan': 6},\n",
       " {'label': '2022-09', 'colspan': 6},\n",
       " {'label': '2022-10', 'colspan': 6},\n",
       " {'label': '2022-11', 'colspan': 6},\n",
       " {'label': '2022-12', 'colspan': 6},\n",
       " {'label': '2023-01', 'colspan': 6},\n",
       " {'label': '2023-02', 'colspan': 6},\n",
       " {'label': '2023-03', 'colspan': 6},\n",
       " {'label': '2023-04', 'colspan': 6},\n",
       " {'label': '2023-05', 'colspan': 6}]"
      ]
     },
     "execution_count": 102,
     "metadata": {},
     "output_type": "execute_result"
    }
   ],
   "source": [
    "# Nested columns receive new index.\n",
    "\n",
    "idx_temporal.insert(0, 'Marcha Fornos')\n",
    "_df = pd.DataFrame({'label':idx_temporal})\n",
    "_df['colspan'] = 6\n",
    "_df['colspan'][0] = 3\n",
    "_df = _df.to_dict('record')\n",
    "_df"
   ]
  },
  {
   "cell_type": "code",
   "execution_count": null,
   "metadata": {},
   "outputs": [
    {
     "name": "stderr",
     "output_type": "stream",
     "text": [
      "C:\\Users\\ALEXSA~1.IGN\\AppData\\Local\\Temp/ipykernel_6152/4263571742.py:6: SettingWithCopyWarning: \n",
      "A value is trying to be set on a copy of a slice from a DataFrame\n",
      "\n",
      "See the caveats in the documentation: https://pandas.pydata.org/pandas-docs/stable/user_guide/indexing.html#returning-a-view-versus-a-copy\n",
      "  _df['colspan'][0] = 3\n",
      "C:\\Users\\ALEXSA~1.IGN\\AppData\\Local\\Temp/ipykernel_6152/4263571742.py:7: FutureWarning: Using short name for 'orient' is deprecated. Only the options: ('dict', list, 'series', 'split', 'records', 'index') will be used in a future version. Use one of the above to silence this warning.\n",
      "  _df = _df.to_dict('record')\n"
     ]
    },
    {
     "data": {
      "text/plain": [
       "[{'label': 'Marcha Moinhos', 'colspan': 3},\n",
       " {'label': 'Marcha Fornos', 'colspan': 6},\n",
       " {'label': '2021-06', 'colspan': 6},\n",
       " {'label': '2021-07', 'colspan': 6},\n",
       " {'label': '2021-08', 'colspan': 6},\n",
       " {'label': '2021-09', 'colspan': 6},\n",
       " {'label': '2021-10', 'colspan': 6},\n",
       " {'label': '2021-11', 'colspan': 6},\n",
       " {'label': '2021-12', 'colspan': 6},\n",
       " {'label': '2022-01', 'colspan': 6},\n",
       " {'label': '2022-02', 'colspan': 6},\n",
       " {'label': '2022-03', 'colspan': 6},\n",
       " {'label': '2022-04', 'colspan': 6},\n",
       " {'label': '2022-05', 'colspan': 6},\n",
       " {'label': '2022-06', 'colspan': 6},\n",
       " {'label': '2022-07', 'colspan': 6},\n",
       " {'label': '2022-08', 'colspan': 6},\n",
       " {'label': '2022-09', 'colspan': 6},\n",
       " {'label': '2022-10', 'colspan': 6},\n",
       " {'label': '2022-11', 'colspan': 6},\n",
       " {'label': '2022-12', 'colspan': 6},\n",
       " {'label': '2023-01', 'colspan': 6},\n",
       " {'label': '2023-02', 'colspan': 6},\n",
       " {'label': '2023-03', 'colspan': 6},\n",
       " {'label': '2023-04', 'colspan': 6},\n",
       " {'label': '2023-05', 'colspan': 6}]"
      ]
     },
     "execution_count": 103,
     "metadata": {},
     "output_type": "execute_result"
    }
   ],
   "source": [
    "# Nested columns receive new index.\n",
    "\n",
    "idx_temporal.insert(0, 'Marcha Moinhos')\n",
    "_df = pd.DataFrame({'label':idx_temporal})\n",
    "_df['colspan'] = 6\n",
    "_df['colspan'][0] = 3\n",
    "_df = _df.to_dict('record')\n",
    "_df"
   ]
  },
  {
   "cell_type": "markdown",
   "metadata": {},
   "source": [
    "#### For examples"
   ]
  },
  {
   "cell_type": "code",
   "execution_count": null,
   "metadata": {},
   "outputs": [
    {
     "name": "stdout",
     "output_type": "stream",
     "text": [
      "Ímpares: 1\n",
      "Ímpares: 3\n",
      "Ímpares: 5\n",
      "Ímpares: 7\n",
      "Ímpares: 9\n",
      "Ímpares: 11\n",
      "Ímpares: 13\n",
      "Ímpares: 15\n",
      "Ímpares: 17\n",
      "Ímpares: 19\n",
      "Ímpares: 21\n",
      "Ímpares: 23\n",
      "Ímpares: 25\n",
      "Ímpares: 27\n",
      "Ímpares: 29\n",
      "Ímpares: 31\n",
      "Ímpares: 33\n",
      "Ímpares: 35\n",
      "Ímpares: 37\n",
      "Ímpares: 39\n",
      "Ímpares: 41\n",
      "Ímpares: 43\n",
      "Ímpares: 45\n",
      "Ímpares: 47\n",
      "Ímpares: 49\n"
     ]
    }
   ],
   "source": [
    "valores_pares = range(0,50,2)\n",
    "valores_impares = range(1,50,2)\n",
    "\n",
    "for valor in valores_impares:    \n",
    "    print(f\"Ímpares: {valor}\")"
   ]
  },
  {
   "cell_type": "code",
   "execution_count": null,
   "metadata": {},
   "outputs": [
    {
     "name": "stdout",
     "output_type": "stream",
     "text": [
      "[38, 0, 46, 16, 14, 36, 22, 2, 48, 26, 20, 24, 42, 40, 10, 32, 4, 12, 30, 34, 6, 8, 18, 28, 44, 49, 13, 45, 35, 33, 3, 23, 37, 25, 15, 31, 41, 1, 5, 21, 19, 27, 29, 39, 7, 9, 43, 17, 11, 47]\n"
     ]
    },
    {
     "data": {
      "text/plain": [
       "['Ímpar: 41',\n",
       " 'Par: 30',\n",
       " 'Ímpar: 49',\n",
       " 'Ímpar: 15',\n",
       " 'Par: 8',\n",
       " 'Par: 4',\n",
       " 'Ímpar: 27',\n",
       " 'Par: 44',\n",
       " 'Par: 36',\n",
       " 'Ímpar: 11',\n",
       " 'Ímpar: 35',\n",
       " 'Ímpar: 9',\n",
       " 'Par: 14',\n",
       " 'Ímpar: 3',\n",
       " 'Ímpar: 37',\n",
       " 'Par: 12',\n",
       " 'Par: 34',\n",
       " 'Ímpar: 21',\n",
       " 'Ímpar: 7',\n",
       " 'Par: 40',\n",
       " 'Par: 26',\n",
       " 'Par: 46',\n",
       " 'Ímpar: 25',\n",
       " 'Par: 32',\n",
       " 'Par: 24',\n",
       " 'Par: 6',\n",
       " 'Ímpar: 19',\n",
       " 'Par: 10',\n",
       " 'Par: 16',\n",
       " 'Par: 18',\n",
       " 'Par: 48',\n",
       " 'Par: 28',\n",
       " 'Par: 42',\n",
       " 'Par: 0',\n",
       " 'Ímpar: 1',\n",
       " 'Par: 22',\n",
       " 'Ímpar: 43',\n",
       " 'Par: 38',\n",
       " 'Ímpar: 13',\n",
       " 'Ímpar: 31',\n",
       " 'Ímpar: 45',\n",
       " 'Ímpar: 17',\n",
       " 'Par: 2',\n",
       " 'Ímpar: 29',\n",
       " 'Ímpar: 39',\n",
       " 'Ímpar: 33',\n",
       " 'Par: 20',\n",
       " 'Ímpar: 23',\n",
       " 'Ímpar: 47',\n",
       " 'Ímpar: 5']"
      ]
     },
     "execution_count": 172,
     "metadata": {},
     "output_type": "execute_result"
    }
   ],
   "source": [
    "from random import sample\n",
    "from random import shuffle\n",
    "\n",
    "valores_pares = list(range(0,50,2))\n",
    "valores_impares = list(range(1,50,2))\n",
    "shuffle(valores_pares)\n",
    "shuffle(valores_impares)\n",
    "print(valores_pares + valores_impares)\n",
    "\n",
    "newlist = sample(valores_pares, len(valores_pares))\n",
    "valores = valores_pares + valores_impares\n",
    "shuffle(valores)\n",
    "valores\n",
    "\n",
    "[f\"{'Ímpar' if valor % 2 != 0  else 'Par'}: {valor}\" for valor in valores ]   "
   ]
  },
  {
   "cell_type": "code",
   "execution_count": null,
   "metadata": {},
   "outputs": [
    {
     "data": {
      "text/html": [
       "<div>\n",
       "<style scoped>\n",
       "    .dataframe tbody tr th:only-of-type {\n",
       "        vertical-align: middle;\n",
       "    }\n",
       "\n",
       "    .dataframe tbody tr th {\n",
       "        vertical-align: top;\n",
       "    }\n",
       "\n",
       "    .dataframe thead th {\n",
       "        text-align: right;\n",
       "    }\n",
       "</style>\n",
       "<table border=\"1\" class=\"dataframe\">\n",
       "  <thead>\n",
       "    <tr style=\"text-align: right;\">\n",
       "      <th></th>\n",
       "      <th>Coluna1</th>\n",
       "      <th>Coluna2</th>\n",
       "      <th>Coluna3</th>\n",
       "      <th>vol_dia</th>\n",
       "    </tr>\n",
       "  </thead>\n",
       "  <tbody>\n",
       "    <tr>\n",
       "      <th>0</th>\n",
       "      <td>Regional 1</td>\n",
       "      <td>Região Leste</td>\n",
       "      <td>Atacado</td>\n",
       "      <td>10000</td>\n",
       "    </tr>\n",
       "    <tr>\n",
       "      <th>1</th>\n",
       "      <td>Regional 2</td>\n",
       "      <td>Região Norte</td>\n",
       "      <td>Atacado</td>\n",
       "      <td>500</td>\n",
       "    </tr>\n",
       "    <tr>\n",
       "      <th>2</th>\n",
       "      <td></td>\n",
       "      <td></td>\n",
       "      <td></td>\n",
       "      <td>562</td>\n",
       "    </tr>\n",
       "  </tbody>\n",
       "</table>\n",
       "</div>"
      ],
      "text/plain": [
       "      Coluna1       Coluna2  Coluna3  vol_dia\n",
       "0  Regional 1  Região Leste  Atacado    10000\n",
       "1  Regional 2  Região Norte  Atacado      500\n",
       "2                                         562"
      ]
     },
     "execution_count": 178,
     "metadata": {},
     "output_type": "execute_result"
    }
   ],
   "source": [
    "data  = {'Coluna1':['Regional 1', 'Regional 2', ''],  'Coluna2':['Região Leste', 'Região Norte', ''], 'Coluna3':['Atacado', 'Atacado', ''], 'vol_dia':[10000, 500, 562]}\n",
    "_df = pd.DataFrame(data)\n",
    "_df"
   ]
  },
  {
   "cell_type": "code",
   "execution_count": null,
   "metadata": {},
   "outputs": [
    {
     "data": {
      "text/html": [
       "<div>\n",
       "<style scoped>\n",
       "    .dataframe tbody tr th:only-of-type {\n",
       "        vertical-align: middle;\n",
       "    }\n",
       "\n",
       "    .dataframe tbody tr th {\n",
       "        vertical-align: top;\n",
       "    }\n",
       "\n",
       "    .dataframe thead th {\n",
       "        text-align: right;\n",
       "    }\n",
       "</style>\n",
       "<table border=\"1\" class=\"dataframe\">\n",
       "  <thead>\n",
       "    <tr style=\"text-align: right;\">\n",
       "      <th></th>\n",
       "      <th>Coluna1</th>\n",
       "      <th>Coluna2</th>\n",
       "      <th>Coluna3</th>\n",
       "      <th>vol_dia</th>\n",
       "      <th>Região</th>\n",
       "      <th>Código Região</th>\n",
       "    </tr>\n",
       "  </thead>\n",
       "  <tbody>\n",
       "    <tr>\n",
       "      <th>0</th>\n",
       "      <td>Regional 1</td>\n",
       "      <td>Região Leste</td>\n",
       "      <td>Atacado</td>\n",
       "      <td>10000</td>\n",
       "      <td>Regional</td>\n",
       "      <td>1</td>\n",
       "    </tr>\n",
       "    <tr>\n",
       "      <th>1</th>\n",
       "      <td>Regional 2</td>\n",
       "      <td>Região Norte</td>\n",
       "      <td>Atacado</td>\n",
       "      <td>500</td>\n",
       "      <td>Regional</td>\n",
       "      <td>2</td>\n",
       "    </tr>\n",
       "    <tr>\n",
       "      <th>2</th>\n",
       "      <td></td>\n",
       "      <td></td>\n",
       "      <td></td>\n",
       "      <td>562</td>\n",
       "      <td></td>\n",
       "      <td>None</td>\n",
       "    </tr>\n",
       "  </tbody>\n",
       "</table>\n",
       "</div>"
      ],
      "text/plain": [
       "      Coluna1       Coluna2  Coluna3  vol_dia    Região Código Região\n",
       "0  Regional 1  Região Leste  Atacado    10000  Regional             1\n",
       "1  Regional 2  Região Norte  Atacado      500  Regional             2\n",
       "2                                         562                    None"
      ]
     },
     "execution_count": 180,
     "metadata": {},
     "output_type": "execute_result"
    }
   ],
   "source": [
    "new_columns = ['Região', 'Código Região']\n",
    "for i in range(len(new_columns)):\n",
    "    _df[new_columns[i]] = _df['Coluna1'].str.split(' ', expand=True)[i] \n",
    "    \n",
    "_df"
   ]
  },
  {
   "cell_type": "markdown",
   "metadata": {},
   "source": [
    "#### OS Comands"
   ]
  },
  {
   "cell_type": "code",
   "execution_count": null,
   "metadata": {},
   "outputs": [
    {
     "data": {
      "text/plain": [
       "'c:\\\\Users\\\\alexsandro.ignacio\\\\OneDrive - WCA Soluções de Inteligência Comercial\\\\Documentos\\\\Docs\\\\Git\\\\python_developer\\\\Planejamento - Lógicas'"
      ]
     },
     "execution_count": 188,
     "metadata": {},
     "output_type": "execute_result"
    }
   ],
   "source": [
    "# pega o caminho atual do root até o diretório atual.\n",
    "current_path = os.getcwd()\n",
    "current_path"
   ]
  },
  {
   "cell_type": "code",
   "execution_count": null,
   "metadata": {},
   "outputs": [
    {
     "data": {
      "text/plain": [
       "['criando_pkl.ipynb',\n",
       " 'Data Base',\n",
       " 'export_files.ipynb',\n",
       " 'Json Examples by Project',\n",
       " 'json_data.json',\n",
       " 'json_teste.py',\n",
       " 'logicas_pyplan.ipynb',\n",
       " 'pp_functions.ipynb',\n",
       " 'Xarray']"
      ]
     },
     "execution_count": 186,
     "metadata": {},
     "output_type": "execute_result"
    }
   ],
   "source": [
    "# Lista os files no diretório atual\n",
    "os.listdir(current_path)"
   ]
  },
  {
   "cell_type": "code",
   "execution_count": null,
   "metadata": {},
   "outputs": [
    {
     "data": {
      "text/plain": [
       "'c:\\\\Users\\\\alexsandro.ignacio\\\\OneDrive - WCA Soluções de Inteligência Comercial\\\\Documentos\\\\Docs\\\\Git\\\\python_developer\\\\Planejamento - Lógicas\\\\Data Base\\\\Analise_de_Capacidade_base _ 2022-02-25-12-16-27.csv'"
      ]
     },
     "execution_count": 187,
     "metadata": {},
     "output_type": "execute_result"
    }
   ],
   "source": [
    "_directory_name = 'Data Base'\n",
    "_file_name = 'Analise_de_Capacidade_base _ 2022-02-25-12-16-27.csv'\n",
    "\n",
    "# Concatena um path + diretório e file.\n",
    "target_path = os.path.join(current_path, _directory_name, _file_name)\n",
    "target_path"
   ]
  },
  {
   "cell_type": "markdown",
   "metadata": {},
   "source": [
    "#### Criando Linhas"
   ]
  },
  {
   "cell_type": "code",
   "execution_count": null,
   "metadata": {},
   "outputs": [],
   "source": [
    "_df_aux = _df.copy()\n",
    "_df_aux.columns = ['Cálculo', 'Valores']\n",
    "_df_aux.loc[0] = ['Total Dias',  _df.loc[0][0]]\n",
    "_df_aux.loc[1] = ['Total Horas',  _df.loc[0][1]]"
   ]
  },
  {
   "cell_type": "code",
   "execution_count": null,
   "metadata": {},
   "outputs": [
    {
     "data": {
      "text/plain": [
       "['Period_001-S1',\n",
       " 'Period_002-S2',\n",
       " 'Period_003-S3',\n",
       " 'Period_004-S4',\n",
       " 'Period_005-S5',\n",
       " 'Period_006-S6',\n",
       " 'Period_007-S1',\n",
       " 'Period_008-S2',\n",
       " 'Period_009-S3',\n",
       " 'Period_010-S4',\n",
       " 'Period_011-S5',\n",
       " 'Period_012-S6',\n",
       " 'Period_013-S1',\n",
       " 'Period_014-S2',\n",
       " 'Period_015-S3',\n",
       " 'Period_016-S4',\n",
       " 'Period_017-S5',\n",
       " 'Period_018-S6',\n",
       " 'Period_019-S1',\n",
       " 'Period_020-S2',\n",
       " 'Period_021-S3',\n",
       " 'Period_022-S4',\n",
       " 'Period_023-S5',\n",
       " 'Period_024-S6',\n",
       " 'Period_025-S1',\n",
       " 'Period_026-S2',\n",
       " 'Period_027-S3',\n",
       " 'Period_028-S4',\n",
       " 'Period_029-S5',\n",
       " 'Period_030-S6',\n",
       " 'Period_031-S1',\n",
       " 'Period_032-S2',\n",
       " 'Period_033-S3',\n",
       " 'Period_034-S4',\n",
       " 'Period_035-S5',\n",
       " 'Period_036-S6',\n",
       " 'Period_037-S1',\n",
       " 'Period_038-S2',\n",
       " 'Period_039-S3',\n",
       " 'Period_040-S4',\n",
       " 'Period_041-S5',\n",
       " 'Period_042-S6',\n",
       " 'Period_043-S1',\n",
       " 'Period_044-S2',\n",
       " 'Period_045-S3',\n",
       " 'Period_046-S4',\n",
       " 'Period_047-S5',\n",
       " 'Period_048-S6',\n",
       " 'Period_049-S1',\n",
       " 'Period_050-S2',\n",
       " 'Period_051-S3',\n",
       " 'Period_052-S4',\n",
       " 'Period_053-S5',\n",
       " 'Period_054-S6',\n",
       " 'Period_055-S1',\n",
       " 'Period_056-S2',\n",
       " 'Period_057-S3',\n",
       " 'Period_058-S4',\n",
       " 'Period_059-S5',\n",
       " 'Period_060-S6',\n",
       " 'Period_061-S1',\n",
       " 'Period_062-S2',\n",
       " 'Period_063-S3',\n",
       " 'Period_064-S4',\n",
       " 'Period_065-S5',\n",
       " 'Period_066-S6',\n",
       " 'Period_067-S1',\n",
       " 'Period_068-S2',\n",
       " 'Period_069-S3',\n",
       " 'Period_070-S4',\n",
       " 'Period_071-S5',\n",
       " 'Period_072-S6',\n",
       " 'Period_073-S1',\n",
       " 'Period_074-S2',\n",
       " 'Period_075-S3',\n",
       " 'Period_076-S4',\n",
       " 'Period_077-S5',\n",
       " 'Period_078-S6',\n",
       " 'Period_079-S1',\n",
       " 'Period_080-S2',\n",
       " 'Period_081-S3',\n",
       " 'Period_082-S4',\n",
       " 'Period_083-S5',\n",
       " 'Period_084-S6',\n",
       " 'Period_085-S1',\n",
       " 'Period_086-S2',\n",
       " 'Period_087-S3',\n",
       " 'Period_088-S4',\n",
       " 'Period_089-S5',\n",
       " 'Period_090-S6',\n",
       " 'Period_091-S1',\n",
       " 'Period_092-S2',\n",
       " 'Period_093-S3',\n",
       " 'Period_094-S4',\n",
       " 'Period_095-S5',\n",
       " 'Period_096-S6',\n",
       " 'Period_097-S1',\n",
       " 'Period_098-S2',\n",
       " 'Period_099-S3',\n",
       " 'Period_100-S4',\n",
       " 'Period_101-S5',\n",
       " 'Period_102-S6',\n",
       " 'Period_103-S1',\n",
       " 'Period_104-S2',\n",
       " 'Period_105-S3',\n",
       " 'Period_106-S4',\n",
       " 'Period_107-S5',\n",
       " 'Period_108-S6',\n",
       " 'Period_109-S1',\n",
       " 'Period_110-S2',\n",
       " 'Period_111-S3',\n",
       " 'Period_112-S4',\n",
       " 'Period_113-S5',\n",
       " 'Period_114-S6',\n",
       " 'Period_115-S1',\n",
       " 'Period_116-S2',\n",
       " 'Period_117-S3',\n",
       " 'Period_118-S4',\n",
       " 'Period_119-S5',\n",
       " 'Period_120-S6',\n",
       " 'Period_121-S1',\n",
       " 'Period_122-S2',\n",
       " 'Period_123-S3',\n",
       " 'Period_124-S4',\n",
       " 'Period_125-S5',\n",
       " 'Period_126-S6',\n",
       " 'Period_127-S1',\n",
       " 'Period_128-S2',\n",
       " 'Period_129-S3',\n",
       " 'Period_130-S4',\n",
       " 'Period_131-S5',\n",
       " 'Period_132-S6',\n",
       " 'Period_133-S1',\n",
       " 'Period_134-S2',\n",
       " 'Period_135-S3',\n",
       " 'Period_136-S4',\n",
       " 'Period_137-S5',\n",
       " 'Period_138-S6',\n",
       " 'Period_139-S1',\n",
       " 'Period_140-S2',\n",
       " 'Period_141-S3',\n",
       " 'Period_142-S4',\n",
       " 'Period_143-S5',\n",
       " 'Period_144-S6']"
      ]
     },
     "execution_count": 2,
     "metadata": {},
     "output_type": "execute_result"
    }
   ],
   "source": [
    "_cols1 = [f\"Period_{i:03d}\" for i in range(1, 145)]\n",
    "_cols2 = [ f\"-S{j}\"  for i in range(1, 25) for j in range( 1,7)] \n",
    "\n",
    "[_cols1[i] + _cols2[i] for i in range(len(_cols1))]\n"
   ]
  },
  {
   "cell_type": "markdown",
   "metadata": {},
   "source": [
    "#### Select excludings sets"
   ]
  },
  {
   "cell_type": "code",
   "execution_count": 30,
   "metadata": {},
   "outputs": [
    {
     "data": {
      "text/html": [
       "<div>\n",
       "<style scoped>\n",
       "    .dataframe tbody tr th:only-of-type {\n",
       "        vertical-align: middle;\n",
       "    }\n",
       "\n",
       "    .dataframe tbody tr th {\n",
       "        vertical-align: top;\n",
       "    }\n",
       "\n",
       "    .dataframe thead th {\n",
       "        text-align: right;\n",
       "    }\n",
       "</style>\n",
       "<table border=\"1\" class=\"dataframe\">\n",
       "  <thead>\n",
       "    <tr style=\"text-align: right;\">\n",
       "      <th></th>\n",
       "      <th>id</th>\n",
       "      <th>col1</th>\n",
       "      <th>col2</th>\n",
       "      <th>col3</th>\n",
       "      <th>col4</th>\n",
       "      <th>col5</th>\n",
       "      <th>col6</th>\n",
       "    </tr>\n",
       "  </thead>\n",
       "  <tbody>\n",
       "    <tr>\n",
       "      <th>0</th>\n",
       "      <td>0</td>\n",
       "      <td>1</td>\n",
       "      <td>2</td>\n",
       "      <td>3</td>\n",
       "      <td>1</td>\n",
       "      <td>2</td>\n",
       "      <td>3</td>\n",
       "    </tr>\n",
       "    <tr>\n",
       "      <th>1</th>\n",
       "      <td>1</td>\n",
       "      <td>8</td>\n",
       "      <td>3</td>\n",
       "      <td>0</td>\n",
       "      <td>1</td>\n",
       "      <td>2</td>\n",
       "      <td>8</td>\n",
       "    </tr>\n",
       "    <tr>\n",
       "      <th>2</th>\n",
       "      <td>2</td>\n",
       "      <td>9</td>\n",
       "      <td>3</td>\n",
       "      <td>0</td>\n",
       "      <td>5</td>\n",
       "      <td>2</td>\n",
       "      <td>4</td>\n",
       "    </tr>\n",
       "    <tr>\n",
       "      <th>3</th>\n",
       "      <td>3</td>\n",
       "      <td>2</td>\n",
       "      <td>3</td>\n",
       "      <td>0</td>\n",
       "      <td>9</td>\n",
       "      <td>6</td>\n",
       "      <td>8</td>\n",
       "    </tr>\n",
       "  </tbody>\n",
       "</table>\n",
       "</div>"
      ],
      "text/plain": [
       "   id  col1  col2  col3  col4  col5  col6\n",
       "0   0     1     2     3     1     2     3\n",
       "1   1     8     3     0     1     2     8\n",
       "2   2     9     3     0     5     2     4\n",
       "3   3     2     3     0     9     6     8"
      ]
     },
     "execution_count": 30,
     "metadata": {},
     "output_type": "execute_result"
    }
   ],
   "source": [
    "_df"
   ]
  },
  {
   "cell_type": "code",
   "execution_count": 32,
   "metadata": {},
   "outputs": [
    {
     "data": {
      "text/html": [
       "<div>\n",
       "<style scoped>\n",
       "    .dataframe tbody tr th:only-of-type {\n",
       "        vertical-align: middle;\n",
       "    }\n",
       "\n",
       "    .dataframe tbody tr th {\n",
       "        vertical-align: top;\n",
       "    }\n",
       "\n",
       "    .dataframe thead th {\n",
       "        text-align: right;\n",
       "    }\n",
       "</style>\n",
       "<table border=\"1\" class=\"dataframe\">\n",
       "  <thead>\n",
       "    <tr style=\"text-align: right;\">\n",
       "      <th></th>\n",
       "      <th>id</th>\n",
       "      <th>col3</th>\n",
       "      <th>col4</th>\n",
       "      <th>col5</th>\n",
       "      <th>col6</th>\n",
       "    </tr>\n",
       "  </thead>\n",
       "  <tbody>\n",
       "    <tr>\n",
       "      <th>0</th>\n",
       "      <td>0</td>\n",
       "      <td>3</td>\n",
       "      <td>1</td>\n",
       "      <td>2</td>\n",
       "      <td>3</td>\n",
       "    </tr>\n",
       "    <tr>\n",
       "      <th>1</th>\n",
       "      <td>1</td>\n",
       "      <td>0</td>\n",
       "      <td>1</td>\n",
       "      <td>2</td>\n",
       "      <td>8</td>\n",
       "    </tr>\n",
       "    <tr>\n",
       "      <th>2</th>\n",
       "      <td>2</td>\n",
       "      <td>0</td>\n",
       "      <td>5</td>\n",
       "      <td>2</td>\n",
       "      <td>4</td>\n",
       "    </tr>\n",
       "    <tr>\n",
       "      <th>3</th>\n",
       "      <td>3</td>\n",
       "      <td>0</td>\n",
       "      <td>9</td>\n",
       "      <td>6</td>\n",
       "      <td>8</td>\n",
       "    </tr>\n",
       "  </tbody>\n",
       "</table>\n",
       "</div>"
      ],
      "text/plain": [
       "   id  col3  col4  col5  col6\n",
       "0   0     3     1     2     3\n",
       "1   1     0     1     2     8\n",
       "2   2     0     5     2     4\n",
       "3   3     0     9     6     8"
      ]
     },
     "execution_count": 32,
     "metadata": {},
     "output_type": "execute_result"
    }
   ],
   "source": [
    "# drop by Name\n",
    "df1 = _df.drop(['col1', 'col2'], axis=1)\n",
    "df1"
   ]
  },
  {
   "cell_type": "code",
   "execution_count": 33,
   "metadata": {},
   "outputs": [
    {
     "data": {
      "text/plain": [
       "Index(['col3', 'col4', 'col5', 'col6', 'id'], dtype='object')"
      ]
     },
     "execution_count": 33,
     "metadata": {},
     "output_type": "execute_result"
    }
   ],
   "source": [
    "_df.columns.difference(['col1', 'col2'])"
   ]
  },
  {
   "cell_type": "code",
   "execution_count": 34,
   "metadata": {},
   "outputs": [
    {
     "data": {
      "text/html": [
       "<div>\n",
       "<style scoped>\n",
       "    .dataframe tbody tr th:only-of-type {\n",
       "        vertical-align: middle;\n",
       "    }\n",
       "\n",
       "    .dataframe tbody tr th {\n",
       "        vertical-align: top;\n",
       "    }\n",
       "\n",
       "    .dataframe thead th {\n",
       "        text-align: right;\n",
       "    }\n",
       "</style>\n",
       "<table border=\"1\" class=\"dataframe\">\n",
       "  <thead>\n",
       "    <tr style=\"text-align: right;\">\n",
       "      <th></th>\n",
       "      <th>A</th>\n",
       "      <th>B</th>\n",
       "    </tr>\n",
       "  </thead>\n",
       "  <tbody>\n",
       "    <tr>\n",
       "      <th>0</th>\n",
       "      <td>-1.910876</td>\n",
       "      <td>-2.468999</td>\n",
       "    </tr>\n",
       "    <tr>\n",
       "      <th>1</th>\n",
       "      <td>-0.276617</td>\n",
       "      <td>0.645848</td>\n",
       "    </tr>\n",
       "    <tr>\n",
       "      <th>2</th>\n",
       "      <td>-0.181742</td>\n",
       "      <td>0.196016</td>\n",
       "    </tr>\n",
       "    <tr>\n",
       "      <th>3</th>\n",
       "      <td>-0.823990</td>\n",
       "      <td>0.679115</td>\n",
       "    </tr>\n",
       "    <tr>\n",
       "      <th>4</th>\n",
       "      <td>0.551116</td>\n",
       "      <td>0.569710</td>\n",
       "    </tr>\n",
       "    <tr>\n",
       "      <th>...</th>\n",
       "      <td>...</td>\n",
       "      <td>...</td>\n",
       "    </tr>\n",
       "    <tr>\n",
       "      <th>95</th>\n",
       "      <td>1.241761</td>\n",
       "      <td>0.032117</td>\n",
       "    </tr>\n",
       "    <tr>\n",
       "      <th>96</th>\n",
       "      <td>1.127015</td>\n",
       "      <td>0.591906</td>\n",
       "    </tr>\n",
       "    <tr>\n",
       "      <th>97</th>\n",
       "      <td>-0.240710</td>\n",
       "      <td>1.065770</td>\n",
       "    </tr>\n",
       "    <tr>\n",
       "      <th>98</th>\n",
       "      <td>-0.372452</td>\n",
       "      <td>1.034823</td>\n",
       "    </tr>\n",
       "    <tr>\n",
       "      <th>99</th>\n",
       "      <td>1.893612</td>\n",
       "      <td>-0.405868</td>\n",
       "    </tr>\n",
       "  </tbody>\n",
       "</table>\n",
       "<p>100 rows × 2 columns</p>\n",
       "</div>"
      ],
      "text/plain": [
       "           A         B\n",
       "0  -1.910876 -2.468999\n",
       "1  -0.276617  0.645848\n",
       "2  -0.181742  0.196016\n",
       "3  -0.823990  0.679115\n",
       "4   0.551116  0.569710\n",
       "..       ...       ...\n",
       "95  1.241761  0.032117\n",
       "96  1.127015  0.591906\n",
       "97 -0.240710  1.065770\n",
       "98 -0.372452  1.034823\n",
       "99  1.893612 -0.405868\n",
       "\n",
       "[100 rows x 2 columns]"
      ]
     },
     "execution_count": 34,
     "metadata": {},
     "output_type": "execute_result"
    }
   ],
   "source": [
    "import numpy as np\n",
    "import pandas as pd\n",
    "\n",
    "# Create a dataframe with columns A,B,C and D\n",
    "df = pd.DataFrame(np.random.randn(100, 4), columns=list('ABCD'))\n",
    "\n",
    "# include the columns you want\n",
    "df[df.columns[df.columns.isin(['A', 'B'])]]\n",
    "\n",
    "# or more simply include columns:\n",
    "df[['A', 'B']]\n",
    "\n",
    "# exclude columns you don't want\n",
    "df[df.columns[~df.columns.isin(['C','D'])]]\n",
    "\n",
    "# or even simpler since 0.24\n",
    "# with the caveat that it reorders columns alphabetically \n",
    "df[df.columns.difference(['C', 'D'])]"
   ]
  },
  {
   "cell_type": "code",
   "execution_count": 35,
   "metadata": {},
   "outputs": [],
   "source": [
    "# Create a dataframe with columns A,B,C and D\n",
    "df = pd.DataFrame(np.random.randn(100, 4), columns=list('ABCD'))"
   ]
  },
  {
   "cell_type": "code",
   "execution_count": 36,
   "metadata": {},
   "outputs": [],
   "source": [
    "cols = [col for col in df.columns if col not in ['B', 'D']]\n",
    "df2 = df[cols]"
   ]
  },
  {
   "cell_type": "markdown",
   "metadata": {},
   "source": [
    "##### link: https://stackoverflow.com/questions/14940743/selecting-excluding-sets-of-columns-in-pandas"
   ]
  }
 ],
 "metadata": {
  "interpreter": {
   "hash": "37d5714b4ea6c666124e5e9f794c33113a02017c263bbdd899fa45355d80942a"
  },
  "kernelspec": {
   "display_name": "Python 3.9.6 64-bit",
   "language": "python",
   "name": "python3"
  },
  "language_info": {
   "codemirror_mode": {
    "name": "ipython",
    "version": 3
   },
   "file_extension": ".py",
   "mimetype": "text/x-python",
   "name": "python",
   "nbconvert_exporter": "python",
   "pygments_lexer": "ipython3",
   "version": "3.9.6"
  },
  "orig_nbformat": 4
 },
 "nbformat": 4,
 "nbformat_minor": 2
}
