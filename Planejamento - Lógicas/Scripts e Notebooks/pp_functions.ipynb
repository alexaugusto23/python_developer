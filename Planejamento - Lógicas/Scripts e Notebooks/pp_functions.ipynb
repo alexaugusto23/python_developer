{
 "cells": [
  {
   "cell_type": "code",
   "execution_count": null,
   "metadata": {},
   "outputs": [],
   "source": [
    "pp.pandas_from_excel( current_path + '/INPUTS/Input - Hierarquia Produto.xlsx', sheetName=\"H. Clientes\", namedRange=None, cellRange=None, indexes=None, driver='' )"
   ]
  },
  {
   "cell_type": "code",
   "execution_count": null,
   "metadata": {},
   "outputs": [],
   "source": [
    "pp.dataarray_from_pandas( _df, {'Time':time, 'Canal':idx_canal_sellout, 'Categoria':idx_categorias_sellout}, 'Volume', defaultValue=0., valueColumnsAsDim=True, sumDuplicateRecords=True )"
   ]
  }
 ],
 "metadata": {
  "kernelspec": {
   "display_name": "Python 3.9.6 64-bit",
   "language": "python",
   "name": "python3"
  },
  "language_info": {
   "name": "python",
   "version": "3.9.6"
  },
  "orig_nbformat": 4,
  "vscode": {
   "interpreter": {
    "hash": "75b64ca35833826d255b5110be976b8b491e59919d991eceebad02336ca41c97"
   }
  }
 },
 "nbformat": 4,
 "nbformat_minor": 2
}
