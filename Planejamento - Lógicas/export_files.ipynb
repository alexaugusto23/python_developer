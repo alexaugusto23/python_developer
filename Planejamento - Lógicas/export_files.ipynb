{
 "cells": [
  {
   "cell_type": "markdown",
   "metadata": {},
   "source": [
    "#### Example of export file"
   ]
  },
  {
   "cell_type": "markdown",
   "metadata": {},
   "source": [
    "##### Pacotes"
   ]
  },
  {
   "cell_type": "code",
   "execution_count": 1,
   "metadata": {},
   "outputs": [],
   "source": [
    "import datetime\n",
    "import os\n",
    "import pytz"
   ]
  },
  {
   "cell_type": "code",
   "execution_count": null,
   "metadata": {},
   "outputs": [],
   "source": [
    "\n",
    "# os.getcwd() == current_path\n",
    "\n",
    "TIME_ZONE = pytz.timezone('America/Sao_Paulo')\n",
    "_timestamp = datetime.datetime.now(TIME_ZONE).strftime('%Y-%m-%d-%H-%M-%S')\n",
    "# _version_name = selected_version_sel.value.split(' | ')[0]\n",
    "# _file_name = f\"{_version_name} | {_timestamp}.xls\" #no es posible poner un nombre varibale\n",
    "_file_name = \"Analise_de_Capacidade\" + \" | \" + sel_escolher_tabela.value  + \" | \" + _timestamp + \".xls\"\n",
    "_oferta_export_files_path = os.path.join('Oferta Exported Files')\n",
    "\n",
    "# Create Forecasts folder if it does not exist\n",
    "if not os.path.exists(_oferta_export_files_path):\n",
    "    os.mkdir(_oferta_export_files_path)\n",
    "_file_path = os.path.join(_oferta_export_files_path, _file_name)\n",
    "\n",
    "_cp_list = current_path.split(os.sep)\n",
    "_print_path = os.path.join(_cp_list[-3], _cp_list[-2], _file_path)\n",
    "#_dec = '.' if decimal_separator_sel.value == 'Dot (\".\")' else ','\n",
    "\n",
    "if sel_escolher_tabela.value == 'Tabela Normal':\n",
    "    _df = data_normal_table.copy()\n",
    "    _df.to_csv(_file_path, sep=';', na_rep=0., index=False, decimal=\".\", encoding='utf-8-sig')\n",
    "else:\n",
    "    _df = data_dynamic_table.copy()\n",
    "    _df.to_csv(_file_path, sep=';', na_rep=0., index=False, decimal=\".\", encoding='utf-8-sig')\n",
    "    \n",
    "pp.send_message(f\"File exported to '{_print_path}'\")"
   ]
  }
 ],
 "metadata": {
  "interpreter": {
   "hash": "37d5714b4ea6c666124e5e9f794c33113a02017c263bbdd899fa45355d80942a"
  },
  "kernelspec": {
   "display_name": "Python 3.9.6 64-bit",
   "language": "python",
   "name": "python3"
  },
  "language_info": {
   "codemirror_mode": {
    "name": "ipython",
    "version": 3
   },
   "file_extension": ".py",
   "mimetype": "text/x-python",
   "name": "python",
   "nbconvert_exporter": "python",
   "pygments_lexer": "ipython3",
   "version": "3.9.6"
  },
  "orig_nbformat": 4
 },
 "nbformat": 4,
 "nbformat_minor": 2
}
