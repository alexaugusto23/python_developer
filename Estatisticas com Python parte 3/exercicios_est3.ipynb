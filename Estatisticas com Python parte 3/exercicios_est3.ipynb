{
 "cells": [
  {
   "cell_type": "code",
   "execution_count": 26,
   "source": [
    "import pandas as pd \r\n",
    "import numpy as np\r\n",
    "from scipy.stats import normaltest\r\n",
    "from scipy.stats import norm\r\n",
    "from scipy.stats import t as t_student"
   ],
   "outputs": [],
   "metadata": {}
  },
  {
   "cell_type": "markdown",
   "source": [
    "## Um fabricante de farinha afirma que a quantidade média de farinha nas embalagens de seu principal produto é de 500 g. Um teste de pesagem em 30 embalagens amostradas ao acaso mostrou um peso médio igual à 485 g. Estudos anteriores afirmam que a distribuição dos pesos segue uma normal e que o desvio padrão populacional é igual a 20 g. Considerando um nível de significância igual a 5%, responda as seguintes questões:\r\n",
    "\r\n",
    "- 1) Qual a hipótese nula a ser testada?\r\n",
    "\r\n",
    "- 2) Qual o valor da estatística de teste?\r\n",
    "\r\n",
    "- 3) Qual a conclusão do teste?\r\n"
   ],
   "metadata": {}
  },
  {
   "cell_type": "code",
   "execution_count": 2,
   "source": [
    "media_amostra = 485\r\n",
    "desvio_padrao = 20\r\n",
    "media = 500\r\n",
    "significancia = 0.05\r\n",
    "confianca = 1 - significancia\r\n",
    "n = 30\r\n",
    "\r\n",
    "probabilidade = (0.5 + (confianca / 2))\r\n",
    "z_alpha_2 = norm.ppf(probabilidade)\r\n",
    "\r\n",
    "print(f'H0: µ {media}')\r\n",
    "z = (media_amostra - media) / (desvio_padrao / np.sqrt(n))\r\n",
    "\r\n",
    "print('z =', round(z, 4))\r\n",
    "if(z <= -z_alpha_2 or z >= z_alpha_2):\r\n",
    "    print('Rejeitar H0')\r\n",
    "else:\r\n",
    "    print('Aceitar H0')"
   ],
   "outputs": [
    {
     "output_type": "stream",
     "name": "stdout",
     "text": [
      "H0: µ 500\n",
      "z = -4.1079\n",
      "Rejeitar H0\n"
     ]
    }
   ],
   "metadata": {}
  },
  {
   "cell_type": "markdown",
   "source": [
    "## Resultado\r\n",
    "\r\n",
    "- 1) H0: µ = 500\r\n",
    "- 2) z = -4,1079\r\n",
    "- 3) Rejeitar H0"
   ],
   "metadata": {}
  },
  {
   "cell_type": "markdown",
   "source": [
    "'''\r\n",
    "Considere novamente os dados do exercício anterior. Um fabricante de farinha afirma que a quantidade média de farinha nas embalagens de seu principal produto é de 500 g. Um teste de pesagem em 30 embalagens amostradas ao acaso mostrou um peso médio igual à 485 g. Estudos anteriores afirmam que a distribuição dos pesos segue uma normal e que o desvio padrão populacional é igual a 20 g. Com um nível de significância igual a 5%, teste a hipótese nula de que a média do processo é igual a 500 g e marque a alternativa que indica o p-valor do teste aplicado (considere somente 5 casas decimais).\r\n",
    "'''"
   ],
   "metadata": {}
  },
  {
   "cell_type": "code",
   "execution_count": 3,
   "source": [
    "media_amostra = 485\r\n",
    "desvio_padrao = 20\r\n",
    "media = 500\r\n",
    "significancia = 0.05\r\n",
    "confianca = 1 - significancia\r\n",
    "n = 30\r\n",
    "\r\n",
    "probabilidade = (0.5 + (confianca / 2))\r\n",
    "z_alpha_2 = norm.ppf(probabilidade)\r\n",
    "\r\n",
    "print(f'H0: µ {media}')\r\n",
    "z = (media_amostra - media) / (desvio_padrao / np.sqrt(n))\r\n",
    "\r\n",
    "print('z =', round(z, 4))\r\n",
    "if(z <= -z_alpha_2 or z >= z_alpha_2):\r\n",
    "    print('Rejeitar H0')\r\n",
    "else:\r\n",
    "    print('Aceitar H0')"
   ],
   "outputs": [
    {
     "output_type": "stream",
     "name": "stdout",
     "text": [
      "H0: µ 500\n",
      "z = -4.1079\n",
      "Rejeitar H0\n"
     ]
    }
   ],
   "metadata": {}
  },
  {
   "cell_type": "code",
   "execution_count": 7,
   "source": [
    "p_valor = 2 * (1 - norm.cdf(abs(z))) \r\n",
    "p_valor"
   ],
   "outputs": [
    {
     "output_type": "execute_result",
     "data": {
      "text/plain": [
       "3.992397476904053e-05"
      ]
     },
     "metadata": {},
     "execution_count": 7
    }
   ],
   "metadata": {}
  },
  {
   "cell_type": "code",
   "execution_count": 24,
   "source": [
    "p_valor = 2 * norm.sf(abs(z))\r\n",
    "p_valor"
   ],
   "outputs": [
    {
     "output_type": "execute_result",
     "data": {
      "text/plain": [
       "3.992397476901338e-05"
      ]
     },
     "metadata": {},
     "execution_count": 24
    }
   ],
   "metadata": {}
  },
  {
   "cell_type": "markdown",
   "source": [
    "'''\r\n",
    "\r\n",
    "A empresa Limpa Esgoto garante ser capaz de realizar o tratamento de esgoto e obter, no máximo, 150 g de impurezas para cada mil litros de esgoto tratado. Vinte amostras de mil litros de esgoto apresentaram, em média, 230 g de impurezas e desvio padrão amostral igual a 90 g.\r\n",
    "\r\n",
    "Assumindo alfa igual a 5% e população normalmente distribuída, seria possível discordar da empresa Limpa Esgoto? Assinale a alternativa que apresenta a estatística de teste e a decisão correta do teste.\r\n",
    "\r\n",
    "'''\r\n"
   ],
   "metadata": {}
  },
  {
   "cell_type": "code",
   "execution_count": 37,
   "source": [
    "media_amostra = 230\r\n",
    "desvio_padrao_amostra = 90\r\n",
    "media = 150\r\n",
    "significancia = 0.05\r\n",
    "confianca = 1 - significancia\r\n",
    "n = 20\r\n",
    "graus_de_liberdade = n - 1"
   ],
   "outputs": [],
   "metadata": {}
  },
  {
   "cell_type": "code",
   "execution_count": 33,
   "source": [
    "t_alpha = t_student.ppf(confianca, graus_de_liberdade)\r\n",
    "t_alpha "
   ],
   "outputs": [
    {
     "output_type": "execute_result",
     "data": {
      "text/plain": [
       "1.729132811521367"
      ]
     },
     "metadata": {},
     "execution_count": 33
    }
   ],
   "metadata": {}
  },
  {
   "cell_type": "code",
   "execution_count": 34,
   "source": [
    "t = (media_amostra - media) / (desvio_padrao_amostra / np.sqrt(n))\r\n",
    "t"
   ],
   "outputs": [
    {
     "output_type": "execute_result",
     "data": {
      "text/plain": [
       "3.9752319599996264"
      ]
     },
     "metadata": {},
     "execution_count": 34
    }
   ],
   "metadata": {}
  },
  {
   "cell_type": "code",
   "execution_count": 35,
   "source": [
    "if t >= t_alpha:\r\n",
    "    print(\"Rejeitar H0\")\r\n",
    "else: print(\"Aceitar H0\")"
   ],
   "outputs": [
    {
     "output_type": "stream",
     "name": "stdout",
     "text": [
      "Rejeitar H0\n"
     ]
    }
   ],
   "metadata": {}
  },
  {
   "cell_type": "markdown",
   "source": [
    "'''\r\n",
    "Alternativa correta! Ao nível de confiança de 95%, rejeitamos a hipótese de que, após o tratamento aplicado pela empresa Limpa Esgoto, é possível obter, no máximo, 150 g de impurezas por mil litros de esgoto tratado:\r\n",
    "\r\n",
    "'''"
   ],
   "metadata": {}
  },
  {
   "cell_type": "code",
   "execution_count": 36,
   "source": [
    "\r\n",
    "from scipy.stats import t as t_student\r\n",
    "import numpy as np\r\n",
    "\r\n",
    "media_amostra = 230\r\n",
    "desvio_padrao_amostra = 90\r\n",
    "media = 150\r\n",
    "significancia = 0.05\r\n",
    "confianca = 1 - significancia\r\n",
    "n = 20\r\n",
    "graus_de_liberdade = n - 1\r\n",
    "\r\n",
    "t_alpha = t_student.ppf(confianca, graus_de_liberdade)\r\n",
    "\r\n",
    "t = (media_amostra - media) / (desvio_padrao_amostra / np.sqrt(n))\r\n",
    "\r\n",
    "print('t(alpha) =', round(t_alpha, 4))\r\n",
    "print('t =', round(t, 4))\r\n",
    "if(t >= t_alpha):\r\n",
    "    print('Rejeitar H0')\r\n",
    "else:\r\n",
    "    print('Aceitar H0')"
   ],
   "outputs": [
    {
     "output_type": "stream",
     "name": "stdout",
     "text": [
      "t(alpha) = 1.7291\n",
      "t = 3.9752\n",
      "Rejeitar H0\n"
     ]
    }
   ],
   "metadata": {}
  },
  {
   "cell_type": "markdown",
   "source": [
    "''' \r\n",
    "A pizzaria Muito Queijo alega que a quantidade de queijo em suas pizzas tamanho família é de, no mínimo, 350 g. Uma amostra de 35 pizzas tamanho família revelou uma média de 330 g de queijo por pizza. O desvio padrão amostral foi de 80 g.\r\n",
    "\r\n",
    "Assumindo alfa igual a 5% e população normalmente distribuída, seria possível discordar da alegação da pizzaria? Assinale a alternativa que apresenta a estatística de teste e a decisão correta do teste.\r\n",
    "\r\n",
    "'''"
   ],
   "metadata": {}
  },
  {
   "cell_type": "code",
   "execution_count": 40,
   "source": [
    "from scipy.stats import norm\r\n",
    "import numpy as np\r\n",
    "\r\n",
    "media_amostra = 330\r\n",
    "desvio_padrao_amostra = 80\r\n",
    "media = 350\r\n",
    "significancia = 0.05\r\n",
    "confianca = 1 - significancia\r\n",
    "n = 35\r\n",
    "\r\n",
    "z_alpha = norm.ppf(confianca)\r\n",
    "\r\n",
    "z = (media_amostra - media) / (desvio_padrao_amostra / np.sqrt(n))\r\n",
    "\r\n",
    "print('z(alpha) =', round(z_alpha, 3))\r\n",
    "print('z =', round(z, 3))\r\n",
    "if(z <= -z_alpha):\r\n",
    "    print('Rejeitar H0')\r\n",
    "else:\r\n",
    "    print('Aceitar H0')"
   ],
   "outputs": [
    {
     "output_type": "stream",
     "name": "stdout",
     "text": [
      "z(alpha) = 1.645\n",
      "z = -1.479\n",
      "Aceitar H0\n"
     ]
    }
   ],
   "metadata": {}
  }
 ],
 "metadata": {
  "orig_nbformat": 4,
  "language_info": {
   "name": "python",
   "version": "3.9.6",
   "mimetype": "text/x-python",
   "codemirror_mode": {
    "name": "ipython",
    "version": 3
   },
   "pygments_lexer": "ipython3",
   "nbconvert_exporter": "python",
   "file_extension": ".py"
  },
  "kernelspec": {
   "name": "python3",
   "display_name": "Python 3.9.6 64-bit"
  },
  "interpreter": {
   "hash": "37d5714b4ea6c666124e5e9f794c33113a02017c263bbdd899fa45355d80942a"
  }
 },
 "nbformat": 4,
 "nbformat_minor": 2
}