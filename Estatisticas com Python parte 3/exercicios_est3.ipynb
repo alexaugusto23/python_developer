{
 "cells": [
  {
   "cell_type": "code",
   "execution_count": 1,
   "source": [
    "import pandas as pd \r\n",
    "import numpy as np\r\n",
    "from scipy.stats import normaltest\r\n",
    "from scipy.stats import norm"
   ],
   "outputs": [],
   "metadata": {}
  },
  {
   "cell_type": "markdown",
   "source": [
    "## Um fabricante de farinha afirma que a quantidade média de farinha nas embalagens de seu principal produto é de 500 g. Um teste de pesagem em 30 embalagens amostradas ao acaso mostrou um peso médio igual à 485 g. Estudos anteriores afirmam que a distribuição dos pesos segue uma normal e que o desvio padrão populacional é igual a 20 g. Considerando um nível de significância igual a 5%, responda as seguintes questões:\r\n",
    "\r\n",
    "- 1) Qual a hipótese nula a ser testada?\r\n",
    "\r\n",
    "- 2) Qual o valor da estatística de teste?\r\n",
    "\r\n",
    "- 3) Qual a conclusão do teste?\r\n"
   ],
   "metadata": {}
  },
  {
   "cell_type": "code",
   "execution_count": 8,
   "source": [
    "media_amostra = 485\r\n",
    "desvio_padrao = 20\r\n",
    "media = 500\r\n",
    "significancia = 0.05\r\n",
    "confianca = 1 - significancia\r\n",
    "n = 30\r\n",
    "\r\n",
    "probabilidade = (0.5 + (confianca / 2))\r\n",
    "z_alpha_2 = norm.ppf(probabilidade)\r\n",
    "\r\n",
    "z = (media_amostra - media) / (desvio_padrao / np.sqrt(n))\r\n",
    "\r\n",
    "print('z =', round(z, 4))\r\n",
    "if(z <= -z_alpha_2 or z >= z_alpha_2):\r\n",
    "    print('Rejeitar H0')\r\n",
    "else:\r\n",
    "    print('Aceitar H0')"
   ],
   "outputs": [
    {
     "output_type": "stream",
     "name": "stdout",
     "text": [
      "z = -4.1079\n",
      "Rejeitar H0\n"
     ]
    }
   ],
   "metadata": {}
  },
  {
   "cell_type": "markdown",
   "source": [
    "## Resultado\r\n",
    "\r\n",
    "- 1) H0: µ = 500\r\n",
    "- 2) z = -4,1079\r\n",
    "- 3) Rejeitar H0"
   ],
   "metadata": {}
  },
  {
   "cell_type": "code",
   "execution_count": null,
   "source": [],
   "outputs": [],
   "metadata": {}
  },
  {
   "cell_type": "code",
   "execution_count": null,
   "source": [],
   "outputs": [],
   "metadata": {}
  }
 ],
 "metadata": {
  "orig_nbformat": 4,
  "language_info": {
   "name": "python",
   "version": "3.9.6",
   "mimetype": "text/x-python",
   "codemirror_mode": {
    "name": "ipython",
    "version": 3
   },
   "pygments_lexer": "ipython3",
   "nbconvert_exporter": "python",
   "file_extension": ".py"
  },
  "kernelspec": {
   "name": "python3",
   "display_name": "Python 3.9.6 64-bit"
  },
  "interpreter": {
   "hash": "37d5714b4ea6c666124e5e9f794c33113a02017c263bbdd899fa45355d80942a"
  }
 },
 "nbformat": 4,
 "nbformat_minor": 2
}