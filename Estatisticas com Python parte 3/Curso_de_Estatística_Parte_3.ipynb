{
 "cells": [
  {
   "cell_type": "markdown",
   "source": [
    "# <font color=green size=10>CURSO DE ESTATÍSTICA - PARTE 3</font>\n",
    "\n",
    "***"
   ],
   "metadata": {
    "colab_type": "text",
    "id": "WvMflodMjQKe"
   }
  },
  {
   "cell_type": "markdown",
   "source": [
    "# <font color=green>1 CONHECENDO OS DADOS</font>\n",
    "***"
   ],
   "metadata": {
    "colab_type": "text",
    "id": "cVgsZ_E3jQKg"
   }
  },
  {
   "cell_type": "markdown",
   "source": [
    "## <font color=green>1.1 Dataset do projeto</font>\n",
    "***"
   ],
   "metadata": {
    "colab_type": "text",
    "id": "TDjqYYNojQKh"
   }
  },
  {
   "cell_type": "markdown",
   "source": [
    "### Pesquisa Nacional por Amostra de Domicílios - 2015\n",
    "\n",
    "A <b>Pesquisa Nacional por Amostra de Domicílios - PNAD</b> investiga anualmente, de forma permanente, características gerais da população, de educação, trabalho, rendimento e habitação e outras, com periodicidade variável, de acordo com as necessidades de informação para o país, como as características sobre migração, fecundidade, nupcialidade, saúde, segurança alimentar, entre outros temas. O levantamento dessas estatísticas constitui, ao longo dos 49 anos de realização da pesquisa, um importante instrumento para formulação, validação e avaliação de políticas orientadas para o desenvolvimento socioeconômico e a melhoria das condições de vida no Brasil."
   ],
   "metadata": {
    "colab_type": "text",
    "id": "iN1gIbaKjQKh"
   }
  },
  {
   "cell_type": "markdown",
   "source": [
    "### Fonte dos Dados\n",
    "\n",
    "https://ww2.ibge.gov.br/home/estatistica/populacao/trabalhoerendimento/pnad2015/microdados.shtm"
   ],
   "metadata": {
    "colab_type": "text",
    "id": "U6V7br1RjQKi"
   }
  },
  {
   "cell_type": "markdown",
   "source": [
    "### Variáveis utilizadas\n",
    "\n",
    "> ### Renda\n",
    "> ***\n",
    "\n",
    "Rendimento mensal do trabalho principal para pessoas de 10 anos ou mais de idade.\n",
    "\n",
    "> ### Idade\n",
    "> ***\n",
    "\n",
    "Idade do morador na data de referência em anos.\n",
    "\n",
    "> ### Altura (elaboração própria)\n",
    "> ***\n",
    "\n",
    "Altura do morador em metros.\n",
    "\n",
    "> ### UF\n",
    "> ***\n",
    "\n",
    "|Código|Descrição|\n",
    "|---|---|\n",
    "|11|Rondônia|\n",
    "|12|Acre|\n",
    "|13|Amazonas|\n",
    "|14|Roraima|\n",
    "|15|Pará|\n",
    "|16|Amapá|\n",
    "|17|Tocantins|\n",
    "|21|Maranhão|\n",
    "|22|Piauí|\n",
    "|23|Ceará|\n",
    "|24|Rio Grande do Norte|\n",
    "|25|Paraíba|\n",
    "|26|Pernambuco|\n",
    "|27|Alagoas|\n",
    "|28|Sergipe|\n",
    "|29|Bahia|\n",
    "|31|Minas Gerais|\n",
    "|32|Espírito Santo|\n",
    "|33|Rio de Janeiro|\n",
    "|35|São Paulo|\n",
    "|41|Paraná|\n",
    "|42|Santa Catarina|\n",
    "|43|Rio Grande do Sul|\n",
    "|50|Mato Grosso do Sul|\n",
    "|51|Mato Grosso|\n",
    "|52|Goiás|\n",
    "|53|Distrito Federal|\n",
    "\n",
    "> ### Sexo\t\n",
    "> ***\n",
    "\n",
    "|Código|Descrição|\n",
    "|---|---|\n",
    "|0|Masculino|\n",
    "|1|Feminino|\n",
    "\n",
    "> ### Anos de Estudo\n",
    "> ***\n",
    "\n",
    "|Código|Descrição|\n",
    "|---|---|\n",
    "|1|Sem instrução e menos de 1 ano|\n",
    "|2|1 ano|\n",
    "|3|2 anos|\n",
    "|4|3 anos|\n",
    "|5|4 anos|\n",
    "|6|5 anos|\n",
    "|7|6 anos|\n",
    "|8|7 anos|\n",
    "|9|8 anos|\n",
    "|10|9 anos|\n",
    "|11|10 anos|\n",
    "|12|11 anos|\n",
    "|13|12 anos|\n",
    "|14|13 anos|\n",
    "|15|14 anos|\n",
    "|16|15 anos ou mais|\n",
    "|17|Não determinados| \n",
    "||Não aplicável|\n",
    "\n",
    "> ### Cor\n",
    "> ***\n",
    "\n",
    "|Código|Descrição|\n",
    "|---|---|\n",
    "|0|Indígena|\n",
    "|2|Branca|\n",
    "|4|Preta|\n",
    "|6|Amarela|\n",
    "|8|Parda|\n",
    "|9|Sem declaração|"
   ],
   "metadata": {
    "colab_type": "text",
    "id": "r0Fe_qnzjQKj"
   }
  },
  {
   "cell_type": "markdown",
   "source": [
    "#### <font color='red'>Observação</font>\n",
    "***\n",
    "> Os seguintes tratamentos foram realizados nos dados originais:\n",
    "> 1. Foram eliminados os registros onde a <b>Renda</b> era inválida (999 999 999 999);\n",
    "> 2. Foram eliminados os registros onde a <b>Renda</b> era missing;\n",
    "> 3. Foram considerados somente os registros das <b>Pessoas de Referência</b> de cada domicílio (responsável pelo domicílio)."
   ],
   "metadata": {
    "colab_type": "text",
    "id": "OK1IQH5cX7Gb"
   }
  },
  {
   "cell_type": "markdown",
   "source": [
    "### Importando pandas e lendo o dataset do projeto\n",
    "\n",
    "https://pandas.pydata.org/"
   ],
   "metadata": {
    "colab_type": "text",
    "id": "8Rw70V6ojQKk"
   }
  },
  {
   "cell_type": "code",
   "execution_count": 1,
   "source": [
    "import pandas as pd \r\n",
    "import numpy as np"
   ],
   "outputs": [],
   "metadata": {}
  },
  {
   "cell_type": "code",
   "execution_count": 2,
   "source": [
    "print(f\"Versão do Pandas: {pd.__version__}\")"
   ],
   "outputs": [
    {
     "output_type": "stream",
     "name": "stdout",
     "text": [
      "Versão do Pandas: 1.3.2\n"
     ]
    }
   ],
   "metadata": {}
  },
  {
   "cell_type": "code",
   "execution_count": 3,
   "source": [
    "dados = pd.read_csv('dados.csv')"
   ],
   "outputs": [],
   "metadata": {
    "colab": {},
    "colab_type": "code",
    "id": "ufRZ7TLwjQKo"
   }
  },
  {
   "cell_type": "code",
   "execution_count": 4,
   "source": [
    "dados.head(2)"
   ],
   "outputs": [
    {
     "output_type": "execute_result",
     "data": {
      "text/html": [
       "<div>\n",
       "<style scoped>\n",
       "    .dataframe tbody tr th:only-of-type {\n",
       "        vertical-align: middle;\n",
       "    }\n",
       "\n",
       "    .dataframe tbody tr th {\n",
       "        vertical-align: top;\n",
       "    }\n",
       "\n",
       "    .dataframe thead th {\n",
       "        text-align: right;\n",
       "    }\n",
       "</style>\n",
       "<table border=\"1\" class=\"dataframe\">\n",
       "  <thead>\n",
       "    <tr style=\"text-align: right;\">\n",
       "      <th></th>\n",
       "      <th>UF</th>\n",
       "      <th>Sexo</th>\n",
       "      <th>Idade</th>\n",
       "      <th>Cor</th>\n",
       "      <th>Anos de Estudo</th>\n",
       "      <th>Renda</th>\n",
       "      <th>Altura</th>\n",
       "    </tr>\n",
       "  </thead>\n",
       "  <tbody>\n",
       "    <tr>\n",
       "      <th>0</th>\n",
       "      <td>11</td>\n",
       "      <td>0</td>\n",
       "      <td>23</td>\n",
       "      <td>8</td>\n",
       "      <td>12</td>\n",
       "      <td>800</td>\n",
       "      <td>1.603808</td>\n",
       "    </tr>\n",
       "    <tr>\n",
       "      <th>1</th>\n",
       "      <td>11</td>\n",
       "      <td>1</td>\n",
       "      <td>23</td>\n",
       "      <td>2</td>\n",
       "      <td>12</td>\n",
       "      <td>1150</td>\n",
       "      <td>1.739790</td>\n",
       "    </tr>\n",
       "  </tbody>\n",
       "</table>\n",
       "</div>"
      ],
      "text/plain": [
       "   UF  Sexo  Idade  Cor  Anos de Estudo  Renda    Altura\n",
       "0  11     0     23    8              12    800  1.603808\n",
       "1  11     1     23    2              12   1150  1.739790"
      ]
     },
     "metadata": {},
     "execution_count": 4
    }
   ],
   "metadata": {
    "colab": {
     "base_uri": "https://localhost:8080/",
     "height": 204
    },
    "colab_type": "code",
    "id": "GsC_WhLFjQKq",
    "outputId": "cccf4d9c-10ec-4c5b-df3f-173c62ca0659",
    "scrolled": true
   }
  },
  {
   "cell_type": "markdown",
   "source": [
    "# <font color=green>2 TESTES DE HIPÓTESES</font>\n",
    "***"
   ],
   "metadata": {
    "colab_type": "text",
    "id": "nk65O0lepz57"
   }
  },
  {
   "cell_type": "markdown",
   "source": [
    "Testes estatísticos são regras de decisão que permitem avaliar a razoabilidade das hipóteses feitas sobre os parâmetros populacionais e aceitá-las ou rejeitá-las como provavelmente verdadeiras ou falsas tendo como base uma amostra."
   ],
   "metadata": {
    "colab_type": "text",
    "id": "OjHpQHFHpsi3"
   }
  },
  {
   "cell_type": "markdown",
   "source": [
    "## <font color=green>2.1 Teste de normalidade</font>\n",
    "***"
   ],
   "metadata": {
    "colab_type": "text",
    "id": "qjqWccNspsi4"
   }
  },
  {
   "cell_type": "markdown",
   "source": [
    "### Importando bibliotecas\n",
    "https://docs.scipy.org/doc/scipy/reference/generated/scipy.stats.normaltest.html"
   ],
   "metadata": {
    "colab_type": "text",
    "id": "O79kHHwYpsi5"
   }
  },
  {
   "cell_type": "code",
   "execution_count": 5,
   "source": [
    "from scipy.stats import normaltest"
   ],
   "outputs": [],
   "metadata": {
    "colab": {},
    "colab_type": "code",
    "id": "3LwfaqpFpsi5"
   }
  },
  {
   "cell_type": "markdown",
   "source": [
    "A função *normaltest* testa a hipótese nula $H_0$ de que a amostra é proveniente de uma distribuição normal."
   ],
   "metadata": {
    "colab_type": "text",
    "id": "abDn-nKLpsi7"
   }
  },
  {
   "cell_type": "markdown",
   "source": [
    "### Definindo a significância do teste ($\\alpha$)"
   ],
   "metadata": {
    "colab_type": "text",
    "id": "gRDJ86zTpsi8"
   }
  },
  {
   "cell_type": "code",
   "execution_count": 6,
   "source": [
    "significancia = 0.05"
   ],
   "outputs": [],
   "metadata": {
    "colab": {},
    "colab_type": "code",
    "id": "3s6ZAdCOpsi9"
   }
  },
  {
   "cell_type": "markdown",
   "source": [
    "### Testando a variável Renda"
   ],
   "metadata": {
    "colab_type": "text",
    "id": "sppYIE51psi_"
   }
  },
  {
   "cell_type": "code",
   "execution_count": 7,
   "source": [
    "dados['Renda'].hist(bins = 50)"
   ],
   "outputs": [
    {
     "output_type": "execute_result",
     "data": {
      "text/plain": [
       "<AxesSubplot:>"
      ]
     },
     "metadata": {},
     "execution_count": 7
    },
    {
     "output_type": "display_data",
     "data": {
      "image/png": "[encoded data removed]",
      "text/plain": [
       "<Figure size 432x288 with 1 Axes>"
      ]
     },
     "metadata": {
      "needs_background": "light"
     }
    }
   ],
   "metadata": {
    "colab": {
     "base_uri": "https://localhost:8080/",
     "height": 287
    },
    "colab_type": "code",
    "id": "IZpa91lHpsi_",
    "outputId": "ba8bdb04-9da3-41dd-8726-c76cd9670aa0"
   }
  },
  {
   "cell_type": "markdown",
   "source": [
    "### <font color='red'>Critério do valor $p$</font>\n",
    "\n",
    "> ### Rejeitar $H_0$ se o valor $p\\leq 0,05$"
   ],
   "metadata": {
    "colab_type": "text",
    "id": "qKeNZ0PUpsjC"
   }
  },
  {
   "cell_type": "code",
   "execution_count": 8,
   "source": [
    "stat_teste, p_valor = normaltest(dados['Renda'])\r\n",
    "print(stat_teste.round(3))\r\n",
    "print(p_valor)"
   ],
   "outputs": [
    {
     "output_type": "stream",
     "name": "stdout",
     "text": [
      "152380.758\n",
      "0.0\n"
     ]
    }
   ],
   "metadata": {
    "colab": {
     "base_uri": "https://localhost:8080/",
     "height": 53
    },
    "colab_type": "code",
    "id": "060ahVrrpsjD",
    "outputId": "a28af676-4866-4004-953c-8274fc91b9b4"
   }
  },
  {
   "cell_type": "code",
   "execution_count": 9,
   "source": [
    "p_valor <= significancia"
   ],
   "outputs": [
    {
     "output_type": "execute_result",
     "data": {
      "text/plain": [
       "True"
      ]
     },
     "metadata": {},
     "execution_count": 9
    }
   ],
   "metadata": {
    "colab": {
     "base_uri": "https://localhost:8080/",
     "height": 35
    },
    "colab_type": "code",
    "id": "Q4eJFGsCpsjG",
    "outputId": "95f4e550-b43e-476c-94e6-12b600384bc5"
   }
  },
  {
   "cell_type": "markdown",
   "source": [
    "### Testando a variável Altura"
   ],
   "metadata": {
    "colab_type": "text",
    "id": "JkAxa9PqpsjM"
   }
  },
  {
   "cell_type": "code",
   "execution_count": 10,
   "source": [
    "dados['Altura'].hist(bins = 50)"
   ],
   "outputs": [
    {
     "output_type": "execute_result",
     "data": {
      "text/plain": [
       "<AxesSubplot:>"
      ]
     },
     "metadata": {},
     "execution_count": 10
    },
    {
     "output_type": "display_data",
     "data": {
      "image/png": "[encoded data removed]",
      "text/plain": [
       "<Figure size 432x288 with 1 Axes>"
      ]
     },
     "metadata": {
      "needs_background": "light"
     }
    }
   ],
   "metadata": {
    "colab": {
     "base_uri": "https://localhost:8080/",
     "height": 287
    },
    "colab_type": "code",
    "id": "n9r88dMKpsjN",
    "outputId": "9147988e-9272-4aac-de34-211894eeb81c"
   }
  },
  {
   "cell_type": "markdown",
   "source": [
    "### <font color='red'>Critério do valor $p$</font>\n",
    "\n",
    "> ### Rejeitar $H_0$ se o valor $p\\leq 0,05$"
   ],
   "metadata": {
    "colab_type": "text",
    "id": "1ADrwGb5psjQ"
   }
  },
  {
   "cell_type": "code",
   "execution_count": 11,
   "source": [
    "stat_teste, p_valor = normaltest(dados['Altura'])\r\n",
    "print(stat_teste)\r\n",
    "print(p_valor)"
   ],
   "outputs": [
    {
     "output_type": "stream",
     "name": "stdout",
     "text": [
      "0.19973093957002253\n",
      "0.9049591541967501\n"
     ]
    }
   ],
   "metadata": {
    "colab": {
     "base_uri": "https://localhost:8080/",
     "height": 53
    },
    "colab_type": "code",
    "id": "aV9fx6w5psjb",
    "outputId": "030f350d-442f-4d8a-c900-52cca0af4346"
   }
  },
  {
   "cell_type": "code",
   "execution_count": 12,
   "source": [
    "p_valor <= significancia"
   ],
   "outputs": [
    {
     "output_type": "execute_result",
     "data": {
      "text/plain": [
       "False"
      ]
     },
     "metadata": {},
     "execution_count": 12
    }
   ],
   "metadata": {
    "colab": {
     "base_uri": "https://localhost:8080/",
     "height": 35
    },
    "colab_type": "code",
    "id": "pP-NZCthpsje",
    "outputId": "de39a608-7d0a-49e9-f6da-2b9f1665a58f"
   }
  },
  {
   "cell_type": "markdown",
   "source": [
    "## <font color=green>2.2 Etapas Básicas de um Teste</font>\n",
    "***"
   ],
   "metadata": {
    "colab_type": "text",
    "id": "rWh-HSd-psji"
   }
  },
  {
   "cell_type": "markdown",
   "source": [
    "### **Passo 1** - formulação das hipóteses $H_0$ e $H_1$;\r\n",
    "\r\n",
    "> ### <font color='red'>Pontos importantes</font>\r\n",
    "> - De maneira geral, o alvo do estudo deve ser formulado como a hipótese alternativa $H_1$.\r\n",
    "> - A hipótese nula sempre afirma uma igualdade ou propriedade populacional, e $H_1$ a desigualdade que nega $H_0$.\r\n",
    "> - No caso da hipótese nula $H_0$ a igualdade pode ser representada por uma igualdade simples \"$=$\" ou por \"$\\geq$\" e \"$\\leq$\". Sempre complementar ao estabelecido pela hipótese alternativa.\r\n",
    "> - A hipótese alternativa $H_1$ deve definir uma desigualdade que pode ser uma diferença simples \"$\\neq$\" ou dos tipos \"$>$\" e \"$<$\".\r\n",
    "\r\n",
    "\r\n",
    "### **Passo 2** - escolha da distribuição amostral adequada;\r\n",
    "\r\n",
    "> ### <font color='red'>Pontos importantes</font>\r\n",
    "> - Quando o tamanho da amostra tiver 30 elementos ou mais, deve-se utilizar a distribuição normal, como estabelecido pelo **teorema do limite central**.\r\n",
    "> - Para um tamanho de amostra menor que 30 elementos, e se pudermos afirmar que a população se distribui aproximadamente como uma normal e o desvio padrão populacional for conhecido, deve-se utilizar a distribuição normal.\r\n",
    "> - Para um tamanho de amostra menor que 30 elementos, e se pudermos afirmar que a população se distribui aproximadamente como uma normal e o desvio padrão populacional for desconhecido, deve-se utilizar a distribuição t de Student.\r\n",
    "\r\n",
    "<img src='https://caelum-online-public.s3.amazonaws.com/1229-estatistica-parte3/01/img003.png' width=70%>\r\n",
    "\r\n",
    "### **Passo 3** - fixação da significância do teste ($\\alpha$), que define as regiões de aceitação e rejeição das hipóteses (os valores mais freqüentes são 10%, 5% e 1%);\r\n",
    "\r\n",
    "> ### <font color='red'>Pontos importantes</font>\r\n",
    "> - O **nível de confiança** ($1 - \\alpha$) representa a probabilidade de acerto da estimativa. De forma complementar o **nível de significância** ($\\alpha$) expressa a probabilidade de erro da estimativa.\r\n",
    ">\r\n",
    "> ![Níveis de Confiança e significância](https://caelum-online-public.s3.amazonaws.com/1229-estatistica-parte3/01/img001.png)\r\n",
    ">\r\n",
    "> - O **nível de confiança** representa o grau de confiabilidade do resultado da estimativa estar dentro de determinado intervalo. Quando fixamos em uma pesquisa um **nível de confiança** de 95%, por exemplo, estamos assumindo que existe uma probabilidade de 95% dos resultados da pesquisa representarem bem a realidade, ou seja, estarem corretos.\r\n",
    ">\r\n",
    "> ![Áreas de Aceitação e Rejeição](https://caelum-online-public.s3.amazonaws.com/1229-estatistica-parte3/01/img002.png)\r\n",
    "\r\n",
    "### **Passo 4** - cálculo da estatística-teste e verificação desse valor com as áreas de aceitação e rejeição do teste;\r\n",
    "\r\n",
    "> ### <font color='red'>Pontos importantes</font>\r\n",
    "> - Nos testes paramétricos, distância relativa entre a estatística amostral e o valor alegado como provável.\r\n",
    "> - Neste passo são obtidas as estatísticas amostrais necessárias à execução do teste (média, desvio-padrão, graus de liberdade etc.)\r\n",
    "\r\n",
    "\r\n",
    "### **Passo 5** - Aceitação ou rejeição da hipótese nula.\r\n",
    "\r\n",
    "> ### <font color='red'>Pontos importantes</font>\r\n",
    "> - No caso de o intervalo de aceitação conter a estatística-teste, aceita-se $H_0$ como estatisticamente válido e rejeita-se $H_1$ como tal.\r\n",
    "> - No caso de o intervalo de aceitação não conter a estatística-teste, rejeita-se $H_0$ e aceita-se $H_1$ como provavelmente verdadeira. \r\n",
    "> - A aceitação também se verifica com a probabilidade de cauda (p-valor): se maior que $\\alpha$, aceita-se $H_0$."
   ],
   "metadata": {
    "colab_type": "text",
    "id": "DQF30K2Cpsjj"
   }
  },
  {
   "cell_type": "markdown",
   "source": [
    "---"
   ],
   "metadata": {
    "colab_type": "text",
    "id": "TXdMM0dOpsjm"
   }
  },
  {
   "cell_type": "markdown",
   "source": [
    "# <font color=green>3 TESTES PARAMÉTRICOS</font>\n",
    "***"
   ],
   "metadata": {
    "colab_type": "text",
    "id": "miGOADKYpsjn"
   }
  },
  {
   "cell_type": "markdown",
   "source": [
    "Quando um teste assume determinadas premissas sobre como os parâmetros de uma população se distribuem, estamos trabalhando com **Testes Paramétricos**."
   ],
   "metadata": {
    "colab_type": "text",
    "id": "pIHY_4Sspsjn"
   }
  },
  {
   "cell_type": "markdown",
   "source": [
    "## <font color=green>3.1 Teste Bicaudal</font>\n",
    "***"
   ],
   "metadata": {
    "colab_type": "text",
    "id": "rUKgxZ7_psjp"
   }
  },
  {
   "cell_type": "markdown",
   "source": [
    "## <font color='red'>Problema</font>"
   ],
   "metadata": {
    "colab_type": "text",
    "id": "i1PMIB5cpsjp"
   }
  },
  {
   "cell_type": "markdown",
   "source": [
    "A empresa **Suco Bom** produz **sucos de frutas em embalagens de 500 ml**. Seu processo de produção é quase todo automatizado e as embalagens de sucos são preenchidas por uma máquina que às vezes apresenta um certo desajuste, levando a erros no preenchimento das embalagens para mais ou menos conteúdo. Quando o volume médio cai abaixo de 500 ml, a empresa se preocupa em perder vendas e ter problemas com os orgãos fiscalizadores. Quando o volume passa de 500 ml, a empresa começa a se preocupar com prejuízos no processo de produção.\n",
    "\n",
    "O setor de controle de qualidade da empresa **Suco Bom** extrai, periodicamente, **amostras de 50 embalagens** para monitorar o processo de produção. Para cada amostra, é realizado um **teste de hipóteses** para avaliar se o maquinário se desajustou. A equipe de controle de qualidade assume um **nível de significância de 5%**.\n",
    "\n",
    "Suponha agora que uma **amostra de 50 embalagens** foi selecionada e que a **média amostral observada foi de 503,24 ml**. **Esse valor de média amostral é suficientemente maior que 500 ml para nos fazer rejeitar a hipótese de que a média do processo é de 500 ml ao nível de significância de 5%?**"
   ],
   "metadata": {
    "colab_type": "text",
    "id": "vellTWzJpsjq"
   }
  },
  {
   "cell_type": "markdown",
   "source": [
    "---"
   ],
   "metadata": {
    "colab_type": "text",
    "id": "-J15nugOpsjq"
   }
  },
  {
   "cell_type": "markdown",
   "source": [
    "O **teste bicaudal** é muito utilizado em **testes de qualidade**, como o apresentado em nosso problema acima. Outro exemplo é a avaliação de peças que devem ter um encaixe perfeito (porcas e parafusos, chaves e fechaduras)."
   ],
   "metadata": {
    "colab_type": "text",
    "id": "076qvKgapsjr"
   }
  },
  {
   "cell_type": "markdown",
   "source": [
    "![Teste Bicaudal](https://caelum-online-public.s3.amazonaws.com/1229-estatistica-parte3/01/img005.png)"
   ],
   "metadata": {
    "colab_type": "text",
    "id": "MyGUYz88psjr"
   }
  },
  {
   "cell_type": "markdown",
   "source": [
    "---"
   ],
   "metadata": {
    "colab_type": "text",
    "id": "EOiKt64mpsjs"
   }
  },
  {
   "cell_type": "markdown",
   "source": [
    "### Dados do problema"
   ],
   "metadata": {
    "colab_type": "text",
    "id": "011wNGXtpsjs"
   }
  },
  {
   "cell_type": "code",
   "execution_count": 13,
   "source": [
    "amostra = [509, 505, 495, 510, 496, 509, 497, 502, 503, 505,\r\n",
    "           501, 505, 510, 505, 504, 497, 506, 506, 508, 505,\r\n",
    "           497, 504, 500, 498, 506, 496, 508, 497, 503, 501,\r\n",
    "           503, 506, 499, 498, 509, 507, 503, 499, 509, 495,\r\n",
    "           502, 505, 504, 509, 508, 501, 505, 497, 508, 507]"
   ],
   "outputs": [],
   "metadata": {
    "colab": {},
    "colab_type": "code",
    "id": "lHLlGH7upsjt"
   }
  },
  {
   "cell_type": "code",
   "execution_count": 14,
   "source": [
    "amostra = pd.DataFrame(amostra, columns=['Amostra'])\r\n",
    "amostra.head()"
   ],
   "outputs": [
    {
     "output_type": "execute_result",
     "data": {
      "text/html": [
       "<div>\n",
       "<style scoped>\n",
       "    .dataframe tbody tr th:only-of-type {\n",
       "        vertical-align: middle;\n",
       "    }\n",
       "\n",
       "    .dataframe tbody tr th {\n",
       "        vertical-align: top;\n",
       "    }\n",
       "\n",
       "    .dataframe thead th {\n",
       "        text-align: right;\n",
       "    }\n",
       "</style>\n",
       "<table border=\"1\" class=\"dataframe\">\n",
       "  <thead>\n",
       "    <tr style=\"text-align: right;\">\n",
       "      <th></th>\n",
       "      <th>Amostra</th>\n",
       "    </tr>\n",
       "  </thead>\n",
       "  <tbody>\n",
       "    <tr>\n",
       "      <th>0</th>\n",
       "      <td>509</td>\n",
       "    </tr>\n",
       "    <tr>\n",
       "      <th>1</th>\n",
       "      <td>505</td>\n",
       "    </tr>\n",
       "    <tr>\n",
       "      <th>2</th>\n",
       "      <td>495</td>\n",
       "    </tr>\n",
       "    <tr>\n",
       "      <th>3</th>\n",
       "      <td>510</td>\n",
       "    </tr>\n",
       "    <tr>\n",
       "      <th>4</th>\n",
       "      <td>496</td>\n",
       "    </tr>\n",
       "  </tbody>\n",
       "</table>\n",
       "</div>"
      ],
      "text/plain": [
       "   Amostra\n",
       "0      509\n",
       "1      505\n",
       "2      495\n",
       "3      510\n",
       "4      496"
      ]
     },
     "metadata": {},
     "execution_count": 14
    }
   ],
   "metadata": {
    "colab": {
     "base_uri": "https://localhost:8080/",
     "height": 204
    },
    "colab_type": "code",
    "id": "AJNH5RQtpsju",
    "outputId": "2e4e74bb-9e93-41ce-b12c-af947c39fda8",
    "scrolled": false
   }
  },
  {
   "cell_type": "code",
   "execution_count": 19,
   "source": [
    "media_amostra = amostra.mean()\r\n",
    "media_amostra"
   ],
   "outputs": [
    {
     "output_type": "execute_result",
     "data": {
      "text/plain": [
       "Amostra    503.24\n",
       "dtype: float64"
      ]
     },
     "metadata": {},
     "execution_count": 19
    }
   ],
   "metadata": {
    "colab": {
     "base_uri": "https://localhost:8080/",
     "height": 35
    },
    "colab_type": "code",
    "id": "tnjD0A_ppsjw",
    "outputId": "96415938-0ad1-463b-ee79-719ef48dca1a"
   }
  },
  {
   "cell_type": "code",
   "execution_count": 20,
   "source": [
    "media_amostra = amostra.mean()[0]\r\n",
    "media_amostra"
   ],
   "outputs": [
    {
     "output_type": "execute_result",
     "data": {
      "text/plain": [
       "503.24"
      ]
     },
     "metadata": {},
     "execution_count": 20
    }
   ],
   "metadata": {
    "colab": {
     "base_uri": "https://localhost:8080/",
     "height": 35
    },
    "colab_type": "code",
    "id": "JXz2IFCUpsjy",
    "outputId": "fb457ed0-cc94-498c-b13d-310418913f61"
   }
  },
  {
   "cell_type": "code",
   "execution_count": 22,
   "source": [
    "desvio_padrao_amostra = amostra.std()[0]\r\n",
    "desvio_padrao_amostra"
   ],
   "outputs": [
    {
     "output_type": "execute_result",
     "data": {
      "text/plain": [
       "4.483803050527347"
      ]
     },
     "metadata": {},
     "execution_count": 22
    }
   ],
   "metadata": {
    "colab": {},
    "colab_type": "code",
    "id": "PE99TXSfpsj0"
   }
  },
  {
   "cell_type": "code",
   "execution_count": 23,
   "source": [
    "media = 500\r\n",
    "significancia = 0.05\r\n",
    "confianca = 1 - significancia\r\n",
    "n = 50 "
   ],
   "outputs": [],
   "metadata": {}
  },
  {
   "cell_type": "markdown",
   "source": [
    "### **Passo 1** - formulação das hipóteses $H_0$ e $H_1$\n",
    "\n",
    "#### <font color='red'>Lembre-se, a hipótese nula sempre contém a alegação de igualdade</font>"
   ],
   "metadata": {
    "colab_type": "text",
    "id": "nqmFpl7wpsj2"
   }
  },
  {
   "cell_type": "markdown",
   "source": [
    "### $H_0: \\mu = 500$\n",
    "\n",
    "### $H_1: \\mu \\neq 500$"
   ],
   "metadata": {
    "colab_type": "text",
    "id": "QVcqkHZhpsj3"
   }
  },
  {
   "cell_type": "markdown",
   "source": [
    "---"
   ],
   "metadata": {
    "colab_type": "text",
    "id": "MShPuVL6psj3"
   }
  },
  {
   "cell_type": "markdown",
   "source": [
    "### **Passo 2** - escolha da distribuição amostral adequada\n",
    "<img src='https://caelum-online-public.s3.amazonaws.com/1229-estatistica-parte3/01/img003.png' width=70%>"
   ],
   "metadata": {
    "colab_type": "text",
    "id": "_rAz73fzpsj4"
   }
  },
  {
   "cell_type": "markdown",
   "source": [
    "### O tamanho da amostra é maior que 30?\n",
    "#### Resp.: Sim\n",
    "\n",
    "### O desvio padrão populacional é conhecido?\n",
    "#### Resp.: Não"
   ],
   "metadata": {
    "colab_type": "text",
    "id": "XC1JOtU9psj4"
   }
  },
  {
   "cell_type": "markdown",
   "source": [
    "---"
   ],
   "metadata": {
    "colab_type": "text",
    "id": "Uq-Zq_Sxpsj5"
   }
  },
  {
   "cell_type": "markdown",
   "source": [
    "### **Passo 3** - fixação da significância do teste ($\\alpha$)"
   ],
   "metadata": {
    "colab_type": "text",
    "id": "V3OT4caspsj5"
   }
  },
  {
   "cell_type": "markdown",
   "source": [
    "https://docs.scipy.org/doc/scipy/reference/generated/scipy.stats.norm.html"
   ],
   "metadata": {
    "colab_type": "text",
    "id": "wI1Nhj_vpsj6"
   }
  },
  {
   "cell_type": "code",
   "execution_count": null,
   "source": [],
   "outputs": [],
   "metadata": {
    "colab": {},
    "colab_type": "code",
    "id": "nUd-6AzZpsj6"
   }
  },
  {
   "cell_type": "code",
   "execution_count": null,
   "source": [],
   "outputs": [],
   "metadata": {
    "colab": {
     "base_uri": "https://localhost:8080/",
     "height": 35
    },
    "colab_type": "code",
    "id": "2JyYCHeQpsj8",
    "outputId": "593263ce-a450-43d3-bcf1-1d663ef2774f"
   }
  },
  {
   "cell_type": "markdown",
   "source": [
    "### Obtendo $z_{\\alpha/2}$"
   ],
   "metadata": {
    "colab_type": "text",
    "id": "Fu4Wbd-ipsj-"
   }
  },
  {
   "cell_type": "code",
   "execution_count": null,
   "source": [],
   "outputs": [],
   "metadata": {
    "colab": {
     "base_uri": "https://localhost:8080/",
     "height": 35
    },
    "colab_type": "code",
    "id": "imc3GyDLpsj_",
    "outputId": "b9dca9d5-da76-42b1-919c-1aaf593fed70"
   }
  },
  {
   "cell_type": "markdown",
   "source": [
    "![Região de Aceitação](https://caelum-online-public.s3.amazonaws.com/1229-estatistica-parte3/01/img006.png)"
   ],
   "metadata": {
    "colab_type": "text",
    "id": "d98Z21yOpskB"
   }
  },
  {
   "cell_type": "markdown",
   "source": [
    "---"
   ],
   "metadata": {
    "colab_type": "text",
    "id": "eyfX7pYMpskC"
   }
  },
  {
   "cell_type": "markdown",
   "source": [
    "### **Passo 4** - cálculo da estatística-teste e verificação desse valor com as áreas de aceitação e rejeição do teste\n",
    "\n",
    "# $$z = \\frac{\\bar{x} - \\mu_0}{\\frac{s}{\\sqrt{n}}}$$"
   ],
   "metadata": {
    "colab_type": "text",
    "id": "aaLCZs0ApskC"
   }
  },
  {
   "cell_type": "code",
   "execution_count": null,
   "source": [],
   "outputs": [],
   "metadata": {
    "colab": {
     "base_uri": "https://localhost:8080/",
     "height": 35
    },
    "colab_type": "code",
    "id": "a6zMj0YzpskC",
    "outputId": "83a2bb40-f67f-4ddc-dbd9-a88032f7dc86"
   }
  },
  {
   "cell_type": "markdown",
   "source": [
    "![Estatística-Teste](https://caelum-online-public.s3.amazonaws.com/1229-estatistica-parte3/01/img007.png)"
   ],
   "metadata": {
    "colab_type": "text",
    "id": "UMHqgrlupskE"
   }
  },
  {
   "cell_type": "markdown",
   "source": [
    "---"
   ],
   "metadata": {
    "colab_type": "text",
    "id": "tFfJX8G9pskF"
   }
  },
  {
   "cell_type": "markdown",
   "source": [
    "### **Passo 5** - Aceitação ou rejeição da hipótese nula"
   ],
   "metadata": {
    "colab_type": "text",
    "id": "aqTnTTePpskF"
   }
  },
  {
   "cell_type": "markdown",
   "source": [
    "<img src='https://caelum-online-public.s3.amazonaws.com/1229-estatistica-parte3/01/img013.png' width=90%>"
   ],
   "metadata": {
    "colab_type": "text",
    "id": "pD1cc4DHpskG"
   }
  },
  {
   "cell_type": "markdown",
   "source": [
    "### <font color='red'>Critério do valor crítico</font>\n",
    "\n",
    "> ### Teste Bicaudal\n",
    "> ### Rejeitar $H_0$ se $z \\leq -z_{\\alpha / 2}$ ou se $z \\geq z_{\\alpha / 2}$"
   ],
   "metadata": {
    "colab_type": "text",
    "id": "qbnH6V15pskG"
   }
  },
  {
   "cell_type": "code",
   "execution_count": null,
   "source": [],
   "outputs": [],
   "metadata": {
    "colab": {
     "base_uri": "https://localhost:8080/",
     "height": 35
    },
    "colab_type": "code",
    "id": "-MkJyqSupskG",
    "outputId": "6495abcc-0c3f-4759-8a31-96d668ad2eff"
   }
  },
  {
   "cell_type": "code",
   "execution_count": null,
   "source": [],
   "outputs": [],
   "metadata": {
    "colab": {
     "base_uri": "https://localhost:8080/",
     "height": 35
    },
    "colab_type": "code",
    "id": "FVTIIXA3pskI",
    "outputId": "8ec15147-9c1d-4fa0-fe26-8de8166f3ed6"
   }
  },
  {
   "cell_type": "markdown",
   "source": [
    "### <font color='green'>Conclusão: Como a média amostral $\\bar{x}$ é significativamente maior que 500 ml, rejeitamos $H_0$. Neste caso, devem ser tomadas providências para ajustar o maquinário que preenche as embalagens.</font>"
   ],
   "metadata": {
    "colab_type": "text",
    "id": "YX-xSnZFpskM"
   }
  },
  {
   "cell_type": "markdown",
   "source": [
    "### <font color='red'>Critério do $p-valor$</font>\n",
    "\n",
    "> ### Teste Bicaudal\n",
    "> ### Rejeitar $H_0$ se o valor $p\\leq\\alpha$"
   ],
   "metadata": {
    "colab_type": "text",
    "id": "Aqv_KZoYpskN"
   }
  },
  {
   "cell_type": "code",
   "execution_count": null,
   "source": [],
   "outputs": [],
   "metadata": {
    "colab": {
     "base_uri": "https://localhost:8080/",
     "height": 35
    },
    "colab_type": "code",
    "id": "ucIaKkuopskN",
    "outputId": "fabc7c98-2eed-4209-bce1-51fe13cb599f"
   }
  },
  {
   "cell_type": "code",
   "execution_count": null,
   "source": [],
   "outputs": [],
   "metadata": {
    "colab": {
     "base_uri": "https://localhost:8080/",
     "height": 35
    },
    "colab_type": "code",
    "id": "wGgZS83apskO",
    "outputId": "025ad332-0429-4dbc-fd0c-b0c7441a3210"
   }
  },
  {
   "cell_type": "code",
   "execution_count": null,
   "source": [],
   "outputs": [],
   "metadata": {
    "colab": {
     "base_uri": "https://localhost:8080/",
     "height": 35
    },
    "colab_type": "code",
    "id": "vUHgYIHqpskR",
    "outputId": "b53d6bed-fcb0-41ae-ecf4-38e2dd1dcaec",
    "scrolled": true
   }
  },
  {
   "cell_type": "markdown",
   "source": [
    "https://www.statsmodels.org/stable/generated/statsmodels.stats.weightstats.ztest.html"
   ],
   "metadata": {
    "colab_type": "text",
    "id": "YRw1O5X8pskT"
   }
  },
  {
   "cell_type": "code",
   "execution_count": null,
   "source": [],
   "outputs": [],
   "metadata": {
    "colab": {},
    "colab_type": "code",
    "id": "rg3hUlqfpskU"
   }
  },
  {
   "cell_type": "code",
   "execution_count": null,
   "source": [],
   "outputs": [],
   "metadata": {
    "colab": {
     "base_uri": "https://localhost:8080/",
     "height": 35
    },
    "colab_type": "code",
    "id": "0pC3HAjzpskV",
    "outputId": "af72acf1-4256-4671-8b4c-0884fb69af99"
   }
  },
  {
   "cell_type": "markdown",
   "source": [
    "https://www.statsmodels.org/dev/generated/statsmodels.stats.weightstats.DescrStatsW.html"
   ],
   "metadata": {
    "colab_type": "text",
    "id": "X5MVCXS6pskX"
   }
  },
  {
   "cell_type": "code",
   "execution_count": null,
   "source": [],
   "outputs": [],
   "metadata": {
    "colab": {},
    "colab_type": "code",
    "id": "ke2O2P00pskX"
   }
  },
  {
   "cell_type": "code",
   "execution_count": null,
   "source": [],
   "outputs": [],
   "metadata": {
    "colab": {},
    "colab_type": "code",
    "id": "Dz_iOYR4pskZ"
   }
  },
  {
   "cell_type": "code",
   "execution_count": null,
   "source": [],
   "outputs": [],
   "metadata": {
    "colab": {
     "base_uri": "https://localhost:8080/",
     "height": 53
    },
    "colab_type": "code",
    "id": "LJBxBo5dpskb",
    "outputId": "ee7c8740-8a53-4ba5-a954-33b7e5b4c248"
   }
  },
  {
   "cell_type": "markdown",
   "source": [
    "---"
   ],
   "metadata": {
    "colab_type": "text",
    "id": "YQQdl-Nepskv"
   }
  },
  {
   "cell_type": "markdown",
   "source": [
    "## <font color=green>3.2 Teste Unicaudal</font>\n",
    "***"
   ],
   "metadata": {
    "colab_type": "text",
    "id": "U8OWXeVtpskv"
   }
  },
  {
   "cell_type": "markdown",
   "source": [
    "## <font color='red'>Problema</font>"
   ],
   "metadata": {
    "colab_type": "text",
    "id": "CPHPL4nWpskw"
   }
  },
  {
   "cell_type": "markdown",
   "source": [
    "Um famoso fabricante de refrigerantes alega que uma lata de 350 ml de seu principal produto contém, **no máximo**, **37 gramas de açúcar**. Esta alegação nos leva a entender que a quantidade média de açúcar em uma lata de refrigerante deve ser **igual ou menor que 37 g**.\n",
    "\n",
    "Um consumidor desconfiado e com conhecimentos em inferência estatística resolve testar a alegação do fabricante e seleciona, aleatóriamente, em um conjunto de estabelecimentos distintos, **uma amostra de 25 latas** do refrigerante em questão. Utilizando o equipamento correto o consumidor obteve as quantidades de açúcar em todas as 25 latas de sua amostra. \n",
    "\n",
    "**Assumindo que essa população se distribua aproximadamente como uma normal e considerando um nível de significância de 5%, é possível aceitar como válida a alegação do fabricante?**"
   ],
   "metadata": {
    "colab_type": "text",
    "id": "vDyxOXLvpskw"
   }
  },
  {
   "cell_type": "markdown",
   "source": [
    "### Construindo tabela $t$ de Student\n",
    "https://docs.scipy.org/doc/scipy/reference/generated/scipy.stats.t.html"
   ],
   "metadata": {
    "colab_type": "text",
    "id": "5P5nWN0epsky"
   }
  },
  {
   "cell_type": "code",
   "execution_count": null,
   "source": [],
   "outputs": [],
   "metadata": {
    "colab": {
     "base_uri": "https://localhost:8080/",
     "height": 1010
    },
    "colab_type": "code",
    "id": "lKuhGKPEpsky",
    "outputId": "7ed95512-f283-465d-9a75-da2d3f0384b9",
    "scrolled": false
   }
  },
  {
   "cell_type": "markdown",
   "source": [
    "<img src='https://caelum-online-public.s3.amazonaws.com/1229-estatistica-parte3/01/img004.png' width='250px'>\n",
    "\n",
    "As células da tabela acima são valores de $t$ para uma área ou probabilidade na cauda superior da distribuição $t$."
   ],
   "metadata": {
    "colab_type": "text",
    "id": "MbVu6FdNpsk0"
   }
  },
  {
   "cell_type": "markdown",
   "source": [
    "---"
   ],
   "metadata": {
    "colab_type": "text",
    "id": "UXM3qdYUpsk0"
   }
  },
  {
   "cell_type": "markdown",
   "source": [
    "Os **testes unicaudais** verificam as variáveis em relação a um piso ou a um teto e avaliam os valores máximos ou mínimos esperados para os parâmetros em estudo e a chance de as estatísticas amostrais serem inferiores ou superiores a dado limite."
   ],
   "metadata": {
    "colab_type": "text",
    "id": "dDbUKs7-psk0"
   }
  },
  {
   "cell_type": "markdown",
   "source": [
    "<img src='https://caelum-online-public.s3.amazonaws.com/1229-estatistica-parte3/01/img008.png' width='700px'>"
   ],
   "metadata": {
    "colab_type": "text",
    "id": "AvnFJnUrpsk1"
   }
  },
  {
   "cell_type": "markdown",
   "source": [
    "### Dados do problema"
   ],
   "metadata": {
    "colab_type": "text",
    "id": "IgDg23Xppsk1"
   }
  },
  {
   "cell_type": "code",
   "execution_count": null,
   "source": [],
   "outputs": [],
   "metadata": {
    "colab": {},
    "colab_type": "code",
    "id": "IKvYICfEpsk2"
   }
  },
  {
   "cell_type": "code",
   "execution_count": null,
   "source": [],
   "outputs": [],
   "metadata": {
    "colab": {
     "base_uri": "https://localhost:8080/",
     "height": 824
    },
    "colab_type": "code",
    "id": "CBuciT30psk3",
    "outputId": "28df5179-0f8c-42e1-fe69-a3b02280f45f",
    "scrolled": false
   }
  },
  {
   "cell_type": "code",
   "execution_count": null,
   "source": [],
   "outputs": [],
   "metadata": {
    "colab": {
     "base_uri": "https://localhost:8080/",
     "height": 35
    },
    "colab_type": "code",
    "id": "79TBzFsdpsk4",
    "outputId": "9af134c0-aee3-4394-a188-347978abdd80"
   }
  },
  {
   "cell_type": "code",
   "execution_count": null,
   "source": [],
   "outputs": [],
   "metadata": {
    "colab": {
     "base_uri": "https://localhost:8080/",
     "height": 35
    },
    "colab_type": "code",
    "id": "S82xbyghpsk6",
    "outputId": "e7b2b235-1352-4a9b-95ae-111dec8f65a0",
    "scrolled": true
   }
  },
  {
   "cell_type": "code",
   "execution_count": null,
   "source": [],
   "outputs": [],
   "metadata": {
    "colab": {},
    "colab_type": "code",
    "id": "mvtiwLUWpsk8"
   }
  },
  {
   "cell_type": "markdown",
   "source": [
    "### **Passo 1** - formulação das hipóteses $H_0$ e $H_1$"
   ],
   "metadata": {
    "colab_type": "text",
    "id": "rpLOiPU2psk9"
   }
  },
  {
   "cell_type": "markdown",
   "source": [
    "\n",
    "#### <font color='red'>Lembre-se, a hipótese nula sempre contém a alegação de igualdade</font>"
   ],
   "metadata": {
    "colab_type": "text",
    "id": "iMBi2jUfsc4s"
   }
  },
  {
   "cell_type": "markdown",
   "source": [
    "### $H_0: \\mu \\leq 37$\n",
    "\n",
    "### $H_1: \\mu > 37$"
   ],
   "metadata": {
    "colab_type": "text",
    "id": "8roeH10fpsk-"
   }
  },
  {
   "cell_type": "markdown",
   "source": [
    "---"
   ],
   "metadata": {
    "colab_type": "text",
    "id": "uqE6JXGspsk-"
   }
  },
  {
   "cell_type": "markdown",
   "source": [
    "### **Passo 2** - escolha da distribuição amostral adequada\n",
    "<img src='https://caelum-online-public.s3.amazonaws.com/1229-estatistica-parte3/01/img003.png' width=70%>"
   ],
   "metadata": {
    "colab_type": "text",
    "id": "XsOkFtncpsk_"
   }
  },
  {
   "cell_type": "markdown",
   "source": [
    "### O tamanho da amostra é maior que 30?\n",
    "#### Resp.: Não\n",
    "\n",
    "### Podemos afirmar que a população se distribui aproximadamente como uma normal?\n",
    "#### Resp.: Sim\n",
    "\n",
    "### O desvio padrão populacional é conhecido?\n",
    "#### Resp.: Não"
   ],
   "metadata": {
    "colab_type": "text",
    "id": "jpXjRqO2psk_"
   }
  },
  {
   "cell_type": "markdown",
   "source": [
    "---"
   ],
   "metadata": {
    "colab_type": "text",
    "id": "J14v2aXOpslA"
   }
  },
  {
   "cell_type": "markdown",
   "source": [
    "### **Passo 3** - fixação da significância do teste ($\\alpha$)"
   ],
   "metadata": {
    "colab_type": "text",
    "id": "DQvwhQWnpslA"
   }
  },
  {
   "cell_type": "markdown",
   "source": [
    "https://docs.scipy.org/doc/scipy/reference/generated/scipy.stats.t.html"
   ],
   "metadata": {
    "colab_type": "text",
    "id": "Qaxh6lsapslB"
   }
  },
  {
   "cell_type": "code",
   "execution_count": null,
   "source": [],
   "outputs": [],
   "metadata": {
    "colab": {},
    "colab_type": "code",
    "id": "-WhDZiRopslC"
   }
  },
  {
   "cell_type": "code",
   "execution_count": null,
   "source": [],
   "outputs": [],
   "metadata": {
    "colab": {
     "base_uri": "https://localhost:8080/",
     "height": 173
    },
    "colab_type": "code",
    "id": "12t8QJMzpslD",
    "outputId": "6ff367ac-ceb6-41af-e9f3-364da4170020",
    "scrolled": true
   }
  },
  {
   "cell_type": "markdown",
   "source": [
    "### Obtendo $t_{\\alpha}$"
   ],
   "metadata": {
    "colab_type": "text",
    "id": "Brk3cI1npslE"
   }
  },
  {
   "cell_type": "code",
   "execution_count": null,
   "source": [],
   "outputs": [],
   "metadata": {
    "colab": {
     "base_uri": "https://localhost:8080/",
     "height": 35
    },
    "colab_type": "code",
    "id": "xXi0eYGYpslF",
    "outputId": "7493d623-7775-4dc2-fb5a-39941b6fc277"
   }
  },
  {
   "cell_type": "markdown",
   "source": [
    "![Região de Aceitação](https://caelum-online-public.s3.amazonaws.com/1229-estatistica-parte3/01/img009.png)"
   ],
   "metadata": {
    "colab_type": "text",
    "id": "xMnBzjxLpslH"
   }
  },
  {
   "cell_type": "markdown",
   "source": [
    "---"
   ],
   "metadata": {
    "colab_type": "text",
    "id": "Azy_uNSGpslI"
   }
  },
  {
   "cell_type": "markdown",
   "source": [
    "### **Passo 4** - cálculo da estatística-teste e verificação desse valor com as áreas de aceitação e rejeição do teste\n",
    "\n",
    "# $$t = \\frac{\\bar{x} - \\mu_0}{\\frac{s}{\\sqrt{n}}}$$"
   ],
   "metadata": {
    "colab_type": "text",
    "id": "YN4weG-1pslI"
   }
  },
  {
   "cell_type": "code",
   "execution_count": null,
   "source": [],
   "outputs": [],
   "metadata": {
    "colab": {
     "base_uri": "https://localhost:8080/",
     "height": 35
    },
    "colab_type": "code",
    "id": "qY0DfIffpslI",
    "outputId": "00fd1921-6093-469d-d164-c864eb34b23b"
   }
  },
  {
   "cell_type": "markdown",
   "source": [
    "![Estatística-Teste](https://caelum-online-public.s3.amazonaws.com/1229-estatistica-parte3/01/img010.png)"
   ],
   "metadata": {
    "colab_type": "text",
    "id": "SCIchVxNpslK"
   }
  },
  {
   "cell_type": "markdown",
   "source": [
    "---"
   ],
   "metadata": {
    "colab_type": "text",
    "id": "NiheMfTopslK"
   }
  },
  {
   "cell_type": "markdown",
   "source": [
    "### **Passo 5** - Aceitação ou rejeição da hipótese nula"
   ],
   "metadata": {
    "colab_type": "text",
    "id": "YCsJySBGpslK"
   }
  },
  {
   "cell_type": "markdown",
   "source": [
    "<img src='https://caelum-online-public.s3.amazonaws.com/1229-estatistica-parte3/01/img013.png' width=90%>"
   ],
   "metadata": {
    "colab_type": "text",
    "id": "ioLyTpbWpslL"
   }
  },
  {
   "cell_type": "markdown",
   "source": [
    "### <font color='red'>Critério do valor crítico</font>\n",
    "\n",
    "> ### Teste Unicaudal Superior\n",
    "> ### Rejeitar $H_0$ se $t \\geq t_{\\alpha}$"
   ],
   "metadata": {
    "colab_type": "text",
    "id": "TQcuPzbPpslL"
   }
  },
  {
   "cell_type": "code",
   "execution_count": null,
   "source": [],
   "outputs": [],
   "metadata": {
    "colab": {
     "base_uri": "https://localhost:8080/",
     "height": 35
    },
    "colab_type": "code",
    "id": "pkoDYMLIpslM",
    "outputId": "d1166899-8745-4bf6-fa7c-40b072c1b1ea"
   }
  },
  {
   "cell_type": "markdown",
   "source": [
    "### <font color='green'>Conclusão: Com um nível de confiança de 95% não podemos rejeitar $H_0$, ou seja, a alegação do fabricante é verdadeira.</font>"
   ],
   "metadata": {
    "colab_type": "text",
    "id": "F-_AVTMJpslN"
   }
  },
  {
   "cell_type": "markdown",
   "source": [
    "### <font color='red'>Critério do valor $p$</font>\n",
    "\n",
    "> ### Teste Unicaudal Superior\n",
    "> ### Rejeitar $H_0$ se o valor $p\\leq\\alpha$"
   ],
   "metadata": {
    "colab_type": "text",
    "id": "7ye3tS25pslO"
   }
  },
  {
   "cell_type": "code",
   "execution_count": null,
   "source": [],
   "outputs": [],
   "metadata": {
    "colab": {
     "base_uri": "https://localhost:8080/",
     "height": 35
    },
    "colab_type": "code",
    "id": "AtPMeAz4pslQ",
    "outputId": "c26c8cc5-1244-47ff-8001-c490522ec4c2"
   }
  },
  {
   "cell_type": "code",
   "execution_count": null,
   "source": [],
   "outputs": [],
   "metadata": {
    "colab": {
     "base_uri": "https://localhost:8080/",
     "height": 35
    },
    "colab_type": "code",
    "id": "gevdMX3apslS",
    "outputId": "5e580220-719d-4a83-d63a-f58bc5924b57"
   }
  },
  {
   "cell_type": "code",
   "execution_count": null,
   "source": [],
   "outputs": [],
   "metadata": {
    "colab": {
     "base_uri": "https://localhost:8080/",
     "height": 35
    },
    "colab_type": "code",
    "id": "_hfVEPQQpslU",
    "outputId": "1ccf5f1f-dd1f-4855-b981-f3bb76d1163e"
   }
  },
  {
   "cell_type": "markdown",
   "source": [
    "https://www.statsmodels.org/dev/generated/statsmodels.stats.weightstats.DescrStatsW.html"
   ],
   "metadata": {
    "colab_type": "text",
    "id": "4JxGeADypslW"
   }
  },
  {
   "cell_type": "code",
   "execution_count": null,
   "source": [],
   "outputs": [],
   "metadata": {
    "colab": {},
    "colab_type": "code",
    "id": "Y1gP6yjvpslW"
   }
  },
  {
   "cell_type": "code",
   "execution_count": null,
   "source": [],
   "outputs": [],
   "metadata": {
    "colab": {},
    "colab_type": "code",
    "id": "7V555DeTpslX"
   }
  },
  {
   "cell_type": "code",
   "execution_count": null,
   "source": [],
   "outputs": [],
   "metadata": {
    "colab": {
     "base_uri": "https://localhost:8080/",
     "height": 71
    },
    "colab_type": "code",
    "id": "y36SnhnWpslY",
    "outputId": "96889953-1b37-417b-8588-b0f7f29fc5af"
   }
  },
  {
   "cell_type": "code",
   "execution_count": null,
   "source": [],
   "outputs": [],
   "metadata": {
    "colab": {
     "base_uri": "https://localhost:8080/",
     "height": 35
    },
    "colab_type": "code",
    "id": "CMZcYUyiz0mr",
    "outputId": "c9e81381-094c-444a-8dd9-557865e8c582"
   }
  },
  {
   "cell_type": "markdown",
   "source": [
    "---"
   ],
   "metadata": {
    "colab_type": "text",
    "id": "wlUdcJnDpsla"
   }
  },
  {
   "cell_type": "markdown",
   "source": [
    "## <font color=green>3.4 Testes para Duas Amostras</font>\n",
    "***"
   ],
   "metadata": {
    "colab_type": "text",
    "id": "L7_ZbBBtpslb"
   }
  },
  {
   "cell_type": "markdown",
   "source": [
    "## <font color='red'>Problema</font>"
   ],
   "metadata": {
    "colab_type": "text",
    "id": "lmAJLIu8pslb"
   }
  },
  {
   "cell_type": "markdown",
   "source": [
    "Em nosso dataset temos os rendimento dos chefes de domicílio obtidos da Pesquisa Nacional por Amostra de Domicílios - PNAD no ano de 2015. Um problema bastante conhecido em nosso país diz respeito a desigualdade de renda, principalmente entre homens e mulheres.\n",
    "\n",
    "Duas amostras aleatórias, uma de **500 homens** e outra com **500 mulheres**, foram selecionadas em nosso dataset. Com o objetivo de comprovar tal desigualdade, **teste a igualdade das médias** entre estas duas amostras com um nível de **significância de 1%**."
   ],
   "metadata": {
    "colab_type": "text",
    "id": "0zUUY8klpslc"
   }
  },
  {
   "cell_type": "markdown",
   "source": [
    "---"
   ],
   "metadata": {
    "colab_type": "text",
    "id": "WUknTBZgpslc"
   }
  },
  {
   "cell_type": "markdown",
   "source": [
    "É possível também utilizar testes de hipóteses para comparar duas diferentes amostras. Neste tipo de teste se deseja decidir se uma amostra é diferente da outra."
   ],
   "metadata": {
    "colab_type": "text",
    "id": "gFIUL8Hgpslc"
   }
  },
  {
   "cell_type": "markdown",
   "source": [
    "### Seleção das amostras"
   ],
   "metadata": {
    "colab_type": "text",
    "id": "xzGuwM4xpslc"
   }
  },
  {
   "cell_type": "code",
   "execution_count": null,
   "source": [],
   "outputs": [],
   "metadata": {
    "colab": {},
    "colab_type": "code",
    "id": "nuNSrzfYpsld",
    "scrolled": true
   }
  },
  {
   "cell_type": "code",
   "execution_count": null,
   "source": [],
   "outputs": [],
   "metadata": {
    "colab": {},
    "colab_type": "code",
    "id": "W-W9IOs1psle",
    "scrolled": true
   }
  },
  {
   "cell_type": "markdown",
   "source": [
    "### Dados do problema"
   ],
   "metadata": {
    "colab_type": "text",
    "id": "FOFa-cHwpslg"
   }
  },
  {
   "cell_type": "code",
   "execution_count": null,
   "source": [],
   "outputs": [],
   "metadata": {
    "colab": {
     "base_uri": "https://localhost:8080/",
     "height": 35
    },
    "colab_type": "code",
    "id": "BGyXCbompslh",
    "outputId": "a5e8a9b9-ee69-408f-b8c0-6cac89b36d9a"
   }
  },
  {
   "cell_type": "code",
   "execution_count": null,
   "source": [],
   "outputs": [],
   "metadata": {
    "colab": {
     "base_uri": "https://localhost:8080/",
     "height": 35
    },
    "colab_type": "code",
    "id": "RoxFOCA3pslk",
    "outputId": "85133b37-a4a6-49cd-a585-700725811b09"
   }
  },
  {
   "cell_type": "code",
   "execution_count": null,
   "source": [],
   "outputs": [],
   "metadata": {
    "colab": {
     "base_uri": "https://localhost:8080/",
     "height": 35
    },
    "colab_type": "code",
    "id": "Of8L6Hygpsll",
    "outputId": "fe0dc0f3-79e3-4375-de47-43a4ff6c3f79"
   }
  },
  {
   "cell_type": "code",
   "execution_count": null,
   "source": [],
   "outputs": [],
   "metadata": {
    "colab": {
     "base_uri": "https://localhost:8080/",
     "height": 35
    },
    "colab_type": "code",
    "id": "-cSpXXTepsln",
    "outputId": "8a3d0017-ac70-4fe3-aae1-0c7bf32e676e"
   }
  },
  {
   "cell_type": "code",
   "execution_count": null,
   "source": [],
   "outputs": [],
   "metadata": {
    "colab": {},
    "colab_type": "code",
    "id": "Cl7kdxkUpslo"
   }
  },
  {
   "cell_type": "markdown",
   "source": [
    "---"
   ],
   "metadata": {
    "colab_type": "text",
    "id": "PGoWwWwjpslp"
   }
  },
  {
   "cell_type": "markdown",
   "source": [
    "### **Passo 1** - formulação das hipóteses $H_0$ e $H_1$\n",
    "\n",
    "#### <font color='red'>Lembre-se, a hipótese nula sempre contém a alegação de igualdade</font>"
   ],
   "metadata": {
    "colab_type": "text",
    "id": "tO597Oxgpslp"
   }
  },
  {
   "cell_type": "markdown",
   "source": [
    "### $\\mu_1 \\Rightarrow$ Média das rendas dos chefes de domicílios do sexo masculino\n",
    "### $\\mu_2 \\Rightarrow$ Média das rendas dos chefes de domicílios do sexo feminino\n",
    "\n",
    "### $\n",
    "\\begin{cases}\n",
    "H_0: \\mu_1 \\leq \\mu_2\\\\\n",
    "H_1: \\mu_1 > \\mu_2\n",
    "\\end{cases}\n",
    "$\n",
    "\n",
    "### ou\n",
    "\n",
    "### $\n",
    "\\begin{cases}\n",
    "H_0: \\mu_1 -\\mu_2 \\leq 0\\\\\n",
    "H_1: \\mu_1 -\\mu_2 > 0\n",
    "\\end{cases}\n",
    "$"
   ],
   "metadata": {
    "colab_type": "text",
    "id": "LysVU-7fpslr"
   }
  },
  {
   "cell_type": "markdown",
   "source": [
    "---"
   ],
   "metadata": {
    "colab_type": "text",
    "id": "ENKqbCgQpslr"
   }
  },
  {
   "cell_type": "markdown",
   "source": [
    "### **Passo 2** - escolha da distribuição amostral adequada\n",
    "<img src='https://caelum-online-public.s3.amazonaws.com/1229-estatistica-parte3/01/img003.png' width=70%>\n",
    "\n",
    "### <font color='red'>Observação importante</font>\n",
    "> Em testes que envolvam duas amostras com o emprego da tabela $t$ de Student, o número de graus de liberdade será sempre igual a $n_1 + n_2 - 2$"
   ],
   "metadata": {
    "colab_type": "text",
    "id": "dBA05Y3Zpslr"
   }
  },
  {
   "cell_type": "markdown",
   "source": [
    "### O tamanho da amostra é maior que 30?\n",
    "#### Resp.: Sim\n",
    "\n",
    "### O desvio padrão populacional é conhecido?\n",
    "#### Resp.: Não"
   ],
   "metadata": {
    "colab_type": "text",
    "id": "6_Q_Wtjlpsls"
   }
  },
  {
   "cell_type": "markdown",
   "source": [
    "---"
   ],
   "metadata": {
    "colab_type": "text",
    "id": "T6sVzVjVpsls"
   }
  },
  {
   "cell_type": "markdown",
   "source": [
    "### **Passo 3** - fixação da significância do teste ($\\alpha$)"
   ],
   "metadata": {
    "colab_type": "text",
    "id": "SUN4yJqzpsls"
   }
  },
  {
   "cell_type": "code",
   "execution_count": null,
   "source": [],
   "outputs": [],
   "metadata": {
    "colab": {
     "base_uri": "https://localhost:8080/",
     "height": 35
    },
    "colab_type": "code",
    "id": "b3Y_CZmzpsls",
    "outputId": "bc2e1945-7bb1-4c2c-851a-f0102328ce0e"
   }
  },
  {
   "cell_type": "code",
   "execution_count": null,
   "source": [],
   "outputs": [],
   "metadata": {
    "colab": {
     "base_uri": "https://localhost:8080/",
     "height": 35
    },
    "colab_type": "code",
    "id": "qNse2bFRpslu",
    "outputId": "b03d1db9-17ec-4577-825d-dc81f7aee07b"
   }
  },
  {
   "cell_type": "markdown",
   "source": [
    "![Região de Aceitação](https://caelum-online-public.s3.amazonaws.com/1229-estatistica-parte3/01/img011.png)"
   ],
   "metadata": {
    "colab_type": "text",
    "id": "y9u_zd8Opslv"
   }
  },
  {
   "cell_type": "markdown",
   "source": [
    "---"
   ],
   "metadata": {
    "colab_type": "text",
    "id": "xUhiEXRMpslv"
   }
  },
  {
   "cell_type": "markdown",
   "source": [
    "### **Passo 4** - cálculo da estatística-teste e verificação desse valor com as áreas de aceitação e rejeição do teste\n",
    "\n",
    "# $$z = \\frac{(\\bar{x_1} - \\bar{x_2})-D_0}{\\sqrt{\\frac{s_1^2}{n_1} + \\frac{s_2^2}{n_2}}}$$"
   ],
   "metadata": {
    "colab_type": "text",
    "id": "iooB1aPHpslv"
   }
  },
  {
   "cell_type": "code",
   "execution_count": null,
   "source": [],
   "outputs": [],
   "metadata": {
    "colab": {
     "base_uri": "https://localhost:8080/",
     "height": 35
    },
    "colab_type": "code",
    "id": "AL2i9JOTpslw",
    "outputId": "920efcb1-4b72-4366-9930-52d6e0119549"
   }
  },
  {
   "cell_type": "markdown",
   "source": [
    "![Estatística-Teste](https://caelum-online-public.s3.amazonaws.com/1229-estatistica-parte3/01/img012.png)"
   ],
   "metadata": {
    "colab_type": "text",
    "id": "jXrfHvH5pslx"
   }
  },
  {
   "cell_type": "markdown",
   "source": [
    "---"
   ],
   "metadata": {
    "colab_type": "text",
    "id": "4dn58Fc2pslx"
   }
  },
  {
   "cell_type": "markdown",
   "source": [
    "### **Passo 5** - Aceitação ou rejeição da hipótese nula"
   ],
   "metadata": {
    "colab_type": "text",
    "id": "P-7NL33-pslx"
   }
  },
  {
   "cell_type": "markdown",
   "source": [
    "<img src='https://caelum-online-public.s3.amazonaws.com/1229-estatistica-parte3/01/img014.png' width=90%>"
   ],
   "metadata": {
    "colab_type": "text",
    "id": "n_djxfYtpslx"
   }
  },
  {
   "cell_type": "markdown",
   "source": [
    "### <font color='red'>Critério do valor crítico</font>\n",
    "\n",
    "> ### Teste Unicaudal\n",
    "> ### Rejeitar $H_0$ se $z \\geq z_{\\alpha}$"
   ],
   "metadata": {
    "colab_type": "text",
    "id": "QrObW-BXpsly"
   }
  },
  {
   "cell_type": "code",
   "execution_count": null,
   "source": [],
   "outputs": [],
   "metadata": {
    "colab": {
     "base_uri": "https://localhost:8080/",
     "height": 35
    },
    "colab_type": "code",
    "id": "tkJSji7gpsly",
    "outputId": "8bbaa7f8-311f-4b6e-98f0-6964f510a91d"
   }
  },
  {
   "cell_type": "markdown",
   "source": [
    "### <font color='green'>Conclusão: Com um nível de confiança de 99% rejeitamos $H_0$, isto é, concluímos que a média das rendas dos chefes de domicílios do sexo masculino é maior que a média das rendas das chefes de domicílios do sexo feminino. Confirmando a alegação de desigualdade de renda entre os sexos.</font>"
   ],
   "metadata": {
    "colab_type": "text",
    "id": "UnBVO1uDpslz"
   }
  },
  {
   "cell_type": "markdown",
   "source": [
    "### <font color='red'>Critério do valor $p$</font>\n",
    "\n",
    "> ### Teste Unicaudal\n",
    "> ### Rejeitar $H_0$ se o valor $p\\leq\\alpha$"
   ],
   "metadata": {
    "colab_type": "text",
    "id": "cyuNEHfwpsl0"
   }
  },
  {
   "cell_type": "markdown",
   "source": [
    "https://www.statsmodels.org/dev/generated/statsmodels.stats.weightstats.DescrStatsW.html\n",
    "\n",
    "https://www.statsmodels.org/dev/generated/statsmodels.stats.weightstats.CompareMeans.ttest_ind.html"
   ],
   "metadata": {
    "colab_type": "text",
    "id": "9WgvHygWpsl0"
   }
  },
  {
   "cell_type": "code",
   "execution_count": null,
   "source": [],
   "outputs": [],
   "metadata": {
    "colab": {},
    "colab_type": "code",
    "id": "UkFRl3hTpsl0"
   }
  },
  {
   "cell_type": "code",
   "execution_count": null,
   "source": [],
   "outputs": [],
   "metadata": {
    "colab": {},
    "colab_type": "code",
    "id": "uW0uVFnFpsl1"
   }
  },
  {
   "cell_type": "code",
   "execution_count": null,
   "source": [],
   "outputs": [],
   "metadata": {
    "colab": {},
    "colab_type": "code",
    "id": "kP92TQqupsl1"
   }
  },
  {
   "cell_type": "code",
   "execution_count": null,
   "source": [],
   "outputs": [],
   "metadata": {
    "colab": {},
    "colab_type": "code",
    "id": "diOjg4G8psl2"
   }
  },
  {
   "cell_type": "code",
   "execution_count": null,
   "source": [],
   "outputs": [],
   "metadata": {
    "colab": {
     "base_uri": "https://localhost:8080/",
     "height": 35
    },
    "colab_type": "code",
    "id": "tweh7q_spsl5",
    "outputId": "aa9c3ae3-87b0-466d-908e-c7a7b378c583"
   }
  },
  {
   "cell_type": "code",
   "execution_count": null,
   "source": [],
   "outputs": [],
   "metadata": {
    "colab": {},
    "colab_type": "code",
    "id": "qRkrt2XZhL9v"
   }
  },
  {
   "cell_type": "code",
   "execution_count": null,
   "source": [],
   "outputs": [],
   "metadata": {
    "colab": {
     "base_uri": "https://localhost:8080/",
     "height": 35
    },
    "colab_type": "code",
    "id": "tSbOZem9hLvs",
    "outputId": "c987a7bf-f772-4a01-a4c6-9a3afacf08d3"
   }
  },
  {
   "cell_type": "code",
   "execution_count": null,
   "source": [],
   "outputs": [],
   "metadata": {
    "colab": {
     "base_uri": "https://localhost:8080/",
     "height": 35
    },
    "colab_type": "code",
    "id": "E3NF1BzYpsl6",
    "outputId": "73af41e4-51a9-4e1f-d4c8-0786046c24b2"
   }
  },
  {
   "cell_type": "markdown",
   "source": [
    "---"
   ],
   "metadata": {
    "colab_type": "text",
    "id": "0gxk-t4jpsl8"
   }
  },
  {
   "cell_type": "markdown",
   "source": [
    "# <font color=green>4 TESTES NÃO PARAMÉTRICOS</font>\n",
    "***"
   ],
   "metadata": {
    "colab_type": "text",
    "id": "IEHa9ZC_psl8"
   }
  },
  {
   "cell_type": "markdown",
   "source": [
    "O trabalho com pequenas amostras pode levar a não aceitação da validade do teorema central do limite e também na impossibilidade de fazer suposições sobre a distribuição da variável avaliada. Quando isso ocorre torna-se necessária a aplicação de testes não paramétricos. Nos testes não paramétricos, não fazemos hipóteses sobre a distribuição (de probabilidade) das quais as observações são extraídas."
   ],
   "metadata": {
    "colab_type": "text",
    "id": "8iRwKn9Wpsl8"
   }
  },
  {
   "cell_type": "markdown",
   "source": [
    "## <font color='red'>Problema</font>"
   ],
   "metadata": {
    "colab_type": "text",
    "id": "ngqmtRxFpsl9"
   }
  },
  {
   "cell_type": "markdown",
   "source": [
    "Antes de cada partida do campeonato nacional de futebol, as moedas utilizadas pelos árbitros devem ser verificadas para se ter certeza de que não são viciadas, ou seja, que não tendam para determinado resultado. Para isso um teste simples deve ser realizado antes de cada partida. Este teste consiste em lançar a moeda do jogo **50 vezes** e contar as frequências de **CARAS** e **COROAS** obtidas. A tabela abaixo mostra o resultado obtido no experimento:\n",
    "\n",
    "||CARA|COROA|\n",
    "|-|-|-|\n",
    "|Observado|17|33|\n",
    "|Esperado|25|25|\n",
    "\n",
    "A um **nível de significância de 5%**, é possível afirmar que a moeda não é honesta, isto é, que a moeda apresenta uma probabilidade maior de cair com a face **CARA** voltada para cima?"
   ],
   "metadata": {
    "colab_type": "text",
    "id": "Al0BiC02psl9"
   }
  },
  {
   "cell_type": "markdown",
   "source": [
    "## <font color=green>4.1 Teste do Qui-Quadrado ( $\\chi^2$)</font>\n",
    "***"
   ],
   "metadata": {
    "colab_type": "text",
    "id": "56KA3Hnupsl9"
   }
  },
  {
   "cell_type": "markdown",
   "source": [
    "Também conhecido como teste de adequação ao ajustamento, seu nome se deve ao fato de utilizar uma variável estatística padronizada, representada pela letra grega qui ( $\\chi$) elevada ao quadrado. A tabela com os valores padronizados e como obtê-la podem ser vistos logo abaixo.\n",
    "\n",
    "O teste do $\\chi^2$ testa a hipótese nula de não haver diferença entre as frequências observadas de um determinado evento e as frequências que são realmente esperadas para este evento.\n",
    "\n",
    "Os passos de aplicação do teste são bem parecidos aos vistos para os testes paramétricos.\n",
    "\n",
    "![Região de Aceitação](https://caelum-online-public.s3.amazonaws.com/1229-estatistica-parte3/01/img017.png)"
   ],
   "metadata": {
    "colab_type": "text",
    "id": "GxTlvB4Zpsl9"
   }
  },
  {
   "cell_type": "markdown",
   "source": [
    "### Construindo tabela $\\chi^2$\n",
    "https://docs.scipy.org/doc/scipy/reference/generated/scipy.stats.chi.html"
   ],
   "metadata": {
    "colab_type": "text",
    "id": "1lbHtKGfpsl9"
   }
  },
  {
   "cell_type": "code",
   "execution_count": null,
   "source": [],
   "outputs": [],
   "metadata": {
    "colab": {
     "base_uri": "https://localhost:8080/",
     "height": 1047
    },
    "colab_type": "code",
    "id": "k7sZCK8dpsl-",
    "outputId": "8510db24-6b42-49f2-a36a-8fa2865342b7",
    "scrolled": false
   }
  },
  {
   "cell_type": "markdown",
   "source": [
    "<img src='https://caelum-online-public.s3.amazonaws.com/1229-estatistica-parte3/01/img016.png' width='250px'>\n",
    "\n",
    "Tabela com os valores de $\\chi_p^2$ em função dos graus de liberdade $(n - 1)$ e de $p = P(\\chi^2 \\leq \\chi_p^2)$"
   ],
   "metadata": {
    "colab_type": "text",
    "id": "UkzhYAPDpsl_"
   }
  },
  {
   "cell_type": "markdown",
   "source": [
    "## <font color='red'>Problema</font>"
   ],
   "metadata": {
    "colab_type": "text",
    "id": "cCPOqVFKpsl_"
   }
  },
  {
   "cell_type": "markdown",
   "source": [
    "Antes de cada partida do campeonato nacional de futebol, as moedas utilizadas pelos árbitros devem ser verificadas para se ter certeza de que não são viciadas, ou seja, que não tendam para determinado resultado. Para isso um teste simples deve ser realizado antes de cada partida. Este teste consiste em lançar a moeda do jogo **50 vezes** e contar as frequências de **CARAS** e **COROAS** obtidas. A tabela abaixo mostra o resultado obtido no experimento:\n",
    "\n",
    "||CARA|COROA|\n",
    "|-|-|-|\n",
    "|Observado|17|33|\n",
    "|Esperado|25|25|\n",
    "\n",
    "A um **nível de significância de 5%**, é possível afirmar que a moeda não é honesta, isto é, que a moeda apresenta uma probabilidade maior de cair com a face **CARA** voltada para cima?"
   ],
   "metadata": {
    "colab_type": "text",
    "id": "GTq1wpkbpsl_"
   }
  },
  {
   "cell_type": "markdown",
   "source": [
    "---"
   ],
   "metadata": {
    "colab_type": "text",
    "id": "CSlCI1wUpsl_"
   }
  },
  {
   "cell_type": "markdown",
   "source": [
    "### Dados do problema"
   ],
   "metadata": {
    "colab_type": "text",
    "id": "Op26YDWnpsmA"
   }
  },
  {
   "cell_type": "code",
   "execution_count": null,
   "source": [],
   "outputs": [],
   "metadata": {
    "colab": {},
    "colab_type": "code",
    "id": "p5iOqxk2psmA"
   }
  },
  {
   "cell_type": "markdown",
   "source": [
    "### **Passo 1** - formulação das hipóteses $H_0$ e $H_1$\n",
    "\n",
    "#### <font color='red'>Lembre-se, a hipótese nula sempre contém a alegação de igualdade</font>"
   ],
   "metadata": {
    "colab_type": "text",
    "id": "w6A74pM-psmB"
   }
  },
  {
   "cell_type": "markdown",
   "source": [
    "### $H_0: F_{CARA} = F_{COROA}$\n",
    "\n",
    "### $H_1: F_{CARA} \\neq F_{COROA}$"
   ],
   "metadata": {
    "colab_type": "text",
    "id": "zA4AD5_8psmB"
   }
  },
  {
   "cell_type": "markdown",
   "source": [
    "---"
   ],
   "metadata": {
    "colab_type": "text",
    "id": "rUtuw6_bpsmB"
   }
  },
  {
   "cell_type": "markdown",
   "source": [
    "### **Passo 2** - fixação da significância do teste ($\\alpha$)"
   ],
   "metadata": {
    "colab_type": "text",
    "id": "Zi2oE6ZbpsmB"
   }
  },
  {
   "cell_type": "markdown",
   "source": [
    "https://docs.scipy.org/doc/scipy/reference/generated/scipy.stats.chi.html"
   ],
   "metadata": {
    "colab_type": "text",
    "id": "cCL8Wyy7psmC"
   }
  },
  {
   "cell_type": "code",
   "execution_count": null,
   "source": [],
   "outputs": [],
   "metadata": {
    "colab": {},
    "colab_type": "code",
    "id": "5bF7GEd-psmD"
   }
  },
  {
   "cell_type": "code",
   "execution_count": null,
   "source": [],
   "outputs": [],
   "metadata": {
    "colab": {
     "base_uri": "https://localhost:8080/",
     "height": 210
    },
    "colab_type": "code",
    "id": "WRsJSXxGpsmE",
    "outputId": "106db812-4580-4e1f-e7d3-5070da776d1f",
    "scrolled": true
   }
  },
  {
   "cell_type": "markdown",
   "source": [
    "### Obtendo $\\chi_{\\alpha}^2$"
   ],
   "metadata": {
    "colab_type": "text",
    "id": "0RRjHQm7psmF"
   }
  },
  {
   "cell_type": "code",
   "execution_count": null,
   "source": [],
   "outputs": [],
   "metadata": {
    "colab": {
     "base_uri": "https://localhost:8080/",
     "height": 35
    },
    "colab_type": "code",
    "id": "6rXyih-lpsmH",
    "outputId": "a0445581-6d51-4a7d-f8c1-c5dbaf41c58c"
   }
  },
  {
   "cell_type": "markdown",
   "source": [
    "![Região de Aceitação](https://caelum-online-public.s3.amazonaws.com/1229-estatistica-parte3/01/img018.png)"
   ],
   "metadata": {
    "colab_type": "text",
    "id": "aHxm3ZCupsmJ"
   }
  },
  {
   "cell_type": "markdown",
   "source": [
    "---"
   ],
   "metadata": {
    "colab_type": "text",
    "id": "FxLr2OnDpsmJ"
   }
  },
  {
   "cell_type": "markdown",
   "source": [
    "### **Passo 3** - cálculo da estatística-teste e verificação desse valor com as áreas de aceitação e rejeição do teste\n",
    "\n",
    "# $$\\chi^2 = \\sum_{i=1}^{k}{\\frac{(F_{i}^{Obs} - F_{i}^{Esp})^2}{F_{i}^{Esp}}}$$\n",
    "\n",
    "Onde\n",
    "\n",
    "$F_{i}^{Obs}$ = frequência observada para o evento $i$\n",
    "\n",
    "$F_{i}^{Esp}$ = frequência esperada para o evento $i$\n",
    "\n",
    "$k$ = total de eventos possíveis"
   ],
   "metadata": {
    "colab_type": "text",
    "id": "JcUvBM5OpsmJ"
   }
  },
  {
   "cell_type": "code",
   "execution_count": null,
   "source": [],
   "outputs": [],
   "metadata": {
    "colab": {
     "base_uri": "https://localhost:8080/",
     "height": 35
    },
    "colab_type": "code",
    "id": "2b32Y6HiuT-u",
    "outputId": "785b6961-162e-4672-9a71-2110af6ed3f4"
   }
  },
  {
   "cell_type": "code",
   "execution_count": null,
   "source": [],
   "outputs": [],
   "metadata": {
    "colab": {
     "base_uri": "https://localhost:8080/",
     "height": 35
    },
    "colab_type": "code",
    "id": "7eL97ts8psmJ",
    "outputId": "7667b7de-8e7b-46df-fe08-d84eecac6c83"
   }
  },
  {
   "cell_type": "markdown",
   "source": [
    "![Estatística-Teste](https://caelum-online-public.s3.amazonaws.com/1229-estatistica-parte3/01/img019.png)"
   ],
   "metadata": {
    "colab_type": "text",
    "id": "gdwiYn6ZpsmK"
   }
  },
  {
   "cell_type": "markdown",
   "source": [
    "---"
   ],
   "metadata": {
    "colab_type": "text",
    "id": "7v6msKABpsmK"
   }
  },
  {
   "cell_type": "markdown",
   "source": [
    "### **Passo 4** - Aceitação ou rejeição da hipótese nula"
   ],
   "metadata": {
    "colab_type": "text",
    "id": "PHLhbZ3IpsmK"
   }
  },
  {
   "cell_type": "markdown",
   "source": [
    "<img src='https://caelum-online-public.s3.amazonaws.com/1229-estatistica-parte3/01/img020.png' width=80%>"
   ],
   "metadata": {
    "colab_type": "text",
    "id": "tiQ0gAMGpsmL"
   }
  },
  {
   "cell_type": "markdown",
   "source": [
    "### <font color='red'>Critério do valor crítico</font>\n",
    "\n",
    "> ### Rejeitar $H_0$ se $\\chi_{teste}^2 > \\chi_{\\alpha}^2$"
   ],
   "metadata": {
    "colab_type": "text",
    "id": "lhFLib7-psmM"
   }
  },
  {
   "cell_type": "code",
   "execution_count": null,
   "source": [],
   "outputs": [],
   "metadata": {
    "colab": {
     "base_uri": "https://localhost:8080/",
     "height": 35
    },
    "colab_type": "code",
    "id": "HSOhw7E7psmM",
    "outputId": "1b6ce243-ae51-4497-addd-3e7aae82f4f3"
   }
  },
  {
   "cell_type": "markdown",
   "source": [
    "### <font color='green'>Conclusão: Com um nível de confiança de 95% rejeitamos a hipótese nula ($H_0$) e concluímos que as frequências observadas e esperadas são discrepantes, ou seja, a moeda não é honesta e precisa ser substituída.</font>"
   ],
   "metadata": {
    "colab_type": "text",
    "id": "hvHTGAOepsmN"
   }
  },
  {
   "cell_type": "markdown",
   "source": [
    "### <font color='red'>Critério do valor $p$</font>\n",
    "\n",
    "> ### Rejeitar $H_0$ se o valor $p\\leq\\alpha$"
   ],
   "metadata": {
    "colab_type": "text",
    "id": "VcqxUxnopsmN"
   }
  },
  {
   "cell_type": "code",
   "execution_count": null,
   "source": [],
   "outputs": [],
   "metadata": {
    "colab": {
     "base_uri": "https://localhost:8080/",
     "height": 35
    },
    "colab_type": "code",
    "id": "fP8w-6MZpsmO",
    "outputId": "0cc2f80a-ab46-4485-b7da-f07a9a7085a9"
   }
  },
  {
   "cell_type": "code",
   "execution_count": null,
   "source": [],
   "outputs": [],
   "metadata": {
    "colab": {
     "base_uri": "https://localhost:8080/",
     "height": 35
    },
    "colab_type": "code",
    "id": "LWCqrM2rpsmP",
    "outputId": "9a9ff1a3-5553-40de-9863-ef8d68e03fff"
   }
  },
  {
   "cell_type": "code",
   "execution_count": null,
   "source": [],
   "outputs": [],
   "metadata": {
    "colab": {
     "base_uri": "https://localhost:8080/",
     "height": 35
    },
    "colab_type": "code",
    "id": "uFG6yszWpsmQ",
    "outputId": "c2a489ef-2734-49f1-f96a-3239464d4baf"
   }
  },
  {
   "cell_type": "markdown",
   "source": [
    "https://docs.scipy.org/doc/scipy/reference/generated/scipy.stats.chisquare.html"
   ],
   "metadata": {
    "colab_type": "text",
    "id": "WpvavOAVpsmR"
   }
  },
  {
   "cell_type": "code",
   "execution_count": null,
   "source": [],
   "outputs": [],
   "metadata": {
    "colab": {},
    "colab_type": "code",
    "id": "Jc1RkAn6psmR"
   }
  },
  {
   "cell_type": "code",
   "execution_count": null,
   "source": [],
   "outputs": [],
   "metadata": {
    "colab": {
     "base_uri": "https://localhost:8080/",
     "height": 53
    },
    "colab_type": "code",
    "id": "jjiIlObspsmR",
    "outputId": "33e36135-64d4-4615-d273-0ecb4ed993b4"
   }
  },
  {
   "cell_type": "code",
   "execution_count": null,
   "source": [],
   "outputs": [],
   "metadata": {
    "colab": {
     "base_uri": "https://localhost:8080/",
     "height": 35
    },
    "colab_type": "code",
    "id": "reKBubKWpsmT",
    "outputId": "69394a7b-9acb-4ce2-fea4-f51a05c9b39f"
   }
  },
  {
   "cell_type": "markdown",
   "source": [
    "---"
   ],
   "metadata": {
    "colab_type": "text",
    "id": "WlHU5fNNpsmU"
   }
  },
  {
   "cell_type": "markdown",
   "source": [
    "## <font color='red'>Problema</font>"
   ],
   "metadata": {
    "colab_type": "text",
    "id": "PUXdBJ9FpsmU"
   }
  },
  {
   "cell_type": "markdown",
   "source": [
    "Um novo tratamento para acabar com o hábito de fumar está sendo empregado em um grupo de **35 pacientes** voluntários. De cada paciente testado foram obtidas as informações de quantidades de cigarros consumidos por dia antes e depois do término do tratamento. Assumindo um **nível de confiança de 95%** é possível concluir que, depois da aplicação do novo tratamento, houve uma mudança no hábito de fumar do grupo de pacientes testado?"
   ],
   "metadata": {
    "colab_type": "text",
    "id": "DXvJ2JnKpsmU"
   }
  },
  {
   "cell_type": "markdown",
   "source": [
    "## <font color=green>4.2 Teste Wilcoxon</font>\n",
    "### Comparação de duas populações - amostras dependentes\n",
    "***"
   ],
   "metadata": {
    "colab_type": "text",
    "id": "BqE_PN7IpsmU"
   }
  },
  {
   "cell_type": "markdown",
   "source": [
    "Empregado quando se deseja comparar duas amostras relacionadas, amostras emparelhadas. Pode ser aplicado quando se deseja testar a diferença de duas condições, isto é, quando um mesmo elemento é submetido a duas medidas."
   ],
   "metadata": {
    "colab_type": "text",
    "id": "1MxFBYB-psmU"
   }
  },
  {
   "cell_type": "markdown",
   "source": [
    "### Dados do problema"
   ],
   "metadata": {
    "colab_type": "text",
    "id": "3H67Y7P7psmV"
   }
  },
  {
   "cell_type": "code",
   "execution_count": null,
   "source": [],
   "outputs": [],
   "metadata": {
    "colab": {},
    "colab_type": "code",
    "id": "JBh5-HrnpsmV"
   }
  },
  {
   "cell_type": "code",
   "execution_count": null,
   "source": [],
   "outputs": [],
   "metadata": {
    "colab": {
     "base_uri": "https://localhost:8080/",
     "height": 204
    },
    "colab_type": "code",
    "id": "AfEGWBp1psmW",
    "outputId": "b68e51d1-b307-432f-8658-4642285f3725",
    "scrolled": true
   }
  },
  {
   "cell_type": "code",
   "execution_count": null,
   "source": [],
   "outputs": [],
   "metadata": {
    "colab": {
     "base_uri": "https://localhost:8080/",
     "height": 35
    },
    "colab_type": "code",
    "id": "oNQvLLR8psmX",
    "outputId": "434a1498-67cb-47fd-b87a-f68bd05a923d"
   }
  },
  {
   "cell_type": "code",
   "execution_count": null,
   "source": [],
   "outputs": [],
   "metadata": {
    "colab": {
     "base_uri": "https://localhost:8080/",
     "height": 35
    },
    "colab_type": "code",
    "id": "wOgIYP0upsmZ",
    "outputId": "926b067c-2ea2-407b-edba-c57075fa5c94"
   }
  },
  {
   "cell_type": "markdown",
   "source": [
    "### **Passo 1** - formulação das hipóteses $H_0$ e $H_1$\n",
    "\n",
    "#### <font color='red'>Lembre-se, a hipótese nula sempre contém a alegação de igualdade</font>"
   ],
   "metadata": {
    "colab_type": "text",
    "id": "gvnOmelVpsma"
   }
  },
  {
   "cell_type": "markdown",
   "source": [
    "### $H_0: \\mu_{antes} = \\mu_{depois}$\n",
    "\n",
    "### $H_1: \\mu_{antes} > \\mu_{depois}$"
   ],
   "metadata": {
    "colab_type": "text",
    "id": "1AXOiD_epsma"
   }
  },
  {
   "cell_type": "markdown",
   "source": [
    "---"
   ],
   "metadata": {
    "colab_type": "text",
    "id": "degUD6b2psmb"
   }
  },
  {
   "cell_type": "markdown",
   "source": [
    "### **Passo 2** - escolha da distribuição amostral adequada"
   ],
   "metadata": {
    "colab_type": "text",
    "id": "3jrV_c2Opsmb"
   }
  },
  {
   "cell_type": "markdown",
   "source": [
    "### O tamanho da amostra é maior que 20?\n",
    "#### Resp.: Sim"
   ],
   "metadata": {
    "colab_type": "text",
    "id": "vF-9xAPzpsmc"
   }
  },
  {
   "cell_type": "markdown",
   "source": [
    "---"
   ],
   "metadata": {
    "colab_type": "text",
    "id": "tvxXutrGpsmc"
   }
  },
  {
   "cell_type": "markdown",
   "source": [
    "### **Passo 3** - fixação da significância do teste ($\\alpha$)"
   ],
   "metadata": {
    "colab_type": "text",
    "id": "aihd76Wkpsmc"
   }
  },
  {
   "cell_type": "markdown",
   "source": [
    "### Obtendo $z_{\\alpha/2}$"
   ],
   "metadata": {
    "colab_type": "text",
    "id": "XF6AA8qLpsmc"
   }
  },
  {
   "cell_type": "code",
   "execution_count": null,
   "source": [],
   "outputs": [],
   "metadata": {
    "colab": {
     "base_uri": "https://localhost:8080/",
     "height": 35
    },
    "colab_type": "code",
    "id": "UsRrnCnXpsmd",
    "outputId": "969dfd46-755b-496b-b84a-1d3e9d565ed2"
   }
  },
  {
   "cell_type": "code",
   "execution_count": null,
   "source": [],
   "outputs": [],
   "metadata": {
    "colab": {
     "base_uri": "https://localhost:8080/",
     "height": 35
    },
    "colab_type": "code",
    "id": "PTmwCAq9psme",
    "outputId": "a7cf10d8-f3c7-40cf-c2f4-9fef0ac65f26"
   }
  },
  {
   "cell_type": "markdown",
   "source": [
    "![Região de Aceitação](https://caelum-online-public.s3.amazonaws.com/1229-estatistica-parte3/01/img006.png)"
   ],
   "metadata": {
    "colab_type": "text",
    "id": "S2dqQHQJpsmf"
   }
  },
  {
   "cell_type": "markdown",
   "source": [
    "---"
   ],
   "metadata": {
    "colab_type": "text",
    "id": "z0iEZ685psmf"
   }
  },
  {
   "cell_type": "markdown",
   "source": [
    "### **Passo 4** - cálculo da estatística-teste e verificação desse valor com as áreas de aceitação e rejeição do teste\n",
    "\n",
    "# $$Z = \\frac{T - \\mu_T}{\\sigma_T}$$\n",
    "\n",
    "Onde\n",
    "\n",
    "## $T$ = menor das somas de postos de mesmo sinal\n",
    "\n",
    "# $$\\mu_T = \\frac{n(n+1)}{4}$$\n",
    "# $$\\sigma_T = \\sqrt{\\frac{n(n + 1)(2n + 1)}{24}}$$"
   ],
   "metadata": {
    "colab_type": "text",
    "id": "zpYLf-dZpsmg"
   }
  },
  {
   "cell_type": "markdown",
   "source": [
    "### Construindo a tabela com os postos"
   ],
   "metadata": {
    "colab_type": "text",
    "id": "ZTY9IuIIpsmg"
   }
  },
  {
   "cell_type": "code",
   "execution_count": null,
   "source": [],
   "outputs": [],
   "metadata": {
    "colab": {
     "base_uri": "https://localhost:8080/",
     "height": 1134
    },
    "colab_type": "code",
    "id": "o0fp6m3iqIlu",
    "outputId": "af1f1a0d-c2e7-478c-b637-71a520cc9a2c"
   }
  },
  {
   "cell_type": "code",
   "execution_count": null,
   "source": [],
   "outputs": [],
   "metadata": {
    "colab": {
     "base_uri": "https://localhost:8080/",
     "height": 1134
    },
    "colab_type": "code",
    "id": "T4KmZijZotWj",
    "outputId": "97779ef9-8387-43d3-c41a-76b01cc7d52c"
   }
  },
  {
   "cell_type": "code",
   "execution_count": null,
   "source": [],
   "outputs": [],
   "metadata": {
    "colab": {
     "base_uri": "https://localhost:8080/",
     "height": 1134
    },
    "colab_type": "code",
    "id": "c4fvYVrdotTL",
    "outputId": "a0da369c-d29f-40c1-e8e6-ff715c14e3e3"
   }
  },
  {
   "cell_type": "code",
   "execution_count": null,
   "source": [],
   "outputs": [],
   "metadata": {
    "colab": {
     "base_uri": "https://localhost:8080/",
     "height": 1134
    },
    "colab_type": "code",
    "id": "hwqK3Uu7otP7",
    "outputId": "dd57a7c5-e2f2-45af-fea1-8c9e765123ec"
   }
  },
  {
   "cell_type": "code",
   "execution_count": null,
   "source": [],
   "outputs": [],
   "metadata": {
    "colab": {
     "base_uri": "https://localhost:8080/",
     "height": 1134
    },
    "colab_type": "code",
    "id": "K_JKSwLHotMx",
    "outputId": "51594adf-1a5c-4d51-aad3-ed49e4c1e018"
   }
  },
  {
   "cell_type": "code",
   "execution_count": null,
   "source": [],
   "outputs": [],
   "metadata": {
    "colab": {
     "base_uri": "https://localhost:8080/",
     "height": 824
    },
    "colab_type": "code",
    "id": "h8TXHLh1otJh",
    "outputId": "dce72dc9-b1d1-435a-aa09-6b83648a5727"
   }
  },
  {
   "cell_type": "code",
   "execution_count": null,
   "source": [],
   "outputs": [],
   "metadata": {
    "colab": {
     "base_uri": "https://localhost:8080/",
     "height": 793
    },
    "colab_type": "code",
    "id": "fjX9_aRIotGD",
    "outputId": "a7f0ffc7-4e83-4d09-fca1-4a51302c284b"
   }
  },
  {
   "cell_type": "code",
   "execution_count": null,
   "source": [],
   "outputs": [],
   "metadata": {
    "colab": {
     "base_uri": "https://localhost:8080/",
     "height": 1134
    },
    "colab_type": "code",
    "id": "uk79v15dotCn",
    "outputId": "fbb9268a-81df-4d32-b97a-832aaba86269"
   }
  },
  {
   "cell_type": "code",
   "execution_count": null,
   "source": [],
   "outputs": [],
   "metadata": {
    "colab": {
     "base_uri": "https://localhost:8080/",
     "height": 1134
    },
    "colab_type": "code",
    "id": "qCdc7pGgos_T",
    "outputId": "9f19bd63-827d-40a8-f171-af9665b2df94"
   }
  },
  {
   "cell_type": "code",
   "execution_count": null,
   "source": [],
   "outputs": [],
   "metadata": {
    "colab": {
     "base_uri": "https://localhost:8080/",
     "height": 1134
    },
    "colab_type": "code",
    "id": "R2Nyk4E_os77",
    "outputId": "e22a2377-88b8-4b5b-e901-ddd8b04cab75"
   }
  },
  {
   "cell_type": "code",
   "execution_count": null,
   "source": [],
   "outputs": [],
   "metadata": {
    "colab": {
     "base_uri": "https://localhost:8080/",
     "height": 1134
    },
    "colab_type": "code",
    "id": "PoL2W6c7os4d",
    "outputId": "8d786d84-776b-4e77-b3a9-b783ed1799dd"
   }
  },
  {
   "cell_type": "code",
   "execution_count": null,
   "source": [],
   "outputs": [],
   "metadata": {
    "colab": {
     "base_uri": "https://localhost:8080/",
     "height": 1134
    },
    "colab_type": "code",
    "id": "kIu3BKAwos0z",
    "outputId": "df603288-73fc-482a-d4ea-4cd050b93a03"
   }
  },
  {
   "cell_type": "markdown",
   "source": [
    "### Obter $T$\n",
    "\n",
    "## $T$ = menor das somas de postos de mesmo sinal"
   ],
   "metadata": {
    "colab_type": "text",
    "id": "QrhSJfAipsmh"
   }
  },
  {
   "cell_type": "code",
   "execution_count": null,
   "source": [],
   "outputs": [],
   "metadata": {
    "colab": {
     "base_uri": "https://localhost:8080/",
     "height": 35
    },
    "colab_type": "code",
    "id": "TTWy-3OQpsmh",
    "outputId": "041d1650-b553-4f7c-f4ce-03284c9f445e"
   }
  },
  {
   "cell_type": "markdown",
   "source": [
    "### Obter $\\mu_T$\n",
    "\n",
    "# $$\\mu_T = \\frac{n(n+1)}{4}$$\n"
   ],
   "metadata": {
    "colab_type": "text",
    "id": "3y4Tn1y4psmi"
   }
  },
  {
   "cell_type": "code",
   "execution_count": null,
   "source": [],
   "outputs": [],
   "metadata": {
    "colab": {
     "base_uri": "https://localhost:8080/",
     "height": 35
    },
    "colab_type": "code",
    "id": "0KhV5ph6psmi",
    "outputId": "d5a49227-aefe-4ab2-8f96-1575e4d00a68"
   }
  },
  {
   "cell_type": "markdown",
   "source": [
    "### Obter $\\sigma_T$\n",
    "\n",
    "# $$\\sigma_T = \\sqrt{\\frac{n(n + 1)(2n + 1)}{24}}$$"
   ],
   "metadata": {
    "colab_type": "text",
    "id": "ZqFb-m08psmj"
   }
  },
  {
   "cell_type": "code",
   "execution_count": null,
   "source": [],
   "outputs": [],
   "metadata": {
    "colab": {
     "base_uri": "https://localhost:8080/",
     "height": 35
    },
    "colab_type": "code",
    "id": "c6dypGFSpsmj",
    "outputId": "a56e71d7-cec3-4529-f266-b82315fa8766"
   }
  },
  {
   "cell_type": "markdown",
   "source": [
    "### Obter $Z_{teste}$\n",
    "\n",
    "# $$Z = \\frac{T - \\mu_T}{\\sigma_T}$$"
   ],
   "metadata": {
    "colab_type": "text",
    "id": "qEk2CUKApsmk"
   }
  },
  {
   "cell_type": "code",
   "execution_count": null,
   "source": [],
   "outputs": [],
   "metadata": {
    "colab": {
     "base_uri": "https://localhost:8080/",
     "height": 35
    },
    "colab_type": "code",
    "id": "KqPQgbBEpsmk",
    "outputId": "fc02c944-b662-4539-a4c4-e91f746358f3"
   }
  },
  {
   "cell_type": "markdown",
   "source": [
    "![Estatística-Teste](https://caelum-online-public.s3.amazonaws.com/1229-estatistica-parte3/01/img021.png)"
   ],
   "metadata": {
    "colab_type": "text",
    "id": "iMpU26IZpsmm"
   }
  },
  {
   "cell_type": "markdown",
   "source": [
    "---"
   ],
   "metadata": {
    "colab_type": "text",
    "id": "XFgoaLzSpsmm"
   }
  },
  {
   "cell_type": "markdown",
   "source": [
    "### **Passo 5** - Aceitação ou rejeição da hipótese nula"
   ],
   "metadata": {
    "colab_type": "text",
    "id": "YYGhG-lSpsmm"
   }
  },
  {
   "cell_type": "markdown",
   "source": [
    "<img src='https://caelum-online-public.s3.amazonaws.com/1229-estatistica-parte3/01/img022.png' width='80%'>"
   ],
   "metadata": {
    "colab_type": "text",
    "id": "pDOdx-Vqpsmm"
   }
  },
  {
   "cell_type": "markdown",
   "source": [
    "### <font color='red'>Critério do valor crítico</font>\n",
    "\n",
    "> ### Rejeitar $H_0$ se $Z \\leq -z_{\\alpha / 2}$ ou se $Z \\geq z_{\\alpha / 2}$"
   ],
   "metadata": {
    "colab_type": "text",
    "id": "ODKOD-rkpsmm"
   }
  },
  {
   "cell_type": "code",
   "execution_count": null,
   "source": [],
   "outputs": [],
   "metadata": {
    "colab": {
     "base_uri": "https://localhost:8080/",
     "height": 35
    },
    "colab_type": "code",
    "id": "Gmp8dB6Apsmm",
    "outputId": "8311f709-2b10-477c-8410-93d6efbde833"
   }
  },
  {
   "cell_type": "code",
   "execution_count": null,
   "source": [],
   "outputs": [],
   "metadata": {
    "colab": {
     "base_uri": "https://localhost:8080/",
     "height": 35
    },
    "colab_type": "code",
    "id": "E9jxoexkpsmn",
    "outputId": "57165249-f63d-411c-ff87-d25e1e9ee401"
   }
  },
  {
   "cell_type": "markdown",
   "source": [
    "### <font color='green'>Conclusão: Rejeitamos a hipótese de que não existe diferença entre os grupos, isto é, existe uma diferença entre as médias de cigarros fumados pelos pacientes antes e depois do tratamento. E como é possível verificar através das médias de cigarros fumados por dia antes (31.86) e depois (11.2) do tratamento, podemos concluir que o tratamento apresentou resultado satisfatório.</font>"
   ],
   "metadata": {
    "colab_type": "text",
    "id": "n0gtzn53psmo"
   }
  },
  {
   "cell_type": "markdown",
   "source": [
    "### <font color='red'>Critério do valor $p$</font>\n",
    "\n",
    "> ### Rejeitar $H_0$ se o valor $p\\leq\\alpha$"
   ],
   "metadata": {
    "colab_type": "text",
    "id": "8bP36mQ-psmp"
   }
  },
  {
   "cell_type": "markdown",
   "source": [
    "https://docs.scipy.org/doc/scipy/reference/generated/scipy.stats.wilcoxon.html"
   ],
   "metadata": {
    "colab_type": "text",
    "id": "H8kFeqh1psmp"
   }
  },
  {
   "cell_type": "code",
   "execution_count": null,
   "source": [],
   "outputs": [],
   "metadata": {
    "colab": {},
    "colab_type": "code",
    "id": "bgWrxnBmpsmp"
   }
  },
  {
   "cell_type": "code",
   "execution_count": null,
   "source": [],
   "outputs": [],
   "metadata": {
    "colab": {
     "base_uri": "https://localhost:8080/",
     "height": 53
    },
    "colab_type": "code",
    "id": "PsdWRoHCpsmp",
    "outputId": "c3ccd57c-5423-4d5d-b136-b84b8d627a7b"
   }
  },
  {
   "cell_type": "code",
   "execution_count": null,
   "source": [],
   "outputs": [],
   "metadata": {
    "colab": {
     "base_uri": "https://localhost:8080/",
     "height": 35
    },
    "colab_type": "code",
    "id": "Qk13I21vpsmq",
    "outputId": "f111c5d0-c448-40d3-f4ee-f39e7b3a3dc3",
    "scrolled": true
   }
  },
  {
   "cell_type": "markdown",
   "source": [
    "---"
   ],
   "metadata": {
    "colab_type": "text",
    "id": "ZGNui18Xpsms"
   }
  },
  {
   "cell_type": "markdown",
   "source": [
    "## <font color='red'>Problema</font>"
   ],
   "metadata": {
    "colab_type": "text",
    "id": "sIs_74V5psms"
   }
  },
  {
   "cell_type": "markdown",
   "source": [
    "Em nosso dataset temos os rendimento dos chefes de domicílio obtidos da Pesquisa Nacional por Amostra de Domicílios - PNAD no ano de 2015. Um problema bastante conhecido em nosso país diz respeito a desigualdade de renda, principalmente entre homens e mulheres.\n",
    "\n",
    "Duas amostras aleatórias, uma de **6 homens** e outra com **8 mulheres**, foram selecionadas em nosso dataset. Com o objetivo de comprovar tal desigualdade **teste a igualdade das médias** entra estas duas amostras com um nível de **significância de 5%**."
   ],
   "metadata": {
    "colab_type": "text",
    "id": "Rk4GknKUpsms"
   }
  },
  {
   "cell_type": "markdown",
   "source": [
    "## <font color=green>4.3 Teste de Mann-Whitney</font>\n",
    "### Comparação de duas populações - amostras independentes\n",
    "***"
   ],
   "metadata": {
    "colab_type": "text",
    "id": "iHBuQumppsmt"
   }
  },
  {
   "cell_type": "markdown",
   "source": [
    "Mann-Whitney é um teste não paramétrico utilizado para verificar se duas amostras independentes foram selecionadas a partir de populações que têm a mesma média. Por ser um teste não paramétrico, Mann-Whitney torna-se uma alternativa ao teste paramétrico de comparação de médias."
   ],
   "metadata": {
    "colab_type": "text",
    "id": "bDyY8UUPpsmt"
   }
  },
  {
   "cell_type": "markdown",
   "source": [
    "### Seleção das amostras"
   ],
   "metadata": {
    "colab_type": "text",
    "id": "DjWTAICFpsmt"
   }
  },
  {
   "cell_type": "code",
   "execution_count": null,
   "source": [],
   "outputs": [],
   "metadata": {
    "colab": {},
    "colab_type": "code",
    "id": "k_MCXHjIpsmt",
    "scrolled": true
   }
  },
  {
   "cell_type": "code",
   "execution_count": null,
   "source": [],
   "outputs": [],
   "metadata": {
    "colab": {},
    "colab_type": "code",
    "id": "whXUtsKLpsmu",
    "scrolled": true
   }
  },
  {
   "cell_type": "markdown",
   "source": [
    "### Dados do problema"
   ],
   "metadata": {
    "colab_type": "text",
    "id": "HvQY_Wwjpsmx"
   }
  },
  {
   "cell_type": "code",
   "execution_count": null,
   "source": [],
   "outputs": [],
   "metadata": {
    "colab": {
     "base_uri": "https://localhost:8080/",
     "height": 35
    },
    "colab_type": "code",
    "id": "3fz8oLQspsmx",
    "outputId": "31950658-033a-4680-f5fc-bd92ac3a6944"
   }
  },
  {
   "cell_type": "code",
   "execution_count": null,
   "source": [],
   "outputs": [],
   "metadata": {
    "colab": {
     "base_uri": "https://localhost:8080/",
     "height": 35
    },
    "colab_type": "code",
    "id": "qJa9ykpJpsmz",
    "outputId": "bcf47695-839d-49f9-8f88-8acd94d0e6a4"
   }
  },
  {
   "cell_type": "code",
   "execution_count": null,
   "source": [],
   "outputs": [],
   "metadata": {
    "colab": {},
    "colab_type": "code",
    "id": "9_cFuYzJpsm1"
   }
  },
  {
   "cell_type": "markdown",
   "source": [
    "### **Passo 1** - formulação das hipóteses $H_0$ e $H_1$\n",
    "\n",
    "#### <font color='red'>Lembre-se, a hipótese nula sempre contém a alegação de igualdade</font>"
   ],
   "metadata": {
    "colab_type": "text",
    "id": "rnHNRcb5psm1"
   }
  },
  {
   "cell_type": "markdown",
   "source": [
    "### $\\mu_m \\Rightarrow$ Média das rendas dos chefes de domicílios do sexo feminino\n",
    "### $\\mu_h \\Rightarrow$ Média das rendas dos chefes de domicílios do sexo masculino\n",
    "\n",
    "### $\n",
    "\\begin{cases}\n",
    "H_0: \\mu_m = \\mu_h\\\\\n",
    "H_1: \\mu_m < \\mu_h\n",
    "\\end{cases}\n",
    "$"
   ],
   "metadata": {
    "colab_type": "text",
    "id": "F-q66nqDpsm2"
   }
  },
  {
   "cell_type": "markdown",
   "source": [
    "---"
   ],
   "metadata": {
    "colab_type": "text",
    "id": "-A8XaMDnpsm3"
   }
  },
  {
   "cell_type": "markdown",
   "source": [
    "### **Passo 2** - escolha da distribuição amostral adequada"
   ],
   "metadata": {
    "colab_type": "text",
    "id": "VhpHwyi3psm3"
   }
  },
  {
   "cell_type": "markdown",
   "source": [
    "Deve-se optar pela distribuição **$t$ de Student**, já que nada é mencionado sobre a distribuição da população, o desvio padrão populacional é desconhecido e o número de elementos investigados é menor que 30."
   ],
   "metadata": {
    "colab_type": "text",
    "id": "hh2UhSRApsm4"
   }
  },
  {
   "cell_type": "markdown",
   "source": [
    "---"
   ],
   "metadata": {
    "colab_type": "text",
    "id": "PP_3zdrWpsm4"
   }
  },
  {
   "cell_type": "markdown",
   "source": [
    "### **Passo 3** - fixação da significância do teste ($\\alpha$)"
   ],
   "metadata": {
    "colab_type": "text",
    "id": "RALoS1ddpsm4"
   }
  },
  {
   "cell_type": "markdown",
   "source": [
    "### Obtendo $t_{\\alpha}$"
   ],
   "metadata": {
    "colab_type": "text",
    "id": "0Ohhw-i5psm4"
   }
  },
  {
   "cell_type": "code",
   "execution_count": null,
   "source": [],
   "outputs": [],
   "metadata": {
    "colab": {
     "base_uri": "https://localhost:8080/",
     "height": 35
    },
    "colab_type": "code",
    "id": "oVNraTWypsm4",
    "outputId": "482aaf15-036b-4b5d-97eb-f3ee684dfbd9"
   }
  },
  {
   "cell_type": "code",
   "execution_count": null,
   "source": [],
   "outputs": [],
   "metadata": {
    "colab": {
     "base_uri": "https://localhost:8080/",
     "height": 173
    },
    "colab_type": "code",
    "id": "px40muD3psm6",
    "outputId": "aa84c7cb-6c3a-475a-ae1f-8e772e1bcb50",
    "scrolled": true
   }
  },
  {
   "cell_type": "code",
   "execution_count": null,
   "source": [],
   "outputs": [],
   "metadata": {
    "colab": {
     "base_uri": "https://localhost:8080/",
     "height": 35
    },
    "colab_type": "code",
    "id": "5iCApoGNpsm7",
    "outputId": "81069b99-1cb8-4916-c587-2ff0be1f0ffc"
   }
  },
  {
   "cell_type": "markdown",
   "source": [
    "![Região de Aceitação](https://caelum-online-public.s3.amazonaws.com/1229-estatistica-parte3/01/img023.png)"
   ],
   "metadata": {
    "colab_type": "text",
    "id": "Hv5Wk8G0psm7"
   }
  },
  {
   "cell_type": "markdown",
   "source": [
    "---"
   ],
   "metadata": {
    "colab_type": "text",
    "id": "qF2QVjmtpsm7"
   }
  },
  {
   "cell_type": "markdown",
   "source": [
    "### **Passo 4** - cálculo da estatística-teste e verificação desse valor com as áreas de aceitação e rejeição do teste\n",
    "## 1. Definir os n's:\n",
    "### $n_1$ = nº de elementos do menor grupo\n",
    "### $n_2$ = nº de elementos do maior grupo\n",
    "---\n",
    "## 2. Obter a soma dos postos\n",
    "### $R_1$ = soma dos postos do grupo $n_1$\n",
    "### $R_2$ = soma dos postos do grupo $n_2$\n",
    "---\n",
    "## 3. Obter as estatísticas\n",
    "# $$u_1 = n_1 \\times n_2 + \\frac{n_1 \\times (n_1 + 1)}{2} - R_1$$\n",
    "# $$u_2 = n_1 \\times n_2 + \\frac{n_2 \\times (n_2 + 1)}{2} - R_2$$\n",
    "---\n",
    "## 4. Selecionar o menor U\n",
    "# $$u = min(u_1, u_2)$$\n",
    "---\n",
    "## 5. Obter a estatística de teste\n",
    "# $$Z = \\frac{u - \\mu{(u)}}{\\sigma{(u)}}$$\n",
    "\n",
    "Onde\n",
    "\n",
    "# $$\\mu{(u)} = \\frac{n_1 \\times n_2}{2}$$\n",
    "# $$\\sigma{(u)} = \\sqrt{\\frac{n_1 \\times n_2 \\times (n_1 + n_2 + 1)}{12}}$$"
   ],
   "metadata": {
    "colab_type": "text",
    "id": "mD62Ibrupsm8"
   }
  },
  {
   "cell_type": "markdown",
   "source": [
    "### Obtendo os postos"
   ],
   "metadata": {
    "colab_type": "text",
    "id": "DsVNwKjOpsm8"
   }
  },
  {
   "cell_type": "code",
   "execution_count": null,
   "source": [],
   "outputs": [],
   "metadata": {
    "colab": {
     "base_uri": "https://localhost:8080/",
     "height": 235
    },
    "colab_type": "code",
    "id": "mjUNCgykpsm8",
    "outputId": "5ae66e10-27e2-4e85-8176-639e722b252a"
   }
  },
  {
   "cell_type": "code",
   "execution_count": null,
   "source": [],
   "outputs": [],
   "metadata": {
    "colab": {
     "base_uri": "https://localhost:8080/",
     "height": 297
    },
    "colab_type": "code",
    "id": "y68IGk4o8mgB",
    "outputId": "fb50478e-9fd0-428c-c9fc-41f535c1833a"
   }
  },
  {
   "cell_type": "code",
   "execution_count": null,
   "source": [],
   "outputs": [],
   "metadata": {
    "colab": {
     "base_uri": "https://localhost:8080/",
     "height": 483
    },
    "colab_type": "code",
    "id": "HFVjaj4f8mOi",
    "outputId": "bb530bd2-103b-450b-bb6b-89e63b30600c"
   }
  },
  {
   "cell_type": "code",
   "execution_count": null,
   "source": [],
   "outputs": [],
   "metadata": {
    "colab": {
     "base_uri": "https://localhost:8080/",
     "height": 483
    },
    "colab_type": "code",
    "id": "cpN2H9kFpsm-",
    "outputId": "df9d00a6-1b43-4cf2-d385-628e07257b85"
   }
  },
  {
   "cell_type": "code",
   "execution_count": null,
   "source": [],
   "outputs": [],
   "metadata": {
    "colab": {
     "base_uri": "https://localhost:8080/",
     "height": 483
    },
    "colab_type": "code",
    "id": "YCT6KsRS8-by",
    "outputId": "1d8ccd68-e703-4407-d866-34a2710c9225"
   }
  },
  {
   "cell_type": "code",
   "execution_count": null,
   "source": [],
   "outputs": [],
   "metadata": {
    "colab": {
     "base_uri": "https://localhost:8080/",
     "height": 390
    },
    "colab_type": "code",
    "id": "tEuMTSSU8-OE",
    "outputId": "9ea51224-027b-4965-cda7-3bd39b6fcf87"
   }
  },
  {
   "cell_type": "code",
   "execution_count": null,
   "source": [],
   "outputs": [],
   "metadata": {
    "colab": {
     "base_uri": "https://localhost:8080/",
     "height": 359
    },
    "colab_type": "code",
    "id": "S9rtsrl88-LB",
    "outputId": "e290c591-eba0-4b21-a7c6-ecdde437e55b"
   }
  },
  {
   "cell_type": "code",
   "execution_count": null,
   "source": [],
   "outputs": [],
   "metadata": {
    "colab": {
     "base_uri": "https://localhost:8080/",
     "height": 483
    },
    "colab_type": "code",
    "id": "w0sqa3j-8-H6",
    "outputId": "1baf2916-d014-4f4b-bea3-d339c0b0f260"
   }
  },
  {
   "cell_type": "code",
   "execution_count": null,
   "source": [],
   "outputs": [],
   "metadata": {
    "colab": {
     "base_uri": "https://localhost:8080/",
     "height": 483
    },
    "colab_type": "code",
    "id": "K4Qn49E78-Ed",
    "outputId": "18af1b0d-fe62-4fe1-845a-3c9aae4088cd"
   }
  },
  {
   "cell_type": "markdown",
   "source": [
    "### Obtendo $R$\n",
    "\n",
    "### $R_1$ = soma dos postos do grupo $n_1$\n",
    "### $R_2$ = soma dos postos do grupo $n_2$"
   ],
   "metadata": {
    "colab_type": "text",
    "id": "LFcpe4l_psm-"
   }
  },
  {
   "cell_type": "code",
   "execution_count": null,
   "source": [],
   "outputs": [],
   "metadata": {
    "colab": {
     "base_uri": "https://localhost:8080/",
     "height": 142
    },
    "colab_type": "code",
    "id": "Y3OnPJ7_psm_",
    "outputId": "ebe69922-0f58-4815-c278-200fcb0df5dd"
   }
  },
  {
   "cell_type": "code",
   "execution_count": null,
   "source": [],
   "outputs": [],
   "metadata": {
    "colab": {
     "base_uri": "https://localhost:8080/",
     "height": 35
    },
    "colab_type": "code",
    "id": "mkbp_OgepsnA",
    "outputId": "a42040ac-fd12-49bb-8afa-95038d18d05f"
   }
  },
  {
   "cell_type": "code",
   "execution_count": null,
   "source": [],
   "outputs": [],
   "metadata": {
    "colab": {
     "base_uri": "https://localhost:8080/",
     "height": 35
    },
    "colab_type": "code",
    "id": "zZuZTlp0psnB",
    "outputId": "fa8096f1-fd61-4b5d-c573-eb9978c7fce5"
   }
  },
  {
   "cell_type": "markdown",
   "source": [
    "### Obter $u$\n",
    "\n",
    "# $$u_1 = n_1 \\times n_2 + \\frac{n_1 \\times (n_1 + 1)}{2} - R_1$$\n",
    "# $$u_2 = n_1 \\times n_2 + \\frac{n_2 \\times (n_2 + 1)}{2} - R_2$$\n",
    "\n",
    "# $$u = min(u_1, u_2)$$\n"
   ],
   "metadata": {
    "colab_type": "text",
    "id": "VheEyfc8psnC"
   }
  },
  {
   "cell_type": "code",
   "execution_count": null,
   "source": [],
   "outputs": [],
   "metadata": {
    "colab": {
     "base_uri": "https://localhost:8080/",
     "height": 35
    },
    "colab_type": "code",
    "id": "zUr2AlPcpsnC",
    "outputId": "544c2c51-985b-4b6b-83c8-c882b19a873b"
   }
  },
  {
   "cell_type": "code",
   "execution_count": null,
   "source": [],
   "outputs": [],
   "metadata": {
    "colab": {
     "base_uri": "https://localhost:8080/",
     "height": 35
    },
    "colab_type": "code",
    "id": "rFYBYtf9psnE",
    "outputId": "bfa1bcd7-01b9-4ce4-9fb8-0ba8435414aa"
   }
  },
  {
   "cell_type": "code",
   "execution_count": null,
   "source": [],
   "outputs": [],
   "metadata": {
    "colab": {
     "base_uri": "https://localhost:8080/",
     "height": 35
    },
    "colab_type": "code",
    "id": "2TodtD_jpsnF",
    "outputId": "d874ee9f-d816-4cd0-8797-b2b8a54bec86"
   }
  },
  {
   "cell_type": "markdown",
   "source": [
    "### Obter $\\mu{(u)}$\n",
    "\n",
    "# $$\\mu{(u)} = \\frac{n_1 \\times n_2}{2}$$"
   ],
   "metadata": {
    "colab_type": "text",
    "id": "v9JqAVXTpsnH"
   }
  },
  {
   "cell_type": "code",
   "execution_count": null,
   "source": [],
   "outputs": [],
   "metadata": {
    "colab": {
     "base_uri": "https://localhost:8080/",
     "height": 35
    },
    "colab_type": "code",
    "id": "ANX33u8upsnH",
    "outputId": "e8148a88-a952-412f-9d08-905f4d5e1b9c"
   }
  },
  {
   "cell_type": "markdown",
   "source": [
    "### Obter $\\sigma{(u)}$\n",
    "\n",
    "# $$\\sigma{(u)} = \\sqrt{\\frac{n_1 \\times n_2 \\times (n_1 + n_2 + 1)}{12}}$$"
   ],
   "metadata": {
    "colab_type": "text",
    "id": "mAEF6gUVpsnI"
   }
  },
  {
   "cell_type": "code",
   "execution_count": null,
   "source": [],
   "outputs": [],
   "metadata": {
    "colab": {
     "base_uri": "https://localhost:8080/",
     "height": 35
    },
    "colab_type": "code",
    "id": "fyoNElj2psnI",
    "outputId": "1590b044-a811-4207-efd4-bbb458c3ad23"
   }
  },
  {
   "cell_type": "markdown",
   "source": [
    "### Obter $Z$\n",
    "\n",
    "# $$Z = \\frac{u - \\mu{(u)}}{\\sigma{(u)}}$$"
   ],
   "metadata": {
    "colab_type": "text",
    "id": "T_s3WFVtpsnI"
   }
  },
  {
   "cell_type": "code",
   "execution_count": null,
   "source": [],
   "outputs": [],
   "metadata": {
    "colab": {
     "base_uri": "https://localhost:8080/",
     "height": 35
    },
    "colab_type": "code",
    "id": "YwySSfs1psnJ",
    "outputId": "b4fcc6f5-21ad-40ac-dd4f-e40863bb8e50"
   }
  },
  {
   "cell_type": "markdown",
   "source": [
    "![Estatística-Teste](https://caelum-online-public.s3.amazonaws.com/1229-estatistica-parte3/01/img024.png)"
   ],
   "metadata": {
    "colab_type": "text",
    "id": "ET0XFyyTpsnJ"
   }
  },
  {
   "cell_type": "markdown",
   "source": [
    "---"
   ],
   "metadata": {
    "colab_type": "text",
    "id": "qSMrqg9lpsnJ"
   }
  },
  {
   "cell_type": "markdown",
   "source": [
    "### **Passo 5** - Aceitação ou rejeição da hipótese nula"
   ],
   "metadata": {
    "colab_type": "text",
    "id": "04hb7sbUpsnK"
   }
  },
  {
   "cell_type": "markdown",
   "source": [
    "<img src='https://caelum-online-public.s3.amazonaws.com/1229-estatistica-parte3/01/img025.png' width='80%'>"
   ],
   "metadata": {
    "colab_type": "text",
    "id": "u_jtIZQYpsnK"
   }
  },
  {
   "cell_type": "markdown",
   "source": [
    "### <font color='red'>Critério do valor crítico</font>\n",
    "\n",
    "> ### Rejeitar $H_0$ se $Z \\leq -t_{\\alpha}$"
   ],
   "metadata": {
    "colab_type": "text",
    "id": "tKXPtt7ypsnK"
   }
  },
  {
   "cell_type": "code",
   "execution_count": null,
   "source": [],
   "outputs": [],
   "metadata": {
    "colab": {
     "base_uri": "https://localhost:8080/",
     "height": 35
    },
    "colab_type": "code",
    "id": "YUnoj7r5psnK",
    "outputId": "cc725f20-215c-415f-da5a-053aaeb9d0f3"
   }
  },
  {
   "cell_type": "markdown",
   "source": [
    "### <font color='green'>Conclusão: Rejeitamos a hipótese de que não existe diferença entre os grupos, isto é, concluímos que a média das rendas dos chefes de domicílios do sexo feminino é menor que a média das rendas dos chefes de domicílios do sexo masculino. Confirmando a alegação de desigualdade de renda entre os sexos.</font>"
   ],
   "metadata": {
    "colab_type": "text",
    "id": "2vh3CcxgpsnM"
   }
  },
  {
   "cell_type": "markdown",
   "source": [
    "### <font color='red'>Critério do valor $p$</font>\n",
    "\n",
    "> ### Rejeitar $H_0$ se o valor $p\\leq\\alpha$"
   ],
   "metadata": {
    "colab_type": "text",
    "id": "EJiw3TwCpsnM"
   }
  },
  {
   "cell_type": "markdown",
   "source": [
    "https://docs.scipy.org/doc/scipy/reference/generated/scipy.stats.mannwhitneyu.html"
   ],
   "metadata": {
    "colab_type": "text",
    "id": "U__FbtXEpsnM"
   }
  },
  {
   "cell_type": "code",
   "execution_count": null,
   "source": [],
   "outputs": [],
   "metadata": {
    "colab": {},
    "colab_type": "code",
    "id": "b21fe4hQpsnM"
   }
  },
  {
   "cell_type": "code",
   "execution_count": null,
   "source": [],
   "outputs": [],
   "metadata": {
    "colab": {
     "base_uri": "https://localhost:8080/",
     "height": 53
    },
    "colab_type": "code",
    "id": "xBG8n1qPpsnN",
    "outputId": "867a2144-53dd-42fd-cf8b-db7ee292758e"
   }
  },
  {
   "cell_type": "code",
   "execution_count": null,
   "source": [],
   "outputs": [],
   "metadata": {
    "colab": {
     "base_uri": "https://localhost:8080/",
     "height": 35
    },
    "colab_type": "code",
    "id": "DIo9w6wNpsnO",
    "outputId": "4bdb7d34-4781-438d-a000-a2b4c974e441"
   }
  },
  {
   "cell_type": "markdown",
   "source": [
    "---"
   ],
   "metadata": {
    "colab_type": "text",
    "id": "aydvymEdpsnO"
   }
  }
 ],
 "metadata": {
  "colab": {
   "collapsed_sections": [
    "cVgsZ_E3jQKg",
    "nk65O0lepz57"
   ],
   "name": "Curso_de_Estatística_Parte_3.ipynb",
   "provenance": [],
   "toc_visible": true,
   "version": "0.3.2"
  },
  "hide_input": false,
  "interpreter": {
   "hash": "37d5714b4ea6c666124e5e9f794c33113a02017c263bbdd899fa45355d80942a"
  },
  "kernelspec": {
   "name": "python3",
   "display_name": "Python 3.9.6 64-bit"
  },
  "language_info": {
   "codemirror_mode": {
    "name": "ipython",
    "version": 3
   },
   "file_extension": ".py",
   "mimetype": "text/x-python",
   "name": "python",
   "nbconvert_exporter": "python",
   "pygments_lexer": "ipython3",
   "version": "3.9.6"
  },
  "latex_envs": {
   "LaTeX_envs_menu_present": true,
   "autoclose": false,
   "autocomplete": true,
   "bibliofile": "biblio.bib",
   "cite_by": "apalike",
   "current_citInitial": 1,
   "eqLabelWithNumbers": true,
   "eqNumInitial": 1,
   "hotkeys": {
    "equation": "Ctrl-E",
    "itemize": "Ctrl-I"
   },
   "labels_anchors": false,
   "latex_user_defs": false,
   "report_style_numbering": false,
   "user_envs_cfg": false
  },
  "nbTranslate": {
   "displayLangs": [
    "*"
   ],
   "hotkey": "alt-t",
   "langInMainMenu": true,
   "sourceLang": "en",
   "targetLang": "fr",
   "useGoogleTranslate": true
  },
  "toc": {
   "base_numbering": 1,
   "nav_menu": {},
   "number_sections": true,
   "sideBar": true,
   "skip_h1_title": false,
   "title_cell": "Table of Contents",
   "title_sidebar": "Contents",
   "toc_cell": false,
   "toc_position": {},
   "toc_section_display": true,
   "toc_window_display": false
  },
  "varInspector": {
   "cols": {
    "lenName": 16,
    "lenType": 16,
    "lenVar": 40
   },
   "kernels_config": {
    "python": {
     "delete_cmd_postfix": "",
     "delete_cmd_prefix": "del ",
     "library": "var_list.py",
     "varRefreshCmd": "print(var_dic_list())"
    },
    "r": {
     "delete_cmd_postfix": ") ",
     "delete_cmd_prefix": "rm(",
     "library": "var_list.r",
     "varRefreshCmd": "cat(var_dic_list()) "
    }
   },
   "types_to_exclude": [
    "module",
    "function",
    "builtin_function_or_method",
    "instance",
    "_Feature"
   ],
   "window_display": false
  }
 },
 "nbformat": 4,
 "nbformat_minor": 1
}