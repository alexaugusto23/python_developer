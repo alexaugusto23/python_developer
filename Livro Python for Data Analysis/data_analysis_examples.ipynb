{
 "cells": [
  {
   "attachments": {},
   "cell_type": "markdown",
   "metadata": {},
   "source": [
    "#### Pacotes"
   ]
  },
  {
   "cell_type": "code",
   "execution_count": 1,
   "metadata": {},
   "outputs": [],
   "source": [
    "import pandas as pd\n",
    "import numpy as np"
   ]
  },
  {
   "attachments": {},
   "cell_type": "markdown",
   "metadata": {},
   "source": [
    "##### About Magic Commands"
   ]
  },
  {
   "cell_type": "code",
   "execution_count": 3,
   "metadata": {},
   "outputs": [
    {
     "data": {
      "text/plain": [
       "array([[ 0.04471717, -1.73856017, -0.88630918, ..., -1.02664493,\n",
       "        -0.56614916, -0.38978555],\n",
       "       [ 1.07133697,  0.28487878, -0.37445085, ...,  0.88526259,\n",
       "         1.29097105, -0.98430865],\n",
       "       [ 1.27215355, -1.4896788 ,  0.36815314, ..., -1.09174706,\n",
       "         0.31677498, -0.46972504],\n",
       "       ...,\n",
       "       [-0.2543334 , -2.00339229, -0.32142082, ..., -1.360076  ,\n",
       "        -0.95047876, -0.30831248],\n",
       "       [-0.27924755, -0.15202061,  0.66344491, ..., -0.55094863,\n",
       "        -0.61951551, -0.66538429],\n",
       "       [ 0.85688855,  1.38395428, -0.82656204, ...,  1.29346473,\n",
       "         1.36654457,  0.39605328]])"
      ]
     },
     "execution_count": 3,
     "metadata": {},
     "output_type": "execute_result"
    }
   ],
   "source": [
    "a = np.random.randn(100, 100)\n",
    "a"
   ]
  },
  {
   "attachments": {},
   "cell_type": "markdown",
   "metadata": {},
   "source": [
    "timeit avalia o tempo de execução"
   ]
  },
  {
   "cell_type": "code",
   "execution_count": 4,
   "metadata": {},
   "outputs": [
    {
     "name": "stdout",
     "output_type": "stream",
     "text": [
      "114 µs ± 7.97 µs per loop (mean ± std. dev. of 7 runs, 10000 loops each)\n"
     ]
    }
   ],
   "source": [
    "%timeit np.dot(a, a)"
   ]
  },
  {
   "cell_type": "code",
   "execution_count": 5,
   "metadata": {},
   "outputs": [
    {
     "data": {
      "text/plain": [
       "'c:\\\\Users\\\\alexsandro.ignacio\\\\OneDrive - WCA Soluções de Inteligência Comercial\\\\Documentos\\\\Docs\\\\Git\\\\python_developer\\\\Livro Python for Data Analysis'"
      ]
     },
     "execution_count": 5,
     "metadata": {},
     "output_type": "execute_result"
    }
   ],
   "source": [
    "%pwd"
   ]
  },
  {
   "attachments": {},
   "cell_type": "markdown",
   "metadata": {},
   "source": [
    "%quickref Display the IPython Quick Reference Card\n",
    "\n",
    "%magic Display detailed documentation for all of the available magic commands\n",
    "\n",
    "%debug Enter the interactive debugger at the bottom of the last exception traceback\n",
    "\n",
    "%hist Print command input (and optionally output) history\n",
    "\n",
    "%pdb Automatically enter debugger after any exception\n",
    "\n",
    "%paste Execute preformatted Python code from clipboard\n",
    "\n",
    "%cpaste Open a special prompt for manually pasting Python code to be executed\n",
    "\n",
    "%reset Delete all variables/names defined in interactive namespace\n",
    "\n",
    "%page OBJECT Pretty-print the object and display it through a pager\n",
    "\n",
    "%run script.py Run a Python script inside IPython\n",
    "\n",
    "%prun statement Execute statement with cProfile and report the profiler output\n",
    "\n",
    "%time statement Report the execution time of a single statement\n",
    "\n",
    "%timeit statement Run a statement multiple times to compute an ensemble average execution time; useful for\n",
    "timing code with very short execution time\n",
    "\n",
    "%who, %who_ls, %whos Display variables defined in interactive namespace, with varying levels of information/\n",
    "verbosity\n",
    "\n",
    "%xdel variable Delete a variable and attempt to clear any references to the object in the IPython internals"
   ]
  },
  {
   "attachments": {},
   "cell_type": "markdown",
   "metadata": {},
   "source": [
    "##### Integração com matplolib"
   ]
  },
  {
   "cell_type": "code",
   "execution_count": 6,
   "metadata": {},
   "outputs": [
    {
     "name": "stderr",
     "output_type": "stream",
     "text": [
      "UsageError: unrecognized arguments: Ipython shell\n"
     ]
    }
   ],
   "source": [
    "# %matplotlib  Ipython shell"
   ]
  },
  {
   "cell_type": "code",
   "execution_count": null,
   "metadata": {},
   "outputs": [],
   "source": [
    "# %matplotlib inline  Jupyter Notebook"
   ]
  },
  {
   "cell_type": "code",
   "execution_count": 8,
   "metadata": {},
   "outputs": [],
   "source": [
    "%matplotlib inline "
   ]
  },
  {
   "cell_type": "code",
   "execution_count": 9,
   "metadata": {},
   "outputs": [
    {
     "data": {
      "text/plain": [
       "[<matplotlib.lines.Line2D at 0x21ceb112a90>]"
      ]
     },
     "execution_count": 9,
     "metadata": {},
     "output_type": "execute_result"
    },
    {
     "data": {
      "image/png": "[encoded data removed]",
      "text/plain": [
       "<Figure size 432x288 with 1 Axes>"
      ]
     },
     "metadata": {
      "needs_background": "light"
     },
     "output_type": "display_data"
    }
   ],
   "source": [
    "import matplotlib.pyplot as plt\n",
    "\n",
    "plt.plot(np.random.randn(50).cumsum())"
   ]
  }
 ],
 "metadata": {
  "kernelspec": {
   "display_name": "Python 3",
   "language": "python",
   "name": "python3"
  },
  "language_info": {
   "codemirror_mode": {
    "name": "ipython",
    "version": 3
   },
   "file_extension": ".py",
   "mimetype": "text/x-python",
   "name": "python",
   "nbconvert_exporter": "python",
   "pygments_lexer": "ipython3",
   "version": "3.9.6 (tags/v3.9.6:db3ff76, Jun 28 2021, 15:26:21) [MSC v.1929 64 bit (AMD64)]"
  },
  "orig_nbformat": 4,
  "vscode": {
   "interpreter": {
    "hash": "75b64ca35833826d255b5110be976b8b491e59919d991eceebad02336ca41c97"
   }
  }
 },
 "nbformat": 4,
 "nbformat_minor": 2
}
