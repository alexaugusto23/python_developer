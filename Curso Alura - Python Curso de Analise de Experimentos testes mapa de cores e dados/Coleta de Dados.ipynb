{
 "cells": [
  {
   "attachments": {},
   "cell_type": "markdown",
   "metadata": {},
   "source": [
    "### Coleta de dados"
   ]
  },
  {
   "attachments": {},
   "cell_type": "markdown",
   "metadata": {},
   "source": [
    "A princípio, poderíamos ter usado qualquer método para a escolha dos pontos experimentais.\n",
    "\n",
    "Para o caso da Bel, deve estar claro que a linha central que guiou a escolha do planejamento fatorial foi o fato de a coleta de dados ser custosa. Portanto, o planejamento fatorial surge com uma abordagem interessante para se obter informações sobre um sistema em estudo, usando para isso uma pequena quantidade de ensaios.\n",
    "\n",
    "Em outros contextos, a coleta de dados pode ser simples, barata e rápida. Por exemplo, poderíamos estar realizando um experimento para saber o comportamento de um usuário de um site ou app. Os dados nesse experimento seriam coletados automaticamente à medida que o usuário interagisse com a plataforma. Desse modo, podemos obter um grande número de dados que seriam coletados de forma rápida e pouco custosa. Usar um planejamento fatorial para esse caso não seria necessário, uma vez que o ato de coletar os dados não impoẽm uma barreira à fluidez do experimento; muito menos significa um acréscimo substancial dos gastos por dado adicional coletado.\n",
    "\n",
    "Como conclusão, podemos afirmar que não existe uma regra para guiar a escolha dos pontos experimentais. Cada caso terá suas particularidades, que influenciarão a definição da melhor abordagem para a coleta dos dados. Contudo, independentemente do método, os pontos experimentais devem ser escolhidos de forma a atender os objetivos do experimento e serem representativos da região de estudo.\n",
    "\n",
    "Para mais informações, o link a seguir aprofunda o tópico coleta de dados:"
   ]
  },
  {
   "attachments": {},
   "cell_type": "markdown",
   "metadata": {},
   "source": [
    "<img width='700px' src='coleta_de_dados.jpg'>"
   ]
  },
  {
   "attachments": {},
   "cell_type": "markdown",
   "metadata": {},
   "source": [
    "#### Coleta de dados: o que é, metodologias e procedimentos"
   ]
  },
  {
   "attachments": {},
   "cell_type": "markdown",
   "metadata": {},
   "source": [
    "* A coleta de dados busca transformar números em informação e significados, para buscar a solução de problemas."
   ]
  },
  {
   "attachments": {},
   "cell_type": "markdown",
   "metadata": {},
   "source": [
    "<b> O que é coleta de dados? </b>\n",
    "\n",
    "A coleta de dados é um processo que visa reunir os dados para uso secundário por meio de técnicas específicas de pesquisa.\n",
    "\n",
    "Esses dados são utilizados para tarefas de pesquisa, planejamento, estudo, desenvolvimento e experimentações.\n",
    "\n",
    "A coleta de dados para pesquisa científica é definida a partir da problematização, objetivos geral e específico e metodologia."
   ]
  },
  {
   "attachments": {},
   "cell_type": "markdown",
   "metadata": {},
   "source": [
    "<b> A importância da coleta de dados para TCC e pesquisas </b>"
   ]
  },
  {
   "attachments": {},
   "cell_type": "markdown",
   "metadata": {},
   "source": [
    "A importância da coleta de dados para TCC e pesquisas\n",
    "Ao realizar a coleta de dados você pode estabelecer um contato mais direto com sua fonte, de maneira a recolher suas percepções acerca de um determinado assunto.\n",
    "\n",
    "A originalidade deste tipo de pesquisa pode ser um bom diferencial no seu currículo lattes, ou até mesmo na publicação em meios como o Scielo.\n",
    "\n",
    "A coleta de dados pode acontecer via questionário, observação e entrevistas."
   ]
  },
  {
   "attachments": {},
   "cell_type": "markdown",
   "metadata": {},
   "source": [
    "<b> Fontes da coleta de dados </b>"
   ]
  },
  {
   "attachments": {},
   "cell_type": "markdown",
   "metadata": {},
   "source": [
    "A coleta de dados possibilita o uso de dados que não se encontram em fontes documentais.\n",
    "\n",
    "Ademais, alguns destes dados podem ser quantificados e submetidos a tratamento estatístico na etapa de análise de dados.\n",
    "\n",
    "Os dados de observação são oriundos de várias fontes, podendo ser coletados de duas formas:\n",
    "\n",
    "Enumeração: referentes a uma variável discreta;\n",
    "Mensuração: referentes a uma variável contínua.\n",
    "Perceba que temos as técnicas e procedimentos para a coleta de dados.\n",
    "\n",
    "Em que, para o caso de uma pesquisa quantitativa, temos a possibilidade de utilizar entrevistas e questionários, sendo que eles podem ser aplicados presencialmente ou à distância, através de telefone, email, serviços de mensagem, etc.\n",
    "\n",
    "Já, no caso da pesquisa qualitativa, que precisa ir além de dados quantificáveis e se aprofundar em aspectos subjetivos, pode-se fazer o uso de grupos focais, entrevistas em profundidade, observação, levantamento de documentos, entre outras atividades que propiciam este aprofundamento maior na investigação do objeto da pesquisa.\n",
    "\n",
    "Coleta de dados contínuas, periódicas ou ocasionais\n",
    "A coleta de dados pode ser dividida em contínuas, periódicas ou ocasionais.\n",
    "\n",
    "Coleta de dados contínua\n",
    "Ocorre quando os eventos que acontecem durante determinado estudo, são registrados à medida que ocorrem;\n",
    "\n",
    "Coleta de dados periódica\n",
    "Esta acontece de ciclo em ciclo, como exemplo o censo do Brasil;\n",
    "\n",
    "Coleta de dados ocasional\n",
    "Já, as coletas ocasionais são aquelas realizadas sem a preocupação de continuidade ou periodicidade."
   ]
  },
  {
   "attachments": {},
   "cell_type": "markdown",
   "metadata": {},
   "source": [
    "Coleta de dados e estatística\n",
    "Nos estudos em que são realizadas coletas de dados contínuas ou periódicas o interesse é a enumeração total.\n",
    "\n",
    "Neste caso, a estatística participa somente em seu aspecto descritivo da apresentação dos dados.\n",
    "\n",
    "Já, para a coleta de dados, pode-se utilizar dados já existentes (dados secundários) ou através de pesquisa de levantamento (dados primários) e experimentos.\n",
    "\n",
    "Pode-se apenas descrever o conjunto, embora o mais comum seja fazer inferências a partir de amostras do total.\n",
    "\n",
    "Dessa forma a estatística participa no processo de fazer a inferência e planejar como a mesma será realizada.\n",
    "\n",
    "Então, nos levantamentos, como os de saúde pública, a estatística indica a forma de amostragem que permite uma inferência sobre o todo.\n",
    "\n",
    "Nos experimentos ela fornece o delineamento mais adequado em cada estudo.\n",
    "\n",
    "Qualquer que seja a forma de obtenção de dados eles estarão no final do trabalho, desorganizados e dependem, portanto, de uma apresentação compreensível para obterem valor informativo.\n",
    "\n",
    "Coleta de dados via questionário\n",
    "O questionário é um instrumento de coleta de dados constituído por uma série de perguntas, que devem ser respondidas por escrito.\n",
    "\n",
    "Dentre as principais vantagens estão a economia de tempo, a eficiência na coleta de um grande número de dados, a possibilidade de atingir um número maios de pessoas em uma área geográfica mais ampla.\n",
    "\n",
    "Além de economizar com treinamento e coletas de campo, obter respostas mais rápidas e exatas, o anonimato e mais tempo para as respostas, além da flexibilidade de horário.\n",
    "\n",
    "Coleta de dados por observação\n",
    "Já, a coleta de dados por observação utiliza os sentidos na obtenção de determinados aspectos da realidade.\n",
    "\n",
    "Deste modo, consiste em ver, ouvir e examinar fatos ou fenômenos.\n",
    "\n",
    "Para ser considerada científica deverá ser planejada sistematicamente, registrada metodicamente, além de sujeita à verificações e controle sobre a validade e segurança.\n",
    "\n",
    "A atuação de quem está pesquisando pode assumir a característica de pesquisa participante.\n",
    "\n",
    "Coleta de dados por entrevista: passo a passo\n",
    "1. Estabeleça um roteiro para a coleta de dados\n",
    "Em primeiro lugar, deve-se determinar como será feita a entrevista, que podem ser estruturadas, semi-estruturadas ou livres..\n",
    "\n",
    "Entrevista estruturada\n",
    "Com perguntas pré-determinadas\n",
    "\n",
    "Entrevista semiestruturada\n",
    "Neste formato, você deverá apenas relacionar os principais tópicos que deseja abordar, tendo maior liberdade durante a conversa.\n",
    "\n",
    "De qualquer forma, o ideal é estabelecer um roteiro para a sua entrevista, tendo claro quais dados você irá coletar, seja por meio de perguntas previamente elaboradas, ou apenas através da ordem que os assuntos serão abordados.\n",
    "\n",
    "Tipos de entrevistas para coleta de dados\n",
    "Além disso, você também pode optar por algum método de entrevista abaixo.\n",
    "\n",
    "Esta classificação não exclui a classificação acima, porquanto as entrevistas podem ser organizadas com mais critérios e características, assumindo um caráter único de acordo com o objeto de estudo.\n",
    "\n",
    "Entrevistas informais\n",
    "Neste formato você poderá conversar com o entrevistado de maneira totalmente livre, quase como uma conversa informal.\n",
    "\n",
    "Assim, a única diferença é que na entrevista deve haver o registro.\n",
    "\n",
    "Entrevistas focalizadas\n",
    "Já, esse tipo de entrevista é muito semelhante à informal, porém ao escolher esse formato você irá evitar que o entrevistado fuja do tema escolhido para abordar em seu trabalho.\n",
    "\n",
    "Entrevista por pautas\n",
    "Por meio dessa modalidade, as entrevistas passam a ter uma estrutura básica.\n",
    "\n",
    "Assim, você deve estabelecer previamente os tópicos a serem tratados durante a conversa e a ordem que serão desenvolvidos.\n",
    "\n",
    "Então, ao concluir cada um deles, você pode riscá-los de sua lista. O ideal é que as pautas tenham uma relação entre si, garantindo a consistência do relato.\n",
    "\n",
    "Entrevista formalizada/estruturada\n",
    "Em último lugar, neste modelo deve ser escolhido caso você deseje recolher o mesmo tipo de relato de mais de um indivíduo.\n",
    "\n",
    "Com ele, você possui uma relação fixa de perguntas para a coleta de dados, às quais todos os entrevistados deverão responder. Você pode optar por elaborar perguntas abertas ou fechadas, de acordo com seu propósito.\n",
    "\n",
    "2. Registre a conversa para analisar os dados\n",
    "Dê sempre preferência por realizar as entrevistas pessoalmente, certificando-se de gravar o áudio para preservar a integridade do relato.\n",
    "\n",
    "Ou faça um resumo escrito de toda a entrevista.\n",
    "\n",
    "O entrevistado deve estar ciente de que a conversa será gravada, por isso é importante pedir uma autorização prévia por meio de um termo de consentimento livre e esclarecido.\n",
    "\n",
    "Em alguns casos, você pode se deparar com o relato de assuntos sigilosos. Se isso acontecer e esses trechos forem relevantes para a sua pesquisa, converse com a fonte sobre a possibilidade de omitir a sua identidade.\n",
    "\n",
    "Essa prática é muito utilizada principalmente em pesquisas que envolvem crianças ou pessoas em situação de risco.\n",
    "\n",
    "3. Mantenha a objetividade e a imparcialidade\n",
    "É fundamental que se preze por alguns valores durante a condução da entrevista, como a objetividade e a imparcialidade.\n",
    "\n",
    "Dessa forma, você ganha a confiança da sua fonte e evita interferir no relato compartilhado, algo de extrema importância para a integridade da pesquisa.\n",
    "\n",
    "Metodologias para a coleta de dados\n",
    "Além de tudo o que foi dito acima, o ideal também é definir o tipo de pesquisa que será realizada.\n",
    "\n",
    "Neste sentido, a pesquisa pode ser classificada em duas categorias: exploratória e explicativa.\n",
    "\n",
    "De acordo com o tipo de pesquisa\n",
    "Pesquisa exploratória\n",
    "A pesquisa exploratória tem o objetivo de trazer um maior entendimento sobre o objeto da pesquisa, seja ele um fato ou um fenômeno, enquanto a pesquisa descritiva visa descrever, analisar e verificar a relação entre fatos e fenômenos que dizem respeito ao tema da pesquisa.\n",
    "\n",
    "Ou seja, ela se propõe a investigar mais para entender em maiores detalhes as causas e consequências daquilo que é pesquisado.\n",
    "\n",
    "Pesquisa explicativa\n",
    "Já a pesquisa explicativa vai ainda mais além, sendo a que mais se aprofunda no conhecimento da realidade porque busca compreender a razão dos fatos.\n",
    "\n",
    "Assim, engloba os estudos de pesquisas exploratórias e descritivas e ainda mais algumas características próprias que podem chegar a classificá-las como pesquisas experimentais.\n",
    "\n",
    "De acordo com a abordagem\n",
    "Uma vez definida qual a natureza e grau de detalhamento da pesquisa que será realizada, é hora de definir a abordagem da pesquisa: quantitativa ou qualitativa.\n",
    "\n",
    "Pesquisa quantitativa\n",
    "se refere à todas as informações que podem ser quantificadas em números para sua classificação e análise e ela demanda o uso de técnicas estatísticas.\n",
    "\n",
    "Pesquisa qualitativa\n",
    "É mais subjetiva por levar em consideração informações que extrapolam a exatidão dos números, como sentimentos, intenções, percepções, etc.\n",
    "\n",
    "Deste modo, ela procura estabelecer e entender a conexão o sujeito e a realidade.\n",
    "\n",
    "Amostragem da coleta de dados\n",
    "O próximo passo no desenvolvimento da pesquisa é definir sua amostragem. Esta etapa se refere à população que é objeto do estudo e pode ser dividido em probabilística ou não probabilística.\n",
    "\n",
    "Amostragem probabilística\n",
    "É aquela que busca maior imparcialidade ao garantir probabilidades iguais para todos os elementos da população.\n",
    "\n",
    "Ela pode ser aleatória simples, sistemática, estratificada ou de conglomerados e é o único método de amostragem que permite generalizações para a população de onde a amostra é proveniente.\n",
    "\n",
    "Amostragem não probabilística\n",
    "É aquela onde existe uma escolha deliberada e imparcial dos elementos que irão compor a amostra.\n",
    "\n",
    "Ela pode ser por conveniência, intencional ou por cotas e não requer critérios nem fórmulas estatísticas para determinar o tamanho de uma amostragem não probabilística.\n",
    "\n",
    "Formatação automatizada nas normas da ABNT\n",
    "Por fim, quando for fazer a sua coleta de dados, que pode ser utilizada em TCC, monografia e até em artigos para apresentações em eventos, lembre-se de seguir as normas da ABNT.\n",
    "\n",
    "Com o Mettzer você ganha tempo e garante um trabalho dentro das normas atualizadas.\n",
    "\n",
    "Acesse e confira como é fácil!"
   ]
  },
  {
   "attachments": {},
   "cell_type": "markdown",
   "metadata": {},
   "source": [
    "------------------------------------------------"
   ]
  },
  {
   "attachments": {},
   "cell_type": "markdown",
   "metadata": {},
   "source": [
    "### Pontos experimentais normalizados"
   ]
  },
  {
   "attachments": {},
   "cell_type": "markdown",
   "metadata": {},
   "source": [
    "Como dito, tradicionalmente o planejamento fatorial utiliza as variáveis normalizadas entre -1 e +1. Essa normalização evita termos que lidar com variáveis que possuem magnitudes muito diferentes. Além disso, o uso de valores normalizados permite a inserção de variáveis não numéricas no experimento. Por exemplo, a Bel poderia avaliar o efeito de duas marcas de fermento na quantidade de cupcakes produzidos. Vamos chamar essas duas marcas de A e B. Se não tivéssemos lidando com variáveis normalizadas, não seria direta a inclusão do efeito da marca do fermento na resposta analisada no experimento. Contudo, trabalhando com variáveis normalizadas, essa inserção torna-se natural. Para isso, bastaria dizer que, por exemplo, a marca A será o nível -1 e a marca B o +1. Pronto! Seremos capazes de analisar essa variável não numérica em conjunto com as demais, uma vez que todas elas estão definidas entre os limites -1 e +1."
   ]
  },
  {
   "attachments": {},
   "cell_type": "markdown",
   "metadata": {},
   "source": [
    "<b> O que é Planejamento fatorial? </b>"
   ]
  },
  {
   "attachments": {},
   "cell_type": "markdown",
   "metadata": {},
   "source": [
    "* O planejamento fatorial é uma estratégia analítica útil e sua principal aplicação reside na triagem das variáveis mais relevantes de um determinado sistema analítico."
   ]
  }
 ],
 "metadata": {
  "kernelspec": {
   "display_name": "Python 3",
   "language": "python",
   "name": "python3"
  },
  "language_info": {
   "name": "python",
   "version": "3.9.6 (tags/v3.9.6:db3ff76, Jun 28 2021, 15:26:21) [MSC v.1929 64 bit (AMD64)]"
  },
  "orig_nbformat": 4,
  "vscode": {
   "interpreter": {
    "hash": "75b64ca35833826d255b5110be976b8b491e59919d991eceebad02336ca41c97"
   }
  }
 },
 "nbformat": 4,
 "nbformat_minor": 2
}
