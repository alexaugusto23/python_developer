{
 "cells": [
  {
   "cell_type": "markdown",
   "metadata": {},
   "source": [
    "# test signal"
   ]
  },
  {
   "cell_type": "code",
   "execution_count": 1,
   "metadata": {},
   "outputs": [
    {
     "name": "stdout",
     "output_type": "stream",
     "text": [
      "<class 'str'>\n"
     ]
    },
    {
     "data": {
      "text/plain": [
       "11"
      ]
     },
     "execution_count": 1,
     "metadata": {},
     "output_type": "execute_result"
    }
   ],
   "source": [
    "def solution(n):\n",
    "    n = str(n)\n",
    "    print(type(n))\n",
    "    \n",
    "    value = 0\n",
    "    if 10 <= int(n) <= 99:\n",
    "        for i in range(0, len(str(n))):\n",
    "            temp = n[i]\n",
    "            value += int(temp)\n",
    "\n",
    "        return int(value)\n",
    "\n",
    "solution(29)"
   ]
  },
  {
   "cell_type": "markdown",
   "metadata": {},
   "source": [
    "solved"
   ]
  },
  {
   "cell_type": "markdown",
   "metadata": {},
   "source": [
    "# Sequence test"
   ]
  },
  {
   "cell_type": "markdown",
   "metadata": {},
   "source": [
    "Given a string sequence consisting of the characters '(', ')', '[', ']', '{', and '}'. Your task is to determine whether or not the sequence is a valid bracket sequence.\n",
    "\n",
    "The Valid bracket sequence is defined in the following way:\n",
    "\n",
    "An empty bracket sequence is a valid bracket sequence.\n",
    "If S is a valid bracket sequence then (S), [S] and {S} are also valid.\n",
    "If A and B are valid bracket sequences then AB is also valid.\n",
    "Example\n",
    "\n",
    "For sequence = \"()\", the output should be solution(sequence) = true;\n",
    "For sequence = \"()[]{}\", the output should be solution(sequence) = true;\n",
    "For sequence = \"(]\", the output should be solution(sequence) = false;\n",
    "For sequence = \"([)]\", the output should be solution(sequence) = false;\n",
    "For sequence = \"{[]}\", the output should be solution(sequence) = true.\n",
    "Input/Output\n",
    "\n",
    "[execution time limit] 4 seconds (py3)\n",
    "\n",
    "[input] string sequence\n",
    "\n",
    "A bracket sequence, consisting of the characters (, ), [, ], {, and }.\n",
    "\n",
    "Guaranteed constraints:\n",
    "0 ≤ sequence.length ≤ 106.\n",
    "\n",
    "[output] boolean\n",
    "\n",
    "true if sequence is a valid bracket sequence and false otherwise."
   ]
  },
  {
   "cell_type": "markdown",
   "metadata": {},
   "source": [
    "For sequence = \"()\", the output should be solution(sequence) = true;\n",
    "For sequence = \"()[]{}\", the output should be solution(sequence) = true;\n",
    "For sequence = \"(]\", the output should be solution(sequence) = false;\n",
    "For sequence = \"([)]\", the output should be solution(sequence) = false;\n",
    "For sequence = \"{[]}\", the output should be solution(sequence) = true."
   ]
  },
  {
   "cell_type": "code",
   "execution_count": 53,
   "metadata": {},
   "outputs": [
    {
     "ename": "ValueError",
     "evalue": "list.remove(x): x not in list",
     "output_type": "error",
     "traceback": [
      "\u001b[1;31m---------------------------------------------------------------------------\u001b[0m",
      "\u001b[1;31mValueError\u001b[0m                                Traceback (most recent call last)",
      "\u001b[1;32mC:\\Users\\ALEXSA~1.IGN\\AppData\\Local\\Temp/ipykernel_14028/295115229.py\u001b[0m in \u001b[0;36m<module>\u001b[1;34m\u001b[0m\n\u001b[0;32m     21\u001b[0m         \u001b[1;32mreturn\u001b[0m \u001b[1;32mFalse\u001b[0m\u001b[1;33m\u001b[0m\u001b[1;33m\u001b[0m\u001b[0m\n\u001b[0;32m     22\u001b[0m \u001b[1;33m\u001b[0m\u001b[0m\n\u001b[1;32m---> 23\u001b[1;33m \u001b[0msolution\u001b[0m\u001b[1;33m(\u001b[0m\u001b[1;34m'([)]'\u001b[0m\u001b[1;33m)\u001b[0m\u001b[1;33m\u001b[0m\u001b[1;33m\u001b[0m\u001b[0m\n\u001b[0m",
      "\u001b[1;32mC:\\Users\\ALEXSA~1.IGN\\AppData\\Local\\Temp/ipykernel_14028/295115229.py\u001b[0m in \u001b[0;36msolution\u001b[1;34m(sequence)\u001b[0m\n\u001b[0;32m      7\u001b[0m                     \u001b[0mpilha\u001b[0m\u001b[1;33m.\u001b[0m\u001b[0mappend\u001b[0m\u001b[1;33m(\u001b[0m\u001b[1;34m'('\u001b[0m\u001b[1;33m)\u001b[0m\u001b[1;33m\u001b[0m\u001b[1;33m\u001b[0m\u001b[0m\n\u001b[0;32m      8\u001b[0m                 \u001b[1;32mif\u001b[0m \u001b[0msequence\u001b[0m\u001b[1;33m[\u001b[0m\u001b[0mi\u001b[0m\u001b[1;33m]\u001b[0m \u001b[1;33m==\u001b[0m \u001b[1;34m'['\u001b[0m\u001b[1;33m:\u001b[0m\u001b[1;33m\u001b[0m\u001b[1;33m\u001b[0m\u001b[0m\n\u001b[1;32m----> 9\u001b[1;33m                     \u001b[0mpilha\u001b[0m\u001b[1;33m.\u001b[0m\u001b[0mremove\u001b[0m\u001b[1;33m(\u001b[0m\u001b[1;34m'['\u001b[0m\u001b[1;33m)\u001b[0m\u001b[1;33m\u001b[0m\u001b[1;33m\u001b[0m\u001b[0m\n\u001b[0m\u001b[0;32m     10\u001b[0m \u001b[1;33m\u001b[0m\u001b[0m\n\u001b[0;32m     11\u001b[0m                 \u001b[1;32melif\u001b[0m \u001b[0msequence\u001b[0m\u001b[1;33m[\u001b[0m\u001b[0mi\u001b[0m\u001b[1;33m]\u001b[0m \u001b[1;33m==\u001b[0m \u001b[1;34m')'\u001b[0m\u001b[1;33m:\u001b[0m\u001b[1;33m\u001b[0m\u001b[1;33m\u001b[0m\u001b[0m\n",
      "\u001b[1;31mValueError\u001b[0m: list.remove(x): x not in list"
     ]
    }
   ],
   "source": [
    "def solution(sequence):\n",
    "    pilha = []\n",
    "    if type(sequence) == str:\n",
    "        if 0 <= len(sequence) <= 10**6:\n",
    "            for i in range(0, len(sequence)):\n",
    "                if sequence[i] == '(': \n",
    "                    pilha.append('(')\n",
    "                if sequence[i] == '[': \n",
    "                    pilha.append('[')\n",
    "\n",
    "                elif sequence[i] == ')':\n",
    "                    if len(pilha) > 0:\n",
    "                        pilha.pop()\n",
    "                    else:\n",
    "                        pilha.append(')')\n",
    "    print(pilha)\n",
    "    \n",
    "    if len(pilha) == 0:\n",
    "        return True\n",
    "    else:\n",
    "        return False\n",
    "\n",
    "solution('([)]') "
   ]
  },
  {
   "cell_type": "markdown",
   "metadata": {},
   "source": [
    "not solved"
   ]
  },
  {
   "cell_type": "markdown",
   "metadata": {},
   "source": [
    "Given two strings a and b, both consisting only of lowercase English letters, your task is to calculate how many strings equal to a can be constructed using only letters from the string b? Each letter can be used only once and in one string only.\n",
    "\n",
    "Example\n",
    "\n",
    "For a = \"abc\" and b = \"abccba\", the output should be solution(a, b) = 2.\n",
    "\n",
    "We can construct 2 strings a = \"abc\" using only letters from the string b.\n",
    "\n",
    "For a = \"ab\" and b = \"abcbcb\", the output should be solution(a, b) = 1.\n",
    "\n",
    "Input/Output\n",
    "\n",
    "[execution time limit] 4 seconds (py3)\n",
    "\n",
    "[input] string a\n",
    "\n",
    "String to construct, containing only lowercase English letters.\n",
    "\n",
    "Guaranteed constraints:\n",
    "1 ≤ a.length ≤ 105.\n",
    "\n",
    "[input] string b\n",
    "\n",
    "String containing needed letters, containing only lowercase English letters.\n",
    "\n",
    "Guaranteed constraints:\n",
    "1 ≤ b.length ≤ 105.\n",
    "\n",
    "[output] integer\n",
    "\n",
    "The number of strings a that can be constructed from the string b."
   ]
  },
  {
   "cell_type": "code",
   "execution_count": 57,
   "metadata": {},
   "outputs": [
    {
     "name": "stdout",
     "output_type": "stream",
     "text": [
      "6\n"
     ]
    }
   ],
   "source": [
    "def solution(a, b):\n",
    "    result = 0\n",
    "    if 1 <= len(a) <= 105:\n",
    "        for valor_a in a:\n",
    "            for valor_b in b:\n",
    "                if valor_a == valor_b:\n",
    "                    result += 1\n",
    "    return print(result)\n",
    "\n",
    "solution(\"abc\", \"abccba\")"
   ]
  },
  {
   "cell_type": "markdown",
   "metadata": {},
   "source": [
    "not solved"
   ]
  },
  {
   "cell_type": "markdown",
   "metadata": {},
   "source": [
    "You have an array p of points on a Cartesian plane. Find and return the minimum possible Euclidian distance between two points with different indices in p.\n",
    "\n",
    "Example\n",
    "\n",
    "For p = [[0, 11], [-7, 1], [-5, -3]], the output should be\n",
    "solution(p) = 4.472135955.\n",
    "\n",
    "Input/Output\n",
    "\n",
    "[execution time limit] 5.5 seconds (py3)\n",
    "\n",
    "[input] array.array.integer p\n",
    "\n",
    "Every inner array p[i] contains exactly 2 integers: the x and y coordinates of the ith point.\n",
    "\n",
    "Guaranteed constraints:\n",
    "2 ≤ p.length ≤ 2 · 104,\n",
    "p[i].length = 2,\n",
    "|p[i][j]| ≤ 107.\n",
    "\n",
    "[output] float\n",
    "\n",
    "The minimum possible distance between two points with different indices in p.\n",
    "\n",
    "Your answer will be considered correct if its absolute error doesn't exceed 10-5."
   ]
  },
  {
   "cell_type": "code",
   "execution_count": null,
   "metadata": {},
   "outputs": [],
   "source": []
  },
  {
   "cell_type": "markdown",
   "metadata": {},
   "source": [
    "notsolved"
   ]
  },
  {
   "cell_type": "markdown",
   "metadata": {},
   "source": [
    "Write a function that returns the sum of two numbers.\n",
    "\n",
    "Example\n",
    "\n",
    "For param1 = 1 and param2 = 2, the output should be\n",
    "solution(param1, param2) = 3.\n",
    "\n",
    "Input/Output\n",
    "\n",
    "[execution time limit] 4 seconds (py3)\n",
    "\n",
    "[input] integer param1\n",
    "\n",
    "Guaranteed constraints:\n",
    "-1000 ≤ param1 ≤ 1000.\n",
    "\n",
    "[input] integer param2\n",
    "\n",
    "Guaranteed constraints:\n",
    "-1000 ≤ param2 ≤ 1000.\n",
    "\n",
    "[output] integer\n",
    "\n",
    "The sum of the two inputs."
   ]
  },
  {
   "cell_type": "code",
   "execution_count": 92,
   "metadata": {},
   "outputs": [
    {
     "name": "stdout",
     "output_type": "stream",
     "text": [
      "2 10000\n",
      "input out of ranger in param2:10000\n"
     ]
    }
   ],
   "source": [
    "def solution(param1, param2):\n",
    "    if -1000 <= param1 <= 1000 and -1000 <= param2 <= 1000:\n",
    "        print(param1, param2)\n",
    "        return param1 + param2\n",
    "\n",
    "    else: \n",
    "        print(param1,param2)\n",
    "        if -1000 <= param1 >= 1000 and -1000 <= param2 >= 1000: \n",
    "            return f\"input out of ranger in param1:{param1} and param1:{param2}\"\n",
    "        elif -1000 <= param1 >= 1000:\n",
    "\n",
    "            return f\"input out of ranger in param1:{param1}\"\n",
    "\n",
    "        elif -1000 <= param2 >= 1000: \n",
    "            return f\"input out of ranger in param2:{param2}\"\n",
    "\n",
    "\n",
    "    \n",
    "print(solution(2, 10000))"
   ]
  },
  {
   "cell_type": "markdown",
   "metadata": {},
   "source": [
    "solved"
   ]
  },
  {
   "cell_type": "markdown",
   "metadata": {},
   "source": [
    "Given a year, return the century it is in. The first century spans from the year 1 up to and including the year 100, the second - from the year 101 up to and including the year 200, etc.\n",
    "\n",
    "Example\n",
    "\n",
    "For year = 1905, the output should be\n",
    "solution(year) = 20;\n",
    "For year = 1700, the output should be\n",
    "solution(year) = 17.\n",
    "Input/Output\n",
    "\n",
    "[execution time limit] 4 seconds (py3)\n",
    "\n",
    "[input] integer year\n",
    "\n",
    "A positive integer, designating the year.\n",
    "\n",
    "Guaranteed constraints:\n",
    "1 ≤ year ≤ 2005.\n",
    "\n",
    "[output] integer\n",
    "\n",
    "The number of the century the year is in."
   ]
  },
  {
   "cell_type": "code",
   "execution_count": 94,
   "metadata": {},
   "outputs": [
    {
     "name": "stdout",
     "output_type": "stream",
     "text": [
      "2022-08-31\n"
     ]
    }
   ],
   "source": [
    "import datetime\n",
    "from datetime import date, timedelta\n",
    "today = date.today() - timedelta(1)\n",
    "yesterday = date.today()\n",
    "print(today)\n",
    "print (yesterday)\n",
    "year = yesterday.year\n",
    "month = yesterday.month\n",
    "day=yesterday.day\n",
    "print (year)\n",
    "print (month)\n",
    "print (day)"
   ]
  },
  {
   "cell_type": "code",
   "execution_count": 97,
   "metadata": {},
   "outputs": [
    {
     "data": {
      "text/plain": [
       "2022"
      ]
     },
     "execution_count": 97,
     "metadata": {},
     "output_type": "execute_result"
    }
   ],
   "source": [
    "import datetime\n",
    "ano = date.today().year\n",
    "ano"
   ]
  },
  {
   "cell_type": "code",
   "execution_count": 109,
   "metadata": {},
   "outputs": [
    {
     "name": "stdout",
     "output_type": "stream",
     "text": [
      "18\n"
     ]
    }
   ],
   "source": [
    "import datetime\n",
    "ano_atual = date.today().year\n",
    "result = 0 \n",
    "\n",
    "def solution(year):\n",
    "    resto_da_div = (year % 100)\n",
    "    div_int = (year//100)\n",
    "    if 1 <= year <= ano_atual:\n",
    "        if resto_da_div > 0:\n",
    "            result = div_int + 1\n",
    "            return result\n",
    "        else: \n",
    "            result = div_int\n",
    "            return result\n",
    "    else: return f\"date not valid\"\n",
    "\n",
    "print(solution(1750))"
   ]
  },
  {
   "cell_type": "markdown",
   "metadata": {},
   "source": [
    "solved"
   ]
  },
  {
   "cell_type": "markdown",
   "metadata": {},
   "source": [
    "Given the string, check if it is a palindrome.\n",
    "\n",
    "Example\n",
    "\n",
    "For inputString = \"aabaa\", the output should be\n",
    "solution(inputString) = true;\n",
    "For inputString = \"abac\", the output should be\n",
    "solution(inputString) = false;\n",
    "For inputString = \"a\", the output should be\n",
    "solution(inputString) = true.\n",
    "Input/Output\n",
    "\n",
    "[execution time limit] 4 seconds (py3)\n",
    "\n",
    "[input] string inputString\n",
    "\n",
    "A non-empty string consisting of lowercase characters.\n",
    "\n",
    "Guaranteed constraints:\n",
    "1 ≤ inputString.length ≤ 105.\n",
    "\n",
    "[output] boolean\n",
    "\n",
    "true if inputString is a palindrome, false otherwise."
   ]
  },
  {
   "cell_type": "code",
   "execution_count": 117,
   "metadata": {},
   "outputs": [
    {
     "data": {
      "text/plain": [
       "'Invalid Input'"
      ]
     },
     "execution_count": 117,
     "metadata": {},
     "output_type": "execute_result"
    }
   ],
   "source": [
    "def solution(inputString):\n",
    "    if type(inputString) == str:\n",
    "        if 1 <= len(inputString) <= 10**5:\n",
    "            if len(inputString) > 0: \n",
    "                if inputString == inputString[::-1]:\n",
    "                    return True\n",
    "                else: \n",
    "                    return False\n",
    "    else: return f\"Invalid Input\"\n",
    "\n",
    "solution(1)"
   ]
  },
  {
   "cell_type": "code",
   "execution_count": 128,
   "metadata": {},
   "outputs": [
    {
     "name": "stdout",
     "output_type": "stream",
     "text": [
      "['a', 'a', 'b', 'a', 'a']\n",
      "aabaa\n"
     ]
    },
    {
     "data": {
      "text/plain": [
       "True"
      ]
     },
     "execution_count": 128,
     "metadata": {},
     "output_type": "execute_result"
    }
   ],
   "source": [
    "def solution(inputString):\n",
    "    lista = []\n",
    "    if type(inputString) == str:\n",
    "        if 1 <= len(inputString) <= 10**5:\n",
    "            if len(inputString) > 0: \n",
    "                for valor in reversed(inputString):\n",
    "                    lista.append(valor)\n",
    "                \n",
    "                lista_grouped = ''.join(map(str, lista))\n",
    "                print(f\"{lista}\\n{lista_grouped}\")\n",
    "                if inputString == lista_grouped:\n",
    "                    return True\n",
    "                else: \n",
    "                    return False\n",
    "    else: return f\"Invalid Input\"\n",
    "\n",
    "solution('aabaa')"
   ]
  },
  {
   "cell_type": "code",
   "execution_count": 139,
   "metadata": {},
   "outputs": [
    {
     "name": "stdout",
     "output_type": "stream",
     "text": [
      "['a', 'a', 'b', 'a', 'a']\n",
      "aabaa\n"
     ]
    }
   ],
   "source": [
    "inputString = 'aabaa'\n",
    "lista = []\n",
    "for valor in reversed(inputString):\n",
    "    lista.append(valor)\n",
    "print(lista)\n",
    "lista_grouped = ''.join(map(str, lista))\n",
    "print(lista_grouped)\n"
   ]
  },
  {
   "cell_type": "code",
   "execution_count": 131,
   "metadata": {},
   "outputs": [
    {
     "data": {
      "text/plain": [
       "'kaabaa'"
      ]
     },
     "execution_count": 131,
     "metadata": {},
     "output_type": "execute_result"
    }
   ],
   "source": [
    "inputString = 'aabaak'\n",
    "lista= ''\n",
    "for valor in reversed(inputString):\n",
    "    lista += valor\n",
    "lista"
   ]
  },
  {
   "cell_type": "code",
   "execution_count": 140,
   "metadata": {},
   "outputs": [
    {
     "data": {
      "text/plain": [
       "5"
      ]
     },
     "execution_count": 140,
     "metadata": {},
     "output_type": "execute_result"
    }
   ],
   "source": [
    "len('aabaa')"
   ]
  },
  {
   "cell_type": "code",
   "execution_count": 156,
   "metadata": {},
   "outputs": [
    {
     "name": "stdout",
     "output_type": "stream",
     "text": [
      "4 a\n",
      "3 a\n",
      "2 b\n",
      "1 a\n",
      "0 a\n",
      "['a', 'a', 'b', 'a', 'a']\n",
      "aabaa\n"
     ]
    }
   ],
   "source": [
    "inputString = 'aabaa'\n",
    "lista = []\n",
    "tam = len(inputString)\n",
    "for i in range(tam-1,-1,-1):\n",
    "    print(i, inputString[i])\n",
    "    lista.append(inputString[i])\n",
    "print(lista)\n",
    "lista_grouped = ''.join(map(str, lista))\n",
    "print(lista_grouped)"
   ]
  },
  {
   "cell_type": "code",
   "execution_count": 111,
   "metadata": {},
   "outputs": [
    {
     "name": "stdout",
     "output_type": "stream",
     "text": [
      "aabaa\n",
      "aabaa\n",
      "True\n"
     ]
    }
   ],
   "source": [
    "s = 'aabaa'\n",
    "print(s[::-1])\n",
    "print(s)\n",
    "print(s == s[::-1])\n",
    " "
   ]
  },
  {
   "cell_type": "markdown",
   "metadata": {},
   "source": [
    "solved"
   ]
  },
  {
   "cell_type": "markdown",
   "metadata": {},
   "source": [
    "Given an array of integers, find the pair of adjacent elements that has the largest product and return that product.\n",
    "\n",
    "Example\n",
    "\n",
    "For inputArray = [3, 6, -2, -5, 7, 3], the output should be\n",
    "solution(inputArray) = 21.\n",
    "\n",
    "7 and 3 produce the largest product."
   ]
  },
  {
   "cell_type": "code",
   "execution_count": 17,
   "metadata": {},
   "outputs": [
    {
     "name": "stdout",
     "output_type": "stream",
     "text": [
      "18\n",
      "-12\n",
      "10\n",
      "-35\n",
      "21\n"
     ]
    },
    {
     "data": {
      "text/plain": [
       "'Max Value: 21'"
      ]
     },
     "execution_count": 17,
     "metadata": {},
     "output_type": "execute_result"
    }
   ],
   "source": [
    "def solution(inputArray):\n",
    "   if 2 <= len(inputArray) <= 10 and -1000 <= len(inputArray) <= 1000:\n",
    "    tam = len(inputArray)\n",
    "    produto, max_val = 0, 0\n",
    "    for rodada in range(0,tam-1):\n",
    "        print(inputArray[rodada] * inputArray[rodada + 1])\n",
    "        produto = inputArray[rodada] * inputArray[rodada + 1]\n",
    "        if produto > max_val:\n",
    "            max_val = produto\n",
    "    return f'Max Value: {max_val}'\n",
    "\n",
    "inputArray = [3, 6, -2, -5, 7, 3]\n",
    "solution(inputArray)"
   ]
  },
  {
   "cell_type": "code",
   "execution_count": 18,
   "metadata": {},
   "outputs": [
    {
     "data": {
      "text/plain": [
       "'Max Value: 21'"
      ]
     },
     "execution_count": 18,
     "metadata": {},
     "output_type": "execute_result"
    }
   ],
   "source": [
    "def solution(inputArray):\n",
    "   if 2 <= len(inputArray) <= 10 and -1000 <= len(inputArray) <= 1000:\n",
    "    max_val =  [(inputArray[rodada] * inputArray[rodada + 1]) for rodada in range(0,len(inputArray)-1)] \n",
    "    return f'Max Value: {max(max_val)}'\n",
    "\n",
    "inputArray = [3, 6, -2, -5, 7, 3]\n",
    "solution(inputArray)"
   ]
  },
  {
   "cell_type": "code",
   "execution_count": 170,
   "metadata": {},
   "outputs": [
    {
     "name": "stdout",
     "output_type": "stream",
     "text": [
      "((3, 6), (6, -2), (-2, -5), (-5, 7), (7, 3))\n"
     ]
    },
    {
     "data": {
      "text/plain": [
       "[18, -12, 10, -35, 21]"
      ]
     },
     "execution_count": 170,
     "metadata": {},
     "output_type": "execute_result"
    }
   ],
   "source": [
    "inputArray = [3, 6, -2, -5, 7, 3]\n",
    "print(tuple(zip(inputArray, inputArray[1:])))\n",
    "[a*b for a, b in zip(inputArray, inputArray[1:])]"
   ]
  },
  {
   "cell_type": "code",
   "execution_count": 165,
   "metadata": {},
   "outputs": [
    {
     "data": {
      "text/plain": [
       "21"
      ]
     },
     "execution_count": 165,
     "metadata": {},
     "output_type": "execute_result"
    }
   ],
   "source": [
    "def solution(inputArray):\n",
    "   if 2 <= len(inputArray) <= 10 and -1000 <= len(inputArray) <= 1000:\n",
    "        return max(a*b for a, b in zip(inputArray, inputArray[1:]))\n",
    "\n",
    "\n",
    "inputArray = [3, 6, -2, -5, 7, 3]\n",
    "solution(inputArray)"
   ]
  },
  {
   "cell_type": "markdown",
   "metadata": {},
   "source": [
    "not solved"
   ]
  }
 ],
 "metadata": {
  "kernelspec": {
   "display_name": "Python 3.9.6 64-bit",
   "language": "python",
   "name": "python3"
  },
  "language_info": {
   "codemirror_mode": {
    "name": "ipython",
    "version": 3
   },
   "file_extension": ".py",
   "mimetype": "text/x-python",
   "name": "python",
   "nbconvert_exporter": "python",
   "pygments_lexer": "ipython3",
   "version": "3.9.6"
  },
  "orig_nbformat": 4,
  "vscode": {
   "interpreter": {
    "hash": "75b64ca35833826d255b5110be976b8b491e59919d991eceebad02336ca41c97"
   }
  }
 },
 "nbformat": 4,
 "nbformat_minor": 2
}
