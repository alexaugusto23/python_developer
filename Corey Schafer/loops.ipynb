{
 "cells": [
  {
   "cell_type": "markdown",
   "source": [
    "### Tabuleiro N x N\r\n",
    "\r\n",
    "Entada: 3\r\n",
    "Saída:\r\n",
    "\r\n",
    "x x x\r\n",
    "\r\n",
    "x x x\r\n",
    "\r\n",
    "Entada: 2\r\n",
    "Saída: \r\n",
    "\r\n",
    "x x\r\n",
    "\r\n",
    "x x"
   ],
   "metadata": {}
  },
  {
   "cell_type": "code",
   "execution_count": 20,
   "source": [
    "# Testando fors\r\n",
    "n = 5 \r\n",
    "\r\n",
    "for linha in range(n):\r\n",
    "    print(linha)\r\n",
    "    for coluna in range(linha):\r\n",
    "        print(f\"{coluna}\", end=' ')"
   ],
   "outputs": [
    {
     "output_type": "stream",
     "name": "stdout",
     "text": [
      "Vamos criar um tabuleiro de tamanho N x N:\n",
      "0\n",
      "1\n",
      "0 2\n",
      "0 1 3\n",
      "0 1 2 4\n",
      "0 1 2 3 "
     ]
    }
   ],
   "metadata": {}
  },
  {
   "cell_type": "code",
   "execution_count": 40,
   "source": [
    "# Testando fors\r\n",
    "n = 5 \r\n",
    "\r\n",
    "for linha in range(n):\r\n",
    "    for coluna in range(linha):\r\n",
    "        print(f\"{coluna}\", end=' ')\r\n",
    "    print(linha)"
   ],
   "outputs": [
    {
     "output_type": "stream",
     "name": "stdout",
     "text": [
      "0\n",
      "0 1\n",
      "0 1 2\n",
      "0 1 2 3\n",
      "0 1 2 3 4\n"
     ]
    }
   ],
   "metadata": {}
  },
  {
   "cell_type": "code",
   "execution_count": 34,
   "source": [
    "print(f\"Vamos criar um tabuleiro de tamanho N x N:\")\r\n",
    "n = 2 # int(input(f\"Valor de N: \"))\r\n",
    "\r\n",
    "for linha in range(n):\r\n",
    "    for coluna in range(n):\r\n",
    "        print(f\"x \", end='')\r\n",
    "    print()"
   ],
   "outputs": [
    {
     "output_type": "stream",
     "name": "stdout",
     "text": [
      "Vamos criar um tabuleiro de tamanho N x N:\n",
      "x x \n",
      "x x \n"
     ]
    }
   ],
   "metadata": {}
  },
  {
   "cell_type": "markdown",
   "source": [
    "### Relógio exibe  minutos e segundos."
   ],
   "metadata": {}
  },
  {
   "cell_type": "code",
   "execution_count": 49,
   "source": [
    "import os\r\n",
    "from time import sleep\r\n",
    "\r\n",
    "def relogio():\r\n",
    "    for horas in range(24):\r\n",
    "        for minutos in range(60):\r\n",
    "            for segundos in range(60):\r\n",
    "                sleep(1)\r\n",
    "                print(f\"{horas}:{minutos}:{segundos}\")\r\n",
    "                os.system('cls')\r\n",
    "\r\n"
   ],
   "outputs": [],
   "metadata": {}
  },
  {
   "cell_type": "code",
   "execution_count": 50,
   "source": [
    "nums = [1,2,3,4,5]\r\n",
    "for num in nums:\r\n",
    "    print(num)"
   ],
   "outputs": [
    {
     "output_type": "stream",
     "name": "stdout",
     "text": [
      "1\n",
      "2\n",
      "3\n",
      "4\n",
      "5\n"
     ]
    }
   ],
   "metadata": {}
  },
  {
   "cell_type": "code",
   "execution_count": 51,
   "source": [
    "nums = [1,2,3,4,5]\r\n",
    "for num in nums:\r\n",
    "    if num == 3:\r\n",
    "        print(\"Found!\")\r\n",
    "        break\r\n",
    "    print(num)"
   ],
   "outputs": [
    {
     "output_type": "stream",
     "name": "stdout",
     "text": [
      "1\n",
      "2\n",
      "Found!\n"
     ]
    }
   ],
   "metadata": {}
  },
  {
   "cell_type": "code",
   "execution_count": 53,
   "source": [
    "nums = [1,2,3,4,5]\r\n",
    "for num in nums:\r\n",
    "    if num == 3:\r\n",
    "        print(f\"Found! {num}\")\r\n",
    "        continue\r\n",
    "    print(num)"
   ],
   "outputs": [
    {
     "output_type": "stream",
     "name": "stdout",
     "text": [
      "1\n",
      "2\n",
      "Found! 3\n",
      "4\n",
      "5\n"
     ]
    }
   ],
   "metadata": {}
  },
  {
   "cell_type": "code",
   "execution_count": 56,
   "source": [
    "nums = [1,2,3,4,5]\r\n",
    "for num in nums:\r\n",
    "    for letter in 'abc':\r\n",
    "        print(num, letter)"
   ],
   "outputs": [
    {
     "output_type": "stream",
     "name": "stdout",
     "text": [
      "1 a\n",
      "1 b\n",
      "1 c\n",
      "2 a\n",
      "2 b\n",
      "2 c\n",
      "3 a\n",
      "3 b\n",
      "3 c\n",
      "4 a\n",
      "4 b\n",
      "4 c\n",
      "5 a\n",
      "5 b\n",
      "5 c\n"
     ]
    }
   ],
   "metadata": {}
  },
  {
   "cell_type": "code",
   "execution_count": 57,
   "source": [
    "for i in range(1,11):\r\n",
    "    print(i)"
   ],
   "outputs": [
    {
     "output_type": "stream",
     "name": "stdout",
     "text": [
      "1\n",
      "2\n",
      "3\n",
      "4\n",
      "5\n",
      "6\n",
      "7\n",
      "8\n",
      "9\n",
      "10\n"
     ]
    }
   ],
   "metadata": {}
  },
  {
   "cell_type": "code",
   "execution_count": 58,
   "source": [
    "x = 0\r\n",
    "while x < 10:\r\n",
    "    print(x)\r\n",
    "    x += 1"
   ],
   "outputs": [
    {
     "output_type": "stream",
     "name": "stdout",
     "text": [
      "0\n",
      "1\n",
      "2\n",
      "3\n",
      "4\n",
      "5\n",
      "6\n",
      "7\n",
      "8\n",
      "9\n"
     ]
    }
   ],
   "metadata": {}
  },
  {
   "cell_type": "code",
   "execution_count": 59,
   "source": [
    "x = 1\r\n",
    "while x <= 10:\r\n",
    "    print(x)\r\n",
    "    x += 1"
   ],
   "outputs": [
    {
     "output_type": "stream",
     "name": "stdout",
     "text": [
      "1\n",
      "2\n",
      "3\n",
      "4\n",
      "5\n",
      "6\n",
      "7\n",
      "8\n",
      "9\n",
      "10\n"
     ]
    }
   ],
   "metadata": {}
  },
  {
   "cell_type": "code",
   "execution_count": 60,
   "source": [
    "x = 1\r\n",
    "while x < 11:\r\n",
    "    print(x)\r\n",
    "    x += 1"
   ],
   "outputs": [
    {
     "output_type": "stream",
     "name": "stdout",
     "text": [
      "1\n",
      "2\n",
      "3\n",
      "4\n",
      "5\n",
      "6\n",
      "7\n",
      "8\n",
      "9\n",
      "10\n"
     ]
    }
   ],
   "metadata": {}
  },
  {
   "cell_type": "code",
   "execution_count": 61,
   "source": [
    "x = 0\r\n",
    "while x < 10:\r\n",
    "    if x == 5:\r\n",
    "        print(f\"Found! {x}\")\r\n",
    "        break\r\n",
    "    print(x)\r\n",
    "    x += 1"
   ],
   "outputs": [
    {
     "output_type": "stream",
     "name": "stdout",
     "text": [
      "0\n",
      "1\n",
      "2\n",
      "3\n",
      "4\n",
      "Found! 5\n"
     ]
    }
   ],
   "metadata": {}
  },
  {
   "cell_type": "code",
   "execution_count": 62,
   "source": [
    "x = 0\r\n",
    "while True:\r\n",
    "    if x == 5:\r\n",
    "        print(f\"Found! {x}\")\r\n",
    "        break\r\n",
    "    print(x)\r\n",
    "    x += 1"
   ],
   "outputs": [
    {
     "output_type": "stream",
     "name": "stdout",
     "text": [
      "0\n",
      "1\n",
      "2\n",
      "3\n",
      "4\n",
      "Found! 5\n"
     ]
    }
   ],
   "metadata": {}
  },
  {
   "cell_type": "code",
   "execution_count": null,
   "source": [],
   "outputs": [],
   "metadata": {}
  },
  {
   "cell_type": "code",
   "execution_count": null,
   "source": [],
   "outputs": [],
   "metadata": {}
  },
  {
   "cell_type": "code",
   "execution_count": null,
   "source": [],
   "outputs": [],
   "metadata": {}
  }
 ],
 "metadata": {
  "orig_nbformat": 4,
  "language_info": {
   "name": "python",
   "version": "3.9.6",
   "mimetype": "text/x-python",
   "codemirror_mode": {
    "name": "ipython",
    "version": 3
   },
   "pygments_lexer": "ipython3",
   "nbconvert_exporter": "python",
   "file_extension": ".py"
  },
  "kernelspec": {
   "name": "python3",
   "display_name": "Python 3.9.6 64-bit"
  },
  "interpreter": {
   "hash": "37d5714b4ea6c666124e5e9f794c33113a02017c263bbdd899fa45355d80942a"
  }
 },
 "nbformat": 4,
 "nbformat_minor": 2
}