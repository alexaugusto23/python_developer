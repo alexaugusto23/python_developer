{
 "cells": [
  {
   "cell_type": "markdown",
   "source": [
    "## Functions"
   ],
   "metadata": {}
  },
  {
   "cell_type": "code",
   "execution_count": 19,
   "source": [
    "def hello_func():\r\n",
    "    pass\r\n",
    "\r\n",
    "print(hello_func())"
   ],
   "outputs": [
    {
     "output_type": "stream",
     "name": "stdout",
     "text": [
      "None\n"
     ]
    }
   ],
   "metadata": {}
  },
  {
   "cell_type": "code",
   "execution_count": 20,
   "source": [
    "def hello_func():\r\n",
    "    return \"Hello Function!\"\r\n",
    "\r\n",
    "hello_func()"
   ],
   "outputs": [
    {
     "output_type": "execute_result",
     "data": {
      "text/plain": [
       "'Hello Function!'"
      ]
     },
     "metadata": {},
     "execution_count": 20
    }
   ],
   "metadata": {}
  },
  {
   "cell_type": "code",
   "execution_count": 21,
   "source": [
    "def hello_func():\r\n",
    "    return \"Hello Function!\"\r\n",
    "\r\n",
    "len(hello_func())"
   ],
   "outputs": [
    {
     "output_type": "execute_result",
     "data": {
      "text/plain": [
       "15"
      ]
     },
     "metadata": {},
     "execution_count": 21
    }
   ],
   "metadata": {}
  },
  {
   "cell_type": "code",
   "execution_count": 22,
   "source": [
    "def hello_func():\r\n",
    "    return \"Hello Function!\"\r\n",
    "\r\n",
    "hello_func().upper()"
   ],
   "outputs": [
    {
     "output_type": "execute_result",
     "data": {
      "text/plain": [
       "'HELLO FUNCTION!'"
      ]
     },
     "metadata": {},
     "execution_count": 22
    }
   ],
   "metadata": {}
  },
  {
   "cell_type": "code",
   "execution_count": 23,
   "source": [
    "def hello_func():\r\n",
    "    return \"Hello Function!\"\r\n",
    "\r\n",
    "hello_func().lower()"
   ],
   "outputs": [
    {
     "output_type": "execute_result",
     "data": {
      "text/plain": [
       "'hello function!'"
      ]
     },
     "metadata": {},
     "execution_count": 23
    }
   ],
   "metadata": {}
  },
  {
   "cell_type": "code",
   "execution_count": 24,
   "source": [
    "def hello_func(greting):\r\n",
    "    return f\"{greting}\"\r\n",
    "\r\n",
    "hello_func(\"Hi\")"
   ],
   "outputs": [
    {
     "output_type": "execute_result",
     "data": {
      "text/plain": [
       "'Hi'"
      ]
     },
     "metadata": {},
     "execution_count": 24
    }
   ],
   "metadata": {}
  },
  {
   "cell_type": "code",
   "execution_count": 25,
   "source": [
    "def hello_func(greting,name='You' ):\r\n",
    "    return f\"{greting}, {name}\"\r\n",
    "\r\n",
    "hello_func(\"Hi\")"
   ],
   "outputs": [
    {
     "output_type": "execute_result",
     "data": {
      "text/plain": [
       "'Hi, You'"
      ]
     },
     "metadata": {},
     "execution_count": 25
    }
   ],
   "metadata": {}
  },
  {
   "cell_type": "code",
   "execution_count": 26,
   "source": [
    "def hello_func(greting,name='You' ):\r\n",
    "    return f\"{greting}, {name}\"\r\n",
    "\r\n",
    "hello_func(\"Hi\", name='Corey')"
   ],
   "outputs": [
    {
     "output_type": "execute_result",
     "data": {
      "text/plain": [
       "'Hi, Corey'"
      ]
     },
     "metadata": {},
     "execution_count": 26
    }
   ],
   "metadata": {}
  },
  {
   "cell_type": "code",
   "execution_count": 27,
   "source": [
    "def student_info(*args, **kargs):\r\n",
    "    return args, kargs\r\n",
    "\r\n",
    "student_info('Math', 'Art', name='John', age=22)"
   ],
   "outputs": [
    {
     "output_type": "execute_result",
     "data": {
      "text/plain": [
       "(('Math', 'Art'), {'name': 'John', 'age': 22})"
      ]
     },
     "metadata": {},
     "execution_count": 27
    }
   ],
   "metadata": {}
  },
  {
   "cell_type": "code",
   "execution_count": 28,
   "source": [
    "def student_info(*args, **kargs):\r\n",
    "    return args, kargs\r\n",
    "\r\n",
    "courses = ['Math', 'Art']\r\n",
    "info = {'name':'John', 'age':22}\r\n",
    "student_info(courses, info)"
   ],
   "outputs": [
    {
     "output_type": "execute_result",
     "data": {
      "text/plain": [
       "((['Math', 'Art'], {'name': 'John', 'age': 22}), {})"
      ]
     },
     "metadata": {},
     "execution_count": 28
    }
   ],
   "metadata": {}
  },
  {
   "cell_type": "code",
   "execution_count": 29,
   "source": [
    "def student_info(*args, **kargs):\r\n",
    "    return args, kargs\r\n",
    "\r\n",
    "courses = ['Math', 'Art']\r\n",
    "info = {'name':'John', 'age':22}\r\n",
    "student_info(*courses, **info)"
   ],
   "outputs": [
    {
     "output_type": "execute_result",
     "data": {
      "text/plain": [
       "(('Math', 'Art'), {'name': 'John', 'age': 22})"
      ]
     },
     "metadata": {},
     "execution_count": 29
    }
   ],
   "metadata": {}
  },
  {
   "cell_type": "code",
   "execution_count": 30,
   "source": [
    "def addNumbers(*args):\r\n",
    "\ttotal = 0\r\n",
    "\tfor a in args:\r\n",
    "\t\ttotal = total + a\r\n",
    "\tprint(total)\r\n",
    "\r\n",
    "addNumbers(9, 10, 12)\r\n",
    "addNumbers(13, 14, 15, 15)"
   ],
   "outputs": [
    {
     "output_type": "stream",
     "name": "stdout",
     "text": [
      "31\n",
      "57\n"
     ]
    }
   ],
   "metadata": {}
  },
  {
   "cell_type": "code",
   "execution_count": 31,
   "source": [
    "def printOrder(**kwargs):\r\n",
    "\tprint(kwargs)\r\n",
    "\r\n",
    "printOrder(coffee=\"Mocha\", price=2.90, size=\"Large\")"
   ],
   "outputs": [
    {
     "output_type": "stream",
     "name": "stdout",
     "text": [
      "{'coffee': 'Mocha', 'price': 2.9, 'size': 'Large'}\n"
     ]
    }
   ],
   "metadata": {}
  },
  {
   "cell_type": "code",
   "execution_count": 33,
   "source": [
    "def printOrder(**kwargs):\r\n",
    "    for key, value in kwargs.items():\r\n",
    "            print(f\"{key} is equal to {value}\")\r\n",
    "\r\n",
    "printOrder(coffee=\"Mocha\", price=2.90, size=\"Large\")"
   ],
   "outputs": [
    {
     "output_type": "stream",
     "name": "stdout",
     "text": [
      "coffee is equal to Mocha\n",
      "price is equal to 2.9\n",
      "size is equal to Large\n"
     ]
    }
   ],
   "metadata": {}
  },
  {
   "cell_type": "code",
   "execution_count": 38,
   "source": [
    "# Number of days per month, First value placeholder for index purposes.\r\n",
    "month_days = [0,31,28,31,30,31,30,31,31,30,31,30,31]\r\n",
    "\r\n",
    "def is_leap(year):\r\n",
    "    \"\"\"Return True for leap years, False for non-leap years\"\"\"\r\n",
    "    return year % 4 == 0 and (year % 100 != 0 or year % 400 == 0)\r\n",
    "\r\n",
    "def days_in_month(year, month):\r\n",
    "    \"\"\"Return number of days in that month in that year\"\"\"\r\n",
    "\r\n",
    "    if not 1 <= month <= 12:\r\n",
    "        return 'Invalid Month'\r\n",
    "    if month == 2 and is_leap(year):\r\n",
    "        return 29\r\n",
    "\r\n",
    "    return month_days[month]\r\n",
    "\r\n",
    "days_in_month(2017, 2)\r\n"
   ],
   "outputs": [
    {
     "output_type": "execute_result",
     "data": {
      "text/plain": [
       "28"
      ]
     },
     "metadata": {},
     "execution_count": 38
    }
   ],
   "metadata": {}
  }
 ],
 "metadata": {
  "orig_nbformat": 4,
  "language_info": {
   "name": "python",
   "version": "3.9.6",
   "mimetype": "text/x-python",
   "codemirror_mode": {
    "name": "ipython",
    "version": 3
   },
   "pygments_lexer": "ipython3",
   "nbconvert_exporter": "python",
   "file_extension": ".py"
  },
  "kernelspec": {
   "name": "python3",
   "display_name": "Python 3.9.6 64-bit"
  },
  "interpreter": {
   "hash": "37d5714b4ea6c666124e5e9f794c33113a02017c263bbdd899fa45355d80942a"
  }
 },
 "nbformat": 4,
 "nbformat_minor": 2
}