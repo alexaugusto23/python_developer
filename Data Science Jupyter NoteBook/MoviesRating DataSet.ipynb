{
 "cells": [
  {
   "cell_type": "code",
   "execution_count": 51,
   "id": "prepared-bobby",
   "metadata": {},
   "outputs": [],
   "source": [
    "#Resolvendo o problema de import do matplotlib intalando através do sys\n",
    "#import sys  \n",
    "#!{sys.executable} -m pip install --user matplotlib\n",
    "# Fonte: http://jakevdp.github.io/blog/2017/12/05/installing-python-packages-from-jupyter/"
   ]
  },
  {
   "cell_type": "markdown",
   "id": "expired-arthur",
   "metadata": {},
   "source": [
    "# Analisando as notas em geral"
   ]
  },
  {
   "cell_type": "code",
   "execution_count": 1,
   "id": "marked-leone",
   "metadata": {},
   "outputs": [
    {
     "name": "stderr",
     "output_type": "stream",
     "text": [
      "c:\\users\\alexsandro.ignacio\\appdata\\local\\programs\\python\\python37\\lib\\site-packages\\ipykernel_launcher.py:13: ParserWarning: Falling back to the 'python' engine because the 'c' engine does not support sep=None with delim_whitespace=False; you can avoid this warning by specifying engine='python'.\n",
      "  del sys.path[0]\n"
     ]
    },
    {
     "data": {
      "text/html": [
       "<div>\n",
       "<style scoped>\n",
       "    .dataframe tbody tr th:only-of-type {\n",
       "        vertical-align: middle;\n",
       "    }\n",
       "\n",
       "    .dataframe tbody tr th {\n",
       "        vertical-align: top;\n",
       "    }\n",
       "\n",
       "    .dataframe thead th {\n",
       "        text-align: right;\n",
       "    }\n",
       "</style>\n",
       "<table border=\"1\" class=\"dataframe\">\n",
       "  <thead>\n",
       "    <tr style=\"text-align: right;\">\n",
       "      <th></th>\n",
       "      <th>userId</th>\n",
       "      <th>movieId</th>\n",
       "      <th>rating</th>\n",
       "      <th>timestamp</th>\n",
       "    </tr>\n",
       "  </thead>\n",
       "  <tbody>\n",
       "    <tr>\n",
       "      <th>0</th>\n",
       "      <td>1</td>\n",
       "      <td>1</td>\n",
       "      <td>4.0</td>\n",
       "      <td>964982703</td>\n",
       "    </tr>\n",
       "    <tr>\n",
       "      <th>1</th>\n",
       "      <td>1</td>\n",
       "      <td>3</td>\n",
       "      <td>4.0</td>\n",
       "      <td>964981247</td>\n",
       "    </tr>\n",
       "    <tr>\n",
       "      <th>2</th>\n",
       "      <td>1</td>\n",
       "      <td>6</td>\n",
       "      <td>4.0</td>\n",
       "      <td>964982224</td>\n",
       "    </tr>\n",
       "    <tr>\n",
       "      <th>3</th>\n",
       "      <td>1</td>\n",
       "      <td>47</td>\n",
       "      <td>5.0</td>\n",
       "      <td>964983815</td>\n",
       "    </tr>\n",
       "    <tr>\n",
       "      <th>4</th>\n",
       "      <td>1</td>\n",
       "      <td>50</td>\n",
       "      <td>5.0</td>\n",
       "      <td>964982931</td>\n",
       "    </tr>\n",
       "  </tbody>\n",
       "</table>\n",
       "</div>"
      ],
      "text/plain": [
       "   userId  movieId  rating  timestamp\n",
       "0       1        1     4.0  964982703\n",
       "1       1        3     4.0  964981247\n",
       "2       1        6     4.0  964982224\n",
       "3       1       47     5.0  964983815\n",
       "4       1       50     5.0  964982931"
      ]
     },
     "execution_count": 1,
     "metadata": {},
     "output_type": "execute_result"
    }
   ],
   "source": [
    "import pandas as pd \n",
    "import numpy as np\n",
    "import os\n",
    "import matplotlib\n",
    "import matplotlib.pyplot as plt\n",
    "import random\n",
    "\n",
    "# pip install seaborn\n",
    "import seaborn as sns\n",
    "\n",
    "#Lê o caminho atual: os.path.join(current_path,'ml-latest-small',\"rating.csv\" )\n",
    "current_path = os.getcwd()\n",
    "notas = pd.read_csv(os.path.join(current_path,'ml-latest-small','ratings.csv'), sep=None)\n",
    "\n",
    "notas.head()\n"
   ]
  },
  {
   "cell_type": "code",
   "execution_count": 2,
   "id": "premium-class",
   "metadata": {},
   "outputs": [
    {
     "data": {
      "text/plain": [
       "(100836, 4)"
      ]
     },
     "execution_count": 2,
     "metadata": {},
     "output_type": "execute_result"
    }
   ],
   "source": [
    "notas.shape"
   ]
  },
  {
   "cell_type": "code",
   "execution_count": 3,
   "id": "running-absorption",
   "metadata": {},
   "outputs": [
    {
     "data": {
      "text/html": [
       "<div>\n",
       "<style scoped>\n",
       "    .dataframe tbody tr th:only-of-type {\n",
       "        vertical-align: middle;\n",
       "    }\n",
       "\n",
       "    .dataframe tbody tr th {\n",
       "        vertical-align: top;\n",
       "    }\n",
       "\n",
       "    .dataframe thead th {\n",
       "        text-align: right;\n",
       "    }\n",
       "</style>\n",
       "<table border=\"1\" class=\"dataframe\">\n",
       "  <thead>\n",
       "    <tr style=\"text-align: right;\">\n",
       "      <th></th>\n",
       "      <th>usuarioiD</th>\n",
       "      <th>filmeID</th>\n",
       "      <th>nota</th>\n",
       "      <th>momento</th>\n",
       "    </tr>\n",
       "  </thead>\n",
       "  <tbody>\n",
       "    <tr>\n",
       "      <th>0</th>\n",
       "      <td>1</td>\n",
       "      <td>1</td>\n",
       "      <td>4.0</td>\n",
       "      <td>964982703</td>\n",
       "    </tr>\n",
       "    <tr>\n",
       "      <th>1</th>\n",
       "      <td>1</td>\n",
       "      <td>3</td>\n",
       "      <td>4.0</td>\n",
       "      <td>964981247</td>\n",
       "    </tr>\n",
       "    <tr>\n",
       "      <th>2</th>\n",
       "      <td>1</td>\n",
       "      <td>6</td>\n",
       "      <td>4.0</td>\n",
       "      <td>964982224</td>\n",
       "    </tr>\n",
       "    <tr>\n",
       "      <th>3</th>\n",
       "      <td>1</td>\n",
       "      <td>47</td>\n",
       "      <td>5.0</td>\n",
       "      <td>964983815</td>\n",
       "    </tr>\n",
       "    <tr>\n",
       "      <th>4</th>\n",
       "      <td>1</td>\n",
       "      <td>50</td>\n",
       "      <td>5.0</td>\n",
       "      <td>964982931</td>\n",
       "    </tr>\n",
       "  </tbody>\n",
       "</table>\n",
       "</div>"
      ],
      "text/plain": [
       "   usuarioiD  filmeID  nota    momento\n",
       "0          1        1   4.0  964982703\n",
       "1          1        3   4.0  964981247\n",
       "2          1        6   4.0  964982224\n",
       "3          1       47   5.0  964983815\n",
       "4          1       50   5.0  964982931"
      ]
     },
     "execution_count": 3,
     "metadata": {},
     "output_type": "execute_result"
    }
   ],
   "source": [
    "notas.columns = [\"usuarioiD\", \"filmeID\", \"nota\", \"momento\"]\n",
    "notas.head()"
   ]
  },
  {
   "cell_type": "code",
   "execution_count": 4,
   "id": "demonstrated-journalism",
   "metadata": {},
   "outputs": [
    {
     "data": {
      "text/plain": [
       "array([4. , 5. , 3. , 2. , 1. , 4.5, 3.5, 2.5, 0.5, 1.5])"
      ]
     },
     "execution_count": 4,
     "metadata": {},
     "output_type": "execute_result"
    }
   ],
   "source": [
    "notas['nota'].unique()"
   ]
  },
  {
   "cell_type": "code",
   "execution_count": 5,
   "id": "underlying-marriage",
   "metadata": {},
   "outputs": [
    {
     "data": {
      "text/html": [
       "<div>\n",
       "<style scoped>\n",
       "    .dataframe tbody tr th:only-of-type {\n",
       "        vertical-align: middle;\n",
       "    }\n",
       "\n",
       "    .dataframe tbody tr th {\n",
       "        vertical-align: top;\n",
       "    }\n",
       "\n",
       "    .dataframe thead th {\n",
       "        text-align: right;\n",
       "    }\n",
       "</style>\n",
       "<table border=\"1\" class=\"dataframe\">\n",
       "  <thead>\n",
       "    <tr style=\"text-align: right;\">\n",
       "      <th></th>\n",
       "      <th>usuarioiD</th>\n",
       "      <th>filmeID</th>\n",
       "      <th>nota</th>\n",
       "      <th>momento</th>\n",
       "    </tr>\n",
       "  </thead>\n",
       "  <tbody>\n",
       "    <tr>\n",
       "      <th>0</th>\n",
       "      <td>1</td>\n",
       "      <td>1</td>\n",
       "      <td>4.0</td>\n",
       "      <td>964982703</td>\n",
       "    </tr>\n",
       "    <tr>\n",
       "      <th>1</th>\n",
       "      <td>1</td>\n",
       "      <td>3</td>\n",
       "      <td>4.0</td>\n",
       "      <td>964981247</td>\n",
       "    </tr>\n",
       "    <tr>\n",
       "      <th>2</th>\n",
       "      <td>1</td>\n",
       "      <td>6</td>\n",
       "      <td>4.0</td>\n",
       "      <td>964982224</td>\n",
       "    </tr>\n",
       "    <tr>\n",
       "      <th>3</th>\n",
       "      <td>1</td>\n",
       "      <td>47</td>\n",
       "      <td>5.0</td>\n",
       "      <td>964983815</td>\n",
       "    </tr>\n",
       "    <tr>\n",
       "      <th>4</th>\n",
       "      <td>1</td>\n",
       "      <td>50</td>\n",
       "      <td>5.0</td>\n",
       "      <td>964982931</td>\n",
       "    </tr>\n",
       "  </tbody>\n",
       "</table>\n",
       "</div>"
      ],
      "text/plain": [
       "   usuarioiD  filmeID  nota    momento\n",
       "0          1        1   4.0  964982703\n",
       "1          1        3   4.0  964981247\n",
       "2          1        6   4.0  964982224\n",
       "3          1       47   5.0  964983815\n",
       "4          1       50   5.0  964982931"
      ]
     },
     "execution_count": 5,
     "metadata": {},
     "output_type": "execute_result"
    }
   ],
   "source": [
    "notas.head()"
   ]
  },
  {
   "cell_type": "code",
   "execution_count": 6,
   "id": "floppy-ability",
   "metadata": {},
   "outputs": [
    {
     "data": {
      "text/plain": [
       "4.0    26818\n",
       "3.0    20047\n",
       "5.0    13211\n",
       "3.5    13136\n",
       "4.5     8551\n",
       "2.0     7551\n",
       "2.5     5550\n",
       "1.0     2811\n",
       "1.5     1791\n",
       "0.5     1370\n",
       "Name: nota, dtype: int64"
      ]
     },
     "execution_count": 6,
     "metadata": {},
     "output_type": "execute_result"
    }
   ],
   "source": [
    "notas['nota'].value_counts()"
   ]
  },
  {
   "cell_type": "code",
   "execution_count": 7,
   "id": "nervous-nation",
   "metadata": {},
   "outputs": [
    {
     "name": "stdout",
     "output_type": "stream",
     "text": [
      "Média 3.501556983616962\n",
      "Mediana 3.5\n"
     ]
    }
   ],
   "source": [
    "print(\"Média\",notas['nota'].mean())\n",
    "print(\"Mediana\",notas['nota'].median())"
   ]
  },
  {
   "cell_type": "code",
   "execution_count": 8,
   "id": "acquired-memory",
   "metadata": {},
   "outputs": [
    {
     "data": {
      "text/plain": [
       "0         4.0\n",
       "1         4.0\n",
       "2         4.0\n",
       "3         5.0\n",
       "4         5.0\n",
       "         ... \n",
       "100831    4.0\n",
       "100832    5.0\n",
       "100833    5.0\n",
       "100834    5.0\n",
       "100835    3.0\n",
       "Name: nota, Length: 100836, dtype: float64"
      ]
     },
     "execution_count": 8,
     "metadata": {},
     "output_type": "execute_result"
    }
   ],
   "source": [
    "notas.nota"
   ]
  },
  {
   "cell_type": "code",
   "execution_count": 9,
   "id": "covered-horror",
   "metadata": {},
   "outputs": [
    {
     "data": {
      "text/plain": [
       "0    4.0\n",
       "1    4.0\n",
       "2    4.0\n",
       "3    5.0\n",
       "4    5.0\n",
       "Name: nota, dtype: float64"
      ]
     },
     "execution_count": 9,
     "metadata": {},
     "output_type": "execute_result"
    }
   ],
   "source": [
    "notas.nota.head()"
   ]
  },
  {
   "cell_type": "code",
   "execution_count": 10,
   "id": "banner-wallpaper",
   "metadata": {},
   "outputs": [
    {
     "data": {
      "text/plain": [
       "<AxesSubplot:ylabel='Frequency'>"
      ]
     },
     "execution_count": 10,
     "metadata": {},
     "output_type": "execute_result"
    },
    {
     "data": {
      "image/png": "[encoded data removed]",
      "text/plain": [
       "<Figure size 432x288 with 1 Axes>"
      ]
     },
     "metadata": {
      "needs_background": "light"
     },
     "output_type": "display_data"
    }
   ],
   "source": [
    "notas.nota.plot(kind='hist')"
   ]
  },
  {
   "cell_type": "code",
   "execution_count": 11,
   "id": "disabled-jenny",
   "metadata": {},
   "outputs": [
    {
     "data": {
      "text/plain": [
       "count    100836.000000\n",
       "mean          3.501557\n",
       "std           1.042529\n",
       "min           0.500000\n",
       "25%           3.000000\n",
       "50%           3.500000\n",
       "75%           4.000000\n",
       "max           5.000000\n",
       "Name: nota, dtype: float64"
      ]
     },
     "execution_count": 11,
     "metadata": {},
     "output_type": "execute_result"
    }
   ],
   "source": [
    "notas.nota.describe()"
   ]
  },
  {
   "cell_type": "code",
   "execution_count": 12,
   "id": "sunset-shoulder",
   "metadata": {},
   "outputs": [],
   "source": [
    "#import sys  \n",
    "#!{sys.executable} -m pip install --user seaborn"
   ]
  },
  {
   "cell_type": "code",
   "execution_count": 13,
   "id": "humanitarian-senegal",
   "metadata": {
    "scrolled": true
   },
   "outputs": [
    {
     "name": "stderr",
     "output_type": "stream",
     "text": [
      "c:\\users\\alexsandro.ignacio\\appdata\\local\\programs\\python\\python37\\lib\\site-packages\\seaborn\\_decorators.py:43: FutureWarning: Pass the following variable as a keyword arg: x. From version 0.12, the only valid positional argument will be `data`, and passing other arguments without an explicit keyword will result in an error or misinterpretation.\n",
      "  FutureWarning\n"
     ]
    },
    {
     "data": {
      "text/plain": [
       "<AxesSubplot:xlabel='nota'>"
      ]
     },
     "execution_count": 13,
     "metadata": {},
     "output_type": "execute_result"
    },
    {
     "data": {
      "image/png": "[encoded data removed]",
      "text/plain": [
       "<Figure size 432x288 with 1 Axes>"
      ]
     },
     "metadata": {
      "needs_background": "light"
     },
     "output_type": "display_data"
    }
   ],
   "source": [
    "sns.boxplot(notas.nota)"
   ]
  },
  {
   "cell_type": "code",
   "execution_count": 14,
   "id": "compound-thomas",
   "metadata": {},
   "outputs": [
    {
     "name": "stderr",
     "output_type": "stream",
     "text": [
      "c:\\users\\alexsandro.ignacio\\appdata\\local\\programs\\python\\python37\\lib\\site-packages\\ipykernel_launcher.py:1: ParserWarning: Falling back to the 'python' engine because the 'c' engine does not support sep=None with delim_whitespace=False; you can avoid this warning by specifying engine='python'.\n",
      "  \"\"\"Entry point for launching an IPython kernel.\n"
     ]
    },
    {
     "name": "stdout",
     "output_type": "stream",
     "text": [
      "      movieId                                      title  \\\n",
      "0           1                           Toy Story (1995)   \n",
      "1           2                             Jumanji (1995)   \n",
      "2           3                    Grumpier Old Men (1995)   \n",
      "3           4                   Waiting to Exhale (1995)   \n",
      "4           5         Father of the Bride Part II (1995)   \n",
      "...       ...                                        ...   \n",
      "9737   193581  Black Butler: Book of the Atlantic (2017)   \n",
      "9738   193583               No Game No Life: Zero (2017)   \n",
      "9739   193585                               Flint (2017)   \n",
      "9740   193587        Bungo Stray Dogs: Dead Apple (2018)   \n",
      "9741   193609        Andrew Dice Clay: Dice Rules (1991)   \n",
      "\n",
      "                                           genres  \n",
      "0     Adventure|Animation|Children|Comedy|Fantasy  \n",
      "1                      Adventure|Children|Fantasy  \n",
      "2                                  Comedy|Romance  \n",
      "3                            Comedy|Drama|Romance  \n",
      "4                                          Comedy  \n",
      "...                                           ...  \n",
      "9737              Action|Animation|Comedy|Fantasy  \n",
      "9738                     Animation|Comedy|Fantasy  \n",
      "9739                                        Drama  \n",
      "9740                             Action|Animation  \n",
      "9741                                       Comedy  \n",
      "\n",
      "[9742 rows x 3 columns]\n"
     ]
    }
   ],
   "source": [
    "filmes = pd.read_csv(os.path.join(current_path, 'ml-latest-small','movies.csv'), sep=None)\n",
    "print(filmes)"
   ]
  },
  {
   "cell_type": "markdown",
   "id": "matched-chemistry",
   "metadata": {},
   "source": [
    "# Olhando os Filmes"
   ]
  },
  {
   "cell_type": "code",
   "execution_count": 15,
   "id": "defensive-inflation",
   "metadata": {},
   "outputs": [
    {
     "data": {
      "text/html": [
       "<div>\n",
       "<style scoped>\n",
       "    .dataframe tbody tr th:only-of-type {\n",
       "        vertical-align: middle;\n",
       "    }\n",
       "\n",
       "    .dataframe tbody tr th {\n",
       "        vertical-align: top;\n",
       "    }\n",
       "\n",
       "    .dataframe thead th {\n",
       "        text-align: right;\n",
       "    }\n",
       "</style>\n",
       "<table border=\"1\" class=\"dataframe\">\n",
       "  <thead>\n",
       "    <tr style=\"text-align: right;\">\n",
       "      <th></th>\n",
       "      <th>filmeId</th>\n",
       "      <th>titulo</th>\n",
       "      <th>generos</th>\n",
       "    </tr>\n",
       "  </thead>\n",
       "  <tbody>\n",
       "    <tr>\n",
       "      <th>0</th>\n",
       "      <td>1</td>\n",
       "      <td>Toy Story (1995)</td>\n",
       "      <td>Adventure|Animation|Children|Comedy|Fantasy</td>\n",
       "    </tr>\n",
       "    <tr>\n",
       "      <th>1</th>\n",
       "      <td>2</td>\n",
       "      <td>Jumanji (1995)</td>\n",
       "      <td>Adventure|Children|Fantasy</td>\n",
       "    </tr>\n",
       "    <tr>\n",
       "      <th>2</th>\n",
       "      <td>3</td>\n",
       "      <td>Grumpier Old Men (1995)</td>\n",
       "      <td>Comedy|Romance</td>\n",
       "    </tr>\n",
       "    <tr>\n",
       "      <th>3</th>\n",
       "      <td>4</td>\n",
       "      <td>Waiting to Exhale (1995)</td>\n",
       "      <td>Comedy|Drama|Romance</td>\n",
       "    </tr>\n",
       "    <tr>\n",
       "      <th>4</th>\n",
       "      <td>5</td>\n",
       "      <td>Father of the Bride Part II (1995)</td>\n",
       "      <td>Comedy</td>\n",
       "    </tr>\n",
       "  </tbody>\n",
       "</table>\n",
       "</div>"
      ],
      "text/plain": [
       "   filmeId                               titulo  \\\n",
       "0         1                    Toy Story (1995)   \n",
       "1         2                      Jumanji (1995)   \n",
       "2         3             Grumpier Old Men (1995)   \n",
       "3         4            Waiting to Exhale (1995)   \n",
       "4         5  Father of the Bride Part II (1995)   \n",
       "\n",
       "                                       generos  \n",
       "0  Adventure|Animation|Children|Comedy|Fantasy  \n",
       "1                   Adventure|Children|Fantasy  \n",
       "2                               Comedy|Romance  \n",
       "3                         Comedy|Drama|Romance  \n",
       "4                                       Comedy  "
      ]
     },
     "execution_count": 15,
     "metadata": {},
     "output_type": "execute_result"
    }
   ],
   "source": [
    "filmes.columns = ['filmeId ', 'titulo', 'generos']\n",
    "filmes.head()"
   ]
  },
  {
   "cell_type": "code",
   "execution_count": 16,
   "id": "exotic-isaac",
   "metadata": {},
   "outputs": [
    {
     "data": {
      "text/html": [
       "<div>\n",
       "<style scoped>\n",
       "    .dataframe tbody tr th:only-of-type {\n",
       "        vertical-align: middle;\n",
       "    }\n",
       "\n",
       "    .dataframe tbody tr th {\n",
       "        vertical-align: top;\n",
       "    }\n",
       "\n",
       "    .dataframe thead th {\n",
       "        text-align: right;\n",
       "    }\n",
       "</style>\n",
       "<table border=\"1\" class=\"dataframe\">\n",
       "  <thead>\n",
       "    <tr style=\"text-align: right;\">\n",
       "      <th></th>\n",
       "      <th>usuarioiD</th>\n",
       "      <th>filmeID</th>\n",
       "      <th>nota</th>\n",
       "      <th>momento</th>\n",
       "    </tr>\n",
       "  </thead>\n",
       "  <tbody>\n",
       "    <tr>\n",
       "      <th>0</th>\n",
       "      <td>1</td>\n",
       "      <td>1</td>\n",
       "      <td>4.0</td>\n",
       "      <td>964982703</td>\n",
       "    </tr>\n",
       "    <tr>\n",
       "      <th>1</th>\n",
       "      <td>1</td>\n",
       "      <td>3</td>\n",
       "      <td>4.0</td>\n",
       "      <td>964981247</td>\n",
       "    </tr>\n",
       "    <tr>\n",
       "      <th>2</th>\n",
       "      <td>1</td>\n",
       "      <td>6</td>\n",
       "      <td>4.0</td>\n",
       "      <td>964982224</td>\n",
       "    </tr>\n",
       "    <tr>\n",
       "      <th>3</th>\n",
       "      <td>1</td>\n",
       "      <td>47</td>\n",
       "      <td>5.0</td>\n",
       "      <td>964983815</td>\n",
       "    </tr>\n",
       "    <tr>\n",
       "      <th>4</th>\n",
       "      <td>1</td>\n",
       "      <td>50</td>\n",
       "      <td>5.0</td>\n",
       "      <td>964982931</td>\n",
       "    </tr>\n",
       "  </tbody>\n",
       "</table>\n",
       "</div>"
      ],
      "text/plain": [
       "   usuarioiD  filmeID  nota    momento\n",
       "0          1        1   4.0  964982703\n",
       "1          1        3   4.0  964981247\n",
       "2          1        6   4.0  964982224\n",
       "3          1       47   5.0  964983815\n",
       "4          1       50   5.0  964982931"
      ]
     },
     "execution_count": 16,
     "metadata": {},
     "output_type": "execute_result"
    }
   ],
   "source": [
    "notas.head()\n"
   ]
  },
  {
   "cell_type": "code",
   "execution_count": 17,
   "id": "brazilian-clear",
   "metadata": {},
   "outputs": [
    {
     "data": {
      "text/html": [
       "<div>\n",
       "<style scoped>\n",
       "    .dataframe tbody tr th:only-of-type {\n",
       "        vertical-align: middle;\n",
       "    }\n",
       "\n",
       "    .dataframe tbody tr th {\n",
       "        vertical-align: top;\n",
       "    }\n",
       "\n",
       "    .dataframe thead th {\n",
       "        text-align: right;\n",
       "    }\n",
       "</style>\n",
       "<table border=\"1\" class=\"dataframe\">\n",
       "  <thead>\n",
       "    <tr style=\"text-align: right;\">\n",
       "      <th></th>\n",
       "      <th>usuarioiD</th>\n",
       "      <th>filmeID</th>\n",
       "      <th>nota</th>\n",
       "      <th>momento</th>\n",
       "    </tr>\n",
       "  </thead>\n",
       "  <tbody>\n",
       "    <tr>\n",
       "      <th>0</th>\n",
       "      <td>1</td>\n",
       "      <td>1</td>\n",
       "      <td>4.0</td>\n",
       "      <td>964982703</td>\n",
       "    </tr>\n",
       "    <tr>\n",
       "      <th>516</th>\n",
       "      <td>5</td>\n",
       "      <td>1</td>\n",
       "      <td>4.0</td>\n",
       "      <td>847434962</td>\n",
       "    </tr>\n",
       "    <tr>\n",
       "      <th>874</th>\n",
       "      <td>7</td>\n",
       "      <td>1</td>\n",
       "      <td>4.5</td>\n",
       "      <td>1106635946</td>\n",
       "    </tr>\n",
       "    <tr>\n",
       "      <th>1434</th>\n",
       "      <td>15</td>\n",
       "      <td>1</td>\n",
       "      <td>2.5</td>\n",
       "      <td>1510577970</td>\n",
       "    </tr>\n",
       "    <tr>\n",
       "      <th>1667</th>\n",
       "      <td>17</td>\n",
       "      <td>1</td>\n",
       "      <td>4.5</td>\n",
       "      <td>1305696483</td>\n",
       "    </tr>\n",
       "    <tr>\n",
       "      <th>...</th>\n",
       "      <td>...</td>\n",
       "      <td>...</td>\n",
       "      <td>...</td>\n",
       "      <td>...</td>\n",
       "    </tr>\n",
       "    <tr>\n",
       "      <th>97364</th>\n",
       "      <td>606</td>\n",
       "      <td>1</td>\n",
       "      <td>2.5</td>\n",
       "      <td>1349082950</td>\n",
       "    </tr>\n",
       "    <tr>\n",
       "      <th>98479</th>\n",
       "      <td>607</td>\n",
       "      <td>1</td>\n",
       "      <td>4.0</td>\n",
       "      <td>964744033</td>\n",
       "    </tr>\n",
       "    <tr>\n",
       "      <th>98666</th>\n",
       "      <td>608</td>\n",
       "      <td>1</td>\n",
       "      <td>2.5</td>\n",
       "      <td>1117408267</td>\n",
       "    </tr>\n",
       "    <tr>\n",
       "      <th>99497</th>\n",
       "      <td>609</td>\n",
       "      <td>1</td>\n",
       "      <td>3.0</td>\n",
       "      <td>847221025</td>\n",
       "    </tr>\n",
       "    <tr>\n",
       "      <th>99534</th>\n",
       "      <td>610</td>\n",
       "      <td>1</td>\n",
       "      <td>5.0</td>\n",
       "      <td>1479542900</td>\n",
       "    </tr>\n",
       "  </tbody>\n",
       "</table>\n",
       "<p>215 rows × 4 columns</p>\n",
       "</div>"
      ],
      "text/plain": [
       "       usuarioiD  filmeID  nota     momento\n",
       "0              1        1   4.0   964982703\n",
       "516            5        1   4.0   847434962\n",
       "874            7        1   4.5  1106635946\n",
       "1434          15        1   2.5  1510577970\n",
       "1667          17        1   4.5  1305696483\n",
       "...          ...      ...   ...         ...\n",
       "97364        606        1   2.5  1349082950\n",
       "98479        607        1   4.0   964744033\n",
       "98666        608        1   2.5  1117408267\n",
       "99497        609        1   3.0   847221025\n",
       "99534        610        1   5.0  1479542900\n",
       "\n",
       "[215 rows x 4 columns]"
      ]
     },
     "execution_count": 17,
     "metadata": {},
     "output_type": "execute_result"
    }
   ],
   "source": [
    "notas.query(\"filmeID==1\")"
   ]
  },
  {
   "cell_type": "code",
   "execution_count": 18,
   "id": "black-silicon",
   "metadata": {},
   "outputs": [
    {
     "data": {
      "text/plain": [
       "0        4.0\n",
       "516      4.0\n",
       "874      4.5\n",
       "1434     2.5\n",
       "1667     4.5\n",
       "        ... \n",
       "97364    2.5\n",
       "98479    4.0\n",
       "98666    2.5\n",
       "99497    3.0\n",
       "99534    5.0\n",
       "Name: nota, Length: 215, dtype: float64"
      ]
     },
     "execution_count": 18,
     "metadata": {},
     "output_type": "execute_result"
    }
   ],
   "source": [
    "notas.query(\"filmeID==1\").nota"
   ]
  },
  {
   "cell_type": "markdown",
   "id": "cloudy-magnet",
   "metadata": {},
   "source": [
    "# Analisando algumas Notas Especificas por filme."
   ]
  },
  {
   "cell_type": "code",
   "execution_count": 19,
   "id": "controlled-driver",
   "metadata": {},
   "outputs": [
    {
     "data": {
      "text/plain": [
       "3.9209302325581397"
      ]
     },
     "execution_count": 19,
     "metadata": {},
     "output_type": "execute_result"
    }
   ],
   "source": [
    "notas.query(\"filmeID==1\").nota.mean()"
   ]
  },
  {
   "cell_type": "code",
   "execution_count": 20,
   "id": "harmful-kentucky",
   "metadata": {},
   "outputs": [
    {
     "data": {
      "text/plain": [
       "3.4318181818181817"
      ]
     },
     "execution_count": 20,
     "metadata": {},
     "output_type": "execute_result"
    }
   ],
   "source": [
    "notas.query(\"filmeID==2\").nota.mean()"
   ]
  },
  {
   "cell_type": "code",
   "execution_count": 21,
   "id": "still-tourist",
   "metadata": {},
   "outputs": [
    {
     "data": {
      "text/plain": [
       "filmeID\n",
       "1    3.920930\n",
       "2    3.431818\n",
       "3    3.259615\n",
       "4    2.357143\n",
       "5    3.071429\n",
       "Name: nota, dtype: float64"
      ]
     },
     "execution_count": 21,
     "metadata": {},
     "output_type": "execute_result"
    }
   ],
   "source": [
    "medias_por_filme = notas.groupby(\"filmeID\").nota.mean() # ou mean()['nota']\n",
    "medias_por_filme.head()"
   ]
  },
  {
   "cell_type": "code",
   "execution_count": 22,
   "id": "protected-wellington",
   "metadata": {},
   "outputs": [
    {
     "data": {
      "text/plain": [
       "<AxesSubplot:ylabel='Frequency'>"
      ]
     },
     "execution_count": 22,
     "metadata": {},
     "output_type": "execute_result"
    },
    {
     "data": {
      "image/png": "[encoded data removed]",
      "text/plain": [
       "<Figure size 432x288 with 1 Axes>"
      ]
     },
     "metadata": {
      "needs_background": "light"
     },
     "output_type": "display_data"
    }
   ],
   "source": [
    "medias_por_filme.plot(kind='hist')"
   ]
  },
  {
   "cell_type": "code",
   "execution_count": 23,
   "id": "forced-minute",
   "metadata": {},
   "outputs": [
    {
     "name": "stderr",
     "output_type": "stream",
     "text": [
      "c:\\users\\alexsandro.ignacio\\appdata\\local\\programs\\python\\python37\\lib\\site-packages\\seaborn\\_decorators.py:43: FutureWarning: Pass the following variable as a keyword arg: x. From version 0.12, the only valid positional argument will be `data`, and passing other arguments without an explicit keyword will result in an error or misinterpretation.\n",
      "  FutureWarning\n"
     ]
    },
    {
     "data": {
      "text/plain": [
       "<AxesSubplot:xlabel='nota'>"
      ]
     },
     "execution_count": 23,
     "metadata": {},
     "output_type": "execute_result"
    },
    {
     "data": {
      "image/png": "[encoded data removed]",
      "text/plain": [
       "<Figure size 432x288 with 1 Axes>"
      ]
     },
     "metadata": {
      "needs_background": "light"
     },
     "output_type": "display_data"
    }
   ],
   "source": [
    "sns.boxplot(medias_por_filme)"
   ]
  },
  {
   "cell_type": "code",
   "execution_count": 24,
   "id": "refined-voluntary",
   "metadata": {},
   "outputs": [
    {
     "data": {
      "text/plain": [
       "<AxesSubplot:ylabel='nota'>"
      ]
     },
     "execution_count": 24,
     "metadata": {},
     "output_type": "execute_result"
    },
    {
     "data": {
      "image/png": "[encoded data removed]",
      "text/plain": [
       "<Figure size 360x576 with 1 Axes>"
      ]
     },
     "metadata": {
      "needs_background": "light"
     },
     "output_type": "display_data"
    }
   ],
   "source": [
    "plt.figure(figsize=(5,8))\n",
    "sns.boxplot(y=medias_por_filme)"
   ]
  },
  {
   "cell_type": "code",
   "execution_count": 25,
   "id": "tough-probability",
   "metadata": {},
   "outputs": [
    {
     "data": {
      "text/plain": [
       "count    9724.000000\n",
       "mean        3.262448\n",
       "std         0.869874\n",
       "min         0.500000\n",
       "25%         2.800000\n",
       "50%         3.416667\n",
       "75%         3.911765\n",
       "max         5.000000\n",
       "Name: nota, dtype: float64"
      ]
     },
     "execution_count": 25,
     "metadata": {},
     "output_type": "execute_result"
    }
   ],
   "source": [
    "medias_por_filme.describe()"
   ]
  },
  {
   "cell_type": "code",
   "execution_count": 26,
   "id": "significant-cooperative",
   "metadata": {},
   "outputs": [
    {
     "name": "stderr",
     "output_type": "stream",
     "text": [
      "c:\\users\\alexsandro.ignacio\\appdata\\local\\programs\\python\\python37\\lib\\site-packages\\seaborn\\distributions.py:2557: FutureWarning: `distplot` is a deprecated function and will be removed in a future version. Please adapt your code to use either `displot` (a figure-level function with similar flexibility) or `histplot` (an axes-level function for histograms).\n",
      "  warnings.warn(msg, FutureWarning)\n"
     ]
    },
    {
     "data": {
      "text/plain": [
       "<AxesSubplot:xlabel='nota', ylabel='Density'>"
      ]
     },
     "execution_count": 26,
     "metadata": {},
     "output_type": "execute_result"
    },
    {
     "data": {
      "image/png": "[encoded data removed]",
      "text/plain": [
       "<Figure size 432x288 with 1 Axes>"
      ]
     },
     "metadata": {
      "needs_background": "light"
     },
     "output_type": "display_data"
    }
   ],
   "source": [
    "sns.distplot(medias_por_filme, bins=10)"
   ]
  },
  {
   "cell_type": "code",
   "execution_count": 27,
   "id": "closed-permission",
   "metadata": {},
   "outputs": [
    {
     "name": "stderr",
     "output_type": "stream",
     "text": [
      "c:\\users\\alexsandro.ignacio\\appdata\\local\\programs\\python\\python37\\lib\\site-packages\\seaborn\\distributions.py:2557: FutureWarning: `distplot` is a deprecated function and will be removed in a future version. Please adapt your code to use either `displot` (a figure-level function with similar flexibility) or `histplot` (an axes-level function for histograms).\n",
      "  warnings.warn(msg, FutureWarning)\n"
     ]
    },
    {
     "data": {
      "text/plain": [
       "<AxesSubplot:xlabel='nota', ylabel='Density'>"
      ]
     },
     "execution_count": 27,
     "metadata": {},
     "output_type": "execute_result"
    },
    {
     "data": {
      "image/png": "[encoded data removed]",
      "text/plain": [
       "<Figure size 432x288 with 1 Axes>"
      ]
     },
     "metadata": {
      "needs_background": "light"
     },
     "output_type": "display_data"
    }
   ],
   "source": [
    "sns.distplot(medias_por_filme)\n"
   ]
  },
  {
   "cell_type": "code",
   "execution_count": 28,
   "id": "frozen-actor",
   "metadata": {},
   "outputs": [
    {
     "data": {
      "text/plain": [
       "Text(0.5, 1.0, 'Histograma das médias dos filmes')"
      ]
     },
     "execution_count": 28,
     "metadata": {},
     "output_type": "execute_result"
    },
    {
     "data": {
      "image/png": "[encoded data removed]",
      "text/plain": [
       "<Figure size 432x288 with 1 Axes>"
      ]
     },
     "metadata": {
      "needs_background": "light"
     },
     "output_type": "display_data"
    }
   ],
   "source": [
    "mat = plt.hist(medias_por_filme)\n",
    "plt.title(\"Histograma das médias dos filmes\")"
   ]
  },
  {
   "cell_type": "markdown",
   "id": "seventh-surveillance",
   "metadata": {},
   "source": [
    "# Começando nova Análise exploratória de dados"
   ]
  },
  {
   "cell_type": "code",
   "execution_count": 29,
   "id": "backed-breath",
   "metadata": {},
   "outputs": [
    {
     "data": {
      "text/html": [
       "<div>\n",
       "<style scoped>\n",
       "    .dataframe tbody tr th:only-of-type {\n",
       "        vertical-align: middle;\n",
       "    }\n",
       "\n",
       "    .dataframe tbody tr th {\n",
       "        vertical-align: top;\n",
       "    }\n",
       "\n",
       "    .dataframe thead th {\n",
       "        text-align: right;\n",
       "    }\n",
       "</style>\n",
       "<table border=\"1\" class=\"dataframe\">\n",
       "  <thead>\n",
       "    <tr style=\"text-align: right;\">\n",
       "      <th></th>\n",
       "      <th>filmeId</th>\n",
       "      <th>titulo</th>\n",
       "      <th>generos</th>\n",
       "    </tr>\n",
       "  </thead>\n",
       "  <tbody>\n",
       "    <tr>\n",
       "      <th>0</th>\n",
       "      <td>1</td>\n",
       "      <td>Toy Story (1995)</td>\n",
       "      <td>Adventure|Animation|Children|Comedy|Fantasy</td>\n",
       "    </tr>\n",
       "    <tr>\n",
       "      <th>1</th>\n",
       "      <td>2</td>\n",
       "      <td>Jumanji (1995)</td>\n",
       "      <td>Adventure|Children|Fantasy</td>\n",
       "    </tr>\n",
       "  </tbody>\n",
       "</table>\n",
       "</div>"
      ],
      "text/plain": [
       "   filmeId             titulo                                      generos\n",
       "0         1  Toy Story (1995)  Adventure|Animation|Children|Comedy|Fantasy\n",
       "1         2    Jumanji (1995)                   Adventure|Children|Fantasy"
      ]
     },
     "execution_count": 29,
     "metadata": {},
     "output_type": "execute_result"
    }
   ],
   "source": [
    "filmes.head(2)"
   ]
  },
  {
   "cell_type": "code",
   "execution_count": 30,
   "id": "undefined-funeral",
   "metadata": {},
   "outputs": [
    {
     "name": "stdout",
     "output_type": "stream",
     "text": [
      "215 110\n"
     ]
    }
   ],
   "source": [
    "notas_do_toy_story = notas.query(\"filmeID==1\")\n",
    "notas_do_Jumanji = notas.query(\"filmeID==2\")\n",
    "print(len(notas_do_toy_story), len(notas_do_Jumanji))"
   ]
  },
  {
   "cell_type": "code",
   "execution_count": 31,
   "id": "expanded-commitment",
   "metadata": {},
   "outputs": [
    {
     "name": "stdout",
     "output_type": "stream",
     "text": [
      "             Table Toy Story\n",
      "\n",
      "      usuarioiD  filmeID  nota     momento\n",
      "0             1        1   4.0   964982703\n",
      "516           5        1   4.0   847434962\n",
      "874           7        1   4.5  1106635946\n",
      "1434         15        1   2.5  1510577970\n",
      "1667         17        1   4.5  1305696483\n",
      "\n",
      "             Table Jumanji\n",
      "\n",
      "      usuarioiD  filmeID  nota     momento\n",
      "560           6        2   4.0   845553522\n",
      "1026          8        2   4.0   839463806\n",
      "1773         18        2   3.0  1455617462\n",
      "2275         19        2   3.0   965704331\n",
      "2977         20        2   3.0  1054038313\n"
     ]
    }
   ],
   "source": [
    "print(\"             Table Toy Story\\n\")\n",
    "print(notas_do_toy_story.head())\n",
    "print(\"\\n             Table Jumanji\\n\")\n",
    "print(notas_do_Jumanji.head())\n"
   ]
  },
  {
   "cell_type": "code",
   "execution_count": 32,
   "id": "german-bunny",
   "metadata": {},
   "outputs": [
    {
     "name": "stdout",
     "output_type": "stream",
     "text": [
      "Nota média do Toy Story 3.92\n",
      "Nota média do Jumanji 3.43\n",
      "Nota mediana do Toy Story 4.00\n",
      "Nota mediana do Jumanji 3.50\n",
      "Desvio Padrão Toy Story (Standard Deviation):0.8348591407114047\n",
      "Desvio Padrão Jumanji (Standard Deviation):0.8817134921476455\n"
     ]
    }
   ],
   "source": [
    "\n",
    "print(\"Nota média do Toy Story %.2f\" % notas_do_toy_story.nota.mean())\n",
    "print(\"Nota média do Jumanji %.2f\" % notas_do_Jumanji.nota.mean())\n",
    "print(\"Nota mediana do Toy Story %.2f\" % notas_do_toy_story.nota.median())\n",
    "print(\"Nota mediana do Jumanji %.2f\" % notas_do_Jumanji.nota.median())\n",
    "print(f\"Desvio Padrão Toy Story (Standard Deviation):{notas_do_toy_story.nota.std()}\\nDesvio Padrão Jumanji (Standard Deviation):{notas_do_Jumanji.nota.std()}\")"
   ]
  },
  {
   "cell_type": "code",
   "execution_count": 33,
   "id": "standard-simple",
   "metadata": {},
   "outputs": [
    {
     "data": {
      "text/plain": [
       "array([2.5, 2.5, 2.5, 2.5, 2.5, 2.5, 2.5, 2.5, 2.5, 2.5])"
      ]
     },
     "execution_count": 33,
     "metadata": {},
     "output_type": "execute_result"
    }
   ],
   "source": [
    "np.array([2.5] * 10)"
   ]
  },
  {
   "cell_type": "code",
   "execution_count": 34,
   "id": "beautiful-messenger",
   "metadata": {},
   "outputs": [
    {
     "data": {
      "text/plain": [
       "2.5"
      ]
     },
     "execution_count": 34,
     "metadata": {},
     "output_type": "execute_result"
    }
   ],
   "source": [
    "np.array([2.5] * 10).mean()"
   ]
  },
  {
   "cell_type": "code",
   "execution_count": 35,
   "id": "canadian-playing",
   "metadata": {},
   "outputs": [
    {
     "data": {
      "text/plain": [
       "array([3.5, 3.5, 3.5, 3.5, 3.5, 3.5, 3.5, 3.5, 3.5, 3.5])"
      ]
     },
     "execution_count": 35,
     "metadata": {},
     "output_type": "execute_result"
    }
   ],
   "source": [
    "np.array([3.5] * 10)"
   ]
  },
  {
   "cell_type": "code",
   "execution_count": 36,
   "id": "portable-aspect",
   "metadata": {},
   "outputs": [
    {
     "data": {
      "text/plain": [
       "11.37"
      ]
     },
     "execution_count": 36,
     "metadata": {},
     "output_type": "execute_result"
    }
   ],
   "source": [
    "round(random.random()*100,2)"
   ]
  },
  {
   "cell_type": "code",
   "execution_count": 37,
   "id": "offshore-tongue",
   "metadata": {},
   "outputs": [
    {
     "name": "stdout",
     "output_type": "stream",
     "text": [
      "\n"
     ]
    },
    {
     "data": {
      "text/plain": [
       "[17.4, 3.96, 0.85, 43.71, 5.3, 39.86, 37.93, 28.85, 60.77, 93.22]"
      ]
     },
     "execution_count": 37,
     "metadata": {},
     "output_type": "execute_result"
    }
   ],
   "source": [
    "valor_random = []\n",
    "for i in range(0,10):\n",
    "    valor_random.append(round(random.random()*100,2))\n",
    "    #print(valor)\n",
    "print()\n",
    "valor_random"
   ]
  },
  {
   "cell_type": "code",
   "execution_count": 38,
   "id": "banner-royalty",
   "metadata": {},
   "outputs": [
    {
     "name": "stdout",
     "output_type": "stream",
     "text": [
      "filme1: [2.5 2.5 2.5 2.5 2.5 2.5 2.5 2.5 2.5 2.5 3.5 3.5 3.5 3.5 3.5 3.5 3.5 3.5\n",
      " 3.5 3.5]\n",
      "filme2: [5 5 5 5 5 5 5 5 5 5 1 1 1 1 1 1 1 1 1 1]\n",
      "filme3: [17.4, 3.96, 0.85, 43.71, 5.3, 39.86, 37.93, 28.85, 60.77, 93.22]\n"
     ]
    }
   ],
   "source": [
    "filme1 = np.append(np.array([2.5] * 10), np.array([3.5] * 10))\n",
    "filme2 = np.append(np.array([5] * 10), np.array([1] * 10))\n",
    "filme3 = valor_random\n",
    "print(f\"filme1: {filme1}\\nfilme2: {filme2}\\nfilme3: {filme3}\")"
   ]
  },
  {
   "cell_type": "code",
   "execution_count": 39,
   "id": "preliminary-commons",
   "metadata": {},
   "outputs": [
    {
     "name": "stdout",
     "output_type": "stream",
     "text": [
      "filme1 média: 3.0\n",
      "filme2 média: 3.0\n",
      "filme1 mediana: 3.0\n",
      "filme2 mediana: 3.0\n",
      "filme1 Desvio Padrão (Standard Deviation): 0.5\n",
      "filme2 Desvio Padrão (Standard Deviation): 2.0\n"
     ]
    }
   ],
   "source": [
    "print(f\"filme1 média: {filme1.mean()}\\nfilme2 média: {filme2.mean()}\")\n",
    "print(f\"filme1 mediana: {np.median(filme1)}\\nfilme2 mediana: {np.median(filme2)}\")\n",
    "print(f\"filme1 Desvio Padrão (Standard Deviation): {np.std(filme1)}\\nfilme2 Desvio Padrão (Standard Deviation): {np.std(filme2)}\")"
   ]
  },
  {
   "cell_type": "code",
   "execution_count": 40,
   "id": "bright-computer",
   "metadata": {},
   "outputs": [
    {
     "name": "stderr",
     "output_type": "stream",
     "text": [
      "c:\\users\\alexsandro.ignacio\\appdata\\local\\programs\\python\\python37\\lib\\site-packages\\seaborn\\distributions.py:2557: FutureWarning: `distplot` is a deprecated function and will be removed in a future version. Please adapt your code to use either `displot` (a figure-level function with similar flexibility) or `histplot` (an axes-level function for histograms).\n",
      "  warnings.warn(msg, FutureWarning)\n",
      "c:\\users\\alexsandro.ignacio\\appdata\\local\\programs\\python\\python37\\lib\\site-packages\\seaborn\\distributions.py:2557: FutureWarning: `distplot` is a deprecated function and will be removed in a future version. Please adapt your code to use either `displot` (a figure-level function with similar flexibility) or `histplot` (an axes-level function for histograms).\n",
      "  warnings.warn(msg, FutureWarning)\n"
     ]
    },
    {
     "data": {
      "text/plain": [
       "<AxesSubplot:ylabel='Density'>"
      ]
     },
     "execution_count": 40,
     "metadata": {},
     "output_type": "execute_result"
    },
    {
     "data": {
      "image/png": "[encoded data removed]",
      "text/plain": [
       "<Figure size 432x288 with 1 Axes>"
      ]
     },
     "metadata": {
      "needs_background": "light"
     },
     "output_type": "display_data"
    }
   ],
   "source": [
    "sns.distplot(filme1)\n",
    "sns.distplot(filme2)\n"
   ]
  },
  {
   "cell_type": "code",
   "execution_count": 41,
   "id": "rough-roommate",
   "metadata": {},
   "outputs": [
    {
     "name": "stderr",
     "output_type": "stream",
     "text": [
      "c:\\users\\alexsandro.ignacio\\appdata\\local\\programs\\python\\python37\\lib\\site-packages\\seaborn\\distributions.py:2557: FutureWarning: `distplot` is a deprecated function and will be removed in a future version. Please adapt your code to use either `displot` (a figure-level function with similar flexibility) or `histplot` (an axes-level function for histograms).\n",
      "  warnings.warn(msg, FutureWarning)\n"
     ]
    },
    {
     "data": {
      "text/plain": [
       "<AxesSubplot:ylabel='Density'>"
      ]
     },
     "execution_count": 41,
     "metadata": {},
     "output_type": "execute_result"
    },
    {
     "data": {
      "image/png": "[encoded data removed]",
      "text/plain": [
       "<Figure size 432x288 with 1 Axes>"
      ]
     },
     "metadata": {
      "needs_background": "light"
     },
     "output_type": "display_data"
    }
   ],
   "source": [
    "sns.distplot(filme3)"
   ]
  },
  {
   "cell_type": "code",
   "execution_count": 42,
   "id": "accepted-separate",
   "metadata": {},
   "outputs": [
    {
     "data": {
      "text/plain": [
       "(array([10.,  0.,  0.,  0.,  0.,  0.,  0.,  0.,  0., 10.]),\n",
       " array([1. , 1.4, 1.8, 2.2, 2.6, 3. , 3.4, 3.8, 4.2, 4.6, 5. ]),\n",
       " <BarContainer object of 10 artists>)"
      ]
     },
     "execution_count": 42,
     "metadata": {},
     "output_type": "execute_result"
    },
    {
     "data": {
      "image/png": "[encoded data removed]",
      "text/plain": [
       "<Figure size 432x288 with 1 Axes>"
      ]
     },
     "metadata": {
      "needs_background": "light"
     },
     "output_type": "display_data"
    }
   ],
   "source": [
    "plt.hist(filme1)\n",
    "plt.hist(filme2)"
   ]
  },
  {
   "cell_type": "code",
   "execution_count": 43,
   "id": "fatal-necessity",
   "metadata": {},
   "outputs": [
    {
     "data": {
      "text/plain": [
       "{'whiskers': [<matplotlib.lines.Line2D at 0x19243cdf2c8>,\n",
       "  <matplotlib.lines.Line2D at 0x19243ce9948>,\n",
       "  <matplotlib.lines.Line2D at 0x19243cf0f08>,\n",
       "  <matplotlib.lines.Line2D at 0x19243cee308>],\n",
       " 'caps': [<matplotlib.lines.Line2D at 0x19243ce9ac8>,\n",
       "  <matplotlib.lines.Line2D at 0x19243ceb708>,\n",
       "  <matplotlib.lines.Line2D at 0x19243cf1c48>,\n",
       "  <matplotlib.lines.Line2D at 0x19243cf1cc8>],\n",
       " 'boxes': [<matplotlib.lines.Line2D at 0x19243ce9148>,\n",
       "  <matplotlib.lines.Line2D at 0x19243b5ea88>],\n",
       " 'medians': [<matplotlib.lines.Line2D at 0x19243ceb808>,\n",
       "  <matplotlib.lines.Line2D at 0x19243cf1e08>],\n",
       " 'fliers': [<matplotlib.lines.Line2D at 0x19243cee608>,\n",
       "  <matplotlib.lines.Line2D at 0x19243cf3a48>],\n",
       " 'means': []}"
      ]
     },
     "execution_count": 43,
     "metadata": {},
     "output_type": "execute_result"
    },
    {
     "data": {
      "image/png": "[encoded data removed]",
      "text/plain": [
       "<Figure size 432x288 with 1 Axes>"
      ]
     },
     "metadata": {
      "needs_background": "light"
     },
     "output_type": "display_data"
    }
   ],
   "source": [
    "plt.boxplot([filme1, filme2])"
   ]
  },
  {
   "cell_type": "code",
   "execution_count": 44,
   "id": "southern-vinyl",
   "metadata": {},
   "outputs": [
    {
     "name": "stderr",
     "output_type": "stream",
     "text": [
      "c:\\users\\alexsandro.ignacio\\appdata\\local\\programs\\python\\python37\\lib\\site-packages\\seaborn\\_decorators.py:43: FutureWarning: Pass the following variable as a keyword arg: x. From version 0.12, the only valid positional argument will be `data`, and passing other arguments without an explicit keyword will result in an error or misinterpretation.\n",
      "  FutureWarning\n",
      "c:\\users\\alexsandro.ignacio\\appdata\\local\\programs\\python\\python37\\lib\\site-packages\\seaborn\\_decorators.py:43: FutureWarning: Pass the following variable as a keyword arg: x. From version 0.12, the only valid positional argument will be `data`, and passing other arguments without an explicit keyword will result in an error or misinterpretation.\n",
      "  FutureWarning\n"
     ]
    },
    {
     "data": {
      "text/plain": [
       "<AxesSubplot:xlabel='nota'>"
      ]
     },
     "execution_count": 44,
     "metadata": {},
     "output_type": "execute_result"
    },
    {
     "data": {
      "image/png": "[encoded data removed]",
      "text/plain": [
       "<Figure size 432x288 with 1 Axes>"
      ]
     },
     "metadata": {
      "needs_background": "light"
     },
     "output_type": "display_data"
    }
   ],
   "source": [
    "sns.boxplot(notas_do_toy_story.nota)\n",
    "sns.boxplot(notas_do_Jumanji.nota)"
   ]
  },
  {
   "cell_type": "code",
   "execution_count": 45,
   "id": "infrared-planning",
   "metadata": {},
   "outputs": [
    {
     "data": {
      "text/plain": [
       "{'whiskers': [<matplotlib.lines.Line2D at 0x19243d481c8>,\n",
       "  <matplotlib.lines.Line2D at 0x19243d52f48>,\n",
       "  <matplotlib.lines.Line2D at 0x19243d57888>,\n",
       "  <matplotlib.lines.Line2D at 0x19243d566c8>],\n",
       " 'caps': [<matplotlib.lines.Line2D at 0x19243d53b88>,\n",
       "  <matplotlib.lines.Line2D at 0x19243d53bc8>,\n",
       "  <matplotlib.lines.Line2D at 0x19243d5a508>,\n",
       "  <matplotlib.lines.Line2D at 0x19243d5a648>],\n",
       " 'boxes': [<matplotlib.lines.Line2D at 0x19243d52488>,\n",
       "  <matplotlib.lines.Line2D at 0x19243d2c488>],\n",
       " 'medians': [<matplotlib.lines.Line2D at 0x19243d53d48>,\n",
       "  <matplotlib.lines.Line2D at 0x19243d5bd88>],\n",
       " 'fliers': [<matplotlib.lines.Line2D at 0x19243d56a48>,\n",
       "  <matplotlib.lines.Line2D at 0x19243d5be08>],\n",
       " 'means': []}"
      ]
     },
     "execution_count": 45,
     "metadata": {},
     "output_type": "execute_result"
    },
    {
     "data": {
      "image/png": "[encoded data removed]",
      "text/plain": [
       "<Figure size 432x288 with 1 Axes>"
      ]
     },
     "metadata": {
      "needs_background": "light"
     },
     "output_type": "display_data"
    }
   ],
   "source": [
    "plt.boxplot([notas_do_toy_story.nota, notas_do_Jumanji.nota])"
   ]
  },
  {
   "cell_type": "code",
   "execution_count": 46,
   "id": "acute-preference",
   "metadata": {},
   "outputs": [
    {
     "data": {
      "text/plain": [
       "<AxesSubplot:xlabel='filmeID', ylabel='nota'>"
      ]
     },
     "execution_count": 46,
     "metadata": {},
     "output_type": "execute_result"
    },
    {
     "data": {
      "image/png": "[encoded data removed]",
      "text/plain": [
       "<Figure size 432x288 with 1 Axes>"
      ]
     },
     "metadata": {
      "needs_background": "light"
     },
     "output_type": "display_data"
    }
   ],
   "source": [
    "sns.boxplot(x= \"filmeID\", y= \"nota\", data= notas.query(\"filmeID in [1,2]\"))"
   ]
  },
  {
   "cell_type": "code",
   "execution_count": 47,
   "id": "common-chassis",
   "metadata": {},
   "outputs": [
    {
     "data": {
      "text/plain": [
       "<AxesSubplot:xlabel='filmeID', ylabel='nota'>"
      ]
     },
     "execution_count": 47,
     "metadata": {},
     "output_type": "execute_result"
    },
    {
     "data": {
      "image/png": "[encoded data removed]",
      "text/plain": [
       "<Figure size 432x288 with 1 Axes>"
      ]
     },
     "metadata": {
      "needs_background": "light"
     },
     "output_type": "display_data"
    }
   ],
   "source": [
    "sns.boxplot(x= \"filmeID\", y= \"nota\", data= notas.query(\"filmeID in [1,2,3,4,5]\"))"
   ]
  }
 ],
 "metadata": {
  "kernelspec": {
   "display_name": "Python 3",
   "language": "python",
   "name": "python3"
  },
  "language_info": {
   "codemirror_mode": {
    "name": "ipython",
    "version": 3
   },
   "file_extension": ".py",
   "mimetype": "text/x-python",
   "name": "python",
   "nbconvert_exporter": "python",
   "pygments_lexer": "ipython3",
   "version": "3.7.5"
  }
 },
 "nbformat": 4,
 "nbformat_minor": 5
}
