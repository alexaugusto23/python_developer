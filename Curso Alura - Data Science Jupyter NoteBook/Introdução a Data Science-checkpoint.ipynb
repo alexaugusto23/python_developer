{
 "cells": [
  {
   "cell_type": "code",
   "execution_count": 1,
   "id": "marked-leone",
   "metadata": {},
   "outputs": [
    {
     "output_type": "stream",
     "name": "stdout",
     "text": [
      "WCA - Data Science\n"
     ]
    }
   ],
   "source": [
    "msg = \"WCA - Data Science\"\n",
    "print(msg)"
   ]
  },
  {
   "cell_type": "code",
   "execution_count": 2,
   "metadata": {},
   "outputs": [],
   "source": [
    "font = \"https://grouplens.org/datasets/movielens/\""
   ]
  }
 ],
 "metadata": {
  "kernelspec": {
   "display_name": "Python 3",
   "language": "python",
   "name": "python3"
  },
  "language_info": {
   "codemirror_mode": {
    "name": "ipython",
    "version": 3
   },
   "file_extension": ".py",
   "mimetype": "text/x-python",
   "name": "python",
   "nbconvert_exporter": "python",
   "pygments_lexer": "ipython3",
   "version": "3.7.5-final"
  }
 },
 "nbformat": 4,
 "nbformat_minor": 5
}